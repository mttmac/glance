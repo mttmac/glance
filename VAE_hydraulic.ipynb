{
 "cells": [
  {
   "cell_type": "markdown",
   "metadata": {},
   "source": [
    "# Imports"
   ]
  },
  {
   "cell_type": "code",
   "execution_count": 3,
   "metadata": {},
   "outputs": [],
   "source": [
    "%reload_ext autoreload\n",
    "%autoreload 2\n",
    "%matplotlib inline"
   ]
  },
  {
   "cell_type": "code",
   "execution_count": 4,
   "metadata": {},
   "outputs": [],
   "source": [
    "from VAE1D import *"
   ]
  },
  {
   "cell_type": "code",
   "execution_count": 5,
   "metadata": {},
   "outputs": [],
   "source": [
    "from IPython.core.debugger import set_trace"
   ]
  },
  {
   "cell_type": "markdown",
   "metadata": {},
   "source": [
    "# Build model and loss function \n",
    "Initially designed for 2D input images, modified for 1D time-series data.\n",
    "Based on this paper: https://arxiv.org/abs/1807.01349"
   ]
  },
  {
   "cell_type": "code",
   "execution_count": 6,
   "metadata": {},
   "outputs": [],
   "source": [
    "# The hydraulic system has 14 sensors from which to pull data\n",
    "n_channels = 14\n",
    "# The data has been resized to 512, although it represents 1 min for each cycle\n",
    "size = 512\n",
    "# Latent space is restricted to be about 1/170th of the input dims, similar to 2D case\n",
    "n_latent = 50"
   ]
  },
  {
   "cell_type": "code",
   "execution_count": 7,
   "metadata": {},
   "outputs": [
    {
     "data": {
      "text/plain": [
       "VAE1D(\n",
       "  (encoder): Sequential(\n",
       "    (input-conv): Conv1d(14, 16, kernel_size=(4,), stride=(2,), padding=(1,))\n",
       "    (input-relu): ReLU(inplace)\n",
       "    (pyramid_16-32_conv): Conv1d(16, 32, kernel_size=(4,), stride=(2,), padding=(1,))\n",
       "    (pyramid_32_batchnorm): BatchNorm1d(32, eps=1e-05, momentum=0.1, affine=True, track_running_stats=True)\n",
       "    (pyramid_32_relu): ReLU(inplace)\n",
       "    (pyramid_32-64_conv): Conv1d(32, 64, kernel_size=(4,), stride=(2,), padding=(1,))\n",
       "    (pyramid_64_batchnorm): BatchNorm1d(64, eps=1e-05, momentum=0.1, affine=True, track_running_stats=True)\n",
       "    (pyramid_64_relu): ReLU(inplace)\n",
       "    (pyramid_64-128_conv): Conv1d(64, 128, kernel_size=(4,), stride=(2,), padding=(1,))\n",
       "    (pyramid_128_batchnorm): BatchNorm1d(128, eps=1e-05, momentum=0.1, affine=True, track_running_stats=True)\n",
       "    (pyramid_128_relu): ReLU(inplace)\n",
       "    (pyramid_128-256_conv): Conv1d(128, 256, kernel_size=(4,), stride=(2,), padding=(1,))\n",
       "    (pyramid_256_batchnorm): BatchNorm1d(256, eps=1e-05, momentum=0.1, affine=True, track_running_stats=True)\n",
       "    (pyramid_256_relu): ReLU(inplace)\n",
       "    (pyramid_256-512_conv): Conv1d(256, 512, kernel_size=(4,), stride=(2,), padding=(1,))\n",
       "    (pyramid_512_batchnorm): BatchNorm1d(512, eps=1e-05, momentum=0.1, affine=True, track_running_stats=True)\n",
       "    (pyramid_512_relu): ReLU(inplace)\n",
       "    (pyramid_512-1024_conv): Conv1d(512, 1024, kernel_size=(4,), stride=(2,), padding=(1,))\n",
       "    (pyramid_1024_batchnorm): BatchNorm1d(1024, eps=1e-05, momentum=0.1, affine=True, track_running_stats=True)\n",
       "    (pyramid_1024_relu): ReLU(inplace)\n",
       "  )\n",
       "  (conv_mu): Conv1d(1024, 50, kernel_size=(4,), stride=(1,))\n",
       "  (conv_logvar): Conv1d(1024, 50, kernel_size=(4,), stride=(1,))\n",
       "  (decoder): Sequential(\n",
       "    (input-conv): ConvTranspose1d(50, 1024, kernel_size=(4,), stride=(1,))\n",
       "    (input-batchnorm): BatchNorm1d(1024, eps=1e-05, momentum=0.1, affine=True, track_running_stats=True)\n",
       "    (input-relu): ReLU(inplace)\n",
       "    (pyramid_1024-512_conv): ConvTranspose1d(1024, 512, kernel_size=(4,), stride=(2,), padding=(1,))\n",
       "    (pyramid_512_batchnorm): BatchNorm1d(512, eps=1e-05, momentum=0.1, affine=True, track_running_stats=True)\n",
       "    (pyramid_512_relu): ReLU(inplace)\n",
       "    (pyramid_512-256_conv): ConvTranspose1d(512, 256, kernel_size=(4,), stride=(2,), padding=(1,))\n",
       "    (pyramid_256_batchnorm): BatchNorm1d(256, eps=1e-05, momentum=0.1, affine=True, track_running_stats=True)\n",
       "    (pyramid_256_relu): ReLU(inplace)\n",
       "    (pyramid_256-128_conv): ConvTranspose1d(256, 128, kernel_size=(4,), stride=(2,), padding=(1,))\n",
       "    (pyramid_128_batchnorm): BatchNorm1d(128, eps=1e-05, momentum=0.1, affine=True, track_running_stats=True)\n",
       "    (pyramid_128_relu): ReLU(inplace)\n",
       "    (pyramid_128-64_conv): ConvTranspose1d(128, 64, kernel_size=(4,), stride=(2,), padding=(1,))\n",
       "    (pyramid_64_batchnorm): BatchNorm1d(64, eps=1e-05, momentum=0.1, affine=True, track_running_stats=True)\n",
       "    (pyramid_64_relu): ReLU(inplace)\n",
       "    (pyramid_64-32_conv): ConvTranspose1d(64, 32, kernel_size=(4,), stride=(2,), padding=(1,))\n",
       "    (pyramid_32_batchnorm): BatchNorm1d(32, eps=1e-05, momentum=0.1, affine=True, track_running_stats=True)\n",
       "    (pyramid_32_relu): ReLU(inplace)\n",
       "    (pyramid_32-16_conv): ConvTranspose1d(32, 16, kernel_size=(4,), stride=(2,), padding=(1,))\n",
       "    (pyramid_16_batchnorm): BatchNorm1d(16, eps=1e-05, momentum=0.1, affine=True, track_running_stats=True)\n",
       "    (pyramid_16_relu): ReLU(inplace)\n",
       "    (output-conv): ConvTranspose1d(16, 14, kernel_size=(4,), stride=(2,), padding=(1,))\n",
       "    (output-sigmoid): Sigmoid()\n",
       "  )\n",
       ")"
      ]
     },
     "execution_count": 7,
     "metadata": {},
     "output_type": "execute_result"
    }
   ],
   "source": [
    "model = VAE1D(size, n_channels, n_latent)\n",
    "model"
   ]
  },
  {
   "cell_type": "code",
   "execution_count": 9,
   "metadata": {},
   "outputs": [],
   "source": [
    "beta = 10  # KL term relative weight\n",
    "criterion = VAE1DLoss(beta)"
   ]
  },
  {
   "cell_type": "markdown",
   "metadata": {},
   "source": [
    "# Load hydraulic test data\n",
    "From this dataset: https://archive.ics.uci.edu/ml/datasets/Condition+monitoring+of+hydraulic+systems#"
   ]
  },
  {
   "cell_type": "code",
   "execution_count": 10,
   "metadata": {},
   "outputs": [],
   "source": [
    "data_path = Path('data/hydraulic')\n",
    "train_dl, val_dl, test_dl = load_datasets(data_path)"
   ]
  },
  {
   "cell_type": "code",
   "execution_count": 11,
   "metadata": {},
   "outputs": [
    {
     "name": "stdout",
     "output_type": "stream",
     "text": [
      "38 10 720\n"
     ]
    }
   ],
   "source": [
    "print(len(train_dl), len(val_dl), len(test_dl))"
   ]
  },
  {
   "cell_type": "markdown",
   "metadata": {},
   "source": [
    "# Prepare for training"
   ]
  },
  {
   "cell_type": "code",
   "execution_count": 12,
   "metadata": {},
   "outputs": [
    {
     "name": "stdout",
     "output_type": "stream",
     "text": [
      "Folder models/190128-hydraulic already exists\n"
     ]
    },
    {
     "data": {
      "text/plain": [
       "PosixPath('models/190128-hydraulic')"
      ]
     },
     "execution_count": 12,
     "metadata": {},
     "output_type": "execute_result"
    }
   ],
   "source": [
    "desc = 'hydraulic'\n",
    "log_freq = 10 # batches\n",
    "\n",
    "# Training parameters\n",
    "epochs = 100\n",
    "lr = 1e-3                # learning rate\n",
    "lr_decay = 0.5           # lr decay factor\n",
    "schedule = [25, 50, 75]  # decrease lr at these epochs\n",
    "batch_size = 32\n",
    "device = torch.device(\"cuda:0\" if torch.cuda.is_available() else \"cpu\")\n",
    "\n",
    "# Checkpoint to resume from (default None)\n",
    "load_path = None\n",
    "\n",
    "# Checkpoint save location\n",
    "save_path = Path(f\"models/{date.today().strftime('%y%m%d')}-{desc}/\")\n",
    "if save_path.is_dir():\n",
    "    print(f\"Folder {save_path} already exists\")\n",
    "else:\n",
    "    os.mkdir(save_path)\n",
    "save_path"
   ]
  },
  {
   "cell_type": "code",
   "execution_count": 13,
   "metadata": {},
   "outputs": [],
   "source": [
    "# Load checkpoint if any\n",
    "if load_path is not None:\n",
    "    checkpoint = torch.load(load_path, map_location=device)\n",
    "    model.load_state_dict(checkpoint['state_dict'])\n",
    "    optimizer.load_state_dict(checkpoint['optimizer'])\n",
    "    print(\"Checkpoint loaded\")\n",
    "    print(f\"Validation loss: {checkpoint['val_loss']}\")\n",
    "    print(f\"Epoch: {checkpoint['epoch']}\")"
   ]
  },
  {
   "cell_type": "code",
   "execution_count": 14,
   "metadata": {},
   "outputs": [],
   "source": [
    "# Load optimizer and scheduler\n",
    "optimizer = torch.optim.Adam(params=model.parameters(), lr=lr)\n",
    "scheduler = torch.optim.lr_scheduler.MultiStepLR(optimizer, schedule, lr_decay)"
   ]
  },
  {
   "cell_type": "code",
   "execution_count": 15,
   "metadata": {},
   "outputs": [],
   "source": [
    "# Move to GPU\n",
    "model = model.to(device)\n",
    "criterion = criterion.to(device)"
   ]
  },
  {
   "cell_type": "markdown",
   "metadata": {},
   "source": [
    "# Train the model"
   ]
  },
  {
   "cell_type": "code",
   "execution_count": 16,
   "metadata": {},
   "outputs": [],
   "source": [
    "# TODO - add in logging to Visdom"
   ]
  },
  {
   "cell_type": "code",
   "execution_count": 17,
   "metadata": {},
   "outputs": [],
   "source": [
    "def train_VAE1D(dl):\n",
    "    \"\"\"\n",
    "    Execute the training loop\n",
    "    \"\"\"\n",
    "    loss_tracker = AvgTracker()\n",
    "    kl_tracker = AvgTracker()\n",
    "    logp_tracker = AvgTracker()\n",
    "    timer = StopWatch()\n",
    "    \n",
    "    for i, (X, _) in enumerate(tqdm(dl)):\n",
    "        \n",
    "        X = X.to(device)\n",
    "        timer.lap()  # load time\n",
    "        \n",
    "        # Generate transient and compute loss\n",
    "        X_hat, mu, logvar = model(X)\n",
    "        loss, loss_desc = criterion(X_hat, X, mu, logvar)\n",
    "        timer.lap()  # gen time\n",
    "        \n",
    "        loss_tracker.update(loss.item())\n",
    "        kl_tracker.update(loss_desc['KL'].item())\n",
    "        logp_tracker.update(loss_desc['logp'].item())\n",
    "        \n",
    "        if model.training:\n",
    "            # Update weights\n",
    "            optimizer.zero_grad()\n",
    "            loss.backward()\n",
    "            optimizer.step()\n",
    "            timer.lap()  # backprop time\n",
    "        \n",
    "        if (i + 1) % log_freq == 0:\n",
    "            # Print progress\n",
    "            print(f'Epoch: {epoch + 1} ({i + 1}/{len(dl)})')\n",
    "            print(f'\\tData load time: {timer.elapsed[0]:.3f} sec')\n",
    "            print(f'\\tGeneration time: {timer.elapsed[1]:.3f} sec')\n",
    "            if model.training:\n",
    "                print(f'\\tBackprop time: {timer.elapsed[2]:.3f} sec')\n",
    "            print(f'\\tLog probability: {logp_tracker.val:.4f} '\n",
    "                  f'(avg {logp_tracker.avg:.4f})')\n",
    "            print(f'\\tKL: {kl_tracker.val:.4f} (avg {kl_tracker.avg:.4f})')\n",
    "            print(f'\\tLoss: {loss_tracker.val:.4f} (avg {loss_tracker.avg:.4f})')\n",
    "\n",
    "    return loss_tracker.avg, kl_tracker.avg, logp_tracker.avg"
   ]
  },
  {
   "cell_type": "code",
   "execution_count": null,
   "metadata": {},
   "outputs": [
    {
     "name": "stderr",
     "output_type": "stream",
     "text": [
      " 37%|███▋      | 14/38 [00:00<00:01, 13.96it/s]"
     ]
    },
    {
     "name": "stdout",
     "output_type": "stream",
     "text": [
      "Epoch: 1 (10/38)\n",
      "\tData load time: 0.141 sec\n",
      "\tGeneration time: 0.164 sec\n",
      "\tBackprop time: 0.192 sec\n",
      "\tLog probability: -416.0158 (avg -432.9948)\n",
      "\tKL: 4.1559 (avg 4404.4272)\n",
      "\tLoss: 457.5751 (avg 44477.2685)\n"
     ]
    },
    {
     "name": "stderr",
     "output_type": "stream",
     "text": [
      " 61%|██████    | 23/38 [00:01<00:00, 19.64it/s]"
     ]
    },
    {
     "name": "stdout",
     "output_type": "stream",
     "text": [
      "Epoch: 1 (20/38)\n",
      "\tData load time: 0.141 sec\n",
      "\tGeneration time: 0.164 sec\n",
      "\tBackprop time: 0.192 sec\n",
      "\tLog probability: -349.4199 (avg -406.4120)\n",
      "\tKL: 3.4432 (avg 2203.9918)\n",
      "\tLoss: 383.8515 (avg 22446.3312)\n"
     ]
    },
    {
     "name": "stderr",
     "output_type": "stream",
     "text": [
      " 92%|█████████▏| 35/38 [00:01<00:00, 23.78it/s]"
     ]
    },
    {
     "name": "stdout",
     "output_type": "stream",
     "text": [
      "Epoch: 1 (30/38)\n",
      "\tData load time: 0.141 sec\n",
      "\tGeneration time: 0.164 sec\n",
      "\tBackprop time: 0.192 sec\n",
      "\tLog probability: -307.6118 (avg -373.8309)\n",
      "\tKL: 2.8703 (avg 1470.3501)\n",
      "\tLoss: 336.3147 (avg 15077.3327)\n"
     ]
    },
    {
     "name": "stderr",
     "output_type": "stream",
     "text": [
      "100%|██████████| 38/38 [00:01<00:00, 24.82it/s]\n",
      "100%|██████████| 10/10 [00:00<00:00, 30.12it/s]\n",
      "  0%|          | 0/38 [00:00<?, ?it/s]"
     ]
    },
    {
     "name": "stdout",
     "output_type": "stream",
     "text": [
      "Epoch: 1 (10/10)\n",
      "\tData load time: 0.139 sec\n",
      "\tGeneration time: 0.148 sec\n",
      "\tLog probability: -316.9606 (avg -305.7109)\n",
      "\tKL: 2.3557 (avg 2.1856)\n",
      "\tLoss: 340.5179 (avg 327.5667)\n",
      "Saving checkpoint..\n",
      "Lowest validation loss: 327.5667\n"
     ]
    },
    {
     "name": "stderr",
     "output_type": "stream",
     "text": [
      " 34%|███▍      | 13/38 [00:00<00:01, 13.88it/s]"
     ]
    },
    {
     "name": "stdout",
     "output_type": "stream",
     "text": [
      "Epoch: 2 (10/38)\n",
      "\tData load time: 0.147 sec\n",
      "\tGeneration time: 0.161 sec\n",
      "\tBackprop time: 0.180 sec\n",
      "\tLog probability: -163.0507 (avg -209.5224)\n",
      "\tKL: 2.5732 (avg 2.3730)\n",
      "\tLoss: 188.7826 (avg 233.2521)\n"
     ]
    },
    {
     "name": "stderr",
     "output_type": "stream",
     "text": [
      " 66%|██████▌   | 25/38 [00:01<00:00, 21.56it/s]"
     ]
    },
    {
     "name": "stdout",
     "output_type": "stream",
     "text": [
      "Epoch: 2 (20/38)\n",
      "\tData load time: 0.147 sec\n",
      "\tGeneration time: 0.161 sec\n",
      "\tBackprop time: 0.180 sec\n",
      "\tLog probability: -152.3340 (avg -190.9685)\n",
      "\tKL: 1.8525 (avg 2.2839)\n",
      "\tLoss: 170.8593 (avg 213.8076)\n"
     ]
    },
    {
     "name": "stderr",
     "output_type": "stream",
     "text": [
      " 89%|████████▉ | 34/38 [00:01<00:00, 24.43it/s]"
     ]
    },
    {
     "name": "stdout",
     "output_type": "stream",
     "text": [
      "Epoch: 2 (30/38)\n",
      "\tData load time: 0.147 sec\n",
      "\tGeneration time: 0.161 sec\n",
      "\tBackprop time: 0.180 sec\n",
      "\tLog probability: -129.5346 (avg -173.6368)\n",
      "\tKL: 1.8164 (avg 2.1845)\n",
      "\tLoss: 147.6985 (avg 195.4817)\n"
     ]
    },
    {
     "name": "stderr",
     "output_type": "stream",
     "text": [
      "100%|██████████| 38/38 [00:01<00:00, 23.54it/s]\n",
      "100%|██████████| 10/10 [00:00<00:00, 29.60it/s]\n"
     ]
    },
    {
     "name": "stdout",
     "output_type": "stream",
     "text": [
      "Epoch: 2 (10/10)\n",
      "\tData load time: 0.148 sec\n",
      "\tGeneration time: 0.159 sec\n",
      "\tLog probability: -96.3903 (avg -99.1043)\n",
      "\tKL: 1.9924 (avg 2.4118)\n",
      "\tLoss: 116.3146 (avg 123.2221)\n",
      "Saving checkpoint..\n"
     ]
    },
    {
     "name": "stderr",
     "output_type": "stream",
     "text": [
      "  0%|          | 0/38 [00:00<?, ?it/s]"
     ]
    },
    {
     "name": "stdout",
     "output_type": "stream",
     "text": [
      "Lowest validation loss: 123.2221\n"
     ]
    },
    {
     "name": "stderr",
     "output_type": "stream",
     "text": [
      " 34%|███▍      | 13/38 [00:00<00:01, 13.57it/s]"
     ]
    },
    {
     "name": "stdout",
     "output_type": "stream",
     "text": [
      "Epoch: 3 (10/38)\n",
      "\tData load time: 0.155 sec\n",
      "\tGeneration time: 0.165 sec\n",
      "\tBackprop time: 0.186 sec\n",
      "\tLog probability: -95.6089 (avg -103.1996)\n",
      "\tKL: 2.0446 (avg 2.1485)\n",
      "\tLoss: 116.0553 (avg 124.6844)\n"
     ]
    },
    {
     "name": "stderr",
     "output_type": "stream",
     "text": [
      " 66%|██████▌   | 25/38 [00:01<00:00, 21.48it/s]"
     ]
    },
    {
     "name": "stdout",
     "output_type": "stream",
     "text": [
      "Epoch: 3 (20/38)\n",
      "\tData load time: 0.155 sec\n",
      "\tGeneration time: 0.165 sec\n",
      "\tBackprop time: 0.186 sec\n",
      "\tLog probability: -90.3399 (avg -94.2722)\n",
      "\tKL: 1.9598 (avg 2.1031)\n",
      "\tLoss: 109.9380 (avg 115.3030)\n"
     ]
    },
    {
     "name": "stderr",
     "output_type": "stream",
     "text": [
      " 89%|████████▉ | 34/38 [00:01<00:00, 24.43it/s]"
     ]
    },
    {
     "name": "stdout",
     "output_type": "stream",
     "text": [
      "Epoch: 3 (30/38)\n",
      "\tData load time: 0.155 sec\n",
      "\tGeneration time: 0.165 sec\n",
      "\tBackprop time: 0.186 sec\n",
      "\tLog probability: -67.3180 (avg -87.2239)\n",
      "\tKL: 1.9101 (avg 2.0346)\n",
      "\tLoss: 86.4194 (avg 107.5695)\n"
     ]
    },
    {
     "name": "stderr",
     "output_type": "stream",
     "text": [
      "100%|██████████| 38/38 [00:01<00:00, 23.48it/s]\n",
      "100%|██████████| 10/10 [00:00<00:00, 29.91it/s]\n"
     ]
    },
    {
     "name": "stdout",
     "output_type": "stream",
     "text": [
      "Epoch: 3 (10/10)\n",
      "\tData load time: 0.144 sec\n",
      "\tGeneration time: 0.153 sec\n",
      "\tLog probability: -68.0187 (avg -71.4022)\n",
      "\tKL: 1.9447 (avg 1.7408)\n",
      "\tLoss: 87.4656 (avg 88.8105)\n",
      "Saving checkpoint..\n"
     ]
    },
    {
     "name": "stderr",
     "output_type": "stream",
     "text": [
      "  0%|          | 0/38 [00:00<?, ?it/s]"
     ]
    },
    {
     "name": "stdout",
     "output_type": "stream",
     "text": [
      "Lowest validation loss: 88.8105\n"
     ]
    },
    {
     "name": "stderr",
     "output_type": "stream",
     "text": [
      " 34%|███▍      | 13/38 [00:00<00:01, 13.73it/s]"
     ]
    },
    {
     "name": "stdout",
     "output_type": "stream",
     "text": [
      "Epoch: 4 (10/38)\n",
      "\tData load time: 0.150 sec\n",
      "\tGeneration time: 0.164 sec\n",
      "\tBackprop time: 0.183 sec\n",
      "\tLog probability: -47.1868 (avg -63.7780)\n",
      "\tKL: 2.6415 (avg 2.1982)\n",
      "\tLoss: 73.6015 (avg 85.7602)\n"
     ]
    },
    {
     "name": "stderr",
     "output_type": "stream",
     "text": [
      " 66%|██████▌   | 25/38 [00:01<00:00, 21.57it/s]"
     ]
    },
    {
     "name": "stdout",
     "output_type": "stream",
     "text": [
      "Epoch: 4 (20/38)\n",
      "\tData load time: 0.150 sec\n",
      "\tGeneration time: 0.164 sec\n",
      "\tBackprop time: 0.183 sec\n",
      "\tLog probability: -46.1254 (avg -65.6441)\n",
      "\tKL: 2.5602 (avg 2.4193)\n",
      "\tLoss: 71.7269 (avg 89.8374)\n"
     ]
    },
    {
     "name": "stderr",
     "output_type": "stream",
     "text": [
      " 89%|████████▉ | 34/38 [00:01<00:00, 24.44it/s]"
     ]
    },
    {
     "name": "stdout",
     "output_type": "stream",
     "text": [
      "Epoch: 4 (30/38)\n",
      "\tData load time: 0.150 sec\n",
      "\tGeneration time: 0.164 sec\n",
      "\tBackprop time: 0.183 sec\n",
      "\tLog probability: -63.1618 (avg -62.7949)\n",
      "\tKL: 3.0046 (avg 2.4510)\n",
      "\tLoss: 93.2076 (avg 87.3048)\n"
     ]
    },
    {
     "name": "stderr",
     "output_type": "stream",
     "text": [
      "100%|██████████| 38/38 [00:01<00:00, 23.52it/s]\n",
      "100%|██████████| 10/10 [00:00<00:00, 29.49it/s]\n"
     ]
    },
    {
     "name": "stdout",
     "output_type": "stream",
     "text": [
      "Epoch: 4 (10/10)\n",
      "\tData load time: 0.144 sec\n",
      "\tGeneration time: 0.155 sec\n",
      "\tLog probability: -33.9015 (avg -44.3773)\n",
      "\tKL: 3.2221 (avg 2.7478)\n",
      "\tLoss: 66.1228 (avg 71.8549)\n",
      "Saving checkpoint..\n"
     ]
    },
    {
     "name": "stderr",
     "output_type": "stream",
     "text": [
      "  0%|          | 0/38 [00:00<?, ?it/s]"
     ]
    },
    {
     "name": "stdout",
     "output_type": "stream",
     "text": [
      "Lowest validation loss: 71.8549\n"
     ]
    },
    {
     "name": "stderr",
     "output_type": "stream",
     "text": [
      " 34%|███▍      | 13/38 [00:00<00:01, 13.55it/s]"
     ]
    },
    {
     "name": "stdout",
     "output_type": "stream",
     "text": [
      "Epoch: 5 (10/38)\n",
      "\tData load time: 0.153 sec\n",
      "\tGeneration time: 0.169 sec\n",
      "\tBackprop time: 0.188 sec\n",
      "\tLog probability: -50.5523 (avg -49.3733)\n",
      "\tKL: 3.2980 (avg 3.2131)\n",
      "\tLoss: 83.5323 (avg 81.5039)\n"
     ]
    },
    {
     "name": "stderr",
     "output_type": "stream",
     "text": [
      " 66%|██████▌   | 25/38 [00:01<00:00, 21.44it/s]"
     ]
    },
    {
     "name": "stdout",
     "output_type": "stream",
     "text": [
      "Epoch: 5 (20/38)\n",
      "\tData load time: 0.153 sec\n",
      "\tGeneration time: 0.169 sec\n",
      "\tBackprop time: 0.188 sec\n",
      "\tLog probability: -43.9049 (avg -51.0051)\n",
      "\tKL: 2.2207 (avg 2.8706)\n",
      "\tLoss: 66.1121 (avg 79.7113)\n"
     ]
    },
    {
     "name": "stderr",
     "output_type": "stream",
     "text": [
      " 89%|████████▉ | 34/38 [00:01<00:00, 24.42it/s]"
     ]
    },
    {
     "name": "stdout",
     "output_type": "stream",
     "text": [
      "Epoch: 5 (30/38)\n",
      "\tData load time: 0.153 sec\n",
      "\tGeneration time: 0.169 sec\n",
      "\tBackprop time: 0.188 sec\n",
      "\tLog probability: -31.1555 (avg -49.8172)\n",
      "\tKL: 2.4810 (avg 2.7727)\n",
      "\tLoss: 55.9659 (avg 77.5445)\n"
     ]
    },
    {
     "name": "stderr",
     "output_type": "stream",
     "text": [
      "100%|██████████| 38/38 [00:01<00:00, 23.52it/s]\n",
      "100%|██████████| 10/10 [00:00<00:00, 31.63it/s]\n",
      "  0%|          | 0/38 [00:00<?, ?it/s]"
     ]
    },
    {
     "name": "stdout",
     "output_type": "stream",
     "text": [
      "Epoch: 5 (10/10)\n",
      "\tData load time: 0.125 sec\n",
      "\tGeneration time: 0.137 sec\n",
      "\tLog probability: -42.1023 (avg -49.4848)\n",
      "\tKL: 3.8403 (avg 6.1642)\n",
      "\tLoss: 80.5056 (avg 111.1271)\n",
      "Lowest validation loss: 71.8549\n"
     ]
    },
    {
     "name": "stderr",
     "output_type": "stream",
     "text": [
      " 34%|███▍      | 13/38 [00:00<00:01, 13.81it/s]"
     ]
    },
    {
     "name": "stdout",
     "output_type": "stream",
     "text": [
      "Epoch: 6 (10/38)\n",
      "\tData load time: 0.150 sec\n",
      "\tGeneration time: 0.161 sec\n",
      "\tBackprop time: 0.181 sec\n",
      "\tLog probability: -28.5968 (avg -36.3642)\n",
      "\tKL: 3.6437 (avg 4.7397)\n",
      "\tLoss: 65.0335 (avg 83.7609)\n"
     ]
    },
    {
     "name": "stderr",
     "output_type": "stream",
     "text": [
      " 66%|██████▌   | 25/38 [00:01<00:00, 21.51it/s]"
     ]
    },
    {
     "name": "stdout",
     "output_type": "stream",
     "text": [
      "Epoch: 6 (20/38)\n",
      "\tData load time: 0.150 sec\n",
      "\tGeneration time: 0.161 sec\n",
      "\tBackprop time: 0.181 sec\n",
      "\tLog probability: -53.7080 (avg -34.3847)\n",
      "\tKL: 2.2855 (avg 3.7295)\n",
      "\tLoss: 76.5630 (avg 71.6796)\n"
     ]
    },
    {
     "name": "stderr",
     "output_type": "stream",
     "text": [
      " 89%|████████▉ | 34/38 [00:01<00:00, 24.43it/s]"
     ]
    },
    {
     "name": "stdout",
     "output_type": "stream",
     "text": [
      "Epoch: 6 (30/38)\n",
      "\tData load time: 0.150 sec\n",
      "\tGeneration time: 0.161 sec\n",
      "\tBackprop time: 0.181 sec\n",
      "\tLog probability: -37.9666 (avg -32.6199)\n",
      "\tKL: 1.7120 (avg 3.1440)\n",
      "\tLoss: 55.0864 (avg 64.0601)\n"
     ]
    },
    {
     "name": "stderr",
     "output_type": "stream",
     "text": [
      "100%|██████████| 38/38 [00:01<00:00, 23.51it/s]\n",
      "100%|██████████| 10/10 [00:00<00:00, 30.74it/s]\n"
     ]
    },
    {
     "name": "stdout",
     "output_type": "stream",
     "text": [
      "Epoch: 6 (10/10)\n",
      "\tData load time: 0.134 sec\n",
      "\tGeneration time: 0.146 sec\n",
      "\tLog probability: -23.6687 (avg -32.7746)\n",
      "\tKL: 2.7948 (avg 3.4295)\n",
      "\tLoss: 51.6168 (avg 67.0693)\n",
      "Saving checkpoint..\n"
     ]
    },
    {
     "name": "stderr",
     "output_type": "stream",
     "text": [
      "  0%|          | 0/38 [00:00<?, ?it/s]"
     ]
    },
    {
     "name": "stdout",
     "output_type": "stream",
     "text": [
      "Lowest validation loss: 67.0693\n"
     ]
    },
    {
     "name": "stderr",
     "output_type": "stream",
     "text": [
      " 34%|███▍      | 13/38 [00:00<00:01, 14.17it/s]"
     ]
    },
    {
     "name": "stdout",
     "output_type": "stream",
     "text": [
      "Epoch: 7 (10/38)\n",
      "\tData load time: 0.142 sec\n",
      "\tGeneration time: 0.154 sec\n",
      "\tBackprop time: 0.174 sec\n",
      "\tLog probability: -41.3264 (avg -35.1619)\n",
      "\tKL: 2.9983 (avg 3.1516)\n",
      "\tLoss: 71.3093 (avg 66.6783)\n"
     ]
    },
    {
     "name": "stderr",
     "output_type": "stream",
     "text": [
      " 66%|██████▌   | 25/38 [00:01<00:00, 21.76it/s]"
     ]
    },
    {
     "name": "stdout",
     "output_type": "stream",
     "text": [
      "Epoch: 7 (20/38)\n",
      "\tData load time: 0.142 sec\n",
      "\tGeneration time: 0.154 sec\n",
      "\tBackprop time: 0.174 sec\n",
      "\tLog probability: -24.0630 (avg -31.9651)\n",
      "\tKL: 2.1847 (avg 2.9816)\n",
      "\tLoss: 45.9097 (avg 61.7809)\n"
     ]
    },
    {
     "name": "stderr",
     "output_type": "stream",
     "text": [
      " 89%|████████▉ | 34/38 [00:01<00:00, 24.55it/s]"
     ]
    },
    {
     "name": "stdout",
     "output_type": "stream",
     "text": [
      "Epoch: 7 (30/38)\n",
      "\tData load time: 0.142 sec\n",
      "\tGeneration time: 0.154 sec\n",
      "\tBackprop time: 0.174 sec\n",
      "\tLog probability: -27.8644 (avg -30.2734)\n",
      "\tKL: 1.7397 (avg 2.6413)\n",
      "\tLoss: 45.2617 (avg 56.6865)\n"
     ]
    },
    {
     "name": "stderr",
     "output_type": "stream",
     "text": [
      "100%|██████████| 38/38 [00:01<00:00, 23.66it/s]\n",
      "100%|██████████| 10/10 [00:00<00:00, 30.28it/s]\n"
     ]
    },
    {
     "name": "stdout",
     "output_type": "stream",
     "text": [
      "Epoch: 7 (10/10)\n",
      "\tData load time: 0.144 sec\n",
      "\tGeneration time: 0.153 sec\n",
      "\tLog probability: -17.5530 (avg -17.9427)\n",
      "\tKL: 2.0916 (avg 1.8249)\n",
      "\tLoss: 38.4694 (avg 36.1917)\n",
      "Saving checkpoint..\n"
     ]
    },
    {
     "name": "stderr",
     "output_type": "stream",
     "text": [
      "  0%|          | 0/38 [00:00<?, ?it/s]"
     ]
    },
    {
     "name": "stdout",
     "output_type": "stream",
     "text": [
      "Lowest validation loss: 36.1917\n"
     ]
    },
    {
     "name": "stderr",
     "output_type": "stream",
     "text": [
      " 34%|███▍      | 13/38 [00:00<00:01, 13.77it/s]"
     ]
    },
    {
     "name": "stdout",
     "output_type": "stream",
     "text": [
      "Epoch: 8 (10/38)\n",
      "\tData load time: 0.153 sec\n",
      "\tGeneration time: 0.162 sec\n",
      "\tBackprop time: 0.183 sec\n",
      "\tLog probability: -18.6580 (avg -21.9429)\n",
      "\tKL: 1.8044 (avg 1.8620)\n",
      "\tLoss: 36.7017 (avg 40.5633)\n"
     ]
    },
    {
     "name": "stderr",
     "output_type": "stream",
     "text": [
      " 66%|██████▌   | 25/38 [00:01<00:00, 21.50it/s]"
     ]
    },
    {
     "name": "stdout",
     "output_type": "stream",
     "text": [
      "Epoch: 8 (20/38)\n",
      "\tData load time: 0.153 sec\n",
      "\tGeneration time: 0.162 sec\n",
      "\tBackprop time: 0.183 sec\n",
      "\tLog probability: -30.1254 (avg -21.6785)\n",
      "\tKL: 1.3937 (avg 1.6699)\n",
      "\tLoss: 44.0623 (avg 38.3776)\n"
     ]
    },
    {
     "name": "stderr",
     "output_type": "stream",
     "text": [
      " 89%|████████▉ | 34/38 [00:01<00:00, 24.33it/s]"
     ]
    },
    {
     "name": "stdout",
     "output_type": "stream",
     "text": [
      "Epoch: 8 (30/38)\n",
      "\tData load time: 0.153 sec\n",
      "\tGeneration time: 0.162 sec\n",
      "\tBackprop time: 0.183 sec\n",
      "\tLog probability: -23.9345 (avg -21.4842)\n",
      "\tKL: 2.2867 (avg 1.7312)\n",
      "\tLoss: 46.8014 (avg 38.7964)\n"
     ]
    },
    {
     "name": "stderr",
     "output_type": "stream",
     "text": [
      "100%|██████████| 38/38 [00:01<00:00, 23.47it/s]\n",
      "100%|██████████| 10/10 [00:00<00:00, 29.98it/s]\n"
     ]
    },
    {
     "name": "stdout",
     "output_type": "stream",
     "text": [
      "Epoch: 8 (10/10)\n",
      "\tData load time: 0.139 sec\n",
      "\tGeneration time: 0.148 sec\n",
      "\tLog probability: -19.1464 (avg -14.6252)\n",
      "\tKL: 1.5477 (avg 1.8285)\n",
      "\tLoss: 34.6235 (avg 32.9099)\n",
      "Saving checkpoint..\n"
     ]
    },
    {
     "name": "stderr",
     "output_type": "stream",
     "text": [
      "  0%|          | 0/38 [00:00<?, ?it/s]"
     ]
    },
    {
     "name": "stdout",
     "output_type": "stream",
     "text": [
      "Lowest validation loss: 32.9099\n"
     ]
    },
    {
     "name": "stderr",
     "output_type": "stream",
     "text": [
      " 34%|███▍      | 13/38 [00:00<00:01, 14.04it/s]"
     ]
    },
    {
     "name": "stdout",
     "output_type": "stream",
     "text": [
      "Epoch: 9 (10/38)\n",
      "\tData load time: 0.145 sec\n",
      "\tGeneration time: 0.156 sec\n",
      "\tBackprop time: 0.177 sec\n",
      "\tLog probability: -20.3698 (avg -18.5635)\n",
      "\tKL: 1.3936 (avg 1.6484)\n",
      "\tLoss: 34.3057 (avg 35.0475)\n"
     ]
    },
    {
     "name": "stderr",
     "output_type": "stream",
     "text": [
      " 66%|██████▌   | 25/38 [00:01<00:00, 21.68it/s]"
     ]
    },
    {
     "name": "stdout",
     "output_type": "stream",
     "text": [
      "Epoch: 9 (20/38)\n",
      "\tData load time: 0.145 sec\n",
      "\tGeneration time: 0.156 sec\n",
      "\tBackprop time: 0.177 sec\n",
      "\tLog probability: -19.2811 (avg -18.5615)\n",
      "\tKL: 1.2226 (avg 1.5748)\n",
      "\tLoss: 31.5073 (avg 34.3095)\n"
     ]
    },
    {
     "name": "stderr",
     "output_type": "stream",
     "text": [
      " 89%|████████▉ | 34/38 [00:01<00:00, 24.46it/s]"
     ]
    },
    {
     "name": "stdout",
     "output_type": "stream",
     "text": [
      "Epoch: 9 (30/38)\n",
      "\tData load time: 0.145 sec\n",
      "\tGeneration time: 0.156 sec\n",
      "\tBackprop time: 0.177 sec\n",
      "\tLog probability: -22.0668 (avg -18.2519)\n",
      "\tKL: 1.6012 (avg 1.6015)\n",
      "\tLoss: 38.0785 (avg 34.2665)\n"
     ]
    },
    {
     "name": "stderr",
     "output_type": "stream",
     "text": [
      "100%|██████████| 38/38 [00:01<00:00, 23.61it/s]\n",
      "100%|██████████| 10/10 [00:00<00:00, 29.76it/s]\n",
      "  0%|          | 0/38 [00:00<?, ?it/s]"
     ]
    },
    {
     "name": "stdout",
     "output_type": "stream",
     "text": [
      "Epoch: 9 (10/10)\n",
      "\tData load time: 0.150 sec\n",
      "\tGeneration time: 0.158 sec\n",
      "\tLog probability: -16.0610 (avg -16.4032)\n",
      "\tKL: 4.0472 (avg 3.7812)\n",
      "\tLoss: 56.5332 (avg 54.2154)\n",
      "Lowest validation loss: 32.9099\n"
     ]
    },
    {
     "name": "stderr",
     "output_type": "stream",
     "text": [
      " 34%|███▍      | 13/38 [00:00<00:01, 14.24it/s]"
     ]
    },
    {
     "name": "stdout",
     "output_type": "stream",
     "text": [
      "Epoch: 10 (10/38)\n",
      "\tData load time: 0.140 sec\n",
      "\tGeneration time: 0.151 sec\n",
      "\tBackprop time: 0.173 sec\n",
      "\tLog probability: -19.4310 (avg -19.9900)\n",
      "\tKL: 2.5733 (avg 3.1325)\n",
      "\tLoss: 45.1643 (avg 51.3155)\n"
     ]
    },
    {
     "name": "stderr",
     "output_type": "stream",
     "text": [
      " 66%|██████▌   | 25/38 [00:01<00:00, 21.74it/s]"
     ]
    },
    {
     "name": "stdout",
     "output_type": "stream",
     "text": [
      "Epoch: 10 (20/38)\n",
      "\tData load time: 0.140 sec\n",
      "\tGeneration time: 0.151 sec\n",
      "\tBackprop time: 0.173 sec\n",
      "\tLog probability: -16.6464 (avg -18.8372)\n",
      "\tKL: 1.8374 (avg 2.6406)\n",
      "\tLoss: 35.0201 (avg 45.2432)\n"
     ]
    },
    {
     "name": "stderr",
     "output_type": "stream",
     "text": [
      " 89%|████████▉ | 34/38 [00:01<00:00, 24.50it/s]"
     ]
    },
    {
     "name": "stdout",
     "output_type": "stream",
     "text": [
      "Epoch: 10 (30/38)\n",
      "\tData load time: 0.140 sec\n",
      "\tGeneration time: 0.151 sec\n",
      "\tBackprop time: 0.173 sec\n",
      "\tLog probability: -19.3647 (avg -19.1795)\n",
      "\tKL: 1.4874 (avg 2.3216)\n",
      "\tLoss: 34.2391 (avg 42.3959)\n"
     ]
    },
    {
     "name": "stderr",
     "output_type": "stream",
     "text": [
      "100%|██████████| 38/38 [00:01<00:00, 23.65it/s]\n",
      "100%|██████████| 10/10 [00:00<00:00, 29.90it/s]\n",
      "  0%|          | 0/38 [00:00<?, ?it/s]"
     ]
    },
    {
     "name": "stdout",
     "output_type": "stream",
     "text": [
      "Epoch: 10 (10/10)\n",
      "\tData load time: 0.148 sec\n",
      "\tGeneration time: 0.156 sec\n",
      "\tLog probability: -16.9535 (avg -22.5578)\n",
      "\tKL: 4.3371 (avg 5.4082)\n",
      "\tLoss: 60.3244 (avg 76.6398)\n",
      "Lowest validation loss: 32.9099\n"
     ]
    },
    {
     "name": "stderr",
     "output_type": "stream",
     "text": [
      " 34%|███▍      | 13/38 [00:00<00:01, 14.17it/s]"
     ]
    },
    {
     "name": "stdout",
     "output_type": "stream",
     "text": [
      "Epoch: 11 (10/38)\n",
      "\tData load time: 0.140 sec\n",
      "\tGeneration time: 0.154 sec\n",
      "\tBackprop time: 0.173 sec\n",
      "\tLog probability: -19.6943 (avg -17.0103)\n",
      "\tKL: 3.4423 (avg 4.0479)\n",
      "\tLoss: 54.1169 (avg 57.4889)\n"
     ]
    },
    {
     "name": "stderr",
     "output_type": "stream",
     "text": [
      " 66%|██████▌   | 25/38 [00:01<00:00, 21.74it/s]"
     ]
    },
    {
     "name": "stdout",
     "output_type": "stream",
     "text": [
      "Epoch: 11 (20/38)\n",
      "\tData load time: 0.140 sec\n",
      "\tGeneration time: 0.154 sec\n",
      "\tBackprop time: 0.173 sec\n",
      "\tLog probability: -12.3319 (avg -17.9014)\n",
      "\tKL: 2.1019 (avg 3.2813)\n",
      "\tLoss: 33.3506 (avg 50.7147)\n"
     ]
    },
    {
     "name": "stderr",
     "output_type": "stream",
     "text": [
      " 89%|████████▉ | 34/38 [00:01<00:00, 24.46it/s]"
     ]
    },
    {
     "name": "stdout",
     "output_type": "stream",
     "text": [
      "Epoch: 11 (30/38)\n",
      "\tData load time: 0.140 sec\n",
      "\tGeneration time: 0.154 sec\n",
      "\tBackprop time: 0.173 sec\n",
      "\tLog probability: -11.0521 (avg -16.2855)\n",
      "\tKL: 1.6823 (avg 2.8485)\n",
      "\tLoss: 27.8751 (avg 44.7709)\n"
     ]
    },
    {
     "name": "stderr",
     "output_type": "stream",
     "text": [
      "100%|██████████| 38/38 [00:01<00:00, 23.58it/s]\n",
      "100%|██████████| 10/10 [00:00<00:00, 30.16it/s]\n"
     ]
    },
    {
     "name": "stdout",
     "output_type": "stream",
     "text": [
      "Epoch: 11 (10/10)\n",
      "\tData load time: 0.138 sec\n",
      "\tGeneration time: 0.150 sec\n",
      "\tLog probability: -11.4133 (avg -10.7458)\n",
      "\tKL: 1.8755 (avg 1.4405)\n",
      "\tLoss: 30.1683 (avg 25.1505)\n",
      "Saving checkpoint..\n"
     ]
    },
    {
     "name": "stderr",
     "output_type": "stream",
     "text": [
      "  0%|          | 0/38 [00:00<?, ?it/s]"
     ]
    },
    {
     "name": "stdout",
     "output_type": "stream",
     "text": [
      "Lowest validation loss: 25.1505\n"
     ]
    },
    {
     "name": "stderr",
     "output_type": "stream",
     "text": [
      " 34%|███▍      | 13/38 [00:00<00:01, 13.80it/s]"
     ]
    },
    {
     "name": "stdout",
     "output_type": "stream",
     "text": [
      "Epoch: 12 (10/38)\n",
      "\tData load time: 0.150 sec\n",
      "\tGeneration time: 0.160 sec\n",
      "\tBackprop time: 0.182 sec\n",
      "\tLog probability: -11.7254 (avg -13.9781)\n",
      "\tKL: 1.3376 (avg 1.4713)\n",
      "\tLoss: 25.1017 (avg 28.6910)\n"
     ]
    },
    {
     "name": "stderr",
     "output_type": "stream",
     "text": [
      " 66%|██████▌   | 25/38 [00:01<00:00, 21.56it/s]"
     ]
    },
    {
     "name": "stdout",
     "output_type": "stream",
     "text": [
      "Epoch: 12 (20/38)\n",
      "\tData load time: 0.150 sec\n",
      "\tGeneration time: 0.160 sec\n",
      "\tBackprop time: 0.182 sec\n",
      "\tLog probability: -14.4514 (avg -16.7634)\n",
      "\tKL: 2.2591 (avg 1.6443)\n",
      "\tLoss: 37.0423 (avg 33.2061)\n"
     ]
    },
    {
     "name": "stderr",
     "output_type": "stream",
     "text": [
      " 89%|████████▉ | 34/38 [00:01<00:00, 24.27it/s]"
     ]
    },
    {
     "name": "stdout",
     "output_type": "stream",
     "text": [
      "Epoch: 12 (30/38)\n",
      "\tData load time: 0.150 sec\n",
      "\tGeneration time: 0.160 sec\n",
      "\tBackprop time: 0.182 sec\n",
      "\tLog probability: -10.2830 (avg -15.6782)\n",
      "\tKL: 2.1332 (avg 1.8345)\n",
      "\tLoss: 31.6146 (avg 34.0234)\n"
     ]
    },
    {
     "name": "stderr",
     "output_type": "stream",
     "text": [
      "100%|██████████| 38/38 [00:01<00:00, 23.47it/s]\n",
      "100%|██████████| 10/10 [00:00<00:00, 29.89it/s]\n",
      "  0%|          | 0/38 [00:00<?, ?it/s]"
     ]
    },
    {
     "name": "stdout",
     "output_type": "stream",
     "text": [
      "Epoch: 12 (10/10)\n",
      "\tData load time: 0.139 sec\n",
      "\tGeneration time: 0.152 sec\n",
      "\tLog probability: -17.6903 (avg -18.9612)\n",
      "\tKL: 1.7039 (avg 1.6354)\n",
      "\tLoss: 34.7292 (avg 35.3157)\n",
      "Lowest validation loss: 25.1505\n"
     ]
    },
    {
     "name": "stderr",
     "output_type": "stream",
     "text": [
      " 34%|███▍      | 13/38 [00:00<00:01, 14.08it/s]"
     ]
    },
    {
     "name": "stdout",
     "output_type": "stream",
     "text": [
      "Epoch: 13 (10/38)\n",
      "\tData load time: 0.142 sec\n",
      "\tGeneration time: 0.156 sec\n",
      "\tBackprop time: 0.176 sec\n",
      "\tLog probability: -16.2882 (avg -14.2555)\n",
      "\tKL: 2.1449 (avg 1.9092)\n",
      "\tLoss: 37.7376 (avg 33.3473)\n"
     ]
    },
    {
     "name": "stderr",
     "output_type": "stream",
     "text": [
      " 66%|██████▌   | 25/38 [00:01<00:00, 21.62it/s]"
     ]
    },
    {
     "name": "stdout",
     "output_type": "stream",
     "text": [
      "Epoch: 13 (20/38)\n",
      "\tData load time: 0.142 sec\n",
      "\tGeneration time: 0.156 sec\n",
      "\tBackprop time: 0.176 sec\n",
      "\tLog probability: -19.1122 (avg -13.5015)\n",
      "\tKL: 1.5375 (avg 1.8502)\n",
      "\tLoss: 34.4868 (avg 32.0039)\n"
     ]
    },
    {
     "name": "stderr",
     "output_type": "stream",
     "text": [
      " 89%|████████▉ | 34/38 [00:01<00:00, 24.35it/s]"
     ]
    },
    {
     "name": "stdout",
     "output_type": "stream",
     "text": [
      "Epoch: 13 (30/38)\n",
      "\tData load time: 0.142 sec\n",
      "\tGeneration time: 0.156 sec\n",
      "\tBackprop time: 0.176 sec\n",
      "\tLog probability: -12.4002 (avg -13.5930)\n",
      "\tKL: 1.3738 (avg 1.6753)\n",
      "\tLoss: 26.1384 (avg 30.3457)\n"
     ]
    },
    {
     "name": "stderr",
     "output_type": "stream",
     "text": [
      "100%|██████████| 38/38 [00:01<00:00, 23.53it/s]\n",
      "100%|██████████| 10/10 [00:00<00:00, 29.46it/s]\n",
      "  0%|          | 0/38 [00:00<?, ?it/s]"
     ]
    },
    {
     "name": "stdout",
     "output_type": "stream",
     "text": [
      "Epoch: 13 (10/10)\n",
      "\tData load time: 0.142 sec\n",
      "\tGeneration time: 0.154 sec\n",
      "\tLog probability: -7.3340 (avg -8.6494)\n",
      "\tKL: 1.4761 (avg 1.8019)\n",
      "\tLoss: 22.0947 (avg 26.6681)\n",
      "Lowest validation loss: 25.1505\n"
     ]
    },
    {
     "name": "stderr",
     "output_type": "stream",
     "text": [
      " 34%|███▍      | 13/38 [00:00<00:01, 14.18it/s]"
     ]
    },
    {
     "name": "stdout",
     "output_type": "stream",
     "text": [
      "Epoch: 14 (10/38)\n",
      "\tData load time: 0.142 sec\n",
      "\tGeneration time: 0.154 sec\n",
      "\tBackprop time: 0.174 sec\n",
      "\tLog probability: -10.2907 (avg -10.1168)\n",
      "\tKL: 1.5489 (avg 1.8115)\n",
      "\tLoss: 25.7798 (avg 28.2323)\n"
     ]
    },
    {
     "name": "stderr",
     "output_type": "stream",
     "text": [
      " 66%|██████▌   | 25/38 [00:01<00:00, 21.71it/s]"
     ]
    },
    {
     "name": "stdout",
     "output_type": "stream",
     "text": [
      "Epoch: 14 (20/38)\n",
      "\tData load time: 0.142 sec\n",
      "\tGeneration time: 0.154 sec\n",
      "\tBackprop time: 0.174 sec\n",
      "\tLog probability: -14.0068 (avg -10.8264)\n",
      "\tKL: 1.2219 (avg 1.6135)\n",
      "\tLoss: 26.2262 (avg 26.9611)\n"
     ]
    },
    {
     "name": "stderr",
     "output_type": "stream",
     "text": [
      " 89%|████████▉ | 34/38 [00:01<00:00, 24.24it/s]"
     ]
    },
    {
     "name": "stdout",
     "output_type": "stream",
     "text": [
      "Epoch: 14 (30/38)\n",
      "\tData load time: 0.142 sec\n",
      "\tGeneration time: 0.154 sec\n",
      "\tBackprop time: 0.174 sec\n",
      "\tLog probability: -10.5216 (avg -11.0520)\n",
      "\tKL: 1.8143 (avg 1.5085)\n",
      "\tLoss: 28.6642 (avg 26.1374)\n"
     ]
    },
    {
     "name": "stderr",
     "output_type": "stream",
     "text": [
      "100%|██████████| 38/38 [00:01<00:00, 23.50it/s]\n",
      "100%|██████████| 10/10 [00:00<00:00, 30.29it/s]\n",
      "  0%|          | 0/38 [00:00<?, ?it/s]"
     ]
    },
    {
     "name": "stdout",
     "output_type": "stream",
     "text": [
      "Epoch: 14 (10/10)\n",
      "\tData load time: 0.142 sec\n",
      "\tGeneration time: 0.150 sec\n",
      "\tLog probability: -9.6713 (avg -8.0495)\n",
      "\tKL: 1.5088 (avg 2.1731)\n",
      "\tLoss: 24.7595 (avg 29.7808)\n",
      "Lowest validation loss: 25.1505\n"
     ]
    },
    {
     "name": "stderr",
     "output_type": "stream",
     "text": [
      " 34%|███▍      | 13/38 [00:00<00:01, 14.03it/s]"
     ]
    },
    {
     "name": "stdout",
     "output_type": "stream",
     "text": [
      "Epoch: 15 (10/38)\n",
      "\tData load time: 0.145 sec\n",
      "\tGeneration time: 0.156 sec\n",
      "\tBackprop time: 0.177 sec\n",
      "\tLog probability: -24.1609 (avg -16.7943)\n",
      "\tKL: 1.8110 (avg 1.6590)\n",
      "\tLoss: 42.2707 (avg 33.3845)\n"
     ]
    },
    {
     "name": "stderr",
     "output_type": "stream",
     "text": [
      " 66%|██████▌   | 25/38 [00:01<00:00, 21.62it/s]"
     ]
    },
    {
     "name": "stdout",
     "output_type": "stream",
     "text": [
      "Epoch: 15 (20/38)\n",
      "\tData load time: 0.145 sec\n",
      "\tGeneration time: 0.156 sec\n",
      "\tBackprop time: 0.177 sec\n",
      "\tLog probability: -20.7058 (avg -16.6396)\n",
      "\tKL: 3.1266 (avg 2.1252)\n",
      "\tLoss: 51.9721 (avg 37.8912)\n"
     ]
    },
    {
     "name": "stderr",
     "output_type": "stream",
     "text": [
      " 89%|████████▉ | 34/38 [00:01<00:00, 24.36it/s]"
     ]
    },
    {
     "name": "stdout",
     "output_type": "stream",
     "text": [
      "Epoch: 15 (30/38)\n",
      "\tData load time: 0.145 sec\n",
      "\tGeneration time: 0.156 sec\n",
      "\tBackprop time: 0.177 sec\n",
      "\tLog probability: -12.3511 (avg -14.5805)\n",
      "\tKL: 1.6569 (avg 2.1111)\n",
      "\tLoss: 28.9204 (avg 35.6914)\n"
     ]
    },
    {
     "name": "stderr",
     "output_type": "stream",
     "text": [
      "100%|██████████| 38/38 [00:01<00:00, 23.45it/s]\n",
      "100%|██████████| 10/10 [00:00<00:00, 29.14it/s]\n",
      "  0%|          | 0/38 [00:00<?, ?it/s]"
     ]
    },
    {
     "name": "stdout",
     "output_type": "stream",
     "text": [
      "Epoch: 15 (10/10)\n",
      "\tData load time: 0.139 sec\n",
      "\tGeneration time: 0.149 sec\n",
      "\tLog probability: -38.0286 (avg -22.3864)\n",
      "\tKL: 3.8181 (avg 2.5848)\n",
      "\tLoss: 76.2092 (avg 48.2348)\n",
      "Lowest validation loss: 25.1505\n"
     ]
    },
    {
     "name": "stderr",
     "output_type": "stream",
     "text": [
      " 34%|███▍      | 13/38 [00:00<00:01, 14.16it/s]"
     ]
    },
    {
     "name": "stdout",
     "output_type": "stream",
     "text": [
      "Epoch: 16 (10/38)\n",
      "\tData load time: 0.142 sec\n",
      "\tGeneration time: 0.157 sec\n",
      "\tBackprop time: 0.175 sec\n",
      "\tLog probability: -11.8950 (avg -11.3932)\n",
      "\tKL: 2.3520 (avg 2.6629)\n",
      "\tLoss: 35.4148 (avg 38.0220)\n"
     ]
    },
    {
     "name": "stderr",
     "output_type": "stream",
     "text": [
      " 66%|██████▌   | 25/38 [00:01<00:00, 21.61it/s]"
     ]
    },
    {
     "name": "stdout",
     "output_type": "stream",
     "text": [
      "Epoch: 16 (20/38)\n",
      "\tData load time: 0.142 sec\n",
      "\tGeneration time: 0.157 sec\n",
      "\tBackprop time: 0.175 sec\n",
      "\tLog probability: -31.9433 (avg -11.7324)\n",
      "\tKL: 14.5948 (avg 2.8742)\n",
      "\tLoss: 177.8913 (avg 40.4746)\n"
     ]
    },
    {
     "name": "stderr",
     "output_type": "stream",
     "text": [
      " 89%|████████▉ | 34/38 [00:01<00:00, 24.33it/s]"
     ]
    },
    {
     "name": "stdout",
     "output_type": "stream",
     "text": [
      "Epoch: 16 (30/38)\n",
      "\tData load time: 0.142 sec\n",
      "\tGeneration time: 0.157 sec\n",
      "\tBackprop time: 0.175 sec\n",
      "\tLog probability: -22.0902 (avg -12.5910)\n",
      "\tKL: 3.7499 (avg 2.8535)\n",
      "\tLoss: 59.5888 (avg 41.1264)\n"
     ]
    },
    {
     "name": "stderr",
     "output_type": "stream",
     "text": [
      "100%|██████████| 38/38 [00:01<00:00, 23.53it/s]\n",
      "100%|██████████| 10/10 [00:00<00:00, 30.28it/s]\n",
      "  0%|          | 0/38 [00:00<?, ?it/s]"
     ]
    },
    {
     "name": "stdout",
     "output_type": "stream",
     "text": [
      "Epoch: 16 (10/10)\n",
      "\tData load time: 0.136 sec\n",
      "\tGeneration time: 0.147 sec\n",
      "\tLog probability: -10.8888 (avg -14.1645)\n",
      "\tKL: 2.0328 (avg 2.9241)\n",
      "\tLoss: 31.2171 (avg 43.4056)\n",
      "Lowest validation loss: 25.1505\n"
     ]
    },
    {
     "name": "stderr",
     "output_type": "stream",
     "text": [
      " 34%|███▍      | 13/38 [00:00<00:01, 14.05it/s]"
     ]
    },
    {
     "name": "stdout",
     "output_type": "stream",
     "text": [
      "Epoch: 17 (10/38)\n",
      "\tData load time: 0.145 sec\n",
      "\tGeneration time: 0.155 sec\n",
      "\tBackprop time: 0.176 sec\n",
      "\tLog probability: -12.6729 (avg -10.1389)\n",
      "\tKL: 1.8446 (avg 2.1266)\n",
      "\tLoss: 31.1185 (avg 31.4048)\n"
     ]
    },
    {
     "name": "stderr",
     "output_type": "stream",
     "text": [
      " 66%|██████▌   | 25/38 [00:01<00:00, 21.63it/s]"
     ]
    },
    {
     "name": "stdout",
     "output_type": "stream",
     "text": [
      "Epoch: 17 (20/38)\n",
      "\tData load time: 0.145 sec\n",
      "\tGeneration time: 0.155 sec\n",
      "\tBackprop time: 0.176 sec\n",
      "\tLog probability: -9.4008 (avg -11.0229)\n",
      "\tKL: 1.6650 (avg 1.9044)\n",
      "\tLoss: 26.0511 (avg 30.0667)\n"
     ]
    },
    {
     "name": "stderr",
     "output_type": "stream",
     "text": [
      " 89%|████████▉ | 34/38 [00:01<00:00, 24.23it/s]"
     ]
    },
    {
     "name": "stdout",
     "output_type": "stream",
     "text": [
      "Epoch: 17 (30/38)\n",
      "\tData load time: 0.145 sec\n",
      "\tGeneration time: 0.155 sec\n",
      "\tBackprop time: 0.176 sec\n",
      "\tLog probability: -20.8971 (avg -11.0540)\n",
      "\tKL: 1.5790 (avg 1.7880)\n",
      "\tLoss: 36.6871 (avg 28.9337)\n"
     ]
    },
    {
     "name": "stderr",
     "output_type": "stream",
     "text": [
      "100%|██████████| 38/38 [00:01<00:00, 23.49it/s]\n",
      "100%|██████████| 10/10 [00:00<00:00, 29.19it/s]\n",
      "  0%|          | 0/38 [00:00<?, ?it/s]"
     ]
    },
    {
     "name": "stdout",
     "output_type": "stream",
     "text": [
      "Epoch: 17 (10/10)\n",
      "\tData load time: 0.148 sec\n",
      "\tGeneration time: 0.157 sec\n",
      "\tLog probability: -24.5450 (avg -17.0437)\n",
      "\tKL: 3.8201 (avg 3.7427)\n",
      "\tLoss: 62.7457 (avg 54.4704)\n",
      "Lowest validation loss: 25.1505\n"
     ]
    },
    {
     "name": "stderr",
     "output_type": "stream",
     "text": [
      " 34%|███▍      | 13/38 [00:00<00:01, 13.90it/s]"
     ]
    },
    {
     "name": "stdout",
     "output_type": "stream",
     "text": [
      "Epoch: 18 (10/38)\n",
      "\tData load time: 0.147 sec\n",
      "\tGeneration time: 0.157 sec\n",
      "\tBackprop time: 0.179 sec\n",
      "\tLog probability: -6.6738 (avg -12.2262)\n",
      "\tKL: 3.1002 (avg 3.9250)\n",
      "\tLoss: 37.6755 (avg 51.4761)\n"
     ]
    },
    {
     "name": "stderr",
     "output_type": "stream",
     "text": [
      " 66%|██████▌   | 25/38 [00:01<00:00, 21.33it/s]"
     ]
    },
    {
     "name": "stdout",
     "output_type": "stream",
     "text": [
      "Epoch: 18 (20/38)\n",
      "\tData load time: 0.147 sec\n",
      "\tGeneration time: 0.157 sec\n",
      "\tBackprop time: 0.179 sec\n",
      "\tLog probability: -9.8635 (avg -11.3579)\n",
      "\tKL: 2.0360 (avg 3.2840)\n",
      "\tLoss: 30.2234 (avg 44.1975)\n"
     ]
    },
    {
     "name": "stderr",
     "output_type": "stream",
     "text": [
      " 89%|████████▉ | 34/38 [00:01<00:00, 24.13it/s]"
     ]
    },
    {
     "name": "stdout",
     "output_type": "stream",
     "text": [
      "Epoch: 18 (30/38)\n",
      "\tData load time: 0.147 sec\n",
      "\tGeneration time: 0.157 sec\n",
      "\tBackprop time: 0.179 sec\n",
      "\tLog probability: -6.0208 (avg -11.8727)\n",
      "\tKL: 2.1099 (avg 2.8436)\n",
      "\tLoss: 27.1197 (avg 40.3086)\n"
     ]
    },
    {
     "name": "stderr",
     "output_type": "stream",
     "text": [
      "100%|██████████| 38/38 [00:01<00:00, 23.31it/s]\n",
      "100%|██████████| 10/10 [00:00<00:00, 30.86it/s]\n",
      "  0%|          | 0/38 [00:00<?, ?it/s]"
     ]
    },
    {
     "name": "stdout",
     "output_type": "stream",
     "text": [
      "Epoch: 18 (10/10)\n",
      "\tData load time: 0.135 sec\n",
      "\tGeneration time: 0.145 sec\n",
      "\tLog probability: -9.8312 (avg -10.3883)\n",
      "\tKL: 2.2336 (avg 2.1179)\n",
      "\tLoss: 32.1669 (avg 31.5669)\n",
      "Lowest validation loss: 25.1505\n"
     ]
    },
    {
     "name": "stderr",
     "output_type": "stream",
     "text": [
      " 34%|███▍      | 13/38 [00:00<00:01, 13.83it/s]"
     ]
    },
    {
     "name": "stdout",
     "output_type": "stream",
     "text": [
      "Epoch: 19 (10/38)\n",
      "\tData load time: 0.148 sec\n",
      "\tGeneration time: 0.159 sec\n",
      "\tBackprop time: 0.181 sec\n",
      "\tLog probability: -9.3741 (avg -8.1103)\n",
      "\tKL: 1.5736 (avg 1.7842)\n",
      "\tLoss: 25.1105 (avg 25.9520)\n"
     ]
    },
    {
     "name": "stderr",
     "output_type": "stream",
     "text": [
      " 66%|██████▌   | 25/38 [00:01<00:00, 21.51it/s]"
     ]
    },
    {
     "name": "stdout",
     "output_type": "stream",
     "text": [
      "Epoch: 19 (20/38)\n",
      "\tData load time: 0.148 sec\n",
      "\tGeneration time: 0.159 sec\n",
      "\tBackprop time: 0.181 sec\n",
      "\tLog probability: -7.6122 (avg -9.2828)\n",
      "\tKL: 1.5505 (avg 1.7111)\n",
      "\tLoss: 23.1174 (avg 26.3942)\n"
     ]
    },
    {
     "name": "stderr",
     "output_type": "stream",
     "text": [
      " 89%|████████▉ | 34/38 [00:01<00:00, 24.22it/s]"
     ]
    },
    {
     "name": "stdout",
     "output_type": "stream",
     "text": [
      "Epoch: 19 (30/38)\n",
      "\tData load time: 0.148 sec\n",
      "\tGeneration time: 0.159 sec\n",
      "\tBackprop time: 0.181 sec\n",
      "\tLog probability: -17.1254 (avg -10.0429)\n",
      "\tKL: 1.2218 (avg 1.6277)\n",
      "\tLoss: 29.3437 (avg 26.3196)\n"
     ]
    },
    {
     "name": "stderr",
     "output_type": "stream",
     "text": [
      "100%|██████████| 38/38 [00:01<00:00, 23.46it/s]\n",
      "100%|██████████| 10/10 [00:00<00:00, 29.86it/s]\n"
     ]
    },
    {
     "name": "stdout",
     "output_type": "stream",
     "text": [
      "Epoch: 19 (10/10)\n",
      "\tData load time: 0.143 sec\n",
      "\tGeneration time: 0.154 sec\n",
      "\tLog probability: -8.3504 (avg -6.6323)\n",
      "\tKL: 1.6126 (avg 1.3516)\n",
      "\tLoss: 24.4762 (avg 20.1482)\n",
      "Saving checkpoint..\n"
     ]
    },
    {
     "name": "stderr",
     "output_type": "stream",
     "text": [
      "  0%|          | 0/38 [00:00<?, ?it/s]"
     ]
    },
    {
     "name": "stdout",
     "output_type": "stream",
     "text": [
      "Lowest validation loss: 20.1482\n"
     ]
    },
    {
     "name": "stderr",
     "output_type": "stream",
     "text": [
      " 34%|███▍      | 13/38 [00:00<00:01, 13.83it/s]"
     ]
    },
    {
     "name": "stdout",
     "output_type": "stream",
     "text": [
      "Epoch: 20 (10/38)\n",
      "\tData load time: 0.150 sec\n",
      "\tGeneration time: 0.160 sec\n",
      "\tBackprop time: 0.181 sec\n",
      "\tLog probability: -6.4302 (avg -8.9478)\n",
      "\tKL: 1.0344 (avg 1.2152)\n",
      "\tLoss: 16.7743 (avg 21.1002)\n"
     ]
    },
    {
     "name": "stderr",
     "output_type": "stream",
     "text": [
      " 66%|██████▌   | 25/38 [00:01<00:00, 21.38it/s]"
     ]
    },
    {
     "name": "stdout",
     "output_type": "stream",
     "text": [
      "Epoch: 20 (20/38)\n",
      "\tData load time: 0.150 sec\n",
      "\tGeneration time: 0.160 sec\n",
      "\tBackprop time: 0.181 sec\n",
      "\tLog probability: -26.9302 (avg -10.5021)\n",
      "\tKL: 1.6826 (avg 1.2530)\n",
      "\tLoss: 43.7564 (avg 23.0326)\n"
     ]
    },
    {
     "name": "stderr",
     "output_type": "stream",
     "text": [
      " 89%|████████▉ | 34/38 [00:01<00:00, 24.27it/s]"
     ]
    },
    {
     "name": "stdout",
     "output_type": "stream",
     "text": [
      "Epoch: 20 (30/38)\n",
      "\tData load time: 0.150 sec\n",
      "\tGeneration time: 0.160 sec\n",
      "\tBackprop time: 0.181 sec\n",
      "\tLog probability: -14.3374 (avg -10.0267)\n",
      "\tKL: 1.1674 (avg 1.2420)\n",
      "\tLoss: 26.0111 (avg 22.4470)\n"
     ]
    },
    {
     "name": "stderr",
     "output_type": "stream",
     "text": [
      "100%|██████████| 38/38 [00:01<00:00, 23.40it/s]\n",
      "100%|██████████| 10/10 [00:00<00:00, 30.09it/s]\n",
      "  0%|          | 0/38 [00:00<?, ?it/s]"
     ]
    },
    {
     "name": "stdout",
     "output_type": "stream",
     "text": [
      "Epoch: 20 (10/10)\n",
      "\tData load time: 0.141 sec\n",
      "\tGeneration time: 0.152 sec\n",
      "\tLog probability: -13.7290 (avg -13.2481)\n",
      "\tKL: 2.4270 (avg 2.9735)\n",
      "\tLoss: 37.9986 (avg 42.9835)\n",
      "Lowest validation loss: 20.1482\n"
     ]
    },
    {
     "name": "stderr",
     "output_type": "stream",
     "text": [
      " 34%|███▍      | 13/38 [00:00<00:01, 14.08it/s]"
     ]
    },
    {
     "name": "stdout",
     "output_type": "stream",
     "text": [
      "Epoch: 21 (10/38)\n",
      "\tData load time: 0.145 sec\n",
      "\tGeneration time: 0.155 sec\n",
      "\tBackprop time: 0.177 sec\n",
      "\tLog probability: -20.5934 (avg -21.4466)\n",
      "\tKL: 28.7379 (avg 18.9680)\n",
      "\tLoss: 307.9719 (avg 211.1270)\n"
     ]
    },
    {
     "name": "stderr",
     "output_type": "stream",
     "text": [
      " 66%|██████▌   | 25/38 [00:01<00:00, 21.59it/s]"
     ]
    },
    {
     "name": "stdout",
     "output_type": "stream",
     "text": [
      "Epoch: 21 (20/38)\n",
      "\tData load time: 0.145 sec\n",
      "\tGeneration time: 0.155 sec\n",
      "\tBackprop time: 0.177 sec\n",
      "\tLog probability: -9.9638 (avg -18.2566)\n",
      "\tKL: 25.7996 (avg 23.8073)\n",
      "\tLoss: 267.9595 (avg 256.3301)\n"
     ]
    },
    {
     "name": "stderr",
     "output_type": "stream",
     "text": [
      " 89%|████████▉ | 34/38 [00:01<00:00, 24.22it/s]"
     ]
    },
    {
     "name": "stdout",
     "output_type": "stream",
     "text": [
      "Epoch: 21 (30/38)\n",
      "\tData load time: 0.145 sec\n",
      "\tGeneration time: 0.155 sec\n",
      "\tBackprop time: 0.177 sec\n",
      "\tLog probability: -15.8247 (avg -19.5318)\n",
      "\tKL: 15.0307 (avg 21.9824)\n",
      "\tLoss: 166.1321 (avg 239.3553)\n"
     ]
    },
    {
     "name": "stderr",
     "output_type": "stream",
     "text": [
      "100%|██████████| 38/38 [00:01<00:00, 23.50it/s]\n",
      "100%|██████████| 10/10 [00:00<00:00, 29.98it/s]\n",
      "  0%|          | 0/38 [00:00<?, ?it/s]"
     ]
    },
    {
     "name": "stdout",
     "output_type": "stream",
     "text": [
      "Epoch: 21 (10/10)\n",
      "\tData load time: 0.143 sec\n",
      "\tGeneration time: 0.155 sec\n",
      "\tLog probability: -23.5573 (avg -18.2082)\n",
      "\tKL: 13.9615 (avg 12.3106)\n",
      "\tLoss: 163.1727 (avg 141.3141)\n",
      "Lowest validation loss: 20.1482\n"
     ]
    },
    {
     "name": "stderr",
     "output_type": "stream",
     "text": [
      " 34%|███▍      | 13/38 [00:00<00:01, 13.77it/s]"
     ]
    },
    {
     "name": "stdout",
     "output_type": "stream",
     "text": [
      "Epoch: 22 (10/38)\n",
      "\tData load time: 0.151 sec\n",
      "\tGeneration time: 0.161 sec\n",
      "\tBackprop time: 0.182 sec\n",
      "\tLog probability: -6.6929 (avg -11.4435)\n",
      "\tKL: 7.8496 (avg 9.0160)\n",
      "\tLoss: 85.1890 (avg 101.6030)\n"
     ]
    },
    {
     "name": "stderr",
     "output_type": "stream",
     "text": [
      " 66%|██████▌   | 25/38 [00:01<00:00, 21.38it/s]"
     ]
    },
    {
     "name": "stdout",
     "output_type": "stream",
     "text": [
      "Epoch: 22 (20/38)\n",
      "\tData load time: 0.151 sec\n",
      "\tGeneration time: 0.161 sec\n",
      "\tBackprop time: 0.182 sec\n",
      "\tLog probability: -6.5848 (avg -11.3781)\n",
      "\tKL: 5.7349 (avg 7.8243)\n",
      "\tLoss: 63.9336 (avg 89.6213)\n"
     ]
    },
    {
     "name": "stderr",
     "output_type": "stream",
     "text": [
      " 89%|████████▉ | 34/38 [00:01<00:00, 24.13it/s]"
     ]
    },
    {
     "name": "stdout",
     "output_type": "stream",
     "text": [
      "Epoch: 22 (30/38)\n",
      "\tData load time: 0.151 sec\n",
      "\tGeneration time: 0.161 sec\n",
      "\tBackprop time: 0.182 sec\n",
      "\tLog probability: -9.8736 (avg -10.6965)\n",
      "\tKL: 4.6144 (avg 6.9040)\n",
      "\tLoss: 56.0177 (avg 79.7368)\n"
     ]
    },
    {
     "name": "stderr",
     "output_type": "stream",
     "text": [
      "100%|██████████| 38/38 [00:01<00:00, 23.31it/s]\n",
      "100%|██████████| 10/10 [00:00<00:00, 30.08it/s]\n",
      "  0%|          | 0/38 [00:00<?, ?it/s]"
     ]
    },
    {
     "name": "stdout",
     "output_type": "stream",
     "text": [
      "Epoch: 22 (10/10)\n",
      "\tData load time: 0.141 sec\n",
      "\tGeneration time: 0.151 sec\n",
      "\tLog probability: -6.6464 (avg -8.5416)\n",
      "\tKL: 6.1923 (avg 4.3063)\n",
      "\tLoss: 68.5697 (avg 51.6050)\n",
      "Lowest validation loss: 20.1482\n"
     ]
    },
    {
     "name": "stderr",
     "output_type": "stream",
     "text": [
      " 34%|███▍      | 13/38 [00:00<00:01, 14.12it/s]"
     ]
    },
    {
     "name": "stdout",
     "output_type": "stream",
     "text": [
      "Epoch: 23 (10/38)\n",
      "\tData load time: 0.141 sec\n",
      "\tGeneration time: 0.155 sec\n",
      "\tBackprop time: 0.175 sec\n",
      "\tLog probability: -10.4400 (avg -18.3469)\n",
      "\tKL: 5.2376 (avg 4.8589)\n",
      "\tLoss: 62.8165 (avg 66.9362)\n"
     ]
    },
    {
     "name": "stderr",
     "output_type": "stream",
     "text": [
      " 66%|██████▌   | 25/38 [00:01<00:00, 21.49it/s]"
     ]
    },
    {
     "name": "stdout",
     "output_type": "stream",
     "text": [
      "Epoch: 23 (20/38)\n",
      "\tData load time: 0.141 sec\n",
      "\tGeneration time: 0.155 sec\n",
      "\tBackprop time: 0.175 sec\n",
      "\tLog probability: -22.7282 (avg -18.0541)\n",
      "\tKL: 4.5956 (avg 4.9026)\n",
      "\tLoss: 68.6841 (avg 67.0802)\n"
     ]
    },
    {
     "name": "stderr",
     "output_type": "stream",
     "text": [
      " 89%|████████▉ | 34/38 [00:01<00:00, 24.29it/s]"
     ]
    },
    {
     "name": "stdout",
     "output_type": "stream",
     "text": [
      "Epoch: 23 (30/38)\n",
      "\tData load time: 0.141 sec\n",
      "\tGeneration time: 0.155 sec\n",
      "\tBackprop time: 0.175 sec\n",
      "\tLog probability: -9.7915 (avg -15.9080)\n",
      "\tKL: 3.2354 (avg 4.4935)\n",
      "\tLoss: 42.1453 (avg 60.8426)\n"
     ]
    },
    {
     "name": "stderr",
     "output_type": "stream",
     "text": [
      "100%|██████████| 38/38 [00:01<00:00, 23.45it/s]\n",
      "100%|██████████| 10/10 [00:00<00:00, 30.13it/s]\n",
      "  0%|          | 0/38 [00:00<?, ?it/s]"
     ]
    },
    {
     "name": "stdout",
     "output_type": "stream",
     "text": [
      "Epoch: 23 (10/10)\n",
      "\tData load time: 0.138 sec\n",
      "\tGeneration time: 0.150 sec\n",
      "\tLog probability: -5.7059 (avg -7.0942)\n",
      "\tKL: 3.5774 (avg 3.0590)\n",
      "\tLoss: 41.4794 (avg 37.6840)\n",
      "Lowest validation loss: 20.1482\n"
     ]
    },
    {
     "name": "stderr",
     "output_type": "stream",
     "text": [
      " 34%|███▍      | 13/38 [00:00<00:01, 13.89it/s]"
     ]
    },
    {
     "name": "stdout",
     "output_type": "stream",
     "text": [
      "Epoch: 24 (10/38)\n",
      "\tData load time: 0.146 sec\n",
      "\tGeneration time: 0.162 sec\n",
      "\tBackprop time: 0.180 sec\n",
      "\tLog probability: -8.1598 (avg -10.9457)\n",
      "\tKL: 3.0510 (avg 2.8899)\n",
      "\tLoss: 38.6703 (avg 39.8443)\n"
     ]
    },
    {
     "name": "stderr",
     "output_type": "stream",
     "text": [
      " 66%|██████▌   | 25/38 [00:01<00:00, 21.45it/s]"
     ]
    },
    {
     "name": "stdout",
     "output_type": "stream",
     "text": [
      "Epoch: 24 (20/38)\n",
      "\tData load time: 0.146 sec\n",
      "\tGeneration time: 0.162 sec\n",
      "\tBackprop time: 0.180 sec\n",
      "\tLog probability: -5.0602 (avg -10.2072)\n",
      "\tKL: 2.3329 (avg 2.7962)\n",
      "\tLoss: 28.3889 (avg 38.1692)\n"
     ]
    },
    {
     "name": "stderr",
     "output_type": "stream",
     "text": [
      " 89%|████████▉ | 34/38 [00:01<00:00, 24.22it/s]"
     ]
    },
    {
     "name": "stdout",
     "output_type": "stream",
     "text": [
      "Epoch: 24 (30/38)\n",
      "\tData load time: 0.146 sec\n",
      "\tGeneration time: 0.162 sec\n",
      "\tBackprop time: 0.180 sec\n",
      "\tLog probability: -29.7613 (avg -10.6502)\n",
      "\tKL: 1.9374 (avg 2.5891)\n",
      "\tLoss: 49.1352 (avg 36.5409)\n"
     ]
    },
    {
     "name": "stderr",
     "output_type": "stream",
     "text": [
      "100%|██████████| 38/38 [00:01<00:00, 23.43it/s]\n",
      "100%|██████████| 10/10 [00:00<00:00, 30.14it/s]\n",
      "  0%|          | 0/38 [00:00<?, ?it/s]"
     ]
    },
    {
     "name": "stdout",
     "output_type": "stream",
     "text": [
      "Epoch: 24 (10/10)\n",
      "\tData load time: 0.141 sec\n",
      "\tGeneration time: 0.150 sec\n",
      "\tLog probability: -4.5022 (avg -6.1117)\n",
      "\tKL: 3.4193 (avg 2.7952)\n",
      "\tLoss: 38.6951 (avg 34.0638)\n",
      "Lowest validation loss: 20.1482\n"
     ]
    },
    {
     "name": "stderr",
     "output_type": "stream",
     "text": [
      " 34%|███▍      | 13/38 [00:00<00:01, 14.40it/s]"
     ]
    },
    {
     "name": "stdout",
     "output_type": "stream",
     "text": [
      "Epoch: 25 (10/38)\n",
      "\tData load time: 0.136 sec\n",
      "\tGeneration time: 0.149 sec\n",
      "\tBackprop time: 0.168 sec\n",
      "\tLog probability: -5.1053 (avg -6.9975)\n",
      "\tKL: 2.1403 (avg 2.4087)\n",
      "\tLoss: 26.5087 (avg 31.0845)\n"
     ]
    },
    {
     "name": "stderr",
     "output_type": "stream",
     "text": [
      " 66%|██████▌   | 25/38 [00:01<00:00, 21.69it/s]"
     ]
    },
    {
     "name": "stdout",
     "output_type": "stream",
     "text": [
      "Epoch: 25 (20/38)\n",
      "\tData load time: 0.136 sec\n",
      "\tGeneration time: 0.149 sec\n",
      "\tBackprop time: 0.168 sec\n",
      "\tLog probability: -6.0506 (avg -7.6351)\n",
      "\tKL: 1.9689 (avg 2.2057)\n",
      "\tLoss: 25.7399 (avg 29.6920)\n"
     ]
    },
    {
     "name": "stderr",
     "output_type": "stream",
     "text": [
      " 89%|████████▉ | 34/38 [00:01<00:00, 24.39it/s]"
     ]
    },
    {
     "name": "stdout",
     "output_type": "stream",
     "text": [
      "Epoch: 25 (30/38)\n",
      "\tData load time: 0.136 sec\n",
      "\tGeneration time: 0.149 sec\n",
      "\tBackprop time: 0.168 sec\n",
      "\tLog probability: -4.7850 (avg -7.5944)\n",
      "\tKL: 1.6935 (avg 2.0757)\n",
      "\tLoss: 21.7204 (avg 28.3513)\n"
     ]
    },
    {
     "name": "stderr",
     "output_type": "stream",
     "text": [
      "100%|██████████| 38/38 [00:01<00:00, 23.53it/s]\n",
      "100%|██████████| 10/10 [00:00<00:00, 29.94it/s]\n",
      "  0%|          | 0/38 [00:00<?, ?it/s]"
     ]
    },
    {
     "name": "stdout",
     "output_type": "stream",
     "text": [
      "Epoch: 25 (10/10)\n",
      "\tData load time: 0.141 sec\n",
      "\tGeneration time: 0.153 sec\n",
      "\tLog probability: -4.0842 (avg -5.1827)\n",
      "\tKL: 1.8802 (avg 1.8181)\n",
      "\tLoss: 22.8860 (avg 23.3635)\n",
      "Lowest validation loss: 20.1482\n"
     ]
    },
    {
     "name": "stderr",
     "output_type": "stream",
     "text": [
      " 34%|███▍      | 13/38 [00:00<00:01, 14.42it/s]"
     ]
    },
    {
     "name": "stdout",
     "output_type": "stream",
     "text": [
      "Epoch: 26 (10/38)\n",
      "\tData load time: 0.129 sec\n",
      "\tGeneration time: 0.143 sec\n",
      "\tBackprop time: 0.170 sec\n",
      "\tLog probability: -8.5167 (avg -8.4052)\n",
      "\tKL: 1.6454 (avg 1.6960)\n",
      "\tLoss: 24.9702 (avg 25.3651)\n"
     ]
    },
    {
     "name": "stderr",
     "output_type": "stream",
     "text": [
      " 66%|██████▌   | 25/38 [00:01<00:00, 21.79it/s]"
     ]
    },
    {
     "name": "stdout",
     "output_type": "stream",
     "text": [
      "Epoch: 26 (20/38)\n",
      "\tData load time: 0.129 sec\n",
      "\tGeneration time: 0.143 sec\n",
      "\tBackprop time: 0.170 sec\n",
      "\tLog probability: -6.3711 (avg -7.5927)\n",
      "\tKL: 1.4127 (avg 1.6300)\n",
      "\tLoss: 20.4982 (avg 23.8923)\n"
     ]
    },
    {
     "name": "stderr",
     "output_type": "stream",
     "text": [
      " 89%|████████▉ | 34/38 [00:01<00:00, 24.41it/s]"
     ]
    },
    {
     "name": "stdout",
     "output_type": "stream",
     "text": [
      "Epoch: 26 (30/38)\n",
      "\tData load time: 0.129 sec\n",
      "\tGeneration time: 0.143 sec\n",
      "\tBackprop time: 0.170 sec\n",
      "\tLog probability: -6.1996 (avg -7.3051)\n",
      "\tKL: 1.6364 (avg 1.6009)\n",
      "\tLoss: 22.5640 (avg 23.3142)\n"
     ]
    },
    {
     "name": "stderr",
     "output_type": "stream",
     "text": [
      "100%|██████████| 38/38 [00:01<00:00, 23.65it/s]\n",
      "100%|██████████| 10/10 [00:00<00:00, 30.56it/s]\n",
      "  0%|          | 0/38 [00:00<?, ?it/s]"
     ]
    },
    {
     "name": "stdout",
     "output_type": "stream",
     "text": [
      "Epoch: 26 (10/10)\n",
      "\tData load time: 0.135 sec\n",
      "\tGeneration time: 0.147 sec\n",
      "\tLog probability: -3.8334 (avg -4.1724)\n",
      "\tKL: 1.3124 (avg 1.8234)\n",
      "\tLoss: 16.9573 (avg 22.4067)\n",
      "Lowest validation loss: 20.1482\n"
     ]
    },
    {
     "name": "stderr",
     "output_type": "stream",
     "text": [
      " 34%|███▍      | 13/38 [00:00<00:01, 13.93it/s]"
     ]
    },
    {
     "name": "stdout",
     "output_type": "stream",
     "text": [
      "Epoch: 27 (10/38)\n",
      "\tData load time: 0.148 sec\n",
      "\tGeneration time: 0.158 sec\n",
      "\tBackprop time: 0.179 sec\n",
      "\tLog probability: -9.8590 (avg -7.0313)\n",
      "\tKL: 1.8413 (avg 1.7608)\n",
      "\tLoss: 28.2721 (avg 24.6396)\n"
     ]
    },
    {
     "name": "stderr",
     "output_type": "stream",
     "text": [
      " 66%|██████▌   | 25/38 [00:01<00:00, 21.43it/s]"
     ]
    },
    {
     "name": "stdout",
     "output_type": "stream",
     "text": [
      "Epoch: 27 (20/38)\n",
      "\tData load time: 0.148 sec\n",
      "\tGeneration time: 0.158 sec\n",
      "\tBackprop time: 0.179 sec\n",
      "\tLog probability: -7.9240 (avg -7.0958)\n",
      "\tKL: 1.4695 (avg 1.6943)\n",
      "\tLoss: 22.6191 (avg 24.0391)\n"
     ]
    },
    {
     "name": "stderr",
     "output_type": "stream",
     "text": [
      " 89%|████████▉ | 34/38 [00:01<00:00, 24.13it/s]"
     ]
    },
    {
     "name": "stdout",
     "output_type": "stream",
     "text": [
      "Epoch: 27 (30/38)\n",
      "\tData load time: 0.148 sec\n",
      "\tGeneration time: 0.158 sec\n",
      "\tBackprop time: 0.179 sec\n",
      "\tLog probability: -7.4354 (avg -7.0166)\n",
      "\tKL: 1.3701 (avg 1.6311)\n",
      "\tLoss: 21.1360 (avg 23.3280)\n"
     ]
    },
    {
     "name": "stderr",
     "output_type": "stream",
     "text": [
      "100%|██████████| 38/38 [00:01<00:00, 23.35it/s]\n",
      "100%|██████████| 10/10 [00:00<00:00, 28.94it/s]\n"
     ]
    },
    {
     "name": "stdout",
     "output_type": "stream",
     "text": [
      "Epoch: 27 (10/10)\n",
      "\tData load time: 0.145 sec\n",
      "\tGeneration time: 0.154 sec\n",
      "\tLog probability: -4.0991 (avg -4.3689)\n",
      "\tKL: 1.6826 (avg 1.4677)\n",
      "\tLoss: 20.9256 (avg 19.0457)\n",
      "Saving checkpoint..\n"
     ]
    },
    {
     "name": "stderr",
     "output_type": "stream",
     "text": [
      "  0%|          | 0/38 [00:00<?, ?it/s]"
     ]
    },
    {
     "name": "stdout",
     "output_type": "stream",
     "text": [
      "Lowest validation loss: 19.0457\n"
     ]
    },
    {
     "name": "stderr",
     "output_type": "stream",
     "text": [
      " 34%|███▍      | 13/38 [00:00<00:01, 13.79it/s]"
     ]
    },
    {
     "name": "stdout",
     "output_type": "stream",
     "text": [
      "Epoch: 28 (10/38)\n",
      "\tData load time: 0.149 sec\n",
      "\tGeneration time: 0.163 sec\n",
      "\tBackprop time: 0.182 sec\n",
      "\tLog probability: -3.5506 (avg -6.2403)\n",
      "\tKL: 1.2540 (avg 1.3623)\n",
      "\tLoss: 16.0904 (avg 19.8636)\n"
     ]
    },
    {
     "name": "stderr",
     "output_type": "stream",
     "text": [
      " 66%|██████▌   | 25/38 [00:01<00:00, 21.42it/s]"
     ]
    },
    {
     "name": "stdout",
     "output_type": "stream",
     "text": [
      "Epoch: 28 (20/38)\n",
      "\tData load time: 0.149 sec\n",
      "\tGeneration time: 0.163 sec\n",
      "\tBackprop time: 0.182 sec\n",
      "\tLog probability: -4.5878 (avg -6.9542)\n",
      "\tKL: 1.2552 (avg 1.3631)\n",
      "\tLoss: 17.1393 (avg 20.5848)\n"
     ]
    },
    {
     "name": "stderr",
     "output_type": "stream",
     "text": [
      " 89%|████████▉ | 34/38 [00:01<00:00, 24.15it/s]"
     ]
    },
    {
     "name": "stdout",
     "output_type": "stream",
     "text": [
      "Epoch: 28 (30/38)\n",
      "\tData load time: 0.149 sec\n",
      "\tGeneration time: 0.163 sec\n",
      "\tBackprop time: 0.182 sec\n",
      "\tLog probability: -7.4362 (avg -7.0254)\n",
      "\tKL: 1.3615 (avg 1.3594)\n",
      "\tLoss: 21.0512 (avg 20.6191)\n"
     ]
    },
    {
     "name": "stderr",
     "output_type": "stream",
     "text": [
      "100%|██████████| 38/38 [00:01<00:00, 23.35it/s]\n",
      "100%|██████████| 10/10 [00:00<00:00, 31.65it/s]\n"
     ]
    },
    {
     "name": "stdout",
     "output_type": "stream",
     "text": [
      "Epoch: 28 (10/10)\n",
      "\tData load time: 0.124 sec\n",
      "\tGeneration time: 0.135 sec\n",
      "\tLog probability: -2.4713 (avg -4.0096)\n",
      "\tKL: 0.8334 (avg 1.1606)\n",
      "\tLoss: 10.8057 (avg 15.6161)\n",
      "Saving checkpoint..\n"
     ]
    },
    {
     "name": "stderr",
     "output_type": "stream",
     "text": [
      "  0%|          | 0/38 [00:00<?, ?it/s]"
     ]
    },
    {
     "name": "stdout",
     "output_type": "stream",
     "text": [
      "Lowest validation loss: 15.6161\n"
     ]
    },
    {
     "name": "stderr",
     "output_type": "stream",
     "text": [
      " 34%|███▍      | 13/38 [00:00<00:01, 14.15it/s]"
     ]
    },
    {
     "name": "stdout",
     "output_type": "stream",
     "text": [
      "Epoch: 29 (10/38)\n",
      "\tData load time: 0.137 sec\n",
      "\tGeneration time: 0.151 sec\n",
      "\tBackprop time: 0.174 sec\n",
      "\tLog probability: -7.7351 (avg -8.9182)\n",
      "\tKL: 2.1013 (avg 1.5016)\n",
      "\tLoss: 28.7482 (avg 23.9345)\n"
     ]
    },
    {
     "name": "stderr",
     "output_type": "stream",
     "text": [
      " 66%|██████▌   | 25/38 [00:01<00:00, 21.53it/s]"
     ]
    },
    {
     "name": "stdout",
     "output_type": "stream",
     "text": [
      "Epoch: 29 (20/38)\n",
      "\tData load time: 0.137 sec\n",
      "\tGeneration time: 0.151 sec\n",
      "\tBackprop time: 0.174 sec\n",
      "\tLog probability: -7.2509 (avg -8.6905)\n",
      "\tKL: 2.3402 (avg 1.9609)\n",
      "\tLoss: 30.6531 (avg 28.2993)\n"
     ]
    },
    {
     "name": "stderr",
     "output_type": "stream",
     "text": [
      " 89%|████████▉ | 34/38 [00:01<00:00, 24.21it/s]"
     ]
    },
    {
     "name": "stdout",
     "output_type": "stream",
     "text": [
      "Epoch: 29 (30/38)\n",
      "\tData load time: 0.137 sec\n",
      "\tGeneration time: 0.151 sec\n",
      "\tBackprop time: 0.174 sec\n",
      "\tLog probability: -4.5690 (avg -8.0778)\n",
      "\tKL: 1.6509 (avg 1.9418)\n",
      "\tLoss: 21.0776 (avg 27.4955)\n"
     ]
    },
    {
     "name": "stderr",
     "output_type": "stream",
     "text": [
      "100%|██████████| 38/38 [00:01<00:00, 23.45it/s]\n",
      "100%|██████████| 10/10 [00:00<00:00, 30.46it/s]\n",
      "  0%|          | 0/38 [00:00<?, ?it/s]"
     ]
    },
    {
     "name": "stdout",
     "output_type": "stream",
     "text": [
      "Epoch: 29 (10/10)\n",
      "\tData load time: 0.122 sec\n",
      "\tGeneration time: 0.133 sec\n",
      "\tLog probability: -4.7309 (avg -9.4329)\n",
      "\tKL: 1.2414 (avg 1.6523)\n",
      "\tLoss: 17.1445 (avg 25.9557)\n",
      "Lowest validation loss: 15.6161\n"
     ]
    },
    {
     "name": "stderr",
     "output_type": "stream",
     "text": [
      " 34%|███▍      | 13/38 [00:00<00:01, 15.04it/s]"
     ]
    },
    {
     "name": "stdout",
     "output_type": "stream",
     "text": [
      "Epoch: 30 (10/38)\n",
      "\tData load time: 0.118 sec\n",
      "\tGeneration time: 0.139 sec\n",
      "\tBackprop time: 0.158 sec\n",
      "\tLog probability: -10.0542 (avg -17.5938)\n",
      "\tKL: 3.1049 (avg 2.6248)\n",
      "\tLoss: 41.1031 (avg 43.8419)\n"
     ]
    },
    {
     "name": "stderr",
     "output_type": "stream",
     "text": [
      " 66%|██████▌   | 25/38 [00:01<00:00, 22.04it/s]"
     ]
    },
    {
     "name": "stdout",
     "output_type": "stream",
     "text": [
      "Epoch: 30 (20/38)\n",
      "\tData load time: 0.118 sec\n",
      "\tGeneration time: 0.139 sec\n",
      "\tBackprop time: 0.158 sec\n",
      "\tLog probability: -3.9924 (avg -11.8632)\n",
      "\tKL: 2.5584 (avg 2.8242)\n",
      "\tLoss: 29.5765 (avg 40.1056)\n"
     ]
    },
    {
     "name": "stderr",
     "output_type": "stream",
     "text": [
      " 89%|████████▉ | 34/38 [00:01<00:00, 24.46it/s]"
     ]
    },
    {
     "name": "stdout",
     "output_type": "stream",
     "text": [
      "Epoch: 30 (30/38)\n",
      "\tData load time: 0.118 sec\n",
      "\tGeneration time: 0.139 sec\n",
      "\tBackprop time: 0.158 sec\n",
      "\tLog probability: -8.6523 (avg -10.1740)\n",
      "\tKL: 2.2919 (avg 2.7348)\n",
      "\tLoss: 31.5713 (avg 37.5222)\n"
     ]
    },
    {
     "name": "stderr",
     "output_type": "stream",
     "text": [
      "100%|██████████| 38/38 [00:01<00:00, 23.76it/s]\n",
      "100%|██████████| 10/10 [00:00<00:00, 30.52it/s]\n",
      "  0%|          | 0/38 [00:00<?, ?it/s]"
     ]
    },
    {
     "name": "stdout",
     "output_type": "stream",
     "text": [
      "Epoch: 30 (10/10)\n",
      "\tData load time: 0.137 sec\n",
      "\tGeneration time: 0.146 sec\n",
      "\tLog probability: -4.5331 (avg -11.9051)\n",
      "\tKL: 1.9334 (avg 1.8594)\n",
      "\tLoss: 23.8666 (avg 30.4989)\n",
      "Lowest validation loss: 15.6161\n"
     ]
    },
    {
     "name": "stderr",
     "output_type": "stream",
     "text": [
      " 34%|███▍      | 13/38 [00:00<00:01, 14.09it/s]"
     ]
    },
    {
     "name": "stdout",
     "output_type": "stream",
     "text": [
      "Epoch: 31 (10/38)\n",
      "\tData load time: 0.143 sec\n",
      "\tGeneration time: 0.153 sec\n",
      "\tBackprop time: 0.175 sec\n",
      "\tLog probability: -11.3105 (avg -11.4273)\n",
      "\tKL: 4.0112 (avg 3.5247)\n",
      "\tLoss: 51.4230 (avg 46.6745)\n"
     ]
    },
    {
     "name": "stderr",
     "output_type": "stream",
     "text": [
      " 66%|██████▌   | 25/38 [00:01<00:00, 21.55it/s]"
     ]
    },
    {
     "name": "stdout",
     "output_type": "stream",
     "text": [
      "Epoch: 31 (20/38)\n",
      "\tData load time: 0.143 sec\n",
      "\tGeneration time: 0.153 sec\n",
      "\tBackprop time: 0.175 sec\n",
      "\tLog probability: -7.9977 (avg -10.3679)\n",
      "\tKL: 3.1659 (avg 3.4342)\n",
      "\tLoss: 39.6565 (avg 44.7103)\n"
     ]
    },
    {
     "name": "stderr",
     "output_type": "stream",
     "text": [
      " 89%|████████▉ | 34/38 [00:01<00:00, 24.21it/s]"
     ]
    },
    {
     "name": "stdout",
     "output_type": "stream",
     "text": [
      "Epoch: 31 (30/38)\n",
      "\tData load time: 0.143 sec\n",
      "\tGeneration time: 0.153 sec\n",
      "\tBackprop time: 0.175 sec\n",
      "\tLog probability: -4.8969 (avg -9.8758)\n",
      "\tKL: 2.1275 (avg 3.1833)\n",
      "\tLoss: 26.1721 (avg 41.7085)\n"
     ]
    },
    {
     "name": "stderr",
     "output_type": "stream",
     "text": [
      "100%|██████████| 38/38 [00:01<00:00, 23.37it/s]\n",
      "100%|██████████| 10/10 [00:00<00:00, 29.95it/s]\n",
      "  0%|          | 0/38 [00:00<?, ?it/s]"
     ]
    },
    {
     "name": "stdout",
     "output_type": "stream",
     "text": [
      "Epoch: 31 (10/10)\n",
      "\tData load time: 0.139 sec\n",
      "\tGeneration time: 0.154 sec\n",
      "\tLog probability: -3.3261 (avg -4.2377)\n",
      "\tKL: 2.1021 (avg 1.9809)\n",
      "\tLoss: 24.3474 (avg 24.0465)\n",
      "Lowest validation loss: 15.6161\n"
     ]
    },
    {
     "name": "stderr",
     "output_type": "stream",
     "text": [
      " 34%|███▍      | 13/38 [00:00<00:01, 14.27it/s]"
     ]
    },
    {
     "name": "stdout",
     "output_type": "stream",
     "text": [
      "Epoch: 32 (10/38)\n",
      "\tData load time: 0.133 sec\n",
      "\tGeneration time: 0.147 sec\n",
      "\tBackprop time: 0.172 sec\n",
      "\tLog probability: -4.0961 (avg -8.8406)\n",
      "\tKL: 1.5123 (avg 1.7833)\n",
      "\tLoss: 19.2188 (avg 26.6736)\n"
     ]
    },
    {
     "name": "stderr",
     "output_type": "stream",
     "text": [
      " 66%|██████▌   | 25/38 [00:01<00:00, 21.62it/s]"
     ]
    },
    {
     "name": "stdout",
     "output_type": "stream",
     "text": [
      "Epoch: 32 (20/38)\n",
      "\tData load time: 0.133 sec\n",
      "\tGeneration time: 0.147 sec\n",
      "\tBackprop time: 0.172 sec\n",
      "\tLog probability: -7.4861 (avg -7.9333)\n",
      "\tKL: 1.5696 (avg 1.6961)\n",
      "\tLoss: 23.1817 (avg 24.8940)\n"
     ]
    },
    {
     "name": "stderr",
     "output_type": "stream",
     "text": [
      " 89%|████████▉ | 34/38 [00:01<00:00, 24.30it/s]"
     ]
    },
    {
     "name": "stdout",
     "output_type": "stream",
     "text": [
      "Epoch: 32 (30/38)\n",
      "\tData load time: 0.133 sec\n",
      "\tGeneration time: 0.147 sec\n",
      "\tBackprop time: 0.172 sec\n",
      "\tLog probability: -3.9166 (avg -7.2280)\n",
      "\tKL: 1.1993 (avg 1.5987)\n",
      "\tLoss: 15.9093 (avg 23.2151)\n"
     ]
    },
    {
     "name": "stderr",
     "output_type": "stream",
     "text": [
      "100%|██████████| 38/38 [00:01<00:00, 23.50it/s]\n",
      "100%|██████████| 10/10 [00:00<00:00, 28.85it/s]\n",
      "  0%|          | 0/38 [00:00<?, ?it/s]"
     ]
    },
    {
     "name": "stdout",
     "output_type": "stream",
     "text": [
      "Epoch: 32 (10/10)\n",
      "\tData load time: 0.153 sec\n",
      "\tGeneration time: 0.166 sec\n",
      "\tLog probability: -5.0955 (avg -5.7111)\n",
      "\tKL: 0.9901 (avg 1.4662)\n",
      "\tLoss: 14.9964 (avg 20.3732)\n",
      "Lowest validation loss: 15.6161\n"
     ]
    },
    {
     "name": "stderr",
     "output_type": "stream",
     "text": [
      " 34%|███▍      | 13/38 [00:00<00:01, 14.12it/s]"
     ]
    },
    {
     "name": "stdout",
     "output_type": "stream",
     "text": [
      "Epoch: 33 (10/38)\n",
      "\tData load time: 0.141 sec\n",
      "\tGeneration time: 0.153 sec\n",
      "\tBackprop time: 0.174 sec\n",
      "\tLog probability: -11.5099 (avg -7.7224)\n",
      "\tKL: 1.5466 (avg 1.3733)\n",
      "\tLoss: 26.9758 (avg 21.4557)\n"
     ]
    },
    {
     "name": "stderr",
     "output_type": "stream",
     "text": [
      " 66%|██████▌   | 25/38 [00:01<00:00, 21.48it/s]"
     ]
    },
    {
     "name": "stdout",
     "output_type": "stream",
     "text": [
      "Epoch: 33 (20/38)\n",
      "\tData load time: 0.141 sec\n",
      "\tGeneration time: 0.153 sec\n",
      "\tBackprop time: 0.174 sec\n",
      "\tLog probability: -5.9056 (avg -7.1141)\n",
      "\tKL: 1.2514 (avg 1.3370)\n",
      "\tLoss: 18.4195 (avg 20.4837)\n"
     ]
    },
    {
     "name": "stderr",
     "output_type": "stream",
     "text": [
      " 89%|████████▉ | 34/38 [00:01<00:00, 24.17it/s]"
     ]
    },
    {
     "name": "stdout",
     "output_type": "stream",
     "text": [
      "Epoch: 33 (30/38)\n",
      "\tData load time: 0.141 sec\n",
      "\tGeneration time: 0.153 sec\n",
      "\tBackprop time: 0.174 sec\n",
      "\tLog probability: -5.6991 (avg -7.0316)\n",
      "\tKL: 1.2160 (avg 1.3098)\n",
      "\tLoss: 17.8592 (avg 20.1297)\n"
     ]
    },
    {
     "name": "stderr",
     "output_type": "stream",
     "text": [
      "100%|██████████| 38/38 [00:01<00:00, 23.34it/s]\n",
      "100%|██████████| 10/10 [00:00<00:00, 30.56it/s]\n",
      "  0%|          | 0/38 [00:00<?, ?it/s]"
     ]
    },
    {
     "name": "stdout",
     "output_type": "stream",
     "text": [
      "Epoch: 33 (10/10)\n",
      "\tData load time: 0.138 sec\n",
      "\tGeneration time: 0.149 sec\n",
      "\tLog probability: -3.1430 (avg -4.2455)\n",
      "\tKL: 1.2423 (avg 1.1503)\n",
      "\tLoss: 15.5661 (avg 15.7484)\n",
      "Lowest validation loss: 15.6161\n"
     ]
    },
    {
     "name": "stderr",
     "output_type": "stream",
     "text": [
      " 34%|███▍      | 13/38 [00:00<00:01, 13.70it/s]"
     ]
    },
    {
     "name": "stdout",
     "output_type": "stream",
     "text": [
      "Epoch: 34 (10/38)\n",
      "\tData load time: 0.153 sec\n",
      "\tGeneration time: 0.163 sec\n",
      "\tBackprop time: 0.184 sec\n",
      "\tLog probability: -6.8863 (avg -6.2287)\n",
      "\tKL: 1.1302 (avg 1.0733)\n",
      "\tLoss: 18.1879 (avg 16.9621)\n"
     ]
    },
    {
     "name": "stderr",
     "output_type": "stream",
     "text": [
      " 66%|██████▌   | 25/38 [00:01<00:00, 21.33it/s]"
     ]
    },
    {
     "name": "stdout",
     "output_type": "stream",
     "text": [
      "Epoch: 34 (20/38)\n",
      "\tData load time: 0.153 sec\n",
      "\tGeneration time: 0.163 sec\n",
      "\tBackprop time: 0.184 sec\n",
      "\tLog probability: -6.2902 (avg -6.1244)\n",
      "\tKL: 1.0450 (avg 1.0741)\n",
      "\tLoss: 16.7399 (avg 16.8655)\n"
     ]
    },
    {
     "name": "stderr",
     "output_type": "stream",
     "text": [
      " 89%|████████▉ | 34/38 [00:01<00:00, 24.15it/s]"
     ]
    },
    {
     "name": "stdout",
     "output_type": "stream",
     "text": [
      "Epoch: 34 (30/38)\n",
      "\tData load time: 0.153 sec\n",
      "\tGeneration time: 0.163 sec\n",
      "\tBackprop time: 0.184 sec\n",
      "\tLog probability: -39.8833 (avg -7.6891)\n",
      "\tKL: 1.6289 (avg 1.1377)\n",
      "\tLoss: 56.1724 (avg 19.0658)\n"
     ]
    },
    {
     "name": "stderr",
     "output_type": "stream",
     "text": [
      "100%|██████████| 38/38 [00:01<00:00, 23.36it/s]\n",
      "100%|██████████| 10/10 [00:00<00:00, 31.01it/s]\n",
      "  0%|          | 0/38 [00:00<?, ?it/s]"
     ]
    },
    {
     "name": "stdout",
     "output_type": "stream",
     "text": [
      "Epoch: 34 (10/10)\n",
      "\tData load time: 0.131 sec\n",
      "\tGeneration time: 0.147 sec\n",
      "\tLog probability: -6.1127 (avg -4.0703)\n",
      "\tKL: 1.8609 (avg 1.9311)\n",
      "\tLoss: 24.7218 (avg 23.3809)\n",
      "Lowest validation loss: 15.6161\n"
     ]
    },
    {
     "name": "stderr",
     "output_type": "stream",
     "text": [
      " 34%|███▍      | 13/38 [00:00<00:01, 13.95it/s]"
     ]
    },
    {
     "name": "stdout",
     "output_type": "stream",
     "text": [
      "Epoch: 35 (10/38)\n",
      "\tData load time: 0.146 sec\n",
      "\tGeneration time: 0.158 sec\n",
      "\tBackprop time: 0.179 sec\n",
      "\tLog probability: -7.1148 (avg -6.5560)\n",
      "\tKL: 1.7603 (avg 1.9499)\n",
      "\tLoss: 24.7174 (avg 26.0550)\n"
     ]
    },
    {
     "name": "stderr",
     "output_type": "stream",
     "text": [
      " 66%|██████▌   | 25/38 [00:01<00:00, 21.47it/s]"
     ]
    },
    {
     "name": "stdout",
     "output_type": "stream",
     "text": [
      "Epoch: 35 (20/38)\n",
      "\tData load time: 0.146 sec\n",
      "\tGeneration time: 0.158 sec\n",
      "\tBackprop time: 0.179 sec\n",
      "\tLog probability: -9.1548 (avg -6.1205)\n",
      "\tKL: 1.3706 (avg 1.7946)\n",
      "\tLoss: 22.8611 (avg 24.0662)\n"
     ]
    },
    {
     "name": "stderr",
     "output_type": "stream",
     "text": [
      " 89%|████████▉ | 34/38 [00:01<00:00, 24.20it/s]"
     ]
    },
    {
     "name": "stdout",
     "output_type": "stream",
     "text": [
      "Epoch: 35 (30/38)\n",
      "\tData load time: 0.146 sec\n",
      "\tGeneration time: 0.158 sec\n",
      "\tBackprop time: 0.179 sec\n",
      "\tLog probability: -8.7766 (avg -6.6999)\n",
      "\tKL: 1.4894 (avg 1.6632)\n",
      "\tLoss: 23.6705 (avg 23.3323)\n"
     ]
    },
    {
     "name": "stderr",
     "output_type": "stream",
     "text": [
      "100%|██████████| 38/38 [00:01<00:00, 23.35it/s]\n",
      "100%|██████████| 10/10 [00:00<00:00, 30.00it/s]\n",
      "  0%|          | 0/38 [00:00<?, ?it/s]"
     ]
    },
    {
     "name": "stdout",
     "output_type": "stream",
     "text": [
      "Epoch: 35 (10/10)\n",
      "\tData load time: 0.146 sec\n",
      "\tGeneration time: 0.154 sec\n",
      "\tLog probability: -13.5505 (avg -7.7427)\n",
      "\tKL: 1.5413 (avg 1.2462)\n",
      "\tLoss: 28.9634 (avg 20.2042)\n",
      "Lowest validation loss: 15.6161\n"
     ]
    },
    {
     "name": "stderr",
     "output_type": "stream",
     "text": [
      " 34%|███▍      | 13/38 [00:00<00:01, 14.22it/s]"
     ]
    },
    {
     "name": "stdout",
     "output_type": "stream",
     "text": [
      "Epoch: 36 (10/38)\n",
      "\tData load time: 0.142 sec\n",
      "\tGeneration time: 0.152 sec\n",
      "\tBackprop time: 0.173 sec\n",
      "\tLog probability: -6.1405 (avg -9.7292)\n",
      "\tKL: 1.1949 (avg 1.1869)\n",
      "\tLoss: 18.0891 (avg 21.5979)\n"
     ]
    },
    {
     "name": "stderr",
     "output_type": "stream",
     "text": [
      " 66%|██████▌   | 25/38 [00:01<00:00, 21.64it/s]"
     ]
    },
    {
     "name": "stdout",
     "output_type": "stream",
     "text": [
      "Epoch: 36 (20/38)\n",
      "\tData load time: 0.142 sec\n",
      "\tGeneration time: 0.152 sec\n",
      "\tBackprop time: 0.173 sec\n",
      "\tLog probability: -6.4311 (avg -8.9175)\n",
      "\tKL: 1.2610 (avg 1.2234)\n",
      "\tLoss: 19.0410 (avg 21.1515)\n"
     ]
    },
    {
     "name": "stderr",
     "output_type": "stream",
     "text": [
      " 89%|████████▉ | 34/38 [00:01<00:00, 24.25it/s]"
     ]
    },
    {
     "name": "stdout",
     "output_type": "stream",
     "text": [
      "Epoch: 36 (30/38)\n",
      "\tData load time: 0.142 sec\n",
      "\tGeneration time: 0.152 sec\n",
      "\tBackprop time: 0.173 sec\n",
      "\tLog probability: -12.8738 (avg -8.5923)\n",
      "\tKL: 1.2284 (avg 1.2106)\n",
      "\tLoss: 25.1579 (avg 20.6986)\n"
     ]
    },
    {
     "name": "stderr",
     "output_type": "stream",
     "text": [
      "100%|██████████| 38/38 [00:01<00:00, 23.49it/s]\n",
      "100%|██████████| 10/10 [00:00<00:00, 29.88it/s]\n",
      "  0%|          | 0/38 [00:00<?, ?it/s]"
     ]
    },
    {
     "name": "stdout",
     "output_type": "stream",
     "text": [
      "Epoch: 36 (10/10)\n",
      "\tData load time: 0.138 sec\n",
      "\tGeneration time: 0.150 sec\n",
      "\tLog probability: -4.5806 (avg -4.5463)\n",
      "\tKL: 1.4226 (avg 1.1706)\n",
      "\tLoss: 18.8067 (avg 16.2520)\n",
      "Lowest validation loss: 15.6161\n"
     ]
    },
    {
     "name": "stderr",
     "output_type": "stream",
     "text": [
      " 34%|███▍      | 13/38 [00:00<00:01, 14.19it/s]"
     ]
    },
    {
     "name": "stdout",
     "output_type": "stream",
     "text": [
      "Epoch: 37 (10/38)\n",
      "\tData load time: 0.141 sec\n",
      "\tGeneration time: 0.153 sec\n",
      "\tBackprop time: 0.174 sec\n",
      "\tLog probability: -11.0944 (avg -10.5252)\n",
      "\tKL: 1.6805 (avg 1.5451)\n",
      "\tLoss: 27.8995 (avg 25.9760)\n"
     ]
    },
    {
     "name": "stderr",
     "output_type": "stream",
     "text": [
      " 66%|██████▌   | 25/38 [00:01<00:00, 21.59it/s]"
     ]
    },
    {
     "name": "stdout",
     "output_type": "stream",
     "text": [
      "Epoch: 37 (20/38)\n",
      "\tData load time: 0.141 sec\n",
      "\tGeneration time: 0.153 sec\n",
      "\tBackprop time: 0.174 sec\n",
      "\tLog probability: -8.7114 (avg -8.8170)\n",
      "\tKL: 1.5621 (avg 1.5967)\n",
      "\tLoss: 24.3324 (avg 24.7840)\n"
     ]
    },
    {
     "name": "stderr",
     "output_type": "stream",
     "text": [
      " 89%|████████▉ | 34/38 [00:01<00:00, 24.22it/s]"
     ]
    },
    {
     "name": "stdout",
     "output_type": "stream",
     "text": [
      "Epoch: 37 (30/38)\n",
      "\tData load time: 0.141 sec\n",
      "\tGeneration time: 0.153 sec\n",
      "\tBackprop time: 0.174 sec\n",
      "\tLog probability: -11.4660 (avg -8.0734)\n",
      "\tKL: 1.4052 (avg 1.5320)\n",
      "\tLoss: 25.5179 (avg 23.3934)\n"
     ]
    },
    {
     "name": "stderr",
     "output_type": "stream",
     "text": [
      "100%|██████████| 38/38 [00:01<00:00, 23.49it/s]\n",
      "100%|██████████| 10/10 [00:00<00:00, 28.81it/s]\n",
      "  0%|          | 0/38 [00:00<?, ?it/s]"
     ]
    },
    {
     "name": "stdout",
     "output_type": "stream",
     "text": [
      "Epoch: 37 (10/10)\n",
      "\tData load time: 0.148 sec\n",
      "\tGeneration time: 0.159 sec\n",
      "\tLog probability: -5.1451 (avg -5.7612)\n",
      "\tKL: 0.8455 (avg 1.0580)\n",
      "\tLoss: 13.6002 (avg 16.3409)\n",
      "Lowest validation loss: 15.6161\n"
     ]
    },
    {
     "name": "stderr",
     "output_type": "stream",
     "text": [
      " 34%|███▍      | 13/38 [00:00<00:01, 14.16it/s]"
     ]
    },
    {
     "name": "stdout",
     "output_type": "stream",
     "text": [
      "Epoch: 38 (10/38)\n",
      "\tData load time: 0.139 sec\n",
      "\tGeneration time: 0.156 sec\n",
      "\tBackprop time: 0.174 sec\n",
      "\tLog probability: -6.4763 (avg -9.1510)\n",
      "\tKL: 0.9923 (avg 1.0351)\n",
      "\tLoss: 16.3994 (avg 19.5024)\n"
     ]
    },
    {
     "name": "stderr",
     "output_type": "stream",
     "text": [
      " 66%|██████▌   | 25/38 [00:01<00:00, 21.63it/s]"
     ]
    },
    {
     "name": "stdout",
     "output_type": "stream",
     "text": [
      "Epoch: 38 (20/38)\n",
      "\tData load time: 0.139 sec\n",
      "\tGeneration time: 0.156 sec\n",
      "\tBackprop time: 0.174 sec\n",
      "\tLog probability: -3.8651 (avg -8.6427)\n",
      "\tKL: 0.9724 (avg 1.0710)\n",
      "\tLoss: 13.5893 (avg 19.3527)\n"
     ]
    },
    {
     "name": "stderr",
     "output_type": "stream",
     "text": [
      " 89%|████████▉ | 34/38 [00:01<00:00, 24.21it/s]"
     ]
    },
    {
     "name": "stdout",
     "output_type": "stream",
     "text": [
      "Epoch: 38 (30/38)\n",
      "\tData load time: 0.139 sec\n",
      "\tGeneration time: 0.156 sec\n",
      "\tBackprop time: 0.174 sec\n",
      "\tLog probability: -16.2307 (avg -8.2391)\n",
      "\tKL: 1.0649 (avg 1.0548)\n",
      "\tLoss: 26.8800 (avg 18.7869)\n"
     ]
    },
    {
     "name": "stderr",
     "output_type": "stream",
     "text": [
      "100%|██████████| 38/38 [00:01<00:00, 23.44it/s]\n",
      "100%|██████████| 10/10 [00:00<00:00, 29.90it/s]\n"
     ]
    },
    {
     "name": "stdout",
     "output_type": "stream",
     "text": [
      "Epoch: 38 (10/10)\n",
      "\tData load time: 0.140 sec\n",
      "\tGeneration time: 0.152 sec\n",
      "\tLog probability: -3.8376 (avg -3.8536)\n",
      "\tKL: 0.7187 (avg 1.0656)\n",
      "\tLoss: 11.0243 (avg 14.5096)\n",
      "Saving checkpoint..\n"
     ]
    },
    {
     "name": "stderr",
     "output_type": "stream",
     "text": [
      "  0%|          | 0/38 [00:00<?, ?it/s]"
     ]
    },
    {
     "name": "stdout",
     "output_type": "stream",
     "text": [
      "Lowest validation loss: 14.5096\n"
     ]
    },
    {
     "name": "stderr",
     "output_type": "stream",
     "text": [
      " 34%|███▍      | 13/38 [00:00<00:01, 13.84it/s]"
     ]
    },
    {
     "name": "stdout",
     "output_type": "stream",
     "text": [
      "Epoch: 39 (10/38)\n",
      "\tData load time: 0.149 sec\n",
      "\tGeneration time: 0.160 sec\n",
      "\tBackprop time: 0.180 sec\n",
      "\tLog probability: -11.4144 (avg -5.9100)\n",
      "\tKL: 1.1920 (avg 1.1409)\n",
      "\tLoss: 23.3346 (avg 17.3195)\n"
     ]
    },
    {
     "name": "stderr",
     "output_type": "stream",
     "text": [
      " 66%|██████▌   | 25/38 [00:01<00:00, 21.39it/s]"
     ]
    },
    {
     "name": "stdout",
     "output_type": "stream",
     "text": [
      "Epoch: 39 (20/38)\n",
      "\tData load time: 0.149 sec\n",
      "\tGeneration time: 0.160 sec\n",
      "\tBackprop time: 0.180 sec\n",
      "\tLog probability: -4.5997 (avg -5.6610)\n",
      "\tKL: 0.9080 (avg 1.1060)\n",
      "\tLoss: 13.6801 (avg 16.7213)\n"
     ]
    },
    {
     "name": "stderr",
     "output_type": "stream",
     "text": [
      " 89%|████████▉ | 34/38 [00:01<00:00, 24.15it/s]"
     ]
    },
    {
     "name": "stdout",
     "output_type": "stream",
     "text": [
      "Epoch: 39 (30/38)\n",
      "\tData load time: 0.149 sec\n",
      "\tGeneration time: 0.160 sec\n",
      "\tBackprop time: 0.180 sec\n",
      "\tLog probability: -4.4677 (avg -5.6497)\n",
      "\tKL: 0.8404 (avg 1.0671)\n",
      "\tLoss: 12.8719 (avg 16.3212)\n"
     ]
    },
    {
     "name": "stderr",
     "output_type": "stream",
     "text": [
      "100%|██████████| 38/38 [00:01<00:00, 23.30it/s]\n",
      "100%|██████████| 10/10 [00:00<00:00, 29.81it/s]\n",
      "  0%|          | 0/38 [00:00<?, ?it/s]"
     ]
    },
    {
     "name": "stdout",
     "output_type": "stream",
     "text": [
      "Epoch: 39 (10/10)\n",
      "\tData load time: 0.144 sec\n",
      "\tGeneration time: 0.155 sec\n",
      "\tLog probability: -8.3843 (avg -7.1770)\n",
      "\tKL: 1.2059 (avg 1.0989)\n",
      "\tLoss: 20.4431 (avg 18.1662)\n",
      "Lowest validation loss: 14.5096\n"
     ]
    },
    {
     "name": "stderr",
     "output_type": "stream",
     "text": [
      " 34%|███▍      | 13/38 [00:00<00:01, 13.74it/s]"
     ]
    },
    {
     "name": "stdout",
     "output_type": "stream",
     "text": [
      "Epoch: 40 (10/38)\n",
      "\tData load time: 0.150 sec\n",
      "\tGeneration time: 0.163 sec\n",
      "\tBackprop time: 0.183 sec\n",
      "\tLog probability: -6.8229 (avg -7.1554)\n",
      "\tKL: 1.8235 (avg 1.5101)\n",
      "\tLoss: 25.0577 (avg 22.2567)\n"
     ]
    },
    {
     "name": "stderr",
     "output_type": "stream",
     "text": [
      " 66%|██████▌   | 25/38 [00:01<00:00, 21.26it/s]"
     ]
    },
    {
     "name": "stdout",
     "output_type": "stream",
     "text": [
      "Epoch: 40 (20/38)\n",
      "\tData load time: 0.150 sec\n",
      "\tGeneration time: 0.163 sec\n",
      "\tBackprop time: 0.183 sec\n",
      "\tLog probability: -7.7983 (avg -6.7004)\n",
      "\tKL: 1.4055 (avg 1.5873)\n",
      "\tLoss: 21.8535 (avg 22.5737)\n"
     ]
    },
    {
     "name": "stderr",
     "output_type": "stream",
     "text": [
      " 89%|████████▉ | 34/38 [00:01<00:00, 24.07it/s]"
     ]
    },
    {
     "name": "stdout",
     "output_type": "stream",
     "text": [
      "Epoch: 40 (30/38)\n",
      "\tData load time: 0.150 sec\n",
      "\tGeneration time: 0.163 sec\n",
      "\tBackprop time: 0.183 sec\n",
      "\tLog probability: -6.5517 (avg -6.7845)\n",
      "\tKL: 1.1258 (avg 1.5139)\n",
      "\tLoss: 17.8094 (avg 21.9237)\n"
     ]
    },
    {
     "name": "stderr",
     "output_type": "stream",
     "text": [
      "100%|██████████| 38/38 [00:01<00:00, 23.30it/s]\n",
      "100%|██████████| 10/10 [00:00<00:00, 30.04it/s]\n",
      "  0%|          | 0/38 [00:00<?, ?it/s]"
     ]
    },
    {
     "name": "stdout",
     "output_type": "stream",
     "text": [
      "Epoch: 40 (10/10)\n",
      "\tData load time: 0.140 sec\n",
      "\tGeneration time: 0.149 sec\n",
      "\tLog probability: -3.9743 (avg -3.9716)\n",
      "\tKL: 1.4465 (avg 1.0750)\n",
      "\tLoss: 18.4395 (avg 14.7216)\n",
      "Lowest validation loss: 14.5096\n"
     ]
    },
    {
     "name": "stderr",
     "output_type": "stream",
     "text": [
      " 34%|███▍      | 13/38 [00:00<00:01, 14.12it/s]"
     ]
    },
    {
     "name": "stdout",
     "output_type": "stream",
     "text": [
      "Epoch: 41 (10/38)\n",
      "\tData load time: 0.142 sec\n",
      "\tGeneration time: 0.153 sec\n",
      "\tBackprop time: 0.174 sec\n",
      "\tLog probability: -4.0238 (avg -5.1988)\n",
      "\tKL: 0.8480 (avg 0.9553)\n",
      "\tLoss: 12.5034 (avg 14.7521)\n"
     ]
    },
    {
     "name": "stderr",
     "output_type": "stream",
     "text": [
      " 66%|██████▌   | 25/38 [00:01<00:00, 21.53it/s]"
     ]
    },
    {
     "name": "stdout",
     "output_type": "stream",
     "text": [
      "Epoch: 41 (20/38)\n",
      "\tData load time: 0.142 sec\n",
      "\tGeneration time: 0.153 sec\n",
      "\tBackprop time: 0.174 sec\n",
      "\tLog probability: -6.9933 (avg -5.9434)\n",
      "\tKL: 0.8020 (avg 0.9330)\n",
      "\tLoss: 15.0132 (avg 15.2737)\n"
     ]
    },
    {
     "name": "stderr",
     "output_type": "stream",
     "text": [
      " 89%|████████▉ | 34/38 [00:01<00:00, 24.18it/s]"
     ]
    },
    {
     "name": "stdout",
     "output_type": "stream",
     "text": [
      "Epoch: 41 (30/38)\n",
      "\tData load time: 0.142 sec\n",
      "\tGeneration time: 0.153 sec\n",
      "\tBackprop time: 0.174 sec\n",
      "\tLog probability: -8.8769 (avg -6.5710)\n",
      "\tKL: 1.0985 (avg 0.9166)\n",
      "\tLoss: 19.8623 (avg 15.7369)\n"
     ]
    },
    {
     "name": "stderr",
     "output_type": "stream",
     "text": [
      "100%|██████████| 38/38 [00:01<00:00, 23.43it/s]\n",
      "100%|██████████| 10/10 [00:00<00:00, 30.15it/s]\n",
      "  0%|          | 0/38 [00:00<?, ?it/s]"
     ]
    },
    {
     "name": "stdout",
     "output_type": "stream",
     "text": [
      "Epoch: 41 (10/10)\n",
      "\tData load time: 0.138 sec\n",
      "\tGeneration time: 0.150 sec\n",
      "\tLog probability: -5.5643 (avg -8.0508)\n",
      "\tKL: 2.9575 (avg 2.2176)\n",
      "\tLoss: 35.1394 (avg 30.2269)\n",
      "Lowest validation loss: 14.5096\n"
     ]
    },
    {
     "name": "stderr",
     "output_type": "stream",
     "text": [
      " 34%|███▍      | 13/38 [00:00<00:01, 13.89it/s]"
     ]
    },
    {
     "name": "stdout",
     "output_type": "stream",
     "text": [
      "Epoch: 42 (10/38)\n",
      "\tData load time: 0.145 sec\n",
      "\tGeneration time: 0.158 sec\n",
      "\tBackprop time: 0.178 sec\n",
      "\tLog probability: -5.8230 (avg -9.3219)\n",
      "\tKL: 1.5365 (avg 1.8320)\n",
      "\tLoss: 21.1878 (avg 27.6416)\n"
     ]
    },
    {
     "name": "stderr",
     "output_type": "stream",
     "text": [
      " 66%|██████▌   | 25/38 [00:01<00:00, 21.35it/s]"
     ]
    },
    {
     "name": "stdout",
     "output_type": "stream",
     "text": [
      "Epoch: 42 (20/38)\n",
      "\tData load time: 0.145 sec\n",
      "\tGeneration time: 0.158 sec\n",
      "\tBackprop time: 0.178 sec\n",
      "\tLog probability: -6.3779 (avg -7.7105)\n",
      "\tKL: 1.2447 (avg 1.6130)\n",
      "\tLoss: 18.8245 (avg 23.8409)\n"
     ]
    },
    {
     "name": "stderr",
     "output_type": "stream",
     "text": [
      " 89%|████████▉ | 34/38 [00:01<00:00, 24.07it/s]"
     ]
    },
    {
     "name": "stdout",
     "output_type": "stream",
     "text": [
      "Epoch: 42 (30/38)\n",
      "\tData load time: 0.145 sec\n",
      "\tGeneration time: 0.158 sec\n",
      "\tBackprop time: 0.178 sec\n",
      "\tLog probability: -9.0263 (avg -7.5870)\n",
      "\tKL: 0.9750 (avg 1.4619)\n",
      "\tLoss: 18.7766 (avg 22.2062)\n"
     ]
    },
    {
     "name": "stderr",
     "output_type": "stream",
     "text": [
      "100%|██████████| 38/38 [00:01<00:00, 23.23it/s]\n",
      "100%|██████████| 10/10 [00:00<00:00, 29.70it/s]\n"
     ]
    },
    {
     "name": "stdout",
     "output_type": "stream",
     "text": [
      "Epoch: 42 (10/10)\n",
      "\tData load time: 0.143 sec\n",
      "\tGeneration time: 0.155 sec\n",
      "\tLog probability: -2.8154 (avg -3.0518)\n",
      "\tKL: 0.9528 (avg 0.9585)\n",
      "\tLoss: 12.3432 (avg 12.6371)\n",
      "Saving checkpoint..\n"
     ]
    },
    {
     "name": "stderr",
     "output_type": "stream",
     "text": [
      "  0%|          | 0/38 [00:00<?, ?it/s]"
     ]
    },
    {
     "name": "stdout",
     "output_type": "stream",
     "text": [
      "Lowest validation loss: 12.6371\n"
     ]
    },
    {
     "name": "stderr",
     "output_type": "stream",
     "text": [
      " 34%|███▍      | 13/38 [00:00<00:01, 13.77it/s]"
     ]
    },
    {
     "name": "stdout",
     "output_type": "stream",
     "text": [
      "Epoch: 43 (10/38)\n",
      "\tData load time: 0.148 sec\n",
      "\tGeneration time: 0.161 sec\n",
      "\tBackprop time: 0.182 sec\n",
      "\tLog probability: -6.6146 (avg -7.2281)\n",
      "\tKL: 1.0209 (avg 1.0742)\n",
      "\tLoss: 16.8236 (avg 17.9701)\n"
     ]
    },
    {
     "name": "stderr",
     "output_type": "stream",
     "text": [
      " 66%|██████▌   | 25/38 [00:01<00:00, 21.37it/s]"
     ]
    },
    {
     "name": "stdout",
     "output_type": "stream",
     "text": [
      "Epoch: 43 (20/38)\n",
      "\tData load time: 0.148 sec\n",
      "\tGeneration time: 0.161 sec\n",
      "\tBackprop time: 0.182 sec\n",
      "\tLog probability: -4.7852 (avg -6.3487)\n",
      "\tKL: 1.1340 (avg 1.0763)\n",
      "\tLoss: 16.1249 (avg 17.1118)\n"
     ]
    },
    {
     "name": "stderr",
     "output_type": "stream",
     "text": [
      " 89%|████████▉ | 34/38 [00:01<00:00, 24.09it/s]"
     ]
    },
    {
     "name": "stdout",
     "output_type": "stream",
     "text": [
      "Epoch: 43 (30/38)\n",
      "\tData load time: 0.148 sec\n",
      "\tGeneration time: 0.161 sec\n",
      "\tBackprop time: 0.182 sec\n",
      "\tLog probability: -3.7569 (avg -5.7276)\n",
      "\tKL: 0.8533 (avg 1.0399)\n",
      "\tLoss: 12.2899 (avg 16.1267)\n"
     ]
    },
    {
     "name": "stderr",
     "output_type": "stream",
     "text": [
      "100%|██████████| 38/38 [00:01<00:00, 23.34it/s]\n",
      "100%|██████████| 10/10 [00:00<00:00, 30.68it/s]\n"
     ]
    },
    {
     "name": "stdout",
     "output_type": "stream",
     "text": [
      "Epoch: 43 (10/10)\n",
      "\tData load time: 0.130 sec\n",
      "\tGeneration time: 0.146 sec\n",
      "\tLog probability: -4.5689 (avg -3.8519)\n",
      "\tKL: 0.9439 (avg 0.7846)\n",
      "\tLoss: 14.0082 (avg 11.6979)\n",
      "Saving checkpoint..\n"
     ]
    },
    {
     "name": "stderr",
     "output_type": "stream",
     "text": [
      "  0%|          | 0/38 [00:00<?, ?it/s]"
     ]
    },
    {
     "name": "stdout",
     "output_type": "stream",
     "text": [
      "Lowest validation loss: 11.6979\n"
     ]
    },
    {
     "name": "stderr",
     "output_type": "stream",
     "text": [
      " 34%|███▍      | 13/38 [00:00<00:01, 13.95it/s]"
     ]
    },
    {
     "name": "stdout",
     "output_type": "stream",
     "text": [
      "Epoch: 44 (10/38)\n",
      "\tData load time: 0.146 sec\n",
      "\tGeneration time: 0.159 sec\n",
      "\tBackprop time: 0.178 sec\n",
      "\tLog probability: -3.8804 (avg -5.3839)\n",
      "\tKL: 0.8010 (avg 0.8383)\n",
      "\tLoss: 11.8905 (avg 13.7666)\n"
     ]
    },
    {
     "name": "stderr",
     "output_type": "stream",
     "text": [
      " 66%|██████▌   | 25/38 [00:01<00:00, 21.40it/s]"
     ]
    },
    {
     "name": "stdout",
     "output_type": "stream",
     "text": [
      "Epoch: 44 (20/38)\n",
      "\tData load time: 0.146 sec\n",
      "\tGeneration time: 0.159 sec\n",
      "\tBackprop time: 0.178 sec\n",
      "\tLog probability: -5.7309 (avg -5.1970)\n",
      "\tKL: 0.7782 (avg 0.8076)\n",
      "\tLoss: 13.5128 (avg 13.2726)\n"
     ]
    },
    {
     "name": "stderr",
     "output_type": "stream",
     "text": [
      " 89%|████████▉ | 34/38 [00:01<00:00, 24.07it/s]"
     ]
    },
    {
     "name": "stdout",
     "output_type": "stream",
     "text": [
      "Epoch: 44 (30/38)\n",
      "\tData load time: 0.146 sec\n",
      "\tGeneration time: 0.159 sec\n",
      "\tBackprop time: 0.178 sec\n",
      "\tLog probability: -3.2998 (avg -5.2150)\n",
      "\tKL: 0.7516 (avg 0.7870)\n",
      "\tLoss: 10.8161 (avg 13.0851)\n"
     ]
    },
    {
     "name": "stderr",
     "output_type": "stream",
     "text": [
      "100%|██████████| 38/38 [00:01<00:00, 23.34it/s]\n",
      "100%|██████████| 10/10 [00:00<00:00, 30.08it/s]\n",
      "  0%|          | 0/38 [00:00<?, ?it/s]"
     ]
    },
    {
     "name": "stdout",
     "output_type": "stream",
     "text": [
      "Epoch: 44 (10/10)\n",
      "\tData load time: 0.140 sec\n",
      "\tGeneration time: 0.149 sec\n",
      "\tLog probability: -12.7746 (avg -5.0707)\n",
      "\tKL: 1.1863 (avg 1.0652)\n",
      "\tLoss: 24.6380 (avg 15.7230)\n",
      "Lowest validation loss: 11.6979\n"
     ]
    },
    {
     "name": "stderr",
     "output_type": "stream",
     "text": [
      " 34%|███▍      | 13/38 [00:00<00:01, 14.05it/s]"
     ]
    },
    {
     "name": "stdout",
     "output_type": "stream",
     "text": [
      "Epoch: 45 (10/38)\n",
      "\tData load time: 0.142 sec\n",
      "\tGeneration time: 0.156 sec\n",
      "\tBackprop time: 0.176 sec\n",
      "\tLog probability: -10.9252 (avg -7.5039)\n",
      "\tKL: 1.0551 (avg 1.1334)\n",
      "\tLoss: 21.4763 (avg 18.8378)\n"
     ]
    },
    {
     "name": "stderr",
     "output_type": "stream",
     "text": [
      " 66%|██████▌   | 25/38 [00:01<00:00, 21.41it/s]"
     ]
    },
    {
     "name": "stdout",
     "output_type": "stream",
     "text": [
      "Epoch: 45 (20/38)\n",
      "\tData load time: 0.142 sec\n",
      "\tGeneration time: 0.156 sec\n",
      "\tBackprop time: 0.176 sec\n",
      "\tLog probability: -4.8593 (avg -6.4794)\n",
      "\tKL: 1.0217 (avg 1.0839)\n",
      "\tLoss: 15.0766 (avg 17.3189)\n"
     ]
    },
    {
     "name": "stderr",
     "output_type": "stream",
     "text": [
      " 89%|████████▉ | 34/38 [00:01<00:00, 24.14it/s]"
     ]
    },
    {
     "name": "stdout",
     "output_type": "stream",
     "text": [
      "Epoch: 45 (30/38)\n",
      "\tData load time: 0.142 sec\n",
      "\tGeneration time: 0.156 sec\n",
      "\tBackprop time: 0.176 sec\n",
      "\tLog probability: -3.2001 (avg -5.8279)\n",
      "\tKL: 0.7029 (avg 0.9951)\n",
      "\tLoss: 10.2289 (avg 15.7789)\n"
     ]
    },
    {
     "name": "stderr",
     "output_type": "stream",
     "text": [
      "100%|██████████| 38/38 [00:01<00:00, 23.29it/s]\n",
      "100%|██████████| 10/10 [00:00<00:00, 28.97it/s]\n",
      "  0%|          | 0/38 [00:00<?, ?it/s]"
     ]
    },
    {
     "name": "stdout",
     "output_type": "stream",
     "text": [
      "Epoch: 45 (10/10)\n",
      "\tData load time: 0.149 sec\n",
      "\tGeneration time: 0.163 sec\n",
      "\tLog probability: -4.6738 (avg -4.4096)\n",
      "\tKL: 0.7561 (avg 1.2986)\n",
      "\tLoss: 12.2349 (avg 17.3956)\n",
      "Lowest validation loss: 11.6979\n"
     ]
    },
    {
     "name": "stderr",
     "output_type": "stream",
     "text": [
      " 34%|███▍      | 13/38 [00:00<00:01, 14.32it/s]"
     ]
    },
    {
     "name": "stdout",
     "output_type": "stream",
     "text": [
      "Epoch: 46 (10/38)\n",
      "\tData load time: 0.138 sec\n",
      "\tGeneration time: 0.150 sec\n",
      "\tBackprop time: 0.171 sec\n",
      "\tLog probability: -6.1245 (avg -6.4473)\n",
      "\tKL: 1.1002 (avg 1.1843)\n",
      "\tLoss: 17.1269 (avg 18.2904)\n"
     ]
    },
    {
     "name": "stderr",
     "output_type": "stream",
     "text": [
      " 66%|██████▌   | 25/38 [00:01<00:00, 21.67it/s]"
     ]
    },
    {
     "name": "stdout",
     "output_type": "stream",
     "text": [
      "Epoch: 46 (20/38)\n",
      "\tData load time: 0.138 sec\n",
      "\tGeneration time: 0.150 sec\n",
      "\tBackprop time: 0.171 sec\n",
      "\tLog probability: -5.4258 (avg -6.0055)\n",
      "\tKL: 0.9437 (avg 1.0884)\n",
      "\tLoss: 14.8627 (avg 16.8896)\n"
     ]
    },
    {
     "name": "stderr",
     "output_type": "stream",
     "text": [
      " 89%|████████▉ | 34/38 [00:01<00:00, 24.33it/s]"
     ]
    },
    {
     "name": "stdout",
     "output_type": "stream",
     "text": [
      "Epoch: 46 (30/38)\n",
      "\tData load time: 0.138 sec\n",
      "\tGeneration time: 0.150 sec\n",
      "\tBackprop time: 0.171 sec\n",
      "\tLog probability: -6.9545 (avg -5.9550)\n",
      "\tKL: 0.9397 (avg 1.0168)\n",
      "\tLoss: 16.3514 (avg 16.1227)\n"
     ]
    },
    {
     "name": "stderr",
     "output_type": "stream",
     "text": [
      "100%|██████████| 38/38 [00:01<00:00, 23.49it/s]\n",
      "100%|██████████| 10/10 [00:00<00:00, 29.92it/s]\n",
      "  0%|          | 0/38 [00:00<?, ?it/s]"
     ]
    },
    {
     "name": "stdout",
     "output_type": "stream",
     "text": [
      "Epoch: 46 (10/10)\n",
      "\tData load time: 0.141 sec\n",
      "\tGeneration time: 0.153 sec\n",
      "\tLog probability: -6.4844 (avg -5.0673)\n",
      "\tKL: 1.2323 (avg 1.4551)\n",
      "\tLoss: 18.8077 (avg 19.6182)\n",
      "Lowest validation loss: 11.6979\n"
     ]
    },
    {
     "name": "stderr",
     "output_type": "stream",
     "text": [
      " 34%|███▍      | 13/38 [00:00<00:01, 13.72it/s]"
     ]
    },
    {
     "name": "stdout",
     "output_type": "stream",
     "text": [
      "Epoch: 47 (10/38)\n",
      "\tData load time: 0.151 sec\n",
      "\tGeneration time: 0.162 sec\n",
      "\tBackprop time: 0.183 sec\n",
      "\tLog probability: -6.1841 (avg -5.4254)\n",
      "\tKL: 1.1439 (avg 1.3273)\n",
      "\tLoss: 17.6230 (avg 18.6983)\n"
     ]
    },
    {
     "name": "stderr",
     "output_type": "stream",
     "text": [
      " 66%|██████▌   | 25/38 [00:01<00:00, 21.25it/s]"
     ]
    },
    {
     "name": "stdout",
     "output_type": "stream",
     "text": [
      "Epoch: 47 (20/38)\n",
      "\tData load time: 0.151 sec\n",
      "\tGeneration time: 0.162 sec\n",
      "\tBackprop time: 0.183 sec\n",
      "\tLog probability: -6.8402 (avg -6.6689)\n",
      "\tKL: 0.9544 (avg 1.1727)\n",
      "\tLoss: 16.3838 (avg 18.3959)\n"
     ]
    },
    {
     "name": "stderr",
     "output_type": "stream",
     "text": [
      " 89%|████████▉ | 34/38 [00:01<00:00, 24.07it/s]"
     ]
    },
    {
     "name": "stdout",
     "output_type": "stream",
     "text": [
      "Epoch: 47 (30/38)\n",
      "\tData load time: 0.151 sec\n",
      "\tGeneration time: 0.162 sec\n",
      "\tBackprop time: 0.183 sec\n",
      "\tLog probability: -4.2681 (avg -6.6425)\n",
      "\tKL: 0.7940 (avg 1.0936)\n",
      "\tLoss: 12.2081 (avg 17.5787)\n"
     ]
    },
    {
     "name": "stderr",
     "output_type": "stream",
     "text": [
      "100%|██████████| 38/38 [00:01<00:00, 23.23it/s]\n",
      "100%|██████████| 10/10 [00:00<00:00, 29.68it/s]\n"
     ]
    },
    {
     "name": "stdout",
     "output_type": "stream",
     "text": [
      "Epoch: 47 (10/10)\n",
      "\tData load time: 0.146 sec\n",
      "\tGeneration time: 0.155 sec\n",
      "\tLog probability: -3.6608 (avg -3.7368)\n",
      "\tKL: 0.5577 (avg 0.7179)\n",
      "\tLoss: 9.2377 (avg 10.9159)\n",
      "Saving checkpoint..\n"
     ]
    },
    {
     "name": "stderr",
     "output_type": "stream",
     "text": [
      "  0%|          | 0/38 [00:00<?, ?it/s]"
     ]
    },
    {
     "name": "stdout",
     "output_type": "stream",
     "text": [
      "Lowest validation loss: 10.9159\n"
     ]
    },
    {
     "name": "stderr",
     "output_type": "stream",
     "text": [
      " 34%|███▍      | 13/38 [00:00<00:01, 13.98it/s]"
     ]
    },
    {
     "name": "stdout",
     "output_type": "stream",
     "text": [
      "Epoch: 48 (10/38)\n",
      "\tData load time: 0.145 sec\n",
      "\tGeneration time: 0.158 sec\n",
      "\tBackprop time: 0.177 sec\n",
      "\tLog probability: -3.2411 (avg -5.5267)\n",
      "\tKL: 0.6122 (avg 0.7724)\n",
      "\tLoss: 9.3626 (avg 13.2508)\n"
     ]
    },
    {
     "name": "stderr",
     "output_type": "stream",
     "text": [
      " 66%|██████▌   | 25/38 [00:01<00:00, 21.44it/s]"
     ]
    },
    {
     "name": "stdout",
     "output_type": "stream",
     "text": [
      "Epoch: 48 (20/38)\n",
      "\tData load time: 0.145 sec\n",
      "\tGeneration time: 0.158 sec\n",
      "\tBackprop time: 0.177 sec\n",
      "\tLog probability: -8.3735 (avg -6.4359)\n",
      "\tKL: 0.7922 (avg 0.7614)\n",
      "\tLoss: 16.2955 (avg 14.0499)\n"
     ]
    },
    {
     "name": "stderr",
     "output_type": "stream",
     "text": [
      " 89%|████████▉ | 34/38 [00:01<00:00, 24.21it/s]"
     ]
    },
    {
     "name": "stdout",
     "output_type": "stream",
     "text": [
      "Epoch: 48 (30/38)\n",
      "\tData load time: 0.145 sec\n",
      "\tGeneration time: 0.158 sec\n",
      "\tBackprop time: 0.177 sec\n",
      "\tLog probability: -8.2092 (avg -6.5879)\n",
      "\tKL: 0.8429 (avg 0.7866)\n",
      "\tLoss: 16.6386 (avg 14.4539)\n"
     ]
    },
    {
     "name": "stderr",
     "output_type": "stream",
     "text": [
      "100%|██████████| 38/38 [00:01<00:00, 23.34it/s]\n",
      "100%|██████████| 10/10 [00:00<00:00, 31.15it/s]\n",
      "  0%|          | 0/38 [00:00<?, ?it/s]"
     ]
    },
    {
     "name": "stdout",
     "output_type": "stream",
     "text": [
      "Epoch: 48 (10/10)\n",
      "\tData load time: 0.128 sec\n",
      "\tGeneration time: 0.140 sec\n",
      "\tLog probability: -2.1806 (avg -6.8133)\n",
      "\tKL: 0.4738 (avg 0.8253)\n",
      "\tLoss: 6.9189 (avg 15.0665)\n",
      "Lowest validation loss: 10.9159\n"
     ]
    },
    {
     "name": "stderr",
     "output_type": "stream",
     "text": [
      " 34%|███▍      | 13/38 [00:00<00:01, 14.37it/s]"
     ]
    },
    {
     "name": "stdout",
     "output_type": "stream",
     "text": [
      "Epoch: 49 (10/38)\n",
      "\tData load time: 0.138 sec\n",
      "\tGeneration time: 0.149 sec\n",
      "\tBackprop time: 0.169 sec\n",
      "\tLog probability: -3.9809 (avg -5.5388)\n",
      "\tKL: 0.6539 (avg 0.7541)\n",
      "\tLoss: 10.5202 (avg 13.0799)\n"
     ]
    },
    {
     "name": "stderr",
     "output_type": "stream",
     "text": [
      " 66%|██████▌   | 25/38 [00:01<00:00, 21.66it/s]"
     ]
    },
    {
     "name": "stdout",
     "output_type": "stream",
     "text": [
      "Epoch: 49 (20/38)\n",
      "\tData load time: 0.138 sec\n",
      "\tGeneration time: 0.149 sec\n",
      "\tBackprop time: 0.169 sec\n",
      "\tLog probability: -5.7023 (avg -5.5015)\n",
      "\tKL: 0.8969 (avg 0.8054)\n",
      "\tLoss: 14.6715 (avg 13.5555)\n"
     ]
    },
    {
     "name": "stderr",
     "output_type": "stream",
     "text": [
      " 89%|████████▉ | 34/38 [00:01<00:00, 24.21it/s]"
     ]
    },
    {
     "name": "stdout",
     "output_type": "stream",
     "text": [
      "Epoch: 49 (30/38)\n",
      "\tData load time: 0.138 sec\n",
      "\tGeneration time: 0.149 sec\n",
      "\tBackprop time: 0.169 sec\n",
      "\tLog probability: -3.4994 (avg -5.2323)\n",
      "\tKL: 0.7035 (avg 0.8014)\n",
      "\tLoss: 10.5347 (avg 13.2465)\n"
     ]
    },
    {
     "name": "stderr",
     "output_type": "stream",
     "text": [
      "100%|██████████| 38/38 [00:01<00:00, 23.50it/s]\n",
      "100%|██████████| 10/10 [00:00<00:00, 30.23it/s]\n"
     ]
    },
    {
     "name": "stdout",
     "output_type": "stream",
     "text": [
      "Epoch: 49 (10/10)\n",
      "\tData load time: 0.142 sec\n",
      "\tGeneration time: 0.150 sec\n",
      "\tLog probability: -3.0502 (avg -3.2872)\n",
      "\tKL: 0.6217 (avg 0.6703)\n",
      "\tLoss: 9.2668 (avg 9.9898)\n",
      "Saving checkpoint..\n"
     ]
    },
    {
     "name": "stderr",
     "output_type": "stream",
     "text": [
      "  0%|          | 0/38 [00:00<?, ?it/s]"
     ]
    },
    {
     "name": "stdout",
     "output_type": "stream",
     "text": [
      "Lowest validation loss: 9.9898\n"
     ]
    },
    {
     "name": "stderr",
     "output_type": "stream",
     "text": [
      " 34%|███▍      | 13/38 [00:00<00:01, 13.87it/s]"
     ]
    },
    {
     "name": "stdout",
     "output_type": "stream",
     "text": [
      "Epoch: 50 (10/38)\n",
      "\tData load time: 0.146 sec\n",
      "\tGeneration time: 0.160 sec\n",
      "\tBackprop time: 0.180 sec\n",
      "\tLog probability: -5.2629 (avg -5.2904)\n",
      "\tKL: 0.6400 (avg 0.6364)\n",
      "\tLoss: 11.6634 (avg 11.6545)\n"
     ]
    },
    {
     "name": "stderr",
     "output_type": "stream",
     "text": [
      " 66%|██████▌   | 25/38 [00:01<00:00, 21.38it/s]"
     ]
    },
    {
     "name": "stdout",
     "output_type": "stream",
     "text": [
      "Epoch: 50 (20/38)\n",
      "\tData load time: 0.146 sec\n",
      "\tGeneration time: 0.160 sec\n",
      "\tBackprop time: 0.180 sec\n",
      "\tLog probability: -3.5592 (avg -5.0333)\n",
      "\tKL: 0.6714 (avg 0.6413)\n",
      "\tLoss: 10.2732 (avg 11.4464)\n"
     ]
    },
    {
     "name": "stderr",
     "output_type": "stream",
     "text": [
      " 89%|████████▉ | 34/38 [00:01<00:00, 24.07it/s]"
     ]
    },
    {
     "name": "stdout",
     "output_type": "stream",
     "text": [
      "Epoch: 50 (30/38)\n",
      "\tData load time: 0.146 sec\n",
      "\tGeneration time: 0.160 sec\n",
      "\tBackprop time: 0.180 sec\n",
      "\tLog probability: -3.8904 (avg -4.8057)\n",
      "\tKL: 0.8966 (avg 0.7236)\n",
      "\tLoss: 12.8567 (avg 12.0420)\n"
     ]
    },
    {
     "name": "stderr",
     "output_type": "stream",
     "text": [
      "100%|██████████| 38/38 [00:01<00:00, 23.30it/s]\n",
      "100%|██████████| 10/10 [00:00<00:00, 29.54it/s]\n",
      "  0%|          | 0/38 [00:00<?, ?it/s]"
     ]
    },
    {
     "name": "stdout",
     "output_type": "stream",
     "text": [
      "Epoch: 50 (10/10)\n",
      "\tData load time: 0.144 sec\n",
      "\tGeneration time: 0.156 sec\n",
      "\tLog probability: -5.6854 (avg -2.9624)\n",
      "\tKL: 0.7312 (avg 0.7435)\n",
      "\tLoss: 12.9977 (avg 10.3971)\n",
      "Lowest validation loss: 9.9898\n"
     ]
    },
    {
     "name": "stderr",
     "output_type": "stream",
     "text": [
      " 34%|███▍      | 13/38 [00:00<00:01, 14.39it/s]"
     ]
    },
    {
     "name": "stdout",
     "output_type": "stream",
     "text": [
      "Epoch: 51 (10/38)\n",
      "\tData load time: 0.136 sec\n",
      "\tGeneration time: 0.148 sec\n",
      "\tBackprop time: 0.169 sec\n",
      "\tLog probability: -5.7314 (avg -4.8660)\n",
      "\tKL: 0.8013 (avg 0.8102)\n",
      "\tLoss: 13.7449 (avg 12.9684)\n"
     ]
    },
    {
     "name": "stderr",
     "output_type": "stream",
     "text": [
      " 66%|██████▌   | 25/38 [00:01<00:00, 21.69it/s]"
     ]
    },
    {
     "name": "stdout",
     "output_type": "stream",
     "text": [
      "Epoch: 51 (20/38)\n",
      "\tData load time: 0.136 sec\n",
      "\tGeneration time: 0.148 sec\n",
      "\tBackprop time: 0.169 sec\n",
      "\tLog probability: -9.7632 (avg -5.7800)\n",
      "\tKL: 1.0009 (avg 0.8000)\n",
      "\tLoss: 19.7723 (avg 13.7804)\n"
     ]
    },
    {
     "name": "stderr",
     "output_type": "stream",
     "text": [
      " 89%|████████▉ | 34/38 [00:01<00:00, 24.24it/s]"
     ]
    },
    {
     "name": "stdout",
     "output_type": "stream",
     "text": [
      "Epoch: 51 (30/38)\n",
      "\tData load time: 0.136 sec\n",
      "\tGeneration time: 0.148 sec\n",
      "\tBackprop time: 0.169 sec\n",
      "\tLog probability: -7.0710 (avg -5.5039)\n",
      "\tKL: 0.7965 (avg 0.7932)\n",
      "\tLoss: 15.0358 (avg 13.4356)\n"
     ]
    },
    {
     "name": "stderr",
     "output_type": "stream",
     "text": [
      "100%|██████████| 38/38 [00:01<00:00, 23.40it/s]\n",
      "100%|██████████| 10/10 [00:00<00:00, 29.77it/s]\n"
     ]
    },
    {
     "name": "stdout",
     "output_type": "stream",
     "text": [
      "Epoch: 51 (10/10)\n",
      "\tData load time: 0.146 sec\n",
      "\tGeneration time: 0.157 sec\n",
      "\tLog probability: -2.2885 (avg -2.7448)\n",
      "\tKL: 0.7108 (avg 0.6700)\n",
      "\tLoss: 9.3970 (avg 9.4451)\n",
      "Saving checkpoint..\n"
     ]
    },
    {
     "name": "stderr",
     "output_type": "stream",
     "text": [
      "  0%|          | 0/38 [00:00<?, ?it/s]"
     ]
    },
    {
     "name": "stdout",
     "output_type": "stream",
     "text": [
      "Lowest validation loss: 9.4451\n"
     ]
    },
    {
     "name": "stderr",
     "output_type": "stream",
     "text": [
      " 34%|███▍      | 13/38 [00:00<00:01, 13.75it/s]"
     ]
    },
    {
     "name": "stdout",
     "output_type": "stream",
     "text": [
      "Epoch: 52 (10/38)\n",
      "\tData load time: 0.150 sec\n",
      "\tGeneration time: 0.161 sec\n",
      "\tBackprop time: 0.183 sec\n",
      "\tLog probability: -4.4349 (avg -4.6968)\n",
      "\tKL: 0.6924 (avg 0.7648)\n",
      "\tLoss: 11.3587 (avg 12.3450)\n"
     ]
    },
    {
     "name": "stderr",
     "output_type": "stream",
     "text": [
      " 66%|██████▌   | 25/38 [00:01<00:00, 21.31it/s]"
     ]
    },
    {
     "name": "stdout",
     "output_type": "stream",
     "text": [
      "Epoch: 52 (20/38)\n",
      "\tData load time: 0.150 sec\n",
      "\tGeneration time: 0.161 sec\n",
      "\tBackprop time: 0.183 sec\n",
      "\tLog probability: -3.1991 (avg -4.7168)\n",
      "\tKL: 0.5719 (avg 0.7030)\n",
      "\tLoss: 8.9176 (avg 11.7466)\n"
     ]
    },
    {
     "name": "stderr",
     "output_type": "stream",
     "text": [
      " 89%|████████▉ | 34/38 [00:01<00:00, 24.10it/s]"
     ]
    },
    {
     "name": "stdout",
     "output_type": "stream",
     "text": [
      "Epoch: 52 (30/38)\n",
      "\tData load time: 0.150 sec\n",
      "\tGeneration time: 0.161 sec\n",
      "\tBackprop time: 0.183 sec\n",
      "\tLog probability: -25.9962 (avg -5.4177)\n",
      "\tKL: 0.8004 (avg 0.6829)\n",
      "\tLoss: 34.0001 (avg 12.2470)\n"
     ]
    },
    {
     "name": "stderr",
     "output_type": "stream",
     "text": [
      "100%|██████████| 38/38 [00:01<00:00, 23.31it/s]\n",
      "100%|██████████| 10/10 [00:00<00:00, 29.20it/s]\n",
      "  0%|          | 0/38 [00:00<?, ?it/s]"
     ]
    },
    {
     "name": "stdout",
     "output_type": "stream",
     "text": [
      "Epoch: 52 (10/10)\n",
      "\tData load time: 0.151 sec\n",
      "\tGeneration time: 0.159 sec\n",
      "\tLog probability: -2.6436 (avg -3.8728)\n",
      "\tKL: 0.9202 (avg 1.0761)\n",
      "\tLoss: 11.8452 (avg 14.6337)\n",
      "Lowest validation loss: 9.4451\n"
     ]
    },
    {
     "name": "stderr",
     "output_type": "stream",
     "text": [
      " 34%|███▍      | 13/38 [00:00<00:01, 13.99it/s]"
     ]
    },
    {
     "name": "stdout",
     "output_type": "stream",
     "text": [
      "Epoch: 53 (10/38)\n",
      "\tData load time: 0.143 sec\n",
      "\tGeneration time: 0.155 sec\n",
      "\tBackprop time: 0.177 sec\n",
      "\tLog probability: -19.4907 (avg -7.8906)\n",
      "\tKL: 1.3067 (avg 0.9869)\n",
      "\tLoss: 32.5577 (avg 17.7601)\n"
     ]
    },
    {
     "name": "stderr",
     "output_type": "stream",
     "text": [
      " 66%|██████▌   | 25/38 [00:01<00:00, 21.45it/s]"
     ]
    },
    {
     "name": "stdout",
     "output_type": "stream",
     "text": [
      "Epoch: 53 (20/38)\n",
      "\tData load time: 0.143 sec\n",
      "\tGeneration time: 0.155 sec\n",
      "\tBackprop time: 0.177 sec\n",
      "\tLog probability: -3.4084 (avg -6.6026)\n",
      "\tKL: 0.6558 (avg 0.8994)\n",
      "\tLoss: 9.9663 (avg 15.5966)\n"
     ]
    },
    {
     "name": "stderr",
     "output_type": "stream",
     "text": [
      " 89%|████████▉ | 34/38 [00:01<00:00, 24.19it/s]"
     ]
    },
    {
     "name": "stdout",
     "output_type": "stream",
     "text": [
      "Epoch: 53 (30/38)\n",
      "\tData load time: 0.143 sec\n",
      "\tGeneration time: 0.155 sec\n",
      "\tBackprop time: 0.177 sec\n",
      "\tLog probability: -3.7291 (avg -6.1422)\n",
      "\tKL: 0.6400 (avg 0.8374)\n",
      "\tLoss: 10.1286 (avg 14.5161)\n"
     ]
    },
    {
     "name": "stderr",
     "output_type": "stream",
     "text": [
      "100%|██████████| 38/38 [00:01<00:00, 23.12it/s]\n",
      "100%|██████████| 10/10 [00:00<00:00, 28.27it/s]\n",
      "  0%|          | 0/38 [00:00<?, ?it/s]"
     ]
    },
    {
     "name": "stdout",
     "output_type": "stream",
     "text": [
      "Epoch: 53 (10/10)\n",
      "\tData load time: 0.155 sec\n",
      "\tGeneration time: 0.174 sec\n",
      "\tLog probability: -2.0784 (avg -2.7534)\n",
      "\tKL: 1.0772 (avg 0.7390)\n",
      "\tLoss: 12.8502 (avg 10.1430)\n",
      "Lowest validation loss: 9.4451\n"
     ]
    },
    {
     "name": "stderr",
     "output_type": "stream",
     "text": [
      " 34%|███▍      | 13/38 [00:00<00:01, 14.09it/s]"
     ]
    },
    {
     "name": "stdout",
     "output_type": "stream",
     "text": [
      "Epoch: 54 (10/38)\n",
      "\tData load time: 0.141 sec\n",
      "\tGeneration time: 0.155 sec\n",
      "\tBackprop time: 0.174 sec\n",
      "\tLog probability: -5.4993 (avg -5.4354)\n",
      "\tKL: 0.6628 (avg 0.6825)\n",
      "\tLoss: 12.1274 (avg 12.2607)\n"
     ]
    },
    {
     "name": "stderr",
     "output_type": "stream",
     "text": [
      " 66%|██████▌   | 25/38 [00:01<00:00, 21.51it/s]"
     ]
    },
    {
     "name": "stdout",
     "output_type": "stream",
     "text": [
      "Epoch: 54 (20/38)\n",
      "\tData load time: 0.141 sec\n",
      "\tGeneration time: 0.155 sec\n",
      "\tBackprop time: 0.174 sec\n",
      "\tLog probability: -4.6705 (avg -4.8073)\n",
      "\tKL: 0.5986 (avg 0.6517)\n",
      "\tLoss: 10.6560 (avg 11.3243)\n"
     ]
    },
    {
     "name": "stderr",
     "output_type": "stream",
     "text": [
      " 89%|████████▉ | 34/38 [00:01<00:00, 24.14it/s]"
     ]
    },
    {
     "name": "stdout",
     "output_type": "stream",
     "text": [
      "Epoch: 54 (30/38)\n",
      "\tData load time: 0.141 sec\n",
      "\tGeneration time: 0.155 sec\n",
      "\tBackprop time: 0.174 sec\n",
      "\tLog probability: -5.3981 (avg -5.4717)\n",
      "\tKL: 0.7628 (avg 0.6813)\n",
      "\tLoss: 13.0261 (avg 12.2847)\n"
     ]
    },
    {
     "name": "stderr",
     "output_type": "stream",
     "text": [
      "100%|██████████| 38/38 [00:01<00:00, 23.36it/s]\n",
      "100%|██████████| 10/10 [00:00<00:00, 29.73it/s]\n",
      "  0%|          | 0/38 [00:00<?, ?it/s]"
     ]
    },
    {
     "name": "stdout",
     "output_type": "stream",
     "text": [
      "Epoch: 54 (10/10)\n",
      "\tData load time: 0.146 sec\n",
      "\tGeneration time: 0.159 sec\n",
      "\tLog probability: -5.2247 (avg -7.2111)\n",
      "\tKL: 1.6309 (avg 1.2081)\n",
      "\tLoss: 21.5337 (avg 19.2926)\n",
      "Lowest validation loss: 9.4451\n"
     ]
    },
    {
     "name": "stderr",
     "output_type": "stream",
     "text": [
      " 34%|███▍      | 13/38 [00:00<00:01, 13.60it/s]"
     ]
    },
    {
     "name": "stdout",
     "output_type": "stream",
     "text": [
      "Epoch: 55 (10/38)\n",
      "\tData load time: 0.153 sec\n",
      "\tGeneration time: 0.166 sec\n",
      "\tBackprop time: 0.185 sec\n",
      "\tLog probability: -2.5173 (avg -4.5587)\n",
      "\tKL: 0.9868 (avg 1.0658)\n",
      "\tLoss: 12.3850 (avg 15.2167)\n"
     ]
    },
    {
     "name": "stderr",
     "output_type": "stream",
     "text": [
      " 66%|██████▌   | 25/38 [00:01<00:00, 21.26it/s]"
     ]
    },
    {
     "name": "stdout",
     "output_type": "stream",
     "text": [
      "Epoch: 55 (20/38)\n",
      "\tData load time: 0.153 sec\n",
      "\tGeneration time: 0.166 sec\n",
      "\tBackprop time: 0.185 sec\n",
      "\tLog probability: -4.4289 (avg -5.0486)\n",
      "\tKL: 1.0665 (avg 1.0549)\n",
      "\tLoss: 15.0942 (avg 15.5973)\n"
     ]
    },
    {
     "name": "stderr",
     "output_type": "stream",
     "text": [
      " 89%|████████▉ | 34/38 [00:01<00:00, 24.03it/s]"
     ]
    },
    {
     "name": "stdout",
     "output_type": "stream",
     "text": [
      "Epoch: 55 (30/38)\n",
      "\tData load time: 0.153 sec\n",
      "\tGeneration time: 0.166 sec\n",
      "\tBackprop time: 0.185 sec\n",
      "\tLog probability: -3.4000 (avg -4.7481)\n",
      "\tKL: 0.7529 (avg 0.9893)\n",
      "\tLoss: 10.9295 (avg 14.6409)\n"
     ]
    },
    {
     "name": "stderr",
     "output_type": "stream",
     "text": [
      "100%|██████████| 38/38 [00:01<00:00, 23.23it/s]\n",
      "100%|██████████| 10/10 [00:00<00:00, 29.65it/s]\n",
      "  0%|          | 0/38 [00:00<?, ?it/s]"
     ]
    },
    {
     "name": "stdout",
     "output_type": "stream",
     "text": [
      "Epoch: 55 (10/10)\n",
      "\tData load time: 0.146 sec\n",
      "\tGeneration time: 0.155 sec\n",
      "\tLog probability: -1.6771 (avg -2.7674)\n",
      "\tKL: 0.5458 (avg 0.7877)\n",
      "\tLoss: 7.1352 (avg 10.6443)\n",
      "Lowest validation loss: 9.4451\n"
     ]
    },
    {
     "name": "stderr",
     "output_type": "stream",
     "text": [
      " 34%|███▍      | 13/38 [00:00<00:01, 14.07it/s]"
     ]
    },
    {
     "name": "stdout",
     "output_type": "stream",
     "text": [
      "Epoch: 56 (10/38)\n",
      "\tData load time: 0.144 sec\n",
      "\tGeneration time: 0.157 sec\n",
      "\tBackprop time: 0.176 sec\n",
      "\tLog probability: -3.1920 (avg -3.9531)\n",
      "\tKL: 0.6187 (avg 0.6790)\n",
      "\tLoss: 9.3786 (avg 10.7434)\n"
     ]
    },
    {
     "name": "stderr",
     "output_type": "stream",
     "text": [
      " 66%|██████▌   | 25/38 [00:01<00:00, 21.43it/s]"
     ]
    },
    {
     "name": "stdout",
     "output_type": "stream",
     "text": [
      "Epoch: 56 (20/38)\n",
      "\tData load time: 0.144 sec\n",
      "\tGeneration time: 0.157 sec\n",
      "\tBackprop time: 0.176 sec\n",
      "\tLog probability: -3.0381 (avg -4.1676)\n",
      "\tKL: 0.6180 (avg 0.6602)\n",
      "\tLoss: 9.2180 (avg 10.7694)\n"
     ]
    },
    {
     "name": "stderr",
     "output_type": "stream",
     "text": [
      " 89%|████████▉ | 34/38 [00:01<00:00, 24.15it/s]"
     ]
    },
    {
     "name": "stdout",
     "output_type": "stream",
     "text": [
      "Epoch: 56 (30/38)\n",
      "\tData load time: 0.144 sec\n",
      "\tGeneration time: 0.157 sec\n",
      "\tBackprop time: 0.176 sec\n",
      "\tLog probability: -2.9814 (avg -5.3253)\n",
      "\tKL: 0.7263 (avg 0.6967)\n",
      "\tLoss: 10.2445 (avg 12.2922)\n"
     ]
    },
    {
     "name": "stderr",
     "output_type": "stream",
     "text": [
      "100%|██████████| 38/38 [00:01<00:00, 23.40it/s]\n",
      "100%|██████████| 10/10 [00:00<00:00, 29.81it/s]\n"
     ]
    },
    {
     "name": "stdout",
     "output_type": "stream",
     "text": [
      "Epoch: 56 (10/10)\n",
      "\tData load time: 0.140 sec\n",
      "\tGeneration time: 0.153 sec\n",
      "\tLog probability: -1.9974 (avg -2.4373)\n",
      "\tKL: 0.4296 (avg 0.6730)\n",
      "\tLoss: 6.2937 (avg 9.1678)\n",
      "Saving checkpoint..\n"
     ]
    },
    {
     "name": "stderr",
     "output_type": "stream",
     "text": [
      "  0%|          | 0/38 [00:00<?, ?it/s]"
     ]
    },
    {
     "name": "stdout",
     "output_type": "stream",
     "text": [
      "Lowest validation loss: 9.1678\n"
     ]
    },
    {
     "name": "stderr",
     "output_type": "stream",
     "text": [
      " 34%|███▍      | 13/38 [00:00<00:01, 14.67it/s]"
     ]
    },
    {
     "name": "stdout",
     "output_type": "stream",
     "text": [
      "Epoch: 57 (10/38)\n",
      "\tData load time: 0.125 sec\n",
      "\tGeneration time: 0.139 sec\n",
      "\tBackprop time: 0.164 sec\n",
      "\tLog probability: -3.4467 (avg -4.7842)\n",
      "\tKL: 0.6512 (avg 0.7018)\n",
      "\tLoss: 9.9590 (avg 11.8018)\n"
     ]
    },
    {
     "name": "stderr",
     "output_type": "stream",
     "text": [
      " 66%|██████▌   | 25/38 [00:01<00:00, 21.78it/s]"
     ]
    },
    {
     "name": "stdout",
     "output_type": "stream",
     "text": [
      "Epoch: 57 (20/38)\n",
      "\tData load time: 0.125 sec\n",
      "\tGeneration time: 0.139 sec\n",
      "\tBackprop time: 0.164 sec\n",
      "\tLog probability: -3.6546 (avg -4.5708)\n",
      "\tKL: 0.6131 (avg 0.6577)\n",
      "\tLoss: 9.7859 (avg 11.1474)\n"
     ]
    },
    {
     "name": "stderr",
     "output_type": "stream",
     "text": [
      " 89%|████████▉ | 34/38 [00:01<00:00, 24.26it/s]"
     ]
    },
    {
     "name": "stdout",
     "output_type": "stream",
     "text": [
      "Epoch: 57 (30/38)\n",
      "\tData load time: 0.125 sec\n",
      "\tGeneration time: 0.139 sec\n",
      "\tBackprop time: 0.164 sec\n",
      "\tLog probability: -4.0876 (avg -4.4522)\n",
      "\tKL: 0.5171 (avg 0.6393)\n",
      "\tLoss: 9.2587 (avg 10.8452)\n"
     ]
    },
    {
     "name": "stderr",
     "output_type": "stream",
     "text": [
      "100%|██████████| 38/38 [00:01<00:00, 23.52it/s]\n",
      "100%|██████████| 10/10 [00:00<00:00, 29.28it/s]\n"
     ]
    },
    {
     "name": "stdout",
     "output_type": "stream",
     "text": [
      "Epoch: 57 (10/10)\n",
      "\tData load time: 0.147 sec\n",
      "\tGeneration time: 0.156 sec\n",
      "\tLog probability: -2.6000 (avg -3.2421)\n",
      "\tKL: 0.5185 (avg 0.5139)\n",
      "\tLoss: 7.7855 (avg 8.3811)\n",
      "Saving checkpoint..\n"
     ]
    },
    {
     "name": "stderr",
     "output_type": "stream",
     "text": [
      "  0%|          | 0/38 [00:00<?, ?it/s]"
     ]
    },
    {
     "name": "stdout",
     "output_type": "stream",
     "text": [
      "Lowest validation loss: 8.3811\n"
     ]
    },
    {
     "name": "stderr",
     "output_type": "stream",
     "text": [
      " 34%|███▍      | 13/38 [00:00<00:01, 14.10it/s]"
     ]
    },
    {
     "name": "stdout",
     "output_type": "stream",
     "text": [
      "Epoch: 58 (10/38)\n",
      "\tData load time: 0.142 sec\n",
      "\tGeneration time: 0.154 sec\n",
      "\tBackprop time: 0.175 sec\n",
      "\tLog probability: -3.6430 (avg -5.1177)\n",
      "\tKL: 0.6805 (avg 0.6343)\n",
      "\tLoss: 10.4484 (avg 11.4603)\n"
     ]
    },
    {
     "name": "stderr",
     "output_type": "stream",
     "text": [
      " 66%|██████▌   | 25/38 [00:01<00:00, 21.40it/s]"
     ]
    },
    {
     "name": "stdout",
     "output_type": "stream",
     "text": [
      "Epoch: 58 (20/38)\n",
      "\tData load time: 0.142 sec\n",
      "\tGeneration time: 0.154 sec\n",
      "\tBackprop time: 0.175 sec\n",
      "\tLog probability: -3.6582 (avg -4.5345)\n",
      "\tKL: 0.6487 (avg 0.6571)\n",
      "\tLoss: 10.1449 (avg 11.1055)\n"
     ]
    },
    {
     "name": "stderr",
     "output_type": "stream",
     "text": [
      " 89%|████████▉ | 34/38 [00:01<00:00, 24.02it/s]"
     ]
    },
    {
     "name": "stdout",
     "output_type": "stream",
     "text": [
      "Epoch: 58 (30/38)\n",
      "\tData load time: 0.142 sec\n",
      "\tGeneration time: 0.154 sec\n",
      "\tBackprop time: 0.175 sec\n",
      "\tLog probability: -2.5863 (avg -4.7568)\n",
      "\tKL: 0.6318 (avg 0.6744)\n",
      "\tLoss: 8.9041 (avg 11.5004)\n"
     ]
    },
    {
     "name": "stderr",
     "output_type": "stream",
     "text": [
      "100%|██████████| 38/38 [00:01<00:00, 23.32it/s]\n",
      "100%|██████████| 10/10 [00:00<00:00, 28.92it/s]\n",
      "  0%|          | 0/38 [00:00<?, ?it/s]"
     ]
    },
    {
     "name": "stdout",
     "output_type": "stream",
     "text": [
      "Epoch: 58 (10/10)\n",
      "\tData load time: 0.152 sec\n",
      "\tGeneration time: 0.163 sec\n",
      "\tLog probability: -7.2971 (avg -2.9457)\n",
      "\tKL: 0.7724 (avg 0.5940)\n",
      "\tLoss: 15.0213 (avg 8.8861)\n",
      "Lowest validation loss: 8.3811\n"
     ]
    },
    {
     "name": "stderr",
     "output_type": "stream",
     "text": [
      " 34%|███▍      | 13/38 [00:00<00:01, 14.29it/s]"
     ]
    },
    {
     "name": "stdout",
     "output_type": "stream",
     "text": [
      "Epoch: 59 (10/38)\n",
      "\tData load time: 0.139 sec\n",
      "\tGeneration time: 0.152 sec\n",
      "\tBackprop time: 0.172 sec\n",
      "\tLog probability: -4.5022 (avg -4.3802)\n",
      "\tKL: 0.5695 (avg 0.5848)\n",
      "\tLoss: 10.1976 (avg 10.2284)\n"
     ]
    },
    {
     "name": "stderr",
     "output_type": "stream",
     "text": [
      " 66%|██████▌   | 25/38 [00:01<00:00, 21.58it/s]"
     ]
    },
    {
     "name": "stdout",
     "output_type": "stream",
     "text": [
      "Epoch: 59 (20/38)\n",
      "\tData load time: 0.139 sec\n",
      "\tGeneration time: 0.152 sec\n",
      "\tBackprop time: 0.172 sec\n",
      "\tLog probability: -7.4921 (avg -4.7960)\n",
      "\tKL: 0.6624 (avg 0.6045)\n",
      "\tLoss: 14.1165 (avg 10.8408)\n"
     ]
    },
    {
     "name": "stderr",
     "output_type": "stream",
     "text": [
      " 89%|████████▉ | 34/38 [00:01<00:00, 24.21it/s]"
     ]
    },
    {
     "name": "stdout",
     "output_type": "stream",
     "text": [
      "Epoch: 59 (30/38)\n",
      "\tData load time: 0.139 sec\n",
      "\tGeneration time: 0.152 sec\n",
      "\tBackprop time: 0.172 sec\n",
      "\tLog probability: -4.6537 (avg -4.7148)\n",
      "\tKL: 0.7568 (avg 0.6143)\n",
      "\tLoss: 12.2216 (avg 10.8576)\n"
     ]
    },
    {
     "name": "stderr",
     "output_type": "stream",
     "text": [
      "100%|██████████| 38/38 [00:01<00:00, 23.43it/s]\n",
      "100%|██████████| 10/10 [00:00<00:00, 29.14it/s]\n",
      "  0%|          | 0/38 [00:00<?, ?it/s]"
     ]
    },
    {
     "name": "stdout",
     "output_type": "stream",
     "text": [
      "Epoch: 59 (10/10)\n",
      "\tData load time: 0.149 sec\n",
      "\tGeneration time: 0.158 sec\n",
      "\tLog probability: -1.6891 (avg -2.7270)\n",
      "\tKL: 0.8036 (avg 0.7161)\n",
      "\tLoss: 9.7246 (avg 9.8879)\n",
      "Lowest validation loss: 8.3811\n"
     ]
    },
    {
     "name": "stderr",
     "output_type": "stream",
     "text": [
      " 34%|███▍      | 13/38 [00:00<00:01, 14.20it/s]"
     ]
    },
    {
     "name": "stdout",
     "output_type": "stream",
     "text": [
      "Epoch: 60 (10/38)\n",
      "\tData load time: 0.140 sec\n",
      "\tGeneration time: 0.151 sec\n",
      "\tBackprop time: 0.172 sec\n",
      "\tLog probability: -3.4517 (avg -4.5552)\n",
      "\tKL: 0.6511 (avg 0.7509)\n",
      "\tLoss: 9.9626 (avg 12.0646)\n"
     ]
    },
    {
     "name": "stderr",
     "output_type": "stream",
     "text": [
      " 66%|██████▌   | 25/38 [00:01<00:00, 21.61it/s]"
     ]
    },
    {
     "name": "stdout",
     "output_type": "stream",
     "text": [
      "Epoch: 60 (20/38)\n",
      "\tData load time: 0.140 sec\n",
      "\tGeneration time: 0.151 sec\n",
      "\tBackprop time: 0.172 sec\n",
      "\tLog probability: -3.7869 (avg -4.2671)\n",
      "\tKL: 0.6947 (avg 0.7448)\n",
      "\tLoss: 10.7343 (avg 11.7150)\n"
     ]
    },
    {
     "name": "stderr",
     "output_type": "stream",
     "text": [
      " 89%|████████▉ | 34/38 [00:01<00:00, 24.19it/s]"
     ]
    },
    {
     "name": "stdout",
     "output_type": "stream",
     "text": [
      "Epoch: 60 (30/38)\n",
      "\tData load time: 0.140 sec\n",
      "\tGeneration time: 0.151 sec\n",
      "\tBackprop time: 0.172 sec\n",
      "\tLog probability: -7.3578 (avg -4.4415)\n",
      "\tKL: 0.6487 (avg 0.7089)\n",
      "\tLoss: 13.8451 (avg 11.5306)\n"
     ]
    },
    {
     "name": "stderr",
     "output_type": "stream",
     "text": [
      "100%|██████████| 38/38 [00:01<00:00, 23.41it/s]\n",
      "100%|██████████| 10/10 [00:00<00:00, 29.43it/s]\n"
     ]
    },
    {
     "name": "stdout",
     "output_type": "stream",
     "text": [
      "Epoch: 60 (10/10)\n",
      "\tData load time: 0.143 sec\n",
      "\tGeneration time: 0.155 sec\n",
      "\tLog probability: -1.9855 (avg -2.4340)\n",
      "\tKL: 0.5406 (avg 0.5526)\n",
      "\tLoss: 7.3916 (avg 7.9596)\n",
      "Saving checkpoint..\n"
     ]
    },
    {
     "name": "stderr",
     "output_type": "stream",
     "text": [
      "  0%|          | 0/38 [00:00<?, ?it/s]"
     ]
    },
    {
     "name": "stdout",
     "output_type": "stream",
     "text": [
      "Lowest validation loss: 7.9596\n"
     ]
    },
    {
     "name": "stderr",
     "output_type": "stream",
     "text": [
      " 34%|███▍      | 13/38 [00:00<00:01, 13.86it/s]"
     ]
    },
    {
     "name": "stdout",
     "output_type": "stream",
     "text": [
      "Epoch: 61 (10/38)\n",
      "\tData load time: 0.148 sec\n",
      "\tGeneration time: 0.158 sec\n",
      "\tBackprop time: 0.179 sec\n",
      "\tLog probability: -3.8814 (avg -5.7392)\n",
      "\tKL: 0.5490 (avg 0.6700)\n",
      "\tLoss: 9.3712 (avg 12.4388)\n"
     ]
    },
    {
     "name": "stderr",
     "output_type": "stream",
     "text": [
      " 66%|██████▌   | 25/38 [00:01<00:00, 21.30it/s]"
     ]
    },
    {
     "name": "stdout",
     "output_type": "stream",
     "text": [
      "Epoch: 61 (20/38)\n",
      "\tData load time: 0.148 sec\n",
      "\tGeneration time: 0.158 sec\n",
      "\tBackprop time: 0.179 sec\n",
      "\tLog probability: -10.6878 (avg -5.3098)\n",
      "\tKL: 0.7049 (avg 0.6299)\n",
      "\tLoss: 17.7372 (avg 11.6083)\n"
     ]
    },
    {
     "name": "stderr",
     "output_type": "stream",
     "text": [
      " 89%|████████▉ | 34/38 [00:01<00:00, 24.09it/s]"
     ]
    },
    {
     "name": "stdout",
     "output_type": "stream",
     "text": [
      "Epoch: 61 (30/38)\n",
      "\tData load time: 0.148 sec\n",
      "\tGeneration time: 0.158 sec\n",
      "\tBackprop time: 0.179 sec\n",
      "\tLog probability: -4.0672 (avg -4.8149)\n",
      "\tKL: 0.5571 (avg 0.6031)\n",
      "\tLoss: 9.6385 (avg 10.8456)\n"
     ]
    },
    {
     "name": "stderr",
     "output_type": "stream",
     "text": [
      "100%|██████████| 38/38 [00:01<00:00, 23.24it/s]\n",
      "100%|██████████| 10/10 [00:00<00:00, 29.07it/s]\n",
      "  0%|          | 0/38 [00:00<?, ?it/s]"
     ]
    },
    {
     "name": "stdout",
     "output_type": "stream",
     "text": [
      "Epoch: 61 (10/10)\n",
      "\tData load time: 0.149 sec\n",
      "\tGeneration time: 0.158 sec\n",
      "\tLog probability: -4.9381 (avg -4.5721)\n",
      "\tKL: 0.5711 (avg 0.6890)\n",
      "\tLoss: 10.6493 (avg 11.4620)\n",
      "Lowest validation loss: 7.9596\n"
     ]
    },
    {
     "name": "stderr",
     "output_type": "stream",
     "text": [
      " 34%|███▍      | 13/38 [00:00<00:01, 14.01it/s]"
     ]
    },
    {
     "name": "stdout",
     "output_type": "stream",
     "text": [
      "Epoch: 62 (10/38)\n",
      "\tData load time: 0.143 sec\n",
      "\tGeneration time: 0.154 sec\n",
      "\tBackprop time: 0.176 sec\n",
      "\tLog probability: -3.5638 (avg -9.4314)\n",
      "\tKL: 2.0515 (avg 1.4834)\n",
      "\tLoss: 24.0789 (avg 24.2656)\n"
     ]
    },
    {
     "name": "stderr",
     "output_type": "stream",
     "text": [
      " 66%|██████▌   | 25/38 [00:01<00:00, 21.45it/s]"
     ]
    },
    {
     "name": "stdout",
     "output_type": "stream",
     "text": [
      "Epoch: 62 (20/38)\n",
      "\tData load time: 0.143 sec\n",
      "\tGeneration time: 0.154 sec\n",
      "\tBackprop time: 0.176 sec\n",
      "\tLog probability: -5.7215 (avg -9.1013)\n",
      "\tKL: 2.0254 (avg 1.8253)\n",
      "\tLoss: 25.9753 (avg 27.3546)\n"
     ]
    },
    {
     "name": "stderr",
     "output_type": "stream",
     "text": [
      " 89%|████████▉ | 34/38 [00:01<00:00, 24.03it/s]"
     ]
    },
    {
     "name": "stdout",
     "output_type": "stream",
     "text": [
      "Epoch: 62 (30/38)\n",
      "\tData load time: 0.143 sec\n",
      "\tGeneration time: 0.154 sec\n",
      "\tBackprop time: 0.176 sec\n",
      "\tLog probability: -4.7433 (avg -7.8743)\n",
      "\tKL: 1.5131 (avg 1.8025)\n",
      "\tLoss: 19.8740 (avg 25.8995)\n"
     ]
    },
    {
     "name": "stderr",
     "output_type": "stream",
     "text": [
      "100%|██████████| 38/38 [00:01<00:00, 23.21it/s]\n",
      "100%|██████████| 10/10 [00:00<00:00, 29.57it/s]\n",
      "  0%|          | 0/38 [00:00<?, ?it/s]"
     ]
    },
    {
     "name": "stdout",
     "output_type": "stream",
     "text": [
      "Epoch: 62 (10/10)\n",
      "\tData load time: 0.144 sec\n",
      "\tGeneration time: 0.155 sec\n",
      "\tLog probability: -7.2663 (avg -3.8318)\n",
      "\tKL: 1.3511 (avg 1.1286)\n",
      "\tLoss: 20.7769 (avg 15.1182)\n",
      "Lowest validation loss: 7.9596\n"
     ]
    },
    {
     "name": "stderr",
     "output_type": "stream",
     "text": [
      " 34%|███▍      | 13/38 [00:00<00:01, 13.90it/s]"
     ]
    },
    {
     "name": "stdout",
     "output_type": "stream",
     "text": [
      "Epoch: 63 (10/38)\n",
      "\tData load time: 0.147 sec\n",
      "\tGeneration time: 0.158 sec\n",
      "\tBackprop time: 0.179 sec\n",
      "\tLog probability: -4.0392 (avg -4.3659)\n",
      "\tKL: 0.9838 (avg 1.1066)\n",
      "\tLoss: 13.8772 (avg 15.4319)\n"
     ]
    },
    {
     "name": "stderr",
     "output_type": "stream",
     "text": [
      " 66%|██████▌   | 25/38 [00:01<00:00, 21.27it/s]"
     ]
    },
    {
     "name": "stdout",
     "output_type": "stream",
     "text": [
      "Epoch: 63 (20/38)\n",
      "\tData load time: 0.147 sec\n",
      "\tGeneration time: 0.158 sec\n",
      "\tBackprop time: 0.179 sec\n",
      "\tLog probability: -2.9095 (avg -4.5584)\n",
      "\tKL: 0.7779 (avg 1.0300)\n",
      "\tLoss: 10.6888 (avg 14.8581)\n"
     ]
    },
    {
     "name": "stderr",
     "output_type": "stream",
     "text": [
      " 89%|████████▉ | 34/38 [00:01<00:00, 24.01it/s]"
     ]
    },
    {
     "name": "stdout",
     "output_type": "stream",
     "text": [
      "Epoch: 63 (30/38)\n",
      "\tData load time: 0.147 sec\n",
      "\tGeneration time: 0.158 sec\n",
      "\tBackprop time: 0.179 sec\n",
      "\tLog probability: -3.1770 (avg -4.4641)\n",
      "\tKL: 0.6621 (avg 0.9515)\n",
      "\tLoss: 9.7982 (avg 13.9787)\n"
     ]
    },
    {
     "name": "stderr",
     "output_type": "stream",
     "text": [
      "100%|██████████| 38/38 [00:01<00:00, 23.22it/s]\n",
      "100%|██████████| 10/10 [00:00<00:00, 30.60it/s]\n",
      "  0%|          | 0/38 [00:00<?, ?it/s]"
     ]
    },
    {
     "name": "stdout",
     "output_type": "stream",
     "text": [
      "Epoch: 63 (10/10)\n",
      "\tData load time: 0.127 sec\n",
      "\tGeneration time: 0.138 sec\n",
      "\tLog probability: -2.3171 (avg -2.6424)\n",
      "\tKL: 0.6446 (avg 0.6563)\n",
      "\tLoss: 8.7635 (avg 9.2054)\n",
      "Lowest validation loss: 7.9596\n"
     ]
    },
    {
     "name": "stderr",
     "output_type": "stream",
     "text": [
      " 34%|███▍      | 13/38 [00:00<00:01, 13.70it/s]"
     ]
    },
    {
     "name": "stdout",
     "output_type": "stream",
     "text": [
      "Epoch: 64 (10/38)\n",
      "\tData load time: 0.153 sec\n",
      "\tGeneration time: 0.163 sec\n",
      "\tBackprop time: 0.184 sec\n",
      "\tLog probability: -6.2218 (avg -5.7928)\n",
      "\tKL: 0.6168 (avg 0.6929)\n",
      "\tLoss: 12.3894 (avg 12.7215)\n"
     ]
    },
    {
     "name": "stderr",
     "output_type": "stream",
     "text": [
      " 66%|██████▌   | 25/38 [00:01<00:00, 21.21it/s]"
     ]
    },
    {
     "name": "stdout",
     "output_type": "stream",
     "text": [
      "Epoch: 64 (20/38)\n",
      "\tData load time: 0.153 sec\n",
      "\tGeneration time: 0.163 sec\n",
      "\tBackprop time: 0.184 sec\n",
      "\tLog probability: -7.4518 (avg -5.1541)\n",
      "\tKL: 0.7946 (avg 0.7159)\n",
      "\tLoss: 15.3977 (avg 12.3132)\n"
     ]
    },
    {
     "name": "stderr",
     "output_type": "stream",
     "text": [
      " 89%|████████▉ | 34/38 [00:01<00:00, 23.99it/s]"
     ]
    },
    {
     "name": "stdout",
     "output_type": "stream",
     "text": [
      "Epoch: 64 (30/38)\n",
      "\tData load time: 0.153 sec\n",
      "\tGeneration time: 0.163 sec\n",
      "\tBackprop time: 0.184 sec\n",
      "\tLog probability: -2.5289 (avg -5.0278)\n",
      "\tKL: 0.6133 (avg 0.7107)\n",
      "\tLoss: 8.6622 (avg 12.1348)\n"
     ]
    },
    {
     "name": "stderr",
     "output_type": "stream",
     "text": [
      "100%|██████████| 38/38 [00:01<00:00, 23.21it/s]\n",
      "100%|██████████| 10/10 [00:00<00:00, 30.60it/s]\n",
      "  0%|          | 0/38 [00:00<?, ?it/s]"
     ]
    },
    {
     "name": "stdout",
     "output_type": "stream",
     "text": [
      "Epoch: 64 (10/10)\n",
      "\tData load time: 0.128 sec\n",
      "\tGeneration time: 0.141 sec\n",
      "\tLog probability: -1.4902 (avg -2.2907)\n",
      "\tKL: 0.6450 (avg 0.5918)\n",
      "\tLoss: 7.9400 (avg 8.2086)\n",
      "Lowest validation loss: 7.9596\n"
     ]
    },
    {
     "name": "stderr",
     "output_type": "stream",
     "text": [
      " 34%|███▍      | 13/38 [00:00<00:01, 13.77it/s]"
     ]
    },
    {
     "name": "stdout",
     "output_type": "stream",
     "text": [
      "Epoch: 65 (10/38)\n",
      "\tData load time: 0.149 sec\n",
      "\tGeneration time: 0.163 sec\n",
      "\tBackprop time: 0.182 sec\n",
      "\tLog probability: -4.1153 (avg -4.6082)\n",
      "\tKL: 0.7365 (avg 0.6741)\n",
      "\tLoss: 11.4803 (avg 11.3495)\n"
     ]
    },
    {
     "name": "stderr",
     "output_type": "stream",
     "text": [
      " 66%|██████▌   | 25/38 [00:01<00:00, 21.31it/s]"
     ]
    },
    {
     "name": "stdout",
     "output_type": "stream",
     "text": [
      "Epoch: 65 (20/38)\n",
      "\tData load time: 0.149 sec\n",
      "\tGeneration time: 0.163 sec\n",
      "\tBackprop time: 0.182 sec\n",
      "\tLog probability: -3.0577 (avg -4.4385)\n",
      "\tKL: 0.6426 (avg 0.6466)\n",
      "\tLoss: 9.4836 (avg 10.9049)\n"
     ]
    },
    {
     "name": "stderr",
     "output_type": "stream",
     "text": [
      " 89%|████████▉ | 34/38 [00:01<00:00, 24.09it/s]"
     ]
    },
    {
     "name": "stdout",
     "output_type": "stream",
     "text": [
      "Epoch: 65 (30/38)\n",
      "\tData load time: 0.149 sec\n",
      "\tGeneration time: 0.163 sec\n",
      "\tBackprop time: 0.182 sec\n",
      "\tLog probability: -4.0359 (avg -4.3584)\n",
      "\tKL: 0.5988 (avg 0.6484)\n",
      "\tLoss: 10.0244 (avg 10.8427)\n"
     ]
    },
    {
     "name": "stderr",
     "output_type": "stream",
     "text": [
      "100%|██████████| 38/38 [00:01<00:00, 23.29it/s]\n",
      "100%|██████████| 10/10 [00:00<00:00, 29.36it/s]\n",
      "  0%|          | 0/38 [00:00<?, ?it/s]"
     ]
    },
    {
     "name": "stdout",
     "output_type": "stream",
     "text": [
      "Epoch: 65 (10/10)\n",
      "\tData load time: 0.148 sec\n",
      "\tGeneration time: 0.158 sec\n",
      "\tLog probability: -2.2130 (avg -2.4650)\n",
      "\tKL: 0.5568 (avg 0.5755)\n",
      "\tLoss: 7.7812 (avg 8.2203)\n",
      "Lowest validation loss: 7.9596\n"
     ]
    },
    {
     "name": "stderr",
     "output_type": "stream",
     "text": [
      " 34%|███▍      | 13/38 [00:00<00:01, 14.11it/s]"
     ]
    },
    {
     "name": "stdout",
     "output_type": "stream",
     "text": [
      "Epoch: 66 (10/38)\n",
      "\tData load time: 0.142 sec\n",
      "\tGeneration time: 0.153 sec\n",
      "\tBackprop time: 0.174 sec\n",
      "\tLog probability: -4.9273 (avg -4.6728)\n",
      "\tKL: 0.7421 (avg 0.5913)\n",
      "\tLoss: 12.3488 (avg 10.5858)\n"
     ]
    },
    {
     "name": "stderr",
     "output_type": "stream",
     "text": [
      " 66%|██████▌   | 25/38 [00:01<00:00, 21.41it/s]"
     ]
    },
    {
     "name": "stdout",
     "output_type": "stream",
     "text": [
      "Epoch: 66 (20/38)\n",
      "\tData load time: 0.142 sec\n",
      "\tGeneration time: 0.153 sec\n",
      "\tBackprop time: 0.174 sec\n",
      "\tLog probability: -4.8592 (avg -4.5707)\n",
      "\tKL: 0.6125 (avg 0.5853)\n",
      "\tLoss: 10.9840 (avg 10.4233)\n"
     ]
    },
    {
     "name": "stderr",
     "output_type": "stream",
     "text": [
      " 89%|████████▉ | 34/38 [00:01<00:00, 24.11it/s]"
     ]
    },
    {
     "name": "stdout",
     "output_type": "stream",
     "text": [
      "Epoch: 66 (30/38)\n",
      "\tData load time: 0.142 sec\n",
      "\tGeneration time: 0.153 sec\n",
      "\tBackprop time: 0.174 sec\n",
      "\tLog probability: -3.0573 (avg -4.3254)\n",
      "\tKL: 0.4524 (avg 0.5696)\n",
      "\tLoss: 7.5812 (avg 10.0217)\n"
     ]
    },
    {
     "name": "stderr",
     "output_type": "stream",
     "text": [
      "100%|██████████| 38/38 [00:01<00:00, 23.33it/s]\n",
      "100%|██████████| 10/10 [00:00<00:00, 29.76it/s]\n"
     ]
    },
    {
     "name": "stdout",
     "output_type": "stream",
     "text": [
      "Epoch: 66 (10/10)\n",
      "\tData load time: 0.145 sec\n",
      "\tGeneration time: 0.153 sec\n",
      "\tLog probability: -1.9229 (avg -2.4366)\n",
      "\tKL: 0.6495 (avg 0.4850)\n",
      "\tLoss: 8.4179 (avg 7.2862)\n",
      "Saving checkpoint..\n"
     ]
    },
    {
     "name": "stderr",
     "output_type": "stream",
     "text": [
      "  0%|          | 0/38 [00:00<?, ?it/s]"
     ]
    },
    {
     "name": "stdout",
     "output_type": "stream",
     "text": [
      "Lowest validation loss: 7.2862\n"
     ]
    },
    {
     "name": "stderr",
     "output_type": "stream",
     "text": [
      " 34%|███▍      | 13/38 [00:00<00:01, 13.77it/s]"
     ]
    },
    {
     "name": "stdout",
     "output_type": "stream",
     "text": [
      "Epoch: 67 (10/38)\n",
      "\tData load time: 0.149 sec\n",
      "\tGeneration time: 0.162 sec\n",
      "\tBackprop time: 0.181 sec\n",
      "\tLog probability: -3.0111 (avg -4.5190)\n",
      "\tKL: 0.4507 (avg 0.5279)\n",
      "\tLoss: 7.5185 (avg 9.7982)\n"
     ]
    },
    {
     "name": "stderr",
     "output_type": "stream",
     "text": [
      " 66%|██████▌   | 25/38 [00:01<00:00, 21.35it/s]"
     ]
    },
    {
     "name": "stdout",
     "output_type": "stream",
     "text": [
      "Epoch: 67 (20/38)\n",
      "\tData load time: 0.149 sec\n",
      "\tGeneration time: 0.162 sec\n",
      "\tBackprop time: 0.181 sec\n",
      "\tLog probability: -2.4101 (avg -4.7700)\n",
      "\tKL: 0.4913 (avg 0.5504)\n",
      "\tLoss: 7.3228 (avg 10.2736)\n"
     ]
    },
    {
     "name": "stderr",
     "output_type": "stream",
     "text": [
      " 89%|████████▉ | 34/38 [00:01<00:00, 24.06it/s]"
     ]
    },
    {
     "name": "stdout",
     "output_type": "stream",
     "text": [
      "Epoch: 67 (30/38)\n",
      "\tData load time: 0.149 sec\n",
      "\tGeneration time: 0.162 sec\n",
      "\tBackprop time: 0.181 sec\n",
      "\tLog probability: -4.9517 (avg -4.7414)\n",
      "\tKL: 0.7212 (avg 0.5691)\n",
      "\tLoss: 12.1642 (avg 10.4328)\n"
     ]
    },
    {
     "name": "stderr",
     "output_type": "stream",
     "text": [
      "100%|██████████| 38/38 [00:01<00:00, 23.28it/s]\n",
      "100%|██████████| 10/10 [00:00<00:00, 29.42it/s]\n",
      "  0%|          | 0/38 [00:00<?, ?it/s]"
     ]
    },
    {
     "name": "stdout",
     "output_type": "stream",
     "text": [
      "Epoch: 67 (10/10)\n",
      "\tData load time: 0.141 sec\n",
      "\tGeneration time: 0.152 sec\n",
      "\tLog probability: -2.7066 (avg -2.5254)\n",
      "\tKL: 0.6007 (avg 0.6607)\n",
      "\tLoss: 8.7132 (avg 9.1320)\n",
      "Lowest validation loss: 7.2862\n"
     ]
    },
    {
     "name": "stderr",
     "output_type": "stream",
     "text": [
      " 34%|███▍      | 13/38 [00:00<00:01, 14.17it/s]"
     ]
    },
    {
     "name": "stdout",
     "output_type": "stream",
     "text": [
      "Epoch: 68 (10/38)\n",
      "\tData load time: 0.142 sec\n",
      "\tGeneration time: 0.151 sec\n",
      "\tBackprop time: 0.173 sec\n",
      "\tLog probability: -2.5702 (avg -3.8995)\n",
      "\tKL: 0.5286 (avg 0.5911)\n",
      "\tLoss: 7.8564 (avg 9.8109)\n"
     ]
    },
    {
     "name": "stderr",
     "output_type": "stream",
     "text": [
      " 66%|██████▌   | 25/38 [00:01<00:00, 21.45it/s]"
     ]
    },
    {
     "name": "stdout",
     "output_type": "stream",
     "text": [
      "Epoch: 68 (20/38)\n",
      "\tData load time: 0.142 sec\n",
      "\tGeneration time: 0.151 sec\n",
      "\tBackprop time: 0.173 sec\n",
      "\tLog probability: -4.9498 (avg -4.1419)\n",
      "\tKL: 0.6516 (avg 0.6155)\n",
      "\tLoss: 11.4658 (avg 10.2972)\n"
     ]
    },
    {
     "name": "stderr",
     "output_type": "stream",
     "text": [
      " 89%|████████▉ | 34/38 [00:01<00:00, 24.12it/s]"
     ]
    },
    {
     "name": "stdout",
     "output_type": "stream",
     "text": [
      "Epoch: 68 (30/38)\n",
      "\tData load time: 0.142 sec\n",
      "\tGeneration time: 0.151 sec\n",
      "\tBackprop time: 0.173 sec\n",
      "\tLog probability: -9.4073 (avg -4.3271)\n",
      "\tKL: 0.7536 (avg 0.6239)\n",
      "\tLoss: 16.9436 (avg 10.5659)\n"
     ]
    },
    {
     "name": "stderr",
     "output_type": "stream",
     "text": [
      "100%|██████████| 38/38 [00:01<00:00, 23.34it/s]\n",
      "100%|██████████| 10/10 [00:00<00:00, 31.38it/s]\n",
      "  0%|          | 0/38 [00:00<?, ?it/s]"
     ]
    },
    {
     "name": "stdout",
     "output_type": "stream",
     "text": [
      "Epoch: 68 (10/10)\n",
      "\tData load time: 0.119 sec\n",
      "\tGeneration time: 0.131 sec\n",
      "\tLog probability: -3.3362 (avg -5.2359)\n",
      "\tKL: 0.5676 (avg 0.6523)\n",
      "\tLoss: 9.0126 (avg 11.7588)\n",
      "Lowest validation loss: 7.2862\n"
     ]
    },
    {
     "name": "stderr",
     "output_type": "stream",
     "text": [
      " 34%|███▍      | 13/38 [00:00<00:01, 14.10it/s]"
     ]
    },
    {
     "name": "stdout",
     "output_type": "stream",
     "text": [
      "Epoch: 69 (10/38)\n",
      "\tData load time: 0.143 sec\n",
      "\tGeneration time: 0.153 sec\n",
      "\tBackprop time: 0.174 sec\n",
      "\tLog probability: -4.5598 (avg -4.7829)\n",
      "\tKL: 0.9110 (avg 0.7019)\n",
      "\tLoss: 13.6695 (avg 11.8015)\n"
     ]
    },
    {
     "name": "stderr",
     "output_type": "stream",
     "text": [
      " 66%|██████▌   | 25/38 [00:01<00:00, 21.50it/s]"
     ]
    },
    {
     "name": "stdout",
     "output_type": "stream",
     "text": [
      "Epoch: 69 (20/38)\n",
      "\tData load time: 0.143 sec\n",
      "\tGeneration time: 0.153 sec\n",
      "\tBackprop time: 0.174 sec\n",
      "\tLog probability: -4.1349 (avg -5.0598)\n",
      "\tKL: 0.6281 (avg 0.7124)\n",
      "\tLoss: 10.4162 (avg 12.1838)\n"
     ]
    },
    {
     "name": "stderr",
     "output_type": "stream",
     "text": [
      " 89%|████████▉ | 34/38 [00:01<00:00, 24.11it/s]"
     ]
    },
    {
     "name": "stdout",
     "output_type": "stream",
     "text": [
      "Epoch: 69 (30/38)\n",
      "\tData load time: 0.143 sec\n",
      "\tGeneration time: 0.153 sec\n",
      "\tBackprop time: 0.174 sec\n",
      "\tLog probability: -5.0047 (avg -4.8671)\n",
      "\tKL: 0.6313 (avg 0.6903)\n",
      "\tLoss: 11.3180 (avg 11.7700)\n"
     ]
    },
    {
     "name": "stderr",
     "output_type": "stream",
     "text": [
      "100%|██████████| 38/38 [00:01<00:00, 23.33it/s]\n",
      "100%|██████████| 10/10 [00:00<00:00, 29.38it/s]\n",
      "  0%|          | 0/38 [00:00<?, ?it/s]"
     ]
    },
    {
     "name": "stdout",
     "output_type": "stream",
     "text": [
      "Epoch: 69 (10/10)\n",
      "\tData load time: 0.144 sec\n",
      "\tGeneration time: 0.155 sec\n",
      "\tLog probability: -1.7135 (avg -2.2205)\n",
      "\tKL: 0.3859 (avg 0.5397)\n",
      "\tLoss: 5.5724 (avg 7.6173)\n",
      "Lowest validation loss: 7.2862\n"
     ]
    },
    {
     "name": "stderr",
     "output_type": "stream",
     "text": [
      " 34%|███▍      | 13/38 [00:00<00:01, 14.13it/s]"
     ]
    },
    {
     "name": "stdout",
     "output_type": "stream",
     "text": [
      "Epoch: 70 (10/38)\n",
      "\tData load time: 0.140 sec\n",
      "\tGeneration time: 0.154 sec\n",
      "\tBackprop time: 0.174 sec\n",
      "\tLog probability: -5.7569 (avg -6.0003)\n",
      "\tKL: 1.0296 (avg 0.8829)\n",
      "\tLoss: 16.0533 (avg 14.8294)\n"
     ]
    },
    {
     "name": "stderr",
     "output_type": "stream",
     "text": [
      " 66%|██████▌   | 25/38 [00:01<00:00, 21.44it/s]"
     ]
    },
    {
     "name": "stdout",
     "output_type": "stream",
     "text": [
      "Epoch: 70 (20/38)\n",
      "\tData load time: 0.140 sec\n",
      "\tGeneration time: 0.154 sec\n",
      "\tBackprop time: 0.174 sec\n",
      "\tLog probability: -5.8188 (avg -5.7837)\n",
      "\tKL: 0.8421 (avg 0.9532)\n",
      "\tLoss: 14.2393 (avg 15.3156)\n"
     ]
    },
    {
     "name": "stderr",
     "output_type": "stream",
     "text": [
      " 89%|████████▉ | 34/38 [00:01<00:00, 24.10it/s]"
     ]
    },
    {
     "name": "stdout",
     "output_type": "stream",
     "text": [
      "Epoch: 70 (30/38)\n",
      "\tData load time: 0.140 sec\n",
      "\tGeneration time: 0.154 sec\n",
      "\tBackprop time: 0.174 sec\n",
      "\tLog probability: -3.1179 (avg -5.2222)\n",
      "\tKL: 0.8365 (avg 0.9182)\n",
      "\tLoss: 11.4827 (avg 14.4040)\n"
     ]
    },
    {
     "name": "stderr",
     "output_type": "stream",
     "text": [
      "100%|██████████| 38/38 [00:01<00:00, 23.35it/s]\n",
      "100%|██████████| 10/10 [00:00<00:00, 30.53it/s]\n",
      "  0%|          | 0/38 [00:00<?, ?it/s]"
     ]
    },
    {
     "name": "stdout",
     "output_type": "stream",
     "text": [
      "Epoch: 70 (10/10)\n",
      "\tData load time: 0.128 sec\n",
      "\tGeneration time: 0.142 sec\n",
      "\tLog probability: -3.3863 (avg -3.0930)\n",
      "\tKL: 1.3124 (avg 0.8155)\n",
      "\tLoss: 16.5102 (avg 11.2482)\n",
      "Lowest validation loss: 7.2862\n"
     ]
    },
    {
     "name": "stderr",
     "output_type": "stream",
     "text": [
      " 34%|███▍      | 13/38 [00:00<00:01, 14.23it/s]"
     ]
    },
    {
     "name": "stdout",
     "output_type": "stream",
     "text": [
      "Epoch: 71 (10/38)\n",
      "\tData load time: 0.137 sec\n",
      "\tGeneration time: 0.154 sec\n",
      "\tBackprop time: 0.172 sec\n",
      "\tLog probability: -4.2697 (avg -3.9999)\n",
      "\tKL: 0.6125 (avg 0.6619)\n",
      "\tLoss: 10.3951 (avg 10.6187)\n"
     ]
    },
    {
     "name": "stderr",
     "output_type": "stream",
     "text": [
      " 66%|██████▌   | 25/38 [00:01<00:00, 21.53it/s]"
     ]
    },
    {
     "name": "stdout",
     "output_type": "stream",
     "text": [
      "Epoch: 71 (20/38)\n",
      "\tData load time: 0.137 sec\n",
      "\tGeneration time: 0.154 sec\n",
      "\tBackprop time: 0.172 sec\n",
      "\tLog probability: -5.9684 (avg -4.2729)\n",
      "\tKL: 0.5101 (avg 0.6642)\n",
      "\tLoss: 11.0690 (avg 10.9152)\n"
     ]
    },
    {
     "name": "stderr",
     "output_type": "stream",
     "text": [
      " 89%|████████▉ | 34/38 [00:01<00:00, 24.18it/s]"
     ]
    },
    {
     "name": "stdout",
     "output_type": "stream",
     "text": [
      "Epoch: 71 (30/38)\n",
      "\tData load time: 0.137 sec\n",
      "\tGeneration time: 0.154 sec\n",
      "\tBackprop time: 0.172 sec\n",
      "\tLog probability: -11.7935 (avg -4.5378)\n",
      "\tKL: 0.6182 (avg 0.6610)\n",
      "\tLoss: 17.9758 (avg 11.1473)\n"
     ]
    },
    {
     "name": "stderr",
     "output_type": "stream",
     "text": [
      "100%|██████████| 38/38 [00:01<00:00, 23.38it/s]\n",
      "100%|██████████| 10/10 [00:00<00:00, 30.09it/s]\n",
      "  0%|          | 0/38 [00:00<?, ?it/s]"
     ]
    },
    {
     "name": "stdout",
     "output_type": "stream",
     "text": [
      "Epoch: 71 (10/10)\n",
      "\tData load time: 0.138 sec\n",
      "\tGeneration time: 0.149 sec\n",
      "\tLog probability: -2.5900 (avg -2.7034)\n",
      "\tKL: 1.4463 (avg 0.8876)\n",
      "\tLoss: 17.0532 (avg 11.5794)\n",
      "Lowest validation loss: 7.2862\n"
     ]
    },
    {
     "name": "stderr",
     "output_type": "stream",
     "text": [
      " 34%|███▍      | 13/38 [00:00<00:01, 13.70it/s]"
     ]
    },
    {
     "name": "stdout",
     "output_type": "stream",
     "text": [
      "Epoch: 72 (10/38)\n",
      "\tData load time: 0.152 sec\n",
      "\tGeneration time: 0.162 sec\n",
      "\tBackprop time: 0.183 sec\n",
      "\tLog probability: -3.0346 (avg -4.8247)\n",
      "\tKL: 0.6744 (avg 0.7413)\n",
      "\tLoss: 9.7788 (avg 12.2378)\n"
     ]
    },
    {
     "name": "stderr",
     "output_type": "stream",
     "text": [
      " 66%|██████▌   | 25/38 [00:01<00:00, 21.26it/s]"
     ]
    },
    {
     "name": "stdout",
     "output_type": "stream",
     "text": [
      "Epoch: 72 (20/38)\n",
      "\tData load time: 0.152 sec\n",
      "\tGeneration time: 0.162 sec\n",
      "\tBackprop time: 0.183 sec\n",
      "\tLog probability: -5.2478 (avg -4.5992)\n",
      "\tKL: 0.6609 (avg 0.7047)\n",
      "\tLoss: 11.8565 (avg 11.6458)\n"
     ]
    },
    {
     "name": "stderr",
     "output_type": "stream",
     "text": [
      " 89%|████████▉ | 34/38 [00:01<00:00, 23.97it/s]"
     ]
    },
    {
     "name": "stdout",
     "output_type": "stream",
     "text": [
      "Epoch: 72 (30/38)\n",
      "\tData load time: 0.152 sec\n",
      "\tGeneration time: 0.162 sec\n",
      "\tBackprop time: 0.183 sec\n",
      "\tLog probability: -3.1263 (avg -4.3444)\n",
      "\tKL: 0.5147 (avg 0.6842)\n",
      "\tLoss: 8.2736 (avg 11.1861)\n"
     ]
    },
    {
     "name": "stderr",
     "output_type": "stream",
     "text": [
      "100%|██████████| 38/38 [00:01<00:00, 23.22it/s]\n",
      "100%|██████████| 10/10 [00:00<00:00, 29.83it/s]\n",
      "  0%|          | 0/38 [00:00<?, ?it/s]"
     ]
    },
    {
     "name": "stdout",
     "output_type": "stream",
     "text": [
      "Epoch: 72 (10/10)\n",
      "\tData load time: 0.141 sec\n",
      "\tGeneration time: 0.152 sec\n",
      "\tLog probability: -7.7955 (avg -3.6343)\n",
      "\tKL: 0.6622 (avg 0.5805)\n",
      "\tLoss: 14.4176 (avg 9.4394)\n",
      "Lowest validation loss: 7.2862\n"
     ]
    },
    {
     "name": "stderr",
     "output_type": "stream",
     "text": [
      " 34%|███▍      | 13/38 [00:00<00:01, 14.42it/s]"
     ]
    },
    {
     "name": "stdout",
     "output_type": "stream",
     "text": [
      "Epoch: 73 (10/38)\n",
      "\tData load time: 0.136 sec\n",
      "\tGeneration time: 0.148 sec\n",
      "\tBackprop time: 0.169 sec\n",
      "\tLog probability: -3.4249 (avg -5.8290)\n",
      "\tKL: 0.5665 (avg 0.6827)\n",
      "\tLoss: 9.0899 (avg 12.6560)\n"
     ]
    },
    {
     "name": "stderr",
     "output_type": "stream",
     "text": [
      " 66%|██████▌   | 25/38 [00:01<00:00, 21.61it/s]"
     ]
    },
    {
     "name": "stdout",
     "output_type": "stream",
     "text": [
      "Epoch: 73 (20/38)\n",
      "\tData load time: 0.136 sec\n",
      "\tGeneration time: 0.148 sec\n",
      "\tBackprop time: 0.169 sec\n",
      "\tLog probability: -4.1028 (avg -5.4739)\n",
      "\tKL: 0.6956 (avg 0.6625)\n",
      "\tLoss: 11.0588 (avg 12.0992)\n"
     ]
    },
    {
     "name": "stderr",
     "output_type": "stream",
     "text": [
      " 89%|████████▉ | 34/38 [00:01<00:00, 24.21it/s]"
     ]
    },
    {
     "name": "stdout",
     "output_type": "stream",
     "text": [
      "Epoch: 73 (30/38)\n",
      "\tData load time: 0.136 sec\n",
      "\tGeneration time: 0.148 sec\n",
      "\tBackprop time: 0.169 sec\n",
      "\tLog probability: -4.0619 (avg -4.9992)\n",
      "\tKL: 0.4837 (avg 0.6286)\n",
      "\tLoss: 8.8988 (avg 11.2849)\n"
     ]
    },
    {
     "name": "stderr",
     "output_type": "stream",
     "text": [
      "100%|██████████| 38/38 [00:01<00:00, 23.44it/s]\n",
      "100%|██████████| 10/10 [00:00<00:00, 29.90it/s]\n",
      "  0%|          | 0/38 [00:00<?, ?it/s]"
     ]
    },
    {
     "name": "stdout",
     "output_type": "stream",
     "text": [
      "Epoch: 73 (10/10)\n",
      "\tData load time: 0.144 sec\n",
      "\tGeneration time: 0.156 sec\n",
      "\tLog probability: -1.8683 (avg -2.1139)\n",
      "\tKL: 0.4145 (avg 0.5293)\n",
      "\tLoss: 6.0135 (avg 7.4072)\n",
      "Lowest validation loss: 7.2862\n"
     ]
    },
    {
     "name": "stderr",
     "output_type": "stream",
     "text": [
      " 34%|███▍      | 13/38 [00:00<00:01, 14.67it/s]"
     ]
    },
    {
     "name": "stdout",
     "output_type": "stream",
     "text": [
      "Epoch: 74 (10/38)\n",
      "\tData load time: 0.124 sec\n",
      "\tGeneration time: 0.138 sec\n",
      "\tBackprop time: 0.163 sec\n",
      "\tLog probability: -5.6528 (avg -4.1674)\n",
      "\tKL: 0.6700 (avg 0.6302)\n",
      "\tLoss: 12.3526 (avg 10.4692)\n"
     ]
    },
    {
     "name": "stderr",
     "output_type": "stream",
     "text": [
      " 66%|██████▌   | 25/38 [00:01<00:00, 21.77it/s]"
     ]
    },
    {
     "name": "stdout",
     "output_type": "stream",
     "text": [
      "Epoch: 74 (20/38)\n",
      "\tData load time: 0.124 sec\n",
      "\tGeneration time: 0.138 sec\n",
      "\tBackprop time: 0.163 sec\n",
      "\tLog probability: -3.3424 (avg -4.3594)\n",
      "\tKL: 0.5810 (avg 0.6388)\n",
      "\tLoss: 9.1526 (avg 10.7470)\n"
     ]
    },
    {
     "name": "stderr",
     "output_type": "stream",
     "text": [
      " 89%|████████▉ | 34/38 [00:01<00:00, 24.16it/s]"
     ]
    },
    {
     "name": "stdout",
     "output_type": "stream",
     "text": [
      "Epoch: 74 (30/38)\n",
      "\tData load time: 0.124 sec\n",
      "\tGeneration time: 0.138 sec\n",
      "\tBackprop time: 0.163 sec\n",
      "\tLog probability: -3.3888 (avg -4.1634)\n",
      "\tKL: 0.5252 (avg 0.6151)\n",
      "\tLoss: 8.6406 (avg 10.3148)\n"
     ]
    },
    {
     "name": "stderr",
     "output_type": "stream",
     "text": [
      "100%|██████████| 38/38 [00:01<00:00, 23.50it/s]\n",
      "100%|██████████| 10/10 [00:00<00:00, 28.95it/s]\n",
      "  0%|          | 0/38 [00:00<?, ?it/s]"
     ]
    },
    {
     "name": "stdout",
     "output_type": "stream",
     "text": [
      "Epoch: 74 (10/10)\n",
      "\tData load time: 0.136 sec\n",
      "\tGeneration time: 0.152 sec\n",
      "\tLog probability: -1.6384 (avg -2.7989)\n",
      "\tKL: 0.5766 (avg 0.6998)\n",
      "\tLoss: 7.4039 (avg 9.7973)\n",
      "Lowest validation loss: 7.2862\n"
     ]
    },
    {
     "name": "stderr",
     "output_type": "stream",
     "text": [
      " 34%|███▍      | 13/38 [00:00<00:01, 13.90it/s]"
     ]
    },
    {
     "name": "stdout",
     "output_type": "stream",
     "text": [
      "Epoch: 75 (10/38)\n",
      "\tData load time: 0.145 sec\n",
      "\tGeneration time: 0.158 sec\n",
      "\tBackprop time: 0.178 sec\n",
      "\tLog probability: -5.6201 (avg -4.7385)\n",
      "\tKL: 0.7062 (avg 0.6868)\n",
      "\tLoss: 12.6823 (avg 11.6062)\n"
     ]
    },
    {
     "name": "stderr",
     "output_type": "stream",
     "text": [
      " 66%|██████▌   | 25/38 [00:01<00:00, 21.35it/s]"
     ]
    },
    {
     "name": "stdout",
     "output_type": "stream",
     "text": [
      "Epoch: 75 (20/38)\n",
      "\tData load time: 0.145 sec\n",
      "\tGeneration time: 0.158 sec\n",
      "\tBackprop time: 0.178 sec\n",
      "\tLog probability: -4.8412 (avg -5.1542)\n",
      "\tKL: 0.7589 (avg 0.6975)\n",
      "\tLoss: 12.4299 (avg 12.1291)\n"
     ]
    },
    {
     "name": "stderr",
     "output_type": "stream",
     "text": [
      " 89%|████████▉ | 34/38 [00:01<00:00, 24.06it/s]"
     ]
    },
    {
     "name": "stdout",
     "output_type": "stream",
     "text": [
      "Epoch: 75 (30/38)\n",
      "\tData load time: 0.145 sec\n",
      "\tGeneration time: 0.158 sec\n",
      "\tBackprop time: 0.178 sec\n",
      "\tLog probability: -3.6167 (avg -4.7812)\n",
      "\tKL: 0.5835 (avg 0.6576)\n",
      "\tLoss: 9.4521 (avg 11.3573)\n"
     ]
    },
    {
     "name": "stderr",
     "output_type": "stream",
     "text": [
      "100%|██████████| 38/38 [00:01<00:00, 23.10it/s]\n",
      "100%|██████████| 10/10 [00:00<00:00, 30.05it/s]\n",
      "  0%|          | 0/38 [00:00<?, ?it/s]"
     ]
    },
    {
     "name": "stdout",
     "output_type": "stream",
     "text": [
      "Epoch: 75 (10/10)\n",
      "\tData load time: 0.137 sec\n",
      "\tGeneration time: 0.146 sec\n",
      "\tLog probability: -2.0179 (avg -2.2297)\n",
      "\tKL: 0.5688 (avg 0.5371)\n",
      "\tLoss: 7.7059 (avg 7.6010)\n",
      "Lowest validation loss: 7.2862\n"
     ]
    },
    {
     "name": "stderr",
     "output_type": "stream",
     "text": [
      " 34%|███▍      | 13/38 [00:00<00:01, 14.01it/s]"
     ]
    },
    {
     "name": "stdout",
     "output_type": "stream",
     "text": [
      "Epoch: 76 (10/38)\n",
      "\tData load time: 0.137 sec\n",
      "\tGeneration time: 0.150 sec\n",
      "\tBackprop time: 0.176 sec\n",
      "\tLog probability: -3.5381 (avg -3.9702)\n",
      "\tKL: 0.5410 (avg 0.5768)\n",
      "\tLoss: 8.9481 (avg 9.7378)\n"
     ]
    },
    {
     "name": "stderr",
     "output_type": "stream",
     "text": [
      " 66%|██████▌   | 25/38 [00:01<00:00, 21.28it/s]"
     ]
    },
    {
     "name": "stdout",
     "output_type": "stream",
     "text": [
      "Epoch: 76 (20/38)\n",
      "\tData load time: 0.137 sec\n",
      "\tGeneration time: 0.150 sec\n",
      "\tBackprop time: 0.176 sec\n",
      "\tLog probability: -3.5815 (avg -4.3090)\n",
      "\tKL: 0.5341 (avg 0.6065)\n",
      "\tLoss: 8.9229 (avg 10.3740)\n"
     ]
    },
    {
     "name": "stderr",
     "output_type": "stream",
     "text": [
      " 89%|████████▉ | 34/38 [00:01<00:00, 23.99it/s]"
     ]
    },
    {
     "name": "stdout",
     "output_type": "stream",
     "text": [
      "Epoch: 76 (30/38)\n",
      "\tData load time: 0.137 sec\n",
      "\tGeneration time: 0.150 sec\n",
      "\tBackprop time: 0.176 sec\n",
      "\tLog probability: -3.3543 (avg -4.3996)\n",
      "\tKL: 0.7261 (avg 0.6041)\n",
      "\tLoss: 10.6156 (avg 10.4410)\n"
     ]
    },
    {
     "name": "stderr",
     "output_type": "stream",
     "text": [
      "100%|██████████| 38/38 [00:01<00:00, 23.09it/s]\n",
      "100%|██████████| 10/10 [00:00<00:00, 25.01it/s]\n",
      "  0%|          | 0/38 [00:00<?, ?it/s]"
     ]
    },
    {
     "name": "stdout",
     "output_type": "stream",
     "text": [
      "Epoch: 76 (10/10)\n",
      "\tData load time: 0.197 sec\n",
      "\tGeneration time: 0.209 sec\n",
      "\tLog probability: -1.1463 (avg -2.5675)\n",
      "\tKL: 0.3098 (avg 0.5850)\n",
      "\tLoss: 4.2443 (avg 8.4175)\n",
      "Lowest validation loss: 7.2862\n"
     ]
    },
    {
     "name": "stderr",
     "output_type": "stream",
     "text": [
      " 34%|███▍      | 13/38 [00:00<00:01, 12.84it/s]"
     ]
    },
    {
     "name": "stdout",
     "output_type": "stream",
     "text": [
      "Epoch: 77 (10/38)\n",
      "\tData load time: 0.169 sec\n",
      "\tGeneration time: 0.182 sec\n",
      "\tBackprop time: 0.202 sec\n",
      "\tLog probability: -3.7640 (avg -6.4840)\n",
      "\tKL: 0.5637 (avg 0.6154)\n",
      "\tLoss: 9.4008 (avg 12.6384)\n"
     ]
    },
    {
     "name": "stderr",
     "output_type": "stream",
     "text": [
      " 66%|██████▌   | 25/38 [00:01<00:00, 20.58it/s]"
     ]
    },
    {
     "name": "stdout",
     "output_type": "stream",
     "text": [
      "Epoch: 77 (20/38)\n",
      "\tData load time: 0.169 sec\n",
      "\tGeneration time: 0.182 sec\n",
      "\tBackprop time: 0.202 sec\n",
      "\tLog probability: -6.2196 (avg -5.3248)\n",
      "\tKL: 0.5908 (avg 0.5852)\n",
      "\tLoss: 12.1277 (avg 11.1769)\n"
     ]
    },
    {
     "name": "stderr",
     "output_type": "stream",
     "text": [
      " 89%|████████▉ | 34/38 [00:01<00:00, 23.75it/s]"
     ]
    },
    {
     "name": "stdout",
     "output_type": "stream",
     "text": [
      "Epoch: 77 (30/38)\n",
      "\tData load time: 0.169 sec\n",
      "\tGeneration time: 0.182 sec\n",
      "\tBackprop time: 0.202 sec\n",
      "\tLog probability: -3.8680 (avg -4.9168)\n",
      "\tKL: 0.5268 (avg 0.5720)\n",
      "\tLoss: 9.1358 (avg 10.6365)\n"
     ]
    },
    {
     "name": "stderr",
     "output_type": "stream",
     "text": [
      "100%|██████████| 38/38 [00:01<00:00, 22.78it/s]\n",
      "100%|██████████| 10/10 [00:00<00:00, 28.98it/s]\n",
      "  0%|          | 0/38 [00:00<?, ?it/s]"
     ]
    },
    {
     "name": "stdout",
     "output_type": "stream",
     "text": [
      "Epoch: 77 (10/10)\n",
      "\tData load time: 0.149 sec\n",
      "\tGeneration time: 0.160 sec\n",
      "\tLog probability: -1.9524 (avg -2.2202)\n",
      "\tKL: 0.3547 (avg 0.5113)\n",
      "\tLoss: 5.4990 (avg 7.3328)\n",
      "Lowest validation loss: 7.2862\n"
     ]
    },
    {
     "name": "stderr",
     "output_type": "stream",
     "text": [
      " 34%|███▍      | 13/38 [00:00<00:01, 14.36it/s]"
     ]
    },
    {
     "name": "stdout",
     "output_type": "stream",
     "text": [
      "Epoch: 78 (10/38)\n",
      "\tData load time: 0.129 sec\n",
      "\tGeneration time: 0.152 sec\n",
      "\tBackprop time: 0.169 sec\n",
      "\tLog probability: -5.8101 (avg -4.5989)\n",
      "\tKL: 0.5503 (avg 0.5343)\n",
      "\tLoss: 11.3132 (avg 9.9415)\n"
     ]
    },
    {
     "name": "stderr",
     "output_type": "stream",
     "text": [
      " 66%|██████▌   | 25/38 [00:01<00:00, 21.62it/s]"
     ]
    },
    {
     "name": "stdout",
     "output_type": "stream",
     "text": [
      "Epoch: 78 (20/38)\n",
      "\tData load time: 0.129 sec\n",
      "\tGeneration time: 0.152 sec\n",
      "\tBackprop time: 0.169 sec\n",
      "\tLog probability: -3.2009 (avg -4.2370)\n",
      "\tKL: 0.4839 (avg 0.5495)\n",
      "\tLoss: 8.0399 (avg 9.7322)\n"
     ]
    },
    {
     "name": "stderr",
     "output_type": "stream",
     "text": [
      " 89%|████████▉ | 34/38 [00:01<00:00, 24.17it/s]"
     ]
    },
    {
     "name": "stdout",
     "output_type": "stream",
     "text": [
      "Epoch: 78 (30/38)\n",
      "\tData load time: 0.129 sec\n",
      "\tGeneration time: 0.152 sec\n",
      "\tBackprop time: 0.169 sec\n",
      "\tLog probability: -5.6685 (avg -4.1643)\n",
      "\tKL: 0.5266 (avg 0.5376)\n",
      "\tLoss: 10.9342 (avg 9.5399)\n"
     ]
    },
    {
     "name": "stderr",
     "output_type": "stream",
     "text": [
      "100%|██████████| 38/38 [00:01<00:00, 23.39it/s]\n",
      "100%|██████████| 10/10 [00:00<00:00, 30.29it/s]\n",
      "  0%|          | 0/38 [00:00<?, ?it/s]"
     ]
    },
    {
     "name": "stdout",
     "output_type": "stream",
     "text": [
      "Epoch: 78 (10/10)\n",
      "\tData load time: 0.135 sec\n",
      "\tGeneration time: 0.152 sec\n",
      "\tLog probability: -3.0274 (avg -2.4707)\n",
      "\tKL: 0.6903 (avg 0.5534)\n",
      "\tLoss: 9.9301 (avg 8.0046)\n",
      "Lowest validation loss: 7.2862\n"
     ]
    },
    {
     "name": "stderr",
     "output_type": "stream",
     "text": [
      " 34%|███▍      | 13/38 [00:00<00:01, 14.19it/s]"
     ]
    },
    {
     "name": "stdout",
     "output_type": "stream",
     "text": [
      "Epoch: 79 (10/38)\n",
      "\tData load time: 0.141 sec\n",
      "\tGeneration time: 0.152 sec\n",
      "\tBackprop time: 0.173 sec\n",
      "\tLog probability: -3.8722 (avg -4.2878)\n",
      "\tKL: 0.5265 (avg 0.5603)\n",
      "\tLoss: 9.1371 (avg 9.8907)\n"
     ]
    },
    {
     "name": "stderr",
     "output_type": "stream",
     "text": [
      " 66%|██████▌   | 25/38 [00:01<00:00, 21.48it/s]"
     ]
    },
    {
     "name": "stdout",
     "output_type": "stream",
     "text": [
      "Epoch: 79 (20/38)\n",
      "\tData load time: 0.141 sec\n",
      "\tGeneration time: 0.152 sec\n",
      "\tBackprop time: 0.173 sec\n",
      "\tLog probability: -3.6175 (avg -4.2410)\n",
      "\tKL: 0.7059 (avg 0.5736)\n",
      "\tLoss: 10.6766 (avg 9.9775)\n"
     ]
    },
    {
     "name": "stderr",
     "output_type": "stream",
     "text": [
      " 89%|████████▉ | 34/38 [00:01<00:00, 24.13it/s]"
     ]
    },
    {
     "name": "stdout",
     "output_type": "stream",
     "text": [
      "Epoch: 79 (30/38)\n",
      "\tData load time: 0.141 sec\n",
      "\tGeneration time: 0.152 sec\n",
      "\tBackprop time: 0.173 sec\n",
      "\tLog probability: -6.6712 (avg -4.0554)\n",
      "\tKL: 0.7032 (avg 0.5621)\n",
      "\tLoss: 13.7031 (avg 9.6765)\n"
     ]
    },
    {
     "name": "stderr",
     "output_type": "stream",
     "text": [
      "100%|██████████| 38/38 [00:01<00:00, 23.34it/s]\n",
      "100%|██████████| 10/10 [00:00<00:00, 29.32it/s]\n",
      "  0%|          | 0/38 [00:00<?, ?it/s]"
     ]
    },
    {
     "name": "stdout",
     "output_type": "stream",
     "text": [
      "Epoch: 79 (10/10)\n",
      "\tData load time: 0.146 sec\n",
      "\tGeneration time: 0.159 sec\n",
      "\tLog probability: -2.4451 (avg -2.4037)\n",
      "\tKL: 0.6695 (avg 0.5811)\n",
      "\tLoss: 9.1404 (avg 8.2149)\n",
      "Lowest validation loss: 7.2862\n"
     ]
    },
    {
     "name": "stderr",
     "output_type": "stream",
     "text": [
      " 34%|███▍      | 13/38 [00:00<00:01, 14.08it/s]"
     ]
    },
    {
     "name": "stdout",
     "output_type": "stream",
     "text": [
      "Epoch: 80 (10/38)\n",
      "\tData load time: 0.141 sec\n",
      "\tGeneration time: 0.155 sec\n",
      "\tBackprop time: 0.175 sec\n",
      "\tLog probability: -4.6345 (avg -3.3662)\n",
      "\tKL: 0.5836 (avg 0.5403)\n",
      "\tLoss: 10.4700 (avg 8.7691)\n"
     ]
    },
    {
     "name": "stderr",
     "output_type": "stream",
     "text": [
      " 66%|██████▌   | 25/38 [00:01<00:00, 21.47it/s]"
     ]
    },
    {
     "name": "stdout",
     "output_type": "stream",
     "text": [
      "Epoch: 80 (20/38)\n",
      "\tData load time: 0.141 sec\n",
      "\tGeneration time: 0.155 sec\n",
      "\tBackprop time: 0.175 sec\n",
      "\tLog probability: -3.9385 (avg -4.7908)\n",
      "\tKL: 0.5563 (avg 0.5962)\n",
      "\tLoss: 9.5012 (avg 10.7532)\n"
     ]
    },
    {
     "name": "stderr",
     "output_type": "stream",
     "text": [
      " 89%|████████▉ | 34/38 [00:01<00:00, 24.14it/s]"
     ]
    },
    {
     "name": "stdout",
     "output_type": "stream",
     "text": [
      "Epoch: 80 (30/38)\n",
      "\tData load time: 0.141 sec\n",
      "\tGeneration time: 0.155 sec\n",
      "\tBackprop time: 0.175 sec\n",
      "\tLog probability: -18.7062 (avg -4.9047)\n",
      "\tKL: 0.9362 (avg 0.5909)\n",
      "\tLoss: 28.0678 (avg 10.8134)\n"
     ]
    },
    {
     "name": "stderr",
     "output_type": "stream",
     "text": [
      "100%|██████████| 38/38 [00:01<00:00, 23.31it/s]\n",
      "100%|██████████| 10/10 [00:00<00:00, 28.43it/s]\n",
      "  0%|          | 0/38 [00:00<?, ?it/s]"
     ]
    },
    {
     "name": "stdout",
     "output_type": "stream",
     "text": [
      "Epoch: 80 (10/10)\n",
      "\tData load time: 0.155 sec\n",
      "\tGeneration time: 0.166 sec\n",
      "\tLog probability: -3.1385 (avg -3.5827)\n",
      "\tKL: 0.7396 (avg 0.6801)\n",
      "\tLoss: 10.5347 (avg 10.3840)\n",
      "Lowest validation loss: 7.2862\n"
     ]
    },
    {
     "name": "stderr",
     "output_type": "stream",
     "text": [
      " 34%|███▍      | 13/38 [00:00<00:01, 14.51it/s]"
     ]
    },
    {
     "name": "stdout",
     "output_type": "stream",
     "text": [
      "Epoch: 81 (10/38)\n",
      "\tData load time: 0.135 sec\n",
      "\tGeneration time: 0.152 sec\n",
      "\tBackprop time: 0.167 sec\n",
      "\tLog probability: -2.9858 (avg -5.8375)\n",
      "\tKL: 0.8519 (avg 0.7880)\n",
      "\tLoss: 11.5052 (avg 13.7172)\n"
     ]
    },
    {
     "name": "stderr",
     "output_type": "stream",
     "text": [
      " 66%|██████▌   | 25/38 [00:01<00:00, 21.74it/s]"
     ]
    },
    {
     "name": "stdout",
     "output_type": "stream",
     "text": [
      "Epoch: 81 (20/38)\n",
      "\tData load time: 0.135 sec\n",
      "\tGeneration time: 0.152 sec\n",
      "\tBackprop time: 0.167 sec\n",
      "\tLog probability: -4.2337 (avg -5.8656)\n",
      "\tKL: 0.8326 (avg 0.8348)\n",
      "\tLoss: 12.5598 (avg 14.2138)\n"
     ]
    },
    {
     "name": "stderr",
     "output_type": "stream",
     "text": [
      " 89%|████████▉ | 34/38 [00:01<00:00, 24.19it/s]"
     ]
    },
    {
     "name": "stdout",
     "output_type": "stream",
     "text": [
      "Epoch: 81 (30/38)\n",
      "\tData load time: 0.135 sec\n",
      "\tGeneration time: 0.152 sec\n",
      "\tBackprop time: 0.167 sec\n",
      "\tLog probability: -3.7444 (avg -5.3066)\n",
      "\tKL: 0.8237 (avg 0.8369)\n",
      "\tLoss: 11.9811 (avg 13.6757)\n"
     ]
    },
    {
     "name": "stderr",
     "output_type": "stream",
     "text": [
      "100%|██████████| 38/38 [00:01<00:00, 23.49it/s]\n",
      "100%|██████████| 10/10 [00:00<00:00, 29.94it/s]\n",
      "  0%|          | 0/38 [00:00<?, ?it/s]"
     ]
    },
    {
     "name": "stdout",
     "output_type": "stream",
     "text": [
      "Epoch: 81 (10/10)\n",
      "\tData load time: 0.142 sec\n",
      "\tGeneration time: 0.154 sec\n",
      "\tLog probability: -1.6056 (avg -2.0579)\n",
      "\tKL: 0.4703 (avg 0.6630)\n",
      "\tLoss: 6.3087 (avg 8.6877)\n",
      "Lowest validation loss: 7.2862\n"
     ]
    },
    {
     "name": "stderr",
     "output_type": "stream",
     "text": [
      " 34%|███▍      | 13/38 [00:00<00:01, 13.99it/s]"
     ]
    },
    {
     "name": "stdout",
     "output_type": "stream",
     "text": [
      "Epoch: 82 (10/38)\n",
      "\tData load time: 0.144 sec\n",
      "\tGeneration time: 0.154 sec\n",
      "\tBackprop time: 0.178 sec\n",
      "\tLog probability: -3.2652 (avg -3.8617)\n",
      "\tKL: 0.5720 (avg 0.6888)\n",
      "\tLoss: 8.9848 (avg 10.7494)\n"
     ]
    },
    {
     "name": "stderr",
     "output_type": "stream",
     "text": [
      " 66%|██████▌   | 25/38 [00:01<00:00, 21.41it/s]"
     ]
    },
    {
     "name": "stdout",
     "output_type": "stream",
     "text": [
      "Epoch: 82 (20/38)\n",
      "\tData load time: 0.144 sec\n",
      "\tGeneration time: 0.154 sec\n",
      "\tBackprop time: 0.178 sec\n",
      "\tLog probability: -4.2844 (avg -3.9480)\n",
      "\tKL: 0.5700 (avg 0.6458)\n",
      "\tLoss: 9.9844 (avg 10.4056)\n"
     ]
    },
    {
     "name": "stderr",
     "output_type": "stream",
     "text": [
      " 89%|████████▉ | 34/38 [00:01<00:00, 24.02it/s]"
     ]
    },
    {
     "name": "stdout",
     "output_type": "stream",
     "text": [
      "Epoch: 82 (30/38)\n",
      "\tData load time: 0.144 sec\n",
      "\tGeneration time: 0.154 sec\n",
      "\tBackprop time: 0.178 sec\n",
      "\tLog probability: -4.5369 (avg -3.9492)\n",
      "\tKL: 0.5775 (avg 0.6208)\n",
      "\tLoss: 10.3121 (avg 10.1572)\n"
     ]
    },
    {
     "name": "stderr",
     "output_type": "stream",
     "text": [
      "100%|██████████| 38/38 [00:01<00:00, 23.29it/s]\n",
      "100%|██████████| 10/10 [00:00<00:00, 29.20it/s]\n",
      "  0%|          | 0/38 [00:00<?, ?it/s]"
     ]
    },
    {
     "name": "stdout",
     "output_type": "stream",
     "text": [
      "Epoch: 82 (10/10)\n",
      "\tData load time: 0.149 sec\n",
      "\tGeneration time: 0.160 sec\n",
      "\tLog probability: -1.6784 (avg -2.2760)\n",
      "\tKL: 0.5952 (avg 0.6094)\n",
      "\tLoss: 7.6306 (avg 8.3705)\n",
      "Lowest validation loss: 7.2862\n"
     ]
    },
    {
     "name": "stderr",
     "output_type": "stream",
     "text": [
      " 34%|███▍      | 13/38 [00:00<00:01, 13.93it/s]"
     ]
    },
    {
     "name": "stdout",
     "output_type": "stream",
     "text": [
      "Epoch: 83 (10/38)\n",
      "\tData load time: 0.145 sec\n",
      "\tGeneration time: 0.158 sec\n",
      "\tBackprop time: 0.178 sec\n",
      "\tLog probability: -3.9037 (avg -6.7192)\n",
      "\tKL: 1.0549 (avg 0.6938)\n",
      "\tLoss: 14.4532 (avg 13.6570)\n"
     ]
    },
    {
     "name": "stderr",
     "output_type": "stream",
     "text": [
      " 66%|██████▌   | 25/38 [00:01<00:00, 21.34it/s]"
     ]
    },
    {
     "name": "stdout",
     "output_type": "stream",
     "text": [
      "Epoch: 83 (20/38)\n",
      "\tData load time: 0.145 sec\n",
      "\tGeneration time: 0.158 sec\n",
      "\tBackprop time: 0.178 sec\n",
      "\tLog probability: -3.6757 (avg -5.8183)\n",
      "\tKL: 1.1599 (avg 0.8523)\n",
      "\tLoss: 15.2746 (avg 14.3418)\n"
     ]
    },
    {
     "name": "stderr",
     "output_type": "stream",
     "text": [
      " 89%|████████▉ | 34/38 [00:01<00:00, 24.08it/s]"
     ]
    },
    {
     "name": "stdout",
     "output_type": "stream",
     "text": [
      "Epoch: 83 (30/38)\n",
      "\tData load time: 0.145 sec\n",
      "\tGeneration time: 0.158 sec\n",
      "\tBackprop time: 0.178 sec\n",
      "\tLog probability: -4.5037 (avg -5.7693)\n",
      "\tKL: 0.9619 (avg 0.9704)\n",
      "\tLoss: 14.1224 (avg 15.4734)\n"
     ]
    },
    {
     "name": "stderr",
     "output_type": "stream",
     "text": [
      "100%|██████████| 38/38 [00:01<00:00, 23.24it/s]\n",
      "100%|██████████| 10/10 [00:00<00:00, 28.67it/s]\n",
      "  0%|          | 0/38 [00:00<?, ?it/s]"
     ]
    },
    {
     "name": "stdout",
     "output_type": "stream",
     "text": [
      "Epoch: 83 (10/10)\n",
      "\tData load time: 0.150 sec\n",
      "\tGeneration time: 0.161 sec\n",
      "\tLog probability: -2.1241 (avg -2.8316)\n",
      "\tKL: 0.7895 (avg 0.9970)\n",
      "\tLoss: 10.0196 (avg 12.8015)\n",
      "Lowest validation loss: 7.2862\n"
     ]
    },
    {
     "name": "stderr",
     "output_type": "stream",
     "text": [
      " 34%|███▍      | 13/38 [00:00<00:01, 14.12it/s]"
     ]
    },
    {
     "name": "stdout",
     "output_type": "stream",
     "text": [
      "Epoch: 84 (10/38)\n",
      "\tData load time: 0.143 sec\n",
      "\tGeneration time: 0.153 sec\n",
      "\tBackprop time: 0.174 sec\n",
      "\tLog probability: -4.7580 (avg -5.4960)\n",
      "\tKL: 0.7927 (avg 0.8476)\n",
      "\tLoss: 12.6853 (avg 13.9717)\n"
     ]
    },
    {
     "name": "stderr",
     "output_type": "stream",
     "text": [
      " 66%|██████▌   | 25/38 [00:01<00:00, 21.46it/s]"
     ]
    },
    {
     "name": "stdout",
     "output_type": "stream",
     "text": [
      "Epoch: 84 (20/38)\n",
      "\tData load time: 0.143 sec\n",
      "\tGeneration time: 0.153 sec\n",
      "\tBackprop time: 0.174 sec\n",
      "\tLog probability: -2.9823 (avg -5.3915)\n",
      "\tKL: 0.7088 (avg 0.8557)\n",
      "\tLoss: 10.0698 (avg 13.9484)\n"
     ]
    },
    {
     "name": "stderr",
     "output_type": "stream",
     "text": [
      " 89%|████████▉ | 34/38 [00:01<00:00, 24.12it/s]"
     ]
    },
    {
     "name": "stdout",
     "output_type": "stream",
     "text": [
      "Epoch: 84 (30/38)\n",
      "\tData load time: 0.143 sec\n",
      "\tGeneration time: 0.153 sec\n",
      "\tBackprop time: 0.174 sec\n",
      "\tLog probability: -3.3951 (avg -4.9895)\n",
      "\tKL: 0.6953 (avg 0.8305)\n",
      "\tLoss: 10.3481 (avg 13.2944)\n"
     ]
    },
    {
     "name": "stderr",
     "output_type": "stream",
     "text": [
      "100%|██████████| 38/38 [00:01<00:00, 23.32it/s]\n",
      "100%|██████████| 10/10 [00:00<00:00, 29.25it/s]\n",
      "  0%|          | 0/38 [00:00<?, ?it/s]"
     ]
    },
    {
     "name": "stdout",
     "output_type": "stream",
     "text": [
      "Epoch: 84 (10/10)\n",
      "\tData load time: 0.151 sec\n",
      "\tGeneration time: 0.160 sec\n",
      "\tLog probability: -1.7412 (avg -2.0169)\n",
      "\tKL: 0.9507 (avg 0.7139)\n",
      "\tLoss: 11.2485 (avg 9.1562)\n",
      "Lowest validation loss: 7.2862\n"
     ]
    },
    {
     "name": "stderr",
     "output_type": "stream",
     "text": [
      " 34%|███▍      | 13/38 [00:00<00:01, 14.24it/s]"
     ]
    },
    {
     "name": "stdout",
     "output_type": "stream",
     "text": [
      "Epoch: 85 (10/38)\n",
      "\tData load time: 0.135 sec\n",
      "\tGeneration time: 0.150 sec\n",
      "\tBackprop time: 0.171 sec\n",
      "\tLog probability: -7.4817 (avg -4.0023)\n",
      "\tKL: 0.7000 (avg 0.6946)\n",
      "\tLoss: 14.4818 (avg 10.9480)\n"
     ]
    },
    {
     "name": "stderr",
     "output_type": "stream",
     "text": [
      " 66%|██████▌   | 25/38 [00:01<00:00, 21.50it/s]"
     ]
    },
    {
     "name": "stdout",
     "output_type": "stream",
     "text": [
      "Epoch: 85 (20/38)\n",
      "\tData load time: 0.135 sec\n",
      "\tGeneration time: 0.150 sec\n",
      "\tBackprop time: 0.171 sec\n",
      "\tLog probability: -4.2218 (avg -4.4151)\n",
      "\tKL: 0.6527 (avg 0.6954)\n",
      "\tLoss: 10.7484 (avg 11.3696)\n"
     ]
    },
    {
     "name": "stderr",
     "output_type": "stream",
     "text": [
      " 89%|████████▉ | 34/38 [00:01<00:00, 24.13it/s]"
     ]
    },
    {
     "name": "stdout",
     "output_type": "stream",
     "text": [
      "Epoch: 85 (30/38)\n",
      "\tData load time: 0.135 sec\n",
      "\tGeneration time: 0.150 sec\n",
      "\tBackprop time: 0.171 sec\n",
      "\tLog probability: -5.5318 (avg -4.2776)\n",
      "\tKL: 0.6221 (avg 0.6671)\n",
      "\tLoss: 11.7523 (avg 10.9485)\n"
     ]
    },
    {
     "name": "stderr",
     "output_type": "stream",
     "text": [
      "100%|██████████| 38/38 [00:01<00:00, 23.34it/s]\n",
      "100%|██████████| 10/10 [00:00<00:00, 29.43it/s]\n",
      "  0%|          | 0/38 [00:00<?, ?it/s]"
     ]
    },
    {
     "name": "stdout",
     "output_type": "stream",
     "text": [
      "Epoch: 85 (10/10)\n",
      "\tData load time: 0.145 sec\n",
      "\tGeneration time: 0.156 sec\n",
      "\tLog probability: -3.9752 (avg -3.0958)\n",
      "\tKL: 0.5001 (avg 0.6184)\n",
      "\tLoss: 8.9760 (avg 9.2803)\n",
      "Lowest validation loss: 7.2862\n"
     ]
    },
    {
     "name": "stderr",
     "output_type": "stream",
     "text": [
      " 34%|███▍      | 13/38 [00:00<00:01, 14.26it/s]"
     ]
    },
    {
     "name": "stdout",
     "output_type": "stream",
     "text": [
      "Epoch: 86 (10/38)\n",
      "\tData load time: 0.139 sec\n",
      "\tGeneration time: 0.151 sec\n",
      "\tBackprop time: 0.171 sec\n",
      "\tLog probability: -2.3973 (avg -4.0813)\n",
      "\tKL: 0.5950 (avg 0.6254)\n",
      "\tLoss: 8.3476 (avg 10.3352)\n"
     ]
    },
    {
     "name": "stderr",
     "output_type": "stream",
     "text": [
      " 66%|██████▌   | 25/38 [00:01<00:00, 21.57it/s]"
     ]
    },
    {
     "name": "stdout",
     "output_type": "stream",
     "text": [
      "Epoch: 86 (20/38)\n",
      "\tData load time: 0.139 sec\n",
      "\tGeneration time: 0.151 sec\n",
      "\tBackprop time: 0.171 sec\n",
      "\tLog probability: -2.8005 (avg -4.2319)\n",
      "\tKL: 0.5506 (avg 0.6284)\n",
      "\tLoss: 8.3070 (avg 10.5159)\n"
     ]
    },
    {
     "name": "stderr",
     "output_type": "stream",
     "text": [
      " 89%|████████▉ | 34/38 [00:01<00:00, 24.15it/s]"
     ]
    },
    {
     "name": "stdout",
     "output_type": "stream",
     "text": [
      "Epoch: 86 (30/38)\n",
      "\tData load time: 0.139 sec\n",
      "\tGeneration time: 0.151 sec\n",
      "\tBackprop time: 0.171 sec\n",
      "\tLog probability: -5.3446 (avg -4.3320)\n",
      "\tKL: 0.6249 (avg 0.6260)\n",
      "\tLoss: 11.5940 (avg 10.5917)\n"
     ]
    },
    {
     "name": "stderr",
     "output_type": "stream",
     "text": [
      "100%|██████████| 38/38 [00:01<00:00, 23.36it/s]\n",
      "100%|██████████| 10/10 [00:00<00:00, 29.50it/s]\n",
      "  0%|          | 0/38 [00:00<?, ?it/s]"
     ]
    },
    {
     "name": "stdout",
     "output_type": "stream",
     "text": [
      "Epoch: 86 (10/10)\n",
      "\tData load time: 0.153 sec\n",
      "\tGeneration time: 0.161 sec\n",
      "\tLog probability: -10.7166 (avg -4.5437)\n",
      "\tKL: 1.0934 (avg 0.6579)\n",
      "\tLoss: 21.6502 (avg 11.1230)\n",
      "Lowest validation loss: 7.2862\n"
     ]
    },
    {
     "name": "stderr",
     "output_type": "stream",
     "text": [
      " 34%|███▍      | 13/38 [00:00<00:01, 14.09it/s]"
     ]
    },
    {
     "name": "stdout",
     "output_type": "stream",
     "text": [
      "Epoch: 87 (10/38)\n",
      "\tData load time: 0.143 sec\n",
      "\tGeneration time: 0.153 sec\n",
      "\tBackprop time: 0.174 sec\n",
      "\tLog probability: -3.3791 (avg -3.2263)\n",
      "\tKL: 0.4866 (avg 0.5299)\n",
      "\tLoss: 8.2450 (avg 8.5256)\n"
     ]
    },
    {
     "name": "stderr",
     "output_type": "stream",
     "text": [
      " 66%|██████▌   | 25/38 [00:01<00:00, 21.45it/s]"
     ]
    },
    {
     "name": "stdout",
     "output_type": "stream",
     "text": [
      "Epoch: 87 (20/38)\n",
      "\tData load time: 0.143 sec\n",
      "\tGeneration time: 0.153 sec\n",
      "\tBackprop time: 0.174 sec\n",
      "\tLog probability: -3.6011 (avg -3.7112)\n",
      "\tKL: 0.5632 (avg 0.5625)\n",
      "\tLoss: 9.2333 (avg 9.3366)\n"
     ]
    },
    {
     "name": "stderr",
     "output_type": "stream",
     "text": [
      " 89%|████████▉ | 34/38 [00:01<00:00, 24.09it/s]"
     ]
    },
    {
     "name": "stdout",
     "output_type": "stream",
     "text": [
      "Epoch: 87 (30/38)\n",
      "\tData load time: 0.143 sec\n",
      "\tGeneration time: 0.153 sec\n",
      "\tBackprop time: 0.174 sec\n",
      "\tLog probability: -3.6400 (avg -3.8382)\n",
      "\tKL: 0.5702 (avg 0.5459)\n",
      "\tLoss: 9.3424 (avg 9.2969)\n"
     ]
    },
    {
     "name": "stderr",
     "output_type": "stream",
     "text": [
      "100%|██████████| 38/38 [00:01<00:00, 23.30it/s]\n",
      "100%|██████████| 10/10 [00:00<00:00, 29.57it/s]\n",
      "  0%|          | 0/38 [00:00<?, ?it/s]"
     ]
    },
    {
     "name": "stdout",
     "output_type": "stream",
     "text": [
      "Epoch: 87 (10/10)\n",
      "\tData load time: 0.146 sec\n",
      "\tGeneration time: 0.158 sec\n",
      "\tLog probability: -3.1432 (avg -2.3393)\n",
      "\tKL: 0.6033 (avg 0.5149)\n",
      "\tLoss: 9.1758 (avg 7.4879)\n",
      "Lowest validation loss: 7.2862\n"
     ]
    },
    {
     "name": "stderr",
     "output_type": "stream",
     "text": [
      " 34%|███▍      | 13/38 [00:00<00:01, 13.47it/s]"
     ]
    },
    {
     "name": "stdout",
     "output_type": "stream",
     "text": [
      "Epoch: 88 (10/38)\n",
      "\tData load time: 0.154 sec\n",
      "\tGeneration time: 0.168 sec\n",
      "\tBackprop time: 0.189 sec\n",
      "\tLog probability: -3.2204 (avg -6.7940)\n",
      "\tKL: 0.4557 (avg 0.5589)\n",
      "\tLoss: 7.7773 (avg 12.3829)\n"
     ]
    },
    {
     "name": "stderr",
     "output_type": "stream",
     "text": [
      " 66%|██████▌   | 25/38 [00:01<00:00, 21.08it/s]"
     ]
    },
    {
     "name": "stdout",
     "output_type": "stream",
     "text": [
      "Epoch: 88 (20/38)\n",
      "\tData load time: 0.154 sec\n",
      "\tGeneration time: 0.168 sec\n",
      "\tBackprop time: 0.189 sec\n",
      "\tLog probability: -3.9613 (avg -5.8729)\n",
      "\tKL: 0.5361 (avg 0.5752)\n",
      "\tLoss: 9.3226 (avg 11.6249)\n"
     ]
    },
    {
     "name": "stderr",
     "output_type": "stream",
     "text": [
      " 89%|████████▉ | 34/38 [00:01<00:00, 23.94it/s]"
     ]
    },
    {
     "name": "stdout",
     "output_type": "stream",
     "text": [
      "Epoch: 88 (30/38)\n",
      "\tData load time: 0.154 sec\n",
      "\tGeneration time: 0.168 sec\n",
      "\tBackprop time: 0.189 sec\n",
      "\tLog probability: -5.0090 (avg -5.1297)\n",
      "\tKL: 0.5235 (avg 0.5515)\n",
      "\tLoss: 10.2437 (avg 10.6446)\n"
     ]
    },
    {
     "name": "stderr",
     "output_type": "stream",
     "text": [
      "100%|██████████| 38/38 [00:01<00:00, 23.08it/s]\n",
      "100%|██████████| 10/10 [00:00<00:00, 29.64it/s]\n"
     ]
    },
    {
     "name": "stdout",
     "output_type": "stream",
     "text": [
      "Epoch: 88 (10/10)\n",
      "\tData load time: 0.139 sec\n",
      "\tGeneration time: 0.148 sec\n",
      "\tLog probability: -3.0694 (avg -2.2182)\n",
      "\tKL: 0.4228 (avg 0.4956)\n",
      "\tLoss: 7.2970 (avg 7.1745)\n",
      "Saving checkpoint..\n"
     ]
    },
    {
     "name": "stderr",
     "output_type": "stream",
     "text": [
      "  0%|          | 0/38 [00:00<?, ?it/s]"
     ]
    },
    {
     "name": "stdout",
     "output_type": "stream",
     "text": [
      "Lowest validation loss: 7.1745\n"
     ]
    },
    {
     "name": "stderr",
     "output_type": "stream",
     "text": [
      " 34%|███▍      | 13/38 [00:00<00:01, 14.01it/s]"
     ]
    },
    {
     "name": "stdout",
     "output_type": "stream",
     "text": [
      "Epoch: 89 (10/38)\n",
      "\tData load time: 0.144 sec\n",
      "\tGeneration time: 0.156 sec\n",
      "\tBackprop time: 0.176 sec\n",
      "\tLog probability: -2.9370 (avg -3.9336)\n",
      "\tKL: 0.6075 (avg 0.5282)\n",
      "\tLoss: 9.0124 (avg 9.2160)\n"
     ]
    },
    {
     "name": "stderr",
     "output_type": "stream",
     "text": [
      " 66%|██████▌   | 25/38 [00:01<00:00, 21.43it/s]"
     ]
    },
    {
     "name": "stdout",
     "output_type": "stream",
     "text": [
      "Epoch: 89 (20/38)\n",
      "\tData load time: 0.144 sec\n",
      "\tGeneration time: 0.156 sec\n",
      "\tBackprop time: 0.176 sec\n",
      "\tLog probability: -3.5412 (avg -3.8498)\n",
      "\tKL: 0.4767 (avg 0.5192)\n",
      "\tLoss: 8.3084 (avg 9.0415)\n"
     ]
    },
    {
     "name": "stderr",
     "output_type": "stream",
     "text": [
      " 89%|████████▉ | 34/38 [00:01<00:00, 24.07it/s]"
     ]
    },
    {
     "name": "stdout",
     "output_type": "stream",
     "text": [
      "Epoch: 89 (30/38)\n",
      "\tData load time: 0.144 sec\n",
      "\tGeneration time: 0.156 sec\n",
      "\tBackprop time: 0.176 sec\n",
      "\tLog probability: -4.1659 (avg -3.6670)\n",
      "\tKL: 0.6292 (avg 0.5103)\n",
      "\tLoss: 10.4577 (avg 8.7697)\n"
     ]
    },
    {
     "name": "stderr",
     "output_type": "stream",
     "text": [
      "100%|██████████| 38/38 [00:01<00:00, 23.27it/s]\n",
      "100%|██████████| 10/10 [00:00<00:00, 29.50it/s]\n",
      "  0%|          | 0/38 [00:00<?, ?it/s]"
     ]
    },
    {
     "name": "stdout",
     "output_type": "stream",
     "text": [
      "Epoch: 89 (10/10)\n",
      "\tData load time: 0.148 sec\n",
      "\tGeneration time: 0.156 sec\n",
      "\tLog probability: -1.9631 (avg -2.2714)\n",
      "\tKL: 0.8108 (avg 0.5273)\n",
      "\tLoss: 10.0714 (avg 7.5441)\n",
      "Lowest validation loss: 7.1745\n"
     ]
    },
    {
     "name": "stderr",
     "output_type": "stream",
     "text": [
      " 34%|███▍      | 13/38 [00:00<00:01, 14.59it/s]"
     ]
    },
    {
     "name": "stdout",
     "output_type": "stream",
     "text": [
      "Epoch: 90 (10/38)\n",
      "\tData load time: 0.121 sec\n",
      "\tGeneration time: 0.136 sec\n",
      "\tBackprop time: 0.166 sec\n",
      "\tLog probability: -1.9552 (avg -4.7483)\n",
      "\tKL: 0.3972 (avg 0.5154)\n",
      "\tLoss: 5.9269 (avg 9.9028)\n"
     ]
    },
    {
     "name": "stderr",
     "output_type": "stream",
     "text": [
      " 66%|██████▌   | 25/38 [00:01<00:00, 21.78it/s]"
     ]
    },
    {
     "name": "stdout",
     "output_type": "stream",
     "text": [
      "Epoch: 90 (20/38)\n",
      "\tData load time: 0.121 sec\n",
      "\tGeneration time: 0.136 sec\n",
      "\tBackprop time: 0.166 sec\n",
      "\tLog probability: -3.5333 (avg -4.1924)\n",
      "\tKL: 0.5502 (avg 0.5118)\n",
      "\tLoss: 9.0357 (avg 9.3103)\n"
     ]
    },
    {
     "name": "stderr",
     "output_type": "stream",
     "text": [
      " 89%|████████▉ | 34/38 [00:01<00:00, 24.22it/s]"
     ]
    },
    {
     "name": "stdout",
     "output_type": "stream",
     "text": [
      "Epoch: 90 (30/38)\n",
      "\tData load time: 0.121 sec\n",
      "\tGeneration time: 0.136 sec\n",
      "\tBackprop time: 0.166 sec\n",
      "\tLog probability: -3.1696 (avg -3.9713)\n",
      "\tKL: 0.4488 (avg 0.5160)\n",
      "\tLoss: 7.6571 (avg 9.1311)\n"
     ]
    },
    {
     "name": "stderr",
     "output_type": "stream",
     "text": [
      "100%|██████████| 38/38 [00:01<00:00, 23.59it/s]\n",
      "100%|██████████| 10/10 [00:00<00:00, 29.52it/s]\n"
     ]
    },
    {
     "name": "stdout",
     "output_type": "stream",
     "text": [
      "Epoch: 90 (10/10)\n",
      "\tData load time: 0.146 sec\n",
      "\tGeneration time: 0.155 sec\n",
      "\tLog probability: -2.0415 (avg -2.1530)\n",
      "\tKL: 0.3957 (avg 0.4674)\n",
      "\tLoss: 5.9981 (avg 6.8268)\n",
      "Saving checkpoint..\n"
     ]
    },
    {
     "name": "stderr",
     "output_type": "stream",
     "text": [
      "  0%|          | 0/38 [00:00<?, ?it/s]"
     ]
    },
    {
     "name": "stdout",
     "output_type": "stream",
     "text": [
      "Lowest validation loss: 6.8268\n"
     ]
    },
    {
     "name": "stderr",
     "output_type": "stream",
     "text": [
      " 34%|███▍      | 13/38 [00:00<00:01, 13.75it/s]"
     ]
    },
    {
     "name": "stdout",
     "output_type": "stream",
     "text": [
      "Epoch: 91 (10/38)\n",
      "\tData load time: 0.151 sec\n",
      "\tGeneration time: 0.163 sec\n",
      "\tBackprop time: 0.183 sec\n",
      "\tLog probability: -4.1974 (avg -3.5450)\n",
      "\tKL: 0.4916 (avg 0.4710)\n",
      "\tLoss: 9.1135 (avg 8.2551)\n"
     ]
    },
    {
     "name": "stderr",
     "output_type": "stream",
     "text": [
      " 66%|██████▌   | 25/38 [00:01<00:00, 21.31it/s]"
     ]
    },
    {
     "name": "stdout",
     "output_type": "stream",
     "text": [
      "Epoch: 91 (20/38)\n",
      "\tData load time: 0.151 sec\n",
      "\tGeneration time: 0.163 sec\n",
      "\tBackprop time: 0.183 sec\n",
      "\tLog probability: -3.6835 (avg -3.9396)\n",
      "\tKL: 0.5036 (avg 0.4879)\n",
      "\tLoss: 8.7194 (avg 8.8183)\n"
     ]
    },
    {
     "name": "stderr",
     "output_type": "stream",
     "text": [
      " 89%|████████▉ | 34/38 [00:01<00:00, 24.04it/s]"
     ]
    },
    {
     "name": "stdout",
     "output_type": "stream",
     "text": [
      "Epoch: 91 (30/38)\n",
      "\tData load time: 0.151 sec\n",
      "\tGeneration time: 0.163 sec\n",
      "\tBackprop time: 0.183 sec\n",
      "\tLog probability: -2.2355 (avg -3.8875)\n",
      "\tKL: 0.4596 (avg 0.4883)\n",
      "\tLoss: 6.8318 (avg 8.7708)\n"
     ]
    },
    {
     "name": "stderr",
     "output_type": "stream",
     "text": [
      "100%|██████████| 38/38 [00:01<00:00, 23.29it/s]\n",
      "100%|██████████| 10/10 [00:00<00:00, 30.87it/s]\n",
      "  0%|          | 0/38 [00:00<?, ?it/s]"
     ]
    },
    {
     "name": "stdout",
     "output_type": "stream",
     "text": [
      "Epoch: 91 (10/10)\n",
      "\tData load time: 0.129 sec\n",
      "\tGeneration time: 0.140 sec\n",
      "\tLog probability: -1.5601 (avg -1.9763)\n",
      "\tKL: 0.7747 (avg 0.5233)\n",
      "\tLoss: 9.3070 (avg 7.2097)\n",
      "Lowest validation loss: 6.8268\n"
     ]
    },
    {
     "name": "stderr",
     "output_type": "stream",
     "text": [
      " 34%|███▍      | 13/38 [00:00<00:01, 14.10it/s]"
     ]
    },
    {
     "name": "stdout",
     "output_type": "stream",
     "text": [
      "Epoch: 92 (10/38)\n",
      "\tData load time: 0.140 sec\n",
      "\tGeneration time: 0.154 sec\n",
      "\tBackprop time: 0.175 sec\n",
      "\tLog probability: -5.1635 (avg -4.0445)\n",
      "\tKL: 0.5105 (avg 0.6528)\n",
      "\tLoss: 10.2689 (avg 10.5725)\n"
     ]
    },
    {
     "name": "stderr",
     "output_type": "stream",
     "text": [
      " 66%|██████▌   | 25/38 [00:01<00:00, 21.42it/s]"
     ]
    },
    {
     "name": "stdout",
     "output_type": "stream",
     "text": [
      "Epoch: 92 (20/38)\n",
      "\tData load time: 0.140 sec\n",
      "\tGeneration time: 0.154 sec\n",
      "\tBackprop time: 0.175 sec\n",
      "\tLog probability: -4.8182 (avg -3.8662)\n",
      "\tKL: 0.5223 (avg 0.5631)\n",
      "\tLoss: 10.0409 (avg 9.4969)\n"
     ]
    },
    {
     "name": "stderr",
     "output_type": "stream",
     "text": [
      " 89%|████████▉ | 34/38 [00:01<00:00, 24.10it/s]"
     ]
    },
    {
     "name": "stdout",
     "output_type": "stream",
     "text": [
      "Epoch: 92 (30/38)\n",
      "\tData load time: 0.140 sec\n",
      "\tGeneration time: 0.154 sec\n",
      "\tBackprop time: 0.175 sec\n",
      "\tLog probability: -4.1833 (avg -3.9211)\n",
      "\tKL: 0.4915 (avg 0.5467)\n",
      "\tLoss: 9.0988 (avg 9.3877)\n"
     ]
    },
    {
     "name": "stderr",
     "output_type": "stream",
     "text": [
      "100%|██████████| 38/38 [00:01<00:00, 23.30it/s]\n",
      "100%|██████████| 10/10 [00:00<00:00, 29.42it/s]\n"
     ]
    },
    {
     "name": "stdout",
     "output_type": "stream",
     "text": [
      "Epoch: 92 (10/10)\n",
      "\tData load time: 0.148 sec\n",
      "\tGeneration time: 0.159 sec\n",
      "\tLog probability: -1.8685 (avg -2.1778)\n",
      "\tKL: 0.2893 (avg 0.4421)\n",
      "\tLoss: 4.7613 (avg 6.5989)\n",
      "Saving checkpoint..\n"
     ]
    },
    {
     "name": "stderr",
     "output_type": "stream",
     "text": [
      "  0%|          | 0/38 [00:00<?, ?it/s]"
     ]
    },
    {
     "name": "stdout",
     "output_type": "stream",
     "text": [
      "Lowest validation loss: 6.5989\n"
     ]
    },
    {
     "name": "stderr",
     "output_type": "stream",
     "text": [
      " 34%|███▍      | 13/38 [00:00<00:01, 14.30it/s]"
     ]
    },
    {
     "name": "stdout",
     "output_type": "stream",
     "text": [
      "Epoch: 93 (10/38)\n",
      "\tData load time: 0.137 sec\n",
      "\tGeneration time: 0.149 sec\n",
      "\tBackprop time: 0.170 sec\n",
      "\tLog probability: -4.0148 (avg -7.7624)\n",
      "\tKL: 0.5229 (avg 0.4965)\n",
      "\tLoss: 9.2442 (avg 12.7277)\n"
     ]
    },
    {
     "name": "stderr",
     "output_type": "stream",
     "text": [
      " 66%|██████▌   | 25/38 [00:01<00:00, 21.57it/s]"
     ]
    },
    {
     "name": "stdout",
     "output_type": "stream",
     "text": [
      "Epoch: 93 (20/38)\n",
      "\tData load time: 0.137 sec\n",
      "\tGeneration time: 0.149 sec\n",
      "\tBackprop time: 0.170 sec\n",
      "\tLog probability: -3.2655 (avg -6.3400)\n",
      "\tKL: 1.0390 (avg 0.6261)\n",
      "\tLoss: 13.6558 (avg 12.6007)\n"
     ]
    },
    {
     "name": "stderr",
     "output_type": "stream",
     "text": [
      " 89%|████████▉ | 34/38 [00:01<00:00, 24.20it/s]"
     ]
    },
    {
     "name": "stdout",
     "output_type": "stream",
     "text": [
      "Epoch: 93 (30/38)\n",
      "\tData load time: 0.137 sec\n",
      "\tGeneration time: 0.149 sec\n",
      "\tBackprop time: 0.170 sec\n",
      "\tLog probability: -2.1155 (avg -5.4590)\n",
      "\tKL: 0.5785 (avg 0.6477)\n",
      "\tLoss: 7.9002 (avg 11.9359)\n"
     ]
    },
    {
     "name": "stderr",
     "output_type": "stream",
     "text": [
      "100%|██████████| 38/38 [00:01<00:00, 23.33it/s]\n",
      "100%|██████████| 10/10 [00:00<00:00, 30.10it/s]\n",
      "  0%|          | 0/38 [00:00<?, ?it/s]"
     ]
    },
    {
     "name": "stdout",
     "output_type": "stream",
     "text": [
      "Epoch: 93 (10/10)\n",
      "\tData load time: 0.132 sec\n",
      "\tGeneration time: 0.148 sec\n",
      "\tLog probability: -1.5833 (avg -2.0534)\n",
      "\tKL: 0.6275 (avg 0.6175)\n",
      "\tLoss: 7.8586 (avg 8.2284)\n",
      "Lowest validation loss: 6.5989\n"
     ]
    },
    {
     "name": "stderr",
     "output_type": "stream",
     "text": [
      " 34%|███▍      | 13/38 [00:00<00:01, 14.12it/s]"
     ]
    },
    {
     "name": "stdout",
     "output_type": "stream",
     "text": [
      "Epoch: 94 (10/38)\n",
      "\tData load time: 0.143 sec\n",
      "\tGeneration time: 0.154 sec\n",
      "\tBackprop time: 0.175 sec\n",
      "\tLog probability: -2.3893 (avg -3.2746)\n",
      "\tKL: 0.5202 (avg 0.6220)\n",
      "\tLoss: 7.5913 (avg 9.4950)\n"
     ]
    },
    {
     "name": "stderr",
     "output_type": "stream",
     "text": [
      " 66%|██████▌   | 25/38 [00:01<00:00, 21.47it/s]"
     ]
    },
    {
     "name": "stdout",
     "output_type": "stream",
     "text": [
      "Epoch: 94 (20/38)\n",
      "\tData load time: 0.143 sec\n",
      "\tGeneration time: 0.154 sec\n",
      "\tBackprop time: 0.175 sec\n",
      "\tLog probability: -3.2898 (avg -3.3210)\n",
      "\tKL: 0.5027 (avg 0.5808)\n",
      "\tLoss: 8.3169 (avg 9.1286)\n"
     ]
    },
    {
     "name": "stderr",
     "output_type": "stream",
     "text": [
      " 89%|████████▉ | 34/38 [00:01<00:00, 24.09it/s]"
     ]
    },
    {
     "name": "stdout",
     "output_type": "stream",
     "text": [
      "Epoch: 94 (30/38)\n",
      "\tData load time: 0.143 sec\n",
      "\tGeneration time: 0.154 sec\n",
      "\tBackprop time: 0.175 sec\n",
      "\tLog probability: -4.4319 (avg -3.6771)\n",
      "\tKL: 0.5932 (avg 0.5801)\n",
      "\tLoss: 10.3636 (avg 9.4784)\n"
     ]
    },
    {
     "name": "stderr",
     "output_type": "stream",
     "text": [
      "100%|██████████| 38/38 [00:01<00:00, 23.35it/s]\n",
      "  0%|          | 0/10 [00:00<?, ?it/s]"
     ]
    }
   ],
   "source": [
    "# Main loop\n",
    "best_loss = np.inf\n",
    "for epoch in range(epochs):\n",
    "\n",
    "    model.train()\n",
    "    scheduler.step()\n",
    "    train_loss, train_kl, train_logp = train_VAE1D(train_dl)\n",
    "    \n",
    "    model.eval()\n",
    "    with torch.no_grad():\n",
    "        val_loss, val_kl, val_logp = train_VAE1D(val_dl)\n",
    "\n",
    "    # Report training progress to user\n",
    "    if val_loss < best_loss:\n",
    "        print('Saving checkpoint..')\n",
    "        best_loss = val_loss\n",
    "        save_dict = {'epoch': epoch + 1,\n",
    "                     'state_dict': model.state_dict(),\n",
    "                     'val_loss': val_loss,\n",
    "                     'optimizer': optimizer.state_dict()}\n",
    "        path = save_path / f'best_model-{n_latent}.pt'\n",
    "        torch.save(save_dict, path)\n",
    "    print(f'Lowest validation loss: {best_loss:.4f}')"
   ]
  },
  {
   "cell_type": "code",
   "execution_count": null,
   "metadata": {},
   "outputs": [],
   "source": [
    "for X, y in test_dl:\n",
    "    break\n",
    "X.shape"
   ]
  },
  {
   "cell_type": "code",
   "execution_count": null,
   "metadata": {},
   "outputs": [],
   "source": [
    "X[:, :, :4]"
   ]
  },
  {
   "cell_type": "code",
   "execution_count": null,
   "metadata": {},
   "outputs": [],
   "source": [
    "X = X.to(device)"
   ]
  },
  {
   "cell_type": "code",
   "execution_count": null,
   "metadata": {},
   "outputs": [],
   "source": [
    "X.shape"
   ]
  },
  {
   "cell_type": "code",
   "execution_count": null,
   "metadata": {},
   "outputs": [],
   "source": [
    "y"
   ]
  },
  {
   "cell_type": "code",
   "execution_count": null,
   "metadata": {},
   "outputs": [],
   "source": [
    "X_hat, mu, logvar = model(X)"
   ]
  },
  {
   "cell_type": "code",
   "execution_count": null,
   "metadata": {},
   "outputs": [],
   "source": [
    "X"
   ]
  },
  {
   "cell_type": "code",
   "execution_count": null,
   "metadata": {},
   "outputs": [],
   "source": [
    "X_hat"
   ]
  },
  {
   "cell_type": "markdown",
   "metadata": {},
   "source": [
    "# TODO: ADD VISUALIZATIONS"
   ]
  },
  {
   "cell_type": "markdown",
   "metadata": {},
   "source": [
    "# TODO include in epoch loop?\n",
    "# TODO look into what the scheduler is for\n",
    "# visualize reconst and free sample\n",
    "\n",
    "with torch.no_grad():\n",
    "\n",
    "    val_iter = iter(val_dl)\n",
    "\n",
    "    # Generate 25 images\n",
    "    imgs = val_iter._get_batch()[1][0][:25]\n",
    "    imgs = imgs.to(device)\n",
    "    gen_imgs, mu, logvar = model(imgs)\n",
    "    \n",
    "    # Scale images back to 0-1\n",
    "    imgs = (imgs + 1) / 2\n",
    "    grid = make_grid(imgs, nrow=5, padding=20)\n",
    "    gen_imgs = (gen_imgs + 1) / 2\n",
    "    gen_grid = make_grid(gen_imgs, nrow=5, padding=20)\n",
    "    "
   ]
  },
  {
   "cell_type": "markdown",
   "metadata": {},
   "source": [
    "import matplotlib.pyplot as plt\n",
    "grid = grid.cpu()\n",
    "gen_grid = gen_grid.cpu()"
   ]
  },
  {
   "cell_type": "markdown",
   "metadata": {},
   "source": [
    "plt.imshow(grid.permute(1, 2, 0))"
   ]
  },
  {
   "cell_type": "markdown",
   "metadata": {},
   "source": [
    "plt.imshow(gen_grid.permute(1, 2, 0))"
   ]
  },
  {
   "cell_type": "markdown",
   "metadata": {},
   "source": [
    "mu = mu.cpu()\n",
    "std = (0.5 * logvar).exp().cpu()"
   ]
  },
  {
   "cell_type": "markdown",
   "metadata": {},
   "source": [
    "for i in np.random.choice(range(mu.shape[0]), 5):\n",
    "    plt.figure()\n",
    "    mu_eg = mu[i, :].squeeze(-1).squeeze(-1)\n",
    "    plt.plot(mu_eg.numpy())\n",
    "    plt.figure()\n",
    "    std_eg = std[i, :].squeeze(-1).squeeze(-1)\n",
    "    plt.plot(std_eg.numpy())"
   ]
  },
  {
   "cell_type": "markdown",
   "metadata": {},
   "source": [
    "with torch.no_grad():\n",
    "    # Generate some random images\n",
    "    noises = torch.randn(25, model.n_latent, 1, 1)\n",
    "    noises = noises.to(device)\n",
    "    samples = model.decode(noises)\n",
    "    \n",
    "    samples = (samples + 1) / 2\n",
    "    sample_grid = make_grid(samples, nrow=5, padding=20).cpu()\n",
    "    \n",
    "    plt.imshow(sample_grid.permute(1, 2, 0))  # easy way to swapaxes"
   ]
  },
  {
   "cell_type": "markdown",
   "metadata": {},
   "source": [
    "# Save the model\n",
    "\n",
    "!! checkpoints seems like the better way to do this !!"
   ]
  },
  {
   "cell_type": "markdown",
   "metadata": {},
   "source": [
    "pwd"
   ]
  },
  {
   "cell_type": "markdown",
   "metadata": {},
   "source": [
    "path = save_path / 'full_model.p'\n",
    "path"
   ]
  },
  {
   "cell_type": "markdown",
   "metadata": {},
   "source": [
    "torch.save(model.cpu(), path)"
   ]
  },
  {
   "cell_type": "markdown",
   "metadata": {},
   "source": [
    "# Test the Model"
   ]
  },
  {
   "cell_type": "markdown",
   "metadata": {},
   "source": [
    "model = model.to(device)\n",
    "len(test_dl)"
   ]
  },
  {
   "cell_type": "markdown",
   "metadata": {},
   "source": [
    "def testVAE2D(test_dl):\n",
    "    abnormal_loss_tracker = AvgTracker()\n",
    "    normal_loss_tracker = AvgTracker()\n",
    "\n",
    "    model.eval()\n",
    "    for i, (X, y) in tqdm(enumerate(test_dl)):\n",
    "\n",
    "        X = X.to(device)\n",
    "        X_hat, mu, logvar = model(X)\n",
    "        loss, loss_desc = criterion(X_hat, X, mu, logvar)\n",
    "\n",
    "        # Normal\n",
    "        if target.item() == 1:\n",
    "           normal_loss_tracker.update(loss.item())\n",
    "        # Abnormal\n",
    "        else:\n",
    "           abnormal_loss_tracker.update(loss.item())\n",
    "\n",
    "    return normal_loss_tracker.avg, abnormal_loss_tracker.avg"
   ]
  },
  {
   "cell_type": "markdown",
   "metadata": {},
   "source": [
    "\"\"\"\n",
    "Measure a difference score using the model and use it for outlier detection\n",
    "\"\"\"\n",
    "\n",
    "result_path = save_path / 'result.csv'\n",
    "\n",
    "############################# ANOMALY SCORE DEF ##########################\n",
    "def score(model, img, L=5):\n",
    "    \"\"\"\n",
    "    The vae score for a single image, which is basically the loss\n",
    "    input: image: [1, 3, 256, 256]\n",
    "    output: (loss, KL, gen_err)\n",
    "    \"\"\"\n",
    "    image_batch = image.expand(L,\n",
    "                               image.size(1),\n",
    "                               image.size(2),\n",
    "                               image.size(3))\n",
    "    reconst_batch, mu, logvar = vae.forward(image_batch)\n",
    "    vae_loss, loss_details = criterion(reconst_batch, image_batch, mu, logvar)\n",
    "    return vae_loss, loss_details['KL'], -loss_details['reconst_logp']\n",
    "\n",
    "def _log_mean_exp(x, dim):\n",
    "    \"\"\"\n",
    "    A numerical stable version of log(mean(exp(x)))\n",
    "    :param x: The input\n",
    "    :param dim: The dimension along which to take mean with\n",
    "    \"\"\"\n",
    "    # m [dim1, 1]\n",
    "    m, _ = torch.max(x, dim=dim, keepdim=True)\n",
    "\n",
    "    # x0 [dm1, dim2]\n",
    "    x0 = x - m\n",
    "\n",
    "    # m [dim1]\n",
    "    m = m.squeeze(dim)\n",
    "\n",
    "    return m + torch.log(torch.mean(torch.exp(x0),\n",
    "                                    dim=dim))\n",
    "\n",
    "def get_iwae_score(vae, image, L=5):\n",
    "    \"\"\"\n",
    "    The vae score for a single image, which is basically the loss\n",
    "    :param image: [1, 3, 256, 256]\n",
    "    :return scocre: (iwae score, iwae KL, iwae reconst).\n",
    "    \"\"\"\n",
    "    # [L, 3, 256, 256]\n",
    "    image_batch = image.expand(L,\n",
    "                               image.size(1),\n",
    "                               image.size(2),\n",
    "                               image.size(3))\n",
    "\n",
    "    # [L, z_dim, 1, 1]\n",
    "    mu, logvar = vae.encode(image_batch)\n",
    "    eps = torch.randn_like(mu)\n",
    "    z = mu + eps * torch.exp(0.5 * logvar)\n",
    "    kl_weight = criterion.kl_weight\n",
    "    # [L, 3, 256, 256]\n",
    "    reconst = vae.decode(z)\n",
    "    # [L]\n",
    "    log_p_x_z = -torch.sum((reconst - image_batch).pow(2).reshape(L, -1),\n",
    "                          dim=1)\n",
    "\n",
    "    # [L]\n",
    "    log_p_z = -torch.sum(z.pow(2).reshape(L, -1), dim=1)\n",
    "\n",
    "    # [L]\n",
    "    log_q_z = -torch.sum(eps.pow(2).reshape(L, -1), dim=1)\n",
    "\n",
    "    iwae_score = -_log_mean_exp(log_p_x_z + (log_p_z - log_q_z)*kl_weight, dim=0)\n",
    "    iwae_KL_score = -_log_mean_exp(log_p_z - log_q_z, dim=0)\n",
    "    iwae_reconst_score = -_log_mean_exp(log_p_x_z, dim=0)\n",
    "\n",
    "    return iwae_score, iwae_KL_score, iwae_reconst_score\n",
    "\n",
    "############################# END OF ANOMALY SCORE ###########################\n",
    "\n",
    "# Define the number of samples of each score\n",
    "def compute_all_scores(vae, image):\n",
    "    \"\"\"\n",
    "    Given an image compute all anomaly score\n",
    "    return (reconst_score, vae_score, iwae_score)\n",
    "    \"\"\"\n",
    "    vae_loss, KL, reconst_err = get_vae_score(vae, image=image, L=15)\n",
    "    iwae_loss, iwae_KL, iwae_reconst = get_iwae_score(vae, image, L=15)\n",
    "    result = {'reconst_score': reconst_err.item(),\n",
    "              'KL_score': KL.item(),\n",
    "              'vae_score': vae_loss.item(),\n",
    "              'iwae_score': iwae_loss.item(),\n",
    "              'iwae_KL_score': iwae_KL.item(),\n",
    "              'iwae_reconst_score': iwae_reconst.item()}\n",
    "    return result\n",
    "\n",
    "\n",
    "# MAIN LOOP\n",
    "score_names = ['reconst_score', 'KL_score', 'vae_score',\n",
    "               'iwae_reconst_score', 'iwae_KL_score', 'iwae_score']\n",
    "classes = test_loader.dataset.classes\n",
    "scores = {(score_name, cls): [] for (score_name, cls) in product(score_names,\n",
    "                                                                 classes)}\n",
    "model.eval()\n",
    "with torch.no_grad():\n",
    "    for idx, (image, target) in tqdm(enumerate(test_loader)):\n",
    "        cls = classes[target.item()]\n",
    "        if args.cuda:\n",
    "            image = image.cuda()\n",
    "\n",
    "        score = compute_all_scores(vae=model, image=image)\n",
    "        for name in score_names:\n",
    "            scores[(name, cls)].append(score[name])\n",
    "\n",
    "# display the mean of scores\n",
    "means = np.zeros([len(score_names), len(classes)])\n",
    "for (name, cls) in product(score_names, classes):\n",
    "    means[score_names.index(name), classes.index(cls)] = sum(scores[(name, cls)]) / len(scores[(name, cls)])\n",
    "df_mean = pd.DataFrame(means, index=score_names, columns=classes)\n",
    "print(\"###################### MEANS #####################\")\n",
    "print(df_mean)\n",
    "\n",
    "\n",
    "classes.remove('NV')\n",
    "auc_result = np.zeros([len(score_names), len(classes) + 1])\n",
    "# get auc roc for each class\n",
    "for (name, cls) in product(score_names, classes):\n",
    "    normal_scores = scores[(name, 'NV')]\n",
    "    abnormal_scores = scores[(name, cls)]\n",
    "    y_true = [0]*len(normal_scores) + [1]*len(abnormal_scores)\n",
    "    y_score = normal_scores + abnormal_scores\n",
    "    auc_result[score_names.index(name), classes.index(cls)] = roc_auc_score(y_true, y_score)\n",
    "\n",
    "# add auc roc against all diseases\n",
    "for name in score_names:\n",
    "    normal_scores = scores[(name, 'NV')]\n",
    "    abnormal_scores = np.concatenate([scores[(name, cls)]for cls in classes]).tolist()\n",
    "    y_true = [0]*len(normal_scores) + [1]*len(abnormal_scores)\n",
    "    y_score = normal_scores + abnormal_scores\n",
    "    auc_result[score_names.index(name), -1] = roc_auc_score(y_true, y_score)\n",
    "\n",
    "df = pd.DataFrame(auc_result, index=score_names, columns=classes + ['ALL'])\n",
    "# display\n",
    "print(\"###################### AUC ROC #####################\")\n",
    "print(df)\n",
    "print(\"####################################################\")\n",
    "df.to_csv(args.out_csv)\n",
    "\n",
    "# fit a gamma distribution\n",
    "_, val_loader = load_vae_train_datasets(args.image_size, args.data, 32)\n",
    "model.eval()\n",
    "all_reconst_err = []\n",
    "num_val = len(val_loader.dataset)\n",
    "with torch.no_grad():\n",
    "    for img, _ in tqdm(val_loader):\n",
    "        if args.cuda:\n",
    "            img = img.cuda()\n",
    "\n",
    "        # compute output\n",
    "        recon_batch, mu, logvar = model(img)\n",
    "        loss, loss_details = criterion.forward_without_reduce(recon_batch, img, mu, logvar)\n",
    "        reconst_err = -loss_details['reconst_logp']\n",
    "        all_reconst_err += reconst_err.tolist()\n",
    "\n",
    "fit_alpha, fit_loc, fit_beta=stats.gamma.fit(all_reconst_err)\n",
    "\n",
    "# using gamma for outlier detection\n",
    "# get auc roc for each class\n",
    "LARGE_NUMBER = 1e30\n",
    "\n",
    "def get_gamma_score(scores):\n",
    "    result = -stats.gamma.logpdf(scores, fit_alpha, fit_loc, fit_beta)\n",
    "    # replace inf in result with largest number\n",
    "    result[result == np.inf] = LARGE_NUMBER\n",
    "    return result\n",
    "\n",
    "auc_gamma_result = np.zeros([1, len(classes)+1])\n",
    "name = 'reconst_score'\n",
    "for cls in classes:\n",
    "    normal_scores = get_gamma_score(scores[(name, 'NV')]).tolist()\n",
    "    abnormal_scores = get_gamma_score(scores[(name, cls)]).tolist()\n",
    "    y_true = [0]*len(normal_scores) + [1]*len(abnormal_scores)\n",
    "    y_score = normal_scores + abnormal_scores\n",
    "    auc_gamma_result[0, classes.index(cls)] = roc_auc_score(y_true, y_score)\n",
    "\n",
    "# for all class\n",
    "normal_scores = get_gamma_score(scores[(name, 'NV')]).tolist()\n",
    "abnormal_scores = np.concatenate([get_gamma_score(scores[(name, cls)]) for cls in classes]).tolist()\n",
    "y_true = [0]*len(normal_scores) + [1]*len(abnormal_scores)\n",
    "y_score = normal_scores + abnormal_scores\n",
    "auc_gamma_result[0, -1] = roc_auc_score(y_true, y_score)\n",
    "df = pd.DataFrame(auc_gamma_result, index=['gamma score'], columns=classes + ['ALL'])\n",
    "\n",
    "# display\n",
    "print(\"###################### AUC ROC GAMMA #####################\")\n",
    "print(df)\n",
    "print(\"##########################################################\")\n"
   ]
  },
  {
   "cell_type": "markdown",
   "metadata": {},
   "source": []
  }
 ],
 "metadata": {
  "kernelspec": {
   "display_name": "Environment (conda_pytorch_p36)",
   "language": "python",
   "name": "conda_pytorch_p36"
  },
  "language_info": {
   "codemirror_mode": {
    "name": "ipython",
    "version": 3
   },
   "file_extension": ".py",
   "mimetype": "text/x-python",
   "name": "python",
   "nbconvert_exporter": "python",
   "pygments_lexer": "ipython3",
   "version": "3.6.5"
  }
 },
 "nbformat": 4,
 "nbformat_minor": 2
}
