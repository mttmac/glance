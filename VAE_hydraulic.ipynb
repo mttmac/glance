{
 "cells": [
  {
   "cell_type": "markdown",
   "metadata": {},
   "source": [
    "# Imports"
   ]
  },
  {
   "cell_type": "code",
   "execution_count": 1,
   "metadata": {},
   "outputs": [],
   "source": [
    "%reload_ext autoreload\n",
    "%autoreload 2\n",
    "%matplotlib inline"
   ]
  },
  {
   "cell_type": "code",
   "execution_count": 2,
   "metadata": {},
   "outputs": [],
   "source": [
    "from VAE1D import *"
   ]
  },
  {
   "cell_type": "code",
   "execution_count": 3,
   "metadata": {},
   "outputs": [],
   "source": [
    "from IPython.core.debugger import set_trace"
   ]
  },
  {
   "cell_type": "markdown",
   "metadata": {},
   "source": [
    "# Build model and loss function \n",
    "Initially designed for 2D input images, modified for 1D time-series data.\n",
    "Based on this paper: https://arxiv.org/abs/1807.01349"
   ]
  },
  {
   "cell_type": "code",
   "execution_count": 4,
   "metadata": {},
   "outputs": [],
   "source": [
    "# The hydraulic system has 14 sensors from which to pull data\n",
    "n_channels = 14\n",
    "# The data has been resized to 512, although it represents 1 min for each cycle\n",
    "size = 512\n",
    "# Latent space is restricted to be about 1/170th of the input dims, similar to 2D case\n",
    "n_latent = 40"
   ]
  },
  {
   "cell_type": "code",
   "execution_count": 5,
   "metadata": {},
   "outputs": [
    {
     "data": {
      "text/plain": [
       "VAE1D(\n",
       "  (encoder): Sequential(\n",
       "    (input-conv): Conv1d(14, 16, kernel_size=(4,), stride=(2,), padding=(1,))\n",
       "    (input-relu): ReLU(inplace)\n",
       "    (pyramid_16-32_conv): Conv1d(16, 32, kernel_size=(4,), stride=(2,), padding=(1,))\n",
       "    (pyramid_32_batchnorm): BatchNorm1d(32, eps=1e-05, momentum=0.1, affine=True, track_running_stats=True)\n",
       "    (pyramid_32_relu): ReLU(inplace)\n",
       "    (pyramid_32-64_conv): Conv1d(32, 64, kernel_size=(4,), stride=(2,), padding=(1,))\n",
       "    (pyramid_64_batchnorm): BatchNorm1d(64, eps=1e-05, momentum=0.1, affine=True, track_running_stats=True)\n",
       "    (pyramid_64_relu): ReLU(inplace)\n",
       "    (pyramid_64-128_conv): Conv1d(64, 128, kernel_size=(4,), stride=(2,), padding=(1,))\n",
       "    (pyramid_128_batchnorm): BatchNorm1d(128, eps=1e-05, momentum=0.1, affine=True, track_running_stats=True)\n",
       "    (pyramid_128_relu): ReLU(inplace)\n",
       "    (pyramid_128-256_conv): Conv1d(128, 256, kernel_size=(4,), stride=(2,), padding=(1,))\n",
       "    (pyramid_256_batchnorm): BatchNorm1d(256, eps=1e-05, momentum=0.1, affine=True, track_running_stats=True)\n",
       "    (pyramid_256_relu): ReLU(inplace)\n",
       "    (pyramid_256-512_conv): Conv1d(256, 512, kernel_size=(4,), stride=(2,), padding=(1,))\n",
       "    (pyramid_512_batchnorm): BatchNorm1d(512, eps=1e-05, momentum=0.1, affine=True, track_running_stats=True)\n",
       "    (pyramid_512_relu): ReLU(inplace)\n",
       "    (pyramid_512-1024_conv): Conv1d(512, 1024, kernel_size=(4,), stride=(2,), padding=(1,))\n",
       "    (pyramid_1024_batchnorm): BatchNorm1d(1024, eps=1e-05, momentum=0.1, affine=True, track_running_stats=True)\n",
       "    (pyramid_1024_relu): ReLU(inplace)\n",
       "  )\n",
       "  (conv_mu): Conv1d(1024, 40, kernel_size=(4,), stride=(1,))\n",
       "  (conv_logvar): Conv1d(1024, 40, kernel_size=(4,), stride=(1,))\n",
       "  (decoder): Sequential(\n",
       "    (input-conv): ConvTranspose1d(40, 1024, kernel_size=(4,), stride=(1,))\n",
       "    (input-batchnorm): BatchNorm1d(1024, eps=1e-05, momentum=0.1, affine=True, track_running_stats=True)\n",
       "    (input-relu): ReLU(inplace)\n",
       "    (pyramid_1024-512_conv): ConvTranspose1d(1024, 512, kernel_size=(4,), stride=(2,), padding=(1,))\n",
       "    (pyramid_512_batchnorm): BatchNorm1d(512, eps=1e-05, momentum=0.1, affine=True, track_running_stats=True)\n",
       "    (pyramid_512_relu): ReLU(inplace)\n",
       "    (pyramid_512-256_conv): ConvTranspose1d(512, 256, kernel_size=(4,), stride=(2,), padding=(1,))\n",
       "    (pyramid_256_batchnorm): BatchNorm1d(256, eps=1e-05, momentum=0.1, affine=True, track_running_stats=True)\n",
       "    (pyramid_256_relu): ReLU(inplace)\n",
       "    (pyramid_256-128_conv): ConvTranspose1d(256, 128, kernel_size=(4,), stride=(2,), padding=(1,))\n",
       "    (pyramid_128_batchnorm): BatchNorm1d(128, eps=1e-05, momentum=0.1, affine=True, track_running_stats=True)\n",
       "    (pyramid_128_relu): ReLU(inplace)\n",
       "    (pyramid_128-64_conv): ConvTranspose1d(128, 64, kernel_size=(4,), stride=(2,), padding=(1,))\n",
       "    (pyramid_64_batchnorm): BatchNorm1d(64, eps=1e-05, momentum=0.1, affine=True, track_running_stats=True)\n",
       "    (pyramid_64_relu): ReLU(inplace)\n",
       "    (pyramid_64-32_conv): ConvTranspose1d(64, 32, kernel_size=(4,), stride=(2,), padding=(1,))\n",
       "    (pyramid_32_batchnorm): BatchNorm1d(32, eps=1e-05, momentum=0.1, affine=True, track_running_stats=True)\n",
       "    (pyramid_32_relu): ReLU(inplace)\n",
       "    (pyramid_32-16_conv): ConvTranspose1d(32, 16, kernel_size=(4,), stride=(2,), padding=(1,))\n",
       "    (pyramid_16_batchnorm): BatchNorm1d(16, eps=1e-05, momentum=0.1, affine=True, track_running_stats=True)\n",
       "    (pyramid_16_relu): ReLU(inplace)\n",
       "    (output-conv): ConvTranspose1d(16, 14, kernel_size=(4,), stride=(2,), padding=(1,))\n",
       "    (output-sigmoid): Sigmoid()\n",
       "  )\n",
       ")"
      ]
     },
     "execution_count": 5,
     "metadata": {},
     "output_type": "execute_result"
    }
   ],
   "source": [
    "model = VAE1D(size, n_channels, n_latent)\n",
    "model"
   ]
  },
  {
   "cell_type": "code",
   "execution_count": 7,
   "metadata": {},
   "outputs": [],
   "source": [
    "beta = 10  # KL term relative weight\n",
    "criterion = VAE1DLoss(beta)"
   ]
  },
  {
   "cell_type": "markdown",
   "metadata": {},
   "source": [
    "# Load hydraulic test data\n",
    "From this dataset: https://archive.ics.uci.edu/ml/datasets/Condition+monitoring+of+hydraulic+systems#"
   ]
  },
  {
   "cell_type": "code",
   "execution_count": 8,
   "metadata": {},
   "outputs": [],
   "source": [
    "data_path = Path('data/hydraulic')\n",
    "train_dl, val_dl, test_dl = load_datasets(data_path)"
   ]
  },
  {
   "cell_type": "code",
   "execution_count": 9,
   "metadata": {},
   "outputs": [
    {
     "name": "stdout",
     "output_type": "stream",
     "text": [
      "38 10 720\n"
     ]
    }
   ],
   "source": [
    "print(len(train_dl), len(val_dl), len(test_dl))"
   ]
  },
  {
   "cell_type": "markdown",
   "metadata": {},
   "source": [
    "# Prepare for training"
   ]
  },
  {
   "cell_type": "code",
   "execution_count": 10,
   "metadata": {},
   "outputs": [
    {
     "name": "stdout",
     "output_type": "stream",
     "text": [
      "Folder models/190128-hydraulic already exists\n"
     ]
    },
    {
     "data": {
      "text/plain": [
       "PosixPath('models/190128-hydraulic')"
      ]
     },
     "execution_count": 10,
     "metadata": {},
     "output_type": "execute_result"
    }
   ],
   "source": [
    "desc = 'hydraulic'\n",
    "log_freq = 5 # batches\n",
    "\n",
    "# Training parameters\n",
    "epochs = 100\n",
    "lr = 1e-4                # learning rate\n",
    "lr_decay = 0.1           # lr decay factor\n",
    "schedule = [25, 50, 75]  # decrease lr at these epochs\n",
    "batch_size = 32\n",
    "device = torch.device(\"cuda:0\" if torch.cuda.is_available() else \"cpu\")\n",
    "\n",
    "# Checkpoint to resume from (default None)\n",
    "load_path = None\n",
    "\n",
    "# Checkpoint save location\n",
    "save_path = Path(f\"models/{date.today().strftime('%y%m%d')}-{desc}/\")\n",
    "if save_path.is_dir():\n",
    "    print(f\"Folder {save_path} already exists\")\n",
    "else:\n",
    "    os.mkdir(save_path)\n",
    "save_path"
   ]
  },
  {
   "cell_type": "code",
   "execution_count": 11,
   "metadata": {},
   "outputs": [],
   "source": [
    "# Load checkpoint if any\n",
    "if load_path is not None:\n",
    "    checkpoint = torch.load(load_path, map_location=device)\n",
    "    model.load_state_dict(checkpoint['state_dict'])\n",
    "    optimizer.load_state_dict(checkpoint['optimizer'])\n",
    "    print(\"Checkpoint loaded\")\n",
    "    print(f\"Validation loss: {checkpoint['val_loss']}\")\n",
    "    print(f\"Epoch: {checkpoint['epoch']}\")"
   ]
  },
  {
   "cell_type": "code",
   "execution_count": 12,
   "metadata": {},
   "outputs": [],
   "source": [
    "# Load optimizer and scheduler\n",
    "optimizer = torch.optim.Adam(params=model.parameters(), lr=lr)\n",
    "scheduler = torch.optim.lr_scheduler.MultiStepLR(optimizer, schedule, lr_decay)"
   ]
  },
  {
   "cell_type": "code",
   "execution_count": 13,
   "metadata": {},
   "outputs": [],
   "source": [
    "# Move to GPU\n",
    "model = model.to(device)\n",
    "criterion = criterion.to(device)"
   ]
  },
  {
   "cell_type": "markdown",
   "metadata": {},
   "source": [
    "# Train the model"
   ]
  },
  {
   "cell_type": "code",
   "execution_count": 14,
   "metadata": {},
   "outputs": [],
   "source": [
    "# TODO - add in logging to Visdom"
   ]
  },
  {
   "cell_type": "code",
   "execution_count": 15,
   "metadata": {},
   "outputs": [],
   "source": [
    "def train_VAE1D(dl):\n",
    "    \"\"\"\n",
    "    Execute the training loop\n",
    "    \"\"\"\n",
    "    loss_tracker = AvgTracker()\n",
    "    kl_tracker = AvgTracker()\n",
    "    logp_tracker = AvgTracker()\n",
    "    timer = StopWatch()\n",
    "    \n",
    "    for i, (X, _) in enumerate(tqdm(dl)):\n",
    "        \n",
    "        X = X.to(device)\n",
    "        timer.lap()  # load time\n",
    "        \n",
    "        # Generate transient and compute loss\n",
    "        X_hat, mu, logvar = model(X)\n",
    "        loss, loss_desc = criterion(X_hat, X, mu, logvar)\n",
    "        timer.lap()  # gen time\n",
    "        \n",
    "        loss_tracker.update(loss.item())\n",
    "        kl_tracker.update(loss_desc['KL'].item())\n",
    "        logp_tracker.update(loss_desc['logp'].item())\n",
    "        \n",
    "        if model.training:\n",
    "            # Update weights\n",
    "            optimizer.zero_grad()\n",
    "            loss.backward()\n",
    "            optimizer.step()\n",
    "            timer.lap()  # backprop time\n",
    "        \n",
    "        if (i + 1) % log_freq == 0:\n",
    "            # Print progress\n",
    "            print(f'Epoch: {epoch + 1} ({i + 1}/{len(dl)})')\n",
    "            print(f'\\tData load time: {timer.elapsed[0]:.3f} sec')\n",
    "            print(f'\\tGeneration time: {timer.elapsed[1]:.3f} sec')\n",
    "            if model.training:\n",
    "                print(f'\\tBackprop time: {timer.elapsed[2]:.3f} sec')\n",
    "            print(f'\\tLog probability: {logp_tracker.val:.4f} '\n",
    "                  f'(avg {logp_tracker.avg:.4f})')\n",
    "            print(f'\\tKL: {kl_tracker.val:.4f} (avg {kl_tracker.avg:.4f})')\n",
    "            print(f'\\tLoss: {loss_tracker.val:.4f} (avg {loss_tracker.avg:.4f})')\n",
    "\n",
    "    return loss_tracker.avg, kl_tracker.avg, logp_tracker.avg"
   ]
  },
  {
   "cell_type": "code",
   "execution_count": 16,
   "metadata": {},
   "outputs": [
    {
     "name": "stderr",
     "output_type": "stream",
     "text": [
      " 21%|██        | 8/38 [00:00<00:03,  9.51it/s]"
     ]
    },
    {
     "name": "stdout",
     "output_type": "stream",
     "text": [
      "Epoch: 1 (5/38)\n",
      "\tData load time: 0.158 sec\n",
      "\tGeneration time: 0.189 sec\n",
      "\tBackprop time: 0.207 sec\n",
      "\tLog probability: -0.7034 (avg -0.7050)\n",
      "\tKL: 2025.1796 (avg 164973.2844)\n",
      "\tLoss: 20252.4980 (avg 1649733.5178)\n"
     ]
    },
    {
     "name": "stderr",
     "output_type": "stream",
     "text": [
      " 37%|███▋      | 14/38 [00:00<00:01, 13.44it/s]"
     ]
    },
    {
     "name": "stdout",
     "output_type": "stream",
     "text": [
      "Epoch: 1 (10/38)\n",
      "\tData load time: 0.158 sec\n",
      "\tGeneration time: 0.189 sec\n",
      "\tBackprop time: 0.207 sec\n",
      "\tLog probability: -0.7034 (avg -0.7046)\n",
      "\tKL: 861.2156 (avg 82957.3153)\n",
      "\tLoss: 8612.8594 (avg 829573.8425)\n"
     ]
    },
    {
     "name": "stderr",
     "output_type": "stream",
     "text": [
      " 45%|████▍     | 17/38 [00:00<00:01, 15.47it/s]"
     ]
    },
    {
     "name": "stdout",
     "output_type": "stream",
     "text": [
      "Epoch: 1 (15/38)\n",
      "\tData load time: 0.158 sec\n",
      "\tGeneration time: 0.189 sec\n",
      "\tBackprop time: 0.207 sec\n",
      "\tLog probability: -0.6973 (avg -0.7038)\n",
      "\tKL: 480.2264 (avg 55426.0344)\n",
      "\tLoss: 4802.9609 (avg 554261.0378)\n"
     ]
    },
    {
     "name": "stderr",
     "output_type": "stream",
     "text": [
      " 61%|██████    | 23/38 [00:01<00:00, 19.17it/s]"
     ]
    },
    {
     "name": "stdout",
     "output_type": "stream",
     "text": [
      "Epoch: 1 (20/38)\n",
      "\tData load time: 0.158 sec\n",
      "\tGeneration time: 0.189 sec\n",
      "\tBackprop time: 0.207 sec\n",
      "\tLog probability: -0.6922 (avg -0.7014)\n",
      "\tKL: 478.8500 (avg 41808.6946)\n",
      "\tLoss: 4789.1924 (avg 418087.6395)\n",
      "Epoch: 1 (25/38)\n",
      "\tData load time: 0.158 sec\n",
      "\tGeneration time: 0.189 sec\n",
      "\tBackprop time: 0.207 sec\n",
      "\tLog probability: -0.6975 (avg -0.7005)\n",
      "\tKL: 94.8647 (avg 33504.8196)\n",
      "\tLoss: 949.3449 (avg 335048.8908)\n"
     ]
    },
    {
     "name": "stderr",
     "output_type": "stream",
     "text": [
      " 92%|█████████▏| 35/38 [00:01<00:00, 23.33it/s]"
     ]
    },
    {
     "name": "stdout",
     "output_type": "stream",
     "text": [
      "Epoch: 1 (30/38)\n",
      "\tData load time: 0.158 sec\n",
      "\tGeneration time: 0.189 sec\n",
      "\tBackprop time: 0.207 sec\n",
      "\tLog probability: -0.6948 (avg -0.6990)\n",
      "\tKL: 576.0960 (avg 28019.1016)\n",
      "\tLoss: 5761.6548 (avg 280191.7100)\n",
      "Epoch: 1 (35/38)\n",
      "\tData load time: 0.158 sec\n",
      "\tGeneration time: 0.189 sec\n",
      "\tBackprop time: 0.207 sec\n",
      "\tLog probability: -0.6891 (avg -0.6977)\n",
      "\tKL: 876.1755 (avg 24066.1920)\n",
      "\tLoss: 8762.4443 (avg 240662.6130)\n"
     ]
    },
    {
     "name": "stderr",
     "output_type": "stream",
     "text": [
      "100%|██████████| 38/38 [00:01<00:00, 24.32it/s]\n",
      "100%|██████████| 10/10 [00:00<00:00, 27.66it/s]\n",
      "  0%|          | 0/38 [00:00<?, ?it/s]"
     ]
    },
    {
     "name": "stdout",
     "output_type": "stream",
     "text": [
      "Epoch: 1 (5/10)\n",
      "\tData load time: 0.163 sec\n",
      "\tGeneration time: 0.181 sec\n",
      "\tLog probability: -0.6838 (avg -0.6868)\n",
      "\tKL: 43.3160 (avg 50.2699)\n",
      "\tLoss: 433.8436 (avg 503.3856)\n",
      "Epoch: 1 (10/10)\n",
      "\tData load time: 0.163 sec\n",
      "\tGeneration time: 0.181 sec\n",
      "\tLog probability: -0.6877 (avg -0.6861)\n",
      "\tKL: 33.3749 (avg 65.6206)\n",
      "\tLoss: 334.4363 (avg 656.8918)\n",
      "Saving checkpoint..\n",
      "Lowest validation loss: 656.8918\n"
     ]
    },
    {
     "name": "stderr",
     "output_type": "stream",
     "text": [
      " 26%|██▋       | 10/38 [00:00<00:02, 10.80it/s]"
     ]
    },
    {
     "name": "stdout",
     "output_type": "stream",
     "text": [
      "Epoch: 2 (5/38)\n",
      "\tData load time: 0.165 sec\n",
      "\tGeneration time: 0.183 sec\n",
      "\tBackprop time: 0.196 sec\n",
      "\tLog probability: -0.6929 (avg -0.6888)\n",
      "\tKL: 74.1233 (avg 128.9447)\n",
      "\tLoss: 741.9255 (avg 1290.1356)\n",
      "Epoch: 2 (10/38)\n",
      "\tData load time: 0.165 sec\n",
      "\tGeneration time: 0.183 sec\n",
      "\tBackprop time: 0.196 sec\n",
      "\tLog probability: -0.6869 (avg -0.6874)\n",
      "\tKL: 34.4499 (avg 93.4842)\n",
      "\tLoss: 345.1857 (avg 935.5296)\n"
     ]
    },
    {
     "name": "stderr",
     "output_type": "stream",
     "text": [
      " 50%|█████     | 19/38 [00:00<00:01, 17.48it/s]"
     ]
    },
    {
     "name": "stdout",
     "output_type": "stream",
     "text": [
      "Epoch: 2 (15/38)\n",
      "\tData load time: 0.165 sec\n",
      "\tGeneration time: 0.183 sec\n",
      "\tBackprop time: 0.196 sec\n",
      "\tLog probability: -0.6824 (avg -0.6869)\n",
      "\tKL: 37.1944 (avg 74.3314)\n",
      "\tLoss: 372.6266 (avg 744.0011)\n",
      "Epoch: 2 (20/38)\n",
      "\tData load time: 0.165 sec\n",
      "\tGeneration time: 0.183 sec\n",
      "\tBackprop time: 0.196 sec\n",
      "\tLog probability: -0.6805 (avg -0.6861)\n",
      "\tKL: 26.7521 (avg 75.7735)\n",
      "\tLoss: 268.2018 (avg 758.4211)\n"
     ]
    },
    {
     "name": "stderr",
     "output_type": "stream",
     "text": [
      " 74%|███████▎  | 28/38 [00:01<00:00, 22.27it/s]"
     ]
    },
    {
     "name": "stdout",
     "output_type": "stream",
     "text": [
      "Epoch: 2 (25/38)\n",
      "\tData load time: 0.165 sec\n",
      "\tGeneration time: 0.183 sec\n",
      "\tBackprop time: 0.196 sec\n",
      "\tLog probability: -0.6785 (avg -0.6849)\n",
      "\tKL: 17.5717 (avg 72.1195)\n",
      "\tLoss: 176.3954 (avg 721.8800)\n",
      "Epoch: 2 (30/38)\n",
      "\tData load time: 0.165 sec\n",
      "\tGeneration time: 0.183 sec\n",
      "\tBackprop time: 0.196 sec\n",
      "\tLog probability: -0.6746 (avg -0.6839)\n",
      "\tKL: 18.6974 (avg 65.0327)\n",
      "\tLoss: 187.6483 (avg 651.0106)\n"
     ]
    },
    {
     "name": "stderr",
     "output_type": "stream",
     "text": [
      "100%|██████████| 38/38 [00:01<00:00, 22.87it/s]\n",
      "  0%|          | 0/10 [00:00<?, ?it/s]"
     ]
    },
    {
     "name": "stdout",
     "output_type": "stream",
     "text": [
      "Epoch: 2 (35/38)\n",
      "\tData load time: 0.165 sec\n",
      "\tGeneration time: 0.183 sec\n",
      "\tBackprop time: 0.196 sec\n",
      "\tLog probability: -0.6730 (avg -0.6827)\n",
      "\tKL: 44.9214 (avg 60.6376)\n",
      "\tLoss: 449.8871 (avg 607.0582)\n"
     ]
    },
    {
     "name": "stderr",
     "output_type": "stream",
     "text": [
      "100%|██████████| 10/10 [00:00<00:00, 27.76it/s]\n"
     ]
    },
    {
     "name": "stdout",
     "output_type": "stream",
     "text": [
      "Epoch: 2 (5/10)\n",
      "\tData load time: 0.165 sec\n",
      "\tGeneration time: 0.183 sec\n",
      "\tLog probability: -0.6759 (avg -0.6732)\n",
      "\tKL: 17.6269 (avg 22.3813)\n",
      "\tLoss: 176.9445 (avg 224.4866)\n",
      "Epoch: 2 (10/10)\n",
      "\tData load time: 0.165 sec\n",
      "\tGeneration time: 0.183 sec\n",
      "\tLog probability: -0.6604 (avg -0.6706)\n",
      "\tKL: 15.3771 (avg 19.2603)\n",
      "\tLoss: 154.4318 (avg 193.2732)\n",
      "Saving checkpoint..\n"
     ]
    },
    {
     "name": "stderr",
     "output_type": "stream",
     "text": [
      "  0%|          | 0/38 [00:00<?, ?it/s]"
     ]
    },
    {
     "name": "stdout",
     "output_type": "stream",
     "text": [
      "Lowest validation loss: 193.2732\n"
     ]
    },
    {
     "name": "stderr",
     "output_type": "stream",
     "text": [
      " 26%|██▋       | 10/38 [00:00<00:02, 11.29it/s]"
     ]
    },
    {
     "name": "stdout",
     "output_type": "stream",
     "text": [
      "Epoch: 3 (5/38)\n",
      "\tData load time: 0.152 sec\n",
      "\tGeneration time: 0.171 sec\n",
      "\tBackprop time: 0.184 sec\n",
      "\tLog probability: -0.6737 (avg -0.6746)\n",
      "\tKL: 31.5897 (avg 38.3841)\n",
      "\tLoss: 316.5708 (avg 384.5160)\n",
      "Epoch: 3 (10/38)\n",
      "\tData load time: 0.152 sec\n",
      "\tGeneration time: 0.171 sec\n",
      "\tBackprop time: 0.184 sec\n",
      "\tLog probability: -0.6699 (avg -0.6727)\n",
      "\tKL: 47.8551 (avg 37.5890)\n",
      "\tLoss: 479.2206 (avg 376.5626)\n"
     ]
    },
    {
     "name": "stderr",
     "output_type": "stream",
     "text": [
      " 50%|█████     | 19/38 [00:00<00:01, 17.96it/s]"
     ]
    },
    {
     "name": "stdout",
     "output_type": "stream",
     "text": [
      "Epoch: 3 (15/38)\n",
      "\tData load time: 0.152 sec\n",
      "\tGeneration time: 0.171 sec\n",
      "\tBackprop time: 0.184 sec\n",
      "\tLog probability: -0.6680 (avg -0.6714)\n",
      "\tKL: 34.1693 (avg 33.1385)\n",
      "\tLoss: 342.3610 (avg 332.0564)\n",
      "Epoch: 3 (20/38)\n",
      "\tData load time: 0.152 sec\n",
      "\tGeneration time: 0.171 sec\n",
      "\tBackprop time: 0.184 sec\n",
      "\tLog probability: -0.6690 (avg -0.6700)\n",
      "\tKL: 13.6610 (avg 38.6940)\n",
      "\tLoss: 137.2788 (avg 387.6102)\n"
     ]
    },
    {
     "name": "stderr",
     "output_type": "stream",
     "text": [
      " 74%|███████▎  | 28/38 [00:01<00:00, 22.38it/s]"
     ]
    },
    {
     "name": "stdout",
     "output_type": "stream",
     "text": [
      "Epoch: 3 (25/38)\n",
      "\tData load time: 0.152 sec\n",
      "\tGeneration time: 0.171 sec\n",
      "\tBackprop time: 0.184 sec\n",
      "\tLog probability: -0.6622 (avg -0.6695)\n",
      "\tKL: 80.7634 (avg 38.5582)\n",
      "\tLoss: 808.2964 (avg 386.2519)\n",
      "Epoch: 3 (30/38)\n",
      "\tData load time: 0.152 sec\n",
      "\tGeneration time: 0.171 sec\n",
      "\tBackprop time: 0.184 sec\n",
      "\tLog probability: -0.6710 (avg -0.6689)\n",
      "\tKL: 13.3912 (avg 34.7128)\n",
      "\tLoss: 134.5825 (avg 347.7968)\n"
     ]
    },
    {
     "name": "stderr",
     "output_type": "stream",
     "text": [
      "100%|██████████| 38/38 [00:01<00:00, 23.08it/s]\n",
      "  0%|          | 0/10 [00:00<?, ?it/s]"
     ]
    },
    {
     "name": "stdout",
     "output_type": "stream",
     "text": [
      "Epoch: 3 (35/38)\n",
      "\tData load time: 0.152 sec\n",
      "\tGeneration time: 0.171 sec\n",
      "\tBackprop time: 0.184 sec\n",
      "\tLog probability: -0.6566 (avg -0.6676)\n",
      "\tKL: 35.0786 (avg 33.1789)\n",
      "\tLoss: 351.4431 (avg 332.4564)\n"
     ]
    },
    {
     "name": "stderr",
     "output_type": "stream",
     "text": [
      "100%|██████████| 10/10 [00:00<00:00, 28.89it/s]\n"
     ]
    },
    {
     "name": "stdout",
     "output_type": "stream",
     "text": [
      "Epoch: 3 (5/10)\n",
      "\tData load time: 0.148 sec\n",
      "\tGeneration time: 0.165 sec\n",
      "\tLog probability: -0.6656 (avg -0.6695)\n",
      "\tKL: 9.7554 (avg 12.3732)\n",
      "\tLoss: 98.2199 (avg 124.4018)\n",
      "Epoch: 3 (10/10)\n",
      "\tData load time: 0.148 sec\n",
      "\tGeneration time: 0.165 sec\n",
      "\tLog probability: -0.6644 (avg -0.6681)\n",
      "\tKL: 11.8570 (avg 13.2677)\n",
      "\tLoss: 119.2347 (avg 133.3451)\n",
      "Saving checkpoint..\n"
     ]
    },
    {
     "name": "stderr",
     "output_type": "stream",
     "text": [
      "  0%|          | 0/38 [00:00<?, ?it/s]"
     ]
    },
    {
     "name": "stdout",
     "output_type": "stream",
     "text": [
      "Lowest validation loss: 133.3451\n"
     ]
    },
    {
     "name": "stderr",
     "output_type": "stream",
     "text": [
      " 26%|██▋       | 10/38 [00:00<00:02, 11.01it/s]"
     ]
    },
    {
     "name": "stdout",
     "output_type": "stream",
     "text": [
      "Epoch: 4 (5/38)\n",
      "\tData load time: 0.159 sec\n",
      "\tGeneration time: 0.178 sec\n",
      "\tBackprop time: 0.192 sec\n",
      "\tLog probability: -0.6586 (avg -0.6589)\n",
      "\tKL: 35.7323 (avg 27.5580)\n",
      "\tLoss: 357.9815 (avg 276.2391)\n",
      "Epoch: 4 (10/38)\n",
      "\tData load time: 0.159 sec\n",
      "\tGeneration time: 0.178 sec\n",
      "\tBackprop time: 0.192 sec\n",
      "\tLog probability: -0.6542 (avg -0.6583)\n",
      "\tKL: 10.7667 (avg 22.1115)\n",
      "\tLoss: 108.3213 (avg 221.7734)\n"
     ]
    },
    {
     "name": "stderr",
     "output_type": "stream",
     "text": [
      " 50%|█████     | 19/38 [00:00<00:01, 17.70it/s]"
     ]
    },
    {
     "name": "stdout",
     "output_type": "stream",
     "text": [
      "Epoch: 4 (15/38)\n",
      "\tData load time: 0.159 sec\n",
      "\tGeneration time: 0.178 sec\n",
      "\tBackprop time: 0.192 sec\n",
      "\tLog probability: -0.6692 (avg -0.6599)\n",
      "\tKL: 25.5424 (avg 21.0454)\n",
      "\tLoss: 256.0931 (avg 211.1138)\n",
      "Epoch: 4 (20/38)\n",
      "\tData load time: 0.159 sec\n",
      "\tGeneration time: 0.178 sec\n",
      "\tBackprop time: 0.192 sec\n",
      "\tLog probability: -0.6524 (avg -0.6594)\n",
      "\tKL: 16.4144 (avg 21.9702)\n",
      "\tLoss: 164.7959 (avg 220.3612)\n"
     ]
    },
    {
     "name": "stderr",
     "output_type": "stream",
     "text": [
      " 74%|███████▎  | 28/38 [00:01<00:00, 22.36it/s]"
     ]
    },
    {
     "name": "stdout",
     "output_type": "stream",
     "text": [
      "Epoch: 4 (25/38)\n",
      "\tData load time: 0.159 sec\n",
      "\tGeneration time: 0.178 sec\n",
      "\tBackprop time: 0.192 sec\n",
      "\tLog probability: -0.6562 (avg -0.6589)\n",
      "\tKL: 133.5574 (avg 25.3515)\n",
      "\tLoss: 1336.2297 (avg 254.1739)\n",
      "Epoch: 4 (30/38)\n",
      "\tData load time: 0.159 sec\n",
      "\tGeneration time: 0.178 sec\n",
      "\tBackprop time: 0.192 sec\n",
      "\tLog probability: -0.6524 (avg -0.6579)\n",
      "\tKL: 11.6832 (avg 23.4380)\n",
      "\tLoss: 117.4843 (avg 235.0380)\n"
     ]
    },
    {
     "name": "stderr",
     "output_type": "stream",
     "text": [
      "100%|██████████| 38/38 [00:01<00:00, 23.01it/s]\n",
      "  0%|          | 0/10 [00:00<?, ?it/s]"
     ]
    },
    {
     "name": "stdout",
     "output_type": "stream",
     "text": [
      "Epoch: 4 (35/38)\n",
      "\tData load time: 0.159 sec\n",
      "\tGeneration time: 0.178 sec\n",
      "\tBackprop time: 0.192 sec\n",
      "\tLog probability: -0.6472 (avg -0.6570)\n",
      "\tKL: 8.8178 (avg 23.1903)\n",
      "\tLoss: 88.8251 (avg 232.5603)\n"
     ]
    },
    {
     "name": "stderr",
     "output_type": "stream",
     "text": [
      "100%|██████████| 10/10 [00:00<00:00, 28.21it/s]\n"
     ]
    },
    {
     "name": "stdout",
     "output_type": "stream",
     "text": [
      "Epoch: 4 (5/10)\n",
      "\tData load time: 0.155 sec\n",
      "\tGeneration time: 0.173 sec\n",
      "\tLog probability: -0.6671 (avg -0.6702)\n",
      "\tKL: 6.7293 (avg 10.5816)\n",
      "\tLoss: 67.9598 (avg 106.4857)\n",
      "Epoch: 4 (10/10)\n",
      "\tData load time: 0.155 sec\n",
      "\tGeneration time: 0.173 sec\n",
      "\tLog probability: -0.6641 (avg -0.6661)\n",
      "\tKL: 11.1309 (avg 11.1842)\n",
      "\tLoss: 111.9733 (avg 112.5077)\n",
      "Saving checkpoint..\n"
     ]
    },
    {
     "name": "stderr",
     "output_type": "stream",
     "text": [
      "  0%|          | 0/38 [00:00<?, ?it/s]"
     ]
    },
    {
     "name": "stdout",
     "output_type": "stream",
     "text": [
      "Lowest validation loss: 112.5077\n"
     ]
    },
    {
     "name": "stderr",
     "output_type": "stream",
     "text": [
      " 26%|██▋       | 10/38 [00:00<00:02, 10.49it/s]"
     ]
    },
    {
     "name": "stdout",
     "output_type": "stream",
     "text": [
      "Epoch: 5 (5/38)\n",
      "\tData load time: 0.174 sec\n",
      "\tGeneration time: 0.192 sec\n",
      "\tBackprop time: 0.205 sec\n",
      "\tLog probability: -0.6516 (avg -0.6528)\n",
      "\tKL: 17.8995 (avg 18.8627)\n",
      "\tLoss: 179.6464 (avg 189.2800)\n",
      "Epoch: 5 (10/38)\n",
      "\tData load time: 0.174 sec\n",
      "\tGeneration time: 0.192 sec\n",
      "\tBackprop time: 0.205 sec\n",
      "\tLog probability: -0.6455 (avg -0.6501)\n",
      "\tKL: 19.7836 (avg 17.6012)\n",
      "\tLoss: 198.4819 (avg 176.6621)\n"
     ]
    },
    {
     "name": "stderr",
     "output_type": "stream",
     "text": [
      " 50%|█████     | 19/38 [00:00<00:01, 17.22it/s]"
     ]
    },
    {
     "name": "stdout",
     "output_type": "stream",
     "text": [
      "Epoch: 5 (15/38)\n",
      "\tData load time: 0.174 sec\n",
      "\tGeneration time: 0.192 sec\n",
      "\tBackprop time: 0.205 sec\n",
      "\tLog probability: -0.6438 (avg -0.6491)\n",
      "\tKL: 6.1973 (avg 17.4852)\n",
      "\tLoss: 62.6169 (avg 175.5011)\n",
      "Epoch: 5 (20/38)\n",
      "\tData load time: 0.174 sec\n",
      "\tGeneration time: 0.192 sec\n",
      "\tBackprop time: 0.205 sec\n",
      "\tLog probability: -0.6472 (avg -0.6481)\n",
      "\tKL: 18.6790 (avg 17.5562)\n",
      "\tLoss: 187.4375 (avg 176.2106)\n"
     ]
    },
    {
     "name": "stderr",
     "output_type": "stream",
     "text": [
      " 74%|███████▎  | 28/38 [00:01<00:00, 22.07it/s]"
     ]
    },
    {
     "name": "stdout",
     "output_type": "stream",
     "text": [
      "Epoch: 5 (25/38)\n",
      "\tData load time: 0.174 sec\n",
      "\tGeneration time: 0.192 sec\n",
      "\tBackprop time: 0.205 sec\n",
      "\tLog probability: -0.6521 (avg -0.6483)\n",
      "\tKL: 13.8860 (avg 18.8739)\n",
      "\tLoss: 139.5124 (avg 189.3871)\n",
      "Epoch: 5 (30/38)\n",
      "\tData load time: 0.174 sec\n",
      "\tGeneration time: 0.192 sec\n",
      "\tBackprop time: 0.205 sec\n",
      "\tLog probability: -0.6409 (avg -0.6469)\n",
      "\tKL: 10.9038 (avg 18.7114)\n",
      "\tLoss: 109.6786 (avg 187.7606)\n"
     ]
    },
    {
     "name": "stderr",
     "output_type": "stream",
     "text": [
      "100%|██████████| 38/38 [00:01<00:00, 22.78it/s]\n",
      "  0%|          | 0/10 [00:00<?, ?it/s]"
     ]
    },
    {
     "name": "stdout",
     "output_type": "stream",
     "text": [
      "Epoch: 5 (35/38)\n",
      "\tData load time: 0.174 sec\n",
      "\tGeneration time: 0.192 sec\n",
      "\tBackprop time: 0.205 sec\n",
      "\tLog probability: -0.6371 (avg -0.6456)\n",
      "\tKL: 14.5715 (avg 19.0319)\n",
      "\tLoss: 146.3524 (avg 190.9641)\n"
     ]
    },
    {
     "name": "stderr",
     "output_type": "stream",
     "text": [
      "100%|██████████| 10/10 [00:00<00:00, 28.29it/s]\n"
     ]
    },
    {
     "name": "stdout",
     "output_type": "stream",
     "text": [
      "Epoch: 5 (5/10)\n",
      "\tData load time: 0.153 sec\n",
      "\tGeneration time: 0.171 sec\n",
      "\tLog probability: -0.6618 (avg -0.6607)\n",
      "\tKL: 6.8193 (avg 8.9967)\n",
      "\tLoss: 68.8549 (avg 90.6272)\n",
      "Epoch: 5 (10/10)\n",
      "\tData load time: 0.153 sec\n",
      "\tGeneration time: 0.171 sec\n",
      "\tLog probability: -0.6102 (avg -0.6564)\n",
      "\tKL: 5.3126 (avg 9.6650)\n",
      "\tLoss: 53.7360 (avg 97.3061)\n",
      "Saving checkpoint..\n"
     ]
    },
    {
     "name": "stderr",
     "output_type": "stream",
     "text": [
      "  0%|          | 0/38 [00:00<?, ?it/s]"
     ]
    },
    {
     "name": "stdout",
     "output_type": "stream",
     "text": [
      "Lowest validation loss: 97.3061\n"
     ]
    },
    {
     "name": "stderr",
     "output_type": "stream",
     "text": [
      " 26%|██▋       | 10/38 [00:00<00:02, 11.25it/s]"
     ]
    },
    {
     "name": "stdout",
     "output_type": "stream",
     "text": [
      "Epoch: 6 (5/38)\n",
      "\tData load time: 0.153 sec\n",
      "\tGeneration time: 0.172 sec\n",
      "\tBackprop time: 0.186 sec\n",
      "\tLog probability: -0.6377 (avg -0.6417)\n",
      "\tKL: 9.4402 (avg 11.9428)\n",
      "\tLoss: 95.0400 (avg 120.0699)\n",
      "Epoch: 6 (10/38)\n",
      "\tData load time: 0.153 sec\n",
      "\tGeneration time: 0.172 sec\n",
      "\tBackprop time: 0.186 sec\n",
      "\tLog probability: -0.6373 (avg -0.6408)\n",
      "\tKL: 10.6756 (avg 12.7378)\n",
      "\tLoss: 107.3932 (avg 128.0186)\n"
     ]
    },
    {
     "name": "stderr",
     "output_type": "stream",
     "text": [
      " 50%|█████     | 19/38 [00:00<00:01, 17.90it/s]"
     ]
    },
    {
     "name": "stdout",
     "output_type": "stream",
     "text": [
      "Epoch: 6 (15/38)\n",
      "\tData load time: 0.153 sec\n",
      "\tGeneration time: 0.172 sec\n",
      "\tBackprop time: 0.186 sec\n",
      "\tLog probability: -0.6470 (avg -0.6415)\n",
      "\tKL: 15.7455 (avg 12.1903)\n",
      "\tLoss: 158.1021 (avg 122.5448)\n",
      "Epoch: 6 (20/38)\n",
      "\tData load time: 0.153 sec\n",
      "\tGeneration time: 0.172 sec\n",
      "\tBackprop time: 0.186 sec\n",
      "\tLog probability: -0.6300 (avg -0.6393)\n",
      "\tKL: 31.6415 (avg 13.5426)\n",
      "\tLoss: 317.0445 (avg 136.0658)\n"
     ]
    },
    {
     "name": "stderr",
     "output_type": "stream",
     "text": [
      " 74%|███████▎  | 28/38 [00:01<00:00, 22.34it/s]"
     ]
    },
    {
     "name": "stdout",
     "output_type": "stream",
     "text": [
      "Epoch: 6 (25/38)\n",
      "\tData load time: 0.153 sec\n",
      "\tGeneration time: 0.172 sec\n",
      "\tBackprop time: 0.186 sec\n",
      "\tLog probability: -0.6324 (avg -0.6382)\n",
      "\tKL: 7.0843 (avg 13.5183)\n",
      "\tLoss: 71.4753 (avg 135.8211)\n",
      "Epoch: 6 (30/38)\n",
      "\tData load time: 0.153 sec\n",
      "\tGeneration time: 0.172 sec\n",
      "\tBackprop time: 0.186 sec\n",
      "\tLog probability: -0.6347 (avg -0.6372)\n",
      "\tKL: 6.2221 (avg 14.4264)\n",
      "\tLoss: 62.8555 (avg 144.9010)\n"
     ]
    },
    {
     "name": "stderr",
     "output_type": "stream",
     "text": [
      "100%|██████████| 38/38 [00:01<00:00, 23.11it/s]\n",
      "  0%|          | 0/10 [00:00<?, ?it/s]"
     ]
    },
    {
     "name": "stdout",
     "output_type": "stream",
     "text": [
      "Epoch: 6 (35/38)\n",
      "\tData load time: 0.153 sec\n",
      "\tGeneration time: 0.172 sec\n",
      "\tBackprop time: 0.186 sec\n",
      "\tLog probability: -0.6236 (avg -0.6359)\n",
      "\tKL: 12.2661 (avg 13.7039)\n",
      "\tLoss: 123.2847 (avg 137.6749)\n"
     ]
    },
    {
     "name": "stderr",
     "output_type": "stream",
     "text": [
      "100%|██████████| 10/10 [00:00<00:00, 28.62it/s]\n",
      "  0%|          | 0/38 [00:00<?, ?it/s]"
     ]
    },
    {
     "name": "stdout",
     "output_type": "stream",
     "text": [
      "Epoch: 6 (5/10)\n",
      "\tData load time: 0.151 sec\n",
      "\tGeneration time: 0.169 sec\n",
      "\tLog probability: -0.6540 (avg -0.6617)\n",
      "\tKL: 5.7816 (avg 10.5819)\n",
      "\tLoss: 58.4699 (avg 106.4810)\n",
      "Epoch: 6 (10/10)\n",
      "\tData load time: 0.151 sec\n",
      "\tGeneration time: 0.169 sec\n",
      "\tLog probability: -0.6665 (avg -0.6627)\n",
      "\tKL: 8.4452 (avg 10.8686)\n",
      "\tLoss: 85.1187 (avg 109.3487)\n",
      "Lowest validation loss: 97.3061\n"
     ]
    },
    {
     "name": "stderr",
     "output_type": "stream",
     "text": [
      " 26%|██▋       | 10/38 [00:00<00:02, 11.38it/s]"
     ]
    },
    {
     "name": "stdout",
     "output_type": "stream",
     "text": [
      "Epoch: 7 (5/38)\n",
      "\tData load time: 0.152 sec\n",
      "\tGeneration time: 0.169 sec\n",
      "\tBackprop time: 0.183 sec\n",
      "\tLog probability: -0.6384 (avg -0.6292)\n",
      "\tKL: 15.4591 (avg 12.4886)\n",
      "\tLoss: 155.2298 (avg 125.5154)\n",
      "Epoch: 7 (10/38)\n",
      "\tData load time: 0.152 sec\n",
      "\tGeneration time: 0.169 sec\n",
      "\tBackprop time: 0.183 sec\n",
      "\tLog probability: -0.6221 (avg -0.6294)\n",
      "\tKL: 7.8105 (avg 12.6841)\n",
      "\tLoss: 78.7273 (avg 127.4702)\n"
     ]
    },
    {
     "name": "stderr",
     "output_type": "stream",
     "text": [
      " 50%|█████     | 19/38 [00:00<00:01, 18.03it/s]"
     ]
    },
    {
     "name": "stdout",
     "output_type": "stream",
     "text": [
      "Epoch: 7 (15/38)\n",
      "\tData load time: 0.152 sec\n",
      "\tGeneration time: 0.169 sec\n",
      "\tBackprop time: 0.183 sec\n",
      "\tLog probability: -0.6287 (avg -0.6263)\n",
      "\tKL: 12.6349 (avg 11.5454)\n",
      "\tLoss: 126.9778 (avg 116.0804)\n",
      "Epoch: 7 (20/38)\n",
      "\tData load time: 0.152 sec\n",
      "\tGeneration time: 0.169 sec\n",
      "\tBackprop time: 0.183 sec\n",
      "\tLog probability: -0.6116 (avg -0.6248)\n",
      "\tKL: 8.3184 (avg 11.5849)\n",
      "\tLoss: 83.7956 (avg 116.4734)\n"
     ]
    },
    {
     "name": "stderr",
     "output_type": "stream",
     "text": [
      " 74%|███████▎  | 28/38 [00:01<00:00, 22.51it/s]"
     ]
    },
    {
     "name": "stdout",
     "output_type": "stream",
     "text": [
      "Epoch: 7 (25/38)\n",
      "\tData load time: 0.152 sec\n",
      "\tGeneration time: 0.169 sec\n",
      "\tBackprop time: 0.183 sec\n",
      "\tLog probability: -0.6208 (avg -0.6252)\n",
      "\tKL: 10.2767 (avg 11.7352)\n",
      "\tLoss: 103.3879 (avg 117.9774)\n",
      "Epoch: 7 (30/38)\n",
      "\tData load time: 0.152 sec\n",
      "\tGeneration time: 0.169 sec\n",
      "\tBackprop time: 0.183 sec\n",
      "\tLog probability: -0.6143 (avg -0.6242)\n",
      "\tKL: 1521.0591 (avg 61.9310)\n",
      "\tLoss: 15211.2051 (avg 619.9346)\n"
     ]
    },
    {
     "name": "stderr",
     "output_type": "stream",
     "text": [
      "100%|██████████| 38/38 [00:01<00:00, 23.11it/s]\n",
      "  0%|          | 0/10 [00:00<?, ?it/s]"
     ]
    },
    {
     "name": "stdout",
     "output_type": "stream",
     "text": [
      "Epoch: 7 (35/38)\n",
      "\tData load time: 0.152 sec\n",
      "\tGeneration time: 0.169 sec\n",
      "\tBackprop time: 0.183 sec\n",
      "\tLog probability: -0.6232 (avg -0.6236)\n",
      "\tKL: 9.0535 (avg 54.3749)\n",
      "\tLoss: 91.1581 (avg 544.3728)\n"
     ]
    },
    {
     "name": "stderr",
     "output_type": "stream",
     "text": [
      "100%|██████████| 10/10 [00:00<00:00, 28.15it/s]\n"
     ]
    },
    {
     "name": "stdout",
     "output_type": "stream",
     "text": [
      "Epoch: 7 (5/10)\n",
      "\tData load time: 0.153 sec\n",
      "\tGeneration time: 0.170 sec\n",
      "\tLog probability: -0.6437 (avg -0.6446)\n",
      "\tKL: 4.4986 (avg 6.8204)\n",
      "\tLoss: 45.6293 (avg 68.8484)\n",
      "Epoch: 7 (10/10)\n",
      "\tData load time: 0.153 sec\n",
      "\tGeneration time: 0.170 sec\n",
      "\tLog probability: -0.6714 (avg -0.6555)\n",
      "\tKL: 3.7005 (avg 6.7506)\n",
      "\tLoss: 37.6767 (avg 68.1619)\n",
      "Saving checkpoint..\n"
     ]
    },
    {
     "name": "stderr",
     "output_type": "stream",
     "text": [
      "  0%|          | 0/38 [00:00<?, ?it/s]"
     ]
    },
    {
     "name": "stdout",
     "output_type": "stream",
     "text": [
      "Lowest validation loss: 68.1619\n"
     ]
    },
    {
     "name": "stderr",
     "output_type": "stream",
     "text": [
      " 26%|██▋       | 10/38 [00:00<00:02, 11.35it/s]"
     ]
    },
    {
     "name": "stdout",
     "output_type": "stream",
     "text": [
      "Epoch: 8 (5/38)\n",
      "\tData load time: 0.145 sec\n",
      "\tGeneration time: 0.164 sec\n",
      "\tBackprop time: 0.183 sec\n",
      "\tLog probability: -0.6180 (avg -0.6158)\n",
      "\tKL: 12.0039 (avg 7.8017)\n",
      "\tLoss: 120.6571 (avg 78.6331)\n",
      "Epoch: 8 (10/38)\n",
      "\tData load time: 0.145 sec\n",
      "\tGeneration time: 0.164 sec\n",
      "\tBackprop time: 0.183 sec\n",
      "\tLog probability: -0.6185 (avg -0.6159)\n",
      "\tKL: 11.5408 (avg 8.6878)\n",
      "\tLoss: 116.0265 (avg 87.4942)\n"
     ]
    },
    {
     "name": "stderr",
     "output_type": "stream",
     "text": [
      " 50%|█████     | 19/38 [00:00<00:01, 17.97it/s]"
     ]
    },
    {
     "name": "stdout",
     "output_type": "stream",
     "text": [
      "Epoch: 8 (15/38)\n",
      "\tData load time: 0.145 sec\n",
      "\tGeneration time: 0.164 sec\n",
      "\tBackprop time: 0.183 sec\n",
      "\tLog probability: -0.6070 (avg -0.6147)\n",
      "\tKL: 7.6309 (avg 8.7451)\n",
      "\tLoss: 76.9157 (avg 88.0653)\n",
      "Epoch: 8 (20/38)\n",
      "\tData load time: 0.145 sec\n",
      "\tGeneration time: 0.164 sec\n",
      "\tBackprop time: 0.183 sec\n",
      "\tLog probability: -0.6196 (avg -0.6151)\n",
      "\tKL: 11.5597 (avg 10.0237)\n",
      "\tLoss: 116.2167 (avg 100.8525)\n"
     ]
    },
    {
     "name": "stderr",
     "output_type": "stream",
     "text": [
      " 74%|███████▎  | 28/38 [00:01<00:00, 22.40it/s]"
     ]
    },
    {
     "name": "stdout",
     "output_type": "stream",
     "text": [
      "Epoch: 8 (25/38)\n",
      "\tData load time: 0.145 sec\n",
      "\tGeneration time: 0.164 sec\n",
      "\tBackprop time: 0.183 sec\n",
      "\tLog probability: -0.6222 (avg -0.6141)\n",
      "\tKL: 27.1189 (avg 10.4470)\n",
      "\tLoss: 271.8109 (avg 105.0840)\n",
      "Epoch: 8 (30/38)\n",
      "\tData load time: 0.145 sec\n",
      "\tGeneration time: 0.164 sec\n",
      "\tBackprop time: 0.183 sec\n",
      "\tLog probability: -0.5935 (avg -0.6132)\n",
      "\tKL: 6.8204 (avg 9.8361)\n",
      "\tLoss: 68.7970 (avg 98.9746)\n"
     ]
    },
    {
     "name": "stderr",
     "output_type": "stream",
     "text": [
      "100%|██████████| 38/38 [00:01<00:00, 23.04it/s]\n",
      "  0%|          | 0/10 [00:00<?, ?it/s]"
     ]
    },
    {
     "name": "stdout",
     "output_type": "stream",
     "text": [
      "Epoch: 8 (35/38)\n",
      "\tData load time: 0.145 sec\n",
      "\tGeneration time: 0.164 sec\n",
      "\tBackprop time: 0.183 sec\n",
      "\tLog probability: -0.6062 (avg -0.6128)\n",
      "\tKL: 6.1020 (avg 10.7765)\n",
      "\tLoss: 61.6263 (avg 108.3782)\n"
     ]
    },
    {
     "name": "stderr",
     "output_type": "stream",
     "text": [
      "100%|██████████| 10/10 [00:00<00:00, 27.92it/s]\n"
     ]
    },
    {
     "name": "stdout",
     "output_type": "stream",
     "text": [
      "Epoch: 8 (5/10)\n",
      "\tData load time: 0.157 sec\n",
      "\tGeneration time: 0.174 sec\n",
      "\tLog probability: -0.6520 (avg -0.6457)\n",
      "\tKL: 5.6468 (avg 6.7847)\n",
      "\tLoss: 57.1197 (avg 68.4923)\n",
      "Epoch: 8 (10/10)\n",
      "\tData load time: 0.157 sec\n",
      "\tGeneration time: 0.174 sec\n",
      "\tLog probability: -0.6524 (avg -0.6431)\n",
      "\tKL: 7.8700 (avg 6.4505)\n",
      "\tLoss: 79.3523 (avg 65.1478)\n",
      "Saving checkpoint..\n"
     ]
    },
    {
     "name": "stderr",
     "output_type": "stream",
     "text": [
      "  0%|          | 0/38 [00:00<?, ?it/s]"
     ]
    },
    {
     "name": "stdout",
     "output_type": "stream",
     "text": [
      "Lowest validation loss: 65.1478\n"
     ]
    },
    {
     "name": "stderr",
     "output_type": "stream",
     "text": [
      " 26%|██▋       | 10/38 [00:00<00:02, 11.31it/s]"
     ]
    },
    {
     "name": "stdout",
     "output_type": "stream",
     "text": [
      "Epoch: 9 (5/38)\n",
      "\tData load time: 0.151 sec\n",
      "\tGeneration time: 0.170 sec\n",
      "\tBackprop time: 0.184 sec\n",
      "\tLog probability: -0.6055 (avg -0.6025)\n",
      "\tKL: 9.7118 (avg 11.5181)\n",
      "\tLoss: 97.7234 (avg 115.7835)\n",
      "Epoch: 9 (10/38)\n",
      "\tData load time: 0.151 sec\n",
      "\tGeneration time: 0.170 sec\n",
      "\tBackprop time: 0.184 sec\n",
      "\tLog probability: -0.5887 (avg -0.6043)\n",
      "\tKL: 8.0733 (avg 9.2922)\n",
      "\tLoss: 81.3219 (avg 93.5268)\n"
     ]
    },
    {
     "name": "stderr",
     "output_type": "stream",
     "text": [
      " 50%|█████     | 19/38 [00:00<00:01, 17.96it/s]"
     ]
    },
    {
     "name": "stdout",
     "output_type": "stream",
     "text": [
      "Epoch: 9 (15/38)\n",
      "\tData load time: 0.151 sec\n",
      "\tGeneration time: 0.170 sec\n",
      "\tBackprop time: 0.184 sec\n",
      "\tLog probability: -0.5894 (avg -0.6018)\n",
      "\tKL: 7.4155 (avg 11.8949)\n",
      "\tLoss: 74.7443 (avg 119.5504)\n",
      "Epoch: 9 (20/38)\n",
      "\tData load time: 0.151 sec\n",
      "\tGeneration time: 0.170 sec\n",
      "\tBackprop time: 0.184 sec\n",
      "\tLog probability: -0.6051 (avg -0.6035)\n",
      "\tKL: 6.9136 (avg 12.1848)\n",
      "\tLoss: 69.7409 (avg 122.4519)\n"
     ]
    },
    {
     "name": "stderr",
     "output_type": "stream",
     "text": [
      " 74%|███████▎  | 28/38 [00:01<00:00, 22.49it/s]"
     ]
    },
    {
     "name": "stdout",
     "output_type": "stream",
     "text": [
      "Epoch: 9 (25/38)\n",
      "\tData load time: 0.151 sec\n",
      "\tGeneration time: 0.170 sec\n",
      "\tBackprop time: 0.184 sec\n",
      "\tLog probability: -0.6008 (avg -0.6024)\n",
      "\tKL: 9.9452 (avg 11.2090)\n",
      "\tLoss: 100.0523 (avg 112.6923)\n",
      "Epoch: 9 (30/38)\n",
      "\tData load time: 0.151 sec\n",
      "\tGeneration time: 0.170 sec\n",
      "\tBackprop time: 0.184 sec\n",
      "\tLog probability: -0.6001 (avg -0.6017)\n",
      "\tKL: 6.4443 (avg 10.4646)\n",
      "\tLoss: 65.0436 (avg 105.2476)\n"
     ]
    },
    {
     "name": "stderr",
     "output_type": "stream",
     "text": [
      "100%|██████████| 38/38 [00:01<00:00, 23.09it/s]\n",
      "  0%|          | 0/10 [00:00<?, ?it/s]"
     ]
    },
    {
     "name": "stdout",
     "output_type": "stream",
     "text": [
      "Epoch: 9 (35/38)\n",
      "\tData load time: 0.151 sec\n",
      "\tGeneration time: 0.170 sec\n",
      "\tBackprop time: 0.184 sec\n",
      "\tLog probability: -0.6016 (avg -0.6010)\n",
      "\tKL: 4.6588 (avg 9.8806)\n",
      "\tLoss: 47.1892 (avg 99.4071)\n"
     ]
    },
    {
     "name": "stderr",
     "output_type": "stream",
     "text": [
      "100%|██████████| 10/10 [00:00<00:00, 28.79it/s]\n",
      "  0%|          | 0/38 [00:00<?, ?it/s]"
     ]
    },
    {
     "name": "stdout",
     "output_type": "stream",
     "text": [
      "Epoch: 9 (5/10)\n",
      "\tData load time: 0.144 sec\n",
      "\tGeneration time: 0.163 sec\n",
      "\tLog probability: -0.6235 (avg -0.6271)\n",
      "\tKL: 3.8632 (avg 5.2057)\n",
      "\tLoss: 39.2550 (avg 52.6840)\n",
      "Epoch: 9 (10/10)\n",
      "\tData load time: 0.144 sec\n",
      "\tGeneration time: 0.163 sec\n",
      "\tLog probability: -0.6235 (avg -0.6249)\n",
      "\tKL: 5.8674 (avg 6.6908)\n",
      "\tLoss: 59.2980 (avg 67.5332)\n",
      "Lowest validation loss: 65.1478\n"
     ]
    },
    {
     "name": "stderr",
     "output_type": "stream",
     "text": [
      " 26%|██▋       | 10/38 [00:00<00:02, 11.20it/s]"
     ]
    },
    {
     "name": "stdout",
     "output_type": "stream",
     "text": [
      "Epoch: 10 (5/38)\n",
      "\tData load time: 0.153 sec\n",
      "\tGeneration time: 0.172 sec\n",
      "\tBackprop time: 0.187 sec\n",
      "\tLog probability: -0.5843 (avg -0.5866)\n",
      "\tKL: 10.8030 (avg 13.6394)\n",
      "\tLoss: 108.6147 (avg 136.9804)\n",
      "Epoch: 10 (10/38)\n",
      "\tData load time: 0.153 sec\n",
      "\tGeneration time: 0.172 sec\n",
      "\tBackprop time: 0.187 sec\n",
      "\tLog probability: -0.5780 (avg -0.5860)\n",
      "\tKL: 8.3898 (avg 10.6365)\n",
      "\tLoss: 84.4756 (avg 106.9513)\n"
     ]
    },
    {
     "name": "stderr",
     "output_type": "stream",
     "text": [
      " 50%|█████     | 19/38 [00:00<00:01, 17.80it/s]"
     ]
    },
    {
     "name": "stdout",
     "output_type": "stream",
     "text": [
      "Epoch: 10 (15/38)\n",
      "\tData load time: 0.153 sec\n",
      "\tGeneration time: 0.172 sec\n",
      "\tBackprop time: 0.187 sec\n",
      "\tLog probability: -0.5866 (avg -0.5851)\n",
      "\tKL: 5.9307 (avg 9.0008)\n",
      "\tLoss: 59.8935 (avg 90.5933)\n",
      "Epoch: 10 (20/38)\n",
      "\tData load time: 0.153 sec\n",
      "\tGeneration time: 0.172 sec\n",
      "\tBackprop time: 0.187 sec\n",
      "\tLog probability: -0.6058 (avg -0.5866)\n",
      "\tKL: 4.8122 (avg 8.4014)\n",
      "\tLoss: 48.7281 (avg 84.6011)\n"
     ]
    },
    {
     "name": "stderr",
     "output_type": "stream",
     "text": [
      " 74%|███████▎  | 28/38 [00:01<00:00, 22.25it/s]"
     ]
    },
    {
     "name": "stdout",
     "output_type": "stream",
     "text": [
      "Epoch: 10 (25/38)\n",
      "\tData load time: 0.153 sec\n",
      "\tGeneration time: 0.172 sec\n",
      "\tBackprop time: 0.187 sec\n",
      "\tLog probability: -0.5873 (avg -0.5883)\n",
      "\tKL: 15.4008 (avg 8.3272)\n",
      "\tLoss: 154.5953 (avg 83.8601)\n",
      "Epoch: 10 (30/38)\n",
      "\tData load time: 0.153 sec\n",
      "\tGeneration time: 0.172 sec\n",
      "\tBackprop time: 0.187 sec\n",
      "\tLog probability: -0.5911 (avg -0.5896)\n",
      "\tKL: 8.1856 (avg 8.7206)\n",
      "\tLoss: 82.4467 (avg 87.7953)\n"
     ]
    },
    {
     "name": "stderr",
     "output_type": "stream",
     "text": [
      "100%|██████████| 38/38 [00:01<00:00, 22.96it/s]\n",
      "  0%|          | 0/10 [00:00<?, ?it/s]"
     ]
    },
    {
     "name": "stdout",
     "output_type": "stream",
     "text": [
      "Epoch: 10 (35/38)\n",
      "\tData load time: 0.153 sec\n",
      "\tGeneration time: 0.172 sec\n",
      "\tBackprop time: 0.187 sec\n",
      "\tLog probability: -0.5974 (avg -0.5891)\n",
      "\tKL: 5.3092 (avg 8.2886)\n",
      "\tLoss: 53.6896 (avg 83.4750)\n"
     ]
    },
    {
     "name": "stderr",
     "output_type": "stream",
     "text": [
      "100%|██████████| 10/10 [00:00<00:00, 27.87it/s]\n"
     ]
    },
    {
     "name": "stdout",
     "output_type": "stream",
     "text": [
      "Epoch: 10 (5/10)\n",
      "\tData load time: 0.162 sec\n",
      "\tGeneration time: 0.179 sec\n",
      "\tLog probability: -0.6053 (avg -0.5926)\n",
      "\tKL: 6.2039 (avg 6.4471)\n",
      "\tLoss: 62.6443 (avg 65.0637)\n",
      "Epoch: 10 (10/10)\n",
      "\tData load time: 0.162 sec\n",
      "\tGeneration time: 0.179 sec\n",
      "\tLog probability: -0.6090 (avg -0.5945)\n",
      "\tKL: 4.4906 (avg 5.7904)\n",
      "\tLoss: 45.5149 (avg 58.4980)\n",
      "Saving checkpoint..\n"
     ]
    },
    {
     "name": "stderr",
     "output_type": "stream",
     "text": [
      "  0%|          | 0/38 [00:00<?, ?it/s]"
     ]
    },
    {
     "name": "stdout",
     "output_type": "stream",
     "text": [
      "Lowest validation loss: 58.4980\n"
     ]
    },
    {
     "name": "stderr",
     "output_type": "stream",
     "text": [
      " 26%|██▋       | 10/38 [00:00<00:02, 10.89it/s]"
     ]
    },
    {
     "name": "stdout",
     "output_type": "stream",
     "text": [
      "Epoch: 11 (5/38)\n",
      "\tData load time: 0.162 sec\n",
      "\tGeneration time: 0.180 sec\n",
      "\tBackprop time: 0.194 sec\n",
      "\tLog probability: -0.5925 (avg -0.5815)\n",
      "\tKL: 8.1247 (avg 5.9784)\n",
      "\tLoss: 81.8391 (avg 60.3658)\n",
      "Epoch: 11 (10/38)\n",
      "\tData load time: 0.162 sec\n",
      "\tGeneration time: 0.180 sec\n",
      "\tBackprop time: 0.194 sec\n",
      "\tLog probability: -0.6127 (avg -0.5856)\n",
      "\tKL: 13.0643 (avg 10.3148)\n",
      "\tLoss: 131.2556 (avg 103.7335)\n"
     ]
    },
    {
     "name": "stderr",
     "output_type": "stream",
     "text": [
      " 50%|█████     | 19/38 [00:00<00:01, 17.47it/s]"
     ]
    },
    {
     "name": "stdout",
     "output_type": "stream",
     "text": [
      "Epoch: 11 (15/38)\n",
      "\tData load time: 0.162 sec\n",
      "\tGeneration time: 0.180 sec\n",
      "\tBackprop time: 0.194 sec\n",
      "\tLog probability: -0.5943 (avg -0.5881)\n",
      "\tKL: 3.6556 (avg 8.9748)\n",
      "\tLoss: 37.1508 (avg 90.3360)\n",
      "Epoch: 11 (20/38)\n",
      "\tData load time: 0.162 sec\n",
      "\tGeneration time: 0.180 sec\n",
      "\tBackprop time: 0.194 sec\n",
      "\tLog probability: -0.5983 (avg -0.5865)\n",
      "\tKL: 7.3186 (avg 8.4606)\n",
      "\tLoss: 73.7844 (avg 85.1929)\n"
     ]
    },
    {
     "name": "stderr",
     "output_type": "stream",
     "text": [
      " 74%|███████▎  | 28/38 [00:01<00:00, 22.00it/s]"
     ]
    },
    {
     "name": "stdout",
     "output_type": "stream",
     "text": [
      "Epoch: 11 (25/38)\n",
      "\tData load time: 0.162 sec\n",
      "\tGeneration time: 0.180 sec\n",
      "\tBackprop time: 0.194 sec\n",
      "\tLog probability: -0.5843 (avg -0.5843)\n",
      "\tKL: 8.5820 (avg 8.1369)\n",
      "\tLoss: 86.4048 (avg 81.9531)\n",
      "Epoch: 11 (30/38)\n",
      "\tData load time: 0.162 sec\n",
      "\tGeneration time: 0.180 sec\n",
      "\tBackprop time: 0.194 sec\n",
      "\tLog probability: -0.5789 (avg -0.5844)\n",
      "\tKL: 7.4546 (avg 8.4111)\n",
      "\tLoss: 75.1246 (avg 84.6953)\n"
     ]
    },
    {
     "name": "stderr",
     "output_type": "stream",
     "text": [
      "100%|██████████| 38/38 [00:01<00:00, 22.69it/s]\n",
      "  0%|          | 0/10 [00:00<?, ?it/s]"
     ]
    },
    {
     "name": "stdout",
     "output_type": "stream",
     "text": [
      "Epoch: 11 (35/38)\n",
      "\tData load time: 0.162 sec\n",
      "\tGeneration time: 0.180 sec\n",
      "\tBackprop time: 0.194 sec\n",
      "\tLog probability: -0.5677 (avg -0.5824)\n",
      "\tKL: 4.6614 (avg 8.0604)\n",
      "\tLoss: 47.1816 (avg 81.1865)\n"
     ]
    },
    {
     "name": "stderr",
     "output_type": "stream",
     "text": [
      "100%|██████████| 10/10 [00:00<00:00, 28.87it/s]\n",
      "  0%|          | 0/38 [00:00<?, ?it/s]"
     ]
    },
    {
     "name": "stdout",
     "output_type": "stream",
     "text": [
      "Epoch: 11 (5/10)\n",
      "\tData load time: 0.147 sec\n",
      "\tGeneration time: 0.165 sec\n",
      "\tLog probability: -0.6322 (avg -0.6191)\n",
      "\tKL: 7.5650 (avg 5.3214)\n",
      "\tLoss: 76.2824 (avg 53.8327)\n",
      "Epoch: 11 (10/10)\n",
      "\tData load time: 0.147 sec\n",
      "\tGeneration time: 0.165 sec\n",
      "\tLog probability: -0.6136 (avg -0.6160)\n",
      "\tKL: 3.3616 (avg 5.9356)\n",
      "\tLoss: 34.2301 (avg 59.9718)\n",
      "Lowest validation loss: 58.4980\n"
     ]
    },
    {
     "name": "stderr",
     "output_type": "stream",
     "text": [
      " 26%|██▋       | 10/38 [00:00<00:02, 11.17it/s]"
     ]
    },
    {
     "name": "stdout",
     "output_type": "stream",
     "text": [
      "Epoch: 12 (5/38)\n",
      "\tData load time: 0.156 sec\n",
      "\tGeneration time: 0.174 sec\n",
      "\tBackprop time: 0.188 sec\n",
      "\tLog probability: -0.5930 (avg -0.5786)\n",
      "\tKL: 3.6863 (avg 4.9090)\n",
      "\tLoss: 37.4565 (avg 49.6682)\n",
      "Epoch: 12 (10/38)\n",
      "\tData load time: 0.156 sec\n",
      "\tGeneration time: 0.174 sec\n",
      "\tBackprop time: 0.188 sec\n",
      "\tLog probability: -0.5923 (avg -0.5809)\n",
      "\tKL: 5.4982 (avg 5.6726)\n",
      "\tLoss: 55.5740 (avg 57.3065)\n"
     ]
    },
    {
     "name": "stderr",
     "output_type": "stream",
     "text": [
      " 50%|█████     | 19/38 [00:00<00:01, 17.75it/s]"
     ]
    },
    {
     "name": "stdout",
     "output_type": "stream",
     "text": [
      "Epoch: 12 (15/38)\n",
      "\tData load time: 0.156 sec\n",
      "\tGeneration time: 0.174 sec\n",
      "\tBackprop time: 0.188 sec\n",
      "\tLog probability: -0.5745 (avg -0.5776)\n",
      "\tKL: 3.4262 (avg 10.1247)\n",
      "\tLoss: 34.8365 (avg 101.8245)\n",
      "Epoch: 12 (20/38)\n",
      "\tData load time: 0.156 sec\n",
      "\tGeneration time: 0.174 sec\n",
      "\tBackprop time: 0.188 sec\n",
      "\tLog probability: -0.5645 (avg -0.5746)\n",
      "\tKL: 19.4244 (avg 9.7728)\n",
      "\tLoss: 194.8088 (avg 98.3031)\n"
     ]
    },
    {
     "name": "stderr",
     "output_type": "stream",
     "text": [
      " 74%|███████▎  | 28/38 [00:01<00:00, 22.18it/s]"
     ]
    },
    {
     "name": "stdout",
     "output_type": "stream",
     "text": [
      "Epoch: 12 (25/38)\n",
      "\tData load time: 0.156 sec\n",
      "\tGeneration time: 0.174 sec\n",
      "\tBackprop time: 0.188 sec\n",
      "\tLog probability: -0.5535 (avg -0.5725)\n",
      "\tKL: 6.1246 (avg 8.9638)\n",
      "\tLoss: 61.7999 (avg 90.2106)\n",
      "Epoch: 12 (30/38)\n",
      "\tData load time: 0.156 sec\n",
      "\tGeneration time: 0.174 sec\n",
      "\tBackprop time: 0.188 sec\n",
      "\tLog probability: -0.5741 (avg -0.5709)\n",
      "\tKL: 3.8114 (avg 8.8612)\n",
      "\tLoss: 38.6876 (avg 89.1830)\n"
     ]
    },
    {
     "name": "stderr",
     "output_type": "stream",
     "text": [
      "100%|██████████| 38/38 [00:01<00:00, 22.87it/s]\n",
      "  0%|          | 0/10 [00:00<?, ?it/s]"
     ]
    },
    {
     "name": "stdout",
     "output_type": "stream",
     "text": [
      "Epoch: 12 (35/38)\n",
      "\tData load time: 0.156 sec\n",
      "\tGeneration time: 0.174 sec\n",
      "\tBackprop time: 0.188 sec\n",
      "\tLog probability: -0.5634 (avg -0.5710)\n",
      "\tKL: 6.1141 (avg 8.6432)\n",
      "\tLoss: 61.7040 (avg 87.0034)\n"
     ]
    },
    {
     "name": "stderr",
     "output_type": "stream",
     "text": [
      "100%|██████████| 10/10 [00:00<00:00, 27.64it/s]\n"
     ]
    },
    {
     "name": "stdout",
     "output_type": "stream",
     "text": [
      "Epoch: 12 (5/10)\n",
      "\tData load time: 0.161 sec\n",
      "\tGeneration time: 0.179 sec\n",
      "\tLog probability: -0.6120 (avg -0.6000)\n",
      "\tKL: 3.5172 (avg 3.9415)\n",
      "\tLoss: 35.7836 (avg 40.0155)\n",
      "Epoch: 12 (10/10)\n",
      "\tData load time: 0.161 sec\n",
      "\tGeneration time: 0.179 sec\n",
      "\tLog probability: -0.5794 (avg -0.6001)\n",
      "\tKL: 9.5513 (avg 4.6841)\n",
      "\tLoss: 96.0920 (avg 47.4413)\n",
      "Saving checkpoint..\n"
     ]
    },
    {
     "name": "stderr",
     "output_type": "stream",
     "text": [
      "  0%|          | 0/38 [00:00<?, ?it/s]"
     ]
    },
    {
     "name": "stdout",
     "output_type": "stream",
     "text": [
      "Lowest validation loss: 47.4413\n"
     ]
    },
    {
     "name": "stderr",
     "output_type": "stream",
     "text": [
      " 26%|██▋       | 10/38 [00:00<00:02, 10.73it/s]"
     ]
    },
    {
     "name": "stdout",
     "output_type": "stream",
     "text": [
      "Epoch: 13 (5/38)\n",
      "\tData load time: 0.166 sec\n",
      "\tGeneration time: 0.185 sec\n",
      "\tBackprop time: 0.198 sec\n",
      "\tLog probability: -0.5668 (avg -0.5625)\n",
      "\tKL: 6.1964 (avg 5.8018)\n",
      "\tLoss: 62.5305 (avg 58.5807)\n",
      "Epoch: 13 (10/38)\n",
      "\tData load time: 0.166 sec\n",
      "\tGeneration time: 0.185 sec\n",
      "\tBackprop time: 0.198 sec\n",
      "\tLog probability: -0.5542 (avg -0.5561)\n",
      "\tKL: 3.6638 (avg 10.9550)\n",
      "\tLoss: 37.1924 (avg 110.1060)\n"
     ]
    },
    {
     "name": "stderr",
     "output_type": "stream",
     "text": [
      " 50%|█████     | 19/38 [00:00<00:01, 17.41it/s]"
     ]
    },
    {
     "name": "stdout",
     "output_type": "stream",
     "text": [
      "Epoch: 13 (15/38)\n",
      "\tData load time: 0.166 sec\n",
      "\tGeneration time: 0.185 sec\n",
      "\tBackprop time: 0.198 sec\n",
      "\tLog probability: -0.5565 (avg -0.5590)\n",
      "\tKL: 4.2401 (avg 8.8736)\n",
      "\tLoss: 42.9573 (avg 89.2953)\n",
      "Epoch: 13 (20/38)\n",
      "\tData load time: 0.166 sec\n",
      "\tGeneration time: 0.185 sec\n",
      "\tBackprop time: 0.198 sec\n",
      "\tLog probability: -0.5456 (avg -0.5590)\n",
      "\tKL: 4.4124 (avg 8.3098)\n",
      "\tLoss: 44.6697 (avg 83.6574)\n"
     ]
    },
    {
     "name": "stderr",
     "output_type": "stream",
     "text": [
      " 74%|███████▎  | 28/38 [00:01<00:00, 21.98it/s]"
     ]
    },
    {
     "name": "stdout",
     "output_type": "stream",
     "text": [
      "Epoch: 13 (25/38)\n",
      "\tData load time: 0.166 sec\n",
      "\tGeneration time: 0.185 sec\n",
      "\tBackprop time: 0.198 sec\n",
      "\tLog probability: -0.5643 (avg -0.5584)\n",
      "\tKL: 5.7447 (avg 7.5422)\n",
      "\tLoss: 58.0117 (avg 75.9803)\n",
      "Epoch: 13 (30/38)\n",
      "\tData load time: 0.166 sec\n",
      "\tGeneration time: 0.185 sec\n",
      "\tBackprop time: 0.198 sec\n",
      "\tLog probability: -0.5711 (avg -0.5606)\n",
      "\tKL: 3.6151 (avg 7.3292)\n",
      "\tLoss: 36.7225 (avg 73.8530)\n"
     ]
    },
    {
     "name": "stderr",
     "output_type": "stream",
     "text": [
      "100%|██████████| 38/38 [00:01<00:00, 22.75it/s]\n",
      "  0%|          | 0/10 [00:00<?, ?it/s]"
     ]
    },
    {
     "name": "stdout",
     "output_type": "stream",
     "text": [
      "Epoch: 13 (35/38)\n",
      "\tData load time: 0.166 sec\n",
      "\tGeneration time: 0.185 sec\n",
      "\tBackprop time: 0.198 sec\n",
      "\tLog probability: -0.5688 (avg -0.5610)\n",
      "\tKL: 3.4045 (avg 6.9069)\n",
      "\tLoss: 34.6135 (avg 69.6296)\n"
     ]
    },
    {
     "name": "stderr",
     "output_type": "stream",
     "text": [
      "100%|██████████| 10/10 [00:00<00:00, 27.99it/s]\n"
     ]
    },
    {
     "name": "stdout",
     "output_type": "stream",
     "text": [
      "Epoch: 13 (5/10)\n",
      "\tData load time: 0.154 sec\n",
      "\tGeneration time: 0.172 sec\n",
      "\tLog probability: -0.5894 (avg -0.5774)\n",
      "\tKL: 4.3338 (avg 4.6052)\n",
      "\tLoss: 43.9272 (avg 46.6295)\n",
      "Epoch: 13 (10/10)\n",
      "\tData load time: 0.154 sec\n",
      "\tGeneration time: 0.172 sec\n",
      "\tLog probability: -0.5976 (avg -0.5804)\n",
      "\tKL: 2.3334 (avg 4.3827)\n",
      "\tLoss: 23.9319 (avg 44.4070)\n",
      "Saving checkpoint..\n"
     ]
    },
    {
     "name": "stderr",
     "output_type": "stream",
     "text": [
      "  0%|          | 0/38 [00:00<?, ?it/s]"
     ]
    },
    {
     "name": "stdout",
     "output_type": "stream",
     "text": [
      "Lowest validation loss: 44.4070\n"
     ]
    },
    {
     "name": "stderr",
     "output_type": "stream",
     "text": [
      " 26%|██▋       | 10/38 [00:00<00:02, 11.35it/s]"
     ]
    },
    {
     "name": "stdout",
     "output_type": "stream",
     "text": [
      "Epoch: 14 (5/38)\n",
      "\tData load time: 0.139 sec\n",
      "\tGeneration time: 0.169 sec\n",
      "\tBackprop time: 0.182 sec\n",
      "\tLog probability: -0.5549 (avg -0.5550)\n",
      "\tKL: 13.3005 (avg 6.2415)\n",
      "\tLoss: 133.5595 (avg 62.9701)\n",
      "Epoch: 14 (10/38)\n",
      "\tData load time: 0.139 sec\n",
      "\tGeneration time: 0.169 sec\n",
      "\tBackprop time: 0.182 sec\n",
      "\tLog probability: -0.5768 (avg -0.5563)\n",
      "\tKL: 6.7134 (avg 5.6023)\n",
      "\tLoss: 67.7110 (avg 56.5795)\n"
     ]
    },
    {
     "name": "stderr",
     "output_type": "stream",
     "text": [
      " 50%|█████     | 19/38 [00:00<00:01, 17.96it/s]"
     ]
    },
    {
     "name": "stdout",
     "output_type": "stream",
     "text": [
      "Epoch: 14 (15/38)\n",
      "\tData load time: 0.139 sec\n",
      "\tGeneration time: 0.169 sec\n",
      "\tBackprop time: 0.182 sec\n",
      "\tLog probability: -0.5479 (avg -0.5610)\n",
      "\tKL: 3.8475 (avg 5.2956)\n",
      "\tLoss: 39.0230 (avg 53.5171)\n",
      "Epoch: 14 (20/38)\n",
      "\tData load time: 0.139 sec\n",
      "\tGeneration time: 0.169 sec\n",
      "\tBackprop time: 0.182 sec\n",
      "\tLog probability: -0.5646 (avg -0.5629)\n",
      "\tKL: 5.5417 (avg 5.9326)\n",
      "\tLoss: 55.9819 (avg 59.8885)\n"
     ]
    },
    {
     "name": "stderr",
     "output_type": "stream",
     "text": [
      " 74%|███████▎  | 28/38 [00:01<00:00, 22.26it/s]"
     ]
    },
    {
     "name": "stdout",
     "output_type": "stream",
     "text": [
      "Epoch: 14 (25/38)\n",
      "\tData load time: 0.139 sec\n",
      "\tGeneration time: 0.169 sec\n",
      "\tBackprop time: 0.182 sec\n",
      "\tLog probability: -0.5405 (avg -0.5628)\n",
      "\tKL: 3.9310 (avg 5.7709)\n",
      "\tLoss: 39.8501 (avg 58.2720)\n",
      "Epoch: 14 (30/38)\n",
      "\tData load time: 0.139 sec\n",
      "\tGeneration time: 0.169 sec\n",
      "\tBackprop time: 0.182 sec\n",
      "\tLog probability: -0.5467 (avg -0.5605)\n",
      "\tKL: 3.4652 (avg 5.6344)\n",
      "\tLoss: 35.1991 (avg 56.9047)\n"
     ]
    },
    {
     "name": "stderr",
     "output_type": "stream",
     "text": [
      "100%|██████████| 38/38 [00:01<00:00, 22.88it/s]\n",
      "  0%|          | 0/10 [00:00<?, ?it/s]"
     ]
    },
    {
     "name": "stdout",
     "output_type": "stream",
     "text": [
      "Epoch: 14 (35/38)\n",
      "\tData load time: 0.139 sec\n",
      "\tGeneration time: 0.169 sec\n",
      "\tBackprop time: 0.182 sec\n",
      "\tLog probability: -0.5409 (avg -0.5588)\n",
      "\tKL: 4.5339 (avg 5.4882)\n",
      "\tLoss: 45.8804 (avg 55.4411)\n"
     ]
    },
    {
     "name": "stderr",
     "output_type": "stream",
     "text": [
      "100%|██████████| 10/10 [00:00<00:00, 27.95it/s]\n"
     ]
    },
    {
     "name": "stdout",
     "output_type": "stream",
     "text": [
      "Epoch: 14 (5/10)\n",
      "\tData load time: 0.159 sec\n",
      "\tGeneration time: 0.178 sec\n",
      "\tLog probability: -0.5760 (avg -0.5883)\n",
      "\tKL: 3.9482 (avg 3.6271)\n",
      "\tLoss: 40.0577 (avg 36.8590)\n",
      "Epoch: 14 (10/10)\n",
      "\tData load time: 0.159 sec\n",
      "\tGeneration time: 0.178 sec\n",
      "\tLog probability: -0.5564 (avg -0.5799)\n",
      "\tKL: 2.2893 (avg 3.5545)\n",
      "\tLoss: 23.4494 (avg 36.1251)\n",
      "Saving checkpoint..\n"
     ]
    },
    {
     "name": "stderr",
     "output_type": "stream",
     "text": [
      "  0%|          | 0/38 [00:00<?, ?it/s]"
     ]
    },
    {
     "name": "stdout",
     "output_type": "stream",
     "text": [
      "Lowest validation loss: 36.1251\n"
     ]
    },
    {
     "name": "stderr",
     "output_type": "stream",
     "text": [
      " 26%|██▋       | 10/38 [00:00<00:02, 11.32it/s]"
     ]
    },
    {
     "name": "stdout",
     "output_type": "stream",
     "text": [
      "Epoch: 15 (5/38)\n",
      "\tData load time: 0.152 sec\n",
      "\tGeneration time: 0.171 sec\n",
      "\tBackprop time: 0.184 sec\n",
      "\tLog probability: -0.6119 (avg -0.5611)\n",
      "\tKL: 5.7322 (avg 4.2784)\n",
      "\tLoss: 57.9339 (avg 43.3449)\n",
      "Epoch: 15 (10/38)\n",
      "\tData load time: 0.152 sec\n",
      "\tGeneration time: 0.171 sec\n",
      "\tBackprop time: 0.184 sec\n",
      "\tLog probability: -0.5357 (avg -0.5578)\n",
      "\tKL: 4.6697 (avg 4.4317)\n",
      "\tLoss: 47.2328 (avg 44.8744)\n"
     ]
    },
    {
     "name": "stderr",
     "output_type": "stream",
     "text": [
      " 50%|█████     | 19/38 [00:00<00:01, 17.92it/s]"
     ]
    },
    {
     "name": "stdout",
     "output_type": "stream",
     "text": [
      "Epoch: 15 (15/38)\n",
      "\tData load time: 0.152 sec\n",
      "\tGeneration time: 0.171 sec\n",
      "\tBackprop time: 0.184 sec\n",
      "\tLog probability: -0.5736 (avg -0.5575)\n",
      "\tKL: 6.9471 (avg 4.8096)\n",
      "\tLoss: 70.0444 (avg 48.6536)\n",
      "Epoch: 15 (20/38)\n",
      "\tData load time: 0.152 sec\n",
      "\tGeneration time: 0.171 sec\n",
      "\tBackprop time: 0.184 sec\n",
      "\tLog probability: -0.5424 (avg -0.5522)\n",
      "\tKL: 3.8376 (avg 4.7021)\n",
      "\tLoss: 38.9187 (avg 47.5733)\n"
     ]
    },
    {
     "name": "stderr",
     "output_type": "stream",
     "text": [
      " 74%|███████▎  | 28/38 [00:01<00:00, 22.26it/s]"
     ]
    },
    {
     "name": "stdout",
     "output_type": "stream",
     "text": [
      "Epoch: 15 (25/38)\n",
      "\tData load time: 0.152 sec\n",
      "\tGeneration time: 0.171 sec\n",
      "\tBackprop time: 0.184 sec\n",
      "\tLog probability: -0.5250 (avg -0.5532)\n",
      "\tKL: 3.0669 (avg 5.1393)\n",
      "\tLoss: 31.1940 (avg 51.9467)\n",
      "Epoch: 15 (30/38)\n",
      "\tData load time: 0.152 sec\n",
      "\tGeneration time: 0.171 sec\n",
      "\tBackprop time: 0.184 sec\n",
      "\tLog probability: -0.5636 (avg -0.5530)\n",
      "\tKL: 3.2579 (avg 5.8476)\n",
      "\tLoss: 33.1423 (avg 59.0288)\n"
     ]
    },
    {
     "name": "stderr",
     "output_type": "stream",
     "text": [
      "100%|██████████| 38/38 [00:01<00:00, 22.94it/s]\n",
      "  0%|          | 0/10 [00:00<?, ?it/s]"
     ]
    },
    {
     "name": "stdout",
     "output_type": "stream",
     "text": [
      "Epoch: 15 (35/38)\n",
      "\tData load time: 0.152 sec\n",
      "\tGeneration time: 0.171 sec\n",
      "\tBackprop time: 0.184 sec\n",
      "\tLog probability: -0.5434 (avg -0.5533)\n",
      "\tKL: 5.7661 (avg 6.1324)\n",
      "\tLoss: 58.2042 (avg 61.8768)\n"
     ]
    },
    {
     "name": "stderr",
     "output_type": "stream",
     "text": [
      "100%|██████████| 10/10 [00:00<00:00, 29.25it/s]\n",
      "  0%|          | 0/38 [00:00<?, ?it/s]"
     ]
    },
    {
     "name": "stdout",
     "output_type": "stream",
     "text": [
      "Epoch: 15 (5/10)\n",
      "\tData load time: 0.135 sec\n",
      "\tGeneration time: 0.153 sec\n",
      "\tLog probability: -0.5647 (avg -0.5604)\n",
      "\tKL: 5.1531 (avg 3.8159)\n",
      "\tLoss: 52.0956 (avg 38.7191)\n",
      "Epoch: 15 (10/10)\n",
      "\tData load time: 0.135 sec\n",
      "\tGeneration time: 0.153 sec\n",
      "\tLog probability: -0.5775 (avg -0.5675)\n",
      "\tKL: 3.2507 (avg 3.9852)\n",
      "\tLoss: 33.0846 (avg 40.4197)\n",
      "Lowest validation loss: 36.1251\n"
     ]
    },
    {
     "name": "stderr",
     "output_type": "stream",
     "text": [
      " 26%|██▋       | 10/38 [00:00<00:02, 11.05it/s]"
     ]
    },
    {
     "name": "stdout",
     "output_type": "stream",
     "text": [
      "Epoch: 16 (5/38)\n",
      "\tData load time: 0.160 sec\n",
      "\tGeneration time: 0.177 sec\n",
      "\tBackprop time: 0.190 sec\n",
      "\tLog probability: -0.5501 (avg -0.5529)\n",
      "\tKL: 3.7465 (avg 5.1230)\n",
      "\tLoss: 38.0150 (avg 51.7825)\n",
      "Epoch: 16 (10/38)\n",
      "\tData load time: 0.160 sec\n",
      "\tGeneration time: 0.177 sec\n",
      "\tBackprop time: 0.190 sec\n",
      "\tLog probability: -0.5386 (avg -0.5477)\n",
      "\tKL: 7.0796 (avg 4.9535)\n",
      "\tLoss: 71.3347 (avg 50.0825)\n"
     ]
    },
    {
     "name": "stderr",
     "output_type": "stream",
     "text": [
      " 50%|█████     | 19/38 [00:00<00:01, 17.65it/s]"
     ]
    },
    {
     "name": "stdout",
     "output_type": "stream",
     "text": [
      "Epoch: 16 (15/38)\n",
      "\tData load time: 0.160 sec\n",
      "\tGeneration time: 0.177 sec\n",
      "\tBackprop time: 0.190 sec\n",
      "\tLog probability: -0.5232 (avg -0.5496)\n",
      "\tKL: 3.6822 (avg 5.3703)\n",
      "\tLoss: 37.3456 (avg 54.2529)\n",
      "Epoch: 16 (20/38)\n",
      "\tData load time: 0.160 sec\n",
      "\tGeneration time: 0.177 sec\n",
      "\tBackprop time: 0.190 sec\n",
      "\tLog probability: -0.5416 (avg -0.5502)\n",
      "\tKL: 4.7897 (avg 5.3146)\n",
      "\tLoss: 48.4391 (avg 53.6966)\n"
     ]
    },
    {
     "name": "stderr",
     "output_type": "stream",
     "text": [
      " 74%|███████▎  | 28/38 [00:01<00:00, 22.13it/s]"
     ]
    },
    {
     "name": "stdout",
     "output_type": "stream",
     "text": [
      "Epoch: 16 (25/38)\n",
      "\tData load time: 0.160 sec\n",
      "\tGeneration time: 0.177 sec\n",
      "\tBackprop time: 0.190 sec\n",
      "\tLog probability: -0.5375 (avg -0.5481)\n",
      "\tKL: 3.4515 (avg 5.5861)\n",
      "\tLoss: 35.0528 (avg 56.4096)\n",
      "Epoch: 16 (30/38)\n",
      "\tData load time: 0.160 sec\n",
      "\tGeneration time: 0.177 sec\n",
      "\tBackprop time: 0.190 sec\n",
      "\tLog probability: -0.5379 (avg -0.5487)\n",
      "\tKL: 3.5750 (avg 5.2596)\n",
      "\tLoss: 36.2881 (avg 53.1444)\n"
     ]
    },
    {
     "name": "stderr",
     "output_type": "stream",
     "text": [
      "100%|██████████| 38/38 [00:01<00:00, 22.86it/s]\n",
      "  0%|          | 0/10 [00:00<?, ?it/s]"
     ]
    },
    {
     "name": "stdout",
     "output_type": "stream",
     "text": [
      "Epoch: 16 (35/38)\n",
      "\tData load time: 0.160 sec\n",
      "\tGeneration time: 0.177 sec\n",
      "\tBackprop time: 0.190 sec\n",
      "\tLog probability: -0.5169 (avg -0.5483)\n",
      "\tKL: 4.5501 (avg 5.1104)\n",
      "\tLoss: 46.0181 (avg 51.6526)\n"
     ]
    },
    {
     "name": "stderr",
     "output_type": "stream",
     "text": [
      "100%|██████████| 10/10 [00:00<00:00, 28.71it/s]\n",
      "  0%|          | 0/38 [00:00<?, ?it/s]"
     ]
    },
    {
     "name": "stdout",
     "output_type": "stream",
     "text": [
      "Epoch: 16 (5/10)\n",
      "\tData load time: 0.148 sec\n",
      "\tGeneration time: 0.166 sec\n",
      "\tLog probability: -0.5753 (avg -0.5650)\n",
      "\tKL: 6.6357 (avg 3.8377)\n",
      "\tLoss: 66.9322 (avg 38.9418)\n",
      "Epoch: 16 (10/10)\n",
      "\tData load time: 0.148 sec\n",
      "\tGeneration time: 0.166 sec\n",
      "\tLog probability: -0.5879 (avg -0.5616)\n",
      "\tKL: 6.3080 (avg 3.8387)\n",
      "\tLoss: 63.6678 (avg 38.9481)\n",
      "Lowest validation loss: 36.1251\n"
     ]
    },
    {
     "name": "stderr",
     "output_type": "stream",
     "text": [
      " 26%|██▋       | 10/38 [00:00<00:02, 11.12it/s]"
     ]
    },
    {
     "name": "stdout",
     "output_type": "stream",
     "text": [
      "Epoch: 17 (5/38)\n",
      "\tData load time: 0.157 sec\n",
      "\tGeneration time: 0.175 sec\n",
      "\tBackprop time: 0.188 sec\n",
      "\tLog probability: -0.5484 (avg -0.5327)\n",
      "\tKL: 3.6552 (avg 4.2110)\n",
      "\tLoss: 37.1000 (avg 42.6424)\n",
      "Epoch: 17 (10/38)\n",
      "\tData load time: 0.157 sec\n",
      "\tGeneration time: 0.175 sec\n",
      "\tBackprop time: 0.188 sec\n",
      "\tLog probability: -0.5406 (avg -0.5355)\n",
      "\tKL: 4.7936 (avg 5.1189)\n",
      "\tLoss: 48.4764 (avg 51.7249)\n"
     ]
    },
    {
     "name": "stderr",
     "output_type": "stream",
     "text": [
      " 50%|█████     | 19/38 [00:00<00:01, 17.67it/s]"
     ]
    },
    {
     "name": "stdout",
     "output_type": "stream",
     "text": [
      "Epoch: 17 (15/38)\n",
      "\tData load time: 0.157 sec\n",
      "\tGeneration time: 0.175 sec\n",
      "\tBackprop time: 0.188 sec\n",
      "\tLog probability: -0.5445 (avg -0.5379)\n",
      "\tKL: 4.3632 (avg 4.9768)\n",
      "\tLoss: 44.1760 (avg 50.3054)\n",
      "Epoch: 17 (20/38)\n",
      "\tData load time: 0.157 sec\n",
      "\tGeneration time: 0.175 sec\n",
      "\tBackprop time: 0.188 sec\n",
      "\tLog probability: -0.5472 (avg -0.5388)\n",
      "\tKL: 3.6746 (avg 4.8767)\n",
      "\tLoss: 37.2928 (avg 49.3058)\n"
     ]
    },
    {
     "name": "stderr",
     "output_type": "stream",
     "text": [
      " 74%|███████▎  | 28/38 [00:01<00:00, 22.23it/s]"
     ]
    },
    {
     "name": "stdout",
     "output_type": "stream",
     "text": [
      "Epoch: 17 (25/38)\n",
      "\tData load time: 0.157 sec\n",
      "\tGeneration time: 0.175 sec\n",
      "\tBackprop time: 0.188 sec\n",
      "\tLog probability: -0.5826 (avg -0.5416)\n",
      "\tKL: 3.8900 (avg 4.8688)\n",
      "\tLoss: 39.4829 (avg 49.2294)\n",
      "Epoch: 17 (30/38)\n",
      "\tData load time: 0.157 sec\n",
      "\tGeneration time: 0.175 sec\n",
      "\tBackprop time: 0.188 sec\n",
      "\tLog probability: -0.5580 (avg -0.5439)\n",
      "\tKL: 3.6144 (avg 4.8080)\n",
      "\tLoss: 36.7020 (avg 48.6235)\n"
     ]
    },
    {
     "name": "stderr",
     "output_type": "stream",
     "text": [
      "100%|██████████| 38/38 [00:01<00:00, 22.83it/s]\n",
      "  0%|          | 0/10 [00:00<?, ?it/s]"
     ]
    },
    {
     "name": "stdout",
     "output_type": "stream",
     "text": [
      "Epoch: 17 (35/38)\n",
      "\tData load time: 0.157 sec\n",
      "\tGeneration time: 0.175 sec\n",
      "\tBackprop time: 0.188 sec\n",
      "\tLog probability: -0.5409 (avg -0.5440)\n",
      "\tKL: 3.4321 (avg 4.7018)\n",
      "\tLoss: 34.8620 (avg 47.5618)\n"
     ]
    },
    {
     "name": "stderr",
     "output_type": "stream",
     "text": [
      "100%|██████████| 10/10 [00:00<00:00, 28.36it/s]\n"
     ]
    },
    {
     "name": "stdout",
     "output_type": "stream",
     "text": [
      "Epoch: 17 (5/10)\n",
      "\tData load time: 0.153 sec\n",
      "\tGeneration time: 0.171 sec\n",
      "\tLog probability: -0.5560 (avg -0.5849)\n",
      "\tKL: 3.9431 (avg 3.2432)\n",
      "\tLoss: 39.9865 (avg 33.0164)\n",
      "Epoch: 17 (10/10)\n",
      "\tData load time: 0.153 sec\n",
      "\tGeneration time: 0.171 sec\n",
      "\tLog probability: -0.5620 (avg -0.5859)\n",
      "\tKL: 4.5329 (avg 3.2452)\n",
      "\tLoss: 45.8910 (avg 33.0375)\n",
      "Saving checkpoint..\n"
     ]
    },
    {
     "name": "stderr",
     "output_type": "stream",
     "text": [
      "  0%|          | 0/38 [00:00<?, ?it/s]"
     ]
    },
    {
     "name": "stdout",
     "output_type": "stream",
     "text": [
      "Lowest validation loss: 33.0375\n"
     ]
    },
    {
     "name": "stderr",
     "output_type": "stream",
     "text": [
      " 26%|██▋       | 10/38 [00:00<00:02, 10.81it/s]"
     ]
    },
    {
     "name": "stdout",
     "output_type": "stream",
     "text": [
      "Epoch: 18 (5/38)\n",
      "\tData load time: 0.162 sec\n",
      "\tGeneration time: 0.181 sec\n",
      "\tBackprop time: 0.195 sec\n",
      "\tLog probability: -0.5043 (avg -0.5331)\n",
      "\tKL: 4.7874 (avg 3.6159)\n",
      "\tLoss: 48.3786 (avg 36.6920)\n",
      "Epoch: 18 (10/38)\n",
      "\tData load time: 0.162 sec\n",
      "\tGeneration time: 0.181 sec\n",
      "\tBackprop time: 0.195 sec\n",
      "\tLog probability: -0.5331 (avg -0.5343)\n",
      "\tKL: 6.1864 (avg 4.8979)\n",
      "\tLoss: 62.3969 (avg 49.5135)\n"
     ]
    },
    {
     "name": "stderr",
     "output_type": "stream",
     "text": [
      " 50%|█████     | 19/38 [00:00<00:01, 17.46it/s]"
     ]
    },
    {
     "name": "stdout",
     "output_type": "stream",
     "text": [
      "Epoch: 18 (15/38)\n",
      "\tData load time: 0.162 sec\n",
      "\tGeneration time: 0.181 sec\n",
      "\tBackprop time: 0.195 sec\n",
      "\tLog probability: -0.5245 (avg -0.5304)\n",
      "\tKL: 3.1317 (avg 4.4717)\n",
      "\tLoss: 31.8418 (avg 45.2470)\n",
      "Epoch: 18 (20/38)\n",
      "\tData load time: 0.162 sec\n",
      "\tGeneration time: 0.181 sec\n",
      "\tBackprop time: 0.195 sec\n",
      "\tLog probability: -0.5475 (avg -0.5319)\n",
      "\tKL: 2.7923 (avg 4.2980)\n",
      "\tLoss: 28.4702 (avg 43.5124)\n"
     ]
    },
    {
     "name": "stderr",
     "output_type": "stream",
     "text": [
      " 74%|███████▎  | 28/38 [00:01<00:00, 22.09it/s]"
     ]
    },
    {
     "name": "stdout",
     "output_type": "stream",
     "text": [
      "Epoch: 18 (25/38)\n",
      "\tData load time: 0.162 sec\n",
      "\tGeneration time: 0.181 sec\n",
      "\tBackprop time: 0.195 sec\n",
      "\tLog probability: -0.5521 (avg -0.5306)\n",
      "\tKL: 3.0994 (avg 4.1874)\n",
      "\tLoss: 31.5458 (avg 42.4050)\n",
      "Epoch: 18 (30/38)\n",
      "\tData load time: 0.162 sec\n",
      "\tGeneration time: 0.181 sec\n",
      "\tBackprop time: 0.195 sec\n",
      "\tLog probability: -0.5315 (avg -0.5300)\n",
      "\tKL: 3.3131 (avg 4.2581)\n",
      "\tLoss: 33.6623 (avg 43.1113)\n"
     ]
    },
    {
     "name": "stderr",
     "output_type": "stream",
     "text": [
      "100%|██████████| 38/38 [00:01<00:00, 22.76it/s]\n",
      "  0%|          | 0/10 [00:00<?, ?it/s]"
     ]
    },
    {
     "name": "stdout",
     "output_type": "stream",
     "text": [
      "Epoch: 18 (35/38)\n",
      "\tData load time: 0.162 sec\n",
      "\tGeneration time: 0.181 sec\n",
      "\tBackprop time: 0.195 sec\n",
      "\tLog probability: -0.5095 (avg -0.5319)\n",
      "\tKL: 3.4796 (avg 4.3924)\n",
      "\tLoss: 35.3052 (avg 44.4564)\n"
     ]
    },
    {
     "name": "stderr",
     "output_type": "stream",
     "text": [
      "100%|██████████| 10/10 [00:00<00:00, 26.62it/s]\n",
      "  0%|          | 0/38 [00:00<?, ?it/s]"
     ]
    },
    {
     "name": "stdout",
     "output_type": "stream",
     "text": [
      "Epoch: 18 (5/10)\n",
      "\tData load time: 0.167 sec\n",
      "\tGeneration time: 0.185 sec\n",
      "\tLog probability: -0.5500 (avg -0.5654)\n",
      "\tKL: 5.9427 (avg 3.7610)\n",
      "\tLoss: 59.9771 (avg 38.1759)\n",
      "Epoch: 18 (10/10)\n",
      "\tData load time: 0.167 sec\n",
      "\tGeneration time: 0.185 sec\n",
      "\tLog probability: -0.5774 (avg -0.5638)\n",
      "\tKL: 2.6409 (avg 3.9442)\n",
      "\tLoss: 26.9861 (avg 40.0061)\n",
      "Lowest validation loss: 33.0375\n"
     ]
    },
    {
     "name": "stderr",
     "output_type": "stream",
     "text": [
      " 26%|██▋       | 10/38 [00:00<00:02, 11.22it/s]"
     ]
    },
    {
     "name": "stdout",
     "output_type": "stream",
     "text": [
      "Epoch: 19 (5/38)\n",
      "\tData load time: 0.146 sec\n",
      "\tGeneration time: 0.167 sec\n",
      "\tBackprop time: 0.188 sec\n",
      "\tLog probability: -0.5078 (avg -0.5236)\n",
      "\tKL: 3.2484 (avg 3.8579)\n",
      "\tLoss: 32.9921 (avg 39.1029)\n",
      "Epoch: 19 (10/38)\n",
      "\tData load time: 0.146 sec\n",
      "\tGeneration time: 0.167 sec\n",
      "\tBackprop time: 0.188 sec\n",
      "\tLog probability: -0.5160 (avg -0.5268)\n",
      "\tKL: 8.0559 (avg 3.9770)\n",
      "\tLoss: 81.0750 (avg 40.2966)\n"
     ]
    },
    {
     "name": "stderr",
     "output_type": "stream",
     "text": [
      " 50%|█████     | 19/38 [00:00<00:01, 17.83it/s]"
     ]
    },
    {
     "name": "stdout",
     "output_type": "stream",
     "text": [
      "Epoch: 19 (15/38)\n",
      "\tData load time: 0.146 sec\n",
      "\tGeneration time: 0.167 sec\n",
      "\tBackprop time: 0.188 sec\n",
      "\tLog probability: -0.5228 (avg -0.5243)\n",
      "\tKL: 4.1588 (avg 3.8283)\n",
      "\tLoss: 42.1109 (avg 38.8071)\n",
      "Epoch: 19 (20/38)\n",
      "\tData load time: 0.146 sec\n",
      "\tGeneration time: 0.167 sec\n",
      "\tBackprop time: 0.188 sec\n",
      "\tLog probability: -0.5372 (avg -0.5271)\n",
      "\tKL: 3.1633 (avg 3.5995)\n",
      "\tLoss: 32.1704 (avg 36.5216)\n"
     ]
    },
    {
     "name": "stderr",
     "output_type": "stream",
     "text": [
      " 74%|███████▎  | 28/38 [00:01<00:00, 22.20it/s]"
     ]
    },
    {
     "name": "stdout",
     "output_type": "stream",
     "text": [
      "Epoch: 19 (25/38)\n",
      "\tData load time: 0.146 sec\n",
      "\tGeneration time: 0.167 sec\n",
      "\tBackprop time: 0.188 sec\n",
      "\tLog probability: -0.5280 (avg -0.5257)\n",
      "\tKL: 3.7844 (avg 3.5584)\n",
      "\tLoss: 38.3715 (avg 36.1095)\n",
      "Epoch: 19 (30/38)\n",
      "\tData load time: 0.146 sec\n",
      "\tGeneration time: 0.167 sec\n",
      "\tBackprop time: 0.188 sec\n",
      "\tLog probability: -0.5494 (avg -0.5250)\n",
      "\tKL: 14.1688 (avg 3.9571)\n",
      "\tLoss: 142.2377 (avg 40.0964)\n"
     ]
    },
    {
     "name": "stderr",
     "output_type": "stream",
     "text": [
      "100%|██████████| 38/38 [00:01<00:00, 22.93it/s]\n",
      "  0%|          | 0/10 [00:00<?, ?it/s]"
     ]
    },
    {
     "name": "stdout",
     "output_type": "stream",
     "text": [
      "Epoch: 19 (35/38)\n",
      "\tData load time: 0.146 sec\n",
      "\tGeneration time: 0.167 sec\n",
      "\tBackprop time: 0.188 sec\n",
      "\tLog probability: -0.5135 (avg -0.5256)\n",
      "\tKL: 3.8046 (avg 3.8714)\n",
      "\tLoss: 38.5594 (avg 39.2400)\n"
     ]
    },
    {
     "name": "stderr",
     "output_type": "stream",
     "text": [
      "100%|██████████| 10/10 [00:00<00:00, 27.39it/s]\n",
      "  0%|          | 0/38 [00:00<?, ?it/s]"
     ]
    },
    {
     "name": "stdout",
     "output_type": "stream",
     "text": [
      "Epoch: 19 (5/10)\n",
      "\tData load time: 0.168 sec\n",
      "\tGeneration time: 0.186 sec\n",
      "\tLog probability: -0.5801 (avg -0.5789)\n",
      "\tKL: 3.2683 (avg 2.8693)\n",
      "\tLoss: 33.2626 (avg 29.2722)\n",
      "Epoch: 19 (10/10)\n",
      "\tData load time: 0.168 sec\n",
      "\tGeneration time: 0.186 sec\n",
      "\tLog probability: -0.5721 (avg -0.5772)\n",
      "\tKL: 2.9034 (avg 3.3015)\n",
      "\tLoss: 29.6058 (avg 33.5926)\n",
      "Lowest validation loss: 33.0375\n"
     ]
    },
    {
     "name": "stderr",
     "output_type": "stream",
     "text": [
      " 26%|██▋       | 10/38 [00:00<00:02, 11.45it/s]"
     ]
    },
    {
     "name": "stdout",
     "output_type": "stream",
     "text": [
      "Epoch: 20 (5/38)\n",
      "\tData load time: 0.149 sec\n",
      "\tGeneration time: 0.168 sec\n",
      "\tBackprop time: 0.181 sec\n",
      "\tLog probability: -0.5207 (avg -0.5273)\n",
      "\tKL: 3.0304 (avg 4.4062)\n",
      "\tLoss: 30.8244 (avg 44.5892)\n",
      "Epoch: 20 (10/38)\n",
      "\tData load time: 0.149 sec\n",
      "\tGeneration time: 0.168 sec\n",
      "\tBackprop time: 0.181 sec\n",
      "\tLog probability: -0.5112 (avg -0.5252)\n",
      "\tKL: 3.2192 (avg 4.0143)\n",
      "\tLoss: 32.7027 (avg 40.6685)\n"
     ]
    },
    {
     "name": "stderr",
     "output_type": "stream",
     "text": [
      " 50%|█████     | 19/38 [00:00<00:01, 17.95it/s]"
     ]
    },
    {
     "name": "stdout",
     "output_type": "stream",
     "text": [
      "Epoch: 20 (15/38)\n",
      "\tData load time: 0.149 sec\n",
      "\tGeneration time: 0.168 sec\n",
      "\tBackprop time: 0.181 sec\n",
      "\tLog probability: -0.5111 (avg -0.5246)\n",
      "\tKL: 3.6106 (avg 4.3074)\n",
      "\tLoss: 36.6169 (avg 43.5991)\n",
      "Epoch: 20 (20/38)\n",
      "\tData load time: 0.149 sec\n",
      "\tGeneration time: 0.168 sec\n",
      "\tBackprop time: 0.181 sec\n",
      "\tLog probability: -0.5671 (avg -0.5275)\n",
      "\tKL: 7.5852 (avg 4.6338)\n",
      "\tLoss: 76.4187 (avg 46.8651)\n"
     ]
    },
    {
     "name": "stderr",
     "output_type": "stream",
     "text": [
      " 74%|███████▎  | 28/38 [00:01<00:00, 22.31it/s]"
     ]
    },
    {
     "name": "stdout",
     "output_type": "stream",
     "text": [
      "Epoch: 20 (25/38)\n",
      "\tData load time: 0.149 sec\n",
      "\tGeneration time: 0.168 sec\n",
      "\tBackprop time: 0.181 sec\n",
      "\tLog probability: -0.5243 (avg -0.5284)\n",
      "\tKL: 3.9985 (avg 4.4930)\n",
      "\tLoss: 40.5091 (avg 45.4580)\n",
      "Epoch: 20 (30/38)\n",
      "\tData load time: 0.149 sec\n",
      "\tGeneration time: 0.168 sec\n",
      "\tBackprop time: 0.181 sec\n",
      "\tLog probability: -0.5173 (avg -0.5272)\n",
      "\tKL: 2.6049 (avg 4.3626)\n",
      "\tLoss: 26.5668 (avg 44.1528)\n"
     ]
    },
    {
     "name": "stderr",
     "output_type": "stream",
     "text": [
      "100%|██████████| 38/38 [00:01<00:00, 22.90it/s]\n",
      "  0%|          | 0/10 [00:00<?, ?it/s]"
     ]
    },
    {
     "name": "stdout",
     "output_type": "stream",
     "text": [
      "Epoch: 20 (35/38)\n",
      "\tData load time: 0.149 sec\n",
      "\tGeneration time: 0.168 sec\n",
      "\tBackprop time: 0.181 sec\n",
      "\tLog probability: -0.5194 (avg -0.5253)\n",
      "\tKL: 3.4213 (avg 4.2232)\n",
      "\tLoss: 34.7323 (avg 42.7577)\n"
     ]
    },
    {
     "name": "stderr",
     "output_type": "stream",
     "text": [
      "100%|██████████| 10/10 [00:00<00:00, 27.46it/s]\n",
      "  0%|          | 0/38 [00:00<?, ?it/s]"
     ]
    },
    {
     "name": "stdout",
     "output_type": "stream",
     "text": [
      "Epoch: 20 (5/10)\n",
      "\tData load time: 0.161 sec\n",
      "\tGeneration time: 0.178 sec\n",
      "\tLog probability: -0.5635 (avg -0.5483)\n",
      "\tKL: 3.9161 (avg 3.5549)\n",
      "\tLoss: 39.7247 (avg 36.0973)\n",
      "Epoch: 20 (10/10)\n",
      "\tData load time: 0.161 sec\n",
      "\tGeneration time: 0.178 sec\n",
      "\tLog probability: -0.5686 (avg -0.5424)\n",
      "\tKL: 4.1786 (avg 3.6594)\n",
      "\tLoss: 42.3542 (avg 37.1369)\n",
      "Lowest validation loss: 33.0375\n"
     ]
    },
    {
     "name": "stderr",
     "output_type": "stream",
     "text": [
      " 26%|██▋       | 10/38 [00:00<00:02, 11.24it/s]"
     ]
    },
    {
     "name": "stdout",
     "output_type": "stream",
     "text": [
      "Epoch: 21 (5/38)\n",
      "\tData load time: 0.153 sec\n",
      "\tGeneration time: 0.172 sec\n",
      "\tBackprop time: 0.186 sec\n",
      "\tLog probability: -0.5168 (avg -0.5273)\n",
      "\tKL: 3.6697 (avg 3.5707)\n",
      "\tLoss: 37.2142 (avg 36.2341)\n",
      "Epoch: 21 (10/38)\n",
      "\tData load time: 0.153 sec\n",
      "\tGeneration time: 0.172 sec\n",
      "\tBackprop time: 0.186 sec\n",
      "\tLog probability: -0.5433 (avg -0.5316)\n",
      "\tKL: 3.7620 (avg 3.3763)\n",
      "\tLoss: 38.1638 (avg 34.2943)\n"
     ]
    },
    {
     "name": "stderr",
     "output_type": "stream",
     "text": [
      " 50%|█████     | 19/38 [00:00<00:01, 17.74it/s]"
     ]
    },
    {
     "name": "stdout",
     "output_type": "stream",
     "text": [
      "Epoch: 21 (15/38)\n",
      "\tData load time: 0.153 sec\n",
      "\tGeneration time: 0.172 sec\n",
      "\tBackprop time: 0.186 sec\n",
      "\tLog probability: -0.5150 (avg -0.5294)\n",
      "\tKL: 3.0400 (avg 3.4963)\n",
      "\tLoss: 30.9149 (avg 35.4927)\n",
      "Epoch: 21 (20/38)\n",
      "\tData load time: 0.153 sec\n",
      "\tGeneration time: 0.172 sec\n",
      "\tBackprop time: 0.186 sec\n",
      "\tLog probability: -0.5113 (avg -0.5233)\n",
      "\tKL: 3.5838 (avg 3.4490)\n",
      "\tLoss: 36.3489 (avg 35.0129)\n"
     ]
    },
    {
     "name": "stderr",
     "output_type": "stream",
     "text": [
      " 74%|███████▎  | 28/38 [00:01<00:00, 22.22it/s]"
     ]
    },
    {
     "name": "stdout",
     "output_type": "stream",
     "text": [
      "Epoch: 21 (25/38)\n",
      "\tData load time: 0.153 sec\n",
      "\tGeneration time: 0.172 sec\n",
      "\tBackprop time: 0.186 sec\n",
      "\tLog probability: -0.5005 (avg -0.5214)\n",
      "\tKL: 2.7116 (avg 3.3684)\n",
      "\tLoss: 27.6167 (avg 34.2059)\n",
      "Epoch: 21 (30/38)\n",
      "\tData load time: 0.153 sec\n",
      "\tGeneration time: 0.172 sec\n",
      "\tBackprop time: 0.186 sec\n",
      "\tLog probability: -0.5477 (avg -0.5225)\n",
      "\tKL: 9.8456 (avg 3.6641)\n",
      "\tLoss: 99.0038 (avg 37.1636)\n"
     ]
    },
    {
     "name": "stderr",
     "output_type": "stream",
     "text": [
      "100%|██████████| 38/38 [00:01<00:00, 22.86it/s]\n",
      "  0%|          | 0/10 [00:00<?, ?it/s]"
     ]
    },
    {
     "name": "stdout",
     "output_type": "stream",
     "text": [
      "Epoch: 21 (35/38)\n",
      "\tData load time: 0.153 sec\n",
      "\tGeneration time: 0.172 sec\n",
      "\tBackprop time: 0.186 sec\n",
      "\tLog probability: -0.5170 (avg -0.5211)\n",
      "\tKL: 3.7347 (avg 3.7562)\n",
      "\tLoss: 37.8643 (avg 38.0828)\n"
     ]
    },
    {
     "name": "stderr",
     "output_type": "stream",
     "text": [
      "100%|██████████| 10/10 [00:00<00:00, 28.13it/s]\n"
     ]
    },
    {
     "name": "stdout",
     "output_type": "stream",
     "text": [
      "Epoch: 21 (5/10)\n",
      "\tData load time: 0.154 sec\n",
      "\tGeneration time: 0.173 sec\n",
      "\tLog probability: -0.5544 (avg -0.5463)\n",
      "\tKL: 3.5008 (avg 3.0182)\n",
      "\tLoss: 35.5626 (avg 30.7280)\n",
      "Epoch: 21 (10/10)\n",
      "\tData load time: 0.154 sec\n",
      "\tGeneration time: 0.173 sec\n",
      "\tLog probability: -0.5163 (avg -0.5450)\n",
      "\tKL: 2.0254 (avg 2.9852)\n",
      "\tLoss: 20.7698 (avg 30.3969)\n",
      "Saving checkpoint..\n"
     ]
    },
    {
     "name": "stderr",
     "output_type": "stream",
     "text": [
      "  0%|          | 0/38 [00:00<?, ?it/s]"
     ]
    },
    {
     "name": "stdout",
     "output_type": "stream",
     "text": [
      "Lowest validation loss: 30.3969\n"
     ]
    },
    {
     "name": "stderr",
     "output_type": "stream",
     "text": [
      " 26%|██▋       | 10/38 [00:00<00:02, 10.85it/s]"
     ]
    },
    {
     "name": "stdout",
     "output_type": "stream",
     "text": [
      "Epoch: 22 (5/38)\n",
      "\tData load time: 0.164 sec\n",
      "\tGeneration time: 0.182 sec\n",
      "\tBackprop time: 0.195 sec\n",
      "\tLog probability: -0.5308 (avg -0.5193)\n",
      "\tKL: 6.7245 (avg 3.9375)\n",
      "\tLoss: 67.7756 (avg 39.8940)\n",
      "Epoch: 22 (10/38)\n",
      "\tData load time: 0.164 sec\n",
      "\tGeneration time: 0.182 sec\n",
      "\tBackprop time: 0.195 sec\n",
      "\tLog probability: -0.5024 (avg -0.5134)\n",
      "\tKL: 2.5968 (avg 3.6258)\n",
      "\tLoss: 26.4702 (avg 36.7712)\n"
     ]
    },
    {
     "name": "stderr",
     "output_type": "stream",
     "text": [
      " 50%|█████     | 19/38 [00:00<00:01, 17.45it/s]"
     ]
    },
    {
     "name": "stdout",
     "output_type": "stream",
     "text": [
      "Epoch: 22 (15/38)\n",
      "\tData load time: 0.164 sec\n",
      "\tGeneration time: 0.182 sec\n",
      "\tBackprop time: 0.195 sec\n",
      "\tLog probability: -0.4995 (avg -0.5140)\n",
      "\tKL: 3.2045 (avg 3.6263)\n",
      "\tLoss: 32.5448 (avg 36.7769)\n",
      "Epoch: 22 (20/38)\n",
      "\tData load time: 0.164 sec\n",
      "\tGeneration time: 0.182 sec\n",
      "\tBackprop time: 0.195 sec\n",
      "\tLog probability: -0.5542 (avg -0.5157)\n",
      "\tKL: 2.2539 (avg 3.5457)\n",
      "\tLoss: 23.0933 (avg 35.9725)\n"
     ]
    },
    {
     "name": "stderr",
     "output_type": "stream",
     "text": [
      " 74%|███████▎  | 28/38 [00:01<00:00, 21.99it/s]"
     ]
    },
    {
     "name": "stdout",
     "output_type": "stream",
     "text": [
      "Epoch: 22 (25/38)\n",
      "\tData load time: 0.164 sec\n",
      "\tGeneration time: 0.182 sec\n",
      "\tBackprop time: 0.195 sec\n",
      "\tLog probability: -0.5005 (avg -0.5145)\n",
      "\tKL: 2.8166 (avg 3.5268)\n",
      "\tLoss: 28.6660 (avg 35.7825)\n",
      "Epoch: 22 (30/38)\n",
      "\tData load time: 0.164 sec\n",
      "\tGeneration time: 0.182 sec\n",
      "\tBackprop time: 0.195 sec\n",
      "\tLog probability: -0.5074 (avg -0.5161)\n",
      "\tKL: 2.6335 (avg 3.6217)\n",
      "\tLoss: 26.8420 (avg 36.7335)\n"
     ]
    },
    {
     "name": "stderr",
     "output_type": "stream",
     "text": [
      "100%|██████████| 38/38 [00:01<00:00, 22.71it/s]\n",
      "  0%|          | 0/10 [00:00<?, ?it/s]"
     ]
    },
    {
     "name": "stdout",
     "output_type": "stream",
     "text": [
      "Epoch: 22 (35/38)\n",
      "\tData load time: 0.164 sec\n",
      "\tGeneration time: 0.182 sec\n",
      "\tBackprop time: 0.195 sec\n",
      "\tLog probability: -0.5365 (avg -0.5192)\n",
      "\tKL: 2.7457 (avg 3.6206)\n",
      "\tLoss: 27.9939 (avg 36.7253)\n"
     ]
    },
    {
     "name": "stderr",
     "output_type": "stream",
     "text": [
      "100%|██████████| 10/10 [00:00<00:00, 28.29it/s]\n"
     ]
    },
    {
     "name": "stdout",
     "output_type": "stream",
     "text": [
      "Epoch: 22 (5/10)\n",
      "\tData load time: 0.153 sec\n",
      "\tGeneration time: 0.172 sec\n",
      "\tLog probability: -0.5631 (avg -0.5828)\n",
      "\tKL: 4.1066 (avg 2.7982)\n",
      "\tLoss: 41.6293 (avg 28.5652)\n",
      "Epoch: 22 (10/10)\n",
      "\tData load time: 0.153 sec\n",
      "\tGeneration time: 0.172 sec\n",
      "\tLog probability: -0.5772 (avg -0.5888)\n",
      "\tKL: 3.2206 (avg 2.8165)\n",
      "\tLoss: 32.7836 (avg 28.7540)\n",
      "Saving checkpoint..\n"
     ]
    },
    {
     "name": "stderr",
     "output_type": "stream",
     "text": [
      "  0%|          | 0/38 [00:00<?, ?it/s]"
     ]
    },
    {
     "name": "stdout",
     "output_type": "stream",
     "text": [
      "Lowest validation loss: 28.7540\n"
     ]
    },
    {
     "name": "stderr",
     "output_type": "stream",
     "text": [
      " 26%|██▋       | 10/38 [00:00<00:02, 10.92it/s]"
     ]
    },
    {
     "name": "stdout",
     "output_type": "stream",
     "text": [
      "Epoch: 23 (5/38)\n",
      "\tData load time: 0.160 sec\n",
      "\tGeneration time: 0.179 sec\n",
      "\tBackprop time: 0.192 sec\n",
      "\tLog probability: -0.4959 (avg -0.5079)\n",
      "\tKL: 3.0514 (avg 4.1676)\n",
      "\tLoss: 31.0094 (avg 42.1837)\n",
      "Epoch: 23 (10/38)\n",
      "\tData load time: 0.160 sec\n",
      "\tGeneration time: 0.179 sec\n",
      "\tBackprop time: 0.192 sec\n",
      "\tLog probability: -0.5337 (avg -0.5116)\n",
      "\tKL: 6.7313 (avg 4.2178)\n",
      "\tLoss: 67.8465 (avg 42.6900)\n"
     ]
    },
    {
     "name": "stderr",
     "output_type": "stream",
     "text": [
      " 50%|█████     | 19/38 [00:00<00:01, 17.49it/s]"
     ]
    },
    {
     "name": "stdout",
     "output_type": "stream",
     "text": [
      "Epoch: 23 (15/38)\n",
      "\tData load time: 0.160 sec\n",
      "\tGeneration time: 0.179 sec\n",
      "\tBackprop time: 0.192 sec\n",
      "\tLog probability: -0.5469 (avg -0.5136)\n",
      "\tKL: 8.2887 (avg 4.2750)\n",
      "\tLoss: 83.4336 (avg 43.2632)\n",
      "Epoch: 23 (20/38)\n",
      "\tData load time: 0.160 sec\n",
      "\tGeneration time: 0.179 sec\n",
      "\tBackprop time: 0.192 sec\n",
      "\tLog probability: -0.5742 (avg -0.5175)\n",
      "\tKL: 3.6958 (avg 4.2852)\n",
      "\tLoss: 37.5319 (avg 43.3694)\n"
     ]
    },
    {
     "name": "stderr",
     "output_type": "stream",
     "text": [
      " 74%|███████▎  | 28/38 [00:01<00:00, 22.11it/s]"
     ]
    },
    {
     "name": "stdout",
     "output_type": "stream",
     "text": [
      "Epoch: 23 (25/38)\n",
      "\tData load time: 0.160 sec\n",
      "\tGeneration time: 0.179 sec\n",
      "\tBackprop time: 0.192 sec\n",
      "\tLog probability: -0.6019 (avg -0.5210)\n",
      "\tKL: 60.4264 (avg 6.3897)\n",
      "\tLoss: 604.8654 (avg 64.4182)\n",
      "Epoch: 23 (30/38)\n",
      "\tData load time: 0.160 sec\n",
      "\tGeneration time: 0.179 sec\n",
      "\tBackprop time: 0.192 sec\n",
      "\tLog probability: -0.5110 (avg -0.5228)\n",
      "\tKL: 4.0152 (avg 5.8846)\n",
      "\tLoss: 40.6630 (avg 59.3685)\n"
     ]
    },
    {
     "name": "stderr",
     "output_type": "stream",
     "text": [
      "100%|██████████| 38/38 [00:01<00:00, 22.70it/s]\n",
      "  0%|          | 0/10 [00:00<?, ?it/s]"
     ]
    },
    {
     "name": "stdout",
     "output_type": "stream",
     "text": [
      "Epoch: 23 (35/38)\n",
      "\tData load time: 0.160 sec\n",
      "\tGeneration time: 0.179 sec\n",
      "\tBackprop time: 0.192 sec\n",
      "\tLog probability: -0.5624 (avg -0.5238)\n",
      "\tKL: 4.7871 (avg 5.5499)\n",
      "\tLoss: 48.4335 (avg 56.0228)\n"
     ]
    },
    {
     "name": "stderr",
     "output_type": "stream",
     "text": [
      "100%|██████████| 10/10 [00:00<00:00, 29.34it/s]\n",
      "  0%|          | 0/38 [00:00<?, ?it/s]"
     ]
    },
    {
     "name": "stdout",
     "output_type": "stream",
     "text": [
      "Epoch: 23 (5/10)\n",
      "\tData load time: 0.131 sec\n",
      "\tGeneration time: 0.150 sec\n",
      "\tLog probability: -0.5845 (avg -0.5722)\n",
      "\tKL: 2.4401 (avg 3.3115)\n",
      "\tLoss: 24.9850 (avg 33.6875)\n",
      "Epoch: 23 (10/10)\n",
      "\tData load time: 0.131 sec\n",
      "\tGeneration time: 0.150 sec\n",
      "\tLog probability: -0.5741 (avg -0.5705)\n",
      "\tKL: 2.3344 (avg 3.3183)\n",
      "\tLoss: 23.9184 (avg 33.7538)\n",
      "Lowest validation loss: 28.7540\n"
     ]
    },
    {
     "name": "stderr",
     "output_type": "stream",
     "text": [
      " 26%|██▋       | 10/38 [00:00<00:02, 11.41it/s]"
     ]
    },
    {
     "name": "stdout",
     "output_type": "stream",
     "text": [
      "Epoch: 24 (5/38)\n",
      "\tData load time: 0.150 sec\n",
      "\tGeneration time: 0.168 sec\n",
      "\tBackprop time: 0.182 sec\n",
      "\tLog probability: -0.5162 (avg -0.5232)\n",
      "\tKL: 3.0638 (avg 2.9020)\n",
      "\tLoss: 31.1542 (avg 29.5430)\n",
      "Epoch: 24 (10/38)\n",
      "\tData load time: 0.150 sec\n",
      "\tGeneration time: 0.168 sec\n",
      "\tBackprop time: 0.182 sec\n",
      "\tLog probability: -0.4958 (avg -0.5173)\n",
      "\tKL: 2.9581 (avg 3.1068)\n",
      "\tLoss: 30.0772 (avg 31.5855)\n"
     ]
    },
    {
     "name": "stderr",
     "output_type": "stream",
     "text": [
      " 50%|█████     | 19/38 [00:00<00:01, 17.90it/s]"
     ]
    },
    {
     "name": "stdout",
     "output_type": "stream",
     "text": [
      "Epoch: 24 (15/38)\n",
      "\tData load time: 0.150 sec\n",
      "\tGeneration time: 0.168 sec\n",
      "\tBackprop time: 0.182 sec\n",
      "\tLog probability: -0.4789 (avg -0.5142)\n",
      "\tKL: 6.0655 (avg 3.3142)\n",
      "\tLoss: 61.1341 (avg 33.6561)\n",
      "Epoch: 24 (20/38)\n",
      "\tData load time: 0.150 sec\n",
      "\tGeneration time: 0.168 sec\n",
      "\tBackprop time: 0.182 sec\n",
      "\tLog probability: -0.5295 (avg -0.5098)\n",
      "\tKL: 2.3944 (avg 3.2593)\n",
      "\tLoss: 24.4733 (avg 33.1025)\n"
     ]
    },
    {
     "name": "stderr",
     "output_type": "stream",
     "text": [
      " 74%|███████▎  | 28/38 [00:01<00:00, 22.32it/s]"
     ]
    },
    {
     "name": "stdout",
     "output_type": "stream",
     "text": [
      "Epoch: 24 (25/38)\n",
      "\tData load time: 0.150 sec\n",
      "\tGeneration time: 0.168 sec\n",
      "\tBackprop time: 0.182 sec\n",
      "\tLog probability: -0.4991 (avg -0.5116)\n",
      "\tKL: 3.8326 (avg 3.2632)\n",
      "\tLoss: 38.8253 (avg 33.1433)\n",
      "Epoch: 24 (30/38)\n",
      "\tData load time: 0.150 sec\n",
      "\tGeneration time: 0.168 sec\n",
      "\tBackprop time: 0.182 sec\n",
      "\tLog probability: -0.5013 (avg -0.5092)\n",
      "\tKL: 4.1240 (avg 3.2195)\n",
      "\tLoss: 41.7414 (avg 32.7040)\n"
     ]
    },
    {
     "name": "stderr",
     "output_type": "stream",
     "text": [
      "100%|██████████| 38/38 [00:01<00:00, 22.91it/s]\n",
      "  0%|          | 0/10 [00:00<?, ?it/s]"
     ]
    },
    {
     "name": "stdout",
     "output_type": "stream",
     "text": [
      "Epoch: 24 (35/38)\n",
      "\tData load time: 0.150 sec\n",
      "\tGeneration time: 0.168 sec\n",
      "\tBackprop time: 0.182 sec\n",
      "\tLog probability: -0.5319 (avg -0.5093)\n",
      "\tKL: 3.4302 (avg 3.1909)\n",
      "\tLoss: 34.8337 (avg 32.4183)\n"
     ]
    },
    {
     "name": "stderr",
     "output_type": "stream",
     "text": [
      "100%|██████████| 10/10 [00:00<00:00, 28.29it/s]\n",
      "  0%|          | 0/38 [00:00<?, ?it/s]"
     ]
    },
    {
     "name": "stdout",
     "output_type": "stream",
     "text": [
      "Epoch: 24 (5/10)\n",
      "\tData load time: 0.153 sec\n",
      "\tGeneration time: 0.171 sec\n",
      "\tLog probability: -0.5403 (avg -0.5656)\n",
      "\tKL: 2.6213 (avg 2.6341)\n",
      "\tLoss: 26.7537 (avg 26.9067)\n",
      "Epoch: 24 (10/10)\n",
      "\tData load time: 0.153 sec\n",
      "\tGeneration time: 0.171 sec\n",
      "\tLog probability: -0.4897 (avg -0.5592)\n",
      "\tKL: 2.9657 (avg 2.8249)\n",
      "\tLoss: 30.1467 (avg 28.8084)\n",
      "Lowest validation loss: 28.7540\n"
     ]
    },
    {
     "name": "stderr",
     "output_type": "stream",
     "text": [
      " 26%|██▋       | 10/38 [00:00<00:02, 11.00it/s]"
     ]
    },
    {
     "name": "stdout",
     "output_type": "stream",
     "text": [
      "Epoch: 25 (5/38)\n",
      "\tData load time: 0.156 sec\n",
      "\tGeneration time: 0.176 sec\n",
      "\tBackprop time: 0.190 sec\n",
      "\tLog probability: -0.4903 (avg -0.5016)\n",
      "\tKL: 2.7523 (avg 4.1331)\n",
      "\tLoss: 28.0130 (avg 41.8324)\n",
      "Epoch: 25 (10/38)\n",
      "\tData load time: 0.156 sec\n",
      "\tGeneration time: 0.176 sec\n",
      "\tBackprop time: 0.190 sec\n",
      "\tLog probability: -0.5091 (avg -0.5051)\n",
      "\tKL: 3.1754 (avg 3.8881)\n",
      "\tLoss: 32.2633 (avg 39.3857)\n"
     ]
    },
    {
     "name": "stderr",
     "output_type": "stream",
     "text": [
      " 50%|█████     | 19/38 [00:00<00:01, 17.61it/s]"
     ]
    },
    {
     "name": "stdout",
     "output_type": "stream",
     "text": [
      "Epoch: 25 (15/38)\n",
      "\tData load time: 0.156 sec\n",
      "\tGeneration time: 0.176 sec\n",
      "\tBackprop time: 0.190 sec\n",
      "\tLog probability: -0.4873 (avg -0.5048)\n",
      "\tKL: 2.8485 (avg 3.6798)\n",
      "\tLoss: 28.9726 (avg 37.3026)\n",
      "Epoch: 25 (20/38)\n",
      "\tData load time: 0.156 sec\n",
      "\tGeneration time: 0.176 sec\n",
      "\tBackprop time: 0.190 sec\n",
      "\tLog probability: -0.4997 (avg -0.5049)\n",
      "\tKL: 2.7437 (avg 3.4213)\n",
      "\tLoss: 27.9370 (avg 34.7177)\n"
     ]
    },
    {
     "name": "stderr",
     "output_type": "stream",
     "text": [
      " 74%|███████▎  | 28/38 [00:01<00:00, 22.15it/s]"
     ]
    },
    {
     "name": "stdout",
     "output_type": "stream",
     "text": [
      "Epoch: 25 (25/38)\n",
      "\tData load time: 0.156 sec\n",
      "\tGeneration time: 0.176 sec\n",
      "\tBackprop time: 0.190 sec\n",
      "\tLog probability: -0.5157 (avg -0.5058)\n",
      "\tKL: 7.2695 (avg 3.6225)\n",
      "\tLoss: 73.2105 (avg 36.7309)\n",
      "Epoch: 25 (30/38)\n",
      "\tData load time: 0.156 sec\n",
      "\tGeneration time: 0.176 sec\n",
      "\tBackprop time: 0.190 sec\n",
      "\tLog probability: -0.5677 (avg -0.5074)\n",
      "\tKL: 4.4014 (avg 3.5954)\n",
      "\tLoss: 44.5816 (avg 36.4617)\n"
     ]
    },
    {
     "name": "stderr",
     "output_type": "stream",
     "text": [
      "100%|██████████| 38/38 [00:01<00:00, 22.77it/s]\n",
      "  0%|          | 0/10 [00:00<?, ?it/s]"
     ]
    },
    {
     "name": "stdout",
     "output_type": "stream",
     "text": [
      "Epoch: 25 (35/38)\n",
      "\tData load time: 0.156 sec\n",
      "\tGeneration time: 0.176 sec\n",
      "\tBackprop time: 0.190 sec\n",
      "\tLog probability: -0.5650 (avg -0.5078)\n",
      "\tKL: 88.5321 (avg 5.9544)\n",
      "\tLoss: 885.8865 (avg 60.0513)\n"
     ]
    },
    {
     "name": "stderr",
     "output_type": "stream",
     "text": [
      "100%|██████████| 10/10 [00:00<00:00, 27.73it/s]\n"
     ]
    },
    {
     "name": "stdout",
     "output_type": "stream",
     "text": [
      "Epoch: 25 (5/10)\n",
      "\tData load time: 0.153 sec\n",
      "\tGeneration time: 0.171 sec\n",
      "\tLog probability: -0.5588 (avg -0.5602)\n",
      "\tKL: 3.2501 (avg 2.6028)\n",
      "\tLoss: 33.0593 (avg 26.5883)\n",
      "Epoch: 25 (10/10)\n",
      "\tData load time: 0.153 sec\n",
      "\tGeneration time: 0.171 sec\n",
      "\tLog probability: -0.5352 (avg -0.5626)\n",
      "\tKL: 2.1989 (avg 2.5916)\n",
      "\tLoss: 22.5240 (avg 26.4790)\n",
      "Saving checkpoint..\n"
     ]
    },
    {
     "name": "stderr",
     "output_type": "stream",
     "text": [
      "  0%|          | 0/38 [00:00<?, ?it/s]"
     ]
    },
    {
     "name": "stdout",
     "output_type": "stream",
     "text": [
      "Lowest validation loss: 26.4790\n"
     ]
    },
    {
     "name": "stderr",
     "output_type": "stream",
     "text": [
      " 26%|██▋       | 10/38 [00:00<00:02, 11.12it/s]"
     ]
    },
    {
     "name": "stdout",
     "output_type": "stream",
     "text": [
      "Epoch: 26 (5/38)\n",
      "\tData load time: 0.156 sec\n",
      "\tGeneration time: 0.175 sec\n",
      "\tBackprop time: 0.189 sec\n",
      "\tLog probability: -0.5427 (avg -0.5249)\n",
      "\tKL: 3.3686 (avg 3.0572)\n",
      "\tLoss: 34.2283 (avg 31.0974)\n",
      "Epoch: 26 (10/38)\n",
      "\tData load time: 0.156 sec\n",
      "\tGeneration time: 0.175 sec\n",
      "\tBackprop time: 0.189 sec\n",
      "\tLog probability: -0.4808 (avg -0.5181)\n",
      "\tKL: 3.0585 (avg 3.3081)\n",
      "\tLoss: 31.0655 (avg 33.5995)\n"
     ]
    },
    {
     "name": "stderr",
     "output_type": "stream",
     "text": [
      " 50%|█████     | 19/38 [00:00<00:01, 17.69it/s]"
     ]
    },
    {
     "name": "stdout",
     "output_type": "stream",
     "text": [
      "Epoch: 26 (15/38)\n",
      "\tData load time: 0.156 sec\n",
      "\tGeneration time: 0.175 sec\n",
      "\tBackprop time: 0.189 sec\n",
      "\tLog probability: -0.4961 (avg -0.5165)\n",
      "\tKL: 2.6453 (avg 3.5260)\n",
      "\tLoss: 26.9487 (avg 35.7764)\n",
      "Epoch: 26 (20/38)\n",
      "\tData load time: 0.156 sec\n",
      "\tGeneration time: 0.175 sec\n",
      "\tBackprop time: 0.189 sec\n",
      "\tLog probability: -0.5076 (avg -0.5156)\n",
      "\tKL: 2.6355 (avg 3.3921)\n",
      "\tLoss: 26.8630 (avg 34.4365)\n"
     ]
    },
    {
     "name": "stderr",
     "output_type": "stream",
     "text": [
      " 74%|███████▎  | 28/38 [00:01<00:00, 22.10it/s]"
     ]
    },
    {
     "name": "stdout",
     "output_type": "stream",
     "text": [
      "Epoch: 26 (25/38)\n",
      "\tData load time: 0.156 sec\n",
      "\tGeneration time: 0.175 sec\n",
      "\tBackprop time: 0.189 sec\n",
      "\tLog probability: -0.5104 (avg -0.5148)\n",
      "\tKL: 2.6745 (avg 3.3814)\n",
      "\tLoss: 27.2553 (avg 34.3286)\n",
      "Epoch: 26 (30/38)\n",
      "\tData load time: 0.156 sec\n",
      "\tGeneration time: 0.175 sec\n",
      "\tBackprop time: 0.189 sec\n",
      "\tLog probability: -0.5698 (avg -0.5150)\n",
      "\tKL: 3.3092 (avg 3.3945)\n",
      "\tLoss: 33.6619 (avg 34.4595)\n"
     ]
    },
    {
     "name": "stderr",
     "output_type": "stream",
     "text": [
      "100%|██████████| 38/38 [00:01<00:00, 22.79it/s]\n",
      "  0%|          | 0/10 [00:00<?, ?it/s]"
     ]
    },
    {
     "name": "stdout",
     "output_type": "stream",
     "text": [
      "Epoch: 26 (35/38)\n",
      "\tData load time: 0.156 sec\n",
      "\tGeneration time: 0.175 sec\n",
      "\tBackprop time: 0.189 sec\n",
      "\tLog probability: -0.4966 (avg -0.5146)\n",
      "\tKL: 2.1060 (avg 3.3732)\n",
      "\tLoss: 21.5565 (avg 34.2464)\n"
     ]
    },
    {
     "name": "stderr",
     "output_type": "stream",
     "text": [
      "100%|██████████| 10/10 [00:00<00:00, 27.98it/s]\n",
      "  0%|          | 0/38 [00:00<?, ?it/s]"
     ]
    },
    {
     "name": "stdout",
     "output_type": "stream",
     "text": [
      "Epoch: 26 (5/10)\n",
      "\tData load time: 0.153 sec\n",
      "\tGeneration time: 0.171 sec\n",
      "\tLog probability: -0.5430 (avg -0.5355)\n",
      "\tKL: 1.8395 (avg 2.6461)\n",
      "\tLoss: 18.9375 (avg 26.9969)\n",
      "Epoch: 26 (10/10)\n",
      "\tData load time: 0.153 sec\n",
      "\tGeneration time: 0.171 sec\n",
      "\tLog probability: -0.5144 (avg -0.5286)\n",
      "\tKL: 3.1859 (avg 2.6347)\n",
      "\tLoss: 32.3736 (avg 26.8760)\n",
      "Lowest validation loss: 26.4790\n"
     ]
    },
    {
     "name": "stderr",
     "output_type": "stream",
     "text": [
      " 26%|██▋       | 10/38 [00:00<00:02, 11.31it/s]"
     ]
    },
    {
     "name": "stdout",
     "output_type": "stream",
     "text": [
      "Epoch: 27 (5/38)\n",
      "\tData load time: 0.152 sec\n",
      "\tGeneration time: 0.171 sec\n",
      "\tBackprop time: 0.184 sec\n",
      "\tLog probability: -0.4782 (avg -0.5115)\n",
      "\tKL: 3.3244 (avg 3.6382)\n",
      "\tLoss: 33.7218 (avg 36.8932)\n",
      "Epoch: 27 (10/38)\n",
      "\tData load time: 0.152 sec\n",
      "\tGeneration time: 0.171 sec\n",
      "\tBackprop time: 0.184 sec\n",
      "\tLog probability: -0.5368 (avg -0.5114)\n",
      "\tKL: 3.5536 (avg 3.4392)\n",
      "\tLoss: 36.0727 (avg 34.9034)\n"
     ]
    },
    {
     "name": "stderr",
     "output_type": "stream",
     "text": [
      " 50%|█████     | 19/38 [00:00<00:01, 17.85it/s]"
     ]
    },
    {
     "name": "stdout",
     "output_type": "stream",
     "text": [
      "Epoch: 27 (15/38)\n",
      "\tData load time: 0.152 sec\n",
      "\tGeneration time: 0.171 sec\n",
      "\tBackprop time: 0.184 sec\n",
      "\tLog probability: -0.5515 (avg -0.5184)\n",
      "\tKL: 4.7845 (avg 3.5225)\n",
      "\tLoss: 48.3964 (avg 35.7431)\n",
      "Epoch: 27 (20/38)\n",
      "\tData load time: 0.152 sec\n",
      "\tGeneration time: 0.171 sec\n",
      "\tBackprop time: 0.184 sec\n",
      "\tLog probability: -0.4952 (avg -0.5168)\n",
      "\tKL: 2.7196 (avg 3.3325)\n",
      "\tLoss: 27.6907 (avg 33.8423)\n"
     ]
    },
    {
     "name": "stderr",
     "output_type": "stream",
     "text": [
      " 74%|███████▎  | 28/38 [00:01<00:00, 22.26it/s]"
     ]
    },
    {
     "name": "stdout",
     "output_type": "stream",
     "text": [
      "Epoch: 27 (25/38)\n",
      "\tData load time: 0.152 sec\n",
      "\tGeneration time: 0.171 sec\n",
      "\tBackprop time: 0.184 sec\n",
      "\tLog probability: -0.5107 (avg -0.5140)\n",
      "\tKL: 5.8170 (avg 3.3995)\n",
      "\tLoss: 58.6803 (avg 34.5088)\n",
      "Epoch: 27 (30/38)\n",
      "\tData load time: 0.152 sec\n",
      "\tGeneration time: 0.171 sec\n",
      "\tBackprop time: 0.184 sec\n",
      "\tLog probability: -0.4750 (avg -0.5134)\n",
      "\tKL: 2.2955 (avg 3.4038)\n",
      "\tLoss: 23.4301 (avg 34.5519)\n"
     ]
    },
    {
     "name": "stderr",
     "output_type": "stream",
     "text": [
      "100%|██████████| 38/38 [00:01<00:00, 22.88it/s]\n",
      "  0%|          | 0/10 [00:00<?, ?it/s]"
     ]
    },
    {
     "name": "stdout",
     "output_type": "stream",
     "text": [
      "Epoch: 27 (35/38)\n",
      "\tData load time: 0.152 sec\n",
      "\tGeneration time: 0.171 sec\n",
      "\tBackprop time: 0.184 sec\n",
      "\tLog probability: -0.4845 (avg -0.5113)\n",
      "\tKL: 2.6400 (avg 3.3000)\n",
      "\tLoss: 26.8841 (avg 33.5112)\n"
     ]
    },
    {
     "name": "stderr",
     "output_type": "stream",
     "text": [
      "100%|██████████| 10/10 [00:00<00:00, 27.89it/s]\n"
     ]
    },
    {
     "name": "stdout",
     "output_type": "stream",
     "text": [
      "Epoch: 27 (5/10)\n",
      "\tData load time: 0.152 sec\n",
      "\tGeneration time: 0.171 sec\n",
      "\tLog probability: -0.5395 (avg -0.5471)\n",
      "\tKL: 2.6612 (avg 2.6268)\n",
      "\tLoss: 27.1514 (avg 26.8150)\n",
      "Epoch: 27 (10/10)\n",
      "\tData load time: 0.152 sec\n",
      "\tGeneration time: 0.171 sec\n",
      "\tLog probability: -0.5423 (avg -0.5518)\n",
      "\tKL: 2.3773 (avg 2.5705)\n",
      "\tLoss: 24.3150 (avg 26.2570)\n",
      "Saving checkpoint..\n"
     ]
    },
    {
     "name": "stderr",
     "output_type": "stream",
     "text": [
      "  0%|          | 0/38 [00:00<?, ?it/s]"
     ]
    },
    {
     "name": "stdout",
     "output_type": "stream",
     "text": [
      "Lowest validation loss: 26.2570\n"
     ]
    },
    {
     "name": "stderr",
     "output_type": "stream",
     "text": [
      " 26%|██▋       | 10/38 [00:00<00:02, 10.88it/s]"
     ]
    },
    {
     "name": "stdout",
     "output_type": "stream",
     "text": [
      "Epoch: 28 (5/38)\n",
      "\tData load time: 0.160 sec\n",
      "\tGeneration time: 0.180 sec\n",
      "\tBackprop time: 0.194 sec\n",
      "\tLog probability: -0.5154 (avg -0.5096)\n",
      "\tKL: 2.4113 (avg 3.0164)\n",
      "\tLoss: 24.6282 (avg 30.6739)\n",
      "Epoch: 28 (10/38)\n",
      "\tData load time: 0.160 sec\n",
      "\tGeneration time: 0.180 sec\n",
      "\tBackprop time: 0.194 sec\n",
      "\tLog probability: -0.5204 (avg -0.5100)\n",
      "\tKL: 3.2163 (avg 3.0665)\n",
      "\tLoss: 32.6833 (avg 31.1751)\n"
     ]
    },
    {
     "name": "stderr",
     "output_type": "stream",
     "text": [
      " 50%|█████     | 19/38 [00:00<00:01, 17.47it/s]"
     ]
    },
    {
     "name": "stdout",
     "output_type": "stream",
     "text": [
      "Epoch: 28 (15/38)\n",
      "\tData load time: 0.160 sec\n",
      "\tGeneration time: 0.180 sec\n",
      "\tBackprop time: 0.194 sec\n",
      "\tLog probability: -0.5052 (avg -0.5075)\n",
      "\tKL: 11.9538 (avg 3.6853)\n",
      "\tLoss: 120.0431 (avg 37.3606)\n",
      "Epoch: 28 (20/38)\n",
      "\tData load time: 0.160 sec\n",
      "\tGeneration time: 0.180 sec\n",
      "\tBackprop time: 0.194 sec\n",
      "\tLog probability: -0.5089 (avg -0.5121)\n",
      "\tKL: 4.0400 (avg 3.5823)\n",
      "\tLoss: 40.9089 (avg 36.3355)\n"
     ]
    },
    {
     "name": "stderr",
     "output_type": "stream",
     "text": [
      " 74%|███████▎  | 28/38 [00:01<00:00, 22.10it/s]"
     ]
    },
    {
     "name": "stdout",
     "output_type": "stream",
     "text": [
      "Epoch: 28 (25/38)\n",
      "\tData load time: 0.160 sec\n",
      "\tGeneration time: 0.180 sec\n",
      "\tBackprop time: 0.194 sec\n",
      "\tLog probability: -0.4870 (avg -0.5091)\n",
      "\tKL: 3.3243 (avg 3.3890)\n",
      "\tLoss: 33.7303 (avg 34.3990)\n",
      "Epoch: 28 (30/38)\n",
      "\tData load time: 0.160 sec\n",
      "\tGeneration time: 0.180 sec\n",
      "\tBackprop time: 0.194 sec\n",
      "\tLog probability: -0.4964 (avg -0.5068)\n",
      "\tKL: 2.8751 (avg 3.7565)\n",
      "\tLoss: 29.2472 (avg 38.0718)\n"
     ]
    },
    {
     "name": "stderr",
     "output_type": "stream",
     "text": [
      "100%|██████████| 38/38 [00:01<00:00, 22.77it/s]\n",
      "  0%|          | 0/10 [00:00<?, ?it/s]"
     ]
    },
    {
     "name": "stdout",
     "output_type": "stream",
     "text": [
      "Epoch: 28 (35/38)\n",
      "\tData load time: 0.160 sec\n",
      "\tGeneration time: 0.180 sec\n",
      "\tBackprop time: 0.194 sec\n",
      "\tLog probability: -0.5009 (avg -0.5067)\n",
      "\tKL: 2.2069 (avg 3.6299)\n",
      "\tLoss: 22.5698 (avg 36.8057)\n"
     ]
    },
    {
     "name": "stderr",
     "output_type": "stream",
     "text": [
      "100%|██████████| 10/10 [00:00<00:00, 27.65it/s]\n",
      "  0%|          | 0/38 [00:00<?, ?it/s]"
     ]
    },
    {
     "name": "stdout",
     "output_type": "stream",
     "text": [
      "Epoch: 28 (5/10)\n",
      "\tData load time: 0.158 sec\n",
      "\tGeneration time: 0.177 sec\n",
      "\tLog probability: -0.5111 (avg -0.5192)\n",
      "\tKL: 2.0666 (avg 2.9063)\n",
      "\tLoss: 21.1767 (avg 29.5819)\n",
      "Epoch: 28 (10/10)\n",
      "\tData load time: 0.158 sec\n",
      "\tGeneration time: 0.177 sec\n",
      "\tLog probability: -0.5705 (avg -0.5256)\n",
      "\tKL: 2.6786 (avg 2.8260)\n",
      "\tLoss: 27.3565 (avg 28.7856)\n",
      "Lowest validation loss: 26.2570\n"
     ]
    },
    {
     "name": "stderr",
     "output_type": "stream",
     "text": [
      " 26%|██▋       | 10/38 [00:00<00:02, 11.12it/s]"
     ]
    },
    {
     "name": "stdout",
     "output_type": "stream",
     "text": [
      "Epoch: 29 (5/38)\n",
      "\tData load time: 0.158 sec\n",
      "\tGeneration time: 0.175 sec\n",
      "\tBackprop time: 0.188 sec\n",
      "\tLog probability: -0.4691 (avg -0.4953)\n",
      "\tKL: 2.7623 (avg 3.2801)\n",
      "\tLoss: 28.0923 (avg 33.2960)\n",
      "Epoch: 29 (10/38)\n",
      "\tData load time: 0.158 sec\n",
      "\tGeneration time: 0.175 sec\n",
      "\tBackprop time: 0.188 sec\n",
      "\tLog probability: -0.5080 (avg -0.5013)\n",
      "\tKL: 4.9982 (avg 3.2110)\n",
      "\tLoss: 50.4898 (avg 32.6117)\n"
     ]
    },
    {
     "name": "stderr",
     "output_type": "stream",
     "text": [
      " 50%|█████     | 19/38 [00:00<00:01, 17.69it/s]"
     ]
    },
    {
     "name": "stdout",
     "output_type": "stream",
     "text": [
      "Epoch: 29 (15/38)\n",
      "\tData load time: 0.158 sec\n",
      "\tGeneration time: 0.175 sec\n",
      "\tBackprop time: 0.188 sec\n",
      "\tLog probability: -0.4938 (avg -0.4975)\n",
      "\tKL: 2.6340 (avg 3.2055)\n",
      "\tLoss: 26.8336 (avg 32.5528)\n",
      "Epoch: 29 (20/38)\n",
      "\tData load time: 0.158 sec\n",
      "\tGeneration time: 0.175 sec\n",
      "\tBackprop time: 0.188 sec\n",
      "\tLog probability: -0.4901 (avg -0.4994)\n",
      "\tKL: 3.0375 (avg 3.0999)\n",
      "\tLoss: 30.8649 (avg 31.4980)\n"
     ]
    },
    {
     "name": "stderr",
     "output_type": "stream",
     "text": [
      " 74%|███████▎  | 28/38 [00:01<00:00, 22.09it/s]"
     ]
    },
    {
     "name": "stdout",
     "output_type": "stream",
     "text": [
      "Epoch: 29 (25/38)\n",
      "\tData load time: 0.158 sec\n",
      "\tGeneration time: 0.175 sec\n",
      "\tBackprop time: 0.188 sec\n",
      "\tLog probability: -0.5564 (avg -0.5053)\n",
      "\tKL: 4.8182 (avg 3.2301)\n",
      "\tLoss: 48.7382 (avg 32.8060)\n",
      "Epoch: 29 (30/38)\n",
      "\tData load time: 0.158 sec\n",
      "\tGeneration time: 0.175 sec\n",
      "\tBackprop time: 0.188 sec\n",
      "\tLog probability: -0.4872 (avg -0.5038)\n",
      "\tKL: 2.3045 (avg 3.3013)\n",
      "\tLoss: 23.5320 (avg 33.5172)\n"
     ]
    },
    {
     "name": "stderr",
     "output_type": "stream",
     "text": [
      "100%|██████████| 38/38 [00:01<00:00, 22.76it/s]\n",
      "  0%|          | 0/10 [00:00<?, ?it/s]"
     ]
    },
    {
     "name": "stdout",
     "output_type": "stream",
     "text": [
      "Epoch: 29 (35/38)\n",
      "\tData load time: 0.158 sec\n",
      "\tGeneration time: 0.175 sec\n",
      "\tBackprop time: 0.188 sec\n",
      "\tLog probability: -0.4984 (avg -0.5054)\n",
      "\tKL: 2.6021 (avg 3.4939)\n",
      "\tLoss: 26.5194 (avg 35.4448)\n"
     ]
    },
    {
     "name": "stderr",
     "output_type": "stream",
     "text": [
      "100%|██████████| 10/10 [00:00<00:00, 28.39it/s]\n",
      "  0%|          | 0/38 [00:00<?, ?it/s]"
     ]
    },
    {
     "name": "stdout",
     "output_type": "stream",
     "text": [
      "Epoch: 29 (5/10)\n",
      "\tData load time: 0.150 sec\n",
      "\tGeneration time: 0.168 sec\n",
      "\tLog probability: -0.5682 (avg -0.5745)\n",
      "\tKL: 1.6293 (avg 2.8692)\n",
      "\tLoss: 16.8613 (avg 29.2661)\n",
      "Epoch: 29 (10/10)\n",
      "\tData load time: 0.150 sec\n",
      "\tGeneration time: 0.168 sec\n",
      "\tLog probability: -0.5385 (avg -0.5671)\n",
      "\tKL: 2.4069 (avg 2.7432)\n",
      "\tLoss: 24.6075 (avg 27.9988)\n",
      "Lowest validation loss: 26.2570\n"
     ]
    },
    {
     "name": "stderr",
     "output_type": "stream",
     "text": [
      " 26%|██▋       | 10/38 [00:00<00:02, 11.29it/s]"
     ]
    },
    {
     "name": "stdout",
     "output_type": "stream",
     "text": [
      "Epoch: 30 (5/38)\n",
      "\tData load time: 0.148 sec\n",
      "\tGeneration time: 0.167 sec\n",
      "\tBackprop time: 0.184 sec\n",
      "\tLog probability: -0.4831 (avg -0.5159)\n",
      "\tKL: 3.0511 (avg 3.0955)\n",
      "\tLoss: 30.9941 (avg 31.4713)\n",
      "Epoch: 30 (10/38)\n",
      "\tData load time: 0.148 sec\n",
      "\tGeneration time: 0.167 sec\n",
      "\tBackprop time: 0.184 sec\n",
      "\tLog probability: -0.4873 (avg -0.5106)\n",
      "\tKL: 3.3829 (avg 3.1057)\n",
      "\tLoss: 34.3159 (avg 31.5674)\n"
     ]
    },
    {
     "name": "stderr",
     "output_type": "stream",
     "text": [
      " 50%|█████     | 19/38 [00:00<00:01, 17.83it/s]"
     ]
    },
    {
     "name": "stdout",
     "output_type": "stream",
     "text": [
      "Epoch: 30 (15/38)\n",
      "\tData load time: 0.148 sec\n",
      "\tGeneration time: 0.167 sec\n",
      "\tBackprop time: 0.184 sec\n",
      "\tLog probability: -0.5013 (avg -0.5093)\n",
      "\tKL: 2.7601 (avg 3.0364)\n",
      "\tLoss: 28.1027 (avg 30.8737)\n",
      "Epoch: 30 (20/38)\n",
      "\tData load time: 0.148 sec\n",
      "\tGeneration time: 0.167 sec\n",
      "\tBackprop time: 0.184 sec\n",
      "\tLog probability: -0.4885 (avg -0.5068)\n",
      "\tKL: 3.0626 (avg 2.9753)\n",
      "\tLoss: 31.1143 (avg 30.2594)\n"
     ]
    },
    {
     "name": "stderr",
     "output_type": "stream",
     "text": [
      " 74%|███████▎  | 28/38 [00:01<00:00, 22.16it/s]"
     ]
    },
    {
     "name": "stdout",
     "output_type": "stream",
     "text": [
      "Epoch: 30 (25/38)\n",
      "\tData load time: 0.148 sec\n",
      "\tGeneration time: 0.167 sec\n",
      "\tBackprop time: 0.184 sec\n",
      "\tLog probability: -0.4717 (avg -0.5060)\n",
      "\tKL: 3.2417 (avg 3.0354)\n",
      "\tLoss: 32.8885 (avg 30.8604)\n",
      "Epoch: 30 (30/38)\n",
      "\tData load time: 0.148 sec\n",
      "\tGeneration time: 0.167 sec\n",
      "\tBackprop time: 0.184 sec\n",
      "\tLog probability: -0.4653 (avg -0.5067)\n",
      "\tKL: 3.3565 (avg 3.2206)\n",
      "\tLoss: 34.0306 (avg 32.7125)\n"
     ]
    },
    {
     "name": "stderr",
     "output_type": "stream",
     "text": [
      "100%|██████████| 38/38 [00:01<00:00, 22.82it/s]\n",
      "  0%|          | 0/10 [00:00<?, ?it/s]"
     ]
    },
    {
     "name": "stdout",
     "output_type": "stream",
     "text": [
      "Epoch: 30 (35/38)\n",
      "\tData load time: 0.148 sec\n",
      "\tGeneration time: 0.167 sec\n",
      "\tBackprop time: 0.184 sec\n",
      "\tLog probability: -0.5178 (avg -0.5063)\n",
      "\tKL: 2.4494 (avg 3.6331)\n",
      "\tLoss: 25.0118 (avg 36.8371)\n"
     ]
    },
    {
     "name": "stderr",
     "output_type": "stream",
     "text": [
      "100%|██████████| 10/10 [00:00<00:00, 28.01it/s]\n"
     ]
    },
    {
     "name": "stdout",
     "output_type": "stream",
     "text": [
      "Epoch: 30 (5/10)\n",
      "\tData load time: 0.159 sec\n",
      "\tGeneration time: 0.177 sec\n",
      "\tLog probability: -0.5606 (avg -0.5590)\n",
      "\tKL: 2.4060 (avg 2.1379)\n",
      "\tLoss: 24.6205 (avg 21.9380)\n",
      "Epoch: 30 (10/10)\n",
      "\tData load time: 0.159 sec\n",
      "\tGeneration time: 0.177 sec\n",
      "\tLog probability: -0.4960 (avg -0.5440)\n",
      "\tKL: 1.8613 (avg 2.5152)\n",
      "\tLoss: 19.1094 (avg 25.6961)\n",
      "Saving checkpoint..\n"
     ]
    },
    {
     "name": "stderr",
     "output_type": "stream",
     "text": [
      "  0%|          | 0/38 [00:00<?, ?it/s]"
     ]
    },
    {
     "name": "stdout",
     "output_type": "stream",
     "text": [
      "Lowest validation loss: 25.6961\n"
     ]
    },
    {
     "name": "stderr",
     "output_type": "stream",
     "text": [
      " 26%|██▋       | 10/38 [00:00<00:02, 10.75it/s]"
     ]
    },
    {
     "name": "stdout",
     "output_type": "stream",
     "text": [
      "Epoch: 31 (5/38)\n",
      "\tData load time: 0.165 sec\n",
      "\tGeneration time: 0.184 sec\n",
      "\tBackprop time: 0.197 sec\n",
      "\tLog probability: -0.4857 (avg -0.5075)\n",
      "\tKL: 2.5352 (avg 2.9267)\n",
      "\tLoss: 25.8380 (avg 29.7746)\n",
      "Epoch: 31 (10/38)\n",
      "\tData load time: 0.165 sec\n",
      "\tGeneration time: 0.184 sec\n",
      "\tBackprop time: 0.197 sec\n",
      "\tLog probability: -0.5278 (avg -0.5120)\n",
      "\tKL: 9.3479 (avg 4.1236)\n",
      "\tLoss: 94.0069 (avg 41.7480)\n"
     ]
    },
    {
     "name": "stderr",
     "output_type": "stream",
     "text": [
      " 50%|█████     | 19/38 [00:00<00:01, 17.43it/s]"
     ]
    },
    {
     "name": "stdout",
     "output_type": "stream",
     "text": [
      "Epoch: 31 (15/38)\n",
      "\tData load time: 0.165 sec\n",
      "\tGeneration time: 0.184 sec\n",
      "\tBackprop time: 0.197 sec\n",
      "\tLog probability: -0.4858 (avg -0.5082)\n",
      "\tKL: 5.1645 (avg 4.6856)\n",
      "\tLoss: 52.1311 (avg 47.3643)\n",
      "Epoch: 31 (20/38)\n",
      "\tData load time: 0.165 sec\n",
      "\tGeneration time: 0.184 sec\n",
      "\tBackprop time: 0.197 sec\n",
      "\tLog probability: -0.5082 (avg -0.5065)\n",
      "\tKL: 3.8628 (avg 4.3007)\n",
      "\tLoss: 39.1358 (avg 43.5138)\n"
     ]
    },
    {
     "name": "stderr",
     "output_type": "stream",
     "text": [
      " 74%|███████▎  | 28/38 [00:01<00:00, 21.96it/s]"
     ]
    },
    {
     "name": "stdout",
     "output_type": "stream",
     "text": [
      "Epoch: 31 (25/38)\n",
      "\tData load time: 0.165 sec\n",
      "\tGeneration time: 0.184 sec\n",
      "\tBackprop time: 0.197 sec\n",
      "\tLog probability: -0.5509 (avg -0.5089)\n",
      "\tKL: 2.4020 (avg 4.0672)\n",
      "\tLoss: 24.5709 (avg 41.1813)\n",
      "Epoch: 31 (30/38)\n",
      "\tData load time: 0.165 sec\n",
      "\tGeneration time: 0.184 sec\n",
      "\tBackprop time: 0.197 sec\n",
      "\tLog probability: -0.4626 (avg -0.5079)\n",
      "\tKL: 8.0120 (avg 4.2393)\n",
      "\tLoss: 80.5831 (avg 42.9011)\n"
     ]
    },
    {
     "name": "stderr",
     "output_type": "stream",
     "text": [
      "100%|██████████| 38/38 [00:01<00:00, 22.72it/s]\n",
      "  0%|          | 0/10 [00:00<?, ?it/s]"
     ]
    },
    {
     "name": "stdout",
     "output_type": "stream",
     "text": [
      "Epoch: 31 (35/38)\n",
      "\tData load time: 0.165 sec\n",
      "\tGeneration time: 0.184 sec\n",
      "\tBackprop time: 0.197 sec\n",
      "\tLog probability: -0.4901 (avg -0.5082)\n",
      "\tKL: 3.7035 (avg 4.1584)\n",
      "\tLoss: 37.5248 (avg 42.0919)\n"
     ]
    },
    {
     "name": "stderr",
     "output_type": "stream",
     "text": [
      "100%|██████████| 10/10 [00:00<00:00, 28.11it/s]\n",
      "  0%|          | 0/38 [00:00<?, ?it/s]"
     ]
    },
    {
     "name": "stdout",
     "output_type": "stream",
     "text": [
      "Epoch: 31 (5/10)\n",
      "\tData load time: 0.144 sec\n",
      "\tGeneration time: 0.162 sec\n",
      "\tLog probability: -0.5296 (avg -0.5283)\n",
      "\tKL: 5.5753 (avg 3.2925)\n",
      "\tLoss: 56.2827 (avg 33.4530)\n",
      "Epoch: 31 (10/10)\n",
      "\tData load time: 0.144 sec\n",
      "\tGeneration time: 0.162 sec\n",
      "\tLog probability: -0.5672 (avg -0.5339)\n",
      "\tKL: 2.1384 (avg 2.8643)\n",
      "\tLoss: 21.9515 (avg 29.1764)\n",
      "Lowest validation loss: 25.6961\n"
     ]
    },
    {
     "name": "stderr",
     "output_type": "stream",
     "text": [
      " 26%|██▋       | 10/38 [00:00<00:02, 10.43it/s]"
     ]
    },
    {
     "name": "stdout",
     "output_type": "stream",
     "text": [
      "Epoch: 32 (5/38)\n",
      "\tData load time: 0.165 sec\n",
      "\tGeneration time: 0.185 sec\n",
      "\tBackprop time: 0.205 sec\n",
      "\tLog probability: -0.4903 (avg -0.4938)\n",
      "\tKL: 2.0550 (avg 2.7851)\n",
      "\tLoss: 21.0402 (avg 28.3446)\n",
      "Epoch: 32 (10/38)\n",
      "\tData load time: 0.165 sec\n",
      "\tGeneration time: 0.185 sec\n",
      "\tBackprop time: 0.205 sec\n",
      "\tLog probability: -0.4809 (avg -0.4962)\n",
      "\tKL: 2.7352 (avg 2.9393)\n",
      "\tLoss: 27.8334 (avg 29.8892)\n"
     ]
    },
    {
     "name": "stderr",
     "output_type": "stream",
     "text": [
      " 50%|█████     | 19/38 [00:00<00:01, 16.84it/s]"
     ]
    },
    {
     "name": "stdout",
     "output_type": "stream",
     "text": [
      "Epoch: 32 (15/38)\n",
      "\tData load time: 0.165 sec\n",
      "\tGeneration time: 0.185 sec\n",
      "\tBackprop time: 0.205 sec\n",
      "\tLog probability: -0.4808 (avg -0.4985)\n",
      "\tKL: 2.1091 (avg 2.8466)\n",
      "\tLoss: 21.5718 (avg 28.9642)\n"
     ]
    },
    {
     "name": "stderr",
     "output_type": "stream",
     "text": [
      " 66%|██████▌   | 25/38 [00:01<00:00, 20.34it/s]"
     ]
    },
    {
     "name": "stdout",
     "output_type": "stream",
     "text": [
      "Epoch: 32 (20/38)\n",
      "\tData load time: 0.165 sec\n",
      "\tGeneration time: 0.185 sec\n",
      "\tBackprop time: 0.205 sec\n",
      "\tLog probability: -0.5947 (avg -0.5084)\n",
      "\tKL: 8.1299 (avg 3.2438)\n",
      "\tLoss: 81.8936 (avg 32.9468)\n",
      "Epoch: 32 (25/38)\n",
      "\tData load time: 0.165 sec\n",
      "\tGeneration time: 0.185 sec\n",
      "\tBackprop time: 0.205 sec\n",
      "\tLog probability: -0.4785 (avg -0.5071)\n",
      "\tKL: 3.1389 (avg 3.2350)\n",
      "\tLoss: 31.8674 (avg 32.8569)\n"
     ]
    },
    {
     "name": "stderr",
     "output_type": "stream",
     "text": [
      " 89%|████████▉ | 34/38 [00:01<00:00, 23.44it/s]"
     ]
    },
    {
     "name": "stdout",
     "output_type": "stream",
     "text": [
      "Epoch: 32 (30/38)\n",
      "\tData load time: 0.165 sec\n",
      "\tGeneration time: 0.185 sec\n",
      "\tBackprop time: 0.205 sec\n",
      "\tLog probability: -0.5176 (avg -0.5050)\n",
      "\tKL: 2.2178 (avg 3.2316)\n",
      "\tLoss: 22.6958 (avg 32.8214)\n",
      "Epoch: 32 (35/38)\n",
      "\tData load time: 0.165 sec\n",
      "\tGeneration time: 0.185 sec\n",
      "\tBackprop time: 0.205 sec\n",
      "\tLog probability: -0.5246 (avg -0.5062)\n",
      "\tKL: 2.8899 (avg 3.3151)\n",
      "\tLoss: 29.4240 (avg 33.6572)\n"
     ]
    },
    {
     "name": "stderr",
     "output_type": "stream",
     "text": [
      "100%|██████████| 38/38 [00:01<00:00, 22.29it/s]\n",
      "100%|██████████| 10/10 [00:00<00:00, 23.75it/s]\n"
     ]
    },
    {
     "name": "stdout",
     "output_type": "stream",
     "text": [
      "Epoch: 32 (5/10)\n",
      "\tData load time: 0.209 sec\n",
      "\tGeneration time: 0.228 sec\n",
      "\tLog probability: -0.5679 (avg -0.5443)\n",
      "\tKL: 2.2493 (avg 2.3367)\n",
      "\tLoss: 23.0613 (avg 23.9116)\n",
      "Epoch: 32 (10/10)\n",
      "\tData load time: 0.209 sec\n",
      "\tGeneration time: 0.228 sec\n",
      "\tLog probability: -0.6064 (avg -0.5526)\n",
      "\tKL: 2.2280 (avg 2.4957)\n",
      "\tLoss: 22.8861 (avg 25.5099)\n",
      "Saving checkpoint..\n"
     ]
    },
    {
     "name": "stderr",
     "output_type": "stream",
     "text": [
      "  0%|          | 0/38 [00:00<?, ?it/s]"
     ]
    },
    {
     "name": "stdout",
     "output_type": "stream",
     "text": [
      "Lowest validation loss: 25.5099\n"
     ]
    },
    {
     "name": "stderr",
     "output_type": "stream",
     "text": [
      " 26%|██▋       | 10/38 [00:00<00:02, 10.64it/s]"
     ]
    },
    {
     "name": "stdout",
     "output_type": "stream",
     "text": [
      "Epoch: 33 (5/38)\n",
      "\tData load time: 0.167 sec\n",
      "\tGeneration time: 0.186 sec\n",
      "\tBackprop time: 0.201 sec\n",
      "\tLog probability: -0.5149 (avg -0.5038)\n",
      "\tKL: 2.4471 (avg 4.2385)\n",
      "\tLoss: 24.9864 (avg 42.8893)\n",
      "Epoch: 33 (10/38)\n",
      "\tData load time: 0.167 sec\n",
      "\tGeneration time: 0.186 sec\n",
      "\tBackprop time: 0.201 sec\n",
      "\tLog probability: -0.5011 (avg -0.5108)\n",
      "\tKL: 3.5719 (avg 3.9569)\n",
      "\tLoss: 36.2199 (avg 40.0793)\n"
     ]
    },
    {
     "name": "stderr",
     "output_type": "stream",
     "text": [
      " 50%|█████     | 19/38 [00:00<00:01, 17.19it/s]"
     ]
    },
    {
     "name": "stdout",
     "output_type": "stream",
     "text": [
      "Epoch: 33 (15/38)\n",
      "\tData load time: 0.167 sec\n",
      "\tGeneration time: 0.186 sec\n",
      "\tBackprop time: 0.201 sec\n",
      "\tLog probability: -0.5035 (avg -0.5048)\n",
      "\tKL: 2.8439 (avg 3.6927)\n",
      "\tLoss: 28.9427 (avg 37.4315)\n",
      "Epoch: 33 (20/38)\n",
      "\tData load time: 0.167 sec\n",
      "\tGeneration time: 0.186 sec\n",
      "\tBackprop time: 0.201 sec\n",
      "\tLog probability: -0.5108 (avg -0.5079)\n",
      "\tKL: 3.0080 (avg 5.1299)\n",
      "\tLoss: 30.5912 (avg 51.8071)\n"
     ]
    },
    {
     "name": "stderr",
     "output_type": "stream",
     "text": [
      " 74%|███████▎  | 28/38 [00:01<00:00, 21.82it/s]"
     ]
    },
    {
     "name": "stdout",
     "output_type": "stream",
     "text": [
      "Epoch: 33 (25/38)\n",
      "\tData load time: 0.167 sec\n",
      "\tGeneration time: 0.186 sec\n",
      "\tBackprop time: 0.201 sec\n",
      "\tLog probability: -0.4946 (avg -0.5038)\n",
      "\tKL: 2.3597 (avg 4.7595)\n",
      "\tLoss: 24.0912 (avg 48.0990)\n",
      "Epoch: 33 (30/38)\n",
      "\tData load time: 0.167 sec\n",
      "\tGeneration time: 0.186 sec\n",
      "\tBackprop time: 0.201 sec\n",
      "\tLog probability: -0.4978 (avg -0.5045)\n",
      "\tKL: 2.0941 (avg 4.7184)\n",
      "\tLoss: 21.4386 (avg 47.6888)\n"
     ]
    },
    {
     "name": "stderr",
     "output_type": "stream",
     "text": [
      "100%|██████████| 38/38 [00:01<00:00, 22.57it/s]\n",
      "  0%|          | 0/10 [00:00<?, ?it/s]"
     ]
    },
    {
     "name": "stdout",
     "output_type": "stream",
     "text": [
      "Epoch: 33 (35/38)\n",
      "\tData load time: 0.167 sec\n",
      "\tGeneration time: 0.186 sec\n",
      "\tBackprop time: 0.201 sec\n",
      "\tLog probability: -0.5625 (avg -0.5069)\n",
      "\tKL: 8.8962 (avg 4.6900)\n",
      "\tLoss: 89.5247 (avg 47.4067)\n"
     ]
    },
    {
     "name": "stderr",
     "output_type": "stream",
     "text": [
      "100%|██████████| 10/10 [00:00<00:00, 26.89it/s]\n"
     ]
    },
    {
     "name": "stdout",
     "output_type": "stream",
     "text": [
      "Epoch: 33 (5/10)\n",
      "\tData load time: 0.172 sec\n",
      "\tGeneration time: 0.190 sec\n",
      "\tLog probability: -0.5404 (avg -0.5470)\n",
      "\tKL: 2.3060 (avg 2.6883)\n",
      "\tLoss: 23.6009 (avg 27.4304)\n",
      "Epoch: 33 (10/10)\n",
      "\tData load time: 0.172 sec\n",
      "\tGeneration time: 0.190 sec\n",
      "\tLog probability: -0.5093 (avg -0.5425)\n",
      "\tKL: 2.3125 (avg 2.4818)\n",
      "\tLoss: 23.6338 (avg 25.3600)\n",
      "Saving checkpoint..\n"
     ]
    },
    {
     "name": "stderr",
     "output_type": "stream",
     "text": [
      "  0%|          | 0/38 [00:00<?, ?it/s]"
     ]
    },
    {
     "name": "stdout",
     "output_type": "stream",
     "text": [
      "Lowest validation loss: 25.3600\n"
     ]
    },
    {
     "name": "stderr",
     "output_type": "stream",
     "text": [
      " 26%|██▋       | 10/38 [00:00<00:02, 11.02it/s]"
     ]
    },
    {
     "name": "stdout",
     "output_type": "stream",
     "text": [
      "Epoch: 34 (5/38)\n",
      "\tData load time: 0.160 sec\n",
      "\tGeneration time: 0.178 sec\n",
      "\tBackprop time: 0.190 sec\n",
      "\tLog probability: -0.5037 (avg -0.5133)\n",
      "\tKL: 3.5217 (avg 3.9522)\n",
      "\tLoss: 35.7202 (avg 40.0349)\n",
      "Epoch: 34 (10/38)\n",
      "\tData load time: 0.160 sec\n",
      "\tGeneration time: 0.178 sec\n",
      "\tBackprop time: 0.190 sec\n",
      "\tLog probability: -0.4875 (avg -0.5152)\n",
      "\tKL: 2.8045 (avg 3.7963)\n",
      "\tLoss: 28.5324 (avg 38.4783)\n"
     ]
    },
    {
     "name": "stderr",
     "output_type": "stream",
     "text": [
      " 50%|█████     | 19/38 [00:00<00:01, 17.61it/s]"
     ]
    },
    {
     "name": "stdout",
     "output_type": "stream",
     "text": [
      "Epoch: 34 (15/38)\n",
      "\tData load time: 0.160 sec\n",
      "\tGeneration time: 0.178 sec\n",
      "\tBackprop time: 0.190 sec\n",
      "\tLog probability: -0.5500 (avg -0.5141)\n",
      "\tKL: 2.6982 (avg 4.2590)\n",
      "\tLoss: 27.5317 (avg 43.1042)\n",
      "Epoch: 34 (20/38)\n",
      "\tData load time: 0.160 sec\n",
      "\tGeneration time: 0.178 sec\n",
      "\tBackprop time: 0.190 sec\n",
      "\tLog probability: -0.4853 (avg -0.5099)\n",
      "\tKL: 4.3191 (avg 3.9735)\n",
      "\tLoss: 43.6767 (avg 40.2449)\n"
     ]
    },
    {
     "name": "stderr",
     "output_type": "stream",
     "text": [
      " 74%|███████▎  | 28/38 [00:01<00:00, 22.05it/s]"
     ]
    },
    {
     "name": "stdout",
     "output_type": "stream",
     "text": [
      "Epoch: 34 (25/38)\n",
      "\tData load time: 0.160 sec\n",
      "\tGeneration time: 0.178 sec\n",
      "\tBackprop time: 0.190 sec\n",
      "\tLog probability: -0.5161 (avg -0.5070)\n",
      "\tKL: 2.8020 (avg 3.8966)\n",
      "\tLoss: 28.5359 (avg 39.4731)\n",
      "Epoch: 34 (30/38)\n",
      "\tData load time: 0.160 sec\n",
      "\tGeneration time: 0.178 sec\n",
      "\tBackprop time: 0.190 sec\n",
      "\tLog probability: -0.4782 (avg -0.5049)\n",
      "\tKL: 2.3417 (avg 3.6968)\n",
      "\tLoss: 23.8955 (avg 37.4731)\n"
     ]
    },
    {
     "name": "stderr",
     "output_type": "stream",
     "text": [
      "100%|██████████| 38/38 [00:01<00:00, 22.76it/s]\n",
      "  0%|          | 0/10 [00:00<?, ?it/s]"
     ]
    },
    {
     "name": "stdout",
     "output_type": "stream",
     "text": [
      "Epoch: 34 (35/38)\n",
      "\tData load time: 0.160 sec\n",
      "\tGeneration time: 0.178 sec\n",
      "\tBackprop time: 0.190 sec\n",
      "\tLog probability: -0.4789 (avg -0.5028)\n",
      "\tKL: 2.2433 (avg 3.6038)\n",
      "\tLoss: 22.9121 (avg 36.5410)\n"
     ]
    },
    {
     "name": "stderr",
     "output_type": "stream",
     "text": [
      "100%|██████████| 10/10 [00:00<00:00, 28.57it/s]\n"
     ]
    },
    {
     "name": "stdout",
     "output_type": "stream",
     "text": [
      "Epoch: 34 (5/10)\n",
      "\tData load time: 0.152 sec\n",
      "\tGeneration time: 0.171 sec\n",
      "\tLog probability: -0.5491 (avg -0.5576)\n",
      "\tKL: 3.2822 (avg 2.5843)\n",
      "\tLoss: 33.3708 (avg 26.4007)\n",
      "Epoch: 34 (10/10)\n",
      "\tData load time: 0.152 sec\n",
      "\tGeneration time: 0.171 sec\n",
      "\tLog probability: -0.5496 (avg -0.5598)\n",
      "\tKL: 1.4026 (avg 2.3441)\n",
      "\tLoss: 14.5759 (avg 24.0003)\n",
      "Saving checkpoint..\n"
     ]
    },
    {
     "name": "stderr",
     "output_type": "stream",
     "text": [
      "  0%|          | 0/38 [00:00<?, ?it/s]"
     ]
    },
    {
     "name": "stdout",
     "output_type": "stream",
     "text": [
      "Lowest validation loss: 24.0003\n"
     ]
    },
    {
     "name": "stderr",
     "output_type": "stream",
     "text": [
      " 26%|██▋       | 10/38 [00:00<00:02, 11.32it/s]"
     ]
    },
    {
     "name": "stdout",
     "output_type": "stream",
     "text": [
      "Epoch: 35 (5/38)\n",
      "\tData load time: 0.149 sec\n",
      "\tGeneration time: 0.168 sec\n",
      "\tBackprop time: 0.184 sec\n",
      "\tLog probability: -0.5077 (avg -0.5040)\n",
      "\tKL: 2.9511 (avg 3.3982)\n",
      "\tLoss: 30.0185 (avg 34.4856)\n",
      "Epoch: 35 (10/38)\n",
      "\tData load time: 0.149 sec\n",
      "\tGeneration time: 0.168 sec\n",
      "\tBackprop time: 0.184 sec\n",
      "\tLog probability: -0.4945 (avg -0.4961)\n",
      "\tKL: 2.1654 (avg 2.9787)\n",
      "\tLoss: 22.1481 (avg 30.2826)\n"
     ]
    },
    {
     "name": "stderr",
     "output_type": "stream",
     "text": [
      " 50%|█████     | 19/38 [00:00<00:01, 17.82it/s]"
     ]
    },
    {
     "name": "stdout",
     "output_type": "stream",
     "text": [
      "Epoch: 35 (15/38)\n",
      "\tData load time: 0.149 sec\n",
      "\tGeneration time: 0.168 sec\n",
      "\tBackprop time: 0.184 sec\n",
      "\tLog probability: -0.5388 (avg -0.4951)\n",
      "\tKL: 2.6440 (avg 2.9421)\n",
      "\tLoss: 26.9791 (avg 29.9160)\n",
      "Epoch: 35 (20/38)\n",
      "\tData load time: 0.149 sec\n",
      "\tGeneration time: 0.168 sec\n",
      "\tBackprop time: 0.184 sec\n",
      "\tLog probability: -0.4950 (avg -0.4985)\n",
      "\tKL: 2.3694 (avg 2.8835)\n",
      "\tLoss: 24.1888 (avg 29.3330)\n"
     ]
    },
    {
     "name": "stderr",
     "output_type": "stream",
     "text": [
      " 74%|███████▎  | 28/38 [00:01<00:00, 22.19it/s]"
     ]
    },
    {
     "name": "stdout",
     "output_type": "stream",
     "text": [
      "Epoch: 35 (25/38)\n",
      "\tData load time: 0.149 sec\n",
      "\tGeneration time: 0.168 sec\n",
      "\tBackprop time: 0.184 sec\n",
      "\tLog probability: -0.5327 (avg -0.5003)\n",
      "\tKL: 2.5673 (avg 2.8637)\n",
      "\tLoss: 26.2059 (avg 29.1374)\n",
      "Epoch: 35 (30/38)\n",
      "\tData load time: 0.149 sec\n",
      "\tGeneration time: 0.168 sec\n",
      "\tBackprop time: 0.184 sec\n",
      "\tLog probability: -0.4780 (avg -0.4996)\n",
      "\tKL: 2.4351 (avg 3.1016)\n",
      "\tLoss: 24.8286 (avg 31.5152)\n"
     ]
    },
    {
     "name": "stderr",
     "output_type": "stream",
     "text": [
      "100%|██████████| 38/38 [00:01<00:00, 22.90it/s]\n",
      "  0%|          | 0/10 [00:00<?, ?it/s]"
     ]
    },
    {
     "name": "stdout",
     "output_type": "stream",
     "text": [
      "Epoch: 35 (35/38)\n",
      "\tData load time: 0.149 sec\n",
      "\tGeneration time: 0.168 sec\n",
      "\tBackprop time: 0.184 sec\n",
      "\tLog probability: -0.5035 (avg -0.5006)\n",
      "\tKL: 2.0670 (avg 3.3137)\n",
      "\tLoss: 21.1736 (avg 33.6374)\n"
     ]
    },
    {
     "name": "stderr",
     "output_type": "stream",
     "text": [
      "100%|██████████| 10/10 [00:00<00:00, 27.98it/s]\n",
      "  0%|          | 0/38 [00:00<?, ?it/s]"
     ]
    },
    {
     "name": "stdout",
     "output_type": "stream",
     "text": [
      "Epoch: 35 (5/10)\n",
      "\tData load time: 0.158 sec\n",
      "\tGeneration time: 0.177 sec\n",
      "\tLog probability: -0.5473 (avg -0.5729)\n",
      "\tKL: 2.3226 (avg 2.6344)\n",
      "\tLoss: 23.7737 (avg 26.9173)\n",
      "Epoch: 35 (10/10)\n",
      "\tData load time: 0.158 sec\n",
      "\tGeneration time: 0.177 sec\n",
      "\tLog probability: -0.6064 (avg -0.5779)\n",
      "\tKL: 3.6759 (avg 2.6552)\n",
      "\tLoss: 37.3653 (avg 27.1294)\n",
      "Lowest validation loss: 24.0003\n"
     ]
    },
    {
     "name": "stderr",
     "output_type": "stream",
     "text": [
      " 26%|██▋       | 10/38 [00:00<00:02, 11.36it/s]"
     ]
    },
    {
     "name": "stdout",
     "output_type": "stream",
     "text": [
      "Epoch: 36 (5/38)\n",
      "\tData load time: 0.151 sec\n",
      "\tGeneration time: 0.170 sec\n",
      "\tBackprop time: 0.183 sec\n",
      "\tLog probability: -0.5654 (avg -0.5120)\n",
      "\tKL: 3.8435 (avg 3.2827)\n",
      "\tLoss: 39.0007 (avg 33.3393)\n",
      "Epoch: 36 (10/38)\n",
      "\tData load time: 0.151 sec\n",
      "\tGeneration time: 0.170 sec\n",
      "\tBackprop time: 0.183 sec\n",
      "\tLog probability: -0.4658 (avg -0.5154)\n",
      "\tKL: 4.2260 (avg 3.5426)\n",
      "\tLoss: 42.7261 (avg 35.9412)\n"
     ]
    },
    {
     "name": "stderr",
     "output_type": "stream",
     "text": [
      " 50%|█████     | 19/38 [00:00<00:01, 17.84it/s]"
     ]
    },
    {
     "name": "stdout",
     "output_type": "stream",
     "text": [
      "Epoch: 36 (15/38)\n",
      "\tData load time: 0.151 sec\n",
      "\tGeneration time: 0.170 sec\n",
      "\tBackprop time: 0.183 sec\n",
      "\tLog probability: -0.5264 (avg -0.5122)\n",
      "\tKL: 3.6851 (avg 3.4422)\n",
      "\tLoss: 37.3778 (avg 34.9341)\n",
      "Epoch: 36 (20/38)\n",
      "\tData load time: 0.151 sec\n",
      "\tGeneration time: 0.170 sec\n",
      "\tBackprop time: 0.183 sec\n",
      "\tLog probability: -0.5005 (avg -0.5094)\n",
      "\tKL: 3.7491 (avg 3.4398)\n",
      "\tLoss: 37.9913 (avg 34.9077)\n"
     ]
    },
    {
     "name": "stderr",
     "output_type": "stream",
     "text": [
      " 74%|███████▎  | 28/38 [00:01<00:00, 22.10it/s]"
     ]
    },
    {
     "name": "stdout",
     "output_type": "stream",
     "text": [
      "Epoch: 36 (25/38)\n",
      "\tData load time: 0.151 sec\n",
      "\tGeneration time: 0.170 sec\n",
      "\tBackprop time: 0.183 sec\n",
      "\tLog probability: -0.4993 (avg -0.5088)\n",
      "\tKL: 2.5750 (avg 3.3491)\n",
      "\tLoss: 26.2496 (avg 34.0002)\n",
      "Epoch: 36 (30/38)\n",
      "\tData load time: 0.151 sec\n",
      "\tGeneration time: 0.170 sec\n",
      "\tBackprop time: 0.183 sec\n",
      "\tLog probability: -0.5552 (avg -0.5099)\n",
      "\tKL: 30.4990 (avg 4.1825)\n",
      "\tLoss: 305.5448 (avg 42.3353)\n"
     ]
    },
    {
     "name": "stderr",
     "output_type": "stream",
     "text": [
      "100%|██████████| 38/38 [00:01<00:00, 22.81it/s]\n",
      "  0%|          | 0/10 [00:00<?, ?it/s]"
     ]
    },
    {
     "name": "stdout",
     "output_type": "stream",
     "text": [
      "Epoch: 36 (35/38)\n",
      "\tData load time: 0.151 sec\n",
      "\tGeneration time: 0.170 sec\n",
      "\tBackprop time: 0.183 sec\n",
      "\tLog probability: -0.4821 (avg -0.5089)\n",
      "\tKL: 3.4491 (avg 4.1049)\n",
      "\tLoss: 34.9735 (avg 41.5579)\n"
     ]
    },
    {
     "name": "stderr",
     "output_type": "stream",
     "text": [
      "100%|██████████| 10/10 [00:00<00:00, 28.01it/s]\n",
      "  0%|          | 0/38 [00:00<?, ?it/s]"
     ]
    },
    {
     "name": "stdout",
     "output_type": "stream",
     "text": [
      "Epoch: 36 (5/10)\n",
      "\tData load time: 0.154 sec\n",
      "\tGeneration time: 0.172 sec\n",
      "\tLog probability: -0.5466 (avg -0.5264)\n",
      "\tKL: 2.5717 (avg 2.6145)\n",
      "\tLoss: 26.2641 (avg 26.6715)\n",
      "Epoch: 36 (10/10)\n",
      "\tData load time: 0.154 sec\n",
      "\tGeneration time: 0.172 sec\n",
      "\tLog probability: -0.4982 (avg -0.5210)\n",
      "\tKL: 21.1228 (avg 4.4460)\n",
      "\tLoss: 211.7260 (avg 44.9815)\n",
      "Lowest validation loss: 24.0003\n"
     ]
    },
    {
     "name": "stderr",
     "output_type": "stream",
     "text": [
      " 26%|██▋       | 10/38 [00:00<00:02, 11.29it/s]"
     ]
    },
    {
     "name": "stdout",
     "output_type": "stream",
     "text": [
      "Epoch: 37 (5/38)\n",
      "\tData load time: 0.151 sec\n",
      "\tGeneration time: 0.170 sec\n",
      "\tBackprop time: 0.184 sec\n",
      "\tLog probability: -0.4881 (avg -0.4898)\n",
      "\tKL: 2.2755 (avg 2.9470)\n",
      "\tLoss: 23.2433 (avg 29.9599)\n",
      "Epoch: 37 (10/38)\n",
      "\tData load time: 0.151 sec\n",
      "\tGeneration time: 0.170 sec\n",
      "\tBackprop time: 0.184 sec\n",
      "\tLog probability: -0.4786 (avg -0.4991)\n",
      "\tKL: 2.6178 (avg 3.2666)\n",
      "\tLoss: 26.6562 (avg 33.1651)\n"
     ]
    },
    {
     "name": "stderr",
     "output_type": "stream",
     "text": [
      " 50%|█████     | 19/38 [00:00<00:01, 17.77it/s]"
     ]
    },
    {
     "name": "stdout",
     "output_type": "stream",
     "text": [
      "Epoch: 37 (15/38)\n",
      "\tData load time: 0.151 sec\n",
      "\tGeneration time: 0.170 sec\n",
      "\tBackprop time: 0.184 sec\n",
      "\tLog probability: -0.4921 (avg -0.5027)\n",
      "\tKL: 2.2965 (avg 3.2293)\n",
      "\tLoss: 23.4573 (avg 32.7954)\n",
      "Epoch: 37 (20/38)\n",
      "\tData load time: 0.151 sec\n",
      "\tGeneration time: 0.170 sec\n",
      "\tBackprop time: 0.184 sec\n",
      "\tLog probability: -0.4894 (avg -0.5062)\n",
      "\tKL: 2.1368 (avg 3.6549)\n",
      "\tLoss: 21.8573 (avg 37.0550)\n"
     ]
    },
    {
     "name": "stderr",
     "output_type": "stream",
     "text": [
      " 74%|███████▎  | 28/38 [00:01<00:00, 22.07it/s]"
     ]
    },
    {
     "name": "stdout",
     "output_type": "stream",
     "text": [
      "Epoch: 37 (25/38)\n",
      "\tData load time: 0.151 sec\n",
      "\tGeneration time: 0.170 sec\n",
      "\tBackprop time: 0.184 sec\n",
      "\tLog probability: -0.4599 (avg -0.5009)\n",
      "\tKL: 7.3587 (avg 3.6810)\n",
      "\tLoss: 74.0467 (avg 37.3106)\n",
      "Epoch: 37 (30/38)\n",
      "\tData load time: 0.151 sec\n",
      "\tGeneration time: 0.170 sec\n",
      "\tBackprop time: 0.184 sec\n",
      "\tLog probability: -0.5238 (avg -0.5014)\n",
      "\tKL: 2.7119 (avg 3.5891)\n",
      "\tLoss: 27.6429 (avg 36.3927)\n"
     ]
    },
    {
     "name": "stderr",
     "output_type": "stream",
     "text": [
      "100%|██████████| 38/38 [00:01<00:00, 22.76it/s]\n",
      "  0%|          | 0/10 [00:00<?, ?it/s]"
     ]
    },
    {
     "name": "stdout",
     "output_type": "stream",
     "text": [
      "Epoch: 37 (35/38)\n",
      "\tData load time: 0.151 sec\n",
      "\tGeneration time: 0.170 sec\n",
      "\tBackprop time: 0.184 sec\n",
      "\tLog probability: -0.5036 (avg -0.5016)\n",
      "\tKL: 2.4134 (avg 3.4277)\n",
      "\tLoss: 24.6372 (avg 34.7786)\n"
     ]
    },
    {
     "name": "stderr",
     "output_type": "stream",
     "text": [
      "100%|██████████| 10/10 [00:00<00:00, 27.67it/s]\n",
      "  0%|          | 0/38 [00:00<?, ?it/s]"
     ]
    },
    {
     "name": "stdout",
     "output_type": "stream",
     "text": [
      "Epoch: 37 (5/10)\n",
      "\tData load time: 0.159 sec\n",
      "\tGeneration time: 0.176 sec\n",
      "\tLog probability: -0.5588 (avg -0.5537)\n",
      "\tKL: 2.1312 (avg 2.5346)\n",
      "\tLoss: 21.8707 (avg 25.8998)\n",
      "Epoch: 37 (10/10)\n",
      "\tData load time: 0.159 sec\n",
      "\tGeneration time: 0.176 sec\n",
      "\tLog probability: -0.6345 (avg -0.5736)\n",
      "\tKL: 2.3263 (avg 2.6314)\n",
      "\tLoss: 23.8972 (avg 26.8878)\n",
      "Lowest validation loss: 24.0003\n"
     ]
    },
    {
     "name": "stderr",
     "output_type": "stream",
     "text": [
      " 26%|██▋       | 10/38 [00:00<00:02, 10.89it/s]"
     ]
    },
    {
     "name": "stdout",
     "output_type": "stream",
     "text": [
      "Epoch: 38 (5/38)\n",
      "\tData load time: 0.155 sec\n",
      "\tGeneration time: 0.174 sec\n",
      "\tBackprop time: 0.194 sec\n",
      "\tLog probability: -0.5142 (avg -0.5015)\n",
      "\tKL: 2.6009 (avg 3.0536)\n",
      "\tLoss: 26.5228 (avg 31.0378)\n",
      "Epoch: 38 (10/38)\n",
      "\tData load time: 0.155 sec\n",
      "\tGeneration time: 0.174 sec\n",
      "\tBackprop time: 0.194 sec\n",
      "\tLog probability: -0.4930 (avg -0.4909)\n",
      "\tKL: 2.8269 (avg 3.1807)\n",
      "\tLoss: 28.7618 (avg 32.2980)\n"
     ]
    },
    {
     "name": "stderr",
     "output_type": "stream",
     "text": [
      " 50%|█████     | 19/38 [00:00<00:01, 17.43it/s]"
     ]
    },
    {
     "name": "stdout",
     "output_type": "stream",
     "text": [
      "Epoch: 38 (15/38)\n",
      "\tData load time: 0.155 sec\n",
      "\tGeneration time: 0.174 sec\n",
      "\tBackprop time: 0.194 sec\n",
      "\tLog probability: -0.5326 (avg -0.5026)\n",
      "\tKL: 11.7135 (avg 3.8290)\n",
      "\tLoss: 117.6678 (avg 38.7929)\n",
      "Epoch: 38 (20/38)\n",
      "\tData load time: 0.155 sec\n",
      "\tGeneration time: 0.174 sec\n",
      "\tBackprop time: 0.194 sec\n",
      "\tLog probability: -0.5179 (avg -0.5070)\n",
      "\tKL: 3.9231 (avg 3.7085)\n",
      "\tLoss: 39.7491 (avg 37.5921)\n"
     ]
    },
    {
     "name": "stderr",
     "output_type": "stream",
     "text": [
      " 74%|███████▎  | 28/38 [00:01<00:00, 21.92it/s]"
     ]
    },
    {
     "name": "stdout",
     "output_type": "stream",
     "text": [
      "Epoch: 38 (25/38)\n",
      "\tData load time: 0.155 sec\n",
      "\tGeneration time: 0.174 sec\n",
      "\tBackprop time: 0.194 sec\n",
      "\tLog probability: -0.4791 (avg -0.5018)\n",
      "\tKL: 4.3435 (avg 3.7018)\n",
      "\tLoss: 43.9145 (avg 37.5202)\n",
      "Epoch: 38 (30/38)\n",
      "\tData load time: 0.155 sec\n",
      "\tGeneration time: 0.174 sec\n",
      "\tBackprop time: 0.194 sec\n",
      "\tLog probability: -0.5128 (avg -0.5039)\n",
      "\tKL: 2.2290 (avg 3.5873)\n",
      "\tLoss: 22.8026 (avg 36.3765)\n"
     ]
    },
    {
     "name": "stderr",
     "output_type": "stream",
     "text": [
      "100%|██████████| 38/38 [00:01<00:00, 22.72it/s]\n",
      "  0%|          | 0/10 [00:00<?, ?it/s]"
     ]
    },
    {
     "name": "stdout",
     "output_type": "stream",
     "text": [
      "Epoch: 38 (35/38)\n",
      "\tData load time: 0.155 sec\n",
      "\tGeneration time: 0.174 sec\n",
      "\tBackprop time: 0.194 sec\n",
      "\tLog probability: -0.4995 (avg -0.5045)\n",
      "\tKL: 3.4783 (avg 3.4726)\n",
      "\tLoss: 35.2827 (avg 35.2306)\n"
     ]
    },
    {
     "name": "stderr",
     "output_type": "stream",
     "text": [
      "100%|██████████| 10/10 [00:00<00:00, 27.28it/s]\n",
      "  0%|          | 0/38 [00:00<?, ?it/s]"
     ]
    },
    {
     "name": "stdout",
     "output_type": "stream",
     "text": [
      "Epoch: 38 (5/10)\n",
      "\tData load time: 0.166 sec\n",
      "\tGeneration time: 0.183 sec\n",
      "\tLog probability: -0.5539 (avg -0.5512)\n",
      "\tKL: 1.5011 (avg 2.7792)\n",
      "\tLoss: 15.5650 (avg 28.3436)\n",
      "Epoch: 38 (10/10)\n",
      "\tData load time: 0.166 sec\n",
      "\tGeneration time: 0.183 sec\n",
      "\tLog probability: -0.5748 (avg -0.5472)\n",
      "\tKL: 6.7443 (avg 3.1488)\n",
      "\tLoss: 68.0173 (avg 32.0356)\n",
      "Lowest validation loss: 24.0003\n"
     ]
    },
    {
     "name": "stderr",
     "output_type": "stream",
     "text": [
      " 26%|██▋       | 10/38 [00:00<00:02, 11.02it/s]"
     ]
    },
    {
     "name": "stdout",
     "output_type": "stream",
     "text": [
      "Epoch: 39 (5/38)\n",
      "\tData load time: 0.158 sec\n",
      "\tGeneration time: 0.177 sec\n",
      "\tBackprop time: 0.191 sec\n",
      "\tLog probability: -0.5309 (avg -0.5151)\n",
      "\tKL: 3.4716 (avg 3.3157)\n",
      "\tLoss: 35.2467 (avg 33.6723)\n",
      "Epoch: 39 (10/38)\n",
      "\tData load time: 0.158 sec\n",
      "\tGeneration time: 0.177 sec\n",
      "\tBackprop time: 0.191 sec\n",
      "\tLog probability: -0.4738 (avg -0.5019)\n",
      "\tKL: 2.9876 (avg 3.0614)\n",
      "\tLoss: 30.3497 (avg 31.1158)\n"
     ]
    },
    {
     "name": "stderr",
     "output_type": "stream",
     "text": [
      " 50%|█████     | 19/38 [00:00<00:01, 17.52it/s]"
     ]
    },
    {
     "name": "stdout",
     "output_type": "stream",
     "text": [
      "Epoch: 39 (15/38)\n",
      "\tData load time: 0.158 sec\n",
      "\tGeneration time: 0.177 sec\n",
      "\tBackprop time: 0.191 sec\n",
      "\tLog probability: -0.5214 (avg -0.5016)\n",
      "\tKL: 4.4508 (avg 3.6089)\n",
      "\tLoss: 45.0296 (avg 36.5908)\n",
      "Epoch: 39 (20/38)\n",
      "\tData load time: 0.158 sec\n",
      "\tGeneration time: 0.177 sec\n",
      "\tBackprop time: 0.191 sec\n",
      "\tLog probability: -0.5049 (avg -0.5025)\n",
      "\tKL: 2.8486 (avg 3.4915)\n",
      "\tLoss: 28.9910 (avg 35.4170)\n"
     ]
    },
    {
     "name": "stderr",
     "output_type": "stream",
     "text": [
      " 74%|███████▎  | 28/38 [00:01<00:00, 21.93it/s]"
     ]
    },
    {
     "name": "stdout",
     "output_type": "stream",
     "text": [
      "Epoch: 39 (25/38)\n",
      "\tData load time: 0.158 sec\n",
      "\tGeneration time: 0.177 sec\n",
      "\tBackprop time: 0.191 sec\n",
      "\tLog probability: -0.5229 (avg -0.5026)\n",
      "\tKL: 2.6856 (avg 3.3447)\n",
      "\tLoss: 27.3791 (avg 33.9499)\n",
      "Epoch: 39 (30/38)\n",
      "\tData load time: 0.158 sec\n",
      "\tGeneration time: 0.177 sec\n",
      "\tBackprop time: 0.191 sec\n",
      "\tLog probability: -0.5120 (avg -0.5017)\n",
      "\tKL: 2.8782 (avg 3.3161)\n",
      "\tLoss: 29.2935 (avg 33.6625)\n"
     ]
    },
    {
     "name": "stderr",
     "output_type": "stream",
     "text": [
      "100%|██████████| 38/38 [00:01<00:00, 22.67it/s]\n",
      "  0%|          | 0/10 [00:00<?, ?it/s]"
     ]
    },
    {
     "name": "stdout",
     "output_type": "stream",
     "text": [
      "Epoch: 39 (35/38)\n",
      "\tData load time: 0.158 sec\n",
      "\tGeneration time: 0.177 sec\n",
      "\tBackprop time: 0.191 sec\n",
      "\tLog probability: -0.4923 (avg -0.5005)\n",
      "\tKL: 3.3969 (avg 3.2868)\n",
      "\tLoss: 34.4616 (avg 33.3681)\n"
     ]
    },
    {
     "name": "stderr",
     "output_type": "stream",
     "text": [
      "100%|██████████| 10/10 [00:00<00:00, 26.95it/s]\n",
      "  0%|          | 0/38 [00:00<?, ?it/s]"
     ]
    },
    {
     "name": "stdout",
     "output_type": "stream",
     "text": [
      "Epoch: 39 (5/10)\n",
      "\tData load time: 0.166 sec\n",
      "\tGeneration time: 0.184 sec\n",
      "\tLog probability: -0.5598 (avg -0.5407)\n",
      "\tKL: 4.1286 (avg 2.8907)\n",
      "\tLoss: 41.8458 (avg 29.4472)\n",
      "Epoch: 39 (10/10)\n",
      "\tData load time: 0.166 sec\n",
      "\tGeneration time: 0.184 sec\n",
      "\tLog probability: -0.5797 (avg -0.5449)\n",
      "\tKL: 12.6781 (avg 3.6444)\n",
      "\tLoss: 127.3606 (avg 36.9887)\n",
      "Lowest validation loss: 24.0003\n"
     ]
    },
    {
     "name": "stderr",
     "output_type": "stream",
     "text": [
      " 26%|██▋       | 10/38 [00:00<00:02, 10.99it/s]"
     ]
    },
    {
     "name": "stdout",
     "output_type": "stream",
     "text": [
      "Epoch: 40 (5/38)\n",
      "\tData load time: 0.154 sec\n",
      "\tGeneration time: 0.176 sec\n",
      "\tBackprop time: 0.192 sec\n",
      "\tLog probability: -0.4799 (avg -0.4982)\n",
      "\tKL: 2.6122 (avg 2.5678)\n",
      "\tLoss: 26.6020 (avg 26.1758)\n",
      "Epoch: 40 (10/38)\n",
      "\tData load time: 0.154 sec\n",
      "\tGeneration time: 0.176 sec\n",
      "\tBackprop time: 0.192 sec\n",
      "\tLog probability: -0.4975 (avg -0.4944)\n",
      "\tKL: 2.3050 (avg 2.4642)\n",
      "\tLoss: 23.5477 (avg 25.1367)\n"
     ]
    },
    {
     "name": "stderr",
     "output_type": "stream",
     "text": [
      " 50%|█████     | 19/38 [00:00<00:01, 17.51it/s]"
     ]
    },
    {
     "name": "stdout",
     "output_type": "stream",
     "text": [
      "Epoch: 40 (15/38)\n",
      "\tData load time: 0.154 sec\n",
      "\tGeneration time: 0.176 sec\n",
      "\tBackprop time: 0.192 sec\n",
      "\tLog probability: -0.5118 (avg -0.4996)\n",
      "\tKL: 3.7628 (avg 2.6736)\n",
      "\tLoss: 38.1399 (avg 27.2358)\n",
      "Epoch: 40 (20/38)\n",
      "\tData load time: 0.154 sec\n",
      "\tGeneration time: 0.176 sec\n",
      "\tBackprop time: 0.192 sec\n",
      "\tLog probability: -0.4915 (avg -0.5008)\n",
      "\tKL: 2.3805 (avg 2.8428)\n",
      "\tLoss: 24.2965 (avg 28.9293)\n"
     ]
    },
    {
     "name": "stderr",
     "output_type": "stream",
     "text": [
      " 74%|███████▎  | 28/38 [00:01<00:00, 22.02it/s]"
     ]
    },
    {
     "name": "stdout",
     "output_type": "stream",
     "text": [
      "Epoch: 40 (25/38)\n",
      "\tData load time: 0.154 sec\n",
      "\tGeneration time: 0.176 sec\n",
      "\tBackprop time: 0.192 sec\n",
      "\tLog probability: -0.5494 (avg -0.5043)\n",
      "\tKL: 7.1680 (avg 3.0300)\n",
      "\tLoss: 72.2294 (avg 30.8043)\n",
      "Epoch: 40 (30/38)\n",
      "\tData load time: 0.154 sec\n",
      "\tGeneration time: 0.176 sec\n",
      "\tBackprop time: 0.192 sec\n",
      "\tLog probability: -0.4840 (avg -0.5011)\n",
      "\tKL: 2.9855 (avg 3.1470)\n",
      "\tLoss: 30.3394 (avg 31.9711)\n"
     ]
    },
    {
     "name": "stderr",
     "output_type": "stream",
     "text": [
      "100%|██████████| 38/38 [00:01<00:00, 22.77it/s]\n",
      "  0%|          | 0/10 [00:00<?, ?it/s]"
     ]
    },
    {
     "name": "stdout",
     "output_type": "stream",
     "text": [
      "Epoch: 40 (35/38)\n",
      "\tData load time: 0.154 sec\n",
      "\tGeneration time: 0.176 sec\n",
      "\tBackprop time: 0.192 sec\n",
      "\tLog probability: -0.4809 (avg -0.5028)\n",
      "\tKL: 2.3471 (avg 3.1857)\n",
      "\tLoss: 23.9517 (avg 32.3598)\n"
     ]
    },
    {
     "name": "stderr",
     "output_type": "stream",
     "text": [
      "100%|██████████| 10/10 [00:00<00:00, 28.97it/s]\n",
      "  0%|          | 0/38 [00:00<?, ?it/s]"
     ]
    },
    {
     "name": "stdout",
     "output_type": "stream",
     "text": [
      "Epoch: 40 (5/10)\n",
      "\tData load time: 0.145 sec\n",
      "\tGeneration time: 0.163 sec\n",
      "\tLog probability: -0.5320 (avg -0.5453)\n",
      "\tKL: 2.8130 (avg 2.5419)\n",
      "\tLoss: 28.6620 (avg 25.9642)\n",
      "Epoch: 40 (10/10)\n",
      "\tData load time: 0.145 sec\n",
      "\tGeneration time: 0.163 sec\n",
      "\tLog probability: -0.5106 (avg -0.5428)\n",
      "\tKL: 2.2747 (avg 2.5250)\n",
      "\tLoss: 23.2572 (avg 25.7933)\n",
      "Lowest validation loss: 24.0003\n"
     ]
    },
    {
     "name": "stderr",
     "output_type": "stream",
     "text": [
      " 26%|██▋       | 10/38 [00:00<00:02, 10.66it/s]"
     ]
    },
    {
     "name": "stdout",
     "output_type": "stream",
     "text": [
      "Epoch: 41 (5/38)\n",
      "\tData load time: 0.166 sec\n",
      "\tGeneration time: 0.185 sec\n",
      "\tBackprop time: 0.199 sec\n",
      "\tLog probability: -0.5469 (avg -0.5041)\n",
      "\tKL: 3.7655 (avg 2.8266)\n",
      "\tLoss: 38.2020 (avg 28.7701)\n",
      "Epoch: 41 (10/38)\n",
      "\tData load time: 0.166 sec\n",
      "\tGeneration time: 0.185 sec\n",
      "\tBackprop time: 0.199 sec\n",
      "\tLog probability: -0.4914 (avg -0.5043)\n",
      "\tKL: 2.6085 (avg 3.3707)\n",
      "\tLoss: 26.5760 (avg 34.2109)\n"
     ]
    },
    {
     "name": "stderr",
     "output_type": "stream",
     "text": [
      " 50%|█████     | 19/38 [00:00<00:01, 17.23it/s]"
     ]
    },
    {
     "name": "stdout",
     "output_type": "stream",
     "text": [
      "Epoch: 41 (15/38)\n",
      "\tData load time: 0.166 sec\n",
      "\tGeneration time: 0.185 sec\n",
      "\tBackprop time: 0.199 sec\n",
      "\tLog probability: -0.4837 (avg -0.5019)\n",
      "\tKL: 2.3078 (avg 3.1872)\n",
      "\tLoss: 23.5622 (avg 32.3739)\n",
      "Epoch: 41 (20/38)\n",
      "\tData load time: 0.166 sec\n",
      "\tGeneration time: 0.185 sec\n",
      "\tBackprop time: 0.199 sec\n",
      "\tLog probability: -0.4974 (avg -0.5050)\n",
      "\tKL: 5.4334 (avg 3.2797)\n",
      "\tLoss: 54.8315 (avg 33.3023)\n"
     ]
    },
    {
     "name": "stderr",
     "output_type": "stream",
     "text": [
      " 74%|███████▎  | 28/38 [00:01<00:00, 21.71it/s]"
     ]
    },
    {
     "name": "stdout",
     "output_type": "stream",
     "text": [
      "Epoch: 41 (25/38)\n",
      "\tData load time: 0.166 sec\n",
      "\tGeneration time: 0.185 sec\n",
      "\tBackprop time: 0.199 sec\n",
      "\tLog probability: -0.4996 (avg -0.5042)\n",
      "\tKL: 1.9875 (avg 3.5019)\n",
      "\tLoss: 20.3748 (avg 35.5228)\n",
      "Epoch: 41 (30/38)\n",
      "\tData load time: 0.166 sec\n",
      "\tGeneration time: 0.185 sec\n",
      "\tBackprop time: 0.199 sec\n",
      "\tLog probability: -0.6039 (avg -0.5065)\n",
      "\tKL: 6.9318 (avg 3.5367)\n",
      "\tLoss: 69.9217 (avg 35.8732)\n"
     ]
    },
    {
     "name": "stderr",
     "output_type": "stream",
     "text": [
      "100%|██████████| 38/38 [00:01<00:00, 22.56it/s]\n",
      "  0%|          | 0/10 [00:00<?, ?it/s]"
     ]
    },
    {
     "name": "stdout",
     "output_type": "stream",
     "text": [
      "Epoch: 41 (35/38)\n",
      "\tData load time: 0.166 sec\n",
      "\tGeneration time: 0.185 sec\n",
      "\tBackprop time: 0.199 sec\n",
      "\tLog probability: -0.4908 (avg -0.5050)\n",
      "\tKL: 2.6218 (avg 3.4797)\n",
      "\tLoss: 26.7090 (avg 35.3016)\n"
     ]
    },
    {
     "name": "stderr",
     "output_type": "stream",
     "text": [
      "100%|██████████| 10/10 [00:00<00:00, 28.03it/s]\n",
      "  0%|          | 0/38 [00:00<?, ?it/s]"
     ]
    },
    {
     "name": "stdout",
     "output_type": "stream",
     "text": [
      "Epoch: 41 (5/10)\n",
      "\tData load time: 0.153 sec\n",
      "\tGeneration time: 0.171 sec\n",
      "\tLog probability: -0.5958 (avg -0.5830)\n",
      "\tKL: 3.0925 (avg 2.2986)\n",
      "\tLoss: 31.5203 (avg 23.5692)\n",
      "Epoch: 41 (10/10)\n",
      "\tData load time: 0.153 sec\n",
      "\tGeneration time: 0.171 sec\n",
      "\tLog probability: -0.6549 (avg -0.5766)\n",
      "\tKL: 2.6280 (avg 2.6487)\n",
      "\tLoss: 26.9350 (avg 27.0639)\n",
      "Lowest validation loss: 24.0003\n"
     ]
    },
    {
     "name": "stderr",
     "output_type": "stream",
     "text": [
      " 26%|██▋       | 10/38 [00:00<00:02, 10.73it/s]"
     ]
    },
    {
     "name": "stdout",
     "output_type": "stream",
     "text": [
      "Epoch: 42 (5/38)\n",
      "\tData load time: 0.165 sec\n",
      "\tGeneration time: 0.184 sec\n",
      "\tBackprop time: 0.198 sec\n",
      "\tLog probability: -0.5380 (avg -0.5231)\n",
      "\tKL: 4.4633 (avg 3.1725)\n",
      "\tLoss: 45.1713 (avg 32.2478)\n",
      "Epoch: 42 (10/38)\n",
      "\tData load time: 0.165 sec\n",
      "\tGeneration time: 0.184 sec\n",
      "\tBackprop time: 0.198 sec\n",
      "\tLog probability: -0.5491 (avg -0.5180)\n",
      "\tKL: 3.7152 (avg 3.0401)\n",
      "\tLoss: 37.7007 (avg 30.9194)\n"
     ]
    },
    {
     "name": "stderr",
     "output_type": "stream",
     "text": [
      " 50%|█████     | 19/38 [00:00<00:01, 17.31it/s]"
     ]
    },
    {
     "name": "stdout",
     "output_type": "stream",
     "text": [
      "Epoch: 42 (15/38)\n",
      "\tData load time: 0.165 sec\n",
      "\tGeneration time: 0.184 sec\n",
      "\tBackprop time: 0.198 sec\n",
      "\tLog probability: -0.4912 (avg -0.5091)\n",
      "\tKL: 2.7445 (avg 3.0433)\n",
      "\tLoss: 27.9366 (avg 30.9423)\n",
      "Epoch: 42 (20/38)\n",
      "\tData load time: 0.165 sec\n",
      "\tGeneration time: 0.184 sec\n",
      "\tBackprop time: 0.198 sec\n",
      "\tLog probability: -0.4743 (avg -0.5098)\n",
      "\tKL: 3.3832 (avg 3.0676)\n",
      "\tLoss: 34.3067 (avg 31.1862)\n"
     ]
    },
    {
     "name": "stderr",
     "output_type": "stream",
     "text": [
      " 74%|███████▎  | 28/38 [00:01<00:00, 21.84it/s]"
     ]
    },
    {
     "name": "stdout",
     "output_type": "stream",
     "text": [
      "Epoch: 42 (25/38)\n",
      "\tData load time: 0.165 sec\n",
      "\tGeneration time: 0.184 sec\n",
      "\tBackprop time: 0.198 sec\n",
      "\tLog probability: -0.5465 (avg -0.5109)\n",
      "\tKL: 6.9496 (avg 3.3883)\n",
      "\tLoss: 70.0426 (avg 34.3942)\n",
      "Epoch: 42 (30/38)\n",
      "\tData load time: 0.165 sec\n",
      "\tGeneration time: 0.184 sec\n",
      "\tBackprop time: 0.198 sec\n",
      "\tLog probability: -0.4907 (avg -0.5099)\n",
      "\tKL: 2.8869 (avg 3.2823)\n",
      "\tLoss: 29.3600 (avg 33.3324)\n"
     ]
    },
    {
     "name": "stderr",
     "output_type": "stream",
     "text": [
      "100%|██████████| 38/38 [00:01<00:00, 22.61it/s]\n",
      "  0%|          | 0/10 [00:00<?, ?it/s]"
     ]
    },
    {
     "name": "stdout",
     "output_type": "stream",
     "text": [
      "Epoch: 42 (35/38)\n",
      "\tData load time: 0.165 sec\n",
      "\tGeneration time: 0.184 sec\n",
      "\tBackprop time: 0.198 sec\n",
      "\tLog probability: -0.4796 (avg -0.5053)\n",
      "\tKL: 2.6218 (avg 3.1926)\n",
      "\tLoss: 26.6979 (avg 32.4318)\n"
     ]
    },
    {
     "name": "stderr",
     "output_type": "stream",
     "text": [
      "100%|██████████| 10/10 [00:00<00:00, 27.10it/s]\n",
      "  0%|          | 0/38 [00:00<?, ?it/s]"
     ]
    },
    {
     "name": "stdout",
     "output_type": "stream",
     "text": [
      "Epoch: 42 (5/10)\n",
      "\tData load time: 0.163 sec\n",
      "\tGeneration time: 0.183 sec\n",
      "\tLog probability: -0.5664 (avg -0.5635)\n",
      "\tKL: 3.0123 (avg 2.6776)\n",
      "\tLoss: 30.6895 (avg 27.3399)\n",
      "Epoch: 42 (10/10)\n",
      "\tData load time: 0.163 sec\n",
      "\tGeneration time: 0.183 sec\n",
      "\tLog probability: -0.5768 (avg -0.5588)\n",
      "\tKL: 1.9566 (avg 2.5014)\n",
      "\tLoss: 20.1426 (avg 25.5728)\n",
      "Lowest validation loss: 24.0003\n"
     ]
    },
    {
     "name": "stderr",
     "output_type": "stream",
     "text": [
      " 26%|██▋       | 10/38 [00:00<00:02, 10.79it/s]"
     ]
    },
    {
     "name": "stdout",
     "output_type": "stream",
     "text": [
      "Epoch: 43 (5/38)\n",
      "\tData load time: 0.164 sec\n",
      "\tGeneration time: 0.182 sec\n",
      "\tBackprop time: 0.196 sec\n",
      "\tLog probability: -0.5455 (avg -0.4991)\n",
      "\tKL: 3.3705 (avg 2.9086)\n",
      "\tLoss: 34.2510 (avg 29.5851)\n",
      "Epoch: 43 (10/38)\n",
      "\tData load time: 0.164 sec\n",
      "\tGeneration time: 0.182 sec\n",
      "\tBackprop time: 0.196 sec\n",
      "\tLog probability: -0.4836 (avg -0.4982)\n",
      "\tKL: 1.9899 (avg 2.6481)\n",
      "\tLoss: 20.3828 (avg 26.9794)\n"
     ]
    },
    {
     "name": "stderr",
     "output_type": "stream",
     "text": [
      " 50%|█████     | 19/38 [00:00<00:01, 17.46it/s]"
     ]
    },
    {
     "name": "stdout",
     "output_type": "stream",
     "text": [
      "Epoch: 43 (15/38)\n",
      "\tData load time: 0.164 sec\n",
      "\tGeneration time: 0.182 sec\n",
      "\tBackprop time: 0.196 sec\n",
      "\tLog probability: -0.5118 (avg -0.5049)\n",
      "\tKL: 2.7778 (avg 3.0612)\n",
      "\tLoss: 28.2898 (avg 31.1166)\n",
      "Epoch: 43 (20/38)\n",
      "\tData load time: 0.164 sec\n",
      "\tGeneration time: 0.182 sec\n",
      "\tBackprop time: 0.196 sec\n",
      "\tLog probability: -0.4874 (avg -0.5031)\n",
      "\tKL: 3.1691 (avg 2.9911)\n",
      "\tLoss: 32.1788 (avg 30.4138)\n"
     ]
    },
    {
     "name": "stderr",
     "output_type": "stream",
     "text": [
      " 74%|███████▎  | 28/38 [00:01<00:00, 21.97it/s]"
     ]
    },
    {
     "name": "stdout",
     "output_type": "stream",
     "text": [
      "Epoch: 43 (25/38)\n",
      "\tData load time: 0.164 sec\n",
      "\tGeneration time: 0.182 sec\n",
      "\tBackprop time: 0.196 sec\n",
      "\tLog probability: -0.5010 (avg -0.5049)\n",
      "\tKL: 2.2534 (avg 3.0513)\n",
      "\tLoss: 23.0346 (avg 31.0179)\n",
      "Epoch: 43 (30/38)\n",
      "\tData load time: 0.164 sec\n",
      "\tGeneration time: 0.182 sec\n",
      "\tBackprop time: 0.196 sec\n",
      "\tLog probability: -0.4867 (avg -0.5064)\n",
      "\tKL: 2.0080 (avg 3.0235)\n",
      "\tLoss: 20.5669 (avg 30.7416)\n"
     ]
    },
    {
     "name": "stderr",
     "output_type": "stream",
     "text": [
      "100%|██████████| 38/38 [00:01<00:00, 22.70it/s]\n",
      "  0%|          | 0/10 [00:00<?, ?it/s]"
     ]
    },
    {
     "name": "stdout",
     "output_type": "stream",
     "text": [
      "Epoch: 43 (35/38)\n",
      "\tData load time: 0.164 sec\n",
      "\tGeneration time: 0.182 sec\n",
      "\tBackprop time: 0.196 sec\n",
      "\tLog probability: -0.5054 (avg -0.5047)\n",
      "\tKL: 2.6318 (avg 3.0325)\n",
      "\tLoss: 26.8231 (avg 30.8293)\n"
     ]
    },
    {
     "name": "stderr",
     "output_type": "stream",
     "text": [
      "100%|██████████| 10/10 [00:00<00:00, 28.39it/s]\n",
      "  0%|          | 0/38 [00:00<?, ?it/s]"
     ]
    },
    {
     "name": "stdout",
     "output_type": "stream",
     "text": [
      "Epoch: 43 (5/10)\n",
      "\tData load time: 0.149 sec\n",
      "\tGeneration time: 0.167 sec\n",
      "\tLog probability: -0.5435 (avg -0.5197)\n",
      "\tKL: 3.2648 (avg 2.6993)\n",
      "\tLoss: 33.1911 (avg 27.5125)\n",
      "Epoch: 43 (10/10)\n",
      "\tData load time: 0.149 sec\n",
      "\tGeneration time: 0.167 sec\n",
      "\tLog probability: -0.5500 (avg -0.5271)\n",
      "\tKL: 2.0603 (avg 2.8398)\n",
      "\tLoss: 21.1535 (avg 28.9256)\n",
      "Lowest validation loss: 24.0003\n"
     ]
    },
    {
     "name": "stderr",
     "output_type": "stream",
     "text": [
      " 26%|██▋       | 10/38 [00:00<00:02, 10.84it/s]"
     ]
    },
    {
     "name": "stdout",
     "output_type": "stream",
     "text": [
      "Epoch: 44 (5/38)\n",
      "\tData load time: 0.161 sec\n",
      "\tGeneration time: 0.180 sec\n",
      "\tBackprop time: 0.195 sec\n",
      "\tLog probability: -0.4874 (avg -0.4991)\n",
      "\tKL: 2.9033 (avg 3.1273)\n",
      "\tLoss: 29.5202 (avg 31.7721)\n",
      "Epoch: 44 (10/38)\n",
      "\tData load time: 0.161 sec\n",
      "\tGeneration time: 0.180 sec\n",
      "\tBackprop time: 0.195 sec\n",
      "\tLog probability: -0.4897 (avg -0.5072)\n",
      "\tKL: 3.7457 (avg 3.2546)\n",
      "\tLoss: 37.9465 (avg 33.0528)\n"
     ]
    },
    {
     "name": "stderr",
     "output_type": "stream",
     "text": [
      " 50%|█████     | 19/38 [00:00<00:01, 17.43it/s]"
     ]
    },
    {
     "name": "stdout",
     "output_type": "stream",
     "text": [
      "Epoch: 44 (15/38)\n",
      "\tData load time: 0.161 sec\n",
      "\tGeneration time: 0.180 sec\n",
      "\tBackprop time: 0.195 sec\n",
      "\tLog probability: -0.5151 (avg -0.5027)\n",
      "\tKL: 3.0078 (avg 3.0884)\n",
      "\tLoss: 30.5928 (avg 31.3868)\n",
      "Epoch: 44 (20/38)\n",
      "\tData load time: 0.161 sec\n",
      "\tGeneration time: 0.180 sec\n",
      "\tBackprop time: 0.195 sec\n",
      "\tLog probability: -0.5059 (avg -0.5035)\n",
      "\tKL: 2.9449 (avg 3.1242)\n",
      "\tLoss: 29.9549 (avg 31.7454)\n"
     ]
    },
    {
     "name": "stderr",
     "output_type": "stream",
     "text": [
      " 74%|███████▎  | 28/38 [00:01<00:00, 22.00it/s]"
     ]
    },
    {
     "name": "stdout",
     "output_type": "stream",
     "text": [
      "Epoch: 44 (25/38)\n",
      "\tData load time: 0.161 sec\n",
      "\tGeneration time: 0.180 sec\n",
      "\tBackprop time: 0.195 sec\n",
      "\tLog probability: -0.5512 (avg -0.5034)\n",
      "\tKL: 3.5378 (avg 3.1527)\n",
      "\tLoss: 35.9288 (avg 32.0309)\n",
      "Epoch: 44 (30/38)\n",
      "\tData load time: 0.161 sec\n",
      "\tGeneration time: 0.180 sec\n",
      "\tBackprop time: 0.195 sec\n",
      "\tLog probability: -0.5020 (avg -0.5033)\n",
      "\tKL: 2.6356 (avg 3.2311)\n",
      "\tLoss: 26.8577 (avg 32.8145)\n"
     ]
    },
    {
     "name": "stderr",
     "output_type": "stream",
     "text": [
      "100%|██████████| 38/38 [00:01<00:00, 22.62it/s]\n",
      "  0%|          | 0/10 [00:00<?, ?it/s]"
     ]
    },
    {
     "name": "stdout",
     "output_type": "stream",
     "text": [
      "Epoch: 44 (35/38)\n",
      "\tData load time: 0.161 sec\n",
      "\tGeneration time: 0.180 sec\n",
      "\tBackprop time: 0.195 sec\n",
      "\tLog probability: -0.4821 (avg -0.5012)\n",
      "\tKL: 1.9814 (avg 3.2582)\n",
      "\tLoss: 20.2966 (avg 33.0829)\n"
     ]
    },
    {
     "name": "stderr",
     "output_type": "stream",
     "text": [
      "100%|██████████| 10/10 [00:00<00:00, 28.29it/s]\n",
      "  0%|          | 0/38 [00:00<?, ?it/s]"
     ]
    },
    {
     "name": "stdout",
     "output_type": "stream",
     "text": [
      "Epoch: 44 (5/10)\n",
      "\tData load time: 0.157 sec\n",
      "\tGeneration time: 0.176 sec\n",
      "\tLog probability: -0.5438 (avg -0.5401)\n",
      "\tKL: 2.7877 (avg 2.2683)\n",
      "\tLoss: 28.4206 (avg 23.2233)\n",
      "Epoch: 44 (10/10)\n",
      "\tData load time: 0.157 sec\n",
      "\tGeneration time: 0.176 sec\n",
      "\tLog probability: -0.5246 (avg -0.5396)\n",
      "\tKL: 2.2752 (avg 2.6119)\n",
      "\tLoss: 23.2764 (avg 26.6582)\n",
      "Lowest validation loss: 24.0003\n"
     ]
    },
    {
     "name": "stderr",
     "output_type": "stream",
     "text": [
      " 26%|██▋       | 10/38 [00:00<00:02, 11.47it/s]"
     ]
    },
    {
     "name": "stdout",
     "output_type": "stream",
     "text": [
      "Epoch: 45 (5/38)\n",
      "\tData load time: 0.149 sec\n",
      "\tGeneration time: 0.168 sec\n",
      "\tBackprop time: 0.180 sec\n",
      "\tLog probability: -0.4860 (avg -0.4803)\n",
      "\tKL: 2.4356 (avg 2.9183)\n",
      "\tLoss: 24.8422 (avg 29.6631)\n",
      "Epoch: 45 (10/38)\n",
      "\tData load time: 0.149 sec\n",
      "\tGeneration time: 0.168 sec\n",
      "\tBackprop time: 0.180 sec\n",
      "\tLog probability: -0.4822 (avg -0.4860)\n",
      "\tKL: 2.6717 (avg 2.7183)\n",
      "\tLoss: 27.1996 (avg 27.6695)\n"
     ]
    },
    {
     "name": "stderr",
     "output_type": "stream",
     "text": [
      " 50%|█████     | 19/38 [00:00<00:01, 18.00it/s]"
     ]
    },
    {
     "name": "stdout",
     "output_type": "stream",
     "text": [
      "Epoch: 45 (15/38)\n",
      "\tData load time: 0.149 sec\n",
      "\tGeneration time: 0.168 sec\n",
      "\tBackprop time: 0.180 sec\n",
      "\tLog probability: -0.5134 (avg -0.4940)\n",
      "\tKL: 3.3125 (avg 2.7834)\n",
      "\tLoss: 33.6383 (avg 28.3280)\n",
      "Epoch: 45 (20/38)\n",
      "\tData load time: 0.149 sec\n",
      "\tGeneration time: 0.168 sec\n",
      "\tBackprop time: 0.180 sec\n",
      "\tLog probability: -0.5101 (avg -0.4958)\n",
      "\tKL: 2.2928 (avg 2.7892)\n",
      "\tLoss: 23.4384 (avg 28.3875)\n"
     ]
    },
    {
     "name": "stderr",
     "output_type": "stream",
     "text": [
      " 74%|███████▎  | 28/38 [00:01<00:00, 22.26it/s]"
     ]
    },
    {
     "name": "stdout",
     "output_type": "stream",
     "text": [
      "Epoch: 45 (25/38)\n",
      "\tData load time: 0.149 sec\n",
      "\tGeneration time: 0.168 sec\n",
      "\tBackprop time: 0.180 sec\n",
      "\tLog probability: -0.4902 (avg -0.4977)\n",
      "\tKL: 4.4884 (avg 2.8855)\n",
      "\tLoss: 45.3739 (avg 29.3529)\n",
      "Epoch: 45 (30/38)\n",
      "\tData load time: 0.149 sec\n",
      "\tGeneration time: 0.168 sec\n",
      "\tBackprop time: 0.180 sec\n",
      "\tLog probability: -0.4787 (avg -0.4971)\n",
      "\tKL: 2.5795 (avg 2.8067)\n",
      "\tLoss: 26.2734 (avg 28.5641)\n"
     ]
    },
    {
     "name": "stderr",
     "output_type": "stream",
     "text": [
      "100%|██████████| 38/38 [00:01<00:00, 22.86it/s]\n",
      "  0%|          | 0/10 [00:00<?, ?it/s]"
     ]
    },
    {
     "name": "stdout",
     "output_type": "stream",
     "text": [
      "Epoch: 45 (35/38)\n",
      "\tData load time: 0.149 sec\n",
      "\tGeneration time: 0.168 sec\n",
      "\tBackprop time: 0.180 sec\n",
      "\tLog probability: -0.4883 (avg -0.4953)\n",
      "\tKL: 2.8284 (avg 2.8376)\n",
      "\tLoss: 28.7724 (avg 28.8708)\n"
     ]
    },
    {
     "name": "stderr",
     "output_type": "stream",
     "text": [
      "100%|██████████| 10/10 [00:00<00:00, 27.96it/s]\n",
      "  0%|          | 0/38 [00:00<?, ?it/s]"
     ]
    },
    {
     "name": "stdout",
     "output_type": "stream",
     "text": [
      "Epoch: 45 (5/10)\n",
      "\tData load time: 0.151 sec\n",
      "\tGeneration time: 0.170 sec\n",
      "\tLog probability: -0.5211 (avg -0.5481)\n",
      "\tKL: 2.3419 (avg 2.2227)\n",
      "\tLoss: 23.9400 (avg 22.7752)\n",
      "Epoch: 45 (10/10)\n",
      "\tData load time: 0.151 sec\n",
      "\tGeneration time: 0.170 sec\n",
      "\tLog probability: -0.5667 (avg -0.5500)\n",
      "\tKL: 2.4310 (avg 2.5192)\n",
      "\tLoss: 24.8766 (avg 25.7421)\n",
      "Lowest validation loss: 24.0003\n"
     ]
    },
    {
     "name": "stderr",
     "output_type": "stream",
     "text": [
      " 26%|██▋       | 10/38 [00:00<00:02, 11.39it/s]"
     ]
    },
    {
     "name": "stdout",
     "output_type": "stream",
     "text": [
      "Epoch: 46 (5/38)\n",
      "\tData load time: 0.151 sec\n",
      "\tGeneration time: 0.170 sec\n",
      "\tBackprop time: 0.183 sec\n",
      "\tLog probability: -0.5011 (avg -0.5060)\n",
      "\tKL: 2.7695 (avg 2.8416)\n",
      "\tLoss: 28.1963 (avg 28.9216)\n",
      "Epoch: 46 (10/38)\n",
      "\tData load time: 0.151 sec\n",
      "\tGeneration time: 0.170 sec\n",
      "\tBackprop time: 0.183 sec\n",
      "\tLog probability: -0.5249 (avg -0.5055)\n",
      "\tKL: 2.4437 (avg 2.9079)\n",
      "\tLoss: 24.9614 (avg 29.5841)\n"
     ]
    },
    {
     "name": "stderr",
     "output_type": "stream",
     "text": [
      " 50%|█████     | 19/38 [00:00<00:01, 17.90it/s]"
     ]
    },
    {
     "name": "stdout",
     "output_type": "stream",
     "text": [
      "Epoch: 46 (15/38)\n",
      "\tData load time: 0.151 sec\n",
      "\tGeneration time: 0.170 sec\n",
      "\tBackprop time: 0.183 sec\n",
      "\tLog probability: -0.4944 (avg -0.5014)\n",
      "\tKL: 2.3145 (avg 2.8196)\n",
      "\tLoss: 23.6397 (avg 28.6973)\n",
      "Epoch: 46 (20/38)\n",
      "\tData load time: 0.151 sec\n",
      "\tGeneration time: 0.170 sec\n",
      "\tBackprop time: 0.183 sec\n",
      "\tLog probability: -0.5180 (avg -0.5006)\n",
      "\tKL: 2.6704 (avg 3.5691)\n",
      "\tLoss: 27.2222 (avg 36.1920)\n"
     ]
    },
    {
     "name": "stderr",
     "output_type": "stream",
     "text": [
      " 74%|███████▎  | 28/38 [00:01<00:00, 22.21it/s]"
     ]
    },
    {
     "name": "stdout",
     "output_type": "stream",
     "text": [
      "Epoch: 46 (25/38)\n",
      "\tData load time: 0.151 sec\n",
      "\tGeneration time: 0.170 sec\n",
      "\tBackprop time: 0.183 sec\n",
      "\tLog probability: -0.4867 (avg -0.5009)\n",
      "\tKL: 3.0696 (avg 3.4007)\n",
      "\tLoss: 31.1828 (avg 34.5079)\n",
      "Epoch: 46 (30/38)\n",
      "\tData load time: 0.151 sec\n",
      "\tGeneration time: 0.170 sec\n",
      "\tBackprop time: 0.183 sec\n",
      "\tLog probability: -0.5019 (avg -0.4991)\n",
      "\tKL: 2.2340 (avg 3.2376)\n",
      "\tLoss: 22.8419 (avg 32.8749)\n"
     ]
    },
    {
     "name": "stderr",
     "output_type": "stream",
     "text": [
      "100%|██████████| 38/38 [00:01<00:00, 22.81it/s]\n",
      "  0%|          | 0/10 [00:00<?, ?it/s]"
     ]
    },
    {
     "name": "stdout",
     "output_type": "stream",
     "text": [
      "Epoch: 46 (35/38)\n",
      "\tData load time: 0.151 sec\n",
      "\tGeneration time: 0.170 sec\n",
      "\tBackprop time: 0.183 sec\n",
      "\tLog probability: -0.4765 (avg -0.4973)\n",
      "\tKL: 2.4503 (avg 3.1686)\n",
      "\tLoss: 24.9791 (avg 32.1834)\n"
     ]
    },
    {
     "name": "stderr",
     "output_type": "stream",
     "text": [
      "100%|██████████| 10/10 [00:00<00:00, 28.53it/s]\n",
      "  0%|          | 0/38 [00:00<?, ?it/s]"
     ]
    },
    {
     "name": "stdout",
     "output_type": "stream",
     "text": [
      "Epoch: 46 (5/10)\n",
      "\tData load time: 0.151 sec\n",
      "\tGeneration time: 0.169 sec\n",
      "\tLog probability: -0.5208 (avg -0.5286)\n",
      "\tKL: 2.0666 (avg 2.4579)\n",
      "\tLoss: 21.1864 (avg 25.1078)\n",
      "Epoch: 46 (10/10)\n",
      "\tData load time: 0.151 sec\n",
      "\tGeneration time: 0.169 sec\n",
      "\tLog probability: -0.4589 (avg -0.5206)\n",
      "\tKL: 2.0012 (avg 2.3501)\n",
      "\tLoss: 20.4705 (avg 24.0217)\n",
      "Lowest validation loss: 24.0003\n"
     ]
    },
    {
     "name": "stderr",
     "output_type": "stream",
     "text": [
      " 26%|██▋       | 10/38 [00:00<00:02, 11.15it/s]"
     ]
    },
    {
     "name": "stdout",
     "output_type": "stream",
     "text": [
      "Epoch: 47 (5/38)\n",
      "\tData load time: 0.156 sec\n",
      "\tGeneration time: 0.174 sec\n",
      "\tBackprop time: 0.188 sec\n",
      "\tLog probability: -0.5135 (avg -0.5036)\n",
      "\tKL: 2.3300 (avg 2.7489)\n",
      "\tLoss: 23.8137 (avg 27.9923)\n",
      "Epoch: 47 (10/38)\n",
      "\tData load time: 0.156 sec\n",
      "\tGeneration time: 0.174 sec\n",
      "\tBackprop time: 0.188 sec\n",
      "\tLog probability: -0.4937 (avg -0.5037)\n",
      "\tKL: 3.2692 (avg 3.6285)\n",
      "\tLoss: 33.1859 (avg 36.7891)\n"
     ]
    },
    {
     "name": "stderr",
     "output_type": "stream",
     "text": [
      " 50%|█████     | 19/38 [00:00<00:01, 17.74it/s]"
     ]
    },
    {
     "name": "stdout",
     "output_type": "stream",
     "text": [
      "Epoch: 47 (15/38)\n",
      "\tData load time: 0.156 sec\n",
      "\tGeneration time: 0.174 sec\n",
      "\tBackprop time: 0.188 sec\n",
      "\tLog probability: -0.5476 (avg -0.5073)\n",
      "\tKL: 2.3837 (avg 3.2945)\n",
      "\tLoss: 24.3843 (avg 33.4523)\n",
      "Epoch: 47 (20/38)\n",
      "\tData load time: 0.156 sec\n",
      "\tGeneration time: 0.174 sec\n",
      "\tBackprop time: 0.188 sec\n",
      "\tLog probability: -0.5069 (avg -0.5054)\n",
      "\tKL: 6.0882 (avg 3.6794)\n",
      "\tLoss: 61.3892 (avg 37.2991)\n"
     ]
    },
    {
     "name": "stderr",
     "output_type": "stream",
     "text": [
      " 74%|███████▎  | 28/38 [00:01<00:00, 22.12it/s]"
     ]
    },
    {
     "name": "stdout",
     "output_type": "stream",
     "text": [
      "Epoch: 47 (25/38)\n",
      "\tData load time: 0.156 sec\n",
      "\tGeneration time: 0.174 sec\n",
      "\tBackprop time: 0.188 sec\n",
      "\tLog probability: -0.4864 (avg -0.5019)\n",
      "\tKL: 2.3310 (avg 3.4328)\n",
      "\tLoss: 23.7965 (avg 34.8303)\n",
      "Epoch: 47 (30/38)\n",
      "\tData load time: 0.156 sec\n",
      "\tGeneration time: 0.174 sec\n",
      "\tBackprop time: 0.188 sec\n",
      "\tLog probability: -0.4950 (avg -0.5043)\n",
      "\tKL: 2.3496 (avg 3.5504)\n",
      "\tLoss: 23.9905 (avg 36.0083)\n"
     ]
    },
    {
     "name": "stderr",
     "output_type": "stream",
     "text": [
      "100%|██████████| 38/38 [00:01<00:00, 22.76it/s]\n",
      "  0%|          | 0/10 [00:00<?, ?it/s]"
     ]
    },
    {
     "name": "stdout",
     "output_type": "stream",
     "text": [
      "Epoch: 47 (35/38)\n",
      "\tData load time: 0.156 sec\n",
      "\tGeneration time: 0.174 sec\n",
      "\tBackprop time: 0.188 sec\n",
      "\tLog probability: -0.5026 (avg -0.5029)\n",
      "\tKL: 2.3311 (avg 3.4235)\n",
      "\tLoss: 23.8139 (avg 34.7376)\n"
     ]
    },
    {
     "name": "stderr",
     "output_type": "stream",
     "text": [
      "100%|██████████| 10/10 [00:00<00:00, 27.17it/s]\n",
      "  0%|          | 0/38 [00:00<?, ?it/s]"
     ]
    },
    {
     "name": "stdout",
     "output_type": "stream",
     "text": [
      "Epoch: 47 (5/10)\n",
      "\tData load time: 0.170 sec\n",
      "\tGeneration time: 0.187 sec\n",
      "\tLog probability: -0.5031 (avg -0.5308)\n",
      "\tKL: 1.9774 (avg 2.5534)\n",
      "\tLoss: 20.2773 (avg 26.0646)\n",
      "Epoch: 47 (10/10)\n",
      "\tData load time: 0.170 sec\n",
      "\tGeneration time: 0.187 sec\n",
      "\tLog probability: -0.4949 (avg -0.5278)\n",
      "\tKL: 2.9480 (avg 2.5499)\n",
      "\tLoss: 29.9750 (avg 26.0272)\n",
      "Lowest validation loss: 24.0003\n"
     ]
    },
    {
     "name": "stderr",
     "output_type": "stream",
     "text": [
      " 26%|██▋       | 10/38 [00:00<00:02, 11.73it/s]"
     ]
    },
    {
     "name": "stdout",
     "output_type": "stream",
     "text": [
      "Epoch: 48 (5/38)\n",
      "\tData load time: 0.142 sec\n",
      "\tGeneration time: 0.161 sec\n",
      "\tBackprop time: 0.174 sec\n",
      "\tLog probability: -0.4910 (avg -0.4953)\n",
      "\tKL: 2.7177 (avg 3.7367)\n",
      "\tLoss: 27.6683 (avg 37.8620)\n",
      "Epoch: 48 (10/38)\n",
      "\tData load time: 0.142 sec\n",
      "\tGeneration time: 0.161 sec\n",
      "\tBackprop time: 0.174 sec\n",
      "\tLog probability: -0.4898 (avg -0.4947)\n",
      "\tKL: 2.4292 (avg 3.1648)\n",
      "\tLoss: 24.7821 (avg 32.1425)\n"
     ]
    },
    {
     "name": "stderr",
     "output_type": "stream",
     "text": [
      " 50%|█████     | 19/38 [00:00<00:01, 18.12it/s]"
     ]
    },
    {
     "name": "stdout",
     "output_type": "stream",
     "text": [
      "Epoch: 48 (15/38)\n",
      "\tData load time: 0.142 sec\n",
      "\tGeneration time: 0.161 sec\n",
      "\tBackprop time: 0.174 sec\n",
      "\tLog probability: -0.5261 (avg -0.5034)\n",
      "\tKL: 3.3420 (avg 3.1549)\n",
      "\tLoss: 33.9463 (avg 32.0523)\n",
      "Epoch: 48 (20/38)\n",
      "\tData load time: 0.142 sec\n",
      "\tGeneration time: 0.161 sec\n",
      "\tBackprop time: 0.174 sec\n",
      "\tLog probability: -0.5025 (avg -0.4997)\n",
      "\tKL: 2.3917 (avg 3.0332)\n",
      "\tLoss: 24.4191 (avg 30.8322)\n"
     ]
    },
    {
     "name": "stderr",
     "output_type": "stream",
     "text": [
      " 74%|███████▎  | 28/38 [00:01<00:00, 22.27it/s]"
     ]
    },
    {
     "name": "stdout",
     "output_type": "stream",
     "text": [
      "Epoch: 48 (25/38)\n",
      "\tData load time: 0.142 sec\n",
      "\tGeneration time: 0.161 sec\n",
      "\tBackprop time: 0.174 sec\n",
      "\tLog probability: -0.5101 (avg -0.5010)\n",
      "\tKL: 2.6745 (avg 3.0241)\n",
      "\tLoss: 27.2555 (avg 30.7425)\n",
      "Epoch: 48 (30/38)\n",
      "\tData load time: 0.142 sec\n",
      "\tGeneration time: 0.161 sec\n",
      "\tBackprop time: 0.174 sec\n",
      "\tLog probability: -0.4877 (avg -0.4997)\n",
      "\tKL: 2.4195 (avg 3.0766)\n",
      "\tLoss: 24.6823 (avg 31.2652)\n"
     ]
    },
    {
     "name": "stderr",
     "output_type": "stream",
     "text": [
      "100%|██████████| 38/38 [00:01<00:00, 22.85it/s]\n",
      "  0%|          | 0/10 [00:00<?, ?it/s]"
     ]
    },
    {
     "name": "stdout",
     "output_type": "stream",
     "text": [
      "Epoch: 48 (35/38)\n",
      "\tData load time: 0.142 sec\n",
      "\tGeneration time: 0.161 sec\n",
      "\tBackprop time: 0.174 sec\n",
      "\tLog probability: -0.4723 (avg -0.4990)\n",
      "\tKL: 3.5051 (avg 3.0322)\n",
      "\tLoss: 35.5231 (avg 30.8213)\n"
     ]
    },
    {
     "name": "stderr",
     "output_type": "stream",
     "text": [
      "100%|██████████| 10/10 [00:00<00:00, 27.89it/s]\n"
     ]
    },
    {
     "name": "stdout",
     "output_type": "stream",
     "text": [
      "Epoch: 48 (5/10)\n",
      "\tData load time: 0.154 sec\n",
      "\tGeneration time: 0.172 sec\n",
      "\tLog probability: -0.5917 (avg -0.5653)\n",
      "\tKL: 2.5555 (avg 2.3621)\n",
      "\tLoss: 26.1468 (avg 24.1861)\n",
      "Epoch: 48 (10/10)\n",
      "\tData load time: 0.154 sec\n",
      "\tGeneration time: 0.172 sec\n",
      "\tLog probability: -0.5486 (avg -0.5569)\n",
      "\tKL: 2.0697 (avg 2.3407)\n",
      "\tLoss: 21.2456 (avg 23.9642)\n",
      "Saving checkpoint..\n"
     ]
    },
    {
     "name": "stderr",
     "output_type": "stream",
     "text": [
      "  0%|          | 0/38 [00:00<?, ?it/s]"
     ]
    },
    {
     "name": "stdout",
     "output_type": "stream",
     "text": [
      "Lowest validation loss: 23.9642\n"
     ]
    },
    {
     "name": "stderr",
     "output_type": "stream",
     "text": [
      " 26%|██▋       | 10/38 [00:00<00:02, 10.90it/s]"
     ]
    },
    {
     "name": "stdout",
     "output_type": "stream",
     "text": [
      "Epoch: 49 (5/38)\n",
      "\tData load time: 0.162 sec\n",
      "\tGeneration time: 0.181 sec\n",
      "\tBackprop time: 0.194 sec\n",
      "\tLog probability: -0.4889 (avg -0.4936)\n",
      "\tKL: 3.1013 (avg 4.2844)\n",
      "\tLoss: 31.5018 (avg 43.3378)\n",
      "Epoch: 49 (10/38)\n",
      "\tData load time: 0.162 sec\n",
      "\tGeneration time: 0.181 sec\n",
      "\tBackprop time: 0.194 sec\n",
      "\tLog probability: -0.5035 (avg -0.4974)\n",
      "\tKL: 2.9580 (avg 3.4780)\n",
      "\tLoss: 30.0837 (avg 35.2771)\n"
     ]
    },
    {
     "name": "stderr",
     "output_type": "stream",
     "text": [
      " 50%|█████     | 19/38 [00:00<00:01, 17.48it/s]"
     ]
    },
    {
     "name": "stdout",
     "output_type": "stream",
     "text": [
      "Epoch: 49 (15/38)\n",
      "\tData load time: 0.162 sec\n",
      "\tGeneration time: 0.181 sec\n",
      "\tBackprop time: 0.194 sec\n",
      "\tLog probability: -0.4838 (avg -0.4965)\n",
      "\tKL: 4.0051 (avg 4.9188)\n",
      "\tLoss: 40.5350 (avg 49.6848)\n",
      "Epoch: 49 (20/38)\n",
      "\tData load time: 0.162 sec\n",
      "\tGeneration time: 0.181 sec\n",
      "\tBackprop time: 0.194 sec\n",
      "\tLog probability: -0.5191 (avg -0.4967)\n",
      "\tKL: 3.0125 (avg 4.3622)\n",
      "\tLoss: 30.6439 (avg 44.1190)\n"
     ]
    },
    {
     "name": "stderr",
     "output_type": "stream",
     "text": [
      " 74%|███████▎  | 28/38 [00:01<00:00, 21.87it/s]"
     ]
    },
    {
     "name": "stdout",
     "output_type": "stream",
     "text": [
      "Epoch: 49 (25/38)\n",
      "\tData load time: 0.162 sec\n",
      "\tGeneration time: 0.181 sec\n",
      "\tBackprop time: 0.194 sec\n",
      "\tLog probability: -0.4699 (avg -0.4995)\n",
      "\tKL: 2.8997 (avg 4.0891)\n",
      "\tLoss: 29.4671 (avg 41.3901)\n",
      "Epoch: 49 (30/38)\n",
      "\tData load time: 0.162 sec\n",
      "\tGeneration time: 0.181 sec\n",
      "\tBackprop time: 0.194 sec\n",
      "\tLog probability: -0.5305 (avg -0.5009)\n",
      "\tKL: 4.2491 (avg 3.9383)\n",
      "\tLoss: 43.0217 (avg 39.8836)\n"
     ]
    },
    {
     "name": "stderr",
     "output_type": "stream",
     "text": [
      "100%|██████████| 38/38 [00:01<00:00, 22.66it/s]\n",
      "  0%|          | 0/10 [00:00<?, ?it/s]"
     ]
    },
    {
     "name": "stdout",
     "output_type": "stream",
     "text": [
      "Epoch: 49 (35/38)\n",
      "\tData load time: 0.162 sec\n",
      "\tGeneration time: 0.181 sec\n",
      "\tBackprop time: 0.194 sec\n",
      "\tLog probability: -0.4599 (avg -0.4997)\n",
      "\tKL: 2.5167 (avg 3.7853)\n",
      "\tLoss: 25.6268 (avg 38.3525)\n"
     ]
    },
    {
     "name": "stderr",
     "output_type": "stream",
     "text": [
      "100%|██████████| 10/10 [00:00<00:00, 27.80it/s]\n",
      "  0%|          | 0/38 [00:00<?, ?it/s]"
     ]
    },
    {
     "name": "stdout",
     "output_type": "stream",
     "text": [
      "Epoch: 49 (5/10)\n",
      "\tData load time: 0.157 sec\n",
      "\tGeneration time: 0.175 sec\n",
      "\tLog probability: -0.5518 (avg -0.5347)\n",
      "\tKL: 1.9084 (avg 2.5560)\n",
      "\tLoss: 19.6357 (avg 26.0950)\n",
      "Epoch: 49 (10/10)\n",
      "\tData load time: 0.157 sec\n",
      "\tGeneration time: 0.175 sec\n",
      "\tLog probability: -0.4524 (avg -0.5232)\n",
      "\tKL: 1.9313 (avg 2.3884)\n",
      "\tLoss: 19.7659 (avg 24.4071)\n",
      "Lowest validation loss: 23.9642\n"
     ]
    },
    {
     "name": "stderr",
     "output_type": "stream",
     "text": [
      " 26%|██▋       | 10/38 [00:00<00:02, 10.69it/s]"
     ]
    },
    {
     "name": "stdout",
     "output_type": "stream",
     "text": [
      "Epoch: 50 (5/38)\n",
      "\tData load time: 0.168 sec\n",
      "\tGeneration time: 0.185 sec\n",
      "\tBackprop time: 0.198 sec\n",
      "\tLog probability: -0.4749 (avg -0.4932)\n",
      "\tKL: 5.3574 (avg 3.4771)\n",
      "\tLoss: 54.0486 (avg 35.2642)\n",
      "Epoch: 50 (10/38)\n",
      "\tData load time: 0.168 sec\n",
      "\tGeneration time: 0.185 sec\n",
      "\tBackprop time: 0.198 sec\n",
      "\tLog probability: -0.4759 (avg -0.4927)\n",
      "\tKL: 2.5011 (avg 3.0419)\n",
      "\tLoss: 25.4866 (avg 30.9117)\n"
     ]
    },
    {
     "name": "stderr",
     "output_type": "stream",
     "text": [
      " 50%|█████     | 19/38 [00:00<00:01, 17.30it/s]"
     ]
    },
    {
     "name": "stdout",
     "output_type": "stream",
     "text": [
      "Epoch: 50 (15/38)\n",
      "\tData load time: 0.168 sec\n",
      "\tGeneration time: 0.185 sec\n",
      "\tBackprop time: 0.198 sec\n",
      "\tLog probability: -0.4884 (avg -0.4954)\n",
      "\tKL: 3.0639 (avg 2.9545)\n",
      "\tLoss: 31.1275 (avg 30.0399)\n",
      "Epoch: 50 (20/38)\n",
      "\tData load time: 0.168 sec\n",
      "\tGeneration time: 0.185 sec\n",
      "\tBackprop time: 0.198 sec\n",
      "\tLog probability: -0.5302 (avg -0.4951)\n",
      "\tKL: 3.1439 (avg 3.1277)\n",
      "\tLoss: 31.9689 (avg 31.7719)\n"
     ]
    },
    {
     "name": "stderr",
     "output_type": "stream",
     "text": [
      " 74%|███████▎  | 28/38 [00:01<00:00, 21.86it/s]"
     ]
    },
    {
     "name": "stdout",
     "output_type": "stream",
     "text": [
      "Epoch: 50 (25/38)\n",
      "\tData load time: 0.168 sec\n",
      "\tGeneration time: 0.185 sec\n",
      "\tBackprop time: 0.198 sec\n",
      "\tLog probability: -0.5262 (avg -0.4991)\n",
      "\tKL: 2.7869 (avg 3.0206)\n",
      "\tLoss: 28.3948 (avg 30.7054)\n",
      "Epoch: 50 (30/38)\n",
      "\tData load time: 0.168 sec\n",
      "\tGeneration time: 0.185 sec\n",
      "\tBackprop time: 0.198 sec\n",
      "\tLog probability: -0.4696 (avg -0.5011)\n",
      "\tKL: 2.6105 (avg 3.1115)\n",
      "\tLoss: 26.5749 (avg 31.6160)\n"
     ]
    },
    {
     "name": "stderr",
     "output_type": "stream",
     "text": [
      "100%|██████████| 38/38 [00:01<00:00, 22.60it/s]\n",
      "  0%|          | 0/10 [00:00<?, ?it/s]"
     ]
    },
    {
     "name": "stdout",
     "output_type": "stream",
     "text": [
      "Epoch: 50 (35/38)\n",
      "\tData load time: 0.168 sec\n",
      "\tGeneration time: 0.185 sec\n",
      "\tBackprop time: 0.198 sec\n",
      "\tLog probability: -0.4860 (avg -0.4991)\n",
      "\tKL: 3.4554 (avg 3.1063)\n",
      "\tLoss: 35.0399 (avg 31.5622)\n"
     ]
    },
    {
     "name": "stderr",
     "output_type": "stream",
     "text": [
      "100%|██████████| 10/10 [00:00<00:00, 28.37it/s]\n",
      "  0%|          | 0/38 [00:00<?, ?it/s]"
     ]
    },
    {
     "name": "stdout",
     "output_type": "stream",
     "text": [
      "Epoch: 50 (5/10)\n",
      "\tData load time: 0.151 sec\n",
      "\tGeneration time: 0.168 sec\n",
      "\tLog probability: -0.5413 (avg -0.5425)\n",
      "\tKL: 2.8408 (avg 2.9569)\n",
      "\tLoss: 28.9494 (avg 30.1118)\n",
      "Epoch: 50 (10/10)\n",
      "\tData load time: 0.151 sec\n",
      "\tGeneration time: 0.168 sec\n",
      "\tLog probability: -0.5212 (avg -0.5393)\n",
      "\tKL: 2.7086 (avg 2.7895)\n",
      "\tLoss: 27.6070 (avg 28.4346)\n",
      "Lowest validation loss: 23.9642\n"
     ]
    },
    {
     "name": "stderr",
     "output_type": "stream",
     "text": [
      " 26%|██▋       | 10/38 [00:00<00:02, 10.81it/s]"
     ]
    },
    {
     "name": "stdout",
     "output_type": "stream",
     "text": [
      "Epoch: 51 (5/38)\n",
      "\tData load time: 0.163 sec\n",
      "\tGeneration time: 0.181 sec\n",
      "\tBackprop time: 0.195 sec\n",
      "\tLog probability: -0.4965 (avg -0.5000)\n",
      "\tKL: 2.1821 (avg 3.1755)\n",
      "\tLoss: 22.3179 (avg 32.2554)\n",
      "Epoch: 51 (10/38)\n",
      "\tData load time: 0.163 sec\n",
      "\tGeneration time: 0.181 sec\n",
      "\tBackprop time: 0.195 sec\n",
      "\tLog probability: -0.5604 (avg -0.5014)\n",
      "\tKL: 3.7624 (avg 2.9438)\n",
      "\tLoss: 38.1846 (avg 29.9394)\n"
     ]
    },
    {
     "name": "stderr",
     "output_type": "stream",
     "text": [
      " 50%|█████     | 19/38 [00:00<00:01, 17.37it/s]"
     ]
    },
    {
     "name": "stdout",
     "output_type": "stream",
     "text": [
      "Epoch: 51 (15/38)\n",
      "\tData load time: 0.163 sec\n",
      "\tGeneration time: 0.181 sec\n",
      "\tBackprop time: 0.195 sec\n",
      "\tLog probability: -0.4874 (avg -0.5035)\n",
      "\tKL: 12.0211 (avg 4.0309)\n",
      "\tLoss: 120.6986 (avg 40.8128)\n",
      "Epoch: 51 (20/38)\n",
      "\tData load time: 0.163 sec\n",
      "\tGeneration time: 0.181 sec\n",
      "\tBackprop time: 0.195 sec\n",
      "\tLog probability: -0.5156 (avg -0.5016)\n",
      "\tKL: 2.8705 (avg 3.9410)\n",
      "\tLoss: 29.2210 (avg 39.9112)\n"
     ]
    },
    {
     "name": "stderr",
     "output_type": "stream",
     "text": [
      " 74%|███████▎  | 28/38 [00:01<00:00, 21.91it/s]"
     ]
    },
    {
     "name": "stdout",
     "output_type": "stream",
     "text": [
      "Epoch: 51 (25/38)\n",
      "\tData load time: 0.163 sec\n",
      "\tGeneration time: 0.181 sec\n",
      "\tBackprop time: 0.195 sec\n",
      "\tLog probability: -0.5156 (avg -0.5033)\n",
      "\tKL: 2.7804 (avg 4.1028)\n",
      "\tLoss: 28.3198 (avg 41.5312)\n",
      "Epoch: 51 (30/38)\n",
      "\tData load time: 0.163 sec\n",
      "\tGeneration time: 0.181 sec\n",
      "\tBackprop time: 0.195 sec\n",
      "\tLog probability: -0.5277 (avg -0.5051)\n",
      "\tKL: 2.5841 (avg 3.9192)\n",
      "\tLoss: 26.3685 (avg 39.6971)\n"
     ]
    },
    {
     "name": "stderr",
     "output_type": "stream",
     "text": [
      "100%|██████████| 38/38 [00:01<00:00, 22.61it/s]\n",
      "  0%|          | 0/10 [00:00<?, ?it/s]"
     ]
    },
    {
     "name": "stdout",
     "output_type": "stream",
     "text": [
      "Epoch: 51 (35/38)\n",
      "\tData load time: 0.163 sec\n",
      "\tGeneration time: 0.181 sec\n",
      "\tBackprop time: 0.195 sec\n",
      "\tLog probability: -0.4994 (avg -0.5047)\n",
      "\tKL: 2.3568 (avg 3.7992)\n",
      "\tLoss: 24.0674 (avg 38.4967)\n"
     ]
    },
    {
     "name": "stderr",
     "output_type": "stream",
     "text": [
      "100%|██████████| 10/10 [00:00<00:00, 28.92it/s]\n",
      "  0%|          | 0/38 [00:00<?, ?it/s]"
     ]
    },
    {
     "name": "stdout",
     "output_type": "stream",
     "text": [
      "Epoch: 51 (5/10)\n",
      "\tData load time: 0.140 sec\n",
      "\tGeneration time: 0.158 sec\n",
      "\tLog probability: -0.5254 (avg -0.5248)\n",
      "\tKL: 3.4233 (avg 2.6704)\n",
      "\tLoss: 34.7580 (avg 27.2292)\n",
      "Epoch: 51 (10/10)\n",
      "\tData load time: 0.140 sec\n",
      "\tGeneration time: 0.158 sec\n",
      "\tLog probability: -0.5560 (avg -0.5289)\n",
      "\tKL: 2.3124 (avg 2.7567)\n",
      "\tLoss: 23.6805 (avg 28.0955)\n",
      "Lowest validation loss: 23.9642\n"
     ]
    },
    {
     "name": "stderr",
     "output_type": "stream",
     "text": [
      " 26%|██▋       | 10/38 [00:00<00:02, 10.57it/s]"
     ]
    },
    {
     "name": "stdout",
     "output_type": "stream",
     "text": [
      "Epoch: 52 (5/38)\n",
      "\tData load time: 0.170 sec\n",
      "\tGeneration time: 0.188 sec\n",
      "\tBackprop time: 0.202 sec\n",
      "\tLog probability: -0.5074 (avg -0.4993)\n",
      "\tKL: 2.6214 (avg 2.4658)\n",
      "\tLoss: 26.7212 (avg 25.1573)\n",
      "Epoch: 52 (10/38)\n",
      "\tData load time: 0.170 sec\n",
      "\tGeneration time: 0.188 sec\n",
      "\tBackprop time: 0.202 sec\n",
      "\tLog probability: -0.4897 (avg -0.4948)\n",
      "\tKL: 2.1344 (avg 2.6566)\n",
      "\tLoss: 21.8342 (avg 27.0606)\n"
     ]
    },
    {
     "name": "stderr",
     "output_type": "stream",
     "text": [
      " 50%|█████     | 19/38 [00:00<00:01, 17.09it/s]"
     ]
    },
    {
     "name": "stdout",
     "output_type": "stream",
     "text": [
      "Epoch: 52 (15/38)\n",
      "\tData load time: 0.170 sec\n",
      "\tGeneration time: 0.188 sec\n",
      "\tBackprop time: 0.202 sec\n",
      "\tLog probability: -0.4792 (avg -0.4912)\n",
      "\tKL: 2.9796 (avg 2.6998)\n",
      "\tLoss: 30.2755 (avg 27.4891)\n",
      "Epoch: 52 (20/38)\n",
      "\tData load time: 0.170 sec\n",
      "\tGeneration time: 0.188 sec\n",
      "\tBackprop time: 0.202 sec\n",
      "\tLog probability: -0.5041 (avg -0.4946)\n",
      "\tKL: 2.6571 (avg 2.8229)\n",
      "\tLoss: 27.0751 (avg 28.7234)\n"
     ]
    },
    {
     "name": "stderr",
     "output_type": "stream",
     "text": [
      " 74%|███████▎  | 28/38 [00:01<00:00, 21.79it/s]"
     ]
    },
    {
     "name": "stdout",
     "output_type": "stream",
     "text": [
      "Epoch: 52 (25/38)\n",
      "\tData load time: 0.170 sec\n",
      "\tGeneration time: 0.188 sec\n",
      "\tBackprop time: 0.202 sec\n",
      "\tLog probability: -0.5032 (avg -0.4977)\n",
      "\tKL: 2.4647 (avg 2.7817)\n",
      "\tLoss: 25.1498 (avg 28.3147)\n",
      "Epoch: 52 (30/38)\n",
      "\tData load time: 0.170 sec\n",
      "\tGeneration time: 0.188 sec\n",
      "\tBackprop time: 0.202 sec\n",
      "\tLog probability: -0.4685 (avg -0.4980)\n",
      "\tKL: 2.2281 (avg 2.7856)\n",
      "\tLoss: 22.7498 (avg 28.3539)\n"
     ]
    },
    {
     "name": "stderr",
     "output_type": "stream",
     "text": [
      "100%|██████████| 38/38 [00:01<00:00, 22.52it/s]\n",
      "  0%|          | 0/10 [00:00<?, ?it/s]"
     ]
    },
    {
     "name": "stdout",
     "output_type": "stream",
     "text": [
      "Epoch: 52 (35/38)\n",
      "\tData load time: 0.170 sec\n",
      "\tGeneration time: 0.188 sec\n",
      "\tBackprop time: 0.202 sec\n",
      "\tLog probability: -0.5047 (avg -0.4971)\n",
      "\tKL: 3.5756 (avg 2.8216)\n",
      "\tLoss: 36.2610 (avg 28.7128)\n"
     ]
    },
    {
     "name": "stderr",
     "output_type": "stream",
     "text": [
      "100%|██████████| 10/10 [00:00<00:00, 28.29it/s]\n",
      "  0%|          | 0/38 [00:00<?, ?it/s]"
     ]
    },
    {
     "name": "stdout",
     "output_type": "stream",
     "text": [
      "Epoch: 52 (5/10)\n",
      "\tData load time: 0.150 sec\n",
      "\tGeneration time: 0.170 sec\n",
      "\tLog probability: -0.5143 (avg -0.5249)\n",
      "\tKL: 2.1363 (avg 2.4499)\n",
      "\tLoss: 21.8776 (avg 25.0237)\n",
      "Epoch: 52 (10/10)\n",
      "\tData load time: 0.150 sec\n",
      "\tGeneration time: 0.170 sec\n",
      "\tLog probability: -0.4344 (avg -0.5152)\n",
      "\tKL: 6.2104 (avg 2.7082)\n",
      "\tLoss: 62.5386 (avg 27.5968)\n",
      "Lowest validation loss: 23.9642\n"
     ]
    },
    {
     "name": "stderr",
     "output_type": "stream",
     "text": [
      " 26%|██▋       | 10/38 [00:00<00:02, 11.14it/s]"
     ]
    },
    {
     "name": "stdout",
     "output_type": "stream",
     "text": [
      "Epoch: 53 (5/38)\n",
      "\tData load time: 0.154 sec\n",
      "\tGeneration time: 0.173 sec\n",
      "\tBackprop time: 0.187 sec\n",
      "\tLog probability: -0.5074 (avg -0.5069)\n",
      "\tKL: 23.7916 (avg 6.6477)\n",
      "\tLoss: 238.4230 (avg 66.9838)\n",
      "Epoch: 53 (10/38)\n",
      "\tData load time: 0.154 sec\n",
      "\tGeneration time: 0.173 sec\n",
      "\tBackprop time: 0.187 sec\n",
      "\tLog probability: -0.4912 (avg -0.4999)\n",
      "\tKL: 5.1695 (avg 5.0143)\n",
      "\tLoss: 52.1861 (avg 50.6432)\n"
     ]
    },
    {
     "name": "stderr",
     "output_type": "stream",
     "text": [
      " 50%|█████     | 19/38 [00:00<00:01, 17.66it/s]"
     ]
    },
    {
     "name": "stdout",
     "output_type": "stream",
     "text": [
      "Epoch: 53 (15/38)\n",
      "\tData load time: 0.154 sec\n",
      "\tGeneration time: 0.173 sec\n",
      "\tBackprop time: 0.187 sec\n",
      "\tLog probability: -0.4878 (avg -0.5039)\n",
      "\tKL: 2.4541 (avg 4.2717)\n",
      "\tLoss: 25.0288 (avg 43.2206)\n",
      "Epoch: 53 (20/38)\n",
      "\tData load time: 0.154 sec\n",
      "\tGeneration time: 0.173 sec\n",
      "\tBackprop time: 0.187 sec\n",
      "\tLog probability: -0.5044 (avg -0.5016)\n",
      "\tKL: 2.0369 (avg 4.7034)\n",
      "\tLoss: 20.8737 (avg 47.5356)\n"
     ]
    },
    {
     "name": "stderr",
     "output_type": "stream",
     "text": [
      " 74%|███████▎  | 28/38 [00:01<00:00, 22.03it/s]"
     ]
    },
    {
     "name": "stdout",
     "output_type": "stream",
     "text": [
      "Epoch: 53 (25/38)\n",
      "\tData load time: 0.154 sec\n",
      "\tGeneration time: 0.173 sec\n",
      "\tBackprop time: 0.187 sec\n",
      "\tLog probability: -0.4868 (avg -0.5028)\n",
      "\tKL: 2.0304 (avg 4.6499)\n",
      "\tLoss: 20.7903 (avg 47.0014)\n",
      "Epoch: 53 (30/38)\n",
      "\tData load time: 0.154 sec\n",
      "\tGeneration time: 0.173 sec\n",
      "\tBackprop time: 0.187 sec\n",
      "\tLog probability: -0.5176 (avg -0.5042)\n",
      "\tKL: 2.4556 (avg 4.3039)\n",
      "\tLoss: 25.0733 (avg 43.5427)\n"
     ]
    },
    {
     "name": "stderr",
     "output_type": "stream",
     "text": [
      "100%|██████████| 38/38 [00:01<00:00, 22.71it/s]\n",
      "  0%|          | 0/10 [00:00<?, ?it/s]"
     ]
    },
    {
     "name": "stdout",
     "output_type": "stream",
     "text": [
      "Epoch: 53 (35/38)\n",
      "\tData load time: 0.154 sec\n",
      "\tGeneration time: 0.173 sec\n",
      "\tBackprop time: 0.187 sec\n",
      "\tLog probability: -0.4804 (avg -0.5018)\n",
      "\tKL: 2.2695 (avg 4.1420)\n",
      "\tLoss: 23.1753 (avg 41.9215)\n"
     ]
    },
    {
     "name": "stderr",
     "output_type": "stream",
     "text": [
      "100%|██████████| 10/10 [00:00<00:00, 26.53it/s]\n",
      "  0%|          | 0/38 [00:00<?, ?it/s]"
     ]
    },
    {
     "name": "stdout",
     "output_type": "stream",
     "text": [
      "Epoch: 53 (5/10)\n",
      "\tData load time: 0.173 sec\n",
      "\tGeneration time: 0.192 sec\n",
      "\tLog probability: -0.5637 (avg -0.5518)\n",
      "\tKL: 2.0844 (avg 2.4747)\n",
      "\tLoss: 21.4078 (avg 25.2989)\n",
      "Epoch: 53 (10/10)\n",
      "\tData load time: 0.173 sec\n",
      "\tGeneration time: 0.192 sec\n",
      "\tLog probability: -0.5188 (avg -0.5510)\n",
      "\tKL: 3.0122 (avg 2.5281)\n",
      "\tLoss: 30.6410 (avg 25.8322)\n",
      "Lowest validation loss: 23.9642\n"
     ]
    },
    {
     "name": "stderr",
     "output_type": "stream",
     "text": [
      " 26%|██▋       | 10/38 [00:00<00:02, 10.68it/s]"
     ]
    },
    {
     "name": "stdout",
     "output_type": "stream",
     "text": [
      "Epoch: 54 (5/38)\n",
      "\tData load time: 0.167 sec\n",
      "\tGeneration time: 0.186 sec\n",
      "\tBackprop time: 0.200 sec\n",
      "\tLog probability: -0.4820 (avg -0.4968)\n",
      "\tKL: 2.3579 (avg 2.9736)\n",
      "\tLoss: 24.0609 (avg 30.2329)\n",
      "Epoch: 54 (10/38)\n",
      "\tData load time: 0.167 sec\n",
      "\tGeneration time: 0.186 sec\n",
      "\tBackprop time: 0.200 sec\n",
      "\tLog probability: -0.5299 (avg -0.4965)\n",
      "\tKL: 2.6094 (avg 2.8034)\n",
      "\tLoss: 26.6241 (avg 28.5301)\n"
     ]
    },
    {
     "name": "stderr",
     "output_type": "stream",
     "text": [
      " 50%|█████     | 19/38 [00:00<00:01, 17.26it/s]"
     ]
    },
    {
     "name": "stdout",
     "output_type": "stream",
     "text": [
      "Epoch: 54 (15/38)\n",
      "\tData load time: 0.167 sec\n",
      "\tGeneration time: 0.186 sec\n",
      "\tBackprop time: 0.200 sec\n",
      "\tLog probability: -0.4683 (avg -0.5005)\n",
      "\tKL: 2.3643 (avg 2.7272)\n",
      "\tLoss: 24.1111 (avg 27.7726)\n",
      "Epoch: 54 (20/38)\n",
      "\tData load time: 0.167 sec\n",
      "\tGeneration time: 0.186 sec\n",
      "\tBackprop time: 0.200 sec\n",
      "\tLog probability: -0.5210 (avg -0.5011)\n",
      "\tKL: 3.1613 (avg 2.9471)\n",
      "\tLoss: 32.1344 (avg 29.9717)\n"
     ]
    },
    {
     "name": "stderr",
     "output_type": "stream",
     "text": [
      " 74%|███████▎  | 28/38 [00:01<00:00, 21.91it/s]"
     ]
    },
    {
     "name": "stdout",
     "output_type": "stream",
     "text": [
      "Epoch: 54 (25/38)\n",
      "\tData load time: 0.167 sec\n",
      "\tGeneration time: 0.186 sec\n",
      "\tBackprop time: 0.200 sec\n",
      "\tLog probability: -0.4786 (avg -0.5009)\n",
      "\tKL: 1.9083 (avg 3.0257)\n",
      "\tLoss: 19.5617 (avg 30.7578)\n",
      "Epoch: 54 (30/38)\n",
      "\tData load time: 0.167 sec\n",
      "\tGeneration time: 0.186 sec\n",
      "\tBackprop time: 0.200 sec\n",
      "\tLog probability: -0.5142 (avg -0.4998)\n",
      "\tKL: 3.1270 (avg 3.5937)\n",
      "\tLoss: 31.7845 (avg 36.4372)\n"
     ]
    },
    {
     "name": "stderr",
     "output_type": "stream",
     "text": [
      "100%|██████████| 38/38 [00:01<00:00, 22.61it/s]\n",
      "  0%|          | 0/10 [00:00<?, ?it/s]"
     ]
    },
    {
     "name": "stdout",
     "output_type": "stream",
     "text": [
      "Epoch: 54 (35/38)\n",
      "\tData load time: 0.167 sec\n",
      "\tGeneration time: 0.186 sec\n",
      "\tBackprop time: 0.200 sec\n",
      "\tLog probability: -0.5006 (avg -0.4992)\n",
      "\tKL: 2.1982 (avg 3.5262)\n",
      "\tLoss: 22.4825 (avg 35.7610)\n"
     ]
    },
    {
     "name": "stderr",
     "output_type": "stream",
     "text": [
      "100%|██████████| 10/10 [00:00<00:00, 27.71it/s]\n",
      "  0%|          | 0/38 [00:00<?, ?it/s]"
     ]
    },
    {
     "name": "stdout",
     "output_type": "stream",
     "text": [
      "Epoch: 54 (5/10)\n",
      "\tData load time: 0.157 sec\n",
      "\tGeneration time: 0.176 sec\n",
      "\tLog probability: -0.5001 (avg -0.5315)\n",
      "\tKL: 2.3635 (avg 2.5553)\n",
      "\tLoss: 24.1350 (avg 26.0845)\n",
      "Epoch: 54 (10/10)\n",
      "\tData load time: 0.157 sec\n",
      "\tGeneration time: 0.176 sec\n",
      "\tLog probability: -0.5440 (avg -0.5382)\n",
      "\tKL: 3.2296 (avg 2.4148)\n",
      "\tLoss: 32.8403 (avg 24.6867)\n",
      "Lowest validation loss: 23.9642\n"
     ]
    },
    {
     "name": "stderr",
     "output_type": "stream",
     "text": [
      " 26%|██▋       | 10/38 [00:00<00:02, 11.27it/s]"
     ]
    },
    {
     "name": "stdout",
     "output_type": "stream",
     "text": [
      "Epoch: 55 (5/38)\n",
      "\tData load time: 0.154 sec\n",
      "\tGeneration time: 0.172 sec\n",
      "\tBackprop time: 0.185 sec\n",
      "\tLog probability: -0.4954 (avg -0.5044)\n",
      "\tKL: 3.8497 (avg 2.6693)\n",
      "\tLoss: 38.9921 (avg 27.1977)\n",
      "Epoch: 55 (10/38)\n",
      "\tData load time: 0.154 sec\n",
      "\tGeneration time: 0.172 sec\n",
      "\tBackprop time: 0.185 sec\n",
      "\tLog probability: -0.5269 (avg -0.5036)\n",
      "\tKL: 2.9377 (avg 2.8748)\n",
      "\tLoss: 29.9044 (avg 29.2514)\n"
     ]
    },
    {
     "name": "stderr",
     "output_type": "stream",
     "text": [
      " 50%|█████     | 19/38 [00:00<00:01, 17.72it/s]"
     ]
    },
    {
     "name": "stdout",
     "output_type": "stream",
     "text": [
      "Epoch: 55 (15/38)\n",
      "\tData load time: 0.154 sec\n",
      "\tGeneration time: 0.172 sec\n",
      "\tBackprop time: 0.185 sec\n",
      "\tLog probability: -0.4920 (avg -0.4999)\n",
      "\tKL: 2.0061 (avg 2.7733)\n",
      "\tLoss: 20.5531 (avg 28.2324)\n",
      "Epoch: 55 (20/38)\n",
      "\tData load time: 0.154 sec\n",
      "\tGeneration time: 0.172 sec\n",
      "\tBackprop time: 0.185 sec\n",
      "\tLog probability: -0.4634 (avg -0.4993)\n",
      "\tKL: 3.2223 (avg 2.7928)\n",
      "\tLoss: 32.6861 (avg 28.4276)\n"
     ]
    },
    {
     "name": "stderr",
     "output_type": "stream",
     "text": [
      " 74%|███████▎  | 28/38 [00:01<00:00, 22.14it/s]"
     ]
    },
    {
     "name": "stdout",
     "output_type": "stream",
     "text": [
      "Epoch: 55 (25/38)\n",
      "\tData load time: 0.154 sec\n",
      "\tGeneration time: 0.172 sec\n",
      "\tBackprop time: 0.185 sec\n",
      "\tLog probability: -0.5299 (avg -0.4981)\n",
      "\tKL: 2.4505 (avg 2.9502)\n",
      "\tLoss: 25.0347 (avg 30.0004)\n",
      "Epoch: 55 (30/38)\n",
      "\tData load time: 0.154 sec\n",
      "\tGeneration time: 0.172 sec\n",
      "\tBackprop time: 0.185 sec\n",
      "\tLog probability: -0.5282 (avg -0.4963)\n",
      "\tKL: 3.7093 (avg 2.9595)\n",
      "\tLoss: 37.6215 (avg 30.0910)\n"
     ]
    },
    {
     "name": "stderr",
     "output_type": "stream",
     "text": [
      "100%|██████████| 38/38 [00:01<00:00, 22.81it/s]\n",
      "  0%|          | 0/10 [00:00<?, ?it/s]"
     ]
    },
    {
     "name": "stdout",
     "output_type": "stream",
     "text": [
      "Epoch: 55 (35/38)\n",
      "\tData load time: 0.154 sec\n",
      "\tGeneration time: 0.172 sec\n",
      "\tBackprop time: 0.185 sec\n",
      "\tLog probability: -0.5109 (avg -0.4984)\n",
      "\tKL: 3.6300 (avg 2.9505)\n",
      "\tLoss: 36.8109 (avg 30.0030)\n"
     ]
    },
    {
     "name": "stderr",
     "output_type": "stream",
     "text": [
      "100%|██████████| 10/10 [00:00<00:00, 27.26it/s]\n",
      "  0%|          | 0/38 [00:00<?, ?it/s]"
     ]
    },
    {
     "name": "stdout",
     "output_type": "stream",
     "text": [
      "Epoch: 55 (5/10)\n",
      "\tData load time: 0.168 sec\n",
      "\tGeneration time: 0.186 sec\n",
      "\tLog probability: -0.5305 (avg -0.5500)\n",
      "\tKL: 3.0129 (avg 2.4167)\n",
      "\tLoss: 30.6591 (avg 24.7172)\n",
      "Epoch: 55 (10/10)\n",
      "\tData load time: 0.168 sec\n",
      "\tGeneration time: 0.186 sec\n",
      "\tLog probability: -0.5547 (avg -0.5577)\n",
      "\tKL: 1.9376 (avg 2.3410)\n",
      "\tLoss: 19.9311 (avg 23.9676)\n",
      "Lowest validation loss: 23.9642\n"
     ]
    },
    {
     "name": "stderr",
     "output_type": "stream",
     "text": [
      " 26%|██▋       | 10/38 [00:00<00:02, 11.38it/s]"
     ]
    },
    {
     "name": "stdout",
     "output_type": "stream",
     "text": [
      "Epoch: 56 (5/38)\n",
      "\tData load time: 0.148 sec\n",
      "\tGeneration time: 0.167 sec\n",
      "\tBackprop time: 0.182 sec\n",
      "\tLog probability: -0.4837 (avg -0.5014)\n",
      "\tKL: 3.1354 (avg 3.5588)\n",
      "\tLoss: 31.8376 (avg 36.0893)\n",
      "Epoch: 56 (10/38)\n",
      "\tData load time: 0.148 sec\n",
      "\tGeneration time: 0.167 sec\n",
      "\tBackprop time: 0.182 sec\n",
      "\tLog probability: -0.5002 (avg -0.4967)\n",
      "\tKL: 2.8049 (avg 3.2017)\n",
      "\tLoss: 28.5490 (avg 32.5134)\n"
     ]
    },
    {
     "name": "stderr",
     "output_type": "stream",
     "text": [
      " 50%|█████     | 19/38 [00:00<00:01, 17.97it/s]"
     ]
    },
    {
     "name": "stdout",
     "output_type": "stream",
     "text": [
      "Epoch: 56 (15/38)\n",
      "\tData load time: 0.148 sec\n",
      "\tGeneration time: 0.167 sec\n",
      "\tBackprop time: 0.182 sec\n",
      "\tLog probability: -0.5073 (avg -0.4982)\n",
      "\tKL: 2.3434 (avg 2.9994)\n",
      "\tLoss: 23.9417 (avg 30.4922)\n",
      "Epoch: 56 (20/38)\n",
      "\tData load time: 0.148 sec\n",
      "\tGeneration time: 0.167 sec\n",
      "\tBackprop time: 0.182 sec\n",
      "\tLog probability: -0.5196 (avg -0.4977)\n",
      "\tKL: 2.9628 (avg 2.9080)\n",
      "\tLoss: 30.1476 (avg 29.5779)\n"
     ]
    },
    {
     "name": "stderr",
     "output_type": "stream",
     "text": [
      " 74%|███████▎  | 28/38 [00:01<00:00, 22.20it/s]"
     ]
    },
    {
     "name": "stdout",
     "output_type": "stream",
     "text": [
      "Epoch: 56 (25/38)\n",
      "\tData load time: 0.148 sec\n",
      "\tGeneration time: 0.167 sec\n",
      "\tBackprop time: 0.182 sec\n",
      "\tLog probability: -0.4753 (avg -0.4953)\n",
      "\tKL: 2.5486 (avg 2.9406)\n",
      "\tLoss: 25.9612 (avg 29.9016)\n",
      "Epoch: 56 (30/38)\n",
      "\tData load time: 0.148 sec\n",
      "\tGeneration time: 0.167 sec\n",
      "\tBackprop time: 0.182 sec\n",
      "\tLog probability: -0.4981 (avg -0.4977)\n",
      "\tKL: 2.6307 (avg 3.1234)\n",
      "\tLoss: 26.8050 (avg 31.7319)\n"
     ]
    },
    {
     "name": "stderr",
     "output_type": "stream",
     "text": [
      "100%|██████████| 38/38 [00:01<00:00, 22.79it/s]\n",
      "  0%|          | 0/10 [00:00<?, ?it/s]"
     ]
    },
    {
     "name": "stdout",
     "output_type": "stream",
     "text": [
      "Epoch: 56 (35/38)\n",
      "\tData load time: 0.148 sec\n",
      "\tGeneration time: 0.167 sec\n",
      "\tBackprop time: 0.182 sec\n",
      "\tLog probability: -0.5281 (avg -0.4978)\n",
      "\tKL: 4.2963 (avg 3.4113)\n",
      "\tLoss: 43.4915 (avg 34.6106)\n"
     ]
    },
    {
     "name": "stderr",
     "output_type": "stream",
     "text": [
      "100%|██████████| 10/10 [00:00<00:00, 27.48it/s]\n",
      "  0%|          | 0/38 [00:00<?, ?it/s]"
     ]
    },
    {
     "name": "stdout",
     "output_type": "stream",
     "text": [
      "Epoch: 56 (5/10)\n",
      "\tData load time: 0.160 sec\n",
      "\tGeneration time: 0.179 sec\n",
      "\tLog probability: -0.5148 (avg -0.5163)\n",
      "\tKL: 2.1670 (avg 2.3441)\n",
      "\tLoss: 22.1844 (avg 23.9568)\n",
      "Epoch: 56 (10/10)\n",
      "\tData load time: 0.160 sec\n",
      "\tGeneration time: 0.179 sec\n",
      "\tLog probability: -0.4699 (avg -0.5144)\n",
      "\tKL: 2.5398 (avg 2.5017)\n",
      "\tLoss: 25.8681 (avg 25.5317)\n",
      "Lowest validation loss: 23.9642\n"
     ]
    },
    {
     "name": "stderr",
     "output_type": "stream",
     "text": [
      " 26%|██▋       | 10/38 [00:00<00:02, 11.25it/s]"
     ]
    },
    {
     "name": "stdout",
     "output_type": "stream",
     "text": [
      "Epoch: 57 (5/38)\n",
      "\tData load time: 0.154 sec\n",
      "\tGeneration time: 0.172 sec\n",
      "\tBackprop time: 0.185 sec\n",
      "\tLog probability: -0.5241 (avg -0.5065)\n",
      "\tKL: 2.1971 (avg 2.7065)\n",
      "\tLoss: 22.4949 (avg 27.5716)\n",
      "Epoch: 57 (10/38)\n",
      "\tData load time: 0.154 sec\n",
      "\tGeneration time: 0.172 sec\n",
      "\tBackprop time: 0.185 sec\n",
      "\tLog probability: -0.5535 (avg -0.5100)\n",
      "\tKL: 4.7659 (avg 7.1014)\n",
      "\tLoss: 48.2121 (avg 71.5243)\n"
     ]
    },
    {
     "name": "stderr",
     "output_type": "stream",
     "text": [
      " 50%|█████     | 19/38 [00:00<00:01, 17.71it/s]"
     ]
    },
    {
     "name": "stdout",
     "output_type": "stream",
     "text": [
      "Epoch: 57 (15/38)\n",
      "\tData load time: 0.154 sec\n",
      "\tGeneration time: 0.172 sec\n",
      "\tBackprop time: 0.185 sec\n",
      "\tLog probability: -0.4738 (avg -0.5023)\n",
      "\tKL: 2.8025 (avg 5.7000)\n",
      "\tLoss: 28.4987 (avg 57.5028)\n",
      "Epoch: 57 (20/38)\n",
      "\tData load time: 0.154 sec\n",
      "\tGeneration time: 0.172 sec\n",
      "\tBackprop time: 0.185 sec\n",
      "\tLog probability: -0.5061 (avg -0.4990)\n",
      "\tKL: 2.6618 (avg 4.9056)\n",
      "\tLoss: 27.1239 (avg 49.5555)\n"
     ]
    },
    {
     "name": "stderr",
     "output_type": "stream",
     "text": [
      " 74%|███████▎  | 28/38 [00:01<00:00, 22.09it/s]"
     ]
    },
    {
     "name": "stdout",
     "output_type": "stream",
     "text": [
      "Epoch: 57 (25/38)\n",
      "\tData load time: 0.154 sec\n",
      "\tGeneration time: 0.172 sec\n",
      "\tBackprop time: 0.185 sec\n",
      "\tLog probability: -0.5152 (avg -0.4984)\n",
      "\tKL: 2.6452 (avg 4.5484)\n",
      "\tLoss: 26.9674 (avg 45.9822)\n",
      "Epoch: 57 (30/38)\n",
      "\tData load time: 0.154 sec\n",
      "\tGeneration time: 0.172 sec\n",
      "\tBackprop time: 0.185 sec\n",
      "\tLog probability: -0.4889 (avg -0.4976)\n",
      "\tKL: 2.4332 (avg 4.2408)\n",
      "\tLoss: 24.8206 (avg 42.9054)\n"
     ]
    },
    {
     "name": "stderr",
     "output_type": "stream",
     "text": [
      "100%|██████████| 38/38 [00:01<00:00, 22.66it/s]\n",
      "  0%|          | 0/10 [00:00<?, ?it/s]"
     ]
    },
    {
     "name": "stdout",
     "output_type": "stream",
     "text": [
      "Epoch: 57 (35/38)\n",
      "\tData load time: 0.154 sec\n",
      "\tGeneration time: 0.172 sec\n",
      "\tBackprop time: 0.185 sec\n",
      "\tLog probability: -0.4948 (avg -0.4990)\n",
      "\tKL: 3.1121 (avg 4.5182)\n",
      "\tLoss: 31.6159 (avg 45.6812)\n"
     ]
    },
    {
     "name": "stderr",
     "output_type": "stream",
     "text": [
      "100%|██████████| 10/10 [00:00<00:00, 27.23it/s]\n",
      "  0%|          | 0/38 [00:00<?, ?it/s]"
     ]
    },
    {
     "name": "stdout",
     "output_type": "stream",
     "text": [
      "Epoch: 57 (5/10)\n",
      "\tData load time: 0.166 sec\n",
      "\tGeneration time: 0.184 sec\n",
      "\tLog probability: -0.5354 (avg -0.5471)\n",
      "\tKL: 1.5140 (avg 2.0485)\n",
      "\tLoss: 15.6754 (avg 21.0324)\n",
      "Epoch: 57 (10/10)\n",
      "\tData load time: 0.166 sec\n",
      "\tGeneration time: 0.184 sec\n",
      "\tLog probability: -0.4576 (avg -0.5299)\n",
      "\tKL: 1.8813 (avg 2.3704)\n",
      "\tLoss: 19.2701 (avg 24.2339)\n",
      "Lowest validation loss: 23.9642\n"
     ]
    },
    {
     "name": "stderr",
     "output_type": "stream",
     "text": [
      " 26%|██▋       | 10/38 [00:00<00:02, 10.79it/s]"
     ]
    },
    {
     "name": "stdout",
     "output_type": "stream",
     "text": [
      "Epoch: 58 (5/38)\n",
      "\tData load time: 0.165 sec\n",
      "\tGeneration time: 0.183 sec\n",
      "\tBackprop time: 0.196 sec\n",
      "\tLog probability: -0.5130 (avg -0.4987)\n",
      "\tKL: 2.6729 (avg 2.9257)\n",
      "\tLoss: 27.2424 (avg 29.7554)\n",
      "Epoch: 58 (10/38)\n",
      "\tData load time: 0.165 sec\n",
      "\tGeneration time: 0.183 sec\n",
      "\tBackprop time: 0.196 sec\n",
      "\tLog probability: -0.4929 (avg -0.4957)\n",
      "\tKL: 2.2787 (avg 2.9240)\n",
      "\tLoss: 23.2802 (avg 29.7360)\n"
     ]
    },
    {
     "name": "stderr",
     "output_type": "stream",
     "text": [
      " 50%|█████     | 19/38 [00:00<00:01, 17.31it/s]"
     ]
    },
    {
     "name": "stdout",
     "output_type": "stream",
     "text": [
      "Epoch: 58 (15/38)\n",
      "\tData load time: 0.165 sec\n",
      "\tGeneration time: 0.183 sec\n",
      "\tBackprop time: 0.196 sec\n",
      "\tLog probability: -0.4809 (avg -0.4980)\n",
      "\tKL: 2.2320 (avg 3.0115)\n",
      "\tLoss: 22.8007 (avg 30.6129)\n",
      "Epoch: 58 (20/38)\n",
      "\tData load time: 0.165 sec\n",
      "\tGeneration time: 0.183 sec\n",
      "\tBackprop time: 0.196 sec\n",
      "\tLog probability: -0.5354 (avg -0.5015)\n",
      "\tKL: 3.1232 (avg 3.0942)\n",
      "\tLoss: 31.7676 (avg 31.4431)\n"
     ]
    },
    {
     "name": "stderr",
     "output_type": "stream",
     "text": [
      " 74%|███████▎  | 28/38 [00:01<00:00, 21.91it/s]"
     ]
    },
    {
     "name": "stdout",
     "output_type": "stream",
     "text": [
      "Epoch: 58 (25/38)\n",
      "\tData load time: 0.165 sec\n",
      "\tGeneration time: 0.183 sec\n",
      "\tBackprop time: 0.196 sec\n",
      "\tLog probability: -0.4825 (avg -0.5012)\n",
      "\tKL: 3.0037 (avg 3.0560)\n",
      "\tLoss: 30.5198 (avg 31.0609)\n",
      "Epoch: 58 (30/38)\n",
      "\tData load time: 0.165 sec\n",
      "\tGeneration time: 0.183 sec\n",
      "\tBackprop time: 0.196 sec\n",
      "\tLog probability: -0.5027 (avg -0.5033)\n",
      "\tKL: 3.0306 (avg 3.0684)\n",
      "\tLoss: 30.8083 (avg 31.1875)\n"
     ]
    },
    {
     "name": "stderr",
     "output_type": "stream",
     "text": [
      "100%|██████████| 38/38 [00:01<00:00, 22.61it/s]\n",
      "  0%|          | 0/10 [00:00<?, ?it/s]"
     ]
    },
    {
     "name": "stdout",
     "output_type": "stream",
     "text": [
      "Epoch: 58 (35/38)\n",
      "\tData load time: 0.165 sec\n",
      "\tGeneration time: 0.183 sec\n",
      "\tBackprop time: 0.196 sec\n",
      "\tLog probability: -0.4834 (avg -0.5011)\n",
      "\tKL: 3.1134 (avg 3.0705)\n",
      "\tLoss: 31.6178 (avg 31.2061)\n"
     ]
    },
    {
     "name": "stderr",
     "output_type": "stream",
     "text": [
      "100%|██████████| 10/10 [00:00<00:00, 27.82it/s]\n",
      "  0%|          | 0/38 [00:00<?, ?it/s]"
     ]
    },
    {
     "name": "stdout",
     "output_type": "stream",
     "text": [
      "Epoch: 58 (5/10)\n",
      "\tData load time: 0.156 sec\n",
      "\tGeneration time: 0.174 sec\n",
      "\tLog probability: -0.5406 (avg -0.5334)\n",
      "\tKL: 3.8045 (avg 2.5639)\n",
      "\tLoss: 38.5855 (avg 26.1725)\n",
      "Epoch: 58 (10/10)\n",
      "\tData load time: 0.156 sec\n",
      "\tGeneration time: 0.174 sec\n",
      "\tLog probability: -0.4655 (avg -0.5247)\n",
      "\tKL: 1.7361 (avg 2.5602)\n",
      "\tLoss: 17.8264 (avg 26.1267)\n",
      "Lowest validation loss: 23.9642\n"
     ]
    },
    {
     "name": "stderr",
     "output_type": "stream",
     "text": [
      " 26%|██▋       | 10/38 [00:00<00:02, 11.10it/s]"
     ]
    },
    {
     "name": "stdout",
     "output_type": "stream",
     "text": [
      "Epoch: 59 (5/38)\n",
      "\tData load time: 0.156 sec\n",
      "\tGeneration time: 0.176 sec\n",
      "\tBackprop time: 0.189 sec\n",
      "\tLog probability: -0.4983 (avg -0.4911)\n",
      "\tKL: 2.4358 (avg 2.6380)\n",
      "\tLoss: 24.8566 (avg 26.8707)\n",
      "Epoch: 59 (10/38)\n",
      "\tData load time: 0.156 sec\n",
      "\tGeneration time: 0.176 sec\n",
      "\tBackprop time: 0.189 sec\n",
      "\tLog probability: -0.5265 (avg -0.4974)\n",
      "\tKL: 7.3323 (avg 3.2373)\n",
      "\tLoss: 73.8492 (avg 32.8707)\n"
     ]
    },
    {
     "name": "stderr",
     "output_type": "stream",
     "text": [
      " 50%|█████     | 19/38 [00:00<00:01, 17.63it/s]"
     ]
    },
    {
     "name": "stdout",
     "output_type": "stream",
     "text": [
      "Epoch: 59 (15/38)\n",
      "\tData load time: 0.156 sec\n",
      "\tGeneration time: 0.176 sec\n",
      "\tBackprop time: 0.189 sec\n",
      "\tLog probability: -0.4882 (avg -0.4993)\n",
      "\tKL: 2.8836 (avg 3.1374)\n",
      "\tLoss: 29.3238 (avg 31.8736)\n",
      "Epoch: 59 (20/38)\n",
      "\tData load time: 0.156 sec\n",
      "\tGeneration time: 0.176 sec\n",
      "\tBackprop time: 0.189 sec\n",
      "\tLog probability: -0.4954 (avg -0.5007)\n",
      "\tKL: 3.1239 (avg 3.2170)\n",
      "\tLoss: 31.7340 (avg 32.6707)\n"
     ]
    },
    {
     "name": "stderr",
     "output_type": "stream",
     "text": [
      " 74%|███████▎  | 28/38 [00:01<00:00, 22.04it/s]"
     ]
    },
    {
     "name": "stdout",
     "output_type": "stream",
     "text": [
      "Epoch: 59 (25/38)\n",
      "\tData load time: 0.156 sec\n",
      "\tGeneration time: 0.176 sec\n",
      "\tBackprop time: 0.189 sec\n",
      "\tLog probability: -0.4973 (avg -0.5024)\n",
      "\tKL: 3.6619 (avg 3.6107)\n",
      "\tLoss: 37.1162 (avg 36.6091)\n",
      "Epoch: 59 (30/38)\n",
      "\tData load time: 0.156 sec\n",
      "\tGeneration time: 0.176 sec\n",
      "\tBackprop time: 0.189 sec\n",
      "\tLog probability: -0.5069 (avg -0.5020)\n",
      "\tKL: 2.9079 (avg 3.4437)\n",
      "\tLoss: 29.5855 (avg 34.9394)\n"
     ]
    },
    {
     "name": "stderr",
     "output_type": "stream",
     "text": [
      "100%|██████████| 38/38 [00:01<00:00, 22.71it/s]\n",
      "  0%|          | 0/10 [00:00<?, ?it/s]"
     ]
    },
    {
     "name": "stdout",
     "output_type": "stream",
     "text": [
      "Epoch: 59 (35/38)\n",
      "\tData load time: 0.156 sec\n",
      "\tGeneration time: 0.176 sec\n",
      "\tBackprop time: 0.189 sec\n",
      "\tLog probability: -0.4899 (avg -0.5033)\n",
      "\tKL: 3.9292 (avg 3.3982)\n",
      "\tLoss: 39.7817 (avg 34.4854)\n"
     ]
    },
    {
     "name": "stderr",
     "output_type": "stream",
     "text": [
      "100%|██████████| 10/10 [00:00<00:00, 27.01it/s]\n",
      "  0%|          | 0/38 [00:00<?, ?it/s]"
     ]
    },
    {
     "name": "stdout",
     "output_type": "stream",
     "text": [
      "Epoch: 59 (5/10)\n",
      "\tData load time: 0.165 sec\n",
      "\tGeneration time: 0.184 sec\n",
      "\tLog probability: -0.6724 (avg -0.6523)\n",
      "\tKL: 1.9014 (avg 2.5099)\n",
      "\tLoss: 19.6864 (avg 25.7518)\n",
      "Epoch: 59 (10/10)\n",
      "\tData load time: 0.165 sec\n",
      "\tGeneration time: 0.184 sec\n",
      "\tLog probability: -0.5170 (avg -0.6487)\n",
      "\tKL: 2.3641 (avg 2.5596)\n",
      "\tLoss: 24.1579 (avg 26.2447)\n",
      "Lowest validation loss: 23.9642\n"
     ]
    },
    {
     "name": "stderr",
     "output_type": "stream",
     "text": [
      " 26%|██▋       | 10/38 [00:00<00:02, 10.96it/s]"
     ]
    },
    {
     "name": "stdout",
     "output_type": "stream",
     "text": [
      "Epoch: 60 (5/38)\n",
      "\tData load time: 0.156 sec\n",
      "\tGeneration time: 0.176 sec\n",
      "\tBackprop time: 0.191 sec\n",
      "\tLog probability: -0.5002 (avg -0.5188)\n",
      "\tKL: 2.9669 (avg 2.9807)\n",
      "\tLoss: 30.1697 (avg 30.3254)\n",
      "Epoch: 60 (10/38)\n",
      "\tData load time: 0.156 sec\n",
      "\tGeneration time: 0.176 sec\n",
      "\tBackprop time: 0.191 sec\n",
      "\tLog probability: -0.4883 (avg -0.5056)\n",
      "\tKL: 2.5362 (avg 4.5943)\n",
      "\tLoss: 25.8502 (avg 46.4485)\n"
     ]
    },
    {
     "name": "stderr",
     "output_type": "stream",
     "text": [
      " 50%|█████     | 19/38 [00:00<00:01, 17.47it/s]"
     ]
    },
    {
     "name": "stdout",
     "output_type": "stream",
     "text": [
      "Epoch: 60 (15/38)\n",
      "\tData load time: 0.156 sec\n",
      "\tGeneration time: 0.176 sec\n",
      "\tBackprop time: 0.191 sec\n",
      "\tLog probability: -0.5427 (avg -0.5047)\n",
      "\tKL: 2.3910 (avg 3.8777)\n",
      "\tLoss: 24.4528 (avg 39.2820)\n",
      "Epoch: 60 (20/38)\n",
      "\tData load time: 0.156 sec\n",
      "\tGeneration time: 0.176 sec\n",
      "\tBackprop time: 0.191 sec\n",
      "\tLog probability: -0.4719 (avg -0.5017)\n",
      "\tKL: 2.5321 (avg 3.8846)\n",
      "\tLoss: 25.7931 (avg 39.3475)\n"
     ]
    },
    {
     "name": "stderr",
     "output_type": "stream",
     "text": [
      " 74%|███████▎  | 28/38 [00:01<00:00, 22.02it/s]"
     ]
    },
    {
     "name": "stdout",
     "output_type": "stream",
     "text": [
      "Epoch: 60 (25/38)\n",
      "\tData load time: 0.156 sec\n",
      "\tGeneration time: 0.176 sec\n",
      "\tBackprop time: 0.191 sec\n",
      "\tLog probability: -0.4814 (avg -0.4990)\n",
      "\tKL: 2.6158 (avg 3.6802)\n",
      "\tLoss: 26.6399 (avg 37.3006)\n",
      "Epoch: 60 (30/38)\n",
      "\tData load time: 0.156 sec\n",
      "\tGeneration time: 0.176 sec\n",
      "\tBackprop time: 0.191 sec\n",
      "\tLog probability: -0.4935 (avg -0.4992)\n",
      "\tKL: 2.1474 (avg 3.5432)\n",
      "\tLoss: 21.9672 (avg 35.9308)\n"
     ]
    },
    {
     "name": "stderr",
     "output_type": "stream",
     "text": [
      "100%|██████████| 38/38 [00:01<00:00, 22.63it/s]\n",
      "  0%|          | 0/10 [00:00<?, ?it/s]"
     ]
    },
    {
     "name": "stdout",
     "output_type": "stream",
     "text": [
      "Epoch: 60 (35/38)\n",
      "\tData load time: 0.156 sec\n",
      "\tGeneration time: 0.176 sec\n",
      "\tBackprop time: 0.191 sec\n",
      "\tLog probability: -0.4888 (avg -0.4975)\n",
      "\tKL: 2.9066 (avg 3.3904)\n",
      "\tLoss: 29.5547 (avg 34.4012)\n"
     ]
    },
    {
     "name": "stderr",
     "output_type": "stream",
     "text": [
      "100%|██████████| 10/10 [00:00<00:00, 27.79it/s]\n"
     ]
    },
    {
     "name": "stdout",
     "output_type": "stream",
     "text": [
      "Epoch: 60 (5/10)\n",
      "\tData load time: 0.156 sec\n",
      "\tGeneration time: 0.175 sec\n",
      "\tLog probability: -0.5430 (avg -0.5869)\n",
      "\tKL: 2.4335 (avg 2.4016)\n",
      "\tLoss: 24.8779 (avg 24.6034)\n",
      "Epoch: 60 (10/10)\n",
      "\tData load time: 0.156 sec\n",
      "\tGeneration time: 0.175 sec\n",
      "\tLog probability: -0.5883 (avg -0.5855)\n",
      "\tKL: 1.7603 (avg 2.3194)\n",
      "\tLoss: 18.1916 (avg 23.7796)\n",
      "Saving checkpoint..\n"
     ]
    },
    {
     "name": "stderr",
     "output_type": "stream",
     "text": [
      "  0%|          | 0/38 [00:00<?, ?it/s]"
     ]
    },
    {
     "name": "stdout",
     "output_type": "stream",
     "text": [
      "Lowest validation loss: 23.7796\n"
     ]
    },
    {
     "name": "stderr",
     "output_type": "stream",
     "text": [
      " 26%|██▋       | 10/38 [00:00<00:02, 11.09it/s]"
     ]
    },
    {
     "name": "stdout",
     "output_type": "stream",
     "text": [
      "Epoch: 61 (5/38)\n",
      "\tData load time: 0.153 sec\n",
      "\tGeneration time: 0.173 sec\n",
      "\tBackprop time: 0.188 sec\n",
      "\tLog probability: -0.5138 (avg -0.5040)\n",
      "\tKL: 11.2791 (avg 4.5374)\n",
      "\tLoss: 113.3045 (avg 45.8783)\n",
      "Epoch: 61 (10/38)\n",
      "\tData load time: 0.153 sec\n",
      "\tGeneration time: 0.173 sec\n",
      "\tBackprop time: 0.188 sec\n",
      "\tLog probability: -0.4859 (avg -0.5069)\n",
      "\tKL: 2.3876 (avg 3.6959)\n",
      "\tLoss: 24.3618 (avg 37.4660)\n"
     ]
    },
    {
     "name": "stderr",
     "output_type": "stream",
     "text": [
      " 50%|█████     | 19/38 [00:00<00:01, 17.60it/s]"
     ]
    },
    {
     "name": "stdout",
     "output_type": "stream",
     "text": [
      "Epoch: 61 (15/38)\n",
      "\tData load time: 0.153 sec\n",
      "\tGeneration time: 0.173 sec\n",
      "\tBackprop time: 0.188 sec\n",
      "\tLog probability: -0.4963 (avg -0.5044)\n",
      "\tKL: 2.7398 (avg 3.3842)\n",
      "\tLoss: 27.8947 (avg 34.3466)\n",
      "Epoch: 61 (20/38)\n",
      "\tData load time: 0.153 sec\n",
      "\tGeneration time: 0.173 sec\n",
      "\tBackprop time: 0.188 sec\n",
      "\tLog probability: -0.4553 (avg -0.4989)\n",
      "\tKL: 3.5087 (avg 3.5358)\n",
      "\tLoss: 35.5420 (avg 35.8566)\n"
     ]
    },
    {
     "name": "stderr",
     "output_type": "stream",
     "text": [
      " 74%|███████▎  | 28/38 [00:01<00:00, 21.97it/s]"
     ]
    },
    {
     "name": "stdout",
     "output_type": "stream",
     "text": [
      "Epoch: 61 (25/38)\n",
      "\tData load time: 0.153 sec\n",
      "\tGeneration time: 0.173 sec\n",
      "\tBackprop time: 0.188 sec\n",
      "\tLog probability: -0.4829 (avg -0.4984)\n",
      "\tKL: 2.4635 (avg 3.3981)\n",
      "\tLoss: 25.1176 (avg 34.4799)\n",
      "Epoch: 61 (30/38)\n",
      "\tData load time: 0.153 sec\n",
      "\tGeneration time: 0.173 sec\n",
      "\tBackprop time: 0.188 sec\n",
      "\tLog probability: -0.4769 (avg -0.4982)\n",
      "\tKL: 2.3593 (avg 3.2774)\n",
      "\tLoss: 24.0697 (avg 33.2723)\n"
     ]
    },
    {
     "name": "stderr",
     "output_type": "stream",
     "text": [
      "100%|██████████| 38/38 [00:01<00:00, 22.61it/s]\n",
      "  0%|          | 0/10 [00:00<?, ?it/s]"
     ]
    },
    {
     "name": "stdout",
     "output_type": "stream",
     "text": [
      "Epoch: 61 (35/38)\n",
      "\tData load time: 0.153 sec\n",
      "\tGeneration time: 0.173 sec\n",
      "\tBackprop time: 0.188 sec\n",
      "\tLog probability: -0.5060 (avg -0.4973)\n",
      "\tKL: 2.5612 (avg 3.2649)\n",
      "\tLoss: 26.1177 (avg 33.1462)\n"
     ]
    },
    {
     "name": "stderr",
     "output_type": "stream",
     "text": [
      "100%|██████████| 10/10 [00:00<00:00, 27.53it/s]\n",
      "  0%|          | 0/38 [00:00<?, ?it/s]"
     ]
    },
    {
     "name": "stdout",
     "output_type": "stream",
     "text": [
      "Epoch: 61 (5/10)\n",
      "\tData load time: 0.159 sec\n",
      "\tGeneration time: 0.177 sec\n",
      "\tLog probability: -0.5326 (avg -0.5370)\n",
      "\tKL: 2.4193 (avg 3.2537)\n",
      "\tLoss: 24.7260 (avg 33.0738)\n",
      "Epoch: 61 (10/10)\n",
      "\tData load time: 0.159 sec\n",
      "\tGeneration time: 0.177 sec\n",
      "\tLog probability: -0.5831 (avg -0.5463)\n",
      "\tKL: 2.5273 (avg 2.7638)\n",
      "\tLoss: 25.8562 (avg 28.1848)\n",
      "Lowest validation loss: 23.7796\n"
     ]
    },
    {
     "name": "stderr",
     "output_type": "stream",
     "text": [
      " 26%|██▋       | 10/38 [00:00<00:02, 11.93it/s]"
     ]
    },
    {
     "name": "stdout",
     "output_type": "stream",
     "text": [
      "Epoch: 62 (5/38)\n",
      "\tData load time: 0.137 sec\n",
      "\tGeneration time: 0.156 sec\n",
      "\tBackprop time: 0.170 sec\n",
      "\tLog probability: -0.5142 (avg -0.5258)\n",
      "\tKL: 2.6809 (avg 5.9827)\n",
      "\tLoss: 27.3233 (avg 60.3533)\n",
      "Epoch: 62 (10/38)\n",
      "\tData load time: 0.137 sec\n",
      "\tGeneration time: 0.156 sec\n",
      "\tBackprop time: 0.170 sec\n",
      "\tLog probability: -0.4869 (avg -0.5103)\n",
      "\tKL: 2.5778 (avg 4.5894)\n",
      "\tLoss: 26.2644 (avg 46.4038)\n"
     ]
    },
    {
     "name": "stderr",
     "output_type": "stream",
     "text": [
      " 50%|█████     | 19/38 [00:00<00:01, 18.34it/s]"
     ]
    },
    {
     "name": "stdout",
     "output_type": "stream",
     "text": [
      "Epoch: 62 (15/38)\n",
      "\tData load time: 0.137 sec\n",
      "\tGeneration time: 0.156 sec\n",
      "\tBackprop time: 0.170 sec\n",
      "\tLog probability: -0.4843 (avg -0.5038)\n",
      "\tKL: 2.2141 (avg 3.9593)\n",
      "\tLoss: 22.6248 (avg 40.0967)\n",
      "Epoch: 62 (20/38)\n",
      "\tData load time: 0.137 sec\n",
      "\tGeneration time: 0.156 sec\n",
      "\tBackprop time: 0.170 sec\n",
      "\tLog probability: -0.5246 (avg -0.5069)\n",
      "\tKL: 1.8601 (avg 3.8008)\n",
      "\tLoss: 19.1251 (avg 38.5144)\n"
     ]
    },
    {
     "name": "stderr",
     "output_type": "stream",
     "text": [
      " 74%|███████▎  | 28/38 [00:01<00:00, 22.44it/s]"
     ]
    },
    {
     "name": "stdout",
     "output_type": "stream",
     "text": [
      "Epoch: 62 (25/38)\n",
      "\tData load time: 0.137 sec\n",
      "\tGeneration time: 0.156 sec\n",
      "\tBackprop time: 0.170 sec\n",
      "\tLog probability: -0.5194 (avg -0.5060)\n",
      "\tKL: 32.5793 (avg 5.3238)\n",
      "\tLoss: 326.3122 (avg 53.7436)\n",
      "Epoch: 62 (30/38)\n",
      "\tData load time: 0.137 sec\n",
      "\tGeneration time: 0.156 sec\n",
      "\tBackprop time: 0.170 sec\n",
      "\tLog probability: -0.5108 (avg -0.5060)\n",
      "\tKL: 3.8654 (avg 5.5356)\n",
      "\tLoss: 39.1645 (avg 55.8619)\n"
     ]
    },
    {
     "name": "stderr",
     "output_type": "stream",
     "text": [
      "100%|██████████| 38/38 [00:01<00:00, 22.99it/s]\n",
      "  0%|          | 0/10 [00:00<?, ?it/s]"
     ]
    },
    {
     "name": "stdout",
     "output_type": "stream",
     "text": [
      "Epoch: 62 (35/38)\n",
      "\tData load time: 0.137 sec\n",
      "\tGeneration time: 0.156 sec\n",
      "\tBackprop time: 0.170 sec\n",
      "\tLog probability: -0.5018 (avg -0.5044)\n",
      "\tKL: 2.3472 (avg 5.1156)\n",
      "\tLoss: 23.9739 (avg 51.6606)\n"
     ]
    },
    {
     "name": "stderr",
     "output_type": "stream",
     "text": [
      "100%|██████████| 10/10 [00:00<00:00, 27.41it/s]\n",
      "  0%|          | 0/38 [00:00<?, ?it/s]"
     ]
    },
    {
     "name": "stdout",
     "output_type": "stream",
     "text": [
      "Epoch: 62 (5/10)\n",
      "\tData load time: 0.161 sec\n",
      "\tGeneration time: 0.179 sec\n",
      "\tLog probability: -0.5387 (avg -0.5485)\n",
      "\tKL: 2.0693 (avg 2.5499)\n",
      "\tLoss: 21.2312 (avg 26.0479)\n",
      "Epoch: 62 (10/10)\n",
      "\tData load time: 0.161 sec\n",
      "\tGeneration time: 0.179 sec\n",
      "\tLog probability: -0.5941 (avg -0.5511)\n",
      "\tKL: 1.9396 (avg 2.4784)\n",
      "\tLoss: 19.9900 (avg 25.3347)\n",
      "Lowest validation loss: 23.7796\n"
     ]
    },
    {
     "name": "stderr",
     "output_type": "stream",
     "text": [
      " 26%|██▋       | 10/38 [00:00<00:02, 11.10it/s]"
     ]
    },
    {
     "name": "stdout",
     "output_type": "stream",
     "text": [
      "Epoch: 63 (5/38)\n",
      "\tData load time: 0.157 sec\n",
      "\tGeneration time: 0.175 sec\n",
      "\tBackprop time: 0.189 sec\n",
      "\tLog probability: -0.5287 (avg -0.4922)\n",
      "\tKL: 2.3772 (avg 2.5954)\n",
      "\tLoss: 24.3011 (avg 26.4463)\n",
      "Epoch: 63 (10/38)\n",
      "\tData load time: 0.157 sec\n",
      "\tGeneration time: 0.175 sec\n",
      "\tBackprop time: 0.189 sec\n",
      "\tLog probability: -0.5489 (avg -0.4954)\n",
      "\tKL: 3.9231 (avg 2.8668)\n",
      "\tLoss: 39.7795 (avg 29.1636)\n"
     ]
    },
    {
     "name": "stderr",
     "output_type": "stream",
     "text": [
      " 50%|█████     | 19/38 [00:00<00:01, 17.60it/s]"
     ]
    },
    {
     "name": "stdout",
     "output_type": "stream",
     "text": [
      "Epoch: 63 (15/38)\n",
      "\tData load time: 0.157 sec\n",
      "\tGeneration time: 0.175 sec\n",
      "\tBackprop time: 0.189 sec\n",
      "\tLog probability: -0.4848 (avg -0.4965)\n",
      "\tKL: 2.4498 (avg 2.7546)\n",
      "\tLoss: 24.9829 (avg 28.0430)\n",
      "Epoch: 63 (20/38)\n",
      "\tData load time: 0.157 sec\n",
      "\tGeneration time: 0.175 sec\n",
      "\tBackprop time: 0.189 sec\n",
      "\tLog probability: -0.4838 (avg -0.4976)\n",
      "\tKL: 4.1118 (avg 2.9061)\n",
      "\tLoss: 41.6014 (avg 29.5581)\n"
     ]
    },
    {
     "name": "stderr",
     "output_type": "stream",
     "text": [
      " 74%|███████▎  | 28/38 [00:01<00:00, 22.03it/s]"
     ]
    },
    {
     "name": "stdout",
     "output_type": "stream",
     "text": [
      "Epoch: 63 (25/38)\n",
      "\tData load time: 0.157 sec\n",
      "\tGeneration time: 0.175 sec\n",
      "\tBackprop time: 0.189 sec\n",
      "\tLog probability: -0.4915 (avg -0.4999)\n",
      "\tKL: 2.5009 (avg 2.9127)\n",
      "\tLoss: 25.5004 (avg 29.6271)\n",
      "Epoch: 63 (30/38)\n",
      "\tData load time: 0.157 sec\n",
      "\tGeneration time: 0.175 sec\n",
      "\tBackprop time: 0.189 sec\n",
      "\tLog probability: -0.4971 (avg -0.4977)\n",
      "\tKL: 4.1495 (avg 3.0111)\n",
      "\tLoss: 41.9916 (avg 30.6089)\n"
     ]
    },
    {
     "name": "stderr",
     "output_type": "stream",
     "text": [
      "100%|██████████| 38/38 [00:01<00:00, 22.75it/s]\n",
      "  0%|          | 0/10 [00:00<?, ?it/s]"
     ]
    },
    {
     "name": "stdout",
     "output_type": "stream",
     "text": [
      "Epoch: 63 (35/38)\n",
      "\tData load time: 0.157 sec\n",
      "\tGeneration time: 0.175 sec\n",
      "\tBackprop time: 0.189 sec\n",
      "\tLog probability: -0.4944 (avg -0.4972)\n",
      "\tKL: 2.4948 (avg 2.9756)\n",
      "\tLoss: 25.4420 (avg 30.2535)\n"
     ]
    },
    {
     "name": "stderr",
     "output_type": "stream",
     "text": [
      "100%|██████████| 10/10 [00:00<00:00, 27.31it/s]\n",
      "  0%|          | 0/38 [00:00<?, ?it/s]"
     ]
    },
    {
     "name": "stdout",
     "output_type": "stream",
     "text": [
      "Epoch: 63 (5/10)\n",
      "\tData load time: 0.162 sec\n",
      "\tGeneration time: 0.180 sec\n",
      "\tLog probability: -0.5698 (avg -0.5526)\n",
      "\tKL: 2.0724 (avg 2.5141)\n",
      "\tLoss: 21.2934 (avg 25.6938)\n",
      "Epoch: 63 (10/10)\n",
      "\tData load time: 0.162 sec\n",
      "\tGeneration time: 0.180 sec\n",
      "\tLog probability: -0.5988 (avg -0.5512)\n",
      "\tKL: 1.3602 (avg 2.3505)\n",
      "\tLoss: 14.2003 (avg 24.0557)\n",
      "Lowest validation loss: 23.7796\n"
     ]
    },
    {
     "name": "stderr",
     "output_type": "stream",
     "text": [
      " 26%|██▋       | 10/38 [00:00<00:02, 11.08it/s]"
     ]
    },
    {
     "name": "stdout",
     "output_type": "stream",
     "text": [
      "Epoch: 64 (5/38)\n",
      "\tData load time: 0.158 sec\n",
      "\tGeneration time: 0.176 sec\n",
      "\tBackprop time: 0.189 sec\n",
      "\tLog probability: -0.4746 (avg -0.4963)\n",
      "\tKL: 3.3723 (avg 4.0730)\n",
      "\tLoss: 34.1979 (avg 41.2262)\n",
      "Epoch: 64 (10/38)\n",
      "\tData load time: 0.158 sec\n",
      "\tGeneration time: 0.176 sec\n",
      "\tBackprop time: 0.189 sec\n",
      "\tLog probability: -0.4916 (avg -0.5054)\n",
      "\tKL: 2.8469 (avg 3.4527)\n",
      "\tLoss: 28.9604 (avg 35.0324)\n"
     ]
    },
    {
     "name": "stderr",
     "output_type": "stream",
     "text": [
      " 50%|█████     | 19/38 [00:00<00:01, 17.52it/s]"
     ]
    },
    {
     "name": "stdout",
     "output_type": "stream",
     "text": [
      "Epoch: 64 (15/38)\n",
      "\tData load time: 0.158 sec\n",
      "\tGeneration time: 0.176 sec\n",
      "\tBackprop time: 0.189 sec\n",
      "\tLog probability: -0.4798 (avg -0.5061)\n",
      "\tKL: 3.0097 (avg 3.1871)\n",
      "\tLoss: 30.5765 (avg 32.3768)\n",
      "Epoch: 64 (20/38)\n",
      "\tData load time: 0.158 sec\n",
      "\tGeneration time: 0.176 sec\n",
      "\tBackprop time: 0.189 sec\n",
      "\tLog probability: -0.5468 (avg -0.5042)\n",
      "\tKL: 2.9016 (avg 3.1263)\n",
      "\tLoss: 29.5632 (avg 31.7676)\n"
     ]
    },
    {
     "name": "stderr",
     "output_type": "stream",
     "text": [
      " 74%|███████▎  | 28/38 [00:01<00:00, 21.90it/s]"
     ]
    },
    {
     "name": "stdout",
     "output_type": "stream",
     "text": [
      "Epoch: 64 (25/38)\n",
      "\tData load time: 0.158 sec\n",
      "\tGeneration time: 0.176 sec\n",
      "\tBackprop time: 0.189 sec\n",
      "\tLog probability: -0.5375 (avg -0.5029)\n",
      "\tKL: 4.8719 (avg 3.1610)\n",
      "\tLoss: 49.2569 (avg 32.1125)\n",
      "Epoch: 64 (30/38)\n",
      "\tData load time: 0.158 sec\n",
      "\tGeneration time: 0.176 sec\n",
      "\tBackprop time: 0.189 sec\n",
      "\tLog probability: -0.4840 (avg -0.5018)\n",
      "\tKL: 3.6356 (avg 3.1085)\n",
      "\tLoss: 36.8404 (avg 31.5867)\n"
     ]
    },
    {
     "name": "stderr",
     "output_type": "stream",
     "text": [
      "100%|██████████| 38/38 [00:01<00:00, 22.64it/s]\n",
      "  0%|          | 0/10 [00:00<?, ?it/s]"
     ]
    },
    {
     "name": "stdout",
     "output_type": "stream",
     "text": [
      "Epoch: 64 (35/38)\n",
      "\tData load time: 0.158 sec\n",
      "\tGeneration time: 0.176 sec\n",
      "\tBackprop time: 0.189 sec\n",
      "\tLog probability: -0.4790 (avg -0.5014)\n",
      "\tKL: 2.0797 (avg 3.0358)\n",
      "\tLoss: 21.2759 (avg 30.8589)\n"
     ]
    },
    {
     "name": "stderr",
     "output_type": "stream",
     "text": [
      "100%|██████████| 10/10 [00:00<00:00, 27.49it/s]\n",
      "  0%|          | 0/38 [00:00<?, ?it/s]"
     ]
    },
    {
     "name": "stdout",
     "output_type": "stream",
     "text": [
      "Epoch: 64 (5/10)\n",
      "\tData load time: 0.160 sec\n",
      "\tGeneration time: 0.179 sec\n",
      "\tLog probability: -0.5582 (avg -0.5533)\n",
      "\tKL: 1.9973 (avg 2.5267)\n",
      "\tLoss: 20.5316 (avg 25.8203)\n",
      "Epoch: 64 (10/10)\n",
      "\tData load time: 0.160 sec\n",
      "\tGeneration time: 0.179 sec\n",
      "\tLog probability: -0.5583 (avg -0.5625)\n",
      "\tKL: 1.6726 (avg 2.3231)\n",
      "\tLoss: 17.2842 (avg 23.7934)\n",
      "Lowest validation loss: 23.7796\n"
     ]
    },
    {
     "name": "stderr",
     "output_type": "stream",
     "text": [
      " 26%|██▋       | 10/38 [00:00<00:02, 11.24it/s]"
     ]
    },
    {
     "name": "stdout",
     "output_type": "stream",
     "text": [
      "Epoch: 65 (5/38)\n",
      "\tData load time: 0.152 sec\n",
      "\tGeneration time: 0.170 sec\n",
      "\tBackprop time: 0.186 sec\n",
      "\tLog probability: -0.5663 (avg -0.5048)\n",
      "\tKL: 4.0651 (avg 3.5215)\n",
      "\tLoss: 41.2174 (avg 35.7197)\n",
      "Epoch: 65 (10/38)\n",
      "\tData load time: 0.152 sec\n",
      "\tGeneration time: 0.170 sec\n",
      "\tBackprop time: 0.186 sec\n",
      "\tLog probability: -0.4994 (avg -0.5037)\n",
      "\tKL: 3.8747 (avg 3.3189)\n",
      "\tLoss: 39.2460 (avg 33.6922)\n"
     ]
    },
    {
     "name": "stderr",
     "output_type": "stream",
     "text": [
      " 50%|█████     | 19/38 [00:00<00:01, 17.72it/s]"
     ]
    },
    {
     "name": "stdout",
     "output_type": "stream",
     "text": [
      "Epoch: 65 (15/38)\n",
      "\tData load time: 0.152 sec\n",
      "\tGeneration time: 0.170 sec\n",
      "\tBackprop time: 0.186 sec\n",
      "\tLog probability: -0.5088 (avg -0.5002)\n",
      "\tKL: 2.1537 (avg 3.3061)\n",
      "\tLoss: 22.0458 (avg 33.5608)\n",
      "Epoch: 65 (20/38)\n",
      "\tData load time: 0.152 sec\n",
      "\tGeneration time: 0.170 sec\n",
      "\tBackprop time: 0.186 sec\n",
      "\tLog probability: -0.4885 (avg -0.4987)\n",
      "\tKL: 2.0945 (avg 3.0329)\n",
      "\tLoss: 21.4331 (avg 30.8272)\n"
     ]
    },
    {
     "name": "stderr",
     "output_type": "stream",
     "text": [
      " 74%|███████▎  | 28/38 [00:01<00:00, 22.08it/s]"
     ]
    },
    {
     "name": "stdout",
     "output_type": "stream",
     "text": [
      "Epoch: 65 (25/38)\n",
      "\tData load time: 0.152 sec\n",
      "\tGeneration time: 0.170 sec\n",
      "\tBackprop time: 0.186 sec\n",
      "\tLog probability: -0.4700 (avg -0.4974)\n",
      "\tKL: 2.7225 (avg 2.9615)\n",
      "\tLoss: 27.6954 (avg 30.1123)\n",
      "Epoch: 65 (30/38)\n",
      "\tData load time: 0.152 sec\n",
      "\tGeneration time: 0.170 sec\n",
      "\tBackprop time: 0.186 sec\n",
      "\tLog probability: -0.5131 (avg -0.4961)\n",
      "\tKL: 3.7967 (avg 2.9582)\n",
      "\tLoss: 38.4804 (avg 30.0785)\n"
     ]
    },
    {
     "name": "stderr",
     "output_type": "stream",
     "text": [
      "100%|██████████| 38/38 [00:01<00:00, 22.79it/s]\n",
      "  0%|          | 0/10 [00:00<?, ?it/s]"
     ]
    },
    {
     "name": "stdout",
     "output_type": "stream",
     "text": [
      "Epoch: 65 (35/38)\n",
      "\tData load time: 0.152 sec\n",
      "\tGeneration time: 0.170 sec\n",
      "\tBackprop time: 0.186 sec\n",
      "\tLog probability: -0.5563 (avg -0.4994)\n",
      "\tKL: 4.0131 (avg 2.9995)\n",
      "\tLoss: 40.6876 (avg 30.4947)\n"
     ]
    },
    {
     "name": "stderr",
     "output_type": "stream",
     "text": [
      "100%|██████████| 10/10 [00:00<00:00, 27.36it/s]\n",
      "  0%|          | 0/38 [00:00<?, ?it/s]"
     ]
    },
    {
     "name": "stdout",
     "output_type": "stream",
     "text": [
      "Epoch: 65 (5/10)\n",
      "\tData load time: 0.162 sec\n",
      "\tGeneration time: 0.181 sec\n",
      "\tLog probability: -0.6311 (avg -0.5863)\n",
      "\tKL: 4.3135 (avg 3.0062)\n",
      "\tLoss: 43.7665 (avg 30.6484)\n",
      "Epoch: 65 (10/10)\n",
      "\tData load time: 0.162 sec\n",
      "\tGeneration time: 0.181 sec\n",
      "\tLog probability: -0.5202 (avg -0.5746)\n",
      "\tKL: 2.2542 (avg 2.6082)\n",
      "\tLoss: 23.0623 (avg 26.6570)\n",
      "Lowest validation loss: 23.7796\n"
     ]
    },
    {
     "name": "stderr",
     "output_type": "stream",
     "text": [
      " 26%|██▋       | 10/38 [00:00<00:02, 11.88it/s]"
     ]
    },
    {
     "name": "stdout",
     "output_type": "stream",
     "text": [
      "Epoch: 66 (5/38)\n",
      "\tData load time: 0.133 sec\n",
      "\tGeneration time: 0.152 sec\n",
      "\tBackprop time: 0.171 sec\n",
      "\tLog probability: -0.5005 (avg -0.4857)\n",
      "\tKL: 2.5665 (avg 3.0341)\n",
      "\tLoss: 26.1652 (avg 30.8269)\n",
      "Epoch: 66 (10/38)\n",
      "\tData load time: 0.133 sec\n",
      "\tGeneration time: 0.152 sec\n",
      "\tBackprop time: 0.171 sec\n",
      "\tLog probability: -0.4781 (avg -0.4936)\n",
      "\tKL: 2.4334 (avg 2.8913)\n",
      "\tLoss: 24.8118 (avg 29.4068)\n"
     ]
    },
    {
     "name": "stderr",
     "output_type": "stream",
     "text": [
      " 50%|█████     | 19/38 [00:00<00:01, 18.25it/s]"
     ]
    },
    {
     "name": "stdout",
     "output_type": "stream",
     "text": [
      "Epoch: 66 (15/38)\n",
      "\tData load time: 0.133 sec\n",
      "\tGeneration time: 0.152 sec\n",
      "\tBackprop time: 0.171 sec\n",
      "\tLog probability: -0.5079 (avg -0.5006)\n",
      "\tKL: 2.3339 (avg 3.4728)\n",
      "\tLoss: 23.8472 (avg 35.2285)\n",
      "Epoch: 66 (20/38)\n",
      "\tData load time: 0.133 sec\n",
      "\tGeneration time: 0.152 sec\n",
      "\tBackprop time: 0.171 sec\n",
      "\tLog probability: -0.5021 (avg -0.5017)\n",
      "\tKL: 2.3517 (avg 3.2742)\n",
      "\tLoss: 24.0194 (avg 33.2438)\n"
     ]
    },
    {
     "name": "stderr",
     "output_type": "stream",
     "text": [
      " 74%|███████▎  | 28/38 [00:01<00:00, 22.31it/s]"
     ]
    },
    {
     "name": "stdout",
     "output_type": "stream",
     "text": [
      "Epoch: 66 (25/38)\n",
      "\tData load time: 0.133 sec\n",
      "\tGeneration time: 0.152 sec\n",
      "\tBackprop time: 0.171 sec\n",
      "\tLog probability: -0.5386 (avg -0.5019)\n",
      "\tKL: 3.0648 (avg 7.3096)\n",
      "\tLoss: 31.1862 (avg 73.5982)\n",
      "Epoch: 66 (30/38)\n",
      "\tData load time: 0.133 sec\n",
      "\tGeneration time: 0.152 sec\n",
      "\tBackprop time: 0.171 sec\n",
      "\tLog probability: -0.5043 (avg -0.5039)\n",
      "\tKL: 3.1330 (avg 6.6315)\n",
      "\tLoss: 31.8340 (avg 66.8190)\n"
     ]
    },
    {
     "name": "stderr",
     "output_type": "stream",
     "text": [
      "100%|██████████| 38/38 [00:01<00:00, 22.83it/s]\n",
      "  0%|          | 0/10 [00:00<?, ?it/s]"
     ]
    },
    {
     "name": "stdout",
     "output_type": "stream",
     "text": [
      "Epoch: 66 (35/38)\n",
      "\tData load time: 0.133 sec\n",
      "\tGeneration time: 0.152 sec\n",
      "\tBackprop time: 0.171 sec\n",
      "\tLog probability: -0.5502 (avg -0.5038)\n",
      "\tKL: 2.8440 (avg 6.0878)\n",
      "\tLoss: 28.9898 (avg 61.3822)\n"
     ]
    },
    {
     "name": "stderr",
     "output_type": "stream",
     "text": [
      "100%|██████████| 10/10 [00:00<00:00, 26.86it/s]\n"
     ]
    },
    {
     "name": "stdout",
     "output_type": "stream",
     "text": [
      "Epoch: 66 (5/10)\n",
      "\tData load time: 0.165 sec\n",
      "\tGeneration time: 0.184 sec\n",
      "\tLog probability: -0.5169 (avg -0.5433)\n",
      "\tKL: 1.8039 (avg 2.1803)\n",
      "\tLoss: 18.5559 (avg 22.3462)\n",
      "Epoch: 66 (10/10)\n",
      "\tData load time: 0.165 sec\n",
      "\tGeneration time: 0.184 sec\n",
      "\tLog probability: -0.4573 (avg -0.5352)\n",
      "\tKL: 1.9557 (avg 2.2624)\n",
      "\tLoss: 20.0141 (avg 23.1590)\n",
      "Saving checkpoint..\n"
     ]
    },
    {
     "name": "stderr",
     "output_type": "stream",
     "text": [
      "  0%|          | 0/38 [00:00<?, ?it/s]"
     ]
    },
    {
     "name": "stdout",
     "output_type": "stream",
     "text": [
      "Lowest validation loss: 23.1590\n"
     ]
    },
    {
     "name": "stderr",
     "output_type": "stream",
     "text": [
      " 26%|██▋       | 10/38 [00:00<00:02, 10.79it/s]"
     ]
    },
    {
     "name": "stdout",
     "output_type": "stream",
     "text": [
      "Epoch: 67 (5/38)\n",
      "\tData load time: 0.164 sec\n",
      "\tGeneration time: 0.183 sec\n",
      "\tBackprop time: 0.196 sec\n",
      "\tLog probability: -0.5005 (avg -0.5102)\n",
      "\tKL: 2.3453 (avg 3.0381)\n",
      "\tLoss: 23.9531 (avg 30.8913)\n",
      "Epoch: 67 (10/38)\n",
      "\tData load time: 0.164 sec\n",
      "\tGeneration time: 0.183 sec\n",
      "\tBackprop time: 0.196 sec\n",
      "\tLog probability: -0.4869 (avg -0.5054)\n",
      "\tKL: 3.8463 (avg 3.0895)\n",
      "\tLoss: 38.9503 (avg 31.4007)\n"
     ]
    },
    {
     "name": "stderr",
     "output_type": "stream",
     "text": [
      " 50%|█████     | 19/38 [00:00<00:01, 17.37it/s]"
     ]
    },
    {
     "name": "stdout",
     "output_type": "stream",
     "text": [
      "Epoch: 67 (15/38)\n",
      "\tData load time: 0.164 sec\n",
      "\tGeneration time: 0.183 sec\n",
      "\tBackprop time: 0.196 sec\n",
      "\tLog probability: -0.4799 (avg -0.5004)\n",
      "\tKL: 3.7076 (avg 3.1601)\n",
      "\tLoss: 37.5557 (avg 32.1018)\n",
      "Epoch: 67 (20/38)\n",
      "\tData load time: 0.164 sec\n",
      "\tGeneration time: 0.183 sec\n",
      "\tBackprop time: 0.196 sec\n",
      "\tLog probability: -0.4902 (avg -0.4992)\n",
      "\tKL: 2.4615 (avg 2.9745)\n",
      "\tLoss: 25.1050 (avg 30.2442)\n"
     ]
    },
    {
     "name": "stderr",
     "output_type": "stream",
     "text": [
      " 74%|███████▎  | 28/38 [00:01<00:00, 21.89it/s]"
     ]
    },
    {
     "name": "stdout",
     "output_type": "stream",
     "text": [
      "Epoch: 67 (25/38)\n",
      "\tData load time: 0.164 sec\n",
      "\tGeneration time: 0.183 sec\n",
      "\tBackprop time: 0.196 sec\n",
      "\tLog probability: -0.4861 (avg -0.4977)\n",
      "\tKL: 5.2786 (avg 3.0215)\n",
      "\tLoss: 53.2722 (avg 30.7131)\n",
      "Epoch: 67 (30/38)\n",
      "\tData load time: 0.164 sec\n",
      "\tGeneration time: 0.183 sec\n",
      "\tBackprop time: 0.196 sec\n",
      "\tLog probability: -0.4880 (avg -0.4984)\n",
      "\tKL: 2.4192 (avg 3.1864)\n",
      "\tLoss: 24.6800 (avg 32.3628)\n"
     ]
    },
    {
     "name": "stderr",
     "output_type": "stream",
     "text": [
      "100%|██████████| 38/38 [00:01<00:00, 22.60it/s]\n",
      "  0%|          | 0/10 [00:00<?, ?it/s]"
     ]
    },
    {
     "name": "stdout",
     "output_type": "stream",
     "text": [
      "Epoch: 67 (35/38)\n",
      "\tData load time: 0.164 sec\n",
      "\tGeneration time: 0.183 sec\n",
      "\tBackprop time: 0.196 sec\n",
      "\tLog probability: -0.4857 (avg -0.4974)\n",
      "\tKL: 3.5292 (avg 3.1975)\n",
      "\tLoss: 35.7781 (avg 32.4723)\n"
     ]
    },
    {
     "name": "stderr",
     "output_type": "stream",
     "text": [
      "100%|██████████| 10/10 [00:00<00:00, 28.13it/s]\n",
      "  0%|          | 0/38 [00:00<?, ?it/s]"
     ]
    },
    {
     "name": "stdout",
     "output_type": "stream",
     "text": [
      "Epoch: 67 (5/10)\n",
      "\tData load time: 0.149 sec\n",
      "\tGeneration time: 0.168 sec\n",
      "\tLog probability: -0.5252 (avg -0.5194)\n",
      "\tKL: 3.3401 (avg 2.6854)\n",
      "\tLoss: 33.9258 (avg 27.3729)\n",
      "Epoch: 67 (10/10)\n",
      "\tData load time: 0.149 sec\n",
      "\tGeneration time: 0.168 sec\n",
      "\tLog probability: -0.4756 (avg -0.5160)\n",
      "\tKL: 2.1584 (avg 3.3100)\n",
      "\tLoss: 22.0600 (avg 33.6158)\n",
      "Lowest validation loss: 23.1590\n"
     ]
    },
    {
     "name": "stderr",
     "output_type": "stream",
     "text": [
      " 26%|██▋       | 10/38 [00:00<00:02, 11.27it/s]"
     ]
    },
    {
     "name": "stdout",
     "output_type": "stream",
     "text": [
      "Epoch: 68 (5/38)\n",
      "\tData load time: 0.153 sec\n",
      "\tGeneration time: 0.172 sec\n",
      "\tBackprop time: 0.185 sec\n",
      "\tLog probability: -0.4845 (avg -0.5013)\n",
      "\tKL: 2.2748 (avg 2.6179)\n",
      "\tLoss: 23.2328 (avg 26.6807)\n",
      "Epoch: 68 (10/38)\n",
      "\tData load time: 0.153 sec\n",
      "\tGeneration time: 0.172 sec\n",
      "\tBackprop time: 0.185 sec\n",
      "\tLog probability: -0.4947 (avg -0.4988)\n",
      "\tKL: 4.0164 (avg 2.9167)\n",
      "\tLoss: 40.6590 (avg 29.6656)\n"
     ]
    },
    {
     "name": "stderr",
     "output_type": "stream",
     "text": [
      " 50%|█████     | 19/38 [00:00<00:01, 17.77it/s]"
     ]
    },
    {
     "name": "stdout",
     "output_type": "stream",
     "text": [
      "Epoch: 68 (15/38)\n",
      "\tData load time: 0.153 sec\n",
      "\tGeneration time: 0.172 sec\n",
      "\tBackprop time: 0.185 sec\n",
      "\tLog probability: -0.5032 (avg -0.4962)\n",
      "\tKL: 2.1505 (avg 3.0152)\n",
      "\tLoss: 22.0081 (avg 30.6482)\n",
      "Epoch: 68 (20/38)\n",
      "\tData load time: 0.153 sec\n",
      "\tGeneration time: 0.172 sec\n",
      "\tBackprop time: 0.185 sec\n",
      "\tLog probability: -0.5240 (avg -0.4965)\n",
      "\tKL: 2.8191 (avg 3.1119)\n",
      "\tLoss: 28.7152 (avg 31.6157)\n"
     ]
    },
    {
     "name": "stderr",
     "output_type": "stream",
     "text": [
      " 74%|███████▎  | 28/38 [00:01<00:00, 22.17it/s]"
     ]
    },
    {
     "name": "stdout",
     "output_type": "stream",
     "text": [
      "Epoch: 68 (25/38)\n",
      "\tData load time: 0.153 sec\n",
      "\tGeneration time: 0.172 sec\n",
      "\tBackprop time: 0.185 sec\n",
      "\tLog probability: -0.4989 (avg -0.4985)\n",
      "\tKL: 2.0418 (avg 2.9495)\n",
      "\tLoss: 20.9165 (avg 29.9930)\n",
      "Epoch: 68 (30/38)\n",
      "\tData load time: 0.153 sec\n",
      "\tGeneration time: 0.172 sec\n",
      "\tBackprop time: 0.185 sec\n",
      "\tLog probability: -0.4665 (avg -0.4984)\n",
      "\tKL: 3.2725 (avg 3.4023)\n",
      "\tLoss: 33.1919 (avg 34.5211)\n"
     ]
    },
    {
     "name": "stderr",
     "output_type": "stream",
     "text": [
      "100%|██████████| 38/38 [00:01<00:00, 22.77it/s]\n",
      "  0%|          | 0/10 [00:00<?, ?it/s]"
     ]
    },
    {
     "name": "stdout",
     "output_type": "stream",
     "text": [
      "Epoch: 68 (35/38)\n",
      "\tData load time: 0.153 sec\n",
      "\tGeneration time: 0.172 sec\n",
      "\tBackprop time: 0.185 sec\n",
      "\tLog probability: -0.5217 (avg -0.5009)\n",
      "\tKL: 2.4912 (avg 3.3086)\n",
      "\tLoss: 25.4337 (avg 33.5866)\n"
     ]
    },
    {
     "name": "stderr",
     "output_type": "stream",
     "text": [
      "100%|██████████| 10/10 [00:00<00:00, 28.12it/s]\n",
      "  0%|          | 0/38 [00:00<?, ?it/s]"
     ]
    },
    {
     "name": "stdout",
     "output_type": "stream",
     "text": [
      "Epoch: 68 (5/10)\n",
      "\tData load time: 0.154 sec\n",
      "\tGeneration time: 0.172 sec\n",
      "\tLog probability: -0.5327 (avg -0.5353)\n",
      "\tKL: 2.3947 (avg 2.8305)\n",
      "\tLoss: 24.4793 (avg 28.8401)\n",
      "Epoch: 68 (10/10)\n",
      "\tData load time: 0.154 sec\n",
      "\tGeneration time: 0.172 sec\n",
      "\tLog probability: -0.4971 (avg -0.5320)\n",
      "\tKL: 1.9468 (avg 2.5435)\n",
      "\tLoss: 19.9651 (avg 25.9672)\n",
      "Lowest validation loss: 23.1590\n"
     ]
    },
    {
     "name": "stderr",
     "output_type": "stream",
     "text": [
      " 26%|██▋       | 10/38 [00:00<00:02, 11.38it/s]"
     ]
    },
    {
     "name": "stdout",
     "output_type": "stream",
     "text": [
      "Epoch: 69 (5/38)\n",
      "\tData load time: 0.150 sec\n",
      "\tGeneration time: 0.169 sec\n",
      "\tBackprop time: 0.182 sec\n",
      "\tLog probability: -0.4681 (avg -0.4744)\n",
      "\tKL: 2.1667 (avg 2.5753)\n",
      "\tLoss: 22.1356 (avg 26.2279)\n",
      "Epoch: 69 (10/38)\n",
      "\tData load time: 0.150 sec\n",
      "\tGeneration time: 0.169 sec\n",
      "\tBackprop time: 0.182 sec\n",
      "\tLog probability: -0.4786 (avg -0.4960)\n",
      "\tKL: 2.2409 (avg 2.6975)\n",
      "\tLoss: 22.8872 (avg 27.4713)\n"
     ]
    },
    {
     "name": "stderr",
     "output_type": "stream",
     "text": [
      " 50%|█████     | 19/38 [00:00<00:01, 17.84it/s]"
     ]
    },
    {
     "name": "stdout",
     "output_type": "stream",
     "text": [
      "Epoch: 69 (15/38)\n",
      "\tData load time: 0.150 sec\n",
      "\tGeneration time: 0.169 sec\n",
      "\tBackprop time: 0.182 sec\n",
      "\tLog probability: -0.4971 (avg -0.4997)\n",
      "\tKL: 2.2289 (avg 7.9714)\n",
      "\tLoss: 22.7863 (avg 80.2136)\n",
      "Epoch: 69 (20/38)\n",
      "\tData load time: 0.150 sec\n",
      "\tGeneration time: 0.169 sec\n",
      "\tBackprop time: 0.182 sec\n",
      "\tLog probability: -0.4787 (avg -0.4995)\n",
      "\tKL: 2.3904 (avg 6.6559)\n",
      "\tLoss: 24.3823 (avg 67.0589)\n"
     ]
    },
    {
     "name": "stderr",
     "output_type": "stream",
     "text": [
      " 74%|███████▎  | 28/38 [00:01<00:00, 22.16it/s]"
     ]
    },
    {
     "name": "stdout",
     "output_type": "stream",
     "text": [
      "Epoch: 69 (25/38)\n",
      "\tData load time: 0.150 sec\n",
      "\tGeneration time: 0.169 sec\n",
      "\tBackprop time: 0.182 sec\n",
      "\tLog probability: -0.4979 (avg -0.4991)\n",
      "\tKL: 2.0213 (avg 6.0015)\n",
      "\tLoss: 20.7113 (avg 60.5138)\n",
      "Epoch: 69 (30/38)\n",
      "\tData load time: 0.150 sec\n",
      "\tGeneration time: 0.169 sec\n",
      "\tBackprop time: 0.182 sec\n",
      "\tLog probability: -0.5089 (avg -0.5013)\n",
      "\tKL: 11.1182 (avg 5.8067)\n",
      "\tLoss: 111.6911 (avg 58.5688)\n"
     ]
    },
    {
     "name": "stderr",
     "output_type": "stream",
     "text": [
      "100%|██████████| 38/38 [00:01<00:00, 22.77it/s]\n",
      "  0%|          | 0/10 [00:00<?, ?it/s]"
     ]
    },
    {
     "name": "stdout",
     "output_type": "stream",
     "text": [
      "Epoch: 69 (35/38)\n",
      "\tData load time: 0.150 sec\n",
      "\tGeneration time: 0.169 sec\n",
      "\tBackprop time: 0.182 sec\n",
      "\tLog probability: -0.5004 (avg -0.5029)\n",
      "\tKL: 3.1908 (avg 5.4386)\n",
      "\tLoss: 32.4081 (avg 54.8889)\n"
     ]
    },
    {
     "name": "stderr",
     "output_type": "stream",
     "text": [
      "100%|██████████| 10/10 [00:00<00:00, 28.03it/s]\n",
      "  0%|          | 0/38 [00:00<?, ?it/s]"
     ]
    },
    {
     "name": "stdout",
     "output_type": "stream",
     "text": [
      "Epoch: 69 (5/10)\n",
      "\tData load time: 0.148 sec\n",
      "\tGeneration time: 0.166 sec\n",
      "\tLog probability: -0.5561 (avg -0.5424)\n",
      "\tKL: 2.6093 (avg 2.2213)\n",
      "\tLoss: 26.6489 (avg 22.7551)\n",
      "Epoch: 69 (10/10)\n",
      "\tData load time: 0.148 sec\n",
      "\tGeneration time: 0.166 sec\n",
      "\tLog probability: -0.4804 (avg -0.5406)\n",
      "\tKL: 2.0571 (avg 2.7521)\n",
      "\tLoss: 21.0518 (avg 28.0615)\n",
      "Lowest validation loss: 23.1590\n"
     ]
    },
    {
     "name": "stderr",
     "output_type": "stream",
     "text": [
      " 26%|██▋       | 10/38 [00:00<00:02, 11.18it/s]"
     ]
    },
    {
     "name": "stdout",
     "output_type": "stream",
     "text": [
      "Epoch: 70 (5/38)\n",
      "\tData load time: 0.156 sec\n",
      "\tGeneration time: 0.174 sec\n",
      "\tBackprop time: 0.187 sec\n",
      "\tLog probability: -0.5083 (avg -0.4977)\n",
      "\tKL: 3.4489 (avg 2.7455)\n",
      "\tLoss: 34.9968 (avg 27.9523)\n",
      "Epoch: 70 (10/38)\n",
      "\tData load time: 0.156 sec\n",
      "\tGeneration time: 0.174 sec\n",
      "\tBackprop time: 0.187 sec\n",
      "\tLog probability: -0.4986 (avg -0.4995)\n",
      "\tKL: 2.2263 (avg 2.6762)\n",
      "\tLoss: 22.7616 (avg 27.2610)\n"
     ]
    },
    {
     "name": "stderr",
     "output_type": "stream",
     "text": [
      " 50%|█████     | 19/38 [00:00<00:01, 17.68it/s]"
     ]
    },
    {
     "name": "stdout",
     "output_type": "stream",
     "text": [
      "Epoch: 70 (15/38)\n",
      "\tData load time: 0.156 sec\n",
      "\tGeneration time: 0.174 sec\n",
      "\tBackprop time: 0.187 sec\n",
      "\tLog probability: -0.4960 (avg -0.4992)\n",
      "\tKL: 2.8224 (avg 2.8695)\n",
      "\tLoss: 28.7204 (avg 29.1943)\n",
      "Epoch: 70 (20/38)\n",
      "\tData load time: 0.156 sec\n",
      "\tGeneration time: 0.174 sec\n",
      "\tBackprop time: 0.187 sec\n",
      "\tLog probability: -0.4802 (avg -0.4950)\n",
      "\tKL: 2.3110 (avg 2.7901)\n",
      "\tLoss: 23.5904 (avg 28.3960)\n"
     ]
    },
    {
     "name": "stderr",
     "output_type": "stream",
     "text": [
      " 74%|███████▎  | 28/38 [00:01<00:00, 21.90it/s]"
     ]
    },
    {
     "name": "stdout",
     "output_type": "stream",
     "text": [
      "Epoch: 70 (25/38)\n",
      "\tData load time: 0.156 sec\n",
      "\tGeneration time: 0.174 sec\n",
      "\tBackprop time: 0.187 sec\n",
      "\tLog probability: -0.4698 (avg -0.4950)\n",
      "\tKL: 2.1778 (avg 2.7505)\n",
      "\tLoss: 22.2475 (avg 28.0005)\n",
      "Epoch: 70 (30/38)\n",
      "\tData load time: 0.156 sec\n",
      "\tGeneration time: 0.174 sec\n",
      "\tBackprop time: 0.187 sec\n",
      "\tLog probability: -0.4975 (avg -0.4982)\n",
      "\tKL: 1.9786 (avg 2.7993)\n",
      "\tLoss: 20.2834 (avg 28.4912)\n"
     ]
    },
    {
     "name": "stderr",
     "output_type": "stream",
     "text": [
      "100%|██████████| 38/38 [00:01<00:00, 22.68it/s]\n",
      "  0%|          | 0/10 [00:00<?, ?it/s]"
     ]
    },
    {
     "name": "stdout",
     "output_type": "stream",
     "text": [
      "Epoch: 70 (35/38)\n",
      "\tData load time: 0.156 sec\n",
      "\tGeneration time: 0.174 sec\n",
      "\tBackprop time: 0.187 sec\n",
      "\tLog probability: -0.4951 (avg -0.4991)\n",
      "\tKL: 2.4866 (avg 2.7520)\n",
      "\tLoss: 25.3610 (avg 28.0188)\n"
     ]
    },
    {
     "name": "stderr",
     "output_type": "stream",
     "text": [
      "100%|██████████| 10/10 [00:00<00:00, 28.27it/s]\n",
      "  0%|          | 0/38 [00:00<?, ?it/s]"
     ]
    },
    {
     "name": "stdout",
     "output_type": "stream",
     "text": [
      "Epoch: 70 (5/10)\n",
      "\tData load time: 0.155 sec\n",
      "\tGeneration time: 0.172 sec\n",
      "\tLog probability: -0.5426 (avg -0.5459)\n",
      "\tKL: 2.0774 (avg 2.4939)\n",
      "\tLoss: 21.3168 (avg 25.4853)\n",
      "Epoch: 70 (10/10)\n",
      "\tData load time: 0.155 sec\n",
      "\tGeneration time: 0.172 sec\n",
      "\tLog probability: -0.5822 (avg -0.5485)\n",
      "\tKL: 2.2803 (avg 2.3933)\n",
      "\tLoss: 23.3853 (avg 24.4811)\n",
      "Lowest validation loss: 23.1590\n"
     ]
    },
    {
     "name": "stderr",
     "output_type": "stream",
     "text": [
      " 26%|██▋       | 10/38 [00:00<00:02, 11.28it/s]"
     ]
    },
    {
     "name": "stdout",
     "output_type": "stream",
     "text": [
      "Epoch: 71 (5/38)\n",
      "\tData load time: 0.153 sec\n",
      "\tGeneration time: 0.171 sec\n",
      "\tBackprop time: 0.184 sec\n",
      "\tLog probability: -0.5059 (avg -0.4893)\n",
      "\tKL: 2.7462 (avg 2.5610)\n",
      "\tLoss: 27.9679 (avg 26.0995)\n",
      "Epoch: 71 (10/38)\n",
      "\tData load time: 0.153 sec\n",
      "\tGeneration time: 0.171 sec\n",
      "\tBackprop time: 0.184 sec\n",
      "\tLog probability: -0.4723 (avg -0.5070)\n",
      "\tKL: 3.1782 (avg 2.7875)\n",
      "\tLoss: 32.2546 (avg 28.3821)\n"
     ]
    },
    {
     "name": "stderr",
     "output_type": "stream",
     "text": [
      " 50%|█████     | 19/38 [00:00<00:01, 17.79it/s]"
     ]
    },
    {
     "name": "stdout",
     "output_type": "stream",
     "text": [
      "Epoch: 71 (15/38)\n",
      "\tData load time: 0.153 sec\n",
      "\tGeneration time: 0.171 sec\n",
      "\tBackprop time: 0.184 sec\n",
      "\tLog probability: -0.4948 (avg -0.5013)\n",
      "\tKL: 9.0171 (avg 3.2154)\n",
      "\tLoss: 90.6656 (avg 32.6554)\n",
      "Epoch: 71 (20/38)\n",
      "\tData load time: 0.153 sec\n",
      "\tGeneration time: 0.171 sec\n",
      "\tBackprop time: 0.184 sec\n",
      "\tLog probability: -0.5111 (avg -0.4999)\n",
      "\tKL: 2.9513 (avg 3.0905)\n",
      "\tLoss: 30.0237 (avg 31.4046)\n"
     ]
    },
    {
     "name": "stderr",
     "output_type": "stream",
     "text": [
      " 74%|███████▎  | 28/38 [00:01<00:00, 22.10it/s]"
     ]
    },
    {
     "name": "stdout",
     "output_type": "stream",
     "text": [
      "Epoch: 71 (25/38)\n",
      "\tData load time: 0.153 sec\n",
      "\tGeneration time: 0.171 sec\n",
      "\tBackprop time: 0.184 sec\n",
      "\tLog probability: -0.4686 (avg -0.4996)\n",
      "\tKL: 2.5658 (avg 3.0888)\n",
      "\tLoss: 26.1268 (avg 31.3877)\n",
      "Epoch: 71 (30/38)\n",
      "\tData load time: 0.153 sec\n",
      "\tGeneration time: 0.171 sec\n",
      "\tBackprop time: 0.184 sec\n",
      "\tLog probability: -0.5006 (avg -0.5010)\n",
      "\tKL: 2.3557 (avg 3.0466)\n",
      "\tLoss: 24.0577 (avg 30.9669)\n"
     ]
    },
    {
     "name": "stderr",
     "output_type": "stream",
     "text": [
      "100%|██████████| 38/38 [00:01<00:00, 22.76it/s]\n",
      "  0%|          | 0/10 [00:00<?, ?it/s]"
     ]
    },
    {
     "name": "stdout",
     "output_type": "stream",
     "text": [
      "Epoch: 71 (35/38)\n",
      "\tData load time: 0.153 sec\n",
      "\tGeneration time: 0.171 sec\n",
      "\tBackprop time: 0.184 sec\n",
      "\tLog probability: -0.5177 (avg -0.5003)\n",
      "\tKL: 3.7514 (avg 3.0465)\n",
      "\tLoss: 38.0319 (avg 30.9648)\n"
     ]
    },
    {
     "name": "stderr",
     "output_type": "stream",
     "text": [
      "100%|██████████| 10/10 [00:00<00:00, 27.39it/s]\n"
     ]
    },
    {
     "name": "stdout",
     "output_type": "stream",
     "text": [
      "Epoch: 71 (5/10)\n",
      "\tData load time: 0.158 sec\n",
      "\tGeneration time: 0.176 sec\n",
      "\tLog probability: -0.5268 (avg -0.5331)\n",
      "\tKL: 1.6940 (avg 2.2394)\n",
      "\tLoss: 17.4669 (avg 22.9271)\n",
      "Epoch: 71 (10/10)\n",
      "\tData load time: 0.158 sec\n",
      "\tGeneration time: 0.176 sec\n",
      "\tLog probability: -0.5385 (avg -0.5304)\n",
      "\tKL: 2.0922 (avg 2.1967)\n",
      "\tLoss: 21.4604 (avg 22.4972)\n",
      "Saving checkpoint..\n"
     ]
    },
    {
     "name": "stderr",
     "output_type": "stream",
     "text": [
      "  0%|          | 0/38 [00:00<?, ?it/s]"
     ]
    },
    {
     "name": "stdout",
     "output_type": "stream",
     "text": [
      "Lowest validation loss: 22.4972\n"
     ]
    },
    {
     "name": "stderr",
     "output_type": "stream",
     "text": [
      " 26%|██▋       | 10/38 [00:00<00:02, 10.77it/s]"
     ]
    },
    {
     "name": "stdout",
     "output_type": "stream",
     "text": [
      "Epoch: 72 (5/38)\n",
      "\tData load time: 0.164 sec\n",
      "\tGeneration time: 0.183 sec\n",
      "\tBackprop time: 0.197 sec\n",
      "\tLog probability: -0.4997 (avg -0.4964)\n",
      "\tKL: 2.2930 (avg 2.7846)\n",
      "\tLoss: 23.4297 (avg 28.3428)\n",
      "Epoch: 72 (10/38)\n",
      "\tData load time: 0.164 sec\n",
      "\tGeneration time: 0.183 sec\n",
      "\tBackprop time: 0.197 sec\n",
      "\tLog probability: -0.5144 (avg -0.4991)\n",
      "\tKL: 4.8837 (avg 3.1361)\n",
      "\tLoss: 49.3517 (avg 31.8605)\n"
     ]
    },
    {
     "name": "stderr",
     "output_type": "stream",
     "text": [
      " 50%|█████     | 19/38 [00:00<00:01, 17.32it/s]"
     ]
    },
    {
     "name": "stdout",
     "output_type": "stream",
     "text": [
      "Epoch: 72 (15/38)\n",
      "\tData load time: 0.164 sec\n",
      "\tGeneration time: 0.183 sec\n",
      "\tBackprop time: 0.197 sec\n",
      "\tLog probability: -0.5199 (avg -0.5109)\n",
      "\tKL: 3.0820 (avg 3.0729)\n",
      "\tLoss: 31.3398 (avg 31.2403)\n",
      "Epoch: 72 (20/38)\n",
      "\tData load time: 0.164 sec\n",
      "\tGeneration time: 0.183 sec\n",
      "\tBackprop time: 0.197 sec\n",
      "\tLog probability: -0.4734 (avg -0.5061)\n",
      "\tKL: 3.3605 (avg 2.9808)\n",
      "\tLoss: 34.0786 (avg 30.3139)\n"
     ]
    },
    {
     "name": "stderr",
     "output_type": "stream",
     "text": [
      " 74%|███████▎  | 28/38 [00:01<00:00, 21.79it/s]"
     ]
    },
    {
     "name": "stdout",
     "output_type": "stream",
     "text": [
      "Epoch: 72 (25/38)\n",
      "\tData load time: 0.164 sec\n",
      "\tGeneration time: 0.183 sec\n",
      "\tBackprop time: 0.197 sec\n",
      "\tLog probability: -0.5344 (avg -0.5064)\n",
      "\tKL: 2.3155 (avg 2.9167)\n",
      "\tLoss: 23.6897 (avg 29.6737)\n",
      "Epoch: 72 (30/38)\n",
      "\tData load time: 0.164 sec\n",
      "\tGeneration time: 0.183 sec\n",
      "\tBackprop time: 0.197 sec\n",
      "\tLog probability: -0.5009 (avg -0.5024)\n",
      "\tKL: 2.1170 (avg 2.8439)\n",
      "\tLoss: 21.6707 (avg 28.9414)\n"
     ]
    },
    {
     "name": "stderr",
     "output_type": "stream",
     "text": [
      "100%|██████████| 38/38 [00:01<00:00, 22.60it/s]\n",
      "  0%|          | 0/10 [00:00<?, ?it/s]"
     ]
    },
    {
     "name": "stdout",
     "output_type": "stream",
     "text": [
      "Epoch: 72 (35/38)\n",
      "\tData load time: 0.164 sec\n",
      "\tGeneration time: 0.183 sec\n",
      "\tBackprop time: 0.197 sec\n",
      "\tLog probability: -0.4868 (avg -0.5011)\n",
      "\tKL: 2.3183 (avg 2.8107)\n",
      "\tLoss: 23.6700 (avg 28.6077)\n"
     ]
    },
    {
     "name": "stderr",
     "output_type": "stream",
     "text": [
      "100%|██████████| 10/10 [00:00<00:00, 27.97it/s]\n",
      "  0%|          | 0/38 [00:00<?, ?it/s]"
     ]
    },
    {
     "name": "stdout",
     "output_type": "stream",
     "text": [
      "Epoch: 72 (5/10)\n",
      "\tData load time: 0.154 sec\n",
      "\tGeneration time: 0.173 sec\n",
      "\tLog probability: -0.5798 (avg -0.5794)\n",
      "\tKL: 2.1025 (avg 2.4550)\n",
      "\tLoss: 21.6045 (avg 25.1293)\n",
      "Epoch: 72 (10/10)\n",
      "\tData load time: 0.154 sec\n",
      "\tGeneration time: 0.173 sec\n",
      "\tLog probability: -0.6165 (avg -0.5778)\n",
      "\tKL: 3.0889 (avg 2.4541)\n",
      "\tLoss: 31.5057 (avg 25.1184)\n",
      "Lowest validation loss: 22.4972\n"
     ]
    },
    {
     "name": "stderr",
     "output_type": "stream",
     "text": [
      " 26%|██▋       | 10/38 [00:00<00:02, 11.00it/s]"
     ]
    },
    {
     "name": "stdout",
     "output_type": "stream",
     "text": [
      "Epoch: 73 (5/38)\n",
      "\tData load time: 0.156 sec\n",
      "\tGeneration time: 0.175 sec\n",
      "\tBackprop time: 0.190 sec\n",
      "\tLog probability: -0.5056 (avg -0.5021)\n",
      "\tKL: 3.6120 (avg 8.4912)\n",
      "\tLoss: 36.6254 (avg 85.4137)\n",
      "Epoch: 73 (10/38)\n",
      "\tData load time: 0.156 sec\n",
      "\tGeneration time: 0.175 sec\n",
      "\tBackprop time: 0.190 sec\n",
      "\tLog probability: -0.5235 (avg -0.4979)\n",
      "\tKL: 3.2088 (avg 5.5561)\n",
      "\tLoss: 32.6111 (avg 56.0590)\n"
     ]
    },
    {
     "name": "stderr",
     "output_type": "stream",
     "text": [
      " 50%|█████     | 19/38 [00:00<00:01, 17.50it/s]"
     ]
    },
    {
     "name": "stdout",
     "output_type": "stream",
     "text": [
      "Epoch: 73 (15/38)\n",
      "\tData load time: 0.156 sec\n",
      "\tGeneration time: 0.175 sec\n",
      "\tBackprop time: 0.190 sec\n",
      "\tLog probability: -0.5708 (avg -0.5085)\n",
      "\tKL: 6.4171 (avg 5.0514)\n",
      "\tLoss: 64.7416 (avg 51.0226)\n",
      "Epoch: 73 (20/38)\n",
      "\tData load time: 0.156 sec\n",
      "\tGeneration time: 0.175 sec\n",
      "\tBackprop time: 0.190 sec\n",
      "\tLog probability: -0.5323 (avg -0.5053)\n",
      "\tKL: 3.8338 (avg 4.4397)\n",
      "\tLoss: 38.8703 (avg 44.9022)\n"
     ]
    },
    {
     "name": "stderr",
     "output_type": "stream",
     "text": [
      " 74%|███████▎  | 28/38 [00:01<00:00, 21.96it/s]"
     ]
    },
    {
     "name": "stdout",
     "output_type": "stream",
     "text": [
      "Epoch: 73 (25/38)\n",
      "\tData load time: 0.156 sec\n",
      "\tGeneration time: 0.175 sec\n",
      "\tBackprop time: 0.190 sec\n",
      "\tLog probability: -0.4883 (avg -0.5034)\n",
      "\tKL: 2.4698 (avg 4.1314)\n",
      "\tLoss: 25.1861 (avg 41.8172)\n",
      "Epoch: 73 (30/38)\n",
      "\tData load time: 0.156 sec\n",
      "\tGeneration time: 0.175 sec\n",
      "\tBackprop time: 0.190 sec\n",
      "\tLog probability: -0.4728 (avg -0.5030)\n",
      "\tKL: 25.8340 (avg 4.7674)\n",
      "\tLoss: 258.8128 (avg 48.1770)\n"
     ]
    },
    {
     "name": "stderr",
     "output_type": "stream",
     "text": [
      "100%|██████████| 38/38 [00:01<00:00, 22.57it/s]\n",
      "  0%|          | 0/10 [00:00<?, ?it/s]"
     ]
    },
    {
     "name": "stdout",
     "output_type": "stream",
     "text": [
      "Epoch: 73 (35/38)\n",
      "\tData load time: 0.156 sec\n",
      "\tGeneration time: 0.175 sec\n",
      "\tBackprop time: 0.190 sec\n",
      "\tLog probability: -0.4752 (avg -0.5010)\n",
      "\tKL: 2.6974 (avg 4.7315)\n",
      "\tLoss: 27.4493 (avg 47.8156)\n"
     ]
    },
    {
     "name": "stderr",
     "output_type": "stream",
     "text": [
      "100%|██████████| 10/10 [00:00<00:00, 28.29it/s]\n",
      "  0%|          | 0/38 [00:00<?, ?it/s]"
     ]
    },
    {
     "name": "stdout",
     "output_type": "stream",
     "text": [
      "Epoch: 73 (5/10)\n",
      "\tData load time: 0.156 sec\n",
      "\tGeneration time: 0.173 sec\n",
      "\tLog probability: -0.5143 (avg -0.5140)\n",
      "\tKL: 2.0184 (avg 2.6129)\n",
      "\tLoss: 20.6986 (avg 26.6431)\n",
      "Epoch: 73 (10/10)\n",
      "\tData load time: 0.156 sec\n",
      "\tGeneration time: 0.173 sec\n",
      "\tLog probability: -0.5180 (avg -0.5181)\n",
      "\tKL: 4.9878 (avg 3.0770)\n",
      "\tLoss: 50.3956 (avg 31.2886)\n",
      "Lowest validation loss: 22.4972\n"
     ]
    },
    {
     "name": "stderr",
     "output_type": "stream",
     "text": [
      " 26%|██▋       | 10/38 [00:00<00:02, 11.08it/s]"
     ]
    },
    {
     "name": "stdout",
     "output_type": "stream",
     "text": [
      "Epoch: 74 (5/38)\n",
      "\tData load time: 0.152 sec\n",
      "\tGeneration time: 0.171 sec\n",
      "\tBackprop time: 0.190 sec\n",
      "\tLog probability: -0.4711 (avg -0.4923)\n",
      "\tKL: 3.2253 (avg 5.4683)\n",
      "\tLoss: 32.7238 (avg 55.1750)\n",
      "Epoch: 74 (10/38)\n",
      "\tData load time: 0.152 sec\n",
      "\tGeneration time: 0.171 sec\n",
      "\tBackprop time: 0.190 sec\n",
      "\tLog probability: -0.5129 (avg -0.4996)\n",
      "\tKL: 2.5021 (avg 3.9164)\n",
      "\tLoss: 25.5339 (avg 39.6633)\n"
     ]
    },
    {
     "name": "stderr",
     "output_type": "stream",
     "text": [
      " 50%|█████     | 19/38 [00:00<00:01, 17.60it/s]"
     ]
    },
    {
     "name": "stdout",
     "output_type": "stream",
     "text": [
      "Epoch: 74 (15/38)\n",
      "\tData load time: 0.152 sec\n",
      "\tGeneration time: 0.171 sec\n",
      "\tBackprop time: 0.190 sec\n",
      "\tLog probability: -0.5120 (avg -0.4990)\n",
      "\tKL: 2.8798 (avg 3.5131)\n",
      "\tLoss: 29.3098 (avg 35.6301)\n",
      "Epoch: 74 (20/38)\n",
      "\tData load time: 0.152 sec\n",
      "\tGeneration time: 0.171 sec\n",
      "\tBackprop time: 0.190 sec\n",
      "\tLog probability: -0.5013 (avg -0.4981)\n",
      "\tKL: 2.5844 (avg 3.3011)\n",
      "\tLoss: 26.3457 (avg 33.5087)\n"
     ]
    },
    {
     "name": "stderr",
     "output_type": "stream",
     "text": [
      " 74%|███████▎  | 28/38 [00:01<00:00, 22.02it/s]"
     ]
    },
    {
     "name": "stdout",
     "output_type": "stream",
     "text": [
      "Epoch: 74 (25/38)\n",
      "\tData load time: 0.152 sec\n",
      "\tGeneration time: 0.171 sec\n",
      "\tBackprop time: 0.190 sec\n",
      "\tLog probability: -0.5014 (avg -0.4961)\n",
      "\tKL: 3.4561 (avg 3.1622)\n",
      "\tLoss: 35.0619 (avg 32.1180)\n",
      "Epoch: 74 (30/38)\n",
      "\tData load time: 0.152 sec\n",
      "\tGeneration time: 0.171 sec\n",
      "\tBackprop time: 0.190 sec\n",
      "\tLog probability: -0.4842 (avg -0.4975)\n",
      "\tKL: 4.3103 (avg 3.1463)\n",
      "\tLoss: 43.5877 (avg 31.9602)\n"
     ]
    },
    {
     "name": "stderr",
     "output_type": "stream",
     "text": [
      "100%|██████████| 38/38 [00:01<00:00, 22.75it/s]\n",
      "  0%|          | 0/10 [00:00<?, ?it/s]"
     ]
    },
    {
     "name": "stdout",
     "output_type": "stream",
     "text": [
      "Epoch: 74 (35/38)\n",
      "\tData load time: 0.152 sec\n",
      "\tGeneration time: 0.171 sec\n",
      "\tBackprop time: 0.190 sec\n",
      "\tLog probability: -0.4887 (avg -0.4980)\n",
      "\tKL: 2.5388 (avg 3.1466)\n",
      "\tLoss: 25.8767 (avg 31.9643)\n"
     ]
    },
    {
     "name": "stderr",
     "output_type": "stream",
     "text": [
      "100%|██████████| 10/10 [00:00<00:00, 28.30it/s]\n",
      "  0%|          | 0/38 [00:00<?, ?it/s]"
     ]
    },
    {
     "name": "stdout",
     "output_type": "stream",
     "text": [
      "Epoch: 74 (5/10)\n",
      "\tData load time: 0.152 sec\n",
      "\tGeneration time: 0.170 sec\n",
      "\tLog probability: -0.5704 (avg -0.5419)\n",
      "\tKL: 1.8554 (avg 2.2951)\n",
      "\tLoss: 19.1241 (avg 23.4931)\n",
      "Epoch: 74 (10/10)\n",
      "\tData load time: 0.152 sec\n",
      "\tGeneration time: 0.170 sec\n",
      "\tLog probability: -0.5468 (avg -0.5405)\n",
      "\tKL: 1.7628 (avg 2.5156)\n",
      "\tLoss: 18.1743 (avg 25.6964)\n",
      "Lowest validation loss: 22.4972\n"
     ]
    },
    {
     "name": "stderr",
     "output_type": "stream",
     "text": [
      " 26%|██▋       | 10/38 [00:00<00:02, 10.82it/s]"
     ]
    },
    {
     "name": "stdout",
     "output_type": "stream",
     "text": [
      "Epoch: 75 (5/38)\n",
      "\tData load time: 0.155 sec\n",
      "\tGeneration time: 0.174 sec\n",
      "\tBackprop time: 0.195 sec\n",
      "\tLog probability: -0.4962 (avg -0.4926)\n",
      "\tKL: 2.1425 (avg 2.6972)\n",
      "\tLoss: 21.9215 (avg 27.4643)\n",
      "Epoch: 75 (10/38)\n",
      "\tData load time: 0.155 sec\n",
      "\tGeneration time: 0.174 sec\n",
      "\tBackprop time: 0.195 sec\n",
      "\tLog probability: -0.4896 (avg -0.5018)\n",
      "\tKL: 2.3265 (avg 3.4315)\n",
      "\tLoss: 23.7541 (avg 34.8172)\n"
     ]
    },
    {
     "name": "stderr",
     "output_type": "stream",
     "text": [
      " 50%|█████     | 19/38 [00:00<00:01, 17.37it/s]"
     ]
    },
    {
     "name": "stdout",
     "output_type": "stream",
     "text": [
      "Epoch: 75 (15/38)\n",
      "\tData load time: 0.155 sec\n",
      "\tGeneration time: 0.174 sec\n",
      "\tBackprop time: 0.195 sec\n",
      "\tLog probability: -0.4827 (avg -0.5003)\n",
      "\tKL: 2.8695 (avg 3.2111)\n",
      "\tLoss: 29.1776 (avg 32.6115)\n",
      "Epoch: 75 (20/38)\n",
      "\tData load time: 0.155 sec\n",
      "\tGeneration time: 0.174 sec\n",
      "\tBackprop time: 0.195 sec\n",
      "\tLog probability: -0.4699 (avg -0.5022)\n",
      "\tKL: 2.2863 (avg 3.2277)\n",
      "\tLoss: 23.3326 (avg 32.7793)\n"
     ]
    },
    {
     "name": "stderr",
     "output_type": "stream",
     "text": [
      " 74%|███████▎  | 28/38 [00:01<00:00, 21.89it/s]"
     ]
    },
    {
     "name": "stdout",
     "output_type": "stream",
     "text": [
      "Epoch: 75 (25/38)\n",
      "\tData load time: 0.155 sec\n",
      "\tGeneration time: 0.174 sec\n",
      "\tBackprop time: 0.195 sec\n",
      "\tLog probability: -0.4768 (avg -0.5007)\n",
      "\tKL: 2.5730 (avg 3.2092)\n",
      "\tLoss: 26.2066 (avg 32.5930)\n",
      "Epoch: 75 (30/38)\n",
      "\tData load time: 0.155 sec\n",
      "\tGeneration time: 0.174 sec\n",
      "\tBackprop time: 0.195 sec\n",
      "\tLog probability: -0.4680 (avg -0.5019)\n",
      "\tKL: 2.9528 (avg 3.4444)\n",
      "\tLoss: 29.9963 (avg 34.9460)\n"
     ]
    },
    {
     "name": "stderr",
     "output_type": "stream",
     "text": [
      "100%|██████████| 38/38 [00:01<00:00, 22.64it/s]\n",
      "  0%|          | 0/10 [00:00<?, ?it/s]"
     ]
    },
    {
     "name": "stdout",
     "output_type": "stream",
     "text": [
      "Epoch: 75 (35/38)\n",
      "\tData load time: 0.155 sec\n",
      "\tGeneration time: 0.174 sec\n",
      "\tBackprop time: 0.195 sec\n",
      "\tLog probability: -0.5120 (avg -0.5012)\n",
      "\tKL: 2.9372 (avg 3.3833)\n",
      "\tLoss: 29.8839 (avg 34.3341)\n"
     ]
    },
    {
     "name": "stderr",
     "output_type": "stream",
     "text": [
      "100%|██████████| 10/10 [00:00<00:00, 28.49it/s]\n",
      "  0%|          | 0/38 [00:00<?, ?it/s]"
     ]
    },
    {
     "name": "stdout",
     "output_type": "stream",
     "text": [
      "Epoch: 75 (5/10)\n",
      "\tData load time: 0.154 sec\n",
      "\tGeneration time: 0.172 sec\n",
      "\tLog probability: -0.5190 (avg -0.5353)\n",
      "\tKL: 3.2231 (avg 2.3538)\n",
      "\tLoss: 32.7502 (avg 24.0732)\n",
      "Epoch: 75 (10/10)\n",
      "\tData load time: 0.154 sec\n",
      "\tGeneration time: 0.172 sec\n",
      "\tLog probability: -0.6154 (avg -0.5352)\n",
      "\tKL: 1.9890 (avg 2.7269)\n",
      "\tLoss: 20.5050 (avg 27.8045)\n",
      "Lowest validation loss: 22.4972\n"
     ]
    },
    {
     "name": "stderr",
     "output_type": "stream",
     "text": [
      " 26%|██▋       | 10/38 [00:00<00:02, 11.18it/s]"
     ]
    },
    {
     "name": "stdout",
     "output_type": "stream",
     "text": [
      "Epoch: 76 (5/38)\n",
      "\tData load time: 0.154 sec\n",
      "\tGeneration time: 0.172 sec\n",
      "\tBackprop time: 0.186 sec\n",
      "\tLog probability: -0.4859 (avg -0.4811)\n",
      "\tKL: 4.4934 (avg 3.4768)\n",
      "\tLoss: 45.4202 (avg 35.2488)\n",
      "Epoch: 76 (10/38)\n",
      "\tData load time: 0.154 sec\n",
      "\tGeneration time: 0.172 sec\n",
      "\tBackprop time: 0.186 sec\n",
      "\tLog probability: -0.5017 (avg -0.4959)\n",
      "\tKL: 2.5877 (avg 4.4552)\n",
      "\tLoss: 26.3788 (avg 45.0477)\n"
     ]
    },
    {
     "name": "stderr",
     "output_type": "stream",
     "text": [
      " 50%|█████     | 19/38 [00:00<00:01, 17.70it/s]"
     ]
    },
    {
     "name": "stdout",
     "output_type": "stream",
     "text": [
      "Epoch: 76 (15/38)\n",
      "\tData load time: 0.154 sec\n",
      "\tGeneration time: 0.172 sec\n",
      "\tBackprop time: 0.186 sec\n",
      "\tLog probability: -0.4802 (avg -0.4910)\n",
      "\tKL: 2.9639 (avg 3.9292)\n",
      "\tLoss: 30.1194 (avg 39.7830)\n",
      "Epoch: 76 (20/38)\n",
      "\tData load time: 0.154 sec\n",
      "\tGeneration time: 0.172 sec\n",
      "\tBackprop time: 0.186 sec\n",
      "\tLog probability: -0.5075 (avg -0.4938)\n",
      "\tKL: 2.7210 (avg 3.6720)\n",
      "\tLoss: 27.7172 (avg 37.2137)\n"
     ]
    },
    {
     "name": "stderr",
     "output_type": "stream",
     "text": [
      " 74%|███████▎  | 28/38 [00:01<00:00, 21.96it/s]"
     ]
    },
    {
     "name": "stdout",
     "output_type": "stream",
     "text": [
      "Epoch: 76 (25/38)\n",
      "\tData load time: 0.154 sec\n",
      "\tGeneration time: 0.172 sec\n",
      "\tBackprop time: 0.186 sec\n",
      "\tLog probability: -0.5008 (avg -0.4967)\n",
      "\tKL: 2.2517 (avg 3.4892)\n",
      "\tLoss: 23.0183 (avg 35.3891)\n",
      "Epoch: 76 (30/38)\n",
      "\tData load time: 0.154 sec\n",
      "\tGeneration time: 0.172 sec\n",
      "\tBackprop time: 0.186 sec\n",
      "\tLog probability: -0.4851 (avg -0.4985)\n",
      "\tKL: 4.1252 (avg 3.3776)\n",
      "\tLoss: 41.7369 (avg 34.2748)\n"
     ]
    },
    {
     "name": "stderr",
     "output_type": "stream",
     "text": [
      "100%|██████████| 38/38 [00:01<00:00, 22.67it/s]\n",
      "  0%|          | 0/10 [00:00<?, ?it/s]"
     ]
    },
    {
     "name": "stdout",
     "output_type": "stream",
     "text": [
      "Epoch: 76 (35/38)\n",
      "\tData load time: 0.154 sec\n",
      "\tGeneration time: 0.172 sec\n",
      "\tBackprop time: 0.186 sec\n",
      "\tLog probability: -0.4741 (avg -0.4997)\n",
      "\tKL: 3.2126 (avg 3.3580)\n",
      "\tLoss: 32.6000 (avg 34.0796)\n"
     ]
    },
    {
     "name": "stderr",
     "output_type": "stream",
     "text": [
      "100%|██████████| 10/10 [00:00<00:00, 27.22it/s]\n",
      "  0%|          | 0/38 [00:00<?, ?it/s]"
     ]
    },
    {
     "name": "stdout",
     "output_type": "stream",
     "text": [
      "Epoch: 76 (5/10)\n",
      "\tData load time: 0.158 sec\n",
      "\tGeneration time: 0.177 sec\n",
      "\tLog probability: -0.5402 (avg -0.5228)\n",
      "\tKL: 2.3321 (avg 2.5915)\n",
      "\tLoss: 23.8609 (avg 26.4381)\n",
      "Epoch: 76 (10/10)\n",
      "\tData load time: 0.158 sec\n",
      "\tGeneration time: 0.177 sec\n",
      "\tLog probability: -0.5138 (avg -0.5202)\n",
      "\tKL: 2.2978 (avg 2.6335)\n",
      "\tLoss: 23.4914 (avg 26.8549)\n",
      "Lowest validation loss: 22.4972\n"
     ]
    },
    {
     "name": "stderr",
     "output_type": "stream",
     "text": [
      " 26%|██▋       | 10/38 [00:00<00:02, 10.22it/s]"
     ]
    },
    {
     "name": "stdout",
     "output_type": "stream",
     "text": [
      "Epoch: 77 (5/38)\n",
      "\tData load time: 0.178 sec\n",
      "\tGeneration time: 0.197 sec\n",
      "\tBackprop time: 0.211 sec\n",
      "\tLog probability: -0.5166 (avg -0.4939)\n",
      "\tKL: 2.6397 (avg 2.4782)\n",
      "\tLoss: 26.9132 (avg 25.2759)\n",
      "Epoch: 77 (10/38)\n",
      "\tData load time: 0.178 sec\n",
      "\tGeneration time: 0.197 sec\n",
      "\tBackprop time: 0.211 sec\n",
      "\tLog probability: -0.4927 (avg -0.4989)\n",
      "\tKL: 2.8168 (avg 2.7469)\n",
      "\tLoss: 28.6610 (avg 27.9680)\n"
     ]
    },
    {
     "name": "stderr",
     "output_type": "stream",
     "text": [
      " 50%|█████     | 19/38 [00:00<00:01, 16.82it/s]"
     ]
    },
    {
     "name": "stdout",
     "output_type": "stream",
     "text": [
      "Epoch: 77 (15/38)\n",
      "\tData load time: 0.178 sec\n",
      "\tGeneration time: 0.197 sec\n",
      "\tBackprop time: 0.211 sec\n",
      "\tLog probability: -0.5483 (avg -0.5083)\n",
      "\tKL: 2.5543 (avg 3.0839)\n",
      "\tLoss: 26.0916 (avg 31.3472)\n",
      "Epoch: 77 (20/38)\n",
      "\tData load time: 0.178 sec\n",
      "\tGeneration time: 0.197 sec\n",
      "\tBackprop time: 0.211 sec\n",
      "\tLog probability: -0.4930 (avg -0.5055)\n",
      "\tKL: 3.2877 (avg 2.9939)\n",
      "\tLoss: 33.3701 (avg 30.4443)\n"
     ]
    },
    {
     "name": "stderr",
     "output_type": "stream",
     "text": [
      " 74%|███████▎  | 28/38 [00:01<00:00, 21.58it/s]"
     ]
    },
    {
     "name": "stdout",
     "output_type": "stream",
     "text": [
      "Epoch: 77 (25/38)\n",
      "\tData load time: 0.178 sec\n",
      "\tGeneration time: 0.197 sec\n",
      "\tBackprop time: 0.211 sec\n",
      "\tLog probability: -0.4987 (avg -0.5025)\n",
      "\tKL: 2.2028 (avg 3.0435)\n",
      "\tLoss: 22.5266 (avg 30.9379)\n",
      "Epoch: 77 (30/38)\n",
      "\tData load time: 0.178 sec\n",
      "\tGeneration time: 0.197 sec\n",
      "\tBackprop time: 0.211 sec\n",
      "\tLog probability: -0.5522 (avg -0.5019)\n",
      "\tKL: 4.0483 (avg 3.2055)\n",
      "\tLoss: 41.0349 (avg 32.5571)\n"
     ]
    },
    {
     "name": "stderr",
     "output_type": "stream",
     "text": [
      "100%|██████████| 38/38 [00:01<00:00, 22.40it/s]\n",
      "  0%|          | 0/10 [00:00<?, ?it/s]"
     ]
    },
    {
     "name": "stdout",
     "output_type": "stream",
     "text": [
      "Epoch: 77 (35/38)\n",
      "\tData load time: 0.178 sec\n",
      "\tGeneration time: 0.197 sec\n",
      "\tBackprop time: 0.211 sec\n",
      "\tLog probability: -0.4865 (avg -0.5025)\n",
      "\tKL: 2.2626 (avg 3.1705)\n",
      "\tLoss: 23.1128 (avg 32.2077)\n"
     ]
    },
    {
     "name": "stderr",
     "output_type": "stream",
     "text": [
      "100%|██████████| 10/10 [00:00<00:00, 28.47it/s]\n",
      "  0%|          | 0/38 [00:00<?, ?it/s]"
     ]
    },
    {
     "name": "stdout",
     "output_type": "stream",
     "text": [
      "Epoch: 77 (5/10)\n",
      "\tData load time: 0.149 sec\n",
      "\tGeneration time: 0.167 sec\n",
      "\tLog probability: -0.5580 (avg -0.5357)\n",
      "\tKL: 4.7450 (avg 2.7180)\n",
      "\tLoss: 48.0084 (avg 27.7158)\n",
      "Epoch: 77 (10/10)\n",
      "\tData load time: 0.149 sec\n",
      "\tGeneration time: 0.167 sec\n",
      "\tLog probability: -0.5454 (avg -0.5322)\n",
      "\tKL: 1.9487 (avg 2.7323)\n",
      "\tLoss: 20.0323 (avg 27.8551)\n",
      "Lowest validation loss: 22.4972\n"
     ]
    },
    {
     "name": "stderr",
     "output_type": "stream",
     "text": [
      " 26%|██▋       | 10/38 [00:00<00:02, 11.34it/s]"
     ]
    },
    {
     "name": "stdout",
     "output_type": "stream",
     "text": [
      "Epoch: 78 (5/38)\n",
      "\tData load time: 0.152 sec\n",
      "\tGeneration time: 0.171 sec\n",
      "\tBackprop time: 0.183 sec\n",
      "\tLog probability: -0.5064 (avg -0.4974)\n",
      "\tKL: 2.8918 (avg 2.7866)\n",
      "\tLoss: 29.4244 (avg 28.3630)\n",
      "Epoch: 78 (10/38)\n",
      "\tData load time: 0.152 sec\n",
      "\tGeneration time: 0.171 sec\n",
      "\tBackprop time: 0.183 sec\n",
      "\tLog probability: -0.5271 (avg -0.4967)\n",
      "\tKL: 3.2450 (avg 2.6932)\n",
      "\tLoss: 32.9771 (avg 27.4283)\n"
     ]
    },
    {
     "name": "stderr",
     "output_type": "stream",
     "text": [
      " 50%|█████     | 19/38 [00:00<00:01, 17.79it/s]"
     ]
    },
    {
     "name": "stdout",
     "output_type": "stream",
     "text": [
      "Epoch: 78 (15/38)\n",
      "\tData load time: 0.152 sec\n",
      "\tGeneration time: 0.171 sec\n",
      "\tBackprop time: 0.183 sec\n",
      "\tLog probability: -0.5168 (avg -0.4985)\n",
      "\tKL: 3.3945 (avg 2.7104)\n",
      "\tLoss: 34.4614 (avg 27.6021)\n",
      "Epoch: 78 (20/38)\n",
      "\tData load time: 0.152 sec\n",
      "\tGeneration time: 0.171 sec\n",
      "\tBackprop time: 0.183 sec\n",
      "\tLog probability: -0.5186 (avg -0.5022)\n",
      "\tKL: 3.1721 (avg 3.1809)\n",
      "\tLoss: 32.2397 (avg 32.3114)\n"
     ]
    },
    {
     "name": "stderr",
     "output_type": "stream",
     "text": [
      " 74%|███████▎  | 28/38 [00:01<00:00, 22.07it/s]"
     ]
    },
    {
     "name": "stdout",
     "output_type": "stream",
     "text": [
      "Epoch: 78 (25/38)\n",
      "\tData load time: 0.152 sec\n",
      "\tGeneration time: 0.171 sec\n",
      "\tBackprop time: 0.183 sec\n",
      "\tLog probability: -0.4871 (avg -0.5009)\n",
      "\tKL: 2.0014 (avg 3.1464)\n",
      "\tLoss: 20.5012 (avg 31.9652)\n",
      "Epoch: 78 (30/38)\n",
      "\tData load time: 0.152 sec\n",
      "\tGeneration time: 0.171 sec\n",
      "\tBackprop time: 0.183 sec\n",
      "\tLog probability: -0.5002 (avg -0.5004)\n",
      "\tKL: 4.5695 (avg 3.1177)\n",
      "\tLoss: 46.1954 (avg 31.6775)\n"
     ]
    },
    {
     "name": "stderr",
     "output_type": "stream",
     "text": [
      "100%|██████████| 38/38 [00:01<00:00, 22.70it/s]\n",
      "  0%|          | 0/10 [00:00<?, ?it/s]"
     ]
    },
    {
     "name": "stdout",
     "output_type": "stream",
     "text": [
      "Epoch: 78 (35/38)\n",
      "\tData load time: 0.152 sec\n",
      "\tGeneration time: 0.171 sec\n",
      "\tBackprop time: 0.183 sec\n",
      "\tLog probability: -0.4815 (avg -0.5005)\n",
      "\tKL: 2.4453 (avg 3.0858)\n",
      "\tLoss: 24.9341 (avg 31.3586)\n"
     ]
    },
    {
     "name": "stderr",
     "output_type": "stream",
     "text": [
      "100%|██████████| 10/10 [00:00<00:00, 27.59it/s]\n",
      "  0%|          | 0/38 [00:00<?, ?it/s]"
     ]
    },
    {
     "name": "stdout",
     "output_type": "stream",
     "text": [
      "Epoch: 78 (5/10)\n",
      "\tData load time: 0.158 sec\n",
      "\tGeneration time: 0.176 sec\n",
      "\tLog probability: -0.5381 (avg -0.5320)\n",
      "\tKL: 1.9671 (avg 2.5638)\n",
      "\tLoss: 20.2093 (avg 26.1699)\n",
      "Epoch: 78 (10/10)\n",
      "\tData load time: 0.158 sec\n",
      "\tGeneration time: 0.176 sec\n",
      "\tLog probability: -0.4700 (avg -0.5225)\n",
      "\tKL: 2.6527 (avg 2.8111)\n",
      "\tLoss: 26.9969 (avg 28.6334)\n",
      "Lowest validation loss: 22.4972\n"
     ]
    },
    {
     "name": "stderr",
     "output_type": "stream",
     "text": [
      " 26%|██▋       | 10/38 [00:00<00:02, 11.33it/s]"
     ]
    },
    {
     "name": "stdout",
     "output_type": "stream",
     "text": [
      "Epoch: 79 (5/38)\n",
      "\tData load time: 0.152 sec\n",
      "\tGeneration time: 0.170 sec\n",
      "\tBackprop time: 0.183 sec\n",
      "\tLog probability: -0.5483 (avg -0.5174)\n",
      "\tKL: 4.9394 (avg 3.5083)\n",
      "\tLoss: 49.9428 (avg 35.6007)\n",
      "Epoch: 79 (10/38)\n",
      "\tData load time: 0.152 sec\n",
      "\tGeneration time: 0.170 sec\n",
      "\tBackprop time: 0.183 sec\n",
      "\tLog probability: -0.4877 (avg -0.5043)\n",
      "\tKL: 2.5231 (avg 3.2591)\n",
      "\tLoss: 25.7189 (avg 33.0954)\n"
     ]
    },
    {
     "name": "stderr",
     "output_type": "stream",
     "text": [
      " 50%|█████     | 19/38 [00:00<00:01, 17.81it/s]"
     ]
    },
    {
     "name": "stdout",
     "output_type": "stream",
     "text": [
      "Epoch: 79 (15/38)\n",
      "\tData load time: 0.152 sec\n",
      "\tGeneration time: 0.170 sec\n",
      "\tBackprop time: 0.183 sec\n",
      "\tLog probability: -0.5863 (avg -0.5065)\n",
      "\tKL: 3.0062 (avg 3.1931)\n",
      "\tLoss: 30.6480 (avg 32.4378)\n",
      "Epoch: 79 (20/38)\n",
      "\tData load time: 0.152 sec\n",
      "\tGeneration time: 0.170 sec\n",
      "\tBackprop time: 0.183 sec\n",
      "\tLog probability: -0.4673 (avg -0.5029)\n",
      "\tKL: 3.2853 (avg 3.1404)\n",
      "\tLoss: 33.3205 (avg 31.9066)\n"
     ]
    },
    {
     "name": "stderr",
     "output_type": "stream",
     "text": [
      " 74%|███████▎  | 28/38 [00:01<00:00, 22.08it/s]"
     ]
    },
    {
     "name": "stdout",
     "output_type": "stream",
     "text": [
      "Epoch: 79 (25/38)\n",
      "\tData load time: 0.152 sec\n",
      "\tGeneration time: 0.170 sec\n",
      "\tBackprop time: 0.183 sec\n",
      "\tLog probability: -0.4830 (avg -0.5047)\n",
      "\tKL: 2.9388 (avg 3.2886)\n",
      "\tLoss: 29.8706 (avg 33.3906)\n",
      "Epoch: 79 (30/38)\n",
      "\tData load time: 0.152 sec\n",
      "\tGeneration time: 0.170 sec\n",
      "\tBackprop time: 0.183 sec\n",
      "\tLog probability: -0.4965 (avg -0.5024)\n",
      "\tKL: 2.5101 (avg 3.1875)\n",
      "\tLoss: 25.5977 (avg 32.3772)\n"
     ]
    },
    {
     "name": "stderr",
     "output_type": "stream",
     "text": [
      "100%|██████████| 38/38 [00:01<00:00, 22.74it/s]\n",
      "  0%|          | 0/10 [00:00<?, ?it/s]"
     ]
    },
    {
     "name": "stdout",
     "output_type": "stream",
     "text": [
      "Epoch: 79 (35/38)\n",
      "\tData load time: 0.152 sec\n",
      "\tGeneration time: 0.170 sec\n",
      "\tBackprop time: 0.183 sec\n",
      "\tLog probability: -0.5039 (avg -0.5026)\n",
      "\tKL: 1.8988 (avg 3.1907)\n",
      "\tLoss: 19.4920 (avg 32.4099)\n"
     ]
    },
    {
     "name": "stderr",
     "output_type": "stream",
     "text": [
      "100%|██████████| 10/10 [00:00<00:00, 27.50it/s]\n",
      "  0%|          | 0/38 [00:00<?, ?it/s]"
     ]
    },
    {
     "name": "stdout",
     "output_type": "stream",
     "text": [
      "Epoch: 79 (5/10)\n",
      "\tData load time: 0.161 sec\n",
      "\tGeneration time: 0.180 sec\n",
      "\tLog probability: -0.5757 (avg -0.5457)\n",
      "\tKL: 2.7836 (avg 3.4301)\n",
      "\tLoss: 28.4122 (avg 34.8466)\n",
      "Epoch: 79 (10/10)\n",
      "\tData load time: 0.161 sec\n",
      "\tGeneration time: 0.180 sec\n",
      "\tLog probability: -0.5019 (avg -0.5396)\n",
      "\tKL: 2.8433 (avg 2.9219)\n",
      "\tLoss: 28.9345 (avg 29.7586)\n",
      "Lowest validation loss: 22.4972\n"
     ]
    },
    {
     "name": "stderr",
     "output_type": "stream",
     "text": [
      " 26%|██▋       | 10/38 [00:00<00:02, 11.09it/s]"
     ]
    },
    {
     "name": "stdout",
     "output_type": "stream",
     "text": [
      "Epoch: 80 (5/38)\n",
      "\tData load time: 0.155 sec\n",
      "\tGeneration time: 0.174 sec\n",
      "\tBackprop time: 0.189 sec\n",
      "\tLog probability: -0.5152 (avg -0.4968)\n",
      "\tKL: 2.6655 (avg 2.6945)\n",
      "\tLoss: 27.1704 (avg 27.4418)\n",
      "Epoch: 80 (10/38)\n",
      "\tData load time: 0.155 sec\n",
      "\tGeneration time: 0.174 sec\n",
      "\tBackprop time: 0.189 sec\n",
      "\tLog probability: -0.5065 (avg -0.5056)\n",
      "\tKL: 1.9872 (avg 3.5623)\n",
      "\tLoss: 20.3788 (avg 36.1283)\n"
     ]
    },
    {
     "name": "stderr",
     "output_type": "stream",
     "text": [
      " 50%|█████     | 19/38 [00:00<00:01, 17.60it/s]"
     ]
    },
    {
     "name": "stdout",
     "output_type": "stream",
     "text": [
      "Epoch: 80 (15/38)\n",
      "\tData load time: 0.155 sec\n",
      "\tGeneration time: 0.174 sec\n",
      "\tBackprop time: 0.189 sec\n",
      "\tLog probability: -0.5637 (avg -0.5066)\n",
      "\tKL: 2.4399 (avg 3.3039)\n",
      "\tLoss: 24.9622 (avg 33.5458)\n",
      "Epoch: 80 (20/38)\n",
      "\tData load time: 0.155 sec\n",
      "\tGeneration time: 0.174 sec\n",
      "\tBackprop time: 0.189 sec\n",
      "\tLog probability: -0.5027 (avg -0.5057)\n",
      "\tKL: 3.8523 (avg 3.2030)\n",
      "\tLoss: 39.0254 (avg 32.5362)\n"
     ]
    },
    {
     "name": "stderr",
     "output_type": "stream",
     "text": [
      " 74%|███████▎  | 28/38 [00:01<00:00, 21.93it/s]"
     ]
    },
    {
     "name": "stdout",
     "output_type": "stream",
     "text": [
      "Epoch: 80 (25/38)\n",
      "\tData load time: 0.155 sec\n",
      "\tGeneration time: 0.174 sec\n",
      "\tBackprop time: 0.189 sec\n",
      "\tLog probability: -0.4843 (avg -0.5057)\n",
      "\tKL: 2.9100 (avg 3.1704)\n",
      "\tLoss: 29.5846 (avg 32.2094)\n",
      "Epoch: 80 (30/38)\n",
      "\tData load time: 0.155 sec\n",
      "\tGeneration time: 0.174 sec\n",
      "\tBackprop time: 0.189 sec\n",
      "\tLog probability: -0.4989 (avg -0.5030)\n",
      "\tKL: 2.4076 (avg 3.0694)\n",
      "\tLoss: 24.5751 (avg 31.1971)\n"
     ]
    },
    {
     "name": "stderr",
     "output_type": "stream",
     "text": [
      "100%|██████████| 38/38 [00:01<00:00, 22.62it/s]\n",
      "  0%|          | 0/10 [00:00<?, ?it/s]"
     ]
    },
    {
     "name": "stdout",
     "output_type": "stream",
     "text": [
      "Epoch: 80 (35/38)\n",
      "\tData load time: 0.155 sec\n",
      "\tGeneration time: 0.174 sec\n",
      "\tBackprop time: 0.189 sec\n",
      "\tLog probability: -0.5107 (avg -0.5019)\n",
      "\tKL: 2.8401 (avg 3.1030)\n",
      "\tLoss: 28.9118 (avg 31.5315)\n"
     ]
    },
    {
     "name": "stderr",
     "output_type": "stream",
     "text": [
      "100%|██████████| 10/10 [00:00<00:00, 27.85it/s]\n",
      "  0%|          | 0/38 [00:00<?, ?it/s]"
     ]
    },
    {
     "name": "stdout",
     "output_type": "stream",
     "text": [
      "Epoch: 80 (5/10)\n",
      "\tData load time: 0.155 sec\n",
      "\tGeneration time: 0.173 sec\n",
      "\tLog probability: -0.5954 (avg -0.5705)\n",
      "\tKL: 3.1576 (avg 2.4340)\n",
      "\tLoss: 32.1717 (avg 24.9106)\n",
      "Epoch: 80 (10/10)\n",
      "\tData load time: 0.155 sec\n",
      "\tGeneration time: 0.173 sec\n",
      "\tLog probability: -0.5872 (avg -0.5724)\n",
      "\tKL: 4.3597 (avg 2.6096)\n",
      "\tLoss: 44.1847 (avg 26.6686)\n",
      "Lowest validation loss: 22.4972\n"
     ]
    },
    {
     "name": "stderr",
     "output_type": "stream",
     "text": [
      " 26%|██▋       | 10/38 [00:00<00:02, 10.97it/s]"
     ]
    },
    {
     "name": "stdout",
     "output_type": "stream",
     "text": [
      "Epoch: 81 (5/38)\n",
      "\tData load time: 0.160 sec\n",
      "\tGeneration time: 0.179 sec\n",
      "\tBackprop time: 0.192 sec\n",
      "\tLog probability: -0.5349 (avg -0.5055)\n",
      "\tKL: 3.5069 (avg 3.8575)\n",
      "\tLoss: 35.6039 (avg 39.0809)\n",
      "Epoch: 81 (10/38)\n",
      "\tData load time: 0.160 sec\n",
      "\tGeneration time: 0.179 sec\n",
      "\tBackprop time: 0.192 sec\n",
      "\tLog probability: -0.5630 (avg -0.5067)\n",
      "\tKL: 5.5350 (avg 3.7427)\n",
      "\tLoss: 55.9127 (avg 37.9341)\n"
     ]
    },
    {
     "name": "stderr",
     "output_type": "stream",
     "text": [
      " 50%|█████     | 19/38 [00:00<00:01, 17.44it/s]"
     ]
    },
    {
     "name": "stdout",
     "output_type": "stream",
     "text": [
      "Epoch: 81 (15/38)\n",
      "\tData load time: 0.160 sec\n",
      "\tGeneration time: 0.179 sec\n",
      "\tBackprop time: 0.192 sec\n",
      "\tLog probability: -0.5167 (avg -0.4997)\n",
      "\tKL: 3.6799 (avg 3.5982)\n",
      "\tLoss: 37.3161 (avg 36.4818)\n",
      "Epoch: 81 (20/38)\n",
      "\tData load time: 0.160 sec\n",
      "\tGeneration time: 0.179 sec\n",
      "\tBackprop time: 0.192 sec\n",
      "\tLog probability: -0.5009 (avg -0.4983)\n",
      "\tKL: 2.6271 (avg 3.3488)\n",
      "\tLoss: 26.7719 (avg 33.9862)\n"
     ]
    },
    {
     "name": "stderr",
     "output_type": "stream",
     "text": [
      " 74%|███████▎  | 28/38 [00:01<00:00, 21.94it/s]"
     ]
    },
    {
     "name": "stdout",
     "output_type": "stream",
     "text": [
      "Epoch: 81 (25/38)\n",
      "\tData load time: 0.160 sec\n",
      "\tGeneration time: 0.179 sec\n",
      "\tBackprop time: 0.192 sec\n",
      "\tLog probability: -0.4820 (avg -0.4983)\n",
      "\tKL: 2.6186 (avg 3.3715)\n",
      "\tLoss: 26.6680 (avg 34.2134)\n",
      "Epoch: 81 (30/38)\n",
      "\tData load time: 0.160 sec\n",
      "\tGeneration time: 0.179 sec\n",
      "\tBackprop time: 0.192 sec\n",
      "\tLog probability: -0.5450 (avg -0.5014)\n",
      "\tKL: 2.8467 (avg 3.3375)\n",
      "\tLoss: 29.0124 (avg 33.8764)\n"
     ]
    },
    {
     "name": "stderr",
     "output_type": "stream",
     "text": [
      "100%|██████████| 38/38 [00:01<00:00, 22.62it/s]\n",
      "  0%|          | 0/10 [00:00<?, ?it/s]"
     ]
    },
    {
     "name": "stdout",
     "output_type": "stream",
     "text": [
      "Epoch: 81 (35/38)\n",
      "\tData load time: 0.160 sec\n",
      "\tGeneration time: 0.179 sec\n",
      "\tBackprop time: 0.192 sec\n",
      "\tLog probability: -0.4699 (avg -0.4994)\n",
      "\tKL: 2.1797 (avg 3.3426)\n",
      "\tLoss: 22.2669 (avg 33.9257)\n"
     ]
    },
    {
     "name": "stderr",
     "output_type": "stream",
     "text": [
      "100%|██████████| 10/10 [00:00<00:00, 27.94it/s]\n",
      "  0%|          | 0/38 [00:00<?, ?it/s]"
     ]
    },
    {
     "name": "stdout",
     "output_type": "stream",
     "text": [
      "Epoch: 81 (5/10)\n",
      "\tData load time: 0.154 sec\n",
      "\tGeneration time: 0.172 sec\n",
      "\tLog probability: -0.5177 (avg -0.5173)\n",
      "\tKL: 2.8143 (avg 2.5116)\n",
      "\tLoss: 28.6611 (avg 25.6333)\n",
      "Epoch: 81 (10/10)\n",
      "\tData load time: 0.154 sec\n",
      "\tGeneration time: 0.172 sec\n",
      "\tLog probability: -0.5073 (avg -0.5185)\n",
      "\tKL: 6.5008 (avg 2.9031)\n",
      "\tLoss: 65.5154 (avg 29.5495)\n",
      "Lowest validation loss: 22.4972\n"
     ]
    },
    {
     "name": "stderr",
     "output_type": "stream",
     "text": [
      " 26%|██▋       | 10/38 [00:00<00:02, 10.61it/s]"
     ]
    },
    {
     "name": "stdout",
     "output_type": "stream",
     "text": [
      "Epoch: 82 (5/38)\n",
      "\tData load time: 0.167 sec\n",
      "\tGeneration time: 0.187 sec\n",
      "\tBackprop time: 0.200 sec\n",
      "\tLog probability: -0.5290 (avg -0.4989)\n",
      "\tKL: 2.5536 (avg 2.4531)\n",
      "\tLoss: 26.0653 (avg 25.0297)\n",
      "Epoch: 82 (10/38)\n",
      "\tData load time: 0.167 sec\n",
      "\tGeneration time: 0.187 sec\n",
      "\tBackprop time: 0.200 sec\n",
      "\tLog probability: -0.4753 (avg -0.4887)\n",
      "\tKL: 3.2205 (avg 2.5676)\n",
      "\tLoss: 32.6802 (avg 26.1645)\n"
     ]
    },
    {
     "name": "stderr",
     "output_type": "stream",
     "text": [
      " 50%|█████     | 19/38 [00:00<00:01, 17.15it/s]"
     ]
    },
    {
     "name": "stdout",
     "output_type": "stream",
     "text": [
      "Epoch: 82 (15/38)\n",
      "\tData load time: 0.167 sec\n",
      "\tGeneration time: 0.187 sec\n",
      "\tBackprop time: 0.200 sec\n",
      "\tLog probability: -0.4729 (avg -0.4876)\n",
      "\tKL: 8.3858 (avg 3.1147)\n",
      "\tLoss: 84.3310 (avg 31.6342)\n",
      "Epoch: 82 (20/38)\n",
      "\tData load time: 0.167 sec\n",
      "\tGeneration time: 0.187 sec\n",
      "\tBackprop time: 0.200 sec\n",
      "\tLog probability: -0.5505 (avg -0.4927)\n",
      "\tKL: 3.0777 (avg 3.0271)\n",
      "\tLoss: 31.3274 (avg 30.7642)\n"
     ]
    },
    {
     "name": "stderr",
     "output_type": "stream",
     "text": [
      " 74%|███████▎  | 28/38 [00:01<00:00, 21.78it/s]"
     ]
    },
    {
     "name": "stdout",
     "output_type": "stream",
     "text": [
      "Epoch: 82 (25/38)\n",
      "\tData load time: 0.167 sec\n",
      "\tGeneration time: 0.187 sec\n",
      "\tBackprop time: 0.200 sec\n",
      "\tLog probability: -0.4835 (avg -0.4916)\n",
      "\tKL: 1.9137 (avg 2.9387)\n",
      "\tLoss: 19.6205 (avg 29.8788)\n",
      "Epoch: 82 (30/38)\n",
      "\tData load time: 0.167 sec\n",
      "\tGeneration time: 0.187 sec\n",
      "\tBackprop time: 0.200 sec\n",
      "\tLog probability: -0.4676 (avg -0.4912)\n",
      "\tKL: 2.2785 (avg 2.9040)\n",
      "\tLoss: 23.2521 (avg 29.5315)\n"
     ]
    },
    {
     "name": "stderr",
     "output_type": "stream",
     "text": [
      "100%|██████████| 38/38 [00:01<00:00, 22.50it/s]\n",
      "  0%|          | 0/10 [00:00<?, ?it/s]"
     ]
    },
    {
     "name": "stdout",
     "output_type": "stream",
     "text": [
      "Epoch: 82 (35/38)\n",
      "\tData load time: 0.167 sec\n",
      "\tGeneration time: 0.187 sec\n",
      "\tBackprop time: 0.200 sec\n",
      "\tLog probability: -0.4705 (avg -0.4911)\n",
      "\tKL: 2.6499 (avg 2.9752)\n",
      "\tLoss: 26.9698 (avg 30.2427)\n"
     ]
    },
    {
     "name": "stderr",
     "output_type": "stream",
     "text": [
      "100%|██████████| 10/10 [00:00<00:00, 27.24it/s]\n",
      "  0%|          | 0/38 [00:00<?, ?it/s]"
     ]
    },
    {
     "name": "stdout",
     "output_type": "stream",
     "text": [
      "Epoch: 82 (5/10)\n",
      "\tData load time: 0.162 sec\n",
      "\tGeneration time: 0.181 sec\n",
      "\tLog probability: -0.6037 (avg -0.5897)\n",
      "\tKL: 2.2665 (avg 2.5243)\n",
      "\tLoss: 23.2684 (avg 25.8324)\n",
      "Epoch: 82 (10/10)\n",
      "\tData load time: 0.162 sec\n",
      "\tGeneration time: 0.181 sec\n",
      "\tLog probability: -0.5380 (avg -0.5808)\n",
      "\tKL: 2.0570 (avg 2.5946)\n",
      "\tLoss: 21.1082 (avg 26.5270)\n",
      "Lowest validation loss: 22.4972\n"
     ]
    },
    {
     "name": "stderr",
     "output_type": "stream",
     "text": [
      " 26%|██▋       | 10/38 [00:00<00:02, 10.69it/s]"
     ]
    },
    {
     "name": "stdout",
     "output_type": "stream",
     "text": [
      "Epoch: 83 (5/38)\n",
      "\tData load time: 0.167 sec\n",
      "\tGeneration time: 0.185 sec\n",
      "\tBackprop time: 0.198 sec\n",
      "\tLog probability: -0.5680 (avg -0.5277)\n",
      "\tKL: 4.8373 (avg 3.0461)\n",
      "\tLoss: 48.9407 (avg 30.9892)\n",
      "Epoch: 83 (10/38)\n",
      "\tData load time: 0.167 sec\n",
      "\tGeneration time: 0.185 sec\n",
      "\tBackprop time: 0.198 sec\n",
      "\tLog probability: -0.5794 (avg -0.5196)\n",
      "\tKL: 3.6501 (avg 3.1450)\n",
      "\tLoss: 37.0807 (avg 31.9693)\n"
     ]
    },
    {
     "name": "stderr",
     "output_type": "stream",
     "text": [
      " 50%|█████     | 19/38 [00:00<00:01, 17.27it/s]"
     ]
    },
    {
     "name": "stdout",
     "output_type": "stream",
     "text": [
      "Epoch: 83 (15/38)\n",
      "\tData load time: 0.167 sec\n",
      "\tGeneration time: 0.185 sec\n",
      "\tBackprop time: 0.198 sec\n",
      "\tLog probability: -0.6479 (avg -0.5203)\n",
      "\tKL: 3.4437 (avg 3.1760)\n",
      "\tLoss: 35.0851 (avg 32.2800)\n",
      "Epoch: 83 (20/38)\n",
      "\tData load time: 0.167 sec\n",
      "\tGeneration time: 0.185 sec\n",
      "\tBackprop time: 0.198 sec\n",
      "\tLog probability: -0.4775 (avg -0.5188)\n",
      "\tKL: 2.6488 (avg 3.1069)\n",
      "\tLoss: 26.9660 (avg 31.5879)\n"
     ]
    },
    {
     "name": "stderr",
     "output_type": "stream",
     "text": [
      " 74%|███████▎  | 28/38 [00:01<00:00, 21.80it/s]"
     ]
    },
    {
     "name": "stdout",
     "output_type": "stream",
     "text": [
      "Epoch: 83 (25/38)\n",
      "\tData load time: 0.167 sec\n",
      "\tGeneration time: 0.185 sec\n",
      "\tBackprop time: 0.198 sec\n",
      "\tLog probability: -0.5220 (avg -0.5159)\n",
      "\tKL: 2.3947 (avg 3.0478)\n",
      "\tLoss: 24.4690 (avg 30.9944)\n",
      "Epoch: 83 (30/38)\n",
      "\tData load time: 0.167 sec\n",
      "\tGeneration time: 0.185 sec\n",
      "\tBackprop time: 0.198 sec\n",
      "\tLog probability: -0.5173 (avg -0.5176)\n",
      "\tKL: 6.6044 (avg 3.1080)\n",
      "\tLoss: 66.5608 (avg 31.5977)\n"
     ]
    },
    {
     "name": "stderr",
     "output_type": "stream",
     "text": [
      "100%|██████████| 38/38 [00:01<00:00, 22.48it/s]\n",
      "  0%|          | 0/10 [00:00<?, ?it/s]"
     ]
    },
    {
     "name": "stdout",
     "output_type": "stream",
     "text": [
      "Epoch: 83 (35/38)\n",
      "\tData load time: 0.167 sec\n",
      "\tGeneration time: 0.185 sec\n",
      "\tBackprop time: 0.198 sec\n",
      "\tLog probability: -0.4936 (avg -0.5139)\n",
      "\tKL: 2.0865 (avg 3.0817)\n",
      "\tLoss: 21.3590 (avg 31.3309)\n"
     ]
    },
    {
     "name": "stderr",
     "output_type": "stream",
     "text": [
      "100%|██████████| 10/10 [00:00<00:00, 27.98it/s]\n",
      "  0%|          | 0/38 [00:00<?, ?it/s]"
     ]
    },
    {
     "name": "stdout",
     "output_type": "stream",
     "text": [
      "Epoch: 83 (5/10)\n",
      "\tData load time: 0.154 sec\n",
      "\tGeneration time: 0.172 sec\n",
      "\tLog probability: -0.5284 (avg -0.5205)\n",
      "\tKL: 2.6180 (avg 2.6122)\n",
      "\tLoss: 26.7083 (avg 26.6430)\n",
      "Epoch: 83 (10/10)\n",
      "\tData load time: 0.154 sec\n",
      "\tGeneration time: 0.172 sec\n",
      "\tLog probability: -0.4676 (avg -0.5211)\n",
      "\tKL: 1.8559 (avg 2.4263)\n",
      "\tLoss: 19.0264 (avg 24.7837)\n",
      "Lowest validation loss: 22.4972\n"
     ]
    },
    {
     "name": "stderr",
     "output_type": "stream",
     "text": [
      " 26%|██▋       | 10/38 [00:00<00:02, 10.67it/s]"
     ]
    },
    {
     "name": "stdout",
     "output_type": "stream",
     "text": [
      "Epoch: 84 (5/38)\n",
      "\tData load time: 0.166 sec\n",
      "\tGeneration time: 0.185 sec\n",
      "\tBackprop time: 0.199 sec\n",
      "\tLog probability: -0.5356 (avg -0.5069)\n",
      "\tKL: 5.2186 (avg 3.3996)\n",
      "\tLoss: 52.7217 (avg 34.5029)\n",
      "Epoch: 84 (10/38)\n",
      "\tData load time: 0.166 sec\n",
      "\tGeneration time: 0.185 sec\n",
      "\tBackprop time: 0.199 sec\n",
      "\tLog probability: -0.5072 (avg -0.5032)\n",
      "\tKL: 2.3771 (avg 3.1254)\n",
      "\tLoss: 24.2785 (avg 31.7570)\n"
     ]
    },
    {
     "name": "stderr",
     "output_type": "stream",
     "text": [
      " 50%|█████     | 19/38 [00:00<00:01, 17.24it/s]"
     ]
    },
    {
     "name": "stdout",
     "output_type": "stream",
     "text": [
      "Epoch: 84 (15/38)\n",
      "\tData load time: 0.166 sec\n",
      "\tGeneration time: 0.185 sec\n",
      "\tBackprop time: 0.199 sec\n",
      "\tLog probability: -0.4667 (avg -0.4978)\n",
      "\tKL: 3.1092 (avg 3.0904)\n",
      "\tLoss: 31.5586 (avg 31.4018)\n",
      "Epoch: 84 (20/38)\n",
      "\tData load time: 0.166 sec\n",
      "\tGeneration time: 0.185 sec\n",
      "\tBackprop time: 0.199 sec\n",
      "\tLog probability: -0.5314 (avg -0.4999)\n",
      "\tKL: 2.5591 (avg 2.9984)\n",
      "\tLoss: 26.1228 (avg 30.4843)\n"
     ]
    },
    {
     "name": "stderr",
     "output_type": "stream",
     "text": [
      " 74%|███████▎  | 28/38 [00:01<00:00, 21.75it/s]"
     ]
    },
    {
     "name": "stdout",
     "output_type": "stream",
     "text": [
      "Epoch: 84 (25/38)\n",
      "\tData load time: 0.166 sec\n",
      "\tGeneration time: 0.185 sec\n",
      "\tBackprop time: 0.199 sec\n",
      "\tLog probability: -0.4844 (avg -0.5012)\n",
      "\tKL: 2.8097 (avg 2.9359)\n",
      "\tLoss: 28.5815 (avg 29.8600)\n",
      "Epoch: 84 (30/38)\n",
      "\tData load time: 0.166 sec\n",
      "\tGeneration time: 0.185 sec\n",
      "\tBackprop time: 0.199 sec\n",
      "\tLog probability: -0.4686 (avg -0.4982)\n",
      "\tKL: 2.4539 (avg 2.9544)\n",
      "\tLoss: 25.0078 (avg 30.0417)\n"
     ]
    },
    {
     "name": "stderr",
     "output_type": "stream",
     "text": [
      "100%|██████████| 38/38 [00:01<00:00, 22.59it/s]\n",
      "  0%|          | 0/10 [00:00<?, ?it/s]"
     ]
    },
    {
     "name": "stdout",
     "output_type": "stream",
     "text": [
      "Epoch: 84 (35/38)\n",
      "\tData load time: 0.166 sec\n",
      "\tGeneration time: 0.185 sec\n",
      "\tBackprop time: 0.199 sec\n",
      "\tLog probability: -0.4887 (avg -0.4986)\n",
      "\tKL: 4.4648 (avg 3.2160)\n",
      "\tLoss: 45.1363 (avg 32.6587)\n"
     ]
    },
    {
     "name": "stderr",
     "output_type": "stream",
     "text": [
      "100%|██████████| 10/10 [00:00<00:00, 28.07it/s]\n",
      "  0%|          | 0/38 [00:00<?, ?it/s]"
     ]
    },
    {
     "name": "stdout",
     "output_type": "stream",
     "text": [
      "Epoch: 84 (5/10)\n",
      "\tData load time: 0.153 sec\n",
      "\tGeneration time: 0.170 sec\n",
      "\tLog probability: -0.5252 (avg -0.5362)\n",
      "\tKL: 2.3923 (avg 2.2860)\n",
      "\tLoss: 24.4479 (avg 23.3959)\n",
      "Epoch: 84 (10/10)\n",
      "\tData load time: 0.153 sec\n",
      "\tGeneration time: 0.170 sec\n",
      "\tLog probability: -0.5321 (avg -0.5427)\n",
      "\tKL: 2.1236 (avg 2.3674)\n",
      "\tLoss: 21.7678 (avg 24.2166)\n",
      "Lowest validation loss: 22.4972\n"
     ]
    },
    {
     "name": "stderr",
     "output_type": "stream",
     "text": [
      " 26%|██▋       | 10/38 [00:00<00:02, 11.00it/s]"
     ]
    },
    {
     "name": "stdout",
     "output_type": "stream",
     "text": [
      "Epoch: 85 (5/38)\n",
      "\tData load time: 0.159 sec\n",
      "\tGeneration time: 0.178 sec\n",
      "\tBackprop time: 0.191 sec\n",
      "\tLog probability: -0.5060 (avg -0.4992)\n",
      "\tKL: 2.3621 (avg 2.8045)\n",
      "\tLoss: 24.1274 (avg 28.5440)\n",
      "Epoch: 85 (10/38)\n",
      "\tData load time: 0.159 sec\n",
      "\tGeneration time: 0.178 sec\n",
      "\tBackprop time: 0.191 sec\n",
      "\tLog probability: -0.4675 (avg -0.4961)\n",
      "\tKL: 4.1449 (avg 2.8821)\n",
      "\tLoss: 41.9168 (avg 29.3169)\n"
     ]
    },
    {
     "name": "stderr",
     "output_type": "stream",
     "text": [
      " 50%|█████     | 19/38 [00:00<00:01, 17.54it/s]"
     ]
    },
    {
     "name": "stdout",
     "output_type": "stream",
     "text": [
      "Epoch: 85 (15/38)\n",
      "\tData load time: 0.159 sec\n",
      "\tGeneration time: 0.178 sec\n",
      "\tBackprop time: 0.191 sec\n",
      "\tLog probability: -0.4945 (avg -0.4971)\n",
      "\tKL: 2.5558 (avg 2.9919)\n",
      "\tLoss: 26.0528 (avg 30.4163)\n",
      "Epoch: 85 (20/38)\n",
      "\tData load time: 0.159 sec\n",
      "\tGeneration time: 0.178 sec\n",
      "\tBackprop time: 0.191 sec\n",
      "\tLog probability: -0.4944 (avg -0.4975)\n",
      "\tKL: 2.0266 (avg 2.9863)\n",
      "\tLoss: 20.7602 (avg 30.3601)\n"
     ]
    },
    {
     "name": "stderr",
     "output_type": "stream",
     "text": [
      " 74%|███████▎  | 28/38 [00:01<00:00, 22.01it/s]"
     ]
    },
    {
     "name": "stdout",
     "output_type": "stream",
     "text": [
      "Epoch: 85 (25/38)\n",
      "\tData load time: 0.159 sec\n",
      "\tGeneration time: 0.178 sec\n",
      "\tBackprop time: 0.191 sec\n",
      "\tLog probability: -0.4663 (avg -0.4994)\n",
      "\tKL: 3.3131 (avg 3.1970)\n",
      "\tLoss: 33.5969 (avg 32.4697)\n",
      "Epoch: 85 (30/38)\n",
      "\tData load time: 0.159 sec\n",
      "\tGeneration time: 0.178 sec\n",
      "\tBackprop time: 0.191 sec\n",
      "\tLog probability: -0.5198 (avg -0.5005)\n",
      "\tKL: 3.0867 (avg 3.0918)\n",
      "\tLoss: 31.3863 (avg 31.4186)\n"
     ]
    },
    {
     "name": "stderr",
     "output_type": "stream",
     "text": [
      "100%|██████████| 38/38 [00:01<00:00, 22.67it/s]\n",
      "  0%|          | 0/10 [00:00<?, ?it/s]"
     ]
    },
    {
     "name": "stdout",
     "output_type": "stream",
     "text": [
      "Epoch: 85 (35/38)\n",
      "\tData load time: 0.159 sec\n",
      "\tGeneration time: 0.178 sec\n",
      "\tBackprop time: 0.191 sec\n",
      "\tLog probability: -0.4888 (avg -0.4983)\n",
      "\tKL: 4.6696 (avg 3.0852)\n",
      "\tLoss: 47.1850 (avg 31.3499)\n"
     ]
    },
    {
     "name": "stderr",
     "output_type": "stream",
     "text": [
      "100%|██████████| 10/10 [00:00<00:00, 26.78it/s]\n",
      "  0%|          | 0/38 [00:00<?, ?it/s]"
     ]
    },
    {
     "name": "stdout",
     "output_type": "stream",
     "text": [
      "Epoch: 85 (5/10)\n",
      "\tData load time: 0.173 sec\n",
      "\tGeneration time: 0.190 sec\n",
      "\tLog probability: -0.5780 (avg -0.5605)\n",
      "\tKL: 2.3504 (avg 2.4364)\n",
      "\tLoss: 24.0818 (avg 24.9244)\n",
      "Epoch: 85 (10/10)\n",
      "\tData load time: 0.173 sec\n",
      "\tGeneration time: 0.190 sec\n",
      "\tLog probability: -0.5354 (avg -0.5545)\n",
      "\tKL: 2.6898 (avg 2.5399)\n",
      "\tLoss: 27.4333 (avg 25.9535)\n",
      "Lowest validation loss: 22.4972\n"
     ]
    },
    {
     "name": "stderr",
     "output_type": "stream",
     "text": [
      " 26%|██▋       | 10/38 [00:00<00:02, 11.12it/s]"
     ]
    },
    {
     "name": "stdout",
     "output_type": "stream",
     "text": [
      "Epoch: 86 (5/38)\n",
      "\tData load time: 0.156 sec\n",
      "\tGeneration time: 0.175 sec\n",
      "\tBackprop time: 0.188 sec\n",
      "\tLog probability: -0.5075 (avg -0.5046)\n",
      "\tKL: 2.2445 (avg 3.0403)\n",
      "\tLoss: 22.9525 (avg 30.9072)\n",
      "Epoch: 86 (10/38)\n",
      "\tData load time: 0.156 sec\n",
      "\tGeneration time: 0.175 sec\n",
      "\tBackprop time: 0.188 sec\n",
      "\tLog probability: -0.5171 (avg -0.4996)\n",
      "\tKL: 2.4390 (avg 2.8033)\n",
      "\tLoss: 24.9070 (avg 28.5329)\n"
     ]
    },
    {
     "name": "stderr",
     "output_type": "stream",
     "text": [
      " 50%|█████     | 19/38 [00:00<00:01, 17.67it/s]"
     ]
    },
    {
     "name": "stdout",
     "output_type": "stream",
     "text": [
      "Epoch: 86 (15/38)\n",
      "\tData load time: 0.156 sec\n",
      "\tGeneration time: 0.175 sec\n",
      "\tBackprop time: 0.188 sec\n",
      "\tLog probability: -0.5256 (avg -0.5005)\n",
      "\tKL: 3.5803 (avg 2.8375)\n",
      "\tLoss: 36.3285 (avg 28.8754)\n",
      "Epoch: 86 (20/38)\n",
      "\tData load time: 0.156 sec\n",
      "\tGeneration time: 0.175 sec\n",
      "\tBackprop time: 0.188 sec\n",
      "\tLog probability: -0.5312 (avg -0.5038)\n",
      "\tKL: 2.7290 (avg 2.9661)\n",
      "\tLoss: 27.8212 (avg 30.1649)\n"
     ]
    },
    {
     "name": "stderr",
     "output_type": "stream",
     "text": [
      " 74%|███████▎  | 28/38 [00:01<00:00, 22.06it/s]"
     ]
    },
    {
     "name": "stdout",
     "output_type": "stream",
     "text": [
      "Epoch: 86 (25/38)\n",
      "\tData load time: 0.156 sec\n",
      "\tGeneration time: 0.175 sec\n",
      "\tBackprop time: 0.188 sec\n",
      "\tLog probability: -0.4832 (avg -0.5038)\n",
      "\tKL: 2.7368 (avg 3.1019)\n",
      "\tLoss: 27.8516 (avg 31.5232)\n",
      "Epoch: 86 (30/38)\n",
      "\tData load time: 0.156 sec\n",
      "\tGeneration time: 0.175 sec\n",
      "\tBackprop time: 0.188 sec\n",
      "\tLog probability: -0.4818 (avg -0.5011)\n",
      "\tKL: 3.5064 (avg 3.0539)\n",
      "\tLoss: 35.5461 (avg 31.0402)\n"
     ]
    },
    {
     "name": "stderr",
     "output_type": "stream",
     "text": [
      "100%|██████████| 38/38 [00:01<00:00, 22.64it/s]\n",
      "  0%|          | 0/10 [00:00<?, ?it/s]"
     ]
    },
    {
     "name": "stdout",
     "output_type": "stream",
     "text": [
      "Epoch: 86 (35/38)\n",
      "\tData load time: 0.156 sec\n",
      "\tGeneration time: 0.175 sec\n",
      "\tBackprop time: 0.188 sec\n",
      "\tLog probability: -0.5118 (avg -0.5003)\n",
      "\tKL: 2.9822 (avg 3.0564)\n",
      "\tLoss: 30.3340 (avg 31.0643)\n"
     ]
    },
    {
     "name": "stderr",
     "output_type": "stream",
     "text": [
      "100%|██████████| 10/10 [00:00<00:00, 27.94it/s]\n",
      "  0%|          | 0/38 [00:00<?, ?it/s]"
     ]
    },
    {
     "name": "stdout",
     "output_type": "stream",
     "text": [
      "Epoch: 86 (5/10)\n",
      "\tData load time: 0.152 sec\n",
      "\tGeneration time: 0.170 sec\n",
      "\tLog probability: -0.5408 (avg -0.5494)\n",
      "\tKL: 1.9060 (avg 2.4044)\n",
      "\tLoss: 19.6006 (avg 24.5939)\n",
      "Epoch: 86 (10/10)\n",
      "\tData load time: 0.152 sec\n",
      "\tGeneration time: 0.170 sec\n",
      "\tLog probability: -0.5768 (avg -0.5459)\n",
      "\tKL: 1.7645 (avg 2.3366)\n",
      "\tLoss: 18.2215 (avg 23.9123)\n",
      "Lowest validation loss: 22.4972\n"
     ]
    },
    {
     "name": "stderr",
     "output_type": "stream",
     "text": [
      " 26%|██▋       | 10/38 [00:00<00:02, 11.22it/s]"
     ]
    },
    {
     "name": "stdout",
     "output_type": "stream",
     "text": [
      "Epoch: 87 (5/38)\n",
      "\tData load time: 0.151 sec\n",
      "\tGeneration time: 0.170 sec\n",
      "\tBackprop time: 0.186 sec\n",
      "\tLog probability: -0.4776 (avg -0.5002)\n",
      "\tKL: 4.1441 (avg 3.9347)\n",
      "\tLoss: 41.9185 (avg 39.8477)\n",
      "Epoch: 87 (10/38)\n",
      "\tData load time: 0.151 sec\n",
      "\tGeneration time: 0.170 sec\n",
      "\tBackprop time: 0.186 sec\n",
      "\tLog probability: -0.4807 (avg -0.4989)\n",
      "\tKL: 2.4353 (avg 3.2195)\n",
      "\tLoss: 24.8340 (avg 32.6937)\n"
     ]
    },
    {
     "name": "stderr",
     "output_type": "stream",
     "text": [
      " 50%|█████     | 19/38 [00:00<00:01, 17.73it/s]"
     ]
    },
    {
     "name": "stdout",
     "output_type": "stream",
     "text": [
      "Epoch: 87 (15/38)\n",
      "\tData load time: 0.151 sec\n",
      "\tGeneration time: 0.170 sec\n",
      "\tBackprop time: 0.186 sec\n",
      "\tLog probability: -0.4725 (avg -0.4944)\n",
      "\tKL: 3.6927 (avg 3.0594)\n",
      "\tLoss: 37.3998 (avg 31.0881)\n",
      "Epoch: 87 (20/38)\n",
      "\tData load time: 0.151 sec\n",
      "\tGeneration time: 0.170 sec\n",
      "\tBackprop time: 0.186 sec\n",
      "\tLog probability: -0.4801 (avg -0.4925)\n",
      "\tKL: 2.3404 (avg 3.1068)\n",
      "\tLoss: 23.8845 (avg 31.5607)\n"
     ]
    },
    {
     "name": "stderr",
     "output_type": "stream",
     "text": [
      " 74%|███████▎  | 28/38 [00:01<00:00, 22.10it/s]"
     ]
    },
    {
     "name": "stdout",
     "output_type": "stream",
     "text": [
      "Epoch: 87 (25/38)\n",
      "\tData load time: 0.151 sec\n",
      "\tGeneration time: 0.170 sec\n",
      "\tBackprop time: 0.186 sec\n",
      "\tLog probability: -0.5652 (avg -0.4951)\n",
      "\tKL: 3.4205 (avg 3.0371)\n",
      "\tLoss: 34.7702 (avg 30.8666)\n",
      "Epoch: 87 (30/38)\n",
      "\tData load time: 0.151 sec\n",
      "\tGeneration time: 0.170 sec\n",
      "\tBackprop time: 0.186 sec\n",
      "\tLog probability: -0.5040 (avg -0.4949)\n",
      "\tKL: 2.5804 (avg 2.9986)\n",
      "\tLoss: 26.3078 (avg 30.4809)\n"
     ]
    },
    {
     "name": "stderr",
     "output_type": "stream",
     "text": [
      "100%|██████████| 38/38 [00:01<00:00, 22.70it/s]\n",
      "  0%|          | 0/10 [00:00<?, ?it/s]"
     ]
    },
    {
     "name": "stdout",
     "output_type": "stream",
     "text": [
      "Epoch: 87 (35/38)\n",
      "\tData load time: 0.151 sec\n",
      "\tGeneration time: 0.170 sec\n",
      "\tBackprop time: 0.186 sec\n",
      "\tLog probability: -0.5403 (avg -0.4978)\n",
      "\tKL: 6.4335 (avg 3.0721)\n",
      "\tLoss: 64.8755 (avg 31.2192)\n"
     ]
    },
    {
     "name": "stderr",
     "output_type": "stream",
     "text": [
      "100%|██████████| 10/10 [00:00<00:00, 27.16it/s]\n",
      "  0%|          | 0/38 [00:00<?, ?it/s]"
     ]
    },
    {
     "name": "stdout",
     "output_type": "stream",
     "text": [
      "Epoch: 87 (5/10)\n",
      "\tData load time: 0.166 sec\n",
      "\tGeneration time: 0.183 sec\n",
      "\tLog probability: -0.5356 (avg -0.5309)\n",
      "\tKL: 2.0651 (avg 2.2523)\n",
      "\tLoss: 21.1864 (avg 23.0537)\n",
      "Epoch: 87 (10/10)\n",
      "\tData load time: 0.166 sec\n",
      "\tGeneration time: 0.183 sec\n",
      "\tLog probability: -0.5816 (avg -0.5415)\n",
      "\tKL: 3.1438 (avg 3.1490)\n",
      "\tLoss: 32.0194 (avg 32.0315)\n",
      "Lowest validation loss: 22.4972\n"
     ]
    },
    {
     "name": "stderr",
     "output_type": "stream",
     "text": [
      " 26%|██▋       | 10/38 [00:00<00:02, 10.86it/s]"
     ]
    },
    {
     "name": "stdout",
     "output_type": "stream",
     "text": [
      "Epoch: 88 (5/38)\n",
      "\tData load time: 0.158 sec\n",
      "\tGeneration time: 0.180 sec\n",
      "\tBackprop time: 0.195 sec\n",
      "\tLog probability: -0.4907 (avg -0.5040)\n",
      "\tKL: 2.3663 (avg 3.1079)\n",
      "\tLoss: 24.1536 (avg 31.5826)\n",
      "Epoch: 88 (10/38)\n",
      "\tData load time: 0.158 sec\n",
      "\tGeneration time: 0.180 sec\n",
      "\tBackprop time: 0.195 sec\n",
      "\tLog probability: -0.5398 (avg -0.5082)\n",
      "\tKL: 2.6613 (avg 2.7953)\n",
      "\tLoss: 27.1532 (avg 28.4609)\n"
     ]
    },
    {
     "name": "stderr",
     "output_type": "stream",
     "text": [
      " 50%|█████     | 19/38 [00:00<00:01, 17.39it/s]"
     ]
    },
    {
     "name": "stdout",
     "output_type": "stream",
     "text": [
      "Epoch: 88 (15/38)\n",
      "\tData load time: 0.158 sec\n",
      "\tGeneration time: 0.180 sec\n",
      "\tBackprop time: 0.195 sec\n",
      "\tLog probability: -0.4956 (avg -0.5028)\n",
      "\tKL: 3.2354 (avg 2.8985)\n",
      "\tLoss: 32.8495 (avg 29.4873)\n",
      "Epoch: 88 (20/38)\n",
      "\tData load time: 0.158 sec\n",
      "\tGeneration time: 0.180 sec\n",
      "\tBackprop time: 0.195 sec\n",
      "\tLog probability: -0.5039 (avg -0.5030)\n",
      "\tKL: 3.2101 (avg 4.1312)\n",
      "\tLoss: 32.6047 (avg 41.8154)\n"
     ]
    },
    {
     "name": "stderr",
     "output_type": "stream",
     "text": [
      " 74%|███████▎  | 28/38 [00:01<00:00, 21.89it/s]"
     ]
    },
    {
     "name": "stdout",
     "output_type": "stream",
     "text": [
      "Epoch: 88 (25/38)\n",
      "\tData load time: 0.158 sec\n",
      "\tGeneration time: 0.180 sec\n",
      "\tBackprop time: 0.195 sec\n",
      "\tLog probability: -0.4738 (avg -0.5030)\n",
      "\tKL: 3.8154 (avg 4.0057)\n",
      "\tLoss: 38.6276 (avg 40.5596)\n",
      "Epoch: 88 (30/38)\n",
      "\tData load time: 0.158 sec\n",
      "\tGeneration time: 0.180 sec\n",
      "\tBackprop time: 0.195 sec\n",
      "\tLog probability: -0.5033 (avg -0.5007)\n",
      "\tKL: 2.1335 (avg 3.8017)\n",
      "\tLoss: 21.8380 (avg 38.5178)\n"
     ]
    },
    {
     "name": "stderr",
     "output_type": "stream",
     "text": [
      "100%|██████████| 38/38 [00:01<00:00, 22.62it/s]\n",
      "  0%|          | 0/10 [00:00<?, ?it/s]"
     ]
    },
    {
     "name": "stdout",
     "output_type": "stream",
     "text": [
      "Epoch: 88 (35/38)\n",
      "\tData load time: 0.158 sec\n",
      "\tGeneration time: 0.180 sec\n",
      "\tBackprop time: 0.195 sec\n",
      "\tLog probability: -0.5261 (avg -0.5022)\n",
      "\tKL: 2.3952 (avg 3.7300)\n",
      "\tLoss: 24.4777 (avg 37.8020)\n"
     ]
    },
    {
     "name": "stderr",
     "output_type": "stream",
     "text": [
      "100%|██████████| 10/10 [00:00<00:00, 27.02it/s]\n",
      "  0%|          | 0/38 [00:00<?, ?it/s]"
     ]
    },
    {
     "name": "stdout",
     "output_type": "stream",
     "text": [
      "Epoch: 88 (5/10)\n",
      "\tData load time: 0.170 sec\n",
      "\tGeneration time: 0.187 sec\n",
      "\tLog probability: -0.5455 (avg -0.5675)\n",
      "\tKL: 3.3547 (avg 2.4017)\n",
      "\tLoss: 34.0924 (avg 24.5843)\n",
      "Epoch: 88 (10/10)\n",
      "\tData load time: 0.170 sec\n",
      "\tGeneration time: 0.187 sec\n",
      "\tLog probability: -0.5166 (avg -0.5597)\n",
      "\tKL: 2.4461 (avg 2.4264)\n",
      "\tLoss: 24.9777 (avg 24.8236)\n",
      "Lowest validation loss: 22.4972\n"
     ]
    },
    {
     "name": "stderr",
     "output_type": "stream",
     "text": [
      " 26%|██▋       | 10/38 [00:00<00:02, 10.80it/s]"
     ]
    },
    {
     "name": "stdout",
     "output_type": "stream",
     "text": [
      "Epoch: 89 (5/38)\n",
      "\tData load time: 0.165 sec\n",
      "\tGeneration time: 0.183 sec\n",
      "\tBackprop time: 0.196 sec\n",
      "\tLog probability: -0.4918 (avg -0.4928)\n",
      "\tKL: 3.7680 (avg 2.8330)\n",
      "\tLoss: 38.1722 (avg 28.8224)\n",
      "Epoch: 89 (10/38)\n",
      "\tData load time: 0.165 sec\n",
      "\tGeneration time: 0.183 sec\n",
      "\tBackprop time: 0.196 sec\n",
      "\tLog probability: -0.5138 (avg -0.5088)\n",
      "\tKL: 1.9826 (avg 3.2598)\n",
      "\tLoss: 20.3401 (avg 33.1071)\n"
     ]
    },
    {
     "name": "stderr",
     "output_type": "stream",
     "text": [
      " 50%|█████     | 19/38 [00:00<00:01, 17.32it/s]"
     ]
    },
    {
     "name": "stdout",
     "output_type": "stream",
     "text": [
      "Epoch: 89 (15/38)\n",
      "\tData load time: 0.165 sec\n",
      "\tGeneration time: 0.183 sec\n",
      "\tBackprop time: 0.196 sec\n",
      "\tLog probability: -0.4750 (avg -0.5069)\n",
      "\tKL: 2.9304 (avg 3.3977)\n",
      "\tLoss: 29.7790 (avg 34.4836)\n",
      "Epoch: 89 (20/38)\n",
      "\tData load time: 0.165 sec\n",
      "\tGeneration time: 0.183 sec\n",
      "\tBackprop time: 0.196 sec\n",
      "\tLog probability: -0.5344 (avg -0.5059)\n",
      "\tKL: 3.4741 (avg 3.3781)\n",
      "\tLoss: 35.2751 (avg 34.2869)\n"
     ]
    },
    {
     "name": "stderr",
     "output_type": "stream",
     "text": [
      " 74%|███████▎  | 28/38 [00:01<00:00, 21.88it/s]"
     ]
    },
    {
     "name": "stdout",
     "output_type": "stream",
     "text": [
      "Epoch: 89 (25/38)\n",
      "\tData load time: 0.165 sec\n",
      "\tGeneration time: 0.183 sec\n",
      "\tBackprop time: 0.196 sec\n",
      "\tLog probability: -0.4753 (avg -0.5027)\n",
      "\tKL: 2.0479 (avg 3.1408)\n",
      "\tLoss: 20.9543 (avg 31.9102)\n",
      "Epoch: 89 (30/38)\n",
      "\tData load time: 0.165 sec\n",
      "\tGeneration time: 0.183 sec\n",
      "\tBackprop time: 0.196 sec\n",
      "\tLog probability: -0.4661 (avg -0.5023)\n",
      "\tKL: 3.8164 (avg 3.2110)\n",
      "\tLoss: 38.6298 (avg 32.6122)\n"
     ]
    },
    {
     "name": "stderr",
     "output_type": "stream",
     "text": [
      "100%|██████████| 38/38 [00:01<00:00, 22.61it/s]\n",
      "  0%|          | 0/10 [00:00<?, ?it/s]"
     ]
    },
    {
     "name": "stdout",
     "output_type": "stream",
     "text": [
      "Epoch: 89 (35/38)\n",
      "\tData load time: 0.165 sec\n",
      "\tGeneration time: 0.183 sec\n",
      "\tBackprop time: 0.196 sec\n",
      "\tLog probability: -0.5087 (avg -0.5028)\n",
      "\tKL: 3.9189 (avg 3.2220)\n",
      "\tLoss: 39.6976 (avg 32.7224)\n"
     ]
    },
    {
     "name": "stderr",
     "output_type": "stream",
     "text": [
      "100%|██████████| 10/10 [00:00<00:00, 26.49it/s]\n",
      "  0%|          | 0/38 [00:00<?, ?it/s]"
     ]
    },
    {
     "name": "stdout",
     "output_type": "stream",
     "text": [
      "Epoch: 89 (5/10)\n",
      "\tData load time: 0.167 sec\n",
      "\tGeneration time: 0.186 sec\n",
      "\tLog probability: -0.5120 (avg -0.5366)\n",
      "\tKL: 2.5657 (avg 1.9858)\n",
      "\tLoss: 26.1689 (avg 20.3948)\n",
      "Epoch: 89 (10/10)\n",
      "\tData load time: 0.167 sec\n",
      "\tGeneration time: 0.186 sec\n",
      "\tLog probability: -0.4662 (avg -0.5258)\n",
      "\tKL: 1.2565 (avg 2.6395)\n",
      "\tLoss: 13.0308 (avg 26.9207)\n",
      "Lowest validation loss: 22.4972\n"
     ]
    },
    {
     "name": "stderr",
     "output_type": "stream",
     "text": [
      " 26%|██▋       | 10/38 [00:00<00:02, 11.39it/s]"
     ]
    },
    {
     "name": "stdout",
     "output_type": "stream",
     "text": [
      "Epoch: 90 (5/38)\n",
      "\tData load time: 0.142 sec\n",
      "\tGeneration time: 0.162 sec\n",
      "\tBackprop time: 0.182 sec\n",
      "\tLog probability: -0.5093 (avg -0.5023)\n",
      "\tKL: 2.1145 (avg 3.9746)\n",
      "\tLoss: 21.6543 (avg 40.2485)\n",
      "Epoch: 90 (10/38)\n",
      "\tData load time: 0.142 sec\n",
      "\tGeneration time: 0.162 sec\n",
      "\tBackprop time: 0.182 sec\n",
      "\tLog probability: -0.4716 (avg -0.4968)\n",
      "\tKL: 3.7268 (avg 3.4036)\n",
      "\tLoss: 37.7393 (avg 34.5326)\n"
     ]
    },
    {
     "name": "stderr",
     "output_type": "stream",
     "text": [
      " 50%|█████     | 19/38 [00:00<00:01, 17.86it/s]"
     ]
    },
    {
     "name": "stdout",
     "output_type": "stream",
     "text": [
      "Epoch: 90 (15/38)\n",
      "\tData load time: 0.142 sec\n",
      "\tGeneration time: 0.162 sec\n",
      "\tBackprop time: 0.182 sec\n",
      "\tLog probability: -0.4978 (avg -0.4973)\n",
      "\tKL: 3.2596 (avg 3.0954)\n",
      "\tLoss: 33.0943 (avg 31.4512)\n",
      "Epoch: 90 (20/38)\n",
      "\tData load time: 0.142 sec\n",
      "\tGeneration time: 0.162 sec\n",
      "\tBackprop time: 0.182 sec\n",
      "\tLog probability: -0.4882 (avg -0.4944)\n",
      "\tKL: 2.4468 (avg 2.9523)\n",
      "\tLoss: 24.9566 (avg 30.0171)\n"
     ]
    },
    {
     "name": "stderr",
     "output_type": "stream",
     "text": [
      " 74%|███████▎  | 28/38 [00:01<00:00, 22.16it/s]"
     ]
    },
    {
     "name": "stdout",
     "output_type": "stream",
     "text": [
      "Epoch: 90 (25/38)\n",
      "\tData load time: 0.142 sec\n",
      "\tGeneration time: 0.162 sec\n",
      "\tBackprop time: 0.182 sec\n",
      "\tLog probability: -0.5149 (avg -0.4978)\n",
      "\tKL: 2.3557 (avg 3.5664)\n",
      "\tLoss: 24.0715 (avg 36.1618)\n",
      "Epoch: 90 (30/38)\n",
      "\tData load time: 0.142 sec\n",
      "\tGeneration time: 0.162 sec\n",
      "\tBackprop time: 0.182 sec\n",
      "\tLog probability: -0.4994 (avg -0.5023)\n",
      "\tKL: 2.5279 (avg 3.5244)\n",
      "\tLoss: 25.7784 (avg 35.7463)\n"
     ]
    },
    {
     "name": "stderr",
     "output_type": "stream",
     "text": [
      "100%|██████████| 38/38 [00:01<00:00, 22.81it/s]\n",
      "  0%|          | 0/10 [00:00<?, ?it/s]"
     ]
    },
    {
     "name": "stdout",
     "output_type": "stream",
     "text": [
      "Epoch: 90 (35/38)\n",
      "\tData load time: 0.142 sec\n",
      "\tGeneration time: 0.162 sec\n",
      "\tBackprop time: 0.182 sec\n",
      "\tLog probability: -0.4809 (avg -0.4997)\n",
      "\tKL: 2.0746 (avg 3.3859)\n",
      "\tLoss: 21.2268 (avg 34.3589)\n"
     ]
    },
    {
     "name": "stderr",
     "output_type": "stream",
     "text": [
      "100%|██████████| 10/10 [00:00<00:00, 27.13it/s]\n",
      "  0%|          | 0/38 [00:00<?, ?it/s]"
     ]
    },
    {
     "name": "stdout",
     "output_type": "stream",
     "text": [
      "Epoch: 90 (5/10)\n",
      "\tData load time: 0.165 sec\n",
      "\tGeneration time: 0.184 sec\n",
      "\tLog probability: -0.5055 (avg -0.5308)\n",
      "\tKL: 2.3823 (avg 3.0224)\n",
      "\tLoss: 24.3283 (avg 30.7551)\n",
      "Epoch: 90 (10/10)\n",
      "\tData load time: 0.165 sec\n",
      "\tGeneration time: 0.184 sec\n",
      "\tLog probability: -0.5245 (avg -0.5284)\n",
      "\tKL: 2.0049 (avg 2.7099)\n",
      "\tLoss: 20.5735 (avg 27.6278)\n",
      "Lowest validation loss: 22.4972\n"
     ]
    },
    {
     "name": "stderr",
     "output_type": "stream",
     "text": [
      " 26%|██▋       | 10/38 [00:00<00:02, 10.71it/s]"
     ]
    },
    {
     "name": "stdout",
     "output_type": "stream",
     "text": [
      "Epoch: 91 (5/38)\n",
      "\tData load time: 0.165 sec\n",
      "\tGeneration time: 0.184 sec\n",
      "\tBackprop time: 0.198 sec\n",
      "\tLog probability: -0.5158 (avg -0.5217)\n",
      "\tKL: 3.1843 (avg 3.9746)\n",
      "\tLoss: 32.3585 (avg 40.2679)\n",
      "Epoch: 91 (10/38)\n",
      "\tData load time: 0.165 sec\n",
      "\tGeneration time: 0.184 sec\n",
      "\tBackprop time: 0.198 sec\n",
      "\tLog probability: -0.4758 (avg -0.5064)\n",
      "\tKL: 2.3737 (avg 3.3364)\n",
      "\tLoss: 24.2124 (avg 33.8709)\n"
     ]
    },
    {
     "name": "stderr",
     "output_type": "stream",
     "text": [
      " 50%|█████     | 19/38 [00:00<00:01, 17.31it/s]"
     ]
    },
    {
     "name": "stdout",
     "output_type": "stream",
     "text": [
      "Epoch: 91 (15/38)\n",
      "\tData load time: 0.165 sec\n",
      "\tGeneration time: 0.184 sec\n",
      "\tBackprop time: 0.198 sec\n",
      "\tLog probability: -0.4905 (avg -0.5033)\n",
      "\tKL: 3.4273 (avg 3.1223)\n",
      "\tLoss: 34.7630 (avg 31.7268)\n",
      "Epoch: 91 (20/38)\n",
      "\tData load time: 0.165 sec\n",
      "\tGeneration time: 0.184 sec\n",
      "\tBackprop time: 0.198 sec\n",
      "\tLog probability: -0.4709 (avg -0.4983)\n",
      "\tKL: 3.9296 (avg 3.0177)\n",
      "\tLoss: 39.7671 (avg 30.6752)\n"
     ]
    },
    {
     "name": "stderr",
     "output_type": "stream",
     "text": [
      " 74%|███████▎  | 28/38 [00:01<00:00, 21.87it/s]"
     ]
    },
    {
     "name": "stdout",
     "output_type": "stream",
     "text": [
      "Epoch: 91 (25/38)\n",
      "\tData load time: 0.165 sec\n",
      "\tGeneration time: 0.184 sec\n",
      "\tBackprop time: 0.198 sec\n",
      "\tLog probability: -0.5498 (avg -0.5015)\n",
      "\tKL: 3.6436 (avg 3.0679)\n",
      "\tLoss: 36.9857 (avg 31.1807)\n",
      "Epoch: 91 (30/38)\n",
      "\tData load time: 0.165 sec\n",
      "\tGeneration time: 0.184 sec\n",
      "\tBackprop time: 0.198 sec\n",
      "\tLog probability: -0.4894 (avg -0.5003)\n",
      "\tKL: 2.0993 (avg 3.0938)\n",
      "\tLoss: 21.4823 (avg 31.4380)\n"
     ]
    },
    {
     "name": "stderr",
     "output_type": "stream",
     "text": [
      "100%|██████████| 38/38 [00:01<00:00, 22.56it/s]\n",
      "  0%|          | 0/10 [00:00<?, ?it/s]"
     ]
    },
    {
     "name": "stdout",
     "output_type": "stream",
     "text": [
      "Epoch: 91 (35/38)\n",
      "\tData load time: 0.165 sec\n",
      "\tGeneration time: 0.184 sec\n",
      "\tBackprop time: 0.198 sec\n",
      "\tLog probability: -0.5221 (avg -0.5004)\n",
      "\tKL: 3.5975 (avg 3.0778)\n",
      "\tLoss: 36.4970 (avg 31.2787)\n"
     ]
    },
    {
     "name": "stderr",
     "output_type": "stream",
     "text": [
      "100%|██████████| 10/10 [00:00<00:00, 26.66it/s]\n",
      "  0%|          | 0/38 [00:00<?, ?it/s]"
     ]
    },
    {
     "name": "stdout",
     "output_type": "stream",
     "text": [
      "Epoch: 91 (5/10)\n",
      "\tData load time: 0.167 sec\n",
      "\tGeneration time: 0.185 sec\n",
      "\tLog probability: -0.5224 (avg -0.5392)\n",
      "\tKL: 1.8649 (avg 2.4204)\n",
      "\tLoss: 19.1709 (avg 24.7427)\n",
      "Epoch: 91 (10/10)\n",
      "\tData load time: 0.167 sec\n",
      "\tGeneration time: 0.185 sec\n",
      "\tLog probability: -0.5510 (avg -0.5460)\n",
      "\tKL: 2.4701 (avg 2.5488)\n",
      "\tLoss: 25.2521 (avg 26.0337)\n",
      "Lowest validation loss: 22.4972\n"
     ]
    },
    {
     "name": "stderr",
     "output_type": "stream",
     "text": [
      " 26%|██▋       | 10/38 [00:00<00:02, 10.71it/s]"
     ]
    },
    {
     "name": "stdout",
     "output_type": "stream",
     "text": [
      "Epoch: 92 (5/38)\n",
      "\tData load time: 0.166 sec\n",
      "\tGeneration time: 0.185 sec\n",
      "\tBackprop time: 0.198 sec\n",
      "\tLog probability: -0.4742 (avg -0.4911)\n",
      "\tKL: 3.4265 (avg 2.8046)\n",
      "\tLoss: 34.7397 (avg 28.5370)\n",
      "Epoch: 92 (10/38)\n",
      "\tData load time: 0.166 sec\n",
      "\tGeneration time: 0.185 sec\n",
      "\tBackprop time: 0.198 sec\n",
      "\tLog probability: -0.4974 (avg -0.4972)\n",
      "\tKL: 2.0591 (avg 2.5716)\n",
      "\tLoss: 21.0880 (avg 26.2127)\n"
     ]
    },
    {
     "name": "stderr",
     "output_type": "stream",
     "text": [
      " 50%|█████     | 19/38 [00:00<00:01, 17.28it/s]"
     ]
    },
    {
     "name": "stdout",
     "output_type": "stream",
     "text": [
      "Epoch: 92 (15/38)\n",
      "\tData load time: 0.166 sec\n",
      "\tGeneration time: 0.185 sec\n",
      "\tBackprop time: 0.198 sec\n",
      "\tLog probability: -0.4828 (avg -0.4962)\n",
      "\tKL: 3.3920 (avg 2.8854)\n",
      "\tLoss: 34.4030 (avg 29.3505)\n",
      "Epoch: 92 (20/38)\n",
      "\tData load time: 0.166 sec\n",
      "\tGeneration time: 0.185 sec\n",
      "\tBackprop time: 0.198 sec\n",
      "\tLog probability: -0.4652 (avg -0.4977)\n",
      "\tKL: 2.5064 (avg 2.9851)\n",
      "\tLoss: 25.5297 (avg 30.3483)\n"
     ]
    },
    {
     "name": "stderr",
     "output_type": "stream",
     "text": [
      " 74%|███████▎  | 28/38 [00:01<00:00, 21.84it/s]"
     ]
    },
    {
     "name": "stdout",
     "output_type": "stream",
     "text": [
      "Epoch: 92 (25/38)\n",
      "\tData load time: 0.166 sec\n",
      "\tGeneration time: 0.185 sec\n",
      "\tBackprop time: 0.198 sec\n",
      "\tLog probability: -0.5335 (avg -0.4966)\n",
      "\tKL: 3.7782 (avg 2.9263)\n",
      "\tLoss: 38.3151 (avg 29.7592)\n",
      "Epoch: 92 (30/38)\n",
      "\tData load time: 0.166 sec\n",
      "\tGeneration time: 0.185 sec\n",
      "\tBackprop time: 0.198 sec\n",
      "\tLog probability: -0.4933 (avg -0.4960)\n",
      "\tKL: 2.6684 (avg 2.9471)\n",
      "\tLoss: 27.1775 (avg 29.9665)\n"
     ]
    },
    {
     "name": "stderr",
     "output_type": "stream",
     "text": [
      "100%|██████████| 38/38 [00:01<00:00, 22.55it/s]\n",
      "  0%|          | 0/10 [00:00<?, ?it/s]"
     ]
    },
    {
     "name": "stdout",
     "output_type": "stream",
     "text": [
      "Epoch: 92 (35/38)\n",
      "\tData load time: 0.166 sec\n",
      "\tGeneration time: 0.185 sec\n",
      "\tBackprop time: 0.198 sec\n",
      "\tLog probability: -0.4792 (avg -0.4952)\n",
      "\tKL: 2.5415 (avg 2.9863)\n",
      "\tLoss: 25.8940 (avg 30.3586)\n"
     ]
    },
    {
     "name": "stderr",
     "output_type": "stream",
     "text": [
      "100%|██████████| 10/10 [00:00<00:00, 28.33it/s]\n",
      "  0%|          | 0/38 [00:00<?, ?it/s]"
     ]
    },
    {
     "name": "stdout",
     "output_type": "stream",
     "text": [
      "Epoch: 92 (5/10)\n",
      "\tData load time: 0.151 sec\n",
      "\tGeneration time: 0.170 sec\n",
      "\tLog probability: -0.5076 (avg -0.5245)\n",
      "\tKL: 2.2416 (avg 2.5335)\n",
      "\tLoss: 22.9237 (avg 25.8595)\n",
      "Epoch: 92 (10/10)\n",
      "\tData load time: 0.151 sec\n",
      "\tGeneration time: 0.170 sec\n",
      "\tLog probability: -0.6148 (avg -0.5382)\n",
      "\tKL: 2.0469 (avg 2.4104)\n",
      "\tLoss: 21.0837 (avg 24.6426)\n",
      "Lowest validation loss: 22.4972\n"
     ]
    },
    {
     "name": "stderr",
     "output_type": "stream",
     "text": [
      " 26%|██▋       | 10/38 [00:00<00:02, 10.84it/s]"
     ]
    },
    {
     "name": "stdout",
     "output_type": "stream",
     "text": [
      "Epoch: 93 (5/38)\n",
      "\tData load time: 0.164 sec\n",
      "\tGeneration time: 0.182 sec\n",
      "\tBackprop time: 0.195 sec\n",
      "\tLog probability: -0.4914 (avg -0.4951)\n",
      "\tKL: 2.3777 (avg 3.1160)\n",
      "\tLoss: 24.2680 (avg 31.6556)\n",
      "Epoch: 93 (10/38)\n",
      "\tData load time: 0.164 sec\n",
      "\tGeneration time: 0.182 sec\n",
      "\tBackprop time: 0.195 sec\n",
      "\tLog probability: -0.4692 (avg -0.4929)\n",
      "\tKL: 2.5473 (avg 3.0408)\n",
      "\tLoss: 25.9425 (avg 30.9009)\n"
     ]
    },
    {
     "name": "stderr",
     "output_type": "stream",
     "text": [
      " 50%|█████     | 19/38 [00:00<00:01, 17.37it/s]"
     ]
    },
    {
     "name": "stdout",
     "output_type": "stream",
     "text": [
      "Epoch: 93 (15/38)\n",
      "\tData load time: 0.164 sec\n",
      "\tGeneration time: 0.182 sec\n",
      "\tBackprop time: 0.195 sec\n",
      "\tLog probability: -0.4958 (avg -0.4902)\n",
      "\tKL: 2.4062 (avg 3.3736)\n",
      "\tLoss: 24.5578 (avg 34.2267)\n",
      "Epoch: 93 (20/38)\n",
      "\tData load time: 0.164 sec\n",
      "\tGeneration time: 0.182 sec\n",
      "\tBackprop time: 0.195 sec\n",
      "\tLog probability: -0.5057 (avg -0.4950)\n",
      "\tKL: 2.4552 (avg 3.1107)\n",
      "\tLoss: 25.0578 (avg 31.6025)\n"
     ]
    },
    {
     "name": "stderr",
     "output_type": "stream",
     "text": [
      " 74%|███████▎  | 28/38 [00:01<00:00, 21.90it/s]"
     ]
    },
    {
     "name": "stdout",
     "output_type": "stream",
     "text": [
      "Epoch: 93 (25/38)\n",
      "\tData load time: 0.164 sec\n",
      "\tGeneration time: 0.182 sec\n",
      "\tBackprop time: 0.195 sec\n",
      "\tLog probability: -0.5240 (avg -0.5008)\n",
      "\tKL: 2.5214 (avg 3.2195)\n",
      "\tLoss: 25.7376 (avg 32.6959)\n",
      "Epoch: 93 (30/38)\n",
      "\tData load time: 0.164 sec\n",
      "\tGeneration time: 0.182 sec\n",
      "\tBackprop time: 0.195 sec\n",
      "\tLog probability: -0.4813 (avg -0.5001)\n",
      "\tKL: 2.6586 (avg 3.1707)\n",
      "\tLoss: 27.0674 (avg 32.2067)\n"
     ]
    },
    {
     "name": "stderr",
     "output_type": "stream",
     "text": [
      "100%|██████████| 38/38 [00:01<00:00, 22.66it/s]\n",
      "  0%|          | 0/10 [00:00<?, ?it/s]"
     ]
    },
    {
     "name": "stdout",
     "output_type": "stream",
     "text": [
      "Epoch: 93 (35/38)\n",
      "\tData load time: 0.164 sec\n",
      "\tGeneration time: 0.182 sec\n",
      "\tBackprop time: 0.195 sec\n",
      "\tLog probability: -0.4993 (avg -0.5010)\n",
      "\tKL: 2.0595 (avg 3.1424)\n",
      "\tLoss: 21.0944 (avg 31.9253)\n"
     ]
    },
    {
     "name": "stderr",
     "output_type": "stream",
     "text": [
      "100%|██████████| 10/10 [00:00<00:00, 28.51it/s]\n",
      "  0%|          | 0/38 [00:00<?, ?it/s]"
     ]
    },
    {
     "name": "stdout",
     "output_type": "stream",
     "text": [
      "Epoch: 93 (5/10)\n",
      "\tData load time: 0.148 sec\n",
      "\tGeneration time: 0.166 sec\n",
      "\tLog probability: -0.4947 (avg -0.5312)\n",
      "\tKL: 2.8483 (avg 3.3200)\n",
      "\tLoss: 28.9772 (avg 33.7308)\n",
      "Epoch: 93 (10/10)\n",
      "\tData load time: 0.148 sec\n",
      "\tGeneration time: 0.166 sec\n",
      "\tLog probability: -0.5731 (avg -0.5390)\n",
      "\tKL: 2.3464 (avg 2.8383)\n",
      "\tLoss: 24.0375 (avg 28.9221)\n",
      "Lowest validation loss: 22.4972\n"
     ]
    },
    {
     "name": "stderr",
     "output_type": "stream",
     "text": [
      " 26%|██▋       | 10/38 [00:00<00:02, 11.02it/s]"
     ]
    },
    {
     "name": "stdout",
     "output_type": "stream",
     "text": [
      "Epoch: 94 (5/38)\n",
      "\tData load time: 0.159 sec\n",
      "\tGeneration time: 0.177 sec\n",
      "\tBackprop time: 0.190 sec\n",
      "\tLog probability: -0.4767 (avg -0.4993)\n",
      "\tKL: 2.2456 (avg 2.8522)\n",
      "\tLoss: 22.9324 (avg 29.0216)\n",
      "Epoch: 94 (10/38)\n",
      "\tData load time: 0.159 sec\n",
      "\tGeneration time: 0.177 sec\n",
      "\tBackprop time: 0.190 sec\n",
      "\tLog probability: -0.4926 (avg -0.5047)\n",
      "\tKL: 3.7164 (avg 3.0057)\n",
      "\tLoss: 37.6564 (avg 30.5621)\n"
     ]
    },
    {
     "name": "stderr",
     "output_type": "stream",
     "text": [
      " 50%|█████     | 19/38 [00:00<00:01, 17.54it/s]"
     ]
    },
    {
     "name": "stdout",
     "output_type": "stream",
     "text": [
      "Epoch: 94 (15/38)\n",
      "\tData load time: 0.159 sec\n",
      "\tGeneration time: 0.177 sec\n",
      "\tBackprop time: 0.190 sec\n",
      "\tLog probability: -0.4648 (avg -0.4998)\n",
      "\tKL: 2.4404 (avg 2.8867)\n",
      "\tLoss: 24.8692 (avg 29.3671)\n",
      "Epoch: 94 (20/38)\n",
      "\tData load time: 0.159 sec\n",
      "\tGeneration time: 0.177 sec\n",
      "\tBackprop time: 0.190 sec\n",
      "\tLog probability: -0.4920 (avg -0.5021)\n",
      "\tKL: 4.2042 (avg 1286.3957)\n",
      "\tLoss: 42.5341 (avg 12864.4591)\n"
     ]
    },
    {
     "name": "stderr",
     "output_type": "stream",
     "text": [
      " 74%|███████▎  | 28/38 [00:01<00:00, 22.00it/s]"
     ]
    },
    {
     "name": "stdout",
     "output_type": "stream",
     "text": [
      "Epoch: 94 (25/38)\n",
      "\tData load time: 0.159 sec\n",
      "\tGeneration time: 0.177 sec\n",
      "\tBackprop time: 0.190 sec\n",
      "\tLog probability: -0.5394 (avg -0.5044)\n",
      "\tKL: 2.5002 (avg 1029.6370)\n",
      "\tLoss: 25.5411 (avg 10296.8748)\n",
      "Epoch: 94 (30/38)\n",
      "\tData load time: 0.159 sec\n",
      "\tGeneration time: 0.177 sec\n",
      "\tBackprop time: 0.190 sec\n",
      "\tLog probability: -0.4976 (avg -0.5009)\n",
      "\tKL: 2.2419 (avg 858.6384)\n",
      "\tLoss: 22.9168 (avg 8586.8849)\n"
     ]
    },
    {
     "name": "stderr",
     "output_type": "stream",
     "text": [
      "100%|██████████| 38/38 [00:01<00:00, 22.67it/s]\n",
      "  0%|          | 0/10 [00:00<?, ?it/s]"
     ]
    },
    {
     "name": "stdout",
     "output_type": "stream",
     "text": [
      "Epoch: 94 (35/38)\n",
      "\tData load time: 0.159 sec\n",
      "\tGeneration time: 0.177 sec\n",
      "\tBackprop time: 0.190 sec\n",
      "\tLog probability: -0.5052 (avg -0.5014)\n",
      "\tKL: 3.2119 (avg 736.3526)\n",
      "\tLoss: 32.6246 (avg 7364.0270)\n"
     ]
    },
    {
     "name": "stderr",
     "output_type": "stream",
     "text": [
      "100%|██████████| 10/10 [00:00<00:00, 27.88it/s]\n",
      "  0%|          | 0/38 [00:00<?, ?it/s]"
     ]
    },
    {
     "name": "stdout",
     "output_type": "stream",
     "text": [
      "Epoch: 94 (5/10)\n",
      "\tData load time: 0.153 sec\n",
      "\tGeneration time: 0.171 sec\n",
      "\tLog probability: -0.6261 (avg -0.6371)\n",
      "\tKL: 4.1087 (avg 3.0580)\n",
      "\tLoss: 41.7129 (avg 31.2172)\n",
      "Epoch: 94 (10/10)\n",
      "\tData load time: 0.153 sec\n",
      "\tGeneration time: 0.171 sec\n",
      "\tLog probability: -0.6961 (avg -0.6601)\n",
      "\tKL: 3.3731 (avg 2.7659)\n",
      "\tLoss: 34.4276 (avg 28.3186)\n",
      "Lowest validation loss: 22.4972\n"
     ]
    },
    {
     "name": "stderr",
     "output_type": "stream",
     "text": [
      " 26%|██▋       | 10/38 [00:00<00:02, 10.66it/s]"
     ]
    },
    {
     "name": "stdout",
     "output_type": "stream",
     "text": [
      "Epoch: 95 (5/38)\n",
      "\tData load time: 0.168 sec\n",
      "\tGeneration time: 0.186 sec\n",
      "\tBackprop time: 0.199 sec\n",
      "\tLog probability: -0.4907 (avg -0.5048)\n",
      "\tKL: 2.0428 (avg 2.7372)\n",
      "\tLoss: 20.9182 (avg 27.8769)\n",
      "Epoch: 95 (10/38)\n",
      "\tData load time: 0.168 sec\n",
      "\tGeneration time: 0.186 sec\n",
      "\tBackprop time: 0.199 sec\n",
      "\tLog probability: -0.4938 (avg -0.5005)\n",
      "\tKL: 2.5275 (avg 3.0682)\n",
      "\tLoss: 25.7685 (avg 31.1823)\n"
     ]
    },
    {
     "name": "stderr",
     "output_type": "stream",
     "text": [
      " 50%|█████     | 19/38 [00:00<00:01, 17.25it/s]"
     ]
    },
    {
     "name": "stdout",
     "output_type": "stream",
     "text": [
      "Epoch: 95 (15/38)\n",
      "\tData load time: 0.168 sec\n",
      "\tGeneration time: 0.186 sec\n",
      "\tBackprop time: 0.199 sec\n",
      "\tLog probability: -0.4788 (avg -0.4962)\n",
      "\tKL: 2.3169 (avg 3.0566)\n",
      "\tLoss: 23.6481 (avg 31.0621)\n",
      "Epoch: 95 (20/38)\n",
      "\tData load time: 0.168 sec\n",
      "\tGeneration time: 0.186 sec\n",
      "\tBackprop time: 0.199 sec\n",
      "\tLog probability: -0.4857 (avg -0.4975)\n",
      "\tKL: 2.6089 (avg 3.2278)\n",
      "\tLoss: 26.5744 (avg 32.7752)\n"
     ]
    },
    {
     "name": "stderr",
     "output_type": "stream",
     "text": [
      " 74%|███████▎  | 28/38 [00:01<00:00, 21.73it/s]"
     ]
    },
    {
     "name": "stdout",
     "output_type": "stream",
     "text": [
      "Epoch: 95 (25/38)\n",
      "\tData load time: 0.168 sec\n",
      "\tGeneration time: 0.186 sec\n",
      "\tBackprop time: 0.199 sec\n",
      "\tLog probability: -0.5761 (avg -0.4992)\n",
      "\tKL: 3.0266 (avg 3.1259)\n",
      "\tLoss: 30.8420 (avg 31.7577)\n",
      "Epoch: 95 (30/38)\n",
      "\tData load time: 0.168 sec\n",
      "\tGeneration time: 0.186 sec\n",
      "\tBackprop time: 0.199 sec\n",
      "\tLog probability: -0.5077 (avg -0.4978)\n",
      "\tKL: 2.1933 (avg 3.1695)\n",
      "\tLoss: 22.4405 (avg 32.1931)\n"
     ]
    },
    {
     "name": "stderr",
     "output_type": "stream",
     "text": [
      "100%|██████████| 38/38 [00:01<00:00, 22.53it/s]\n",
      "  0%|          | 0/10 [00:00<?, ?it/s]"
     ]
    },
    {
     "name": "stdout",
     "output_type": "stream",
     "text": [
      "Epoch: 95 (35/38)\n",
      "\tData load time: 0.168 sec\n",
      "\tGeneration time: 0.186 sec\n",
      "\tBackprop time: 0.199 sec\n",
      "\tLog probability: -0.4901 (avg -0.4981)\n",
      "\tKL: 2.5267 (avg 3.1137)\n",
      "\tLoss: 25.7576 (avg 31.6354)\n"
     ]
    },
    {
     "name": "stderr",
     "output_type": "stream",
     "text": [
      "100%|██████████| 10/10 [00:00<00:00, 28.13it/s]\n",
      "  0%|          | 0/38 [00:00<?, ?it/s]"
     ]
    },
    {
     "name": "stdout",
     "output_type": "stream",
     "text": [
      "Epoch: 95 (5/10)\n",
      "\tData load time: 0.154 sec\n",
      "\tGeneration time: 0.172 sec\n",
      "\tLog probability: -0.5466 (avg -0.5619)\n",
      "\tKL: 1.9468 (avg 2.1056)\n",
      "\tLoss: 20.0142 (avg 21.6180)\n",
      "Epoch: 95 (10/10)\n",
      "\tData load time: 0.154 sec\n",
      "\tGeneration time: 0.172 sec\n",
      "\tLog probability: -0.5845 (avg -0.5605)\n",
      "\tKL: 2.9999 (avg 2.3900)\n",
      "\tLoss: 30.5838 (avg 24.4604)\n",
      "Lowest validation loss: 22.4972\n"
     ]
    },
    {
     "name": "stderr",
     "output_type": "stream",
     "text": [
      " 26%|██▋       | 10/38 [00:00<00:02, 10.85it/s]"
     ]
    },
    {
     "name": "stdout",
     "output_type": "stream",
     "text": [
      "Epoch: 96 (5/38)\n",
      "\tData load time: 0.163 sec\n",
      "\tGeneration time: 0.181 sec\n",
      "\tBackprop time: 0.195 sec\n",
      "\tLog probability: -0.4908 (avg -0.5109)\n",
      "\tKL: 2.6038 (avg 2.7462)\n",
      "\tLoss: 26.5291 (avg 27.9732)\n",
      "Epoch: 96 (10/38)\n",
      "\tData load time: 0.163 sec\n",
      "\tGeneration time: 0.181 sec\n",
      "\tBackprop time: 0.195 sec\n",
      "\tLog probability: -0.5190 (avg -0.5193)\n",
      "\tKL: 3.3511 (avg 3.1679)\n",
      "\tLoss: 34.0297 (avg 32.1986)\n"
     ]
    },
    {
     "name": "stderr",
     "output_type": "stream",
     "text": [
      " 50%|█████     | 19/38 [00:00<00:01, 17.39it/s]"
     ]
    },
    {
     "name": "stdout",
     "output_type": "stream",
     "text": [
      "Epoch: 96 (15/38)\n",
      "\tData load time: 0.163 sec\n",
      "\tGeneration time: 0.181 sec\n",
      "\tBackprop time: 0.195 sec\n",
      "\tLog probability: -0.5190 (avg -0.5156)\n",
      "\tKL: 2.4205 (avg 3.0413)\n",
      "\tLoss: 24.7236 (avg 30.9283)\n",
      "Epoch: 96 (20/38)\n",
      "\tData load time: 0.163 sec\n",
      "\tGeneration time: 0.181 sec\n",
      "\tBackprop time: 0.195 sec\n",
      "\tLog probability: -0.4802 (avg -0.5113)\n",
      "\tKL: 3.4586 (avg 3.0234)\n",
      "\tLoss: 35.0663 (avg 30.7455)\n"
     ]
    },
    {
     "name": "stderr",
     "output_type": "stream",
     "text": [
      " 74%|███████▎  | 28/38 [00:01<00:00, 21.94it/s]"
     ]
    },
    {
     "name": "stdout",
     "output_type": "stream",
     "text": [
      "Epoch: 96 (25/38)\n",
      "\tData load time: 0.163 sec\n",
      "\tGeneration time: 0.181 sec\n",
      "\tBackprop time: 0.195 sec\n",
      "\tLog probability: -0.4855 (avg -0.5103)\n",
      "\tKL: 2.2270 (avg 3.1281)\n",
      "\tLoss: 22.7555 (avg 31.7913)\n",
      "Epoch: 96 (30/38)\n",
      "\tData load time: 0.163 sec\n",
      "\tGeneration time: 0.181 sec\n",
      "\tBackprop time: 0.195 sec\n",
      "\tLog probability: -0.4620 (avg -0.5087)\n",
      "\tKL: 2.0736 (avg 3.0654)\n",
      "\tLoss: 21.1984 (avg 31.1627)\n"
     ]
    },
    {
     "name": "stderr",
     "output_type": "stream",
     "text": [
      "100%|██████████| 38/38 [00:01<00:00, 22.59it/s]\n",
      "  0%|          | 0/10 [00:00<?, ?it/s]"
     ]
    },
    {
     "name": "stdout",
     "output_type": "stream",
     "text": [
      "Epoch: 96 (35/38)\n",
      "\tData load time: 0.163 sec\n",
      "\tGeneration time: 0.181 sec\n",
      "\tBackprop time: 0.195 sec\n",
      "\tLog probability: -0.5064 (avg -0.5088)\n",
      "\tKL: 4.0519 (avg 3.0883)\n",
      "\tLoss: 41.0253 (avg 31.3920)\n"
     ]
    },
    {
     "name": "stderr",
     "output_type": "stream",
     "text": [
      "100%|██████████| 10/10 [00:00<00:00, 26.93it/s]\n",
      "  0%|          | 0/38 [00:00<?, ?it/s]"
     ]
    },
    {
     "name": "stdout",
     "output_type": "stream",
     "text": [
      "Epoch: 96 (5/10)\n",
      "\tData load time: 0.161 sec\n",
      "\tGeneration time: 0.179 sec\n",
      "\tLog probability: -0.5325 (avg -0.5220)\n",
      "\tKL: 2.2193 (avg 2.4256)\n",
      "\tLoss: 22.7258 (avg 24.7781)\n",
      "Epoch: 96 (10/10)\n",
      "\tData load time: 0.161 sec\n",
      "\tGeneration time: 0.179 sec\n",
      "\tLog probability: -0.5193 (avg -0.5318)\n",
      "\tKL: 1.7855 (avg 2.3026)\n",
      "\tLoss: 18.3741 (avg 23.5575)\n",
      "Lowest validation loss: 22.4972\n"
     ]
    },
    {
     "name": "stderr",
     "output_type": "stream",
     "text": [
      " 26%|██▋       | 10/38 [00:00<00:02, 10.90it/s]"
     ]
    },
    {
     "name": "stdout",
     "output_type": "stream",
     "text": [
      "Epoch: 97 (5/38)\n",
      "\tData load time: 0.161 sec\n",
      "\tGeneration time: 0.180 sec\n",
      "\tBackprop time: 0.193 sec\n",
      "\tLog probability: -0.4695 (avg -0.4901)\n",
      "\tKL: 2.6823 (avg 2.6166)\n",
      "\tLoss: 27.2928 (avg 26.6562)\n",
      "Epoch: 97 (10/38)\n",
      "\tData load time: 0.161 sec\n",
      "\tGeneration time: 0.180 sec\n",
      "\tBackprop time: 0.193 sec\n",
      "\tLog probability: -0.5105 (avg -0.4946)\n",
      "\tKL: 2.1999 (avg 2.8067)\n",
      "\tLoss: 22.5093 (avg 28.5613)\n"
     ]
    },
    {
     "name": "stderr",
     "output_type": "stream",
     "text": [
      " 50%|█████     | 19/38 [00:00<00:01, 17.39it/s]"
     ]
    },
    {
     "name": "stdout",
     "output_type": "stream",
     "text": [
      "Epoch: 97 (15/38)\n",
      "\tData load time: 0.161 sec\n",
      "\tGeneration time: 0.180 sec\n",
      "\tBackprop time: 0.193 sec\n",
      "\tLog probability: -0.5124 (avg -0.4972)\n",
      "\tKL: 1.9748 (avg 3.0087)\n",
      "\tLoss: 20.2605 (avg 30.5838)\n",
      "Epoch: 97 (20/38)\n",
      "\tData load time: 0.161 sec\n",
      "\tGeneration time: 0.180 sec\n",
      "\tBackprop time: 0.193 sec\n",
      "\tLog probability: -0.4999 (avg -0.4991)\n",
      "\tKL: 2.1377 (avg 2.9536)\n",
      "\tLoss: 21.8773 (avg 30.0350)\n"
     ]
    },
    {
     "name": "stderr",
     "output_type": "stream",
     "text": [
      " 74%|███████▎  | 28/38 [00:01<00:00, 21.96it/s]"
     ]
    },
    {
     "name": "stdout",
     "output_type": "stream",
     "text": [
      "Epoch: 97 (25/38)\n",
      "\tData load time: 0.161 sec\n",
      "\tGeneration time: 0.180 sec\n",
      "\tBackprop time: 0.193 sec\n",
      "\tLog probability: -0.4808 (avg -0.4959)\n",
      "\tKL: 3.7776 (avg 2.9202)\n",
      "\tLoss: 38.2571 (avg 29.6977)\n",
      "Epoch: 97 (30/38)\n",
      "\tData load time: 0.161 sec\n",
      "\tGeneration time: 0.180 sec\n",
      "\tBackprop time: 0.193 sec\n",
      "\tLog probability: -0.5096 (avg -0.4971)\n",
      "\tKL: 3.4727 (avg 2.9257)\n",
      "\tLoss: 35.2367 (avg 29.7545)\n"
     ]
    },
    {
     "name": "stderr",
     "output_type": "stream",
     "text": [
      "100%|██████████| 38/38 [00:01<00:00, 22.60it/s]\n",
      "  0%|          | 0/10 [00:00<?, ?it/s]"
     ]
    },
    {
     "name": "stdout",
     "output_type": "stream",
     "text": [
      "Epoch: 97 (35/38)\n",
      "\tData load time: 0.161 sec\n",
      "\tGeneration time: 0.180 sec\n",
      "\tBackprop time: 0.193 sec\n",
      "\tLog probability: -0.4999 (avg -0.4966)\n",
      "\tKL: 2.4874 (avg 2.8994)\n",
      "\tLoss: 25.3734 (avg 29.4904)\n"
     ]
    },
    {
     "name": "stderr",
     "output_type": "stream",
     "text": [
      "100%|██████████| 10/10 [00:00<00:00, 26.96it/s]\n",
      "  0%|          | 0/38 [00:00<?, ?it/s]"
     ]
    },
    {
     "name": "stdout",
     "output_type": "stream",
     "text": [
      "Epoch: 97 (5/10)\n",
      "\tData load time: 0.171 sec\n",
      "\tGeneration time: 0.189 sec\n",
      "\tLog probability: -0.5297 (avg -0.5251)\n",
      "\tKL: 2.8039 (avg 2.4384)\n",
      "\tLoss: 28.5686 (avg 24.9090)\n",
      "Epoch: 97 (10/10)\n",
      "\tData load time: 0.171 sec\n",
      "\tGeneration time: 0.189 sec\n",
      "\tLog probability: -0.4828 (avg -0.5247)\n",
      "\tKL: 3.3725 (avg 2.5909)\n",
      "\tLoss: 34.2082 (avg 26.4333)\n",
      "Lowest validation loss: 22.4972\n"
     ]
    },
    {
     "name": "stderr",
     "output_type": "stream",
     "text": [
      " 26%|██▋       | 10/38 [00:00<00:02, 11.17it/s]"
     ]
    },
    {
     "name": "stdout",
     "output_type": "stream",
     "text": [
      "Epoch: 98 (5/38)\n",
      "\tData load time: 0.156 sec\n",
      "\tGeneration time: 0.173 sec\n",
      "\tBackprop time: 0.187 sec\n",
      "\tLog probability: -0.4895 (avg -0.5123)\n",
      "\tKL: 10.5458 (avg 4.0638)\n",
      "\tLoss: 105.9475 (avg 41.1500)\n",
      "Epoch: 98 (10/38)\n",
      "\tData load time: 0.156 sec\n",
      "\tGeneration time: 0.173 sec\n",
      "\tBackprop time: 0.187 sec\n",
      "\tLog probability: -0.4792 (avg -0.5141)\n",
      "\tKL: 2.5534 (avg 3.6772)\n",
      "\tLoss: 26.0132 (avg 37.2863)\n"
     ]
    },
    {
     "name": "stderr",
     "output_type": "stream",
     "text": [
      " 50%|█████     | 19/38 [00:00<00:01, 17.68it/s]"
     ]
    },
    {
     "name": "stdout",
     "output_type": "stream",
     "text": [
      "Epoch: 98 (15/38)\n",
      "\tData load time: 0.156 sec\n",
      "\tGeneration time: 0.173 sec\n",
      "\tBackprop time: 0.187 sec\n",
      "\tLog probability: -0.5125 (avg -0.5059)\n",
      "\tKL: 4.0397 (avg 3.4688)\n",
      "\tLoss: 40.9097 (avg 35.1937)\n",
      "Epoch: 98 (20/38)\n",
      "\tData load time: 0.156 sec\n",
      "\tGeneration time: 0.173 sec\n",
      "\tBackprop time: 0.187 sec\n",
      "\tLog probability: -0.4976 (avg -0.5076)\n",
      "\tKL: 2.8056 (avg 3.6024)\n",
      "\tLoss: 28.5540 (avg 36.5313)\n"
     ]
    },
    {
     "name": "stderr",
     "output_type": "stream",
     "text": [
      " 74%|███████▎  | 28/38 [00:01<00:00, 22.02it/s]"
     ]
    },
    {
     "name": "stdout",
     "output_type": "stream",
     "text": [
      "Epoch: 98 (25/38)\n",
      "\tData load time: 0.156 sec\n",
      "\tGeneration time: 0.173 sec\n",
      "\tBackprop time: 0.187 sec\n",
      "\tLog probability: -0.4789 (avg -0.5066)\n",
      "\tKL: 2.5486 (avg 3.4929)\n",
      "\tLoss: 25.9652 (avg 35.4361)\n",
      "Epoch: 98 (30/38)\n",
      "\tData load time: 0.156 sec\n",
      "\tGeneration time: 0.173 sec\n",
      "\tBackprop time: 0.187 sec\n",
      "\tLog probability: -0.5230 (avg -0.5088)\n",
      "\tKL: 5.3006 (avg 3.7215)\n",
      "\tLoss: 53.5288 (avg 37.7242)\n"
     ]
    },
    {
     "name": "stderr",
     "output_type": "stream",
     "text": [
      "100%|██████████| 38/38 [00:01<00:00, 22.73it/s]\n",
      "  0%|          | 0/10 [00:00<?, ?it/s]"
     ]
    },
    {
     "name": "stdout",
     "output_type": "stream",
     "text": [
      "Epoch: 98 (35/38)\n",
      "\tData load time: 0.156 sec\n",
      "\tGeneration time: 0.173 sec\n",
      "\tBackprop time: 0.187 sec\n",
      "\tLog probability: -0.5374 (avg -0.5082)\n",
      "\tKL: 2.3516 (avg 3.5200)\n",
      "\tLoss: 24.0529 (avg 35.7078)\n"
     ]
    },
    {
     "name": "stderr",
     "output_type": "stream",
     "text": [
      "100%|██████████| 10/10 [00:00<00:00, 28.03it/s]\n",
      "  0%|          | 0/38 [00:00<?, ?it/s]"
     ]
    },
    {
     "name": "stdout",
     "output_type": "stream",
     "text": [
      "Epoch: 98 (5/10)\n",
      "\tData load time: 0.157 sec\n",
      "\tGeneration time: 0.174 sec\n",
      "\tLog probability: -0.5275 (avg -0.5299)\n",
      "\tKL: 2.1291 (avg 2.3788)\n",
      "\tLoss: 21.8181 (avg 24.3177)\n",
      "Epoch: 98 (10/10)\n",
      "\tData load time: 0.157 sec\n",
      "\tGeneration time: 0.174 sec\n",
      "\tLog probability: -0.5349 (avg -0.5339)\n",
      "\tKL: 4.5662 (avg 2.4913)\n",
      "\tLoss: 46.1970 (avg 25.4465)\n",
      "Lowest validation loss: 22.4972\n"
     ]
    },
    {
     "name": "stderr",
     "output_type": "stream",
     "text": [
      " 26%|██▋       | 10/38 [00:00<00:02, 11.28it/s]"
     ]
    },
    {
     "name": "stdout",
     "output_type": "stream",
     "text": [
      "Epoch: 99 (5/38)\n",
      "\tData load time: 0.143 sec\n",
      "\tGeneration time: 0.162 sec\n",
      "\tBackprop time: 0.185 sec\n",
      "\tLog probability: -0.5139 (avg -0.5201)\n",
      "\tKL: 4.9018 (avg 4.1548)\n",
      "\tLoss: 49.5323 (avg 42.0677)\n",
      "Epoch: 99 (10/38)\n",
      "\tData load time: 0.143 sec\n",
      "\tGeneration time: 0.162 sec\n",
      "\tBackprop time: 0.185 sec\n",
      "\tLog probability: -0.5337 (avg -0.5082)\n",
      "\tKL: 3.2273 (avg 3.6813)\n",
      "\tLoss: 32.8068 (avg 37.3214)\n"
     ]
    },
    {
     "name": "stderr",
     "output_type": "stream",
     "text": [
      " 50%|█████     | 19/38 [00:00<00:01, 17.74it/s]"
     ]
    },
    {
     "name": "stdout",
     "output_type": "stream",
     "text": [
      "Epoch: 99 (15/38)\n",
      "\tData load time: 0.143 sec\n",
      "\tGeneration time: 0.162 sec\n",
      "\tBackprop time: 0.185 sec\n",
      "\tLog probability: -0.4879 (avg -0.5051)\n",
      "\tKL: 2.1117 (avg 3.2329)\n",
      "\tLoss: 21.6053 (avg 32.8340)\n",
      "Epoch: 99 (20/38)\n",
      "\tData load time: 0.143 sec\n",
      "\tGeneration time: 0.162 sec\n",
      "\tBackprop time: 0.185 sec\n",
      "\tLog probability: -0.5002 (avg -0.5037)\n",
      "\tKL: 11.6567 (avg 3.6318)\n",
      "\tLoss: 117.0668 (avg 36.8219)\n"
     ]
    },
    {
     "name": "stderr",
     "output_type": "stream",
     "text": [
      " 74%|███████▎  | 28/38 [00:01<00:00, 22.08it/s]"
     ]
    },
    {
     "name": "stdout",
     "output_type": "stream",
     "text": [
      "Epoch: 99 (25/38)\n",
      "\tData load time: 0.143 sec\n",
      "\tGeneration time: 0.162 sec\n",
      "\tBackprop time: 0.185 sec\n",
      "\tLog probability: -0.4763 (avg -0.4977)\n",
      "\tKL: 2.5355 (avg 3.5729)\n",
      "\tLoss: 25.8312 (avg 36.2269)\n",
      "Epoch: 99 (30/38)\n",
      "\tData load time: 0.143 sec\n",
      "\tGeneration time: 0.162 sec\n",
      "\tBackprop time: 0.185 sec\n",
      "\tLog probability: -0.4862 (avg -0.5001)\n",
      "\tKL: 3.4163 (avg 3.5264)\n",
      "\tLoss: 34.6489 (avg 35.7646)\n"
     ]
    },
    {
     "name": "stderr",
     "output_type": "stream",
     "text": [
      "100%|██████████| 38/38 [00:01<00:00, 22.80it/s]\n",
      "  0%|          | 0/10 [00:00<?, ?it/s]"
     ]
    },
    {
     "name": "stdout",
     "output_type": "stream",
     "text": [
      "Epoch: 99 (35/38)\n",
      "\tData load time: 0.143 sec\n",
      "\tGeneration time: 0.162 sec\n",
      "\tBackprop time: 0.185 sec\n",
      "\tLog probability: -0.5113 (avg -0.4995)\n",
      "\tKL: 2.8368 (avg 3.4039)\n",
      "\tLoss: 28.8794 (avg 34.5385)\n"
     ]
    },
    {
     "name": "stderr",
     "output_type": "stream",
     "text": [
      "100%|██████████| 10/10 [00:00<00:00, 28.36it/s]\n",
      "  0%|          | 0/38 [00:00<?, ?it/s]"
     ]
    },
    {
     "name": "stdout",
     "output_type": "stream",
     "text": [
      "Epoch: 99 (5/10)\n",
      "\tData load time: 0.142 sec\n",
      "\tGeneration time: 0.167 sec\n",
      "\tLog probability: -0.5833 (avg -0.5504)\n",
      "\tKL: 3.8371 (avg 2.3744)\n",
      "\tLoss: 38.9548 (avg 24.2939)\n",
      "Epoch: 99 (10/10)\n",
      "\tData load time: 0.142 sec\n",
      "\tGeneration time: 0.167 sec\n",
      "\tLog probability: -0.5546 (avg -0.5521)\n",
      "\tKL: 2.1625 (avg 2.4467)\n",
      "\tLoss: 22.1796 (avg 25.0189)\n",
      "Lowest validation loss: 22.4972\n"
     ]
    },
    {
     "name": "stderr",
     "output_type": "stream",
     "text": [
      " 26%|██▋       | 10/38 [00:00<00:02, 11.05it/s]"
     ]
    },
    {
     "name": "stdout",
     "output_type": "stream",
     "text": [
      "Epoch: 100 (5/38)\n",
      "\tData load time: 0.158 sec\n",
      "\tGeneration time: 0.176 sec\n",
      "\tBackprop time: 0.189 sec\n",
      "\tLog probability: -0.5034 (avg -0.4985)\n",
      "\tKL: 2.9305 (avg 12.1206)\n",
      "\tLoss: 29.8083 (avg 121.7041)\n",
      "Epoch: 100 (10/38)\n",
      "\tData load time: 0.158 sec\n",
      "\tGeneration time: 0.176 sec\n",
      "\tBackprop time: 0.189 sec\n",
      "\tLog probability: -0.5580 (avg -0.5058)\n",
      "\tKL: 11.1225 (avg 8.4615)\n",
      "\tLoss: 111.7829 (avg 85.1208)\n"
     ]
    },
    {
     "name": "stderr",
     "output_type": "stream",
     "text": [
      " 50%|█████     | 19/38 [00:00<00:01, 17.56it/s]"
     ]
    },
    {
     "name": "stdout",
     "output_type": "stream",
     "text": [
      "Epoch: 100 (15/38)\n",
      "\tData load time: 0.158 sec\n",
      "\tGeneration time: 0.176 sec\n",
      "\tBackprop time: 0.189 sec\n",
      "\tLog probability: -0.5348 (avg -0.5071)\n",
      "\tKL: 3.5303 (avg 6.6233)\n",
      "\tLoss: 35.8379 (avg 66.7403)\n",
      "Epoch: 100 (20/38)\n",
      "\tData load time: 0.158 sec\n",
      "\tGeneration time: 0.176 sec\n",
      "\tBackprop time: 0.189 sec\n",
      "\tLog probability: -0.5098 (avg -0.5052)\n",
      "\tKL: 2.6473 (avg 5.5935)\n",
      "\tLoss: 26.9830 (avg 56.4404)\n"
     ]
    },
    {
     "name": "stderr",
     "output_type": "stream",
     "text": [
      " 74%|███████▎  | 28/38 [00:01<00:00, 22.00it/s]"
     ]
    },
    {
     "name": "stdout",
     "output_type": "stream",
     "text": [
      "Epoch: 100 (25/38)\n",
      "\tData load time: 0.158 sec\n",
      "\tGeneration time: 0.176 sec\n",
      "\tBackprop time: 0.189 sec\n",
      "\tLog probability: -0.5030 (avg -0.5069)\n",
      "\tKL: 3.4677 (avg 5.0897)\n",
      "\tLoss: 35.1804 (avg 51.4043)\n",
      "Epoch: 100 (30/38)\n",
      "\tData load time: 0.158 sec\n",
      "\tGeneration time: 0.176 sec\n",
      "\tBackprop time: 0.189 sec\n",
      "\tLog probability: -0.4896 (avg -0.5051)\n",
      "\tKL: 2.4501 (avg 4.6903)\n",
      "\tLoss: 24.9906 (avg 47.4082)\n"
     ]
    },
    {
     "name": "stderr",
     "output_type": "stream",
     "text": [
      "100%|██████████| 38/38 [00:01<00:00, 22.63it/s]\n",
      "  0%|          | 0/10 [00:00<?, ?it/s]"
     ]
    },
    {
     "name": "stdout",
     "output_type": "stream",
     "text": [
      "Epoch: 100 (35/38)\n",
      "\tData load time: 0.158 sec\n",
      "\tGeneration time: 0.176 sec\n",
      "\tBackprop time: 0.189 sec\n",
      "\tLog probability: -0.4895 (avg -0.5061)\n",
      "\tKL: 2.9174 (avg 4.4453)\n",
      "\tLoss: 29.6636 (avg 44.9592)\n"
     ]
    },
    {
     "name": "stderr",
     "output_type": "stream",
     "text": [
      "100%|██████████| 10/10 [00:00<00:00, 27.82it/s]"
     ]
    },
    {
     "name": "stdout",
     "output_type": "stream",
     "text": [
      "Epoch: 100 (5/10)\n",
      "\tData load time: 0.154 sec\n",
      "\tGeneration time: 0.172 sec\n",
      "\tLog probability: -0.5584 (avg -0.5269)\n",
      "\tKL: 2.0716 (avg 2.0322)\n",
      "\tLoss: 21.2746 (avg 20.8485)\n",
      "Epoch: 100 (10/10)\n",
      "\tData load time: 0.154 sec\n",
      "\tGeneration time: 0.172 sec\n",
      "\tLog probability: -0.5487 (avg -0.5247)\n",
      "\tKL: 6.9755 (avg 2.6059)\n",
      "\tLoss: 70.3039 (avg 26.5833)\n",
      "Lowest validation loss: 22.4972\n"
     ]
    },
    {
     "name": "stderr",
     "output_type": "stream",
     "text": [
      "\n"
     ]
    }
   ],
   "source": [
    "# Main loop\n",
    "best_loss = np.inf\n",
    "for epoch in range(epochs):\n",
    "\n",
    "    model.train()\n",
    "    scheduler.step()\n",
    "    train_loss, train_kl, train_logp = train_VAE1D(train_dl)\n",
    "    \n",
    "    model.eval()\n",
    "    with torch.no_grad():\n",
    "        val_loss, val_kl, val_logp = train_VAE1D(val_dl)\n",
    "\n",
    "    # Report training progress to user\n",
    "    if val_loss < best_loss:\n",
    "        print('Saving checkpoint..')\n",
    "        best_loss = val_loss\n",
    "        save_dict = {'epoch': epoch + 1,\n",
    "                     'state_dict': model.state_dict(),\n",
    "                     'val_loss': val_loss,\n",
    "                     'optimizer': optimizer.state_dict()}\n",
    "        path = save_path / 'best_model.pth.tar'\n",
    "        torch.save(save_dict, path)\n",
    "    print(f'Lowest validation loss: {best_loss:.4f}')"
   ]
  },
  {
   "cell_type": "code",
   "execution_count": null,
   "metadata": {},
   "outputs": [],
   "source": [
    "for X, y in test_dl:\n",
    "    break\n",
    "X.shape"
   ]
  },
  {
   "cell_type": "code",
   "execution_count": null,
   "metadata": {},
   "outputs": [],
   "source": [
    "X[:, :, :4]"
   ]
  },
  {
   "cell_type": "code",
   "execution_count": null,
   "metadata": {},
   "outputs": [],
   "source": [
    "X = X.to(device)"
   ]
  },
  {
   "cell_type": "code",
   "execution_count": null,
   "metadata": {},
   "outputs": [],
   "source": [
    "X.shape"
   ]
  },
  {
   "cell_type": "code",
   "execution_count": null,
   "metadata": {},
   "outputs": [],
   "source": [
    "y"
   ]
  },
  {
   "cell_type": "code",
   "execution_count": null,
   "metadata": {},
   "outputs": [],
   "source": [
    "X_hat, mu, logvar = model(X)"
   ]
  },
  {
   "cell_type": "code",
   "execution_count": null,
   "metadata": {},
   "outputs": [],
   "source": [
    "X"
   ]
  },
  {
   "cell_type": "code",
   "execution_count": null,
   "metadata": {},
   "outputs": [],
   "source": [
    "X_hat"
   ]
  },
  {
   "cell_type": "markdown",
   "metadata": {},
   "source": [
    "# TODO: ADD VISUALIZATIONS"
   ]
  },
  {
   "cell_type": "markdown",
   "metadata": {},
   "source": [
    "# TODO include in epoch loop?\n",
    "# TODO look into what the scheduler is for\n",
    "# visualize reconst and free sample\n",
    "\n",
    "with torch.no_grad():\n",
    "\n",
    "    val_iter = iter(val_dl)\n",
    "\n",
    "    # Generate 25 images\n",
    "    imgs = val_iter._get_batch()[1][0][:25]\n",
    "    imgs = imgs.to(device)\n",
    "    gen_imgs, mu, logvar = model(imgs)\n",
    "    \n",
    "    # Scale images back to 0-1\n",
    "    imgs = (imgs + 1) / 2\n",
    "    grid = make_grid(imgs, nrow=5, padding=20)\n",
    "    gen_imgs = (gen_imgs + 1) / 2\n",
    "    gen_grid = make_grid(gen_imgs, nrow=5, padding=20)\n",
    "    "
   ]
  },
  {
   "cell_type": "markdown",
   "metadata": {},
   "source": [
    "import matplotlib.pyplot as plt\n",
    "grid = grid.cpu()\n",
    "gen_grid = gen_grid.cpu()"
   ]
  },
  {
   "cell_type": "markdown",
   "metadata": {},
   "source": [
    "plt.imshow(grid.permute(1, 2, 0))"
   ]
  },
  {
   "cell_type": "markdown",
   "metadata": {},
   "source": [
    "plt.imshow(gen_grid.permute(1, 2, 0))"
   ]
  },
  {
   "cell_type": "markdown",
   "metadata": {},
   "source": [
    "mu = mu.cpu()\n",
    "std = (0.5 * logvar).exp().cpu()"
   ]
  },
  {
   "cell_type": "markdown",
   "metadata": {},
   "source": [
    "for i in np.random.choice(range(mu.shape[0]), 5):\n",
    "    plt.figure()\n",
    "    mu_eg = mu[i, :].squeeze(-1).squeeze(-1)\n",
    "    plt.plot(mu_eg.numpy())\n",
    "    plt.figure()\n",
    "    std_eg = std[i, :].squeeze(-1).squeeze(-1)\n",
    "    plt.plot(std_eg.numpy())"
   ]
  },
  {
   "cell_type": "markdown",
   "metadata": {},
   "source": [
    "with torch.no_grad():\n",
    "    # Generate some random images\n",
    "    noises = torch.randn(25, model.n_latent, 1, 1)\n",
    "    noises = noises.to(device)\n",
    "    samples = model.decode(noises)\n",
    "    \n",
    "    samples = (samples + 1) / 2\n",
    "    sample_grid = make_grid(samples, nrow=5, padding=20).cpu()\n",
    "    \n",
    "    plt.imshow(sample_grid.permute(1, 2, 0))  # easy way to swapaxes"
   ]
  },
  {
   "cell_type": "markdown",
   "metadata": {},
   "source": [
    "# Save the model\n",
    "\n",
    "!! checkpoints seems like the better way to do this !!"
   ]
  },
  {
   "cell_type": "markdown",
   "metadata": {},
   "source": [
    "pwd"
   ]
  },
  {
   "cell_type": "markdown",
   "metadata": {},
   "source": [
    "path = save_path / 'full_model.p'\n",
    "path"
   ]
  },
  {
   "cell_type": "markdown",
   "metadata": {},
   "source": [
    "torch.save(model.cpu(), path)"
   ]
  },
  {
   "cell_type": "markdown",
   "metadata": {},
   "source": [
    "# Test the Model"
   ]
  },
  {
   "cell_type": "markdown",
   "metadata": {},
   "source": [
    "model = model.to(device)\n",
    "len(test_dl)"
   ]
  },
  {
   "cell_type": "markdown",
   "metadata": {},
   "source": [
    "def testVAE2D(test_dl):\n",
    "    abnormal_loss_tracker = AvgTracker()\n",
    "    normal_loss_tracker = AvgTracker()\n",
    "\n",
    "    model.eval()\n",
    "    for i, (X, y) in tqdm(enumerate(test_dl)):\n",
    "\n",
    "        X = X.to(device)\n",
    "        X_hat, mu, logvar = model(X)\n",
    "        loss, loss_desc = criterion(X_hat, X, mu, logvar)\n",
    "\n",
    "        # Normal\n",
    "        if target.item() == 1:\n",
    "           normal_loss_tracker.update(loss.item())\n",
    "        # Abnormal\n",
    "        else:\n",
    "           abnormal_loss_tracker.update(loss.item())\n",
    "\n",
    "    return normal_loss_tracker.avg, abnormal_loss_tracker.avg"
   ]
  },
  {
   "cell_type": "markdown",
   "metadata": {},
   "source": [
    "\"\"\"\n",
    "Measure a difference score using the model and use it for outlier detection\n",
    "\"\"\"\n",
    "\n",
    "result_path = save_path / 'result.csv'\n",
    "\n",
    "############################# ANOMALY SCORE DEF ##########################\n",
    "def score(model, img, L=5):\n",
    "    \"\"\"\n",
    "    The vae score for a single image, which is basically the loss\n",
    "    input: image: [1, 3, 256, 256]\n",
    "    output: (loss, KL, gen_err)\n",
    "    \"\"\"\n",
    "    image_batch = image.expand(L,\n",
    "                               image.size(1),\n",
    "                               image.size(2),\n",
    "                               image.size(3))\n",
    "    reconst_batch, mu, logvar = vae.forward(image_batch)\n",
    "    vae_loss, loss_details = criterion(reconst_batch, image_batch, mu, logvar)\n",
    "    return vae_loss, loss_details['KL'], -loss_details['reconst_logp']\n",
    "\n",
    "def _log_mean_exp(x, dim):\n",
    "    \"\"\"\n",
    "    A numerical stable version of log(mean(exp(x)))\n",
    "    :param x: The input\n",
    "    :param dim: The dimension along which to take mean with\n",
    "    \"\"\"\n",
    "    # m [dim1, 1]\n",
    "    m, _ = torch.max(x, dim=dim, keepdim=True)\n",
    "\n",
    "    # x0 [dm1, dim2]\n",
    "    x0 = x - m\n",
    "\n",
    "    # m [dim1]\n",
    "    m = m.squeeze(dim)\n",
    "\n",
    "    return m + torch.log(torch.mean(torch.exp(x0),\n",
    "                                    dim=dim))\n",
    "\n",
    "def get_iwae_score(vae, image, L=5):\n",
    "    \"\"\"\n",
    "    The vae score for a single image, which is basically the loss\n",
    "    :param image: [1, 3, 256, 256]\n",
    "    :return scocre: (iwae score, iwae KL, iwae reconst).\n",
    "    \"\"\"\n",
    "    # [L, 3, 256, 256]\n",
    "    image_batch = image.expand(L,\n",
    "                               image.size(1),\n",
    "                               image.size(2),\n",
    "                               image.size(3))\n",
    "\n",
    "    # [L, z_dim, 1, 1]\n",
    "    mu, logvar = vae.encode(image_batch)\n",
    "    eps = torch.randn_like(mu)\n",
    "    z = mu + eps * torch.exp(0.5 * logvar)\n",
    "    kl_weight = criterion.kl_weight\n",
    "    # [L, 3, 256, 256]\n",
    "    reconst = vae.decode(z)\n",
    "    # [L]\n",
    "    log_p_x_z = -torch.sum((reconst - image_batch).pow(2).reshape(L, -1),\n",
    "                          dim=1)\n",
    "\n",
    "    # [L]\n",
    "    log_p_z = -torch.sum(z.pow(2).reshape(L, -1), dim=1)\n",
    "\n",
    "    # [L]\n",
    "    log_q_z = -torch.sum(eps.pow(2).reshape(L, -1), dim=1)\n",
    "\n",
    "    iwae_score = -_log_mean_exp(log_p_x_z + (log_p_z - log_q_z)*kl_weight, dim=0)\n",
    "    iwae_KL_score = -_log_mean_exp(log_p_z - log_q_z, dim=0)\n",
    "    iwae_reconst_score = -_log_mean_exp(log_p_x_z, dim=0)\n",
    "\n",
    "    return iwae_score, iwae_KL_score, iwae_reconst_score\n",
    "\n",
    "############################# END OF ANOMALY SCORE ###########################\n",
    "\n",
    "# Define the number of samples of each score\n",
    "def compute_all_scores(vae, image):\n",
    "    \"\"\"\n",
    "    Given an image compute all anomaly score\n",
    "    return (reconst_score, vae_score, iwae_score)\n",
    "    \"\"\"\n",
    "    vae_loss, KL, reconst_err = get_vae_score(vae, image=image, L=15)\n",
    "    iwae_loss, iwae_KL, iwae_reconst = get_iwae_score(vae, image, L=15)\n",
    "    result = {'reconst_score': reconst_err.item(),\n",
    "              'KL_score': KL.item(),\n",
    "              'vae_score': vae_loss.item(),\n",
    "              'iwae_score': iwae_loss.item(),\n",
    "              'iwae_KL_score': iwae_KL.item(),\n",
    "              'iwae_reconst_score': iwae_reconst.item()}\n",
    "    return result\n",
    "\n",
    "\n",
    "# MAIN LOOP\n",
    "score_names = ['reconst_score', 'KL_score', 'vae_score',\n",
    "               'iwae_reconst_score', 'iwae_KL_score', 'iwae_score']\n",
    "classes = test_loader.dataset.classes\n",
    "scores = {(score_name, cls): [] for (score_name, cls) in product(score_names,\n",
    "                                                                 classes)}\n",
    "model.eval()\n",
    "with torch.no_grad():\n",
    "    for idx, (image, target) in tqdm(enumerate(test_loader)):\n",
    "        cls = classes[target.item()]\n",
    "        if args.cuda:\n",
    "            image = image.cuda()\n",
    "\n",
    "        score = compute_all_scores(vae=model, image=image)\n",
    "        for name in score_names:\n",
    "            scores[(name, cls)].append(score[name])\n",
    "\n",
    "# display the mean of scores\n",
    "means = np.zeros([len(score_names), len(classes)])\n",
    "for (name, cls) in product(score_names, classes):\n",
    "    means[score_names.index(name), classes.index(cls)] = sum(scores[(name, cls)]) / len(scores[(name, cls)])\n",
    "df_mean = pd.DataFrame(means, index=score_names, columns=classes)\n",
    "print(\"###################### MEANS #####################\")\n",
    "print(df_mean)\n",
    "\n",
    "\n",
    "classes.remove('NV')\n",
    "auc_result = np.zeros([len(score_names), len(classes) + 1])\n",
    "# get auc roc for each class\n",
    "for (name, cls) in product(score_names, classes):\n",
    "    normal_scores = scores[(name, 'NV')]\n",
    "    abnormal_scores = scores[(name, cls)]\n",
    "    y_true = [0]*len(normal_scores) + [1]*len(abnormal_scores)\n",
    "    y_score = normal_scores + abnormal_scores\n",
    "    auc_result[score_names.index(name), classes.index(cls)] = roc_auc_score(y_true, y_score)\n",
    "\n",
    "# add auc roc against all diseases\n",
    "for name in score_names:\n",
    "    normal_scores = scores[(name, 'NV')]\n",
    "    abnormal_scores = np.concatenate([scores[(name, cls)]for cls in classes]).tolist()\n",
    "    y_true = [0]*len(normal_scores) + [1]*len(abnormal_scores)\n",
    "    y_score = normal_scores + abnormal_scores\n",
    "    auc_result[score_names.index(name), -1] = roc_auc_score(y_true, y_score)\n",
    "\n",
    "df = pd.DataFrame(auc_result, index=score_names, columns=classes + ['ALL'])\n",
    "# display\n",
    "print(\"###################### AUC ROC #####################\")\n",
    "print(df)\n",
    "print(\"####################################################\")\n",
    "df.to_csv(args.out_csv)\n",
    "\n",
    "# fit a gamma distribution\n",
    "_, val_loader = load_vae_train_datasets(args.image_size, args.data, 32)\n",
    "model.eval()\n",
    "all_reconst_err = []\n",
    "num_val = len(val_loader.dataset)\n",
    "with torch.no_grad():\n",
    "    for img, _ in tqdm(val_loader):\n",
    "        if args.cuda:\n",
    "            img = img.cuda()\n",
    "\n",
    "        # compute output\n",
    "        recon_batch, mu, logvar = model(img)\n",
    "        loss, loss_details = criterion.forward_without_reduce(recon_batch, img, mu, logvar)\n",
    "        reconst_err = -loss_details['reconst_logp']\n",
    "        all_reconst_err += reconst_err.tolist()\n",
    "\n",
    "fit_alpha, fit_loc, fit_beta=stats.gamma.fit(all_reconst_err)\n",
    "\n",
    "# using gamma for outlier detection\n",
    "# get auc roc for each class\n",
    "LARGE_NUMBER = 1e30\n",
    "\n",
    "def get_gamma_score(scores):\n",
    "    result = -stats.gamma.logpdf(scores, fit_alpha, fit_loc, fit_beta)\n",
    "    # replace inf in result with largest number\n",
    "    result[result == np.inf] = LARGE_NUMBER\n",
    "    return result\n",
    "\n",
    "auc_gamma_result = np.zeros([1, len(classes)+1])\n",
    "name = 'reconst_score'\n",
    "for cls in classes:\n",
    "    normal_scores = get_gamma_score(scores[(name, 'NV')]).tolist()\n",
    "    abnormal_scores = get_gamma_score(scores[(name, cls)]).tolist()\n",
    "    y_true = [0]*len(normal_scores) + [1]*len(abnormal_scores)\n",
    "    y_score = normal_scores + abnormal_scores\n",
    "    auc_gamma_result[0, classes.index(cls)] = roc_auc_score(y_true, y_score)\n",
    "\n",
    "# for all class\n",
    "normal_scores = get_gamma_score(scores[(name, 'NV')]).tolist()\n",
    "abnormal_scores = np.concatenate([get_gamma_score(scores[(name, cls)]) for cls in classes]).tolist()\n",
    "y_true = [0]*len(normal_scores) + [1]*len(abnormal_scores)\n",
    "y_score = normal_scores + abnormal_scores\n",
    "auc_gamma_result[0, -1] = roc_auc_score(y_true, y_score)\n",
    "df = pd.DataFrame(auc_gamma_result, index=['gamma score'], columns=classes + ['ALL'])\n",
    "\n",
    "# display\n",
    "print(\"###################### AUC ROC GAMMA #####################\")\n",
    "print(df)\n",
    "print(\"##########################################################\")\n"
   ]
  },
  {
   "cell_type": "markdown",
   "metadata": {},
   "source": []
  }
 ],
 "metadata": {
  "kernelspec": {
   "display_name": "Environment (conda_pytorch_p36)",
   "language": "python",
   "name": "conda_pytorch_p36"
  },
  "language_info": {
   "codemirror_mode": {
    "name": "ipython",
    "version": 3
   },
   "file_extension": ".py",
   "mimetype": "text/x-python",
   "name": "python",
   "nbconvert_exporter": "python",
   "pygments_lexer": "ipython3",
   "version": "3.6.5"
  }
 },
 "nbformat": 4,
 "nbformat_minor": 2
}
