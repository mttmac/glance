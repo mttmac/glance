{
 "cells": [
  {
   "cell_type": "markdown",
   "metadata": {},
   "source": [
    "# Imports"
   ]
  },
  {
   "cell_type": "code",
   "execution_count": 50,
   "metadata": {},
   "outputs": [],
   "source": [
    "%reload_ext autoreload\n",
    "%autoreload 2\n",
    "%matplotlib inline"
   ]
  },
  {
   "cell_type": "code",
   "execution_count": 51,
   "metadata": {},
   "outputs": [],
   "source": [
    "from VAE1D import *"
   ]
  },
  {
   "cell_type": "code",
   "execution_count": 52,
   "metadata": {},
   "outputs": [],
   "source": [
    "from IPython.core.debugger import set_trace"
   ]
  },
  {
   "cell_type": "markdown",
   "metadata": {},
   "source": [
    "Define train function in notebook due to import namespace bug."
   ]
  },
  {
   "cell_type": "code",
   "execution_count": 4,
   "metadata": {},
   "outputs": [],
   "source": [
    "def train_VAE1D(dl):\n",
    "    \"\"\"\n",
    "    Execute the training loop\n",
    "    \"\"\"\n",
    "    loss_tracker = AvgTracker()\n",
    "    kl_tracker = AvgTracker()\n",
    "    logp_tracker = AvgTracker()\n",
    "    timer = StopWatch()\n",
    "    freq = min(log_freq, len(dl))\n",
    "    \n",
    "    for i, (X, _) in enumerate(tqdm(dl)):\n",
    "        \n",
    "        X = X.to(device)\n",
    "        timer.lap()  # load time\n",
    "        \n",
    "        # Generate transient and compute loss\n",
    "        X_hat, mu, logvar = model(X)\n",
    "        loss, loss_desc = criterion(X_hat, X, mu, logvar)\n",
    "        timer.lap()  # gen time\n",
    "        \n",
    "        loss_tracker.update(loss.item())\n",
    "        kl_tracker.update(loss_desc['KL'].item())\n",
    "        logp_tracker.update(loss_desc['logp'].item())\n",
    "        \n",
    "        if model.training:\n",
    "            # Update weights\n",
    "            optimizer.zero_grad()\n",
    "            loss.backward()\n",
    "            optimizer.step()\n",
    "            timer.lap()  # backprop time\n",
    "        \n",
    "        if ((i + 1) % freq == 0) and ((epoch + 1) % ep_freq == 0):\n",
    "            # Print progress\n",
    "            if model.training:\n",
    "                print('TRAINING')\n",
    "            else:\n",
    "                print('VALIDATION')\n",
    "            print(f'Epoch: {epoch + 1} ({i + 1}/{len(dl)})')\n",
    "            print(f'\\tData load time: {timer.elapsed[0]:.3f} sec')\n",
    "            print(f'\\tGeneration time: {timer.elapsed[1]:.3f} sec')\n",
    "            if model.training:\n",
    "                print(f'\\tBackprop time: {timer.elapsed[2]:.3f} sec')\n",
    "            print(f'\\tLog probability: {logp_tracker.val:.4f} '\n",
    "                  f'(avg {logp_tracker.avg:.4f})')\n",
    "            print(f'\\tKL: {kl_tracker.val:.4f} (avg {kl_tracker.avg:.4f})')\n",
    "            print(f'\\tLoss: {loss_tracker.val:.4f} (avg {loss_tracker.avg:.4f})')\n",
    "\n",
    "    return loss_tracker.avg, kl_tracker.avg, logp_tracker.avg"
   ]
  },
  {
   "cell_type": "markdown",
   "metadata": {},
   "source": [
    "# Accumulator"
   ]
  },
  {
   "cell_type": "markdown",
   "metadata": {},
   "source": [
    "### Build model and loss function \n",
    "Initially designed for 2D input images, modified for 1D time-series data.\n",
    "Based on this paper: https://arxiv.org/abs/1807.01349"
   ]
  },
  {
   "cell_type": "code",
   "execution_count": 5,
   "metadata": {},
   "outputs": [],
   "source": [
    "# The hydraulic system has 14 sensors from which to pull data\n",
    "n_channels = 14\n",
    "# The data has been resized to 512, although it represents 1 min for each cycle\n",
    "size = 512\n",
    "# Latent space is restricted to be about 1/170th of the input dims, similar to 2D case\n",
    "n_latent = 50"
   ]
  },
  {
   "cell_type": "code",
   "execution_count": 6,
   "metadata": {},
   "outputs": [],
   "source": [
    "model = VAE1D(size, n_channels, n_latent)"
   ]
  },
  {
   "cell_type": "code",
   "execution_count": 7,
   "metadata": {},
   "outputs": [],
   "source": [
    "beta = 1  # KL term relative weight\n",
    "criterion = VAE1DLoss(beta)"
   ]
  },
  {
   "cell_type": "markdown",
   "metadata": {},
   "source": [
    "### Load hydraulic test data\n",
    "From this dataset: https://archive.ics.uci.edu/ml/datasets/Condition+monitoring+of+hydraulic+systems#"
   ]
  },
  {
   "cell_type": "code",
   "execution_count": 8,
   "metadata": {},
   "outputs": [],
   "source": [
    "desc = 'accumulator'\n",
    "data_path = Path(f'data/hydraulic/{desc}/')\n",
    "batch_size = 32\n",
    "train_dl, val_dl, test_dl = load_datasets(data_path,\n",
    "                                          batch_size=batch_size)"
   ]
  },
  {
   "cell_type": "code",
   "execution_count": 9,
   "metadata": {},
   "outputs": [
    {
     "name": "stdout",
     "output_type": "stream",
     "text": [
      "27 7 1157\n"
     ]
    }
   ],
   "source": [
    "print(len(train_dl), len(val_dl), len(test_dl))"
   ]
  },
  {
   "cell_type": "markdown",
   "metadata": {},
   "source": [
    "### Prepare for training"
   ]
  },
  {
   "cell_type": "code",
   "execution_count": 10,
   "metadata": {},
   "outputs": [
    {
     "name": "stdout",
     "output_type": "stream",
     "text": [
      "Folder models/190130-accumulator already exists\n"
     ]
    },
    {
     "data": {
      "text/plain": [
       "PosixPath('models/190130-accumulator')"
      ]
     },
     "execution_count": 10,
     "metadata": {},
     "output_type": "execute_result"
    }
   ],
   "source": [
    "# Display settings - TODO add Visdom logging\n",
    "log_freq = 15 # batches\n",
    "ep_freq = 10  # epochs\n",
    "\n",
    "# Training parameters\n",
    "epochs = 300\n",
    "lr = 1e-3\n",
    "device = torch.device(\"cuda:0\" if torch.cuda.is_available() else \"cpu\")\n",
    "\n",
    "# Checkpoint to resume from (default None)\n",
    "load_path = None\n",
    "\n",
    "# Checkpoint save location\n",
    "save_path = Path(f\"models/{date.today().strftime('%y%m%d')}-{desc}/\")\n",
    "if save_path.is_dir():\n",
    "    print(f\"Folder {save_path} already exists\")\n",
    "else:\n",
    "    os.mkdir(save_path)\n",
    "save_path"
   ]
  },
  {
   "cell_type": "code",
   "execution_count": 11,
   "metadata": {},
   "outputs": [],
   "source": [
    "# Load checkpoint if any\n",
    "if load_path is not None:\n",
    "    checkpoint = torch.load(load_path, map_location=device)\n",
    "    model.load_state_dict(checkpoint['state_dict'])\n",
    "    optimizer.load_state_dict(checkpoint['optimizer'])\n",
    "    print(\"Checkpoint loaded\")\n",
    "    print(f\"Validation loss: {checkpoint['val_loss']}\")\n",
    "    print(f\"Epoch: {checkpoint['epoch']}\")"
   ]
  },
  {
   "cell_type": "code",
   "execution_count": 12,
   "metadata": {},
   "outputs": [],
   "source": [
    "# Load optimizer and scheduler\n",
    "optimizer = torch.optim.Adam(params=model.parameters(), lr=lr)\n",
    "scheduler = torch.optim.lr_scheduler.CosineAnnealingLR(optimizer, 10)"
   ]
  },
  {
   "cell_type": "code",
   "execution_count": 13,
   "metadata": {},
   "outputs": [],
   "source": [
    "# Move to GPU\n",
    "model = model.to(device)\n",
    "criterion = criterion.to(device)"
   ]
  },
  {
   "cell_type": "markdown",
   "metadata": {},
   "source": [
    "### Train the model"
   ]
  },
  {
   "cell_type": "code",
   "execution_count": 14,
   "metadata": {},
   "outputs": [
    {
     "name": "stderr",
     "output_type": "stream",
     "text": [
      "100%|██████████| 27/27 [00:01<00:00, 21.96it/s]\n",
      "100%|██████████| 7/7 [00:00<00:00, 25.75it/s]\n",
      "  0%|          | 0/27 [00:00<?, ?it/s]"
     ]
    },
    {
     "name": "stdout",
     "output_type": "stream",
     "text": [
      "Saving checkpoint..\n",
      "Lowest validation loss: 583.5805\n"
     ]
    },
    {
     "name": "stderr",
     "output_type": "stream",
     "text": [
      "100%|██████████| 27/27 [00:01<00:00, 22.58it/s]\n",
      "100%|██████████| 7/7 [00:00<00:00, 25.72it/s]\n",
      "  0%|          | 0/27 [00:00<?, ?it/s]"
     ]
    },
    {
     "name": "stdout",
     "output_type": "stream",
     "text": [
      "Saving checkpoint..\n",
      "Lowest validation loss: 536.5839\n"
     ]
    },
    {
     "name": "stderr",
     "output_type": "stream",
     "text": [
      "100%|██████████| 27/27 [00:01<00:00, 22.83it/s]\n",
      "100%|██████████| 7/7 [00:00<00:00, 25.54it/s]\n",
      "  0%|          | 0/27 [00:00<?, ?it/s]"
     ]
    },
    {
     "name": "stdout",
     "output_type": "stream",
     "text": [
      "Saving checkpoint..\n",
      "Lowest validation loss: 375.7820\n"
     ]
    },
    {
     "name": "stderr",
     "output_type": "stream",
     "text": [
      "100%|██████████| 27/27 [00:01<00:00, 22.64it/s]\n",
      "100%|██████████| 7/7 [00:00<00:00, 25.84it/s]\n",
      "  0%|          | 0/27 [00:00<?, ?it/s]"
     ]
    },
    {
     "name": "stdout",
     "output_type": "stream",
     "text": [
      "Saving checkpoint..\n",
      "Lowest validation loss: 174.0437\n"
     ]
    },
    {
     "name": "stderr",
     "output_type": "stream",
     "text": [
      "100%|██████████| 27/27 [00:01<00:00, 22.83it/s]\n",
      "100%|██████████| 7/7 [00:00<00:00, 25.97it/s]\n"
     ]
    },
    {
     "name": "stdout",
     "output_type": "stream",
     "text": [
      "Saving checkpoint..\n"
     ]
    },
    {
     "name": "stderr",
     "output_type": "stream",
     "text": [
      "  0%|          | 0/27 [00:00<?, ?it/s]"
     ]
    },
    {
     "name": "stdout",
     "output_type": "stream",
     "text": [
      "Lowest validation loss: 121.9266\n"
     ]
    },
    {
     "name": "stderr",
     "output_type": "stream",
     "text": [
      "100%|██████████| 27/27 [00:01<00:00, 23.03it/s]\n",
      "100%|██████████| 7/7 [00:00<00:00, 25.28it/s]\n",
      "  0%|          | 0/27 [00:00<?, ?it/s]"
     ]
    },
    {
     "name": "stdout",
     "output_type": "stream",
     "text": [
      "Saving checkpoint..\n",
      "Lowest validation loss: 113.5654\n"
     ]
    },
    {
     "name": "stderr",
     "output_type": "stream",
     "text": [
      "100%|██████████| 27/27 [00:01<00:00, 22.79it/s]\n",
      "100%|██████████| 7/7 [00:00<00:00, 25.76it/s]\n",
      "  0%|          | 0/27 [00:00<?, ?it/s]"
     ]
    },
    {
     "name": "stdout",
     "output_type": "stream",
     "text": [
      "Saving checkpoint..\n",
      "Lowest validation loss: 93.1742\n"
     ]
    },
    {
     "name": "stderr",
     "output_type": "stream",
     "text": [
      "100%|██████████| 27/27 [00:01<00:00, 22.83it/s]\n",
      "100%|██████████| 7/7 [00:00<00:00, 25.69it/s]\n",
      "100%|██████████| 27/27 [00:01<00:00, 22.81it/s]\n",
      "100%|██████████| 7/7 [00:00<00:00, 25.57it/s]\n",
      "  0%|          | 0/27 [00:00<?, ?it/s]"
     ]
    },
    {
     "name": "stdout",
     "output_type": "stream",
     "text": [
      "Saving checkpoint..\n",
      "Lowest validation loss: 89.5170\n"
     ]
    },
    {
     "name": "stderr",
     "output_type": "stream",
     "text": [
      " 70%|███████   | 19/27 [00:00<00:00, 18.62it/s]"
     ]
    },
    {
     "name": "stdout",
     "output_type": "stream",
     "text": [
      "Epoch: 10 (15/27)\n",
      "\tData load time: 0.145 sec\n",
      "\tGeneration time: 0.153 sec\n",
      "\tBackprop time: 0.173 sec\n",
      "\tLog probability: -41.3235 (avg -42.5854)\n",
      "\tKL: 59.9643 (avg 63.6035)\n",
      "\tLoss: 101.2878 (avg 106.1889)\n"
     ]
    },
    {
     "name": "stderr",
     "output_type": "stream",
     "text": [
      "100%|██████████| 27/27 [00:01<00:00, 22.84it/s]\n",
      "100%|██████████| 7/7 [00:00<00:00, 26.38it/s]\n"
     ]
    },
    {
     "name": "stdout",
     "output_type": "stream",
     "text": [
      "VALIDATION\n",
      "Epoch: 10 (7/7)\n",
      "\tData load time: 0.134 sec\n",
      "\tGeneration time: 0.140 sec\n",
      "\tLog probability: -33.0252 (avg -34.7066)\n",
      "\tKL: 52.6076 (avg 54.8065)\n",
      "\tLoss: 85.6328 (avg 89.5131)\n",
      "Saving checkpoint..\n"
     ]
    },
    {
     "name": "stderr",
     "output_type": "stream",
     "text": [
      "  0%|          | 0/27 [00:00<?, ?it/s]"
     ]
    },
    {
     "name": "stdout",
     "output_type": "stream",
     "text": [
      "Lowest validation loss: 89.5131\n"
     ]
    },
    {
     "name": "stderr",
     "output_type": "stream",
     "text": [
      "100%|██████████| 27/27 [00:01<00:00, 22.78it/s]\n",
      "100%|██████████| 7/7 [00:00<00:00, 25.85it/s]\n",
      "100%|██████████| 27/27 [00:01<00:00, 22.70it/s]\n",
      "100%|██████████| 7/7 [00:00<00:00, 25.36it/s]\n",
      "100%|██████████| 27/27 [00:01<00:00, 22.75it/s]\n",
      "100%|██████████| 7/7 [00:00<00:00, 25.77it/s]\n",
      "100%|██████████| 27/27 [00:01<00:00, 23.12it/s]\n",
      "100%|██████████| 7/7 [00:00<00:00, 25.84it/s]\n",
      "  0%|          | 0/27 [00:00<?, ?it/s]"
     ]
    },
    {
     "name": "stdout",
     "output_type": "stream",
     "text": [
      "Saving checkpoint..\n",
      "Lowest validation loss: 89.0026\n"
     ]
    },
    {
     "name": "stderr",
     "output_type": "stream",
     "text": [
      "100%|██████████| 27/27 [00:01<00:00, 22.80it/s]\n",
      "100%|██████████| 7/7 [00:00<00:00, 25.81it/s]\n",
      "100%|██████████| 27/27 [00:01<00:00, 22.75it/s]\n",
      "100%|██████████| 7/7 [00:00<00:00, 25.96it/s]\n",
      "100%|██████████| 27/27 [00:01<00:00, 22.67it/s]\n",
      "100%|██████████| 7/7 [00:00<00:00, 25.54it/s]\n",
      "100%|██████████| 27/27 [00:01<00:00, 22.88it/s]\n",
      "100%|██████████| 7/7 [00:00<00:00, 25.34it/s]\n",
      "100%|██████████| 27/27 [00:01<00:00, 22.76it/s]\n",
      "100%|██████████| 7/7 [00:00<00:00, 25.80it/s]\n",
      "  0%|          | 0/27 [00:00<?, ?it/s]"
     ]
    },
    {
     "name": "stdout",
     "output_type": "stream",
     "text": [
      "Saving checkpoint..\n",
      "Lowest validation loss: 78.3563\n"
     ]
    },
    {
     "name": "stderr",
     "output_type": "stream",
     "text": [
      " 70%|███████   | 19/27 [00:00<00:00, 18.92it/s]"
     ]
    },
    {
     "name": "stdout",
     "output_type": "stream",
     "text": [
      "Epoch: 20 (15/27)\n",
      "\tData load time: 0.136 sec\n",
      "\tGeneration time: 0.147 sec\n",
      "\tBackprop time: 0.165 sec\n",
      "\tLog probability: -44.9940 (avg -26.7329)\n",
      "\tKL: 68.7813 (avg 67.3847)\n",
      "\tLoss: 113.7753 (avg 94.1176)\n"
     ]
    },
    {
     "name": "stderr",
     "output_type": "stream",
     "text": [
      "100%|██████████| 27/27 [00:01<00:00, 22.97it/s]\n",
      "100%|██████████| 7/7 [00:00<00:00, 25.93it/s]\n"
     ]
    },
    {
     "name": "stdout",
     "output_type": "stream",
     "text": [
      "VALIDATION\n",
      "Epoch: 20 (7/7)\n",
      "\tData load time: 0.138 sec\n",
      "\tGeneration time: 0.145 sec\n",
      "\tLog probability: -19.7652 (avg -20.1475)\n",
      "\tKL: 46.5229 (avg 52.2098)\n",
      "\tLoss: 66.2880 (avg 72.3573)\n",
      "Saving checkpoint..\n"
     ]
    },
    {
     "name": "stderr",
     "output_type": "stream",
     "text": [
      "  0%|          | 0/27 [00:00<?, ?it/s]"
     ]
    },
    {
     "name": "stdout",
     "output_type": "stream",
     "text": [
      "Lowest validation loss: 72.3573\n"
     ]
    },
    {
     "name": "stderr",
     "output_type": "stream",
     "text": [
      "100%|██████████| 27/27 [00:01<00:00, 22.78it/s]\n",
      "100%|██████████| 7/7 [00:00<00:00, 27.55it/s]\n",
      "100%|██████████| 27/27 [00:01<00:00, 22.94it/s]\n",
      "100%|██████████| 7/7 [00:00<00:00, 26.09it/s]\n",
      "100%|██████████| 27/27 [00:01<00:00, 22.69it/s]\n",
      "100%|██████████| 7/7 [00:00<00:00, 26.53it/s]\n",
      "  0%|          | 0/27 [00:00<?, ?it/s]"
     ]
    },
    {
     "name": "stdout",
     "output_type": "stream",
     "text": [
      "Saving checkpoint..\n",
      "Lowest validation loss: 70.1914\n"
     ]
    },
    {
     "name": "stderr",
     "output_type": "stream",
     "text": [
      "100%|██████████| 27/27 [00:01<00:00, 22.95it/s]\n",
      "100%|██████████| 7/7 [00:00<00:00, 26.35it/s]\n",
      "100%|██████████| 27/27 [00:01<00:00, 22.66it/s]\n",
      "100%|██████████| 7/7 [00:00<00:00, 26.61it/s]\n",
      "100%|██████████| 27/27 [00:01<00:00, 23.10it/s]\n",
      "100%|██████████| 7/7 [00:00<00:00, 25.52it/s]\n",
      "  0%|          | 0/27 [00:00<?, ?it/s]"
     ]
    },
    {
     "name": "stdout",
     "output_type": "stream",
     "text": [
      "Saving checkpoint..\n",
      "Lowest validation loss: 68.5411\n"
     ]
    },
    {
     "name": "stderr",
     "output_type": "stream",
     "text": [
      "100%|██████████| 27/27 [00:01<00:00, 22.77it/s]\n",
      "100%|██████████| 7/7 [00:00<00:00, 25.23it/s]\n",
      "  0%|          | 0/27 [00:00<?, ?it/s]"
     ]
    },
    {
     "name": "stdout",
     "output_type": "stream",
     "text": [
      "Saving checkpoint..\n",
      "Lowest validation loss: 61.0008\n"
     ]
    },
    {
     "name": "stderr",
     "output_type": "stream",
     "text": [
      "100%|██████████| 27/27 [00:01<00:00, 22.63it/s]\n",
      "100%|██████████| 7/7 [00:00<00:00, 25.55it/s]\n",
      "  0%|          | 0/27 [00:00<?, ?it/s]"
     ]
    },
    {
     "name": "stdout",
     "output_type": "stream",
     "text": [
      "Saving checkpoint..\n",
      "Lowest validation loss: 55.7080\n"
     ]
    },
    {
     "name": "stderr",
     "output_type": "stream",
     "text": [
      "100%|██████████| 27/27 [00:01<00:00, 22.68it/s]\n",
      "100%|██████████| 7/7 [00:00<00:00, 25.00it/s]\n",
      " 70%|███████   | 19/27 [00:00<00:00, 18.58it/s]"
     ]
    },
    {
     "name": "stdout",
     "output_type": "stream",
     "text": [
      "Epoch: 30 (15/27)\n",
      "\tData load time: 0.143 sec\n",
      "\tGeneration time: 0.155 sec\n",
      "\tBackprop time: 0.173 sec\n",
      "\tLog probability: -48.5037 (avg -16.2627)\n",
      "\tKL: 51.4150 (avg 50.3262)\n",
      "\tLoss: 99.9188 (avg 66.5890)\n"
     ]
    },
    {
     "name": "stderr",
     "output_type": "stream",
     "text": [
      "100%|██████████| 27/27 [00:01<00:00, 22.72it/s]\n",
      "100%|██████████| 7/7 [00:00<00:00, 25.61it/s]\n"
     ]
    },
    {
     "name": "stdout",
     "output_type": "stream",
     "text": [
      "VALIDATION\n",
      "Epoch: 30 (7/7)\n",
      "\tData load time: 0.137 sec\n",
      "\tGeneration time: 0.144 sec\n",
      "\tLog probability: -6.5154 (avg -7.4732)\n",
      "\tKL: 31.8207 (avg 45.4820)\n",
      "\tLoss: 38.3361 (avg 52.9552)\n",
      "Saving checkpoint..\n"
     ]
    },
    {
     "name": "stderr",
     "output_type": "stream",
     "text": [
      "  0%|          | 0/27 [00:00<?, ?it/s]"
     ]
    },
    {
     "name": "stdout",
     "output_type": "stream",
     "text": [
      "Lowest validation loss: 52.9552\n"
     ]
    },
    {
     "name": "stderr",
     "output_type": "stream",
     "text": [
      "100%|██████████| 27/27 [00:01<00:00, 22.88it/s]\n",
      "100%|██████████| 7/7 [00:00<00:00, 25.42it/s]\n",
      "100%|██████████| 27/27 [00:01<00:00, 22.99it/s]\n",
      "100%|██████████| 7/7 [00:00<00:00, 25.03it/s]\n",
      "100%|██████████| 27/27 [00:01<00:00, 22.56it/s]\n",
      "100%|██████████| 7/7 [00:00<00:00, 25.17it/s]\n",
      "100%|██████████| 27/27 [00:01<00:00, 23.16it/s]\n",
      "100%|██████████| 7/7 [00:00<00:00, 25.75it/s]\n",
      "100%|██████████| 27/27 [00:01<00:00, 22.78it/s]\n",
      "100%|██████████| 7/7 [00:00<00:00, 26.89it/s]\n",
      "100%|██████████| 27/27 [00:01<00:00, 22.68it/s]\n",
      "100%|██████████| 7/7 [00:00<00:00, 25.59it/s]\n",
      "  0%|          | 0/27 [00:00<?, ?it/s]"
     ]
    },
    {
     "name": "stdout",
     "output_type": "stream",
     "text": [
      "Saving checkpoint..\n",
      "Lowest validation loss: 51.1660\n"
     ]
    },
    {
     "name": "stderr",
     "output_type": "stream",
     "text": [
      "100%|██████████| 27/27 [00:01<00:00, 22.62it/s]\n",
      "100%|██████████| 7/7 [00:00<00:00, 25.66it/s]\n",
      "100%|██████████| 27/27 [00:01<00:00, 22.84it/s]\n",
      "100%|██████████| 7/7 [00:00<00:00, 25.73it/s]\n",
      "100%|██████████| 27/27 [00:01<00:00, 22.74it/s]\n",
      "100%|██████████| 7/7 [00:00<00:00, 25.83it/s]\n",
      " 70%|███████   | 19/27 [00:00<00:00, 18.43it/s]"
     ]
    },
    {
     "name": "stdout",
     "output_type": "stream",
     "text": [
      "Epoch: 40 (15/27)\n",
      "\tData load time: 0.146 sec\n",
      "\tGeneration time: 0.154 sec\n",
      "\tBackprop time: 0.174 sec\n",
      "\tLog probability: -12.8187 (avg -22.4294)\n",
      "\tKL: 72.2497 (avg 91.4180)\n",
      "\tLoss: 85.0684 (avg 113.8474)\n"
     ]
    },
    {
     "name": "stderr",
     "output_type": "stream",
     "text": [
      "100%|██████████| 27/27 [00:01<00:00, 22.63it/s]\n",
      "100%|██████████| 7/7 [00:00<00:00, 24.89it/s]\n",
      "  0%|          | 0/27 [00:00<?, ?it/s]"
     ]
    },
    {
     "name": "stdout",
     "output_type": "stream",
     "text": [
      "VALIDATION\n",
      "Epoch: 40 (7/7)\n",
      "\tData load time: 0.139 sec\n",
      "\tGeneration time: 0.149 sec\n",
      "\tLog probability: -12.7671 (avg -11.8860)\n",
      "\tKL: 122.1394 (avg 106.7831)\n",
      "\tLoss: 134.9065 (avg 118.6692)\n"
     ]
    },
    {
     "name": "stderr",
     "output_type": "stream",
     "text": [
      "100%|██████████| 27/27 [00:01<00:00, 22.59it/s]\n",
      "100%|██████████| 7/7 [00:00<00:00, 25.35it/s]\n",
      "100%|██████████| 27/27 [00:01<00:00, 23.03it/s]\n",
      "100%|██████████| 7/7 [00:00<00:00, 25.68it/s]\n",
      "100%|██████████| 27/27 [00:01<00:00, 22.72it/s]\n",
      "100%|██████████| 7/7 [00:00<00:00, 25.27it/s]\n",
      "100%|██████████| 27/27 [00:01<00:00, 22.35it/s]\n",
      "100%|██████████| 7/7 [00:00<00:00, 26.27it/s]\n",
      "100%|██████████| 27/27 [00:01<00:00, 22.66it/s]\n",
      "100%|██████████| 7/7 [00:00<00:00, 25.56it/s]\n",
      "100%|██████████| 27/27 [00:01<00:00, 23.00it/s]\n",
      "100%|██████████| 7/7 [00:00<00:00, 25.59it/s]\n",
      "100%|██████████| 27/27 [00:01<00:00, 22.99it/s]\n",
      "100%|██████████| 7/7 [00:00<00:00, 26.18it/s]\n",
      "  0%|          | 0/27 [00:00<?, ?it/s]"
     ]
    },
    {
     "name": "stdout",
     "output_type": "stream",
     "text": [
      "Saving checkpoint..\n",
      "Lowest validation loss: 50.3393\n"
     ]
    },
    {
     "name": "stderr",
     "output_type": "stream",
     "text": [
      "100%|██████████| 27/27 [00:01<00:00, 22.60it/s]\n",
      "100%|██████████| 7/7 [00:00<00:00, 25.38it/s]\n",
      "  0%|          | 0/27 [00:00<?, ?it/s]"
     ]
    },
    {
     "name": "stdout",
     "output_type": "stream",
     "text": [
      "Saving checkpoint..\n",
      "Lowest validation loss: 48.8397\n"
     ]
    },
    {
     "name": "stderr",
     "output_type": "stream",
     "text": [
      "100%|██████████| 27/27 [00:01<00:00, 22.67it/s]\n",
      "100%|██████████| 7/7 [00:00<00:00, 25.72it/s]\n",
      " 70%|███████   | 19/27 [00:00<00:00, 18.57it/s]"
     ]
    },
    {
     "name": "stdout",
     "output_type": "stream",
     "text": [
      "Epoch: 50 (15/27)\n",
      "\tData load time: 0.140 sec\n",
      "\tGeneration time: 0.152 sec\n",
      "\tBackprop time: 0.170 sec\n",
      "\tLog probability: -9.1410 (avg -10.2801)\n",
      "\tKL: 42.1372 (avg 43.8009)\n",
      "\tLoss: 51.2782 (avg 54.0809)\n"
     ]
    },
    {
     "name": "stderr",
     "output_type": "stream",
     "text": [
      "100%|██████████| 27/27 [00:01<00:00, 22.59it/s]\n",
      "100%|██████████| 7/7 [00:00<00:00, 24.81it/s]\n"
     ]
    },
    {
     "name": "stdout",
     "output_type": "stream",
     "text": [
      "VALIDATION\n",
      "Epoch: 50 (7/7)\n",
      "\tData load time: 0.145 sec\n",
      "\tGeneration time: 0.152 sec\n",
      "\tLog probability: -6.5256 (avg -5.3808)\n",
      "\tKL: 48.7287 (avg 41.4246)\n",
      "\tLoss: 55.2543 (avg 46.8054)\n",
      "Saving checkpoint..\n"
     ]
    },
    {
     "name": "stderr",
     "output_type": "stream",
     "text": [
      "  0%|          | 0/27 [00:00<?, ?it/s]"
     ]
    },
    {
     "name": "stdout",
     "output_type": "stream",
     "text": [
      "Lowest validation loss: 46.8054\n"
     ]
    },
    {
     "name": "stderr",
     "output_type": "stream",
     "text": [
      "100%|██████████| 27/27 [00:01<00:00, 22.74it/s]\n",
      "100%|██████████| 7/7 [00:00<00:00, 26.09it/s]\n",
      "  0%|          | 0/27 [00:00<?, ?it/s]"
     ]
    },
    {
     "name": "stdout",
     "output_type": "stream",
     "text": [
      "Saving checkpoint..\n",
      "Lowest validation loss: 46.0973\n"
     ]
    },
    {
     "name": "stderr",
     "output_type": "stream",
     "text": [
      "100%|██████████| 27/27 [00:01<00:00, 22.78it/s]\n",
      "100%|██████████| 7/7 [00:00<00:00, 25.93it/s]\n",
      "100%|██████████| 27/27 [00:01<00:00, 22.83it/s]\n",
      "100%|██████████| 7/7 [00:00<00:00, 26.84it/s]\n",
      "  0%|          | 0/27 [00:00<?, ?it/s]"
     ]
    },
    {
     "name": "stdout",
     "output_type": "stream",
     "text": [
      "Saving checkpoint..\n",
      "Lowest validation loss: 44.6434\n"
     ]
    },
    {
     "name": "stderr",
     "output_type": "stream",
     "text": [
      "100%|██████████| 27/27 [00:01<00:00, 22.64it/s]\n",
      "100%|██████████| 7/7 [00:00<00:00, 25.58it/s]\n",
      "100%|██████████| 27/27 [00:01<00:00, 22.55it/s]\n",
      "100%|██████████| 7/7 [00:00<00:00, 25.83it/s]\n",
      "100%|██████████| 27/27 [00:01<00:00, 22.71it/s]\n",
      "100%|██████████| 7/7 [00:00<00:00, 25.70it/s]\n",
      "100%|██████████| 27/27 [00:01<00:00, 22.61it/s]\n",
      "100%|██████████| 7/7 [00:00<00:00, 25.40it/s]\n",
      "100%|██████████| 27/27 [00:01<00:00, 22.79it/s]\n",
      "100%|██████████| 7/7 [00:00<00:00, 26.08it/s]\n",
      "100%|██████████| 27/27 [00:01<00:00, 22.49it/s]\n",
      "100%|██████████| 7/7 [00:00<00:00, 24.79it/s]\n",
      " 70%|███████   | 19/27 [00:00<00:00, 18.55it/s]"
     ]
    },
    {
     "name": "stdout",
     "output_type": "stream",
     "text": [
      "Epoch: 60 (15/27)\n",
      "\tData load time: 0.141 sec\n",
      "\tGeneration time: 0.152 sec\n",
      "\tBackprop time: 0.171 sec\n",
      "\tLog probability: -16.4495 (avg -12.8795)\n",
      "\tKL: 48.0124 (avg 48.4071)\n",
      "\tLoss: 64.4620 (avg 61.2866)\n"
     ]
    },
    {
     "name": "stderr",
     "output_type": "stream",
     "text": [
      "100%|██████████| 27/27 [00:01<00:00, 22.55it/s]\n",
      "100%|██████████| 7/7 [00:00<00:00, 25.85it/s]\n",
      "  0%|          | 0/27 [00:00<?, ?it/s]"
     ]
    },
    {
     "name": "stdout",
     "output_type": "stream",
     "text": [
      "VALIDATION\n",
      "Epoch: 60 (7/7)\n",
      "\tData load time: 0.136 sec\n",
      "\tGeneration time: 0.142 sec\n",
      "\tLog probability: -10.4746 (avg -10.4885)\n",
      "\tKL: 42.9439 (avg 46.4907)\n",
      "\tLoss: 53.4186 (avg 56.9791)\n"
     ]
    },
    {
     "name": "stderr",
     "output_type": "stream",
     "text": [
      "100%|██████████| 27/27 [00:01<00:00, 22.68it/s]\n",
      "100%|██████████| 7/7 [00:00<00:00, 25.36it/s]\n",
      "  0%|          | 0/27 [00:00<?, ?it/s]"
     ]
    },
    {
     "name": "stdout",
     "output_type": "stream",
     "text": [
      "Saving checkpoint..\n",
      "Lowest validation loss: 43.1472\n"
     ]
    },
    {
     "name": "stderr",
     "output_type": "stream",
     "text": [
      "100%|██████████| 27/27 [00:01<00:00, 22.47it/s]\n",
      "100%|██████████| 7/7 [00:00<00:00, 25.55it/s]\n",
      "100%|██████████| 27/27 [00:01<00:00, 22.68it/s]\n",
      "100%|██████████| 7/7 [00:00<00:00, 25.44it/s]\n",
      "100%|██████████| 27/27 [00:01<00:00, 22.89it/s]\n",
      "100%|██████████| 7/7 [00:00<00:00, 25.60it/s]\n",
      "100%|██████████| 27/27 [00:01<00:00, 22.65it/s]\n",
      "100%|██████████| 7/7 [00:00<00:00, 25.46it/s]\n",
      "100%|██████████| 27/27 [00:01<00:00, 22.58it/s]\n",
      "100%|██████████| 7/7 [00:00<00:00, 25.67it/s]\n",
      "100%|██████████| 27/27 [00:01<00:00, 22.67it/s]\n",
      "100%|██████████| 7/7 [00:00<00:00, 26.29it/s]\n",
      "100%|██████████| 27/27 [00:01<00:00, 22.74it/s]\n",
      "100%|██████████| 7/7 [00:00<00:00, 26.15it/s]\n",
      "100%|██████████| 27/27 [00:01<00:00, 22.82it/s]\n",
      "100%|██████████| 7/7 [00:00<00:00, 25.32it/s]\n",
      " 70%|███████   | 19/27 [00:00<00:00, 18.47it/s]"
     ]
    },
    {
     "name": "stdout",
     "output_type": "stream",
     "text": [
      "Epoch: 70 (15/27)\n",
      "\tData load time: 0.143 sec\n",
      "\tGeneration time: 0.154 sec\n",
      "\tBackprop time: 0.172 sec\n",
      "\tLog probability: -8.9577 (avg -6.4805)\n",
      "\tKL: 45.5634 (avg 40.1758)\n",
      "\tLoss: 54.5211 (avg 46.6563)\n"
     ]
    },
    {
     "name": "stderr",
     "output_type": "stream",
     "text": [
      "100%|██████████| 27/27 [00:01<00:00, 22.53it/s]\n",
      "100%|██████████| 7/7 [00:00<00:00, 26.09it/s]\n",
      "  0%|          | 0/27 [00:00<?, ?it/s]"
     ]
    },
    {
     "name": "stdout",
     "output_type": "stream",
     "text": [
      "VALIDATION\n",
      "Epoch: 70 (7/7)\n",
      "\tData load time: 0.128 sec\n",
      "\tGeneration time: 0.135 sec\n",
      "\tLog probability: -4.3509 (avg -4.3925)\n",
      "\tKL: 47.1263 (avg 39.8842)\n",
      "\tLoss: 51.4772 (avg 44.2767)\n"
     ]
    },
    {
     "name": "stderr",
     "output_type": "stream",
     "text": [
      "100%|██████████| 27/27 [00:01<00:00, 22.60it/s]\n",
      "100%|██████████| 7/7 [00:00<00:00, 25.27it/s]\n",
      "100%|██████████| 27/27 [00:01<00:00, 22.60it/s]\n",
      "100%|██████████| 7/7 [00:00<00:00, 25.48it/s]\n",
      "100%|██████████| 27/27 [00:01<00:00, 22.66it/s]\n",
      "100%|██████████| 7/7 [00:00<00:00, 25.97it/s]\n",
      "100%|██████████| 27/27 [00:01<00:00, 22.60it/s]\n",
      "100%|██████████| 7/7 [00:00<00:00, 26.67it/s]\n",
      "  0%|          | 0/27 [00:00<?, ?it/s]"
     ]
    },
    {
     "name": "stdout",
     "output_type": "stream",
     "text": [
      "Saving checkpoint..\n",
      "Lowest validation loss: 42.0230\n"
     ]
    },
    {
     "name": "stderr",
     "output_type": "stream",
     "text": [
      "100%|██████████| 27/27 [00:01<00:00, 22.56it/s]\n",
      "100%|██████████| 7/7 [00:00<00:00, 25.23it/s]\n",
      "100%|██████████| 27/27 [00:01<00:00, 22.59it/s]\n",
      "100%|██████████| 7/7 [00:00<00:00, 26.42it/s]\n",
      "100%|██████████| 27/27 [00:01<00:00, 22.67it/s]\n",
      "100%|██████████| 7/7 [00:00<00:00, 25.80it/s]\n",
      "100%|██████████| 27/27 [00:01<00:00, 22.48it/s]\n",
      "100%|██████████| 7/7 [00:00<00:00, 25.62it/s]\n",
      "  0%|          | 0/27 [00:00<?, ?it/s]"
     ]
    },
    {
     "name": "stdout",
     "output_type": "stream",
     "text": [
      "Saving checkpoint..\n",
      "Lowest validation loss: 41.9476\n"
     ]
    },
    {
     "name": "stderr",
     "output_type": "stream",
     "text": [
      "100%|██████████| 27/27 [00:01<00:00, 22.85it/s]\n",
      "100%|██████████| 7/7 [00:00<00:00, 24.85it/s]\n",
      "  0%|          | 0/27 [00:00<?, ?it/s]"
     ]
    },
    {
     "name": "stdout",
     "output_type": "stream",
     "text": [
      "Saving checkpoint..\n",
      "Lowest validation loss: 40.5902\n"
     ]
    },
    {
     "name": "stderr",
     "output_type": "stream",
     "text": [
      " 70%|███████   | 19/27 [00:00<00:00, 18.40it/s]"
     ]
    },
    {
     "name": "stdout",
     "output_type": "stream",
     "text": [
      "Epoch: 80 (15/27)\n",
      "\tData load time: 0.143 sec\n",
      "\tGeneration time: 0.154 sec\n",
      "\tBackprop time: 0.173 sec\n",
      "\tLog probability: -6.8158 (avg -8.9180)\n",
      "\tKL: 40.1917 (avg 42.0778)\n",
      "\tLoss: 47.0075 (avg 50.9958)\n"
     ]
    },
    {
     "name": "stderr",
     "output_type": "stream",
     "text": [
      "100%|██████████| 27/27 [00:01<00:00, 22.42it/s]\n",
      "100%|██████████| 7/7 [00:00<00:00, 25.19it/s]\n",
      "  0%|          | 0/27 [00:00<?, ?it/s]"
     ]
    },
    {
     "name": "stdout",
     "output_type": "stream",
     "text": [
      "VALIDATION\n",
      "Epoch: 80 (7/7)\n",
      "\tData load time: 0.143 sec\n",
      "\tGeneration time: 0.149 sec\n",
      "\tLog probability: -4.4827 (avg -6.0635)\n",
      "\tKL: 33.7880 (avg 42.4979)\n",
      "\tLoss: 38.2707 (avg 48.5614)\n"
     ]
    },
    {
     "name": "stderr",
     "output_type": "stream",
     "text": [
      "100%|██████████| 27/27 [00:01<00:00, 22.48it/s]\n",
      "100%|██████████| 7/7 [00:00<00:00, 25.22it/s]\n",
      "100%|██████████| 27/27 [00:01<00:00, 22.59it/s]\n",
      "100%|██████████| 7/7 [00:00<00:00, 25.84it/s]\n",
      "100%|██████████| 27/27 [00:01<00:00, 22.61it/s]\n",
      "100%|██████████| 7/7 [00:00<00:00, 26.30it/s]\n",
      "100%|██████████| 27/27 [00:01<00:00, 22.43it/s]\n",
      "100%|██████████| 7/7 [00:00<00:00, 25.08it/s]\n",
      "100%|██████████| 27/27 [00:01<00:00, 22.76it/s]\n",
      "100%|██████████| 7/7 [00:00<00:00, 25.09it/s]\n",
      "  0%|          | 0/27 [00:00<?, ?it/s]"
     ]
    },
    {
     "name": "stdout",
     "output_type": "stream",
     "text": [
      "Saving checkpoint..\n",
      "Lowest validation loss: 38.6062\n"
     ]
    },
    {
     "name": "stderr",
     "output_type": "stream",
     "text": [
      "100%|██████████| 27/27 [00:01<00:00, 22.51it/s]\n",
      "100%|██████████| 7/7 [00:00<00:00, 25.52it/s]\n",
      "  0%|          | 0/27 [00:00<?, ?it/s]"
     ]
    },
    {
     "name": "stdout",
     "output_type": "stream",
     "text": [
      "Saving checkpoint..\n",
      "Lowest validation loss: 36.0481\n"
     ]
    },
    {
     "name": "stderr",
     "output_type": "stream",
     "text": [
      "100%|██████████| 27/27 [00:01<00:00, 22.61it/s]\n",
      "100%|██████████| 7/7 [00:00<00:00, 25.39it/s]\n",
      "  0%|          | 0/27 [00:00<?, ?it/s]"
     ]
    },
    {
     "name": "stdout",
     "output_type": "stream",
     "text": [
      "Saving checkpoint..\n",
      "Lowest validation loss: 31.3476\n"
     ]
    },
    {
     "name": "stderr",
     "output_type": "stream",
     "text": [
      "100%|██████████| 27/27 [00:01<00:00, 22.45it/s]\n",
      "100%|██████████| 7/7 [00:00<00:00, 25.69it/s]\n",
      "  0%|          | 0/27 [00:00<?, ?it/s]"
     ]
    },
    {
     "name": "stdout",
     "output_type": "stream",
     "text": [
      "Saving checkpoint..\n",
      "Lowest validation loss: 30.2995\n"
     ]
    },
    {
     "name": "stderr",
     "output_type": "stream",
     "text": [
      "100%|██████████| 27/27 [00:01<00:00, 22.64it/s]\n",
      "100%|██████████| 7/7 [00:00<00:00, 25.47it/s]\n",
      " 70%|███████   | 19/27 [00:00<00:00, 18.28it/s]"
     ]
    },
    {
     "name": "stdout",
     "output_type": "stream",
     "text": [
      "Epoch: 90 (15/27)\n",
      "\tData load time: 0.148 sec\n",
      "\tGeneration time: 0.156 sec\n",
      "\tBackprop time: 0.177 sec\n",
      "\tLog probability: -5.0693 (avg -5.1632)\n",
      "\tKL: 30.8948 (avg 31.5335)\n",
      "\tLoss: 35.9642 (avg 36.6967)\n"
     ]
    },
    {
     "name": "stderr",
     "output_type": "stream",
     "text": [
      "100%|██████████| 27/27 [00:01<00:00, 22.53it/s]\n",
      "100%|██████████| 7/7 [00:00<00:00, 26.40it/s]\n",
      "  0%|          | 0/27 [00:00<?, ?it/s]"
     ]
    },
    {
     "name": "stdout",
     "output_type": "stream",
     "text": [
      "VALIDATION\n",
      "Epoch: 90 (7/7)\n",
      "\tData load time: 0.125 sec\n",
      "\tGeneration time: 0.134 sec\n",
      "\tLog probability: -3.9628 (avg -4.3000)\n",
      "\tKL: 28.1826 (avg 27.5964)\n",
      "\tLoss: 32.1454 (avg 31.8964)\n"
     ]
    },
    {
     "name": "stderr",
     "output_type": "stream",
     "text": [
      "100%|██████████| 27/27 [00:01<00:00, 22.62it/s]\n",
      "100%|██████████| 7/7 [00:00<00:00, 25.77it/s]\n",
      "100%|██████████| 27/27 [00:01<00:00, 23.00it/s]\n",
      "100%|██████████| 7/7 [00:00<00:00, 25.67it/s]\n",
      "100%|██████████| 27/27 [00:01<00:00, 22.86it/s]\n",
      "100%|██████████| 7/7 [00:00<00:00, 25.49it/s]\n",
      "100%|██████████| 27/27 [00:01<00:00, 22.68it/s]\n",
      "100%|██████████| 7/7 [00:00<00:00, 25.59it/s]\n",
      "100%|██████████| 27/27 [00:01<00:00, 22.70it/s]\n",
      "100%|██████████| 7/7 [00:00<00:00, 26.09it/s]\n",
      "100%|██████████| 27/27 [00:01<00:00, 22.94it/s]\n",
      "100%|██████████| 7/7 [00:00<00:00, 25.62it/s]\n",
      "100%|██████████| 27/27 [00:01<00:00, 22.53it/s]\n",
      "100%|██████████| 7/7 [00:00<00:00, 25.61it/s]\n",
      "100%|██████████| 27/27 [00:01<00:00, 22.26it/s]\n",
      "100%|██████████| 7/7 [00:00<00:00, 23.78it/s]\n",
      "100%|██████████| 27/27 [00:01<00:00, 21.86it/s]\n",
      "100%|██████████| 7/7 [00:00<00:00, 25.88it/s]\n",
      " 70%|███████   | 19/27 [00:00<00:00, 18.61it/s]"
     ]
    },
    {
     "name": "stdout",
     "output_type": "stream",
     "text": [
      "Epoch: 100 (15/27)\n",
      "\tData load time: 0.138 sec\n",
      "\tGeneration time: 0.149 sec\n",
      "\tBackprop time: 0.168 sec\n",
      "\tLog probability: -6.9739 (avg -8.6336)\n",
      "\tKL: 36.5004 (avg 38.0459)\n",
      "\tLoss: 43.4743 (avg 46.6795)\n"
     ]
    },
    {
     "name": "stderr",
     "output_type": "stream",
     "text": [
      "100%|██████████| 27/27 [00:01<00:00, 22.56it/s]\n",
      "100%|██████████| 7/7 [00:00<00:00, 26.31it/s]\n",
      "  0%|          | 0/27 [00:00<?, ?it/s]"
     ]
    },
    {
     "name": "stdout",
     "output_type": "stream",
     "text": [
      "VALIDATION\n",
      "Epoch: 100 (7/7)\n",
      "\tData load time: 0.123 sec\n",
      "\tGeneration time: 0.136 sec\n",
      "\tLog probability: -8.1109 (avg -7.0177)\n",
      "\tKL: 33.8451 (avg 37.5372)\n",
      "\tLoss: 41.9560 (avg 44.5549)\n"
     ]
    },
    {
     "name": "stderr",
     "output_type": "stream",
     "text": [
      "100%|██████████| 27/27 [00:01<00:00, 22.47it/s]\n",
      "100%|██████████| 7/7 [00:00<00:00, 24.99it/s]\n",
      "100%|██████████| 27/27 [00:01<00:00, 22.69it/s]\n",
      "100%|██████████| 7/7 [00:00<00:00, 25.59it/s]\n",
      "100%|██████████| 27/27 [00:01<00:00, 22.71it/s]\n",
      "100%|██████████| 7/7 [00:00<00:00, 25.74it/s]\n",
      "100%|██████████| 27/27 [00:01<00:00, 22.63it/s]\n",
      "100%|██████████| 7/7 [00:00<00:00, 27.00it/s]\n",
      "100%|██████████| 27/27 [00:01<00:00, 22.92it/s]\n",
      "100%|██████████| 7/7 [00:00<00:00, 25.53it/s]\n",
      "100%|██████████| 27/27 [00:01<00:00, 22.71it/s]\n",
      "100%|██████████| 7/7 [00:00<00:00, 25.12it/s]\n",
      "100%|██████████| 27/27 [00:01<00:00, 22.68it/s]\n",
      "100%|██████████| 7/7 [00:00<00:00, 25.74it/s]\n",
      "100%|██████████| 27/27 [00:01<00:00, 22.54it/s]\n",
      "100%|██████████| 7/7 [00:00<00:00, 10.00it/s]\n",
      "100%|██████████| 27/27 [00:01<00:00, 22.65it/s]\n",
      "100%|██████████| 7/7 [00:00<00:00, 25.40it/s]\n",
      " 70%|███████   | 19/27 [00:00<00:00, 18.59it/s]"
     ]
    },
    {
     "name": "stdout",
     "output_type": "stream",
     "text": [
      "Epoch: 110 (15/27)\n",
      "\tData load time: 0.141 sec\n",
      "\tGeneration time: 0.151 sec\n",
      "\tBackprop time: 0.170 sec\n",
      "\tLog probability: -4.5223 (avg -5.5341)\n",
      "\tKL: 40.6532 (avg 37.4823)\n",
      "\tLoss: 45.1756 (avg 43.0164)\n"
     ]
    },
    {
     "name": "stderr",
     "output_type": "stream",
     "text": [
      "100%|██████████| 27/27 [00:01<00:00, 22.64it/s]\n",
      "100%|██████████| 7/7 [00:00<00:00, 26.48it/s]\n",
      "  0%|          | 0/27 [00:00<?, ?it/s]"
     ]
    },
    {
     "name": "stdout",
     "output_type": "stream",
     "text": [
      "VALIDATION\n",
      "Epoch: 110 (7/7)\n",
      "\tData load time: 0.124 sec\n",
      "\tGeneration time: 0.133 sec\n",
      "\tLog probability: -4.2444 (avg -4.0287)\n",
      "\tKL: 26.8417 (avg 35.6073)\n",
      "\tLoss: 31.0861 (avg 39.6361)\n"
     ]
    },
    {
     "name": "stderr",
     "output_type": "stream",
     "text": [
      "100%|██████████| 27/27 [00:01<00:00, 22.75it/s]\n",
      "100%|██████████| 7/7 [00:00<00:00, 25.60it/s]\n",
      "100%|██████████| 27/27 [00:01<00:00, 22.99it/s]\n",
      "100%|██████████| 7/7 [00:00<00:00, 26.68it/s]\n",
      "100%|██████████| 27/27 [00:01<00:00, 22.80it/s]\n",
      "100%|██████████| 7/7 [00:00<00:00, 26.51it/s]\n",
      "100%|██████████| 27/27 [00:01<00:00, 22.53it/s]\n",
      "100%|██████████| 7/7 [00:00<00:00, 26.00it/s]\n",
      "100%|██████████| 27/27 [00:01<00:00, 22.66it/s]\n",
      "100%|██████████| 7/7 [00:00<00:00, 25.52it/s]\n",
      "100%|██████████| 27/27 [00:01<00:00, 22.75it/s]\n",
      "100%|██████████| 7/7 [00:00<00:00, 25.93it/s]\n",
      "100%|██████████| 27/27 [00:01<00:00, 22.63it/s]\n",
      "100%|██████████| 7/7 [00:00<00:00, 25.78it/s]\n",
      "100%|██████████| 27/27 [00:01<00:00, 22.91it/s]\n",
      "100%|██████████| 7/7 [00:00<00:00, 25.87it/s]\n",
      "100%|██████████| 27/27 [00:01<00:00, 22.68it/s]\n",
      "100%|██████████| 7/7 [00:00<00:00, 25.12it/s]\n",
      " 70%|███████   | 19/27 [00:00<00:00, 18.51it/s]"
     ]
    },
    {
     "name": "stdout",
     "output_type": "stream",
     "text": [
      "Epoch: 120 (15/27)\n",
      "\tData load time: 0.136 sec\n",
      "\tGeneration time: 0.146 sec\n",
      "\tBackprop time: 0.170 sec\n",
      "\tLog probability: -9.0561 (avg -10.6865)\n",
      "\tKL: 53.7035 (avg 65.6739)\n",
      "\tLoss: 62.7595 (avg 76.3604)\n"
     ]
    },
    {
     "name": "stderr",
     "output_type": "stream",
     "text": [
      "100%|██████████| 27/27 [00:01<00:00, 22.59it/s]\n",
      "100%|██████████| 7/7 [00:00<00:00, 24.55it/s]\n",
      "  0%|          | 0/27 [00:00<?, ?it/s]"
     ]
    },
    {
     "name": "stdout",
     "output_type": "stream",
     "text": [
      "VALIDATION\n",
      "Epoch: 120 (7/7)\n",
      "\tData load time: 0.146 sec\n",
      "\tGeneration time: 0.153 sec\n",
      "\tLog probability: -13.1161 (avg -13.7312)\n",
      "\tKL: 106.9676 (avg 86.9943)\n",
      "\tLoss: 120.0837 (avg 100.7254)\n"
     ]
    },
    {
     "name": "stderr",
     "output_type": "stream",
     "text": [
      "100%|██████████| 27/27 [00:01<00:00, 22.41it/s]\n",
      "100%|██████████| 7/7 [00:00<00:00, 25.23it/s]\n",
      "100%|██████████| 27/27 [00:01<00:00, 22.52it/s]\n",
      "100%|██████████| 7/7 [00:00<00:00, 26.26it/s]\n",
      "100%|██████████| 27/27 [00:01<00:00, 22.78it/s]\n",
      "100%|██████████| 7/7 [00:00<00:00, 25.42it/s]\n",
      "100%|██████████| 27/27 [00:01<00:00, 22.39it/s]\n",
      "100%|██████████| 7/7 [00:00<00:00, 25.32it/s]\n",
      "100%|██████████| 27/27 [00:01<00:00, 22.44it/s]\n",
      "100%|██████████| 7/7 [00:00<00:00, 25.36it/s]\n",
      "100%|██████████| 27/27 [00:01<00:00, 22.44it/s]\n",
      "100%|██████████| 7/7 [00:00<00:00, 25.48it/s]\n",
      "100%|██████████| 27/27 [00:01<00:00, 22.92it/s]\n",
      "100%|██████████| 7/7 [00:00<00:00, 25.45it/s]\n",
      "100%|██████████| 27/27 [00:01<00:00, 22.46it/s]\n",
      "100%|██████████| 7/7 [00:00<00:00, 25.40it/s]\n",
      "100%|██████████| 27/27 [00:01<00:00, 22.53it/s]\n",
      "100%|██████████| 7/7 [00:00<00:00, 24.96it/s]\n",
      "  0%|          | 0/27 [00:00<?, ?it/s]"
     ]
    },
    {
     "name": "stdout",
     "output_type": "stream",
     "text": [
      "Saving checkpoint..\n",
      "Lowest validation loss: 30.2147\n"
     ]
    },
    {
     "name": "stderr",
     "output_type": "stream",
     "text": [
      " 70%|███████   | 19/27 [00:00<00:00, 18.16it/s]"
     ]
    },
    {
     "name": "stdout",
     "output_type": "stream",
     "text": [
      "Epoch: 130 (15/27)\n",
      "\tData load time: 0.149 sec\n",
      "\tGeneration time: 0.161 sec\n",
      "\tBackprop time: 0.181 sec\n",
      "\tLog probability: -7.7578 (avg -5.7884)\n",
      "\tKL: 31.8173 (avg 28.9012)\n",
      "\tLoss: 39.5751 (avg 34.6897)\n"
     ]
    },
    {
     "name": "stderr",
     "output_type": "stream",
     "text": [
      "100%|██████████| 27/27 [00:01<00:00, 22.47it/s]\n",
      "100%|██████████| 7/7 [00:00<00:00, 25.33it/s]\n"
     ]
    },
    {
     "name": "stdout",
     "output_type": "stream",
     "text": [
      "VALIDATION\n",
      "Epoch: 130 (7/7)\n",
      "\tData load time: 0.138 sec\n",
      "\tGeneration time: 0.145 sec\n",
      "\tLog probability: -3.2638 (avg -3.6049)\n",
      "\tKL: 24.3036 (avg 25.5082)\n",
      "\tLoss: 27.5674 (avg 29.1131)\n",
      "Saving checkpoint..\n"
     ]
    },
    {
     "name": "stderr",
     "output_type": "stream",
     "text": [
      "  0%|          | 0/27 [00:00<?, ?it/s]"
     ]
    },
    {
     "name": "stdout",
     "output_type": "stream",
     "text": [
      "Lowest validation loss: 29.1131\n"
     ]
    },
    {
     "name": "stderr",
     "output_type": "stream",
     "text": [
      "100%|██████████| 27/27 [00:01<00:00, 22.69it/s]\n",
      "100%|██████████| 7/7 [00:00<00:00, 25.75it/s]\n",
      "100%|██████████| 27/27 [00:01<00:00, 22.95it/s]\n",
      "100%|██████████| 7/7 [00:00<00:00, 26.53it/s]\n",
      "100%|██████████| 27/27 [00:01<00:00, 22.49it/s]\n",
      "100%|██████████| 7/7 [00:00<00:00, 24.86it/s]\n",
      "  0%|          | 0/27 [00:00<?, ?it/s]"
     ]
    },
    {
     "name": "stdout",
     "output_type": "stream",
     "text": [
      "Saving checkpoint..\n",
      "Lowest validation loss: 28.4119\n"
     ]
    },
    {
     "name": "stderr",
     "output_type": "stream",
     "text": [
      "100%|██████████| 27/27 [00:01<00:00, 22.50it/s]\n",
      "100%|██████████| 7/7 [00:00<00:00, 25.66it/s]\n",
      "100%|██████████| 27/27 [00:01<00:00, 22.63it/s]\n",
      "100%|██████████| 7/7 [00:00<00:00, 26.14it/s]\n",
      "100%|██████████| 27/27 [00:01<00:00, 22.52it/s]\n",
      "100%|██████████| 7/7 [00:00<00:00, 26.90it/s]\n",
      "100%|██████████| 27/27 [00:01<00:00, 22.63it/s]\n",
      "100%|██████████| 7/7 [00:00<00:00, 26.35it/s]\n",
      "100%|██████████| 27/27 [00:01<00:00, 22.78it/s]\n",
      "100%|██████████| 7/7 [00:00<00:00, 25.41it/s]\n",
      "100%|██████████| 27/27 [00:01<00:00, 22.52it/s]\n",
      "100%|██████████| 7/7 [00:00<00:00, 25.48it/s]\n",
      " 70%|███████   | 19/27 [00:00<00:00, 18.64it/s]"
     ]
    },
    {
     "name": "stdout",
     "output_type": "stream",
     "text": [
      "Epoch: 140 (15/27)\n",
      "\tData load time: 0.137 sec\n",
      "\tGeneration time: 0.148 sec\n",
      "\tBackprop time: 0.169 sec\n",
      "\tLog probability: -6.5914 (avg -10.2014)\n",
      "\tKL: 42.9209 (avg 52.4445)\n",
      "\tLoss: 49.5123 (avg 62.6459)\n"
     ]
    },
    {
     "name": "stderr",
     "output_type": "stream",
     "text": [
      "100%|██████████| 27/27 [00:01<00:00, 22.65it/s]\n",
      "100%|██████████| 7/7 [00:00<00:00, 24.93it/s]\n",
      "  0%|          | 0/27 [00:00<?, ?it/s]"
     ]
    },
    {
     "name": "stdout",
     "output_type": "stream",
     "text": [
      "VALIDATION\n",
      "Epoch: 140 (7/7)\n",
      "\tData load time: 0.141 sec\n",
      "\tGeneration time: 0.147 sec\n",
      "\tLog probability: -3.5581 (avg -9.9085)\n",
      "\tKL: 22.8108 (avg 36.1959)\n",
      "\tLoss: 26.3689 (avg 46.1044)\n"
     ]
    },
    {
     "name": "stderr",
     "output_type": "stream",
     "text": [
      "100%|██████████| 27/27 [00:01<00:00, 22.42it/s]\n",
      "100%|██████████| 7/7 [00:00<00:00, 24.01it/s]\n",
      "100%|██████████| 27/27 [00:01<00:00, 22.40it/s]\n",
      "100%|██████████| 7/7 [00:00<00:00, 24.62it/s]\n",
      "100%|██████████| 27/27 [00:01<00:00, 22.48it/s]\n",
      "100%|██████████| 7/7 [00:00<00:00, 24.32it/s]\n",
      "100%|██████████| 27/27 [00:01<00:00, 22.25it/s]\n",
      "100%|██████████| 7/7 [00:00<00:00, 24.69it/s]\n",
      "100%|██████████| 27/27 [00:01<00:00, 22.28it/s]\n",
      "100%|██████████| 7/7 [00:00<00:00, 24.69it/s]\n",
      "100%|██████████| 27/27 [00:01<00:00, 22.47it/s]\n",
      "100%|██████████| 7/7 [00:00<00:00, 25.21it/s]\n",
      "100%|██████████| 27/27 [00:01<00:00, 22.79it/s]\n",
      "100%|██████████| 7/7 [00:00<00:00, 25.27it/s]\n",
      "100%|██████████| 27/27 [00:01<00:00, 22.54it/s]\n",
      "100%|██████████| 7/7 [00:00<00:00, 26.46it/s]\n",
      "100%|██████████| 27/27 [00:01<00:00, 22.80it/s]\n",
      "100%|██████████| 7/7 [00:00<00:00, 26.22it/s]\n",
      " 70%|███████   | 19/27 [00:00<00:00, 18.34it/s]"
     ]
    },
    {
     "name": "stdout",
     "output_type": "stream",
     "text": [
      "Epoch: 150 (15/27)\n",
      "\tData load time: 0.144 sec\n",
      "\tGeneration time: 0.157 sec\n",
      "\tBackprop time: 0.175 sec\n",
      "\tLog probability: -30.6139 (avg -7.7103)\n",
      "\tKL: 46.7200 (avg 33.4926)\n",
      "\tLoss: 77.3340 (avg 41.2029)\n"
     ]
    },
    {
     "name": "stderr",
     "output_type": "stream",
     "text": [
      "100%|██████████| 27/27 [00:01<00:00, 22.50it/s]\n",
      "100%|██████████| 7/7 [00:00<00:00, 25.27it/s]\n",
      "  0%|          | 0/27 [00:00<?, ?it/s]"
     ]
    },
    {
     "name": "stdout",
     "output_type": "stream",
     "text": [
      "VALIDATION\n",
      "Epoch: 150 (7/7)\n",
      "\tData load time: 0.136 sec\n",
      "\tGeneration time: 0.144 sec\n",
      "\tLog probability: -3.6661 (avg -3.8478)\n",
      "\tKL: 34.9456 (avg 32.5691)\n",
      "\tLoss: 38.6117 (avg 36.4169)\n"
     ]
    },
    {
     "name": "stderr",
     "output_type": "stream",
     "text": [
      "100%|██████████| 27/27 [00:01<00:00, 22.56it/s]\n",
      "100%|██████████| 7/7 [00:00<00:00, 25.01it/s]\n",
      "100%|██████████| 27/27 [00:01<00:00, 22.53it/s]\n",
      "100%|██████████| 7/7 [00:00<00:00, 24.82it/s]\n",
      "100%|██████████| 27/27 [00:01<00:00, 22.57it/s]\n",
      "100%|██████████| 7/7 [00:00<00:00, 25.07it/s]\n",
      "100%|██████████| 27/27 [00:01<00:00, 22.94it/s]\n",
      "100%|██████████| 7/7 [00:00<00:00, 25.43it/s]\n",
      "100%|██████████| 27/27 [00:01<00:00, 22.71it/s]\n",
      "100%|██████████| 7/7 [00:00<00:00, 25.24it/s]\n",
      "100%|██████████| 27/27 [00:01<00:00, 22.67it/s]\n",
      "100%|██████████| 7/7 [00:00<00:00, 25.54it/s]\n",
      "100%|██████████| 27/27 [00:01<00:00, 22.68it/s]\n",
      "100%|██████████| 7/7 [00:00<00:00, 24.98it/s]\n",
      "100%|██████████| 27/27 [00:01<00:00, 22.63it/s]\n",
      "100%|██████████| 7/7 [00:00<00:00, 25.67it/s]\n",
      "100%|██████████| 27/27 [00:01<00:00, 22.43it/s]\n",
      "100%|██████████| 7/7 [00:00<00:00, 24.92it/s]\n",
      " 70%|███████   | 19/27 [00:00<00:00, 18.29it/s]"
     ]
    },
    {
     "name": "stdout",
     "output_type": "stream",
     "text": [
      "Epoch: 160 (15/27)\n",
      "\tData load time: 0.147 sec\n",
      "\tGeneration time: 0.157 sec\n",
      "\tBackprop time: 0.177 sec\n",
      "\tLog probability: -4.0160 (avg -6.8846)\n",
      "\tKL: 39.8626 (avg 38.6174)\n",
      "\tLoss: 43.8786 (avg 45.5020)\n"
     ]
    },
    {
     "name": "stderr",
     "output_type": "stream",
     "text": [
      "100%|██████████| 27/27 [00:01<00:00, 22.32it/s]\n",
      "100%|██████████| 7/7 [00:00<00:00, 24.97it/s]\n",
      "  0%|          | 0/27 [00:00<?, ?it/s]"
     ]
    },
    {
     "name": "stdout",
     "output_type": "stream",
     "text": [
      "VALIDATION\n",
      "Epoch: 160 (7/7)\n",
      "\tData load time: 0.137 sec\n",
      "\tGeneration time: 0.148 sec\n",
      "\tLog probability: -18.3866 (avg -12.2770)\n",
      "\tKL: 26.1391 (avg 33.8265)\n",
      "\tLoss: 44.5257 (avg 46.1035)\n"
     ]
    },
    {
     "name": "stderr",
     "output_type": "stream",
     "text": [
      "100%|██████████| 27/27 [00:01<00:00, 22.70it/s]\n",
      "100%|██████████| 7/7 [00:00<00:00, 25.05it/s]\n",
      "100%|██████████| 27/27 [00:01<00:00, 22.58it/s]\n",
      "100%|██████████| 7/7 [00:00<00:00, 25.21it/s]\n",
      "100%|██████████| 27/27 [00:01<00:00, 22.56it/s]\n",
      "100%|██████████| 7/7 [00:00<00:00, 25.93it/s]\n",
      "100%|██████████| 27/27 [00:01<00:00, 22.46it/s]\n",
      "100%|██████████| 7/7 [00:00<00:00, 25.80it/s]\n",
      "100%|██████████| 27/27 [00:01<00:00, 22.47it/s]\n",
      "100%|██████████| 7/7 [00:00<00:00, 24.67it/s]\n",
      "100%|██████████| 27/27 [00:01<00:00, 22.50it/s]\n",
      "100%|██████████| 7/7 [00:00<00:00, 25.13it/s]\n",
      "  0%|          | 0/27 [00:00<?, ?it/s]"
     ]
    },
    {
     "name": "stdout",
     "output_type": "stream",
     "text": [
      "Saving checkpoint..\n",
      "Lowest validation loss: 27.0336\n"
     ]
    },
    {
     "name": "stderr",
     "output_type": "stream",
     "text": [
      "100%|██████████| 27/27 [00:01<00:00, 22.42it/s]\n",
      "100%|██████████| 7/7 [00:00<00:00, 25.72it/s]\n",
      "100%|██████████| 27/27 [00:01<00:00, 22.62it/s]\n",
      "100%|██████████| 7/7 [00:00<00:00, 27.33it/s]\n",
      "100%|██████████| 27/27 [00:01<00:00, 22.67it/s]\n",
      "100%|██████████| 7/7 [00:00<00:00, 25.17it/s]\n",
      " 70%|███████   | 19/27 [00:00<00:00, 18.41it/s]"
     ]
    },
    {
     "name": "stdout",
     "output_type": "stream",
     "text": [
      "Epoch: 170 (15/27)\n",
      "\tData load time: 0.142 sec\n",
      "\tGeneration time: 0.153 sec\n",
      "\tBackprop time: 0.173 sec\n",
      "\tLog probability: -4.2919 (avg -4.6877)\n",
      "\tKL: 31.5749 (avg 28.2924)\n",
      "\tLoss: 35.8669 (avg 32.9801)\n"
     ]
    },
    {
     "name": "stderr",
     "output_type": "stream",
     "text": [
      "100%|██████████| 27/27 [00:01<00:00, 22.59it/s]\n",
      "100%|██████████| 7/7 [00:00<00:00, 25.04it/s]\n",
      "  0%|          | 0/27 [00:00<?, ?it/s]"
     ]
    },
    {
     "name": "stdout",
     "output_type": "stream",
     "text": [
      "VALIDATION\n",
      "Epoch: 170 (7/7)\n",
      "\tData load time: 0.126 sec\n",
      "\tGeneration time: 0.135 sec\n",
      "\tLog probability: -3.6694 (avg -3.7849)\n",
      "\tKL: 30.5031 (avg 32.0170)\n",
      "\tLoss: 34.1725 (avg 35.8019)\n"
     ]
    },
    {
     "name": "stderr",
     "output_type": "stream",
     "text": [
      "100%|██████████| 27/27 [00:01<00:00, 22.86it/s]\n",
      "100%|██████████| 7/7 [00:00<00:00, 25.43it/s]\n",
      "100%|██████████| 27/27 [00:01<00:00, 22.59it/s]\n",
      "100%|██████████| 7/7 [00:00<00:00, 26.12it/s]\n",
      "  0%|          | 0/27 [00:00<?, ?it/s]"
     ]
    },
    {
     "name": "stdout",
     "output_type": "stream",
     "text": [
      "Saving checkpoint..\n",
      "Lowest validation loss: 25.0342\n"
     ]
    },
    {
     "name": "stderr",
     "output_type": "stream",
     "text": [
      "100%|██████████| 27/27 [00:01<00:00, 22.51it/s]\n",
      "100%|██████████| 7/7 [00:00<00:00, 25.95it/s]\n",
      "100%|██████████| 27/27 [00:01<00:00, 22.67it/s]\n",
      "100%|██████████| 7/7 [00:00<00:00, 25.31it/s]\n",
      "  0%|          | 0/27 [00:00<?, ?it/s]"
     ]
    },
    {
     "name": "stdout",
     "output_type": "stream",
     "text": [
      "Saving checkpoint..\n",
      "Lowest validation loss: 24.8166\n"
     ]
    },
    {
     "name": "stderr",
     "output_type": "stream",
     "text": [
      "100%|██████████| 27/27 [00:01<00:00, 22.56it/s]\n",
      "100%|██████████| 7/7 [00:00<00:00, 25.24it/s]\n",
      "100%|██████████| 27/27 [00:01<00:00, 22.50it/s]\n",
      "100%|██████████| 7/7 [00:00<00:00, 25.86it/s]\n",
      "100%|██████████| 27/27 [00:01<00:00, 22.46it/s]\n",
      "100%|██████████| 7/7 [00:00<00:00, 25.32it/s]\n",
      "100%|██████████| 27/27 [00:01<00:00, 22.52it/s]\n",
      "100%|██████████| 7/7 [00:00<00:00, 25.25it/s]\n",
      "100%|██████████| 27/27 [00:01<00:00, 22.60it/s]\n",
      "100%|██████████| 7/7 [00:00<00:00, 26.41it/s]\n",
      " 70%|███████   | 19/27 [00:00<00:00, 18.59it/s]"
     ]
    },
    {
     "name": "stdout",
     "output_type": "stream",
     "text": [
      "Epoch: 180 (15/27)\n",
      "\tData load time: 0.139 sec\n",
      "\tGeneration time: 0.148 sec\n",
      "\tBackprop time: 0.169 sec\n",
      "\tLog probability: -6.6917 (avg -12.2848)\n",
      "\tKL: 85.1586 (avg 48.4652)\n",
      "\tLoss: 91.8503 (avg 60.7500)\n"
     ]
    },
    {
     "name": "stderr",
     "output_type": "stream",
     "text": [
      "100%|██████████| 27/27 [00:01<00:00, 22.64it/s]\n",
      "100%|██████████| 7/7 [00:00<00:00, 25.50it/s]\n",
      "  0%|          | 0/27 [00:00<?, ?it/s]"
     ]
    },
    {
     "name": "stdout",
     "output_type": "stream",
     "text": [
      "VALIDATION\n",
      "Epoch: 180 (7/7)\n",
      "\tData load time: 0.136 sec\n",
      "\tGeneration time: 0.143 sec\n",
      "\tLog probability: -5.2721 (avg -4.9431)\n",
      "\tKL: 41.5337 (avg 49.2294)\n",
      "\tLoss: 46.8059 (avg 54.1726)\n"
     ]
    },
    {
     "name": "stderr",
     "output_type": "stream",
     "text": [
      "100%|██████████| 27/27 [00:01<00:00, 22.49it/s]\n",
      "100%|██████████| 7/7 [00:00<00:00, 25.86it/s]\n",
      "100%|██████████| 27/27 [00:01<00:00, 22.55it/s]\n",
      "100%|██████████| 7/7 [00:00<00:00, 25.01it/s]\n",
      "100%|██████████| 27/27 [00:01<00:00, 22.44it/s]\n",
      "100%|██████████| 7/7 [00:00<00:00, 25.90it/s]\n",
      "100%|██████████| 27/27 [00:01<00:00, 23.10it/s]\n",
      "100%|██████████| 7/7 [00:00<00:00, 25.22it/s]\n",
      "  0%|          | 0/27 [00:00<?, ?it/s]"
     ]
    },
    {
     "name": "stdout",
     "output_type": "stream",
     "text": [
      "Saving checkpoint..\n",
      "Lowest validation loss: 23.1771\n"
     ]
    },
    {
     "name": "stderr",
     "output_type": "stream",
     "text": [
      "100%|██████████| 27/27 [00:01<00:00, 22.56it/s]\n",
      "100%|██████████| 7/7 [00:00<00:00, 25.25it/s]\n",
      "100%|██████████| 27/27 [00:01<00:00, 22.68it/s]\n",
      "100%|██████████| 7/7 [00:00<00:00, 25.27it/s]\n",
      "100%|██████████| 27/27 [00:01<00:00, 22.60it/s]\n",
      "100%|██████████| 7/7 [00:00<00:00, 25.59it/s]\n",
      "  0%|          | 0/27 [00:00<?, ?it/s]"
     ]
    },
    {
     "name": "stdout",
     "output_type": "stream",
     "text": [
      "Saving checkpoint..\n",
      "Lowest validation loss: 22.0759\n"
     ]
    },
    {
     "name": "stderr",
     "output_type": "stream",
     "text": [
      "100%|██████████| 27/27 [00:01<00:00, 22.33it/s]\n",
      "100%|██████████| 7/7 [00:00<00:00, 24.43it/s]\n",
      "100%|██████████| 27/27 [00:01<00:00, 22.52it/s]\n",
      "100%|██████████| 7/7 [00:00<00:00, 25.72it/s]\n"
     ]
    },
    {
     "name": "stdout",
     "output_type": "stream",
     "text": [
      "Saving checkpoint..\n"
     ]
    },
    {
     "name": "stderr",
     "output_type": "stream",
     "text": [
      "  0%|          | 0/27 [00:00<?, ?it/s]"
     ]
    },
    {
     "name": "stdout",
     "output_type": "stream",
     "text": [
      "Lowest validation loss: 21.4607\n"
     ]
    },
    {
     "name": "stderr",
     "output_type": "stream",
     "text": [
      " 70%|███████   | 19/27 [00:00<00:00, 17.85it/s]"
     ]
    },
    {
     "name": "stdout",
     "output_type": "stream",
     "text": [
      "Epoch: 190 (15/27)\n",
      "\tData load time: 0.155 sec\n",
      "\tGeneration time: 0.166 sec\n",
      "\tBackprop time: 0.185 sec\n",
      "\tLog probability: -3.1055 (avg -4.6416)\n",
      "\tKL: 16.4700 (avg 18.4218)\n",
      "\tLoss: 19.5755 (avg 23.0634)\n"
     ]
    },
    {
     "name": "stderr",
     "output_type": "stream",
     "text": [
      "100%|██████████| 27/27 [00:01<00:00, 22.24it/s]\n",
      "100%|██████████| 7/7 [00:00<00:00, 25.30it/s]\n"
     ]
    },
    {
     "name": "stdout",
     "output_type": "stream",
     "text": [
      "VALIDATION\n",
      "Epoch: 190 (7/7)\n",
      "\tData load time: 0.140 sec\n",
      "\tGeneration time: 0.147 sec\n",
      "\tLog probability: -3.1956 (avg -3.4193)\n",
      "\tKL: 17.7226 (avg 15.8116)\n",
      "\tLoss: 20.9182 (avg 19.2310)\n",
      "Saving checkpoint..\n"
     ]
    },
    {
     "name": "stderr",
     "output_type": "stream",
     "text": [
      "  0%|          | 0/27 [00:00<?, ?it/s]"
     ]
    },
    {
     "name": "stdout",
     "output_type": "stream",
     "text": [
      "Lowest validation loss: 19.2310\n"
     ]
    },
    {
     "name": "stderr",
     "output_type": "stream",
     "text": [
      "100%|██████████| 27/27 [00:01<00:00, 22.67it/s]\n",
      "100%|██████████| 7/7 [00:00<00:00, 25.76it/s]\n",
      "  0%|          | 0/27 [00:00<?, ?it/s]"
     ]
    },
    {
     "name": "stdout",
     "output_type": "stream",
     "text": [
      "Saving checkpoint..\n",
      "Lowest validation loss: 19.0400\n"
     ]
    },
    {
     "name": "stderr",
     "output_type": "stream",
     "text": [
      "100%|██████████| 27/27 [00:01<00:00, 22.52it/s]\n",
      "100%|██████████| 7/7 [00:00<00:00, 25.60it/s]\n",
      "100%|██████████| 27/27 [00:01<00:00, 22.46it/s]\n",
      "100%|██████████| 7/7 [00:00<00:00, 26.26it/s]\n",
      "  0%|          | 0/27 [00:00<?, ?it/s]"
     ]
    },
    {
     "name": "stdout",
     "output_type": "stream",
     "text": [
      "Saving checkpoint..\n",
      "Lowest validation loss: 18.3823\n"
     ]
    },
    {
     "name": "stderr",
     "output_type": "stream",
     "text": [
      "100%|██████████| 27/27 [00:01<00:00, 22.46it/s]\n",
      "100%|██████████| 7/7 [00:00<00:00, 25.69it/s]\n",
      "  0%|          | 0/27 [00:00<?, ?it/s]"
     ]
    },
    {
     "name": "stdout",
     "output_type": "stream",
     "text": [
      "Saving checkpoint..\n",
      "Lowest validation loss: 18.0771\n"
     ]
    },
    {
     "name": "stderr",
     "output_type": "stream",
     "text": [
      "100%|██████████| 27/27 [00:01<00:00, 22.41it/s]\n",
      "100%|██████████| 7/7 [00:00<00:00, 25.91it/s]\n",
      "  0%|          | 0/27 [00:00<?, ?it/s]"
     ]
    },
    {
     "name": "stdout",
     "output_type": "stream",
     "text": [
      "Saving checkpoint..\n",
      "Lowest validation loss: 17.4108\n"
     ]
    },
    {
     "name": "stderr",
     "output_type": "stream",
     "text": [
      "100%|██████████| 27/27 [00:01<00:00, 22.46it/s]\n",
      "100%|██████████| 7/7 [00:00<00:00, 25.39it/s]\n",
      "100%|██████████| 27/27 [00:01<00:00, 22.66it/s]\n",
      "100%|██████████| 7/7 [00:00<00:00, 25.38it/s]\n",
      "100%|██████████| 27/27 [00:01<00:00, 22.94it/s]\n",
      "100%|██████████| 7/7 [00:00<00:00, 24.89it/s]\n",
      "100%|██████████| 27/27 [00:01<00:00, 22.83it/s]\n",
      "100%|██████████| 7/7 [00:00<00:00, 24.73it/s]\n",
      " 70%|███████   | 19/27 [00:00<00:00, 18.28it/s]"
     ]
    },
    {
     "name": "stdout",
     "output_type": "stream",
     "text": [
      "Epoch: 200 (15/27)\n",
      "\tData load time: 0.146 sec\n",
      "\tGeneration time: 0.155 sec\n",
      "\tBackprop time: 0.176 sec\n",
      "\tLog probability: -4.6002 (avg -6.4228)\n",
      "\tKL: 25.9536 (avg 33.0962)\n",
      "\tLoss: 30.5538 (avg 39.5189)\n"
     ]
    },
    {
     "name": "stderr",
     "output_type": "stream",
     "text": [
      "100%|██████████| 27/27 [00:01<00:00, 22.23it/s]\n",
      "100%|██████████| 7/7 [00:00<00:00, 23.46it/s]\n",
      "  0%|          | 0/27 [00:00<?, ?it/s]"
     ]
    },
    {
     "name": "stdout",
     "output_type": "stream",
     "text": [
      "VALIDATION\n",
      "Epoch: 200 (7/7)\n",
      "\tData load time: 0.161 sec\n",
      "\tGeneration time: 0.168 sec\n",
      "\tLog probability: -29.8284 (avg -16.4525)\n",
      "\tKL: 36.1908 (avg 23.0329)\n",
      "\tLoss: 66.0192 (avg 39.4854)\n"
     ]
    },
    {
     "name": "stderr",
     "output_type": "stream",
     "text": [
      "100%|██████████| 27/27 [00:01<00:00, 22.52it/s]\n",
      "100%|██████████| 7/7 [00:00<00:00, 25.42it/s]\n",
      "100%|██████████| 27/27 [00:01<00:00, 22.41it/s]\n",
      "100%|██████████| 7/7 [00:00<00:00, 25.31it/s]\n",
      "100%|██████████| 27/27 [00:01<00:00, 22.82it/s]\n",
      "100%|██████████| 7/7 [00:00<00:00, 25.67it/s]\n",
      "100%|██████████| 27/27 [00:01<00:00, 22.64it/s]\n",
      "100%|██████████| 7/7 [00:00<00:00, 24.90it/s]\n",
      "100%|██████████| 27/27 [00:01<00:00, 22.62it/s]\n",
      "100%|██████████| 7/7 [00:00<00:00, 25.44it/s]\n",
      "100%|██████████| 27/27 [00:01<00:00, 22.46it/s]\n",
      "100%|██████████| 7/7 [00:00<00:00, 25.84it/s]\n",
      "100%|██████████| 27/27 [00:01<00:00, 22.59it/s]\n",
      "100%|██████████| 7/7 [00:00<00:00, 25.50it/s]\n",
      "  0%|          | 0/27 [00:00<?, ?it/s]"
     ]
    },
    {
     "name": "stdout",
     "output_type": "stream",
     "text": [
      "Saving checkpoint..\n",
      "Lowest validation loss: 15.2995\n"
     ]
    },
    {
     "name": "stderr",
     "output_type": "stream",
     "text": [
      "100%|██████████| 27/27 [00:01<00:00, 22.40it/s]\n",
      "100%|██████████| 7/7 [00:00<00:00, 25.37it/s]\n",
      "100%|██████████| 27/27 [00:01<00:00, 22.47it/s]\n",
      "100%|██████████| 7/7 [00:00<00:00, 25.12it/s]\n",
      "  0%|          | 0/27 [00:00<?, ?it/s]"
     ]
    },
    {
     "name": "stdout",
     "output_type": "stream",
     "text": [
      "Saving checkpoint..\n",
      "Lowest validation loss: 15.1748\n"
     ]
    },
    {
     "name": "stderr",
     "output_type": "stream",
     "text": [
      " 70%|███████   | 19/27 [00:00<00:00, 18.22it/s]"
     ]
    },
    {
     "name": "stdout",
     "output_type": "stream",
     "text": [
      "Epoch: 210 (15/27)\n",
      "\tData load time: 0.147 sec\n",
      "\tGeneration time: 0.159 sec\n",
      "\tBackprop time: 0.179 sec\n",
      "\tLog probability: -3.7582 (avg -5.1560)\n",
      "\tKL: 12.3888 (avg 14.1206)\n",
      "\tLoss: 16.1470 (avg 19.2766)\n"
     ]
    },
    {
     "name": "stderr",
     "output_type": "stream",
     "text": [
      "100%|██████████| 27/27 [00:01<00:00, 22.41it/s]\n",
      "100%|██████████| 7/7 [00:00<00:00, 25.86it/s]\n"
     ]
    },
    {
     "name": "stdout",
     "output_type": "stream",
     "text": [
      "VALIDATION\n",
      "Epoch: 210 (7/7)\n",
      "\tData load time: 0.135 sec\n",
      "\tGeneration time: 0.141 sec\n",
      "\tLog probability: -1.4940 (avg -2.8054)\n",
      "\tKL: 8.4608 (avg 11.4621)\n",
      "\tLoss: 9.9548 (avg 14.2675)\n",
      "Saving checkpoint..\n"
     ]
    },
    {
     "name": "stderr",
     "output_type": "stream",
     "text": [
      "  0%|          | 0/27 [00:00<?, ?it/s]"
     ]
    },
    {
     "name": "stdout",
     "output_type": "stream",
     "text": [
      "Lowest validation loss: 14.2675\n"
     ]
    },
    {
     "name": "stderr",
     "output_type": "stream",
     "text": [
      "100%|██████████| 27/27 [00:01<00:00, 22.57it/s]\n",
      "100%|██████████| 7/7 [00:00<00:00, 25.83it/s]\n",
      "100%|██████████| 27/27 [00:01<00:00, 22.55it/s]\n",
      "100%|██████████| 7/7 [00:00<00:00, 25.75it/s]\n",
      "100%|██████████| 27/27 [00:01<00:00, 22.50it/s]\n",
      "100%|██████████| 7/7 [00:00<00:00, 26.49it/s]\n",
      "100%|██████████| 27/27 [00:01<00:00, 22.31it/s]\n",
      "100%|██████████| 7/7 [00:00<00:00, 25.55it/s]\n",
      "100%|██████████| 27/27 [00:01<00:00, 22.46it/s]\n",
      "100%|██████████| 7/7 [00:00<00:00, 25.97it/s]\n",
      "100%|██████████| 27/27 [00:01<00:00, 22.91it/s]\n",
      "100%|██████████| 7/7 [00:00<00:00, 25.90it/s]\n",
      "100%|██████████| 27/27 [00:01<00:00, 22.59it/s]\n",
      "100%|██████████| 7/7 [00:00<00:00, 24.90it/s]\n",
      "100%|██████████| 27/27 [00:01<00:00, 22.12it/s]\n",
      "100%|██████████| 7/7 [00:00<00:00, 23.17it/s]\n",
      "100%|██████████| 27/27 [00:01<00:00, 22.04it/s]\n",
      "100%|██████████| 7/7 [00:00<00:00, 24.81it/s]\n",
      " 70%|███████   | 19/27 [00:00<00:00, 18.55it/s]"
     ]
    },
    {
     "name": "stdout",
     "output_type": "stream",
     "text": [
      "Epoch: 220 (15/27)\n",
      "\tData load time: 0.141 sec\n",
      "\tGeneration time: 0.151 sec\n",
      "\tBackprop time: 0.171 sec\n",
      "\tLog probability: -10.9980 (avg -23.7810)\n",
      "\tKL: 50.5066 (avg 58.9832)\n",
      "\tLoss: 61.5046 (avg 82.7642)\n"
     ]
    },
    {
     "name": "stderr",
     "output_type": "stream",
     "text": [
      "100%|██████████| 27/27 [00:01<00:00, 22.63it/s]\n",
      "100%|██████████| 7/7 [00:00<00:00, 25.53it/s]\n",
      "  0%|          | 0/27 [00:00<?, ?it/s]"
     ]
    },
    {
     "name": "stdout",
     "output_type": "stream",
     "text": [
      "VALIDATION\n",
      "Epoch: 220 (7/7)\n",
      "\tData load time: 0.139 sec\n",
      "\tGeneration time: 0.145 sec\n",
      "\tLog probability: -11.3562 (avg -11.9907)\n",
      "\tKL: 27.0454 (avg 38.7326)\n",
      "\tLoss: 38.4016 (avg 50.7233)\n"
     ]
    },
    {
     "name": "stderr",
     "output_type": "stream",
     "text": [
      "100%|██████████| 27/27 [00:01<00:00, 22.65it/s]\n",
      "100%|██████████| 7/7 [00:00<00:00, 25.26it/s]\n",
      "100%|██████████| 27/27 [00:01<00:00, 22.46it/s]\n",
      "100%|██████████| 7/7 [00:00<00:00, 25.89it/s]\n",
      "100%|██████████| 27/27 [00:01<00:00, 22.71it/s]\n",
      "100%|██████████| 7/7 [00:00<00:00, 26.12it/s]\n",
      "100%|██████████| 27/27 [00:01<00:00, 22.41it/s]\n",
      "100%|██████████| 7/7 [00:00<00:00, 26.10it/s]\n",
      "100%|██████████| 27/27 [00:01<00:00, 22.69it/s]\n",
      "100%|██████████| 7/7 [00:00<00:00, 25.08it/s]\n",
      "100%|██████████| 27/27 [00:01<00:00, 22.49it/s]\n",
      "100%|██████████| 7/7 [00:00<00:00, 26.19it/s]\n",
      "100%|██████████| 27/27 [00:01<00:00, 22.43it/s]\n",
      "100%|██████████| 7/7 [00:00<00:00, 25.55it/s]\n",
      "100%|██████████| 27/27 [00:01<00:00, 22.78it/s]\n",
      "100%|██████████| 7/7 [00:00<00:00, 24.96it/s]\n",
      "100%|██████████| 27/27 [00:01<00:00, 22.57it/s]\n",
      "100%|██████████| 7/7 [00:00<00:00, 25.86it/s]\n",
      " 70%|███████   | 19/27 [00:00<00:00, 18.69it/s]"
     ]
    },
    {
     "name": "stdout",
     "output_type": "stream",
     "text": [
      "Epoch: 230 (15/27)\n",
      "\tData load time: 0.137 sec\n",
      "\tGeneration time: 0.149 sec\n",
      "\tBackprop time: 0.167 sec\n",
      "\tLog probability: -4.4334 (avg -4.1493)\n",
      "\tKL: 24.2000 (avg 23.6325)\n",
      "\tLoss: 28.6334 (avg 27.7819)\n"
     ]
    },
    {
     "name": "stderr",
     "output_type": "stream",
     "text": [
      "100%|██████████| 27/27 [00:01<00:00, 22.66it/s]\n",
      "100%|██████████| 7/7 [00:00<00:00, 24.79it/s]\n",
      "  0%|          | 0/27 [00:00<?, ?it/s]"
     ]
    },
    {
     "name": "stdout",
     "output_type": "stream",
     "text": [
      "VALIDATION\n",
      "Epoch: 230 (7/7)\n",
      "\tData load time: 0.146 sec\n",
      "\tGeneration time: 0.153 sec\n",
      "\tLog probability: -3.7612 (avg -3.3335)\n",
      "\tKL: 9.4335 (avg 18.2652)\n",
      "\tLoss: 13.1946 (avg 21.5987)\n"
     ]
    },
    {
     "name": "stderr",
     "output_type": "stream",
     "text": [
      "100%|██████████| 27/27 [00:01<00:00, 22.45it/s]\n",
      "100%|██████████| 7/7 [00:00<00:00, 25.44it/s]\n",
      "100%|██████████| 27/27 [00:01<00:00, 22.51it/s]\n",
      "100%|██████████| 7/7 [00:00<00:00, 25.76it/s]\n",
      "100%|██████████| 27/27 [00:01<00:00, 22.56it/s]\n",
      "100%|██████████| 7/7 [00:00<00:00, 25.35it/s]\n",
      "100%|██████████| 27/27 [00:01<00:00, 22.57it/s]\n",
      "100%|██████████| 7/7 [00:00<00:00, 26.00it/s]\n",
      "100%|██████████| 27/27 [00:01<00:00, 22.82it/s]\n",
      "100%|██████████| 7/7 [00:00<00:00, 25.55it/s]\n",
      "100%|██████████| 27/27 [00:01<00:00, 22.82it/s]\n",
      "100%|██████████| 7/7 [00:00<00:00, 25.24it/s]\n",
      "100%|██████████| 27/27 [00:01<00:00, 22.82it/s]\n",
      "100%|██████████| 7/7 [00:00<00:00, 24.93it/s]\n",
      "100%|██████████| 27/27 [00:01<00:00, 22.65it/s]\n",
      "100%|██████████| 7/7 [00:00<00:00, 26.88it/s]\n",
      "100%|██████████| 27/27 [00:01<00:00, 22.70it/s]\n",
      "100%|██████████| 7/7 [00:00<00:00, 24.68it/s]\n",
      " 70%|███████   | 19/27 [00:00<00:00, 18.70it/s]"
     ]
    },
    {
     "name": "stdout",
     "output_type": "stream",
     "text": [
      "Epoch: 240 (15/27)\n",
      "\tData load time: 0.136 sec\n",
      "\tGeneration time: 0.146 sec\n",
      "\tBackprop time: 0.165 sec\n",
      "\tLog probability: -8.5105 (avg -6.7314)\n",
      "\tKL: 33.5857 (avg 49.0467)\n",
      "\tLoss: 42.0962 (avg 55.7781)\n"
     ]
    },
    {
     "name": "stderr",
     "output_type": "stream",
     "text": [
      "100%|██████████| 27/27 [00:01<00:00, 22.66it/s]\n",
      "100%|██████████| 7/7 [00:00<00:00, 25.00it/s]\n",
      "  0%|          | 0/27 [00:00<?, ?it/s]"
     ]
    },
    {
     "name": "stdout",
     "output_type": "stream",
     "text": [
      "VALIDATION\n",
      "Epoch: 240 (7/7)\n",
      "\tData load time: 0.143 sec\n",
      "\tGeneration time: 0.149 sec\n",
      "\tLog probability: -10.2524 (avg -9.9876)\n",
      "\tKL: 80.5110 (avg 62.4917)\n",
      "\tLoss: 90.7634 (avg 72.4793)\n"
     ]
    },
    {
     "name": "stderr",
     "output_type": "stream",
     "text": [
      "100%|██████████| 27/27 [00:01<00:00, 22.62it/s]\n",
      "100%|██████████| 7/7 [00:00<00:00, 25.61it/s]\n",
      "100%|██████████| 27/27 [00:01<00:00, 22.46it/s]\n",
      "100%|██████████| 7/7 [00:00<00:00, 25.06it/s]\n",
      "100%|██████████| 27/27 [00:01<00:00, 22.30it/s]\n",
      "100%|██████████| 7/7 [00:00<00:00, 24.90it/s]\n",
      "100%|██████████| 27/27 [00:01<00:00, 22.68it/s]\n",
      "100%|██████████| 7/7 [00:00<00:00, 25.79it/s]\n",
      "100%|██████████| 27/27 [00:01<00:00, 22.63it/s]\n",
      "100%|██████████| 7/7 [00:00<00:00, 25.20it/s]\n",
      "100%|██████████| 27/27 [00:01<00:00, 22.51it/s]\n",
      "100%|██████████| 7/7 [00:00<00:00, 24.74it/s]\n",
      "100%|██████████| 27/27 [00:01<00:00, 22.55it/s]\n",
      "100%|██████████| 7/7 [00:00<00:00, 25.34it/s]\n",
      "100%|██████████| 27/27 [00:01<00:00, 22.56it/s]\n",
      "100%|██████████| 7/7 [00:00<00:00, 25.42it/s]\n",
      "100%|██████████| 27/27 [00:01<00:00, 22.50it/s]\n",
      "100%|██████████| 7/7 [00:00<00:00, 25.17it/s]\n",
      " 70%|███████   | 19/27 [00:00<00:00, 18.39it/s]"
     ]
    },
    {
     "name": "stdout",
     "output_type": "stream",
     "text": [
      "Epoch: 250 (15/27)\n",
      "\tData load time: 0.145 sec\n",
      "\tGeneration time: 0.156 sec\n",
      "\tBackprop time: 0.175 sec\n",
      "\tLog probability: -6.3390 (avg -3.4270)\n",
      "\tKL: 19.3613 (avg 17.8353)\n",
      "\tLoss: 25.7002 (avg 21.2623)\n"
     ]
    },
    {
     "name": "stderr",
     "output_type": "stream",
     "text": [
      "100%|██████████| 27/27 [00:01<00:00, 22.53it/s]\n",
      "100%|██████████| 7/7 [00:00<00:00, 25.13it/s]\n",
      "  0%|          | 0/27 [00:00<?, ?it/s]"
     ]
    },
    {
     "name": "stdout",
     "output_type": "stream",
     "text": [
      "VALIDATION\n",
      "Epoch: 250 (7/7)\n",
      "\tData load time: 0.140 sec\n",
      "\tGeneration time: 0.146 sec\n",
      "\tLog probability: -2.6680 (avg -2.9890)\n",
      "\tKL: 19.3467 (avg 18.6482)\n",
      "\tLoss: 22.0146 (avg 21.6372)\n"
     ]
    },
    {
     "name": "stderr",
     "output_type": "stream",
     "text": [
      "100%|██████████| 27/27 [00:01<00:00, 22.56it/s]\n",
      "100%|██████████| 7/7 [00:00<00:00, 25.06it/s]\n",
      "100%|██████████| 27/27 [00:01<00:00, 22.87it/s]\n",
      "100%|██████████| 7/7 [00:00<00:00, 25.87it/s]\n",
      "100%|██████████| 27/27 [00:01<00:00, 22.63it/s]\n",
      "100%|██████████| 7/7 [00:00<00:00, 24.79it/s]\n",
      "100%|██████████| 27/27 [00:01<00:00, 22.60it/s]\n",
      "100%|██████████| 7/7 [00:00<00:00, 25.37it/s]\n",
      "100%|██████████| 27/27 [00:01<00:00, 22.62it/s]\n",
      "100%|██████████| 7/7 [00:00<00:00, 25.94it/s]\n",
      "100%|██████████| 27/27 [00:01<00:00, 22.53it/s]\n",
      "100%|██████████| 7/7 [00:00<00:00, 25.44it/s]\n",
      "100%|██████████| 27/27 [00:01<00:00, 22.54it/s]\n",
      "100%|██████████| 7/7 [00:00<00:00, 26.13it/s]\n",
      "100%|██████████| 27/27 [00:01<00:00, 22.47it/s]\n",
      "100%|██████████| 7/7 [00:00<00:00, 25.30it/s]\n",
      "100%|██████████| 27/27 [00:01<00:00, 22.25it/s]\n",
      "100%|██████████| 7/7 [00:00<00:00, 25.44it/s]\n",
      " 70%|███████   | 19/27 [00:00<00:00, 18.57it/s]"
     ]
    },
    {
     "name": "stdout",
     "output_type": "stream",
     "text": [
      "Epoch: 260 (15/27)\n",
      "\tData load time: 0.140 sec\n",
      "\tGeneration time: 0.150 sec\n",
      "\tBackprop time: 0.169 sec\n",
      "\tLog probability: -5.5275 (avg -7.6020)\n",
      "\tKL: 48.5348 (avg 43.3532)\n",
      "\tLoss: 54.0623 (avg 50.9552)\n"
     ]
    },
    {
     "name": "stderr",
     "output_type": "stream",
     "text": [
      "100%|██████████| 27/27 [00:01<00:00, 22.55it/s]\n",
      "100%|██████████| 7/7 [00:00<00:00, 25.71it/s]\n",
      "  0%|          | 0/27 [00:00<?, ?it/s]"
     ]
    },
    {
     "name": "stdout",
     "output_type": "stream",
     "text": [
      "VALIDATION\n",
      "Epoch: 260 (7/7)\n",
      "\tData load time: 0.135 sec\n",
      "\tGeneration time: 0.141 sec\n",
      "\tLog probability: -15.6922 (avg -10.3669)\n",
      "\tKL: 32.0091 (avg 28.3455)\n",
      "\tLoss: 47.7013 (avg 38.7124)\n"
     ]
    },
    {
     "name": "stderr",
     "output_type": "stream",
     "text": [
      "100%|██████████| 27/27 [00:01<00:00, 22.62it/s]\n",
      "100%|██████████| 7/7 [00:00<00:00, 25.95it/s]\n",
      "100%|██████████| 27/27 [00:01<00:00, 22.63it/s]\n",
      "100%|██████████| 7/7 [00:00<00:00, 24.90it/s]\n",
      "100%|██████████| 27/27 [00:01<00:00, 22.60it/s]\n",
      "100%|██████████| 7/7 [00:00<00:00, 25.39it/s]\n",
      "100%|██████████| 27/27 [00:01<00:00, 22.58it/s]\n",
      "100%|██████████| 7/7 [00:00<00:00, 25.63it/s]\n",
      "100%|██████████| 27/27 [00:01<00:00, 22.73it/s]\n",
      "100%|██████████| 7/7 [00:00<00:00, 25.21it/s]\n",
      "100%|██████████| 27/27 [00:01<00:00, 22.58it/s]\n",
      "100%|██████████| 7/7 [00:00<00:00, 24.50it/s]\n",
      "100%|██████████| 27/27 [00:01<00:00, 22.49it/s]\n",
      "100%|██████████| 7/7 [00:00<00:00, 25.82it/s]\n",
      "100%|██████████| 27/27 [00:01<00:00, 22.49it/s]\n",
      "100%|██████████| 7/7 [00:00<00:00, 25.39it/s]\n",
      "100%|██████████| 27/27 [00:01<00:00, 22.82it/s]\n",
      "100%|██████████| 7/7 [00:00<00:00, 25.36it/s]\n",
      " 70%|███████   | 19/27 [00:00<00:00, 18.61it/s]"
     ]
    },
    {
     "name": "stdout",
     "output_type": "stream",
     "text": [
      "Epoch: 270 (15/27)\n",
      "\tData load time: 0.137 sec\n",
      "\tGeneration time: 0.147 sec\n",
      "\tBackprop time: 0.166 sec\n",
      "\tLog probability: -3.9756 (avg -4.2810)\n",
      "\tKL: 20.6125 (avg 20.2761)\n",
      "\tLoss: 24.5881 (avg 24.5571)\n"
     ]
    },
    {
     "name": "stderr",
     "output_type": "stream",
     "text": [
      "100%|██████████| 27/27 [00:01<00:00, 22.63it/s]\n",
      "100%|██████████| 7/7 [00:00<00:00, 24.92it/s]\n",
      "  0%|          | 0/27 [00:00<?, ?it/s]"
     ]
    },
    {
     "name": "stdout",
     "output_type": "stream",
     "text": [
      "VALIDATION\n",
      "Epoch: 270 (7/7)\n",
      "\tData load time: 0.144 sec\n",
      "\tGeneration time: 0.150 sec\n",
      "\tLog probability: -2.8299 (avg -2.5342)\n",
      "\tKL: 15.4762 (avg 17.6686)\n",
      "\tLoss: 18.3061 (avg 20.2029)\n"
     ]
    },
    {
     "name": "stderr",
     "output_type": "stream",
     "text": [
      "100%|██████████| 27/27 [00:01<00:00, 22.46it/s]\n",
      "100%|██████████| 7/7 [00:00<00:00, 25.06it/s]\n",
      "100%|██████████| 27/27 [00:01<00:00, 22.51it/s]\n",
      "100%|██████████| 7/7 [00:00<00:00, 24.98it/s]\n",
      "100%|██████████| 27/27 [00:01<00:00, 22.54it/s]\n",
      "100%|██████████| 7/7 [00:00<00:00, 24.68it/s]\n",
      "100%|██████████| 27/27 [00:01<00:00, 22.65it/s]\n",
      "100%|██████████| 7/7 [00:00<00:00, 25.11it/s]\n",
      "100%|██████████| 27/27 [00:01<00:00, 22.48it/s]\n",
      "100%|██████████| 7/7 [00:00<00:00, 26.81it/s]\n",
      "100%|██████████| 27/27 [00:01<00:00, 22.72it/s]\n",
      "100%|██████████| 7/7 [00:00<00:00, 24.99it/s]\n",
      "100%|██████████| 27/27 [00:01<00:00, 22.45it/s]\n",
      "100%|██████████| 7/7 [00:00<00:00, 25.33it/s]\n",
      "100%|██████████| 27/27 [00:01<00:00, 22.39it/s]\n",
      "100%|██████████| 7/7 [00:00<00:00, 25.69it/s]\n",
      "100%|██████████| 27/27 [00:01<00:00, 22.55it/s]\n",
      "100%|██████████| 7/7 [00:00<00:00, 24.88it/s]\n",
      " 70%|███████   | 19/27 [00:00<00:00, 18.46it/s]"
     ]
    },
    {
     "name": "stdout",
     "output_type": "stream",
     "text": [
      "Epoch: 280 (15/27)\n",
      "\tData load time: 0.143 sec\n",
      "\tGeneration time: 0.152 sec\n",
      "\tBackprop time: 0.173 sec\n",
      "\tLog probability: -3.6013 (avg -6.3271)\n",
      "\tKL: 33.2559 (avg 39.3124)\n",
      "\tLoss: 36.8572 (avg 45.6395)\n"
     ]
    },
    {
     "name": "stderr",
     "output_type": "stream",
     "text": [
      "100%|██████████| 27/27 [00:01<00:00, 22.50it/s]\n",
      "100%|██████████| 7/7 [00:00<00:00, 23.81it/s]\n",
      "  0%|          | 0/27 [00:00<?, ?it/s]"
     ]
    },
    {
     "name": "stdout",
     "output_type": "stream",
     "text": [
      "VALIDATION\n",
      "Epoch: 280 (7/7)\n",
      "\tData load time: 0.143 sec\n",
      "\tGeneration time: 0.150 sec\n",
      "\tLog probability: -9.3232 (avg -7.2894)\n",
      "\tKL: 24.8755 (avg 32.9132)\n",
      "\tLoss: 34.1986 (avg 40.2025)\n"
     ]
    },
    {
     "name": "stderr",
     "output_type": "stream",
     "text": [
      "100%|██████████| 27/27 [00:01<00:00, 22.42it/s]\n",
      "100%|██████████| 7/7 [00:00<00:00, 25.21it/s]\n",
      "100%|██████████| 27/27 [00:01<00:00, 21.48it/s]\n",
      "100%|██████████| 7/7 [00:00<00:00, 25.21it/s]\n",
      "100%|██████████| 27/27 [00:01<00:00, 22.68it/s]\n",
      "100%|██████████| 7/7 [00:00<00:00, 25.08it/s]\n",
      "100%|██████████| 27/27 [00:01<00:00, 22.54it/s]\n",
      "100%|██████████| 7/7 [00:00<00:00, 25.79it/s]\n",
      "100%|██████████| 27/27 [00:01<00:00, 22.45it/s]\n",
      "100%|██████████| 7/7 [00:00<00:00, 26.27it/s]\n",
      "100%|██████████| 27/27 [00:01<00:00, 22.36it/s]\n",
      "100%|██████████| 7/7 [00:00<00:00, 24.74it/s]\n",
      "100%|██████████| 27/27 [00:01<00:00, 22.91it/s]\n",
      "100%|██████████| 7/7 [00:00<00:00, 25.55it/s]\n",
      "100%|██████████| 27/27 [00:01<00:00, 22.59it/s]\n",
      "100%|██████████| 7/7 [00:00<00:00, 25.46it/s]\n",
      "100%|██████████| 27/27 [00:01<00:00, 22.49it/s]\n",
      "100%|██████████| 7/7 [00:00<00:00, 25.54it/s]\n",
      " 70%|███████   | 19/27 [00:00<00:00, 18.19it/s]"
     ]
    },
    {
     "name": "stdout",
     "output_type": "stream",
     "text": [
      "Epoch: 290 (15/27)\n",
      "\tData load time: 0.149 sec\n",
      "\tGeneration time: 0.157 sec\n",
      "\tBackprop time: 0.178 sec\n",
      "\tLog probability: -6.9736 (avg -3.6885)\n",
      "\tKL: 26.5745 (avg 21.7466)\n",
      "\tLoss: 33.5481 (avg 25.4350)\n"
     ]
    },
    {
     "name": "stderr",
     "output_type": "stream",
     "text": [
      "100%|██████████| 27/27 [00:01<00:00, 22.44it/s]\n",
      "100%|██████████| 7/7 [00:00<00:00, 25.28it/s]\n",
      "  0%|          | 0/27 [00:00<?, ?it/s]"
     ]
    },
    {
     "name": "stdout",
     "output_type": "stream",
     "text": [
      "VALIDATION\n",
      "Epoch: 290 (7/7)\n",
      "\tData load time: 0.139 sec\n",
      "\tGeneration time: 0.146 sec\n",
      "\tLog probability: -3.0173 (avg -2.8356)\n",
      "\tKL: 23.1499 (avg 19.3533)\n",
      "\tLoss: 26.1671 (avg 22.1890)\n"
     ]
    },
    {
     "name": "stderr",
     "output_type": "stream",
     "text": [
      "100%|██████████| 27/27 [00:01<00:00, 22.51it/s]\n",
      "100%|██████████| 7/7 [00:00<00:00, 25.85it/s]\n",
      "100%|██████████| 27/27 [00:01<00:00, 22.41it/s]\n",
      "100%|██████████| 7/7 [00:00<00:00, 25.43it/s]\n",
      "100%|██████████| 27/27 [00:01<00:00, 22.47it/s]\n",
      "100%|██████████| 7/7 [00:00<00:00, 10.07it/s]\n",
      "100%|██████████| 27/27 [00:01<00:00, 22.49it/s]\n",
      "100%|██████████| 7/7 [00:00<00:00, 25.08it/s]\n",
      "100%|██████████| 27/27 [00:01<00:00, 22.75it/s]\n",
      "100%|██████████| 7/7 [00:00<00:00, 25.34it/s]\n",
      "100%|██████████| 27/27 [00:01<00:00, 22.44it/s]\n",
      "100%|██████████| 7/7 [00:00<00:00, 24.93it/s]\n",
      "100%|██████████| 27/27 [00:01<00:00, 22.35it/s]\n",
      "100%|██████████| 7/7 [00:00<00:00, 24.96it/s]\n",
      "100%|██████████| 27/27 [00:01<00:00, 22.54it/s]\n",
      "100%|██████████| 7/7 [00:00<00:00, 25.60it/s]\n",
      "100%|██████████| 27/27 [00:01<00:00, 22.54it/s]\n",
      "100%|██████████| 7/7 [00:00<00:00, 25.20it/s]\n",
      " 70%|███████   | 19/27 [00:00<00:00, 18.23it/s]"
     ]
    },
    {
     "name": "stdout",
     "output_type": "stream",
     "text": [
      "Epoch: 300 (15/27)\n",
      "\tData load time: 0.145 sec\n",
      "\tGeneration time: 0.157 sec\n",
      "\tBackprop time: 0.176 sec\n",
      "\tLog probability: -7.3365 (avg -4.8723)\n",
      "\tKL: 38.9763 (avg 59.1629)\n",
      "\tLoss: 46.3128 (avg 64.0351)\n"
     ]
    },
    {
     "name": "stderr",
     "output_type": "stream",
     "text": [
      "100%|██████████| 27/27 [00:01<00:00, 22.29it/s]\n",
      "100%|██████████| 7/7 [00:00<00:00, 24.97it/s]"
     ]
    },
    {
     "name": "stdout",
     "output_type": "stream",
     "text": [
      "VALIDATION\n",
      "Epoch: 300 (7/7)\n",
      "\tData load time: 0.142 sec\n",
      "\tGeneration time: 0.148 sec\n",
      "\tLog probability: -5.1778 (avg -4.5715)\n",
      "\tKL: 26.1836 (avg 27.0229)\n",
      "\tLoss: 31.3614 (avg 31.5944)\n"
     ]
    },
    {
     "name": "stderr",
     "output_type": "stream",
     "text": [
      "\n"
     ]
    }
   ],
   "source": [
    "# Main loop\n",
    "best_loss = np.inf\n",
    "for epoch in range(epochs):\n",
    "\n",
    "    model.train()\n",
    "    scheduler.step()\n",
    "    train_loss, train_kl, train_logp = train_VAE1D(train_dl)\n",
    "    \n",
    "    model.eval()\n",
    "    with torch.no_grad():\n",
    "        val_loss, val_kl, val_logp = train_VAE1D(val_dl)\n",
    "\n",
    "    # Report training progress to user\n",
    "    if val_loss < best_loss:\n",
    "        print('Saving checkpoint..')\n",
    "        best_loss = val_loss\n",
    "        save_dict = {'epoch': epoch + 1,\n",
    "                     'state_dict': model.state_dict(),\n",
    "                     'val_loss': val_loss,\n",
    "                     'optimizer': optimizer.state_dict()}\n",
    "        path = save_path / f'best_model-{n_latent}-{beta}.pt'\n",
    "        torch.save(save_dict, path)\n",
    "        print(f'Lowest validation loss: {best_loss:.4f}')"
   ]
  },
  {
   "cell_type": "markdown",
   "metadata": {},
   "source": [
    "# Cooler"
   ]
  },
  {
   "cell_type": "markdown",
   "metadata": {},
   "source": [
    "### Build model and loss function \n",
    "Initially designed for 2D input images, modified for 1D time-series data.\n",
    "Based on this paper: https://arxiv.org/abs/1807.01349"
   ]
  },
  {
   "cell_type": "code",
   "execution_count": 15,
   "metadata": {},
   "outputs": [],
   "source": [
    "# The hydraulic system has 14 sensors from which to pull data\n",
    "n_channels = 14\n",
    "# The data has been resized to 512, although it represents 1 min for each cycle\n",
    "size = 512\n",
    "# Latent space is restricted to be about 1/170th of the input dims, similar to 2D case\n",
    "n_latent = 50"
   ]
  },
  {
   "cell_type": "code",
   "execution_count": 16,
   "metadata": {},
   "outputs": [],
   "source": [
    "model = VAE1D(size, n_channels, n_latent)"
   ]
  },
  {
   "cell_type": "code",
   "execution_count": 17,
   "metadata": {},
   "outputs": [],
   "source": [
    "beta = 1  # KL term relative weight\n",
    "criterion = VAE1DLoss(beta)"
   ]
  },
  {
   "cell_type": "markdown",
   "metadata": {},
   "source": [
    "### Load hydraulic test data\n",
    "From this dataset: https://archive.ics.uci.edu/ml/datasets/Condition+monitoring+of+hydraulic+systems#"
   ]
  },
  {
   "cell_type": "code",
   "execution_count": 18,
   "metadata": {},
   "outputs": [],
   "source": [
    "desc = 'cooler'\n",
    "data_path = Path(f'data/hydraulic/{desc}/')\n",
    "batch_size = 32\n",
    "train_dl, val_dl, test_dl = load_datasets(data_path,\n",
    "                                          batch_size=batch_size)"
   ]
  },
  {
   "cell_type": "code",
   "execution_count": 19,
   "metadata": {},
   "outputs": [
    {
     "name": "stdout",
     "output_type": "stream",
     "text": [
      "28 7 1100\n"
     ]
    }
   ],
   "source": [
    "print(len(train_dl), len(val_dl), len(test_dl))"
   ]
  },
  {
   "cell_type": "markdown",
   "metadata": {},
   "source": [
    "### Prepare for training"
   ]
  },
  {
   "cell_type": "code",
   "execution_count": 20,
   "metadata": {},
   "outputs": [
    {
     "name": "stdout",
     "output_type": "stream",
     "text": [
      "Folder models/190130-cooler already exists\n"
     ]
    },
    {
     "data": {
      "text/plain": [
       "PosixPath('models/190130-cooler')"
      ]
     },
     "execution_count": 20,
     "metadata": {},
     "output_type": "execute_result"
    }
   ],
   "source": [
    "# Display settings - TODO add Visdom logging\n",
    "log_freq = 15 # batches\n",
    "ep_freq = 10  # epochs\n",
    "\n",
    "# Training parameters\n",
    "epochs = 300\n",
    "lr = 1e-3\n",
    "device = torch.device(\"cuda:0\" if torch.cuda.is_available() else \"cpu\")\n",
    "\n",
    "# Checkpoint to resume from (default None)\n",
    "load_path = None\n",
    "\n",
    "# Checkpoint save location\n",
    "save_path = Path(f\"models/{date.today().strftime('%y%m%d')}-{desc}/\")\n",
    "if save_path.is_dir():\n",
    "    print(f\"Folder {save_path} already exists\")\n",
    "else:\n",
    "    os.mkdir(save_path)\n",
    "save_path"
   ]
  },
  {
   "cell_type": "code",
   "execution_count": 21,
   "metadata": {},
   "outputs": [],
   "source": [
    "# Load checkpoint if any\n",
    "if load_path is not None:\n",
    "    checkpoint = torch.load(load_path, map_location=device)\n",
    "    model.load_state_dict(checkpoint['state_dict'])\n",
    "    optimizer.load_state_dict(checkpoint['optimizer'])\n",
    "    print(\"Checkpoint loaded\")\n",
    "    print(f\"Validation loss: {checkpoint['val_loss']}\")\n",
    "    print(f\"Epoch: {checkpoint['epoch']}\")"
   ]
  },
  {
   "cell_type": "code",
   "execution_count": 22,
   "metadata": {},
   "outputs": [],
   "source": [
    "# Load optimizer and scheduler\n",
    "optimizer = torch.optim.Adam(params=model.parameters(), lr=lr)\n",
    "scheduler = torch.optim.lr_scheduler.CosineAnnealingLR(optimizer, 10)"
   ]
  },
  {
   "cell_type": "code",
   "execution_count": 23,
   "metadata": {},
   "outputs": [],
   "source": [
    "# Move to GPU\n",
    "model = model.to(device)\n",
    "criterion = criterion.to(device)"
   ]
  },
  {
   "cell_type": "markdown",
   "metadata": {},
   "source": [
    "### Train the model"
   ]
  },
  {
   "cell_type": "code",
   "execution_count": 24,
   "metadata": {},
   "outputs": [
    {
     "name": "stderr",
     "output_type": "stream",
     "text": [
      "100%|██████████| 28/28 [00:01<00:00, 22.75it/s]\n",
      "100%|██████████| 7/7 [00:00<00:00, 24.74it/s]\n",
      "  0%|          | 0/28 [00:00<?, ?it/s]"
     ]
    },
    {
     "name": "stdout",
     "output_type": "stream",
     "text": [
      "Saving checkpoint..\n",
      "Lowest validation loss: 519.6896\n"
     ]
    },
    {
     "name": "stderr",
     "output_type": "stream",
     "text": [
      "100%|██████████| 28/28 [00:01<00:00, 22.82it/s]\n",
      "100%|██████████| 7/7 [00:00<00:00,  9.02it/s]\n",
      "  0%|          | 0/28 [00:00<?, ?it/s]"
     ]
    },
    {
     "name": "stdout",
     "output_type": "stream",
     "text": [
      "Saving checkpoint..\n",
      "Lowest validation loss: 234.6378\n"
     ]
    },
    {
     "name": "stderr",
     "output_type": "stream",
     "text": [
      "100%|██████████| 28/28 [00:01<00:00, 22.90it/s]\n",
      "100%|██████████| 7/7 [00:00<00:00, 24.72it/s]\n",
      "  0%|          | 0/28 [00:00<?, ?it/s]"
     ]
    },
    {
     "name": "stdout",
     "output_type": "stream",
     "text": [
      "Saving checkpoint..\n",
      "Lowest validation loss: 150.8665\n"
     ]
    },
    {
     "name": "stderr",
     "output_type": "stream",
     "text": [
      "100%|██████████| 28/28 [00:01<00:00, 22.80it/s]\n",
      "100%|██████████| 7/7 [00:00<00:00, 25.36it/s]\n",
      "100%|██████████| 28/28 [00:01<00:00, 22.94it/s]\n",
      "100%|██████████| 7/7 [00:00<00:00,  8.82it/s]\n",
      "  0%|          | 0/28 [00:00<?, ?it/s]"
     ]
    },
    {
     "name": "stdout",
     "output_type": "stream",
     "text": [
      "Saving checkpoint..\n",
      "Lowest validation loss: 107.3367\n"
     ]
    },
    {
     "name": "stderr",
     "output_type": "stream",
     "text": [
      "100%|██████████| 28/28 [00:01<00:00, 22.72it/s]\n",
      "100%|██████████| 7/7 [00:00<00:00, 24.52it/s]\n",
      "  0%|          | 0/28 [00:00<?, ?it/s]"
     ]
    },
    {
     "name": "stdout",
     "output_type": "stream",
     "text": [
      "Saving checkpoint..\n",
      "Lowest validation loss: 82.2146\n"
     ]
    },
    {
     "name": "stderr",
     "output_type": "stream",
     "text": [
      "100%|██████████| 28/28 [00:01<00:00, 22.72it/s]\n",
      "100%|██████████| 7/7 [00:00<00:00,  9.77it/s]\n",
      "  0%|          | 0/28 [00:00<?, ?it/s]"
     ]
    },
    {
     "name": "stdout",
     "output_type": "stream",
     "text": [
      "Saving checkpoint..\n",
      "Lowest validation loss: 77.4500\n"
     ]
    },
    {
     "name": "stderr",
     "output_type": "stream",
     "text": [
      "100%|██████████| 28/28 [00:01<00:00, 22.89it/s]\n",
      "100%|██████████| 7/7 [00:00<00:00, 24.84it/s]\n"
     ]
    },
    {
     "name": "stdout",
     "output_type": "stream",
     "text": [
      "Saving checkpoint..\n"
     ]
    },
    {
     "name": "stderr",
     "output_type": "stream",
     "text": [
      "  0%|          | 0/28 [00:00<?, ?it/s]"
     ]
    },
    {
     "name": "stdout",
     "output_type": "stream",
     "text": [
      "Lowest validation loss: 75.2429\n"
     ]
    },
    {
     "name": "stderr",
     "output_type": "stream",
     "text": [
      "100%|██████████| 28/28 [00:01<00:00, 22.84it/s]\n",
      "100%|██████████| 7/7 [00:00<00:00, 24.70it/s]\n",
      "  0%|          | 0/28 [00:00<?, ?it/s]"
     ]
    },
    {
     "name": "stdout",
     "output_type": "stream",
     "text": [
      "Saving checkpoint..\n",
      "Lowest validation loss: 73.9023\n"
     ]
    },
    {
     "name": "stderr",
     "output_type": "stream",
     "text": [
      " 68%|██████▊   | 19/28 [00:00<00:00, 18.65it/s]"
     ]
    },
    {
     "name": "stdout",
     "output_type": "stream",
     "text": [
      "Epoch: 10 (15/28)\n",
      "\tData load time: 0.127 sec\n",
      "\tGeneration time: 0.140 sec\n",
      "\tBackprop time: 0.167 sec\n",
      "\tLog probability: -47.0507 (avg -37.5300)\n",
      "\tKL: 70.0579 (avg 60.0011)\n",
      "\tLoss: 117.1085 (avg 97.5310)\n"
     ]
    },
    {
     "name": "stderr",
     "output_type": "stream",
     "text": [
      "100%|██████████| 28/28 [00:01<00:00, 22.97it/s]\n",
      "100%|██████████| 7/7 [00:00<00:00,  9.23it/s]\n"
     ]
    },
    {
     "name": "stdout",
     "output_type": "stream",
     "text": [
      "VALIDATION\n",
      "Epoch: 10 (7/7)\n",
      "\tData load time: 0.132 sec\n",
      "\tGeneration time: 0.139 sec\n",
      "\tLog probability: -32.7401 (avg -27.9322)\n",
      "\tKL: 48.4852 (avg 44.4901)\n",
      "\tLoss: 81.2254 (avg 72.4223)\n",
      "Saving checkpoint..\n"
     ]
    },
    {
     "name": "stderr",
     "output_type": "stream",
     "text": [
      "  0%|          | 0/28 [00:00<?, ?it/s]"
     ]
    },
    {
     "name": "stdout",
     "output_type": "stream",
     "text": [
      "Lowest validation loss: 72.4223\n"
     ]
    },
    {
     "name": "stderr",
     "output_type": "stream",
     "text": [
      "100%|██████████| 28/28 [00:01<00:00, 22.95it/s]\n",
      "100%|██████████| 7/7 [00:00<00:00, 25.00it/s]\n",
      "100%|██████████| 28/28 [00:01<00:00, 23.07it/s]\n",
      "100%|██████████| 7/7 [00:00<00:00, 25.01it/s]\n",
      "100%|██████████| 28/28 [00:01<00:00, 22.74it/s]\n",
      "100%|██████████| 7/7 [00:00<00:00,  8.89it/s]\n",
      "  0%|          | 0/28 [00:00<?, ?it/s]"
     ]
    },
    {
     "name": "stdout",
     "output_type": "stream",
     "text": [
      "Saving checkpoint..\n",
      "Lowest validation loss: 71.8250\n"
     ]
    },
    {
     "name": "stderr",
     "output_type": "stream",
     "text": [
      "100%|██████████| 28/28 [00:01<00:00, 22.67it/s]\n",
      "100%|██████████| 7/7 [00:00<00:00,  9.40it/s]\n",
      "100%|██████████| 28/28 [00:01<00:00, 22.93it/s]\n",
      "100%|██████████| 7/7 [00:00<00:00, 25.47it/s]\n",
      "  0%|          | 0/28 [00:00<?, ?it/s]"
     ]
    },
    {
     "name": "stdout",
     "output_type": "stream",
     "text": [
      "Saving checkpoint..\n",
      "Lowest validation loss: 68.9254\n"
     ]
    },
    {
     "name": "stderr",
     "output_type": "stream",
     "text": [
      "100%|██████████| 28/28 [00:01<00:00, 23.05it/s]\n",
      "100%|██████████| 7/7 [00:00<00:00,  9.67it/s]\n",
      "  0%|          | 0/28 [00:00<?, ?it/s]"
     ]
    },
    {
     "name": "stdout",
     "output_type": "stream",
     "text": [
      "Saving checkpoint..\n",
      "Lowest validation loss: 64.3580\n"
     ]
    },
    {
     "name": "stderr",
     "output_type": "stream",
     "text": [
      "100%|██████████| 28/28 [00:01<00:00, 23.04it/s]\n",
      "100%|██████████| 7/7 [00:00<00:00, 25.48it/s]\n",
      "  0%|          | 0/28 [00:00<?, ?it/s]"
     ]
    },
    {
     "name": "stdout",
     "output_type": "stream",
     "text": [
      "Saving checkpoint..\n",
      "Lowest validation loss: 63.8892\n"
     ]
    },
    {
     "name": "stderr",
     "output_type": "stream",
     "text": [
      "100%|██████████| 28/28 [00:01<00:00, 22.65it/s]\n",
      "100%|██████████| 7/7 [00:00<00:00, 23.99it/s]\n",
      "  0%|          | 0/28 [00:00<?, ?it/s]"
     ]
    },
    {
     "name": "stdout",
     "output_type": "stream",
     "text": [
      "Saving checkpoint..\n",
      "Lowest validation loss: 58.6415\n"
     ]
    },
    {
     "name": "stderr",
     "output_type": "stream",
     "text": [
      "100%|██████████| 28/28 [00:01<00:00, 22.88it/s]\n",
      "100%|██████████| 7/7 [00:00<00:00, 23.89it/s]\n",
      "  0%|          | 0/28 [00:00<?, ?it/s]"
     ]
    },
    {
     "name": "stdout",
     "output_type": "stream",
     "text": [
      "Saving checkpoint..\n",
      "Lowest validation loss: 56.4780\n"
     ]
    },
    {
     "name": "stderr",
     "output_type": "stream",
     "text": [
      " 68%|██████▊   | 19/28 [00:00<00:00, 18.63it/s]"
     ]
    },
    {
     "name": "stdout",
     "output_type": "stream",
     "text": [
      "Epoch: 20 (15/28)\n",
      "\tData load time: 0.130 sec\n",
      "\tGeneration time: 0.141 sec\n",
      "\tBackprop time: 0.166 sec\n",
      "\tLog probability: -26.4014 (avg -23.3670)\n",
      "\tKL: 68.9391 (avg 59.3428)\n",
      "\tLoss: 95.3404 (avg 82.7098)\n"
     ]
    },
    {
     "name": "stderr",
     "output_type": "stream",
     "text": [
      "100%|██████████| 28/28 [00:01<00:00, 22.99it/s]\n",
      "100%|██████████| 7/7 [00:00<00:00, 24.63it/s]\n",
      "  0%|          | 0/28 [00:00<?, ?it/s]"
     ]
    },
    {
     "name": "stdout",
     "output_type": "stream",
     "text": [
      "VALIDATION\n",
      "Epoch: 20 (7/7)\n",
      "\tData load time: 0.142 sec\n",
      "\tGeneration time: 0.148 sec\n",
      "\tLog probability: -9.9459 (avg -10.7741)\n",
      "\tKL: 37.4074 (avg 35.2065)\n",
      "\tLoss: 47.3533 (avg 45.9807)\n",
      "Saving checkpoint..\n",
      "Lowest validation loss: 45.9807\n"
     ]
    },
    {
     "name": "stderr",
     "output_type": "stream",
     "text": [
      "100%|██████████| 28/28 [00:01<00:00, 22.70it/s]\n",
      "100%|██████████| 7/7 [00:00<00:00, 24.07it/s]\n",
      "100%|██████████| 28/28 [00:01<00:00, 22.68it/s]\n",
      "100%|██████████| 7/7 [00:00<00:00, 25.16it/s]\n",
      "  0%|          | 0/28 [00:00<?, ?it/s]"
     ]
    },
    {
     "name": "stdout",
     "output_type": "stream",
     "text": [
      "Saving checkpoint..\n",
      "Lowest validation loss: 40.7556\n"
     ]
    },
    {
     "name": "stderr",
     "output_type": "stream",
     "text": [
      "100%|██████████| 28/28 [00:01<00:00, 22.61it/s]\n",
      "100%|██████████| 7/7 [00:00<00:00, 24.51it/s]\n",
      "  0%|          | 0/28 [00:00<?, ?it/s]"
     ]
    },
    {
     "name": "stdout",
     "output_type": "stream",
     "text": [
      "Saving checkpoint..\n",
      "Lowest validation loss: 37.5760\n"
     ]
    },
    {
     "name": "stderr",
     "output_type": "stream",
     "text": [
      "100%|██████████| 28/28 [00:01<00:00, 22.78it/s]\n",
      "100%|██████████| 7/7 [00:00<00:00,  8.71it/s]\n",
      "  0%|          | 0/28 [00:00<?, ?it/s]"
     ]
    },
    {
     "name": "stdout",
     "output_type": "stream",
     "text": [
      "Saving checkpoint..\n",
      "Lowest validation loss: 31.6595\n"
     ]
    },
    {
     "name": "stderr",
     "output_type": "stream",
     "text": [
      "100%|██████████| 28/28 [00:01<00:00, 22.60it/s]\n",
      "100%|██████████| 7/7 [00:00<00:00, 23.79it/s]\n",
      "  0%|          | 0/28 [00:00<?, ?it/s]"
     ]
    },
    {
     "name": "stdout",
     "output_type": "stream",
     "text": [
      "Saving checkpoint..\n",
      "Lowest validation loss: 31.6193\n"
     ]
    },
    {
     "name": "stderr",
     "output_type": "stream",
     "text": [
      "100%|██████████| 28/28 [00:01<00:00, 22.79it/s]\n",
      "100%|██████████| 7/7 [00:00<00:00, 23.95it/s]\n",
      "100%|██████████| 28/28 [00:01<00:00, 22.80it/s]\n",
      "100%|██████████| 7/7 [00:00<00:00, 23.77it/s]\n",
      "  0%|          | 0/28 [00:00<?, ?it/s]"
     ]
    },
    {
     "name": "stdout",
     "output_type": "stream",
     "text": [
      "Saving checkpoint..\n",
      "Lowest validation loss: 31.0435\n"
     ]
    },
    {
     "name": "stderr",
     "output_type": "stream",
     "text": [
      "100%|██████████| 28/28 [00:01<00:00, 22.61it/s]\n",
      "100%|██████████| 7/7 [00:00<00:00,  9.27it/s]\n",
      "  0%|          | 0/28 [00:00<?, ?it/s]"
     ]
    },
    {
     "name": "stdout",
     "output_type": "stream",
     "text": [
      "Saving checkpoint..\n",
      "Lowest validation loss: 26.8183\n"
     ]
    },
    {
     "name": "stderr",
     "output_type": "stream",
     "text": [
      "100%|██████████| 28/28 [00:01<00:00, 22.64it/s]\n",
      "100%|██████████| 7/7 [00:00<00:00,  9.58it/s]\n",
      " 68%|██████▊   | 19/28 [00:00<00:00, 18.23it/s]"
     ]
    },
    {
     "name": "stdout",
     "output_type": "stream",
     "text": [
      "Epoch: 30 (15/28)\n",
      "\tData load time: 0.149 sec\n",
      "\tGeneration time: 0.161 sec\n",
      "\tBackprop time: 0.179 sec\n",
      "\tLog probability: -14.2001 (avg -9.1374)\n",
      "\tKL: 32.4620 (avg 26.1386)\n",
      "\tLoss: 46.6621 (avg 35.2760)\n"
     ]
    },
    {
     "name": "stderr",
     "output_type": "stream",
     "text": [
      "100%|██████████| 28/28 [00:01<00:00, 22.79it/s]\n",
      "100%|██████████| 7/7 [00:00<00:00, 25.33it/s]\n"
     ]
    },
    {
     "name": "stdout",
     "output_type": "stream",
     "text": [
      "VALIDATION\n",
      "Epoch: 30 (7/7)\n",
      "\tData load time: 0.132 sec\n",
      "\tGeneration time: 0.142 sec\n",
      "\tLog probability: -4.8242 (avg -7.0100)\n",
      "\tKL: 20.0362 (avg 19.7417)\n",
      "\tLoss: 24.8605 (avg 26.7517)\n",
      "Saving checkpoint..\n"
     ]
    },
    {
     "name": "stderr",
     "output_type": "stream",
     "text": [
      "  0%|          | 0/28 [00:00<?, ?it/s]"
     ]
    },
    {
     "name": "stdout",
     "output_type": "stream",
     "text": [
      "Lowest validation loss: 26.7517\n"
     ]
    },
    {
     "name": "stderr",
     "output_type": "stream",
     "text": [
      "100%|██████████| 28/28 [00:01<00:00, 22.76it/s]\n",
      "100%|██████████| 7/7 [00:00<00:00, 25.23it/s]\n",
      "100%|██████████| 28/28 [00:01<00:00, 22.93it/s]\n",
      "100%|██████████| 7/7 [00:00<00:00,  8.70it/s]\n",
      "  0%|          | 0/28 [00:00<?, ?it/s]"
     ]
    },
    {
     "name": "stdout",
     "output_type": "stream",
     "text": [
      "Saving checkpoint..\n",
      "Lowest validation loss: 26.5003\n"
     ]
    },
    {
     "name": "stderr",
     "output_type": "stream",
     "text": [
      "100%|██████████| 28/28 [00:01<00:00, 22.76it/s]\n",
      "100%|██████████| 7/7 [00:00<00:00, 24.49it/s]\n",
      "100%|██████████| 28/28 [00:01<00:00, 23.16it/s]\n",
      "100%|██████████| 7/7 [00:00<00:00, 24.87it/s]\n",
      "  0%|          | 0/28 [00:00<?, ?it/s]"
     ]
    },
    {
     "name": "stdout",
     "output_type": "stream",
     "text": [
      "Saving checkpoint..\n",
      "Lowest validation loss: 26.3085\n"
     ]
    },
    {
     "name": "stderr",
     "output_type": "stream",
     "text": [
      "100%|██████████| 28/28 [00:01<00:00, 22.79it/s]\n",
      "100%|██████████| 7/7 [00:00<00:00, 22.60it/s]\n",
      "100%|██████████| 28/28 [00:01<00:00, 22.00it/s]\n",
      "100%|██████████| 7/7 [00:00<00:00, 24.75it/s]\n",
      "100%|██████████| 28/28 [00:01<00:00, 22.85it/s]\n",
      "100%|██████████| 7/7 [00:00<00:00, 24.79it/s]\n",
      "100%|██████████| 28/28 [00:01<00:00, 23.25it/s]\n",
      "100%|██████████| 7/7 [00:00<00:00, 24.53it/s]\n",
      "100%|██████████| 28/28 [00:01<00:00, 22.88it/s]\n",
      "100%|██████████| 7/7 [00:00<00:00, 24.65it/s]\n",
      " 68%|██████▊   | 19/28 [00:00<00:00, 18.41it/s]"
     ]
    },
    {
     "name": "stdout",
     "output_type": "stream",
     "text": [
      "Epoch: 40 (15/28)\n",
      "\tData load time: 0.144 sec\n",
      "\tGeneration time: 0.155 sec\n",
      "\tBackprop time: 0.173 sec\n",
      "\tLog probability: -25.4761 (avg -9.2970)\n",
      "\tKL: 23.8280 (avg 28.2762)\n",
      "\tLoss: 49.3041 (avg 37.5731)\n"
     ]
    },
    {
     "name": "stderr",
     "output_type": "stream",
     "text": [
      "100%|██████████| 28/28 [00:01<00:00, 22.88it/s]\n",
      "100%|██████████| 7/7 [00:00<00:00, 24.84it/s]\n",
      "  0%|          | 0/28 [00:00<?, ?it/s]"
     ]
    },
    {
     "name": "stdout",
     "output_type": "stream",
     "text": [
      "VALIDATION\n",
      "Epoch: 40 (7/7)\n",
      "\tData load time: 0.142 sec\n",
      "\tGeneration time: 0.149 sec\n",
      "\tLog probability: -4.8122 (avg -5.2166)\n",
      "\tKL: 34.3650 (avg 32.5086)\n",
      "\tLoss: 39.1771 (avg 37.7252)\n"
     ]
    },
    {
     "name": "stderr",
     "output_type": "stream",
     "text": [
      "100%|██████████| 28/28 [00:01<00:00, 22.93it/s]\n",
      "100%|██████████| 7/7 [00:00<00:00,  8.89it/s]\n",
      "100%|██████████| 28/28 [00:01<00:00, 23.06it/s]\n",
      "100%|██████████| 7/7 [00:00<00:00, 23.74it/s]\n",
      "100%|██████████| 28/28 [00:01<00:00, 23.04it/s]\n",
      "100%|██████████| 7/7 [00:00<00:00,  8.78it/s]\n",
      "100%|██████████| 28/28 [00:01<00:00, 22.76it/s]\n",
      "100%|██████████| 7/7 [00:00<00:00, 24.79it/s]\n",
      "100%|██████████| 28/28 [00:01<00:00, 22.72it/s]\n",
      "100%|██████████| 7/7 [00:00<00:00,  8.63it/s]\n",
      "100%|██████████| 28/28 [00:01<00:00, 22.94it/s]\n",
      "100%|██████████| 7/7 [00:00<00:00, 24.29it/s]\n",
      "100%|██████████| 28/28 [00:01<00:00, 22.94it/s]\n",
      "100%|██████████| 7/7 [00:00<00:00,  8.79it/s]\n",
      "100%|██████████| 28/28 [00:01<00:00, 22.93it/s]\n",
      "100%|██████████| 7/7 [00:00<00:00,  9.23it/s]\n",
      "  0%|          | 0/28 [00:00<?, ?it/s]"
     ]
    },
    {
     "name": "stdout",
     "output_type": "stream",
     "text": [
      "Saving checkpoint..\n",
      "Lowest validation loss: 25.5795\n"
     ]
    },
    {
     "name": "stderr",
     "output_type": "stream",
     "text": [
      "100%|██████████| 28/28 [00:01<00:00, 22.74it/s]\n",
      "100%|██████████| 7/7 [00:00<00:00, 24.93it/s]\n",
      " 68%|██████▊   | 19/28 [00:00<00:00, 18.42it/s]"
     ]
    },
    {
     "name": "stdout",
     "output_type": "stream",
     "text": [
      "Epoch: 50 (15/28)\n",
      "\tData load time: 0.143 sec\n",
      "\tGeneration time: 0.153 sec\n",
      "\tBackprop time: 0.172 sec\n",
      "\tLog probability: -3.8004 (avg -6.2602)\n",
      "\tKL: 19.1340 (avg 22.9963)\n",
      "\tLoss: 22.9345 (avg 29.2565)\n"
     ]
    },
    {
     "name": "stderr",
     "output_type": "stream",
     "text": [
      "100%|██████████| 28/28 [00:01<00:00, 22.90it/s]\n",
      "100%|██████████| 7/7 [00:00<00:00, 24.51it/s]\n"
     ]
    },
    {
     "name": "stdout",
     "output_type": "stream",
     "text": [
      "VALIDATION\n",
      "Epoch: 50 (7/7)\n",
      "\tData load time: 0.144 sec\n",
      "\tGeneration time: 0.150 sec\n",
      "\tLog probability: -7.2990 (avg -7.0750)\n",
      "\tKL: 17.4616 (avg 17.4043)\n",
      "\tLoss: 24.7606 (avg 24.4793)\n",
      "Saving checkpoint..\n"
     ]
    },
    {
     "name": "stderr",
     "output_type": "stream",
     "text": [
      "  0%|          | 0/28 [00:00<?, ?it/s]"
     ]
    },
    {
     "name": "stdout",
     "output_type": "stream",
     "text": [
      "Lowest validation loss: 24.4793\n"
     ]
    },
    {
     "name": "stderr",
     "output_type": "stream",
     "text": [
      "100%|██████████| 28/28 [00:01<00:00, 22.87it/s]\n",
      "100%|██████████| 7/7 [00:00<00:00, 24.83it/s]\n",
      "  0%|          | 0/28 [00:00<?, ?it/s]"
     ]
    },
    {
     "name": "stdout",
     "output_type": "stream",
     "text": [
      "Saving checkpoint..\n",
      "Lowest validation loss: 23.8388\n"
     ]
    },
    {
     "name": "stderr",
     "output_type": "stream",
     "text": [
      "100%|██████████| 28/28 [00:01<00:00, 22.88it/s]\n",
      "100%|██████████| 7/7 [00:00<00:00, 24.63it/s]\n",
      "  0%|          | 0/28 [00:00<?, ?it/s]"
     ]
    },
    {
     "name": "stdout",
     "output_type": "stream",
     "text": [
      "Saving checkpoint..\n",
      "Lowest validation loss: 23.1936\n"
     ]
    },
    {
     "name": "stderr",
     "output_type": "stream",
     "text": [
      "100%|██████████| 28/28 [00:01<00:00, 22.90it/s]\n",
      "100%|██████████| 7/7 [00:00<00:00,  8.63it/s]\n",
      "100%|██████████| 28/28 [00:01<00:00, 23.18it/s]\n",
      "100%|██████████| 7/7 [00:00<00:00,  9.08it/s]\n",
      "100%|██████████| 28/28 [00:01<00:00, 22.73it/s]\n",
      "100%|██████████| 7/7 [00:00<00:00, 24.84it/s]\n",
      "100%|██████████| 28/28 [00:01<00:00, 22.65it/s]\n",
      "100%|██████████| 7/7 [00:00<00:00,  9.38it/s]\n",
      "100%|██████████| 28/28 [00:01<00:00, 22.58it/s]\n",
      "100%|██████████| 7/7 [00:00<00:00, 22.44it/s]\n",
      "100%|██████████| 28/28 [00:01<00:00, 22.59it/s]\n",
      "100%|██████████| 7/7 [00:00<00:00, 24.00it/s]\n",
      "100%|██████████| 28/28 [00:01<00:00, 22.77it/s]\n",
      "100%|██████████| 7/7 [00:00<00:00, 24.19it/s]\n",
      "  0%|          | 0/28 [00:00<?, ?it/s]"
     ]
    },
    {
     "name": "stdout",
     "output_type": "stream",
     "text": [
      "Saving checkpoint..\n",
      "Lowest validation loss: 22.3544\n"
     ]
    },
    {
     "name": "stderr",
     "output_type": "stream",
     "text": [
      " 68%|██████▊   | 19/28 [00:00<00:00, 17.89it/s]"
     ]
    },
    {
     "name": "stdout",
     "output_type": "stream",
     "text": [
      "Epoch: 60 (15/28)\n",
      "\tData load time: 0.156 sec\n",
      "\tGeneration time: 0.167 sec\n",
      "\tBackprop time: 0.187 sec\n",
      "\tLog probability: -6.2572 (avg -6.8964)\n",
      "\tKL: 25.6189 (avg 28.6861)\n",
      "\tLoss: 31.8761 (avg 35.5825)\n"
     ]
    },
    {
     "name": "stderr",
     "output_type": "stream",
     "text": [
      "100%|██████████| 28/28 [00:01<00:00, 22.60it/s]\n",
      "100%|██████████| 7/7 [00:00<00:00,  9.02it/s]\n",
      "  0%|          | 0/28 [00:00<?, ?it/s]"
     ]
    },
    {
     "name": "stdout",
     "output_type": "stream",
     "text": [
      "VALIDATION\n",
      "Epoch: 60 (7/7)\n",
      "\tData load time: 0.134 sec\n",
      "\tGeneration time: 0.143 sec\n",
      "\tLog probability: -6.1901 (avg -4.7670)\n",
      "\tKL: 23.4080 (avg 23.9977)\n",
      "\tLoss: 29.5981 (avg 28.7647)\n"
     ]
    },
    {
     "name": "stderr",
     "output_type": "stream",
     "text": [
      "100%|██████████| 28/28 [00:01<00:00, 22.71it/s]\n",
      "100%|██████████| 7/7 [00:00<00:00,  9.16it/s]\n",
      "100%|██████████| 28/28 [00:01<00:00, 22.83it/s]\n",
      "100%|██████████| 7/7 [00:00<00:00, 24.33it/s]\n",
      "100%|██████████| 28/28 [00:01<00:00, 22.77it/s]\n",
      "100%|██████████| 7/7 [00:00<00:00, 24.38it/s]\n",
      "100%|██████████| 28/28 [00:01<00:00, 22.79it/s]\n",
      "100%|██████████| 7/7 [00:00<00:00,  8.76it/s]\n",
      "100%|██████████| 28/28 [00:01<00:00, 23.04it/s]\n",
      "100%|██████████| 7/7 [00:00<00:00, 24.50it/s]\n",
      "  0%|          | 0/28 [00:00<?, ?it/s]"
     ]
    },
    {
     "name": "stdout",
     "output_type": "stream",
     "text": [
      "Saving checkpoint..\n",
      "Lowest validation loss: 22.0645\n"
     ]
    },
    {
     "name": "stderr",
     "output_type": "stream",
     "text": [
      "100%|██████████| 28/28 [00:01<00:00, 22.73it/s]\n",
      "100%|██████████| 7/7 [00:00<00:00,  8.99it/s]\n",
      "100%|██████████| 28/28 [00:01<00:00, 23.27it/s]\n",
      "100%|██████████| 7/7 [00:00<00:00, 24.77it/s]\n",
      "100%|██████████| 28/28 [00:01<00:00, 23.06it/s]\n",
      "100%|██████████| 7/7 [00:00<00:00,  9.42it/s]\n",
      "  0%|          | 0/28 [00:00<?, ?it/s]"
     ]
    },
    {
     "name": "stdout",
     "output_type": "stream",
     "text": [
      "Saving checkpoint..\n",
      "Lowest validation loss: 19.5388\n"
     ]
    },
    {
     "name": "stderr",
     "output_type": "stream",
     "text": [
      "100%|██████████| 28/28 [00:01<00:00, 22.76it/s]\n",
      "100%|██████████| 7/7 [00:00<00:00,  9.04it/s]\n",
      "  0%|          | 0/28 [00:00<?, ?it/s]"
     ]
    },
    {
     "name": "stdout",
     "output_type": "stream",
     "text": [
      "Saving checkpoint..\n",
      "Lowest validation loss: 18.6139\n"
     ]
    },
    {
     "name": "stderr",
     "output_type": "stream",
     "text": [
      " 68%|██████▊   | 19/28 [00:00<00:00, 18.10it/s]"
     ]
    },
    {
     "name": "stdout",
     "output_type": "stream",
     "text": [
      "Epoch: 70 (15/28)\n",
      "\tData load time: 0.147 sec\n",
      "\tGeneration time: 0.158 sec\n",
      "\tBackprop time: 0.179 sec\n",
      "\tLog probability: -3.4546 (avg -5.5317)\n",
      "\tKL: 13.9373 (avg 17.6770)\n",
      "\tLoss: 17.3919 (avg 23.2088)\n"
     ]
    },
    {
     "name": "stderr",
     "output_type": "stream",
     "text": [
      "100%|██████████| 28/28 [00:01<00:00, 22.69it/s]\n",
      "100%|██████████| 7/7 [00:00<00:00,  8.62it/s]\n",
      "  0%|          | 0/28 [00:00<?, ?it/s]"
     ]
    },
    {
     "name": "stdout",
     "output_type": "stream",
     "text": [
      "VALIDATION\n",
      "Epoch: 70 (7/7)\n",
      "\tData load time: 0.142 sec\n",
      "\tGeneration time: 0.151 sec\n",
      "\tLog probability: -4.4056 (avg -9.5279)\n",
      "\tKL: 17.1103 (avg 14.9541)\n",
      "\tLoss: 21.5159 (avg 24.4819)\n"
     ]
    },
    {
     "name": "stderr",
     "output_type": "stream",
     "text": [
      "100%|██████████| 28/28 [00:01<00:00, 22.86it/s]\n",
      "100%|██████████| 7/7 [00:00<00:00,  9.19it/s]\n",
      "  0%|          | 0/28 [00:00<?, ?it/s]"
     ]
    },
    {
     "name": "stdout",
     "output_type": "stream",
     "text": [
      "Saving checkpoint..\n",
      "Lowest validation loss: 18.1983\n"
     ]
    },
    {
     "name": "stderr",
     "output_type": "stream",
     "text": [
      "100%|██████████| 28/28 [00:01<00:00, 23.25it/s]\n",
      "100%|██████████| 7/7 [00:00<00:00, 25.62it/s]\n",
      "100%|██████████| 28/28 [00:01<00:00, 22.79it/s]\n",
      "100%|██████████| 7/7 [00:00<00:00,  9.08it/s]\n",
      "  0%|          | 0/28 [00:00<?, ?it/s]"
     ]
    },
    {
     "name": "stdout",
     "output_type": "stream",
     "text": [
      "Saving checkpoint..\n",
      "Lowest validation loss: 17.2715\n"
     ]
    },
    {
     "name": "stderr",
     "output_type": "stream",
     "text": [
      "100%|██████████| 28/28 [00:01<00:00, 23.10it/s]\n",
      "100%|██████████| 7/7 [00:00<00:00, 24.35it/s]\n",
      "100%|██████████| 28/28 [00:01<00:00, 23.30it/s]\n",
      "100%|██████████| 7/7 [00:00<00:00, 23.56it/s]\n",
      "100%|██████████| 28/28 [00:01<00:00, 23.07it/s]\n",
      "100%|██████████| 7/7 [00:00<00:00, 25.15it/s]\n",
      "100%|██████████| 28/28 [00:01<00:00, 22.84it/s]\n",
      "100%|██████████| 7/7 [00:00<00:00, 24.06it/s]\n",
      "100%|██████████| 28/28 [00:01<00:00, 22.70it/s]\n",
      "100%|██████████| 7/7 [00:00<00:00, 24.70it/s]\n",
      "100%|██████████| 28/28 [00:01<00:00, 22.69it/s]\n",
      "100%|██████████| 7/7 [00:00<00:00,  8.77it/s]\n",
      " 68%|██████▊   | 19/28 [00:00<00:00, 18.70it/s]"
     ]
    },
    {
     "name": "stdout",
     "output_type": "stream",
     "text": [
      "Epoch: 80 (15/28)\n",
      "\tData load time: 0.134 sec\n",
      "\tGeneration time: 0.145 sec\n",
      "\tBackprop time: 0.164 sec\n",
      "\tLog probability: -10.2868 (avg -6.8631)\n",
      "\tKL: 22.5262 (avg 23.8674)\n",
      "\tLoss: 32.8130 (avg 30.7306)\n"
     ]
    },
    {
     "name": "stderr",
     "output_type": "stream",
     "text": [
      "100%|██████████| 28/28 [00:01<00:00, 23.03it/s]\n",
      "100%|██████████| 7/7 [00:00<00:00,  8.87it/s]\n",
      "  0%|          | 0/28 [00:00<?, ?it/s]"
     ]
    },
    {
     "name": "stdout",
     "output_type": "stream",
     "text": [
      "VALIDATION\n",
      "Epoch: 80 (7/7)\n",
      "\tData load time: 0.138 sec\n",
      "\tGeneration time: 0.147 sec\n",
      "\tLog probability: -4.2413 (avg -5.0756)\n",
      "\tKL: 30.7034 (avg 26.9523)\n",
      "\tLoss: 34.9447 (avg 32.0279)\n"
     ]
    },
    {
     "name": "stderr",
     "output_type": "stream",
     "text": [
      "100%|██████████| 28/28 [00:01<00:00, 22.73it/s]\n",
      "100%|██████████| 7/7 [00:00<00:00, 24.70it/s]\n",
      "100%|██████████| 28/28 [00:01<00:00, 22.82it/s]\n",
      "100%|██████████| 7/7 [00:00<00:00, 24.41it/s]\n",
      "100%|██████████| 28/28 [00:01<00:00, 22.81it/s]\n",
      "100%|██████████| 7/7 [00:00<00:00,  8.79it/s]\n",
      "100%|██████████| 28/28 [00:01<00:00, 22.81it/s]\n",
      "100%|██████████| 7/7 [00:00<00:00,  9.04it/s]\n",
      "100%|██████████| 28/28 [00:01<00:00, 23.00it/s]\n",
      "100%|██████████| 7/7 [00:00<00:00, 24.72it/s]\n",
      "100%|██████████| 28/28 [00:01<00:00, 22.83it/s]\n",
      "100%|██████████| 7/7 [00:00<00:00,  8.89it/s]\n",
      "100%|██████████| 28/28 [00:01<00:00, 23.17it/s]\n",
      "100%|██████████| 7/7 [00:00<00:00, 24.59it/s]\n",
      "  0%|          | 0/28 [00:00<?, ?it/s]"
     ]
    },
    {
     "name": "stdout",
     "output_type": "stream",
     "text": [
      "Saving checkpoint..\n",
      "Lowest validation loss: 16.2400\n"
     ]
    },
    {
     "name": "stderr",
     "output_type": "stream",
     "text": [
      "100%|██████████| 28/28 [00:01<00:00, 22.81it/s]\n",
      "100%|██████████| 7/7 [00:00<00:00,  9.66it/s]\n",
      "100%|██████████| 28/28 [00:01<00:00, 22.87it/s]\n",
      "100%|██████████| 7/7 [00:00<00:00, 24.76it/s]\n",
      "  0%|          | 0/28 [00:00<?, ?it/s]"
     ]
    },
    {
     "name": "stdout",
     "output_type": "stream",
     "text": [
      "Saving checkpoint..\n",
      "Lowest validation loss: 15.3520\n"
     ]
    },
    {
     "name": "stderr",
     "output_type": "stream",
     "text": [
      " 68%|██████▊   | 19/28 [00:00<00:00, 18.01it/s]"
     ]
    },
    {
     "name": "stdout",
     "output_type": "stream",
     "text": [
      "Epoch: 90 (15/28)\n",
      "\tData load time: 0.147 sec\n",
      "\tGeneration time: 0.159 sec\n",
      "\tBackprop time: 0.177 sec\n",
      "\tLog probability: -5.4972 (avg -4.7536)\n",
      "\tKL: 17.9816 (avg 14.6109)\n",
      "\tLoss: 23.4788 (avg 19.3645)\n"
     ]
    },
    {
     "name": "stderr",
     "output_type": "stream",
     "text": [
      "100%|██████████| 28/28 [00:01<00:00, 22.84it/s]\n",
      "100%|██████████| 7/7 [00:00<00:00, 24.61it/s]\n"
     ]
    },
    {
     "name": "stdout",
     "output_type": "stream",
     "text": [
      "VALIDATION\n",
      "Epoch: 90 (7/7)\n",
      "\tData load time: 0.143 sec\n",
      "\tGeneration time: 0.149 sec\n",
      "\tLog probability: -2.5604 (avg -3.3020)\n",
      "\tKL: 11.4159 (avg 10.0386)\n",
      "\tLoss: 13.9763 (avg 13.3406)\n",
      "Saving checkpoint..\n"
     ]
    },
    {
     "name": "stderr",
     "output_type": "stream",
     "text": [
      "  0%|          | 0/28 [00:00<?, ?it/s]"
     ]
    },
    {
     "name": "stdout",
     "output_type": "stream",
     "text": [
      "Lowest validation loss: 13.3406\n"
     ]
    },
    {
     "name": "stderr",
     "output_type": "stream",
     "text": [
      "100%|██████████| 28/28 [00:01<00:00, 22.80it/s]\n",
      "100%|██████████| 7/7 [00:00<00:00, 24.86it/s]\n",
      "100%|██████████| 28/28 [00:01<00:00, 22.74it/s]\n",
      "100%|██████████| 7/7 [00:00<00:00, 24.62it/s]\n",
      "100%|██████████| 28/28 [00:01<00:00, 22.74it/s]\n",
      "100%|██████████| 7/7 [00:00<00:00, 24.13it/s]\n",
      "100%|██████████| 28/28 [00:01<00:00, 23.20it/s]\n",
      "100%|██████████| 7/7 [00:00<00:00, 24.24it/s]\n",
      "100%|██████████| 28/28 [00:01<00:00, 22.74it/s]\n",
      "100%|██████████| 7/7 [00:00<00:00,  9.44it/s]\n",
      "100%|██████████| 28/28 [00:01<00:00, 23.02it/s]\n",
      "100%|██████████| 7/7 [00:00<00:00, 24.22it/s]\n",
      "100%|██████████| 28/28 [00:01<00:00, 22.80it/s]\n",
      "100%|██████████| 7/7 [00:00<00:00,  9.67it/s]\n",
      "100%|██████████| 28/28 [00:01<00:00, 23.18it/s]\n",
      "100%|██████████| 7/7 [00:00<00:00, 24.42it/s]\n",
      "100%|██████████| 28/28 [00:01<00:00, 22.80it/s]\n",
      "100%|██████████| 7/7 [00:00<00:00,  9.62it/s]\n",
      " 68%|██████▊   | 19/28 [00:00<00:00, 18.28it/s]"
     ]
    },
    {
     "name": "stdout",
     "output_type": "stream",
     "text": [
      "Epoch: 100 (15/28)\n",
      "\tData load time: 0.150 sec\n",
      "\tGeneration time: 0.158 sec\n",
      "\tBackprop time: 0.178 sec\n",
      "\tLog probability: -4.0763 (avg -6.0396)\n",
      "\tKL: 31.6342 (avg 43.3099)\n",
      "\tLoss: 35.7105 (avg 49.3495)\n"
     ]
    },
    {
     "name": "stderr",
     "output_type": "stream",
     "text": [
      "100%|██████████| 28/28 [00:01<00:00, 22.80it/s]\n",
      "100%|██████████| 7/7 [00:00<00:00,  8.92it/s]\n",
      "  0%|          | 0/28 [00:00<?, ?it/s]"
     ]
    },
    {
     "name": "stdout",
     "output_type": "stream",
     "text": [
      "VALIDATION\n",
      "Epoch: 100 (7/7)\n",
      "\tData load time: 0.137 sec\n",
      "\tGeneration time: 0.146 sec\n",
      "\tLog probability: -3.4589 (avg -5.6262)\n",
      "\tKL: 21.7790 (avg 20.3448)\n",
      "\tLoss: 25.2379 (avg 25.9711)\n"
     ]
    },
    {
     "name": "stderr",
     "output_type": "stream",
     "text": [
      "100%|██████████| 28/28 [00:01<00:00, 22.59it/s]\n",
      "100%|██████████| 7/7 [00:00<00:00,  9.78it/s]\n",
      "100%|██████████| 28/28 [00:01<00:00, 22.75it/s]\n",
      "100%|██████████| 7/7 [00:00<00:00, 24.92it/s]\n",
      "100%|██████████| 28/28 [00:01<00:00, 22.78it/s]\n",
      "100%|██████████| 7/7 [00:00<00:00, 24.33it/s]\n",
      "100%|██████████| 28/28 [00:01<00:00, 23.10it/s]\n",
      "100%|██████████| 7/7 [00:00<00:00,  9.15it/s]\n",
      "100%|██████████| 28/28 [00:01<00:00, 22.95it/s]\n",
      "100%|██████████| 7/7 [00:00<00:00, 24.27it/s]\n",
      "100%|██████████| 28/28 [00:01<00:00, 22.97it/s]\n",
      "100%|██████████| 7/7 [00:00<00:00,  8.50it/s]\n",
      "100%|██████████| 28/28 [00:01<00:00, 22.88it/s]\n",
      "100%|██████████| 7/7 [00:00<00:00,  8.81it/s]\n",
      "  0%|          | 0/28 [00:00<?, ?it/s]"
     ]
    },
    {
     "name": "stdout",
     "output_type": "stream",
     "text": [
      "Saving checkpoint..\n",
      "Lowest validation loss: 13.2193\n"
     ]
    },
    {
     "name": "stderr",
     "output_type": "stream",
     "text": [
      "100%|██████████| 28/28 [00:01<00:00, 23.09it/s]\n",
      "100%|██████████| 7/7 [00:00<00:00, 24.51it/s]\n",
      "  0%|          | 0/28 [00:00<?, ?it/s]"
     ]
    },
    {
     "name": "stdout",
     "output_type": "stream",
     "text": [
      "Saving checkpoint..\n",
      "Lowest validation loss: 12.7303\n"
     ]
    },
    {
     "name": "stderr",
     "output_type": "stream",
     "text": [
      "100%|██████████| 28/28 [00:01<00:00, 22.84it/s]\n",
      "100%|██████████| 7/7 [00:00<00:00,  8.68it/s]\n",
      "  0%|          | 0/28 [00:00<?, ?it/s]"
     ]
    },
    {
     "name": "stdout",
     "output_type": "stream",
     "text": [
      "Saving checkpoint..\n",
      "Lowest validation loss: 12.6233\n"
     ]
    },
    {
     "name": "stderr",
     "output_type": "stream",
     "text": [
      " 68%|██████▊   | 19/28 [00:00<00:00, 17.77it/s]"
     ]
    },
    {
     "name": "stdout",
     "output_type": "stream",
     "text": [
      "Epoch: 110 (15/28)\n",
      "\tData load time: 0.158 sec\n",
      "\tGeneration time: 0.169 sec\n",
      "\tBackprop time: 0.189 sec\n",
      "\tLog probability: -2.7555 (avg -4.8217)\n",
      "\tKL: 8.9327 (avg 12.8434)\n",
      "\tLoss: 11.6882 (avg 17.6651)\n"
     ]
    },
    {
     "name": "stderr",
     "output_type": "stream",
     "text": [
      "100%|██████████| 28/28 [00:01<00:00, 22.55it/s]\n",
      "100%|██████████| 7/7 [00:00<00:00,  8.76it/s]\n"
     ]
    },
    {
     "name": "stdout",
     "output_type": "stream",
     "text": [
      "VALIDATION\n",
      "Epoch: 110 (7/7)\n",
      "\tData load time: 0.139 sec\n",
      "\tGeneration time: 0.147 sec\n",
      "\tLog probability: -2.1293 (avg -2.3220)\n",
      "\tKL: 8.1804 (avg 8.5360)\n",
      "\tLoss: 10.3098 (avg 10.8580)\n",
      "Saving checkpoint..\n"
     ]
    },
    {
     "name": "stderr",
     "output_type": "stream",
     "text": [
      "  0%|          | 0/28 [00:00<?, ?it/s]"
     ]
    },
    {
     "name": "stdout",
     "output_type": "stream",
     "text": [
      "Lowest validation loss: 10.8580\n"
     ]
    },
    {
     "name": "stderr",
     "output_type": "stream",
     "text": [
      "100%|██████████| 28/28 [00:01<00:00, 23.00it/s]\n",
      "100%|██████████| 7/7 [00:00<00:00, 24.12it/s]\n",
      "100%|██████████| 28/28 [00:01<00:00, 22.90it/s]\n",
      "100%|██████████| 7/7 [00:00<00:00,  8.93it/s]\n",
      "100%|██████████| 28/28 [00:01<00:00, 22.87it/s]\n",
      "100%|██████████| 7/7 [00:00<00:00,  9.80it/s]\n",
      "  0%|          | 0/28 [00:00<?, ?it/s]"
     ]
    },
    {
     "name": "stdout",
     "output_type": "stream",
     "text": [
      "Saving checkpoint..\n",
      "Lowest validation loss: 10.7646\n"
     ]
    },
    {
     "name": "stderr",
     "output_type": "stream",
     "text": [
      "100%|██████████| 28/28 [00:01<00:00, 22.76it/s]\n",
      "100%|██████████| 7/7 [00:00<00:00, 24.45it/s]\n",
      "100%|██████████| 28/28 [00:01<00:00, 22.81it/s]\n",
      "100%|██████████| 7/7 [00:00<00:00,  9.07it/s]\n",
      "100%|██████████| 28/28 [00:01<00:00, 22.91it/s]\n",
      "100%|██████████| 7/7 [00:00<00:00, 23.79it/s]\n",
      "100%|██████████| 28/28 [00:01<00:00, 22.72it/s]\n",
      "100%|██████████| 7/7 [00:00<00:00, 24.85it/s]\n",
      "100%|██████████| 28/28 [00:01<00:00, 22.86it/s]\n",
      "100%|██████████| 7/7 [00:00<00:00, 25.02it/s]\n",
      "100%|██████████| 28/28 [00:01<00:00, 23.06it/s]\n",
      "100%|██████████| 7/7 [00:00<00:00, 24.85it/s]\n",
      " 68%|██████▊   | 19/28 [00:00<00:00, 18.34it/s]"
     ]
    },
    {
     "name": "stdout",
     "output_type": "stream",
     "text": [
      "Epoch: 120 (15/28)\n",
      "\tData load time: 0.143 sec\n",
      "\tGeneration time: 0.151 sec\n",
      "\tBackprop time: 0.174 sec\n",
      "\tLog probability: -5.7387 (avg -5.5472)\n",
      "\tKL: 26.8703 (avg 20.5437)\n",
      "\tLoss: 32.6090 (avg 26.0908)\n"
     ]
    },
    {
     "name": "stderr",
     "output_type": "stream",
     "text": [
      "100%|██████████| 28/28 [00:01<00:00, 22.85it/s]\n",
      "100%|██████████| 7/7 [00:00<00:00,  9.12it/s]\n",
      "  0%|          | 0/28 [00:00<?, ?it/s]"
     ]
    },
    {
     "name": "stdout",
     "output_type": "stream",
     "text": [
      "VALIDATION\n",
      "Epoch: 120 (7/7)\n",
      "\tData load time: 0.133 sec\n",
      "\tGeneration time: 0.142 sec\n",
      "\tLog probability: -2.3419 (avg -2.3629)\n",
      "\tKL: 23.4976 (avg 20.4089)\n",
      "\tLoss: 25.8396 (avg 22.7718)\n"
     ]
    },
    {
     "name": "stderr",
     "output_type": "stream",
     "text": [
      "100%|██████████| 28/28 [00:01<00:00, 22.93it/s]\n",
      "100%|██████████| 7/7 [00:00<00:00,  8.67it/s]\n",
      "100%|██████████| 28/28 [00:01<00:00, 22.75it/s]\n",
      "100%|██████████| 7/7 [00:00<00:00, 24.08it/s]\n",
      "100%|██████████| 28/28 [00:01<00:00, 22.88it/s]\n",
      "100%|██████████| 7/7 [00:00<00:00, 24.72it/s]\n",
      "100%|██████████| 28/28 [00:01<00:00, 22.95it/s]\n",
      "100%|██████████| 7/7 [00:00<00:00,  9.23it/s]\n",
      "100%|██████████| 28/28 [00:01<00:00, 23.14it/s]\n",
      "100%|██████████| 7/7 [00:00<00:00, 24.02it/s]\n",
      "100%|██████████| 28/28 [00:01<00:00, 22.92it/s]\n",
      "100%|██████████| 7/7 [00:00<00:00, 24.39it/s]\n",
      "100%|██████████| 28/28 [00:01<00:00, 23.18it/s]\n",
      "100%|██████████| 7/7 [00:00<00:00,  9.01it/s]\n",
      "100%|██████████| 28/28 [00:01<00:00, 22.95it/s]\n",
      "100%|██████████| 7/7 [00:00<00:00,  9.35it/s]\n",
      "100%|██████████| 28/28 [00:01<00:00, 22.69it/s]\n",
      "100%|██████████| 7/7 [00:00<00:00, 25.52it/s]\n",
      " 68%|██████▊   | 19/28 [00:00<00:00, 18.72it/s]"
     ]
    },
    {
     "name": "stdout",
     "output_type": "stream",
     "text": [
      "Epoch: 130 (15/28)\n",
      "\tData load time: 0.127 sec\n",
      "\tGeneration time: 0.143 sec\n",
      "\tBackprop time: 0.166 sec\n",
      "\tLog probability: -2.7839 (avg -3.8173)\n",
      "\tKL: 9.5088 (avg 11.5625)\n",
      "\tLoss: 12.2927 (avg 15.3798)\n"
     ]
    },
    {
     "name": "stderr",
     "output_type": "stream",
     "text": [
      "100%|██████████| 28/28 [00:01<00:00, 23.05it/s]\n",
      "100%|██████████| 7/7 [00:00<00:00, 24.77it/s]\n",
      "  0%|          | 0/28 [00:00<?, ?it/s]"
     ]
    },
    {
     "name": "stdout",
     "output_type": "stream",
     "text": [
      "VALIDATION\n",
      "Epoch: 130 (7/7)\n",
      "\tData load time: 0.142 sec\n",
      "\tGeneration time: 0.147 sec\n",
      "\tLog probability: -2.8442 (avg -4.1450)\n",
      "\tKL: 10.3668 (avg 8.5078)\n",
      "\tLoss: 13.2110 (avg 12.6528)\n"
     ]
    },
    {
     "name": "stderr",
     "output_type": "stream",
     "text": [
      "100%|██████████| 28/28 [00:01<00:00, 23.04it/s]\n",
      "100%|██████████| 7/7 [00:00<00:00, 25.23it/s]\n",
      "100%|██████████| 28/28 [00:01<00:00, 22.90it/s]\n",
      "100%|██████████| 7/7 [00:00<00:00, 23.25it/s]\n",
      "100%|██████████| 28/28 [00:01<00:00, 22.90it/s]\n",
      "100%|██████████| 7/7 [00:00<00:00, 23.22it/s]\n",
      "100%|██████████| 28/28 [00:01<00:00, 22.88it/s]\n",
      "100%|██████████| 7/7 [00:00<00:00,  8.53it/s]\n",
      "100%|██████████| 28/28 [00:01<00:00, 22.89it/s]\n",
      "100%|██████████| 7/7 [00:00<00:00, 24.44it/s]\n",
      "100%|██████████| 28/28 [00:01<00:00, 22.88it/s]\n",
      "100%|██████████| 7/7 [00:00<00:00,  8.77it/s]\n",
      "100%|██████████| 28/28 [00:01<00:00, 22.78it/s]\n",
      "100%|██████████| 7/7 [00:00<00:00, 24.23it/s]\n",
      "100%|██████████| 28/28 [00:01<00:00, 22.80it/s]\n",
      "100%|██████████| 7/7 [00:00<00:00, 24.30it/s]\n",
      "100%|██████████| 28/28 [00:01<00:00, 22.84it/s]\n",
      "100%|██████████| 7/7 [00:00<00:00,  8.86it/s]\n",
      " 68%|██████▊   | 19/28 [00:00<00:00, 18.41it/s]"
     ]
    },
    {
     "name": "stdout",
     "output_type": "stream",
     "text": [
      "Epoch: 140 (15/28)\n",
      "\tData load time: 0.144 sec\n",
      "\tGeneration time: 0.155 sec\n",
      "\tBackprop time: 0.174 sec\n",
      "\tLog probability: -10.4997 (avg -8.1886)\n",
      "\tKL: 127.6724 (avg 182.7664)\n",
      "\tLoss: 138.1721 (avg 190.9550)\n"
     ]
    },
    {
     "name": "stderr",
     "output_type": "stream",
     "text": [
      "100%|██████████| 28/28 [00:01<00:00, 22.88it/s]\n",
      "100%|██████████| 7/7 [00:00<00:00, 24.37it/s]\n",
      "  0%|          | 0/28 [00:00<?, ?it/s]"
     ]
    },
    {
     "name": "stdout",
     "output_type": "stream",
     "text": [
      "VALIDATION\n",
      "Epoch: 140 (7/7)\n",
      "\tData load time: 0.145 sec\n",
      "\tGeneration time: 0.152 sec\n",
      "\tLog probability: -25.8449 (avg -26.5796)\n",
      "\tKL: 36.6430 (avg 35.3491)\n",
      "\tLoss: 62.4878 (avg 61.9287)\n"
     ]
    },
    {
     "name": "stderr",
     "output_type": "stream",
     "text": [
      "100%|██████████| 28/28 [00:01<00:00, 22.81it/s]\n",
      "100%|██████████| 7/7 [00:00<00:00, 23.84it/s]\n",
      "100%|██████████| 28/28 [00:01<00:00, 23.02it/s]\n",
      "100%|██████████| 7/7 [00:00<00:00, 25.00it/s]\n",
      "100%|██████████| 28/28 [00:01<00:00, 23.01it/s]\n",
      "100%|██████████| 7/7 [00:00<00:00,  8.76it/s]\n",
      "100%|██████████| 28/28 [00:01<00:00, 22.86it/s]\n",
      "100%|██████████| 7/7 [00:00<00:00, 24.84it/s]\n",
      "100%|██████████| 28/28 [00:01<00:00, 22.75it/s]\n",
      "100%|██████████| 7/7 [00:00<00:00,  9.76it/s]\n",
      "100%|██████████| 28/28 [00:01<00:00, 22.94it/s]\n",
      "100%|██████████| 7/7 [00:00<00:00, 24.33it/s]\n",
      "100%|██████████| 28/28 [00:01<00:00, 22.78it/s]\n",
      "100%|██████████| 7/7 [00:00<00:00,  8.91it/s]\n",
      "100%|██████████| 28/28 [00:01<00:00, 22.77it/s]\n",
      "100%|██████████| 7/7 [00:00<00:00, 24.17it/s]\n",
      "100%|██████████| 28/28 [00:01<00:00, 23.15it/s]\n",
      "100%|██████████| 7/7 [00:00<00:00, 10.11it/s]\n",
      " 68%|██████▊   | 19/28 [00:00<00:00, 18.86it/s]"
     ]
    },
    {
     "name": "stdout",
     "output_type": "stream",
     "text": [
      "Epoch: 150 (15/28)\n",
      "\tData load time: 0.131 sec\n",
      "\tGeneration time: 0.145 sec\n",
      "\tBackprop time: 0.162 sec\n",
      "\tLog probability: -12.0909 (avg -4.3463)\n",
      "\tKL: 19.7284 (avg 13.2597)\n",
      "\tLoss: 31.8193 (avg 17.6061)\n"
     ]
    },
    {
     "name": "stderr",
     "output_type": "stream",
     "text": [
      "100%|██████████| 28/28 [00:01<00:00, 22.76it/s]\n",
      "100%|██████████| 7/7 [00:00<00:00,  7.40it/s]\n",
      "  0%|          | 0/28 [00:00<?, ?it/s]"
     ]
    },
    {
     "name": "stdout",
     "output_type": "stream",
     "text": [
      "VALIDATION\n",
      "Epoch: 150 (7/7)\n",
      "\tData load time: 0.169 sec\n",
      "\tGeneration time: 0.178 sec\n",
      "\tLog probability: -1.9643 (avg -2.6776)\n",
      "\tKL: 10.1819 (avg 9.4831)\n",
      "\tLoss: 12.1462 (avg 12.1608)\n"
     ]
    },
    {
     "name": "stderr",
     "output_type": "stream",
     "text": [
      "100%|██████████| 28/28 [00:01<00:00, 22.61it/s]\n",
      "100%|██████████| 7/7 [00:00<00:00,  8.19it/s]\n",
      "100%|██████████| 28/28 [00:01<00:00, 22.35it/s]\n",
      "100%|██████████| 7/7 [00:00<00:00, 24.75it/s]\n",
      "100%|██████████| 28/28 [00:01<00:00, 22.99it/s]\n",
      "100%|██████████| 7/7 [00:00<00:00,  9.64it/s]\n",
      "100%|██████████| 28/28 [00:01<00:00, 22.87it/s]\n",
      "100%|██████████| 7/7 [00:00<00:00, 24.49it/s]\n",
      "100%|██████████| 28/28 [00:01<00:00, 22.73it/s]\n",
      "100%|██████████| 7/7 [00:00<00:00, 24.60it/s]\n",
      "100%|██████████| 28/28 [00:01<00:00, 23.01it/s]\n",
      "100%|██████████| 7/7 [00:00<00:00, 24.45it/s]\n",
      "100%|██████████| 28/28 [00:01<00:00, 22.81it/s]\n",
      "100%|██████████| 7/7 [00:00<00:00, 24.90it/s]\n",
      "100%|██████████| 28/28 [00:01<00:00, 22.85it/s]\n",
      "100%|██████████| 7/7 [00:00<00:00, 24.86it/s]\n",
      "100%|██████████| 28/28 [00:01<00:00, 22.80it/s]\n",
      "100%|██████████| 7/7 [00:00<00:00,  9.79it/s]\n",
      " 68%|██████▊   | 19/28 [00:00<00:00, 18.51it/s]"
     ]
    },
    {
     "name": "stdout",
     "output_type": "stream",
     "text": [
      "Epoch: 160 (15/28)\n",
      "\tData load time: 0.141 sec\n",
      "\tGeneration time: 0.151 sec\n",
      "\tBackprop time: 0.170 sec\n",
      "\tLog probability: -5.2713 (avg -7.2718)\n",
      "\tKL: 17.2141 (avg 18.4426)\n",
      "\tLoss: 22.4855 (avg 25.7144)\n"
     ]
    },
    {
     "name": "stderr",
     "output_type": "stream",
     "text": [
      "100%|██████████| 28/28 [00:01<00:00, 22.95it/s]\n",
      "100%|██████████| 7/7 [00:00<00:00,  9.18it/s]\n",
      "  0%|          | 0/28 [00:00<?, ?it/s]"
     ]
    },
    {
     "name": "stdout",
     "output_type": "stream",
     "text": [
      "VALIDATION\n",
      "Epoch: 160 (7/7)\n",
      "\tData load time: 0.132 sec\n",
      "\tGeneration time: 0.141 sec\n",
      "\tLog probability: -2.7088 (avg -2.6036)\n",
      "\tKL: 22.0628 (avg 25.0118)\n",
      "\tLoss: 24.7716 (avg 27.6154)\n"
     ]
    },
    {
     "name": "stderr",
     "output_type": "stream",
     "text": [
      "100%|██████████| 28/28 [00:01<00:00, 22.97it/s]\n",
      "100%|██████████| 7/7 [00:00<00:00, 24.88it/s]\n",
      "100%|██████████| 28/28 [00:01<00:00, 23.16it/s]\n",
      "100%|██████████| 7/7 [00:00<00:00, 24.59it/s]\n",
      "100%|██████████| 28/28 [00:01<00:00, 22.76it/s]\n",
      "100%|██████████| 7/7 [00:00<00:00, 24.87it/s]\n",
      "100%|██████████| 28/28 [00:01<00:00, 22.80it/s]\n",
      "100%|██████████| 7/7 [00:00<00:00,  9.63it/s]\n",
      "100%|██████████| 28/28 [00:01<00:00, 22.92it/s]\n",
      "100%|██████████| 7/7 [00:00<00:00,  8.83it/s]\n",
      "100%|██████████| 28/28 [00:01<00:00, 22.82it/s]\n",
      "100%|██████████| 7/7 [00:00<00:00, 24.52it/s]\n",
      "100%|██████████| 28/28 [00:01<00:00, 23.10it/s]\n",
      "100%|██████████| 7/7 [00:00<00:00,  8.63it/s]\n",
      "100%|██████████| 28/28 [00:01<00:00, 22.88it/s]\n",
      "100%|██████████| 7/7 [00:00<00:00,  9.49it/s]\n",
      "100%|██████████| 28/28 [00:01<00:00, 22.90it/s]\n",
      "100%|██████████| 7/7 [00:00<00:00,  8.76it/s]\n",
      "  0%|          | 0/28 [00:00<?, ?it/s]"
     ]
    },
    {
     "name": "stdout",
     "output_type": "stream",
     "text": [
      "Saving checkpoint..\n",
      "Lowest validation loss: 9.2491\n"
     ]
    },
    {
     "name": "stderr",
     "output_type": "stream",
     "text": [
      " 68%|██████▊   | 19/28 [00:00<00:00, 18.15it/s]"
     ]
    },
    {
     "name": "stdout",
     "output_type": "stream",
     "text": [
      "Epoch: 170 (15/28)\n",
      "\tData load time: 0.147 sec\n",
      "\tGeneration time: 0.159 sec\n",
      "\tBackprop time: 0.180 sec\n",
      "\tLog probability: -2.4760 (avg -3.6302)\n",
      "\tKL: 9.5234 (avg 10.0083)\n",
      "\tLoss: 11.9994 (avg 13.6385)\n"
     ]
    },
    {
     "name": "stderr",
     "output_type": "stream",
     "text": [
      "100%|██████████| 28/28 [00:01<00:00, 22.77it/s]\n",
      "100%|██████████| 7/7 [00:00<00:00, 24.43it/s]\n",
      "  0%|          | 0/28 [00:00<?, ?it/s]"
     ]
    },
    {
     "name": "stdout",
     "output_type": "stream",
     "text": [
      "VALIDATION\n",
      "Epoch: 170 (7/7)\n",
      "\tData load time: 0.147 sec\n",
      "\tGeneration time: 0.153 sec\n",
      "\tLog probability: -2.8765 (avg -4.2275)\n",
      "\tKL: 7.3902 (avg 7.3147)\n",
      "\tLoss: 10.2667 (avg 11.5422)\n"
     ]
    },
    {
     "name": "stderr",
     "output_type": "stream",
     "text": [
      "100%|██████████| 28/28 [00:01<00:00, 22.60it/s]\n",
      "100%|██████████| 7/7 [00:00<00:00, 23.72it/s]\n",
      "  0%|          | 0/28 [00:00<?, ?it/s]"
     ]
    },
    {
     "name": "stdout",
     "output_type": "stream",
     "text": [
      "Saving checkpoint..\n",
      "Lowest validation loss: 9.1067\n"
     ]
    },
    {
     "name": "stderr",
     "output_type": "stream",
     "text": [
      "100%|██████████| 28/28 [00:01<00:00, 22.82it/s]\n",
      "100%|██████████| 7/7 [00:00<00:00, 24.92it/s]\n",
      "  0%|          | 0/28 [00:00<?, ?it/s]"
     ]
    },
    {
     "name": "stdout",
     "output_type": "stream",
     "text": [
      "Saving checkpoint..\n",
      "Lowest validation loss: 8.8120\n"
     ]
    },
    {
     "name": "stderr",
     "output_type": "stream",
     "text": [
      "100%|██████████| 28/28 [00:01<00:00, 22.77it/s]\n",
      "100%|██████████| 7/7 [00:00<00:00, 25.16it/s]\n",
      "100%|██████████| 28/28 [00:01<00:00, 23.17it/s]\n",
      "100%|██████████| 7/7 [00:00<00:00, 24.62it/s]\n",
      "100%|██████████| 28/28 [00:01<00:00, 22.75it/s]\n",
      "100%|██████████| 7/7 [00:00<00:00, 24.72it/s]\n",
      "100%|██████████| 28/28 [00:01<00:00, 22.80it/s]\n",
      "100%|██████████| 7/7 [00:00<00:00,  9.39it/s]\n",
      "100%|██████████| 28/28 [00:01<00:00, 22.88it/s]\n",
      "100%|██████████| 7/7 [00:00<00:00, 24.46it/s]\n",
      "100%|██████████| 28/28 [00:01<00:00, 22.97it/s]\n",
      "100%|██████████| 7/7 [00:00<00:00,  9.58it/s]\n",
      "100%|██████████| 28/28 [00:01<00:00, 22.93it/s]\n",
      "100%|██████████| 7/7 [00:00<00:00,  8.73it/s]\n",
      " 68%|██████▊   | 19/28 [00:00<00:00, 18.40it/s]"
     ]
    },
    {
     "name": "stdout",
     "output_type": "stream",
     "text": [
      "Epoch: 180 (15/28)\n",
      "\tData load time: 0.142 sec\n",
      "\tGeneration time: 0.154 sec\n",
      "\tBackprop time: 0.174 sec\n",
      "\tLog probability: -7.3699 (avg -5.7146)\n",
      "\tKL: 10.9832 (avg 15.7789)\n",
      "\tLoss: 18.3531 (avg 21.4935)\n"
     ]
    },
    {
     "name": "stderr",
     "output_type": "stream",
     "text": [
      "100%|██████████| 28/28 [00:01<00:00, 22.88it/s]\n",
      "100%|██████████| 7/7 [00:00<00:00, 24.03it/s]\n",
      "  0%|          | 0/28 [00:00<?, ?it/s]"
     ]
    },
    {
     "name": "stdout",
     "output_type": "stream",
     "text": [
      "VALIDATION\n",
      "Epoch: 180 (7/7)\n",
      "\tData load time: 0.143 sec\n",
      "\tGeneration time: 0.151 sec\n",
      "\tLog probability: -2.9955 (avg -3.0477)\n",
      "\tKL: 15.4139 (avg 14.6187)\n",
      "\tLoss: 18.4094 (avg 17.6665)\n"
     ]
    },
    {
     "name": "stderr",
     "output_type": "stream",
     "text": [
      "100%|██████████| 28/28 [00:01<00:00, 22.92it/s]\n",
      "100%|██████████| 7/7 [00:00<00:00,  8.64it/s]\n",
      "100%|██████████| 28/28 [00:01<00:00, 22.85it/s]\n",
      "100%|██████████| 7/7 [00:00<00:00, 24.71it/s]\n",
      "100%|██████████| 28/28 [00:01<00:00, 22.80it/s]\n",
      "100%|██████████| 7/7 [00:00<00:00,  8.30it/s]\n",
      "100%|██████████| 28/28 [00:01<00:00, 23.01it/s]\n",
      "100%|██████████| 7/7 [00:00<00:00,  8.75it/s]\n",
      "100%|██████████| 28/28 [00:01<00:00, 22.77it/s]\n",
      "100%|██████████| 7/7 [00:00<00:00, 23.31it/s]\n",
      "100%|██████████| 28/28 [00:01<00:00, 23.23it/s]\n",
      "100%|██████████| 7/7 [00:00<00:00, 24.48it/s]\n",
      "100%|██████████| 28/28 [00:01<00:00, 22.68it/s]\n",
      "100%|██████████| 7/7 [00:00<00:00,  8.47it/s]\n",
      "100%|██████████| 28/28 [00:01<00:00, 22.90it/s]\n",
      "100%|██████████| 7/7 [00:00<00:00, 24.57it/s]\n",
      "100%|██████████| 28/28 [00:01<00:00, 23.05it/s]\n",
      "100%|██████████| 7/7 [00:00<00:00,  9.05it/s]\n",
      " 68%|██████▊   | 19/28 [00:00<00:00, 18.24it/s]"
     ]
    },
    {
     "name": "stdout",
     "output_type": "stream",
     "text": [
      "Epoch: 190 (15/28)\n",
      "\tData load time: 0.148 sec\n",
      "\tGeneration time: 0.156 sec\n",
      "\tBackprop time: 0.177 sec\n",
      "\tLog probability: -2.5753 (avg -3.8662)\n",
      "\tKL: 8.6533 (avg 9.7997)\n",
      "\tLoss: 11.2286 (avg 13.6659)\n"
     ]
    },
    {
     "name": "stderr",
     "output_type": "stream",
     "text": [
      "100%|██████████| 28/28 [00:01<00:00, 22.80it/s]\n",
      "100%|██████████| 7/7 [00:00<00:00,  9.76it/s]\n",
      "  0%|          | 0/28 [00:00<?, ?it/s]"
     ]
    },
    {
     "name": "stdout",
     "output_type": "stream",
     "text": [
      "VALIDATION\n",
      "Epoch: 190 (7/7)\n",
      "\tData load time: 0.121 sec\n",
      "\tGeneration time: 0.132 sec\n",
      "\tLog probability: -1.4633 (avg -2.8186)\n",
      "\tKL: 6.1199 (avg 7.0746)\n",
      "\tLoss: 7.5832 (avg 9.8932)\n"
     ]
    },
    {
     "name": "stderr",
     "output_type": "stream",
     "text": [
      "100%|██████████| 28/28 [00:01<00:00, 22.99it/s]\n",
      "100%|██████████| 7/7 [00:00<00:00,  8.83it/s]\n",
      "100%|██████████| 28/28 [00:01<00:00, 23.17it/s]\n",
      "100%|██████████| 7/7 [00:00<00:00, 23.42it/s]\n",
      "100%|██████████| 28/28 [00:01<00:00, 22.87it/s]\n",
      "100%|██████████| 7/7 [00:00<00:00,  8.94it/s]\n",
      "  0%|          | 0/28 [00:00<?, ?it/s]"
     ]
    },
    {
     "name": "stdout",
     "output_type": "stream",
     "text": [
      "Saving checkpoint..\n",
      "Lowest validation loss: 8.7357\n"
     ]
    },
    {
     "name": "stderr",
     "output_type": "stream",
     "text": [
      "100%|██████████| 28/28 [00:01<00:00, 22.64it/s]\n",
      "100%|██████████| 7/7 [00:00<00:00, 24.95it/s]\n",
      "  0%|          | 0/28 [00:00<?, ?it/s]"
     ]
    },
    {
     "name": "stdout",
     "output_type": "stream",
     "text": [
      "Saving checkpoint..\n",
      "Lowest validation loss: 8.4746\n"
     ]
    },
    {
     "name": "stderr",
     "output_type": "stream",
     "text": [
      "100%|██████████| 28/28 [00:01<00:00, 22.80it/s]\n",
      "100%|██████████| 7/7 [00:00<00:00,  9.04it/s]\n",
      "100%|██████████| 28/28 [00:01<00:00, 22.81it/s]\n",
      "100%|██████████| 7/7 [00:00<00:00, 24.73it/s]\n",
      "100%|██████████| 28/28 [00:01<00:00, 22.80it/s]\n",
      "100%|██████████| 7/7 [00:00<00:00, 23.94it/s]\n",
      "100%|██████████| 28/28 [00:01<00:00, 22.73it/s]\n",
      "100%|██████████| 7/7 [00:00<00:00, 24.20it/s]\n",
      "100%|██████████| 28/28 [00:01<00:00, 22.70it/s]\n",
      "100%|██████████| 7/7 [00:00<00:00,  8.85it/s]\n",
      " 68%|██████▊   | 19/28 [00:00<00:00, 18.52it/s]"
     ]
    },
    {
     "name": "stdout",
     "output_type": "stream",
     "text": [
      "Epoch: 200 (15/28)\n",
      "\tData load time: 0.143 sec\n",
      "\tGeneration time: 0.151 sec\n",
      "\tBackprop time: 0.171 sec\n",
      "\tLog probability: -4.0416 (avg -4.5244)\n",
      "\tKL: 8.6736 (avg 13.6043)\n",
      "\tLoss: 12.7152 (avg 18.1287)\n"
     ]
    },
    {
     "name": "stderr",
     "output_type": "stream",
     "text": [
      "100%|██████████| 28/28 [00:01<00:00, 22.90it/s]\n",
      "100%|██████████| 7/7 [00:00<00:00,  9.68it/s]\n",
      "  0%|          | 0/28 [00:00<?, ?it/s]"
     ]
    },
    {
     "name": "stdout",
     "output_type": "stream",
     "text": [
      "VALIDATION\n",
      "Epoch: 200 (7/7)\n",
      "\tData load time: 0.124 sec\n",
      "\tGeneration time: 0.133 sec\n",
      "\tLog probability: -3.9722 (avg -4.0180)\n",
      "\tKL: 6.2367 (avg 6.6062)\n",
      "\tLoss: 10.2089 (avg 10.6242)\n"
     ]
    },
    {
     "name": "stderr",
     "output_type": "stream",
     "text": [
      "100%|██████████| 28/28 [00:01<00:00, 22.71it/s]\n",
      "100%|██████████| 7/7 [00:00<00:00, 24.48it/s]\n",
      "100%|██████████| 28/28 [00:01<00:00, 22.87it/s]\n",
      "100%|██████████| 7/7 [00:00<00:00, 24.12it/s]\n",
      "100%|██████████| 28/28 [00:01<00:00, 22.84it/s]\n",
      "100%|██████████| 7/7 [00:00<00:00, 24.48it/s]\n",
      "100%|██████████| 28/28 [00:01<00:00, 22.87it/s]\n",
      "100%|██████████| 7/7 [00:00<00:00,  9.00it/s]\n",
      "100%|██████████| 28/28 [00:01<00:00, 22.76it/s]\n",
      "100%|██████████| 7/7 [00:00<00:00, 24.27it/s]\n",
      "100%|██████████| 28/28 [00:01<00:00, 22.75it/s]\n",
      "100%|██████████| 7/7 [00:00<00:00,  8.66it/s]\n",
      "100%|██████████| 28/28 [00:01<00:00, 22.66it/s]\n",
      "100%|██████████| 7/7 [00:00<00:00,  8.52it/s]\n",
      "100%|██████████| 28/28 [00:01<00:00, 22.72it/s]\n",
      "100%|██████████| 7/7 [00:00<00:00, 24.85it/s]\n",
      "100%|██████████| 28/28 [00:01<00:00, 22.82it/s]\n",
      "100%|██████████| 7/7 [00:00<00:00, 23.83it/s]\n",
      " 68%|██████▊   | 19/28 [00:00<00:00, 18.86it/s]"
     ]
    },
    {
     "name": "stdout",
     "output_type": "stream",
     "text": [
      "Epoch: 210 (15/28)\n",
      "\tData load time: 0.130 sec\n",
      "\tGeneration time: 0.141 sec\n",
      "\tBackprop time: 0.160 sec\n",
      "\tLog probability: -1.9037 (avg -3.0124)\n",
      "\tKL: 7.3442 (avg 8.7368)\n",
      "\tLoss: 9.2479 (avg 11.7492)\n"
     ]
    },
    {
     "name": "stderr",
     "output_type": "stream",
     "text": [
      "100%|██████████| 28/28 [00:01<00:00, 23.12it/s]\n",
      "100%|██████████| 7/7 [00:00<00:00,  8.70it/s]\n",
      "  0%|          | 0/28 [00:00<?, ?it/s]"
     ]
    },
    {
     "name": "stdout",
     "output_type": "stream",
     "text": [
      "VALIDATION\n",
      "Epoch: 210 (7/7)\n",
      "\tData load time: 0.143 sec\n",
      "\tGeneration time: 0.149 sec\n",
      "\tLog probability: -1.6304 (avg -2.0551)\n",
      "\tKL: 6.5544 (avg 6.6174)\n",
      "\tLoss: 8.1849 (avg 8.6724)\n"
     ]
    },
    {
     "name": "stderr",
     "output_type": "stream",
     "text": [
      "100%|██████████| 28/28 [00:01<00:00, 22.88it/s]\n",
      "100%|██████████| 7/7 [00:00<00:00,  9.22it/s]\n",
      "  0%|          | 0/28 [00:00<?, ?it/s]"
     ]
    },
    {
     "name": "stdout",
     "output_type": "stream",
     "text": [
      "Saving checkpoint..\n",
      "Lowest validation loss: 8.0562\n"
     ]
    },
    {
     "name": "stderr",
     "output_type": "stream",
     "text": [
      "100%|██████████| 28/28 [00:01<00:00, 22.91it/s]\n",
      "100%|██████████| 7/7 [00:00<00:00, 23.67it/s]\n",
      "  0%|          | 0/28 [00:00<?, ?it/s]"
     ]
    },
    {
     "name": "stdout",
     "output_type": "stream",
     "text": [
      "Saving checkpoint..\n",
      "Lowest validation loss: 7.9230\n"
     ]
    },
    {
     "name": "stderr",
     "output_type": "stream",
     "text": [
      "100%|██████████| 28/28 [00:01<00:00, 21.91it/s]\n",
      "100%|██████████| 7/7 [00:00<00:00,  9.55it/s]\n",
      "100%|██████████| 28/28 [00:01<00:00, 22.76it/s]\n",
      "100%|██████████| 7/7 [00:00<00:00, 24.32it/s]\n"
     ]
    },
    {
     "name": "stdout",
     "output_type": "stream",
     "text": [
      "Saving checkpoint..\n"
     ]
    },
    {
     "name": "stderr",
     "output_type": "stream",
     "text": [
      "  0%|          | 0/28 [00:00<?, ?it/s]"
     ]
    },
    {
     "name": "stdout",
     "output_type": "stream",
     "text": [
      "Lowest validation loss: 7.6105\n"
     ]
    },
    {
     "name": "stderr",
     "output_type": "stream",
     "text": [
      "100%|██████████| 28/28 [00:01<00:00, 22.78it/s]\n",
      "100%|██████████| 7/7 [00:00<00:00, 24.40it/s]\n",
      "100%|██████████| 28/28 [00:01<00:00, 23.14it/s]\n",
      "100%|██████████| 7/7 [00:00<00:00,  9.02it/s]\n",
      "100%|██████████| 28/28 [00:01<00:00, 23.04it/s]\n",
      "100%|██████████| 7/7 [00:00<00:00,  8.70it/s]\n",
      "100%|██████████| 28/28 [00:01<00:00, 22.96it/s]\n",
      "100%|██████████| 7/7 [00:00<00:00, 24.45it/s]\n",
      "100%|██████████| 28/28 [00:01<00:00, 22.87it/s]\n",
      "100%|██████████| 7/7 [00:00<00:00, 24.50it/s]\n",
      " 68%|██████▊   | 19/28 [00:00<00:00, 18.43it/s]"
     ]
    },
    {
     "name": "stdout",
     "output_type": "stream",
     "text": [
      "Epoch: 220 (15/28)\n",
      "\tData load time: 0.144 sec\n",
      "\tGeneration time: 0.152 sec\n",
      "\tBackprop time: 0.173 sec\n",
      "\tLog probability: -2.7269 (avg -6.4153)\n",
      "\tKL: 42.5212 (avg 47.3051)\n",
      "\tLoss: 45.2482 (avg 53.7204)\n"
     ]
    },
    {
     "name": "stderr",
     "output_type": "stream",
     "text": [
      "100%|██████████| 28/28 [00:01<00:00, 22.88it/s]\n",
      "100%|██████████| 7/7 [00:00<00:00,  8.78it/s]\n",
      "  0%|          | 0/28 [00:00<?, ?it/s]"
     ]
    },
    {
     "name": "stdout",
     "output_type": "stream",
     "text": [
      "VALIDATION\n",
      "Epoch: 220 (7/7)\n",
      "\tData load time: 0.140 sec\n",
      "\tGeneration time: 0.148 sec\n",
      "\tLog probability: -3.4500 (avg -3.1025)\n",
      "\tKL: 32.7265 (avg 33.0591)\n",
      "\tLoss: 36.1765 (avg 36.1616)\n"
     ]
    },
    {
     "name": "stderr",
     "output_type": "stream",
     "text": [
      "100%|██████████| 28/28 [00:01<00:00, 22.78it/s]\n",
      "100%|██████████| 7/7 [00:00<00:00,  8.76it/s]\n",
      "100%|██████████| 28/28 [00:01<00:00, 22.78it/s]\n",
      "100%|██████████| 7/7 [00:00<00:00,  9.31it/s]\n",
      "100%|██████████| 28/28 [00:01<00:00, 22.92it/s]\n",
      "100%|██████████| 7/7 [00:00<00:00, 24.68it/s]\n",
      "100%|██████████| 28/28 [00:01<00:00, 22.80it/s]\n",
      "100%|██████████| 7/7 [00:00<00:00, 24.48it/s]\n",
      "100%|██████████| 28/28 [00:01<00:00, 23.10it/s]\n",
      "100%|██████████| 7/7 [00:00<00:00, 23.63it/s]\n",
      "100%|██████████| 28/28 [00:01<00:00, 22.96it/s]\n",
      "100%|██████████| 7/7 [00:00<00:00, 24.76it/s]\n",
      "100%|██████████| 28/28 [00:01<00:00, 22.78it/s]\n",
      "100%|██████████| 7/7 [00:00<00:00, 24.72it/s]\n",
      "100%|██████████| 28/28 [00:01<00:00, 22.86it/s]\n",
      "100%|██████████| 7/7 [00:00<00:00,  9.66it/s]\n",
      "100%|██████████| 28/28 [00:01<00:00, 22.74it/s]\n",
      "100%|██████████| 7/7 [00:00<00:00,  9.06it/s]\n",
      " 68%|██████▊   | 19/28 [00:00<00:00, 18.17it/s]"
     ]
    },
    {
     "name": "stdout",
     "output_type": "stream",
     "text": [
      "Epoch: 230 (15/28)\n",
      "\tData load time: 0.147 sec\n",
      "\tGeneration time: 0.156 sec\n",
      "\tBackprop time: 0.178 sec\n",
      "\tLog probability: -1.6745 (avg -2.7286)\n",
      "\tKL: 8.2179 (avg 10.4920)\n",
      "\tLoss: 9.8923 (avg 13.2205)\n"
     ]
    },
    {
     "name": "stderr",
     "output_type": "stream",
     "text": [
      "100%|██████████| 28/28 [00:01<00:00, 22.76it/s]\n",
      "100%|██████████| 7/7 [00:00<00:00,  9.43it/s]\n",
      "  0%|          | 0/28 [00:00<?, ?it/s]"
     ]
    },
    {
     "name": "stdout",
     "output_type": "stream",
     "text": [
      "VALIDATION\n",
      "Epoch: 230 (7/7)\n",
      "\tData load time: 0.127 sec\n",
      "\tGeneration time: 0.136 sec\n",
      "\tLog probability: -1.5670 (avg -1.7451)\n",
      "\tKL: 7.9397 (avg 8.3048)\n",
      "\tLoss: 9.5067 (avg 10.0498)\n"
     ]
    },
    {
     "name": "stderr",
     "output_type": "stream",
     "text": [
      "100%|██████████| 28/28 [00:01<00:00, 22.62it/s]\n",
      "100%|██████████| 7/7 [00:00<00:00, 24.59it/s]\n",
      "100%|██████████| 28/28 [00:01<00:00, 22.72it/s]\n",
      "100%|██████████| 7/7 [00:00<00:00, 24.22it/s]\n",
      "100%|██████████| 28/28 [00:01<00:00, 23.17it/s]\n",
      "100%|██████████| 7/7 [00:00<00:00, 24.57it/s]\n",
      "100%|██████████| 28/28 [00:01<00:00, 22.66it/s]\n",
      "100%|██████████| 7/7 [00:00<00:00, 24.89it/s]\n",
      "100%|██████████| 28/28 [00:01<00:00, 23.01it/s]\n",
      "100%|██████████| 7/7 [00:00<00:00,  8.55it/s]\n",
      "100%|██████████| 28/28 [00:01<00:00, 22.76it/s]\n",
      "100%|██████████| 7/7 [00:00<00:00,  9.95it/s]\n",
      "100%|██████████| 28/28 [00:01<00:00, 22.85it/s]\n",
      "100%|██████████| 7/7 [00:00<00:00, 24.84it/s]\n",
      "100%|██████████| 28/28 [00:01<00:00, 22.96it/s]\n",
      "100%|██████████| 7/7 [00:00<00:00, 24.63it/s]\n",
      "100%|██████████| 28/28 [00:01<00:00, 23.11it/s]\n",
      "100%|██████████| 7/7 [00:00<00:00, 24.28it/s]\n",
      " 68%|██████▊   | 19/28 [00:00<00:00, 18.25it/s]"
     ]
    },
    {
     "name": "stdout",
     "output_type": "stream",
     "text": [
      "Epoch: 240 (15/28)\n",
      "\tData load time: 0.147 sec\n",
      "\tGeneration time: 0.158 sec\n",
      "\tBackprop time: 0.177 sec\n",
      "\tLog probability: -5.2727 (avg -6.6705)\n",
      "\tKL: 36.6937 (avg 23.4986)\n",
      "\tLoss: 41.9664 (avg 30.1691)\n"
     ]
    },
    {
     "name": "stderr",
     "output_type": "stream",
     "text": [
      "100%|██████████| 28/28 [00:01<00:00, 22.83it/s]\n",
      "100%|██████████| 7/7 [00:00<00:00, 23.75it/s]\n",
      "  0%|          | 0/28 [00:00<?, ?it/s]"
     ]
    },
    {
     "name": "stdout",
     "output_type": "stream",
     "text": [
      "VALIDATION\n",
      "Epoch: 240 (7/7)\n",
      "\tData load time: 0.151 sec\n",
      "\tGeneration time: 0.157 sec\n",
      "\tLog probability: -2.4749 (avg -3.1770)\n",
      "\tKL: 15.2939 (avg 14.5695)\n",
      "\tLoss: 17.7688 (avg 17.7465)\n"
     ]
    },
    {
     "name": "stderr",
     "output_type": "stream",
     "text": [
      "100%|██████████| 28/28 [00:01<00:00, 22.96it/s]\n",
      "100%|██████████| 7/7 [00:00<00:00, 24.68it/s]\n",
      "100%|██████████| 28/28 [00:01<00:00, 22.70it/s]\n",
      "100%|██████████| 7/7 [00:00<00:00, 24.47it/s]\n",
      "100%|██████████| 28/28 [00:01<00:00, 22.89it/s]\n",
      "100%|██████████| 7/7 [00:00<00:00, 24.75it/s]\n",
      "100%|██████████| 28/28 [00:01<00:00, 22.87it/s]\n",
      "100%|██████████| 7/7 [00:00<00:00,  8.86it/s]\n",
      "100%|██████████| 28/28 [00:01<00:00, 22.90it/s]\n",
      "100%|██████████| 7/7 [00:00<00:00, 24.13it/s]\n",
      "100%|██████████| 28/28 [00:01<00:00, 22.76it/s]\n",
      "100%|██████████| 7/7 [00:00<00:00,  9.26it/s]\n",
      "100%|██████████| 28/28 [00:01<00:00, 22.87it/s]\n",
      "100%|██████████| 7/7 [00:00<00:00, 24.65it/s]\n",
      "100%|██████████| 28/28 [00:01<00:00, 22.87it/s]\n",
      "100%|██████████| 7/7 [00:00<00:00, 23.89it/s]\n",
      "100%|██████████| 28/28 [00:01<00:00, 22.98it/s]\n",
      "100%|██████████| 7/7 [00:00<00:00,  8.50it/s]\n",
      "  0%|          | 0/28 [00:00<?, ?it/s]"
     ]
    },
    {
     "name": "stdout",
     "output_type": "stream",
     "text": [
      "Saving checkpoint..\n",
      "Lowest validation loss: 7.3307\n"
     ]
    },
    {
     "name": "stderr",
     "output_type": "stream",
     "text": [
      " 68%|██████▊   | 19/28 [00:00<00:00, 18.05it/s]"
     ]
    },
    {
     "name": "stdout",
     "output_type": "stream",
     "text": [
      "Epoch: 250 (15/28)\n",
      "\tData load time: 0.153 sec\n",
      "\tGeneration time: 0.164 sec\n",
      "\tBackprop time: 0.183 sec\n",
      "\tLog probability: -3.1103 (avg -3.7461)\n",
      "\tKL: 7.2245 (avg 7.4492)\n",
      "\tLoss: 10.3348 (avg 11.1953)\n"
     ]
    },
    {
     "name": "stderr",
     "output_type": "stream",
     "text": [
      "100%|██████████| 28/28 [00:01<00:00, 22.68it/s]\n",
      "100%|██████████| 7/7 [00:00<00:00, 23.67it/s]\n",
      "  0%|          | 0/28 [00:00<?, ?it/s]"
     ]
    },
    {
     "name": "stdout",
     "output_type": "stream",
     "text": [
      "VALIDATION\n",
      "Epoch: 250 (7/7)\n",
      "\tData load time: 0.155 sec\n",
      "\tGeneration time: 0.161 sec\n",
      "\tLog probability: -2.0732 (avg -1.9473)\n",
      "\tKL: 5.2164 (avg 5.4460)\n",
      "\tLoss: 7.2896 (avg 7.3933)\n"
     ]
    },
    {
     "name": "stderr",
     "output_type": "stream",
     "text": [
      "100%|██████████| 28/28 [00:01<00:00, 22.81it/s]\n",
      "100%|██████████| 7/7 [00:00<00:00, 24.55it/s]\n",
      "  0%|          | 0/28 [00:00<?, ?it/s]"
     ]
    },
    {
     "name": "stdout",
     "output_type": "stream",
     "text": [
      "Saving checkpoint..\n",
      "Lowest validation loss: 7.0120\n"
     ]
    },
    {
     "name": "stderr",
     "output_type": "stream",
     "text": [
      "100%|██████████| 28/28 [00:01<00:00, 22.74it/s]\n",
      "100%|██████████| 7/7 [00:00<00:00, 24.31it/s]\n",
      "100%|██████████| 28/28 [00:01<00:00, 22.84it/s]\n",
      "100%|██████████| 7/7 [00:00<00:00, 24.76it/s]\n",
      "100%|██████████| 28/28 [00:01<00:00, 22.87it/s]\n",
      "100%|██████████| 7/7 [00:00<00:00,  9.37it/s]\n",
      "100%|██████████| 28/28 [00:01<00:00, 22.61it/s]\n",
      "100%|██████████| 7/7 [00:00<00:00, 24.31it/s]\n",
      "100%|██████████| 28/28 [00:01<00:00, 22.63it/s]\n",
      "100%|██████████| 7/7 [00:00<00:00,  9.05it/s]\n",
      "100%|██████████| 28/28 [00:01<00:00, 22.80it/s]\n",
      "100%|██████████| 7/7 [00:00<00:00, 24.70it/s]\n",
      "100%|██████████| 28/28 [00:01<00:00, 22.79it/s]\n",
      "100%|██████████| 7/7 [00:00<00:00,  8.84it/s]\n",
      "100%|██████████| 28/28 [00:01<00:00, 23.19it/s]\n",
      "100%|██████████| 7/7 [00:00<00:00, 24.25it/s]\n",
      " 68%|██████▊   | 19/28 [00:00<00:00, 18.53it/s]"
     ]
    },
    {
     "name": "stdout",
     "output_type": "stream",
     "text": [
      "Epoch: 260 (15/28)\n",
      "\tData load time: 0.135 sec\n",
      "\tGeneration time: 0.147 sec\n",
      "\tBackprop time: 0.169 sec\n",
      "\tLog probability: -6.4466 (avg -14.3094)\n",
      "\tKL: 67.7271 (avg 69.0774)\n",
      "\tLoss: 74.1737 (avg 83.3867)\n"
     ]
    },
    {
     "name": "stderr",
     "output_type": "stream",
     "text": [
      "100%|██████████| 28/28 [00:01<00:00, 22.87it/s]\n",
      "100%|██████████| 7/7 [00:00<00:00,  8.90it/s]\n",
      "  0%|          | 0/28 [00:00<?, ?it/s]"
     ]
    },
    {
     "name": "stdout",
     "output_type": "stream",
     "text": [
      "VALIDATION\n",
      "Epoch: 260 (7/7)\n",
      "\tData load time: 0.137 sec\n",
      "\tGeneration time: 0.146 sec\n",
      "\tLog probability: -2.9675 (avg -3.1339)\n",
      "\tKL: 34.0301 (avg 36.0553)\n",
      "\tLoss: 36.9976 (avg 39.1893)\n"
     ]
    },
    {
     "name": "stderr",
     "output_type": "stream",
     "text": [
      "100%|██████████| 28/28 [00:01<00:00, 22.73it/s]\n",
      "100%|██████████| 7/7 [00:00<00:00,  8.90it/s]\n",
      "100%|██████████| 28/28 [00:01<00:00, 22.93it/s]\n",
      "100%|██████████| 7/7 [00:00<00:00,  9.21it/s]\n",
      "100%|██████████| 28/28 [00:01<00:00, 22.83it/s]\n",
      "100%|██████████| 7/7 [00:00<00:00,  8.75it/s]\n",
      "100%|██████████| 28/28 [00:01<00:00, 22.94it/s]\n",
      "100%|██████████| 7/7 [00:00<00:00, 24.12it/s]\n",
      "100%|██████████| 28/28 [00:01<00:00, 22.88it/s]\n",
      "100%|██████████| 7/7 [00:00<00:00,  8.69it/s]\n",
      "100%|██████████| 28/28 [00:01<00:00, 22.87it/s]\n",
      "100%|██████████| 7/7 [00:00<00:00,  8.16it/s]\n",
      "100%|██████████| 28/28 [00:01<00:00, 22.08it/s]\n",
      "100%|██████████| 7/7 [00:00<00:00,  7.76it/s]\n",
      "100%|██████████| 28/28 [00:01<00:00, 22.13it/s]\n",
      "100%|██████████| 7/7 [00:00<00:00, 24.77it/s]\n",
      "100%|██████████| 28/28 [00:01<00:00, 23.12it/s]\n",
      "100%|██████████| 7/7 [00:00<00:00, 24.27it/s]\n",
      " 68%|██████▊   | 19/28 [00:00<00:00, 18.17it/s]"
     ]
    },
    {
     "name": "stdout",
     "output_type": "stream",
     "text": [
      "Epoch: 270 (15/28)\n",
      "\tData load time: 0.149 sec\n",
      "\tGeneration time: 0.158 sec\n",
      "\tBackprop time: 0.179 sec\n",
      "\tLog probability: -2.5658 (avg -3.8251)\n",
      "\tKL: 12.0652 (avg 13.5175)\n",
      "\tLoss: 14.6310 (avg 17.3426)\n"
     ]
    },
    {
     "name": "stderr",
     "output_type": "stream",
     "text": [
      "100%|██████████| 28/28 [00:01<00:00, 22.76it/s]\n",
      "100%|██████████| 7/7 [00:00<00:00, 24.43it/s]\n",
      "  0%|          | 0/28 [00:00<?, ?it/s]"
     ]
    },
    {
     "name": "stdout",
     "output_type": "stream",
     "text": [
      "VALIDATION\n",
      "Epoch: 270 (7/7)\n",
      "\tData load time: 0.139 sec\n",
      "\tGeneration time: 0.147 sec\n",
      "\tLog probability: -2.5387 (avg -2.1983)\n",
      "\tKL: 10.7162 (avg 11.3762)\n",
      "\tLoss: 13.2549 (avg 13.5745)\n"
     ]
    },
    {
     "name": "stderr",
     "output_type": "stream",
     "text": [
      "100%|██████████| 28/28 [00:01<00:00, 22.64it/s]\n",
      "100%|██████████| 7/7 [00:00<00:00, 24.54it/s]\n",
      "100%|██████████| 28/28 [00:01<00:00, 22.91it/s]\n",
      "100%|██████████| 7/7 [00:00<00:00,  8.78it/s]\n",
      "100%|██████████| 28/28 [00:01<00:00, 22.97it/s]\n",
      "100%|██████████| 7/7 [00:00<00:00,  9.06it/s]\n",
      "100%|██████████| 28/28 [00:01<00:00, 22.76it/s]\n",
      "100%|██████████| 7/7 [00:00<00:00, 24.65it/s]\n",
      "100%|██████████| 28/28 [00:01<00:00, 22.69it/s]\n",
      "100%|██████████| 7/7 [00:00<00:00,  8.73it/s]\n",
      "100%|██████████| 28/28 [00:01<00:00, 22.91it/s]\n",
      "100%|██████████| 7/7 [00:00<00:00,  9.94it/s]\n",
      "100%|██████████| 28/28 [00:01<00:00, 22.76it/s]\n",
      "100%|██████████| 7/7 [00:00<00:00,  8.64it/s]\n",
      "100%|██████████| 28/28 [00:01<00:00, 23.18it/s]\n",
      "100%|██████████| 7/7 [00:00<00:00, 23.94it/s]\n",
      "100%|██████████| 28/28 [00:01<00:00, 22.64it/s]\n",
      "100%|██████████| 7/7 [00:00<00:00,  9.88it/s]\n",
      " 68%|██████▊   | 19/28 [00:00<00:00, 18.43it/s]"
     ]
    },
    {
     "name": "stdout",
     "output_type": "stream",
     "text": [
      "Epoch: 280 (15/28)\n",
      "\tData load time: 0.142 sec\n",
      "\tGeneration time: 0.152 sec\n",
      "\tBackprop time: 0.172 sec\n",
      "\tLog probability: -4.0838 (avg -4.2512)\n",
      "\tKL: 16.3022 (avg 19.0341)\n",
      "\tLoss: 20.3860 (avg 23.2853)\n"
     ]
    },
    {
     "name": "stderr",
     "output_type": "stream",
     "text": [
      "100%|██████████| 28/28 [00:01<00:00, 22.87it/s]\n",
      "100%|██████████| 7/7 [00:00<00:00, 24.20it/s]\n",
      "  0%|          | 0/28 [00:00<?, ?it/s]"
     ]
    },
    {
     "name": "stdout",
     "output_type": "stream",
     "text": [
      "VALIDATION\n",
      "Epoch: 280 (7/7)\n",
      "\tData load time: 0.145 sec\n",
      "\tGeneration time: 0.152 sec\n",
      "\tLog probability: -2.4761 (avg -2.3050)\n",
      "\tKL: 13.0193 (avg 14.7209)\n",
      "\tLoss: 15.4954 (avg 17.0260)\n"
     ]
    },
    {
     "name": "stderr",
     "output_type": "stream",
     "text": [
      "100%|██████████| 28/28 [00:01<00:00, 23.17it/s]\n",
      "100%|██████████| 7/7 [00:00<00:00, 24.10it/s]\n",
      "100%|██████████| 28/28 [00:01<00:00, 22.88it/s]\n",
      "100%|██████████| 7/7 [00:00<00:00, 25.41it/s]\n",
      "100%|██████████| 28/28 [00:01<00:00, 22.76it/s]\n",
      "100%|██████████| 7/7 [00:00<00:00, 24.89it/s]\n",
      "100%|██████████| 28/28 [00:01<00:00, 22.97it/s]\n",
      "100%|██████████| 7/7 [00:00<00:00, 24.64it/s]\n",
      "100%|██████████| 28/28 [00:01<00:00, 22.82it/s]\n",
      "100%|██████████| 7/7 [00:00<00:00, 23.94it/s]\n",
      "100%|██████████| 28/28 [00:01<00:00, 22.86it/s]\n",
      "100%|██████████| 7/7 [00:00<00:00,  9.35it/s]\n",
      "100%|██████████| 28/28 [00:01<00:00, 22.67it/s]\n",
      "100%|██████████| 7/7 [00:00<00:00,  8.64it/s]\n",
      "100%|██████████| 28/28 [00:01<00:00, 22.63it/s]\n",
      "100%|██████████| 7/7 [00:00<00:00, 23.90it/s]\n",
      "100%|██████████| 28/28 [00:01<00:00, 22.87it/s]\n",
      "100%|██████████| 7/7 [00:00<00:00, 23.94it/s]\n",
      " 68%|██████▊   | 19/28 [00:00<00:00, 18.46it/s]"
     ]
    },
    {
     "name": "stdout",
     "output_type": "stream",
     "text": [
      "Epoch: 290 (15/28)\n",
      "\tData load time: 0.140 sec\n",
      "\tGeneration time: 0.151 sec\n",
      "\tBackprop time: 0.173 sec\n",
      "\tLog probability: -4.2016 (avg -3.4034)\n",
      "\tKL: 5.2644 (avg 7.1314)\n",
      "\tLoss: 9.4660 (avg 10.5348)\n"
     ]
    },
    {
     "name": "stderr",
     "output_type": "stream",
     "text": [
      "100%|██████████| 28/28 [00:01<00:00, 22.90it/s]\n",
      "100%|██████████| 7/7 [00:00<00:00,  8.60it/s]\n"
     ]
    },
    {
     "name": "stdout",
     "output_type": "stream",
     "text": [
      "VALIDATION\n",
      "Epoch: 290 (7/7)\n",
      "\tData load time: 0.144 sec\n",
      "\tGeneration time: 0.150 sec\n",
      "\tLog probability: -2.0737 (avg -1.9999)\n",
      "\tKL: 4.7660 (avg 4.7914)\n",
      "\tLoss: 6.8397 (avg 6.7913)\n",
      "Saving checkpoint..\n"
     ]
    },
    {
     "name": "stderr",
     "output_type": "stream",
     "text": [
      "  0%|          | 0/28 [00:00<?, ?it/s]"
     ]
    },
    {
     "name": "stdout",
     "output_type": "stream",
     "text": [
      "Lowest validation loss: 6.7913\n"
     ]
    },
    {
     "name": "stderr",
     "output_type": "stream",
     "text": [
      "100%|██████████| 28/28 [00:01<00:00, 22.71it/s]\n",
      "100%|██████████| 7/7 [00:00<00:00,  8.92it/s]\n",
      "  0%|          | 0/28 [00:00<?, ?it/s]"
     ]
    },
    {
     "name": "stdout",
     "output_type": "stream",
     "text": [
      "Saving checkpoint..\n",
      "Lowest validation loss: 6.5493\n"
     ]
    },
    {
     "name": "stderr",
     "output_type": "stream",
     "text": [
      "100%|██████████| 28/28 [00:01<00:00, 22.61it/s]\n",
      "100%|██████████| 7/7 [00:00<00:00,  8.92it/s]\n",
      "100%|██████████| 28/28 [00:01<00:00, 22.76it/s]\n",
      "100%|██████████| 7/7 [00:00<00:00, 24.37it/s]\n",
      "  0%|          | 0/28 [00:00<?, ?it/s]"
     ]
    },
    {
     "name": "stdout",
     "output_type": "stream",
     "text": [
      "Saving checkpoint..\n",
      "Lowest validation loss: 6.1716\n"
     ]
    },
    {
     "name": "stderr",
     "output_type": "stream",
     "text": [
      "100%|██████████| 28/28 [00:01<00:00, 23.17it/s]\n",
      "100%|██████████| 7/7 [00:00<00:00, 24.86it/s]\n",
      "100%|██████████| 28/28 [00:01<00:00, 23.03it/s]\n",
      "100%|██████████| 7/7 [00:00<00:00, 24.05it/s]\n",
      "100%|██████████| 28/28 [00:01<00:00, 22.66it/s]\n",
      "100%|██████████| 7/7 [00:00<00:00,  8.71it/s]\n",
      "100%|██████████| 28/28 [00:01<00:00, 22.95it/s]\n",
      "100%|██████████| 7/7 [00:00<00:00, 24.50it/s]\n",
      "100%|██████████| 28/28 [00:01<00:00, 22.44it/s]\n",
      "100%|██████████| 7/7 [00:00<00:00, 23.24it/s]\n",
      "100%|██████████| 28/28 [00:01<00:00, 22.54it/s]\n",
      "100%|██████████| 7/7 [00:00<00:00,  8.97it/s]\n",
      " 68%|██████▊   | 19/28 [00:00<00:00, 18.27it/s]"
     ]
    },
    {
     "name": "stdout",
     "output_type": "stream",
     "text": [
      "Epoch: 300 (15/28)\n",
      "\tData load time: 0.148 sec\n",
      "\tGeneration time: 0.159 sec\n",
      "\tBackprop time: 0.178 sec\n",
      "\tLog probability: -3.1056 (avg -3.8799)\n",
      "\tKL: 10.6112 (avg 12.7134)\n",
      "\tLoss: 13.7168 (avg 16.5933)\n"
     ]
    },
    {
     "name": "stderr",
     "output_type": "stream",
     "text": [
      "100%|██████████| 28/28 [00:01<00:00, 22.79it/s]\n",
      "100%|██████████| 7/7 [00:00<00:00, 24.73it/s]"
     ]
    },
    {
     "name": "stdout",
     "output_type": "stream",
     "text": [
      "VALIDATION\n",
      "Epoch: 300 (7/7)\n",
      "\tData load time: 0.136 sec\n",
      "\tGeneration time: 0.145 sec\n",
      "\tLog probability: -1.7787 (avg -1.8827)\n",
      "\tKL: 16.4448 (avg 17.6002)\n",
      "\tLoss: 18.2235 (avg 19.4829)\n"
     ]
    },
    {
     "name": "stderr",
     "output_type": "stream",
     "text": [
      "\n"
     ]
    }
   ],
   "source": [
    "# Main loop\n",
    "best_loss = np.inf\n",
    "for epoch in range(epochs):\n",
    "\n",
    "    model.train()\n",
    "    scheduler.step()\n",
    "    train_loss, train_kl, train_logp = train_VAE1D(train_dl)\n",
    "    \n",
    "    model.eval()\n",
    "    with torch.no_grad():\n",
    "        val_loss, val_kl, val_logp = train_VAE1D(val_dl)\n",
    "\n",
    "    # Report training progress to user\n",
    "    if val_loss < best_loss:\n",
    "        print('Saving checkpoint..')\n",
    "        best_loss = val_loss\n",
    "        save_dict = {'epoch': epoch + 1,\n",
    "                     'state_dict': model.state_dict(),\n",
    "                     'val_loss': val_loss,\n",
    "                     'optimizer': optimizer.state_dict()}\n",
    "        path = save_path / f'best_model-{n_latent}-{beta}.pt'\n",
    "        torch.save(save_dict, path)\n",
    "        print(f'Lowest validation loss: {best_loss:.4f}')"
   ]
  },
  {
   "cell_type": "markdown",
   "metadata": {},
   "source": [
    "# Pump"
   ]
  },
  {
   "cell_type": "markdown",
   "metadata": {},
   "source": [
    "### Build model and loss function \n",
    "Initially designed for 2D input images, modified for 1D time-series data.\n",
    "Based on this paper: https://arxiv.org/abs/1807.01349"
   ]
  },
  {
   "cell_type": "code",
   "execution_count": 25,
   "metadata": {},
   "outputs": [],
   "source": [
    "# The hydraulic system has 14 sensors from which to pull data\n",
    "n_channels = 14\n",
    "# The data has been resized to 512, although it represents 1 min for each cycle\n",
    "size = 512\n",
    "# Latent space is restricted to be about 1/170th of the input dims, similar to 2D case\n",
    "n_latent = 50"
   ]
  },
  {
   "cell_type": "code",
   "execution_count": 26,
   "metadata": {},
   "outputs": [],
   "source": [
    "model = VAE1D(size, n_channels, n_latent)"
   ]
  },
  {
   "cell_type": "code",
   "execution_count": 27,
   "metadata": {},
   "outputs": [],
   "source": [
    "beta = 1  # KL term relative weight\n",
    "criterion = VAE1DLoss(beta)"
   ]
  },
  {
   "cell_type": "markdown",
   "metadata": {},
   "source": [
    "### Load hydraulic test data\n",
    "From this dataset: https://archive.ics.uci.edu/ml/datasets/Condition+monitoring+of+hydraulic+systems#"
   ]
  },
  {
   "cell_type": "code",
   "execution_count": 28,
   "metadata": {},
   "outputs": [],
   "source": [
    "desc = 'pump'\n",
    "data_path = Path(f'data/hydraulic/{desc}/')\n",
    "batch_size = 32\n",
    "train_dl, val_dl, test_dl = load_datasets(data_path,\n",
    "                                          batch_size=batch_size)"
   ]
  },
  {
   "cell_type": "code",
   "execution_count": 29,
   "metadata": {},
   "outputs": [
    {
     "name": "stdout",
     "output_type": "stream",
     "text": [
      "33 9 920\n"
     ]
    }
   ],
   "source": [
    "print(len(train_dl), len(val_dl), len(test_dl))"
   ]
  },
  {
   "cell_type": "markdown",
   "metadata": {},
   "source": [
    "### Prepare for training"
   ]
  },
  {
   "cell_type": "code",
   "execution_count": 30,
   "metadata": {},
   "outputs": [
    {
     "name": "stdout",
     "output_type": "stream",
     "text": [
      "Folder models/190130-pump already exists\n"
     ]
    },
    {
     "data": {
      "text/plain": [
       "PosixPath('models/190130-pump')"
      ]
     },
     "execution_count": 30,
     "metadata": {},
     "output_type": "execute_result"
    }
   ],
   "source": [
    "# Display settings - TODO add Visdom logging\n",
    "log_freq = 15 # batches\n",
    "ep_freq = 10  # epochs\n",
    "\n",
    "# Training parameters\n",
    "epochs = 300\n",
    "lr = 1e-3\n",
    "device = torch.device(\"cuda:0\" if torch.cuda.is_available() else \"cpu\")\n",
    "\n",
    "# Checkpoint to resume from (default None)\n",
    "load_path = None\n",
    "\n",
    "# Checkpoint save location\n",
    "save_path = Path(f\"models/{date.today().strftime('%y%m%d')}-{desc}/\")\n",
    "if save_path.is_dir():\n",
    "    print(f\"Folder {save_path} already exists\")\n",
    "else:\n",
    "    os.mkdir(save_path)\n",
    "save_path"
   ]
  },
  {
   "cell_type": "code",
   "execution_count": 31,
   "metadata": {},
   "outputs": [],
   "source": [
    "# Load checkpoint if any\n",
    "if load_path is not None:\n",
    "    checkpoint = torch.load(load_path, map_location=device)\n",
    "    model.load_state_dict(checkpoint['state_dict'])\n",
    "    optimizer.load_state_dict(checkpoint['optimizer'])\n",
    "    print(\"Checkpoint loaded\")\n",
    "    print(f\"Validation loss: {checkpoint['val_loss']}\")\n",
    "    print(f\"Epoch: {checkpoint['epoch']}\")"
   ]
  },
  {
   "cell_type": "code",
   "execution_count": 32,
   "metadata": {},
   "outputs": [],
   "source": [
    "# Load optimizer and scheduler\n",
    "optimizer = torch.optim.Adam(params=model.parameters(), lr=lr)\n",
    "scheduler = torch.optim.lr_scheduler.CosineAnnealingLR(optimizer, 10)"
   ]
  },
  {
   "cell_type": "code",
   "execution_count": 33,
   "metadata": {},
   "outputs": [],
   "source": [
    "# Move to GPU\n",
    "model = model.to(device)\n",
    "criterion = criterion.to(device)"
   ]
  },
  {
   "cell_type": "markdown",
   "metadata": {},
   "source": [
    "### Train the model"
   ]
  },
  {
   "cell_type": "code",
   "execution_count": 34,
   "metadata": {},
   "outputs": [
    {
     "name": "stderr",
     "output_type": "stream",
     "text": [
      "100%|██████████| 33/33 [00:01<00:00, 23.03it/s]\n",
      "100%|██████████| 9/9 [00:00<00:00, 27.72it/s]\n",
      "  0%|          | 0/33 [00:00<?, ?it/s]"
     ]
    },
    {
     "name": "stdout",
     "output_type": "stream",
     "text": [
      "Saving checkpoint..\n",
      "Lowest validation loss: 550.6035\n"
     ]
    },
    {
     "name": "stderr",
     "output_type": "stream",
     "text": [
      "100%|██████████| 33/33 [00:01<00:00, 23.04it/s]\n",
      "100%|██████████| 9/9 [00:00<00:00, 28.59it/s]\n",
      "  0%|          | 0/33 [00:00<?, ?it/s]"
     ]
    },
    {
     "name": "stdout",
     "output_type": "stream",
     "text": [
      "Saving checkpoint..\n",
      "Lowest validation loss: 432.5109\n"
     ]
    },
    {
     "name": "stderr",
     "output_type": "stream",
     "text": [
      "100%|██████████| 33/33 [00:01<00:00, 22.78it/s]\n",
      "100%|██████████| 9/9 [00:00<00:00, 29.25it/s]\n",
      "  0%|          | 0/33 [00:00<?, ?it/s]"
     ]
    },
    {
     "name": "stdout",
     "output_type": "stream",
     "text": [
      "Saving checkpoint..\n",
      "Lowest validation loss: 301.1746\n"
     ]
    },
    {
     "name": "stderr",
     "output_type": "stream",
     "text": [
      "100%|██████████| 33/33 [00:01<00:00, 22.93it/s]\n",
      "100%|██████████| 9/9 [00:00<00:00, 30.16it/s]\n",
      "  0%|          | 0/33 [00:00<?, ?it/s]"
     ]
    },
    {
     "name": "stdout",
     "output_type": "stream",
     "text": [
      "Saving checkpoint..\n",
      "Lowest validation loss: 166.0751\n"
     ]
    },
    {
     "name": "stderr",
     "output_type": "stream",
     "text": [
      "100%|██████████| 33/33 [00:01<00:00, 22.87it/s]\n",
      "100%|██████████| 9/9 [00:00<00:00, 29.06it/s]\n",
      "  0%|          | 0/33 [00:00<?, ?it/s]"
     ]
    },
    {
     "name": "stdout",
     "output_type": "stream",
     "text": [
      "Saving checkpoint..\n",
      "Lowest validation loss: 121.6680\n"
     ]
    },
    {
     "name": "stderr",
     "output_type": "stream",
     "text": [
      "100%|██████████| 33/33 [00:01<00:00, 23.31it/s]\n",
      "100%|██████████| 9/9 [00:00<00:00, 28.79it/s]\n",
      "  0%|          | 0/33 [00:00<?, ?it/s]"
     ]
    },
    {
     "name": "stdout",
     "output_type": "stream",
     "text": [
      "Saving checkpoint..\n",
      "Lowest validation loss: 121.5582\n"
     ]
    },
    {
     "name": "stderr",
     "output_type": "stream",
     "text": [
      "100%|██████████| 33/33 [00:01<00:00, 22.91it/s]\n",
      "100%|██████████| 9/9 [00:00<00:00, 28.69it/s]\n",
      "100%|██████████| 33/33 [00:01<00:00, 22.97it/s]\n",
      "100%|██████████| 9/9 [00:00<00:00, 27.45it/s]\n",
      "  0%|          | 0/33 [00:00<?, ?it/s]"
     ]
    },
    {
     "name": "stdout",
     "output_type": "stream",
     "text": [
      "Saving checkpoint..\n",
      "Lowest validation loss: 98.1177\n"
     ]
    },
    {
     "name": "stderr",
     "output_type": "stream",
     "text": [
      "100%|██████████| 33/33 [00:01<00:00, 22.89it/s]\n",
      "100%|██████████| 9/9 [00:00<00:00, 28.66it/s]\n",
      " 58%|█████▊    | 19/33 [00:00<00:00, 18.43it/s]"
     ]
    },
    {
     "name": "stdout",
     "output_type": "stream",
     "text": [
      "Epoch: 10 (15/33)\n",
      "\tData load time: 0.139 sec\n",
      "\tGeneration time: 0.152 sec\n",
      "\tBackprop time: 0.173 sec\n",
      "\tLog probability: -32.9719 (avg -42.0983)\n",
      "\tKL: 52.4190 (avg 54.7642)\n",
      "\tLoss: 85.3909 (avg 96.8625)\n"
     ]
    },
    {
     "name": "stderr",
     "output_type": "stream",
     "text": [
      "100%|██████████| 33/33 [00:01<00:00, 23.16it/s]\n",
      "  0%|          | 0/9 [00:00<?, ?it/s]"
     ]
    },
    {
     "name": "stdout",
     "output_type": "stream",
     "text": [
      "Epoch: 10 (30/33)\n",
      "\tData load time: 0.139 sec\n",
      "\tGeneration time: 0.152 sec\n",
      "\tBackprop time: 0.173 sec\n",
      "\tLog probability: -36.5550 (avg -44.2592)\n",
      "\tKL: 48.1720 (avg 54.3756)\n",
      "\tLoss: 84.7271 (avg 98.6348)\n"
     ]
    },
    {
     "name": "stderr",
     "output_type": "stream",
     "text": [
      "100%|██████████| 9/9 [00:00<00:00, 28.38it/s]\n",
      "  0%|          | 0/33 [00:00<?, ?it/s]"
     ]
    },
    {
     "name": "stdout",
     "output_type": "stream",
     "text": [
      "VALIDATION\n",
      "Epoch: 10 (9/9)\n",
      "\tData load time: 0.135 sec\n",
      "\tGeneration time: 0.146 sec\n",
      "\tLog probability: -36.7364 (avg -39.0452)\n",
      "\tKL: 35.8788 (avg 60.1412)\n",
      "\tLoss: 72.6153 (avg 99.1864)\n"
     ]
    },
    {
     "name": "stderr",
     "output_type": "stream",
     "text": [
      "100%|██████████| 33/33 [00:01<00:00, 22.88it/s]\n",
      "100%|██████████| 9/9 [00:00<00:00, 29.01it/s]\n",
      "100%|██████████| 33/33 [00:01<00:00, 23.27it/s]\n",
      "100%|██████████| 9/9 [00:00<00:00, 28.48it/s]\n",
      "  0%|          | 0/33 [00:00<?, ?it/s]"
     ]
    },
    {
     "name": "stdout",
     "output_type": "stream",
     "text": [
      "Saving checkpoint..\n",
      "Lowest validation loss: 90.5634\n"
     ]
    },
    {
     "name": "stderr",
     "output_type": "stream",
     "text": [
      "100%|██████████| 33/33 [00:01<00:00, 22.89it/s]\n",
      "100%|██████████| 9/9 [00:00<00:00, 28.50it/s]\n",
      "100%|██████████| 33/33 [00:01<00:00, 23.03it/s]\n",
      "100%|██████████| 9/9 [00:00<00:00, 28.74it/s]\n",
      "100%|██████████| 33/33 [00:01<00:00, 23.03it/s]\n",
      "100%|██████████| 9/9 [00:00<00:00, 27.69it/s]\n",
      "100%|██████████| 33/33 [00:01<00:00, 22.93it/s]\n",
      "100%|██████████| 9/9 [00:00<00:00, 28.22it/s]\n",
      "100%|██████████| 33/33 [00:01<00:00, 23.10it/s]\n",
      "100%|██████████| 9/9 [00:00<00:00, 28.15it/s]\n",
      "100%|██████████| 33/33 [00:01<00:00, 23.15it/s]\n",
      "100%|██████████| 9/9 [00:00<00:00, 28.28it/s]\n",
      "100%|██████████| 33/33 [00:01<00:00, 22.95it/s]\n",
      "100%|██████████| 9/9 [00:00<00:00, 29.77it/s]\n",
      " 58%|█████▊    | 19/33 [00:00<00:00, 18.71it/s]"
     ]
    },
    {
     "name": "stdout",
     "output_type": "stream",
     "text": [
      "Epoch: 20 (15/33)\n",
      "\tData load time: 0.136 sec\n",
      "\tGeneration time: 0.146 sec\n",
      "\tBackprop time: 0.164 sec\n",
      "\tLog probability: -42.1105 (avg -33.6578)\n",
      "\tKL: 73.5385 (avg 62.5678)\n",
      "\tLoss: 115.6490 (avg 96.2256)\n"
     ]
    },
    {
     "name": "stderr",
     "output_type": "stream",
     "text": [
      "100%|██████████| 33/33 [00:01<00:00, 23.19it/s]\n",
      "  0%|          | 0/9 [00:00<?, ?it/s]"
     ]
    },
    {
     "name": "stdout",
     "output_type": "stream",
     "text": [
      "Epoch: 20 (30/33)\n",
      "\tData load time: 0.136 sec\n",
      "\tGeneration time: 0.146 sec\n",
      "\tBackprop time: 0.164 sec\n",
      "\tLog probability: -30.2083 (avg -36.4117)\n",
      "\tKL: 50.8142 (avg 60.5874)\n",
      "\tLoss: 81.0225 (avg 96.9991)\n"
     ]
    },
    {
     "name": "stderr",
     "output_type": "stream",
     "text": [
      "100%|██████████| 9/9 [00:00<00:00, 27.22it/s]\n",
      "  0%|          | 0/33 [00:00<?, ?it/s]"
     ]
    },
    {
     "name": "stdout",
     "output_type": "stream",
     "text": [
      "VALIDATION\n",
      "Epoch: 20 (9/9)\n",
      "\tData load time: 0.150 sec\n",
      "\tGeneration time: 0.156 sec\n",
      "\tLog probability: -10.6601 (avg -27.6026)\n",
      "\tKL: 28.8898 (avg 66.2154)\n",
      "\tLoss: 39.5499 (avg 93.8180)\n"
     ]
    },
    {
     "name": "stderr",
     "output_type": "stream",
     "text": [
      "100%|██████████| 33/33 [00:01<00:00, 23.09it/s]\n",
      "100%|██████████| 9/9 [00:00<00:00, 29.05it/s]\n",
      "100%|██████████| 33/33 [00:01<00:00, 22.79it/s]\n",
      "100%|██████████| 9/9 [00:00<00:00, 28.41it/s]\n",
      "100%|██████████| 33/33 [00:01<00:00, 23.10it/s]\n",
      "100%|██████████| 9/9 [00:00<00:00, 28.07it/s]\n",
      "100%|██████████| 33/33 [00:01<00:00, 23.28it/s]\n",
      "100%|██████████| 9/9 [00:00<00:00, 28.03it/s]\n",
      "100%|██████████| 33/33 [00:01<00:00, 23.25it/s]\n",
      "100%|██████████| 9/9 [00:00<00:00, 30.11it/s]\n",
      "  0%|          | 0/33 [00:00<?, ?it/s]"
     ]
    },
    {
     "name": "stdout",
     "output_type": "stream",
     "text": [
      "Saving checkpoint..\n",
      "Lowest validation loss: 79.0700\n"
     ]
    },
    {
     "name": "stderr",
     "output_type": "stream",
     "text": [
      "100%|██████████| 33/33 [00:01<00:00, 22.96it/s]\n",
      "100%|██████████| 9/9 [00:00<00:00, 28.83it/s]\n",
      "  0%|          | 0/33 [00:00<?, ?it/s]"
     ]
    },
    {
     "name": "stdout",
     "output_type": "stream",
     "text": [
      "Saving checkpoint..\n",
      "Lowest validation loss: 73.9505\n"
     ]
    },
    {
     "name": "stderr",
     "output_type": "stream",
     "text": [
      "100%|██████████| 33/33 [00:01<00:00, 22.83it/s]\n",
      "100%|██████████| 9/9 [00:00<00:00, 28.96it/s]\n",
      "  0%|          | 0/33 [00:00<?, ?it/s]"
     ]
    },
    {
     "name": "stdout",
     "output_type": "stream",
     "text": [
      "Saving checkpoint..\n",
      "Lowest validation loss: 61.4659\n"
     ]
    },
    {
     "name": "stderr",
     "output_type": "stream",
     "text": [
      "100%|██████████| 33/33 [00:01<00:00, 22.80it/s]\n",
      "100%|██████████| 9/9 [00:00<00:00, 28.62it/s]\n",
      "100%|██████████| 33/33 [00:01<00:00, 23.33it/s]\n",
      "100%|██████████| 9/9 [00:00<00:00, 29.84it/s]\n",
      " 58%|█████▊    | 19/33 [00:00<00:00, 18.16it/s]"
     ]
    },
    {
     "name": "stdout",
     "output_type": "stream",
     "text": [
      "Epoch: 30 (15/33)\n",
      "\tData load time: 0.149 sec\n",
      "\tGeneration time: 0.159 sec\n",
      "\tBackprop time: 0.179 sec\n",
      "\tLog probability: -13.4829 (avg -14.1288)\n",
      "\tKL: 58.0943 (avg 46.0779)\n",
      "\tLoss: 71.5772 (avg 60.2067)\n"
     ]
    },
    {
     "name": "stderr",
     "output_type": "stream",
     "text": [
      "100%|██████████| 33/33 [00:01<00:00, 22.99it/s]\n",
      "  0%|          | 0/9 [00:00<?, ?it/s]"
     ]
    },
    {
     "name": "stdout",
     "output_type": "stream",
     "text": [
      "Epoch: 30 (30/33)\n",
      "\tData load time: 0.149 sec\n",
      "\tGeneration time: 0.159 sec\n",
      "\tBackprop time: 0.179 sec\n",
      "\tLog probability: -59.9875 (avg -18.1662)\n",
      "\tKL: 62.7388 (avg 45.8128)\n",
      "\tLoss: 122.7263 (avg 63.9790)\n"
     ]
    },
    {
     "name": "stderr",
     "output_type": "stream",
     "text": [
      "100%|██████████| 9/9 [00:00<00:00, 28.63it/s]\n"
     ]
    },
    {
     "name": "stdout",
     "output_type": "stream",
     "text": [
      "VALIDATION\n",
      "Epoch: 30 (9/9)\n",
      "\tData load time: 0.140 sec\n",
      "\tGeneration time: 0.149 sec\n",
      "\tLog probability: -8.0937 (avg -11.0530)\n",
      "\tKL: 15.0618 (avg 44.6335)\n",
      "\tLoss: 23.1554 (avg 55.6865)\n",
      "Saving checkpoint..\n"
     ]
    },
    {
     "name": "stderr",
     "output_type": "stream",
     "text": [
      "  0%|          | 0/33 [00:00<?, ?it/s]"
     ]
    },
    {
     "name": "stdout",
     "output_type": "stream",
     "text": [
      "Lowest validation loss: 55.6865\n"
     ]
    },
    {
     "name": "stderr",
     "output_type": "stream",
     "text": [
      "100%|██████████| 33/33 [00:01<00:00, 23.27it/s]\n",
      "100%|██████████| 9/9 [00:00<00:00, 28.45it/s]\n",
      "100%|██████████| 33/33 [00:01<00:00, 22.96it/s]\n",
      "100%|██████████| 9/9 [00:00<00:00, 28.56it/s]\n",
      "100%|██████████| 33/33 [00:01<00:00, 22.96it/s]\n",
      "100%|██████████| 9/9 [00:00<00:00, 29.40it/s]\n",
      "  0%|          | 0/33 [00:00<?, ?it/s]"
     ]
    },
    {
     "name": "stdout",
     "output_type": "stream",
     "text": [
      "Saving checkpoint..\n",
      "Lowest validation loss: 54.7885\n"
     ]
    },
    {
     "name": "stderr",
     "output_type": "stream",
     "text": [
      "100%|██████████| 33/33 [00:01<00:00, 22.94it/s]\n",
      "100%|██████████| 9/9 [00:00<00:00, 28.22it/s]\n",
      "100%|██████████| 33/33 [00:01<00:00, 22.94it/s]\n",
      "100%|██████████| 9/9 [00:00<00:00, 28.93it/s]\n",
      "100%|██████████| 33/33 [00:01<00:00, 23.07it/s]\n",
      "100%|██████████| 9/9 [00:00<00:00, 29.68it/s]\n",
      "100%|██████████| 33/33 [00:01<00:00, 23.25it/s]\n",
      "100%|██████████| 9/9 [00:00<00:00, 28.80it/s]\n",
      "100%|██████████| 33/33 [00:01<00:00, 22.96it/s]\n",
      "100%|██████████| 9/9 [00:00<00:00, 28.05it/s]\n",
      "100%|██████████| 33/33 [00:01<00:00, 22.99it/s]\n",
      "100%|██████████| 9/9 [00:00<00:00, 27.72it/s]\n",
      " 58%|█████▊    | 19/33 [00:00<00:00, 17.94it/s]"
     ]
    },
    {
     "name": "stdout",
     "output_type": "stream",
     "text": [
      "Epoch: 40 (15/33)\n",
      "\tData load time: 0.154 sec\n",
      "\tGeneration time: 0.162 sec\n",
      "\tBackprop time: 0.183 sec\n",
      "\tLog probability: -20.1625 (avg -18.5211)\n",
      "\tKL: 44.4406 (avg 49.3105)\n",
      "\tLoss: 64.6031 (avg 67.8316)\n"
     ]
    },
    {
     "name": "stderr",
     "output_type": "stream",
     "text": [
      "100%|██████████| 33/33 [00:01<00:00, 22.74it/s]\n",
      "  0%|          | 0/9 [00:00<?, ?it/s]"
     ]
    },
    {
     "name": "stdout",
     "output_type": "stream",
     "text": [
      "Epoch: 40 (30/33)\n",
      "\tData load time: 0.154 sec\n",
      "\tGeneration time: 0.162 sec\n",
      "\tBackprop time: 0.183 sec\n",
      "\tLog probability: -15.6843 (avg -19.9085)\n",
      "\tKL: 51.9469 (avg 48.9117)\n",
      "\tLoss: 67.6312 (avg 68.8202)\n"
     ]
    },
    {
     "name": "stderr",
     "output_type": "stream",
     "text": [
      "100%|██████████| 9/9 [00:00<00:00, 26.63it/s]\n",
      "  0%|          | 0/33 [00:00<?, ?it/s]"
     ]
    },
    {
     "name": "stdout",
     "output_type": "stream",
     "text": [
      "VALIDATION\n",
      "Epoch: 40 (9/9)\n",
      "\tData load time: 0.163 sec\n",
      "\tGeneration time: 0.170 sec\n",
      "\tLog probability: -18.1387 (avg -17.4836)\n",
      "\tKL: 20.8493 (avg 68.9995)\n",
      "\tLoss: 38.9880 (avg 86.4831)\n"
     ]
    },
    {
     "name": "stderr",
     "output_type": "stream",
     "text": [
      "100%|██████████| 33/33 [00:01<00:00, 22.95it/s]\n",
      "100%|██████████| 9/9 [00:00<00:00, 27.97it/s]\n",
      "100%|██████████| 33/33 [00:01<00:00, 22.98it/s]\n",
      "100%|██████████| 9/9 [00:00<00:00, 28.20it/s]\n",
      "100%|██████████| 33/33 [00:01<00:00, 22.97it/s]\n",
      "100%|██████████| 9/9 [00:00<00:00, 28.73it/s]\n",
      "100%|██████████| 33/33 [00:01<00:00, 22.75it/s]\n",
      "100%|██████████| 9/9 [00:00<00:00, 28.63it/s]\n",
      "100%|██████████| 33/33 [00:01<00:00, 23.11it/s]\n",
      "100%|██████████| 9/9 [00:00<00:00, 28.51it/s]\n",
      "  0%|          | 0/33 [00:00<?, ?it/s]"
     ]
    },
    {
     "name": "stdout",
     "output_type": "stream",
     "text": [
      "Saving checkpoint..\n",
      "Lowest validation loss: 49.2785\n"
     ]
    },
    {
     "name": "stderr",
     "output_type": "stream",
     "text": [
      "100%|██████████| 33/33 [00:01<00:00, 22.91it/s]\n",
      "100%|██████████| 9/9 [00:00<00:00, 28.85it/s]\n",
      "100%|██████████| 33/33 [00:01<00:00, 23.31it/s]\n",
      "100%|██████████| 9/9 [00:00<00:00, 28.15it/s]\n",
      "100%|██████████| 33/33 [00:01<00:00, 22.90it/s]\n",
      "100%|██████████| 9/9 [00:00<00:00, 28.64it/s]\n",
      "  0%|          | 0/33 [00:00<?, ?it/s]"
     ]
    },
    {
     "name": "stdout",
     "output_type": "stream",
     "text": [
      "Saving checkpoint..\n",
      "Lowest validation loss: 44.7517\n"
     ]
    },
    {
     "name": "stderr",
     "output_type": "stream",
     "text": [
      "100%|██████████| 33/33 [00:01<00:00, 23.17it/s]\n",
      "100%|██████████| 9/9 [00:00<00:00, 29.13it/s]\n",
      " 58%|█████▊    | 19/33 [00:00<00:00, 18.33it/s]"
     ]
    },
    {
     "name": "stdout",
     "output_type": "stream",
     "text": [
      "Epoch: 50 (15/33)\n",
      "\tData load time: 0.143 sec\n",
      "\tGeneration time: 0.153 sec\n",
      "\tBackprop time: 0.174 sec\n",
      "\tLog probability: -13.6561 (avg -10.5706)\n",
      "\tKL: 30.8361 (avg 33.0869)\n",
      "\tLoss: 44.4922 (avg 43.6575)\n"
     ]
    },
    {
     "name": "stderr",
     "output_type": "stream",
     "text": [
      "100%|██████████| 33/33 [00:01<00:00, 22.85it/s]\n",
      "  0%|          | 0/9 [00:00<?, ?it/s]"
     ]
    },
    {
     "name": "stdout",
     "output_type": "stream",
     "text": [
      "Epoch: 50 (30/33)\n",
      "\tData load time: 0.143 sec\n",
      "\tGeneration time: 0.153 sec\n",
      "\tBackprop time: 0.174 sec\n",
      "\tLog probability: -7.5475 (avg -13.1433)\n",
      "\tKL: 33.6166 (avg 35.2186)\n",
      "\tLoss: 41.1641 (avg 48.3619)\n"
     ]
    },
    {
     "name": "stderr",
     "output_type": "stream",
     "text": [
      "100%|██████████| 9/9 [00:00<00:00, 29.18it/s]\n",
      "  0%|          | 0/33 [00:00<?, ?it/s]"
     ]
    },
    {
     "name": "stdout",
     "output_type": "stream",
     "text": [
      "VALIDATION\n",
      "Epoch: 50 (9/9)\n",
      "\tData load time: 0.136 sec\n",
      "\tGeneration time: 0.150 sec\n",
      "\tLog probability: -19.0018 (avg -9.5068)\n",
      "\tKL: 41.1862 (avg 42.9653)\n",
      "\tLoss: 60.1880 (avg 52.4722)\n"
     ]
    },
    {
     "name": "stderr",
     "output_type": "stream",
     "text": [
      "100%|██████████| 33/33 [00:01<00:00, 23.10it/s]\n",
      "100%|██████████| 9/9 [00:00<00:00, 28.48it/s]\n",
      "100%|██████████| 33/33 [00:01<00:00, 23.04it/s]\n",
      "100%|██████████| 9/9 [00:00<00:00, 28.14it/s]\n",
      "100%|██████████| 33/33 [00:01<00:00, 23.17it/s]\n",
      "100%|██████████| 9/9 [00:00<00:00, 29.16it/s]\n",
      "100%|██████████| 33/33 [00:01<00:00, 23.12it/s]\n",
      "100%|██████████| 9/9 [00:00<00:00, 28.99it/s]\n",
      "  0%|          | 0/33 [00:00<?, ?it/s]"
     ]
    },
    {
     "name": "stdout",
     "output_type": "stream",
     "text": [
      "Saving checkpoint..\n",
      "Lowest validation loss: 40.5571\n"
     ]
    },
    {
     "name": "stderr",
     "output_type": "stream",
     "text": [
      "100%|██████████| 33/33 [00:01<00:00, 23.01it/s]\n",
      "100%|██████████| 9/9 [00:00<00:00, 28.64it/s]\n",
      "100%|██████████| 33/33 [00:01<00:00, 22.89it/s]\n",
      "100%|██████████| 9/9 [00:00<00:00, 29.67it/s]\n",
      "100%|██████████| 33/33 [00:01<00:00, 23.00it/s]\n",
      "100%|██████████| 9/9 [00:00<00:00, 28.94it/s]\n",
      "100%|██████████| 33/33 [00:01<00:00, 23.20it/s]\n",
      "100%|██████████| 9/9 [00:00<00:00, 28.26it/s]\n",
      "100%|██████████| 33/33 [00:01<00:00, 22.80it/s]\n",
      "100%|██████████| 9/9 [00:00<00:00, 28.11it/s]\n",
      " 58%|█████▊    | 19/33 [00:00<00:00, 18.39it/s]"
     ]
    },
    {
     "name": "stdout",
     "output_type": "stream",
     "text": [
      "Epoch: 60 (15/33)\n",
      "\tData load time: 0.143 sec\n",
      "\tGeneration time: 0.152 sec\n",
      "\tBackprop time: 0.172 sec\n",
      "\tLog probability: -23.6692 (avg -12.9510)\n",
      "\tKL: 49.2829 (avg 38.3374)\n",
      "\tLoss: 72.9521 (avg 51.2883)\n"
     ]
    },
    {
     "name": "stderr",
     "output_type": "stream",
     "text": [
      "100%|██████████| 33/33 [00:01<00:00, 23.13it/s]\n",
      "  0%|          | 0/9 [00:00<?, ?it/s]"
     ]
    },
    {
     "name": "stdout",
     "output_type": "stream",
     "text": [
      "Epoch: 60 (30/33)\n",
      "\tData load time: 0.143 sec\n",
      "\tGeneration time: 0.152 sec\n",
      "\tBackprop time: 0.172 sec\n",
      "\tLog probability: -16.2254 (avg -12.5062)\n",
      "\tKL: 47.0035 (avg 37.8066)\n",
      "\tLoss: 63.2288 (avg 50.3128)\n"
     ]
    },
    {
     "name": "stderr",
     "output_type": "stream",
     "text": [
      "100%|██████████| 9/9 [00:00<00:00, 29.93it/s]\n",
      "  0%|          | 0/33 [00:00<?, ?it/s]"
     ]
    },
    {
     "name": "stdout",
     "output_type": "stream",
     "text": [
      "VALIDATION\n",
      "Epoch: 60 (9/9)\n",
      "\tData load time: 0.123 sec\n",
      "\tGeneration time: 0.132 sec\n",
      "\tLog probability: -17.4593 (avg -12.1159)\n",
      "\tKL: 34.3494 (avg 48.7308)\n",
      "\tLoss: 51.8087 (avg 60.8467)\n"
     ]
    },
    {
     "name": "stderr",
     "output_type": "stream",
     "text": [
      "100%|██████████| 33/33 [00:01<00:00, 22.86it/s]\n",
      "100%|██████████| 9/9 [00:00<00:00, 28.14it/s]\n",
      "100%|██████████| 33/33 [00:01<00:00, 23.13it/s]\n",
      "100%|██████████| 9/9 [00:00<00:00, 28.26it/s]\n",
      "100%|██████████| 33/33 [00:01<00:00, 23.04it/s]\n",
      "100%|██████████| 9/9 [00:00<00:00, 29.27it/s]\n",
      "100%|██████████| 33/33 [00:01<00:00, 22.99it/s]\n",
      "100%|██████████| 9/9 [00:00<00:00, 28.86it/s]\n",
      "100%|██████████| 33/33 [00:01<00:00, 23.29it/s]\n",
      "100%|██████████| 9/9 [00:00<00:00, 28.35it/s]\n",
      "100%|██████████| 33/33 [00:01<00:00, 23.19it/s]\n",
      "100%|██████████| 9/9 [00:00<00:00, 29.67it/s]\n",
      "100%|██████████| 33/33 [00:01<00:00, 23.33it/s]\n",
      "100%|██████████| 9/9 [00:00<00:00, 28.51it/s]\n",
      "100%|██████████| 33/33 [00:01<00:00, 23.10it/s]\n",
      "100%|██████████| 9/9 [00:00<00:00, 28.19it/s]\n",
      "  0%|          | 0/33 [00:00<?, ?it/s]"
     ]
    },
    {
     "name": "stdout",
     "output_type": "stream",
     "text": [
      "Saving checkpoint..\n",
      "Lowest validation loss: 38.9473\n"
     ]
    },
    {
     "name": "stderr",
     "output_type": "stream",
     "text": [
      "100%|██████████| 33/33 [00:01<00:00, 23.01it/s]\n",
      "100%|██████████| 9/9 [00:00<00:00, 28.41it/s]\n",
      " 58%|█████▊    | 19/33 [00:00<00:00, 18.08it/s]"
     ]
    },
    {
     "name": "stdout",
     "output_type": "stream",
     "text": [
      "Epoch: 70 (15/33)\n",
      "\tData load time: 0.150 sec\n",
      "\tGeneration time: 0.161 sec\n",
      "\tBackprop time: 0.182 sec\n",
      "\tLog probability: -11.4724 (avg -7.4927)\n",
      "\tKL: 31.4499 (avg 31.9697)\n",
      "\tLoss: 42.9224 (avg 39.4624)\n"
     ]
    },
    {
     "name": "stderr",
     "output_type": "stream",
     "text": [
      "100%|██████████| 33/33 [00:01<00:00, 22.93it/s]\n",
      "  0%|          | 0/9 [00:00<?, ?it/s]"
     ]
    },
    {
     "name": "stdout",
     "output_type": "stream",
     "text": [
      "Epoch: 70 (30/33)\n",
      "\tData load time: 0.150 sec\n",
      "\tGeneration time: 0.161 sec\n",
      "\tBackprop time: 0.182 sec\n",
      "\tLog probability: -4.8191 (avg -7.3546)\n",
      "\tKL: 30.2174 (avg 31.8342)\n",
      "\tLoss: 35.0365 (avg 39.1888)\n"
     ]
    },
    {
     "name": "stderr",
     "output_type": "stream",
     "text": [
      "100%|██████████| 9/9 [00:00<00:00, 29.30it/s]\n"
     ]
    },
    {
     "name": "stdout",
     "output_type": "stream",
     "text": [
      "VALIDATION\n",
      "Epoch: 70 (9/9)\n",
      "\tData load time: 0.128 sec\n",
      "\tGeneration time: 0.136 sec\n",
      "\tLog probability: -3.4481 (avg -5.0315)\n",
      "\tKL: 18.5736 (avg 30.4373)\n",
      "\tLoss: 22.0217 (avg 35.4688)\n",
      "Saving checkpoint..\n"
     ]
    },
    {
     "name": "stderr",
     "output_type": "stream",
     "text": [
      "  0%|          | 0/33 [00:00<?, ?it/s]"
     ]
    },
    {
     "name": "stdout",
     "output_type": "stream",
     "text": [
      "Lowest validation loss: 35.4688\n"
     ]
    },
    {
     "name": "stderr",
     "output_type": "stream",
     "text": [
      "100%|██████████| 33/33 [00:01<00:00, 22.74it/s]\n",
      "100%|██████████| 9/9 [00:00<00:00, 25.15it/s]\n",
      "100%|██████████| 33/33 [00:01<00:00, 22.18it/s]\n",
      "100%|██████████| 9/9 [00:00<00:00, 28.89it/s]\n",
      "100%|██████████| 33/33 [00:01<00:00, 23.06it/s]\n",
      "100%|██████████| 9/9 [00:00<00:00, 28.26it/s]\n",
      "100%|██████████| 33/33 [00:01<00:00, 23.05it/s]\n",
      "100%|██████████| 9/9 [00:00<00:00, 27.76it/s]\n",
      "  0%|          | 0/33 [00:00<?, ?it/s]"
     ]
    },
    {
     "name": "stdout",
     "output_type": "stream",
     "text": [
      "Saving checkpoint..\n",
      "Lowest validation loss: 33.6278\n"
     ]
    },
    {
     "name": "stderr",
     "output_type": "stream",
     "text": [
      "100%|██████████| 33/33 [00:01<00:00, 22.97it/s]\n",
      "100%|██████████| 9/9 [00:00<00:00, 28.16it/s]\n",
      "100%|██████████| 33/33 [00:01<00:00, 22.97it/s]\n",
      "100%|██████████| 9/9 [00:00<00:00, 28.22it/s]\n",
      "100%|██████████| 33/33 [00:01<00:00, 23.24it/s]\n",
      "100%|██████████| 9/9 [00:00<00:00, 28.96it/s]\n",
      "100%|██████████| 33/33 [00:01<00:00, 23.04it/s]\n",
      "100%|██████████| 9/9 [00:00<00:00, 29.39it/s]\n",
      "100%|██████████| 33/33 [00:01<00:00, 23.00it/s]\n",
      "100%|██████████| 9/9 [00:00<00:00, 29.64it/s]\n",
      " 58%|█████▊    | 19/33 [00:00<00:00, 18.72it/s]"
     ]
    },
    {
     "name": "stdout",
     "output_type": "stream",
     "text": [
      "Epoch: 80 (15/33)\n",
      "\tData load time: 0.130 sec\n",
      "\tGeneration time: 0.142 sec\n",
      "\tBackprop time: 0.165 sec\n",
      "\tLog probability: -12.6623 (avg -13.8173)\n",
      "\tKL: 54.6691 (avg 51.7888)\n",
      "\tLoss: 67.3314 (avg 65.6060)\n"
     ]
    },
    {
     "name": "stderr",
     "output_type": "stream",
     "text": [
      "100%|██████████| 33/33 [00:01<00:00, 23.23it/s]\n",
      "  0%|          | 0/9 [00:00<?, ?it/s]"
     ]
    },
    {
     "name": "stdout",
     "output_type": "stream",
     "text": [
      "Epoch: 80 (30/33)\n",
      "\tData load time: 0.130 sec\n",
      "\tGeneration time: 0.142 sec\n",
      "\tBackprop time: 0.165 sec\n",
      "\tLog probability: -10.2517 (avg -11.5256)\n",
      "\tKL: 56.9636 (avg 52.7373)\n",
      "\tLoss: 67.2153 (avg 64.2629)\n"
     ]
    },
    {
     "name": "stderr",
     "output_type": "stream",
     "text": [
      "100%|██████████| 9/9 [00:00<00:00, 28.55it/s]\n",
      "  0%|          | 0/33 [00:00<?, ?it/s]"
     ]
    },
    {
     "name": "stdout",
     "output_type": "stream",
     "text": [
      "VALIDATION\n",
      "Epoch: 80 (9/9)\n",
      "\tData load time: 0.147 sec\n",
      "\tGeneration time: 0.156 sec\n",
      "\tLog probability: -7.7888 (avg -7.5365)\n",
      "\tKL: 23.8471 (avg 43.8314)\n",
      "\tLoss: 31.6359 (avg 51.3678)\n"
     ]
    },
    {
     "name": "stderr",
     "output_type": "stream",
     "text": [
      "100%|██████████| 33/33 [00:01<00:00, 22.99it/s]\n",
      "100%|██████████| 9/9 [00:00<00:00, 28.88it/s]\n",
      "100%|██████████| 33/33 [00:01<00:00, 22.99it/s]\n",
      "100%|██████████| 9/9 [00:00<00:00, 28.67it/s]\n",
      "100%|██████████| 33/33 [00:01<00:00, 23.01it/s]\n",
      "100%|██████████| 9/9 [00:00<00:00, 28.31it/s]\n",
      "100%|██████████| 33/33 [00:01<00:00, 23.37it/s]\n",
      "100%|██████████| 9/9 [00:00<00:00, 28.33it/s]\n",
      "100%|██████████| 33/33 [00:01<00:00, 23.11it/s]\n",
      "100%|██████████| 9/9 [00:00<00:00, 28.75it/s]\n",
      "100%|██████████| 33/33 [00:01<00:00, 23.15it/s]\n",
      "100%|██████████| 9/9 [00:00<00:00, 28.45it/s]\n",
      "100%|██████████| 33/33 [00:01<00:00, 23.06it/s]\n",
      "100%|██████████| 9/9 [00:00<00:00, 28.92it/s]\n",
      "100%|██████████| 33/33 [00:01<00:00, 22.85it/s]\n",
      "100%|██████████| 9/9 [00:00<00:00, 28.85it/s]\n",
      "100%|██████████| 33/33 [00:01<00:00, 23.23it/s]\n",
      "100%|██████████| 9/9 [00:00<00:00, 28.49it/s]\n",
      " 58%|█████▊    | 19/33 [00:00<00:00, 18.51it/s]"
     ]
    },
    {
     "name": "stdout",
     "output_type": "stream",
     "text": [
      "Epoch: 90 (15/33)\n",
      "\tData load time: 0.137 sec\n",
      "\tGeneration time: 0.150 sec\n",
      "\tBackprop time: 0.171 sec\n",
      "\tLog probability: -3.6983 (avg -7.4298)\n",
      "\tKL: 30.8986 (avg 31.0483)\n",
      "\tLoss: 34.5968 (avg 38.4781)\n"
     ]
    },
    {
     "name": "stderr",
     "output_type": "stream",
     "text": [
      "100%|██████████| 33/33 [00:01<00:00, 23.24it/s]\n",
      "  0%|          | 0/9 [00:00<?, ?it/s]"
     ]
    },
    {
     "name": "stdout",
     "output_type": "stream",
     "text": [
      "Epoch: 90 (30/33)\n",
      "\tData load time: 0.137 sec\n",
      "\tGeneration time: 0.150 sec\n",
      "\tBackprop time: 0.171 sec\n",
      "\tLog probability: -7.8271 (avg -7.5300)\n",
      "\tKL: 32.1121 (avg 31.2537)\n",
      "\tLoss: 39.9392 (avg 38.7837)\n"
     ]
    },
    {
     "name": "stderr",
     "output_type": "stream",
     "text": [
      "100%|██████████| 9/9 [00:00<00:00, 28.32it/s]\n",
      "  0%|          | 0/33 [00:00<?, ?it/s]"
     ]
    },
    {
     "name": "stdout",
     "output_type": "stream",
     "text": [
      "VALIDATION\n",
      "Epoch: 90 (9/9)\n",
      "\tData load time: 0.146 sec\n",
      "\tGeneration time: 0.155 sec\n",
      "\tLog probability: -3.2044 (avg -4.7588)\n",
      "\tKL: 9.5476 (avg 33.3585)\n",
      "\tLoss: 12.7521 (avg 38.1173)\n"
     ]
    },
    {
     "name": "stderr",
     "output_type": "stream",
     "text": [
      "100%|██████████| 33/33 [00:01<00:00, 22.98it/s]\n",
      "100%|██████████| 9/9 [00:00<00:00, 29.94it/s]\n",
      "100%|██████████| 33/33 [00:01<00:00, 22.88it/s]\n",
      "100%|██████████| 9/9 [00:00<00:00, 29.49it/s]\n",
      "100%|██████████| 33/33 [00:01<00:00, 23.19it/s]\n",
      "100%|██████████| 9/9 [00:00<00:00, 28.38it/s]\n",
      "100%|██████████| 33/33 [00:01<00:00, 22.86it/s]\n",
      "100%|██████████| 9/9 [00:00<00:00, 28.40it/s]\n",
      "100%|██████████| 33/33 [00:01<00:00, 23.01it/s]\n",
      "100%|██████████| 9/9 [00:00<00:00, 28.44it/s]\n",
      "100%|██████████| 33/33 [00:01<00:00, 22.99it/s]\n",
      "100%|██████████| 9/9 [00:00<00:00, 28.16it/s]\n",
      "100%|██████████| 33/33 [00:01<00:00, 23.27it/s]\n",
      "100%|██████████| 9/9 [00:00<00:00, 28.24it/s]\n",
      "100%|██████████| 33/33 [00:01<00:00, 23.02it/s]\n",
      "100%|██████████| 9/9 [00:00<00:00, 28.25it/s]\n",
      "100%|██████████| 33/33 [00:01<00:00, 23.13it/s]\n",
      "100%|██████████| 9/9 [00:00<00:00, 29.02it/s]\n",
      " 58%|█████▊    | 19/33 [00:00<00:00, 18.53it/s]"
     ]
    },
    {
     "name": "stdout",
     "output_type": "stream",
     "text": [
      "Epoch: 100 (15/33)\n",
      "\tData load time: 0.137 sec\n",
      "\tGeneration time: 0.147 sec\n",
      "\tBackprop time: 0.170 sec\n",
      "\tLog probability: -15.3956 (avg -19.8976)\n",
      "\tKL: 128.0870 (avg 74.2254)\n",
      "\tLoss: 143.4825 (avg 94.1229)\n"
     ]
    },
    {
     "name": "stderr",
     "output_type": "stream",
     "text": [
      "100%|██████████| 33/33 [00:01<00:00, 23.06it/s]\n",
      "  0%|          | 0/9 [00:00<?, ?it/s]"
     ]
    },
    {
     "name": "stdout",
     "output_type": "stream",
     "text": [
      "Epoch: 100 (30/33)\n",
      "\tData load time: 0.137 sec\n",
      "\tGeneration time: 0.147 sec\n",
      "\tBackprop time: 0.170 sec\n",
      "\tLog probability: -11.2113 (avg -17.2955)\n",
      "\tKL: 49.5127 (avg 74.5114)\n",
      "\tLoss: 60.7240 (avg 91.8068)\n"
     ]
    },
    {
     "name": "stderr",
     "output_type": "stream",
     "text": [
      "100%|██████████| 9/9 [00:00<00:00, 27.31it/s]\n",
      "  0%|          | 0/33 [00:00<?, ?it/s]"
     ]
    },
    {
     "name": "stdout",
     "output_type": "stream",
     "text": [
      "VALIDATION\n",
      "Epoch: 100 (9/9)\n",
      "\tData load time: 0.159 sec\n",
      "\tGeneration time: 0.165 sec\n",
      "\tLog probability: -29.0089 (avg -20.2276)\n",
      "\tKL: 42.2990 (avg 65.7688)\n",
      "\tLoss: 71.3079 (avg 85.9964)\n"
     ]
    },
    {
     "name": "stderr",
     "output_type": "stream",
     "text": [
      "100%|██████████| 33/33 [00:01<00:00, 23.24it/s]\n",
      "100%|██████████| 9/9 [00:00<00:00, 29.92it/s]\n",
      "100%|██████████| 33/33 [00:01<00:00, 23.11it/s]\n",
      "100%|██████████| 9/9 [00:00<00:00, 28.96it/s]\n",
      "100%|██████████| 33/33 [00:01<00:00, 23.01it/s]\n",
      "100%|██████████| 9/9 [00:00<00:00, 28.98it/s]\n",
      "100%|██████████| 33/33 [00:01<00:00, 22.90it/s]\n",
      "100%|██████████| 9/9 [00:00<00:00, 28.40it/s]\n",
      "100%|██████████| 33/33 [00:01<00:00, 23.06it/s]\n",
      "100%|██████████| 9/9 [00:00<00:00, 28.82it/s]\n",
      "100%|██████████| 33/33 [00:01<00:00, 23.10it/s]\n",
      "100%|██████████| 9/9 [00:00<00:00, 28.40it/s]\n",
      "100%|██████████| 33/33 [00:01<00:00, 23.35it/s]\n",
      "100%|██████████| 9/9 [00:00<00:00, 28.84it/s]\n",
      "100%|██████████| 33/33 [00:01<00:00, 23.05it/s]\n",
      "100%|██████████| 9/9 [00:00<00:00, 28.55it/s]\n",
      "100%|██████████| 33/33 [00:01<00:00, 23.28it/s]\n",
      "100%|██████████| 9/9 [00:00<00:00, 30.31it/s]\n",
      " 58%|█████▊    | 19/33 [00:00<00:00, 18.46it/s]"
     ]
    },
    {
     "name": "stdout",
     "output_type": "stream",
     "text": [
      "Epoch: 110 (15/33)\n",
      "\tData load time: 0.134 sec\n",
      "\tGeneration time: 0.144 sec\n",
      "\tBackprop time: 0.172 sec\n",
      "\tLog probability: -15.5766 (avg -7.5012)\n",
      "\tKL: 34.0947 (avg 31.1008)\n",
      "\tLoss: 49.6713 (avg 38.6020)\n"
     ]
    },
    {
     "name": "stderr",
     "output_type": "stream",
     "text": [
      "100%|██████████| 33/33 [00:01<00:00, 23.22it/s]\n",
      "  0%|          | 0/9 [00:00<?, ?it/s]"
     ]
    },
    {
     "name": "stdout",
     "output_type": "stream",
     "text": [
      "Epoch: 110 (30/33)\n",
      "\tData load time: 0.134 sec\n",
      "\tGeneration time: 0.144 sec\n",
      "\tBackprop time: 0.172 sec\n",
      "\tLog probability: -6.8208 (avg -7.0098)\n",
      "\tKL: 34.1421 (avg 30.9503)\n",
      "\tLoss: 40.9629 (avg 37.9601)\n"
     ]
    },
    {
     "name": "stderr",
     "output_type": "stream",
     "text": [
      "100%|██████████| 9/9 [00:00<00:00, 28.32it/s]\n",
      "  0%|          | 0/33 [00:00<?, ?it/s]"
     ]
    },
    {
     "name": "stdout",
     "output_type": "stream",
     "text": [
      "VALIDATION\n",
      "Epoch: 110 (9/9)\n",
      "\tData load time: 0.148 sec\n",
      "\tGeneration time: 0.155 sec\n",
      "\tLog probability: -6.0945 (avg -5.4895)\n",
      "\tKL: 26.4199 (avg 33.3784)\n",
      "\tLoss: 32.5144 (avg 38.8679)\n"
     ]
    },
    {
     "name": "stderr",
     "output_type": "stream",
     "text": [
      "100%|██████████| 33/33 [00:01<00:00, 23.15it/s]\n",
      "100%|██████████| 9/9 [00:00<00:00, 29.49it/s]\n",
      "100%|██████████| 33/33 [00:01<00:00, 22.98it/s]\n",
      "100%|██████████| 9/9 [00:00<00:00, 27.80it/s]\n",
      "100%|██████████| 33/33 [00:01<00:00, 23.07it/s]\n",
      "100%|██████████| 9/9 [00:00<00:00, 28.41it/s]\n",
      "100%|██████████| 33/33 [00:01<00:00, 22.90it/s]\n",
      "100%|██████████| 9/9 [00:00<00:00, 28.85it/s]\n",
      "100%|██████████| 33/33 [00:01<00:00, 23.25it/s]\n",
      "100%|██████████| 9/9 [00:00<00:00, 28.74it/s]\n",
      "100%|██████████| 33/33 [00:01<00:00, 23.32it/s]\n",
      "100%|██████████| 9/9 [00:00<00:00, 28.83it/s]\n",
      "100%|██████████| 33/33 [00:01<00:00, 23.01it/s]\n",
      "100%|██████████| 9/9 [00:00<00:00, 28.71it/s]\n",
      "100%|██████████| 33/33 [00:01<00:00, 22.92it/s]\n",
      "100%|██████████| 9/9 [00:00<00:00, 28.30it/s]\n",
      "100%|██████████| 33/33 [00:01<00:00, 23.18it/s]\n",
      "100%|██████████| 9/9 [00:00<00:00, 28.01it/s]\n",
      " 58%|█████▊    | 19/33 [00:00<00:00, 17.95it/s]"
     ]
    },
    {
     "name": "stdout",
     "output_type": "stream",
     "text": [
      "Epoch: 120 (15/33)\n",
      "\tData load time: 0.156 sec\n",
      "\tGeneration time: 0.165 sec\n",
      "\tBackprop time: 0.185 sec\n",
      "\tLog probability: -9.2546 (avg -16.2441)\n",
      "\tKL: 124.2440 (avg 155.1346)\n",
      "\tLoss: 133.4986 (avg 171.3787)\n"
     ]
    },
    {
     "name": "stderr",
     "output_type": "stream",
     "text": [
      "100%|██████████| 33/33 [00:01<00:00, 22.88it/s]\n",
      "  0%|          | 0/9 [00:00<?, ?it/s]"
     ]
    },
    {
     "name": "stdout",
     "output_type": "stream",
     "text": [
      "Epoch: 120 (30/33)\n",
      "\tData load time: 0.156 sec\n",
      "\tGeneration time: 0.165 sec\n",
      "\tBackprop time: 0.185 sec\n",
      "\tLog probability: -19.4482 (avg -13.9779)\n",
      "\tKL: 93.3889 (avg 134.3623)\n",
      "\tLoss: 112.8371 (avg 148.3402)\n"
     ]
    },
    {
     "name": "stderr",
     "output_type": "stream",
     "text": [
      "100%|██████████| 9/9 [00:00<00:00, 28.83it/s]\n",
      "  0%|          | 0/33 [00:00<?, ?it/s]"
     ]
    },
    {
     "name": "stdout",
     "output_type": "stream",
     "text": [
      "VALIDATION\n",
      "Epoch: 120 (9/9)\n",
      "\tData load time: 0.149 sec\n",
      "\tGeneration time: 0.155 sec\n",
      "\tLog probability: -2.2948 (avg -10.9955)\n",
      "\tKL: 47.1071 (avg 116.7937)\n",
      "\tLoss: 49.4019 (avg 127.7892)\n"
     ]
    },
    {
     "name": "stderr",
     "output_type": "stream",
     "text": [
      "100%|██████████| 33/33 [00:01<00:00, 23.09it/s]\n",
      "100%|██████████| 9/9 [00:00<00:00, 28.09it/s]\n",
      "100%|██████████| 33/33 [00:01<00:00, 22.91it/s]\n",
      "100%|██████████| 9/9 [00:00<00:00, 29.20it/s]\n",
      "100%|██████████| 33/33 [00:01<00:00, 23.32it/s]\n",
      "100%|██████████| 9/9 [00:00<00:00, 29.63it/s]\n",
      "100%|██████████| 33/33 [00:01<00:00, 22.99it/s]\n",
      "100%|██████████| 9/9 [00:00<00:00, 28.25it/s]\n",
      "100%|██████████| 33/33 [00:01<00:00, 22.98it/s]\n",
      "100%|██████████| 9/9 [00:00<00:00, 28.48it/s]\n",
      "100%|██████████| 33/33 [00:01<00:00, 23.20it/s]\n",
      "100%|██████████| 9/9 [00:00<00:00, 28.41it/s]\n",
      "100%|██████████| 33/33 [00:01<00:00, 23.23it/s]\n",
      "100%|██████████| 9/9 [00:00<00:00, 28.34it/s]\n",
      "100%|██████████| 33/33 [00:01<00:00, 23.33it/s]\n",
      "100%|██████████| 9/9 [00:00<00:00, 28.66it/s]\n",
      "100%|██████████| 33/33 [00:01<00:00, 23.28it/s]\n",
      "100%|██████████| 9/9 [00:00<00:00, 28.91it/s]\n",
      " 58%|█████▊    | 19/33 [00:00<00:00, 18.65it/s]"
     ]
    },
    {
     "name": "stdout",
     "output_type": "stream",
     "text": [
      "Epoch: 130 (15/33)\n",
      "\tData load time: 0.134 sec\n",
      "\tGeneration time: 0.145 sec\n",
      "\tBackprop time: 0.166 sec\n",
      "\tLog probability: -6.9471 (avg -7.2066)\n",
      "\tKL: 37.8281 (avg 41.9878)\n",
      "\tLoss: 44.7752 (avg 49.1944)\n"
     ]
    },
    {
     "name": "stderr",
     "output_type": "stream",
     "text": [
      "100%|██████████| 33/33 [00:01<00:00, 23.10it/s]\n",
      "  0%|          | 0/9 [00:00<?, ?it/s]"
     ]
    },
    {
     "name": "stdout",
     "output_type": "stream",
     "text": [
      "Epoch: 130 (30/33)\n",
      "\tData load time: 0.134 sec\n",
      "\tGeneration time: 0.145 sec\n",
      "\tBackprop time: 0.166 sec\n",
      "\tLog probability: -6.1260 (avg -6.4847)\n",
      "\tKL: 35.5286 (avg 41.4431)\n",
      "\tLoss: 41.6546 (avg 47.9278)\n"
     ]
    },
    {
     "name": "stderr",
     "output_type": "stream",
     "text": [
      "100%|██████████| 9/9 [00:00<00:00, 27.80it/s]\n",
      "  0%|          | 0/33 [00:00<?, ?it/s]"
     ]
    },
    {
     "name": "stdout",
     "output_type": "stream",
     "text": [
      "VALIDATION\n",
      "Epoch: 130 (9/9)\n",
      "\tData load time: 0.155 sec\n",
      "\tGeneration time: 0.163 sec\n",
      "\tLog probability: -3.3505 (avg -4.1376)\n",
      "\tKL: 15.4171 (avg 48.9773)\n",
      "\tLoss: 18.7676 (avg 53.1149)\n"
     ]
    },
    {
     "name": "stderr",
     "output_type": "stream",
     "text": [
      "100%|██████████| 33/33 [00:01<00:00, 22.99it/s]\n",
      "100%|██████████| 9/9 [00:00<00:00, 27.83it/s]\n",
      "100%|██████████| 33/33 [00:01<00:00, 22.94it/s]\n",
      "100%|██████████| 9/9 [00:00<00:00, 29.07it/s]\n",
      "100%|██████████| 33/33 [00:01<00:00, 22.92it/s]\n",
      "100%|██████████| 9/9 [00:00<00:00, 29.57it/s]\n",
      "100%|██████████| 33/33 [00:01<00:00, 23.21it/s]\n",
      "100%|██████████| 9/9 [00:00<00:00, 28.03it/s]\n",
      "100%|██████████| 33/33 [00:01<00:00, 23.10it/s]\n",
      "100%|██████████| 9/9 [00:00<00:00, 28.26it/s]\n",
      "100%|██████████| 33/33 [00:01<00:00, 22.98it/s]\n",
      "100%|██████████| 9/9 [00:00<00:00, 28.24it/s]\n",
      "100%|██████████| 33/33 [00:01<00:00, 23.00it/s]\n",
      "100%|██████████| 9/9 [00:00<00:00, 28.73it/s]\n",
      "100%|██████████| 33/33 [00:01<00:00, 22.86it/s]\n",
      "100%|██████████| 9/9 [00:00<00:00, 29.01it/s]\n",
      "100%|██████████| 33/33 [00:01<00:00, 23.20it/s]\n",
      "100%|██████████| 9/9 [00:00<00:00, 27.77it/s]\n",
      " 58%|█████▊    | 19/33 [00:00<00:00, 18.79it/s]"
     ]
    },
    {
     "name": "stdout",
     "output_type": "stream",
     "text": [
      "Epoch: 140 (15/33)\n",
      "\tData load time: 0.125 sec\n",
      "\tGeneration time: 0.141 sec\n",
      "\tBackprop time: 0.164 sec\n",
      "\tLog probability: -9.6493 (avg -7.8085)\n",
      "\tKL: 33.5316 (avg 40.4948)\n",
      "\tLoss: 43.1809 (avg 48.3034)\n"
     ]
    },
    {
     "name": "stderr",
     "output_type": "stream",
     "text": [
      "100%|██████████| 33/33 [00:01<00:00, 23.22it/s]\n",
      "  0%|          | 0/9 [00:00<?, ?it/s]"
     ]
    },
    {
     "name": "stdout",
     "output_type": "stream",
     "text": [
      "Epoch: 140 (30/33)\n",
      "\tData load time: 0.125 sec\n",
      "\tGeneration time: 0.141 sec\n",
      "\tBackprop time: 0.164 sec\n",
      "\tLog probability: -4.6936 (avg -7.6608)\n",
      "\tKL: 37.6799 (avg 38.4098)\n",
      "\tLoss: 42.3734 (avg 46.0706)\n"
     ]
    },
    {
     "name": "stderr",
     "output_type": "stream",
     "text": [
      "100%|██████████| 9/9 [00:00<00:00, 28.36it/s]\n",
      "  0%|          | 0/33 [00:00<?, ?it/s]"
     ]
    },
    {
     "name": "stdout",
     "output_type": "stream",
     "text": [
      "VALIDATION\n",
      "Epoch: 140 (9/9)\n",
      "\tData load time: 0.151 sec\n",
      "\tGeneration time: 0.159 sec\n",
      "\tLog probability: -6.0319 (avg -11.4181)\n",
      "\tKL: 16.1537 (avg 41.0174)\n",
      "\tLoss: 22.1855 (avg 52.4356)\n"
     ]
    },
    {
     "name": "stderr",
     "output_type": "stream",
     "text": [
      "100%|██████████| 33/33 [00:01<00:00, 23.14it/s]\n",
      "100%|██████████| 9/9 [00:00<00:00, 28.84it/s]\n",
      "100%|██████████| 33/33 [00:01<00:00, 23.21it/s]\n",
      "100%|██████████| 9/9 [00:00<00:00, 28.61it/s]\n",
      "100%|██████████| 33/33 [00:01<00:00, 22.92it/s]\n",
      "100%|██████████| 9/9 [00:00<00:00, 29.39it/s]\n",
      "100%|██████████| 33/33 [00:01<00:00, 23.06it/s]\n",
      "100%|██████████| 9/9 [00:00<00:00, 28.55it/s]\n",
      "100%|██████████| 33/33 [00:01<00:00, 23.03it/s]\n",
      "100%|██████████| 9/9 [00:00<00:00, 28.35it/s]\n",
      "100%|██████████| 33/33 [00:01<00:00, 23.00it/s]\n",
      "100%|██████████| 9/9 [00:00<00:00, 28.97it/s]\n",
      "100%|██████████| 33/33 [00:01<00:00, 23.12it/s]\n",
      "100%|██████████| 9/9 [00:00<00:00, 29.76it/s]\n",
      "100%|██████████| 33/33 [00:01<00:00, 22.91it/s]\n",
      "100%|██████████| 9/9 [00:00<00:00, 27.85it/s]\n",
      "100%|██████████| 33/33 [00:01<00:00, 22.97it/s]\n",
      "100%|██████████| 9/9 [00:00<00:00, 27.85it/s]\n",
      " 58%|█████▊    | 19/33 [00:00<00:00, 18.23it/s]"
     ]
    },
    {
     "name": "stdout",
     "output_type": "stream",
     "text": [
      "Epoch: 150 (15/33)\n",
      "\tData load time: 0.144 sec\n",
      "\tGeneration time: 0.152 sec\n",
      "\tBackprop time: 0.176 sec\n",
      "\tLog probability: -5.0874 (avg -4.6632)\n",
      "\tKL: 30.1184 (avg 31.5442)\n",
      "\tLoss: 35.2058 (avg 36.2074)\n"
     ]
    },
    {
     "name": "stderr",
     "output_type": "stream",
     "text": [
      "100%|██████████| 33/33 [00:01<00:00, 22.96it/s]\n",
      "  0%|          | 0/9 [00:00<?, ?it/s]"
     ]
    },
    {
     "name": "stdout",
     "output_type": "stream",
     "text": [
      "Epoch: 150 (30/33)\n",
      "\tData load time: 0.144 sec\n",
      "\tGeneration time: 0.152 sec\n",
      "\tBackprop time: 0.176 sec\n",
      "\tLog probability: -3.8294 (avg -4.7405)\n",
      "\tKL: 27.4511 (avg 31.2445)\n",
      "\tLoss: 31.2805 (avg 35.9851)\n"
     ]
    },
    {
     "name": "stderr",
     "output_type": "stream",
     "text": [
      "100%|██████████| 9/9 [00:00<00:00, 27.56it/s]\n",
      "  0%|          | 0/33 [00:00<?, ?it/s]"
     ]
    },
    {
     "name": "stdout",
     "output_type": "stream",
     "text": [
      "VALIDATION\n",
      "Epoch: 150 (9/9)\n",
      "\tData load time: 0.153 sec\n",
      "\tGeneration time: 0.159 sec\n",
      "\tLog probability: -13.9978 (avg -5.0497)\n",
      "\tKL: 14.6070 (avg 31.5638)\n",
      "\tLoss: 28.6048 (avg 36.6135)\n"
     ]
    },
    {
     "name": "stderr",
     "output_type": "stream",
     "text": [
      "100%|██████████| 33/33 [00:01<00:00, 23.20it/s]\n",
      "100%|██████████| 9/9 [00:00<00:00, 28.99it/s]\n",
      "100%|██████████| 33/33 [00:01<00:00, 22.90it/s]\n",
      "100%|██████████| 9/9 [00:00<00:00, 27.59it/s]\n",
      "100%|██████████| 33/33 [00:01<00:00, 23.13it/s]\n",
      "100%|██████████| 9/9 [00:00<00:00, 29.56it/s]\n",
      "100%|██████████| 33/33 [00:01<00:00, 22.92it/s]\n",
      "100%|██████████| 9/9 [00:00<00:00, 27.77it/s]\n",
      "  0%|          | 0/33 [00:00<?, ?it/s]"
     ]
    },
    {
     "name": "stdout",
     "output_type": "stream",
     "text": [
      "Saving checkpoint..\n",
      "Lowest validation loss: 32.6713\n"
     ]
    },
    {
     "name": "stderr",
     "output_type": "stream",
     "text": [
      "100%|██████████| 33/33 [00:01<00:00, 23.02it/s]\n",
      "100%|██████████| 9/9 [00:00<00:00, 28.88it/s]\n",
      "100%|██████████| 33/33 [00:01<00:00, 23.09it/s]\n",
      "100%|██████████| 9/9 [00:00<00:00, 28.15it/s]\n",
      "100%|██████████| 33/33 [00:01<00:00, 22.46it/s]\n",
      "100%|██████████| 9/9 [00:00<00:00, 28.54it/s]\n",
      "100%|██████████| 33/33 [00:01<00:00, 22.68it/s]\n",
      "100%|██████████| 9/9 [00:00<00:00, 26.86it/s]\n",
      "100%|██████████| 33/33 [00:01<00:00, 22.83it/s]\n",
      "100%|██████████| 9/9 [00:00<00:00, 27.02it/s]\n",
      " 58%|█████▊    | 19/33 [00:00<00:00, 17.99it/s]"
     ]
    },
    {
     "name": "stdout",
     "output_type": "stream",
     "text": [
      "Epoch: 160 (15/33)\n",
      "\tData load time: 0.152 sec\n",
      "\tGeneration time: 0.163 sec\n",
      "\tBackprop time: 0.183 sec\n",
      "\tLog probability: -7.7300 (avg -7.7728)\n",
      "\tKL: 40.2980 (avg 32.5478)\n",
      "\tLoss: 48.0281 (avg 40.3206)\n"
     ]
    },
    {
     "name": "stderr",
     "output_type": "stream",
     "text": [
      "100%|██████████| 33/33 [00:01<00:00, 22.90it/s]\n",
      "  0%|          | 0/9 [00:00<?, ?it/s]"
     ]
    },
    {
     "name": "stdout",
     "output_type": "stream",
     "text": [
      "Epoch: 160 (30/33)\n",
      "\tData load time: 0.152 sec\n",
      "\tGeneration time: 0.163 sec\n",
      "\tBackprop time: 0.183 sec\n",
      "\tLog probability: -7.4167 (avg -7.0507)\n",
      "\tKL: 26.5693 (avg 30.3545)\n",
      "\tLoss: 33.9859 (avg 37.4052)\n"
     ]
    },
    {
     "name": "stderr",
     "output_type": "stream",
     "text": [
      "100%|██████████| 9/9 [00:00<00:00, 28.20it/s]\n",
      "  0%|          | 0/33 [00:00<?, ?it/s]"
     ]
    },
    {
     "name": "stdout",
     "output_type": "stream",
     "text": [
      "VALIDATION\n",
      "Epoch: 160 (9/9)\n",
      "\tData load time: 0.148 sec\n",
      "\tGeneration time: 0.154 sec\n",
      "\tLog probability: -3.3018 (avg -43.1519)\n",
      "\tKL: 41.6597 (avg 62.1917)\n",
      "\tLoss: 44.9615 (avg 105.3436)\n"
     ]
    },
    {
     "name": "stderr",
     "output_type": "stream",
     "text": [
      "100%|██████████| 33/33 [00:01<00:00, 22.85it/s]\n",
      "100%|██████████| 9/9 [00:00<00:00, 28.84it/s]\n",
      "100%|██████████| 33/33 [00:01<00:00, 22.84it/s]\n",
      "100%|██████████| 9/9 [00:00<00:00, 28.57it/s]\n",
      "100%|██████████| 33/33 [00:01<00:00, 22.88it/s]\n",
      "100%|██████████| 9/9 [00:00<00:00, 29.38it/s]\n",
      "100%|██████████| 33/33 [00:01<00:00, 22.96it/s]\n",
      "100%|██████████| 9/9 [00:00<00:00, 27.83it/s]\n",
      "100%|██████████| 33/33 [00:01<00:00, 22.92it/s]\n",
      "100%|██████████| 9/9 [00:00<00:00, 28.48it/s]\n",
      "100%|██████████| 33/33 [00:01<00:00, 23.21it/s]\n",
      "100%|██████████| 9/9 [00:00<00:00, 28.17it/s]\n",
      "100%|██████████| 33/33 [00:01<00:00, 22.97it/s]\n",
      "100%|██████████| 9/9 [00:00<00:00, 28.29it/s]\n",
      "  0%|          | 0/33 [00:00<?, ?it/s]"
     ]
    },
    {
     "name": "stdout",
     "output_type": "stream",
     "text": [
      "Saving checkpoint..\n",
      "Lowest validation loss: 32.1627\n"
     ]
    },
    {
     "name": "stderr",
     "output_type": "stream",
     "text": [
      "100%|██████████| 33/33 [00:01<00:00, 22.97it/s]\n",
      "100%|██████████| 9/9 [00:00<00:00, 29.89it/s]\n",
      "  0%|          | 0/33 [00:00<?, ?it/s]"
     ]
    },
    {
     "name": "stdout",
     "output_type": "stream",
     "text": [
      "Saving checkpoint..\n",
      "Lowest validation loss: 31.9150\n"
     ]
    },
    {
     "name": "stderr",
     "output_type": "stream",
     "text": [
      "100%|██████████| 33/33 [00:01<00:00, 23.00it/s]\n",
      "100%|██████████| 9/9 [00:00<00:00, 28.43it/s]\n",
      "  0%|          | 0/33 [00:00<?, ?it/s]"
     ]
    },
    {
     "name": "stdout",
     "output_type": "stream",
     "text": [
      "Saving checkpoint..\n",
      "Lowest validation loss: 27.8383\n"
     ]
    },
    {
     "name": "stderr",
     "output_type": "stream",
     "text": [
      " 58%|█████▊    | 19/33 [00:00<00:00, 18.09it/s]"
     ]
    },
    {
     "name": "stdout",
     "output_type": "stream",
     "text": [
      "Epoch: 170 (15/33)\n",
      "\tData load time: 0.153 sec\n",
      "\tGeneration time: 0.165 sec\n",
      "\tBackprop time: 0.183 sec\n",
      "\tLog probability: -3.5148 (avg -5.1217)\n",
      "\tKL: 21.8140 (avg 26.6334)\n",
      "\tLoss: 25.3288 (avg 31.7551)\n"
     ]
    },
    {
     "name": "stderr",
     "output_type": "stream",
     "text": [
      "100%|██████████| 33/33 [00:01<00:00, 23.02it/s]\n",
      "  0%|          | 0/9 [00:00<?, ?it/s]"
     ]
    },
    {
     "name": "stdout",
     "output_type": "stream",
     "text": [
      "Epoch: 170 (30/33)\n",
      "\tData load time: 0.153 sec\n",
      "\tGeneration time: 0.165 sec\n",
      "\tBackprop time: 0.183 sec\n",
      "\tLog probability: -2.9723 (avg -4.9174)\n",
      "\tKL: 23.9969 (avg 25.1051)\n",
      "\tLoss: 26.9692 (avg 30.0224)\n"
     ]
    },
    {
     "name": "stderr",
     "output_type": "stream",
     "text": [
      "100%|██████████| 9/9 [00:00<00:00, 28.04it/s]\n",
      "  0%|          | 0/33 [00:00<?, ?it/s]"
     ]
    },
    {
     "name": "stdout",
     "output_type": "stream",
     "text": [
      "VALIDATION\n",
      "Epoch: 170 (9/9)\n",
      "\tData load time: 0.153 sec\n",
      "\tGeneration time: 0.163 sec\n",
      "\tLog probability: -1.4594 (avg -3.2064)\n",
      "\tKL: 20.1886 (avg 26.1455)\n",
      "\tLoss: 21.6480 (avg 29.3519)\n"
     ]
    },
    {
     "name": "stderr",
     "output_type": "stream",
     "text": [
      "100%|██████████| 33/33 [00:01<00:00, 23.04it/s]\n",
      "100%|██████████| 9/9 [00:00<00:00, 28.74it/s]\n",
      "100%|██████████| 33/33 [00:01<00:00, 22.89it/s]\n",
      "100%|██████████| 9/9 [00:00<00:00, 27.79it/s]\n",
      "100%|██████████| 33/33 [00:01<00:00, 22.75it/s]\n",
      "100%|██████████| 9/9 [00:00<00:00, 24.99it/s]\n",
      "100%|██████████| 33/33 [00:01<00:00, 22.51it/s]\n",
      "100%|██████████| 9/9 [00:00<00:00, 28.89it/s]\n",
      "100%|██████████| 33/33 [00:01<00:00, 23.17it/s]\n",
      "100%|██████████| 9/9 [00:00<00:00, 29.44it/s]\n",
      "100%|██████████| 33/33 [00:01<00:00, 22.98it/s]\n",
      "100%|██████████| 9/9 [00:00<00:00, 28.29it/s]\n",
      "100%|██████████| 33/33 [00:01<00:00, 22.89it/s]\n",
      "100%|██████████| 9/9 [00:00<00:00, 29.09it/s]\n",
      "100%|██████████| 33/33 [00:01<00:00, 22.84it/s]\n",
      "100%|██████████| 9/9 [00:00<00:00, 27.88it/s]\n",
      "100%|██████████| 33/33 [00:01<00:00, 22.96it/s]\n",
      "100%|██████████| 9/9 [00:00<00:00, 28.99it/s]\n",
      " 58%|█████▊    | 19/33 [00:00<00:00, 17.98it/s]"
     ]
    },
    {
     "name": "stdout",
     "output_type": "stream",
     "text": [
      "Epoch: 180 (15/33)\n",
      "\tData load time: 0.156 sec\n",
      "\tGeneration time: 0.164 sec\n",
      "\tBackprop time: 0.184 sec\n",
      "\tLog probability: -3.7657 (avg -5.7475)\n",
      "\tKL: 29.5971 (avg 25.8550)\n",
      "\tLoss: 33.3629 (avg 31.6024)\n"
     ]
    },
    {
     "name": "stderr",
     "output_type": "stream",
     "text": [
      "100%|██████████| 33/33 [00:01<00:00, 22.85it/s]\n",
      "  0%|          | 0/9 [00:00<?, ?it/s]"
     ]
    },
    {
     "name": "stdout",
     "output_type": "stream",
     "text": [
      "Epoch: 180 (30/33)\n",
      "\tData load time: 0.156 sec\n",
      "\tGeneration time: 0.164 sec\n",
      "\tBackprop time: 0.184 sec\n",
      "\tLog probability: -7.3648 (avg -5.6272)\n",
      "\tKL: 27.4023 (avg 27.8081)\n",
      "\tLoss: 34.7671 (avg 33.4353)\n"
     ]
    },
    {
     "name": "stderr",
     "output_type": "stream",
     "text": [
      "100%|██████████| 9/9 [00:00<00:00, 28.04it/s]\n",
      "  0%|          | 0/33 [00:00<?, ?it/s]"
     ]
    },
    {
     "name": "stdout",
     "output_type": "stream",
     "text": [
      "VALIDATION\n",
      "Epoch: 180 (9/9)\n",
      "\tData load time: 0.148 sec\n",
      "\tGeneration time: 0.156 sec\n",
      "\tLog probability: -4.3141 (avg -120.6414)\n",
      "\tKL: 31.3369 (avg 31.1190)\n",
      "\tLoss: 35.6510 (avg 151.7605)\n"
     ]
    },
    {
     "name": "stderr",
     "output_type": "stream",
     "text": [
      "100%|██████████| 33/33 [00:01<00:00, 22.98it/s]\n",
      "100%|██████████| 9/9 [00:00<00:00, 27.56it/s]\n",
      "100%|██████████| 33/33 [00:01<00:00, 22.85it/s]\n",
      "100%|██████████| 9/9 [00:00<00:00, 29.15it/s]\n",
      "100%|██████████| 33/33 [00:01<00:00, 23.09it/s]\n",
      "100%|██████████| 9/9 [00:00<00:00, 28.10it/s]\n",
      "100%|██████████| 33/33 [00:01<00:00, 22.93it/s]\n",
      "100%|██████████| 9/9 [00:00<00:00, 28.71it/s]\n",
      "100%|██████████| 33/33 [00:01<00:00, 22.70it/s]\n",
      "100%|██████████| 9/9 [00:00<00:00, 26.74it/s]\n",
      "100%|██████████| 33/33 [00:01<00:00, 22.90it/s]\n",
      "100%|██████████| 9/9 [00:00<00:00, 28.45it/s]\n",
      "100%|██████████| 33/33 [00:01<00:00, 23.05it/s]\n",
      "100%|██████████| 9/9 [00:00<00:00, 27.60it/s]\n",
      "100%|██████████| 33/33 [00:01<00:00, 22.82it/s]\n",
      "100%|██████████| 9/9 [00:00<00:00, 28.88it/s]\n",
      "100%|██████████| 33/33 [00:01<00:00, 22.80it/s]\n",
      "100%|██████████| 9/9 [00:00<00:00, 28.59it/s]\n",
      " 58%|█████▊    | 19/33 [00:00<00:00, 18.13it/s]"
     ]
    },
    {
     "name": "stdout",
     "output_type": "stream",
     "text": [
      "Epoch: 190 (15/33)\n",
      "\tData load time: 0.146 sec\n",
      "\tGeneration time: 0.157 sec\n",
      "\tBackprop time: 0.179 sec\n",
      "\tLog probability: -5.3021 (avg -5.7524)\n",
      "\tKL: 29.3981 (avg 30.7687)\n",
      "\tLoss: 34.7002 (avg 36.5212)\n"
     ]
    },
    {
     "name": "stderr",
     "output_type": "stream",
     "text": [
      "100%|██████████| 33/33 [00:01<00:00, 22.98it/s]\n",
      "  0%|          | 0/9 [00:00<?, ?it/s]"
     ]
    },
    {
     "name": "stdout",
     "output_type": "stream",
     "text": [
      "Epoch: 190 (30/33)\n",
      "\tData load time: 0.146 sec\n",
      "\tGeneration time: 0.157 sec\n",
      "\tBackprop time: 0.179 sec\n",
      "\tLog probability: -7.0005 (avg -6.0156)\n",
      "\tKL: 25.6983 (avg 30.7147)\n",
      "\tLoss: 32.6988 (avg 36.7302)\n"
     ]
    },
    {
     "name": "stderr",
     "output_type": "stream",
     "text": [
      "100%|██████████| 9/9 [00:00<00:00, 27.41it/s]\n",
      "  0%|          | 0/33 [00:00<?, ?it/s]"
     ]
    },
    {
     "name": "stdout",
     "output_type": "stream",
     "text": [
      "VALIDATION\n",
      "Epoch: 190 (9/9)\n",
      "\tData load time: 0.147 sec\n",
      "\tGeneration time: 0.156 sec\n",
      "\tLog probability: -9.4203 (avg -5.2542)\n",
      "\tKL: 176.5928 (avg 50.6328)\n",
      "\tLoss: 186.0132 (avg 55.8870)\n"
     ]
    },
    {
     "name": "stderr",
     "output_type": "stream",
     "text": [
      "100%|██████████| 33/33 [00:01<00:00, 22.84it/s]\n",
      "100%|██████████| 9/9 [00:00<00:00, 27.41it/s]\n",
      "100%|██████████| 33/33 [00:01<00:00, 22.68it/s]\n",
      "100%|██████████| 9/9 [00:00<00:00, 28.67it/s]\n",
      "100%|██████████| 33/33 [00:01<00:00, 23.02it/s]\n",
      "100%|██████████| 9/9 [00:00<00:00, 27.68it/s]\n",
      "100%|██████████| 33/33 [00:01<00:00, 23.10it/s]\n",
      "100%|██████████| 9/9 [00:00<00:00, 28.32it/s]\n",
      "100%|██████████| 33/33 [00:01<00:00, 22.99it/s]\n",
      "100%|██████████| 9/9 [00:00<00:00, 28.47it/s]\n",
      "100%|██████████| 33/33 [00:01<00:00, 23.07it/s]\n",
      "100%|██████████| 9/9 [00:00<00:00, 28.32it/s]\n",
      "100%|██████████| 33/33 [00:01<00:00, 22.94it/s]\n",
      "100%|██████████| 9/9 [00:00<00:00, 28.27it/s]\n",
      "100%|██████████| 33/33 [00:01<00:00, 23.04it/s]\n",
      "100%|██████████| 9/9 [00:00<00:00, 27.87it/s]\n",
      "100%|██████████| 33/33 [00:01<00:00, 23.01it/s]\n",
      "100%|██████████| 9/9 [00:00<00:00, 27.81it/s]\n",
      " 58%|█████▊    | 19/33 [00:00<00:00, 19.01it/s]"
     ]
    },
    {
     "name": "stdout",
     "output_type": "stream",
     "text": [
      "Epoch: 200 (15/33)\n",
      "\tData load time: 0.124 sec\n",
      "\tGeneration time: 0.135 sec\n",
      "\tBackprop time: 0.157 sec\n",
      "\tLog probability: -8.8443 (avg -6.4008)\n",
      "\tKL: 32.7894 (avg 27.9303)\n",
      "\tLoss: 41.6337 (avg 34.3311)\n"
     ]
    },
    {
     "name": "stderr",
     "output_type": "stream",
     "text": [
      "100%|██████████| 33/33 [00:01<00:00, 23.26it/s]\n",
      "  0%|          | 0/9 [00:00<?, ?it/s]"
     ]
    },
    {
     "name": "stdout",
     "output_type": "stream",
     "text": [
      "Epoch: 200 (30/33)\n",
      "\tData load time: 0.124 sec\n",
      "\tGeneration time: 0.135 sec\n",
      "\tBackprop time: 0.157 sec\n",
      "\tLog probability: -4.2591 (avg -6.1966)\n",
      "\tKL: 26.9807 (avg 31.3810)\n",
      "\tLoss: 31.2397 (avg 37.5776)\n"
     ]
    },
    {
     "name": "stderr",
     "output_type": "stream",
     "text": [
      "100%|██████████| 9/9 [00:00<00:00, 28.82it/s]\n",
      "  0%|          | 0/33 [00:00<?, ?it/s]"
     ]
    },
    {
     "name": "stdout",
     "output_type": "stream",
     "text": [
      "VALIDATION\n",
      "Epoch: 200 (9/9)\n",
      "\tData load time: 0.127 sec\n",
      "\tGeneration time: 0.137 sec\n",
      "\tLog probability: -1.4977 (avg -8.5999)\n",
      "\tKL: 32.7710 (avg 38.7311)\n",
      "\tLoss: 34.2687 (avg 47.3310)\n"
     ]
    },
    {
     "name": "stderr",
     "output_type": "stream",
     "text": [
      "100%|██████████| 33/33 [00:01<00:00, 23.02it/s]\n",
      "100%|██████████| 9/9 [00:00<00:00, 28.59it/s]\n",
      "100%|██████████| 33/33 [00:01<00:00, 22.79it/s]\n",
      "100%|██████████| 9/9 [00:00<00:00, 28.46it/s]\n",
      "100%|██████████| 33/33 [00:01<00:00, 22.86it/s]\n",
      "100%|██████████| 9/9 [00:00<00:00, 29.37it/s]\n",
      "100%|██████████| 33/33 [00:01<00:00, 22.94it/s]\n",
      "100%|██████████| 9/9 [00:00<00:00, 28.41it/s]\n",
      "100%|██████████| 33/33 [00:01<00:00, 22.92it/s]\n",
      "100%|██████████| 9/9 [00:00<00:00, 28.52it/s]\n",
      "100%|██████████| 33/33 [00:01<00:00, 22.97it/s]\n",
      "100%|██████████| 9/9 [00:00<00:00, 29.04it/s]\n",
      "100%|██████████| 33/33 [00:01<00:00, 23.12it/s]\n",
      "100%|██████████| 9/9 [00:00<00:00, 27.83it/s]\n",
      "100%|██████████| 33/33 [00:01<00:00, 22.92it/s]\n",
      "100%|██████████| 9/9 [00:00<00:00, 27.47it/s]\n",
      "  0%|          | 0/33 [00:00<?, ?it/s]"
     ]
    },
    {
     "name": "stdout",
     "output_type": "stream",
     "text": [
      "Saving checkpoint..\n",
      "Lowest validation loss: 27.7716\n"
     ]
    },
    {
     "name": "stderr",
     "output_type": "stream",
     "text": [
      "100%|██████████| 33/33 [00:01<00:00, 22.86it/s]\n",
      "100%|██████████| 9/9 [00:00<00:00, 28.17it/s]\n",
      "  0%|          | 0/33 [00:00<?, ?it/s]"
     ]
    },
    {
     "name": "stdout",
     "output_type": "stream",
     "text": [
      "Saving checkpoint..\n",
      "Lowest validation loss: 26.3588\n"
     ]
    },
    {
     "name": "stderr",
     "output_type": "stream",
     "text": [
      " 58%|█████▊    | 19/33 [00:00<00:00, 18.19it/s]"
     ]
    },
    {
     "name": "stdout",
     "output_type": "stream",
     "text": [
      "Epoch: 210 (15/33)\n",
      "\tData load time: 0.146 sec\n",
      "\tGeneration time: 0.158 sec\n",
      "\tBackprop time: 0.178 sec\n",
      "\tLog probability: -4.2712 (avg -4.7510)\n",
      "\tKL: 21.0263 (avg 22.9361)\n",
      "\tLoss: 25.2974 (avg 27.6871)\n"
     ]
    },
    {
     "name": "stderr",
     "output_type": "stream",
     "text": [
      "100%|██████████| 33/33 [00:01<00:00, 22.95it/s]\n",
      "  0%|          | 0/9 [00:00<?, ?it/s]"
     ]
    },
    {
     "name": "stdout",
     "output_type": "stream",
     "text": [
      "Epoch: 210 (30/33)\n",
      "\tData load time: 0.146 sec\n",
      "\tGeneration time: 0.158 sec\n",
      "\tBackprop time: 0.178 sec\n",
      "\tLog probability: -4.9264 (avg -4.7671)\n",
      "\tKL: 22.9488 (avg 22.8908)\n",
      "\tLoss: 27.8752 (avg 27.6578)\n"
     ]
    },
    {
     "name": "stderr",
     "output_type": "stream",
     "text": [
      "100%|██████████| 9/9 [00:00<00:00, 26.83it/s]\n",
      "  0%|          | 0/33 [00:00<?, ?it/s]"
     ]
    },
    {
     "name": "stdout",
     "output_type": "stream",
     "text": [
      "VALIDATION\n",
      "Epoch: 210 (9/9)\n",
      "\tData load time: 0.161 sec\n",
      "\tGeneration time: 0.169 sec\n",
      "\tLog probability: -4.0867 (avg -3.2187)\n",
      "\tKL: 122.2625 (avg 36.0159)\n",
      "\tLoss: 126.3491 (avg 39.2346)\n"
     ]
    },
    {
     "name": "stderr",
     "output_type": "stream",
     "text": [
      "100%|██████████| 33/33 [00:01<00:00, 23.02it/s]\n",
      "100%|██████████| 9/9 [00:00<00:00, 27.82it/s]\n",
      "100%|██████████| 33/33 [00:01<00:00, 22.88it/s]\n",
      "100%|██████████| 9/9 [00:00<00:00, 27.94it/s]\n",
      "100%|██████████| 33/33 [00:01<00:00, 23.23it/s]\n",
      "100%|██████████| 9/9 [00:00<00:00, 29.65it/s]\n",
      "100%|██████████| 33/33 [00:01<00:00, 23.10it/s]\n",
      "100%|██████████| 9/9 [00:00<00:00, 28.33it/s]\n",
      "  0%|          | 0/33 [00:00<?, ?it/s]"
     ]
    },
    {
     "name": "stdout",
     "output_type": "stream",
     "text": [
      "Saving checkpoint..\n",
      "Lowest validation loss: 26.0751\n"
     ]
    },
    {
     "name": "stderr",
     "output_type": "stream",
     "text": [
      "100%|██████████| 33/33 [00:01<00:00, 23.01it/s]\n",
      "100%|██████████| 9/9 [00:00<00:00, 28.24it/s]\n",
      "100%|██████████| 33/33 [00:01<00:00, 22.88it/s]\n",
      "100%|██████████| 9/9 [00:00<00:00, 28.98it/s]\n",
      "100%|██████████| 33/33 [00:01<00:00, 22.81it/s]\n",
      "100%|██████████| 9/9 [00:00<00:00, 28.44it/s]\n",
      "100%|██████████| 33/33 [00:01<00:00, 23.02it/s]\n",
      "100%|██████████| 9/9 [00:00<00:00, 28.45it/s]\n",
      "100%|██████████| 33/33 [00:01<00:00, 23.10it/s]\n",
      "100%|██████████| 9/9 [00:00<00:00, 28.02it/s]\n",
      " 58%|█████▊    | 19/33 [00:00<00:00, 18.30it/s]"
     ]
    },
    {
     "name": "stdout",
     "output_type": "stream",
     "text": [
      "Epoch: 220 (15/33)\n",
      "\tData load time: 0.147 sec\n",
      "\tGeneration time: 0.158 sec\n",
      "\tBackprop time: 0.177 sec\n",
      "\tLog probability: -8.0626 (avg -7.6472)\n",
      "\tKL: 46.7284 (avg 47.9671)\n",
      "\tLoss: 54.7910 (avg 55.6143)\n"
     ]
    },
    {
     "name": "stderr",
     "output_type": "stream",
     "text": [
      "100%|██████████| 33/33 [00:01<00:00, 23.06it/s]\n",
      "  0%|          | 0/9 [00:00<?, ?it/s]"
     ]
    },
    {
     "name": "stdout",
     "output_type": "stream",
     "text": [
      "Epoch: 220 (30/33)\n",
      "\tData load time: 0.147 sec\n",
      "\tGeneration time: 0.158 sec\n",
      "\tBackprop time: 0.177 sec\n",
      "\tLog probability: -15.1119 (avg -7.4264)\n",
      "\tKL: 44.0116 (avg 44.5948)\n",
      "\tLoss: 59.1235 (avg 52.0212)\n"
     ]
    },
    {
     "name": "stderr",
     "output_type": "stream",
     "text": [
      "100%|██████████| 9/9 [00:00<00:00, 27.15it/s]\n",
      "  0%|          | 0/33 [00:00<?, ?it/s]"
     ]
    },
    {
     "name": "stdout",
     "output_type": "stream",
     "text": [
      "VALIDATION\n",
      "Epoch: 220 (9/9)\n",
      "\tData load time: 0.156 sec\n",
      "\tGeneration time: 0.162 sec\n",
      "\tLog probability: -7.2426 (avg -5.1298)\n",
      "\tKL: 293.2363 (avg 77.5816)\n",
      "\tLoss: 300.4789 (avg 82.7114)\n"
     ]
    },
    {
     "name": "stderr",
     "output_type": "stream",
     "text": [
      "100%|██████████| 33/33 [00:01<00:00, 22.96it/s]\n",
      "100%|██████████| 9/9 [00:00<00:00, 28.26it/s]\n",
      "100%|██████████| 33/33 [00:01<00:00, 23.06it/s]\n",
      "100%|██████████| 9/9 [00:00<00:00, 29.45it/s]\n",
      "100%|██████████| 33/33 [00:01<00:00, 22.99it/s]\n",
      "100%|██████████| 9/9 [00:00<00:00, 28.39it/s]\n",
      "100%|██████████| 33/33 [00:01<00:00, 23.01it/s]\n",
      "100%|██████████| 9/9 [00:00<00:00, 28.12it/s]\n",
      "100%|██████████| 33/33 [00:01<00:00, 22.68it/s]\n",
      "100%|██████████| 9/9 [00:00<00:00, 27.40it/s]\n",
      "100%|██████████| 33/33 [00:01<00:00, 23.24it/s]\n",
      "100%|██████████| 9/9 [00:00<00:00, 28.64it/s]\n",
      "100%|██████████| 33/33 [00:01<00:00, 23.12it/s]\n",
      "100%|██████████| 9/9 [00:00<00:00, 28.38it/s]\n",
      "100%|██████████| 33/33 [00:01<00:00, 22.95it/s]\n",
      "100%|██████████| 9/9 [00:00<00:00, 27.91it/s]\n",
      "  0%|          | 0/33 [00:00<?, ?it/s]"
     ]
    },
    {
     "name": "stdout",
     "output_type": "stream",
     "text": [
      "Saving checkpoint..\n",
      "Lowest validation loss: 25.4090\n"
     ]
    },
    {
     "name": "stderr",
     "output_type": "stream",
     "text": [
      "100%|██████████| 33/33 [00:01<00:00, 22.89it/s]\n",
      "100%|██████████| 9/9 [00:00<00:00, 28.00it/s]\n",
      " 58%|█████▊    | 19/33 [00:00<00:00, 18.37it/s]"
     ]
    },
    {
     "name": "stdout",
     "output_type": "stream",
     "text": [
      "Epoch: 230 (15/33)\n",
      "\tData load time: 0.135 sec\n",
      "\tGeneration time: 0.146 sec\n",
      "\tBackprop time: 0.175 sec\n",
      "\tLog probability: -9.5874 (avg -4.3850)\n",
      "\tKL: 22.5745 (avg 21.6597)\n",
      "\tLoss: 32.1619 (avg 26.0446)\n"
     ]
    },
    {
     "name": "stderr",
     "output_type": "stream",
     "text": [
      "100%|██████████| 33/33 [00:01<00:00, 23.08it/s]\n",
      "  0%|          | 0/9 [00:00<?, ?it/s]"
     ]
    },
    {
     "name": "stdout",
     "output_type": "stream",
     "text": [
      "Epoch: 230 (30/33)\n",
      "\tData load time: 0.135 sec\n",
      "\tGeneration time: 0.146 sec\n",
      "\tBackprop time: 0.175 sec\n",
      "\tLog probability: -2.1218 (avg -4.4194)\n",
      "\tKL: 23.2373 (avg 22.3570)\n",
      "\tLoss: 25.3592 (avg 26.7764)\n"
     ]
    },
    {
     "name": "stderr",
     "output_type": "stream",
     "text": [
      "100%|██████████| 9/9 [00:00<00:00, 28.38it/s]\n",
      "  0%|          | 0/33 [00:00<?, ?it/s]"
     ]
    },
    {
     "name": "stdout",
     "output_type": "stream",
     "text": [
      "VALIDATION\n",
      "Epoch: 230 (9/9)\n",
      "\tData load time: 0.147 sec\n",
      "\tGeneration time: 0.154 sec\n",
      "\tLog probability: -0.7708 (avg -3.0584)\n",
      "\tKL: 18.1586 (avg 23.5544)\n",
      "\tLoss: 18.9294 (avg 26.6128)\n"
     ]
    },
    {
     "name": "stderr",
     "output_type": "stream",
     "text": [
      "100%|██████████| 33/33 [00:01<00:00, 23.00it/s]\n",
      "100%|██████████| 9/9 [00:00<00:00, 29.12it/s]\n",
      "  0%|          | 0/33 [00:00<?, ?it/s]"
     ]
    },
    {
     "name": "stdout",
     "output_type": "stream",
     "text": [
      "Saving checkpoint..\n",
      "Lowest validation loss: 24.6692\n"
     ]
    },
    {
     "name": "stderr",
     "output_type": "stream",
     "text": [
      "100%|██████████| 33/33 [00:01<00:00, 22.80it/s]\n",
      "100%|██████████| 9/9 [00:00<00:00, 28.35it/s]\n",
      "100%|██████████| 33/33 [00:01<00:00, 23.23it/s]\n",
      "100%|██████████| 9/9 [00:00<00:00, 27.81it/s]\n",
      "100%|██████████| 33/33 [00:01<00:00, 22.84it/s]\n",
      "100%|██████████| 9/9 [00:00<00:00, 28.87it/s]\n",
      "100%|██████████| 33/33 [00:01<00:00, 22.95it/s]\n",
      "100%|██████████| 9/9 [00:00<00:00, 28.34it/s]\n",
      "100%|██████████| 33/33 [00:01<00:00, 22.94it/s]\n",
      "100%|██████████| 9/9 [00:00<00:00, 28.16it/s]\n",
      "100%|██████████| 33/33 [00:01<00:00, 23.06it/s]\n",
      "100%|██████████| 9/9 [00:00<00:00, 28.69it/s]\n",
      "100%|██████████| 33/33 [00:01<00:00, 23.05it/s]\n",
      "100%|██████████| 9/9 [00:00<00:00, 27.99it/s]\n",
      "100%|██████████| 33/33 [00:01<00:00, 23.15it/s]\n",
      "100%|██████████| 9/9 [00:00<00:00, 27.95it/s]\n",
      " 58%|█████▊    | 19/33 [00:00<00:00, 18.31it/s]"
     ]
    },
    {
     "name": "stdout",
     "output_type": "stream",
     "text": [
      "Epoch: 240 (15/33)\n",
      "\tData load time: 0.145 sec\n",
      "\tGeneration time: 0.157 sec\n",
      "\tBackprop time: 0.178 sec\n",
      "\tLog probability: -7.3617 (avg -6.5211)\n",
      "\tKL: 63.7216 (avg 42.8294)\n",
      "\tLoss: 71.0833 (avg 49.3504)\n"
     ]
    },
    {
     "name": "stderr",
     "output_type": "stream",
     "text": [
      "100%|██████████| 33/33 [00:01<00:00, 22.99it/s]\n",
      "  0%|          | 0/9 [00:00<?, ?it/s]"
     ]
    },
    {
     "name": "stdout",
     "output_type": "stream",
     "text": [
      "Epoch: 240 (30/33)\n",
      "\tData load time: 0.145 sec\n",
      "\tGeneration time: 0.157 sec\n",
      "\tBackprop time: 0.178 sec\n",
      "\tLog probability: -5.5515 (avg -5.5307)\n",
      "\tKL: 41.4263 (avg 45.2073)\n",
      "\tLoss: 46.9778 (avg 50.7381)\n"
     ]
    },
    {
     "name": "stderr",
     "output_type": "stream",
     "text": [
      "100%|██████████| 9/9 [00:00<00:00, 27.78it/s]\n",
      "  0%|          | 0/33 [00:00<?, ?it/s]"
     ]
    },
    {
     "name": "stdout",
     "output_type": "stream",
     "text": [
      "VALIDATION\n",
      "Epoch: 240 (9/9)\n",
      "\tData load time: 0.156 sec\n",
      "\tGeneration time: 0.163 sec\n",
      "\tLog probability: -1.2607 (avg -4.6106)\n",
      "\tKL: 28.7644 (avg 40.7070)\n",
      "\tLoss: 30.0251 (avg 45.3175)\n"
     ]
    },
    {
     "name": "stderr",
     "output_type": "stream",
     "text": [
      "100%|██████████| 33/33 [00:01<00:00, 23.10it/s]\n",
      "100%|██████████| 9/9 [00:00<00:00, 27.97it/s]\n",
      "100%|██████████| 33/33 [00:01<00:00, 23.12it/s]\n",
      "100%|██████████| 9/9 [00:00<00:00, 28.50it/s]\n",
      "100%|██████████| 33/33 [00:01<00:00, 23.00it/s]\n",
      "100%|██████████| 9/9 [00:00<00:00, 28.64it/s]\n",
      "100%|██████████| 33/33 [00:01<00:00, 23.06it/s]\n",
      "100%|██████████| 9/9 [00:00<00:00, 28.01it/s]\n",
      "100%|██████████| 33/33 [00:01<00:00, 22.91it/s]\n",
      "100%|██████████| 9/9 [00:00<00:00, 29.05it/s]\n",
      "100%|██████████| 33/33 [00:01<00:00, 23.17it/s]\n",
      "100%|██████████| 9/9 [00:00<00:00, 28.76it/s]\n",
      "100%|██████████| 33/33 [00:01<00:00, 22.93it/s]\n",
      "100%|██████████| 9/9 [00:00<00:00, 28.11it/s]\n",
      "100%|██████████| 33/33 [00:01<00:00, 23.34it/s]\n",
      "100%|██████████| 9/9 [00:00<00:00, 29.10it/s]\n",
      "100%|██████████| 33/33 [00:01<00:00, 23.16it/s]\n",
      "100%|██████████| 9/9 [00:00<00:00, 29.01it/s]\n",
      " 58%|█████▊    | 19/33 [00:00<00:00, 18.53it/s]"
     ]
    },
    {
     "name": "stdout",
     "output_type": "stream",
     "text": [
      "Epoch: 250 (15/33)\n",
      "\tData load time: 0.129 sec\n",
      "\tGeneration time: 0.151 sec\n",
      "\tBackprop time: 0.171 sec\n",
      "\tLog probability: -3.3028 (avg -4.7145)\n",
      "\tKL: 24.9150 (avg 24.7740)\n",
      "\tLoss: 28.2178 (avg 29.4885)\n"
     ]
    },
    {
     "name": "stderr",
     "output_type": "stream",
     "text": [
      "100%|██████████| 33/33 [00:01<00:00, 23.22it/s]\n",
      "  0%|          | 0/9 [00:00<?, ?it/s]"
     ]
    },
    {
     "name": "stdout",
     "output_type": "stream",
     "text": [
      "Epoch: 250 (30/33)\n",
      "\tData load time: 0.129 sec\n",
      "\tGeneration time: 0.151 sec\n",
      "\tBackprop time: 0.171 sec\n",
      "\tLog probability: -2.4539 (avg -4.3295)\n",
      "\tKL: 21.4251 (avg 24.5732)\n",
      "\tLoss: 23.8789 (avg 28.9027)\n"
     ]
    },
    {
     "name": "stderr",
     "output_type": "stream",
     "text": [
      "100%|██████████| 9/9 [00:00<00:00, 27.88it/s]\n",
      "  0%|          | 0/33 [00:00<?, ?it/s]"
     ]
    },
    {
     "name": "stdout",
     "output_type": "stream",
     "text": [
      "VALIDATION\n",
      "Epoch: 250 (9/9)\n",
      "\tData load time: 0.141 sec\n",
      "\tGeneration time: 0.151 sec\n",
      "\tLog probability: -1.6733 (avg -3.4568)\n",
      "\tKL: 12.5583 (avg 25.1462)\n",
      "\tLoss: 14.2316 (avg 28.6030)\n"
     ]
    },
    {
     "name": "stderr",
     "output_type": "stream",
     "text": [
      "100%|██████████| 33/33 [00:01<00:00, 23.00it/s]\n",
      "100%|██████████| 9/9 [00:00<00:00, 28.68it/s]\n",
      "100%|██████████| 33/33 [00:01<00:00, 22.99it/s]\n",
      "100%|██████████| 9/9 [00:00<00:00, 28.93it/s]\n",
      "100%|██████████| 33/33 [00:01<00:00, 22.94it/s]\n",
      "100%|██████████| 9/9 [00:00<00:00, 28.33it/s]\n",
      "100%|██████████| 33/33 [00:01<00:00, 22.95it/s]\n",
      "100%|██████████| 9/9 [00:00<00:00, 28.34it/s]\n",
      "100%|██████████| 33/33 [00:01<00:00, 23.10it/s]\n",
      "100%|██████████| 9/9 [00:00<00:00, 28.71it/s]\n",
      "100%|██████████| 33/33 [00:01<00:00, 23.06it/s]\n",
      "100%|██████████| 9/9 [00:00<00:00, 28.67it/s]\n",
      "100%|██████████| 33/33 [00:01<00:00, 23.02it/s]\n",
      "100%|██████████| 9/9 [00:00<00:00, 29.65it/s]\n",
      "100%|██████████| 33/33 [00:01<00:00, 23.00it/s]\n",
      "100%|██████████| 9/9 [00:00<00:00, 29.44it/s]\n",
      "100%|██████████| 33/33 [00:01<00:00, 23.10it/s]\n",
      "100%|██████████| 9/9 [00:00<00:00, 27.94it/s]\n",
      " 58%|█████▊    | 19/33 [00:00<00:00, 18.21it/s]"
     ]
    },
    {
     "name": "stdout",
     "output_type": "stream",
     "text": [
      "Epoch: 260 (15/33)\n",
      "\tData load time: 0.150 sec\n",
      "\tGeneration time: 0.158 sec\n",
      "\tBackprop time: 0.179 sec\n",
      "\tLog probability: -3.9251 (avg -6.9074)\n",
      "\tKL: 39.2033 (avg 41.0296)\n",
      "\tLoss: 43.1283 (avg 47.9369)\n"
     ]
    },
    {
     "name": "stderr",
     "output_type": "stream",
     "text": [
      "100%|██████████| 33/33 [00:01<00:00, 22.96it/s]\n",
      "  0%|          | 0/9 [00:00<?, ?it/s]"
     ]
    },
    {
     "name": "stdout",
     "output_type": "stream",
     "text": [
      "Epoch: 260 (30/33)\n",
      "\tData load time: 0.150 sec\n",
      "\tGeneration time: 0.158 sec\n",
      "\tBackprop time: 0.179 sec\n",
      "\tLog probability: -4.6748 (avg -6.0167)\n",
      "\tKL: 33.7331 (avg 38.4559)\n",
      "\tLoss: 38.4079 (avg 44.4726)\n"
     ]
    },
    {
     "name": "stderr",
     "output_type": "stream",
     "text": [
      "100%|██████████| 9/9 [00:00<00:00, 28.62it/s]\n",
      "  0%|          | 0/33 [00:00<?, ?it/s]"
     ]
    },
    {
     "name": "stdout",
     "output_type": "stream",
     "text": [
      "VALIDATION\n",
      "Epoch: 260 (9/9)\n",
      "\tData load time: 0.142 sec\n",
      "\tGeneration time: 0.150 sec\n",
      "\tLog probability: -2.7177 (avg -4.8483)\n",
      "\tKL: 9.0419 (avg 35.5561)\n",
      "\tLoss: 11.7595 (avg 40.4045)\n"
     ]
    },
    {
     "name": "stderr",
     "output_type": "stream",
     "text": [
      "100%|██████████| 33/33 [00:01<00:00, 23.02it/s]\n",
      "100%|██████████| 9/9 [00:00<00:00, 28.13it/s]\n",
      "100%|██████████| 33/33 [00:01<00:00, 22.93it/s]\n",
      "100%|██████████| 9/9 [00:00<00:00, 28.31it/s]\n",
      "100%|██████████| 33/33 [00:01<00:00, 22.94it/s]\n",
      "100%|██████████| 9/9 [00:00<00:00, 28.94it/s]\n",
      "100%|██████████| 33/33 [00:01<00:00, 22.71it/s]\n",
      "100%|██████████| 9/9 [00:00<00:00, 27.61it/s]\n",
      "100%|██████████| 33/33 [00:01<00:00, 22.84it/s]\n",
      "100%|██████████| 9/9 [00:00<00:00, 28.10it/s]\n",
      "100%|██████████| 33/33 [00:01<00:00, 22.76it/s]\n",
      "100%|██████████| 9/9 [00:00<00:00, 28.80it/s]\n",
      "100%|██████████| 33/33 [00:01<00:00, 22.69it/s]\n",
      "100%|██████████| 9/9 [00:00<00:00, 28.26it/s]\n",
      "100%|██████████| 33/33 [00:01<00:00, 22.86it/s]\n",
      "100%|██████████| 9/9 [00:00<00:00, 27.53it/s]\n",
      "100%|██████████| 33/33 [00:01<00:00, 22.97it/s]\n",
      "100%|██████████| 9/9 [00:00<00:00, 28.45it/s]\n",
      " 58%|█████▊    | 19/33 [00:00<00:00, 17.97it/s]"
     ]
    },
    {
     "name": "stdout",
     "output_type": "stream",
     "text": [
      "Epoch: 270 (15/33)\n",
      "\tData load time: 0.153 sec\n",
      "\tGeneration time: 0.162 sec\n",
      "\tBackprop time: 0.182 sec\n",
      "\tLog probability: -7.2250 (avg -4.4668)\n",
      "\tKL: 45.1886 (avg 46.6359)\n",
      "\tLoss: 52.4136 (avg 51.1027)\n"
     ]
    },
    {
     "name": "stderr",
     "output_type": "stream",
     "text": [
      "100%|██████████| 33/33 [00:01<00:00, 22.82it/s]\n",
      "  0%|          | 0/9 [00:00<?, ?it/s]"
     ]
    },
    {
     "name": "stdout",
     "output_type": "stream",
     "text": [
      "Epoch: 270 (30/33)\n",
      "\tData load time: 0.153 sec\n",
      "\tGeneration time: 0.162 sec\n",
      "\tBackprop time: 0.182 sec\n",
      "\tLog probability: -3.0965 (avg -4.4754)\n",
      "\tKL: 52.6344 (avg 45.7372)\n",
      "\tLoss: 55.7309 (avg 50.2127)\n"
     ]
    },
    {
     "name": "stderr",
     "output_type": "stream",
     "text": [
      "100%|██████████| 9/9 [00:00<00:00, 28.41it/s]\n",
      "  0%|          | 0/33 [00:00<?, ?it/s]"
     ]
    },
    {
     "name": "stdout",
     "output_type": "stream",
     "text": [
      "VALIDATION\n",
      "Epoch: 270 (9/9)\n",
      "\tData load time: 0.140 sec\n",
      "\tGeneration time: 0.149 sec\n",
      "\tLog probability: -1.3940 (avg -2.8653)\n",
      "\tKL: 11.1337 (avg 59.8729)\n",
      "\tLoss: 12.5278 (avg 62.7382)\n"
     ]
    },
    {
     "name": "stderr",
     "output_type": "stream",
     "text": [
      "100%|██████████| 33/33 [00:01<00:00, 22.83it/s]\n",
      "100%|██████████| 9/9 [00:00<00:00, 28.51it/s]\n",
      "100%|██████████| 33/33 [00:01<00:00, 22.94it/s]\n",
      "100%|██████████| 9/9 [00:00<00:00, 28.16it/s]\n",
      "100%|██████████| 33/33 [00:01<00:00, 23.09it/s]\n",
      "100%|██████████| 9/9 [00:00<00:00, 28.39it/s]\n",
      "100%|██████████| 33/33 [00:01<00:00, 22.89it/s]\n",
      "100%|██████████| 9/9 [00:00<00:00, 28.34it/s]\n",
      "100%|██████████| 33/33 [00:01<00:00, 22.54it/s]\n",
      "100%|██████████| 9/9 [00:00<00:00, 25.17it/s]\n",
      "100%|██████████| 33/33 [00:01<00:00, 22.41it/s]\n",
      "100%|██████████| 9/9 [00:00<00:00, 28.39it/s]\n",
      "100%|██████████| 33/33 [00:01<00:00, 22.94it/s]\n",
      "100%|██████████| 9/9 [00:00<00:00, 28.23it/s]\n",
      "100%|██████████| 33/33 [00:01<00:00, 23.03it/s]\n",
      "100%|██████████| 9/9 [00:00<00:00, 27.52it/s]\n",
      "100%|██████████| 33/33 [00:01<00:00, 22.99it/s]\n",
      "100%|██████████| 9/9 [00:00<00:00, 28.99it/s]\n",
      " 58%|█████▊    | 19/33 [00:00<00:00, 18.62it/s]"
     ]
    },
    {
     "name": "stdout",
     "output_type": "stream",
     "text": [
      "Epoch: 280 (15/33)\n",
      "\tData load time: 0.129 sec\n",
      "\tGeneration time: 0.141 sec\n",
      "\tBackprop time: 0.168 sec\n",
      "\tLog probability: -15.5428 (avg -27.6272)\n",
      "\tKL: 245.5895 (avg 3559.5495)\n",
      "\tLoss: 261.1322 (avg 3587.1767)\n"
     ]
    },
    {
     "name": "stderr",
     "output_type": "stream",
     "text": [
      "100%|██████████| 33/33 [00:01<00:00, 23.18it/s]\n",
      "  0%|          | 0/9 [00:00<?, ?it/s]"
     ]
    },
    {
     "name": "stdout",
     "output_type": "stream",
     "text": [
      "Epoch: 280 (30/33)\n",
      "\tData load time: 0.129 sec\n",
      "\tGeneration time: 0.141 sec\n",
      "\tBackprop time: 0.168 sec\n",
      "\tLog probability: -7.3892 (avg -21.8624)\n",
      "\tKL: 113.3078 (avg 1864.8973)\n",
      "\tLoss: 120.6970 (avg 1886.7597)\n"
     ]
    },
    {
     "name": "stderr",
     "output_type": "stream",
     "text": [
      "100%|██████████| 9/9 [00:00<00:00, 28.11it/s]\n",
      "  0%|          | 0/33 [00:00<?, ?it/s]"
     ]
    },
    {
     "name": "stdout",
     "output_type": "stream",
     "text": [
      "VALIDATION\n",
      "Epoch: 280 (9/9)\n",
      "\tData load time: 0.148 sec\n",
      "\tGeneration time: 0.154 sec\n",
      "\tLog probability: -1.8649 (avg -51.0574)\n",
      "\tKL: 59.4236 (avg 164.8584)\n",
      "\tLoss: 61.2885 (avg 215.9158)\n"
     ]
    },
    {
     "name": "stderr",
     "output_type": "stream",
     "text": [
      "100%|██████████| 33/33 [00:01<00:00, 22.92it/s]\n",
      "100%|██████████| 9/9 [00:00<00:00, 28.92it/s]\n",
      "100%|██████████| 33/33 [00:01<00:00, 22.99it/s]\n",
      "100%|██████████| 9/9 [00:00<00:00, 29.44it/s]\n",
      "100%|██████████| 33/33 [00:01<00:00, 23.06it/s]\n",
      "100%|██████████| 9/9 [00:00<00:00, 28.82it/s]\n",
      "100%|██████████| 33/33 [00:01<00:00, 22.99it/s]\n",
      "100%|██████████| 9/9 [00:00<00:00, 28.64it/s]\n",
      "100%|██████████| 33/33 [00:01<00:00, 23.12it/s]\n",
      "100%|██████████| 9/9 [00:00<00:00, 29.28it/s]\n",
      "100%|██████████| 33/33 [00:01<00:00, 22.88it/s]\n",
      "100%|██████████| 9/9 [00:00<00:00, 28.26it/s]\n",
      "100%|██████████| 33/33 [00:01<00:00, 23.17it/s]\n",
      "100%|██████████| 9/9 [00:00<00:00, 29.62it/s]\n",
      "100%|██████████| 33/33 [00:01<00:00, 23.03it/s]\n",
      "100%|██████████| 9/9 [00:00<00:00, 27.74it/s]\n",
      "100%|██████████| 33/33 [00:01<00:00, 22.91it/s]\n",
      "100%|██████████| 9/9 [00:00<00:00, 28.34it/s]\n",
      " 58%|█████▊    | 19/33 [00:00<00:00, 17.82it/s]"
     ]
    },
    {
     "name": "stdout",
     "output_type": "stream",
     "text": [
      "Epoch: 290 (15/33)\n",
      "\tData load time: 0.158 sec\n",
      "\tGeneration time: 0.166 sec\n",
      "\tBackprop time: 0.189 sec\n",
      "\tLog probability: -4.9801 (avg -3.6715)\n",
      "\tKL: 54.1283 (avg 57.9042)\n",
      "\tLoss: 59.1084 (avg 61.5757)\n"
     ]
    },
    {
     "name": "stderr",
     "output_type": "stream",
     "text": [
      "100%|██████████| 33/33 [00:01<00:00, 22.77it/s]\n",
      "  0%|          | 0/9 [00:00<?, ?it/s]"
     ]
    },
    {
     "name": "stdout",
     "output_type": "stream",
     "text": [
      "Epoch: 290 (30/33)\n",
      "\tData load time: 0.158 sec\n",
      "\tGeneration time: 0.166 sec\n",
      "\tBackprop time: 0.189 sec\n",
      "\tLog probability: -17.6476 (avg -4.4332)\n",
      "\tKL: 65.8009 (avg 59.9343)\n",
      "\tLoss: 83.4484 (avg 64.3674)\n"
     ]
    },
    {
     "name": "stderr",
     "output_type": "stream",
     "text": [
      "100%|██████████| 9/9 [00:00<00:00, 27.55it/s]\n",
      "  0%|          | 0/33 [00:00<?, ?it/s]"
     ]
    },
    {
     "name": "stdout",
     "output_type": "stream",
     "text": [
      "VALIDATION\n",
      "Epoch: 290 (9/9)\n",
      "\tData load time: 0.147 sec\n",
      "\tGeneration time: 0.156 sec\n",
      "\tLog probability: -1.6875 (avg -3.1397)\n",
      "\tKL: 501.4373 (avg 366.1068)\n",
      "\tLoss: 503.1248 (avg 369.2465)\n"
     ]
    },
    {
     "name": "stderr",
     "output_type": "stream",
     "text": [
      "100%|██████████| 33/33 [00:01<00:00, 23.00it/s]\n",
      "100%|██████████| 9/9 [00:00<00:00, 27.82it/s]\n",
      "100%|██████████| 33/33 [00:01<00:00, 22.88it/s]\n",
      "100%|██████████| 9/9 [00:00<00:00, 28.58it/s]\n",
      "100%|██████████| 33/33 [00:01<00:00, 23.21it/s]\n",
      "100%|██████████| 9/9 [00:00<00:00, 27.48it/s]\n",
      "100%|██████████| 33/33 [00:01<00:00, 22.53it/s]\n",
      "100%|██████████| 9/9 [00:00<00:00, 28.31it/s]\n",
      "100%|██████████| 33/33 [00:01<00:00, 22.85it/s]\n",
      "100%|██████████| 9/9 [00:00<00:00, 28.65it/s]\n",
      "100%|██████████| 33/33 [00:01<00:00, 22.94it/s]\n",
      "100%|██████████| 9/9 [00:00<00:00, 28.47it/s]\n",
      "100%|██████████| 33/33 [00:01<00:00, 22.94it/s]\n",
      "100%|██████████| 9/9 [00:00<00:00, 28.51it/s]\n",
      "100%|██████████| 33/33 [00:01<00:00, 22.76it/s]\n",
      "100%|██████████| 9/9 [00:00<00:00, 28.25it/s]\n",
      "100%|██████████| 33/33 [00:01<00:00, 22.83it/s]\n",
      "100%|██████████| 9/9 [00:00<00:00, 28.49it/s]\n",
      " 58%|█████▊    | 19/33 [00:00<00:00, 18.23it/s]"
     ]
    },
    {
     "name": "stdout",
     "output_type": "stream",
     "text": [
      "Epoch: 300 (15/33)\n",
      "\tData load time: 0.143 sec\n",
      "\tGeneration time: 0.156 sec\n",
      "\tBackprop time: 0.177 sec\n",
      "\tLog probability: -3.0672 (avg -4.4768)\n",
      "\tKL: 74.3558 (avg 64.2142)\n",
      "\tLoss: 77.4230 (avg 68.6910)\n"
     ]
    },
    {
     "name": "stderr",
     "output_type": "stream",
     "text": [
      "100%|██████████| 33/33 [00:01<00:00, 23.01it/s]\n",
      "  0%|          | 0/9 [00:00<?, ?it/s]"
     ]
    },
    {
     "name": "stdout",
     "output_type": "stream",
     "text": [
      "Epoch: 300 (30/33)\n",
      "\tData load time: 0.143 sec\n",
      "\tGeneration time: 0.156 sec\n",
      "\tBackprop time: 0.177 sec\n",
      "\tLog probability: -7.9831 (avg -5.0632)\n",
      "\tKL: 49.1063 (avg 63.2834)\n",
      "\tLoss: 57.0894 (avg 68.3466)\n"
     ]
    },
    {
     "name": "stderr",
     "output_type": "stream",
     "text": [
      "100%|██████████| 9/9 [00:00<00:00, 28.35it/s]"
     ]
    },
    {
     "name": "stdout",
     "output_type": "stream",
     "text": [
      "VALIDATION\n",
      "Epoch: 300 (9/9)\n",
      "\tData load time: 0.145 sec\n",
      "\tGeneration time: 0.155 sec\n",
      "\tLog probability: -13.1105 (avg -5.7936)\n",
      "\tKL: 491.0399 (avg 110.2611)\n",
      "\tLoss: 504.1504 (avg 116.0547)\n"
     ]
    },
    {
     "name": "stderr",
     "output_type": "stream",
     "text": [
      "\n"
     ]
    }
   ],
   "source": [
    "# Main loop\n",
    "best_loss = np.inf\n",
    "for epoch in range(epochs):\n",
    "\n",
    "    model.train()\n",
    "    scheduler.step()\n",
    "    train_loss, train_kl, train_logp = train_VAE1D(train_dl)\n",
    "    \n",
    "    model.eval()\n",
    "    with torch.no_grad():\n",
    "        val_loss, val_kl, val_logp = train_VAE1D(val_dl)\n",
    "\n",
    "    # Report training progress to user\n",
    "    if val_loss < best_loss:\n",
    "        print('Saving checkpoint..')\n",
    "        best_loss = val_loss\n",
    "        save_dict = {'epoch': epoch + 1,\n",
    "                     'state_dict': model.state_dict(),\n",
    "                     'val_loss': val_loss,\n",
    "                     'optimizer': optimizer.state_dict()}\n",
    "        path = save_path / f'best_model-{n_latent}-{beta}.pt'\n",
    "        torch.save(save_dict, path)\n",
    "        print(f'Lowest validation loss: {best_loss:.4f}')"
   ]
  },
  {
   "cell_type": "markdown",
   "metadata": {},
   "source": [
    "# Valve"
   ]
  },
  {
   "cell_type": "markdown",
   "metadata": {},
   "source": [
    "### Build model and loss function \n",
    "Initially designed for 2D input images, modified for 1D time-series data.\n",
    "Based on this paper: https://arxiv.org/abs/1807.01349"
   ]
  },
  {
   "cell_type": "code",
   "execution_count": 35,
   "metadata": {},
   "outputs": [],
   "source": [
    "# The hydraulic system has 14 sensors from which to pull data\n",
    "n_channels = 14\n",
    "# The data has been resized to 512, although it represents 1 min for each cycle\n",
    "size = 512\n",
    "# Latent space is restricted to be about 1/170th of the input dims, similar to 2D case\n",
    "n_latent = 50"
   ]
  },
  {
   "cell_type": "code",
   "execution_count": 36,
   "metadata": {},
   "outputs": [],
   "source": [
    "model = VAE1D(size, n_channels, n_latent)"
   ]
  },
  {
   "cell_type": "code",
   "execution_count": 37,
   "metadata": {},
   "outputs": [],
   "source": [
    "beta = 1  # KL term relative weight\n",
    "criterion = VAE1DLoss(beta)"
   ]
  },
  {
   "cell_type": "markdown",
   "metadata": {},
   "source": [
    "### Load hydraulic test data\n",
    "From this dataset: https://archive.ics.uci.edu/ml/datasets/Condition+monitoring+of+hydraulic+systems#"
   ]
  },
  {
   "cell_type": "code",
   "execution_count": 38,
   "metadata": {},
   "outputs": [],
   "source": [
    "desc = 'valve'\n",
    "data_path = Path(f'data/hydraulic/{desc}/')\n",
    "batch_size = 32\n",
    "train_dl, val_dl, test_dl = load_datasets(data_path,\n",
    "                                          batch_size=batch_size)"
   ]
  },
  {
   "cell_type": "code",
   "execution_count": 39,
   "metadata": {},
   "outputs": [
    {
     "name": "stdout",
     "output_type": "stream",
     "text": [
      "38 10 720\n"
     ]
    }
   ],
   "source": [
    "print(len(train_dl), len(val_dl), len(test_dl))"
   ]
  },
  {
   "cell_type": "markdown",
   "metadata": {},
   "source": [
    "### Prepare for training"
   ]
  },
  {
   "cell_type": "code",
   "execution_count": 40,
   "metadata": {},
   "outputs": [
    {
     "name": "stdout",
     "output_type": "stream",
     "text": [
      "Folder models/190130-valve already exists\n"
     ]
    },
    {
     "data": {
      "text/plain": [
       "PosixPath('models/190130-valve')"
      ]
     },
     "execution_count": 40,
     "metadata": {},
     "output_type": "execute_result"
    }
   ],
   "source": [
    "# Display settings - TODO add Visdom logging\n",
    "log_freq = 15 # batches\n",
    "ep_freq = 10  # epochs\n",
    "\n",
    "# Training parameters\n",
    "epochs = 300\n",
    "lr = 1e-3\n",
    "device = torch.device(\"cuda:0\" if torch.cuda.is_available() else \"cpu\")\n",
    "\n",
    "# Checkpoint to resume from (default None)\n",
    "load_path = None\n",
    "\n",
    "# Checkpoint save location\n",
    "save_path = Path(f\"models/{date.today().strftime('%y%m%d')}-{desc}/\")\n",
    "if save_path.is_dir():\n",
    "    print(f\"Folder {save_path} already exists\")\n",
    "else:\n",
    "    os.mkdir(save_path)\n",
    "save_path"
   ]
  },
  {
   "cell_type": "code",
   "execution_count": 41,
   "metadata": {},
   "outputs": [],
   "source": [
    "# Load checkpoint if any\n",
    "if load_path is not None:\n",
    "    checkpoint = torch.load(load_path, map_location=device)\n",
    "    model.load_state_dict(checkpoint['state_dict'])\n",
    "    optimizer.load_state_dict(checkpoint['optimizer'])\n",
    "    print(\"Checkpoint loaded\")\n",
    "    print(f\"Validation loss: {checkpoint['val_loss']}\")\n",
    "    print(f\"Epoch: {checkpoint['epoch']}\")"
   ]
  },
  {
   "cell_type": "code",
   "execution_count": 42,
   "metadata": {},
   "outputs": [],
   "source": [
    "# Load optimizer and scheduler\n",
    "optimizer = torch.optim.Adam(params=model.parameters(), lr=lr)\n",
    "scheduler = torch.optim.lr_scheduler.CosineAnnealingLR(optimizer, 10)"
   ]
  },
  {
   "cell_type": "code",
   "execution_count": 43,
   "metadata": {},
   "outputs": [],
   "source": [
    "# Move to GPU\n",
    "model = model.to(device)\n",
    "criterion = criterion.to(device)"
   ]
  },
  {
   "cell_type": "markdown",
   "metadata": {},
   "source": [
    "### Train the model"
   ]
  },
  {
   "cell_type": "code",
   "execution_count": 44,
   "metadata": {},
   "outputs": [
    {
     "name": "stderr",
     "output_type": "stream",
     "text": [
      "100%|██████████| 38/38 [00:01<00:00, 23.20it/s]\n",
      "100%|██████████| 10/10 [00:00<00:00, 30.02it/s]\n",
      "  0%|          | 0/38 [00:00<?, ?it/s]"
     ]
    },
    {
     "name": "stdout",
     "output_type": "stream",
     "text": [
      "Saving checkpoint..\n",
      "Lowest validation loss: 535.1256\n"
     ]
    },
    {
     "name": "stderr",
     "output_type": "stream",
     "text": [
      "100%|██████████| 38/38 [00:01<00:00, 23.36it/s]\n",
      "100%|██████████| 10/10 [00:00<00:00, 30.17it/s]\n",
      "  0%|          | 0/38 [00:00<?, ?it/s]"
     ]
    },
    {
     "name": "stdout",
     "output_type": "stream",
     "text": [
      "Saving checkpoint..\n",
      "Lowest validation loss: 336.6423\n"
     ]
    },
    {
     "name": "stderr",
     "output_type": "stream",
     "text": [
      "100%|██████████| 38/38 [00:01<00:00, 23.31it/s]\n",
      "100%|██████████| 10/10 [00:00<00:00, 29.18it/s]\n",
      "  0%|          | 0/38 [00:00<?, ?it/s]"
     ]
    },
    {
     "name": "stdout",
     "output_type": "stream",
     "text": [
      "Saving checkpoint..\n",
      "Lowest validation loss: 206.7608\n"
     ]
    },
    {
     "name": "stderr",
     "output_type": "stream",
     "text": [
      "100%|██████████| 38/38 [00:01<00:00, 23.29it/s]\n",
      "100%|██████████| 10/10 [00:00<00:00, 30.62it/s]\n",
      "  0%|          | 0/38 [00:00<?, ?it/s]"
     ]
    },
    {
     "name": "stdout",
     "output_type": "stream",
     "text": [
      "Saving checkpoint..\n",
      "Lowest validation loss: 130.9248\n"
     ]
    },
    {
     "name": "stderr",
     "output_type": "stream",
     "text": [
      "100%|██████████| 38/38 [00:01<00:00, 23.25it/s]\n",
      "100%|██████████| 10/10 [00:00<00:00, 28.53it/s]\n",
      "  0%|          | 0/38 [00:00<?, ?it/s]"
     ]
    },
    {
     "name": "stdout",
     "output_type": "stream",
     "text": [
      "Saving checkpoint..\n",
      "Lowest validation loss: 125.8552\n"
     ]
    },
    {
     "name": "stderr",
     "output_type": "stream",
     "text": [
      "100%|██████████| 38/38 [00:01<00:00, 23.15it/s]\n",
      "100%|██████████| 10/10 [00:00<00:00, 29.22it/s]\n",
      "100%|██████████| 38/38 [00:01<00:00, 23.07it/s]\n",
      "100%|██████████| 10/10 [00:00<00:00, 29.94it/s]\n",
      "  0%|          | 0/38 [00:00<?, ?it/s]"
     ]
    },
    {
     "name": "stdout",
     "output_type": "stream",
     "text": [
      "Saving checkpoint..\n",
      "Lowest validation loss: 107.8462\n"
     ]
    },
    {
     "name": "stderr",
     "output_type": "stream",
     "text": [
      "100%|██████████| 38/38 [00:01<00:00, 23.37it/s]\n",
      "100%|██████████| 10/10 [00:00<00:00, 29.89it/s]\n",
      "  0%|          | 0/38 [00:00<?, ?it/s]"
     ]
    },
    {
     "name": "stdout",
     "output_type": "stream",
     "text": [
      "Saving checkpoint..\n",
      "Lowest validation loss: 102.5874\n"
     ]
    },
    {
     "name": "stderr",
     "output_type": "stream",
     "text": [
      "100%|██████████| 38/38 [00:01<00:00, 23.38it/s]\n",
      "100%|██████████| 10/10 [00:00<00:00, 29.53it/s]\n",
      "  0%|          | 0/38 [00:00<?, ?it/s]"
     ]
    },
    {
     "name": "stdout",
     "output_type": "stream",
     "text": [
      "Saving checkpoint..\n",
      "Lowest validation loss: 96.9501\n"
     ]
    },
    {
     "name": "stderr",
     "output_type": "stream",
     "text": [
      " 50%|█████     | 19/38 [00:00<00:01, 18.09it/s]"
     ]
    },
    {
     "name": "stdout",
     "output_type": "stream",
     "text": [
      "Epoch: 10 (15/38)\n",
      "\tData load time: 0.153 sec\n",
      "\tGeneration time: 0.161 sec\n",
      "\tBackprop time: 0.181 sec\n",
      "\tLog probability: -33.2276 (avg -41.6950)\n",
      "\tKL: 62.5498 (avg 68.5132)\n",
      "\tLoss: 95.7775 (avg 110.2082)\n"
     ]
    },
    {
     "name": "stderr",
     "output_type": "stream",
     "text": [
      " 89%|████████▉ | 34/38 [00:01<00:00, 24.05it/s]"
     ]
    },
    {
     "name": "stdout",
     "output_type": "stream",
     "text": [
      "Epoch: 10 (30/38)\n",
      "\tData load time: 0.153 sec\n",
      "\tGeneration time: 0.161 sec\n",
      "\tBackprop time: 0.181 sec\n",
      "\tLog probability: -30.9391 (avg -40.2617)\n",
      "\tKL: 69.0961 (avg 68.5429)\n",
      "\tLoss: 100.0352 (avg 108.8046)\n"
     ]
    },
    {
     "name": "stderr",
     "output_type": "stream",
     "text": [
      "100%|██████████| 38/38 [00:01<00:00, 23.31it/s]\n",
      "100%|██████████| 10/10 [00:00<00:00, 29.93it/s]\n",
      "  0%|          | 0/38 [00:00<?, ?it/s]"
     ]
    },
    {
     "name": "stdout",
     "output_type": "stream",
     "text": [
      "VALIDATION\n",
      "Epoch: 10 (10/10)\n",
      "\tData load time: 0.146 sec\n",
      "\tGeneration time: 0.156 sec\n",
      "\tLog probability: -24.0783 (avg -30.7195)\n",
      "\tKL: 46.5073 (avg 66.2359)\n",
      "\tLoss: 70.5856 (avg 96.9554)\n"
     ]
    },
    {
     "name": "stderr",
     "output_type": "stream",
     "text": [
      "100%|██████████| 38/38 [00:01<00:00, 23.44it/s]\n",
      "100%|██████████| 10/10 [00:00<00:00, 29.36it/s]\n",
      "100%|██████████| 38/38 [00:01<00:00, 23.34it/s]\n",
      "100%|██████████| 10/10 [00:00<00:00, 29.99it/s]\n",
      "100%|██████████| 38/38 [00:01<00:00, 23.42it/s]\n",
      "100%|██████████| 10/10 [00:00<00:00, 28.64it/s]\n",
      "100%|██████████| 38/38 [00:01<00:00, 23.37it/s]\n",
      "100%|██████████| 10/10 [00:00<00:00, 30.14it/s]\n",
      "100%|██████████| 38/38 [00:01<00:00, 23.41it/s]\n",
      "100%|██████████| 10/10 [00:00<00:00, 29.11it/s]\n",
      "  0%|          | 0/38 [00:00<?, ?it/s]"
     ]
    },
    {
     "name": "stdout",
     "output_type": "stream",
     "text": [
      "Saving checkpoint..\n",
      "Lowest validation loss: 89.0393\n"
     ]
    },
    {
     "name": "stderr",
     "output_type": "stream",
     "text": [
      "100%|██████████| 38/38 [00:01<00:00, 23.25it/s]\n",
      "100%|██████████| 10/10 [00:00<00:00, 30.62it/s]\n",
      "100%|██████████| 38/38 [00:01<00:00, 23.30it/s]\n",
      "100%|██████████| 10/10 [00:00<00:00, 28.69it/s]\n",
      "  0%|          | 0/38 [00:00<?, ?it/s]"
     ]
    },
    {
     "name": "stdout",
     "output_type": "stream",
     "text": [
      "Saving checkpoint..\n",
      "Lowest validation loss: 82.4571\n"
     ]
    },
    {
     "name": "stderr",
     "output_type": "stream",
     "text": [
      "100%|██████████| 38/38 [00:01<00:00, 23.29it/s]\n",
      "100%|██████████| 10/10 [00:00<00:00, 29.82it/s]\n",
      "  0%|          | 0/38 [00:00<?, ?it/s]"
     ]
    },
    {
     "name": "stdout",
     "output_type": "stream",
     "text": [
      "Saving checkpoint..\n",
      "Lowest validation loss: 78.7268\n"
     ]
    },
    {
     "name": "stderr",
     "output_type": "stream",
     "text": [
      "100%|██████████| 38/38 [00:01<00:00, 23.43it/s]\n",
      "100%|██████████| 10/10 [00:00<00:00, 30.16it/s]\n",
      "  0%|          | 0/38 [00:00<?, ?it/s]"
     ]
    },
    {
     "name": "stdout",
     "output_type": "stream",
     "text": [
      "Saving checkpoint..\n",
      "Lowest validation loss: 71.1559\n"
     ]
    },
    {
     "name": "stderr",
     "output_type": "stream",
     "text": [
      " 50%|█████     | 19/38 [00:00<00:01, 18.03it/s]"
     ]
    },
    {
     "name": "stdout",
     "output_type": "stream",
     "text": [
      "Epoch: 20 (15/38)\n",
      "\tData load time: 0.149 sec\n",
      "\tGeneration time: 0.160 sec\n",
      "\tBackprop time: 0.181 sec\n",
      "\tLog probability: -16.9688 (avg -28.8955)\n",
      "\tKL: 55.5562 (avg 54.5461)\n",
      "\tLoss: 72.5250 (avg 83.4416)\n"
     ]
    },
    {
     "name": "stderr",
     "output_type": "stream",
     "text": [
      " 89%|████████▉ | 34/38 [00:01<00:00, 24.05it/s]"
     ]
    },
    {
     "name": "stdout",
     "output_type": "stream",
     "text": [
      "Epoch: 20 (30/38)\n",
      "\tData load time: 0.149 sec\n",
      "\tGeneration time: 0.160 sec\n",
      "\tBackprop time: 0.181 sec\n",
      "\tLog probability: -17.0627 (avg -25.5545)\n",
      "\tKL: 48.0466 (avg 54.0121)\n",
      "\tLoss: 65.1092 (avg 79.5667)\n"
     ]
    },
    {
     "name": "stderr",
     "output_type": "stream",
     "text": [
      "100%|██████████| 38/38 [00:01<00:00, 23.28it/s]\n",
      "100%|██████████| 10/10 [00:00<00:00, 29.33it/s]\n",
      "  0%|          | 0/38 [00:00<?, ?it/s]"
     ]
    },
    {
     "name": "stdout",
     "output_type": "stream",
     "text": [
      "VALIDATION\n",
      "Epoch: 20 (10/10)\n",
      "\tData load time: 0.153 sec\n",
      "\tGeneration time: 0.162 sec\n",
      "\tLog probability: -42.6599 (avg -28.5592)\n",
      "\tKL: 114.2664 (avg 69.1583)\n",
      "\tLoss: 156.9263 (avg 97.7176)\n"
     ]
    },
    {
     "name": "stderr",
     "output_type": "stream",
     "text": [
      "100%|██████████| 38/38 [00:01<00:00, 23.59it/s]\n",
      "100%|██████████| 10/10 [00:00<00:00, 30.08it/s]\n",
      "100%|██████████| 38/38 [00:01<00:00, 23.25it/s]\n",
      "100%|██████████| 10/10 [00:00<00:00, 29.79it/s]\n",
      "  0%|          | 0/38 [00:00<?, ?it/s]"
     ]
    },
    {
     "name": "stdout",
     "output_type": "stream",
     "text": [
      "Saving checkpoint..\n",
      "Lowest validation loss: 63.9171\n"
     ]
    },
    {
     "name": "stderr",
     "output_type": "stream",
     "text": [
      "100%|██████████| 38/38 [00:01<00:00, 23.29it/s]\n",
      "100%|██████████| 10/10 [00:00<00:00, 30.18it/s]\n",
      "100%|██████████| 38/38 [00:01<00:00, 23.54it/s]\n",
      "100%|██████████| 10/10 [00:00<00:00, 29.21it/s]\n",
      "100%|██████████| 38/38 [00:01<00:00, 23.29it/s]\n",
      "100%|██████████| 10/10 [00:00<00:00, 30.50it/s]\n",
      "  0%|          | 0/38 [00:00<?, ?it/s]"
     ]
    },
    {
     "name": "stdout",
     "output_type": "stream",
     "text": [
      "Saving checkpoint..\n",
      "Lowest validation loss: 60.3644\n"
     ]
    },
    {
     "name": "stderr",
     "output_type": "stream",
     "text": [
      "100%|██████████| 38/38 [00:01<00:00, 23.36it/s]\n",
      "100%|██████████| 10/10 [00:00<00:00, 29.44it/s]\n",
      "  0%|          | 0/38 [00:00<?, ?it/s]"
     ]
    },
    {
     "name": "stdout",
     "output_type": "stream",
     "text": [
      "Saving checkpoint..\n",
      "Lowest validation loss: 50.0249\n"
     ]
    },
    {
     "name": "stderr",
     "output_type": "stream",
     "text": [
      "100%|██████████| 38/38 [00:01<00:00, 23.26it/s]\n",
      "100%|██████████| 10/10 [00:00<00:00, 29.89it/s]\n",
      "100%|██████████| 38/38 [00:01<00:00, 23.32it/s]\n",
      "100%|██████████| 10/10 [00:00<00:00, 30.09it/s]\n",
      "100%|██████████| 38/38 [00:01<00:00, 23.24it/s]\n",
      "100%|██████████| 10/10 [00:00<00:00, 30.19it/s]\n",
      "  0%|          | 0/38 [00:00<?, ?it/s]"
     ]
    },
    {
     "name": "stdout",
     "output_type": "stream",
     "text": [
      "Saving checkpoint..\n",
      "Lowest validation loss: 49.3242\n"
     ]
    },
    {
     "name": "stderr",
     "output_type": "stream",
     "text": [
      " 50%|█████     | 19/38 [00:00<00:01, 18.11it/s]"
     ]
    },
    {
     "name": "stdout",
     "output_type": "stream",
     "text": [
      "Epoch: 30 (15/38)\n",
      "\tData load time: 0.153 sec\n",
      "\tGeneration time: 0.162 sec\n",
      "\tBackprop time: 0.181 sec\n",
      "\tLog probability: -7.0300 (avg -9.2661)\n",
      "\tKL: 43.4404 (avg 41.0177)\n",
      "\tLoss: 50.4703 (avg 50.2837)\n"
     ]
    },
    {
     "name": "stderr",
     "output_type": "stream",
     "text": [
      " 89%|████████▉ | 34/38 [00:01<00:00, 24.13it/s]"
     ]
    },
    {
     "name": "stdout",
     "output_type": "stream",
     "text": [
      "Epoch: 30 (30/38)\n",
      "\tData load time: 0.153 sec\n",
      "\tGeneration time: 0.162 sec\n",
      "\tBackprop time: 0.181 sec\n",
      "\tLog probability: -15.4147 (avg -11.2178)\n",
      "\tKL: 45.0259 (avg 42.4485)\n",
      "\tLoss: 60.4405 (avg 53.6663)\n"
     ]
    },
    {
     "name": "stderr",
     "output_type": "stream",
     "text": [
      "100%|██████████| 38/38 [00:01<00:00, 23.29it/s]\n",
      "100%|██████████| 10/10 [00:00<00:00, 31.00it/s]\n",
      "  0%|          | 0/38 [00:00<?, ?it/s]"
     ]
    },
    {
     "name": "stdout",
     "output_type": "stream",
     "text": [
      "VALIDATION\n",
      "Epoch: 30 (10/10)\n",
      "\tData load time: 0.126 sec\n",
      "\tGeneration time: 0.135 sec\n",
      "\tLog probability: -7.0717 (avg -7.8300)\n",
      "\tKL: 52.6872 (avg 41.7619)\n",
      "\tLoss: 59.7589 (avg 49.5919)\n"
     ]
    },
    {
     "name": "stderr",
     "output_type": "stream",
     "text": [
      "100%|██████████| 38/38 [00:01<00:00, 23.25it/s]\n",
      "100%|██████████| 10/10 [00:00<00:00, 30.24it/s]\n",
      "  0%|          | 0/38 [00:00<?, ?it/s]"
     ]
    },
    {
     "name": "stdout",
     "output_type": "stream",
     "text": [
      "Saving checkpoint..\n",
      "Lowest validation loss: 49.2407\n"
     ]
    },
    {
     "name": "stderr",
     "output_type": "stream",
     "text": [
      "100%|██████████| 38/38 [00:01<00:00, 23.25it/s]\n",
      "100%|██████████| 10/10 [00:00<00:00, 29.38it/s]\n",
      "  0%|          | 0/38 [00:00<?, ?it/s]"
     ]
    },
    {
     "name": "stdout",
     "output_type": "stream",
     "text": [
      "Saving checkpoint..\n",
      "Lowest validation loss: 46.5880\n"
     ]
    },
    {
     "name": "stderr",
     "output_type": "stream",
     "text": [
      "100%|██████████| 38/38 [00:01<00:00, 23.21it/s]\n",
      "100%|██████████| 10/10 [00:00<00:00, 29.35it/s]\n",
      "100%|██████████| 38/38 [00:01<00:00, 23.29it/s]\n",
      "100%|██████████| 10/10 [00:00<00:00, 29.89it/s]\n",
      "100%|██████████| 38/38 [00:01<00:00, 23.35it/s]\n",
      "100%|██████████| 10/10 [00:00<00:00, 29.12it/s]\n",
      "100%|██████████| 38/38 [00:01<00:00, 23.20it/s]\n",
      "100%|██████████| 10/10 [00:00<00:00, 29.75it/s]\n",
      "100%|██████████| 38/38 [00:01<00:00, 23.36it/s]\n",
      "100%|██████████| 10/10 [00:00<00:00, 29.71it/s]\n",
      "100%|██████████| 38/38 [00:01<00:00, 23.42it/s]\n",
      "100%|██████████| 10/10 [00:00<00:00, 29.59it/s]\n",
      "100%|██████████| 38/38 [00:01<00:00, 23.20it/s]\n",
      "100%|██████████| 10/10 [00:00<00:00, 29.72it/s]\n",
      " 50%|█████     | 19/38 [00:00<00:01, 18.45it/s]"
     ]
    },
    {
     "name": "stdout",
     "output_type": "stream",
     "text": [
      "Epoch: 40 (15/38)\n",
      "\tData load time: 0.134 sec\n",
      "\tGeneration time: 0.148 sec\n",
      "\tBackprop time: 0.172 sec\n",
      "\tLog probability: -10.8809 (avg -18.5116)\n",
      "\tKL: 44.8799 (avg 49.5330)\n",
      "\tLoss: 55.7608 (avg 68.0446)\n"
     ]
    },
    {
     "name": "stderr",
     "output_type": "stream",
     "text": [
      " 89%|████████▉ | 34/38 [00:01<00:00, 24.18it/s]"
     ]
    },
    {
     "name": "stdout",
     "output_type": "stream",
     "text": [
      "Epoch: 40 (30/38)\n",
      "\tData load time: 0.134 sec\n",
      "\tGeneration time: 0.148 sec\n",
      "\tBackprop time: 0.172 sec\n",
      "\tLog probability: -31.0786 (avg -16.9220)\n",
      "\tKL: 39.9896 (avg 45.6135)\n",
      "\tLoss: 71.0682 (avg 62.5355)\n"
     ]
    },
    {
     "name": "stderr",
     "output_type": "stream",
     "text": [
      "100%|██████████| 38/38 [00:01<00:00, 23.41it/s]\n",
      "100%|██████████| 10/10 [00:00<00:00, 29.95it/s]\n"
     ]
    },
    {
     "name": "stdout",
     "output_type": "stream",
     "text": [
      "VALIDATION\n",
      "Epoch: 40 (10/10)\n",
      "\tData load time: 0.142 sec\n",
      "\tGeneration time: 0.151 sec\n",
      "\tLog probability: -5.5075 (avg -9.3875)\n",
      "\tKL: 42.0901 (avg 34.5598)\n",
      "\tLoss: 47.5977 (avg 43.9473)\n",
      "Saving checkpoint..\n"
     ]
    },
    {
     "name": "stderr",
     "output_type": "stream",
     "text": [
      "  0%|          | 0/38 [00:00<?, ?it/s]"
     ]
    },
    {
     "name": "stdout",
     "output_type": "stream",
     "text": [
      "Lowest validation loss: 43.9473\n"
     ]
    },
    {
     "name": "stderr",
     "output_type": "stream",
     "text": [
      "100%|██████████| 38/38 [00:01<00:00, 23.54it/s]\n",
      "100%|██████████| 10/10 [00:00<00:00, 30.76it/s]\n",
      "  0%|          | 0/38 [00:00<?, ?it/s]"
     ]
    },
    {
     "name": "stdout",
     "output_type": "stream",
     "text": [
      "Saving checkpoint..\n",
      "Lowest validation loss: 41.8656\n"
     ]
    },
    {
     "name": "stderr",
     "output_type": "stream",
     "text": [
      "100%|██████████| 38/38 [00:01<00:00, 23.21it/s]\n",
      "100%|██████████| 10/10 [00:00<00:00, 29.92it/s]\n",
      "100%|██████████| 38/38 [00:01<00:00, 23.32it/s]\n",
      "100%|██████████| 10/10 [00:00<00:00, 28.86it/s]\n",
      "100%|██████████| 38/38 [00:01<00:00, 23.39it/s]\n",
      "100%|██████████| 10/10 [00:00<00:00, 28.88it/s]\n",
      "100%|██████████| 38/38 [00:01<00:00, 23.28it/s]\n",
      "100%|██████████| 10/10 [00:00<00:00, 28.90it/s]\n",
      "100%|██████████| 38/38 [00:01<00:00, 23.30it/s]\n",
      "100%|██████████| 10/10 [00:00<00:00, 28.87it/s]\n",
      "100%|██████████| 38/38 [00:01<00:00, 23.23it/s]\n",
      "100%|██████████| 10/10 [00:00<00:00, 29.48it/s]\n",
      "  0%|          | 0/38 [00:00<?, ?it/s]"
     ]
    },
    {
     "name": "stdout",
     "output_type": "stream",
     "text": [
      "Saving checkpoint..\n",
      "Lowest validation loss: 41.2078\n"
     ]
    },
    {
     "name": "stderr",
     "output_type": "stream",
     "text": [
      "100%|██████████| 38/38 [00:01<00:00, 23.52it/s]\n",
      "100%|██████████| 10/10 [00:00<00:00, 29.81it/s]\n",
      "100%|██████████| 38/38 [00:01<00:00, 23.10it/s]\n",
      "100%|██████████| 10/10 [00:00<00:00, 29.78it/s]\n",
      "  0%|          | 0/38 [00:00<?, ?it/s]"
     ]
    },
    {
     "name": "stdout",
     "output_type": "stream",
     "text": [
      "Saving checkpoint..\n",
      "Lowest validation loss: 38.2886\n"
     ]
    },
    {
     "name": "stderr",
     "output_type": "stream",
     "text": [
      " 50%|█████     | 19/38 [00:00<00:01, 18.05it/s]"
     ]
    },
    {
     "name": "stdout",
     "output_type": "stream",
     "text": [
      "Epoch: 50 (15/38)\n",
      "\tData load time: 0.152 sec\n",
      "\tGeneration time: 0.163 sec\n",
      "\tBackprop time: 0.183 sec\n",
      "\tLog probability: -9.7759 (avg -7.8966)\n",
      "\tKL: 33.4171 (avg 31.1878)\n",
      "\tLoss: 43.1930 (avg 39.0844)\n"
     ]
    },
    {
     "name": "stderr",
     "output_type": "stream",
     "text": [
      " 89%|████████▉ | 34/38 [00:01<00:00, 24.07it/s]"
     ]
    },
    {
     "name": "stdout",
     "output_type": "stream",
     "text": [
      "Epoch: 50 (30/38)\n",
      "\tData load time: 0.152 sec\n",
      "\tGeneration time: 0.163 sec\n",
      "\tBackprop time: 0.183 sec\n",
      "\tLog probability: -5.6999 (avg -8.3863)\n",
      "\tKL: 31.6175 (avg 31.5282)\n",
      "\tLoss: 37.3174 (avg 39.9145)\n"
     ]
    },
    {
     "name": "stderr",
     "output_type": "stream",
     "text": [
      "100%|██████████| 38/38 [00:01<00:00, 23.26it/s]\n",
      "100%|██████████| 10/10 [00:00<00:00, 29.17it/s]\n"
     ]
    },
    {
     "name": "stdout",
     "output_type": "stream",
     "text": [
      "VALIDATION\n",
      "Epoch: 50 (10/10)\n",
      "\tData load time: 0.148 sec\n",
      "\tGeneration time: 0.158 sec\n",
      "\tLog probability: -5.9493 (avg -5.4148)\n",
      "\tKL: 47.0716 (avg 29.1487)\n",
      "\tLoss: 53.0208 (avg 34.5635)\n",
      "Saving checkpoint..\n"
     ]
    },
    {
     "name": "stderr",
     "output_type": "stream",
     "text": [
      "  0%|          | 0/38 [00:00<?, ?it/s]"
     ]
    },
    {
     "name": "stdout",
     "output_type": "stream",
     "text": [
      "Lowest validation loss: 34.5635\n"
     ]
    },
    {
     "name": "stderr",
     "output_type": "stream",
     "text": [
      "100%|██████████| 38/38 [00:01<00:00, 23.27it/s]\n",
      "100%|██████████| 10/10 [00:00<00:00, 29.60it/s]\n",
      "100%|██████████| 38/38 [00:01<00:00, 23.30it/s]\n",
      "100%|██████████| 10/10 [00:00<00:00, 29.27it/s]\n",
      "100%|██████████| 38/38 [00:01<00:00, 23.35it/s]\n",
      "100%|██████████| 10/10 [00:00<00:00, 27.71it/s]\n",
      "  0%|          | 0/38 [00:00<?, ?it/s]"
     ]
    },
    {
     "name": "stdout",
     "output_type": "stream",
     "text": [
      "Saving checkpoint..\n",
      "Lowest validation loss: 32.4704\n"
     ]
    },
    {
     "name": "stderr",
     "output_type": "stream",
     "text": [
      "100%|██████████| 38/38 [00:01<00:00, 23.01it/s]\n",
      "100%|██████████| 10/10 [00:00<00:00, 31.02it/s]\n",
      "100%|██████████| 38/38 [00:01<00:00, 23.21it/s]\n",
      "100%|██████████| 10/10 [00:00<00:00, 29.45it/s]\n",
      "100%|██████████| 38/38 [00:01<00:00, 23.50it/s]\n",
      "100%|██████████| 10/10 [00:00<00:00, 29.93it/s]\n",
      "  0%|          | 0/38 [00:00<?, ?it/s]"
     ]
    },
    {
     "name": "stdout",
     "output_type": "stream",
     "text": [
      "Saving checkpoint..\n",
      "Lowest validation loss: 31.0746\n"
     ]
    },
    {
     "name": "stderr",
     "output_type": "stream",
     "text": [
      "100%|██████████| 38/38 [00:01<00:00, 23.24it/s]\n",
      "100%|██████████| 10/10 [00:00<00:00, 29.90it/s]\n",
      "100%|██████████| 38/38 [00:01<00:00, 23.28it/s]\n",
      "100%|██████████| 10/10 [00:00<00:00, 29.72it/s]\n",
      "100%|██████████| 38/38 [00:01<00:00, 23.48it/s]\n",
      "100%|██████████| 10/10 [00:00<00:00, 30.13it/s]\n",
      " 50%|█████     | 19/38 [00:00<00:01, 18.36it/s]"
     ]
    },
    {
     "name": "stdout",
     "output_type": "stream",
     "text": [
      "Epoch: 60 (15/38)\n",
      "\tData load time: 0.144 sec\n",
      "\tGeneration time: 0.155 sec\n",
      "\tBackprop time: 0.174 sec\n",
      "\tLog probability: -9.7547 (avg -7.8073)\n",
      "\tKL: 31.3962 (avg 31.8494)\n",
      "\tLoss: 41.1509 (avg 39.6567)\n"
     ]
    },
    {
     "name": "stderr",
     "output_type": "stream",
     "text": [
      " 89%|████████▉ | 34/38 [00:01<00:00, 24.21it/s]"
     ]
    },
    {
     "name": "stdout",
     "output_type": "stream",
     "text": [
      "Epoch: 60 (30/38)\n",
      "\tData load time: 0.144 sec\n",
      "\tGeneration time: 0.155 sec\n",
      "\tBackprop time: 0.174 sec\n",
      "\tLog probability: -8.5447 (avg -8.0249)\n",
      "\tKL: 29.0581 (avg 30.7128)\n",
      "\tLoss: 37.6028 (avg 38.7377)\n"
     ]
    },
    {
     "name": "stderr",
     "output_type": "stream",
     "text": [
      "100%|██████████| 38/38 [00:01<00:00, 23.42it/s]\n",
      "100%|██████████| 10/10 [00:00<00:00, 29.69it/s]\n",
      "  0%|          | 0/38 [00:00<?, ?it/s]"
     ]
    },
    {
     "name": "stdout",
     "output_type": "stream",
     "text": [
      "VALIDATION\n",
      "Epoch: 60 (10/10)\n",
      "\tData load time: 0.145 sec\n",
      "\tGeneration time: 0.151 sec\n",
      "\tLog probability: -4.5982 (avg -6.4461)\n",
      "\tKL: 31.8151 (avg 27.9310)\n",
      "\tLoss: 36.4133 (avg 34.3771)\n"
     ]
    },
    {
     "name": "stderr",
     "output_type": "stream",
     "text": [
      "100%|██████████| 38/38 [00:01<00:00, 23.36it/s]\n",
      "100%|██████████| 10/10 [00:00<00:00, 29.55it/s]\n",
      "100%|██████████| 38/38 [00:01<00:00, 23.21it/s]\n",
      "100%|██████████| 10/10 [00:00<00:00, 30.75it/s]\n",
      "100%|██████████| 38/38 [00:01<00:00, 23.22it/s]\n",
      "100%|██████████| 10/10 [00:00<00:00, 29.66it/s]\n",
      "100%|██████████| 38/38 [00:01<00:00, 23.63it/s]\n",
      "100%|██████████| 10/10 [00:00<00:00, 30.77it/s]\n",
      "100%|██████████| 38/38 [00:01<00:00, 23.28it/s]\n",
      "100%|██████████| 10/10 [00:00<00:00, 29.83it/s]\n",
      "100%|██████████| 38/38 [00:01<00:00, 23.45it/s]\n",
      "100%|██████████| 10/10 [00:00<00:00, 26.75it/s]\n",
      "  0%|          | 0/38 [00:00<?, ?it/s]"
     ]
    },
    {
     "name": "stdout",
     "output_type": "stream",
     "text": [
      "Saving checkpoint..\n",
      "Lowest validation loss: 22.1891\n"
     ]
    },
    {
     "name": "stderr",
     "output_type": "stream",
     "text": [
      "100%|██████████| 38/38 [00:01<00:00, 22.84it/s]\n",
      "100%|██████████| 10/10 [00:00<00:00, 26.24it/s]\n",
      "100%|██████████| 38/38 [00:01<00:00, 23.28it/s]\n",
      "100%|██████████| 10/10 [00:00<00:00, 29.30it/s]\n",
      "  0%|          | 0/38 [00:00<?, ?it/s]"
     ]
    },
    {
     "name": "stdout",
     "output_type": "stream",
     "text": [
      "Saving checkpoint..\n",
      "Lowest validation loss: 21.2122\n"
     ]
    },
    {
     "name": "stderr",
     "output_type": "stream",
     "text": [
      "100%|██████████| 38/38 [00:01<00:00, 23.32it/s]\n",
      "100%|██████████| 10/10 [00:00<00:00, 30.44it/s]\n",
      " 50%|█████     | 19/38 [00:00<00:01, 18.20it/s]"
     ]
    },
    {
     "name": "stdout",
     "output_type": "stream",
     "text": [
      "Epoch: 70 (15/38)\n",
      "\tData load time: 0.147 sec\n",
      "\tGeneration time: 0.160 sec\n",
      "\tBackprop time: 0.178 sec\n",
      "\tLog probability: -6.9040 (avg -6.6321)\n",
      "\tKL: 21.9142 (avg 17.8163)\n",
      "\tLoss: 28.8182 (avg 24.4484)\n"
     ]
    },
    {
     "name": "stderr",
     "output_type": "stream",
     "text": [
      " 89%|████████▉ | 34/38 [00:01<00:00, 24.10it/s]"
     ]
    },
    {
     "name": "stdout",
     "output_type": "stream",
     "text": [
      "Epoch: 70 (30/38)\n",
      "\tData load time: 0.147 sec\n",
      "\tGeneration time: 0.160 sec\n",
      "\tBackprop time: 0.178 sec\n",
      "\tLog probability: -7.2687 (avg -6.6479)\n",
      "\tKL: 22.4530 (avg 18.0857)\n",
      "\tLoss: 29.7217 (avg 24.7336)\n"
     ]
    },
    {
     "name": "stderr",
     "output_type": "stream",
     "text": [
      "100%|██████████| 38/38 [00:01<00:00, 23.32it/s]\n",
      "100%|██████████| 10/10 [00:00<00:00, 29.17it/s]\n"
     ]
    },
    {
     "name": "stdout",
     "output_type": "stream",
     "text": [
      "VALIDATION\n",
      "Epoch: 70 (10/10)\n",
      "\tData load time: 0.148 sec\n",
      "\tGeneration time: 0.159 sec\n",
      "\tLog probability: -3.8943 (avg -4.9580)\n",
      "\tKL: 9.1833 (avg 15.9521)\n",
      "\tLoss: 13.0777 (avg 20.9102)\n",
      "Saving checkpoint..\n"
     ]
    },
    {
     "name": "stderr",
     "output_type": "stream",
     "text": [
      "  0%|          | 0/38 [00:00<?, ?it/s]"
     ]
    },
    {
     "name": "stdout",
     "output_type": "stream",
     "text": [
      "Lowest validation loss: 20.9102\n"
     ]
    },
    {
     "name": "stderr",
     "output_type": "stream",
     "text": [
      "100%|██████████| 38/38 [00:01<00:00, 23.41it/s]\n",
      "100%|██████████| 10/10 [00:00<00:00, 29.56it/s]\n",
      "100%|██████████| 38/38 [00:01<00:00, 23.46it/s]\n",
      "100%|██████████| 10/10 [00:00<00:00, 28.13it/s]\n",
      "  0%|          | 0/38 [00:00<?, ?it/s]"
     ]
    },
    {
     "name": "stdout",
     "output_type": "stream",
     "text": [
      "Saving checkpoint..\n",
      "Lowest validation loss: 20.7354\n"
     ]
    },
    {
     "name": "stderr",
     "output_type": "stream",
     "text": [
      "100%|██████████| 38/38 [00:01<00:00, 23.13it/s]\n",
      "100%|██████████| 10/10 [00:00<00:00, 30.06it/s]\n",
      "100%|██████████| 38/38 [00:01<00:00, 23.22it/s]\n",
      "100%|██████████| 10/10 [00:00<00:00, 29.35it/s]\n",
      "100%|██████████| 38/38 [00:01<00:00, 23.30it/s]\n",
      "100%|██████████| 10/10 [00:00<00:00, 29.58it/s]\n",
      "100%|██████████| 38/38 [00:01<00:00, 23.62it/s]\n",
      "100%|██████████| 10/10 [00:00<00:00, 30.09it/s]\n",
      "100%|██████████| 38/38 [00:01<00:00, 23.44it/s]\n",
      "100%|██████████| 10/10 [00:00<00:00, 30.58it/s]\n",
      "100%|██████████| 38/38 [00:01<00:00, 23.19it/s]\n",
      "100%|██████████| 10/10 [00:00<00:00, 29.62it/s]\n",
      "100%|██████████| 38/38 [00:01<00:00, 23.16it/s]\n",
      "100%|██████████| 10/10 [00:00<00:00, 30.31it/s]\n",
      " 50%|█████     | 19/38 [00:00<00:01, 18.41it/s]"
     ]
    },
    {
     "name": "stdout",
     "output_type": "stream",
     "text": [
      "Epoch: 80 (15/38)\n",
      "\tData load time: 0.141 sec\n",
      "\tGeneration time: 0.152 sec\n",
      "\tBackprop time: 0.172 sec\n",
      "\tLog probability: -8.9913 (avg -9.3724)\n",
      "\tKL: 19.0781 (avg 23.8286)\n",
      "\tLoss: 28.0694 (avg 33.2009)\n"
     ]
    },
    {
     "name": "stderr",
     "output_type": "stream",
     "text": [
      " 89%|████████▉ | 34/38 [00:01<00:00, 24.18it/s]"
     ]
    },
    {
     "name": "stdout",
     "output_type": "stream",
     "text": [
      "Epoch: 80 (30/38)\n",
      "\tData load time: 0.141 sec\n",
      "\tGeneration time: 0.152 sec\n",
      "\tBackprop time: 0.172 sec\n",
      "\tLog probability: -6.1773 (avg -8.6570)\n",
      "\tKL: 21.3031 (avg 22.3064)\n",
      "\tLoss: 27.4804 (avg 30.9633)\n"
     ]
    },
    {
     "name": "stderr",
     "output_type": "stream",
     "text": [
      "100%|██████████| 38/38 [00:01<00:00, 23.41it/s]\n",
      "100%|██████████| 10/10 [00:00<00:00, 29.66it/s]\n",
      "  0%|          | 0/38 [00:00<?, ?it/s]"
     ]
    },
    {
     "name": "stdout",
     "output_type": "stream",
     "text": [
      "VALIDATION\n",
      "Epoch: 80 (10/10)\n",
      "\tData load time: 0.146 sec\n",
      "\tGeneration time: 0.155 sec\n",
      "\tLog probability: -8.5457 (avg -8.0240)\n",
      "\tKL: 23.3589 (avg 67.5044)\n",
      "\tLoss: 31.9046 (avg 75.5284)\n"
     ]
    },
    {
     "name": "stderr",
     "output_type": "stream",
     "text": [
      "100%|██████████| 38/38 [00:01<00:00, 23.46it/s]\n",
      "100%|██████████| 10/10 [00:00<00:00, 29.95it/s]\n",
      "100%|██████████| 38/38 [00:01<00:00, 23.36it/s]\n",
      "100%|██████████| 10/10 [00:00<00:00, 28.82it/s]\n",
      "100%|██████████| 38/38 [00:01<00:00, 23.20it/s]\n",
      "100%|██████████| 10/10 [00:00<00:00, 29.58it/s]\n",
      "100%|██████████| 38/38 [00:01<00:00, 23.26it/s]\n",
      "100%|██████████| 10/10 [00:00<00:00, 29.91it/s]\n",
      "100%|██████████| 38/38 [00:01<00:00, 23.45it/s]\n",
      "100%|██████████| 10/10 [00:00<00:00, 29.65it/s]\n",
      "100%|██████████| 38/38 [00:01<00:00, 23.51it/s]\n",
      "100%|██████████| 10/10 [00:00<00:00, 29.78it/s]\n",
      "100%|██████████| 38/38 [00:01<00:00, 23.36it/s]\n",
      "100%|██████████| 10/10 [00:00<00:00, 29.99it/s]\n",
      "100%|██████████| 38/38 [00:01<00:00, 23.46it/s]\n",
      "100%|██████████| 10/10 [00:00<00:00, 30.49it/s]\n",
      "100%|██████████| 38/38 [00:01<00:00, 23.21it/s]\n",
      "100%|██████████| 10/10 [00:00<00:00, 30.03it/s]\n",
      " 50%|█████     | 19/38 [00:00<00:01, 18.21it/s]"
     ]
    },
    {
     "name": "stdout",
     "output_type": "stream",
     "text": [
      "Epoch: 90 (15/38)\n",
      "\tData load time: 0.145 sec\n",
      "\tGeneration time: 0.156 sec\n",
      "\tBackprop time: 0.176 sec\n",
      "\tLog probability: -4.2587 (avg -5.6529)\n",
      "\tKL: 18.3783 (avg 18.0502)\n",
      "\tLoss: 22.6369 (avg 23.7031)\n"
     ]
    },
    {
     "name": "stderr",
     "output_type": "stream",
     "text": [
      " 89%|████████▉ | 34/38 [00:01<00:00, 24.08it/s]"
     ]
    },
    {
     "name": "stdout",
     "output_type": "stream",
     "text": [
      "Epoch: 90 (30/38)\n",
      "\tData load time: 0.145 sec\n",
      "\tGeneration time: 0.156 sec\n",
      "\tBackprop time: 0.176 sec\n",
      "\tLog probability: -3.4667 (avg -5.2926)\n",
      "\tKL: 14.3758 (avg 17.7136)\n",
      "\tLoss: 17.8425 (avg 23.0061)\n"
     ]
    },
    {
     "name": "stderr",
     "output_type": "stream",
     "text": [
      "100%|██████████| 38/38 [00:01<00:00, 23.17it/s]\n",
      "100%|██████████| 10/10 [00:00<00:00, 30.64it/s]\n",
      "  0%|          | 0/38 [00:00<?, ?it/s]"
     ]
    },
    {
     "name": "stdout",
     "output_type": "stream",
     "text": [
      "VALIDATION\n",
      "Epoch: 90 (10/10)\n",
      "\tData load time: 0.125 sec\n",
      "\tGeneration time: 0.136 sec\n",
      "\tLog probability: -6.4163 (avg -5.6567)\n",
      "\tKL: 10.7056 (avg 15.2083)\n",
      "\tLoss: 17.1220 (avg 20.8651)\n"
     ]
    },
    {
     "name": "stderr",
     "output_type": "stream",
     "text": [
      "100%|██████████| 38/38 [00:01<00:00, 23.23it/s]\n",
      "100%|██████████| 10/10 [00:00<00:00, 29.75it/s]\n",
      "  0%|          | 0/38 [00:00<?, ?it/s]"
     ]
    },
    {
     "name": "stdout",
     "output_type": "stream",
     "text": [
      "Saving checkpoint..\n",
      "Lowest validation loss: 19.3593\n"
     ]
    },
    {
     "name": "stderr",
     "output_type": "stream",
     "text": [
      "100%|██████████| 38/38 [00:01<00:00, 23.40it/s]\n",
      "100%|██████████| 10/10 [00:00<00:00, 28.29it/s]\n",
      "  0%|          | 0/38 [00:00<?, ?it/s]"
     ]
    },
    {
     "name": "stdout",
     "output_type": "stream",
     "text": [
      "Saving checkpoint..\n",
      "Lowest validation loss: 18.6891\n"
     ]
    },
    {
     "name": "stderr",
     "output_type": "stream",
     "text": [
      "100%|██████████| 38/38 [00:01<00:00, 23.45it/s]\n",
      "100%|██████████| 10/10 [00:00<00:00, 30.73it/s]\n",
      "100%|██████████| 38/38 [00:01<00:00, 23.43it/s]\n",
      "100%|██████████| 10/10 [00:00<00:00, 29.07it/s]\n",
      "  0%|          | 0/38 [00:00<?, ?it/s]"
     ]
    },
    {
     "name": "stdout",
     "output_type": "stream",
     "text": [
      "Saving checkpoint..\n",
      "Lowest validation loss: 17.6072\n"
     ]
    },
    {
     "name": "stderr",
     "output_type": "stream",
     "text": [
      "100%|██████████| 38/38 [00:01<00:00, 23.01it/s]\n",
      "100%|██████████| 10/10 [00:00<00:00, 29.73it/s]\n",
      "100%|██████████| 38/38 [00:01<00:00, 23.26it/s]\n",
      "100%|██████████| 10/10 [00:00<00:00, 29.70it/s]\n",
      "100%|██████████| 38/38 [00:01<00:00, 23.33it/s]\n",
      "100%|██████████| 10/10 [00:00<00:00, 29.72it/s]\n",
      "100%|██████████| 38/38 [00:01<00:00, 23.44it/s]\n",
      "100%|██████████| 10/10 [00:00<00:00, 30.00it/s]\n",
      "100%|██████████| 38/38 [00:01<00:00, 23.35it/s]\n",
      "100%|██████████| 10/10 [00:00<00:00, 29.17it/s]\n",
      " 50%|█████     | 19/38 [00:00<00:01, 17.52it/s]"
     ]
    },
    {
     "name": "stdout",
     "output_type": "stream",
     "text": [
      "Epoch: 100 (15/38)\n",
      "\tData load time: 0.162 sec\n",
      "\tGeneration time: 0.174 sec\n",
      "\tBackprop time: 0.193 sec\n",
      "\tLog probability: -4.7805 (avg -10.6613)\n",
      "\tKL: 54.5868 (avg 44.8660)\n",
      "\tLoss: 59.3672 (avg 55.5273)\n"
     ]
    },
    {
     "name": "stderr",
     "output_type": "stream",
     "text": [
      " 89%|████████▉ | 34/38 [00:01<00:00, 23.84it/s]"
     ]
    },
    {
     "name": "stdout",
     "output_type": "stream",
     "text": [
      "Epoch: 100 (30/38)\n",
      "\tData load time: 0.162 sec\n",
      "\tGeneration time: 0.174 sec\n",
      "\tBackprop time: 0.193 sec\n",
      "\tLog probability: -13.3694 (avg -9.2275)\n",
      "\tKL: 31.4577 (avg 39.2503)\n",
      "\tLoss: 44.8272 (avg 48.4778)\n"
     ]
    },
    {
     "name": "stderr",
     "output_type": "stream",
     "text": [
      "100%|██████████| 38/38 [00:01<00:00, 22.96it/s]\n",
      "100%|██████████| 10/10 [00:00<00:00, 28.99it/s]\n",
      "  0%|          | 0/38 [00:00<?, ?it/s]"
     ]
    },
    {
     "name": "stdout",
     "output_type": "stream",
     "text": [
      "VALIDATION\n",
      "Epoch: 100 (10/10)\n",
      "\tData load time: 0.152 sec\n",
      "\tGeneration time: 0.161 sec\n",
      "\tLog probability: -15.9900 (avg -9.0965)\n",
      "\tKL: 47.0031 (avg 24.0481)\n",
      "\tLoss: 62.9931 (avg 33.1446)\n"
     ]
    },
    {
     "name": "stderr",
     "output_type": "stream",
     "text": [
      "100%|██████████| 38/38 [00:01<00:00, 23.49it/s]\n",
      "100%|██████████| 10/10 [00:00<00:00, 29.06it/s]\n",
      "100%|██████████| 38/38 [00:01<00:00, 23.30it/s]\n",
      "100%|██████████| 10/10 [00:00<00:00, 29.97it/s]\n",
      "100%|██████████| 38/38 [00:01<00:00, 23.30it/s]\n",
      "100%|██████████| 10/10 [00:00<00:00, 29.15it/s]\n",
      "100%|██████████| 38/38 [00:01<00:00, 23.31it/s]\n",
      "100%|██████████| 10/10 [00:00<00:00, 30.00it/s]\n",
      "100%|██████████| 38/38 [00:01<00:00, 23.18it/s]\n",
      "100%|██████████| 10/10 [00:00<00:00, 29.92it/s]\n",
      "100%|██████████| 38/38 [00:01<00:00, 23.23it/s]\n",
      "100%|██████████| 10/10 [00:00<00:00, 28.85it/s]\n",
      "100%|██████████| 38/38 [00:01<00:00, 23.44it/s]\n",
      "100%|██████████| 10/10 [00:00<00:00, 28.89it/s]\n",
      "100%|██████████| 38/38 [00:01<00:00, 23.49it/s]\n",
      "100%|██████████| 10/10 [00:00<00:00, 29.25it/s]\n",
      "100%|██████████| 38/38 [00:01<00:00, 23.13it/s]\n",
      "100%|██████████| 10/10 [00:00<00:00, 29.13it/s]\n",
      " 50%|█████     | 19/38 [00:00<00:01, 18.39it/s]"
     ]
    },
    {
     "name": "stdout",
     "output_type": "stream",
     "text": [
      "Epoch: 110 (15/38)\n",
      "\tData load time: 0.142 sec\n",
      "\tGeneration time: 0.151 sec\n",
      "\tBackprop time: 0.173 sec\n",
      "\tLog probability: -5.4856 (avg -5.3454)\n",
      "\tKL: 12.9739 (avg 12.8722)\n",
      "\tLoss: 18.4594 (avg 18.2177)\n"
     ]
    },
    {
     "name": "stderr",
     "output_type": "stream",
     "text": [
      " 89%|████████▉ | 34/38 [00:01<00:00, 24.18it/s]"
     ]
    },
    {
     "name": "stdout",
     "output_type": "stream",
     "text": [
      "Epoch: 110 (30/38)\n",
      "\tData load time: 0.142 sec\n",
      "\tGeneration time: 0.151 sec\n",
      "\tBackprop time: 0.173 sec\n",
      "\tLog probability: -2.9414 (avg -4.7067)\n",
      "\tKL: 10.9006 (avg 12.8715)\n",
      "\tLoss: 13.8420 (avg 17.5782)\n"
     ]
    },
    {
     "name": "stderr",
     "output_type": "stream",
     "text": [
      "100%|██████████| 38/38 [00:01<00:00, 23.37it/s]\n",
      "100%|██████████| 10/10 [00:00<00:00, 30.97it/s]\n",
      "  0%|          | 0/38 [00:00<?, ?it/s]"
     ]
    },
    {
     "name": "stdout",
     "output_type": "stream",
     "text": [
      "VALIDATION\n",
      "Epoch: 110 (10/10)\n",
      "\tData load time: 0.121 sec\n",
      "\tGeneration time: 0.130 sec\n",
      "\tLog probability: -9.2593 (avg -5.8479)\n",
      "\tKL: 11.6001 (avg 12.8282)\n",
      "\tLoss: 20.8594 (avg 18.6761)\n"
     ]
    },
    {
     "name": "stderr",
     "output_type": "stream",
     "text": [
      "100%|██████████| 38/38 [00:01<00:00, 23.25it/s]\n",
      "100%|██████████| 10/10 [00:00<00:00, 31.31it/s]\n",
      "100%|██████████| 38/38 [00:01<00:00, 23.37it/s]\n",
      "100%|██████████| 10/10 [00:00<00:00, 28.60it/s]\n",
      "  0%|          | 0/38 [00:00<?, ?it/s]"
     ]
    },
    {
     "name": "stdout",
     "output_type": "stream",
     "text": [
      "Saving checkpoint..\n",
      "Lowest validation loss: 15.7189\n"
     ]
    },
    {
     "name": "stderr",
     "output_type": "stream",
     "text": [
      "100%|██████████| 38/38 [00:01<00:00, 22.99it/s]\n",
      "100%|██████████| 10/10 [00:00<00:00, 29.57it/s]\n",
      "  0%|          | 0/38 [00:00<?, ?it/s]"
     ]
    },
    {
     "name": "stdout",
     "output_type": "stream",
     "text": [
      "Saving checkpoint..\n",
      "Lowest validation loss: 15.5265\n"
     ]
    },
    {
     "name": "stderr",
     "output_type": "stream",
     "text": [
      "100%|██████████| 38/38 [00:01<00:00, 23.20it/s]\n",
      "100%|██████████| 10/10 [00:00<00:00, 29.36it/s]\n",
      "100%|██████████| 38/38 [00:01<00:00, 23.44it/s]\n",
      "100%|██████████| 10/10 [00:00<00:00, 28.86it/s]\n",
      "100%|██████████| 38/38 [00:01<00:00, 23.58it/s]\n",
      "100%|██████████| 10/10 [00:00<00:00, 29.90it/s]\n",
      "100%|██████████| 38/38 [00:01<00:00, 23.19it/s]\n",
      "100%|██████████| 10/10 [00:00<00:00, 28.98it/s]\n",
      "100%|██████████| 38/38 [00:01<00:00, 23.24it/s]\n",
      "100%|██████████| 10/10 [00:00<00:00, 30.14it/s]\n",
      "100%|██████████| 38/38 [00:01<00:00, 23.37it/s]\n",
      "100%|██████████| 10/10 [00:00<00:00, 29.52it/s]\n",
      " 50%|█████     | 19/38 [00:00<00:01, 18.12it/s]"
     ]
    },
    {
     "name": "stdout",
     "output_type": "stream",
     "text": [
      "Epoch: 120 (15/38)\n",
      "\tData load time: 0.149 sec\n",
      "\tGeneration time: 0.160 sec\n",
      "\tBackprop time: 0.179 sec\n",
      "\tLog probability: -4.8186 (avg -5.8312)\n",
      "\tKL: 17.3446 (avg 16.3380)\n",
      "\tLoss: 22.1632 (avg 22.1692)\n"
     ]
    },
    {
     "name": "stderr",
     "output_type": "stream",
     "text": [
      " 89%|████████▉ | 34/38 [00:01<00:00, 24.07it/s]"
     ]
    },
    {
     "name": "stdout",
     "output_type": "stream",
     "text": [
      "Epoch: 120 (30/38)\n",
      "\tData load time: 0.149 sec\n",
      "\tGeneration time: 0.160 sec\n",
      "\tBackprop time: 0.179 sec\n",
      "\tLog probability: -3.8522 (avg -5.7526)\n",
      "\tKL: 12.1828 (avg 15.6165)\n",
      "\tLoss: 16.0350 (avg 21.3691)\n"
     ]
    },
    {
     "name": "stderr",
     "output_type": "stream",
     "text": [
      "100%|██████████| 38/38 [00:01<00:00, 23.27it/s]\n",
      "100%|██████████| 10/10 [00:00<00:00, 28.53it/s]\n",
      "  0%|          | 0/38 [00:00<?, ?it/s]"
     ]
    },
    {
     "name": "stdout",
     "output_type": "stream",
     "text": [
      "VALIDATION\n",
      "Epoch: 120 (10/10)\n",
      "\tData load time: 0.159 sec\n",
      "\tGeneration time: 0.170 sec\n",
      "\tLog probability: -5.0954 (avg -5.4765)\n",
      "\tKL: 18.5005 (avg 16.3016)\n",
      "\tLoss: 23.5959 (avg 21.7780)\n"
     ]
    },
    {
     "name": "stderr",
     "output_type": "stream",
     "text": [
      "100%|██████████| 38/38 [00:01<00:00, 23.08it/s]\n",
      "100%|██████████| 10/10 [00:00<00:00, 30.03it/s]\n",
      "100%|██████████| 38/38 [00:01<00:00, 23.24it/s]\n",
      "100%|██████████| 10/10 [00:00<00:00, 29.77it/s]\n",
      "100%|██████████| 38/38 [00:01<00:00, 23.19it/s]\n",
      "100%|██████████| 10/10 [00:00<00:00, 28.86it/s]\n",
      "100%|██████████| 38/38 [00:01<00:00, 23.08it/s]\n",
      "100%|██████████| 10/10 [00:00<00:00, 29.34it/s]\n",
      "100%|██████████| 38/38 [00:01<00:00, 23.12it/s]\n",
      "100%|██████████| 10/10 [00:00<00:00, 28.69it/s]\n",
      "100%|██████████| 38/38 [00:01<00:00, 23.01it/s]\n",
      "100%|██████████| 10/10 [00:00<00:00, 29.46it/s]\n",
      "100%|██████████| 38/38 [00:01<00:00, 23.59it/s]\n",
      "100%|██████████| 10/10 [00:00<00:00, 29.33it/s]\n",
      "100%|██████████| 38/38 [00:01<00:00, 23.37it/s]\n",
      "100%|██████████| 10/10 [00:00<00:00, 30.01it/s]\n",
      "100%|██████████| 38/38 [00:01<00:00, 23.60it/s]\n",
      "100%|██████████| 10/10 [00:00<00:00, 30.20it/s]\n",
      " 50%|█████     | 19/38 [00:00<00:01, 18.32it/s]"
     ]
    },
    {
     "name": "stdout",
     "output_type": "stream",
     "text": [
      "Epoch: 130 (15/38)\n",
      "\tData load time: 0.146 sec\n",
      "\tGeneration time: 0.155 sec\n",
      "\tBackprop time: 0.175 sec\n",
      "\tLog probability: -6.0912 (avg -5.3021)\n",
      "\tKL: 16.6252 (avg 14.7749)\n",
      "\tLoss: 22.7164 (avg 20.0770)\n"
     ]
    },
    {
     "name": "stderr",
     "output_type": "stream",
     "text": [
      " 89%|████████▉ | 34/38 [00:01<00:00, 24.16it/s]"
     ]
    },
    {
     "name": "stdout",
     "output_type": "stream",
     "text": [
      "Epoch: 130 (30/38)\n",
      "\tData load time: 0.146 sec\n",
      "\tGeneration time: 0.155 sec\n",
      "\tBackprop time: 0.175 sec\n",
      "\tLog probability: -9.3003 (avg -5.2007)\n",
      "\tKL: 21.6179 (avg 14.8499)\n",
      "\tLoss: 30.9182 (avg 20.0506)\n"
     ]
    },
    {
     "name": "stderr",
     "output_type": "stream",
     "text": [
      "100%|██████████| 38/38 [00:01<00:00, 23.37it/s]\n",
      "100%|██████████| 10/10 [00:00<00:00, 29.91it/s]\n",
      "  0%|          | 0/38 [00:00<?, ?it/s]"
     ]
    },
    {
     "name": "stdout",
     "output_type": "stream",
     "text": [
      "VALIDATION\n",
      "Epoch: 130 (10/10)\n",
      "\tData load time: 0.130 sec\n",
      "\tGeneration time: 0.139 sec\n",
      "\tLog probability: -3.3681 (avg -4.2512)\n",
      "\tKL: 14.7952 (avg 13.3088)\n",
      "\tLoss: 18.1633 (avg 17.5600)\n"
     ]
    },
    {
     "name": "stderr",
     "output_type": "stream",
     "text": [
      "100%|██████████| 38/38 [00:01<00:00, 23.28it/s]\n",
      "100%|██████████| 10/10 [00:00<00:00, 29.23it/s]\n",
      "100%|██████████| 38/38 [00:01<00:00, 23.35it/s]\n",
      "100%|██████████| 10/10 [00:00<00:00, 29.24it/s]\n",
      "100%|██████████| 38/38 [00:01<00:00, 23.28it/s]\n",
      "100%|██████████| 10/10 [00:00<00:00, 29.28it/s]\n",
      "  0%|          | 0/38 [00:00<?, ?it/s]"
     ]
    },
    {
     "name": "stdout",
     "output_type": "stream",
     "text": [
      "Saving checkpoint..\n",
      "Lowest validation loss: 14.6485\n"
     ]
    },
    {
     "name": "stderr",
     "output_type": "stream",
     "text": [
      "100%|██████████| 38/38 [00:01<00:00, 23.33it/s]\n",
      "100%|██████████| 10/10 [00:00<00:00, 29.86it/s]\n",
      "  0%|          | 0/38 [00:00<?, ?it/s]"
     ]
    },
    {
     "name": "stdout",
     "output_type": "stream",
     "text": [
      "Saving checkpoint..\n",
      "Lowest validation loss: 14.2504\n"
     ]
    },
    {
     "name": "stderr",
     "output_type": "stream",
     "text": [
      "100%|██████████| 38/38 [00:01<00:00, 23.48it/s]\n",
      "100%|██████████| 10/10 [00:00<00:00, 30.37it/s]\n",
      "  0%|          | 0/38 [00:00<?, ?it/s]"
     ]
    },
    {
     "name": "stdout",
     "output_type": "stream",
     "text": [
      "Saving checkpoint..\n",
      "Lowest validation loss: 12.9235\n"
     ]
    },
    {
     "name": "stderr",
     "output_type": "stream",
     "text": [
      "100%|██████████| 38/38 [00:01<00:00, 23.34it/s]\n",
      "100%|██████████| 10/10 [00:00<00:00, 30.13it/s]\n",
      "100%|██████████| 38/38 [00:01<00:00, 23.23it/s]\n",
      "100%|██████████| 10/10 [00:00<00:00, 29.63it/s]\n",
      "100%|██████████| 38/38 [00:01<00:00, 23.41it/s]\n",
      "100%|██████████| 10/10 [00:00<00:00, 30.44it/s]\n",
      "100%|██████████| 38/38 [00:01<00:00, 23.36it/s]\n",
      "100%|██████████| 10/10 [00:00<00:00, 30.14it/s]\n",
      " 50%|█████     | 19/38 [00:00<00:01, 18.30it/s]"
     ]
    },
    {
     "name": "stdout",
     "output_type": "stream",
     "text": [
      "Epoch: 140 (15/38)\n",
      "\tData load time: 0.145 sec\n",
      "\tGeneration time: 0.156 sec\n",
      "\tBackprop time: 0.177 sec\n",
      "\tLog probability: -5.7870 (avg -15.4452)\n",
      "\tKL: 20.8378 (avg 29.3287)\n",
      "\tLoss: 26.6248 (avg 44.7739)\n"
     ]
    },
    {
     "name": "stderr",
     "output_type": "stream",
     "text": [
      " 89%|████████▉ | 34/38 [00:01<00:00, 24.15it/s]"
     ]
    },
    {
     "name": "stdout",
     "output_type": "stream",
     "text": [
      "Epoch: 140 (30/38)\n",
      "\tData load time: 0.145 sec\n",
      "\tGeneration time: 0.156 sec\n",
      "\tBackprop time: 0.177 sec\n",
      "\tLog probability: -4.9497 (avg -11.5298)\n",
      "\tKL: 15.7622 (avg 23.4908)\n",
      "\tLoss: 20.7119 (avg 35.0206)\n"
     ]
    },
    {
     "name": "stderr",
     "output_type": "stream",
     "text": [
      "100%|██████████| 38/38 [00:01<00:00, 23.40it/s]\n",
      "100%|██████████| 10/10 [00:00<00:00, 30.48it/s]\n",
      "  0%|          | 0/38 [00:00<?, ?it/s]"
     ]
    },
    {
     "name": "stdout",
     "output_type": "stream",
     "text": [
      "VALIDATION\n",
      "Epoch: 140 (10/10)\n",
      "\tData load time: 0.125 sec\n",
      "\tGeneration time: 0.134 sec\n",
      "\tLog probability: -3.9999 (avg -6.9543)\n",
      "\tKL: 9.2555 (avg 12.6039)\n",
      "\tLoss: 13.2554 (avg 19.5582)\n"
     ]
    },
    {
     "name": "stderr",
     "output_type": "stream",
     "text": [
      "100%|██████████| 38/38 [00:01<00:00, 23.56it/s]\n",
      "100%|██████████| 10/10 [00:00<00:00, 29.04it/s]\n",
      "100%|██████████| 38/38 [00:01<00:00, 23.39it/s]\n",
      "100%|██████████| 10/10 [00:00<00:00, 29.74it/s]\n",
      "100%|██████████| 38/38 [00:01<00:00, 23.27it/s]\n",
      "100%|██████████| 10/10 [00:00<00:00, 29.43it/s]\n",
      "100%|██████████| 38/38 [00:01<00:00, 23.26it/s]\n",
      "100%|██████████| 10/10 [00:00<00:00, 28.89it/s]\n",
      "100%|██████████| 38/38 [00:01<00:00, 23.43it/s]\n",
      "100%|██████████| 10/10 [00:00<00:00, 30.49it/s]\n",
      "100%|██████████| 38/38 [00:01<00:00, 23.44it/s]\n",
      "100%|██████████| 10/10 [00:00<00:00, 30.91it/s]\n",
      "100%|██████████| 38/38 [00:01<00:00, 23.32it/s]\n",
      "100%|██████████| 10/10 [00:00<00:00, 29.04it/s]\n",
      "100%|██████████| 38/38 [00:01<00:00, 23.23it/s]\n",
      "100%|██████████| 10/10 [00:00<00:00, 29.45it/s]\n",
      "100%|██████████| 38/38 [00:01<00:00, 23.38it/s]\n",
      "100%|██████████| 10/10 [00:00<00:00, 28.85it/s]\n",
      " 50%|█████     | 19/38 [00:00<00:01, 18.28it/s]"
     ]
    },
    {
     "name": "stdout",
     "output_type": "stream",
     "text": [
      "Epoch: 150 (15/38)\n",
      "\tData load time: 0.148 sec\n",
      "\tGeneration time: 0.156 sec\n",
      "\tBackprop time: 0.176 sec\n",
      "\tLog probability: -4.5340 (avg -3.7954)\n",
      "\tKL: 25.1746 (avg 25.3727)\n",
      "\tLoss: 29.7086 (avg 29.1681)\n"
     ]
    },
    {
     "name": "stderr",
     "output_type": "stream",
     "text": [
      " 89%|████████▉ | 34/38 [00:01<00:00, 24.09it/s]"
     ]
    },
    {
     "name": "stdout",
     "output_type": "stream",
     "text": [
      "Epoch: 150 (30/38)\n",
      "\tData load time: 0.148 sec\n",
      "\tGeneration time: 0.156 sec\n",
      "\tBackprop time: 0.176 sec\n",
      "\tLog probability: -4.0702 (avg -4.6970)\n",
      "\tKL: 24.1992 (avg 25.7033)\n",
      "\tLoss: 28.2694 (avg 30.4002)\n"
     ]
    },
    {
     "name": "stderr",
     "output_type": "stream",
     "text": [
      "100%|██████████| 38/38 [00:01<00:00, 23.34it/s]\n",
      "100%|██████████| 10/10 [00:00<00:00, 29.61it/s]\n",
      "  0%|          | 0/38 [00:00<?, ?it/s]"
     ]
    },
    {
     "name": "stdout",
     "output_type": "stream",
     "text": [
      "VALIDATION\n",
      "Epoch: 150 (10/10)\n",
      "\tData load time: 0.148 sec\n",
      "\tGeneration time: 0.157 sec\n",
      "\tLog probability: -3.0057 (avg -3.5427)\n",
      "\tKL: 31.4848 (avg 25.4811)\n",
      "\tLoss: 34.4905 (avg 29.0238)\n"
     ]
    },
    {
     "name": "stderr",
     "output_type": "stream",
     "text": [
      "100%|██████████| 38/38 [00:01<00:00, 23.30it/s]\n",
      "100%|██████████| 10/10 [00:00<00:00, 30.15it/s]\n",
      "100%|██████████| 38/38 [00:01<00:00, 23.20it/s]\n",
      "100%|██████████| 10/10 [00:00<00:00, 29.19it/s]\n",
      "100%|██████████| 38/38 [00:01<00:00, 23.26it/s]\n",
      "100%|██████████| 10/10 [00:00<00:00, 30.12it/s]\n",
      "100%|██████████| 38/38 [00:01<00:00, 23.42it/s]\n",
      "100%|██████████| 10/10 [00:00<00:00, 28.98it/s]\n",
      "100%|██████████| 38/38 [00:01<00:00, 23.51it/s]\n",
      "100%|██████████| 10/10 [00:00<00:00, 30.72it/s]\n",
      "100%|██████████| 38/38 [00:01<00:00, 23.29it/s]\n",
      "100%|██████████| 10/10 [00:00<00:00, 27.81it/s]\n",
      "100%|██████████| 38/38 [00:01<00:00, 22.81it/s]\n",
      "100%|██████████| 10/10 [00:00<00:00, 26.62it/s]\n",
      "100%|██████████| 38/38 [00:01<00:00, 22.58it/s]\n",
      "100%|██████████| 10/10 [00:00<00:00, 28.75it/s]\n",
      "100%|██████████| 38/38 [00:01<00:00, 23.71it/s]\n",
      "100%|██████████| 10/10 [00:00<00:00, 29.13it/s]\n",
      " 50%|█████     | 19/38 [00:00<00:01, 17.99it/s]"
     ]
    },
    {
     "name": "stdout",
     "output_type": "stream",
     "text": [
      "Epoch: 160 (15/38)\n",
      "\tData load time: 0.154 sec\n",
      "\tGeneration time: 0.165 sec\n",
      "\tBackprop time: 0.183 sec\n",
      "\tLog probability: -4.4344 (avg -7.6745)\n",
      "\tKL: 40.8882 (avg 40.5479)\n",
      "\tLoss: 45.3226 (avg 48.2225)\n"
     ]
    },
    {
     "name": "stderr",
     "output_type": "stream",
     "text": [
      " 89%|████████▉ | 34/38 [00:01<00:00, 24.03it/s]"
     ]
    },
    {
     "name": "stdout",
     "output_type": "stream",
     "text": [
      "Epoch: 160 (30/38)\n",
      "\tData load time: 0.154 sec\n",
      "\tGeneration time: 0.165 sec\n",
      "\tBackprop time: 0.183 sec\n",
      "\tLog probability: -5.4755 (avg -6.9722)\n",
      "\tKL: 40.0593 (avg 39.7518)\n",
      "\tLoss: 45.5348 (avg 46.7240)\n"
     ]
    },
    {
     "name": "stderr",
     "output_type": "stream",
     "text": [
      "100%|██████████| 38/38 [00:01<00:00, 23.13it/s]\n",
      "100%|██████████| 10/10 [00:00<00:00, 29.36it/s]\n",
      "  0%|          | 0/38 [00:00<?, ?it/s]"
     ]
    },
    {
     "name": "stdout",
     "output_type": "stream",
     "text": [
      "VALIDATION\n",
      "Epoch: 160 (10/10)\n",
      "\tData load time: 0.148 sec\n",
      "\tGeneration time: 0.155 sec\n",
      "\tLog probability: -6.4790 (avg -5.3833)\n",
      "\tKL: 17.9749 (avg 32.9783)\n",
      "\tLoss: 24.4539 (avg 38.3616)\n"
     ]
    },
    {
     "name": "stderr",
     "output_type": "stream",
     "text": [
      "100%|██████████| 38/38 [00:01<00:00, 23.41it/s]\n",
      "100%|██████████| 10/10 [00:00<00:00, 29.83it/s]\n",
      "100%|██████████| 38/38 [00:01<00:00, 23.57it/s]\n",
      "100%|██████████| 10/10 [00:00<00:00, 29.86it/s]\n",
      "100%|██████████| 38/38 [00:01<00:00, 23.53it/s]\n",
      "100%|██████████| 10/10 [00:00<00:00, 29.27it/s]\n",
      "100%|██████████| 38/38 [00:01<00:00, 23.33it/s]\n",
      "100%|██████████| 10/10 [00:00<00:00, 29.27it/s]\n",
      "100%|██████████| 38/38 [00:01<00:00, 23.31it/s]\n",
      "100%|██████████| 10/10 [00:00<00:00, 29.66it/s]\n",
      "100%|██████████| 38/38 [00:01<00:00, 23.34it/s]\n",
      "100%|██████████| 10/10 [00:00<00:00, 29.61it/s]\n",
      "100%|██████████| 38/38 [00:01<00:00, 23.33it/s]\n",
      "100%|██████████| 10/10 [00:00<00:00, 31.36it/s]\n",
      "100%|██████████| 38/38 [00:01<00:00, 23.27it/s]\n",
      "100%|██████████| 10/10 [00:00<00:00, 28.80it/s]\n",
      "100%|██████████| 38/38 [00:01<00:00, 23.29it/s]\n",
      "100%|██████████| 10/10 [00:00<00:00, 29.32it/s]\n",
      " 50%|█████     | 19/38 [00:00<00:01, 18.09it/s]"
     ]
    },
    {
     "name": "stdout",
     "output_type": "stream",
     "text": [
      "Epoch: 170 (15/38)\n",
      "\tData load time: 0.151 sec\n",
      "\tGeneration time: 0.162 sec\n",
      "\tBackprop time: 0.181 sec\n",
      "\tLog probability: -3.7694 (avg -5.5884)\n",
      "\tKL: 20.3783 (avg 22.9552)\n",
      "\tLoss: 24.1477 (avg 28.5436)\n"
     ]
    },
    {
     "name": "stderr",
     "output_type": "stream",
     "text": [
      " 89%|████████▉ | 34/38 [00:01<00:00, 24.07it/s]"
     ]
    },
    {
     "name": "stdout",
     "output_type": "stream",
     "text": [
      "Epoch: 170 (30/38)\n",
      "\tData load time: 0.151 sec\n",
      "\tGeneration time: 0.162 sec\n",
      "\tBackprop time: 0.181 sec\n",
      "\tLog probability: -4.1294 (avg -5.3811)\n",
      "\tKL: 21.1102 (avg 23.0729)\n",
      "\tLoss: 25.2396 (avg 28.4540)\n"
     ]
    },
    {
     "name": "stderr",
     "output_type": "stream",
     "text": [
      "100%|██████████| 38/38 [00:01<00:00, 23.31it/s]\n",
      "100%|██████████| 10/10 [00:00<00:00, 30.13it/s]\n",
      "  0%|          | 0/38 [00:00<?, ?it/s]"
     ]
    },
    {
     "name": "stdout",
     "output_type": "stream",
     "text": [
      "VALIDATION\n",
      "Epoch: 170 (10/10)\n",
      "\tData load time: 0.135 sec\n",
      "\tGeneration time: 0.143 sec\n",
      "\tLog probability: -2.3550 (avg -3.6281)\n",
      "\tKL: 26.8084 (avg 20.2657)\n",
      "\tLoss: 29.1634 (avg 23.8938)\n"
     ]
    },
    {
     "name": "stderr",
     "output_type": "stream",
     "text": [
      "100%|██████████| 38/38 [00:01<00:00, 23.20it/s]\n",
      "100%|██████████| 10/10 [00:00<00:00, 29.38it/s]\n",
      "100%|██████████| 38/38 [00:01<00:00, 23.48it/s]\n",
      "100%|██████████| 10/10 [00:00<00:00, 29.58it/s]\n",
      "100%|██████████| 38/38 [00:01<00:00, 23.32it/s]\n",
      "100%|██████████| 10/10 [00:00<00:00, 29.69it/s]\n",
      "100%|██████████| 38/38 [00:01<00:00, 23.19it/s]\n",
      "100%|██████████| 10/10 [00:00<00:00, 30.28it/s]\n",
      "100%|██████████| 38/38 [00:01<00:00, 22.92it/s]\n",
      "100%|██████████| 10/10 [00:00<00:00, 30.41it/s]\n",
      "100%|██████████| 38/38 [00:01<00:00, 23.24it/s]\n",
      "100%|██████████| 10/10 [00:00<00:00, 29.49it/s]\n",
      "100%|██████████| 38/38 [00:01<00:00, 23.23it/s]\n",
      "100%|██████████| 10/10 [00:00<00:00, 29.73it/s]\n",
      "100%|██████████| 38/38 [00:01<00:00, 23.10it/s]\n",
      "100%|██████████| 10/10 [00:00<00:00, 28.48it/s]\n",
      "100%|██████████| 38/38 [00:01<00:00, 23.39it/s]\n",
      "100%|██████████| 10/10 [00:00<00:00, 30.12it/s]\n",
      " 50%|█████     | 19/38 [00:00<00:01, 18.00it/s]"
     ]
    },
    {
     "name": "stdout",
     "output_type": "stream",
     "text": [
      "Epoch: 180 (15/38)\n",
      "\tData load time: 0.151 sec\n",
      "\tGeneration time: 0.162 sec\n",
      "\tBackprop time: 0.182 sec\n",
      "\tLog probability: -7.6481 (avg -18.4363)\n",
      "\tKL: 69.9486 (avg 93.5907)\n",
      "\tLoss: 77.5967 (avg 112.0270)\n"
     ]
    },
    {
     "name": "stderr",
     "output_type": "stream",
     "text": [
      " 89%|████████▉ | 34/38 [00:01<00:00, 24.00it/s]"
     ]
    },
    {
     "name": "stdout",
     "output_type": "stream",
     "text": [
      "Epoch: 180 (30/38)\n",
      "\tData load time: 0.151 sec\n",
      "\tGeneration time: 0.162 sec\n",
      "\tBackprop time: 0.182 sec\n",
      "\tLog probability: -7.5765 (avg -13.0032)\n",
      "\tKL: 36.8398 (avg 68.9492)\n",
      "\tLoss: 44.4163 (avg 81.9524)\n"
     ]
    },
    {
     "name": "stderr",
     "output_type": "stream",
     "text": [
      "100%|██████████| 38/38 [00:01<00:00, 23.21it/s]\n",
      "100%|██████████| 10/10 [00:00<00:00, 29.29it/s]\n",
      "  0%|          | 0/38 [00:00<?, ?it/s]"
     ]
    },
    {
     "name": "stdout",
     "output_type": "stream",
     "text": [
      "VALIDATION\n",
      "Epoch: 180 (10/10)\n",
      "\tData load time: 0.150 sec\n",
      "\tGeneration time: 0.158 sec\n",
      "\tLog probability: -9.8749 (avg -9.1801)\n",
      "\tKL: 25.3238 (avg 23.7133)\n",
      "\tLoss: 35.1987 (avg 32.8933)\n"
     ]
    },
    {
     "name": "stderr",
     "output_type": "stream",
     "text": [
      "100%|██████████| 38/38 [00:01<00:00, 23.31it/s]\n",
      "100%|██████████| 10/10 [00:00<00:00, 29.95it/s]\n",
      "100%|██████████| 38/38 [00:01<00:00, 23.55it/s]\n",
      "100%|██████████| 10/10 [00:00<00:00, 30.72it/s]\n",
      "100%|██████████| 38/38 [00:01<00:00, 23.28it/s]\n",
      "100%|██████████| 10/10 [00:00<00:00, 29.37it/s]\n",
      "100%|██████████| 38/38 [00:01<00:00, 23.27it/s]\n",
      "100%|██████████| 10/10 [00:00<00:00, 30.42it/s]\n",
      "100%|██████████| 38/38 [00:01<00:00, 23.44it/s]\n",
      "100%|██████████| 10/10 [00:00<00:00, 29.73it/s]\n",
      "100%|██████████| 38/38 [00:01<00:00, 23.00it/s]\n",
      "100%|██████████| 10/10 [00:00<00:00, 28.92it/s]\n",
      "100%|██████████| 38/38 [00:01<00:00, 23.36it/s]\n",
      "100%|██████████| 10/10 [00:00<00:00, 30.20it/s]\n",
      "100%|██████████| 38/38 [00:01<00:00, 23.33it/s]\n",
      "100%|██████████| 10/10 [00:00<00:00, 29.76it/s]\n",
      "100%|██████████| 38/38 [00:01<00:00, 23.14it/s]\n",
      "100%|██████████| 10/10 [00:00<00:00, 29.92it/s]\n",
      " 50%|█████     | 19/38 [00:00<00:01, 18.49it/s]"
     ]
    },
    {
     "name": "stdout",
     "output_type": "stream",
     "text": [
      "Epoch: 190 (15/38)\n",
      "\tData load time: 0.140 sec\n",
      "\tGeneration time: 0.151 sec\n",
      "\tBackprop time: 0.170 sec\n",
      "\tLog probability: -2.1808 (avg -4.1115)\n",
      "\tKL: 12.6194 (avg 13.1113)\n",
      "\tLoss: 14.8002 (avg 17.2228)\n"
     ]
    },
    {
     "name": "stderr",
     "output_type": "stream",
     "text": [
      " 89%|████████▉ | 34/38 [00:01<00:00, 24.16it/s]"
     ]
    },
    {
     "name": "stdout",
     "output_type": "stream",
     "text": [
      "Epoch: 190 (30/38)\n",
      "\tData load time: 0.140 sec\n",
      "\tGeneration time: 0.151 sec\n",
      "\tBackprop time: 0.170 sec\n",
      "\tLog probability: -4.6188 (avg -4.2606)\n",
      "\tKL: 11.5817 (avg 13.0019)\n",
      "\tLoss: 16.2005 (avg 17.2625)\n"
     ]
    },
    {
     "name": "stderr",
     "output_type": "stream",
     "text": [
      "100%|██████████| 38/38 [00:01<00:00, 23.39it/s]\n",
      "100%|██████████| 10/10 [00:00<00:00, 29.96it/s]\n",
      "  0%|          | 0/38 [00:00<?, ?it/s]"
     ]
    },
    {
     "name": "stdout",
     "output_type": "stream",
     "text": [
      "VALIDATION\n",
      "Epoch: 190 (10/10)\n",
      "\tData load time: 0.141 sec\n",
      "\tGeneration time: 0.150 sec\n",
      "\tLog probability: -2.4079 (avg -3.6373)\n",
      "\tKL: 5.5182 (avg 11.7014)\n",
      "\tLoss: 7.9261 (avg 15.3387)\n"
     ]
    },
    {
     "name": "stderr",
     "output_type": "stream",
     "text": [
      "100%|██████████| 38/38 [00:01<00:00, 23.28it/s]\n",
      "100%|██████████| 10/10 [00:00<00:00, 29.27it/s]\n",
      "100%|██████████| 38/38 [00:01<00:00, 23.31it/s]\n",
      "100%|██████████| 10/10 [00:00<00:00, 29.22it/s]\n",
      "100%|██████████| 38/38 [00:01<00:00, 23.36it/s]\n",
      "100%|██████████| 10/10 [00:00<00:00, 29.21it/s]\n",
      "100%|██████████| 38/38 [00:01<00:00, 23.31it/s]\n",
      "100%|██████████| 10/10 [00:00<00:00, 29.95it/s]\n",
      "100%|██████████| 38/38 [00:01<00:00, 23.57it/s]\n",
      "100%|██████████| 10/10 [00:00<00:00, 30.04it/s]\n",
      "100%|██████████| 38/38 [00:01<00:00, 23.46it/s]\n",
      "100%|██████████| 10/10 [00:00<00:00, 30.00it/s]\n",
      "100%|██████████| 38/38 [00:01<00:00, 23.56it/s]\n",
      "100%|██████████| 10/10 [00:00<00:00, 29.35it/s]\n",
      "100%|██████████| 38/38 [00:01<00:00, 23.25it/s]\n",
      "100%|██████████| 10/10 [00:00<00:00, 29.95it/s]\n",
      "100%|██████████| 38/38 [00:01<00:00, 23.31it/s]\n",
      "100%|██████████| 10/10 [00:00<00:00, 30.14it/s]\n",
      " 50%|█████     | 19/38 [00:00<00:01, 18.13it/s]"
     ]
    },
    {
     "name": "stdout",
     "output_type": "stream",
     "text": [
      "Epoch: 200 (15/38)\n",
      "\tData load time: 0.148 sec\n",
      "\tGeneration time: 0.160 sec\n",
      "\tBackprop time: 0.180 sec\n",
      "\tLog probability: -4.0476 (avg -7.8888)\n",
      "\tKL: 38.2147 (avg 34.2539)\n",
      "\tLoss: 42.2623 (avg 42.1427)\n"
     ]
    },
    {
     "name": "stderr",
     "output_type": "stream",
     "text": [
      " 89%|████████▉ | 34/38 [00:01<00:00, 24.04it/s]"
     ]
    },
    {
     "name": "stdout",
     "output_type": "stream",
     "text": [
      "Epoch: 200 (30/38)\n",
      "\tData load time: 0.148 sec\n",
      "\tGeneration time: 0.160 sec\n",
      "\tBackprop time: 0.180 sec\n",
      "\tLog probability: -4.9231 (avg -7.5330)\n",
      "\tKL: 23.1442 (avg 30.8450)\n",
      "\tLoss: 28.0673 (avg 38.3781)\n"
     ]
    },
    {
     "name": "stderr",
     "output_type": "stream",
     "text": [
      "100%|██████████| 38/38 [00:01<00:00, 23.23it/s]\n",
      "100%|██████████| 10/10 [00:00<00:00, 29.56it/s]\n",
      "  0%|          | 0/38 [00:00<?, ?it/s]"
     ]
    },
    {
     "name": "stdout",
     "output_type": "stream",
     "text": [
      "VALIDATION\n",
      "Epoch: 200 (10/10)\n",
      "\tData load time: 0.138 sec\n",
      "\tGeneration time: 0.146 sec\n",
      "\tLog probability: -9.4458 (avg -12.0133)\n",
      "\tKL: 22.4612 (avg 26.9338)\n",
      "\tLoss: 31.9069 (avg 38.9471)\n"
     ]
    },
    {
     "name": "stderr",
     "output_type": "stream",
     "text": [
      "100%|██████████| 38/38 [00:01<00:00, 23.30it/s]\n",
      "100%|██████████| 10/10 [00:00<00:00, 30.04it/s]\n",
      "100%|██████████| 38/38 [00:01<00:00, 23.27it/s]\n",
      "100%|██████████| 10/10 [00:00<00:00, 29.87it/s]\n",
      "100%|██████████| 38/38 [00:01<00:00, 23.31it/s]\n",
      "100%|██████████| 10/10 [00:00<00:00, 28.19it/s]\n",
      "100%|██████████| 38/38 [00:01<00:00, 23.31it/s]\n",
      "100%|██████████| 10/10 [00:00<00:00, 29.59it/s]\n",
      "100%|██████████| 38/38 [00:01<00:00, 23.28it/s]\n",
      "100%|██████████| 10/10 [00:00<00:00, 30.71it/s]\n",
      "100%|██████████| 38/38 [00:01<00:00, 23.26it/s]\n",
      "100%|██████████| 10/10 [00:00<00:00, 29.55it/s]\n",
      "100%|██████████| 38/38 [00:01<00:00, 23.35it/s]\n",
      "100%|██████████| 10/10 [00:00<00:00, 29.29it/s]\n",
      "100%|██████████| 38/38 [00:01<00:00, 23.35it/s]\n",
      "100%|██████████| 10/10 [00:00<00:00, 28.57it/s]\n",
      "100%|██████████| 38/38 [00:01<00:00, 23.17it/s]\n",
      "100%|██████████| 10/10 [00:00<00:00, 29.53it/s]\n",
      " 50%|█████     | 19/38 [00:00<00:01, 18.59it/s]"
     ]
    },
    {
     "name": "stdout",
     "output_type": "stream",
     "text": [
      "Epoch: 210 (15/38)\n",
      "\tData load time: 0.133 sec\n",
      "\tGeneration time: 0.145 sec\n",
      "\tBackprop time: 0.166 sec\n",
      "\tLog probability: -7.3645 (avg -4.9443)\n",
      "\tKL: 17.0209 (avg 17.2276)\n",
      "\tLoss: 24.3853 (avg 22.1719)\n"
     ]
    },
    {
     "name": "stderr",
     "output_type": "stream",
     "text": [
      " 89%|████████▉ | 34/38 [00:01<00:00, 24.22it/s]"
     ]
    },
    {
     "name": "stdout",
     "output_type": "stream",
     "text": [
      "Epoch: 210 (30/38)\n",
      "\tData load time: 0.133 sec\n",
      "\tGeneration time: 0.145 sec\n",
      "\tBackprop time: 0.166 sec\n",
      "\tLog probability: -4.6639 (avg -4.6757)\n",
      "\tKL: 18.6062 (avg 17.6841)\n",
      "\tLoss: 23.2701 (avg 22.3599)\n"
     ]
    },
    {
     "name": "stderr",
     "output_type": "stream",
     "text": [
      "100%|██████████| 38/38 [00:01<00:00, 23.51it/s]\n",
      "100%|██████████| 10/10 [00:00<00:00, 28.83it/s]\n",
      "  0%|          | 0/38 [00:00<?, ?it/s]"
     ]
    },
    {
     "name": "stdout",
     "output_type": "stream",
     "text": [
      "VALIDATION\n",
      "Epoch: 210 (10/10)\n",
      "\tData load time: 0.150 sec\n",
      "\tGeneration time: 0.156 sec\n",
      "\tLog probability: -1.6826 (avg -3.0444)\n",
      "\tKL: 9.9920 (avg 16.3184)\n",
      "\tLoss: 11.6747 (avg 19.3627)\n"
     ]
    },
    {
     "name": "stderr",
     "output_type": "stream",
     "text": [
      "100%|██████████| 38/38 [00:01<00:00, 23.34it/s]\n",
      "100%|██████████| 10/10 [00:00<00:00, 31.44it/s]\n",
      "100%|██████████| 38/38 [00:01<00:00, 23.22it/s]\n",
      "100%|██████████| 10/10 [00:00<00:00, 29.83it/s]\n",
      "100%|██████████| 38/38 [00:01<00:00, 23.66it/s]\n",
      "100%|██████████| 10/10 [00:00<00:00, 30.01it/s]\n",
      "100%|██████████| 38/38 [00:01<00:00, 23.23it/s]\n",
      "100%|██████████| 10/10 [00:00<00:00, 29.86it/s]\n",
      "100%|██████████| 38/38 [00:01<00:00, 23.16it/s]\n",
      "100%|██████████| 10/10 [00:00<00:00, 29.44it/s]\n",
      "100%|██████████| 38/38 [00:01<00:00, 23.23it/s]\n",
      "100%|██████████| 10/10 [00:00<00:00, 30.88it/s]\n",
      "100%|██████████| 38/38 [00:01<00:00, 23.24it/s]\n",
      "100%|██████████| 10/10 [00:00<00:00, 29.74it/s]\n",
      "100%|██████████| 38/38 [00:01<00:00, 23.38it/s]\n",
      "100%|██████████| 10/10 [00:00<00:00, 30.99it/s]\n",
      "100%|██████████| 38/38 [00:01<00:00, 23.20it/s]\n",
      "100%|██████████| 10/10 [00:00<00:00, 29.31it/s]\n",
      " 50%|█████     | 19/38 [00:00<00:01, 18.46it/s]"
     ]
    },
    {
     "name": "stdout",
     "output_type": "stream",
     "text": [
      "Epoch: 220 (15/38)\n",
      "\tData load time: 0.137 sec\n",
      "\tGeneration time: 0.150 sec\n",
      "\tBackprop time: 0.171 sec\n",
      "\tLog probability: -5.3504 (avg -8.2287)\n",
      "\tKL: 14.4678 (avg 21.5089)\n",
      "\tLoss: 19.8182 (avg 29.7377)\n"
     ]
    },
    {
     "name": "stderr",
     "output_type": "stream",
     "text": [
      " 89%|████████▉ | 34/38 [00:01<00:00, 24.14it/s]"
     ]
    },
    {
     "name": "stdout",
     "output_type": "stream",
     "text": [
      "Epoch: 220 (30/38)\n",
      "\tData load time: 0.137 sec\n",
      "\tGeneration time: 0.150 sec\n",
      "\tBackprop time: 0.171 sec\n",
      "\tLog probability: -4.1223 (avg -7.7475)\n",
      "\tKL: 10.4404 (avg 18.3464)\n",
      "\tLoss: 14.5626 (avg 26.0939)\n"
     ]
    },
    {
     "name": "stderr",
     "output_type": "stream",
     "text": [
      "100%|██████████| 38/38 [00:01<00:00, 23.40it/s]\n",
      "100%|██████████| 10/10 [00:00<00:00, 28.75it/s]\n",
      "  0%|          | 0/38 [00:00<?, ?it/s]"
     ]
    },
    {
     "name": "stdout",
     "output_type": "stream",
     "text": [
      "VALIDATION\n",
      "Epoch: 220 (10/10)\n",
      "\tData load time: 0.154 sec\n",
      "\tGeneration time: 0.161 sec\n",
      "\tLog probability: -6.5812 (avg -6.9523)\n",
      "\tKL: 12.9525 (avg 12.9355)\n",
      "\tLoss: 19.5338 (avg 19.8878)\n"
     ]
    },
    {
     "name": "stderr",
     "output_type": "stream",
     "text": [
      "100%|██████████| 38/38 [00:01<00:00, 23.31it/s]\n",
      "100%|██████████| 10/10 [00:00<00:00, 29.85it/s]\n",
      "100%|██████████| 38/38 [00:01<00:00, 23.19it/s]\n",
      "100%|██████████| 10/10 [00:00<00:00, 30.89it/s]\n",
      "100%|██████████| 38/38 [00:01<00:00, 23.40it/s]\n",
      "100%|██████████| 10/10 [00:00<00:00, 29.41it/s]\n",
      "100%|██████████| 38/38 [00:01<00:00, 23.45it/s]\n",
      "100%|██████████| 10/10 [00:00<00:00, 30.64it/s]\n",
      "100%|██████████| 38/38 [00:01<00:00, 23.53it/s]\n",
      "100%|██████████| 10/10 [00:00<00:00, 29.89it/s]\n",
      "100%|██████████| 38/38 [00:01<00:00, 23.29it/s]\n",
      "100%|██████████| 10/10 [00:00<00:00, 30.11it/s]\n",
      "100%|██████████| 38/38 [00:01<00:00, 23.62it/s]\n",
      "100%|██████████| 10/10 [00:00<00:00, 29.28it/s]\n",
      "  0%|          | 0/38 [00:00<?, ?it/s]"
     ]
    },
    {
     "name": "stdout",
     "output_type": "stream",
     "text": [
      "Saving checkpoint..\n",
      "Lowest validation loss: 11.6786\n"
     ]
    },
    {
     "name": "stderr",
     "output_type": "stream",
     "text": [
      "100%|██████████| 38/38 [00:01<00:00, 23.56it/s]\n",
      "100%|██████████| 10/10 [00:00<00:00, 29.82it/s]\n",
      "100%|██████████| 38/38 [00:01<00:00, 23.35it/s]\n",
      "100%|██████████| 10/10 [00:00<00:00, 29.64it/s]\n",
      "  0%|          | 0/38 [00:00<?, ?it/s]"
     ]
    },
    {
     "name": "stdout",
     "output_type": "stream",
     "text": [
      "Saving checkpoint..\n",
      "Lowest validation loss: 11.1618\n"
     ]
    },
    {
     "name": "stderr",
     "output_type": "stream",
     "text": [
      " 50%|█████     | 19/38 [00:00<00:01, 18.14it/s]"
     ]
    },
    {
     "name": "stdout",
     "output_type": "stream",
     "text": [
      "Epoch: 230 (15/38)\n",
      "\tData load time: 0.150 sec\n",
      "\tGeneration time: 0.160 sec\n",
      "\tBackprop time: 0.179 sec\n",
      "\tLog probability: -1.8931 (avg -4.6427)\n",
      "\tKL: 11.2248 (avg 9.1034)\n",
      "\tLoss: 13.1179 (avg 13.7461)\n"
     ]
    },
    {
     "name": "stderr",
     "output_type": "stream",
     "text": [
      " 89%|████████▉ | 34/38 [00:01<00:00, 24.10it/s]"
     ]
    },
    {
     "name": "stdout",
     "output_type": "stream",
     "text": [
      "Epoch: 230 (30/38)\n",
      "\tData load time: 0.150 sec\n",
      "\tGeneration time: 0.160 sec\n",
      "\tBackprop time: 0.179 sec\n",
      "\tLog probability: -3.0507 (avg -4.0782)\n",
      "\tKL: 8.3611 (avg 9.0566)\n",
      "\tLoss: 11.4118 (avg 13.1349)\n"
     ]
    },
    {
     "name": "stderr",
     "output_type": "stream",
     "text": [
      "100%|██████████| 38/38 [00:01<00:00, 23.28it/s]\n",
      "100%|██████████| 10/10 [00:00<00:00, 29.49it/s]\n",
      "  0%|          | 0/38 [00:00<?, ?it/s]"
     ]
    },
    {
     "name": "stdout",
     "output_type": "stream",
     "text": [
      "VALIDATION\n",
      "Epoch: 230 (10/10)\n",
      "\tData load time: 0.147 sec\n",
      "\tGeneration time: 0.154 sec\n",
      "\tLog probability: -2.9319 (avg -3.3491)\n",
      "\tKL: 8.5381 (avg 8.4706)\n",
      "\tLoss: 11.4700 (avg 11.8197)\n"
     ]
    },
    {
     "name": "stderr",
     "output_type": "stream",
     "text": [
      "100%|██████████| 38/38 [00:01<00:00, 23.56it/s]\n",
      "100%|██████████| 10/10 [00:00<00:00, 29.87it/s]\n",
      "  0%|          | 0/38 [00:00<?, ?it/s]"
     ]
    },
    {
     "name": "stdout",
     "output_type": "stream",
     "text": [
      "Saving checkpoint..\n",
      "Lowest validation loss: 11.0064\n"
     ]
    },
    {
     "name": "stderr",
     "output_type": "stream",
     "text": [
      "100%|██████████| 38/38 [00:01<00:00, 23.25it/s]\n",
      "100%|██████████| 10/10 [00:00<00:00, 30.32it/s]\n",
      "100%|██████████| 38/38 [00:01<00:00, 23.33it/s]\n",
      "100%|██████████| 10/10 [00:00<00:00, 29.12it/s]\n",
      "100%|██████████| 38/38 [00:01<00:00, 23.16it/s]\n",
      "100%|██████████| 10/10 [00:00<00:00, 29.47it/s]\n",
      "100%|██████████| 38/38 [00:01<00:00, 23.18it/s]\n",
      "100%|██████████| 10/10 [00:00<00:00, 28.74it/s]\n",
      "100%|██████████| 38/38 [00:01<00:00, 23.22it/s]\n",
      "100%|██████████| 10/10 [00:00<00:00, 29.01it/s]\n",
      "100%|██████████| 38/38 [00:01<00:00, 23.44it/s]\n",
      "100%|██████████| 10/10 [00:00<00:00, 30.32it/s]\n",
      "100%|██████████| 38/38 [00:01<00:00, 23.08it/s]\n",
      "100%|██████████| 10/10 [00:00<00:00, 28.74it/s]\n",
      "100%|██████████| 38/38 [00:01<00:00, 23.04it/s]\n",
      "100%|██████████| 10/10 [00:00<00:00, 28.68it/s]\n",
      " 50%|█████     | 19/38 [00:00<00:01, 17.86it/s]"
     ]
    },
    {
     "name": "stdout",
     "output_type": "stream",
     "text": [
      "Epoch: 240 (15/38)\n",
      "\tData load time: 0.154 sec\n",
      "\tGeneration time: 0.165 sec\n",
      "\tBackprop time: 0.186 sec\n",
      "\tLog probability: -4.5663 (avg -5.1683)\n",
      "\tKL: 11.2107 (avg 12.6986)\n",
      "\tLoss: 15.7771 (avg 17.8668)\n"
     ]
    },
    {
     "name": "stderr",
     "output_type": "stream",
     "text": [
      " 89%|████████▉ | 34/38 [00:01<00:00, 24.00it/s]"
     ]
    },
    {
     "name": "stdout",
     "output_type": "stream",
     "text": [
      "Epoch: 240 (30/38)\n",
      "\tData load time: 0.154 sec\n",
      "\tGeneration time: 0.165 sec\n",
      "\tBackprop time: 0.186 sec\n",
      "\tLog probability: -2.7099 (avg -5.1920)\n",
      "\tKL: 18.1691 (avg 14.4763)\n",
      "\tLoss: 20.8790 (avg 19.6683)\n"
     ]
    },
    {
     "name": "stderr",
     "output_type": "stream",
     "text": [
      "100%|██████████| 38/38 [00:01<00:00, 23.08it/s]\n",
      "100%|██████████| 10/10 [00:00<00:00, 29.49it/s]\n",
      "  0%|          | 0/38 [00:00<?, ?it/s]"
     ]
    },
    {
     "name": "stdout",
     "output_type": "stream",
     "text": [
      "VALIDATION\n",
      "Epoch: 240 (10/10)\n",
      "\tData load time: 0.150 sec\n",
      "\tGeneration time: 0.159 sec\n",
      "\tLog probability: -14.1622 (avg -9.5437)\n",
      "\tKL: 13.3374 (avg 14.0786)\n",
      "\tLoss: 27.4995 (avg 23.6224)\n"
     ]
    },
    {
     "name": "stderr",
     "output_type": "stream",
     "text": [
      "100%|██████████| 38/38 [00:01<00:00, 23.16it/s]\n",
      "100%|██████████| 10/10 [00:00<00:00, 28.85it/s]\n",
      "100%|██████████| 38/38 [00:01<00:00, 23.34it/s]\n",
      "100%|██████████| 10/10 [00:00<00:00, 29.73it/s]\n",
      "100%|██████████| 38/38 [00:01<00:00, 23.35it/s]\n",
      "100%|██████████| 10/10 [00:00<00:00, 29.67it/s]\n",
      "100%|██████████| 38/38 [00:01<00:00, 23.42it/s]\n",
      "100%|██████████| 10/10 [00:00<00:00, 28.20it/s]\n",
      "100%|██████████| 38/38 [00:01<00:00, 23.47it/s]\n",
      "100%|██████████| 10/10 [00:00<00:00, 30.98it/s]\n",
      "100%|██████████| 38/38 [00:01<00:00, 23.15it/s]\n",
      "100%|██████████| 10/10 [00:00<00:00, 29.60it/s]\n",
      "100%|██████████| 38/38 [00:01<00:00, 23.15it/s]\n",
      "100%|██████████| 10/10 [00:00<00:00, 26.82it/s]\n",
      "100%|██████████| 38/38 [00:01<00:00, 22.30it/s]\n",
      "100%|██████████| 10/10 [00:00<00:00, 26.14it/s]\n",
      "100%|██████████| 38/38 [00:01<00:00, 23.21it/s]\n",
      "100%|██████████| 10/10 [00:00<00:00, 29.59it/s]\n",
      " 50%|█████     | 19/38 [00:00<00:01, 18.09it/s]"
     ]
    },
    {
     "name": "stdout",
     "output_type": "stream",
     "text": [
      "Epoch: 250 (15/38)\n",
      "\tData load time: 0.152 sec\n",
      "\tGeneration time: 0.161 sec\n",
      "\tBackprop time: 0.181 sec\n",
      "\tLog probability: -3.3763 (avg -5.1474)\n",
      "\tKL: 7.4745 (avg 9.5403)\n",
      "\tLoss: 10.8508 (avg 14.6877)\n"
     ]
    },
    {
     "name": "stderr",
     "output_type": "stream",
     "text": [
      " 89%|████████▉ | 34/38 [00:01<00:00, 24.05it/s]"
     ]
    },
    {
     "name": "stdout",
     "output_type": "stream",
     "text": [
      "Epoch: 250 (30/38)\n",
      "\tData load time: 0.152 sec\n",
      "\tGeneration time: 0.161 sec\n",
      "\tBackprop time: 0.181 sec\n",
      "\tLog probability: -5.0219 (avg -4.8273)\n",
      "\tKL: 9.3305 (avg 9.7471)\n",
      "\tLoss: 14.3523 (avg 14.5745)\n"
     ]
    },
    {
     "name": "stderr",
     "output_type": "stream",
     "text": [
      "100%|██████████| 38/38 [00:01<00:00, 23.23it/s]\n",
      "100%|██████████| 10/10 [00:00<00:00, 29.46it/s]\n",
      "  0%|          | 0/38 [00:00<?, ?it/s]"
     ]
    },
    {
     "name": "stdout",
     "output_type": "stream",
     "text": [
      "VALIDATION\n",
      "Epoch: 250 (10/10)\n",
      "\tData load time: 0.150 sec\n",
      "\tGeneration time: 0.156 sec\n",
      "\tLog probability: -4.5518 (avg -4.1705)\n",
      "\tKL: 9.3324 (avg 8.9301)\n",
      "\tLoss: 13.8841 (avg 13.1006)\n"
     ]
    },
    {
     "name": "stderr",
     "output_type": "stream",
     "text": [
      "100%|██████████| 38/38 [00:01<00:00, 23.46it/s]\n",
      "100%|██████████| 10/10 [00:00<00:00, 28.76it/s]\n",
      "100%|██████████| 38/38 [00:01<00:00, 23.26it/s]\n",
      "100%|██████████| 10/10 [00:00<00:00, 28.73it/s]\n",
      "100%|██████████| 38/38 [00:01<00:00, 23.36it/s]\n",
      "100%|██████████| 10/10 [00:00<00:00, 29.07it/s]\n",
      "100%|██████████| 38/38 [00:01<00:00, 23.31it/s]\n",
      "100%|██████████| 10/10 [00:00<00:00, 28.54it/s]\n",
      "100%|██████████| 38/38 [00:01<00:00, 23.22it/s]\n",
      "100%|██████████| 10/10 [00:00<00:00, 30.26it/s]\n",
      "100%|██████████| 38/38 [00:01<00:00, 23.28it/s]\n",
      "100%|██████████| 10/10 [00:00<00:00, 30.58it/s]\n",
      "100%|██████████| 38/38 [00:01<00:00, 23.52it/s]\n",
      "100%|██████████| 10/10 [00:00<00:00, 29.80it/s]\n",
      "100%|██████████| 38/38 [00:01<00:00, 23.33it/s]\n",
      "100%|██████████| 10/10 [00:00<00:00, 29.42it/s]\n",
      "100%|██████████| 38/38 [00:01<00:00, 23.23it/s]\n",
      "100%|██████████| 10/10 [00:00<00:00, 29.59it/s]\n",
      " 50%|█████     | 19/38 [00:00<00:01, 18.01it/s]"
     ]
    },
    {
     "name": "stdout",
     "output_type": "stream",
     "text": [
      "Epoch: 260 (15/38)\n",
      "\tData load time: 0.153 sec\n",
      "\tGeneration time: 0.164 sec\n",
      "\tBackprop time: 0.184 sec\n",
      "\tLog probability: -2.3533 (avg -7.1294)\n",
      "\tKL: 14.6950 (avg 14.0570)\n",
      "\tLoss: 17.0483 (avg 21.1864)\n"
     ]
    },
    {
     "name": "stderr",
     "output_type": "stream",
     "text": [
      " 89%|████████▉ | 34/38 [00:01<00:00, 24.00it/s]"
     ]
    },
    {
     "name": "stdout",
     "output_type": "stream",
     "text": [
      "Epoch: 260 (30/38)\n",
      "\tData load time: 0.153 sec\n",
      "\tGeneration time: 0.164 sec\n",
      "\tBackprop time: 0.184 sec\n",
      "\tLog probability: -6.9401 (avg -5.9845)\n",
      "\tKL: 10.8959 (avg 12.4490)\n",
      "\tLoss: 17.8360 (avg 18.4335)\n"
     ]
    },
    {
     "name": "stderr",
     "output_type": "stream",
     "text": [
      "100%|██████████| 38/38 [00:01<00:00, 23.30it/s]\n",
      "100%|██████████| 10/10 [00:00<00:00, 28.94it/s]\n",
      "  0%|          | 0/38 [00:00<?, ?it/s]"
     ]
    },
    {
     "name": "stdout",
     "output_type": "stream",
     "text": [
      "VALIDATION\n",
      "Epoch: 260 (10/10)\n",
      "\tData load time: 0.146 sec\n",
      "\tGeneration time: 0.156 sec\n",
      "\tLog probability: -4.6395 (avg -5.0601)\n",
      "\tKL: 7.9857 (avg 9.7160)\n",
      "\tLoss: 12.6252 (avg 14.7761)\n"
     ]
    },
    {
     "name": "stderr",
     "output_type": "stream",
     "text": [
      "100%|██████████| 38/38 [00:01<00:00, 23.14it/s]\n",
      "100%|██████████| 10/10 [00:00<00:00, 28.45it/s]\n",
      "100%|██████████| 38/38 [00:01<00:00, 23.28it/s]\n",
      "100%|██████████| 10/10 [00:00<00:00, 28.01it/s]\n",
      "100%|██████████| 38/38 [00:01<00:00, 23.24it/s]\n",
      "100%|██████████| 10/10 [00:00<00:00, 28.64it/s]\n",
      "100%|██████████| 38/38 [00:01<00:00, 23.02it/s]\n",
      "100%|██████████| 10/10 [00:00<00:00, 29.46it/s]\n",
      "100%|██████████| 38/38 [00:01<00:00, 23.14it/s]\n",
      "100%|██████████| 10/10 [00:00<00:00, 29.19it/s]\n",
      "100%|██████████| 38/38 [00:01<00:00, 23.30it/s]\n",
      "100%|██████████| 10/10 [00:00<00:00, 28.90it/s]\n",
      "100%|██████████| 38/38 [00:01<00:00, 23.22it/s]\n",
      "100%|██████████| 10/10 [00:00<00:00, 28.95it/s]\n",
      "100%|██████████| 38/38 [00:01<00:00, 23.30it/s]\n",
      "100%|██████████| 10/10 [00:00<00:00, 29.54it/s]\n",
      "  0%|          | 0/38 [00:00<?, ?it/s]"
     ]
    },
    {
     "name": "stdout",
     "output_type": "stream",
     "text": [
      "Saving checkpoint..\n",
      "Lowest validation loss: 10.1459\n"
     ]
    },
    {
     "name": "stderr",
     "output_type": "stream",
     "text": [
      "100%|██████████| 38/38 [00:01<00:00, 23.18it/s]\n",
      "100%|██████████| 10/10 [00:00<00:00, 28.70it/s]\n",
      "  0%|          | 0/38 [00:00<?, ?it/s]"
     ]
    },
    {
     "name": "stdout",
     "output_type": "stream",
     "text": [
      "Saving checkpoint..\n",
      "Lowest validation loss: 8.8324\n"
     ]
    },
    {
     "name": "stderr",
     "output_type": "stream",
     "text": [
      " 50%|█████     | 19/38 [00:00<00:01, 17.82it/s]"
     ]
    },
    {
     "name": "stdout",
     "output_type": "stream",
     "text": [
      "Epoch: 270 (15/38)\n",
      "\tData load time: 0.156 sec\n",
      "\tGeneration time: 0.168 sec\n",
      "\tBackprop time: 0.188 sec\n",
      "\tLog probability: -3.7933 (avg -3.4851)\n",
      "\tKL: 5.5894 (avg 6.0610)\n",
      "\tLoss: 9.3827 (avg 9.5461)\n"
     ]
    },
    {
     "name": "stderr",
     "output_type": "stream",
     "text": [
      " 89%|████████▉ | 34/38 [00:01<00:00, 23.93it/s]"
     ]
    },
    {
     "name": "stdout",
     "output_type": "stream",
     "text": [
      "Epoch: 270 (30/38)\n",
      "\tData load time: 0.156 sec\n",
      "\tGeneration time: 0.168 sec\n",
      "\tBackprop time: 0.188 sec\n",
      "\tLog probability: -3.8319 (avg -3.5469)\n",
      "\tKL: 6.6756 (avg 6.2256)\n",
      "\tLoss: 10.5074 (avg 9.7725)\n"
     ]
    },
    {
     "name": "stderr",
     "output_type": "stream",
     "text": [
      "100%|██████████| 38/38 [00:01<00:00, 23.17it/s]\n",
      "100%|██████████| 10/10 [00:00<00:00, 28.39it/s]\n",
      "  0%|          | 0/38 [00:00<?, ?it/s]"
     ]
    },
    {
     "name": "stdout",
     "output_type": "stream",
     "text": [
      "VALIDATION\n",
      "Epoch: 270 (10/10)\n",
      "\tData load time: 0.159 sec\n",
      "\tGeneration time: 0.168 sec\n",
      "\tLog probability: -2.3947 (avg -4.0614)\n",
      "\tKL: 5.4792 (avg 5.7314)\n",
      "\tLoss: 7.8738 (avg 9.7929)\n"
     ]
    },
    {
     "name": "stderr",
     "output_type": "stream",
     "text": [
      "100%|██████████| 38/38 [00:01<00:00, 23.21it/s]\n",
      "100%|██████████| 10/10 [00:00<00:00, 29.64it/s]\n",
      "100%|██████████| 38/38 [00:01<00:00, 23.01it/s]\n",
      "100%|██████████| 10/10 [00:00<00:00, 28.48it/s]\n",
      "100%|██████████| 38/38 [00:01<00:00, 23.04it/s]\n",
      "100%|██████████| 10/10 [00:00<00:00, 28.57it/s]\n",
      "100%|██████████| 38/38 [00:01<00:00, 23.18it/s]\n",
      "100%|██████████| 10/10 [00:00<00:00, 29.47it/s]\n",
      "100%|██████████| 38/38 [00:01<00:00, 23.33it/s]\n",
      "100%|██████████| 10/10 [00:00<00:00, 28.81it/s]\n",
      "100%|██████████| 38/38 [00:01<00:00, 23.11it/s]\n",
      "100%|██████████| 10/10 [00:00<00:00, 30.11it/s]\n",
      "100%|██████████| 38/38 [00:01<00:00, 23.09it/s]\n",
      "100%|██████████| 10/10 [00:00<00:00, 28.73it/s]\n",
      "100%|██████████| 38/38 [00:01<00:00, 23.19it/s]\n",
      "100%|██████████| 10/10 [00:00<00:00, 29.33it/s]\n",
      "100%|██████████| 38/38 [00:01<00:00, 23.34it/s]\n",
      "100%|██████████| 10/10 [00:00<00:00, 29.55it/s]\n",
      " 50%|█████     | 19/38 [00:00<00:01, 18.11it/s]"
     ]
    },
    {
     "name": "stdout",
     "output_type": "stream",
     "text": [
      "Epoch: 280 (15/38)\n",
      "\tData load time: 0.150 sec\n",
      "\tGeneration time: 0.158 sec\n",
      "\tBackprop time: 0.179 sec\n",
      "\tLog probability: -9.3835 (avg -11.7556)\n",
      "\tKL: 53.8695 (avg 69.5552)\n",
      "\tLoss: 63.2531 (avg 81.3108)\n"
     ]
    },
    {
     "name": "stderr",
     "output_type": "stream",
     "text": [
      " 89%|████████▉ | 34/38 [00:01<00:00, 24.05it/s]"
     ]
    },
    {
     "name": "stdout",
     "output_type": "stream",
     "text": [
      "Epoch: 280 (30/38)\n",
      "\tData load time: 0.150 sec\n",
      "\tGeneration time: 0.158 sec\n",
      "\tBackprop time: 0.179 sec\n",
      "\tLog probability: -5.7936 (avg -9.5445)\n",
      "\tKL: 40.8361 (avg 54.7226)\n",
      "\tLoss: 46.6297 (avg 64.2671)\n"
     ]
    },
    {
     "name": "stderr",
     "output_type": "stream",
     "text": [
      "100%|██████████| 38/38 [00:01<00:00, 23.24it/s]\n",
      "100%|██████████| 10/10 [00:00<00:00, 29.41it/s]\n",
      "  0%|          | 0/38 [00:00<?, ?it/s]"
     ]
    },
    {
     "name": "stdout",
     "output_type": "stream",
     "text": [
      "VALIDATION\n",
      "Epoch: 280 (10/10)\n",
      "\tData load time: 0.132 sec\n",
      "\tGeneration time: 0.141 sec\n",
      "\tLog probability: -5.2233 (avg -6.9589)\n",
      "\tKL: 26.8173 (avg 26.9660)\n",
      "\tLoss: 32.0406 (avg 33.9250)\n"
     ]
    },
    {
     "name": "stderr",
     "output_type": "stream",
     "text": [
      "100%|██████████| 38/38 [00:01<00:00, 23.24it/s]\n",
      "100%|██████████| 10/10 [00:00<00:00, 29.52it/s]\n",
      "100%|██████████| 38/38 [00:01<00:00, 23.14it/s]\n",
      "100%|██████████| 10/10 [00:00<00:00, 28.37it/s]\n",
      "100%|██████████| 38/38 [00:01<00:00, 23.30it/s]\n",
      "100%|██████████| 10/10 [00:00<00:00, 29.85it/s]\n",
      "100%|██████████| 38/38 [00:01<00:00, 23.37it/s]\n",
      "100%|██████████| 10/10 [00:00<00:00, 29.60it/s]\n",
      "100%|██████████| 38/38 [00:01<00:00, 23.42it/s]\n",
      "100%|██████████| 10/10 [00:00<00:00, 29.42it/s]\n",
      "100%|██████████| 38/38 [00:01<00:00, 23.20it/s]\n",
      "100%|██████████| 10/10 [00:00<00:00, 28.79it/s]\n",
      "100%|██████████| 38/38 [00:01<00:00, 23.20it/s]\n",
      "100%|██████████| 10/10 [00:00<00:00, 30.66it/s]\n",
      "100%|██████████| 38/38 [00:01<00:00, 23.29it/s]\n",
      "100%|██████████| 10/10 [00:00<00:00, 29.28it/s]\n",
      "100%|██████████| 38/38 [00:01<00:00, 23.57it/s]\n",
      "100%|██████████| 10/10 [00:00<00:00, 29.43it/s]\n",
      " 50%|█████     | 19/38 [00:00<00:01, 18.39it/s]"
     ]
    },
    {
     "name": "stdout",
     "output_type": "stream",
     "text": [
      "Epoch: 290 (15/38)\n",
      "\tData load time: 0.136 sec\n",
      "\tGeneration time: 0.146 sec\n",
      "\tBackprop time: 0.172 sec\n",
      "\tLog probability: -5.4025 (avg -4.1003)\n",
      "\tKL: 11.2094 (avg 9.6049)\n",
      "\tLoss: 16.6119 (avg 13.7052)\n"
     ]
    },
    {
     "name": "stderr",
     "output_type": "stream",
     "text": [
      " 89%|████████▉ | 34/38 [00:01<00:00, 24.15it/s]"
     ]
    },
    {
     "name": "stdout",
     "output_type": "stream",
     "text": [
      "Epoch: 290 (30/38)\n",
      "\tData load time: 0.136 sec\n",
      "\tGeneration time: 0.146 sec\n",
      "\tBackprop time: 0.172 sec\n",
      "\tLog probability: -2.4915 (avg -3.8262)\n",
      "\tKL: 9.1610 (avg 9.4386)\n",
      "\tLoss: 11.6525 (avg 13.2647)\n"
     ]
    },
    {
     "name": "stderr",
     "output_type": "stream",
     "text": [
      "100%|██████████| 38/38 [00:01<00:00, 23.45it/s]\n",
      "100%|██████████| 10/10 [00:00<00:00, 28.33it/s]\n",
      "  0%|          | 0/38 [00:00<?, ?it/s]"
     ]
    },
    {
     "name": "stdout",
     "output_type": "stream",
     "text": [
      "VALIDATION\n",
      "Epoch: 290 (10/10)\n",
      "\tData load time: 0.167 sec\n",
      "\tGeneration time: 0.173 sec\n",
      "\tLog probability: -2.1026 (avg -3.8258)\n",
      "\tKL: 9.9530 (avg 8.9790)\n",
      "\tLoss: 12.0556 (avg 12.8048)\n"
     ]
    },
    {
     "name": "stderr",
     "output_type": "stream",
     "text": [
      "100%|██████████| 38/38 [00:01<00:00, 23.21it/s]\n",
      "100%|██████████| 10/10 [00:00<00:00, 30.01it/s]\n",
      "100%|██████████| 38/38 [00:01<00:00, 23.14it/s]\n",
      "100%|██████████| 10/10 [00:00<00:00, 29.30it/s]\n",
      "100%|██████████| 38/38 [00:01<00:00, 23.33it/s]\n",
      "100%|██████████| 10/10 [00:00<00:00, 29.16it/s]\n",
      "100%|██████████| 38/38 [00:01<00:00, 23.12it/s]\n",
      "100%|██████████| 10/10 [00:00<00:00, 29.78it/s]\n",
      "100%|██████████| 38/38 [00:01<00:00, 23.57it/s]\n",
      "100%|██████████| 10/10 [00:00<00:00, 29.83it/s]\n",
      "100%|██████████| 38/38 [00:01<00:00, 23.28it/s]\n",
      "100%|██████████| 10/10 [00:00<00:00, 29.00it/s]\n",
      "100%|██████████| 38/38 [00:01<00:00, 23.21it/s]\n",
      "100%|██████████| 10/10 [00:00<00:00, 28.93it/s]\n",
      "100%|██████████| 38/38 [00:01<00:00, 23.40it/s]\n",
      "100%|██████████| 10/10 [00:00<00:00, 29.19it/s]\n",
      "100%|██████████| 38/38 [00:01<00:00, 23.26it/s]\n",
      "100%|██████████| 10/10 [00:00<00:00, 29.07it/s]\n",
      " 50%|█████     | 19/38 [00:00<00:01, 18.23it/s]"
     ]
    },
    {
     "name": "stdout",
     "output_type": "stream",
     "text": [
      "Epoch: 300 (15/38)\n",
      "\tData load time: 0.148 sec\n",
      "\tGeneration time: 0.156 sec\n",
      "\tBackprop time: 0.176 sec\n",
      "\tLog probability: -16.9168 (avg -27.6386)\n",
      "\tKL: 73.0461 (avg 106.0738)\n",
      "\tLoss: 89.9629 (avg 133.7125)\n"
     ]
    },
    {
     "name": "stderr",
     "output_type": "stream",
     "text": [
      " 89%|████████▉ | 34/38 [00:01<00:00, 24.04it/s]"
     ]
    },
    {
     "name": "stdout",
     "output_type": "stream",
     "text": [
      "Epoch: 300 (30/38)\n",
      "\tData load time: 0.148 sec\n",
      "\tGeneration time: 0.156 sec\n",
      "\tBackprop time: 0.176 sec\n",
      "\tLog probability: -16.6236 (avg -20.9379)\n",
      "\tKL: 23.3940 (avg 79.8165)\n",
      "\tLoss: 40.0176 (avg 100.7544)\n"
     ]
    },
    {
     "name": "stderr",
     "output_type": "stream",
     "text": [
      "100%|██████████| 38/38 [00:01<00:00, 23.30it/s]\n",
      "100%|██████████| 10/10 [00:00<00:00, 28.08it/s]"
     ]
    },
    {
     "name": "stdout",
     "output_type": "stream",
     "text": [
      "VALIDATION\n",
      "Epoch: 300 (10/10)\n",
      "\tData load time: 0.152 sec\n",
      "\tGeneration time: 0.160 sec\n",
      "\tLog probability: -14.8848 (avg -23.5989)\n",
      "\tKL: 21.5474 (avg 23.2306)\n",
      "\tLoss: 36.4322 (avg 46.8295)\n"
     ]
    },
    {
     "name": "stderr",
     "output_type": "stream",
     "text": [
      "\n"
     ]
    }
   ],
   "source": [
    "# Main loop\n",
    "best_loss = np.inf\n",
    "for epoch in range(epochs):\n",
    "\n",
    "    model.train()\n",
    "    scheduler.step()\n",
    "    train_loss, train_kl, train_logp = train_VAE1D(train_dl)\n",
    "    \n",
    "    model.eval()\n",
    "    with torch.no_grad():\n",
    "        val_loss, val_kl, val_logp = train_VAE1D(val_dl)\n",
    "\n",
    "    # Report training progress to user\n",
    "    if val_loss < best_loss:\n",
    "        print('Saving checkpoint..')\n",
    "        best_loss = val_loss\n",
    "        save_dict = {'epoch': epoch + 1,\n",
    "                     'state_dict': model.state_dict(),\n",
    "                     'val_loss': val_loss,\n",
    "                     'optimizer': optimizer.state_dict()}\n",
    "        path = save_path / f'best_model-{n_latent}-{beta}.pt'\n",
    "        torch.save(save_dict, path)\n",
    "        print(f'Lowest validation loss: {best_loss:.4f}')"
   ]
  },
  {
   "cell_type": "markdown",
   "metadata": {},
   "source": [
    "# Any Fault\n",
    "##### Limited data for this, only 20% of total dataset"
   ]
  },
  {
   "cell_type": "markdown",
   "metadata": {},
   "source": [
    "### Build model and loss function \n",
    "Initially designed for 2D input images, modified for 1D time-series data.\n",
    "Based on this paper: https://arxiv.org/abs/1807.01349"
   ]
  },
  {
   "cell_type": "code",
   "execution_count": 53,
   "metadata": {},
   "outputs": [],
   "source": [
    "# The hydraulic system has 14 sensors from which to pull data\n",
    "n_channels = 14\n",
    "# The data has been resized to 512, although it represents 1 min for each cycle\n",
    "size = 512\n",
    "# Latent space is restricted to be about 1/170th of the input dims, similar to 2D case\n",
    "n_latent = 50"
   ]
  },
  {
   "cell_type": "code",
   "execution_count": 54,
   "metadata": {},
   "outputs": [],
   "source": [
    "model = VAE1D(size, n_channels, n_latent)"
   ]
  },
  {
   "cell_type": "code",
   "execution_count": 55,
   "metadata": {},
   "outputs": [],
   "source": [
    "beta = 1  # KL term relative weight\n",
    "criterion = VAE1DLoss(beta)"
   ]
  },
  {
   "cell_type": "markdown",
   "metadata": {},
   "source": [
    "### Load hydraulic test data\n",
    "From this dataset: https://archive.ics.uci.edu/ml/datasets/Condition+monitoring+of+hydraulic+systems#"
   ]
  },
  {
   "cell_type": "code",
   "execution_count": 56,
   "metadata": {},
   "outputs": [],
   "source": [
    "desc = 'any'\n",
    "data_path = Path(f'data/hydraulic/{desc}/')\n",
    "batch_size = 32\n",
    "train_dl, val_dl, test_dl = load_datasets(data_path,\n",
    "                                          batch_size=batch_size)"
   ]
  },
  {
   "cell_type": "code",
   "execution_count": 57,
   "metadata": {},
   "outputs": [
    {
     "name": "stdout",
     "output_type": "stream",
     "text": [
      "9 2 1881\n"
     ]
    }
   ],
   "source": [
    "print(len(train_dl), len(val_dl), len(test_dl))"
   ]
  },
  {
   "cell_type": "markdown",
   "metadata": {},
   "source": [
    "### Prepare for training"
   ]
  },
  {
   "cell_type": "code",
   "execution_count": 58,
   "metadata": {},
   "outputs": [
    {
     "data": {
      "text/plain": [
       "PosixPath('models/190130-any')"
      ]
     },
     "execution_count": 58,
     "metadata": {},
     "output_type": "execute_result"
    }
   ],
   "source": [
    "# Display settings - TODO add Visdom logging\n",
    "log_freq = 15 # batches\n",
    "ep_freq = 10  # epochs\n",
    "\n",
    "# Training parameters\n",
    "epochs = 300\n",
    "lr = 1e-3\n",
    "device = torch.device(\"cuda:0\" if torch.cuda.is_available() else \"cpu\")\n",
    "\n",
    "# Checkpoint to resume from (default None)\n",
    "load_path = None\n",
    "\n",
    "# Checkpoint save location\n",
    "save_path = Path(f\"models/{date.today().strftime('%y%m%d')}-{desc}/\")\n",
    "if save_path.is_dir():\n",
    "    print(f\"Folder {save_path} already exists\")\n",
    "else:\n",
    "    os.mkdir(save_path)\n",
    "save_path"
   ]
  },
  {
   "cell_type": "code",
   "execution_count": 59,
   "metadata": {},
   "outputs": [],
   "source": [
    "# Load checkpoint if any\n",
    "if load_path is not None:\n",
    "    checkpoint = torch.load(load_path, map_location=device)\n",
    "    model.load_state_dict(checkpoint['state_dict'])\n",
    "    optimizer.load_state_dict(checkpoint['optimizer'])\n",
    "    print(\"Checkpoint loaded\")\n",
    "    print(f\"Validation loss: {checkpoint['val_loss']}\")\n",
    "    print(f\"Epoch: {checkpoint['epoch']}\")"
   ]
  },
  {
   "cell_type": "code",
   "execution_count": 60,
   "metadata": {},
   "outputs": [],
   "source": [
    "# Load optimizer and scheduler\n",
    "optimizer = torch.optim.Adam(params=model.parameters(), lr=lr)\n",
    "scheduler = torch.optim.lr_scheduler.CosineAnnealingLR(optimizer, 10)"
   ]
  },
  {
   "cell_type": "code",
   "execution_count": 61,
   "metadata": {},
   "outputs": [],
   "source": [
    "# Move to GPU\n",
    "model = model.to(device)\n",
    "criterion = criterion.to(device)"
   ]
  },
  {
   "cell_type": "markdown",
   "metadata": {},
   "source": [
    "### Train the model"
   ]
  },
  {
   "cell_type": "code",
   "execution_count": 62,
   "metadata": {},
   "outputs": [
    {
     "name": "stderr",
     "output_type": "stream",
     "text": [
      "100%|██████████| 9/9 [00:00<00:00, 14.72it/s]\n",
      "100%|██████████| 2/2 [00:00<00:00, 10.04it/s]\n",
      "  0%|          | 0/9 [00:00<?, ?it/s]"
     ]
    },
    {
     "name": "stdout",
     "output_type": "stream",
     "text": [
      "Saving checkpoint..\n",
      "Lowest validation loss: 894.0638\n"
     ]
    },
    {
     "name": "stderr",
     "output_type": "stream",
     "text": [
      "100%|██████████| 9/9 [00:00<00:00, 16.55it/s]\n",
      "100%|██████████| 2/2 [00:00<00:00, 10.88it/s]\n",
      "  0%|          | 0/9 [00:00<?, ?it/s]"
     ]
    },
    {
     "name": "stdout",
     "output_type": "stream",
     "text": [
      "Saving checkpoint..\n",
      "Lowest validation loss: 780.4492\n"
     ]
    },
    {
     "name": "stderr",
     "output_type": "stream",
     "text": [
      "100%|██████████| 9/9 [00:00<00:00, 16.97it/s]\n",
      "100%|██████████| 2/2 [00:00<00:00, 10.83it/s]\n",
      "100%|██████████| 9/9 [00:00<00:00, 17.25it/s]\n",
      "100%|██████████| 2/2 [00:00<00:00, 10.28it/s]\n",
      "  0%|          | 0/9 [00:00<?, ?it/s]"
     ]
    },
    {
     "name": "stdout",
     "output_type": "stream",
     "text": [
      "Saving checkpoint..\n",
      "Lowest validation loss: 482.6882\n"
     ]
    },
    {
     "name": "stderr",
     "output_type": "stream",
     "text": [
      "100%|██████████| 9/9 [00:00<00:00, 17.25it/s]\n",
      "100%|██████████| 2/2 [00:00<00:00, 10.44it/s]\n",
      "  0%|          | 0/9 [00:00<?, ?it/s]"
     ]
    },
    {
     "name": "stdout",
     "output_type": "stream",
     "text": [
      "Saving checkpoint..\n",
      "Lowest validation loss: 336.0769\n"
     ]
    },
    {
     "name": "stderr",
     "output_type": "stream",
     "text": [
      "100%|██████████| 9/9 [00:00<00:00, 16.83it/s]\n",
      "100%|██████████| 2/2 [00:00<00:00, 10.23it/s]\n",
      "  0%|          | 0/9 [00:00<?, ?it/s]"
     ]
    },
    {
     "name": "stdout",
     "output_type": "stream",
     "text": [
      "Saving checkpoint..\n",
      "Lowest validation loss: 282.1385\n"
     ]
    },
    {
     "name": "stderr",
     "output_type": "stream",
     "text": [
      "100%|██████████| 9/9 [00:00<00:00, 17.17it/s]\n",
      "100%|██████████| 2/2 [00:00<00:00,  9.71it/s]\n",
      "  0%|          | 0/9 [00:00<?, ?it/s]"
     ]
    },
    {
     "name": "stdout",
     "output_type": "stream",
     "text": [
      "Saving checkpoint..\n",
      "Lowest validation loss: 244.1340\n"
     ]
    },
    {
     "name": "stderr",
     "output_type": "stream",
     "text": [
      "100%|██████████| 9/9 [00:00<00:00, 18.22it/s]\n",
      "100%|██████████| 2/2 [00:00<00:00, 10.23it/s]\n",
      "  0%|          | 0/9 [00:00<?, ?it/s]"
     ]
    },
    {
     "name": "stdout",
     "output_type": "stream",
     "text": [
      "Saving checkpoint..\n",
      "Lowest validation loss: 235.9316\n"
     ]
    },
    {
     "name": "stderr",
     "output_type": "stream",
     "text": [
      "100%|██████████| 9/9 [00:00<00:00, 16.26it/s]\n",
      "100%|██████████| 2/2 [00:00<00:00,  8.52it/s]\n",
      "  0%|          | 0/9 [00:00<?, ?it/s]"
     ]
    },
    {
     "name": "stdout",
     "output_type": "stream",
     "text": [
      "Saving checkpoint..\n",
      "Lowest validation loss: 229.0903\n"
     ]
    },
    {
     "name": "stderr",
     "output_type": "stream",
     "text": [
      "100%|██████████| 9/9 [00:00<00:00, 15.55it/s]\n",
      "  0%|          | 0/2 [00:00<?, ?it/s]"
     ]
    },
    {
     "name": "stdout",
     "output_type": "stream",
     "text": [
      "Epoch: 10 (9/9)\n",
      "\tData load time: 0.202 sec\n",
      "\tGeneration time: 0.228 sec\n",
      "\tBackprop time: 0.251 sec\n",
      "\tLog probability: -202.4965 (avg -143.7223)\n",
      "\tKL: 150.6234 (avg 103.3585)\n",
      "\tLoss: 353.1199 (avg 247.0808)\n"
     ]
    },
    {
     "name": "stderr",
     "output_type": "stream",
     "text": [
      "100%|██████████| 2/2 [00:00<00:00,  8.80it/s]\n"
     ]
    },
    {
     "name": "stdout",
     "output_type": "stream",
     "text": [
      "VALIDATION\n",
      "Epoch: 10 (2/2)\n",
      "\tData load time: 0.144 sec\n",
      "\tGeneration time: 0.164 sec\n",
      "\tLog probability: -128.0882 (avg -130.8154)\n",
      "\tKL: 94.9062 (avg 93.5991)\n",
      "\tLoss: 222.9944 (avg 224.4146)\n",
      "Saving checkpoint..\n"
     ]
    },
    {
     "name": "stderr",
     "output_type": "stream",
     "text": [
      "  0%|          | 0/9 [00:00<?, ?it/s]"
     ]
    },
    {
     "name": "stdout",
     "output_type": "stream",
     "text": [
      "Lowest validation loss: 224.4146\n"
     ]
    },
    {
     "name": "stderr",
     "output_type": "stream",
     "text": [
      "100%|██████████| 9/9 [00:00<00:00, 16.33it/s]\n",
      "100%|██████████| 2/2 [00:00<00:00,  8.95it/s]\n",
      "  0%|          | 0/9 [00:00<?, ?it/s]"
     ]
    },
    {
     "name": "stdout",
     "output_type": "stream",
     "text": [
      "Saving checkpoint..\n",
      "Lowest validation loss: 222.9137\n"
     ]
    },
    {
     "name": "stderr",
     "output_type": "stream",
     "text": [
      "100%|██████████| 9/9 [00:00<00:00, 17.03it/s]\n",
      "100%|██████████| 2/2 [00:00<00:00,  9.77it/s]\n",
      "  0%|          | 0/9 [00:00<?, ?it/s]"
     ]
    },
    {
     "name": "stdout",
     "output_type": "stream",
     "text": [
      "Saving checkpoint..\n",
      "Lowest validation loss: 220.9701\n"
     ]
    },
    {
     "name": "stderr",
     "output_type": "stream",
     "text": [
      "100%|██████████| 9/9 [00:00<00:00, 17.44it/s]\n",
      "100%|██████████| 2/2 [00:00<00:00, 10.90it/s]\n",
      "  0%|          | 0/9 [00:00<?, ?it/s]"
     ]
    },
    {
     "name": "stdout",
     "output_type": "stream",
     "text": [
      "Saving checkpoint..\n",
      "Lowest validation loss: 212.9685\n"
     ]
    },
    {
     "name": "stderr",
     "output_type": "stream",
     "text": [
      "100%|██████████| 9/9 [00:00<00:00, 17.25it/s]\n",
      "100%|██████████| 2/2 [00:00<00:00, 10.77it/s]\n",
      "  0%|          | 0/9 [00:00<?, ?it/s]"
     ]
    },
    {
     "name": "stdout",
     "output_type": "stream",
     "text": [
      "Saving checkpoint..\n",
      "Lowest validation loss: 205.7262\n"
     ]
    },
    {
     "name": "stderr",
     "output_type": "stream",
     "text": [
      "100%|██████████| 9/9 [00:00<00:00, 17.13it/s]\n",
      "100%|██████████| 2/2 [00:00<00:00, 10.77it/s]\n",
      "  0%|          | 0/9 [00:00<?, ?it/s]"
     ]
    },
    {
     "name": "stdout",
     "output_type": "stream",
     "text": [
      "Saving checkpoint..\n",
      "Lowest validation loss: 191.5107\n"
     ]
    },
    {
     "name": "stderr",
     "output_type": "stream",
     "text": [
      "100%|██████████| 9/9 [00:00<00:00, 17.49it/s]\n",
      "100%|██████████| 2/2 [00:00<00:00, 10.44it/s]\n",
      "  0%|          | 0/9 [00:00<?, ?it/s]"
     ]
    },
    {
     "name": "stdout",
     "output_type": "stream",
     "text": [
      "Saving checkpoint..\n",
      "Lowest validation loss: 161.4608\n"
     ]
    },
    {
     "name": "stderr",
     "output_type": "stream",
     "text": [
      "100%|██████████| 9/9 [00:00<00:00, 17.03it/s]\n",
      "100%|██████████| 2/2 [00:00<00:00, 10.21it/s]\n",
      "  0%|          | 0/9 [00:00<?, ?it/s]"
     ]
    },
    {
     "name": "stdout",
     "output_type": "stream",
     "text": [
      "Saving checkpoint..\n",
      "Lowest validation loss: 142.5614\n"
     ]
    },
    {
     "name": "stderr",
     "output_type": "stream",
     "text": [
      "100%|██████████| 9/9 [00:00<00:00, 17.39it/s]\n",
      "100%|██████████| 2/2 [00:00<00:00, 10.67it/s]\n",
      "  0%|          | 0/9 [00:00<?, ?it/s]"
     ]
    },
    {
     "name": "stdout",
     "output_type": "stream",
     "text": [
      "Saving checkpoint..\n",
      "Lowest validation loss: 127.9199\n"
     ]
    },
    {
     "name": "stderr",
     "output_type": "stream",
     "text": [
      "100%|██████████| 9/9 [00:00<00:00, 17.40it/s]\n",
      "100%|██████████| 2/2 [00:00<00:00, 10.80it/s]\n",
      "  0%|          | 0/9 [00:00<?, ?it/s]"
     ]
    },
    {
     "name": "stdout",
     "output_type": "stream",
     "text": [
      "Saving checkpoint..\n",
      "Lowest validation loss: 114.3389\n"
     ]
    },
    {
     "name": "stderr",
     "output_type": "stream",
     "text": [
      "100%|██████████| 9/9 [00:00<00:00, 17.04it/s]\n",
      "  0%|          | 0/2 [00:00<?, ?it/s]"
     ]
    },
    {
     "name": "stdout",
     "output_type": "stream",
     "text": [
      "Epoch: 20 (9/9)\n",
      "\tData load time: 0.164 sec\n",
      "\tGeneration time: 0.188 sec\n",
      "\tBackprop time: 0.204 sec\n",
      "\tLog probability: -100.8501 (avg -47.6926)\n",
      "\tKL: 140.2675 (avg 89.4239)\n",
      "\tLoss: 241.1176 (avg 137.1166)\n"
     ]
    },
    {
     "name": "stderr",
     "output_type": "stream",
     "text": [
      "100%|██████████| 2/2 [00:00<00:00,  8.64it/s]\n"
     ]
    },
    {
     "name": "stdout",
     "output_type": "stream",
     "text": [
      "VALIDATION\n",
      "Epoch: 20 (2/2)\n",
      "\tData load time: 0.156 sec\n",
      "\tGeneration time: 0.180 sec\n",
      "\tLog probability: -28.6592 (avg -32.2793)\n",
      "\tKL: 77.3078 (avg 79.5915)\n",
      "\tLoss: 105.9670 (avg 111.8708)\n",
      "Saving checkpoint..\n"
     ]
    },
    {
     "name": "stderr",
     "output_type": "stream",
     "text": [
      "  0%|          | 0/9 [00:00<?, ?it/s]"
     ]
    },
    {
     "name": "stdout",
     "output_type": "stream",
     "text": [
      "Lowest validation loss: 111.8708\n"
     ]
    },
    {
     "name": "stderr",
     "output_type": "stream",
     "text": [
      "100%|██████████| 9/9 [00:00<00:00, 16.31it/s]\n",
      "100%|██████████| 2/2 [00:00<00:00, 10.53it/s]\n",
      "100%|██████████| 9/9 [00:00<00:00, 17.71it/s]\n",
      "100%|██████████| 2/2 [00:00<00:00, 10.04it/s]\n",
      "  0%|          | 0/9 [00:00<?, ?it/s]"
     ]
    },
    {
     "name": "stdout",
     "output_type": "stream",
     "text": [
      "Saving checkpoint..\n",
      "Lowest validation loss: 104.5198\n"
     ]
    },
    {
     "name": "stderr",
     "output_type": "stream",
     "text": [
      "100%|██████████| 9/9 [00:00<00:00, 17.29it/s]\n",
      "100%|██████████| 2/2 [00:00<00:00, 10.77it/s]\n",
      "100%|██████████| 9/9 [00:00<00:00, 17.14it/s]\n",
      "100%|██████████| 2/2 [00:00<00:00, 10.12it/s]\n",
      "100%|██████████| 9/9 [00:00<00:00, 17.38it/s]\n",
      "100%|██████████| 2/2 [00:00<00:00, 10.01it/s]\n",
      "  0%|          | 0/9 [00:00<?, ?it/s]"
     ]
    },
    {
     "name": "stdout",
     "output_type": "stream",
     "text": [
      "Saving checkpoint..\n",
      "Lowest validation loss: 97.6137\n"
     ]
    },
    {
     "name": "stderr",
     "output_type": "stream",
     "text": [
      "100%|██████████| 9/9 [00:00<00:00, 17.42it/s]\n",
      "100%|██████████| 2/2 [00:00<00:00, 10.05it/s]\n",
      "  0%|          | 0/9 [00:00<?, ?it/s]"
     ]
    },
    {
     "name": "stdout",
     "output_type": "stream",
     "text": [
      "Saving checkpoint..\n",
      "Lowest validation loss: 89.2146\n"
     ]
    },
    {
     "name": "stderr",
     "output_type": "stream",
     "text": [
      "100%|██████████| 9/9 [00:00<00:00, 18.20it/s]\n",
      "100%|██████████| 2/2 [00:00<00:00,  9.93it/s]\n",
      "  0%|          | 0/9 [00:00<?, ?it/s]"
     ]
    },
    {
     "name": "stdout",
     "output_type": "stream",
     "text": [
      "Saving checkpoint..\n",
      "Lowest validation loss: 82.3353\n"
     ]
    },
    {
     "name": "stderr",
     "output_type": "stream",
     "text": [
      "100%|██████████| 9/9 [00:00<00:00, 17.44it/s]\n",
      "100%|██████████| 2/2 [00:00<00:00, 10.02it/s]\n",
      "100%|██████████| 9/9 [00:00<00:00, 17.26it/s]\n",
      "100%|██████████| 2/2 [00:00<00:00, 10.26it/s]\n",
      "100%|██████████| 9/9 [00:00<00:00, 17.28it/s]\n",
      "  0%|          | 0/2 [00:00<?, ?it/s]"
     ]
    },
    {
     "name": "stdout",
     "output_type": "stream",
     "text": [
      "Epoch: 30 (9/9)\n",
      "\tData load time: 0.157 sec\n",
      "\tGeneration time: 0.177 sec\n",
      "\tBackprop time: 0.193 sec\n",
      "\tLog probability: -53.4159 (avg -22.6816)\n",
      "\tKL: 75.3723 (avg 68.1299)\n",
      "\tLoss: 128.7882 (avg 90.8115)\n"
     ]
    },
    {
     "name": "stderr",
     "output_type": "stream",
     "text": [
      "100%|██████████| 2/2 [00:00<00:00,  9.97it/s]\n"
     ]
    },
    {
     "name": "stdout",
     "output_type": "stream",
     "text": [
      "VALIDATION\n",
      "Epoch: 30 (2/2)\n",
      "\tData load time: 0.134 sec\n",
      "\tGeneration time: 0.153 sec\n",
      "\tLog probability: -19.2820 (avg -15.8975)\n",
      "\tKL: 69.5143 (avg 66.3786)\n",
      "\tLoss: 88.7963 (avg 82.2762)\n",
      "Saving checkpoint..\n"
     ]
    },
    {
     "name": "stderr",
     "output_type": "stream",
     "text": [
      "  0%|          | 0/9 [00:00<?, ?it/s]"
     ]
    },
    {
     "name": "stdout",
     "output_type": "stream",
     "text": [
      "Lowest validation loss: 82.2762\n"
     ]
    },
    {
     "name": "stderr",
     "output_type": "stream",
     "text": [
      "100%|██████████| 9/9 [00:00<00:00, 17.38it/s]\n",
      "100%|██████████| 2/2 [00:00<00:00, 10.69it/s]\n",
      "100%|██████████| 9/9 [00:00<00:00, 17.50it/s]\n",
      "100%|██████████| 2/2 [00:00<00:00, 10.16it/s]\n",
      "  0%|          | 0/9 [00:00<?, ?it/s]"
     ]
    },
    {
     "name": "stdout",
     "output_type": "stream",
     "text": [
      "Saving checkpoint..\n",
      "Lowest validation loss: 79.9052\n"
     ]
    },
    {
     "name": "stderr",
     "output_type": "stream",
     "text": [
      "100%|██████████| 9/9 [00:00<00:00, 17.11it/s]\n",
      "100%|██████████| 2/2 [00:00<00:00,  9.86it/s]\n",
      "100%|██████████| 9/9 [00:00<00:00, 17.64it/s]\n",
      "100%|██████████| 2/2 [00:00<00:00, 10.38it/s]\n",
      "100%|██████████| 9/9 [00:00<00:00, 17.06it/s]\n",
      "100%|██████████| 2/2 [00:00<00:00, 10.32it/s]\n",
      "100%|██████████| 9/9 [00:00<00:00, 17.47it/s]\n",
      "100%|██████████| 2/2 [00:00<00:00, 10.94it/s]\n",
      "100%|██████████| 9/9 [00:00<00:00, 17.64it/s]\n",
      "100%|██████████| 2/2 [00:00<00:00, 10.44it/s]\n",
      "  0%|          | 0/9 [00:00<?, ?it/s]"
     ]
    },
    {
     "name": "stdout",
     "output_type": "stream",
     "text": [
      "Saving checkpoint..\n",
      "Lowest validation loss: 78.2857\n"
     ]
    },
    {
     "name": "stderr",
     "output_type": "stream",
     "text": [
      "100%|██████████| 9/9 [00:00<00:00, 17.14it/s]\n",
      "100%|██████████| 2/2 [00:00<00:00,  9.73it/s]\n",
      "  0%|          | 0/9 [00:00<?, ?it/s]"
     ]
    },
    {
     "name": "stdout",
     "output_type": "stream",
     "text": [
      "Saving checkpoint..\n",
      "Lowest validation loss: 71.5885\n"
     ]
    },
    {
     "name": "stderr",
     "output_type": "stream",
     "text": [
      "100%|██████████| 9/9 [00:00<00:00, 17.00it/s]\n",
      "100%|██████████| 2/2 [00:00<00:00,  9.83it/s]\n",
      "  0%|          | 0/9 [00:00<?, ?it/s]"
     ]
    },
    {
     "name": "stdout",
     "output_type": "stream",
     "text": [
      "Saving checkpoint..\n",
      "Lowest validation loss: 69.3566\n"
     ]
    },
    {
     "name": "stderr",
     "output_type": "stream",
     "text": [
      "100%|██████████| 9/9 [00:00<00:00, 17.36it/s]\n",
      "  0%|          | 0/2 [00:00<?, ?it/s]"
     ]
    },
    {
     "name": "stdout",
     "output_type": "stream",
     "text": [
      "Epoch: 40 (9/9)\n",
      "\tData load time: 0.157 sec\n",
      "\tGeneration time: 0.180 sec\n",
      "\tBackprop time: 0.195 sec\n",
      "\tLog probability: -12.2263 (avg -16.9950)\n",
      "\tKL: 59.7795 (avg 57.7488)\n",
      "\tLoss: 72.0059 (avg 74.7438)\n"
     ]
    },
    {
     "name": "stderr",
     "output_type": "stream",
     "text": [
      " 50%|█████     | 1/2 [00:00<00:00,  7.04it/s]"
     ]
    },
    {
     "name": "stdout",
     "output_type": "stream",
     "text": [
      "VALIDATION\n",
      "Epoch: 40 (2/2)\n",
      "\tData load time: 0.119 sec\n",
      "\tGeneration time: 0.141 sec\n",
      "\tLog probability: -10.3968 (avg -13.5042)\n",
      "\tKL: 52.3770 (avg 54.2066)\n",
      "\tLoss: 62.7737 (avg 67.7108)\n"
     ]
    },
    {
     "name": "stderr",
     "output_type": "stream",
     "text": [
      "100%|██████████| 2/2 [00:00<00:00, 10.46it/s]\n"
     ]
    },
    {
     "name": "stdout",
     "output_type": "stream",
     "text": [
      "Saving checkpoint..\n"
     ]
    },
    {
     "name": "stderr",
     "output_type": "stream",
     "text": [
      "  0%|          | 0/9 [00:00<?, ?it/s]"
     ]
    },
    {
     "name": "stdout",
     "output_type": "stream",
     "text": [
      "Lowest validation loss: 67.7108\n"
     ]
    },
    {
     "name": "stderr",
     "output_type": "stream",
     "text": [
      "100%|██████████| 9/9 [00:00<00:00, 17.42it/s]\n",
      "100%|██████████| 2/2 [00:00<00:00,  9.97it/s]\n",
      "  0%|          | 0/9 [00:00<?, ?it/s]"
     ]
    },
    {
     "name": "stdout",
     "output_type": "stream",
     "text": [
      "Saving checkpoint..\n",
      "Lowest validation loss: 63.3014\n"
     ]
    },
    {
     "name": "stderr",
     "output_type": "stream",
     "text": [
      "100%|██████████| 9/9 [00:00<00:00, 16.88it/s]\n",
      "100%|██████████| 2/2 [00:00<00:00, 10.55it/s]\n",
      "100%|██████████| 9/9 [00:00<00:00, 17.54it/s]\n",
      "100%|██████████| 2/2 [00:00<00:00, 10.66it/s]\n",
      "100%|██████████| 9/9 [00:00<00:00, 17.62it/s]\n",
      "100%|██████████| 2/2 [00:00<00:00, 10.01it/s]\n",
      "100%|██████████| 9/9 [00:00<00:00, 17.07it/s]\n",
      "100%|██████████| 2/2 [00:00<00:00, 10.41it/s]\n",
      "100%|██████████| 9/9 [00:00<00:00, 17.09it/s]\n",
      "100%|██████████| 2/2 [00:00<00:00, 10.17it/s]\n",
      "100%|██████████| 9/9 [00:00<00:00, 17.71it/s]\n",
      "100%|██████████| 2/2 [00:00<00:00, 10.26it/s]\n",
      "  0%|          | 0/9 [00:00<?, ?it/s]"
     ]
    },
    {
     "name": "stdout",
     "output_type": "stream",
     "text": [
      "Saving checkpoint..\n",
      "Lowest validation loss: 59.1545\n"
     ]
    },
    {
     "name": "stderr",
     "output_type": "stream",
     "text": [
      "100%|██████████| 9/9 [00:00<00:00, 17.01it/s]\n",
      "100%|██████████| 2/2 [00:00<00:00,  9.59it/s]\n",
      "100%|██████████| 9/9 [00:00<00:00, 17.09it/s]\n",
      "100%|██████████| 2/2 [00:00<00:00, 10.53it/s]\n",
      "  0%|          | 0/9 [00:00<?, ?it/s]"
     ]
    },
    {
     "name": "stdout",
     "output_type": "stream",
     "text": [
      "Saving checkpoint..\n",
      "Lowest validation loss: 56.8274\n"
     ]
    },
    {
     "name": "stderr",
     "output_type": "stream",
     "text": [
      "100%|██████████| 9/9 [00:00<00:00, 17.39it/s]\n",
      "  0%|          | 0/2 [00:00<?, ?it/s]"
     ]
    },
    {
     "name": "stdout",
     "output_type": "stream",
     "text": [
      "Epoch: 50 (9/9)\n",
      "\tData load time: 0.158 sec\n",
      "\tGeneration time: 0.178 sec\n",
      "\tBackprop time: 0.197 sec\n",
      "\tLog probability: -46.9174 (avg -16.1025)\n",
      "\tKL: 75.5544 (avg 50.6827)\n",
      "\tLoss: 122.4718 (avg 66.7851)\n"
     ]
    },
    {
     "name": "stderr",
     "output_type": "stream",
     "text": [
      "100%|██████████| 2/2 [00:00<00:00,  9.69it/s]\n"
     ]
    },
    {
     "name": "stdout",
     "output_type": "stream",
     "text": [
      "VALIDATION\n",
      "Epoch: 50 (2/2)\n",
      "\tData load time: 0.141 sec\n",
      "\tGeneration time: 0.160 sec\n",
      "\tLog probability: -9.3417 (avg -11.0492)\n",
      "\tKL: 43.2328 (avg 45.7608)\n",
      "\tLoss: 52.5745 (avg 56.8100)\n",
      "Saving checkpoint..\n"
     ]
    },
    {
     "name": "stderr",
     "output_type": "stream",
     "text": [
      "  0%|          | 0/9 [00:00<?, ?it/s]"
     ]
    },
    {
     "name": "stdout",
     "output_type": "stream",
     "text": [
      "Lowest validation loss: 56.8100\n"
     ]
    },
    {
     "name": "stderr",
     "output_type": "stream",
     "text": [
      "100%|██████████| 9/9 [00:00<00:00, 17.70it/s]\n",
      "100%|██████████| 2/2 [00:00<00:00, 10.08it/s]\n",
      "  0%|          | 0/9 [00:00<?, ?it/s]"
     ]
    },
    {
     "name": "stdout",
     "output_type": "stream",
     "text": [
      "Saving checkpoint..\n",
      "Lowest validation loss: 55.2091\n"
     ]
    },
    {
     "name": "stderr",
     "output_type": "stream",
     "text": [
      "100%|██████████| 9/9 [00:00<00:00, 17.44it/s]\n",
      "100%|██████████| 2/2 [00:00<00:00, 10.77it/s]\n",
      "100%|██████████| 9/9 [00:00<00:00, 17.50it/s]\n",
      "100%|██████████| 2/2 [00:00<00:00, 10.00it/s]\n",
      "100%|██████████| 9/9 [00:00<00:00, 17.91it/s]\n",
      "100%|██████████| 2/2 [00:00<00:00,  9.60it/s]\n",
      "  0%|          | 0/9 [00:00<?, ?it/s]"
     ]
    },
    {
     "name": "stdout",
     "output_type": "stream",
     "text": [
      "Saving checkpoint..\n",
      "Lowest validation loss: 53.2571\n"
     ]
    },
    {
     "name": "stderr",
     "output_type": "stream",
     "text": [
      "100%|██████████| 9/9 [00:00<00:00, 17.29it/s]\n",
      "100%|██████████| 2/2 [00:00<00:00, 10.23it/s]\n",
      "  0%|          | 0/9 [00:00<?, ?it/s]"
     ]
    },
    {
     "name": "stdout",
     "output_type": "stream",
     "text": [
      "Saving checkpoint..\n",
      "Lowest validation loss: 53.0023\n"
     ]
    },
    {
     "name": "stderr",
     "output_type": "stream",
     "text": [
      "100%|██████████| 9/9 [00:00<00:00, 17.29it/s]\n",
      "100%|██████████| 2/2 [00:00<00:00, 10.53it/s]\n",
      "100%|██████████| 9/9 [00:00<00:00, 17.37it/s]\n",
      "100%|██████████| 2/2 [00:00<00:00, 10.99it/s]\n",
      "100%|██████████| 9/9 [00:00<00:00, 17.39it/s]\n",
      "100%|██████████| 2/2 [00:00<00:00,  9.80it/s]\n",
      "  0%|          | 0/9 [00:00<?, ?it/s]"
     ]
    },
    {
     "name": "stdout",
     "output_type": "stream",
     "text": [
      "Saving checkpoint..\n",
      "Lowest validation loss: 52.9627\n"
     ]
    },
    {
     "name": "stderr",
     "output_type": "stream",
     "text": [
      "100%|██████████| 9/9 [00:00<00:00, 17.28it/s]\n",
      "100%|██████████| 2/2 [00:00<00:00, 10.18it/s]\n",
      "  0%|          | 0/9 [00:00<?, ?it/s]"
     ]
    },
    {
     "name": "stdout",
     "output_type": "stream",
     "text": [
      "Saving checkpoint..\n",
      "Lowest validation loss: 51.6035\n"
     ]
    },
    {
     "name": "stderr",
     "output_type": "stream",
     "text": [
      "100%|██████████| 9/9 [00:00<00:00, 17.39it/s]\n",
      "  0%|          | 0/2 [00:00<?, ?it/s]"
     ]
    },
    {
     "name": "stdout",
     "output_type": "stream",
     "text": [
      "Epoch: 60 (9/9)\n",
      "\tData load time: 0.154 sec\n",
      "\tGeneration time: 0.181 sec\n",
      "\tBackprop time: 0.195 sec\n",
      "\tLog probability: -7.9371 (avg -14.0588)\n",
      "\tKL: 50.8811 (avg 46.5493)\n",
      "\tLoss: 58.8182 (avg 60.6080)\n"
     ]
    },
    {
     "name": "stderr",
     "output_type": "stream",
     "text": [
      "100%|██████████| 2/2 [00:00<00:00, 10.01it/s]\n",
      "  0%|          | 0/9 [00:00<?, ?it/s]"
     ]
    },
    {
     "name": "stdout",
     "output_type": "stream",
     "text": [
      "VALIDATION\n",
      "Epoch: 60 (2/2)\n",
      "\tData load time: 0.134 sec\n",
      "\tGeneration time: 0.153 sec\n",
      "\tLog probability: -11.3604 (avg -9.9559)\n",
      "\tKL: 49.7071 (avg 48.0463)\n",
      "\tLoss: 61.0676 (avg 58.0022)\n"
     ]
    },
    {
     "name": "stderr",
     "output_type": "stream",
     "text": [
      "100%|██████████| 9/9 [00:00<00:00, 17.12it/s]\n",
      "100%|██████████| 2/2 [00:00<00:00, 10.19it/s]\n",
      "100%|██████████| 9/9 [00:00<00:00, 17.42it/s]\n",
      "100%|██████████| 2/2 [00:00<00:00,  9.92it/s]\n",
      "100%|██████████| 9/9 [00:00<00:00, 16.79it/s]\n",
      "100%|██████████| 2/2 [00:00<00:00, 10.49it/s]\n",
      "100%|██████████| 9/9 [00:00<00:00, 17.04it/s]\n",
      "100%|██████████| 2/2 [00:00<00:00, 10.45it/s]\n",
      "100%|██████████| 9/9 [00:00<00:00, 16.80it/s]\n",
      "100%|██████████| 2/2 [00:00<00:00,  9.88it/s]\n",
      "  0%|          | 0/9 [00:00<?, ?it/s]"
     ]
    },
    {
     "name": "stdout",
     "output_type": "stream",
     "text": [
      "Saving checkpoint..\n",
      "Lowest validation loss: 49.7067\n"
     ]
    },
    {
     "name": "stderr",
     "output_type": "stream",
     "text": [
      "100%|██████████| 9/9 [00:00<00:00, 17.97it/s]\n",
      "100%|██████████| 2/2 [00:00<00:00,  9.77it/s]\n",
      "  0%|          | 0/9 [00:00<?, ?it/s]"
     ]
    },
    {
     "name": "stdout",
     "output_type": "stream",
     "text": [
      "Saving checkpoint..\n",
      "Lowest validation loss: 47.9293\n"
     ]
    },
    {
     "name": "stderr",
     "output_type": "stream",
     "text": [
      "100%|██████████| 9/9 [00:00<00:00, 18.32it/s]\n",
      "100%|██████████| 2/2 [00:00<00:00,  9.91it/s]\n",
      "100%|██████████| 9/9 [00:00<00:00, 17.75it/s]\n",
      "100%|██████████| 2/2 [00:00<00:00,  9.90it/s]\n",
      "  0%|          | 0/9 [00:00<?, ?it/s]"
     ]
    },
    {
     "name": "stdout",
     "output_type": "stream",
     "text": [
      "Saving checkpoint..\n",
      "Lowest validation loss: 43.2366\n"
     ]
    },
    {
     "name": "stderr",
     "output_type": "stream",
     "text": [
      "100%|██████████| 9/9 [00:00<00:00, 16.97it/s]\n",
      "100%|██████████| 2/2 [00:00<00:00, 10.53it/s]\n",
      "100%|██████████| 9/9 [00:00<00:00, 17.47it/s]\n",
      "  0%|          | 0/2 [00:00<?, ?it/s]"
     ]
    },
    {
     "name": "stdout",
     "output_type": "stream",
     "text": [
      "Epoch: 70 (9/9)\n",
      "\tData load time: 0.152 sec\n",
      "\tGeneration time: 0.173 sec\n",
      "\tBackprop time: 0.189 sec\n",
      "\tLog probability: -5.9939 (avg -9.1115)\n",
      "\tKL: 37.2279 (avg 39.0592)\n",
      "\tLoss: 43.2218 (avg 48.1707)\n"
     ]
    },
    {
     "name": "stderr",
     "output_type": "stream",
     "text": [
      " 50%|█████     | 1/2 [00:00<00:00,  6.69it/s]"
     ]
    },
    {
     "name": "stdout",
     "output_type": "stream",
     "text": [
      "VALIDATION\n",
      "Epoch: 70 (2/2)\n",
      "\tData load time: 0.127 sec\n",
      "\tGeneration time: 0.150 sec\n",
      "\tLog probability: -5.0187 (avg -6.5043)\n",
      "\tKL: 35.4164 (avg 36.1800)\n",
      "\tLoss: 40.4351 (avg 42.6843)\n"
     ]
    },
    {
     "name": "stderr",
     "output_type": "stream",
     "text": [
      "100%|██████████| 2/2 [00:00<00:00, 10.25it/s]\n"
     ]
    },
    {
     "name": "stdout",
     "output_type": "stream",
     "text": [
      "Saving checkpoint..\n"
     ]
    },
    {
     "name": "stderr",
     "output_type": "stream",
     "text": [
      "  0%|          | 0/9 [00:00<?, ?it/s]"
     ]
    },
    {
     "name": "stdout",
     "output_type": "stream",
     "text": [
      "Lowest validation loss: 42.6843\n"
     ]
    },
    {
     "name": "stderr",
     "output_type": "stream",
     "text": [
      "100%|██████████| 9/9 [00:00<00:00, 17.08it/s]\n",
      "100%|██████████| 2/2 [00:00<00:00,  9.77it/s]\n",
      "  0%|          | 0/9 [00:00<?, ?it/s]"
     ]
    },
    {
     "name": "stdout",
     "output_type": "stream",
     "text": [
      "Saving checkpoint..\n",
      "Lowest validation loss: 42.6604\n"
     ]
    },
    {
     "name": "stderr",
     "output_type": "stream",
     "text": [
      "100%|██████████| 9/9 [00:00<00:00, 17.30it/s]\n",
      "100%|██████████| 2/2 [00:00<00:00,  9.79it/s]\n",
      "100%|██████████| 9/9 [00:00<00:00, 17.33it/s]\n",
      "100%|██████████| 2/2 [00:00<00:00,  9.87it/s]\n",
      "100%|██████████| 9/9 [00:00<00:00, 17.26it/s]\n",
      "100%|██████████| 2/2 [00:00<00:00, 10.75it/s]\n",
      "100%|██████████| 9/9 [00:00<00:00, 17.56it/s]\n",
      "100%|██████████| 2/2 [00:00<00:00, 10.04it/s]\n",
      "100%|██████████| 9/9 [00:00<00:00, 17.50it/s]\n",
      "100%|██████████| 2/2 [00:00<00:00,  9.55it/s]\n",
      "100%|██████████| 9/9 [00:00<00:00, 16.99it/s]\n",
      "100%|██████████| 2/2 [00:00<00:00, 10.68it/s]\n",
      "100%|██████████| 9/9 [00:00<00:00, 17.45it/s]\n",
      "100%|██████████| 2/2 [00:00<00:00, 10.66it/s]\n",
      "100%|██████████| 9/9 [00:00<00:00, 17.48it/s]\n",
      "100%|██████████| 2/2 [00:00<00:00,  9.58it/s]\n",
      "100%|██████████| 9/9 [00:00<00:00, 16.96it/s]\n",
      "  0%|          | 0/2 [00:00<?, ?it/s]"
     ]
    },
    {
     "name": "stdout",
     "output_type": "stream",
     "text": [
      "Epoch: 80 (9/9)\n",
      "\tData load time: 0.166 sec\n",
      "\tGeneration time: 0.190 sec\n",
      "\tBackprop time: 0.208 sec\n",
      "\tLog probability: -5.3644 (avg -10.9935)\n",
      "\tKL: 39.4980 (avg 43.2367)\n",
      "\tLoss: 44.8624 (avg 54.2302)\n"
     ]
    },
    {
     "name": "stderr",
     "output_type": "stream",
     "text": [
      "100%|██████████| 2/2 [00:00<00:00,  9.36it/s]\n",
      "  0%|          | 0/9 [00:00<?, ?it/s]"
     ]
    },
    {
     "name": "stdout",
     "output_type": "stream",
     "text": [
      "VALIDATION\n",
      "Epoch: 80 (2/2)\n",
      "\tData load time: 0.144 sec\n",
      "\tGeneration time: 0.164 sec\n",
      "\tLog probability: -6.3541 (avg -8.4374)\n",
      "\tKL: 35.2712 (avg 37.7910)\n",
      "\tLoss: 41.6253 (avg 46.2284)\n"
     ]
    },
    {
     "name": "stderr",
     "output_type": "stream",
     "text": [
      "100%|██████████| 9/9 [00:00<00:00, 17.57it/s]\n",
      "100%|██████████| 2/2 [00:00<00:00, 11.05it/s]\n",
      "100%|██████████| 9/9 [00:00<00:00, 17.35it/s]\n",
      "100%|██████████| 2/2 [00:00<00:00, 10.89it/s]\n",
      "100%|██████████| 9/9 [00:00<00:00, 17.13it/s]\n",
      "100%|██████████| 2/2 [00:00<00:00,  9.88it/s]\n",
      "100%|██████████| 9/9 [00:00<00:00, 16.92it/s]\n",
      "100%|██████████| 2/2 [00:00<00:00, 10.78it/s]\n",
      "  0%|          | 0/9 [00:00<?, ?it/s]"
     ]
    },
    {
     "name": "stdout",
     "output_type": "stream",
     "text": [
      "Saving checkpoint..\n",
      "Lowest validation loss: 41.2704\n"
     ]
    },
    {
     "name": "stderr",
     "output_type": "stream",
     "text": [
      "100%|██████████| 9/9 [00:00<00:00, 16.71it/s]\n",
      "100%|██████████| 2/2 [00:00<00:00,  9.77it/s]\n",
      "100%|██████████| 9/9 [00:00<00:00, 17.34it/s]\n",
      "100%|██████████| 2/2 [00:00<00:00,  9.47it/s]\n",
      "  0%|          | 0/9 [00:00<?, ?it/s]"
     ]
    },
    {
     "name": "stdout",
     "output_type": "stream",
     "text": [
      "Saving checkpoint..\n",
      "Lowest validation loss: 40.8020\n"
     ]
    },
    {
     "name": "stderr",
     "output_type": "stream",
     "text": [
      "100%|██████████| 9/9 [00:00<00:00, 17.24it/s]\n",
      "100%|██████████| 2/2 [00:00<00:00,  9.49it/s]\n",
      "100%|██████████| 9/9 [00:00<00:00, 17.88it/s]\n",
      "100%|██████████| 2/2 [00:00<00:00, 10.01it/s]\n",
      "100%|██████████| 9/9 [00:00<00:00, 17.05it/s]\n",
      "100%|██████████| 2/2 [00:00<00:00,  9.90it/s]\n",
      "100%|██████████| 9/9 [00:00<00:00, 16.93it/s]\n",
      "  0%|          | 0/2 [00:00<?, ?it/s]"
     ]
    },
    {
     "name": "stdout",
     "output_type": "stream",
     "text": [
      "Epoch: 90 (9/9)\n",
      "\tData load time: 0.166 sec\n",
      "\tGeneration time: 0.189 sec\n",
      "\tBackprop time: 0.206 sec\n",
      "\tLog probability: -24.8558 (avg -8.9777)\n",
      "\tKL: 56.3750 (avg 37.7899)\n",
      "\tLoss: 81.2307 (avg 46.7675)\n"
     ]
    },
    {
     "name": "stderr",
     "output_type": "stream",
     "text": [
      " 50%|█████     | 1/2 [00:00<00:00,  6.76it/s]"
     ]
    },
    {
     "name": "stdout",
     "output_type": "stream",
     "text": [
      "VALIDATION\n",
      "Epoch: 90 (2/2)\n",
      "\tData load time: 0.127 sec\n",
      "\tGeneration time: 0.146 sec\n",
      "\tLog probability: -7.4519 (avg -5.8621)\n",
      "\tKL: 37.1268 (avg 33.6059)\n",
      "\tLoss: 44.5787 (avg 39.4680)\n"
     ]
    },
    {
     "name": "stderr",
     "output_type": "stream",
     "text": [
      "100%|██████████| 2/2 [00:00<00:00, 10.20it/s]\n"
     ]
    },
    {
     "name": "stdout",
     "output_type": "stream",
     "text": [
      "Saving checkpoint..\n"
     ]
    },
    {
     "name": "stderr",
     "output_type": "stream",
     "text": [
      "  0%|          | 0/9 [00:00<?, ?it/s]"
     ]
    },
    {
     "name": "stdout",
     "output_type": "stream",
     "text": [
      "Lowest validation loss: 39.4680\n"
     ]
    },
    {
     "name": "stderr",
     "output_type": "stream",
     "text": [
      "100%|██████████| 9/9 [00:00<00:00, 17.42it/s]\n",
      "100%|██████████| 2/2 [00:00<00:00, 10.81it/s]\n",
      "100%|██████████| 9/9 [00:00<00:00, 17.20it/s]\n",
      "100%|██████████| 2/2 [00:00<00:00, 10.31it/s]\n",
      "100%|██████████| 9/9 [00:00<00:00, 17.32it/s]\n",
      "100%|██████████| 2/2 [00:00<00:00,  9.89it/s]\n",
      "  0%|          | 0/9 [00:00<?, ?it/s]"
     ]
    },
    {
     "name": "stdout",
     "output_type": "stream",
     "text": [
      "Saving checkpoint..\n",
      "Lowest validation loss: 37.9238\n"
     ]
    },
    {
     "name": "stderr",
     "output_type": "stream",
     "text": [
      "100%|██████████| 9/9 [00:00<00:00, 17.21it/s]\n",
      "100%|██████████| 2/2 [00:00<00:00,  9.68it/s]\n",
      "  0%|          | 0/9 [00:00<?, ?it/s]"
     ]
    },
    {
     "name": "stdout",
     "output_type": "stream",
     "text": [
      "Saving checkpoint..\n",
      "Lowest validation loss: 36.3105\n"
     ]
    },
    {
     "name": "stderr",
     "output_type": "stream",
     "text": [
      "100%|██████████| 9/9 [00:00<00:00, 17.43it/s]\n",
      "100%|██████████| 2/2 [00:00<00:00, 10.09it/s]\n",
      "100%|██████████| 9/9 [00:00<00:00, 17.19it/s]\n",
      "100%|██████████| 2/2 [00:00<00:00,  9.65it/s]\n",
      "100%|██████████| 9/9 [00:00<00:00, 17.13it/s]\n",
      "100%|██████████| 2/2 [00:00<00:00, 10.68it/s]\n",
      "100%|██████████| 9/9 [00:00<00:00, 17.33it/s]\n",
      "100%|██████████| 2/2 [00:00<00:00, 10.12it/s]\n",
      "100%|██████████| 9/9 [00:00<00:00, 17.84it/s]\n",
      "100%|██████████| 2/2 [00:00<00:00, 10.31it/s]\n",
      "100%|██████████| 9/9 [00:00<00:00, 17.69it/s]\n",
      "  0%|          | 0/2 [00:00<?, ?it/s]"
     ]
    },
    {
     "name": "stdout",
     "output_type": "stream",
     "text": [
      "Epoch: 100 (9/9)\n",
      "\tData load time: 0.145 sec\n",
      "\tGeneration time: 0.168 sec\n",
      "\tBackprop time: 0.184 sec\n",
      "\tLog probability: -3.7154 (avg -8.6495)\n",
      "\tKL: 34.6316 (avg 38.8683)\n",
      "\tLoss: 38.3470 (avg 47.5178)\n"
     ]
    },
    {
     "name": "stderr",
     "output_type": "stream",
     "text": [
      " 50%|█████     | 1/2 [00:00<00:00,  6.93it/s]"
     ]
    },
    {
     "name": "stdout",
     "output_type": "stream",
     "text": [
      "VALIDATION\n",
      "Epoch: 100 (2/2)\n",
      "\tData load time: 0.123 sec\n",
      "\tGeneration time: 0.143 sec\n",
      "\tLog probability: -8.4816 (avg -7.0283)\n",
      "\tKL: 35.2276 (avg 33.8003)\n",
      "\tLoss: 43.7093 (avg 40.8286)\n"
     ]
    },
    {
     "name": "stderr",
     "output_type": "stream",
     "text": [
      "100%|██████████| 2/2 [00:00<00:00, 10.49it/s]\n",
      "100%|██████████| 9/9 [00:00<00:00, 17.13it/s]\n",
      "100%|██████████| 2/2 [00:00<00:00,  9.93it/s]\n",
      "100%|██████████| 9/9 [00:00<00:00, 16.96it/s]\n",
      "100%|██████████| 2/2 [00:00<00:00,  9.58it/s]\n",
      "100%|██████████| 9/9 [00:00<00:00, 17.33it/s]\n",
      "100%|██████████| 2/2 [00:00<00:00, 10.01it/s]\n",
      "100%|██████████| 9/9 [00:00<00:00, 16.94it/s]\n",
      "100%|██████████| 2/2 [00:00<00:00, 10.72it/s]\n",
      "100%|██████████| 9/9 [00:00<00:00, 16.97it/s]\n",
      "100%|██████████| 2/2 [00:00<00:00,  9.56it/s]\n",
      "100%|██████████| 9/9 [00:00<00:00, 17.26it/s]\n",
      "100%|██████████| 2/2 [00:00<00:00, 10.04it/s]\n",
      "100%|██████████| 9/9 [00:00<00:00, 17.16it/s]\n",
      "100%|██████████| 2/2 [00:00<00:00,  9.97it/s]\n",
      "100%|██████████| 9/9 [00:00<00:00, 17.07it/s]\n",
      "100%|██████████| 2/2 [00:00<00:00,  8.74it/s]\n",
      "100%|██████████| 9/9 [00:00<00:00, 17.01it/s]\n",
      "100%|██████████| 2/2 [00:00<00:00, 10.15it/s]\n",
      "100%|██████████| 9/9 [00:00<00:00, 17.29it/s]\n",
      "  0%|          | 0/2 [00:00<?, ?it/s]"
     ]
    },
    {
     "name": "stdout",
     "output_type": "stream",
     "text": [
      "Epoch: 110 (9/9)\n",
      "\tData load time: 0.153 sec\n",
      "\tGeneration time: 0.183 sec\n",
      "\tBackprop time: 0.199 sec\n",
      "\tLog probability: -15.3375 (avg -7.3381)\n",
      "\tKL: 43.3443 (avg 31.5692)\n",
      "\tLoss: 58.6817 (avg 38.9073)\n"
     ]
    },
    {
     "name": "stderr",
     "output_type": "stream",
     "text": [
      "100%|██████████| 2/2 [00:00<00:00,  9.67it/s]\n"
     ]
    },
    {
     "name": "stdout",
     "output_type": "stream",
     "text": [
      "VALIDATION\n",
      "Epoch: 110 (2/2)\n",
      "\tData load time: 0.138 sec\n",
      "\tGeneration time: 0.159 sec\n",
      "\tLog probability: -10.2581 (avg -8.1319)\n",
      "\tKL: 29.8957 (avg 27.7890)\n",
      "\tLoss: 40.1538 (avg 35.9209)\n",
      "Saving checkpoint..\n"
     ]
    },
    {
     "name": "stderr",
     "output_type": "stream",
     "text": [
      "  0%|          | 0/9 [00:00<?, ?it/s]"
     ]
    },
    {
     "name": "stdout",
     "output_type": "stream",
     "text": [
      "Lowest validation loss: 35.9209\n"
     ]
    },
    {
     "name": "stderr",
     "output_type": "stream",
     "text": [
      "100%|██████████| 9/9 [00:00<00:00, 16.54it/s]\n",
      "100%|██████████| 2/2 [00:00<00:00, 10.69it/s]\n",
      "  0%|          | 0/9 [00:00<?, ?it/s]"
     ]
    },
    {
     "name": "stdout",
     "output_type": "stream",
     "text": [
      "Saving checkpoint..\n",
      "Lowest validation loss: 34.6090\n"
     ]
    },
    {
     "name": "stderr",
     "output_type": "stream",
     "text": [
      "100%|██████████| 9/9 [00:00<00:00, 17.17it/s]\n",
      "100%|██████████| 2/2 [00:00<00:00,  9.92it/s]\n",
      "  0%|          | 0/9 [00:00<?, ?it/s]"
     ]
    },
    {
     "name": "stdout",
     "output_type": "stream",
     "text": [
      "Saving checkpoint..\n",
      "Lowest validation loss: 33.1230\n"
     ]
    },
    {
     "name": "stderr",
     "output_type": "stream",
     "text": [
      "100%|██████████| 9/9 [00:00<00:00, 17.27it/s]\n",
      "100%|██████████| 2/2 [00:00<00:00,  9.99it/s]\n",
      "  0%|          | 0/9 [00:00<?, ?it/s]"
     ]
    },
    {
     "name": "stdout",
     "output_type": "stream",
     "text": [
      "Saving checkpoint..\n",
      "Lowest validation loss: 31.3065\n"
     ]
    },
    {
     "name": "stderr",
     "output_type": "stream",
     "text": [
      "100%|██████████| 9/9 [00:00<00:00, 17.30it/s]\n",
      "100%|██████████| 2/2 [00:00<00:00,  9.55it/s]\n",
      "100%|██████████| 9/9 [00:00<00:00, 17.17it/s]\n",
      "100%|██████████| 2/2 [00:00<00:00, 10.65it/s]\n",
      "100%|██████████| 9/9 [00:00<00:00, 17.60it/s]\n",
      "100%|██████████| 2/2 [00:00<00:00, 10.91it/s]\n",
      "100%|██████████| 9/9 [00:00<00:00, 17.53it/s]\n",
      "100%|██████████| 2/2 [00:00<00:00,  9.49it/s]\n",
      "100%|██████████| 9/9 [00:00<00:00, 17.44it/s]\n",
      "100%|██████████| 2/2 [00:00<00:00,  9.71it/s]\n",
      "100%|██████████| 9/9 [00:00<00:00, 17.39it/s]\n",
      "100%|██████████| 2/2 [00:00<00:00,  9.91it/s]\n",
      "100%|██████████| 9/9 [00:00<00:00, 17.67it/s]\n",
      "  0%|          | 0/2 [00:00<?, ?it/s]"
     ]
    },
    {
     "name": "stdout",
     "output_type": "stream",
     "text": [
      "Epoch: 120 (9/9)\n",
      "\tData load time: 0.142 sec\n",
      "\tGeneration time: 0.168 sec\n",
      "\tBackprop time: 0.181 sec\n",
      "\tLog probability: -44.6157 (avg -12.1075)\n",
      "\tKL: 69.5577 (avg 45.4571)\n",
      "\tLoss: 114.1734 (avg 57.5645)\n"
     ]
    },
    {
     "name": "stderr",
     "output_type": "stream",
     "text": [
      " 50%|█████     | 1/2 [00:00<00:00,  6.63it/s]"
     ]
    },
    {
     "name": "stdout",
     "output_type": "stream",
     "text": [
      "VALIDATION\n",
      "Epoch: 120 (2/2)\n",
      "\tData load time: 0.130 sec\n",
      "\tGeneration time: 0.149 sec\n",
      "\tLog probability: -11.8060 (avg -8.2552)\n",
      "\tKL: 37.5154 (avg 37.6405)\n",
      "\tLoss: 49.3213 (avg 45.8957)\n"
     ]
    },
    {
     "name": "stderr",
     "output_type": "stream",
     "text": [
      "100%|██████████| 2/2 [00:00<00:00, 10.06it/s]\n",
      "100%|██████████| 9/9 [00:00<00:00, 17.01it/s]\n",
      "100%|██████████| 2/2 [00:00<00:00, 10.10it/s]\n",
      "100%|██████████| 9/9 [00:00<00:00, 17.16it/s]\n",
      "100%|██████████| 2/2 [00:00<00:00, 10.48it/s]\n",
      "100%|██████████| 9/9 [00:00<00:00, 17.22it/s]\n",
      "100%|██████████| 2/2 [00:00<00:00, 10.30it/s]\n",
      "100%|██████████| 9/9 [00:00<00:00, 17.23it/s]\n",
      "100%|██████████| 2/2 [00:00<00:00,  9.82it/s]\n",
      "100%|██████████| 9/9 [00:00<00:00, 17.03it/s]\n",
      "100%|██████████| 2/2 [00:00<00:00,  9.96it/s]\n",
      "  0%|          | 0/9 [00:00<?, ?it/s]"
     ]
    },
    {
     "name": "stdout",
     "output_type": "stream",
     "text": [
      "Saving checkpoint..\n",
      "Lowest validation loss: 30.2946\n"
     ]
    },
    {
     "name": "stderr",
     "output_type": "stream",
     "text": [
      "100%|██████████| 9/9 [00:00<00:00, 16.48it/s]\n",
      "100%|██████████| 2/2 [00:00<00:00, 10.60it/s]\n",
      "  0%|          | 0/9 [00:00<?, ?it/s]"
     ]
    },
    {
     "name": "stdout",
     "output_type": "stream",
     "text": [
      "Saving checkpoint..\n",
      "Lowest validation loss: 28.5252\n"
     ]
    },
    {
     "name": "stderr",
     "output_type": "stream",
     "text": [
      "100%|██████████| 9/9 [00:00<00:00, 16.65it/s]\n",
      "100%|██████████| 2/2 [00:00<00:00, 10.80it/s]\n",
      "100%|██████████| 9/9 [00:00<00:00, 17.21it/s]\n",
      "100%|██████████| 2/2 [00:00<00:00, 10.21it/s]\n",
      "100%|██████████| 9/9 [00:00<00:00, 17.19it/s]\n",
      "100%|██████████| 2/2 [00:00<00:00, 10.02it/s]\n",
      "100%|██████████| 9/9 [00:00<00:00, 16.83it/s]\n",
      "  0%|          | 0/2 [00:00<?, ?it/s]"
     ]
    },
    {
     "name": "stdout",
     "output_type": "stream",
     "text": [
      "Epoch: 130 (9/9)\n",
      "\tData load time: 0.169 sec\n",
      "\tGeneration time: 0.194 sec\n",
      "\tBackprop time: 0.210 sec\n",
      "\tLog probability: -257.6635 (avg -33.6396)\n",
      "\tKL: 109.9838 (avg 35.2495)\n",
      "\tLoss: 367.6473 (avg 68.8891)\n"
     ]
    },
    {
     "name": "stderr",
     "output_type": "stream",
     "text": [
      "100%|██████████| 2/2 [00:00<00:00,  9.66it/s]\n",
      "  0%|          | 0/9 [00:00<?, ?it/s]"
     ]
    },
    {
     "name": "stdout",
     "output_type": "stream",
     "text": [
      "VALIDATION\n",
      "Epoch: 130 (2/2)\n",
      "\tData load time: 0.142 sec\n",
      "\tGeneration time: 0.160 sec\n",
      "\tLog probability: -7.3818 (avg -5.8874)\n",
      "\tKL: 39.0094 (avg 35.5059)\n",
      "\tLoss: 46.3912 (avg 41.3933)\n"
     ]
    },
    {
     "name": "stderr",
     "output_type": "stream",
     "text": [
      "100%|██████████| 9/9 [00:00<00:00, 17.66it/s]\n",
      "100%|██████████| 2/2 [00:00<00:00, 10.48it/s]\n",
      "100%|██████████| 9/9 [00:00<00:00, 16.94it/s]\n",
      "100%|██████████| 2/2 [00:00<00:00,  9.91it/s]\n",
      "100%|██████████| 9/9 [00:00<00:00, 17.29it/s]\n",
      "100%|██████████| 2/2 [00:00<00:00,  9.92it/s]\n",
      "100%|██████████| 9/9 [00:00<00:00, 17.09it/s]\n",
      "100%|██████████| 2/2 [00:00<00:00,  9.94it/s]\n",
      "100%|██████████| 9/9 [00:00<00:00, 17.17it/s]\n",
      "100%|██████████| 2/2 [00:00<00:00, 10.15it/s]\n",
      "100%|██████████| 9/9 [00:00<00:00, 17.29it/s]\n",
      "100%|██████████| 2/2 [00:00<00:00,  9.55it/s]\n",
      "100%|██████████| 9/9 [00:00<00:00, 17.09it/s]\n",
      "100%|██████████| 2/2 [00:00<00:00, 10.51it/s]\n",
      "100%|██████████| 9/9 [00:00<00:00, 17.16it/s]\n",
      "100%|██████████| 2/2 [00:00<00:00,  9.51it/s]\n",
      "  0%|          | 0/9 [00:00<?, ?it/s]"
     ]
    },
    {
     "name": "stdout",
     "output_type": "stream",
     "text": [
      "Saving checkpoint..\n",
      "Lowest validation loss: 27.7801\n"
     ]
    },
    {
     "name": "stderr",
     "output_type": "stream",
     "text": [
      "100%|██████████| 9/9 [00:00<00:00, 16.77it/s]\n",
      "100%|██████████| 2/2 [00:00<00:00, 10.35it/s]\n",
      "100%|██████████| 9/9 [00:00<00:00, 16.87it/s]\n",
      "  0%|          | 0/2 [00:00<?, ?it/s]"
     ]
    },
    {
     "name": "stdout",
     "output_type": "stream",
     "text": [
      "Epoch: 140 (9/9)\n",
      "\tData load time: 0.166 sec\n",
      "\tGeneration time: 0.191 sec\n",
      "\tBackprop time: 0.205 sec\n",
      "\tLog probability: -4.4969 (avg -9.0533)\n",
      "\tKL: 34.7430 (avg 34.2353)\n",
      "\tLoss: 39.2399 (avg 43.2887)\n"
     ]
    },
    {
     "name": "stderr",
     "output_type": "stream",
     "text": [
      "100%|██████████| 2/2 [00:00<00:00,  9.38it/s]\n",
      "  0%|          | 0/9 [00:00<?, ?it/s]"
     ]
    },
    {
     "name": "stdout",
     "output_type": "stream",
     "text": [
      "VALIDATION\n",
      "Epoch: 140 (2/2)\n",
      "\tData load time: 0.140 sec\n",
      "\tGeneration time: 0.161 sec\n",
      "\tLog probability: -5.7770 (avg -4.7575)\n",
      "\tKL: 32.1149 (avg 30.2655)\n",
      "\tLoss: 37.8918 (avg 35.0231)\n"
     ]
    },
    {
     "name": "stderr",
     "output_type": "stream",
     "text": [
      "100%|██████████| 9/9 [00:00<00:00, 16.90it/s]\n",
      "100%|██████████| 2/2 [00:00<00:00, 10.50it/s]\n",
      "100%|██████████| 9/9 [00:00<00:00, 17.00it/s]\n",
      "100%|██████████| 2/2 [00:00<00:00,  9.72it/s]\n",
      "100%|██████████| 9/9 [00:00<00:00, 17.20it/s]\n",
      "100%|██████████| 2/2 [00:00<00:00,  9.82it/s]\n",
      "100%|██████████| 9/9 [00:00<00:00, 17.07it/s]\n",
      "100%|██████████| 2/2 [00:00<00:00,  9.82it/s]\n",
      "100%|██████████| 9/9 [00:00<00:00, 17.38it/s]\n",
      "100%|██████████| 2/2 [00:00<00:00,  9.68it/s]\n",
      "  0%|          | 0/9 [00:00<?, ?it/s]"
     ]
    },
    {
     "name": "stdout",
     "output_type": "stream",
     "text": [
      "Saving checkpoint..\n",
      "Lowest validation loss: 27.3660\n"
     ]
    },
    {
     "name": "stderr",
     "output_type": "stream",
     "text": [
      "100%|██████████| 9/9 [00:00<00:00, 16.88it/s]\n",
      "100%|██████████| 2/2 [00:00<00:00,  9.75it/s]\n",
      "100%|██████████| 9/9 [00:00<00:00, 16.96it/s]\n",
      "100%|██████████| 2/2 [00:00<00:00,  9.53it/s]\n",
      "100%|██████████| 9/9 [00:00<00:00, 17.66it/s]\n",
      "100%|██████████| 2/2 [00:00<00:00,  9.43it/s]\n",
      "100%|██████████| 9/9 [00:00<00:00, 17.18it/s]\n",
      "100%|██████████| 2/2 [00:00<00:00,  9.30it/s]\n",
      "100%|██████████| 9/9 [00:00<00:00, 17.64it/s]\n",
      "  0%|          | 0/2 [00:00<?, ?it/s]"
     ]
    },
    {
     "name": "stdout",
     "output_type": "stream",
     "text": [
      "Epoch: 150 (9/9)\n",
      "\tData load time: 0.144 sec\n",
      "\tGeneration time: 0.170 sec\n",
      "\tBackprop time: 0.188 sec\n",
      "\tLog probability: -2.5730 (avg -4.6352)\n",
      "\tKL: 20.3737 (avg 22.4788)\n",
      "\tLoss: 22.9467 (avg 27.1140)\n"
     ]
    },
    {
     "name": "stderr",
     "output_type": "stream",
     "text": [
      "100%|██████████| 2/2 [00:00<00:00,  9.57it/s]\n"
     ]
    },
    {
     "name": "stdout",
     "output_type": "stream",
     "text": [
      "VALIDATION\n",
      "Epoch: 150 (2/2)\n",
      "\tData load time: 0.138 sec\n",
      "\tGeneration time: 0.157 sec\n",
      "\tLog probability: -3.3887 (avg -4.3443)\n",
      "\tKL: 14.7247 (avg 20.1741)\n",
      "\tLoss: 18.1134 (avg 24.5183)\n",
      "Saving checkpoint..\n"
     ]
    },
    {
     "name": "stderr",
     "output_type": "stream",
     "text": [
      "  0%|          | 0/9 [00:00<?, ?it/s]"
     ]
    },
    {
     "name": "stdout",
     "output_type": "stream",
     "text": [
      "Lowest validation loss: 24.5183\n"
     ]
    },
    {
     "name": "stderr",
     "output_type": "stream",
     "text": [
      "100%|██████████| 9/9 [00:00<00:00, 17.03it/s]\n",
      "100%|██████████| 2/2 [00:00<00:00,  9.63it/s]\n",
      "100%|██████████| 9/9 [00:00<00:00, 17.91it/s]\n",
      "100%|██████████| 2/2 [00:00<00:00, 10.05it/s]\n",
      "100%|██████████| 9/9 [00:00<00:00, 17.23it/s]\n",
      "100%|██████████| 2/2 [00:00<00:00, 10.16it/s]\n",
      "100%|██████████| 9/9 [00:00<00:00, 17.11it/s]\n",
      "100%|██████████| 2/2 [00:00<00:00,  9.58it/s]\n",
      "100%|██████████| 9/9 [00:00<00:00, 17.23it/s]\n",
      "100%|██████████| 2/2 [00:00<00:00, 10.52it/s]\n",
      "  0%|          | 0/9 [00:00<?, ?it/s]"
     ]
    },
    {
     "name": "stdout",
     "output_type": "stream",
     "text": [
      "Saving checkpoint..\n",
      "Lowest validation loss: 23.7278\n"
     ]
    },
    {
     "name": "stderr",
     "output_type": "stream",
     "text": [
      "100%|██████████| 9/9 [00:00<00:00, 17.21it/s]\n",
      "100%|██████████| 2/2 [00:00<00:00, 10.54it/s]\n",
      "  0%|          | 0/9 [00:00<?, ?it/s]"
     ]
    },
    {
     "name": "stdout",
     "output_type": "stream",
     "text": [
      "Saving checkpoint..\n",
      "Lowest validation loss: 23.4564\n"
     ]
    },
    {
     "name": "stderr",
     "output_type": "stream",
     "text": [
      "100%|██████████| 9/9 [00:00<00:00, 16.91it/s]\n",
      "100%|██████████| 2/2 [00:00<00:00, 10.38it/s]\n",
      "  0%|          | 0/9 [00:00<?, ?it/s]"
     ]
    },
    {
     "name": "stdout",
     "output_type": "stream",
     "text": [
      "Saving checkpoint..\n",
      "Lowest validation loss: 21.5347\n"
     ]
    },
    {
     "name": "stderr",
     "output_type": "stream",
     "text": [
      "100%|██████████| 9/9 [00:00<00:00, 17.41it/s]\n",
      "100%|██████████| 2/2 [00:00<00:00,  9.85it/s]\n",
      "100%|██████████| 9/9 [00:00<00:00, 17.36it/s]\n",
      "100%|██████████| 2/2 [00:00<00:00,  9.69it/s]\n",
      "100%|██████████| 9/9 [00:00<00:00, 17.62it/s]\n",
      "  0%|          | 0/2 [00:00<?, ?it/s]"
     ]
    },
    {
     "name": "stdout",
     "output_type": "stream",
     "text": [
      "Epoch: 160 (9/9)\n",
      "\tData load time: 0.144 sec\n",
      "\tGeneration time: 0.169 sec\n",
      "\tBackprop time: 0.188 sec\n",
      "\tLog probability: -293.3689 (avg -37.2365)\n",
      "\tKL: 87.1137 (avg 29.3753)\n",
      "\tLoss: 380.4825 (avg 66.6117)\n"
     ]
    },
    {
     "name": "stderr",
     "output_type": "stream",
     "text": [
      "100%|██████████| 2/2 [00:00<00:00,  9.65it/s]\n",
      "  0%|          | 0/9 [00:00<?, ?it/s]"
     ]
    },
    {
     "name": "stdout",
     "output_type": "stream",
     "text": [
      "VALIDATION\n",
      "Epoch: 160 (2/2)\n",
      "\tData load time: 0.139 sec\n",
      "\tGeneration time: 0.157 sec\n",
      "\tLog probability: -7.9969 (avg -6.6604)\n",
      "\tKL: 31.9198 (avg 29.4177)\n",
      "\tLoss: 39.9167 (avg 36.0781)\n"
     ]
    },
    {
     "name": "stderr",
     "output_type": "stream",
     "text": [
      "100%|██████████| 9/9 [00:00<00:00, 17.44it/s]\n",
      "100%|██████████| 2/2 [00:00<00:00, 10.07it/s]\n",
      "100%|██████████| 9/9 [00:00<00:00, 17.50it/s]\n",
      "100%|██████████| 2/2 [00:00<00:00, 10.59it/s]\n",
      "100%|██████████| 9/9 [00:00<00:00, 17.57it/s]\n",
      "100%|██████████| 2/2 [00:00<00:00, 10.09it/s]\n",
      "100%|██████████| 9/9 [00:00<00:00, 17.14it/s]\n",
      "100%|██████████| 2/2 [00:00<00:00,  9.62it/s]\n",
      "100%|██████████| 9/9 [00:00<00:00, 17.36it/s]\n",
      "100%|██████████| 2/2 [00:00<00:00,  9.70it/s]\n",
      "100%|██████████| 9/9 [00:00<00:00, 17.90it/s]\n",
      "100%|██████████| 2/2 [00:00<00:00,  9.98it/s]\n",
      "100%|██████████| 9/9 [00:00<00:00, 17.75it/s]\n",
      "100%|██████████| 2/2 [00:00<00:00, 10.42it/s]\n",
      "100%|██████████| 9/9 [00:00<00:00, 17.04it/s]\n",
      "100%|██████████| 2/2 [00:00<00:00, 10.36it/s]\n",
      "100%|██████████| 9/9 [00:00<00:00, 17.82it/s]\n",
      "100%|██████████| 2/2 [00:00<00:00,  9.89it/s]\n",
      "100%|██████████| 9/9 [00:00<00:00, 17.42it/s]\n",
      "  0%|          | 0/2 [00:00<?, ?it/s]"
     ]
    },
    {
     "name": "stdout",
     "output_type": "stream",
     "text": [
      "Epoch: 170 (9/9)\n",
      "\tData load time: 0.151 sec\n",
      "\tGeneration time: 0.172 sec\n",
      "\tBackprop time: 0.187 sec\n",
      "\tLog probability: -13.0271 (avg -6.4308)\n",
      "\tKL: 33.9054 (avg 22.5419)\n",
      "\tLoss: 46.9325 (avg 28.9728)\n"
     ]
    },
    {
     "name": "stderr",
     "output_type": "stream",
     "text": [
      " 50%|█████     | 1/2 [00:00<00:00,  6.64it/s]"
     ]
    },
    {
     "name": "stdout",
     "output_type": "stream",
     "text": [
      "VALIDATION\n",
      "Epoch: 170 (2/2)\n",
      "\tData load time: 0.128 sec\n",
      "\tGeneration time: 0.149 sec\n",
      "\tLog probability: -4.6742 (avg -5.3964)\n",
      "\tKL: 20.0370 (avg 20.7935)\n",
      "\tLoss: 24.7113 (avg 26.1899)\n"
     ]
    },
    {
     "name": "stderr",
     "output_type": "stream",
     "text": [
      "100%|██████████| 2/2 [00:00<00:00, 10.01it/s]\n",
      "100%|██████████| 9/9 [00:00<00:00, 17.74it/s]\n",
      "100%|██████████| 2/2 [00:00<00:00, 10.92it/s]\n",
      "100%|██████████| 9/9 [00:00<00:00, 18.04it/s]\n",
      "100%|██████████| 2/2 [00:00<00:00, 10.00it/s]\n",
      "100%|██████████| 9/9 [00:00<00:00, 17.29it/s]\n",
      "100%|██████████| 2/2 [00:00<00:00,  9.81it/s]\n",
      "100%|██████████| 9/9 [00:00<00:00, 17.32it/s]\n",
      "100%|██████████| 2/2 [00:00<00:00,  9.95it/s]\n",
      "100%|██████████| 9/9 [00:00<00:00, 16.93it/s]\n",
      "100%|██████████| 2/2 [00:00<00:00, 10.42it/s]\n",
      "100%|██████████| 9/9 [00:00<00:00, 17.04it/s]\n",
      "100%|██████████| 2/2 [00:00<00:00, 10.03it/s]\n",
      "  0%|          | 0/9 [00:00<?, ?it/s]"
     ]
    },
    {
     "name": "stdout",
     "output_type": "stream",
     "text": [
      "Saving checkpoint..\n",
      "Lowest validation loss: 20.7827\n"
     ]
    },
    {
     "name": "stderr",
     "output_type": "stream",
     "text": [
      "100%|██████████| 9/9 [00:00<00:00, 16.04it/s]\n",
      "100%|██████████| 2/2 [00:00<00:00,  8.59it/s]\n",
      "100%|██████████| 9/9 [00:00<00:00, 16.26it/s]\n",
      "100%|██████████| 2/2 [00:00<00:00,  9.74it/s]\n",
      "100%|██████████| 9/9 [00:00<00:00, 17.01it/s]\n",
      "100%|██████████| 2/2 [00:00<00:00,  9.40it/s]\n",
      "100%|██████████| 9/9 [00:00<00:00, 17.26it/s]\n",
      "  0%|          | 0/2 [00:00<?, ?it/s]"
     ]
    },
    {
     "name": "stdout",
     "output_type": "stream",
     "text": [
      "Epoch: 180 (9/9)\n",
      "\tData load time: 0.162 sec\n",
      "\tGeneration time: 0.183 sec\n",
      "\tBackprop time: 0.203 sec\n",
      "\tLog probability: -15.1494 (avg -8.9066)\n",
      "\tKL: 32.5813 (avg 27.4255)\n",
      "\tLoss: 47.7307 (avg 36.3321)\n"
     ]
    },
    {
     "name": "stderr",
     "output_type": "stream",
     "text": [
      "100%|██████████| 2/2 [00:00<00:00,  9.79it/s]\n",
      "  0%|          | 0/9 [00:00<?, ?it/s]"
     ]
    },
    {
     "name": "stdout",
     "output_type": "stream",
     "text": [
      "VALIDATION\n",
      "Epoch: 180 (2/2)\n",
      "\tData load time: 0.133 sec\n",
      "\tGeneration time: 0.153 sec\n",
      "\tLog probability: -5.5322 (avg -6.5320)\n",
      "\tKL: 19.2485 (avg 21.7805)\n",
      "\tLoss: 24.7807 (avg 28.3124)\n"
     ]
    },
    {
     "name": "stderr",
     "output_type": "stream",
     "text": [
      "100%|██████████| 9/9 [00:00<00:00, 16.86it/s]\n",
      "100%|██████████| 2/2 [00:00<00:00, 10.06it/s]\n",
      "100%|██████████| 9/9 [00:00<00:00, 16.83it/s]\n",
      "100%|██████████| 2/2 [00:00<00:00,  9.61it/s]\n",
      "100%|██████████| 9/9 [00:00<00:00, 17.22it/s]\n",
      "100%|██████████| 2/2 [00:00<00:00,  9.97it/s]\n",
      "100%|██████████| 9/9 [00:00<00:00, 16.98it/s]\n",
      "100%|██████████| 2/2 [00:00<00:00,  9.97it/s]\n",
      "100%|██████████| 9/9 [00:00<00:00, 17.34it/s]\n",
      "100%|██████████| 2/2 [00:00<00:00,  9.53it/s]\n",
      "100%|██████████| 9/9 [00:00<00:00, 17.07it/s]\n",
      "100%|██████████| 2/2 [00:00<00:00,  9.80it/s]\n",
      "100%|██████████| 9/9 [00:00<00:00, 17.17it/s]\n",
      "100%|██████████| 2/2 [00:00<00:00,  9.79it/s]\n",
      "  0%|          | 0/9 [00:00<?, ?it/s]"
     ]
    },
    {
     "name": "stdout",
     "output_type": "stream",
     "text": [
      "Saving checkpoint..\n",
      "Lowest validation loss: 20.3944\n"
     ]
    },
    {
     "name": "stderr",
     "output_type": "stream",
     "text": [
      "100%|██████████| 9/9 [00:00<00:00, 17.26it/s]\n",
      "100%|██████████| 2/2 [00:00<00:00,  9.96it/s]\n",
      "100%|██████████| 9/9 [00:00<00:00, 17.14it/s]\n",
      "100%|██████████| 2/2 [00:00<00:00,  9.97it/s]\n",
      "100%|██████████| 9/9 [00:00<00:00, 17.55it/s]\n",
      "  0%|          | 0/2 [00:00<?, ?it/s]"
     ]
    },
    {
     "name": "stdout",
     "output_type": "stream",
     "text": [
      "Epoch: 190 (9/9)\n",
      "\tData load time: 0.148 sec\n",
      "\tGeneration time: 0.176 sec\n",
      "\tBackprop time: 0.189 sec\n",
      "\tLog probability: -3.1185 (avg -4.5132)\n",
      "\tKL: 13.0856 (avg 14.4129)\n",
      "\tLoss: 16.2041 (avg 18.9260)\n"
     ]
    },
    {
     "name": "stderr",
     "output_type": "stream",
     "text": [
      "100%|██████████| 2/2 [00:00<00:00,  9.91it/s]\n"
     ]
    },
    {
     "name": "stdout",
     "output_type": "stream",
     "text": [
      "VALIDATION\n",
      "Epoch: 190 (2/2)\n",
      "\tData load time: 0.133 sec\n",
      "\tGeneration time: 0.154 sec\n",
      "\tLog probability: -5.0454 (avg -3.9790)\n",
      "\tKL: 14.1651 (avg 12.7635)\n",
      "\tLoss: 19.2104 (avg 16.7424)\n",
      "Saving checkpoint..\n"
     ]
    },
    {
     "name": "stderr",
     "output_type": "stream",
     "text": [
      "  0%|          | 0/9 [00:00<?, ?it/s]"
     ]
    },
    {
     "name": "stdout",
     "output_type": "stream",
     "text": [
      "Lowest validation loss: 16.7424\n"
     ]
    },
    {
     "name": "stderr",
     "output_type": "stream",
     "text": [
      "100%|██████████| 9/9 [00:00<00:00, 17.02it/s]\n",
      "100%|██████████| 2/2 [00:00<00:00, 10.29it/s]\n",
      "100%|██████████| 9/9 [00:00<00:00, 16.75it/s]\n",
      "100%|██████████| 2/2 [00:00<00:00, 10.44it/s]\n",
      "100%|██████████| 9/9 [00:00<00:00, 17.14it/s]\n",
      "100%|██████████| 2/2 [00:00<00:00, 10.36it/s]\n",
      "100%|██████████| 9/9 [00:00<00:00, 17.14it/s]\n",
      "100%|██████████| 2/2 [00:00<00:00, 10.75it/s]\n",
      "100%|██████████| 9/9 [00:00<00:00, 16.85it/s]\n",
      "100%|██████████| 2/2 [00:00<00:00, 10.24it/s]\n",
      "100%|██████████| 9/9 [00:00<00:00, 16.96it/s]\n",
      "100%|██████████| 2/2 [00:00<00:00, 10.53it/s]\n",
      "100%|██████████| 9/9 [00:00<00:00, 17.54it/s]\n",
      "100%|██████████| 2/2 [00:00<00:00,  9.62it/s]\n",
      "100%|██████████| 9/9 [00:00<00:00, 17.71it/s]\n",
      "100%|██████████| 2/2 [00:00<00:00, 10.10it/s]\n",
      "100%|██████████| 9/9 [00:00<00:00, 16.95it/s]\n",
      "100%|██████████| 2/2 [00:00<00:00, 10.61it/s]\n",
      "100%|██████████| 9/9 [00:00<00:00, 17.09it/s]\n",
      "  0%|          | 0/2 [00:00<?, ?it/s]"
     ]
    },
    {
     "name": "stdout",
     "output_type": "stream",
     "text": [
      "Epoch: 200 (9/9)\n",
      "\tData load time: 0.160 sec\n",
      "\tGeneration time: 0.183 sec\n",
      "\tBackprop time: 0.198 sec\n",
      "\tLog probability: -251.0776 (avg -44.2715)\n",
      "\tKL: 104.8829 (avg 37.2268)\n",
      "\tLoss: 355.9605 (avg 81.4984)\n"
     ]
    },
    {
     "name": "stderr",
     "output_type": "stream",
     "text": [
      "100%|██████████| 2/2 [00:00<00:00,  9.79it/s]\n",
      "  0%|          | 0/9 [00:00<?, ?it/s]"
     ]
    },
    {
     "name": "stdout",
     "output_type": "stream",
     "text": [
      "VALIDATION\n",
      "Epoch: 200 (2/2)\n",
      "\tData load time: 0.136 sec\n",
      "\tGeneration time: 0.155 sec\n",
      "\tLog probability: -24.3476 (avg -23.5887)\n",
      "\tKL: 45.4716 (avg 45.4614)\n",
      "\tLoss: 69.8192 (avg 69.0501)\n"
     ]
    },
    {
     "name": "stderr",
     "output_type": "stream",
     "text": [
      "100%|██████████| 9/9 [00:00<00:00, 17.42it/s]\n",
      "100%|██████████| 2/2 [00:00<00:00, 10.61it/s]\n",
      "100%|██████████| 9/9 [00:00<00:00, 16.92it/s]\n",
      "100%|██████████| 2/2 [00:00<00:00,  9.88it/s]\n",
      "100%|██████████| 9/9 [00:00<00:00, 16.99it/s]\n",
      "100%|██████████| 2/2 [00:00<00:00, 10.67it/s]\n",
      "100%|██████████| 9/9 [00:00<00:00, 17.45it/s]\n",
      "100%|██████████| 2/2 [00:00<00:00,  9.44it/s]\n",
      "100%|██████████| 9/9 [00:00<00:00, 16.69it/s]\n",
      "100%|██████████| 2/2 [00:00<00:00,  9.18it/s]\n",
      "100%|██████████| 9/9 [00:00<00:00, 16.90it/s]\n",
      "100%|██████████| 2/2 [00:00<00:00, 10.37it/s]\n",
      "100%|██████████| 9/9 [00:00<00:00, 16.25it/s]\n",
      "100%|██████████| 2/2 [00:00<00:00,  9.61it/s]\n",
      "100%|██████████| 9/9 [00:00<00:00, 16.84it/s]\n",
      "100%|██████████| 2/2 [00:00<00:00,  9.38it/s]\n",
      "100%|██████████| 9/9 [00:00<00:00,  9.69it/s]\n",
      "100%|██████████| 2/2 [00:00<00:00,  9.46it/s]\n",
      "100%|██████████| 9/9 [00:00<00:00, 13.77it/s]\n",
      "  0%|          | 0/2 [00:00<?, ?it/s]"
     ]
    },
    {
     "name": "stdout",
     "output_type": "stream",
     "text": [
      "Epoch: 210 (9/9)\n",
      "\tData load time: 0.287 sec\n",
      "\tGeneration time: 0.310 sec\n",
      "\tBackprop time: 0.326 sec\n",
      "\tLog probability: -12.6598 (avg -6.5357)\n",
      "\tKL: 28.3367 (avg 18.9008)\n",
      "\tLoss: 40.9965 (avg 25.4365)\n"
     ]
    },
    {
     "name": "stderr",
     "output_type": "stream",
     "text": [
      "100%|██████████| 2/2 [00:00<00:00,  9.61it/s]\n",
      "  0%|          | 0/9 [00:00<?, ?it/s]"
     ]
    },
    {
     "name": "stdout",
     "output_type": "stream",
     "text": [
      "VALIDATION\n",
      "Epoch: 210 (2/2)\n",
      "\tData load time: 0.137 sec\n",
      "\tGeneration time: 0.160 sec\n",
      "\tLog probability: -4.8928 (avg -4.0390)\n",
      "\tKL: 15.3646 (avg 14.2294)\n",
      "\tLoss: 20.2574 (avg 18.2684)\n"
     ]
    },
    {
     "name": "stderr",
     "output_type": "stream",
     "text": [
      "100%|██████████| 9/9 [00:00<00:00, 15.50it/s]\n",
      "100%|██████████| 2/2 [00:00<00:00, 10.17it/s]\n"
     ]
    },
    {
     "name": "stdout",
     "output_type": "stream",
     "text": [
      "Saving checkpoint..\n"
     ]
    },
    {
     "name": "stderr",
     "output_type": "stream",
     "text": [
      "  0%|          | 0/9 [00:00<?, ?it/s]"
     ]
    },
    {
     "name": "stdout",
     "output_type": "stream",
     "text": [
      "Lowest validation loss: 15.3079\n"
     ]
    },
    {
     "name": "stderr",
     "output_type": "stream",
     "text": [
      "100%|██████████| 9/9 [00:00<00:00, 16.91it/s]\n",
      "100%|██████████| 2/2 [00:00<00:00, 10.40it/s]\n",
      "100%|██████████| 9/9 [00:00<00:00, 16.58it/s]\n",
      "100%|██████████| 2/2 [00:00<00:00,  9.65it/s]\n",
      "100%|██████████| 9/9 [00:00<00:00, 17.67it/s]\n",
      "100%|██████████| 2/2 [00:00<00:00, 10.64it/s]\n",
      "100%|██████████| 9/9 [00:00<00:00, 17.05it/s]\n",
      "100%|██████████| 2/2 [00:00<00:00,  9.99it/s]\n",
      "100%|██████████| 9/9 [00:00<00:00, 17.39it/s]\n",
      "100%|██████████| 2/2 [00:00<00:00,  9.91it/s]\n",
      "100%|██████████| 9/9 [00:00<00:00, 17.49it/s]\n",
      "100%|██████████| 2/2 [00:00<00:00, 10.17it/s]\n",
      "100%|██████████| 9/9 [00:00<00:00, 17.41it/s]\n",
      "100%|██████████| 2/2 [00:00<00:00,  9.67it/s]\n",
      "100%|██████████| 9/9 [00:00<00:00, 17.61it/s]\n",
      "100%|██████████| 2/2 [00:00<00:00, 10.01it/s]\n",
      "100%|██████████| 9/9 [00:00<00:00, 16.91it/s]\n",
      "  0%|          | 0/2 [00:00<?, ?it/s]"
     ]
    },
    {
     "name": "stdout",
     "output_type": "stream",
     "text": [
      "Epoch: 220 (9/9)\n",
      "\tData load time: 0.166 sec\n",
      "\tGeneration time: 0.185 sec\n",
      "\tBackprop time: 0.205 sec\n",
      "\tLog probability: -4.0863 (avg -7.2293)\n",
      "\tKL: 110.3136 (avg 125.8181)\n",
      "\tLoss: 114.4000 (avg 133.0474)\n"
     ]
    },
    {
     "name": "stderr",
     "output_type": "stream",
     "text": [
      "100%|██████████| 2/2 [00:00<00:00,  9.76it/s]\n",
      "  0%|          | 0/9 [00:00<?, ?it/s]"
     ]
    },
    {
     "name": "stdout",
     "output_type": "stream",
     "text": [
      "VALIDATION\n",
      "Epoch: 220 (2/2)\n",
      "\tData load time: 0.134 sec\n",
      "\tGeneration time: 0.153 sec\n",
      "\tLog probability: -13.6616 (avg -9.5885)\n",
      "\tKL: 122.0283 (avg 107.3000)\n",
      "\tLoss: 135.6899 (avg 116.8885)\n"
     ]
    },
    {
     "name": "stderr",
     "output_type": "stream",
     "text": [
      "100%|██████████| 9/9 [00:00<00:00, 17.27it/s]\n",
      "100%|██████████| 2/2 [00:00<00:00,  9.96it/s]\n",
      "100%|██████████| 9/9 [00:00<00:00, 16.98it/s]\n",
      "100%|██████████| 2/2 [00:00<00:00, 10.61it/s]\n",
      "100%|██████████| 9/9 [00:00<00:00, 17.36it/s]\n",
      "100%|██████████| 2/2 [00:00<00:00, 10.25it/s]\n",
      "100%|██████████| 9/9 [00:00<00:00, 17.31it/s]\n",
      "100%|██████████| 2/2 [00:00<00:00,  9.87it/s]\n",
      "100%|██████████| 9/9 [00:00<00:00, 17.03it/s]\n",
      "100%|██████████| 2/2 [00:00<00:00,  9.97it/s]\n",
      "100%|██████████| 9/9 [00:00<00:00, 16.93it/s]\n",
      "100%|██████████| 2/2 [00:00<00:00, 10.60it/s]\n",
      "100%|██████████| 9/9 [00:00<00:00, 17.49it/s]\n",
      "100%|██████████| 2/2 [00:00<00:00,  9.74it/s]\n",
      "100%|██████████| 9/9 [00:00<00:00, 17.10it/s]\n",
      "100%|██████████| 2/2 [00:00<00:00,  9.49it/s]\n",
      "100%|██████████| 9/9 [00:00<00:00, 17.01it/s]\n",
      "100%|██████████| 2/2 [00:00<00:00, 10.50it/s]\n",
      "100%|██████████| 9/9 [00:00<00:00, 17.62it/s]\n",
      "  0%|          | 0/2 [00:00<?, ?it/s]"
     ]
    },
    {
     "name": "stdout",
     "output_type": "stream",
     "text": [
      "Epoch: 230 (9/9)\n",
      "\tData load time: 0.149 sec\n",
      "\tGeneration time: 0.171 sec\n",
      "\tBackprop time: 0.188 sec\n",
      "\tLog probability: -11.6741 (avg -5.2802)\n",
      "\tKL: 82.7433 (avg 61.6013)\n",
      "\tLoss: 94.4175 (avg 66.8814)\n"
     ]
    },
    {
     "name": "stderr",
     "output_type": "stream",
     "text": [
      "100%|██████████| 2/2 [00:00<00:00,  9.42it/s]\n",
      "  0%|          | 0/9 [00:00<?, ?it/s]"
     ]
    },
    {
     "name": "stdout",
     "output_type": "stream",
     "text": [
      "VALIDATION\n",
      "Epoch: 230 (2/2)\n",
      "\tData load time: 0.139 sec\n",
      "\tGeneration time: 0.158 sec\n",
      "\tLog probability: -2.6555 (avg -3.2856)\n",
      "\tKL: 61.1508 (avg 63.1964)\n",
      "\tLoss: 63.8063 (avg 66.4820)\n"
     ]
    },
    {
     "name": "stderr",
     "output_type": "stream",
     "text": [
      "100%|██████████| 9/9 [00:00<00:00, 17.64it/s]\n",
      "100%|██████████| 2/2 [00:00<00:00,  9.65it/s]\n",
      "100%|██████████| 9/9 [00:00<00:00, 16.99it/s]\n",
      "100%|██████████| 2/2 [00:00<00:00, 10.03it/s]\n",
      "100%|██████████| 9/9 [00:00<00:00, 17.18it/s]\n",
      "100%|██████████| 2/2 [00:00<00:00,  9.15it/s]\n",
      "100%|██████████| 9/9 [00:00<00:00, 17.31it/s]\n",
      "100%|██████████| 2/2 [00:00<00:00,  9.76it/s]\n",
      "100%|██████████| 9/9 [00:00<00:00, 17.08it/s]\n",
      "100%|██████████| 2/2 [00:00<00:00,  9.94it/s]\n",
      "100%|██████████| 9/9 [00:00<00:00, 17.15it/s]\n",
      "100%|██████████| 2/2 [00:00<00:00, 10.54it/s]\n",
      "100%|██████████| 9/9 [00:00<00:00, 17.12it/s]\n",
      "100%|██████████| 2/2 [00:00<00:00,  9.85it/s]\n",
      "100%|██████████| 9/9 [00:00<00:00, 17.01it/s]\n",
      "100%|██████████| 2/2 [00:00<00:00, 10.83it/s]\n",
      "100%|██████████| 9/9 [00:00<00:00, 17.52it/s]\n",
      "100%|██████████| 2/2 [00:00<00:00,  9.53it/s]\n",
      "100%|██████████| 9/9 [00:00<00:00, 17.39it/s]\n",
      "  0%|          | 0/2 [00:00<?, ?it/s]"
     ]
    },
    {
     "name": "stdout",
     "output_type": "stream",
     "text": [
      "Epoch: 240 (9/9)\n",
      "\tData load time: 0.153 sec\n",
      "\tGeneration time: 0.177 sec\n",
      "\tBackprop time: 0.193 sec\n",
      "\tLog probability: -5.7534 (avg -7.2273)\n",
      "\tKL: 84.8856 (avg 60.0730)\n",
      "\tLoss: 90.6390 (avg 67.3003)\n"
     ]
    },
    {
     "name": "stderr",
     "output_type": "stream",
     "text": [
      " 50%|█████     | 1/2 [00:00<00:00,  7.15it/s]"
     ]
    },
    {
     "name": "stdout",
     "output_type": "stream",
     "text": [
      "VALIDATION\n",
      "Epoch: 240 (2/2)\n",
      "\tData load time: 0.116 sec\n",
      "\tGeneration time: 0.140 sec\n",
      "\tLog probability: -4.1569 (avg -8.4689)\n",
      "\tKL: 81.9124 (avg 85.1204)\n",
      "\tLoss: 86.0693 (avg 93.5893)\n"
     ]
    },
    {
     "name": "stderr",
     "output_type": "stream",
     "text": [
      "100%|██████████| 2/2 [00:00<00:00, 10.76it/s]\n",
      "100%|██████████| 9/9 [00:00<00:00, 17.17it/s]\n",
      "100%|██████████| 2/2 [00:00<00:00, 10.08it/s]\n",
      "100%|██████████| 9/9 [00:00<00:00, 15.64it/s]\n",
      "100%|██████████| 2/2 [00:00<00:00,  8.82it/s]\n",
      "100%|██████████| 9/9 [00:00<00:00, 15.76it/s]\n",
      "100%|██████████| 2/2 [00:00<00:00,  8.55it/s]\n",
      "100%|██████████| 9/9 [00:00<00:00, 16.11it/s]\n",
      "100%|██████████| 2/2 [00:00<00:00,  8.51it/s]\n",
      "100%|██████████| 9/9 [00:00<00:00, 16.21it/s]\n",
      "100%|██████████| 2/2 [00:00<00:00, 10.19it/s]\n",
      "100%|██████████| 9/9 [00:00<00:00, 17.19it/s]\n",
      "100%|██████████| 2/2 [00:00<00:00,  9.79it/s]\n",
      "100%|██████████| 9/9 [00:00<00:00, 16.88it/s]\n",
      "100%|██████████| 2/2 [00:00<00:00,  9.82it/s]\n",
      "100%|██████████| 9/9 [00:00<00:00, 17.45it/s]\n",
      "100%|██████████| 2/2 [00:00<00:00,  9.60it/s]\n",
      "100%|██████████| 9/9 [00:00<00:00, 17.17it/s]\n",
      "100%|██████████| 2/2 [00:00<00:00,  9.52it/s]\n",
      "100%|██████████| 9/9 [00:00<00:00, 17.43it/s]\n",
      "  0%|          | 0/2 [00:00<?, ?it/s]"
     ]
    },
    {
     "name": "stdout",
     "output_type": "stream",
     "text": [
      "Epoch: 250 (9/9)\n",
      "\tData load time: 0.151 sec\n",
      "\tGeneration time: 0.176 sec\n",
      "\tBackprop time: 0.194 sec\n",
      "\tLog probability: -17.1625 (avg -4.9165)\n",
      "\tKL: 52.0778 (avg 54.0694)\n",
      "\tLoss: 69.2404 (avg 58.9859)\n"
     ]
    },
    {
     "name": "stderr",
     "output_type": "stream",
     "text": [
      "100%|██████████| 2/2 [00:00<00:00,  9.77it/s]\n",
      "  0%|          | 0/9 [00:00<?, ?it/s]"
     ]
    },
    {
     "name": "stdout",
     "output_type": "stream",
     "text": [
      "VALIDATION\n",
      "Epoch: 250 (2/2)\n",
      "\tData load time: 0.138 sec\n",
      "\tGeneration time: 0.157 sec\n",
      "\tLog probability: -2.7187 (avg -3.5294)\n",
      "\tKL: 56.4512 (avg 58.1790)\n",
      "\tLoss: 59.1700 (avg 61.7084)\n"
     ]
    },
    {
     "name": "stderr",
     "output_type": "stream",
     "text": [
      "100%|██████████| 9/9 [00:00<00:00, 17.14it/s]\n",
      "100%|██████████| 2/2 [00:00<00:00,  9.37it/s]\n",
      "100%|██████████| 9/9 [00:00<00:00, 16.84it/s]\n",
      "100%|██████████| 2/2 [00:00<00:00, 10.39it/s]\n",
      "100%|██████████| 9/9 [00:00<00:00, 17.05it/s]\n",
      "100%|██████████| 2/2 [00:00<00:00, 10.01it/s]\n",
      "100%|██████████| 9/9 [00:00<00:00, 17.27it/s]\n",
      "100%|██████████| 2/2 [00:00<00:00,  9.98it/s]\n",
      "100%|██████████| 9/9 [00:00<00:00, 17.41it/s]\n",
      "100%|██████████| 2/2 [00:00<00:00,  9.80it/s]\n",
      "100%|██████████| 9/9 [00:00<00:00, 17.24it/s]\n",
      "100%|██████████| 2/2 [00:00<00:00,  9.69it/s]\n",
      "100%|██████████| 9/9 [00:00<00:00, 17.72it/s]\n",
      "100%|██████████| 2/2 [00:00<00:00,  9.77it/s]\n",
      "100%|██████████| 9/9 [00:00<00:00, 16.86it/s]\n",
      "100%|██████████| 2/2 [00:00<00:00, 10.09it/s]\n",
      "100%|██████████| 9/9 [00:00<00:00, 16.99it/s]\n",
      "100%|██████████| 2/2 [00:00<00:00, 10.13it/s]\n",
      "100%|██████████| 9/9 [00:00<00:00, 17.95it/s]\n",
      "  0%|          | 0/2 [00:00<?, ?it/s]"
     ]
    },
    {
     "name": "stdout",
     "output_type": "stream",
     "text": [
      "Epoch: 260 (9/9)\n",
      "\tData load time: 0.133 sec\n",
      "\tGeneration time: 0.160 sec\n",
      "\tBackprop time: 0.179 sec\n",
      "\tLog probability: -43.9644 (avg -9.9275)\n",
      "\tKL: 70.4805 (avg 60.2269)\n",
      "\tLoss: 114.4449 (avg 70.1544)\n"
     ]
    },
    {
     "name": "stderr",
     "output_type": "stream",
     "text": [
      " 50%|█████     | 1/2 [00:00<00:00,  6.79it/s]"
     ]
    },
    {
     "name": "stdout",
     "output_type": "stream",
     "text": [
      "VALIDATION\n",
      "Epoch: 260 (2/2)\n",
      "\tData load time: 0.127 sec\n",
      "\tGeneration time: 0.146 sec\n",
      "\tLog probability: -4.6611 (avg -3.8663)\n",
      "\tKL: 60.7431 (avg 57.7988)\n",
      "\tLoss: 65.4042 (avg 61.6651)\n"
     ]
    },
    {
     "name": "stderr",
     "output_type": "stream",
     "text": [
      "100%|██████████| 2/2 [00:00<00:00, 10.01it/s]\n",
      "100%|██████████| 9/9 [00:00<00:00, 17.22it/s]\n",
      "100%|██████████| 2/2 [00:00<00:00, 10.16it/s]\n",
      "100%|██████████| 9/9 [00:00<00:00, 16.91it/s]\n",
      "100%|██████████| 2/2 [00:00<00:00,  9.90it/s]\n",
      "100%|██████████| 9/9 [00:00<00:00, 17.42it/s]\n",
      "100%|██████████| 2/2 [00:00<00:00,  9.56it/s]\n",
      "100%|██████████| 9/9 [00:00<00:00, 17.31it/s]\n",
      "100%|██████████| 2/2 [00:00<00:00,  9.29it/s]\n",
      "100%|██████████| 9/9 [00:00<00:00, 17.17it/s]\n",
      "100%|██████████| 2/2 [00:00<00:00, 10.14it/s]\n",
      "100%|██████████| 9/9 [00:00<00:00, 17.18it/s]\n",
      "100%|██████████| 2/2 [00:00<00:00, 10.75it/s]\n",
      "100%|██████████| 9/9 [00:00<00:00, 17.13it/s]\n",
      "100%|██████████| 2/2 [00:00<00:00, 10.12it/s]\n",
      "100%|██████████| 9/9 [00:00<00:00, 17.09it/s]\n",
      "100%|██████████| 2/2 [00:00<00:00, 10.63it/s]\n",
      "100%|██████████| 9/9 [00:00<00:00, 16.87it/s]\n",
      "100%|██████████| 2/2 [00:00<00:00,  9.87it/s]\n",
      "100%|██████████| 9/9 [00:00<00:00, 17.66it/s]\n",
      "  0%|          | 0/2 [00:00<?, ?it/s]"
     ]
    },
    {
     "name": "stdout",
     "output_type": "stream",
     "text": [
      "Epoch: 270 (9/9)\n",
      "\tData load time: 0.147 sec\n",
      "\tGeneration time: 0.167 sec\n",
      "\tBackprop time: 0.184 sec\n",
      "\tLog probability: -13.8732 (avg -4.9703)\n",
      "\tKL: 63.7609 (avg 54.0003)\n",
      "\tLoss: 77.6342 (avg 58.9706)\n"
     ]
    },
    {
     "name": "stderr",
     "output_type": "stream",
     "text": [
      "100%|██████████| 2/2 [00:00<00:00,  9.79it/s]\n",
      "  0%|          | 0/9 [00:00<?, ?it/s]"
     ]
    },
    {
     "name": "stdout",
     "output_type": "stream",
     "text": [
      "VALIDATION\n",
      "Epoch: 270 (2/2)\n",
      "\tData load time: 0.135 sec\n",
      "\tGeneration time: 0.154 sec\n",
      "\tLog probability: -3.6616 (avg -3.1968)\n",
      "\tKL: 54.0245 (avg 53.8399)\n",
      "\tLoss: 57.6861 (avg 57.0367)\n"
     ]
    },
    {
     "name": "stderr",
     "output_type": "stream",
     "text": [
      "100%|██████████| 9/9 [00:00<00:00, 16.62it/s]\n",
      "100%|██████████| 2/2 [00:00<00:00, 10.08it/s]\n",
      "100%|██████████| 9/9 [00:00<00:00, 17.25it/s]\n",
      "100%|██████████| 2/2 [00:00<00:00, 10.56it/s]\n",
      "100%|██████████| 9/9 [00:00<00:00, 16.54it/s]\n",
      "100%|██████████| 2/2 [00:00<00:00, 10.57it/s]\n",
      "100%|██████████| 9/9 [00:00<00:00, 17.74it/s]\n",
      "100%|██████████| 2/2 [00:00<00:00,  9.97it/s]\n",
      "100%|██████████| 9/9 [00:00<00:00, 17.61it/s]\n",
      "100%|██████████| 2/2 [00:00<00:00,  9.97it/s]\n",
      "100%|██████████| 9/9 [00:00<00:00, 17.42it/s]\n",
      "100%|██████████| 2/2 [00:00<00:00, 10.07it/s]\n",
      "100%|██████████| 9/9 [00:00<00:00, 17.43it/s]\n",
      "100%|██████████| 2/2 [00:00<00:00, 10.06it/s]\n",
      "100%|██████████| 9/9 [00:00<00:00, 17.22it/s]\n",
      "100%|██████████| 2/2 [00:00<00:00,  9.28it/s]\n",
      "100%|██████████| 9/9 [00:00<00:00, 16.73it/s]\n",
      "100%|██████████| 2/2 [00:00<00:00,  9.63it/s]\n",
      "100%|██████████| 9/9 [00:00<00:00, 17.09it/s]\n",
      "  0%|          | 0/2 [00:00<?, ?it/s]"
     ]
    },
    {
     "name": "stdout",
     "output_type": "stream",
     "text": [
      "Epoch: 280 (9/9)\n",
      "\tData load time: 0.164 sec\n",
      "\tGeneration time: 0.188 sec\n",
      "\tBackprop time: 0.207 sec\n",
      "\tLog probability: -12.7395 (avg -4.5469)\n",
      "\tKL: 53.0520 (avg 54.3946)\n",
      "\tLoss: 65.7915 (avg 58.9415)\n"
     ]
    },
    {
     "name": "stderr",
     "output_type": "stream",
     "text": [
      "100%|██████████| 2/2 [00:00<00:00,  9.27it/s]\n",
      "  0%|          | 0/9 [00:00<?, ?it/s]"
     ]
    },
    {
     "name": "stdout",
     "output_type": "stream",
     "text": [
      "VALIDATION\n",
      "Epoch: 280 (2/2)\n",
      "\tData load time: 0.148 sec\n",
      "\tGeneration time: 0.169 sec\n",
      "\tLog probability: -4.1390 (avg -3.4888)\n",
      "\tKL: 63.1674 (avg 56.8111)\n",
      "\tLoss: 67.3064 (avg 60.2999)\n"
     ]
    },
    {
     "name": "stderr",
     "output_type": "stream",
     "text": [
      "100%|██████████| 9/9 [00:00<00:00, 17.06it/s]\n",
      "100%|██████████| 2/2 [00:00<00:00, 10.24it/s]\n",
      "100%|██████████| 9/9 [00:00<00:00, 17.30it/s]\n",
      "100%|██████████| 2/2 [00:00<00:00, 10.35it/s]\n",
      "100%|██████████| 9/9 [00:00<00:00, 17.43it/s]\n",
      "100%|██████████| 2/2 [00:00<00:00, 10.06it/s]\n",
      "100%|██████████| 9/9 [00:00<00:00, 17.07it/s]\n",
      "100%|██████████| 2/2 [00:00<00:00, 10.05it/s]\n",
      "100%|██████████| 9/9 [00:00<00:00, 16.89it/s]\n",
      "100%|██████████| 2/2 [00:00<00:00,  9.26it/s]\n",
      "100%|██████████| 9/9 [00:00<00:00, 16.69it/s]\n",
      "100%|██████████| 2/2 [00:00<00:00,  9.72it/s]\n",
      "100%|██████████| 9/9 [00:00<00:00, 17.74it/s]\n",
      "100%|██████████| 2/2 [00:00<00:00, 10.25it/s]\n",
      "100%|██████████| 9/9 [00:00<00:00, 16.99it/s]\n",
      "100%|██████████| 2/2 [00:00<00:00,  9.68it/s]\n",
      "100%|██████████| 9/9 [00:00<00:00, 17.30it/s]\n",
      "100%|██████████| 2/2 [00:00<00:00,  9.64it/s]\n",
      "100%|██████████| 9/9 [00:00<00:00, 17.36it/s]\n",
      "  0%|          | 0/2 [00:00<?, ?it/s]"
     ]
    },
    {
     "name": "stdout",
     "output_type": "stream",
     "text": [
      "Epoch: 290 (9/9)\n",
      "\tData load time: 0.154 sec\n",
      "\tGeneration time: 0.175 sec\n",
      "\tBackprop time: 0.190 sec\n",
      "\tLog probability: -10.5092 (avg -3.7492)\n",
      "\tKL: 46.3359 (avg 46.9745)\n",
      "\tLoss: 56.8452 (avg 50.7238)\n"
     ]
    },
    {
     "name": "stderr",
     "output_type": "stream",
     "text": [
      "100%|██████████| 2/2 [00:00<00:00,  9.73it/s]\n",
      "  0%|          | 0/9 [00:00<?, ?it/s]"
     ]
    },
    {
     "name": "stdout",
     "output_type": "stream",
     "text": [
      "VALIDATION\n",
      "Epoch: 290 (2/2)\n",
      "\tData load time: 0.139 sec\n",
      "\tGeneration time: 0.159 sec\n",
      "\tLog probability: -2.1331 (avg -2.5933)\n",
      "\tKL: 47.2742 (avg 1111.0459)\n",
      "\tLoss: 49.4072 (avg 1113.6392)\n"
     ]
    },
    {
     "name": "stderr",
     "output_type": "stream",
     "text": [
      "100%|██████████| 9/9 [00:00<00:00, 16.78it/s]\n",
      "100%|██████████| 2/2 [00:00<00:00, 10.44it/s]\n",
      "100%|██████████| 9/9 [00:00<00:00, 17.59it/s]\n",
      "100%|██████████| 2/2 [00:00<00:00, 10.04it/s]\n",
      "100%|██████████| 9/9 [00:00<00:00, 17.23it/s]\n",
      "100%|██████████| 2/2 [00:00<00:00,  9.71it/s]\n",
      "100%|██████████| 9/9 [00:00<00:00, 17.18it/s]\n",
      "100%|██████████| 2/2 [00:00<00:00,  9.93it/s]\n",
      "100%|██████████| 9/9 [00:00<00:00, 16.95it/s]\n",
      "100%|██████████| 2/2 [00:00<00:00, 10.42it/s]\n",
      "100%|██████████| 9/9 [00:00<00:00, 17.19it/s]\n",
      "100%|██████████| 2/2 [00:00<00:00,  9.94it/s]\n",
      "100%|██████████| 9/9 [00:00<00:00, 16.81it/s]\n",
      "100%|██████████| 2/2 [00:00<00:00, 10.04it/s]\n",
      "100%|██████████| 9/9 [00:00<00:00, 17.59it/s]\n",
      "100%|██████████| 2/2 [00:00<00:00,  9.49it/s]\n",
      "100%|██████████| 9/9 [00:00<00:00, 17.10it/s]\n",
      "100%|██████████| 2/2 [00:00<00:00,  9.74it/s]\n",
      "100%|██████████| 9/9 [00:00<00:00, 17.58it/s]\n",
      "  0%|          | 0/2 [00:00<?, ?it/s]"
     ]
    },
    {
     "name": "stdout",
     "output_type": "stream",
     "text": [
      "Epoch: 300 (9/9)\n",
      "\tData load time: 0.149 sec\n",
      "\tGeneration time: 0.172 sec\n",
      "\tBackprop time: 0.189 sec\n",
      "\tLog probability: -10.6175 (avg -5.9663)\n",
      "\tKL: 51.0887 (avg 59.1399)\n",
      "\tLoss: 61.7062 (avg 65.1062)\n"
     ]
    },
    {
     "name": "stderr",
     "output_type": "stream",
     "text": [
      "100%|██████████| 2/2 [00:00<00:00,  9.91it/s]"
     ]
    },
    {
     "name": "stdout",
     "output_type": "stream",
     "text": [
      "VALIDATION\n",
      "Epoch: 300 (2/2)\n",
      "\tData load time: 0.137 sec\n",
      "\tGeneration time: 0.155 sec\n",
      "\tLog probability: -3.8386 (avg -3.2174)\n",
      "\tKL: 242.0179 (avg 148.0683)\n",
      "\tLoss: 245.8565 (avg 151.2857)\n"
     ]
    },
    {
     "name": "stderr",
     "output_type": "stream",
     "text": [
      "\n"
     ]
    }
   ],
   "source": [
    "# Main loop\n",
    "best_loss = np.inf\n",
    "for epoch in range(epochs):\n",
    "\n",
    "    model.train()\n",
    "    scheduler.step()\n",
    "    train_loss, train_kl, train_logp = train_VAE1D(train_dl)\n",
    "    \n",
    "    model.eval()\n",
    "    with torch.no_grad():\n",
    "        val_loss, val_kl, val_logp = train_VAE1D(val_dl)\n",
    "\n",
    "    # Report training progress to user\n",
    "    if val_loss < best_loss:\n",
    "        print('Saving checkpoint..')\n",
    "        best_loss = val_loss\n",
    "        save_dict = {'epoch': epoch + 1,\n",
    "                     'state_dict': model.state_dict(),\n",
    "                     'val_loss': val_loss,\n",
    "                     'optimizer': optimizer.state_dict()}\n",
    "        path = save_path / f'best_model-{n_latent}-{beta}.pt'\n",
    "        torch.save(save_dict, path)\n",
    "        print(f'Lowest validation loss: {best_loss:.4f}')"
   ]
  },
  {
   "cell_type": "code",
   "execution_count": null,
   "metadata": {},
   "outputs": [],
   "source": []
  }
 ],
 "metadata": {
  "kernelspec": {
   "display_name": "Environment (conda_pytorch_p36)",
   "language": "python",
   "name": "conda_pytorch_p36"
  },
  "language_info": {
   "codemirror_mode": {
    "name": "ipython",
    "version": 3
   },
   "file_extension": ".py",
   "mimetype": "text/x-python",
   "name": "python",
   "nbconvert_exporter": "python",
   "pygments_lexer": "ipython3",
   "version": "3.6.5"
  }
 },
 "nbformat": 4,
 "nbformat_minor": 2
}
