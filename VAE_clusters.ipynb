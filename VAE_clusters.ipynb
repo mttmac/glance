{
 "cells": [
  {
   "cell_type": "markdown",
   "metadata": {},
   "source": [
    "# Clustering of the VAE latent space for anomaly detection of diverse time-series sensor data\n",
    "Trained on non-fault data to learn a normal expectation."
   ]
  },
  {
   "cell_type": "markdown",
   "metadata": {},
   "source": [
    "Build the model for 512 time points per cycle with 14 sensors."
   ]
  },
  {
   "cell_type": "code",
   "execution_count": 1,
   "metadata": {},
   "outputs": [],
   "source": [
    "%reload_ext autoreload\n",
    "%autoreload 2\n",
    "%matplotlib inline"
   ]
  },
  {
   "cell_type": "code",
   "execution_count": 255,
   "metadata": {},
   "outputs": [],
   "source": [
    "import matplotlib.pyplot as plt\n",
    "plt.style.use('ggplot')\n",
    "\n",
    "from sklearn.mixture import GaussianMixture \n",
    "from sklearn.decomposition import PCA\n",
    "from scipy.stats import multivariate_normal\n",
    "from sklearn.metrics import roc_auc_score, f1_score, accuracy_score, roc_curve, auc"
   ]
  },
  {
   "cell_type": "code",
   "execution_count": 2,
   "metadata": {},
   "outputs": [],
   "source": [
    "from IPython.core.debugger import set_trace"
   ]
  },
  {
   "cell_type": "code",
   "execution_count": 3,
   "metadata": {},
   "outputs": [
    {
     "data": {
      "text/plain": [
       "device(type='cuda', index=0)"
      ]
     },
     "execution_count": 3,
     "metadata": {},
     "output_type": "execute_result"
    }
   ],
   "source": [
    "from demo import *\n",
    "device"
   ]
  },
  {
   "cell_type": "code",
   "execution_count": 4,
   "metadata": {},
   "outputs": [
    {
     "data": {
      "text/plain": [
       "'accumulator'"
      ]
     },
     "execution_count": 4,
     "metadata": {},
     "output_type": "execute_result"
    }
   ],
   "source": [
    "desc"
   ]
  },
  {
   "cell_type": "code",
   "execution_count": 5,
   "metadata": {},
   "outputs": [
    {
     "name": "stdout",
     "output_type": "stream",
     "text": [
      "Time-series size = 512, number of sensors = 14, latent size = 50\n"
     ]
    }
   ],
   "source": [
    "model = VAE1D(size, n_channels, n_latent)\n",
    "model = model.to(device)\n",
    "print(f\"Time-series size = {size}, number of sensors = {n_channels}, \"\n",
    "      f\"latent size = {n_latent}\")"
   ]
  },
  {
   "cell_type": "markdown",
   "metadata": {},
   "source": [
    "Load the best parameters from training."
   ]
  },
  {
   "cell_type": "code",
   "execution_count": 6,
   "metadata": {},
   "outputs": [
    {
     "name": "stdout",
     "output_type": "stream",
     "text": [
      "Checkpoint Performance:\n",
      "Validation loss: 14.268\n",
      "Epoch: 210\n"
     ]
    }
   ],
   "source": [
    "model = load_checkpoint(model, device)"
   ]
  },
  {
   "cell_type": "markdown",
   "metadata": {},
   "source": [
    "Next we need to load the datasets of sensors readings."
   ]
  },
  {
   "cell_type": "code",
   "execution_count": 8,
   "metadata": {},
   "outputs": [],
   "source": [
    "data_path = Path(f'data/hydraulic/{desc}')\n",
    "train_dl, val_dl, test_dl = load_datasets(data_path)"
   ]
  },
  {
   "cell_type": "code",
   "execution_count": 9,
   "metadata": {},
   "outputs": [
    {
     "name": "stdout",
     "output_type": "stream",
     "text": [
      "27 7 1157\n"
     ]
    }
   ],
   "source": [
    "print(len(train_dl), len(val_dl), len(test_dl))"
   ]
  },
  {
   "cell_type": "markdown",
   "metadata": {},
   "source": [
    "Run model on training set combined with validation set to get latent vectors to use for building clustering model."
   ]
  },
  {
   "cell_type": "code",
   "execution_count": 264,
   "metadata": {},
   "outputs": [
    {
     "name": "stderr",
     "output_type": "stream",
     "text": [
      "100%|██████████| 27/27 [00:04<00:00,  6.06it/s]"
     ]
    },
    {
     "name": "stdout",
     "output_type": "stream",
     "text": [
      "(839, 50)\n"
     ]
    },
    {
     "name": "stderr",
     "output_type": "stream",
     "text": [
      "\n"
     ]
    }
   ],
   "source": [
    "train_latents, targets = compute_latent(train_dl, model)\n",
    "assert np.all(targets == 0), 'Invalid training data - faults present'\n",
    "print(train_latents.shape)"
   ]
  },
  {
   "cell_type": "code",
   "execution_count": 263,
   "metadata": {},
   "outputs": [
    {
     "name": "stderr",
     "output_type": "stream",
     "text": [
      "100%|██████████| 7/7 [00:01<00:00,  4.90it/s]"
     ]
    },
    {
     "name": "stdout",
     "output_type": "stream",
     "text": [
      "(209, 50)\n"
     ]
    },
    {
     "name": "stderr",
     "output_type": "stream",
     "text": [
      "\n"
     ]
    }
   ],
   "source": [
    "val_latents, targets = compute_latent(val_dl, model)\n",
    "assert np.all(targets == 0), 'Invalid training data - faults present'\n",
    "print(val_latents.shape)"
   ]
  },
  {
   "cell_type": "code",
   "execution_count": 265,
   "metadata": {},
   "outputs": [
    {
     "name": "stdout",
     "output_type": "stream",
     "text": [
      "(1048, 50)\n"
     ]
    }
   ],
   "source": [
    "latents = np.vstack([train_latents, val_latents])\n",
    "print(latents.shape)"
   ]
  },
  {
   "cell_type": "markdown",
   "metadata": {},
   "source": [
    "To evaluate the hyperparameter I want to minimize the information criterion as a measure of model efficiency. I prefer the bayesian version over akaike for this because it penalizes complex models more. My intuition is that a simpler clustering will perform better for general cases."
   ]
  },
  {
   "cell_type": "code",
   "execution_count": 266,
   "metadata": {},
   "outputs": [
    {
     "data": {
      "text/plain": [
       "<matplotlib.legend.Legend at 0x7fd734ded8d0>"
      ]
     },
     "execution_count": 266,
     "metadata": {},
     "output_type": "execute_result"
    },
    {
     "data": {
      "image/png": "[encoded data removed]",
      "text/plain": [
       "<Figure size 432x288 with 1 Axes>"
      ]
     },
     "metadata": {},
     "output_type": "display_data"
    }
   ],
   "source": [
    "# Select model based on lowest BIC score\n",
    "aic = []\n",
    "bic = []\n",
    "n_range = range(1, 31)\n",
    "for n in n_range:\n",
    "    gmm = GaussianMixture(n_components=n,\n",
    "                          covariance_type='full',\n",
    "                          random_state=0)\n",
    "    gmm = gmm.fit(latents)\n",
    "    aic.append(gmm.aic(latents)) \n",
    "    bic.append(gmm.bic(latents))\n",
    "plt.plot(n_range, aic, label=\"AIC\")\n",
    "plt.plot(n_range, bic, label='BIC')\n",
    "plt.legend()"
   ]
  },
  {
   "cell_type": "code",
   "execution_count": 269,
   "metadata": {},
   "outputs": [
    {
     "data": {
      "text/plain": [
       "5"
      ]
     },
     "execution_count": 269,
     "metadata": {},
     "output_type": "execute_result"
    }
   ],
   "source": [
    "# Select hyperparameter that minimizes BIC\n",
    "n = n_range[np.argmin(bic)]\n",
    "n"
   ]
  },
  {
   "cell_type": "code",
   "execution_count": 270,
   "metadata": {},
   "outputs": [
    {
     "name": "stdout",
     "output_type": "stream",
     "text": [
      "Minimum probability = 1.0\n"
     ]
    }
   ],
   "source": [
    "# Fit model and make predicts\n",
    "gmm = GaussianMixture(n_components=n,\n",
    "                      covariance_type='full',\n",
    "                      random_state=0)\n",
    "gmm = gmm.fit(latents)\n",
    "cluster = gmm.predict(latents)\n",
    "prob = gmm.predict_proba(latents)\n",
    "print(f'Minimum probability = {prob.max(axis=1).min()}')"
   ]
  },
  {
   "cell_type": "markdown",
   "metadata": {},
   "source": [
    "PCA can be used to visualize the clustering of the training data."
   ]
  },
  {
   "cell_type": "code",
   "execution_count": 271,
   "metadata": {},
   "outputs": [
    {
     "data": {
      "text/plain": [
       "<matplotlib.collections.PathCollection at 0x7fd735fa4c88>"
      ]
     },
     "execution_count": 271,
     "metadata": {},
     "output_type": "execute_result"
    },
    {
     "data": {
      "image/png": "[encoded data removed]",
      "text/plain": [
       "<Figure size 432x288 with 1 Axes>"
      ]
     },
     "metadata": {},
     "output_type": "display_data"
    }
   ],
   "source": [
    "# Project to 2D for plotting\n",
    "pca = PCA(n_components=2)\n",
    "train_pca = pca.fit_transform(latents)\n",
    "\n",
    "plt.scatter(train_pca[:, 0], train_pca[:, 1], c=cluster, cmap='viridis')"
   ]
  },
  {
   "cell_type": "markdown",
   "metadata": {},
   "source": [
    "Let's calculate probabilities on the test dataset to look for an outlier threshold."
   ]
  },
  {
   "cell_type": "code",
   "execution_count": 273,
   "metadata": {},
   "outputs": [
    {
     "name": "stderr",
     "output_type": "stream",
     "text": [
      "100%|██████████| 1157/1157 [00:07<00:00, 153.70it/s]"
     ]
    },
    {
     "name": "stdout",
     "output_type": "stream",
     "text": [
      "(1157, 50)\n",
      "['fail', 'norm']\n"
     ]
    },
    {
     "name": "stderr",
     "output_type": "stream",
     "text": [
      "\n"
     ]
    }
   ],
   "source": [
    "# Use the test set with the anomaly labels as targets\n",
    "test_latents, targets = compute_latent(test_dl, model)\n",
    "print(test_latents.shape)\n",
    "print(test_dl.dataset.classes)"
   ]
  },
  {
   "cell_type": "code",
   "execution_count": 275,
   "metadata": {},
   "outputs": [
    {
     "name": "stdout",
     "output_type": "stream",
     "text": [
      "(5, 50) (5, 50, 50)\n"
     ]
    }
   ],
   "source": [
    "# Manually calculate the probability of each point belonging to a cluster\n",
    "means = gmm.means_\n",
    "covars = gmm.covariances_\n",
    "print(means.shape, covars.shape)\n",
    "\n",
    "probs = np.zeros(test_latents.shape[0])\n",
    "for k in range(means.shape[0]):\n",
    "    probs += multivariate_normal.pdf(test_latents,\n",
    "                                     mean=means[k, :],\n",
    "                                     cov=covars[k, :, :])"
   ]
  },
  {
   "cell_type": "code",
   "execution_count": 276,
   "metadata": {},
   "outputs": [],
   "source": [
    "# Set all zero probabilities to min non-zero probability\n",
    "non_zero = ~(probs == 0)\n",
    "min_prob = probs[non_zero].min()\n",
    "log_probs = probs.copy()\n",
    "log_probs[~non_zero] = min_prob\n",
    "\n",
    "# Calculate the log of probabilities for easier analysis\n",
    "log_probs = np.log(log_probs)"
   ]
  },
  {
   "cell_type": "code",
   "execution_count": 277,
   "metadata": {},
   "outputs": [
    {
     "data": {
      "text/plain": [
       "-209.11090160444948"
      ]
     },
     "execution_count": 277,
     "metadata": {},
     "output_type": "execute_result"
    }
   ],
   "source": [
    "# Average fault log prob\n",
    "log_probs[targets == 0].mean()"
   ]
  },
  {
   "cell_type": "code",
   "execution_count": 278,
   "metadata": {},
   "outputs": [
    {
     "data": {
      "text/plain": [
       "-4.539055323345638"
      ]
     },
     "execution_count": 278,
     "metadata": {},
     "output_type": "execute_result"
    }
   ],
   "source": [
    "# Average normal log prob\n",
    "log_probs[targets == 1].mean()"
   ]
  },
  {
   "cell_type": "markdown",
   "metadata": {},
   "source": [
    "We're on the right track here. The anomalies have a lower log probability on average and the seperation looks to be much better than with MSE. Lets compare the histograms and dive into the accuracy metrics on the test dataset."
   ]
  },
  {
   "cell_type": "code",
   "execution_count": 279,
   "metadata": {},
   "outputs": [
    {
     "name": "stdout",
     "output_type": "stream",
     "text": [
      "Normal\n",
      "95% =  40.581520794898196\n",
      "75% =  31.166292808436104\n",
      "50% =  23.66264753291374\n",
      "25% =  13.631180556487813\n",
      "5% =  -80.87303839273581\n"
     ]
    }
   ],
   "source": [
    "print('Normal')\n",
    "print('95% = ', np.percentile(log_probs[targets == 1], 95))\n",
    "print('75% = ', np.percentile(log_probs[targets == 1], 75))\n",
    "print('50% = ', np.percentile(log_probs[targets == 1], 50))\n",
    "print('25% = ', np.percentile(log_probs[targets == 1], 25))\n",
    "print('5% = ', np.percentile(log_probs[targets == 1], 5))"
   ]
  },
  {
   "cell_type": "code",
   "execution_count": 280,
   "metadata": {},
   "outputs": [
    {
     "name": "stdout",
     "output_type": "stream",
     "text": [
      "Anomaly\n",
      "95% =  28.840389066782212\n",
      "75% =  8.765200391104665\n",
      "50% =  -21.831847575663716\n",
      "25% =  -503.35242731098225\n",
      "5% =  -716.9657855991316\n"
     ]
    }
   ],
   "source": [
    "print('Anomaly')\n",
    "print('95% = ', np.percentile(log_probs[targets == 0], 95))\n",
    "print('75% = ', np.percentile(log_probs[targets == 0], 75))\n",
    "print('50% = ', np.percentile(log_probs[targets == 0], 50))\n",
    "print('25% = ', np.percentile(log_probs[targets == 0], 25))\n",
    "print('5% = ', np.percentile(log_probs[targets == 0], 5))"
   ]
  },
  {
   "cell_type": "code",
   "execution_count": 283,
   "metadata": {},
   "outputs": [
    {
     "data": {
      "text/plain": [
       "<matplotlib.legend.Legend at 0x7fd744157c50>"
      ]
     },
     "execution_count": 283,
     "metadata": {},
     "output_type": "execute_result"
    },
    {
     "data": {
      "image/png": "[encoded data removed]",
      "text/plain": [
       "<Figure size 432x288 with 1 Axes>"
      ]
     },
     "metadata": {},
     "output_type": "display_data"
    }
   ],
   "source": [
    "plt.hist(log_probs[targets == 0], bins=100, label='Anomaly', alpha=0.8)\n",
    "plt.hist(log_probs[targets == 1], bins=100, label='Normal', alpha=0.8)\n",
    "plt.legend()"
   ]
  },
  {
   "cell_type": "code",
   "execution_count": 284,
   "metadata": {},
   "outputs": [],
   "source": [
    "min_threshold = np.percentile(log_probs[targets == 1], 5)\n",
    "max_threshold = np.percentile(log_probs[targets == 1], 95)\n",
    "thresholds = np.linspace(min_threshold, max_threshold, 1000)\n",
    "f1_scores = np.zeros(thresholds.size)\n",
    "auc_scores = np.zeros(thresholds.size)\n",
    "acc_scores = np.zeros(thresholds.size)\n",
    "for i, threshold in enumerate(thresholds):\n",
    "    anomalies = log_probs < threshold\n",
    "    # Must invert targets because fault=0\n",
    "    f1_scores[i] = f1_score(1 - targets, anomalies)\n",
    "    auc_scores[i] = roc_auc_score(1 - targets, anomalies)\n",
    "    acc_scores[i] = accuracy_score(1 - targets, anomalies)"
   ]
  },
  {
   "cell_type": "code",
   "execution_count": 285,
   "metadata": {},
   "outputs": [
    {
     "data": {
      "text/plain": [
       "<matplotlib.legend.Legend at 0x7fd7632999b0>"
      ]
     },
     "execution_count": 285,
     "metadata": {},
     "output_type": "execute_result"
    },
    {
     "data": {
      "image/png": "[encoded data removed]",
      "text/plain": [
       "<Figure size 432x288 with 1 Axes>"
      ]
     },
     "metadata": {},
     "output_type": "display_data"
    }
   ],
   "source": [
    "plt.plot(thresholds, f1_scores, label='F1 score')\n",
    "plt.plot(thresholds, auc_scores, label='AUC score')\n",
    "plt.plot(thresholds, acc_scores, label='Accuracy')\n",
    "plt.ylim([0, 1])\n",
    "plt.legend()"
   ]
  },
  {
   "cell_type": "code",
   "execution_count": 287,
   "metadata": {},
   "outputs": [
    {
     "name": "stdout",
     "output_type": "stream",
     "text": [
      "[20.88618687257916, 11.889552858680347, 19.670425519349592]\n",
      "Average: 17.482055083536366\n"
     ]
    }
   ],
   "source": [
    "best_thresholds = [thresholds[np.argmax(f1_scores)],\n",
    "                   thresholds[np.argmax(auc_scores)],\n",
    "                   thresholds[np.argmax(acc_scores)]]\n",
    "print(best_thresholds)\n",
    "print('Average:', np.mean(best_thresholds))"
   ]
  },
  {
   "cell_type": "markdown",
   "metadata": {},
   "source": [
    "It is necessary to select a threshold without access to labelled target data. The AUC threshold appears to be a good choice because it does better to limit false positives. It corresponds to a 25th percentile limit on the normal log probabilities. Ultimately the end user would have some control over the threshold if nuisance faults were a problem."
   ]
  },
  {
   "cell_type": "code",
   "execution_count": 288,
   "metadata": {},
   "outputs": [
    {
     "data": {
      "text/plain": [
       "Text(0.5,0,'False Positive Rate')"
      ]
     },
     "execution_count": 288,
     "metadata": {},
     "output_type": "execute_result"
    },
    {
     "data": {
      "image/png": "[encoded data removed]",
      "text/plain": [
       "<Figure size 432x288 with 1 Axes>"
      ]
     },
     "metadata": {},
     "output_type": "display_data"
    }
   ],
   "source": [
    "# Plot the ROC curve for visualization of model performance\n",
    "fpr, tpr, roc_thresholds = roc_curve(targets, log_probs)\n",
    "plt.title('Receiver Operating Characteristic')\n",
    "plt.plot(fpr, tpr, 'b', label=f'AUC = {auc(fpr, tpr):0.2f}')\n",
    "plt.legend()\n",
    "plt.plot([0, 1], [0, 1], 'r--')\n",
    "plt.xlim([-0.01, 1])\n",
    "plt.ylim([0, 1.01])\n",
    "plt.ylabel('True Positive Rate')\n",
    "plt.xlabel('False Positive Rate')"
   ]
  },
  {
   "cell_type": "markdown",
   "metadata": {},
   "source": [
    "As a final confirmation of the approach I want to check the metrics on the training dataset alone. Ideally all would classify as normal."
   ]
  },
  {
   "cell_type": "code",
   "execution_count": 292,
   "metadata": {},
   "outputs": [
    {
     "data": {
      "text/plain": [
       "<matplotlib.legend.Legend at 0x7fd7356a84a8>"
      ]
     },
     "execution_count": 292,
     "metadata": {},
     "output_type": "execute_result"
    },
    {
     "data": {
      "image/png": "[encoded data removed]",
      "text/plain": [
       "<Figure size 432x288 with 1 Axes>"
      ]
     },
     "metadata": {},
     "output_type": "display_data"
    }
   ],
   "source": [
    "# Calculate log probabilities on training set\n",
    "train_probs = np.zeros(train_latents.shape[0])\n",
    "for k in range(means.shape[0]):\n",
    "    train_probs += multivariate_normal.pdf(train_latents,\n",
    "                                           mean=means[k, :],\n",
    "                                           cov=covars[k, :, :])\n",
    "train_probs[train_probs == 0] = train_probs[train_probs != 0].min()\n",
    "train_log_probs = np.log(train_probs)\n",
    "\n",
    "# Plot histogram to find reasonable thresholds\n",
    "plt.hist(train_log_probs, bins=100, label='Normal', alpha=0.8)\n",
    "plt.legend()"
   ]
  },
  {
   "cell_type": "code",
   "execution_count": 296,
   "metadata": {},
   "outputs": [
    {
     "data": {
      "text/plain": [
       "<matplotlib.legend.Legend at 0x7fd735384a58>"
      ]
     },
     "execution_count": 296,
     "metadata": {},
     "output_type": "execute_result"
    },
    {
     "data": {
      "image/png": "[encoded data removed]",
      "text/plain": [
       "<Figure size 432x288 with 1 Axes>"
      ]
     },
     "metadata": {},
     "output_type": "display_data"
    }
   ],
   "source": [
    "# Sweep thresholds and calculate metrics\n",
    "train_acc_scores = np.zeros(thresholds.size)\n",
    "for i, threshold in enumerate(np.linspace(-50, 50, 1000)):\n",
    "    anomalies = train_log_probs < threshold\n",
    "    train_acc_scores[i] = accuracy_score(train_targets, anomalies)\n",
    "\n",
    "# Plot performance\n",
    "plt.plot(thresholds, train_acc_scores, label='Accuracy')\n",
    "plt.ylim([0, 1])\n",
    "plt.legend()"
   ]
  },
  {
   "cell_type": "code",
   "execution_count": null,
   "metadata": {},
   "outputs": [],
   "source": []
  }
 ],
 "metadata": {
  "kernelspec": {
   "display_name": "Environment (conda_pytorch_p36)",
   "language": "python",
   "name": "conda_pytorch_p36"
  },
  "language_info": {
   "codemirror_mode": {
    "name": "ipython",
    "version": 3
   },
   "file_extension": ".py",
   "mimetype": "text/x-python",
   "name": "python",
   "nbconvert_exporter": "python",
   "pygments_lexer": "ipython3",
   "version": "3.6.5"
  }
 },
 "nbformat": 4,
 "nbformat_minor": 2
}
