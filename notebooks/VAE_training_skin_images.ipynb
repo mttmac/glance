{
 "cells": [
  {
   "cell_type": "markdown",
   "metadata": {},
   "source": [
    "# Imports"
   ]
  },
  {
   "cell_type": "code",
   "execution_count": 1,
   "metadata": {},
   "outputs": [],
   "source": [
    "%reload_ext autoreload\n",
    "%autoreload 2\n",
    "%matplotlib inline"
   ]
  },
  {
   "cell_type": "code",
   "execution_count": 2,
   "metadata": {},
   "outputs": [],
   "source": [
    "import os, math, time\n",
    "from pathlib import Path\n",
    "from datetime import date\n",
    "\n",
    "import numpy as np\n",
    "import pandas as pd\n",
    "from tqdm import tqdm\n",
    "\n",
    "import torch\n",
    "import torch.nn as nn\n",
    "from torchvision import transforms, datasets\n",
    "from torchvision.utils import make_grid\n",
    "from torch.utils.data import DataLoader\n",
    "\n",
    "from sklearn.metrics import roc_auc_score\n",
    "from itertools import product\n",
    "import scipy.stats as stats"
   ]
  },
  {
   "cell_type": "code",
   "execution_count": 3,
   "metadata": {},
   "outputs": [],
   "source": [
    "from IPython.core.debugger import set_trace"
   ]
  },
  {
   "cell_type": "markdown",
   "metadata": {},
   "source": [
    "# Define a VAE Model\n",
    "Initially designed for 2D input images.\n",
    "Based on this paper: https://arxiv.org/abs/1807.01349"
   ]
  },
  {
   "cell_type": "code",
   "execution_count": 4,
   "metadata": {},
   "outputs": [],
   "source": [
    "depth = 64      # initial depth to convolve channels into\n",
    "n_channels = 3  # number of channels (RGB)\n",
    "filt_size = 4   # convolution filter size\n",
    "stride = 2      # stride for conv\n",
    "pad = 1         # padding added for conv\n",
    "\n",
    "class VAE2D(nn.Module):\n",
    "    def __init__(self, img_size, n_latent=300):\n",
    "        \n",
    "        # Model setup\n",
    "        #############\n",
    "        super(VAE2D, self).__init__()\n",
    "        self.n_latent = n_latent\n",
    "        n = math.log2(img_size)\n",
    "        assert n == round(n), 'Image size must be a power of 2'  # restrict image input sizes permitted\n",
    "        assert n >= 3, 'Image size must be at least 8'           # low dimensional data won't work well\n",
    "        n = int(n)\n",
    "\n",
    "        # Encoder - first half of VAE\n",
    "        #############################\n",
    "        self.encoder = nn.Sequential()  \n",
    "        # input: n_channels x img_size x img_size\n",
    "        # ouput: depth x conv_img_size^2\n",
    "        # conv_img_size = (img_size - filt_size + 2 * pad) / stride + 1\n",
    "        self.encoder.add_module('input-conv', nn.Conv2d(n_channels, depth, filt_size, stride, pad,\n",
    "                                                        bias=True))\n",
    "        self.encoder.add_module('input-relu', nn.ReLU(inplace=True))\n",
    "        \n",
    "        # Add conv layer for each power of 2 over 3 (min size)\n",
    "        # Pyramid strategy with batch normalization added\n",
    "        for i in range(n - 3):\n",
    "            # input: depth x conv_img_size^2\n",
    "            # output: o_depth x conv_img_size^2\n",
    "            # i_depth = o_depth of previous layer\n",
    "            i_depth = depth * 2 ** i\n",
    "            o_depth = depth * 2 ** (i + 1)\n",
    "            self.encoder.add_module(f'pyramid_{i_depth}-{o_depth}_conv',\n",
    "                                    nn.Conv2d(i_depth, o_depth, filt_size, stride, pad, bias=True))\n",
    "            self.encoder.add_module(f'pyramid_{o_depth}_batchnorm',\n",
    "                                    nn.BatchNorm2d(o_depth))\n",
    "            self.encoder.add_module(f'pyramid_{o_depth}_relu',\n",
    "                                    nn.ReLU(inplace=True))\n",
    "        \n",
    "        # Latent representation\n",
    "        #######################\n",
    "        # Convolve the encoded image into the latent space, once for mu and once for logvar\n",
    "        max_depth = depth * 2 ** (n - 3)\n",
    "        self.conv_mu = nn.Conv2d(max_depth, n_latent, filt_size)      # return the mean of the latent space \n",
    "        self.conv_logvar = nn.Conv2d(max_depth, n_latent, filt_size)  # return the log variance of the same\n",
    "        \n",
    "        \n",
    "        # Decoder - second half of VAE\n",
    "        ##############################\n",
    "        self.decoder = nn.Sequential()\n",
    "        # input: max_depth x conv_img_size^2 (8 x 8)\n",
    "        # output: n_latent x conv_img_size^2 (8 x 8)\n",
    "        # default stride=1, pad=0 for this layer\n",
    "        self.decoder.add_module('input-conv', nn.ConvTranspose2d(n_latent, max_depth, filt_size, bias=True))\n",
    "        self.decoder.add_module('input-batchnorm', nn.BatchNorm2d(max_depth))\n",
    "        self.decoder.add_module('input-relu', nn.ReLU(inplace=True))\n",
    "    \n",
    "        # Reverse the convolution pyramids used in the encoder\n",
    "        for i in range(n - 3, 0, -1):\n",
    "            i_depth = depth * 2 ** i\n",
    "            o_depth = depth * 2 ** (i - 1)\n",
    "            self.decoder.add_module(f'pyramid_{i_depth}-{o_depth}_conv',\n",
    "                                    nn.ConvTranspose2d(i_depth, o_depth, filt_size, stride, pad, bias=True))\n",
    "            self.decoder.add_module(f'pyramid_{o_depth}_batchnorm',\n",
    "                                    nn.BatchNorm2d(o_depth))\n",
    "            self.decoder.add_module(f'pyramid_{o_depth}_relu', nn.ReLU(inplace=True))\n",
    "        \n",
    "        # Final transposed convolution to return to img_size\n",
    "        # Final activation is tanh instead of relu to allow negative pixel output\n",
    "        self.decoder.add_module('output-conv', nn.ConvTranspose2d(depth, n_channels,\n",
    "                                                                  filt_size, stride, pad, bias=True))\n",
    "        self.decoder.add_module('output-tanh', nn.Tanh())\n",
    "\n",
    "        # Model weights init\n",
    "        ####################\n",
    "        # Randomly initialize the model weights using kaiming method\n",
    "        # Reference: \"Delving deep into rectifiers: Surpassing human-level\n",
    "        # performance on ImageNet classification\" - He, K. et al. (2015)\n",
    "        for m in self.modules():\n",
    "            if isinstance(m, nn.Conv2d):\n",
    "                nn.init.kaiming_normal_(m.weight, mode='fan_out', nonlinearity='relu')\n",
    "            elif isinstance(m, nn.BatchNorm2d):\n",
    "                nn.init.constant_(m.weight, 1)\n",
    "                nn.init.constant_(m.bias, 0)\n",
    "            elif isinstance(m, nn.Linear):\n",
    "                nn.init.kaiming_normal_(m.weight, mode='fan_out', nonlinearity='relu')\n",
    "\n",
    "    def encode(self, imgs):\n",
    "        \"\"\"\n",
    "        Encode the images into latent space vectors (mean and log variance representation)\n",
    "        input:  imgs   [batch_size, 3, 256, 256]\n",
    "        output: mu     [batch_size, n_latent, 1, 1]\n",
    "                logvar [batch_size, n_latent, 1, 1]\n",
    "        \"\"\"\n",
    "        output = self.encoder(imgs)\n",
    "        output = output.squeeze(-1).squeeze(-1)\n",
    "        return [self.conv_mu(output), self.conv_logvar(output)]\n",
    "\n",
    "    def generate(self, mu, logvar):\n",
    "        \"\"\"\n",
    "        Generates a random latent vector using the trained mean and log variance representation\n",
    "        input:  mu     [batch_size, n_latent, 1, 1]\n",
    "                logvar [batch_size, n_latent, 1, 1]\n",
    "        output: gen    [batch_size, n_latent, 1, 1]\n",
    "        \"\"\"\n",
    "        std = torch.exp(0.5 * logvar)\n",
    "        gen = torch.randn_like(std)\n",
    "        return gen.mul(std).add_(mu)\n",
    "\n",
    "    def decode(self, gen):\n",
    "        \"\"\"\n",
    "        Restores an image representation from the generated latent vector\n",
    "        input:  gen      [batch_size, n_latent, 1, 1]\n",
    "        output: gen_imgs [batch_size, 3, 256, 256]\n",
    "        \"\"\"\n",
    "        return self.decoder(gen)\n",
    "\n",
    "    def forward(self, imgs):\n",
    "        \"\"\"\n",
    "        Generates reconstituted images from input images based on learned representation\n",
    "        input: imgs     [batch_size, 3, 256, 256]\n",
    "        ouput: gen_imgs [batch_size, 3, 256, 256]\n",
    "               mu       [batch_size, n_latent]\n",
    "               logvar   [batch_size, n_latent]\n",
    "        \"\"\"\n",
    "        mu, logvar = self.encode(imgs)\n",
    "        gen = self.generate(mu, logvar)\n",
    "        for tensor in (mu, logvar):\n",
    "            tensor = tensor.squeeze(-1).squeeze(-1)\n",
    "        return self.decode(gen), mu, logvar\n"
   ]
  },
  {
   "cell_type": "markdown",
   "metadata": {},
   "source": [
    "# Define a loss function\n",
    "Must be suitable for anomaly detection by recreation similarity"
   ]
  },
  {
   "cell_type": "code",
   "execution_count": 5,
   "metadata": {},
   "outputs": [],
   "source": [
    "class VAE2DLoss(nn.Module):\n",
    "\n",
    "    def __init__(self, kl_weight=1):\n",
    "        super(VAE2DLoss, self).__init__()\n",
    "        self.kl_weight = kl_weight\n",
    "\n",
    "    def forward(self, gen_imgs, imgs, mu, logvar):\n",
    "        \"\"\"\n",
    "        input:  gen_imgs [batch_size, n_channels, img_size, img_size]\n",
    "                imgs     [batch_size, n_channels, img_size, img_size]\n",
    "                mu       [batch_size, n_latent]\n",
    "                logvar   [batch_size, n_latent]\n",
    "        output: loss      scalar (-ELBO)\n",
    "                loss_desc {'KL': KL, 'logp': gen_err}\n",
    "        \"\"\"\n",
    "        batch_size = imgs.shape[0]\n",
    "        gen_err = (imgs - gen_imgs).pow(2).reshape(batch_size, -1)\n",
    "        gen_err = 0.5 * torch.sum(gen_err, dim=-1)\n",
    "        gen_err = torch.mean(gen_err)\n",
    "\n",
    "        # KL(q || p) = -log_sigma + sigma^2/2 + mu^2/2 - 1/2\n",
    "        KL = (-logvar + logvar.exp() + mu.pow(2) - 1) * 0.5\n",
    "        KL = torch.sum(KL, dim=-1)\n",
    "        KL = torch.mean(KL)\n",
    "\n",
    "        loss = gen_err + self.kl_weight * KL\n",
    "        return loss, {'KL': KL, 'logp': -gen_err}"
   ]
  },
  {
   "cell_type": "markdown",
   "metadata": {},
   "source": [
    "# Load Data"
   ]
  },
  {
   "cell_type": "code",
   "execution_count": 15,
   "metadata": {},
   "outputs": [],
   "source": [
    "def load_datasets(img_size, data_path):\n",
    "    \"\"\"\n",
    "    Load the image datasets from vae_train and vae_test\n",
    "    Transform to correct image size\n",
    "    \"\"\"\n",
    "    \n",
    "    train_path = data_path / 'train/train/'\n",
    "    val_path = data_path / 'train/val/'\n",
    "    test_path = data_path / 'test/'\n",
    "    \n",
    "    norm_args = {'mean': [0.5] * n_channels,\n",
    "                 'std': [0.5] * n_channels}\n",
    "    jitter_args = {'brightness': 0.1,\n",
    "                   'contrast': 0.1,\n",
    "                   'saturation': 0.1}  # hue unchanged\n",
    "    \n",
    "    train_transform = transforms.Compose([\n",
    "        transforms.Resize(img_size),\n",
    "        transforms.RandomCrop(img_size),          # vary horizontal position\n",
    "        transforms.RandomHorizontalFlip(p=0.25),  # vary photo orientation\n",
    "        transforms.RandomVerticalFlip(p=0.25),\n",
    "        transforms.ColorJitter(**jitter_args),    # vary photo lighting\n",
    "        transforms.ToTensor(),\n",
    "        transforms.Normalize(**norm_args)])\n",
    "    \n",
    "    test_transform = transforms.Compose([\n",
    "        transforms.Resize(img_size),\n",
    "        transforms.CenterCrop(img_size),  # assume center is most important\n",
    "        transforms.ToTensor(),\n",
    "        transforms.Normalize(**norm_args)])\n",
    "\n",
    "    train_ds = datasets.ImageFolder(train_path, train_transform)\n",
    "    val_ds = datasets.ImageFolder(val_path, test_transform)\n",
    "    test_ds = datasets.ImageFolder(test_path, test_transform)\n",
    "    \n",
    "    loader_args = {'shuffle': True,\n",
    "                   'num_workers': 4}\n",
    "    train_dl = torch.utils.data.DataLoader(train_ds, batch_size=batch_size, **loader_args)\n",
    "    val_dl = torch.utils.data.DataLoader(val_ds, batch_size=batch_size, **loader_args)\n",
    "    test_dl = torch.utils.data.DataLoader(test_ds, batch_size=1, ** loader_args)\n",
    "    \n",
    "    return train_dl, val_dl, test_dl"
   ]
  },
  {
   "cell_type": "code",
   "execution_count": 16,
   "metadata": {},
   "outputs": [],
   "source": [
    "# Model/Data parameters\n",
    "desc = 'skin'\n",
    "data_path = Path('data/NV_outlier/')\n",
    "img_size = 128\n",
    "n_channels = 3\n",
    "\n",
    "# Training parameters\n",
    "epochs = 40\n",
    "lr = 1e-4                # learning rate\n",
    "lr_decay = 0.1           # lr decay factor\n",
    "kl_weight = 0.01         # weighted factor of the KL term\n",
    "schedule = [10, 20, 30]  # decrease lr at these epochs\n",
    "batch_size = 32\n",
    "device = torch.device(\"cuda:0\" if torch.cuda.is_available() else \"cpu\")\n",
    "\n",
    "# Checkpoints/Logging parameters\n",
    "save_path = Path(f\"models/{date.today().strftime('%y%m%d')}-{desc}/\")\n",
    "# checkpoint to resume from (default None)\n",
    "load_path = Path('models/190124-skin/best_model.pth.tar')\n",
    "log_freq = 10            # print status after this many batches"
   ]
  },
  {
   "cell_type": "code",
   "execution_count": 17,
   "metadata": {},
   "outputs": [
    {
     "data": {
      "text/plain": [
       "PosixPath('models/190127-skin')"
      ]
     },
     "execution_count": 17,
     "metadata": {},
     "output_type": "execute_result"
    }
   ],
   "source": [
    "save_path"
   ]
  },
  {
   "cell_type": "code",
   "execution_count": 18,
   "metadata": {},
   "outputs": [],
   "source": [
    "train_dl, val_dl, test_dl = load_datasets(img_size, data_path)"
   ]
  },
  {
   "cell_type": "code",
   "execution_count": 19,
   "metadata": {},
   "outputs": [
    {
     "name": "stdout",
     "output_type": "stream",
     "text": [
      "6370 339 209\n"
     ]
    }
   ],
   "source": [
    "print(len(train_dl), len(val_dl), len(test_dl))"
   ]
  },
  {
   "cell_type": "code",
   "execution_count": 24,
   "metadata": {},
   "outputs": [
    {
     "data": {
      "text/plain": [
       "torch.Size([3, 128, 128])"
      ]
     },
     "execution_count": 24,
     "metadata": {},
     "output_type": "execute_result"
    }
   ],
   "source": [
    "train_dl[0][0].shape"
   ]
  },
  {
   "cell_type": "markdown",
   "metadata": {},
   "source": [
    "# Build the Model"
   ]
  },
  {
   "cell_type": "code",
   "execution_count": 15,
   "metadata": {},
   "outputs": [
    {
     "name": "stdout",
     "output_type": "stream",
     "text": [
      "Checkpoint loaded\n",
      "Validation loss: 148.0490126176314\n",
      "Epoch: 33\n"
     ]
    }
   ],
   "source": [
    "# Create model\n",
    "model = VAE2D(img_size)\n",
    "\n",
    "# Load optimizer and scheduler\n",
    "optimizer = torch.optim.Adam(params=model.parameters(), lr=lr)\n",
    "scheduler = torch.optim.lr_scheduler.MultiStepLR(optimizer, schedule, lr_decay)\n",
    "\n",
    "# Load checkpoint if any\n",
    "if load_path is not None:\n",
    "    checkpoint = torch.load(load_path, map_location=device)\n",
    "    model.load_state_dict(checkpoint['state_dict'])\n",
    "    optimizer.load_state_dict(checkpoint['optimizer'])\n",
    "    print(\"Checkpoint loaded\")\n",
    "    print(f\"Validation loss: {checkpoint['val_loss']}\")\n",
    "    print(f\"Epoch: {checkpoint['epoch']}\")\n",
    "\n",
    "# Set loss criterion\n",
    "criterion = VAE2DLoss(kl_weight=kl_weight)\n",
    "\n",
    "# Move to GPU\n",
    "model = model.to(device)\n",
    "criterion = criterion.to(device)"
   ]
  },
  {
   "cell_type": "markdown",
   "metadata": {},
   "source": [
    "# Train the Model"
   ]
  },
  {
   "cell_type": "code",
   "execution_count": 13,
   "metadata": {},
   "outputs": [
    {
     "name": "stdout",
     "output_type": "stream",
     "text": [
      "Folder models/190124-skin already exists\n"
     ]
    }
   ],
   "source": [
    "# Make save directory\n",
    "if save_path.is_dir():\n",
    "    print(f\"Folder {save_path} already exists\")\n",
    "else:\n",
    "    os.mkdir(save_path)"
   ]
  },
  {
   "cell_type": "code",
   "execution_count": null,
   "metadata": {},
   "outputs": [],
   "source": [
    "# Convenience classes\n",
    "class StopWatch(object):\n",
    "    def __init__(self):\n",
    "        self.reset()\n",
    "        \n",
    "    def reset(self):\n",
    "        self.start = time.time()\n",
    "        self.lap_start = time.time()\n",
    "        self.elapsed = []\n",
    "    \n",
    "    def lap(self):\n",
    "        self.elapsed.append(time.time() - self.lap_start)\n",
    "    \n",
    "class AvgTracker(object):\n",
    "    def __init__(self):\n",
    "        self.reset()\n",
    "\n",
    "    def reset(self):\n",
    "        self.val = 0\n",
    "        self.sum = 0\n",
    "        self.avg = 0\n",
    "        self.cnt = 0\n",
    "\n",
    "    def update(self, val):\n",
    "        self.val = val\n",
    "        self.sum += val\n",
    "        self.cnt += 1\n",
    "        self.avg = self.sum / self.cnt"
   ]
  },
  {
   "cell_type": "code",
   "execution_count": null,
   "metadata": {},
   "outputs": [],
   "source": [
    "def trainVAE2D(dl):\n",
    "    loss_tracker = AvgTracker()\n",
    "    kl_tracker = AvgTracker()\n",
    "    logp_tracker = AvgTracker()\n",
    "    timer = StopWatch()\n",
    "    \n",
    "    for i, (X, _) in tqdm(enumerate(dl)):\n",
    "        \n",
    "        X = X.to(device)\n",
    "        timer.lap()  # load time\n",
    "        \n",
    "        # Generate images and compute loss\n",
    "        X_hat, mu, logvar = model(X)\n",
    "        loss, loss_desc = criterion(X_hat, X, mu, logvar)\n",
    "        timer.lap()  # gen time\n",
    "        \n",
    "        loss_tracker.update(loss.item())\n",
    "        kl_tracker.update(loss_desc['KL'].item())\n",
    "        logp_tracker.update(loss_desc['logp'].item())\n",
    "        \n",
    "        if model.training:\n",
    "            # Update weights\n",
    "            optimizer.zero_grad()\n",
    "            loss.backward()\n",
    "            optimizer.step()\n",
    "            timer.lap()  # backprop time\n",
    "        \n",
    "        if (i + 1) % log_freq == 0:\n",
    "            # Print progress\n",
    "            print(f'Epoch: {epoch + 1} ({i + 1}/{len(dl)})')\n",
    "            print(f'\\tData load time: {timer.elapsed[0]:.3f} sec')\n",
    "            print(f'\\tGeneration time: {timer.elapsed[1]:.3f} sec')\n",
    "            if model.training:\n",
    "                print(f'\\tBackprop time: {timer.elapsed[2]:.3f} sec')\n",
    "            print(f'\\tLog probability: {logp_tracker.val:.4f} '\n",
    "                  f'(avg {logp_tracker.avg:.4f})')\n",
    "            print(f'\\tKL: {kl_tracker.val:.4f} (avg {kl_tracker.avg:.4f})')\n",
    "            print(f'\\tLoss: {loss_tracker.val:.4f} (avg {loss_tracker.avg:.4f})')\n",
    "\n",
    "    return loss_tracker.avg, kl_tracker.avg, logp_tracker.avg"
   ]
  },
  {
   "cell_type": "code",
   "execution_count": null,
   "metadata": {},
   "outputs": [],
   "source": [
    "# Main loop\n",
    "best_loss = np.inf\n",
    "for epoch in range(epochs):\n",
    "\n",
    "    model.train()\n",
    "    scheduler.step()\n",
    "    train_loss, train_kl, train_logp = trainVAE2D(train_dl)\n",
    "    \n",
    "    model.eval()\n",
    "    with torch.no_grad():\n",
    "        val_loss, val_kl, val_logp = trainVAE2D(val_dl)\n",
    "\n",
    "    # Report training progress to user\n",
    "    print(f'Lowest validation loss: {best_loss:.4f}')\n",
    "    if val_loss < best_loss:\n",
    "        print('Saving checkpoint..')\n",
    "        best_loss = val_loss\n",
    "        save_dict = {'epoch': epoch + 1,\n",
    "                     'state_dict': model.state_dict(),\n",
    "                     'val_loss': val_loss,\n",
    "                     'optimizer': optimizer.state_dict()}\n",
    "        path = save_path / 'best_model.pth.tar'\n",
    "        torch.save(save_dict, path)\n",
    "    "
   ]
  },
  {
   "cell_type": "markdown",
   "metadata": {},
   "source": [
    "### ADD VISUALIZATIONS"
   ]
  },
  {
   "cell_type": "code",
   "execution_count": null,
   "metadata": {},
   "outputs": [],
   "source": [
    "# Visualize generated images and input sample images\n",
    "with torch.no_grad():\n",
    "\n",
    "    val_iter = iter(val_dl)\n",
    "\n",
    "    # Generate 25 images\n",
    "    imgs = val_iter._get_batch()[1][0][:25]\n",
    "    imgs = imgs.to(device)\n",
    "    gen_imgs, mu, logvar = model(imgs)\n",
    "    \n",
    "    # Scale images back to 0-1\n",
    "    imgs = (imgs + 1) / 2\n",
    "    grid = make_grid(imgs, nrow=5, padding=20)\n",
    "    gen_imgs = (gen_imgs + 1) / 2\n",
    "    gen_grid = make_grid(gen_imgs, nrow=5, padding=20)\n",
    "    "
   ]
  },
  {
   "cell_type": "code",
   "execution_count": null,
   "metadata": {},
   "outputs": [],
   "source": [
    "import matplotlib.pyplot as plt\n",
    "grid = grid.cpu()\n",
    "gen_grid = gen_grid.cpu()"
   ]
  },
  {
   "cell_type": "code",
   "execution_count": null,
   "metadata": {},
   "outputs": [],
   "source": [
    "plt.imshow(grid.permute(1, 2, 0))"
   ]
  },
  {
   "cell_type": "code",
   "execution_count": null,
   "metadata": {},
   "outputs": [],
   "source": [
    "plt.imshow(gen_grid.permute(1, 2, 0))"
   ]
  },
  {
   "cell_type": "code",
   "execution_count": null,
   "metadata": {},
   "outputs": [],
   "source": [
    "mu = mu.cpu()\n",
    "std = (0.5 * logvar).exp().cpu()"
   ]
  },
  {
   "cell_type": "code",
   "execution_count": null,
   "metadata": {},
   "outputs": [],
   "source": [
    "for i in np.random.choice(range(mu.shape[0]), 5):\n",
    "    plt.figure()\n",
    "    mu_eg = mu[i, :].squeeze(-1).squeeze(-1)\n",
    "    plt.plot(mu_eg.numpy())\n",
    "    plt.figure()\n",
    "    std_eg = std[i, :].squeeze(-1).squeeze(-1)\n",
    "    plt.plot(std_eg.numpy())"
   ]
  },
  {
   "cell_type": "code",
   "execution_count": null,
   "metadata": {},
   "outputs": [],
   "source": [
    "with torch.no_grad():\n",
    "    # Generate some random images\n",
    "    noises = torch.randn(25, model.n_latent, 1, 1)\n",
    "    noises = noises.to(device)\n",
    "    samples = model.decode(noises)\n",
    "    \n",
    "    samples = (samples + 1) / 2\n",
    "    sample_grid = make_grid(samples, nrow=5, padding=20).cpu()\n",
    "    \n",
    "    plt.imshow(sample_grid.permute(1, 2, 0))  # easy way to swapaxes"
   ]
  }
 ],
 "metadata": {
  "kernelspec": {
   "display_name": "Environment (conda_pytorch_p36)",
   "language": "python",
   "name": "conda_pytorch_p36"
  },
  "language_info": {
   "codemirror_mode": {
    "name": "ipython",
    "version": 3
   },
   "file_extension": ".py",
   "mimetype": "text/x-python",
   "name": "python",
   "nbconvert_exporter": "python",
   "pygments_lexer": "ipython3",
   "version": "3.6.5"
  }
 },
 "nbformat": 4,
 "nbformat_minor": 2
}
