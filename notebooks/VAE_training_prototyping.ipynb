{
 "cells": [
  {
   "cell_type": "markdown",
   "metadata": {},
   "source": [
    "# Imports"
   ]
  },
  {
   "cell_type": "code",
   "execution_count": 3,
   "metadata": {},
   "outputs": [],
   "source": [
    "%reload_ext autoreload\n",
    "%autoreload 2\n",
    "%matplotlib inline"
   ]
  },
  {
   "cell_type": "code",
   "execution_count": 4,
   "metadata": {},
   "outputs": [],
   "source": [
    "from VAE1D import *"
   ]
  },
  {
   "cell_type": "code",
   "execution_count": 5,
   "metadata": {},
   "outputs": [],
   "source": [
    "from IPython.core.debugger import set_trace"
   ]
  },
  {
   "cell_type": "markdown",
   "metadata": {},
   "source": [
    "# Build model and loss function \n",
    "Initially designed for 2D input images, modified for 1D time-series data.\n",
    "Based on this paper: https://arxiv.org/abs/1807.01349"
   ]
  },
  {
   "cell_type": "code",
   "execution_count": 6,
   "metadata": {},
   "outputs": [],
   "source": [
    "# The hydraulic system has 14 sensors from which to pull data\n",
    "n_channels = 14\n",
    "# The data has been resized to 512, although it represents 1 min for each cycle\n",
    "size = 512\n",
    "# Latent space is restricted to be about 1/170th of the input dims, similar to 2D case\n",
    "n_latent = 50"
   ]
  },
  {
   "cell_type": "code",
   "execution_count": 7,
   "metadata": {},
   "outputs": [
    {
     "data": {
      "text/plain": [
       "VAE1D(\n",
       "  (encoder): Sequential(\n",
       "    (input-conv): Conv1d(14, 16, kernel_size=(4,), stride=(2,), padding=(1,))\n",
       "    (input-relu): ReLU(inplace)\n",
       "    (pyramid_16-32_conv): Conv1d(16, 32, kernel_size=(4,), stride=(2,), padding=(1,))\n",
       "    (pyramid_32_batchnorm): BatchNorm1d(32, eps=1e-05, momentum=0.1, affine=True, track_running_stats=True)\n",
       "    (pyramid_32_relu): ReLU(inplace)\n",
       "    (pyramid_32-64_conv): Conv1d(32, 64, kernel_size=(4,), stride=(2,), padding=(1,))\n",
       "    (pyramid_64_batchnorm): BatchNorm1d(64, eps=1e-05, momentum=0.1, affine=True, track_running_stats=True)\n",
       "    (pyramid_64_relu): ReLU(inplace)\n",
       "    (pyramid_64-128_conv): Conv1d(64, 128, kernel_size=(4,), stride=(2,), padding=(1,))\n",
       "    (pyramid_128_batchnorm): BatchNorm1d(128, eps=1e-05, momentum=0.1, affine=True, track_running_stats=True)\n",
       "    (pyramid_128_relu): ReLU(inplace)\n",
       "    (pyramid_128-256_conv): Conv1d(128, 256, kernel_size=(4,), stride=(2,), padding=(1,))\n",
       "    (pyramid_256_batchnorm): BatchNorm1d(256, eps=1e-05, momentum=0.1, affine=True, track_running_stats=True)\n",
       "    (pyramid_256_relu): ReLU(inplace)\n",
       "    (pyramid_256-512_conv): Conv1d(256, 512, kernel_size=(4,), stride=(2,), padding=(1,))\n",
       "    (pyramid_512_batchnorm): BatchNorm1d(512, eps=1e-05, momentum=0.1, affine=True, track_running_stats=True)\n",
       "    (pyramid_512_relu): ReLU(inplace)\n",
       "    (pyramid_512-1024_conv): Conv1d(512, 1024, kernel_size=(4,), stride=(2,), padding=(1,))\n",
       "    (pyramid_1024_batchnorm): BatchNorm1d(1024, eps=1e-05, momentum=0.1, affine=True, track_running_stats=True)\n",
       "    (pyramid_1024_relu): ReLU(inplace)\n",
       "  )\n",
       "  (conv_mu): Conv1d(1024, 50, kernel_size=(4,), stride=(1,))\n",
       "  (conv_logvar): Conv1d(1024, 50, kernel_size=(4,), stride=(1,))\n",
       "  (decoder): Sequential(\n",
       "    (input-conv): ConvTranspose1d(50, 1024, kernel_size=(4,), stride=(1,))\n",
       "    (input-batchnorm): BatchNorm1d(1024, eps=1e-05, momentum=0.1, affine=True, track_running_stats=True)\n",
       "    (input-relu): ReLU(inplace)\n",
       "    (pyramid_1024-512_conv): ConvTranspose1d(1024, 512, kernel_size=(4,), stride=(2,), padding=(1,))\n",
       "    (pyramid_512_batchnorm): BatchNorm1d(512, eps=1e-05, momentum=0.1, affine=True, track_running_stats=True)\n",
       "    (pyramid_512_relu): ReLU(inplace)\n",
       "    (pyramid_512-256_conv): ConvTranspose1d(512, 256, kernel_size=(4,), stride=(2,), padding=(1,))\n",
       "    (pyramid_256_batchnorm): BatchNorm1d(256, eps=1e-05, momentum=0.1, affine=True, track_running_stats=True)\n",
       "    (pyramid_256_relu): ReLU(inplace)\n",
       "    (pyramid_256-128_conv): ConvTranspose1d(256, 128, kernel_size=(4,), stride=(2,), padding=(1,))\n",
       "    (pyramid_128_batchnorm): BatchNorm1d(128, eps=1e-05, momentum=0.1, affine=True, track_running_stats=True)\n",
       "    (pyramid_128_relu): ReLU(inplace)\n",
       "    (pyramid_128-64_conv): ConvTranspose1d(128, 64, kernel_size=(4,), stride=(2,), padding=(1,))\n",
       "    (pyramid_64_batchnorm): BatchNorm1d(64, eps=1e-05, momentum=0.1, affine=True, track_running_stats=True)\n",
       "    (pyramid_64_relu): ReLU(inplace)\n",
       "    (pyramid_64-32_conv): ConvTranspose1d(64, 32, kernel_size=(4,), stride=(2,), padding=(1,))\n",
       "    (pyramid_32_batchnorm): BatchNorm1d(32, eps=1e-05, momentum=0.1, affine=True, track_running_stats=True)\n",
       "    (pyramid_32_relu): ReLU(inplace)\n",
       "    (pyramid_32-16_conv): ConvTranspose1d(32, 16, kernel_size=(4,), stride=(2,), padding=(1,))\n",
       "    (pyramid_16_batchnorm): BatchNorm1d(16, eps=1e-05, momentum=0.1, affine=True, track_running_stats=True)\n",
       "    (pyramid_16_relu): ReLU(inplace)\n",
       "    (output-conv): ConvTranspose1d(16, 14, kernel_size=(4,), stride=(2,), padding=(1,))\n",
       "  )\n",
       ")"
      ]
     },
     "execution_count": 7,
     "metadata": {},
     "output_type": "execute_result"
    }
   ],
   "source": [
    "model = VAE1D(size, n_channels, n_latent)\n",
    "model"
   ]
  },
  {
   "cell_type": "code",
   "execution_count": 8,
   "metadata": {},
   "outputs": [],
   "source": [
    "beta = 10  # KL term relative weight\n",
    "criterion = VAE1DLoss(beta)"
   ]
  },
  {
   "cell_type": "markdown",
   "metadata": {},
   "source": [
    "# Load hydraulic test data\n",
    "From this dataset: https://archive.ics.uci.edu/ml/datasets/Condition+monitoring+of+hydraulic+systems#"
   ]
  },
  {
   "cell_type": "code",
   "execution_count": 9,
   "metadata": {},
   "outputs": [],
   "source": [
    "data_path = Path('data/hydraulic')\n",
    "train_dl, val_dl, test_dl = load_datasets(data_path)"
   ]
  },
  {
   "cell_type": "code",
   "execution_count": 10,
   "metadata": {},
   "outputs": [
    {
     "name": "stdout",
     "output_type": "stream",
     "text": [
      "38 10 720\n"
     ]
    }
   ],
   "source": [
    "print(len(train_dl), len(val_dl), len(test_dl))"
   ]
  },
  {
   "cell_type": "markdown",
   "metadata": {},
   "source": [
    "# Prepare for training"
   ]
  },
  {
   "cell_type": "code",
   "execution_count": 11,
   "metadata": {},
   "outputs": [
    {
     "data": {
      "text/plain": [
       "PosixPath('models/190129-hydraulic')"
      ]
     },
     "execution_count": 11,
     "metadata": {},
     "output_type": "execute_result"
    }
   ],
   "source": [
    "desc = 'hydraulic'\n",
    "log_freq = 10 # batches\n",
    "\n",
    "# Training parameters\n",
    "epochs = 100\n",
    "lr = 1e-2                # learning rate\n",
    "lr_decay = 0.1           # lr decay factor\n",
    "schedule = [25, 50, 75]  # decrease lr at these epochs\n",
    "batch_size = 32\n",
    "device = torch.device(\"cuda:0\" if torch.cuda.is_available() else \"cpu\")\n",
    "\n",
    "# Checkpoint to resume from (default None)\n",
    "load_path = None\n",
    "\n",
    "# Checkpoint save location\n",
    "save_path = Path(f\"models/{date.today().strftime('%y%m%d')}-{desc}/\")\n",
    "if save_path.is_dir():\n",
    "    print(f\"Folder {save_path} already exists\")\n",
    "else:\n",
    "    os.mkdir(save_path)\n",
    "save_path"
   ]
  },
  {
   "cell_type": "code",
   "execution_count": 18,
   "metadata": {},
   "outputs": [],
   "source": [
    "# Load checkpoint if any\n",
    "if load_path is not None:\n",
    "    checkpoint = torch.load(load_path, map_location=device)\n",
    "    model.load_state_dict(checkpoint['state_dict'])\n",
    "    optimizer.load_state_dict(checkpoint['optimizer'])\n",
    "    print(\"Checkpoint loaded\")\n",
    "    print(f\"Validation loss: {checkpoint['val_loss']}\")\n",
    "    print(f\"Epoch: {checkpoint['epoch']}\")"
   ]
  },
  {
   "cell_type": "code",
   "execution_count": 12,
   "metadata": {},
   "outputs": [],
   "source": [
    "# Load optimizer and scheduler\n",
    "optimizer = torch.optim.Adam(params=model.parameters(), lr=lr)\n",
    "# scheduler = torch.optim.lr_scheduler.MultiStepLR(optimizer, schedule, lr_decay)\n",
    "scheduler = torch.optim.lr_scheduler.CosineAnnealingLR(optimizer, 10)"
   ]
  },
  {
   "cell_type": "code",
   "execution_count": 13,
   "metadata": {},
   "outputs": [],
   "source": [
    "# Move to GPU\n",
    "model = model.to(device)\n",
    "criterion = criterion.to(device)"
   ]
  },
  {
   "cell_type": "markdown",
   "metadata": {},
   "source": [
    "# Train the model"
   ]
  },
  {
   "cell_type": "code",
   "execution_count": 15,
   "metadata": {},
   "outputs": [],
   "source": [
    "def train_VAE1D(dl):\n",
    "    \"\"\"\n",
    "    Execute the training loop\n",
    "    \"\"\"\n",
    "    loss_tracker = AvgTracker()\n",
    "    kl_tracker = AvgTracker()\n",
    "    logp_tracker = AvgTracker()\n",
    "    timer = StopWatch()\n",
    "    \n",
    "    for i, (X, _) in enumerate(tqdm(dl)):\n",
    "        \n",
    "        X = X.to(device)\n",
    "        timer.lap()  # load time\n",
    "        \n",
    "        # Generate transient and compute loss\n",
    "        X_hat, mu, logvar = model(X)\n",
    "        loss, loss_desc = criterion(X_hat, X, mu, logvar)\n",
    "        timer.lap()  # gen time\n",
    "        \n",
    "        loss_tracker.update(loss.item())\n",
    "        kl_tracker.update(loss_desc['KL'].item())\n",
    "        logp_tracker.update(loss_desc['logp'].item())\n",
    "        \n",
    "        if model.training:\n",
    "            # Update weights\n",
    "            optimizer.zero_grad()\n",
    "            loss.backward()\n",
    "            optimizer.step()\n",
    "            timer.lap()  # backprop time\n",
    "        \n",
    "        if (i + 1) % log_freq == 0:\n",
    "            # Print progress\n",
    "            print(f'Epoch: {epoch + 1} ({i + 1}/{len(dl)})')\n",
    "            print(f'\\tData load time: {timer.elapsed[0]:.3f} sec')\n",
    "            print(f'\\tGeneration time: {timer.elapsed[1]:.3f} sec')\n",
    "            if model.training:\n",
    "                print(f'\\tBackprop time: {timer.elapsed[2]:.3f} sec')\n",
    "            print(f'\\tLog probability: {logp_tracker.val:.4f} '\n",
    "                  f'(avg {logp_tracker.avg:.4f})')\n",
    "            print(f'\\tKL: {kl_tracker.val:.4f} (avg {kl_tracker.avg:.4f})')\n",
    "            print(f'\\tLoss: {loss_tracker.val:.4f} (avg {loss_tracker.avg:.4f})')\n",
    "\n",
    "    return loss_tracker.avg, kl_tracker.avg, logp_tracker.avg"
   ]
  },
  {
   "cell_type": "code",
   "execution_count": 16,
   "metadata": {},
   "outputs": [
    {
     "name": "stderr",
     "output_type": "stream",
     "text": [
      " 32%|███▏      | 12/38 [00:00<00:02, 12.40it/s]"
     ]
    },
    {
     "name": "stdout",
     "output_type": "stream",
     "text": [
      "Epoch: 1 (10/38)\n",
      "\tData load time: 0.139 sec\n",
      "\tGeneration time: 0.162 sec\n",
      "\tBackprop time: 0.189 sec\n",
      "\tLog probability: -861.2078 (avg -1047.5210)\n",
      "\tKL: 222.1888 (avg 136883.9179)\n",
      "\tLoss: 3083.0959 (avg 1369886.7162)\n"
     ]
    },
    {
     "name": "stderr",
     "output_type": "stream",
     "text": [
      " 63%|██████▎   | 24/38 [00:01<00:00, 20.14it/s]"
     ]
    },
    {
     "name": "stdout",
     "output_type": "stream",
     "text": [
      "Epoch: 1 (20/38)\n",
      "\tData load time: 0.139 sec\n",
      "\tGeneration time: 0.162 sec\n",
      "\tBackprop time: 0.189 sec\n",
      "\tLog probability: -682.0975 (avg -912.2179)\n",
      "\tKL: 161.0796 (avg 68535.5555)\n",
      "\tLoss: 2292.8936 (avg 686267.7805)\n"
     ]
    },
    {
     "name": "stderr",
     "output_type": "stream",
     "text": [
      " 87%|████████▋ | 33/38 [00:01<00:00, 23.44it/s]"
     ]
    },
    {
     "name": "stdout",
     "output_type": "stream",
     "text": [
      "Epoch: 1 (30/38)\n",
      "\tData load time: 0.139 sec\n",
      "\tGeneration time: 0.162 sec\n",
      "\tBackprop time: 0.189 sec\n",
      "\tLog probability: -558.0461 (avg -807.6212)\n",
      "\tKL: 137.1817 (avg 45740.1923)\n",
      "\tLoss: 1929.8633 (avg 458209.5496)\n"
     ]
    },
    {
     "name": "stderr",
     "output_type": "stream",
     "text": [
      "100%|██████████| 38/38 [00:01<00:00, 21.61it/s]\n",
      "100%|██████████| 10/10 [00:00<00:00, 30.50it/s]\n",
      "  0%|          | 0/38 [00:00<?, ?it/s]"
     ]
    },
    {
     "name": "stdout",
     "output_type": "stream",
     "text": [
      "Epoch: 1 (10/10)\n",
      "\tData load time: 0.139 sec\n",
      "\tGeneration time: 0.147 sec\n",
      "\tLog probability: -329.7275 (avg -402.1131)\n",
      "\tKL: 92.3061 (avg 118.2978)\n",
      "\tLoss: 1252.7885 (avg 1585.0907)\n",
      "Saving checkpoint..\n",
      "Lowest validation loss: 1585.0907\n"
     ]
    },
    {
     "name": "stderr",
     "output_type": "stream",
     "text": [
      " 34%|███▍      | 13/38 [00:00<00:01, 14.73it/s]"
     ]
    },
    {
     "name": "stdout",
     "output_type": "stream",
     "text": [
      "Epoch: 2 (10/38)\n",
      "\tData load time: 0.130 sec\n",
      "\tGeneration time: 0.142 sec\n",
      "\tBackprop time: 0.163 sec\n",
      "\tLog probability: -375.8016 (avg -414.7160)\n",
      "\tKL: 132.7370 (avg 117.4302)\n",
      "\tLoss: 1703.1719 (avg 1589.0179)\n"
     ]
    },
    {
     "name": "stderr",
     "output_type": "stream",
     "text": [
      " 66%|██████▌   | 25/38 [00:01<00:00, 22.19it/s]"
     ]
    },
    {
     "name": "stdout",
     "output_type": "stream",
     "text": [
      "Epoch: 2 (20/38)\n",
      "\tData load time: 0.130 sec\n",
      "\tGeneration time: 0.142 sec\n",
      "\tBackprop time: 0.163 sec\n",
      "\tLog probability: -380.1550 (avg -385.6369)\n",
      "\tKL: 97.1211 (avg 111.2401)\n",
      "\tLoss: 1351.3661 (avg 1498.0381)\n"
     ]
    },
    {
     "name": "stderr",
     "output_type": "stream",
     "text": [
      " 89%|████████▉ | 34/38 [00:01<00:00, 24.62it/s]"
     ]
    },
    {
     "name": "stdout",
     "output_type": "stream",
     "text": [
      "Epoch: 2 (30/38)\n",
      "\tData load time: 0.130 sec\n",
      "\tGeneration time: 0.142 sec\n",
      "\tBackprop time: 0.163 sec\n",
      "\tLog probability: -252.7763 (avg -352.5581)\n",
      "\tKL: 88.2504 (avg 102.8601)\n",
      "\tLoss: 1135.2806 (avg 1381.1587)\n"
     ]
    },
    {
     "name": "stderr",
     "output_type": "stream",
     "text": [
      "100%|██████████| 38/38 [00:01<00:00, 23.87it/s]\n",
      "100%|██████████| 10/10 [00:00<00:00, 31.00it/s]\n"
     ]
    },
    {
     "name": "stdout",
     "output_type": "stream",
     "text": [
      "Epoch: 2 (10/10)\n",
      "\tData load time: 0.132 sec\n",
      "\tGeneration time: 0.139 sec\n",
      "\tLog probability: -276.7162 (avg -296.7495)\n",
      "\tKL: 78.4831 (avg 73.9938)\n",
      "\tLoss: 1061.5477 (avg 1036.6879)\n",
      "Saving checkpoint..\n"
     ]
    },
    {
     "name": "stderr",
     "output_type": "stream",
     "text": [
      "  0%|          | 0/38 [00:00<?, ?it/s]"
     ]
    },
    {
     "name": "stdout",
     "output_type": "stream",
     "text": [
      "Lowest validation loss: 1036.6879\n"
     ]
    },
    {
     "name": "stderr",
     "output_type": "stream",
     "text": [
      " 34%|███▍      | 13/38 [00:00<00:01, 14.57it/s]"
     ]
    },
    {
     "name": "stdout",
     "output_type": "stream",
     "text": [
      "Epoch: 3 (10/38)\n",
      "\tData load time: 0.136 sec\n",
      "\tGeneration time: 0.147 sec\n",
      "\tBackprop time: 0.167 sec\n",
      "\tLog probability: -315.8127 (avg -263.6456)\n",
      "\tKL: 93.2669 (avg 83.4630)\n",
      "\tLoss: 1248.4813 (avg 1098.2758)\n"
     ]
    },
    {
     "name": "stderr",
     "output_type": "stream",
     "text": [
      " 66%|██████▌   | 25/38 [00:01<00:00, 22.06it/s]"
     ]
    },
    {
     "name": "stdout",
     "output_type": "stream",
     "text": [
      "Epoch: 3 (20/38)\n",
      "\tData load time: 0.136 sec\n",
      "\tGeneration time: 0.147 sec\n",
      "\tBackprop time: 0.167 sec\n",
      "\tLog probability: -234.2548 (avg -241.0995)\n",
      "\tKL: 79.5456 (avg 83.2337)\n",
      "\tLoss: 1029.7103 (avg 1073.4368)\n"
     ]
    },
    {
     "name": "stderr",
     "output_type": "stream",
     "text": [
      " 89%|████████▉ | 34/38 [00:01<00:00, 24.73it/s]"
     ]
    },
    {
     "name": "stdout",
     "output_type": "stream",
     "text": [
      "Epoch: 3 (30/38)\n",
      "\tData load time: 0.136 sec\n",
      "\tGeneration time: 0.147 sec\n",
      "\tBackprop time: 0.167 sec\n",
      "\tLog probability: -147.2279 (avg -221.0239)\n",
      "\tKL: 74.5974 (avg 82.0689)\n",
      "\tLoss: 893.2020 (avg 1041.7127)\n"
     ]
    },
    {
     "name": "stderr",
     "output_type": "stream",
     "text": [
      "100%|██████████| 38/38 [00:01<00:00, 23.85it/s]\n",
      "100%|██████████| 10/10 [00:00<00:00, 31.94it/s]\n"
     ]
    },
    {
     "name": "stdout",
     "output_type": "stream",
     "text": [
      "Epoch: 3 (10/10)\n",
      "\tData load time: 0.124 sec\n",
      "\tGeneration time: 0.133 sec\n",
      "\tLog probability: -146.2691 (avg -156.0358)\n",
      "\tKL: 68.4884 (avg 66.6569)\n",
      "\tLoss: 831.1529 (avg 822.6050)\n",
      "Saving checkpoint..\n"
     ]
    },
    {
     "name": "stderr",
     "output_type": "stream",
     "text": [
      "  0%|          | 0/38 [00:00<?, ?it/s]"
     ]
    },
    {
     "name": "stdout",
     "output_type": "stream",
     "text": [
      "Lowest validation loss: 822.6050\n"
     ]
    },
    {
     "name": "stderr",
     "output_type": "stream",
     "text": [
      " 34%|███▍      | 13/38 [00:00<00:01, 14.55it/s]"
     ]
    },
    {
     "name": "stdout",
     "output_type": "stream",
     "text": [
      "Epoch: 4 (10/38)\n",
      "\tData load time: 0.138 sec\n",
      "\tGeneration time: 0.146 sec\n",
      "\tBackprop time: 0.167 sec\n",
      "\tLog probability: -155.5638 (avg -136.8116)\n",
      "\tKL: 74.3405 (avg 73.8977)\n",
      "\tLoss: 898.9692 (avg 875.7885)\n"
     ]
    },
    {
     "name": "stderr",
     "output_type": "stream",
     "text": [
      " 66%|██████▌   | 25/38 [00:01<00:00, 22.02it/s]"
     ]
    },
    {
     "name": "stdout",
     "output_type": "stream",
     "text": [
      "Epoch: 4 (20/38)\n",
      "\tData load time: 0.138 sec\n",
      "\tGeneration time: 0.146 sec\n",
      "\tBackprop time: 0.167 sec\n",
      "\tLog probability: -182.2516 (avg -129.0324)\n",
      "\tKL: 81.2527 (avg 72.2255)\n",
      "\tLoss: 994.7784 (avg 851.2879)\n"
     ]
    },
    {
     "name": "stderr",
     "output_type": "stream",
     "text": [
      " 89%|████████▉ | 34/38 [00:01<00:00, 24.67it/s]"
     ]
    },
    {
     "name": "stdout",
     "output_type": "stream",
     "text": [
      "Epoch: 4 (30/38)\n",
      "\tData load time: 0.138 sec\n",
      "\tGeneration time: 0.146 sec\n",
      "\tBackprop time: 0.167 sec\n",
      "\tLog probability: -109.9448 (avg -118.4408)\n",
      "\tKL: 67.0104 (avg 72.0261)\n",
      "\tLoss: 780.0489 (avg 838.7015)\n"
     ]
    },
    {
     "name": "stderr",
     "output_type": "stream",
     "text": [
      "100%|██████████| 38/38 [00:01<00:00, 23.83it/s]\n",
      "100%|██████████| 10/10 [00:00<00:00, 33.01it/s]\n"
     ]
    },
    {
     "name": "stdout",
     "output_type": "stream",
     "text": [
      "Epoch: 4 (10/10)\n",
      "\tData load time: 0.113 sec\n",
      "\tGeneration time: 0.122 sec\n",
      "\tLog probability: -83.2556 (avg -83.7511)\n",
      "\tKL: 54.0184 (avg 66.6319)\n",
      "\tLoss: 623.4399 (avg 750.0696)\n",
      "Saving checkpoint..\n"
     ]
    },
    {
     "name": "stderr",
     "output_type": "stream",
     "text": [
      "  0%|          | 0/38 [00:00<?, ?it/s]"
     ]
    },
    {
     "name": "stdout",
     "output_type": "stream",
     "text": [
      "Lowest validation loss: 750.0696\n"
     ]
    },
    {
     "name": "stderr",
     "output_type": "stream",
     "text": [
      " 34%|███▍      | 13/38 [00:00<00:01, 14.54it/s]"
     ]
    },
    {
     "name": "stdout",
     "output_type": "stream",
     "text": [
      "Epoch: 5 (10/38)\n",
      "\tData load time: 0.136 sec\n",
      "\tGeneration time: 0.147 sec\n",
      "\tBackprop time: 0.167 sec\n",
      "\tLog probability: -113.2846 (avg -89.2796)\n",
      "\tKL: 68.0715 (avg 71.5882)\n",
      "\tLoss: 793.9994 (avg 805.1616)\n"
     ]
    },
    {
     "name": "stderr",
     "output_type": "stream",
     "text": [
      " 66%|██████▌   | 25/38 [00:01<00:00, 21.99it/s]"
     ]
    },
    {
     "name": "stdout",
     "output_type": "stream",
     "text": [
      "Epoch: 5 (20/38)\n",
      "\tData load time: 0.136 sec\n",
      "\tGeneration time: 0.147 sec\n",
      "\tBackprop time: 0.167 sec\n",
      "\tLog probability: -70.5619 (avg -83.1366)\n",
      "\tKL: 67.8548 (avg 69.4491)\n",
      "\tLoss: 749.1099 (avg 777.6281)\n"
     ]
    },
    {
     "name": "stderr",
     "output_type": "stream",
     "text": [
      " 89%|████████▉ | 34/38 [00:01<00:00, 24.62it/s]"
     ]
    },
    {
     "name": "stdout",
     "output_type": "stream",
     "text": [
      "Epoch: 5 (30/38)\n",
      "\tData load time: 0.136 sec\n",
      "\tGeneration time: 0.147 sec\n",
      "\tBackprop time: 0.167 sec\n",
      "\tLog probability: -102.9364 (avg -85.9621)\n",
      "\tKL: 67.4668 (avg 68.9997)\n",
      "\tLoss: 777.6044 (avg 775.9590)\n"
     ]
    },
    {
     "name": "stderr",
     "output_type": "stream",
     "text": [
      "100%|██████████| 38/38 [00:01<00:00, 23.86it/s]\n",
      "100%|██████████| 10/10 [00:00<00:00, 32.12it/s]\n"
     ]
    },
    {
     "name": "stdout",
     "output_type": "stream",
     "text": [
      "Epoch: 5 (10/10)\n",
      "\tData load time: 0.127 sec\n",
      "\tGeneration time: 0.137 sec\n",
      "\tLog probability: -42.5667 (avg -55.6885)\n",
      "\tKL: 60.0459 (avg 60.8179)\n",
      "\tLoss: 643.0260 (avg 663.8673)\n",
      "Saving checkpoint..\n"
     ]
    },
    {
     "name": "stderr",
     "output_type": "stream",
     "text": [
      "  0%|          | 0/38 [00:00<?, ?it/s]"
     ]
    },
    {
     "name": "stdout",
     "output_type": "stream",
     "text": [
      "Lowest validation loss: 663.8673\n"
     ]
    },
    {
     "name": "stderr",
     "output_type": "stream",
     "text": [
      " 34%|███▍      | 13/38 [00:00<00:01, 14.81it/s]"
     ]
    },
    {
     "name": "stdout",
     "output_type": "stream",
     "text": [
      "Epoch: 6 (10/38)\n",
      "\tData load time: 0.128 sec\n",
      "\tGeneration time: 0.142 sec\n",
      "\tBackprop time: 0.162 sec\n",
      "\tLog probability: -71.8248 (avg -82.2730)\n",
      "\tKL: 59.8551 (avg 64.9357)\n",
      "\tLoss: 670.3754 (avg 731.6296)\n"
     ]
    },
    {
     "name": "stderr",
     "output_type": "stream",
     "text": [
      " 66%|██████▌   | 25/38 [00:01<00:00, 22.06it/s]"
     ]
    },
    {
     "name": "stdout",
     "output_type": "stream",
     "text": [
      "Epoch: 6 (20/38)\n",
      "\tData load time: 0.128 sec\n",
      "\tGeneration time: 0.142 sec\n",
      "\tBackprop time: 0.162 sec\n",
      "\tLog probability: -98.4664 (avg -77.9187)\n",
      "\tKL: 58.0065 (avg 63.9720)\n",
      "\tLoss: 678.5318 (avg 717.6391)\n"
     ]
    },
    {
     "name": "stderr",
     "output_type": "stream",
     "text": [
      " 89%|████████▉ | 34/38 [00:01<00:00, 24.63it/s]"
     ]
    },
    {
     "name": "stdout",
     "output_type": "stream",
     "text": [
      "Epoch: 6 (30/38)\n",
      "\tData load time: 0.128 sec\n",
      "\tGeneration time: 0.142 sec\n",
      "\tBackprop time: 0.162 sec\n",
      "\tLog probability: -81.2840 (avg -71.1557)\n",
      "\tKL: 59.9746 (avg 62.5449)\n",
      "\tLoss: 681.0304 (avg 696.6047)\n"
     ]
    },
    {
     "name": "stderr",
     "output_type": "stream",
     "text": [
      "100%|██████████| 38/38 [00:01<00:00, 23.87it/s]\n",
      "100%|██████████| 10/10 [00:00<00:00, 31.16it/s]\n",
      "  0%|          | 0/38 [00:00<?, ?it/s]"
     ]
    },
    {
     "name": "stdout",
     "output_type": "stream",
     "text": [
      "Epoch: 6 (10/10)\n",
      "\tData load time: 0.136 sec\n",
      "\tGeneration time: 0.143 sec\n",
      "\tLog probability: -57.3112 (avg -54.0377)\n",
      "\tKL: 64.5463 (avg 62.9558)\n",
      "\tLoss: 702.7739 (avg 683.5962)\n",
      "Lowest validation loss: 663.8673\n"
     ]
    },
    {
     "name": "stderr",
     "output_type": "stream",
     "text": [
      " 34%|███▍      | 13/38 [00:00<00:01, 14.94it/s]"
     ]
    },
    {
     "name": "stdout",
     "output_type": "stream",
     "text": [
      "Epoch: 7 (10/38)\n",
      "\tData load time: 0.128 sec\n",
      "\tGeneration time: 0.136 sec\n",
      "\tBackprop time: 0.158 sec\n",
      "\tLog probability: -44.6963 (avg -68.7245)\n",
      "\tKL: 61.6221 (avg 63.3940)\n",
      "\tLoss: 660.9169 (avg 702.6646)\n"
     ]
    },
    {
     "name": "stderr",
     "output_type": "stream",
     "text": [
      " 66%|██████▌   | 25/38 [00:01<00:00, 22.24it/s]"
     ]
    },
    {
     "name": "stdout",
     "output_type": "stream",
     "text": [
      "Epoch: 7 (20/38)\n",
      "\tData load time: 0.128 sec\n",
      "\tGeneration time: 0.136 sec\n",
      "\tBackprop time: 0.158 sec\n",
      "\tLog probability: -52.8165 (avg -72.2188)\n",
      "\tKL: 55.3762 (avg 60.7752)\n",
      "\tLoss: 606.5782 (avg 679.9707)\n"
     ]
    },
    {
     "name": "stderr",
     "output_type": "stream",
     "text": [
      " 89%|████████▉ | 34/38 [00:01<00:00, 24.81it/s]"
     ]
    },
    {
     "name": "stdout",
     "output_type": "stream",
     "text": [
      "Epoch: 7 (30/38)\n",
      "\tData load time: 0.128 sec\n",
      "\tGeneration time: 0.136 sec\n",
      "\tBackprop time: 0.158 sec\n",
      "\tLog probability: -51.5510 (avg -66.9572)\n",
      "\tKL: 54.2533 (avg 59.4875)\n",
      "\tLoss: 594.0840 (avg 661.8321)\n"
     ]
    },
    {
     "name": "stderr",
     "output_type": "stream",
     "text": [
      "100%|██████████| 38/38 [00:01<00:00, 23.87it/s]\n",
      "100%|██████████| 10/10 [00:00<00:00, 31.22it/s]\n",
      "  0%|          | 0/38 [00:00<?, ?it/s]"
     ]
    },
    {
     "name": "stdout",
     "output_type": "stream",
     "text": [
      "Epoch: 7 (10/10)\n",
      "\tData load time: 0.131 sec\n",
      "\tGeneration time: 0.140 sec\n",
      "\tLog probability: -66.3292 (avg -46.0732)\n",
      "\tKL: 51.8493 (avg 51.2011)\n",
      "\tLoss: 584.8217 (avg 558.0844)\n",
      "Saving checkpoint..\n",
      "Lowest validation loss: 558.0844\n"
     ]
    },
    {
     "name": "stderr",
     "output_type": "stream",
     "text": [
      " 34%|███▍      | 13/38 [00:00<00:01, 14.41it/s]"
     ]
    },
    {
     "name": "stdout",
     "output_type": "stream",
     "text": [
      "Epoch: 8 (10/38)\n",
      "\tData load time: 0.137 sec\n",
      "\tGeneration time: 0.147 sec\n",
      "\tBackprop time: 0.170 sec\n",
      "\tLog probability: -64.4045 (avg -62.6762)\n",
      "\tKL: 63.1490 (avg 57.6094)\n",
      "\tLoss: 695.8950 (avg 638.7703)\n"
     ]
    },
    {
     "name": "stderr",
     "output_type": "stream",
     "text": [
      " 66%|██████▌   | 25/38 [00:01<00:00, 21.98it/s]"
     ]
    },
    {
     "name": "stdout",
     "output_type": "stream",
     "text": [
      "Epoch: 8 (20/38)\n",
      "\tData load time: 0.137 sec\n",
      "\tGeneration time: 0.147 sec\n",
      "\tBackprop time: 0.170 sec\n",
      "\tLog probability: -56.9407 (avg -61.7167)\n",
      "\tKL: 61.3423 (avg 57.1693)\n",
      "\tLoss: 670.3636 (avg 633.4094)\n"
     ]
    },
    {
     "name": "stderr",
     "output_type": "stream",
     "text": [
      " 89%|████████▉ | 34/38 [00:01<00:00, 24.69it/s]"
     ]
    },
    {
     "name": "stdout",
     "output_type": "stream",
     "text": [
      "Epoch: 8 (30/38)\n",
      "\tData load time: 0.137 sec\n",
      "\tGeneration time: 0.147 sec\n",
      "\tBackprop time: 0.170 sec\n",
      "\tLog probability: -55.3766 (avg -60.1573)\n",
      "\tKL: 54.6253 (avg 56.2873)\n",
      "\tLoss: 601.6293 (avg 623.0304)\n"
     ]
    },
    {
     "name": "stderr",
     "output_type": "stream",
     "text": [
      "100%|██████████| 38/38 [00:01<00:00, 23.89it/s]\n",
      "100%|██████████| 10/10 [00:00<00:00, 30.72it/s]\n",
      "  0%|          | 0/38 [00:00<?, ?it/s]"
     ]
    },
    {
     "name": "stdout",
     "output_type": "stream",
     "text": [
      "Epoch: 8 (10/10)\n",
      "\tData load time: 0.139 sec\n",
      "\tGeneration time: 0.149 sec\n",
      "\tLog probability: -50.4218 (avg -48.2022)\n",
      "\tKL: 57.9497 (avg 53.7641)\n",
      "\tLoss: 629.9187 (avg 585.8433)\n",
      "Lowest validation loss: 558.0844\n"
     ]
    },
    {
     "name": "stderr",
     "output_type": "stream",
     "text": [
      " 34%|███▍      | 13/38 [00:00<00:01, 14.59it/s]"
     ]
    },
    {
     "name": "stdout",
     "output_type": "stream",
     "text": [
      "Epoch: 9 (10/38)\n",
      "\tData load time: 0.134 sec\n",
      "\tGeneration time: 0.146 sec\n",
      "\tBackprop time: 0.166 sec\n",
      "\tLog probability: -48.0024 (avg -62.6103)\n",
      "\tKL: 54.8649 (avg 53.8795)\n",
      "\tLoss: 596.6514 (avg 601.4051)\n"
     ]
    },
    {
     "name": "stderr",
     "output_type": "stream",
     "text": [
      " 66%|██████▌   | 25/38 [00:01<00:00, 22.01it/s]"
     ]
    },
    {
     "name": "stdout",
     "output_type": "stream",
     "text": [
      "Epoch: 9 (20/38)\n",
      "\tData load time: 0.134 sec\n",
      "\tGeneration time: 0.146 sec\n",
      "\tBackprop time: 0.166 sec\n",
      "\tLog probability: -47.0966 (avg -61.1407)\n",
      "\tKL: 55.6819 (avg 55.2487)\n",
      "\tLoss: 603.9155 (avg 613.6273)\n"
     ]
    },
    {
     "name": "stderr",
     "output_type": "stream",
     "text": [
      " 89%|████████▉ | 34/38 [00:01<00:00, 24.57it/s]"
     ]
    },
    {
     "name": "stdout",
     "output_type": "stream",
     "text": [
      "Epoch: 9 (30/38)\n",
      "\tData load time: 0.134 sec\n",
      "\tGeneration time: 0.146 sec\n",
      "\tBackprop time: 0.166 sec\n",
      "\tLog probability: -45.9067 (avg -62.5047)\n",
      "\tKL: 51.8518 (avg 55.0438)\n",
      "\tLoss: 564.4252 (avg 612.9430)\n"
     ]
    },
    {
     "name": "stderr",
     "output_type": "stream",
     "text": [
      "100%|██████████| 38/38 [00:01<00:00, 23.83it/s]\n",
      "100%|██████████| 10/10 [00:00<00:00, 31.81it/s]\n"
     ]
    },
    {
     "name": "stdout",
     "output_type": "stream",
     "text": [
      "Epoch: 9 (10/10)\n",
      "\tData load time: 0.127 sec\n",
      "\tGeneration time: 0.136 sec\n",
      "\tLog probability: -35.6826 (avg -41.3683)\n",
      "\tKL: 37.6985 (avg 49.3090)\n",
      "\tLoss: 412.6678 (avg 534.4587)\n",
      "Saving checkpoint..\n"
     ]
    },
    {
     "name": "stderr",
     "output_type": "stream",
     "text": [
      "  0%|          | 0/38 [00:00<?, ?it/s]"
     ]
    },
    {
     "name": "stdout",
     "output_type": "stream",
     "text": [
      "Lowest validation loss: 534.4587\n"
     ]
    },
    {
     "name": "stderr",
     "output_type": "stream",
     "text": [
      " 34%|███▍      | 13/38 [00:00<00:01, 14.45it/s]"
     ]
    },
    {
     "name": "stdout",
     "output_type": "stream",
     "text": [
      "Epoch: 10 (10/38)\n",
      "\tData load time: 0.138 sec\n",
      "\tGeneration time: 0.149 sec\n",
      "\tBackprop time: 0.169 sec\n",
      "\tLog probability: -50.2444 (avg -60.7480)\n",
      "\tKL: 53.1734 (avg 54.1685)\n",
      "\tLoss: 581.9785 (avg 602.4334)\n"
     ]
    },
    {
     "name": "stderr",
     "output_type": "stream",
     "text": [
      " 66%|██████▌   | 25/38 [00:01<00:00, 21.87it/s]"
     ]
    },
    {
     "name": "stdout",
     "output_type": "stream",
     "text": [
      "Epoch: 10 (20/38)\n",
      "\tData load time: 0.138 sec\n",
      "\tGeneration time: 0.149 sec\n",
      "\tBackprop time: 0.169 sec\n",
      "\tLog probability: -52.9434 (avg -57.0464)\n",
      "\tKL: 51.1514 (avg 53.3438)\n",
      "\tLoss: 564.4573 (avg 590.4844)\n"
     ]
    },
    {
     "name": "stderr",
     "output_type": "stream",
     "text": [
      " 89%|████████▉ | 34/38 [00:01<00:00, 24.49it/s]"
     ]
    },
    {
     "name": "stdout",
     "output_type": "stream",
     "text": [
      "Epoch: 10 (30/38)\n",
      "\tData load time: 0.138 sec\n",
      "\tGeneration time: 0.149 sec\n",
      "\tBackprop time: 0.169 sec\n",
      "\tLog probability: -71.4541 (avg -56.1776)\n",
      "\tKL: 53.6762 (avg 53.1559)\n",
      "\tLoss: 608.2162 (avg 587.7371)\n"
     ]
    },
    {
     "name": "stderr",
     "output_type": "stream",
     "text": [
      "100%|██████████| 38/38 [00:01<00:00, 23.72it/s]\n",
      "100%|██████████| 10/10 [00:00<00:00, 31.61it/s]\n",
      "  0%|          | 0/38 [00:00<?, ?it/s]"
     ]
    },
    {
     "name": "stdout",
     "output_type": "stream",
     "text": [
      "Epoch: 10 (10/10)\n",
      "\tData load time: 0.132 sec\n",
      "\tGeneration time: 0.139 sec\n",
      "\tLog probability: -31.0330 (avg -41.3379)\n",
      "\tKL: 42.7550 (avg 49.9305)\n",
      "\tLoss: 458.5828 (avg 540.6431)\n",
      "Lowest validation loss: 534.4587\n"
     ]
    },
    {
     "name": "stderr",
     "output_type": "stream",
     "text": [
      " 34%|███▍      | 13/38 [00:00<00:01, 15.32it/s]"
     ]
    },
    {
     "name": "stdout",
     "output_type": "stream",
     "text": [
      "Epoch: 11 (10/38)\n",
      "\tData load time: 0.118 sec\n",
      "\tGeneration time: 0.131 sec\n",
      "\tBackprop time: 0.153 sec\n",
      "\tLog probability: -59.3675 (avg -51.3017)\n",
      "\tKL: 50.2910 (avg 52.8192)\n",
      "\tLoss: 562.2772 (avg 579.4935)\n"
     ]
    },
    {
     "name": "stderr",
     "output_type": "stream",
     "text": [
      " 66%|██████▌   | 25/38 [00:01<00:00, 22.33it/s]"
     ]
    },
    {
     "name": "stdout",
     "output_type": "stream",
     "text": [
      "Epoch: 11 (20/38)\n",
      "\tData load time: 0.118 sec\n",
      "\tGeneration time: 0.131 sec\n",
      "\tBackprop time: 0.153 sec\n",
      "\tLog probability: -60.7855 (avg -55.0111)\n",
      "\tKL: 55.3079 (avg 53.6178)\n",
      "\tLoss: 613.8641 (avg 591.1892)\n"
     ]
    },
    {
     "name": "stderr",
     "output_type": "stream",
     "text": [
      " 89%|████████▉ | 34/38 [00:01<00:00, 24.82it/s]"
     ]
    },
    {
     "name": "stdout",
     "output_type": "stream",
     "text": [
      "Epoch: 11 (30/38)\n",
      "\tData load time: 0.118 sec\n",
      "\tGeneration time: 0.131 sec\n",
      "\tBackprop time: 0.153 sec\n",
      "\tLog probability: -40.0433 (avg -54.2037)\n",
      "\tKL: 53.6063 (avg 53.3236)\n",
      "\tLoss: 576.1066 (avg 587.4402)\n"
     ]
    },
    {
     "name": "stderr",
     "output_type": "stream",
     "text": [
      "100%|██████████| 38/38 [00:01<00:00, 24.08it/s]\n",
      "100%|██████████| 10/10 [00:00<00:00, 30.33it/s]\n",
      "  0%|          | 0/38 [00:00<?, ?it/s]"
     ]
    },
    {
     "name": "stdout",
     "output_type": "stream",
     "text": [
      "Epoch: 11 (10/10)\n",
      "\tData load time: 0.134 sec\n",
      "\tGeneration time: 0.142 sec\n",
      "\tLog probability: -45.0884 (avg -40.3667)\n",
      "\tKL: 59.9032 (avg 53.9228)\n",
      "\tLoss: 644.1209 (avg 579.5945)\n",
      "Lowest validation loss: 534.4587\n"
     ]
    },
    {
     "name": "stderr",
     "output_type": "stream",
     "text": [
      " 34%|███▍      | 13/38 [00:00<00:01, 14.57it/s]"
     ]
    },
    {
     "name": "stdout",
     "output_type": "stream",
     "text": [
      "Epoch: 12 (10/38)\n",
      "\tData load time: 0.138 sec\n",
      "\tGeneration time: 0.145 sec\n",
      "\tBackprop time: 0.167 sec\n",
      "\tLog probability: -47.3240 (avg -49.9893)\n",
      "\tKL: 50.8177 (avg 51.0673)\n",
      "\tLoss: 555.5015 (avg 560.6628)\n"
     ]
    },
    {
     "name": "stderr",
     "output_type": "stream",
     "text": [
      " 66%|██████▌   | 25/38 [00:01<00:00, 21.99it/s]"
     ]
    },
    {
     "name": "stdout",
     "output_type": "stream",
     "text": [
      "Epoch: 12 (20/38)\n",
      "\tData load time: 0.138 sec\n",
      "\tGeneration time: 0.145 sec\n",
      "\tBackprop time: 0.167 sec\n",
      "\tLog probability: -58.8947 (avg -53.5273)\n",
      "\tKL: 54.7164 (avg 52.3210)\n",
      "\tLoss: 606.0586 (avg 576.7369)\n"
     ]
    },
    {
     "name": "stderr",
     "output_type": "stream",
     "text": [
      " 89%|████████▉ | 34/38 [00:01<00:00, 24.69it/s]"
     ]
    },
    {
     "name": "stdout",
     "output_type": "stream",
     "text": [
      "Epoch: 12 (30/38)\n",
      "\tData load time: 0.138 sec\n",
      "\tGeneration time: 0.145 sec\n",
      "\tBackprop time: 0.167 sec\n",
      "\tLog probability: -61.1893 (avg -53.9747)\n",
      "\tKL: 53.4506 (avg 52.6917)\n",
      "\tLoss: 595.6955 (avg 580.8917)\n"
     ]
    },
    {
     "name": "stderr",
     "output_type": "stream",
     "text": [
      "100%|██████████| 38/38 [00:01<00:00, 23.90it/s]\n",
      "100%|██████████| 10/10 [00:00<00:00, 32.12it/s]\n",
      "  0%|          | 0/38 [00:00<?, ?it/s]"
     ]
    },
    {
     "name": "stdout",
     "output_type": "stream",
     "text": [
      "Epoch: 12 (10/10)\n",
      "\tData load time: 0.125 sec\n",
      "\tGeneration time: 0.134 sec\n",
      "\tLog probability: -37.3474 (avg -41.2945)\n",
      "\tKL: 50.6116 (avg 52.5163)\n",
      "\tLoss: 543.4638 (avg 566.4577)\n",
      "Lowest validation loss: 534.4587\n"
     ]
    },
    {
     "name": "stderr",
     "output_type": "stream",
     "text": [
      " 34%|███▍      | 13/38 [00:00<00:01, 15.30it/s]"
     ]
    },
    {
     "name": "stdout",
     "output_type": "stream",
     "text": [
      "Epoch: 13 (10/38)\n",
      "\tData load time: 0.118 sec\n",
      "\tGeneration time: 0.130 sec\n",
      "\tBackprop time: 0.152 sec\n",
      "\tLog probability: -45.9880 (avg -66.4327)\n",
      "\tKL: 47.6938 (avg 55.6369)\n",
      "\tLoss: 522.9265 (avg 622.8020)\n"
     ]
    },
    {
     "name": "stderr",
     "output_type": "stream",
     "text": [
      " 66%|██████▌   | 25/38 [00:01<00:00, 22.35it/s]"
     ]
    },
    {
     "name": "stdout",
     "output_type": "stream",
     "text": [
      "Epoch: 13 (20/38)\n",
      "\tData load time: 0.118 sec\n",
      "\tGeneration time: 0.130 sec\n",
      "\tBackprop time: 0.152 sec\n",
      "\tLog probability: -73.5809 (avg -63.3374)\n",
      "\tKL: 52.0166 (avg 54.2311)\n",
      "\tLoss: 593.7465 (avg 605.6488)\n"
     ]
    },
    {
     "name": "stderr",
     "output_type": "stream",
     "text": [
      " 89%|████████▉ | 34/38 [00:01<00:00, 24.75it/s]"
     ]
    },
    {
     "name": "stdout",
     "output_type": "stream",
     "text": [
      "Epoch: 13 (30/38)\n",
      "\tData load time: 0.118 sec\n",
      "\tGeneration time: 0.130 sec\n",
      "\tBackprop time: 0.152 sec\n",
      "\tLog probability: -40.3265 (avg -61.1823)\n",
      "\tKL: 53.1893 (avg 53.9535)\n",
      "\tLoss: 572.2191 (avg 600.7171)\n"
     ]
    },
    {
     "name": "stderr",
     "output_type": "stream",
     "text": [
      "100%|██████████| 38/38 [00:01<00:00, 23.93it/s]\n",
      "100%|██████████| 10/10 [00:00<00:00, 30.51it/s]\n"
     ]
    },
    {
     "name": "stdout",
     "output_type": "stream",
     "text": [
      "Epoch: 13 (10/10)\n",
      "\tData load time: 0.140 sec\n",
      "\tGeneration time: 0.147 sec\n",
      "\tLog probability: -42.4947 (avg -42.2995)\n",
      "\tKL: 45.9752 (avg 48.4458)\n",
      "\tLoss: 502.2463 (avg 526.7577)\n",
      "Saving checkpoint..\n"
     ]
    },
    {
     "name": "stderr",
     "output_type": "stream",
     "text": [
      "  0%|          | 0/38 [00:00<?, ?it/s]"
     ]
    },
    {
     "name": "stdout",
     "output_type": "stream",
     "text": [
      "Lowest validation loss: 526.7577\n"
     ]
    },
    {
     "name": "stderr",
     "output_type": "stream",
     "text": [
      " 34%|███▍      | 13/38 [00:00<00:01, 14.10it/s]"
     ]
    },
    {
     "name": "stdout",
     "output_type": "stream",
     "text": [
      "Epoch: 14 (10/38)\n",
      "\tData load time: 0.144 sec\n",
      "\tGeneration time: 0.153 sec\n",
      "\tBackprop time: 0.175 sec\n",
      "\tLog probability: -73.1563 (avg -61.6204)\n",
      "\tKL: 57.5158 (avg 53.0229)\n",
      "\tLoss: 648.3142 (avg 591.8497)\n"
     ]
    },
    {
     "name": "stderr",
     "output_type": "stream",
     "text": [
      " 66%|██████▌   | 25/38 [00:01<00:00, 21.73it/s]"
     ]
    },
    {
     "name": "stdout",
     "output_type": "stream",
     "text": [
      "Epoch: 14 (20/38)\n",
      "\tData load time: 0.144 sec\n",
      "\tGeneration time: 0.153 sec\n",
      "\tBackprop time: 0.175 sec\n",
      "\tLog probability: -95.4783 (avg -65.5121)\n",
      "\tKL: 56.4485 (avg 54.3817)\n",
      "\tLoss: 659.9634 (avg 609.3294)\n"
     ]
    },
    {
     "name": "stderr",
     "output_type": "stream",
     "text": [
      " 89%|████████▉ | 34/38 [00:01<00:00, 24.34it/s]"
     ]
    },
    {
     "name": "stdout",
     "output_type": "stream",
     "text": [
      "Epoch: 14 (30/38)\n",
      "\tData load time: 0.144 sec\n",
      "\tGeneration time: 0.153 sec\n",
      "\tBackprop time: 0.175 sec\n",
      "\tLog probability: -56.0331 (avg -62.1988)\n",
      "\tKL: 51.5436 (avg 53.0473)\n",
      "\tLoss: 571.4689 (avg 592.6715)\n"
     ]
    },
    {
     "name": "stderr",
     "output_type": "stream",
     "text": [
      "100%|██████████| 38/38 [00:01<00:00, 23.53it/s]\n",
      "100%|██████████| 10/10 [00:00<00:00, 31.00it/s]\n",
      "  0%|          | 0/38 [00:00<?, ?it/s]"
     ]
    },
    {
     "name": "stdout",
     "output_type": "stream",
     "text": [
      "Epoch: 14 (10/10)\n",
      "\tData load time: 0.130 sec\n",
      "\tGeneration time: 0.138 sec\n",
      "\tLog probability: -50.6168 (avg -43.2175)\n",
      "\tKL: 65.5840 (avg 49.3828)\n",
      "\tLoss: 706.4567 (avg 537.0459)\n",
      "Lowest validation loss: 526.7577\n"
     ]
    },
    {
     "name": "stderr",
     "output_type": "stream",
     "text": [
      " 34%|███▍      | 13/38 [00:00<00:01, 14.40it/s]"
     ]
    },
    {
     "name": "stdout",
     "output_type": "stream",
     "text": [
      "Epoch: 15 (10/38)\n",
      "\tData load time: 0.137 sec\n",
      "\tGeneration time: 0.149 sec\n",
      "\tBackprop time: 0.170 sec\n",
      "\tLog probability: -60.0074 (avg -63.4966)\n",
      "\tKL: 52.1971 (avg 52.7025)\n",
      "\tLoss: 581.9788 (avg 590.5220)\n"
     ]
    },
    {
     "name": "stderr",
     "output_type": "stream",
     "text": [
      " 66%|██████▌   | 25/38 [00:01<00:00, 21.81it/s]"
     ]
    },
    {
     "name": "stdout",
     "output_type": "stream",
     "text": [
      "Epoch: 15 (20/38)\n",
      "\tData load time: 0.137 sec\n",
      "\tGeneration time: 0.149 sec\n",
      "\tBackprop time: 0.170 sec\n",
      "\tLog probability: -68.4463 (avg -57.8002)\n",
      "\tKL: 52.0346 (avg 51.4661)\n",
      "\tLoss: 588.7927 (avg 572.4613)\n"
     ]
    },
    {
     "name": "stderr",
     "output_type": "stream",
     "text": [
      " 89%|████████▉ | 34/38 [00:01<00:00, 24.53it/s]"
     ]
    },
    {
     "name": "stdout",
     "output_type": "stream",
     "text": [
      "Epoch: 15 (30/38)\n",
      "\tData load time: 0.137 sec\n",
      "\tGeneration time: 0.149 sec\n",
      "\tBackprop time: 0.170 sec\n",
      "\tLog probability: -49.2861 (avg -55.3908)\n",
      "\tKL: 53.0457 (avg 50.6851)\n",
      "\tLoss: 579.7429 (avg 562.2418)\n"
     ]
    },
    {
     "name": "stderr",
     "output_type": "stream",
     "text": [
      "100%|██████████| 38/38 [00:01<00:00, 23.70it/s]\n",
      "100%|██████████| 10/10 [00:00<00:00, 31.44it/s]\n",
      "  0%|          | 0/38 [00:00<?, ?it/s]"
     ]
    },
    {
     "name": "stdout",
     "output_type": "stream",
     "text": [
      "Epoch: 15 (10/10)\n",
      "\tData load time: 0.133 sec\n",
      "\tGeneration time: 0.142 sec\n",
      "\tLog probability: -53.3532 (avg -40.8975)\n",
      "\tKL: 57.4346 (avg 49.6223)\n",
      "\tLoss: 627.6993 (avg 537.1206)\n",
      "Lowest validation loss: 526.7577\n"
     ]
    },
    {
     "name": "stderr",
     "output_type": "stream",
     "text": [
      " 34%|███▍      | 13/38 [00:00<00:01, 15.04it/s]"
     ]
    },
    {
     "name": "stdout",
     "output_type": "stream",
     "text": [
      "Epoch: 16 (10/38)\n",
      "\tData load time: 0.127 sec\n",
      "\tGeneration time: 0.136 sec\n",
      "\tBackprop time: 0.157 sec\n",
      "\tLog probability: -68.2951 (avg -54.7768)\n",
      "\tKL: 53.4837 (avg 53.3939)\n",
      "\tLoss: 603.1316 (avg 588.7154)\n"
     ]
    },
    {
     "name": "stderr",
     "output_type": "stream",
     "text": [
      " 66%|██████▌   | 25/38 [00:01<00:00, 22.14it/s]"
     ]
    },
    {
     "name": "stdout",
     "output_type": "stream",
     "text": [
      "Epoch: 16 (20/38)\n",
      "\tData load time: 0.127 sec\n",
      "\tGeneration time: 0.136 sec\n",
      "\tBackprop time: 0.157 sec\n",
      "\tLog probability: -52.8457 (avg -53.2282)\n",
      "\tKL: 45.9871 (avg 51.5019)\n",
      "\tLoss: 512.7170 (avg 568.2474)\n"
     ]
    },
    {
     "name": "stderr",
     "output_type": "stream",
     "text": [
      " 89%|████████▉ | 34/38 [00:01<00:00, 24.69it/s]"
     ]
    },
    {
     "name": "stdout",
     "output_type": "stream",
     "text": [
      "Epoch: 16 (30/38)\n",
      "\tData load time: 0.127 sec\n",
      "\tGeneration time: 0.136 sec\n",
      "\tBackprop time: 0.157 sec\n",
      "\tLog probability: -39.4919 (avg -58.1470)\n",
      "\tKL: 46.6140 (avg 51.0267)\n",
      "\tLoss: 505.6315 (avg 568.4144)\n"
     ]
    },
    {
     "name": "stderr",
     "output_type": "stream",
     "text": [
      "100%|██████████| 38/38 [00:01<00:00, 23.90it/s]\n",
      "100%|██████████| 10/10 [00:00<00:00, 30.68it/s]\n"
     ]
    },
    {
     "name": "stdout",
     "output_type": "stream",
     "text": [
      "Epoch: 16 (10/10)\n",
      "\tData load time: 0.135 sec\n",
      "\tGeneration time: 0.142 sec\n",
      "\tLog probability: -51.8079 (avg -51.0871)\n",
      "\tKL: 46.4631 (avg 43.2971)\n",
      "\tLoss: 516.4386 (avg 484.0584)\n",
      "Saving checkpoint..\n"
     ]
    },
    {
     "name": "stderr",
     "output_type": "stream",
     "text": [
      "  0%|          | 0/38 [00:00<?, ?it/s]"
     ]
    },
    {
     "name": "stdout",
     "output_type": "stream",
     "text": [
      "Lowest validation loss: 484.0584\n"
     ]
    },
    {
     "name": "stderr",
     "output_type": "stream",
     "text": [
      " 34%|███▍      | 13/38 [00:00<00:01, 14.77it/s]"
     ]
    },
    {
     "name": "stdout",
     "output_type": "stream",
     "text": [
      "Epoch: 17 (10/38)\n",
      "\tData load time: 0.131 sec\n",
      "\tGeneration time: 0.140 sec\n",
      "\tBackprop time: 0.161 sec\n",
      "\tLog probability: -40.7731 (avg -63.1737)\n",
      "\tKL: 50.1878 (avg 48.3459)\n",
      "\tLoss: 542.6515 (avg 546.6322)\n"
     ]
    },
    {
     "name": "stderr",
     "output_type": "stream",
     "text": [
      " 66%|██████▌   | 25/38 [00:01<00:00, 22.10it/s]"
     ]
    },
    {
     "name": "stdout",
     "output_type": "stream",
     "text": [
      "Epoch: 17 (20/38)\n",
      "\tData load time: 0.131 sec\n",
      "\tGeneration time: 0.140 sec\n",
      "\tBackprop time: 0.161 sec\n",
      "\tLog probability: -50.3041 (avg -57.8388)\n",
      "\tKL: 51.4346 (avg 48.1645)\n",
      "\tLoss: 564.6505 (avg 539.4833)\n"
     ]
    },
    {
     "name": "stderr",
     "output_type": "stream",
     "text": [
      " 89%|████████▉ | 34/38 [00:01<00:00, 24.62it/s]"
     ]
    },
    {
     "name": "stdout",
     "output_type": "stream",
     "text": [
      "Epoch: 17 (30/38)\n",
      "\tData load time: 0.131 sec\n",
      "\tGeneration time: 0.140 sec\n",
      "\tBackprop time: 0.161 sec\n",
      "\tLog probability: -53.8322 (avg -55.5298)\n",
      "\tKL: 44.6805 (avg 46.9846)\n",
      "\tLoss: 500.6375 (avg 525.3759)\n"
     ]
    },
    {
     "name": "stderr",
     "output_type": "stream",
     "text": [
      "100%|██████████| 38/38 [00:01<00:00, 23.80it/s]\n",
      "100%|██████████| 10/10 [00:00<00:00, 31.02it/s]\n",
      "  0%|          | 0/38 [00:00<?, ?it/s]"
     ]
    },
    {
     "name": "stdout",
     "output_type": "stream",
     "text": [
      "Epoch: 17 (10/10)\n",
      "\tData load time: 0.134 sec\n",
      "\tGeneration time: 0.144 sec\n",
      "\tLog probability: -37.0375 (avg -38.6135)\n",
      "\tKL: 47.0605 (avg 50.0667)\n",
      "\tLoss: 507.6423 (avg 539.2801)\n",
      "Lowest validation loss: 484.0584\n"
     ]
    },
    {
     "name": "stderr",
     "output_type": "stream",
     "text": [
      " 34%|███▍      | 13/38 [00:00<00:01, 14.53it/s]"
     ]
    },
    {
     "name": "stdout",
     "output_type": "stream",
     "text": [
      "Epoch: 18 (10/38)\n",
      "\tData load time: 0.135 sec\n",
      "\tGeneration time: 0.147 sec\n",
      "\tBackprop time: 0.167 sec\n",
      "\tLog probability: -52.5307 (avg -63.7821)\n",
      "\tKL: 50.3615 (avg 54.6578)\n",
      "\tLoss: 556.1456 (avg 610.3604)\n"
     ]
    },
    {
     "name": "stderr",
     "output_type": "stream",
     "text": [
      " 66%|██████▌   | 25/38 [00:01<00:00, 21.94it/s]"
     ]
    },
    {
     "name": "stdout",
     "output_type": "stream",
     "text": [
      "Epoch: 18 (20/38)\n",
      "\tData load time: 0.135 sec\n",
      "\tGeneration time: 0.147 sec\n",
      "\tBackprop time: 0.167 sec\n",
      "\tLog probability: -72.1549 (avg -61.5424)\n",
      "\tKL: 56.5814 (avg 53.5036)\n",
      "\tLoss: 637.9692 (avg 596.5788)\n"
     ]
    },
    {
     "name": "stderr",
     "output_type": "stream",
     "text": [
      " 89%|████████▉ | 34/38 [00:01<00:00, 24.62it/s]"
     ]
    },
    {
     "name": "stdout",
     "output_type": "stream",
     "text": [
      "Epoch: 18 (30/38)\n",
      "\tData load time: 0.135 sec\n",
      "\tGeneration time: 0.147 sec\n",
      "\tBackprop time: 0.167 sec\n",
      "\tLog probability: -49.7210 (avg -59.2523)\n",
      "\tKL: 51.0790 (avg 51.9041)\n",
      "\tLoss: 560.5115 (avg 578.2933)\n"
     ]
    },
    {
     "name": "stderr",
     "output_type": "stream",
     "text": [
      "100%|██████████| 38/38 [00:01<00:00, 23.78it/s]\n",
      "100%|██████████| 10/10 [00:00<00:00, 32.57it/s]\n",
      "  0%|          | 0/38 [00:00<?, ?it/s]"
     ]
    },
    {
     "name": "stdout",
     "output_type": "stream",
     "text": [
      "Epoch: 18 (10/10)\n",
      "\tData load time: 0.112 sec\n",
      "\tGeneration time: 0.122 sec\n",
      "\tLog probability: -22.1810 (avg -35.8310)\n",
      "\tKL: 48.4460 (avg 49.8245)\n",
      "\tLoss: 506.6408 (avg 534.0757)\n",
      "Lowest validation loss: 484.0584\n"
     ]
    },
    {
     "name": "stderr",
     "output_type": "stream",
     "text": [
      " 34%|███▍      | 13/38 [00:00<00:01, 14.47it/s]"
     ]
    },
    {
     "name": "stdout",
     "output_type": "stream",
     "text": [
      "Epoch: 19 (10/38)\n",
      "\tData load time: 0.139 sec\n",
      "\tGeneration time: 0.146 sec\n",
      "\tBackprop time: 0.168 sec\n",
      "\tLog probability: -38.6417 (avg -51.6240)\n",
      "\tKL: 49.0145 (avg 49.5092)\n",
      "\tLoss: 528.7864 (avg 546.7158)\n"
     ]
    },
    {
     "name": "stderr",
     "output_type": "stream",
     "text": [
      " 66%|██████▌   | 25/38 [00:01<00:00, 21.88it/s]"
     ]
    },
    {
     "name": "stdout",
     "output_type": "stream",
     "text": [
      "Epoch: 19 (20/38)\n",
      "\tData load time: 0.139 sec\n",
      "\tGeneration time: 0.146 sec\n",
      "\tBackprop time: 0.168 sec\n",
      "\tLog probability: -47.9093 (avg -56.2550)\n",
      "\tKL: 47.2041 (avg 48.3363)\n",
      "\tLoss: 519.9506 (avg 539.6176)\n"
     ]
    },
    {
     "name": "stderr",
     "output_type": "stream",
     "text": [
      " 89%|████████▉ | 34/38 [00:01<00:00, 24.43it/s]"
     ]
    },
    {
     "name": "stdout",
     "output_type": "stream",
     "text": [
      "Epoch: 19 (30/38)\n",
      "\tData load time: 0.139 sec\n",
      "\tGeneration time: 0.146 sec\n",
      "\tBackprop time: 0.168 sec\n",
      "\tLog probability: -37.5035 (avg -57.9440)\n",
      "\tKL: 48.6218 (avg 49.3850)\n",
      "\tLoss: 523.7211 (avg 551.7938)\n"
     ]
    },
    {
     "name": "stderr",
     "output_type": "stream",
     "text": [
      "100%|██████████| 38/38 [00:01<00:00, 23.63it/s]\n",
      "100%|██████████| 10/10 [00:00<00:00, 30.67it/s]\n",
      "  0%|          | 0/38 [00:00<?, ?it/s]"
     ]
    },
    {
     "name": "stdout",
     "output_type": "stream",
     "text": [
      "Epoch: 19 (10/10)\n",
      "\tData load time: 0.140 sec\n",
      "\tGeneration time: 0.146 sec\n",
      "\tLog probability: -67.2542 (avg -68.8384)\n",
      "\tKL: 46.6241 (avg 54.2482)\n",
      "\tLoss: 533.4952 (avg 611.3209)\n",
      "Lowest validation loss: 484.0584\n"
     ]
    },
    {
     "name": "stderr",
     "output_type": "stream",
     "text": [
      " 34%|███▍      | 13/38 [00:00<00:01, 14.80it/s]"
     ]
    },
    {
     "name": "stdout",
     "output_type": "stream",
     "text": [
      "Epoch: 20 (10/38)\n",
      "\tData load time: 0.131 sec\n",
      "\tGeneration time: 0.140 sec\n",
      "\tBackprop time: 0.162 sec\n",
      "\tLog probability: -74.9101 (avg -67.0671)\n",
      "\tKL: 53.4952 (avg 56.9120)\n",
      "\tLoss: 609.8622 (avg 636.1868)\n"
     ]
    },
    {
     "name": "stderr",
     "output_type": "stream",
     "text": [
      " 66%|██████▌   | 25/38 [00:01<00:00, 22.05it/s]"
     ]
    },
    {
     "name": "stdout",
     "output_type": "stream",
     "text": [
      "Epoch: 20 (20/38)\n",
      "\tData load time: 0.131 sec\n",
      "\tGeneration time: 0.140 sec\n",
      "\tBackprop time: 0.162 sec\n",
      "\tLog probability: -58.7939 (avg -73.5675)\n",
      "\tKL: 67.2001 (avg 56.9735)\n",
      "\tLoss: 730.7946 (avg 643.3021)\n"
     ]
    },
    {
     "name": "stderr",
     "output_type": "stream",
     "text": [
      " 89%|████████▉ | 34/38 [00:01<00:00, 24.48it/s]"
     ]
    },
    {
     "name": "stdout",
     "output_type": "stream",
     "text": [
      "Epoch: 20 (30/38)\n",
      "\tData load time: 0.131 sec\n",
      "\tGeneration time: 0.140 sec\n",
      "\tBackprop time: 0.162 sec\n",
      "\tLog probability: -64.4108 (avg -70.9914)\n",
      "\tKL: 47.3652 (avg 54.9905)\n",
      "\tLoss: 538.0626 (avg 620.8962)\n"
     ]
    },
    {
     "name": "stderr",
     "output_type": "stream",
     "text": [
      "100%|██████████| 38/38 [00:01<00:00, 23.81it/s]\n",
      "100%|██████████| 10/10 [00:00<00:00, 31.34it/s]\n",
      "  0%|          | 0/38 [00:00<?, ?it/s]"
     ]
    },
    {
     "name": "stdout",
     "output_type": "stream",
     "text": [
      "Epoch: 20 (10/10)\n",
      "\tData load time: 0.133 sec\n",
      "\tGeneration time: 0.141 sec\n",
      "\tLog probability: -50.5574 (avg -70.0840)\n",
      "\tKL: 29.1558 (avg 46.8966)\n",
      "\tLoss: 342.1154 (avg 539.0496)\n",
      "Lowest validation loss: 484.0584\n"
     ]
    },
    {
     "name": "stderr",
     "output_type": "stream",
     "text": [
      " 34%|███▍      | 13/38 [00:00<00:01, 14.23it/s]"
     ]
    },
    {
     "name": "stdout",
     "output_type": "stream",
     "text": [
      "Epoch: 21 (10/38)\n",
      "\tData load time: 0.142 sec\n",
      "\tGeneration time: 0.149 sec\n",
      "\tBackprop time: 0.171 sec\n",
      "\tLog probability: -48.0158 (avg -59.9769)\n",
      "\tKL: 49.9411 (avg 47.9896)\n",
      "\tLoss: 547.4265 (avg 539.8731)\n"
     ]
    },
    {
     "name": "stderr",
     "output_type": "stream",
     "text": [
      " 66%|██████▌   | 25/38 [00:01<00:00, 21.68it/s]"
     ]
    },
    {
     "name": "stdout",
     "output_type": "stream",
     "text": [
      "Epoch: 21 (20/38)\n",
      "\tData load time: 0.142 sec\n",
      "\tGeneration time: 0.149 sec\n",
      "\tBackprop time: 0.171 sec\n",
      "\tLog probability: -31.0585 (avg -53.9631)\n",
      "\tKL: 38.3483 (avg 45.0344)\n",
      "\tLoss: 414.5414 (avg 504.3073)\n"
     ]
    },
    {
     "name": "stderr",
     "output_type": "stream",
     "text": [
      " 89%|████████▉ | 34/38 [00:01<00:00, 24.30it/s]"
     ]
    },
    {
     "name": "stdout",
     "output_type": "stream",
     "text": [
      "Epoch: 21 (30/38)\n",
      "\tData load time: 0.142 sec\n",
      "\tGeneration time: 0.149 sec\n",
      "\tBackprop time: 0.171 sec\n",
      "\tLog probability: -34.7056 (avg -49.9560)\n",
      "\tKL: 44.2195 (avg 43.4574)\n",
      "\tLoss: 476.9007 (avg 484.5305)\n"
     ]
    },
    {
     "name": "stderr",
     "output_type": "stream",
     "text": [
      "100%|██████████| 38/38 [00:01<00:00, 23.51it/s]\n",
      "100%|██████████| 10/10 [00:00<00:00, 30.73it/s]\n"
     ]
    },
    {
     "name": "stdout",
     "output_type": "stream",
     "text": [
      "Epoch: 21 (10/10)\n",
      "\tData load time: 0.136 sec\n",
      "\tGeneration time: 0.145 sec\n",
      "\tLog probability: -23.3522 (avg -36.1860)\n",
      "\tKL: 31.5293 (avg 37.1741)\n",
      "\tLoss: 338.6450 (avg 407.9270)\n",
      "Saving checkpoint..\n"
     ]
    },
    {
     "name": "stderr",
     "output_type": "stream",
     "text": [
      "  0%|          | 0/38 [00:00<?, ?it/s]"
     ]
    },
    {
     "name": "stdout",
     "output_type": "stream",
     "text": [
      "Lowest validation loss: 407.9270\n"
     ]
    },
    {
     "name": "stderr",
     "output_type": "stream",
     "text": [
      " 34%|███▍      | 13/38 [00:00<00:01, 14.05it/s]"
     ]
    },
    {
     "name": "stdout",
     "output_type": "stream",
     "text": [
      "Epoch: 22 (10/38)\n",
      "\tData load time: 0.144 sec\n",
      "\tGeneration time: 0.155 sec\n",
      "\tBackprop time: 0.177 sec\n",
      "\tLog probability: -32.4007 (avg -50.6470)\n",
      "\tKL: 36.2446 (avg 40.1183)\n",
      "\tLoss: 394.8464 (avg 451.8295)\n"
     ]
    },
    {
     "name": "stderr",
     "output_type": "stream",
     "text": [
      " 66%|██████▌   | 25/38 [00:01<00:00, 21.57it/s]"
     ]
    },
    {
     "name": "stdout",
     "output_type": "stream",
     "text": [
      "Epoch: 22 (20/38)\n",
      "\tData load time: 0.144 sec\n",
      "\tGeneration time: 0.155 sec\n",
      "\tBackprop time: 0.177 sec\n",
      "\tLog probability: -61.0544 (avg -56.7706)\n",
      "\tKL: 45.9262 (avg 41.7281)\n",
      "\tLoss: 520.3165 (avg 474.0514)\n"
     ]
    },
    {
     "name": "stderr",
     "output_type": "stream",
     "text": [
      " 89%|████████▉ | 34/38 [00:01<00:00, 24.27it/s]"
     ]
    },
    {
     "name": "stdout",
     "output_type": "stream",
     "text": [
      "Epoch: 22 (30/38)\n",
      "\tData load time: 0.144 sec\n",
      "\tGeneration time: 0.155 sec\n",
      "\tBackprop time: 0.177 sec\n",
      "\tLog probability: -55.3868 (avg -51.4152)\n",
      "\tKL: 41.9191 (avg 41.2719)\n",
      "\tLoss: 474.5780 (avg 464.1340)\n"
     ]
    },
    {
     "name": "stderr",
     "output_type": "stream",
     "text": [
      "100%|██████████| 38/38 [00:01<00:00, 23.50it/s]\n",
      "100%|██████████| 10/10 [00:00<00:00, 30.95it/s]\n",
      "  0%|          | 0/38 [00:00<?, ?it/s]"
     ]
    },
    {
     "name": "stdout",
     "output_type": "stream",
     "text": [
      "Epoch: 22 (10/10)\n",
      "\tData load time: 0.133 sec\n",
      "\tGeneration time: 0.144 sec\n",
      "\tLog probability: -26.4323 (avg -32.1240)\n",
      "\tKL: 35.7291 (avg 44.5335)\n",
      "\tLoss: 383.7236 (avg 477.4593)\n",
      "Lowest validation loss: 407.9270\n"
     ]
    },
    {
     "name": "stderr",
     "output_type": "stream",
     "text": [
      " 34%|███▍      | 13/38 [00:00<00:01, 14.52it/s]"
     ]
    },
    {
     "name": "stdout",
     "output_type": "stream",
     "text": [
      "Epoch: 23 (10/38)\n",
      "\tData load time: 0.133 sec\n",
      "\tGeneration time: 0.145 sec\n",
      "\tBackprop time: 0.166 sec\n",
      "\tLog probability: -50.8007 (avg -42.6621)\n",
      "\tKL: 42.0478 (avg 48.2145)\n",
      "\tLoss: 471.2782 (avg 524.8075)\n"
     ]
    },
    {
     "name": "stderr",
     "output_type": "stream",
     "text": [
      " 66%|██████▌   | 25/38 [00:01<00:00, 21.93it/s]"
     ]
    },
    {
     "name": "stdout",
     "output_type": "stream",
     "text": [
      "Epoch: 23 (20/38)\n",
      "\tData load time: 0.133 sec\n",
      "\tGeneration time: 0.145 sec\n",
      "\tBackprop time: 0.166 sec\n",
      "\tLog probability: -39.8869 (avg -42.1302)\n",
      "\tKL: 37.1970 (avg 43.8610)\n",
      "\tLoss: 411.8566 (avg 480.7403)\n"
     ]
    },
    {
     "name": "stderr",
     "output_type": "stream",
     "text": [
      " 89%|████████▉ | 34/38 [00:01<00:00, 24.52it/s]"
     ]
    },
    {
     "name": "stdout",
     "output_type": "stream",
     "text": [
      "Epoch: 23 (30/38)\n",
      "\tData load time: 0.133 sec\n",
      "\tGeneration time: 0.145 sec\n",
      "\tBackprop time: 0.166 sec\n",
      "\tLog probability: -55.9468 (avg -46.0958)\n",
      "\tKL: 33.4254 (avg 41.8464)\n",
      "\tLoss: 390.2006 (avg 464.5596)\n"
     ]
    },
    {
     "name": "stderr",
     "output_type": "stream",
     "text": [
      "100%|██████████| 38/38 [00:01<00:00, 23.67it/s]\n",
      "100%|██████████| 10/10 [00:00<00:00, 31.07it/s]\n"
     ]
    },
    {
     "name": "stdout",
     "output_type": "stream",
     "text": [
      "Epoch: 23 (10/10)\n",
      "\tData load time: 0.131 sec\n",
      "\tGeneration time: 0.139 sec\n",
      "\tLog probability: -18.7244 (avg -32.7003)\n",
      "\tKL: 23.3680 (avg 33.6903)\n",
      "\tLoss: 252.4046 (avg 369.6033)\n",
      "Saving checkpoint..\n"
     ]
    },
    {
     "name": "stderr",
     "output_type": "stream",
     "text": [
      "  0%|          | 0/38 [00:00<?, ?it/s]"
     ]
    },
    {
     "name": "stdout",
     "output_type": "stream",
     "text": [
      "Lowest validation loss: 369.6033\n"
     ]
    },
    {
     "name": "stderr",
     "output_type": "stream",
     "text": [
      " 34%|███▍      | 13/38 [00:00<00:01, 14.36it/s]"
     ]
    },
    {
     "name": "stdout",
     "output_type": "stream",
     "text": [
      "Epoch: 24 (10/38)\n",
      "\tData load time: 0.138 sec\n",
      "\tGeneration time: 0.149 sec\n",
      "\tBackprop time: 0.170 sec\n",
      "\tLog probability: -45.8412 (avg -36.5790)\n",
      "\tKL: 32.4364 (avg 34.4512)\n",
      "\tLoss: 370.2053 (avg 381.0907)\n"
     ]
    },
    {
     "name": "stderr",
     "output_type": "stream",
     "text": [
      " 66%|██████▌   | 25/38 [00:01<00:00, 21.73it/s]"
     ]
    },
    {
     "name": "stdout",
     "output_type": "stream",
     "text": [
      "Epoch: 24 (20/38)\n",
      "\tData load time: 0.138 sec\n",
      "\tGeneration time: 0.149 sec\n",
      "\tBackprop time: 0.170 sec\n",
      "\tLog probability: -42.5967 (avg -42.2291)\n",
      "\tKL: 30.8981 (avg 33.4744)\n",
      "\tLoss: 351.5778 (avg 376.9733)\n"
     ]
    },
    {
     "name": "stderr",
     "output_type": "stream",
     "text": [
      " 89%|████████▉ | 34/38 [00:01<00:00, 24.34it/s]"
     ]
    },
    {
     "name": "stdout",
     "output_type": "stream",
     "text": [
      "Epoch: 24 (30/38)\n",
      "\tData load time: 0.138 sec\n",
      "\tGeneration time: 0.149 sec\n",
      "\tBackprop time: 0.170 sec\n",
      "\tLog probability: -50.6549 (avg -41.4593)\n",
      "\tKL: 31.6393 (avg 33.8592)\n",
      "\tLoss: 367.0477 (avg 380.0510)\n"
     ]
    },
    {
     "name": "stderr",
     "output_type": "stream",
     "text": [
      "100%|██████████| 38/38 [00:01<00:00, 23.61it/s]\n",
      "100%|██████████| 10/10 [00:00<00:00, 30.73it/s]\n",
      "  0%|          | 0/38 [00:00<?, ?it/s]"
     ]
    },
    {
     "name": "stdout",
     "output_type": "stream",
     "text": [
      "Epoch: 24 (10/10)\n",
      "\tData load time: 0.137 sec\n",
      "\tGeneration time: 0.144 sec\n",
      "\tLog probability: -59.7802 (avg -37.2070)\n",
      "\tKL: 56.9725 (avg 38.2469)\n",
      "\tLoss: 629.5051 (avg 419.6764)\n",
      "Lowest validation loss: 369.6033\n"
     ]
    },
    {
     "name": "stderr",
     "output_type": "stream",
     "text": [
      " 34%|███▍      | 13/38 [00:00<00:01, 14.50it/s]"
     ]
    },
    {
     "name": "stdout",
     "output_type": "stream",
     "text": [
      "Epoch: 25 (10/38)\n",
      "\tData load time: 0.137 sec\n",
      "\tGeneration time: 0.148 sec\n",
      "\tBackprop time: 0.168 sec\n",
      "\tLog probability: -41.9587 (avg -43.3815)\n",
      "\tKL: 33.2710 (avg 36.6157)\n",
      "\tLoss: 374.6690 (avg 409.5384)\n"
     ]
    },
    {
     "name": "stderr",
     "output_type": "stream",
     "text": [
      " 66%|██████▌   | 25/38 [00:01<00:00, 21.87it/s]"
     ]
    },
    {
     "name": "stdout",
     "output_type": "stream",
     "text": [
      "Epoch: 25 (20/38)\n",
      "\tData load time: 0.137 sec\n",
      "\tGeneration time: 0.148 sec\n",
      "\tBackprop time: 0.168 sec\n",
      "\tLog probability: -51.4862 (avg -49.4594)\n",
      "\tKL: 34.0412 (avg 35.5511)\n",
      "\tLoss: 391.8979 (avg 404.9703)\n"
     ]
    },
    {
     "name": "stderr",
     "output_type": "stream",
     "text": [
      " 89%|████████▉ | 34/38 [00:01<00:00, 24.46it/s]"
     ]
    },
    {
     "name": "stdout",
     "output_type": "stream",
     "text": [
      "Epoch: 25 (30/38)\n",
      "\tData load time: 0.137 sec\n",
      "\tGeneration time: 0.148 sec\n",
      "\tBackprop time: 0.168 sec\n",
      "\tLog probability: -34.3048 (avg -46.7130)\n",
      "\tKL: 29.7273 (avg 34.3621)\n",
      "\tLoss: 331.5778 (avg 390.3339)\n"
     ]
    },
    {
     "name": "stderr",
     "output_type": "stream",
     "text": [
      "100%|██████████| 38/38 [00:01<00:00, 23.71it/s]\n",
      "100%|██████████| 10/10 [00:00<00:00, 30.76it/s]\n"
     ]
    },
    {
     "name": "stdout",
     "output_type": "stream",
     "text": [
      "Epoch: 25 (10/10)\n",
      "\tData load time: 0.135 sec\n",
      "\tGeneration time: 0.143 sec\n",
      "\tLog probability: -37.2275 (avg -31.6151)\n",
      "\tKL: 39.5695 (avg 31.8181)\n",
      "\tLoss: 432.9228 (avg 349.7961)\n",
      "Saving checkpoint..\n"
     ]
    },
    {
     "name": "stderr",
     "output_type": "stream",
     "text": [
      "  0%|          | 0/38 [00:00<?, ?it/s]"
     ]
    },
    {
     "name": "stdout",
     "output_type": "stream",
     "text": [
      "Lowest validation loss: 349.7961\n"
     ]
    },
    {
     "name": "stderr",
     "output_type": "stream",
     "text": [
      " 34%|███▍      | 13/38 [00:00<00:01, 14.16it/s]"
     ]
    },
    {
     "name": "stdout",
     "output_type": "stream",
     "text": [
      "Epoch: 26 (10/38)\n",
      "\tData load time: 0.143 sec\n",
      "\tGeneration time: 0.151 sec\n",
      "\tBackprop time: 0.173 sec\n",
      "\tLog probability: -46.0341 (avg -48.4540)\n",
      "\tKL: 30.7509 (avg 31.4941)\n",
      "\tLoss: 353.5429 (avg 363.3951)\n"
     ]
    },
    {
     "name": "stderr",
     "output_type": "stream",
     "text": [
      " 66%|██████▌   | 25/38 [00:01<00:00, 21.74it/s]"
     ]
    },
    {
     "name": "stdout",
     "output_type": "stream",
     "text": [
      "Epoch: 26 (20/38)\n",
      "\tData load time: 0.143 sec\n",
      "\tGeneration time: 0.151 sec\n",
      "\tBackprop time: 0.173 sec\n",
      "\tLog probability: -30.4110 (avg -41.6996)\n",
      "\tKL: 28.1878 (avg 30.7011)\n",
      "\tLoss: 312.2893 (avg 348.7102)\n"
     ]
    },
    {
     "name": "stderr",
     "output_type": "stream",
     "text": [
      " 89%|████████▉ | 34/38 [00:01<00:00, 24.37it/s]"
     ]
    },
    {
     "name": "stdout",
     "output_type": "stream",
     "text": [
      "Epoch: 26 (30/38)\n",
      "\tData load time: 0.143 sec\n",
      "\tGeneration time: 0.151 sec\n",
      "\tBackprop time: 0.173 sec\n",
      "\tLog probability: -43.5348 (avg -43.4183)\n",
      "\tKL: 26.7381 (avg 30.5190)\n",
      "\tLoss: 310.9159 (avg 348.6086)\n"
     ]
    },
    {
     "name": "stderr",
     "output_type": "stream",
     "text": [
      "100%|██████████| 38/38 [00:01<00:00, 23.54it/s]\n",
      "100%|██████████| 10/10 [00:00<00:00, 30.27it/s]\n"
     ]
    },
    {
     "name": "stdout",
     "output_type": "stream",
     "text": [
      "Epoch: 26 (10/10)\n",
      "\tData load time: 0.136 sec\n",
      "\tGeneration time: 0.144 sec\n",
      "\tLog probability: -23.0438 (avg -30.2627)\n",
      "\tKL: 25.8678 (avg 31.4324)\n",
      "\tLoss: 281.7217 (avg 344.5863)\n",
      "Saving checkpoint..\n"
     ]
    },
    {
     "name": "stderr",
     "output_type": "stream",
     "text": [
      "  0%|          | 0/38 [00:00<?, ?it/s]"
     ]
    },
    {
     "name": "stdout",
     "output_type": "stream",
     "text": [
      "Lowest validation loss: 344.5863\n"
     ]
    },
    {
     "name": "stderr",
     "output_type": "stream",
     "text": [
      " 34%|███▍      | 13/38 [00:00<00:01, 14.27it/s]"
     ]
    },
    {
     "name": "stdout",
     "output_type": "stream",
     "text": [
      "Epoch: 27 (10/38)\n",
      "\tData load time: 0.143 sec\n",
      "\tGeneration time: 0.152 sec\n",
      "\tBackprop time: 0.173 sec\n",
      "\tLog probability: -44.0191 (avg -43.9997)\n",
      "\tKL: 31.7285 (avg 30.4237)\n",
      "\tLoss: 361.3041 (avg 348.2363)\n"
     ]
    },
    {
     "name": "stderr",
     "output_type": "stream",
     "text": [
      " 66%|██████▌   | 25/38 [00:01<00:00, 21.70it/s]"
     ]
    },
    {
     "name": "stdout",
     "output_type": "stream",
     "text": [
      "Epoch: 27 (20/38)\n",
      "\tData load time: 0.143 sec\n",
      "\tGeneration time: 0.152 sec\n",
      "\tBackprop time: 0.173 sec\n",
      "\tLog probability: -78.2624 (avg -42.3067)\n",
      "\tKL: 28.9749 (avg 29.3323)\n",
      "\tLoss: 368.0118 (avg 335.6294)\n"
     ]
    },
    {
     "name": "stderr",
     "output_type": "stream",
     "text": [
      " 89%|████████▉ | 34/38 [00:01<00:00, 24.32it/s]"
     ]
    },
    {
     "name": "stdout",
     "output_type": "stream",
     "text": [
      "Epoch: 27 (30/38)\n",
      "\tData load time: 0.143 sec\n",
      "\tGeneration time: 0.152 sec\n",
      "\tBackprop time: 0.173 sec\n",
      "\tLog probability: -26.5184 (avg -41.6974)\n",
      "\tKL: 30.7788 (avg 28.8066)\n",
      "\tLoss: 334.3061 (avg 329.7635)\n"
     ]
    },
    {
     "name": "stderr",
     "output_type": "stream",
     "text": [
      "100%|██████████| 38/38 [00:01<00:00, 23.60it/s]\n",
      "100%|██████████| 10/10 [00:00<00:00, 30.89it/s]\n"
     ]
    },
    {
     "name": "stdout",
     "output_type": "stream",
     "text": [
      "Epoch: 27 (10/10)\n",
      "\tData load time: 0.135 sec\n",
      "\tGeneration time: 0.143 sec\n",
      "\tLog probability: -29.2588 (avg -28.9529)\n",
      "\tKL: 27.9241 (avg 27.1767)\n",
      "\tLoss: 308.4997 (avg 300.7195)\n",
      "Saving checkpoint..\n"
     ]
    },
    {
     "name": "stderr",
     "output_type": "stream",
     "text": [
      "  0%|          | 0/38 [00:00<?, ?it/s]"
     ]
    },
    {
     "name": "stdout",
     "output_type": "stream",
     "text": [
      "Lowest validation loss: 300.7195\n"
     ]
    },
    {
     "name": "stderr",
     "output_type": "stream",
     "text": [
      " 34%|███▍      | 13/38 [00:00<00:01, 14.34it/s]"
     ]
    },
    {
     "name": "stdout",
     "output_type": "stream",
     "text": [
      "Epoch: 28 (10/38)\n",
      "\tData load time: 0.139 sec\n",
      "\tGeneration time: 0.149 sec\n",
      "\tBackprop time: 0.170 sec\n",
      "\tLog probability: -34.8488 (avg -42.7702)\n",
      "\tKL: 24.5366 (avg 28.0618)\n",
      "\tLoss: 280.2151 (avg 323.3886)\n"
     ]
    },
    {
     "name": "stderr",
     "output_type": "stream",
     "text": [
      " 66%|██████▌   | 25/38 [00:01<00:00, 21.74it/s]"
     ]
    },
    {
     "name": "stdout",
     "output_type": "stream",
     "text": [
      "Epoch: 28 (20/38)\n",
      "\tData load time: 0.139 sec\n",
      "\tGeneration time: 0.149 sec\n",
      "\tBackprop time: 0.170 sec\n",
      "\tLog probability: -36.6148 (avg -41.4079)\n",
      "\tKL: 26.9612 (avg 27.6601)\n",
      "\tLoss: 306.2263 (avg 318.0085)\n"
     ]
    },
    {
     "name": "stderr",
     "output_type": "stream",
     "text": [
      " 89%|████████▉ | 34/38 [00:01<00:00, 24.32it/s]"
     ]
    },
    {
     "name": "stdout",
     "output_type": "stream",
     "text": [
      "Epoch: 28 (30/38)\n",
      "\tData load time: 0.139 sec\n",
      "\tGeneration time: 0.149 sec\n",
      "\tBackprop time: 0.170 sec\n",
      "\tLog probability: -31.5579 (avg -38.2755)\n",
      "\tKL: 27.0813 (avg 27.6460)\n",
      "\tLoss: 302.3711 (avg 314.7350)\n"
     ]
    },
    {
     "name": "stderr",
     "output_type": "stream",
     "text": [
      "100%|██████████| 38/38 [00:01<00:00, 23.61it/s]\n",
      "100%|██████████| 10/10 [00:00<00:00, 30.81it/s]\n",
      "  0%|          | 0/38 [00:00<?, ?it/s]"
     ]
    },
    {
     "name": "stdout",
     "output_type": "stream",
     "text": [
      "Epoch: 28 (10/10)\n",
      "\tData load time: 0.139 sec\n",
      "\tGeneration time: 0.148 sec\n",
      "\tLog probability: -44.8458 (avg -29.8555)\n",
      "\tKL: 36.9476 (avg 28.8093)\n",
      "\tLoss: 414.3214 (avg 317.9484)\n",
      "Lowest validation loss: 300.7195\n"
     ]
    },
    {
     "name": "stderr",
     "output_type": "stream",
     "text": [
      " 34%|███▍      | 13/38 [00:00<00:01, 14.42it/s]"
     ]
    },
    {
     "name": "stdout",
     "output_type": "stream",
     "text": [
      "Epoch: 29 (10/38)\n",
      "\tData load time: 0.138 sec\n",
      "\tGeneration time: 0.146 sec\n",
      "\tBackprop time: 0.169 sec\n",
      "\tLog probability: -79.5226 (avg -46.4812)\n",
      "\tKL: 31.8096 (avg 27.7964)\n",
      "\tLoss: 397.6187 (avg 324.4457)\n"
     ]
    },
    {
     "name": "stderr",
     "output_type": "stream",
     "text": [
      " 66%|██████▌   | 25/38 [00:01<00:00, 21.72it/s]"
     ]
    },
    {
     "name": "stdout",
     "output_type": "stream",
     "text": [
      "Epoch: 29 (20/38)\n",
      "\tData load time: 0.138 sec\n",
      "\tGeneration time: 0.146 sec\n",
      "\tBackprop time: 0.169 sec\n",
      "\tLog probability: -45.4018 (avg -41.7832)\n",
      "\tKL: 26.9024 (avg 26.6972)\n",
      "\tLoss: 314.4261 (avg 308.7551)\n"
     ]
    },
    {
     "name": "stderr",
     "output_type": "stream",
     "text": [
      " 89%|████████▉ | 34/38 [00:01<00:00, 24.45it/s]"
     ]
    },
    {
     "name": "stdout",
     "output_type": "stream",
     "text": [
      "Epoch: 29 (30/38)\n",
      "\tData load time: 0.138 sec\n",
      "\tGeneration time: 0.146 sec\n",
      "\tBackprop time: 0.169 sec\n",
      "\tLog probability: -31.0020 (avg -40.0682)\n",
      "\tKL: 24.2820 (avg 26.2390)\n",
      "\tLoss: 273.8219 (avg 302.4582)\n"
     ]
    },
    {
     "name": "stderr",
     "output_type": "stream",
     "text": [
      "100%|██████████| 38/38 [00:01<00:00, 23.64it/s]\n",
      "100%|██████████| 10/10 [00:00<00:00, 30.86it/s]\n"
     ]
    },
    {
     "name": "stdout",
     "output_type": "stream",
     "text": [
      "Epoch: 29 (10/10)\n",
      "\tData load time: 0.134 sec\n",
      "\tGeneration time: 0.142 sec\n",
      "\tLog probability: -15.9179 (avg -27.1428)\n",
      "\tKL: 16.9716 (avg 25.4632)\n",
      "\tLoss: 185.6338 (avg 281.7752)\n",
      "Saving checkpoint..\n"
     ]
    },
    {
     "name": "stderr",
     "output_type": "stream",
     "text": [
      "  0%|          | 0/38 [00:00<?, ?it/s]"
     ]
    },
    {
     "name": "stdout",
     "output_type": "stream",
     "text": [
      "Lowest validation loss: 281.7752\n"
     ]
    },
    {
     "name": "stderr",
     "output_type": "stream",
     "text": [
      " 34%|███▍      | 13/38 [00:00<00:01, 14.51it/s]"
     ]
    },
    {
     "name": "stdout",
     "output_type": "stream",
     "text": [
      "Epoch: 30 (10/38)\n",
      "\tData load time: 0.135 sec\n",
      "\tGeneration time: 0.145 sec\n",
      "\tBackprop time: 0.167 sec\n",
      "\tLog probability: -26.5801 (avg -35.0989)\n",
      "\tKL: 24.2255 (avg 25.3360)\n",
      "\tLoss: 268.8352 (avg 288.4592)\n"
     ]
    },
    {
     "name": "stderr",
     "output_type": "stream",
     "text": [
      " 66%|██████▌   | 25/38 [00:01<00:00, 21.86it/s]"
     ]
    },
    {
     "name": "stdout",
     "output_type": "stream",
     "text": [
      "Epoch: 30 (20/38)\n",
      "\tData load time: 0.135 sec\n",
      "\tGeneration time: 0.145 sec\n",
      "\tBackprop time: 0.167 sec\n",
      "\tLog probability: -23.6028 (avg -37.9973)\n",
      "\tKL: 26.4029 (avg 25.6676)\n",
      "\tLoss: 287.6314 (avg 294.6734)\n"
     ]
    },
    {
     "name": "stderr",
     "output_type": "stream",
     "text": [
      " 89%|████████▉ | 34/38 [00:01<00:00, 24.38it/s]"
     ]
    },
    {
     "name": "stdout",
     "output_type": "stream",
     "text": [
      "Epoch: 30 (30/38)\n",
      "\tData load time: 0.135 sec\n",
      "\tGeneration time: 0.145 sec\n",
      "\tBackprop time: 0.167 sec\n",
      "\tLog probability: -50.1541 (avg -38.2456)\n",
      "\tKL: 33.3925 (avg 25.9694)\n",
      "\tLoss: 384.0792 (avg 297.9401)\n"
     ]
    },
    {
     "name": "stderr",
     "output_type": "stream",
     "text": [
      "100%|██████████| 38/38 [00:01<00:00, 23.62it/s]\n",
      "100%|██████████| 10/10 [00:00<00:00, 31.13it/s]\n"
     ]
    },
    {
     "name": "stdout",
     "output_type": "stream",
     "text": [
      "Epoch: 30 (10/10)\n",
      "\tData load time: 0.134 sec\n",
      "\tGeneration time: 0.143 sec\n",
      "\tLog probability: -13.1300 (avg -26.6282)\n",
      "\tKL: 14.2085 (avg 23.2655)\n",
      "\tLoss: 155.2147 (avg 259.2831)\n",
      "Saving checkpoint..\n"
     ]
    },
    {
     "name": "stderr",
     "output_type": "stream",
     "text": [
      "  0%|          | 0/38 [00:00<?, ?it/s]"
     ]
    },
    {
     "name": "stdout",
     "output_type": "stream",
     "text": [
      "Lowest validation loss: 259.2831\n"
     ]
    },
    {
     "name": "stderr",
     "output_type": "stream",
     "text": [
      " 34%|███▍      | 13/38 [00:00<00:01, 14.42it/s]"
     ]
    },
    {
     "name": "stdout",
     "output_type": "stream",
     "text": [
      "Epoch: 31 (10/38)\n",
      "\tData load time: 0.139 sec\n",
      "\tGeneration time: 0.148 sec\n",
      "\tBackprop time: 0.169 sec\n",
      "\tLog probability: -31.5541 (avg -38.1734)\n",
      "\tKL: 26.6586 (avg 26.6671)\n",
      "\tLoss: 298.1397 (avg 304.8446)\n"
     ]
    },
    {
     "name": "stderr",
     "output_type": "stream",
     "text": [
      " 66%|██████▌   | 25/38 [00:01<00:00, 21.80it/s]"
     ]
    },
    {
     "name": "stdout",
     "output_type": "stream",
     "text": [
      "Epoch: 31 (20/38)\n",
      "\tData load time: 0.139 sec\n",
      "\tGeneration time: 0.148 sec\n",
      "\tBackprop time: 0.169 sec\n",
      "\tLog probability: -34.2118 (avg -34.9354)\n",
      "\tKL: 27.1076 (avg 26.3710)\n",
      "\tLoss: 305.2874 (avg 298.6458)\n"
     ]
    },
    {
     "name": "stderr",
     "output_type": "stream",
     "text": [
      " 89%|████████▉ | 34/38 [00:01<00:00, 24.38it/s]"
     ]
    },
    {
     "name": "stdout",
     "output_type": "stream",
     "text": [
      "Epoch: 31 (30/38)\n",
      "\tData load time: 0.139 sec\n",
      "\tGeneration time: 0.148 sec\n",
      "\tBackprop time: 0.169 sec\n",
      "\tLog probability: -52.2610 (avg -35.5515)\n",
      "\tKL: 27.5986 (avg 25.9767)\n",
      "\tLoss: 328.2472 (avg 295.3190)\n"
     ]
    },
    {
     "name": "stderr",
     "output_type": "stream",
     "text": [
      "100%|██████████| 38/38 [00:01<00:00, 23.65it/s]\n",
      "100%|██████████| 10/10 [00:00<00:00, 31.07it/s]\n",
      "  0%|          | 0/38 [00:00<?, ?it/s]"
     ]
    },
    {
     "name": "stdout",
     "output_type": "stream",
     "text": [
      "Epoch: 31 (10/10)\n",
      "\tData load time: 0.134 sec\n",
      "\tGeneration time: 0.142 sec\n",
      "\tLog probability: -20.7315 (avg -24.0667)\n",
      "\tKL: 19.4113 (avg 23.7651)\n",
      "\tLoss: 214.8442 (avg 261.7174)\n",
      "Lowest validation loss: 259.2831\n"
     ]
    },
    {
     "name": "stderr",
     "output_type": "stream",
     "text": [
      " 34%|███▍      | 13/38 [00:00<00:01, 14.74it/s]"
     ]
    },
    {
     "name": "stdout",
     "output_type": "stream",
     "text": [
      "Epoch: 32 (10/38)\n",
      "\tData load time: 0.133 sec\n",
      "\tGeneration time: 0.141 sec\n",
      "\tBackprop time: 0.163 sec\n",
      "\tLog probability: -39.8321 (avg -39.9825)\n",
      "\tKL: 27.6345 (avg 26.3499)\n",
      "\tLoss: 316.1775 (avg 303.4816)\n"
     ]
    },
    {
     "name": "stderr",
     "output_type": "stream",
     "text": [
      " 66%|██████▌   | 25/38 [00:01<00:00, 21.91it/s]"
     ]
    },
    {
     "name": "stdout",
     "output_type": "stream",
     "text": [
      "Epoch: 32 (20/38)\n",
      "\tData load time: 0.133 sec\n",
      "\tGeneration time: 0.141 sec\n",
      "\tBackprop time: 0.163 sec\n",
      "\tLog probability: -59.1692 (avg -38.9394)\n",
      "\tKL: 24.8681 (avg 26.0884)\n",
      "\tLoss: 307.8506 (avg 299.8231)\n"
     ]
    },
    {
     "name": "stderr",
     "output_type": "stream",
     "text": [
      " 89%|████████▉ | 34/38 [00:01<00:00, 24.44it/s]"
     ]
    },
    {
     "name": "stdout",
     "output_type": "stream",
     "text": [
      "Epoch: 32 (30/38)\n",
      "\tData load time: 0.133 sec\n",
      "\tGeneration time: 0.141 sec\n",
      "\tBackprop time: 0.163 sec\n",
      "\tLog probability: -41.8237 (avg -35.9732)\n",
      "\tKL: 24.6397 (avg 25.7383)\n",
      "\tLoss: 288.2206 (avg 293.3557)\n"
     ]
    },
    {
     "name": "stderr",
     "output_type": "stream",
     "text": [
      "100%|██████████| 38/38 [00:01<00:00, 23.70it/s]\n",
      "100%|██████████| 10/10 [00:00<00:00, 30.81it/s]\n",
      "  0%|          | 0/38 [00:00<?, ?it/s]"
     ]
    },
    {
     "name": "stdout",
     "output_type": "stream",
     "text": [
      "Epoch: 32 (10/10)\n",
      "\tData load time: 0.135 sec\n",
      "\tGeneration time: 0.145 sec\n",
      "\tLog probability: -22.8849 (avg -24.0976)\n",
      "\tKL: 20.7525 (avg 23.6103)\n",
      "\tLoss: 230.4103 (avg 260.2004)\n",
      "Lowest validation loss: 259.2831\n"
     ]
    },
    {
     "name": "stderr",
     "output_type": "stream",
     "text": [
      " 34%|███▍      | 13/38 [00:00<00:01, 14.64it/s]"
     ]
    },
    {
     "name": "stdout",
     "output_type": "stream",
     "text": [
      "Epoch: 33 (10/38)\n",
      "\tData load time: 0.133 sec\n",
      "\tGeneration time: 0.145 sec\n",
      "\tBackprop time: 0.165 sec\n",
      "\tLog probability: -43.8639 (avg -47.6260)\n",
      "\tKL: 22.6961 (avg 27.1505)\n",
      "\tLoss: 270.8247 (avg 319.1315)\n"
     ]
    },
    {
     "name": "stderr",
     "output_type": "stream",
     "text": [
      " 66%|██████▌   | 25/38 [00:01<00:00, 21.89it/s]"
     ]
    },
    {
     "name": "stdout",
     "output_type": "stream",
     "text": [
      "Epoch: 33 (20/38)\n",
      "\tData load time: 0.133 sec\n",
      "\tGeneration time: 0.145 sec\n",
      "\tBackprop time: 0.165 sec\n",
      "\tLog probability: -21.9917 (avg -41.0203)\n",
      "\tKL: 25.0072 (avg 26.8595)\n",
      "\tLoss: 272.0638 (avg 309.6151)\n"
     ]
    },
    {
     "name": "stderr",
     "output_type": "stream",
     "text": [
      " 89%|████████▉ | 34/38 [00:01<00:00, 24.36it/s]"
     ]
    },
    {
     "name": "stdout",
     "output_type": "stream",
     "text": [
      "Epoch: 33 (30/38)\n",
      "\tData load time: 0.133 sec\n",
      "\tGeneration time: 0.145 sec\n",
      "\tBackprop time: 0.165 sec\n",
      "\tLog probability: -24.2279 (avg -40.1898)\n",
      "\tKL: 24.1480 (avg 26.6188)\n",
      "\tLoss: 265.7079 (avg 306.3777)\n"
     ]
    },
    {
     "name": "stderr",
     "output_type": "stream",
     "text": [
      "100%|██████████| 38/38 [00:01<00:00, 23.51it/s]\n",
      "100%|██████████| 10/10 [00:00<00:00, 31.57it/s]\n",
      "  0%|          | 0/38 [00:00<?, ?it/s]"
     ]
    },
    {
     "name": "stdout",
     "output_type": "stream",
     "text": [
      "Epoch: 33 (10/10)\n",
      "\tData load time: 0.130 sec\n",
      "\tGeneration time: 0.141 sec\n",
      "\tLog probability: -41.4635 (avg -45.5759)\n",
      "\tKL: 19.1822 (avg 22.9965)\n",
      "\tLoss: 233.2854 (avg 275.5407)\n",
      "Lowest validation loss: 259.2831\n"
     ]
    },
    {
     "name": "stderr",
     "output_type": "stream",
     "text": [
      " 34%|███▍      | 13/38 [00:00<00:01, 14.68it/s]"
     ]
    },
    {
     "name": "stdout",
     "output_type": "stream",
     "text": [
      "Epoch: 34 (10/38)\n",
      "\tData load time: 0.134 sec\n",
      "\tGeneration time: 0.146 sec\n",
      "\tBackprop time: 0.164 sec\n",
      "\tLog probability: -33.5908 (avg -37.4353)\n",
      "\tKL: 28.1392 (avg 26.6457)\n",
      "\tLoss: 314.9829 (avg 303.8927)\n"
     ]
    },
    {
     "name": "stderr",
     "output_type": "stream",
     "text": [
      " 66%|██████▌   | 25/38 [00:01<00:00, 21.87it/s]"
     ]
    },
    {
     "name": "stdout",
     "output_type": "stream",
     "text": [
      "Epoch: 34 (20/38)\n",
      "\tData load time: 0.134 sec\n",
      "\tGeneration time: 0.146 sec\n",
      "\tBackprop time: 0.164 sec\n",
      "\tLog probability: -47.5668 (avg -38.6339)\n",
      "\tKL: 28.8043 (avg 27.2836)\n",
      "\tLoss: 335.6098 (avg 311.4695)\n"
     ]
    },
    {
     "name": "stderr",
     "output_type": "stream",
     "text": [
      " 89%|████████▉ | 34/38 [00:01<00:00, 24.38it/s]"
     ]
    },
    {
     "name": "stdout",
     "output_type": "stream",
     "text": [
      "Epoch: 34 (30/38)\n",
      "\tData load time: 0.134 sec\n",
      "\tGeneration time: 0.146 sec\n",
      "\tBackprop time: 0.164 sec\n",
      "\tLog probability: -34.4892 (avg -35.7392)\n",
      "\tKL: 25.1313 (avg 27.0459)\n",
      "\tLoss: 285.8019 (avg 306.1986)\n"
     ]
    },
    {
     "name": "stderr",
     "output_type": "stream",
     "text": [
      "100%|██████████| 38/38 [00:01<00:00, 23.64it/s]\n",
      "100%|██████████| 10/10 [00:00<00:00, 30.17it/s]\n",
      "  0%|          | 0/38 [00:00<?, ?it/s]"
     ]
    },
    {
     "name": "stdout",
     "output_type": "stream",
     "text": [
      "Epoch: 34 (10/10)\n",
      "\tData load time: 0.134 sec\n",
      "\tGeneration time: 0.144 sec\n",
      "\tLog probability: -52.1368 (avg -26.4440)\n",
      "\tKL: 33.9624 (avg 26.3976)\n",
      "\tLoss: 391.7607 (avg 290.4195)\n",
      "Lowest validation loss: 259.2831\n"
     ]
    },
    {
     "name": "stderr",
     "output_type": "stream",
     "text": [
      " 34%|███▍      | 13/38 [00:00<00:01, 14.48it/s]"
     ]
    },
    {
     "name": "stdout",
     "output_type": "stream",
     "text": [
      "Epoch: 35 (10/38)\n",
      "\tData load time: 0.137 sec\n",
      "\tGeneration time: 0.147 sec\n",
      "\tBackprop time: 0.168 sec\n",
      "\tLog probability: -22.1727 (avg -39.4249)\n",
      "\tKL: 25.8117 (avg 30.3936)\n",
      "\tLoss: 280.2893 (avg 343.3605)\n"
     ]
    },
    {
     "name": "stderr",
     "output_type": "stream",
     "text": [
      " 66%|██████▌   | 25/38 [00:01<00:00, 21.85it/s]"
     ]
    },
    {
     "name": "stdout",
     "output_type": "stream",
     "text": [
      "Epoch: 35 (20/38)\n",
      "\tData load time: 0.137 sec\n",
      "\tGeneration time: 0.147 sec\n",
      "\tBackprop time: 0.168 sec\n",
      "\tLog probability: -106.0045 (avg -40.3863)\n",
      "\tKL: 35.4909 (avg 29.1373)\n",
      "\tLoss: 460.9130 (avg 331.7589)\n"
     ]
    },
    {
     "name": "stderr",
     "output_type": "stream",
     "text": [
      " 89%|████████▉ | 34/38 [00:01<00:00, 24.36it/s]"
     ]
    },
    {
     "name": "stdout",
     "output_type": "stream",
     "text": [
      "Epoch: 35 (30/38)\n",
      "\tData load time: 0.137 sec\n",
      "\tGeneration time: 0.147 sec\n",
      "\tBackprop time: 0.168 sec\n",
      "\tLog probability: -75.0512 (avg -40.6414)\n",
      "\tKL: 30.3203 (avg 29.2489)\n",
      "\tLoss: 378.2542 (avg 333.1304)\n"
     ]
    },
    {
     "name": "stderr",
     "output_type": "stream",
     "text": [
      "100%|██████████| 38/38 [00:01<00:00, 23.57it/s]\n",
      "100%|██████████| 10/10 [00:00<00:00, 29.90it/s]\n",
      "  0%|          | 0/38 [00:00<?, ?it/s]"
     ]
    },
    {
     "name": "stdout",
     "output_type": "stream",
     "text": [
      "Epoch: 35 (10/10)\n",
      "\tData load time: 0.138 sec\n",
      "\tGeneration time: 0.146 sec\n",
      "\tLog probability: -10.3842 (avg -21.3529)\n",
      "\tKL: 27.1058 (avg 25.2952)\n",
      "\tLoss: 281.4426 (avg 274.3050)\n",
      "Lowest validation loss: 259.2831\n"
     ]
    },
    {
     "name": "stderr",
     "output_type": "stream",
     "text": [
      " 34%|███▍      | 13/38 [00:00<00:01, 14.20it/s]"
     ]
    },
    {
     "name": "stdout",
     "output_type": "stream",
     "text": [
      "Epoch: 36 (10/38)\n",
      "\tData load time: 0.141 sec\n",
      "\tGeneration time: 0.152 sec\n",
      "\tBackprop time: 0.174 sec\n",
      "\tLog probability: -26.9410 (avg -34.0984)\n",
      "\tKL: 27.4947 (avg 26.3609)\n",
      "\tLoss: 301.8884 (avg 297.7073)\n"
     ]
    },
    {
     "name": "stderr",
     "output_type": "stream",
     "text": [
      " 66%|██████▌   | 25/38 [00:01<00:00, 21.58it/s]"
     ]
    },
    {
     "name": "stdout",
     "output_type": "stream",
     "text": [
      "Epoch: 36 (20/38)\n",
      "\tData load time: 0.141 sec\n",
      "\tGeneration time: 0.152 sec\n",
      "\tBackprop time: 0.174 sec\n",
      "\tLog probability: -24.9923 (avg -32.4222)\n",
      "\tKL: 23.1786 (avg 26.3066)\n",
      "\tLoss: 256.7780 (avg 295.4883)\n"
     ]
    },
    {
     "name": "stderr",
     "output_type": "stream",
     "text": [
      " 89%|████████▉ | 34/38 [00:01<00:00, 24.27it/s]"
     ]
    },
    {
     "name": "stdout",
     "output_type": "stream",
     "text": [
      "Epoch: 36 (30/38)\n",
      "\tData load time: 0.141 sec\n",
      "\tGeneration time: 0.152 sec\n",
      "\tBackprop time: 0.174 sec\n",
      "\tLog probability: -52.6678 (avg -38.0112)\n",
      "\tKL: 28.7708 (avg 26.7017)\n",
      "\tLoss: 340.3753 (avg 305.0285)\n"
     ]
    },
    {
     "name": "stderr",
     "output_type": "stream",
     "text": [
      "100%|██████████| 38/38 [00:01<00:00, 23.52it/s]\n",
      "100%|██████████| 10/10 [00:00<00:00, 32.44it/s]\n",
      "  0%|          | 0/38 [00:00<?, ?it/s]"
     ]
    },
    {
     "name": "stdout",
     "output_type": "stream",
     "text": [
      "Epoch: 36 (10/10)\n",
      "\tData load time: 0.115 sec\n",
      "\tGeneration time: 0.124 sec\n",
      "\tLog probability: -50.0916 (avg -38.7930)\n",
      "\tKL: 32.9028 (avg 25.9586)\n",
      "\tLoss: 379.1198 (avg 298.3786)\n",
      "Lowest validation loss: 259.2831\n"
     ]
    },
    {
     "name": "stderr",
     "output_type": "stream",
     "text": [
      " 34%|███▍      | 13/38 [00:00<00:01, 14.71it/s]"
     ]
    },
    {
     "name": "stdout",
     "output_type": "stream",
     "text": [
      "Epoch: 37 (10/38)\n",
      "\tData load time: 0.133 sec\n",
      "\tGeneration time: 0.144 sec\n",
      "\tBackprop time: 0.163 sec\n",
      "\tLog probability: -23.1707 (avg -38.2715)\n",
      "\tKL: 24.3749 (avg 27.6785)\n",
      "\tLoss: 266.9194 (avg 315.0563)\n"
     ]
    },
    {
     "name": "stderr",
     "output_type": "stream",
     "text": [
      " 66%|██████▌   | 25/38 [00:01<00:00, 21.90it/s]"
     ]
    },
    {
     "name": "stdout",
     "output_type": "stream",
     "text": [
      "Epoch: 37 (20/38)\n",
      "\tData load time: 0.133 sec\n",
      "\tGeneration time: 0.144 sec\n",
      "\tBackprop time: 0.163 sec\n",
      "\tLog probability: -41.3622 (avg -38.2369)\n",
      "\tKL: 26.7559 (avg 26.8726)\n",
      "\tLoss: 308.9210 (avg 306.9632)\n"
     ]
    },
    {
     "name": "stderr",
     "output_type": "stream",
     "text": [
      " 89%|████████▉ | 34/38 [00:01<00:00, 24.46it/s]"
     ]
    },
    {
     "name": "stdout",
     "output_type": "stream",
     "text": [
      "Epoch: 37 (30/38)\n",
      "\tData load time: 0.133 sec\n",
      "\tGeneration time: 0.144 sec\n",
      "\tBackprop time: 0.163 sec\n",
      "\tLog probability: -49.4728 (avg -37.4381)\n",
      "\tKL: 25.1740 (avg 26.2552)\n",
      "\tLoss: 301.2123 (avg 299.9903)\n"
     ]
    },
    {
     "name": "stderr",
     "output_type": "stream",
     "text": [
      "100%|██████████| 38/38 [00:01<00:00, 23.71it/s]\n",
      "100%|██████████| 10/10 [00:00<00:00, 30.48it/s]\n",
      "  0%|          | 0/38 [00:00<?, ?it/s]"
     ]
    },
    {
     "name": "stdout",
     "output_type": "stream",
     "text": [
      "Epoch: 37 (10/10)\n",
      "\tData load time: 0.142 sec\n",
      "\tGeneration time: 0.148 sec\n",
      "\tLog probability: -25.5337 (avg -26.9738)\n",
      "\tKL: 22.8867 (avg 23.2575)\n",
      "\tLoss: 254.4006 (avg 259.5486)\n",
      "Lowest validation loss: 259.2831\n"
     ]
    },
    {
     "name": "stderr",
     "output_type": "stream",
     "text": [
      " 34%|███▍      | 13/38 [00:00<00:01, 14.39it/s]"
     ]
    },
    {
     "name": "stdout",
     "output_type": "stream",
     "text": [
      "Epoch: 38 (10/38)\n",
      "\tData load time: 0.138 sec\n",
      "\tGeneration time: 0.149 sec\n",
      "\tBackprop time: 0.169 sec\n",
      "\tLog probability: -31.0759 (avg -43.5226)\n",
      "\tKL: 24.0643 (avg 26.8752)\n",
      "\tLoss: 271.7187 (avg 312.2749)\n"
     ]
    },
    {
     "name": "stderr",
     "output_type": "stream",
     "text": [
      " 66%|██████▌   | 25/38 [00:01<00:00, 21.77it/s]"
     ]
    },
    {
     "name": "stdout",
     "output_type": "stream",
     "text": [
      "Epoch: 38 (20/38)\n",
      "\tData load time: 0.138 sec\n",
      "\tGeneration time: 0.149 sec\n",
      "\tBackprop time: 0.169 sec\n",
      "\tLog probability: -58.4061 (avg -42.9307)\n",
      "\tKL: 34.2828 (avg 26.7186)\n",
      "\tLoss: 401.2343 (avg 310.1167)\n"
     ]
    },
    {
     "name": "stderr",
     "output_type": "stream",
     "text": [
      " 89%|████████▉ | 34/38 [00:01<00:00, 24.32it/s]"
     ]
    },
    {
     "name": "stdout",
     "output_type": "stream",
     "text": [
      "Epoch: 38 (30/38)\n",
      "\tData load time: 0.138 sec\n",
      "\tGeneration time: 0.149 sec\n",
      "\tBackprop time: 0.169 sec\n",
      "\tLog probability: -32.1730 (avg -42.6896)\n",
      "\tKL: 24.8326 (avg 27.0832)\n",
      "\tLoss: 280.4990 (avg 313.5215)\n"
     ]
    },
    {
     "name": "stderr",
     "output_type": "stream",
     "text": [
      "100%|██████████| 38/38 [00:01<00:00, 23.54it/s]\n",
      "100%|██████████| 10/10 [00:00<00:00, 30.52it/s]\n",
      "  0%|          | 0/38 [00:00<?, ?it/s]"
     ]
    },
    {
     "name": "stdout",
     "output_type": "stream",
     "text": [
      "Epoch: 38 (10/10)\n",
      "\tData load time: 0.141 sec\n",
      "\tGeneration time: 0.151 sec\n",
      "\tLog probability: -63.9164 (avg -33.9507)\n",
      "\tKL: 46.9975 (avg 27.7568)\n",
      "\tLoss: 533.8910 (avg 311.5184)\n",
      "Lowest validation loss: 259.2831\n"
     ]
    },
    {
     "name": "stderr",
     "output_type": "stream",
     "text": [
      " 34%|███▍      | 13/38 [00:00<00:01, 14.55it/s]"
     ]
    },
    {
     "name": "stdout",
     "output_type": "stream",
     "text": [
      "Epoch: 39 (10/38)\n",
      "\tData load time: 0.135 sec\n",
      "\tGeneration time: 0.146 sec\n",
      "\tBackprop time: 0.166 sec\n",
      "\tLog probability: -36.9988 (avg -41.8999)\n",
      "\tKL: 25.1777 (avg 27.4413)\n",
      "\tLoss: 288.7761 (avg 316.3129)\n"
     ]
    },
    {
     "name": "stderr",
     "output_type": "stream",
     "text": [
      " 66%|██████▌   | 25/38 [00:01<00:00, 21.83it/s]"
     ]
    },
    {
     "name": "stdout",
     "output_type": "stream",
     "text": [
      "Epoch: 39 (20/38)\n",
      "\tData load time: 0.135 sec\n",
      "\tGeneration time: 0.146 sec\n",
      "\tBackprop time: 0.166 sec\n",
      "\tLog probability: -40.0585 (avg -41.3341)\n",
      "\tKL: 25.3547 (avg 26.4199)\n",
      "\tLoss: 293.6060 (avg 305.5328)\n"
     ]
    },
    {
     "name": "stderr",
     "output_type": "stream",
     "text": [
      " 89%|████████▉ | 34/38 [00:01<00:00, 24.35it/s]"
     ]
    },
    {
     "name": "stdout",
     "output_type": "stream",
     "text": [
      "Epoch: 39 (30/38)\n",
      "\tData load time: 0.135 sec\n",
      "\tGeneration time: 0.146 sec\n",
      "\tBackprop time: 0.166 sec\n",
      "\tLog probability: -62.8441 (avg -41.6908)\n",
      "\tKL: 27.8136 (avg 25.6361)\n",
      "\tLoss: 340.9798 (avg 298.0516)\n"
     ]
    },
    {
     "name": "stderr",
     "output_type": "stream",
     "text": [
      "100%|██████████| 38/38 [00:01<00:00, 23.61it/s]\n",
      "100%|██████████| 10/10 [00:00<00:00, 29.52it/s]\n",
      "  0%|          | 0/38 [00:00<?, ?it/s]"
     ]
    },
    {
     "name": "stdout",
     "output_type": "stream",
     "text": [
      "Epoch: 39 (10/10)\n",
      "\tData load time: 0.145 sec\n",
      "\tGeneration time: 0.154 sec\n",
      "\tLog probability: -21.0434 (avg -31.4314)\n",
      "\tKL: 26.7920 (avg 26.5742)\n",
      "\tLoss: 288.9639 (avg 297.1731)\n",
      "Lowest validation loss: 259.2831\n"
     ]
    },
    {
     "name": "stderr",
     "output_type": "stream",
     "text": [
      " 34%|███▍      | 13/38 [00:00<00:01, 14.41it/s]"
     ]
    },
    {
     "name": "stdout",
     "output_type": "stream",
     "text": [
      "Epoch: 40 (10/38)\n",
      "\tData load time: 0.137 sec\n",
      "\tGeneration time: 0.146 sec\n",
      "\tBackprop time: 0.168 sec\n",
      "\tLog probability: -45.4961 (avg -41.0673)\n",
      "\tKL: 26.1632 (avg 28.4422)\n",
      "\tLoss: 307.1284 (avg 325.4897)\n"
     ]
    },
    {
     "name": "stderr",
     "output_type": "stream",
     "text": [
      " 66%|██████▌   | 25/38 [00:01<00:00, 21.72it/s]"
     ]
    },
    {
     "name": "stdout",
     "output_type": "stream",
     "text": [
      "Epoch: 40 (20/38)\n",
      "\tData load time: 0.137 sec\n",
      "\tGeneration time: 0.146 sec\n",
      "\tBackprop time: 0.168 sec\n",
      "\tLog probability: -27.4913 (avg -46.9754)\n",
      "\tKL: 22.9385 (avg 28.1549)\n",
      "\tLoss: 256.8766 (avg 328.5248)\n"
     ]
    },
    {
     "name": "stderr",
     "output_type": "stream",
     "text": [
      " 89%|████████▉ | 34/38 [00:01<00:00, 24.28it/s]"
     ]
    },
    {
     "name": "stdout",
     "output_type": "stream",
     "text": [
      "Epoch: 40 (30/38)\n",
      "\tData load time: 0.137 sec\n",
      "\tGeneration time: 0.146 sec\n",
      "\tBackprop time: 0.168 sec\n",
      "\tLog probability: -50.5288 (avg -44.0152)\n",
      "\tKL: 29.5767 (avg 26.7236)\n",
      "\tLoss: 346.2963 (avg 311.2509)\n"
     ]
    },
    {
     "name": "stderr",
     "output_type": "stream",
     "text": [
      "100%|██████████| 38/38 [00:01<00:00, 23.50it/s]\n",
      "100%|██████████| 10/10 [00:00<00:00, 31.58it/s]\n"
     ]
    },
    {
     "name": "stdout",
     "output_type": "stream",
     "text": [
      "Epoch: 40 (10/10)\n",
      "\tData load time: 0.122 sec\n",
      "\tGeneration time: 0.132 sec\n",
      "\tLog probability: -16.0573 (avg -31.1300)\n",
      "\tKL: 17.5430 (avg 22.7077)\n",
      "\tLoss: 191.4872 (avg 258.2069)\n",
      "Saving checkpoint..\n"
     ]
    },
    {
     "name": "stderr",
     "output_type": "stream",
     "text": [
      "  0%|          | 0/38 [00:00<?, ?it/s]"
     ]
    },
    {
     "name": "stdout",
     "output_type": "stream",
     "text": [
      "Lowest validation loss: 258.2069\n"
     ]
    },
    {
     "name": "stderr",
     "output_type": "stream",
     "text": [
      " 34%|███▍      | 13/38 [00:00<00:01, 14.27it/s]"
     ]
    },
    {
     "name": "stdout",
     "output_type": "stream",
     "text": [
      "Epoch: 41 (10/38)\n",
      "\tData load time: 0.139 sec\n",
      "\tGeneration time: 0.150 sec\n",
      "\tBackprop time: 0.170 sec\n",
      "\tLog probability: -25.0260 (avg -48.6613)\n",
      "\tKL: 22.3069 (avg 23.4775)\n",
      "\tLoss: 248.0952 (avg 283.4365)\n"
     ]
    },
    {
     "name": "stderr",
     "output_type": "stream",
     "text": [
      " 66%|██████▌   | 25/38 [00:01<00:00, 21.70it/s]"
     ]
    },
    {
     "name": "stdout",
     "output_type": "stream",
     "text": [
      "Epoch: 41 (20/38)\n",
      "\tData load time: 0.139 sec\n",
      "\tGeneration time: 0.150 sec\n",
      "\tBackprop time: 0.170 sec\n",
      "\tLog probability: -44.0009 (avg -47.0394)\n",
      "\tKL: 21.0202 (avg 23.4223)\n",
      "\tLoss: 254.2025 (avg 281.2619)\n"
     ]
    },
    {
     "name": "stderr",
     "output_type": "stream",
     "text": [
      " 89%|████████▉ | 34/38 [00:01<00:00, 24.33it/s]"
     ]
    },
    {
     "name": "stdout",
     "output_type": "stream",
     "text": [
      "Epoch: 41 (30/38)\n",
      "\tData load time: 0.139 sec\n",
      "\tGeneration time: 0.150 sec\n",
      "\tBackprop time: 0.170 sec\n",
      "\tLog probability: -20.1312 (avg -41.8663)\n",
      "\tKL: 20.0707 (avg 23.0519)\n",
      "\tLoss: 220.8378 (avg 272.3858)\n"
     ]
    },
    {
     "name": "stderr",
     "output_type": "stream",
     "text": [
      "100%|██████████| 38/38 [00:01<00:00, 23.51it/s]\n",
      "100%|██████████| 10/10 [00:00<00:00, 31.11it/s]\n"
     ]
    },
    {
     "name": "stdout",
     "output_type": "stream",
     "text": [
      "Epoch: 41 (10/10)\n",
      "\tData load time: 0.136 sec\n",
      "\tGeneration time: 0.143 sec\n",
      "\tLog probability: -42.8211 (avg -26.9276)\n",
      "\tKL: 20.3399 (avg 18.8270)\n",
      "\tLoss: 246.2199 (avg 215.1972)\n",
      "Saving checkpoint..\n"
     ]
    },
    {
     "name": "stderr",
     "output_type": "stream",
     "text": [
      "  0%|          | 0/38 [00:00<?, ?it/s]"
     ]
    },
    {
     "name": "stdout",
     "output_type": "stream",
     "text": [
      "Lowest validation loss: 215.1972\n"
     ]
    },
    {
     "name": "stderr",
     "output_type": "stream",
     "text": [
      " 34%|███▍      | 13/38 [00:00<00:01, 14.36it/s]"
     ]
    },
    {
     "name": "stdout",
     "output_type": "stream",
     "text": [
      "Epoch: 42 (10/38)\n",
      "\tData load time: 0.138 sec\n",
      "\tGeneration time: 0.148 sec\n",
      "\tBackprop time: 0.170 sec\n",
      "\tLog probability: -35.8255 (avg -37.9254)\n",
      "\tKL: 20.4553 (avg 20.6485)\n",
      "\tLoss: 240.3784 (avg 244.4104)\n"
     ]
    },
    {
     "name": "stderr",
     "output_type": "stream",
     "text": [
      " 66%|██████▌   | 25/38 [00:01<00:00, 21.64it/s]"
     ]
    },
    {
     "name": "stdout",
     "output_type": "stream",
     "text": [
      "Epoch: 42 (20/38)\n",
      "\tData load time: 0.138 sec\n",
      "\tGeneration time: 0.148 sec\n",
      "\tBackprop time: 0.170 sec\n",
      "\tLog probability: -27.6905 (avg -40.3789)\n",
      "\tKL: 25.4355 (avg 21.4605)\n",
      "\tLoss: 282.0460 (avg 254.9841)\n"
     ]
    },
    {
     "name": "stderr",
     "output_type": "stream",
     "text": [
      " 89%|████████▉ | 34/38 [00:01<00:00, 24.24it/s]"
     ]
    },
    {
     "name": "stdout",
     "output_type": "stream",
     "text": [
      "Epoch: 42 (30/38)\n",
      "\tData load time: 0.138 sec\n",
      "\tGeneration time: 0.148 sec\n",
      "\tBackprop time: 0.170 sec\n",
      "\tLog probability: -36.7650 (avg -38.5277)\n",
      "\tKL: 19.5426 (avg 21.6241)\n",
      "\tLoss: 232.1907 (avg 254.7682)\n"
     ]
    },
    {
     "name": "stderr",
     "output_type": "stream",
     "text": [
      "100%|██████████| 38/38 [00:01<00:00, 23.52it/s]\n",
      "100%|██████████| 10/10 [00:00<00:00, 30.50it/s]\n",
      "  0%|          | 0/38 [00:00<?, ?it/s]"
     ]
    },
    {
     "name": "stdout",
     "output_type": "stream",
     "text": [
      "Epoch: 42 (10/10)\n",
      "\tData load time: 0.134 sec\n",
      "\tGeneration time: 0.144 sec\n",
      "\tLog probability: -83.5501 (avg -56.1572)\n",
      "\tKL: 24.0138 (avg 21.1827)\n",
      "\tLoss: 323.6877 (avg 267.9847)\n",
      "Lowest validation loss: 215.1972\n"
     ]
    },
    {
     "name": "stderr",
     "output_type": "stream",
     "text": [
      " 34%|███▍      | 13/38 [00:00<00:01, 14.37it/s]"
     ]
    },
    {
     "name": "stdout",
     "output_type": "stream",
     "text": [
      "Epoch: 43 (10/38)\n",
      "\tData load time: 0.140 sec\n",
      "\tGeneration time: 0.148 sec\n",
      "\tBackprop time: 0.169 sec\n",
      "\tLog probability: -35.4938 (avg -52.8017)\n",
      "\tKL: 23.5237 (avg 25.4695)\n",
      "\tLoss: 270.7310 (avg 307.4966)\n"
     ]
    },
    {
     "name": "stderr",
     "output_type": "stream",
     "text": [
      " 66%|██████▌   | 25/38 [00:01<00:00, 21.62it/s]"
     ]
    },
    {
     "name": "stdout",
     "output_type": "stream",
     "text": [
      "Epoch: 43 (20/38)\n",
      "\tData load time: 0.140 sec\n",
      "\tGeneration time: 0.148 sec\n",
      "\tBackprop time: 0.169 sec\n",
      "\tLog probability: -56.6025 (avg -49.8222)\n",
      "\tKL: 21.4347 (avg 23.1613)\n",
      "\tLoss: 270.9492 (avg 281.4349)\n"
     ]
    },
    {
     "name": "stderr",
     "output_type": "stream",
     "text": [
      " 89%|████████▉ | 34/38 [00:01<00:00, 24.25it/s]"
     ]
    },
    {
     "name": "stdout",
     "output_type": "stream",
     "text": [
      "Epoch: 43 (30/38)\n",
      "\tData load time: 0.140 sec\n",
      "\tGeneration time: 0.148 sec\n",
      "\tBackprop time: 0.169 sec\n",
      "\tLog probability: -97.1199 (avg -47.3766)\n",
      "\tKL: 21.4553 (avg 22.1415)\n",
      "\tLoss: 311.6729 (avg 268.7917)\n"
     ]
    },
    {
     "name": "stderr",
     "output_type": "stream",
     "text": [
      "100%|██████████| 38/38 [00:01<00:00, 23.49it/s]\n",
      "100%|██████████| 10/10 [00:00<00:00, 29.56it/s]\n",
      "  0%|          | 0/38 [00:00<?, ?it/s]"
     ]
    },
    {
     "name": "stdout",
     "output_type": "stream",
     "text": [
      "Epoch: 43 (10/10)\n",
      "\tData load time: 0.141 sec\n",
      "\tGeneration time: 0.148 sec\n",
      "\tLog probability: -10.6255 (avg -42.6936)\n",
      "\tKL: 12.6157 (avg 19.0219)\n",
      "\tLoss: 136.7824 (avg 232.9122)\n",
      "Lowest validation loss: 215.1972\n"
     ]
    },
    {
     "name": "stderr",
     "output_type": "stream",
     "text": [
      " 34%|███▍      | 13/38 [00:00<00:01, 14.73it/s]"
     ]
    },
    {
     "name": "stdout",
     "output_type": "stream",
     "text": [
      "Epoch: 44 (10/38)\n",
      "\tData load time: 0.133 sec\n",
      "\tGeneration time: 0.142 sec\n",
      "\tBackprop time: 0.163 sec\n",
      "\tLog probability: -53.3738 (avg -46.8581)\n",
      "\tKL: 21.1647 (avg 21.6187)\n",
      "\tLoss: 265.0206 (avg 263.0456)\n"
     ]
    },
    {
     "name": "stderr",
     "output_type": "stream",
     "text": [
      " 66%|██████▌   | 25/38 [00:01<00:00, 21.86it/s]"
     ]
    },
    {
     "name": "stdout",
     "output_type": "stream",
     "text": [
      "Epoch: 44 (20/38)\n",
      "\tData load time: 0.133 sec\n",
      "\tGeneration time: 0.142 sec\n",
      "\tBackprop time: 0.163 sec\n",
      "\tLog probability: -36.4715 (avg -41.2547)\n",
      "\tKL: 19.1201 (avg 20.5745)\n",
      "\tLoss: 227.6721 (avg 246.9998)\n"
     ]
    },
    {
     "name": "stderr",
     "output_type": "stream",
     "text": [
      " 89%|████████▉ | 34/38 [00:01<00:00, 24.32it/s]"
     ]
    },
    {
     "name": "stdout",
     "output_type": "stream",
     "text": [
      "Epoch: 44 (30/38)\n",
      "\tData load time: 0.133 sec\n",
      "\tGeneration time: 0.142 sec\n",
      "\tBackprop time: 0.163 sec\n",
      "\tLog probability: -23.2516 (avg -40.8531)\n",
      "\tKL: 16.1307 (avg 20.2461)\n",
      "\tLoss: 184.5588 (avg 243.3137)\n"
     ]
    },
    {
     "name": "stderr",
     "output_type": "stream",
     "text": [
      "100%|██████████| 38/38 [00:01<00:00, 23.66it/s]\n",
      "100%|██████████| 10/10 [00:00<00:00, 30.52it/s]\n"
     ]
    },
    {
     "name": "stdout",
     "output_type": "stream",
     "text": [
      "Epoch: 44 (10/10)\n",
      "\tData load time: 0.140 sec\n",
      "\tGeneration time: 0.150 sec\n",
      "\tLog probability: -31.2152 (avg -29.9199)\n",
      "\tKL: 12.7282 (avg 16.1087)\n",
      "\tLoss: 158.4971 (avg 191.0073)\n",
      "Saving checkpoint..\n"
     ]
    },
    {
     "name": "stderr",
     "output_type": "stream",
     "text": [
      "  0%|          | 0/38 [00:00<?, ?it/s]"
     ]
    },
    {
     "name": "stdout",
     "output_type": "stream",
     "text": [
      "Lowest validation loss: 191.0073\n"
     ]
    },
    {
     "name": "stderr",
     "output_type": "stream",
     "text": [
      " 34%|███▍      | 13/38 [00:00<00:01, 14.61it/s]"
     ]
    },
    {
     "name": "stdout",
     "output_type": "stream",
     "text": [
      "Epoch: 45 (10/38)\n",
      "\tData load time: 0.134 sec\n",
      "\tGeneration time: 0.145 sec\n",
      "\tBackprop time: 0.165 sec\n",
      "\tLog probability: -29.4955 (avg -32.7800)\n",
      "\tKL: 16.2572 (avg 18.5058)\n",
      "\tLoss: 192.0676 (avg 217.8383)\n"
     ]
    },
    {
     "name": "stderr",
     "output_type": "stream",
     "text": [
      " 66%|██████▌   | 25/38 [00:01<00:00, 21.83it/s]"
     ]
    },
    {
     "name": "stdout",
     "output_type": "stream",
     "text": [
      "Epoch: 45 (20/38)\n",
      "\tData load time: 0.134 sec\n",
      "\tGeneration time: 0.145 sec\n",
      "\tBackprop time: 0.165 sec\n",
      "\tLog probability: -29.2448 (avg -32.3598)\n",
      "\tKL: 15.7801 (avg 17.8529)\n",
      "\tLoss: 187.0461 (avg 210.8885)\n"
     ]
    },
    {
     "name": "stderr",
     "output_type": "stream",
     "text": [
      " 89%|████████▉ | 34/38 [00:01<00:00, 24.40it/s]"
     ]
    },
    {
     "name": "stdout",
     "output_type": "stream",
     "text": [
      "Epoch: 45 (30/38)\n",
      "\tData load time: 0.134 sec\n",
      "\tGeneration time: 0.145 sec\n",
      "\tBackprop time: 0.165 sec\n",
      "\tLog probability: -35.9323 (avg -35.3763)\n",
      "\tKL: 15.4474 (avg 17.1930)\n",
      "\tLoss: 190.4063 (avg 207.3067)\n"
     ]
    },
    {
     "name": "stderr",
     "output_type": "stream",
     "text": [
      "100%|██████████| 38/38 [00:01<00:00, 23.68it/s]\n",
      "100%|██████████| 10/10 [00:00<00:00, 30.96it/s]\n",
      "  0%|          | 0/38 [00:00<?, ?it/s]"
     ]
    },
    {
     "name": "stdout",
     "output_type": "stream",
     "text": [
      "Epoch: 45 (10/10)\n",
      "\tData load time: 0.134 sec\n",
      "\tGeneration time: 0.143 sec\n",
      "\tLog probability: -74.2308 (avg -29.3709)\n",
      "\tKL: 30.1336 (avg 20.0374)\n",
      "\tLoss: 375.5671 (avg 229.7445)\n",
      "Lowest validation loss: 191.0073\n"
     ]
    },
    {
     "name": "stderr",
     "output_type": "stream",
     "text": [
      " 34%|███▍      | 13/38 [00:00<00:01, 14.36it/s]"
     ]
    },
    {
     "name": "stdout",
     "output_type": "stream",
     "text": [
      "Epoch: 46 (10/38)\n",
      "\tData load time: 0.139 sec\n",
      "\tGeneration time: 0.148 sec\n",
      "\tBackprop time: 0.169 sec\n",
      "\tLog probability: -31.9127 (avg -36.8077)\n",
      "\tKL: 18.2874 (avg 21.6575)\n",
      "\tLoss: 214.7865 (avg 253.3828)\n"
     ]
    },
    {
     "name": "stderr",
     "output_type": "stream",
     "text": [
      " 66%|██████▌   | 25/38 [00:01<00:00, 21.55it/s]"
     ]
    },
    {
     "name": "stdout",
     "output_type": "stream",
     "text": [
      "Epoch: 46 (20/38)\n",
      "\tData load time: 0.139 sec\n",
      "\tGeneration time: 0.148 sec\n",
      "\tBackprop time: 0.169 sec\n",
      "\tLog probability: -47.1583 (avg -35.5946)\n",
      "\tKL: 19.3355 (avg 19.8326)\n",
      "\tLoss: 240.5136 (avg 233.9208)\n"
     ]
    },
    {
     "name": "stderr",
     "output_type": "stream",
     "text": [
      " 89%|████████▉ | 34/38 [00:01<00:00, 24.18it/s]"
     ]
    },
    {
     "name": "stdout",
     "output_type": "stream",
     "text": [
      "Epoch: 46 (30/38)\n",
      "\tData load time: 0.139 sec\n",
      "\tGeneration time: 0.148 sec\n",
      "\tBackprop time: 0.169 sec\n",
      "\tLog probability: -43.1522 (avg -35.5967)\n",
      "\tKL: 13.3055 (avg 18.3764)\n",
      "\tLoss: 176.2075 (avg 219.3607)\n"
     ]
    },
    {
     "name": "stderr",
     "output_type": "stream",
     "text": [
      "100%|██████████| 38/38 [00:01<00:00, 23.40it/s]\n",
      "100%|██████████| 10/10 [00:00<00:00, 30.73it/s]\n"
     ]
    },
    {
     "name": "stdout",
     "output_type": "stream",
     "text": [
      "Epoch: 46 (10/10)\n",
      "\tData load time: 0.138 sec\n",
      "\tGeneration time: 0.145 sec\n",
      "\tLog probability: -20.5075 (avg -19.9661)\n",
      "\tKL: 18.1529 (avg 15.4469)\n",
      "\tLoss: 202.0367 (avg 174.4350)\n",
      "Saving checkpoint..\n"
     ]
    },
    {
     "name": "stderr",
     "output_type": "stream",
     "text": [
      "  0%|          | 0/38 [00:00<?, ?it/s]"
     ]
    },
    {
     "name": "stdout",
     "output_type": "stream",
     "text": [
      "Lowest validation loss: 174.4350\n"
     ]
    },
    {
     "name": "stderr",
     "output_type": "stream",
     "text": [
      " 34%|███▍      | 13/38 [00:00<00:01, 14.34it/s]"
     ]
    },
    {
     "name": "stdout",
     "output_type": "stream",
     "text": [
      "Epoch: 47 (10/38)\n",
      "\tData load time: 0.139 sec\n",
      "\tGeneration time: 0.148 sec\n",
      "\tBackprop time: 0.170 sec\n",
      "\tLog probability: -46.3781 (avg -37.0332)\n",
      "\tKL: 14.1085 (avg 16.5609)\n",
      "\tLoss: 187.4628 (avg 202.6419)\n"
     ]
    },
    {
     "name": "stderr",
     "output_type": "stream",
     "text": [
      " 66%|██████▌   | 25/38 [00:01<00:00, 21.66it/s]"
     ]
    },
    {
     "name": "stdout",
     "output_type": "stream",
     "text": [
      "Epoch: 47 (20/38)\n",
      "\tData load time: 0.139 sec\n",
      "\tGeneration time: 0.148 sec\n",
      "\tBackprop time: 0.170 sec\n",
      "\tLog probability: -70.1830 (avg -39.7776)\n",
      "\tKL: 17.6352 (avg 15.9935)\n",
      "\tLoss: 246.5351 (avg 199.7129)\n"
     ]
    },
    {
     "name": "stderr",
     "output_type": "stream",
     "text": [
      " 89%|████████▉ | 34/38 [00:01<00:00, 24.31it/s]"
     ]
    },
    {
     "name": "stdout",
     "output_type": "stream",
     "text": [
      "Epoch: 47 (30/38)\n",
      "\tData load time: 0.139 sec\n",
      "\tGeneration time: 0.148 sec\n",
      "\tBackprop time: 0.170 sec\n",
      "\tLog probability: -41.1058 (avg -41.1883)\n",
      "\tKL: 13.3229 (avg 15.8651)\n",
      "\tLoss: 174.3348 (avg 199.8390)\n"
     ]
    },
    {
     "name": "stderr",
     "output_type": "stream",
     "text": [
      "100%|██████████| 38/38 [00:01<00:00, 23.44it/s]\n",
      "100%|██████████| 10/10 [00:00<00:00, 31.74it/s]\n"
     ]
    },
    {
     "name": "stdout",
     "output_type": "stream",
     "text": [
      "Epoch: 47 (10/10)\n",
      "\tData load time: 0.126 sec\n",
      "\tGeneration time: 0.136 sec\n",
      "\tLog probability: -15.3692 (avg -33.8703)\n",
      "\tKL: 11.0561 (avg 12.5103)\n",
      "\tLoss: 125.9303 (avg 158.9731)\n",
      "Saving checkpoint..\n"
     ]
    },
    {
     "name": "stderr",
     "output_type": "stream",
     "text": [
      "  0%|          | 0/38 [00:00<?, ?it/s]"
     ]
    },
    {
     "name": "stdout",
     "output_type": "stream",
     "text": [
      "Lowest validation loss: 158.9731\n"
     ]
    },
    {
     "name": "stderr",
     "output_type": "stream",
     "text": [
      " 34%|███▍      | 13/38 [00:00<00:01, 14.51it/s]"
     ]
    },
    {
     "name": "stdout",
     "output_type": "stream",
     "text": [
      "Epoch: 48 (10/38)\n",
      "\tData load time: 0.138 sec\n",
      "\tGeneration time: 0.148 sec\n",
      "\tBackprop time: 0.167 sec\n",
      "\tLog probability: -32.6297 (avg -32.9645)\n",
      "\tKL: 12.6848 (avg 14.8770)\n",
      "\tLoss: 159.4781 (avg 181.7346)\n"
     ]
    },
    {
     "name": "stderr",
     "output_type": "stream",
     "text": [
      " 66%|██████▌   | 25/38 [00:01<00:00, 21.79it/s]"
     ]
    },
    {
     "name": "stdout",
     "output_type": "stream",
     "text": [
      "Epoch: 48 (20/38)\n",
      "\tData load time: 0.138 sec\n",
      "\tGeneration time: 0.148 sec\n",
      "\tBackprop time: 0.167 sec\n",
      "\tLog probability: -50.5421 (avg -34.2415)\n",
      "\tKL: 16.6155 (avg 14.4879)\n",
      "\tLoss: 216.6970 (avg 179.1204)\n"
     ]
    },
    {
     "name": "stderr",
     "output_type": "stream",
     "text": [
      " 89%|████████▉ | 34/38 [00:01<00:00, 24.35it/s]"
     ]
    },
    {
     "name": "stdout",
     "output_type": "stream",
     "text": [
      "Epoch: 48 (30/38)\n",
      "\tData load time: 0.138 sec\n",
      "\tGeneration time: 0.148 sec\n",
      "\tBackprop time: 0.167 sec\n",
      "\tLog probability: -23.8167 (avg -33.4839)\n",
      "\tKL: 10.8573 (avg 14.3354)\n",
      "\tLoss: 132.3896 (avg 176.8377)\n"
     ]
    },
    {
     "name": "stderr",
     "output_type": "stream",
     "text": [
      "100%|██████████| 38/38 [00:01<00:00, 23.62it/s]\n",
      "100%|██████████| 10/10 [00:00<00:00, 32.03it/s]\n"
     ]
    },
    {
     "name": "stdout",
     "output_type": "stream",
     "text": [
      "Epoch: 48 (10/10)\n",
      "\tData load time: 0.124 sec\n",
      "\tGeneration time: 0.132 sec\n",
      "\tLog probability: -15.1146 (avg -22.4378)\n",
      "\tKL: 6.8665 (avg 11.7588)\n",
      "\tLoss: 83.7799 (avg 140.0258)\n",
      "Saving checkpoint..\n"
     ]
    },
    {
     "name": "stderr",
     "output_type": "stream",
     "text": [
      "  0%|          | 0/38 [00:00<?, ?it/s]"
     ]
    },
    {
     "name": "stdout",
     "output_type": "stream",
     "text": [
      "Lowest validation loss: 140.0258\n"
     ]
    },
    {
     "name": "stderr",
     "output_type": "stream",
     "text": [
      " 34%|███▍      | 13/38 [00:00<00:01, 14.45it/s]"
     ]
    },
    {
     "name": "stdout",
     "output_type": "stream",
     "text": [
      "Epoch: 49 (10/38)\n",
      "\tData load time: 0.136 sec\n",
      "\tGeneration time: 0.146 sec\n",
      "\tBackprop time: 0.168 sec\n",
      "\tLog probability: -29.7912 (avg -41.2546)\n",
      "\tKL: 12.2949 (avg 15.1553)\n",
      "\tLoss: 152.7406 (avg 192.8072)\n"
     ]
    },
    {
     "name": "stderr",
     "output_type": "stream",
     "text": [
      " 66%|██████▌   | 25/38 [00:01<00:00, 21.73it/s]"
     ]
    },
    {
     "name": "stdout",
     "output_type": "stream",
     "text": [
      "Epoch: 49 (20/38)\n",
      "\tData load time: 0.136 sec\n",
      "\tGeneration time: 0.146 sec\n",
      "\tBackprop time: 0.168 sec\n",
      "\tLog probability: -34.9344 (avg -39.3342)\n",
      "\tKL: 12.1800 (avg 15.0864)\n",
      "\tLoss: 156.7347 (avg 190.1985)\n"
     ]
    },
    {
     "name": "stderr",
     "output_type": "stream",
     "text": [
      " 89%|████████▉ | 34/38 [00:01<00:00, 24.31it/s]"
     ]
    },
    {
     "name": "stdout",
     "output_type": "stream",
     "text": [
      "Epoch: 49 (30/38)\n",
      "\tData load time: 0.136 sec\n",
      "\tGeneration time: 0.146 sec\n",
      "\tBackprop time: 0.168 sec\n",
      "\tLog probability: -13.2583 (avg -38.3097)\n",
      "\tKL: 14.4774 (avg 14.9826)\n",
      "\tLoss: 158.0327 (avg 188.1356)\n"
     ]
    },
    {
     "name": "stderr",
     "output_type": "stream",
     "text": [
      "100%|██████████| 38/38 [00:01<00:00, 23.57it/s]\n",
      "100%|██████████| 10/10 [00:00<00:00, 30.11it/s]\n"
     ]
    },
    {
     "name": "stdout",
     "output_type": "stream",
     "text": [
      "Epoch: 49 (10/10)\n",
      "\tData load time: 0.142 sec\n",
      "\tGeneration time: 0.152 sec\n",
      "\tLog probability: -17.2667 (avg -21.2222)\n",
      "\tKL: 13.1256 (avg 11.7097)\n",
      "\tLoss: 148.5230 (avg 138.3189)\n",
      "Saving checkpoint..\n"
     ]
    },
    {
     "name": "stderr",
     "output_type": "stream",
     "text": [
      "  0%|          | 0/38 [00:00<?, ?it/s]"
     ]
    },
    {
     "name": "stdout",
     "output_type": "stream",
     "text": [
      "Lowest validation loss: 138.3189\n"
     ]
    },
    {
     "name": "stderr",
     "output_type": "stream",
     "text": [
      " 34%|███▍      | 13/38 [00:00<00:01, 14.66it/s]"
     ]
    },
    {
     "name": "stdout",
     "output_type": "stream",
     "text": [
      "Epoch: 50 (10/38)\n",
      "\tData load time: 0.134 sec\n",
      "\tGeneration time: 0.144 sec\n",
      "\tBackprop time: 0.165 sec\n",
      "\tLog probability: -71.6407 (avg -31.4186)\n",
      "\tKL: 12.6909 (avg 13.3204)\n",
      "\tLoss: 198.5500 (avg 164.6228)\n"
     ]
    },
    {
     "name": "stderr",
     "output_type": "stream",
     "text": [
      " 66%|██████▌   | 25/38 [00:01<00:00, 21.88it/s]"
     ]
    },
    {
     "name": "stdout",
     "output_type": "stream",
     "text": [
      "Epoch: 50 (20/38)\n",
      "\tData load time: 0.134 sec\n",
      "\tGeneration time: 0.144 sec\n",
      "\tBackprop time: 0.165 sec\n",
      "\tLog probability: -30.8032 (avg -31.3162)\n",
      "\tKL: 12.2627 (avg 13.3405)\n",
      "\tLoss: 153.4302 (avg 164.7212)\n"
     ]
    },
    {
     "name": "stderr",
     "output_type": "stream",
     "text": [
      " 89%|████████▉ | 34/38 [00:01<00:00, 24.40it/s]"
     ]
    },
    {
     "name": "stdout",
     "output_type": "stream",
     "text": [
      "Epoch: 50 (30/38)\n",
      "\tData load time: 0.134 sec\n",
      "\tGeneration time: 0.144 sec\n",
      "\tBackprop time: 0.165 sec\n",
      "\tLog probability: -29.5080 (avg -34.9116)\n",
      "\tKL: 13.5919 (avg 13.8538)\n",
      "\tLoss: 165.4271 (avg 173.4498)\n"
     ]
    },
    {
     "name": "stderr",
     "output_type": "stream",
     "text": [
      "100%|██████████| 38/38 [00:01<00:00, 23.70it/s]\n",
      "100%|██████████| 10/10 [00:00<00:00, 30.86it/s]\n",
      "  0%|          | 0/38 [00:00<?, ?it/s]"
     ]
    },
    {
     "name": "stdout",
     "output_type": "stream",
     "text": [
      "Epoch: 50 (10/10)\n",
      "\tData load time: 0.137 sec\n",
      "\tGeneration time: 0.143 sec\n",
      "\tLog probability: -32.5593 (avg -33.6417)\n",
      "\tKL: 15.7670 (avg 13.7004)\n",
      "\tLoss: 190.2289 (avg 170.6462)\n",
      "Lowest validation loss: 138.3189\n"
     ]
    },
    {
     "name": "stderr",
     "output_type": "stream",
     "text": [
      " 34%|███▍      | 13/38 [00:00<00:01, 14.33it/s]"
     ]
    },
    {
     "name": "stdout",
     "output_type": "stream",
     "text": [
      "Epoch: 51 (10/38)\n",
      "\tData load time: 0.140 sec\n",
      "\tGeneration time: 0.148 sec\n",
      "\tBackprop time: 0.170 sec\n",
      "\tLog probability: -35.7372 (avg -29.5652)\n",
      "\tKL: 16.3277 (avg 13.3159)\n",
      "\tLoss: 199.0147 (avg 162.7246)\n"
     ]
    },
    {
     "name": "stderr",
     "output_type": "stream",
     "text": [
      " 66%|██████▌   | 25/38 [00:01<00:00, 21.72it/s]"
     ]
    },
    {
     "name": "stdout",
     "output_type": "stream",
     "text": [
      "Epoch: 51 (20/38)\n",
      "\tData load time: 0.140 sec\n",
      "\tGeneration time: 0.148 sec\n",
      "\tBackprop time: 0.170 sec\n",
      "\tLog probability: -22.8332 (avg -32.8874)\n",
      "\tKL: 14.2443 (avg 13.9826)\n",
      "\tLoss: 165.2762 (avg 172.7130)\n"
     ]
    },
    {
     "name": "stderr",
     "output_type": "stream",
     "text": [
      " 89%|████████▉ | 34/38 [00:01<00:00, 24.39it/s]"
     ]
    },
    {
     "name": "stdout",
     "output_type": "stream",
     "text": [
      "Epoch: 51 (30/38)\n",
      "\tData load time: 0.140 sec\n",
      "\tGeneration time: 0.148 sec\n",
      "\tBackprop time: 0.170 sec\n",
      "\tLog probability: -36.2200 (avg -34.8129)\n",
      "\tKL: 23.7243 (avg 14.2216)\n",
      "\tLoss: 273.4630 (avg 177.0289)\n"
     ]
    },
    {
     "name": "stderr",
     "output_type": "stream",
     "text": [
      "100%|██████████| 38/38 [00:01<00:00, 23.53it/s]\n",
      "100%|██████████| 10/10 [00:00<00:00, 30.53it/s]\n",
      "  0%|          | 0/38 [00:00<?, ?it/s]"
     ]
    },
    {
     "name": "stdout",
     "output_type": "stream",
     "text": [
      "Epoch: 51 (10/10)\n",
      "\tData load time: 0.141 sec\n",
      "\tGeneration time: 0.150 sec\n",
      "\tLog probability: -30.0720 (avg -21.2496)\n",
      "\tKL: 17.2287 (avg 13.0782)\n",
      "\tLoss: 202.3588 (avg 152.0313)\n",
      "Lowest validation loss: 138.3189\n"
     ]
    },
    {
     "name": "stderr",
     "output_type": "stream",
     "text": [
      " 34%|███▍      | 13/38 [00:00<00:01, 14.59it/s]"
     ]
    },
    {
     "name": "stdout",
     "output_type": "stream",
     "text": [
      "Epoch: 52 (10/38)\n",
      "\tData load time: 0.135 sec\n",
      "\tGeneration time: 0.144 sec\n",
      "\tBackprop time: 0.165 sec\n",
      "\tLog probability: -24.5249 (avg -31.8038)\n",
      "\tKL: 11.7904 (avg 13.4962)\n",
      "\tLoss: 142.4288 (avg 166.7662)\n"
     ]
    },
    {
     "name": "stderr",
     "output_type": "stream",
     "text": [
      " 66%|██████▌   | 25/38 [00:01<00:00, 21.77it/s]"
     ]
    },
    {
     "name": "stdout",
     "output_type": "stream",
     "text": [
      "Epoch: 52 (20/38)\n",
      "\tData load time: 0.135 sec\n",
      "\tGeneration time: 0.144 sec\n",
      "\tBackprop time: 0.165 sec\n",
      "\tLog probability: -26.6015 (avg -34.2677)\n",
      "\tKL: 12.3833 (avg 13.4886)\n",
      "\tLoss: 150.4348 (avg 169.1536)\n"
     ]
    },
    {
     "name": "stderr",
     "output_type": "stream",
     "text": [
      " 89%|████████▉ | 34/38 [00:01<00:00, 24.31it/s]"
     ]
    },
    {
     "name": "stdout",
     "output_type": "stream",
     "text": [
      "Epoch: 52 (30/38)\n",
      "\tData load time: 0.135 sec\n",
      "\tGeneration time: 0.144 sec\n",
      "\tBackprop time: 0.165 sec\n",
      "\tLog probability: -15.7733 (avg -32.6529)\n",
      "\tKL: 11.3753 (avg 13.2668)\n",
      "\tLoss: 129.5266 (avg 165.3211)\n"
     ]
    },
    {
     "name": "stderr",
     "output_type": "stream",
     "text": [
      "100%|██████████| 38/38 [00:01<00:00, 23.56it/s]\n",
      "100%|██████████| 10/10 [00:00<00:00, 31.16it/s]\n",
      "  0%|          | 0/38 [00:00<?, ?it/s]"
     ]
    },
    {
     "name": "stdout",
     "output_type": "stream",
     "text": [
      "Epoch: 52 (10/10)\n",
      "\tData load time: 0.134 sec\n",
      "\tGeneration time: 0.141 sec\n",
      "\tLog probability: -8.5777 (avg -20.1595)\n",
      "\tKL: 10.4132 (avg 13.4038)\n",
      "\tLoss: 112.7097 (avg 154.1973)\n",
      "Lowest validation loss: 138.3189\n"
     ]
    },
    {
     "name": "stderr",
     "output_type": "stream",
     "text": [
      " 34%|███▍      | 13/38 [00:00<00:01, 14.31it/s]"
     ]
    },
    {
     "name": "stdout",
     "output_type": "stream",
     "text": [
      "Epoch: 53 (10/38)\n",
      "\tData load time: 0.137 sec\n",
      "\tGeneration time: 0.149 sec\n",
      "\tBackprop time: 0.170 sec\n",
      "\tLog probability: -20.3558 (avg -38.5778)\n",
      "\tKL: 14.1904 (avg 13.3824)\n",
      "\tLoss: 162.2602 (avg 172.4018)\n"
     ]
    },
    {
     "name": "stderr",
     "output_type": "stream",
     "text": [
      " 66%|██████▌   | 25/38 [00:01<00:00, 21.67it/s]"
     ]
    },
    {
     "name": "stdout",
     "output_type": "stream",
     "text": [
      "Epoch: 53 (20/38)\n",
      "\tData load time: 0.137 sec\n",
      "\tGeneration time: 0.149 sec\n",
      "\tBackprop time: 0.170 sec\n",
      "\tLog probability: -25.8532 (avg -32.2243)\n",
      "\tKL: 13.9346 (avg 12.8270)\n",
      "\tLoss: 165.1994 (avg 160.4946)\n"
     ]
    },
    {
     "name": "stderr",
     "output_type": "stream",
     "text": [
      " 89%|████████▉ | 34/38 [00:01<00:00, 24.24it/s]"
     ]
    },
    {
     "name": "stdout",
     "output_type": "stream",
     "text": [
      "Epoch: 53 (30/38)\n",
      "\tData load time: 0.137 sec\n",
      "\tGeneration time: 0.149 sec\n",
      "\tBackprop time: 0.170 sec\n",
      "\tLog probability: -33.9872 (avg -33.9579)\n",
      "\tKL: 12.7249 (avg 13.1259)\n",
      "\tLoss: 161.2363 (avg 165.2174)\n"
     ]
    },
    {
     "name": "stderr",
     "output_type": "stream",
     "text": [
      "100%|██████████| 38/38 [00:01<00:00, 23.51it/s]\n",
      "100%|██████████| 10/10 [00:00<00:00, 30.65it/s]\n",
      "  0%|          | 0/38 [00:00<?, ?it/s]"
     ]
    },
    {
     "name": "stdout",
     "output_type": "stream",
     "text": [
      "Epoch: 53 (10/10)\n",
      "\tData load time: 0.127 sec\n",
      "\tGeneration time: 0.138 sec\n",
      "\tLog probability: -34.2838 (avg -25.0673)\n",
      "\tKL: 13.7463 (avg 12.1866)\n",
      "\tLoss: 171.7471 (avg 146.9330)\n",
      "Lowest validation loss: 138.3189\n"
     ]
    },
    {
     "name": "stderr",
     "output_type": "stream",
     "text": [
      " 34%|███▍      | 13/38 [00:00<00:01, 14.76it/s]"
     ]
    },
    {
     "name": "stdout",
     "output_type": "stream",
     "text": [
      "Epoch: 54 (10/38)\n",
      "\tData load time: 0.128 sec\n",
      "\tGeneration time: 0.138 sec\n",
      "\tBackprop time: 0.162 sec\n",
      "\tLog probability: -28.2106 (avg -33.3282)\n",
      "\tKL: 11.6128 (avg 13.1935)\n",
      "\tLoss: 144.3387 (avg 165.2631)\n"
     ]
    },
    {
     "name": "stderr",
     "output_type": "stream",
     "text": [
      " 66%|██████▌   | 25/38 [00:01<00:00, 21.88it/s]"
     ]
    },
    {
     "name": "stdout",
     "output_type": "stream",
     "text": [
      "Epoch: 54 (20/38)\n",
      "\tData load time: 0.128 sec\n",
      "\tGeneration time: 0.138 sec\n",
      "\tBackprop time: 0.162 sec\n",
      "\tLog probability: -25.9793 (avg -31.3821)\n",
      "\tKL: 13.4976 (avg 13.7428)\n",
      "\tLoss: 160.9549 (avg 168.8099)\n"
     ]
    },
    {
     "name": "stderr",
     "output_type": "stream",
     "text": [
      " 89%|████████▉ | 34/38 [00:01<00:00, 24.33it/s]"
     ]
    },
    {
     "name": "stdout",
     "output_type": "stream",
     "text": [
      "Epoch: 54 (30/38)\n",
      "\tData load time: 0.128 sec\n",
      "\tGeneration time: 0.138 sec\n",
      "\tBackprop time: 0.162 sec\n",
      "\tLog probability: -21.8243 (avg -31.3310)\n",
      "\tKL: 12.9506 (avg 13.4100)\n",
      "\tLoss: 151.3305 (avg 165.4313)\n"
     ]
    },
    {
     "name": "stderr",
     "output_type": "stream",
     "text": [
      "100%|██████████| 38/38 [00:01<00:00, 23.63it/s]\n",
      "100%|██████████| 10/10 [00:00<00:00, 31.22it/s]\n"
     ]
    },
    {
     "name": "stdout",
     "output_type": "stream",
     "text": [
      "Epoch: 54 (10/10)\n",
      "\tData load time: 0.128 sec\n",
      "\tGeneration time: 0.141 sec\n",
      "\tLog probability: -7.3144 (avg -18.3055)\n",
      "\tKL: 7.9031 (avg 11.0555)\n",
      "\tLoss: 86.3456 (avg 128.8606)\n",
      "Saving checkpoint..\n"
     ]
    },
    {
     "name": "stderr",
     "output_type": "stream",
     "text": [
      "  0%|          | 0/38 [00:00<?, ?it/s]"
     ]
    },
    {
     "name": "stdout",
     "output_type": "stream",
     "text": [
      "Lowest validation loss: 128.8606\n"
     ]
    },
    {
     "name": "stderr",
     "output_type": "stream",
     "text": [
      " 34%|███▍      | 13/38 [00:00<00:01, 14.74it/s]"
     ]
    },
    {
     "name": "stdout",
     "output_type": "stream",
     "text": [
      "Epoch: 55 (10/38)\n",
      "\tData load time: 0.131 sec\n",
      "\tGeneration time: 0.142 sec\n",
      "\tBackprop time: 0.162 sec\n",
      "\tLog probability: -41.5152 (avg -37.7473)\n",
      "\tKL: 21.5643 (avg 15.4369)\n",
      "\tLoss: 257.1580 (avg 192.1161)\n"
     ]
    },
    {
     "name": "stderr",
     "output_type": "stream",
     "text": [
      " 66%|██████▌   | 25/38 [00:01<00:00, 21.90it/s]"
     ]
    },
    {
     "name": "stdout",
     "output_type": "stream",
     "text": [
      "Epoch: 55 (20/38)\n",
      "\tData load time: 0.131 sec\n",
      "\tGeneration time: 0.142 sec\n",
      "\tBackprop time: 0.162 sec\n",
      "\tLog probability: -35.9451 (avg -32.8423)\n",
      "\tKL: 15.6359 (avg 14.8522)\n",
      "\tLoss: 192.3044 (avg 181.3639)\n"
     ]
    },
    {
     "name": "stderr",
     "output_type": "stream",
     "text": [
      " 89%|████████▉ | 34/38 [00:01<00:00, 24.34it/s]"
     ]
    },
    {
     "name": "stdout",
     "output_type": "stream",
     "text": [
      "Epoch: 55 (30/38)\n",
      "\tData load time: 0.131 sec\n",
      "\tGeneration time: 0.142 sec\n",
      "\tBackprop time: 0.162 sec\n",
      "\tLog probability: -21.5233 (avg -33.5812)\n",
      "\tKL: 14.7604 (avg 14.8595)\n",
      "\tLoss: 169.1269 (avg 182.1760)\n"
     ]
    },
    {
     "name": "stderr",
     "output_type": "stream",
     "text": [
      "100%|██████████| 38/38 [00:01<00:00, 23.64it/s]\n",
      "100%|██████████| 10/10 [00:00<00:00, 30.56it/s]\n",
      "  0%|          | 0/38 [00:00<?, ?it/s]"
     ]
    },
    {
     "name": "stdout",
     "output_type": "stream",
     "text": [
      "Epoch: 55 (10/10)\n",
      "\tData load time: 0.143 sec\n",
      "\tGeneration time: 0.150 sec\n",
      "\tLog probability: -25.0840 (avg -32.1811)\n",
      "\tKL: 13.8415 (avg 13.5117)\n",
      "\tLoss: 163.4989 (avg 167.2980)\n",
      "Lowest validation loss: 128.8606\n"
     ]
    },
    {
     "name": "stderr",
     "output_type": "stream",
     "text": [
      " 34%|███▍      | 13/38 [00:00<00:01, 14.58it/s]"
     ]
    },
    {
     "name": "stdout",
     "output_type": "stream",
     "text": [
      "Epoch: 56 (10/38)\n",
      "\tData load time: 0.136 sec\n",
      "\tGeneration time: 0.144 sec\n",
      "\tBackprop time: 0.166 sec\n",
      "\tLog probability: -29.4534 (avg -30.6553)\n",
      "\tKL: 16.6942 (avg 15.6342)\n",
      "\tLoss: 196.3951 (avg 186.9977)\n"
     ]
    },
    {
     "name": "stderr",
     "output_type": "stream",
     "text": [
      " 66%|██████▌   | 25/38 [00:01<00:00, 21.80it/s]"
     ]
    },
    {
     "name": "stdout",
     "output_type": "stream",
     "text": [
      "Epoch: 56 (20/38)\n",
      "\tData load time: 0.136 sec\n",
      "\tGeneration time: 0.144 sec\n",
      "\tBackprop time: 0.166 sec\n",
      "\tLog probability: -24.1545 (avg -33.7341)\n",
      "\tKL: 16.2928 (avg 15.1128)\n",
      "\tLoss: 187.0825 (avg 184.8619)\n"
     ]
    },
    {
     "name": "stderr",
     "output_type": "stream",
     "text": [
      " 89%|████████▉ | 34/38 [00:01<00:00, 24.28it/s]"
     ]
    },
    {
     "name": "stdout",
     "output_type": "stream",
     "text": [
      "Epoch: 56 (30/38)\n",
      "\tData load time: 0.136 sec\n",
      "\tGeneration time: 0.144 sec\n",
      "\tBackprop time: 0.166 sec\n",
      "\tLog probability: -22.4708 (avg -32.9388)\n",
      "\tKL: 12.6488 (avg 14.8249)\n",
      "\tLoss: 148.9585 (avg 181.1882)\n"
     ]
    },
    {
     "name": "stderr",
     "output_type": "stream",
     "text": [
      "100%|██████████| 38/38 [00:01<00:00, 23.54it/s]\n",
      "100%|██████████| 10/10 [00:00<00:00, 30.20it/s]\n",
      "  0%|          | 0/38 [00:00<?, ?it/s]"
     ]
    },
    {
     "name": "stdout",
     "output_type": "stream",
     "text": [
      "Epoch: 56 (10/10)\n",
      "\tData load time: 0.142 sec\n",
      "\tGeneration time: 0.151 sec\n",
      "\tLog probability: -13.2031 (avg -22.1042)\n",
      "\tKL: 14.4270 (avg 15.0980)\n",
      "\tLoss: 157.4735 (avg 173.0844)\n",
      "Lowest validation loss: 128.8606\n"
     ]
    },
    {
     "name": "stderr",
     "output_type": "stream",
     "text": [
      " 34%|███▍      | 13/38 [00:00<00:01, 14.47it/s]"
     ]
    },
    {
     "name": "stdout",
     "output_type": "stream",
     "text": [
      "Epoch: 57 (10/38)\n",
      "\tData load time: 0.133 sec\n",
      "\tGeneration time: 0.144 sec\n",
      "\tBackprop time: 0.167 sec\n",
      "\tLog probability: -67.5492 (avg -31.5113)\n",
      "\tKL: 21.8514 (avg 15.9472)\n",
      "\tLoss: 286.0630 (avg 190.9835)\n"
     ]
    },
    {
     "name": "stderr",
     "output_type": "stream",
     "text": [
      " 66%|██████▌   | 25/38 [00:01<00:00, 21.63it/s]"
     ]
    },
    {
     "name": "stdout",
     "output_type": "stream",
     "text": [
      "Epoch: 57 (20/38)\n",
      "\tData load time: 0.133 sec\n",
      "\tGeneration time: 0.144 sec\n",
      "\tBackprop time: 0.167 sec\n",
      "\tLog probability: -26.7647 (avg -30.8902)\n",
      "\tKL: 12.6774 (avg 15.5595)\n",
      "\tLoss: 153.5386 (avg 186.4852)\n"
     ]
    },
    {
     "name": "stderr",
     "output_type": "stream",
     "text": [
      " 89%|████████▉ | 34/38 [00:01<00:00, 24.28it/s]"
     ]
    },
    {
     "name": "stdout",
     "output_type": "stream",
     "text": [
      "Epoch: 57 (30/38)\n",
      "\tData load time: 0.133 sec\n",
      "\tGeneration time: 0.144 sec\n",
      "\tBackprop time: 0.167 sec\n",
      "\tLog probability: -132.9647 (avg -36.7768)\n",
      "\tKL: 15.7623 (avg 15.3406)\n",
      "\tLoss: 290.5879 (avg 190.1832)\n"
     ]
    },
    {
     "name": "stderr",
     "output_type": "stream",
     "text": [
      "100%|██████████| 38/38 [00:01<00:00, 23.52it/s]\n",
      "100%|██████████| 10/10 [00:00<00:00, 30.15it/s]\n",
      "  0%|          | 0/38 [00:00<?, ?it/s]"
     ]
    },
    {
     "name": "stdout",
     "output_type": "stream",
     "text": [
      "Epoch: 57 (10/10)\n",
      "\tData load time: 0.139 sec\n",
      "\tGeneration time: 0.148 sec\n",
      "\tLog probability: -25.0358 (avg -23.2386)\n",
      "\tKL: 12.5779 (avg 13.4044)\n",
      "\tLoss: 150.8147 (avg 157.2825)\n",
      "Lowest validation loss: 128.8606\n"
     ]
    },
    {
     "name": "stderr",
     "output_type": "stream",
     "text": [
      " 34%|███▍      | 13/38 [00:00<00:01, 14.67it/s]"
     ]
    },
    {
     "name": "stdout",
     "output_type": "stream",
     "text": [
      "Epoch: 58 (10/38)\n",
      "\tData load time: 0.131 sec\n",
      "\tGeneration time: 0.143 sec\n",
      "\tBackprop time: 0.166 sec\n",
      "\tLog probability: -32.1829 (avg -35.0432)\n",
      "\tKL: 15.1659 (avg 16.3409)\n",
      "\tLoss: 183.8415 (avg 198.4525)\n"
     ]
    },
    {
     "name": "stderr",
     "output_type": "stream",
     "text": [
      " 66%|██████▌   | 25/38 [00:01<00:00, 21.89it/s]"
     ]
    },
    {
     "name": "stdout",
     "output_type": "stream",
     "text": [
      "Epoch: 58 (20/38)\n",
      "\tData load time: 0.131 sec\n",
      "\tGeneration time: 0.143 sec\n",
      "\tBackprop time: 0.166 sec\n",
      "\tLog probability: -21.8164 (avg -35.8185)\n",
      "\tKL: 15.4446 (avg 15.4486)\n",
      "\tLoss: 176.2627 (avg 190.3046)\n"
     ]
    },
    {
     "name": "stderr",
     "output_type": "stream",
     "text": [
      " 89%|████████▉ | 34/38 [00:01<00:00, 24.36it/s]"
     ]
    },
    {
     "name": "stdout",
     "output_type": "stream",
     "text": [
      "Epoch: 58 (30/38)\n",
      "\tData load time: 0.131 sec\n",
      "\tGeneration time: 0.143 sec\n",
      "\tBackprop time: 0.166 sec\n",
      "\tLog probability: -31.7660 (avg -37.5166)\n",
      "\tKL: 13.2401 (avg 15.4454)\n",
      "\tLoss: 164.1670 (avg 191.9710)\n"
     ]
    },
    {
     "name": "stderr",
     "output_type": "stream",
     "text": [
      "100%|██████████| 38/38 [00:01<00:00, 23.68it/s]\n",
      "100%|██████████| 10/10 [00:00<00:00, 30.64it/s]\n",
      "  0%|          | 0/38 [00:00<?, ?it/s]"
     ]
    },
    {
     "name": "stdout",
     "output_type": "stream",
     "text": [
      "Epoch: 58 (10/10)\n",
      "\tData load time: 0.138 sec\n",
      "\tGeneration time: 0.145 sec\n",
      "\tLog probability: -33.3680 (avg -25.5346)\n",
      "\tKL: 15.4159 (avg 13.4468)\n",
      "\tLoss: 187.5275 (avg 160.0028)\n",
      "Lowest validation loss: 128.8606\n"
     ]
    },
    {
     "name": "stderr",
     "output_type": "stream",
     "text": [
      " 34%|███▍      | 13/38 [00:00<00:01, 14.46it/s]"
     ]
    },
    {
     "name": "stdout",
     "output_type": "stream",
     "text": [
      "Epoch: 59 (10/38)\n",
      "\tData load time: 0.138 sec\n",
      "\tGeneration time: 0.145 sec\n",
      "\tBackprop time: 0.167 sec\n",
      "\tLog probability: -23.7865 (avg -37.3094)\n",
      "\tKL: 12.2068 (avg 15.0639)\n",
      "\tLoss: 145.8547 (avg 187.9488)\n"
     ]
    },
    {
     "name": "stderr",
     "output_type": "stream",
     "text": [
      " 66%|██████▌   | 25/38 [00:01<00:00, 21.70it/s]"
     ]
    },
    {
     "name": "stdout",
     "output_type": "stream",
     "text": [
      "Epoch: 59 (20/38)\n",
      "\tData load time: 0.138 sec\n",
      "\tGeneration time: 0.145 sec\n",
      "\tBackprop time: 0.167 sec\n",
      "\tLog probability: -16.5976 (avg -40.4493)\n",
      "\tKL: 13.4551 (avg 15.1523)\n",
      "\tLoss: 151.1484 (avg 191.9727)\n"
     ]
    },
    {
     "name": "stderr",
     "output_type": "stream",
     "text": [
      " 89%|████████▉ | 34/38 [00:01<00:00, 24.30it/s]"
     ]
    },
    {
     "name": "stdout",
     "output_type": "stream",
     "text": [
      "Epoch: 59 (30/38)\n",
      "\tData load time: 0.138 sec\n",
      "\tGeneration time: 0.145 sec\n",
      "\tBackprop time: 0.167 sec\n",
      "\tLog probability: -29.9889 (avg -42.6166)\n",
      "\tKL: 14.2040 (avg 14.9649)\n",
      "\tLoss: 172.0285 (avg 192.2655)\n"
     ]
    },
    {
     "name": "stderr",
     "output_type": "stream",
     "text": [
      "100%|██████████| 38/38 [00:01<00:00, 23.50it/s]\n",
      "100%|██████████| 10/10 [00:00<00:00, 30.00it/s]\n",
      "  0%|          | 0/38 [00:00<?, ?it/s]"
     ]
    },
    {
     "name": "stdout",
     "output_type": "stream",
     "text": [
      "Epoch: 59 (10/10)\n",
      "\tData load time: 0.136 sec\n",
      "\tGeneration time: 0.144 sec\n",
      "\tLog probability: -34.1030 (avg -39.0550)\n",
      "\tKL: 18.1058 (avg 14.3750)\n",
      "\tLoss: 215.1607 (avg 182.8053)\n",
      "Lowest validation loss: 128.8606\n"
     ]
    },
    {
     "name": "stderr",
     "output_type": "stream",
     "text": [
      " 34%|███▍      | 13/38 [00:00<00:01, 14.42it/s]"
     ]
    },
    {
     "name": "stdout",
     "output_type": "stream",
     "text": [
      "Epoch: 60 (10/38)\n",
      "\tData load time: 0.136 sec\n",
      "\tGeneration time: 0.147 sec\n",
      "\tBackprop time: 0.168 sec\n",
      "\tLog probability: -27.0356 (avg -35.0098)\n",
      "\tKL: 13.4877 (avg 15.1413)\n",
      "\tLoss: 161.9127 (avg 186.4228)\n"
     ]
    },
    {
     "name": "stderr",
     "output_type": "stream",
     "text": [
      " 66%|██████▌   | 25/38 [00:01<00:00, 21.53it/s]"
     ]
    },
    {
     "name": "stdout",
     "output_type": "stream",
     "text": [
      "Epoch: 60 (20/38)\n",
      "\tData load time: 0.136 sec\n",
      "\tGeneration time: 0.147 sec\n",
      "\tBackprop time: 0.168 sec\n",
      "\tLog probability: -23.0926 (avg -31.4629)\n",
      "\tKL: 12.8352 (avg 14.4543)\n",
      "\tLoss: 151.4447 (avg 176.0064)\n"
     ]
    },
    {
     "name": "stderr",
     "output_type": "stream",
     "text": [
      " 89%|████████▉ | 34/38 [00:01<00:00, 24.08it/s]"
     ]
    },
    {
     "name": "stdout",
     "output_type": "stream",
     "text": [
      "Epoch: 60 (30/38)\n",
      "\tData load time: 0.136 sec\n",
      "\tGeneration time: 0.147 sec\n",
      "\tBackprop time: 0.168 sec\n",
      "\tLog probability: -33.1058 (avg -34.3134)\n",
      "\tKL: 10.5368 (avg 13.5442)\n",
      "\tLoss: 138.4741 (avg 169.7557)\n"
     ]
    },
    {
     "name": "stderr",
     "output_type": "stream",
     "text": [
      "100%|██████████| 38/38 [00:01<00:00, 23.45it/s]\n",
      "100%|██████████| 10/10 [00:00<00:00, 30.71it/s]\n",
      "  0%|          | 0/38 [00:00<?, ?it/s]"
     ]
    },
    {
     "name": "stdout",
     "output_type": "stream",
     "text": [
      "Epoch: 60 (10/10)\n",
      "\tData load time: 0.141 sec\n",
      "\tGeneration time: 0.148 sec\n",
      "\tLog probability: -36.9380 (avg -23.3495)\n",
      "\tKL: 16.5068 (avg 11.6470)\n",
      "\tLoss: 202.0062 (avg 139.8197)\n",
      "Lowest validation loss: 128.8606\n"
     ]
    },
    {
     "name": "stderr",
     "output_type": "stream",
     "text": [
      " 34%|███▍      | 13/38 [00:00<00:01, 14.35it/s]"
     ]
    },
    {
     "name": "stdout",
     "output_type": "stream",
     "text": [
      "Epoch: 61 (10/38)\n",
      "\tData load time: 0.140 sec\n",
      "\tGeneration time: 0.149 sec\n",
      "\tBackprop time: 0.169 sec\n",
      "\tLog probability: -34.0210 (avg -54.3040)\n",
      "\tKL: 13.1299 (avg 14.4959)\n",
      "\tLoss: 165.3202 (avg 199.2633)\n"
     ]
    },
    {
     "name": "stderr",
     "output_type": "stream",
     "text": [
      " 66%|██████▌   | 25/38 [00:01<00:00, 21.65it/s]"
     ]
    },
    {
     "name": "stdout",
     "output_type": "stream",
     "text": [
      "Epoch: 61 (20/38)\n",
      "\tData load time: 0.140 sec\n",
      "\tGeneration time: 0.149 sec\n",
      "\tBackprop time: 0.169 sec\n",
      "\tLog probability: -26.3941 (avg -40.9080)\n",
      "\tKL: 9.0476 (avg 12.9455)\n",
      "\tLoss: 116.8699 (avg 170.3634)\n"
     ]
    },
    {
     "name": "stderr",
     "output_type": "stream",
     "text": [
      " 89%|████████▉ | 34/38 [00:01<00:00, 24.23it/s]"
     ]
    },
    {
     "name": "stdout",
     "output_type": "stream",
     "text": [
      "Epoch: 61 (30/38)\n",
      "\tData load time: 0.140 sec\n",
      "\tGeneration time: 0.149 sec\n",
      "\tBackprop time: 0.169 sec\n",
      "\tLog probability: -34.2520 (avg -40.6381)\n",
      "\tKL: 14.3602 (avg 13.1569)\n",
      "\tLoss: 177.8536 (avg 172.2068)\n"
     ]
    },
    {
     "name": "stderr",
     "output_type": "stream",
     "text": [
      "100%|██████████| 38/38 [00:01<00:00, 23.49it/s]\n",
      "100%|██████████| 10/10 [00:00<00:00, 30.68it/s]\n",
      "  0%|          | 0/38 [00:00<?, ?it/s]"
     ]
    },
    {
     "name": "stdout",
     "output_type": "stream",
     "text": [
      "Epoch: 61 (10/10)\n",
      "\tData load time: 0.138 sec\n",
      "\tGeneration time: 0.144 sec\n",
      "\tLog probability: -14.9538 (avg -47.6482)\n",
      "\tKL: 12.1385 (avg 13.1716)\n",
      "\tLoss: 136.3387 (avg 179.3645)\n",
      "Lowest validation loss: 128.8606\n"
     ]
    },
    {
     "name": "stderr",
     "output_type": "stream",
     "text": [
      " 34%|███▍      | 13/38 [00:00<00:01, 14.90it/s]"
     ]
    },
    {
     "name": "stdout",
     "output_type": "stream",
     "text": [
      "Epoch: 62 (10/38)\n",
      "\tData load time: 0.121 sec\n",
      "\tGeneration time: 0.133 sec\n",
      "\tBackprop time: 0.161 sec\n",
      "\tLog probability: -77.1261 (avg -42.8057)\n",
      "\tKL: 17.1004 (avg 14.1726)\n",
      "\tLoss: 248.1300 (avg 184.5322)\n"
     ]
    },
    {
     "name": "stderr",
     "output_type": "stream",
     "text": [
      " 66%|██████▌   | 25/38 [00:01<00:00, 21.96it/s]"
     ]
    },
    {
     "name": "stdout",
     "output_type": "stream",
     "text": [
      "Epoch: 62 (20/38)\n",
      "\tData load time: 0.121 sec\n",
      "\tGeneration time: 0.133 sec\n",
      "\tBackprop time: 0.161 sec\n",
      "\tLog probability: -31.8226 (avg -38.5123)\n",
      "\tKL: 10.5098 (avg 13.3458)\n",
      "\tLoss: 136.9201 (avg 171.9703)\n"
     ]
    },
    {
     "name": "stderr",
     "output_type": "stream",
     "text": [
      " 89%|████████▉ | 34/38 [00:01<00:00, 24.39it/s]"
     ]
    },
    {
     "name": "stdout",
     "output_type": "stream",
     "text": [
      "Epoch: 62 (30/38)\n",
      "\tData load time: 0.121 sec\n",
      "\tGeneration time: 0.133 sec\n",
      "\tBackprop time: 0.161 sec\n",
      "\tLog probability: -25.9626 (avg -37.1401)\n",
      "\tKL: 8.3992 (avg 12.4500)\n",
      "\tLoss: 109.9547 (avg 161.6404)\n"
     ]
    },
    {
     "name": "stderr",
     "output_type": "stream",
     "text": [
      "100%|██████████| 38/38 [00:01<00:00, 23.72it/s]\n",
      "100%|██████████| 10/10 [00:00<00:00, 30.70it/s]\n",
      "  0%|          | 0/38 [00:00<?, ?it/s]"
     ]
    },
    {
     "name": "stdout",
     "output_type": "stream",
     "text": [
      "Epoch: 62 (10/10)\n",
      "\tData load time: 0.137 sec\n",
      "\tGeneration time: 0.147 sec\n",
      "\tLog probability: -88.2806 (avg -50.8220)\n",
      "\tKL: 13.5291 (avg 12.5393)\n",
      "\tLoss: 223.5717 (avg 176.2149)\n",
      "Lowest validation loss: 128.8606\n"
     ]
    },
    {
     "name": "stderr",
     "output_type": "stream",
     "text": [
      " 34%|███▍      | 13/38 [00:00<00:01, 14.46it/s]"
     ]
    },
    {
     "name": "stdout",
     "output_type": "stream",
     "text": [
      "Epoch: 63 (10/38)\n",
      "\tData load time: 0.138 sec\n",
      "\tGeneration time: 0.147 sec\n",
      "\tBackprop time: 0.168 sec\n",
      "\tLog probability: -36.6451 (avg -42.2582)\n",
      "\tKL: 12.7546 (avg 13.2839)\n",
      "\tLoss: 164.1913 (avg 175.0972)\n"
     ]
    },
    {
     "name": "stderr",
     "output_type": "stream",
     "text": [
      " 66%|██████▌   | 25/38 [00:01<00:00, 21.65it/s]"
     ]
    },
    {
     "name": "stdout",
     "output_type": "stream",
     "text": [
      "Epoch: 63 (20/38)\n",
      "\tData load time: 0.138 sec\n",
      "\tGeneration time: 0.147 sec\n",
      "\tBackprop time: 0.168 sec\n",
      "\tLog probability: -23.0708 (avg -34.4528)\n",
      "\tKL: 9.4543 (avg 12.4061)\n",
      "\tLoss: 117.6134 (avg 158.5141)\n"
     ]
    },
    {
     "name": "stderr",
     "output_type": "stream",
     "text": [
      " 89%|████████▉ | 34/38 [00:01<00:00, 24.26it/s]"
     ]
    },
    {
     "name": "stdout",
     "output_type": "stream",
     "text": [
      "Epoch: 63 (30/38)\n",
      "\tData load time: 0.138 sec\n",
      "\tGeneration time: 0.147 sec\n",
      "\tBackprop time: 0.168 sec\n",
      "\tLog probability: -29.7490 (avg -33.7690)\n",
      "\tKL: 11.3433 (avg 12.2704)\n",
      "\tLoss: 143.1816 (avg 156.4726)\n"
     ]
    },
    {
     "name": "stderr",
     "output_type": "stream",
     "text": [
      "100%|██████████| 38/38 [00:01<00:00, 23.54it/s]\n",
      "100%|██████████| 10/10 [00:00<00:00, 32.01it/s]\n",
      "  0%|          | 0/38 [00:00<?, ?it/s]"
     ]
    },
    {
     "name": "stdout",
     "output_type": "stream",
     "text": [
      "Epoch: 63 (10/10)\n",
      "\tData load time: 0.114 sec\n",
      "\tGeneration time: 0.123 sec\n",
      "\tLog probability: -20.6940 (avg -26.9797)\n",
      "\tKL: 15.0747 (avg 14.7413)\n",
      "\tLoss: 171.4409 (avg 174.3928)\n",
      "Lowest validation loss: 128.8606\n"
     ]
    },
    {
     "name": "stderr",
     "output_type": "stream",
     "text": [
      " 34%|███▍      | 13/38 [00:00<00:01, 14.50it/s]"
     ]
    },
    {
     "name": "stdout",
     "output_type": "stream",
     "text": [
      "Epoch: 64 (10/38)\n",
      "\tData load time: 0.135 sec\n",
      "\tGeneration time: 0.146 sec\n",
      "\tBackprop time: 0.166 sec\n",
      "\tLog probability: -28.6142 (avg -38.5047)\n",
      "\tKL: 11.7107 (avg 13.4095)\n",
      "\tLoss: 145.7214 (avg 172.5999)\n"
     ]
    },
    {
     "name": "stderr",
     "output_type": "stream",
     "text": [
      " 66%|██████▌   | 25/38 [00:01<00:00, 21.74it/s]"
     ]
    },
    {
     "name": "stdout",
     "output_type": "stream",
     "text": [
      "Epoch: 64 (20/38)\n",
      "\tData load time: 0.135 sec\n",
      "\tGeneration time: 0.146 sec\n",
      "\tBackprop time: 0.166 sec\n",
      "\tLog probability: -18.4513 (avg -35.9584)\n",
      "\tKL: 10.3938 (avg 13.1583)\n",
      "\tLoss: 122.3896 (avg 167.5414)\n"
     ]
    },
    {
     "name": "stderr",
     "output_type": "stream",
     "text": [
      " 89%|████████▉ | 34/38 [00:01<00:00, 24.25it/s]"
     ]
    },
    {
     "name": "stdout",
     "output_type": "stream",
     "text": [
      "Epoch: 64 (30/38)\n",
      "\tData load time: 0.135 sec\n",
      "\tGeneration time: 0.146 sec\n",
      "\tBackprop time: 0.166 sec\n",
      "\tLog probability: -51.1612 (avg -37.2495)\n",
      "\tKL: 8.2196 (avg 12.4988)\n",
      "\tLoss: 133.3571 (avg 162.2375)\n"
     ]
    },
    {
     "name": "stderr",
     "output_type": "stream",
     "text": [
      "100%|██████████| 38/38 [00:01<00:00, 23.50it/s]\n",
      "100%|██████████| 10/10 [00:00<00:00, 30.51it/s]\n",
      "  0%|          | 0/38 [00:00<?, ?it/s]"
     ]
    },
    {
     "name": "stdout",
     "output_type": "stream",
     "text": [
      "Epoch: 64 (10/10)\n",
      "\tData load time: 0.134 sec\n",
      "\tGeneration time: 0.145 sec\n",
      "\tLog probability: -12.0202 (avg -47.4491)\n",
      "\tKL: 8.2334 (avg 9.1756)\n",
      "\tLoss: 94.3542 (avg 139.2048)\n",
      "Lowest validation loss: 128.8606\n"
     ]
    },
    {
     "name": "stderr",
     "output_type": "stream",
     "text": [
      " 34%|███▍      | 13/38 [00:00<00:01, 14.56it/s]"
     ]
    },
    {
     "name": "stdout",
     "output_type": "stream",
     "text": [
      "Epoch: 65 (10/38)\n",
      "\tData load time: 0.137 sec\n",
      "\tGeneration time: 0.146 sec\n",
      "\tBackprop time: 0.166 sec\n",
      "\tLog probability: -29.7524 (avg -35.1941)\n",
      "\tKL: 10.3304 (avg 9.6647)\n",
      "\tLoss: 133.0565 (avg 131.8408)\n"
     ]
    },
    {
     "name": "stderr",
     "output_type": "stream",
     "text": [
      " 66%|██████▌   | 25/38 [00:01<00:00, 21.78it/s]"
     ]
    },
    {
     "name": "stdout",
     "output_type": "stream",
     "text": [
      "Epoch: 65 (20/38)\n",
      "\tData load time: 0.137 sec\n",
      "\tGeneration time: 0.146 sec\n",
      "\tBackprop time: 0.166 sec\n",
      "\tLog probability: -38.3979 (avg -42.1290)\n",
      "\tKL: 10.6843 (avg 10.2645)\n",
      "\tLoss: 145.2411 (avg 144.7735)\n"
     ]
    },
    {
     "name": "stderr",
     "output_type": "stream",
     "text": [
      " 89%|████████▉ | 34/38 [00:01<00:00, 23.87it/s]"
     ]
    },
    {
     "name": "stdout",
     "output_type": "stream",
     "text": [
      "Epoch: 65 (30/38)\n",
      "\tData load time: 0.137 sec\n",
      "\tGeneration time: 0.146 sec\n",
      "\tBackprop time: 0.166 sec\n",
      "\tLog probability: -36.3559 (avg -39.8212)\n",
      "\tKL: 10.3017 (avg 22.2748)\n",
      "\tLoss: 139.3724 (avg 262.5696)\n"
     ]
    },
    {
     "name": "stderr",
     "output_type": "stream",
     "text": [
      "100%|██████████| 38/38 [00:01<00:00, 23.22it/s]\n",
      "100%|██████████| 10/10 [00:00<00:00, 27.77it/s]\n",
      "  0%|          | 0/38 [00:00<?, ?it/s]"
     ]
    },
    {
     "name": "stdout",
     "output_type": "stream",
     "text": [
      "Epoch: 65 (10/10)\n",
      "\tData load time: 0.148 sec\n",
      "\tGeneration time: 0.156 sec\n",
      "\tLog probability: -37.4650 (avg -39.3090)\n",
      "\tKL: 40.4803 (avg 37.8202)\n",
      "\tLoss: 442.2678 (avg 417.5108)\n",
      "Lowest validation loss: 128.8606\n"
     ]
    },
    {
     "name": "stderr",
     "output_type": "stream",
     "text": [
      " 34%|███▍      | 13/38 [00:00<00:01, 13.37it/s]"
     ]
    },
    {
     "name": "stdout",
     "output_type": "stream",
     "text": [
      "Epoch: 66 (10/38)\n",
      "\tData load time: 0.152 sec\n",
      "\tGeneration time: 0.167 sec\n",
      "\tBackprop time: 0.192 sec\n",
      "\tLog probability: -28.1161 (avg -36.2983)\n",
      "\tKL: 32.0083 (avg 48.2803)\n",
      "\tLoss: 348.1992 (avg 519.1016)\n"
     ]
    },
    {
     "name": "stderr",
     "output_type": "stream",
     "text": [
      " 66%|██████▌   | 25/38 [00:01<00:00, 21.00it/s]"
     ]
    },
    {
     "name": "stdout",
     "output_type": "stream",
     "text": [
      "Epoch: 66 (20/38)\n",
      "\tData load time: 0.152 sec\n",
      "\tGeneration time: 0.167 sec\n",
      "\tBackprop time: 0.192 sec\n",
      "\tLog probability: -25.2629 (avg -35.1464)\n",
      "\tKL: 33.2919 (avg 39.4005)\n",
      "\tLoss: 358.1818 (avg 429.1515)\n"
     ]
    },
    {
     "name": "stderr",
     "output_type": "stream",
     "text": [
      " 89%|████████▉ | 34/38 [00:01<00:00, 23.69it/s]"
     ]
    },
    {
     "name": "stdout",
     "output_type": "stream",
     "text": [
      "Epoch: 66 (30/38)\n",
      "\tData load time: 0.152 sec\n",
      "\tGeneration time: 0.167 sec\n",
      "\tBackprop time: 0.192 sec\n",
      "\tLog probability: -27.0724 (avg -33.2588)\n",
      "\tKL: 26.5457 (avg 35.2840)\n",
      "\tLoss: 292.5299 (avg 386.0992)\n"
     ]
    },
    {
     "name": "stderr",
     "output_type": "stream",
     "text": [
      "100%|██████████| 38/38 [00:01<00:00, 22.99it/s]\n",
      "100%|██████████| 10/10 [00:00<00:00, 27.18it/s]\n",
      "  0%|          | 0/38 [00:00<?, ?it/s]"
     ]
    },
    {
     "name": "stdout",
     "output_type": "stream",
     "text": [
      "Epoch: 66 (10/10)\n",
      "\tData load time: 0.187 sec\n",
      "\tGeneration time: 0.194 sec\n",
      "\tLog probability: -18.4275 (avg -21.3473)\n",
      "\tKL: 19.3890 (avg 24.6118)\n",
      "\tLoss: 212.3171 (avg 267.4652)\n",
      "Lowest validation loss: 128.8606\n"
     ]
    },
    {
     "name": "stderr",
     "output_type": "stream",
     "text": [
      " 34%|███▍      | 13/38 [00:00<00:01, 14.05it/s]"
     ]
    },
    {
     "name": "stdout",
     "output_type": "stream",
     "text": [
      "Epoch: 67 (10/38)\n",
      "\tData load time: 0.143 sec\n",
      "\tGeneration time: 0.155 sec\n",
      "\tBackprop time: 0.176 sec\n",
      "\tLog probability: -22.3303 (avg -31.8997)\n",
      "\tKL: 23.5068 (avg 26.8355)\n",
      "\tLoss: 257.3983 (avg 300.2552)\n"
     ]
    },
    {
     "name": "stderr",
     "output_type": "stream",
     "text": [
      " 66%|██████▌   | 25/38 [00:01<00:00, 21.47it/s]"
     ]
    },
    {
     "name": "stdout",
     "output_type": "stream",
     "text": [
      "Epoch: 67 (20/38)\n",
      "\tData load time: 0.143 sec\n",
      "\tGeneration time: 0.155 sec\n",
      "\tBackprop time: 0.176 sec\n",
      "\tLog probability: -23.6677 (avg -31.1192)\n",
      "\tKL: 23.1422 (avg 26.5317)\n",
      "\tLoss: 255.0899 (avg 296.4366)\n"
     ]
    },
    {
     "name": "stderr",
     "output_type": "stream",
     "text": [
      " 89%|████████▉ | 34/38 [00:01<00:00, 24.14it/s]"
     ]
    },
    {
     "name": "stdout",
     "output_type": "stream",
     "text": [
      "Epoch: 67 (30/38)\n",
      "\tData load time: 0.143 sec\n",
      "\tGeneration time: 0.155 sec\n",
      "\tBackprop time: 0.176 sec\n",
      "\tLog probability: -48.2802 (avg -32.0520)\n",
      "\tKL: 23.6576 (avg 26.1411)\n",
      "\tLoss: 284.8561 (avg 293.4635)\n"
     ]
    },
    {
     "name": "stderr",
     "output_type": "stream",
     "text": [
      "100%|██████████| 38/38 [00:01<00:00, 23.28it/s]\n",
      "100%|██████████| 10/10 [00:00<00:00, 30.68it/s]\n",
      "  0%|          | 0/38 [00:00<?, ?it/s]"
     ]
    },
    {
     "name": "stdout",
     "output_type": "stream",
     "text": [
      "Epoch: 67 (10/10)\n",
      "\tData load time: 0.134 sec\n",
      "\tGeneration time: 0.143 sec\n",
      "\tLog probability: -17.4668 (avg -20.9063)\n",
      "\tKL: 25.5219 (avg 24.1940)\n",
      "\tLoss: 272.6861 (avg 262.8461)\n",
      "Lowest validation loss: 128.8606\n"
     ]
    },
    {
     "name": "stderr",
     "output_type": "stream",
     "text": [
      " 34%|███▍      | 13/38 [00:00<00:01, 14.31it/s]"
     ]
    },
    {
     "name": "stdout",
     "output_type": "stream",
     "text": [
      "Epoch: 68 (10/38)\n",
      "\tData load time: 0.141 sec\n",
      "\tGeneration time: 0.149 sec\n",
      "\tBackprop time: 0.170 sec\n",
      "\tLog probability: -30.0805 (avg -29.5240)\n",
      "\tKL: 25.2518 (avg 25.0808)\n",
      "\tLoss: 282.5984 (avg 280.3318)\n"
     ]
    },
    {
     "name": "stderr",
     "output_type": "stream",
     "text": [
      " 66%|██████▌   | 25/38 [00:01<00:00, 21.65it/s]"
     ]
    },
    {
     "name": "stdout",
     "output_type": "stream",
     "text": [
      "Epoch: 68 (20/38)\n",
      "\tData load time: 0.141 sec\n",
      "\tGeneration time: 0.149 sec\n",
      "\tBackprop time: 0.170 sec\n",
      "\tLog probability: -25.5249 (avg -26.6795)\n",
      "\tKL: 31.1577 (avg 24.8224)\n",
      "\tLoss: 337.1017 (avg 274.9033)\n"
     ]
    },
    {
     "name": "stderr",
     "output_type": "stream",
     "text": [
      " 89%|████████▉ | 34/38 [00:01<00:00, 24.25it/s]"
     ]
    },
    {
     "name": "stdout",
     "output_type": "stream",
     "text": [
      "Epoch: 68 (30/38)\n",
      "\tData load time: 0.141 sec\n",
      "\tGeneration time: 0.149 sec\n",
      "\tBackprop time: 0.170 sec\n",
      "\tLog probability: -16.6030 (avg -28.1360)\n",
      "\tKL: 23.1221 (avg 24.6926)\n",
      "\tLoss: 247.8238 (avg 275.0623)\n"
     ]
    },
    {
     "name": "stderr",
     "output_type": "stream",
     "text": [
      "100%|██████████| 38/38 [00:01<00:00, 23.52it/s]\n",
      "100%|██████████| 10/10 [00:00<00:00, 30.81it/s]\n",
      "  0%|          | 0/38 [00:00<?, ?it/s]"
     ]
    },
    {
     "name": "stdout",
     "output_type": "stream",
     "text": [
      "Epoch: 68 (10/10)\n",
      "\tData load time: 0.136 sec\n",
      "\tGeneration time: 0.145 sec\n",
      "\tLog probability: -12.3672 (avg -18.2572)\n",
      "\tKL: 19.0420 (avg 22.2556)\n",
      "\tLoss: 202.7876 (avg 240.8137)\n",
      "Lowest validation loss: 128.8606\n"
     ]
    },
    {
     "name": "stderr",
     "output_type": "stream",
     "text": [
      " 34%|███▍      | 13/38 [00:00<00:01, 14.49it/s]"
     ]
    },
    {
     "name": "stdout",
     "output_type": "stream",
     "text": [
      "Epoch: 69 (10/38)\n",
      "\tData load time: 0.134 sec\n",
      "\tGeneration time: 0.145 sec\n",
      "\tBackprop time: 0.166 sec\n",
      "\tLog probability: -23.7960 (avg -25.2242)\n",
      "\tKL: 22.1574 (avg 23.6114)\n",
      "\tLoss: 245.3705 (avg 261.3378)\n"
     ]
    },
    {
     "name": "stderr",
     "output_type": "stream",
     "text": [
      " 66%|██████▌   | 25/38 [00:01<00:00, 21.77it/s]"
     ]
    },
    {
     "name": "stdout",
     "output_type": "stream",
     "text": [
      "Epoch: 69 (20/38)\n",
      "\tData load time: 0.134 sec\n",
      "\tGeneration time: 0.145 sec\n",
      "\tBackprop time: 0.166 sec\n",
      "\tLog probability: -24.6794 (avg -28.4568)\n",
      "\tKL: 22.3010 (avg 23.9801)\n",
      "\tLoss: 247.6897 (avg 268.2574)\n"
     ]
    },
    {
     "name": "stderr",
     "output_type": "stream",
     "text": [
      " 89%|████████▉ | 34/38 [00:01<00:00, 24.30it/s]"
     ]
    },
    {
     "name": "stdout",
     "output_type": "stream",
     "text": [
      "Epoch: 69 (30/38)\n",
      "\tData load time: 0.134 sec\n",
      "\tGeneration time: 0.145 sec\n",
      "\tBackprop time: 0.166 sec\n",
      "\tLog probability: -16.1355 (avg -28.5273)\n",
      "\tKL: 22.0149 (avg 23.8071)\n",
      "\tLoss: 236.2846 (avg 266.5987)\n"
     ]
    },
    {
     "name": "stderr",
     "output_type": "stream",
     "text": [
      "100%|██████████| 38/38 [00:01<00:00, 23.57it/s]\n",
      "100%|██████████| 10/10 [00:00<00:00, 30.79it/s]\n",
      "  0%|          | 0/38 [00:00<?, ?it/s]"
     ]
    },
    {
     "name": "stdout",
     "output_type": "stream",
     "text": [
      "Epoch: 69 (10/10)\n",
      "\tData load time: 0.138 sec\n",
      "\tGeneration time: 0.147 sec\n",
      "\tLog probability: -34.7488 (avg -21.4664)\n",
      "\tKL: 30.7270 (avg 22.8061)\n",
      "\tLoss: 342.0185 (avg 249.5278)\n",
      "Lowest validation loss: 128.8606\n"
     ]
    },
    {
     "name": "stderr",
     "output_type": "stream",
     "text": [
      " 34%|███▍      | 13/38 [00:00<00:01, 14.33it/s]"
     ]
    },
    {
     "name": "stdout",
     "output_type": "stream",
     "text": [
      "Epoch: 70 (10/38)\n",
      "\tData load time: 0.141 sec\n",
      "\tGeneration time: 0.148 sec\n",
      "\tBackprop time: 0.170 sec\n",
      "\tLog probability: -28.9504 (avg -31.0693)\n",
      "\tKL: 24.2263 (avg 25.0458)\n",
      "\tLoss: 271.2134 (avg 281.5270)\n"
     ]
    },
    {
     "name": "stderr",
     "output_type": "stream",
     "text": [
      " 66%|██████▌   | 25/38 [00:01<00:00, 21.61it/s]"
     ]
    },
    {
     "name": "stdout",
     "output_type": "stream",
     "text": [
      "Epoch: 70 (20/38)\n",
      "\tData load time: 0.141 sec\n",
      "\tGeneration time: 0.148 sec\n",
      "\tBackprop time: 0.170 sec\n",
      "\tLog probability: -14.8857 (avg -27.8152)\n",
      "\tKL: 28.5529 (avg 24.7000)\n",
      "\tLoss: 300.4147 (avg 274.8153)\n"
     ]
    },
    {
     "name": "stderr",
     "output_type": "stream",
     "text": [
      " 89%|████████▉ | 34/38 [00:01<00:00, 24.19it/s]"
     ]
    },
    {
     "name": "stdout",
     "output_type": "stream",
     "text": [
      "Epoch: 70 (30/38)\n",
      "\tData load time: 0.141 sec\n",
      "\tGeneration time: 0.148 sec\n",
      "\tBackprop time: 0.170 sec\n",
      "\tLog probability: -23.0517 (avg -27.0359)\n",
      "\tKL: 21.2110 (avg 24.4263)\n",
      "\tLoss: 235.1614 (avg 271.2988)\n"
     ]
    },
    {
     "name": "stderr",
     "output_type": "stream",
     "text": [
      "100%|██████████| 38/38 [00:01<00:00, 23.40it/s]\n",
      "100%|██████████| 10/10 [00:00<00:00, 30.56it/s]\n",
      "  0%|          | 0/38 [00:00<?, ?it/s]"
     ]
    },
    {
     "name": "stdout",
     "output_type": "stream",
     "text": [
      "Epoch: 70 (10/10)\n",
      "\tData load time: 0.137 sec\n",
      "\tGeneration time: 0.144 sec\n",
      "\tLog probability: -17.7710 (avg -17.9184)\n",
      "\tKL: 24.7463 (avg 21.8225)\n",
      "\tLoss: 265.2343 (avg 236.1431)\n",
      "Lowest validation loss: 128.8606\n"
     ]
    },
    {
     "name": "stderr",
     "output_type": "stream",
     "text": [
      " 34%|███▍      | 13/38 [00:00<00:01, 14.36it/s]"
     ]
    },
    {
     "name": "stdout",
     "output_type": "stream",
     "text": [
      "Epoch: 71 (10/38)\n",
      "\tData load time: 0.139 sec\n",
      "\tGeneration time: 0.148 sec\n",
      "\tBackprop time: 0.170 sec\n",
      "\tLog probability: -41.4203 (avg -30.9231)\n",
      "\tKL: 28.3827 (avg 24.4870)\n",
      "\tLoss: 325.2476 (avg 275.7926)\n"
     ]
    },
    {
     "name": "stderr",
     "output_type": "stream",
     "text": [
      " 66%|██████▌   | 25/38 [00:01<00:00, 21.65it/s]"
     ]
    },
    {
     "name": "stdout",
     "output_type": "stream",
     "text": [
      "Epoch: 71 (20/38)\n",
      "\tData load time: 0.139 sec\n",
      "\tGeneration time: 0.148 sec\n",
      "\tBackprop time: 0.170 sec\n",
      "\tLog probability: -68.1166 (avg -30.6898)\n",
      "\tKL: 35.9391 (avg 24.8562)\n",
      "\tLoss: 427.5078 (avg 279.2518)\n"
     ]
    },
    {
     "name": "stderr",
     "output_type": "stream",
     "text": [
      " 89%|████████▉ | 34/38 [00:01<00:00, 24.25it/s]"
     ]
    },
    {
     "name": "stdout",
     "output_type": "stream",
     "text": [
      "Epoch: 71 (30/38)\n",
      "\tData load time: 0.139 sec\n",
      "\tGeneration time: 0.148 sec\n",
      "\tBackprop time: 0.170 sec\n",
      "\tLog probability: -19.8707 (avg -29.8229)\n",
      "\tKL: 22.6738 (avg 24.4595)\n",
      "\tLoss: 246.6089 (avg 274.4184)\n"
     ]
    },
    {
     "name": "stderr",
     "output_type": "stream",
     "text": [
      "100%|██████████| 38/38 [00:01<00:00, 23.51it/s]\n",
      "100%|██████████| 10/10 [00:00<00:00, 30.75it/s]\n",
      "  0%|          | 0/38 [00:00<?, ?it/s]"
     ]
    },
    {
     "name": "stdout",
     "output_type": "stream",
     "text": [
      "Epoch: 71 (10/10)\n",
      "\tData load time: 0.136 sec\n",
      "\tGeneration time: 0.143 sec\n",
      "\tLog probability: -25.0981 (avg -19.6754)\n",
      "\tKL: 36.1610 (avg 24.5198)\n",
      "\tLoss: 386.7085 (avg 264.8729)\n",
      "Lowest validation loss: 128.8606\n"
     ]
    },
    {
     "name": "stderr",
     "output_type": "stream",
     "text": [
      " 34%|███▍      | 13/38 [00:00<00:01, 14.44it/s]"
     ]
    },
    {
     "name": "stdout",
     "output_type": "stream",
     "text": [
      "Epoch: 72 (10/38)\n",
      "\tData load time: 0.135 sec\n",
      "\tGeneration time: 0.146 sec\n",
      "\tBackprop time: 0.167 sec\n",
      "\tLog probability: -22.1811 (avg -29.3690)\n",
      "\tKL: 21.9497 (avg 24.4822)\n",
      "\tLoss: 241.6784 (avg 274.1909)\n"
     ]
    },
    {
     "name": "stderr",
     "output_type": "stream",
     "text": [
      " 66%|██████▌   | 25/38 [00:01<00:00, 21.72it/s]"
     ]
    },
    {
     "name": "stdout",
     "output_type": "stream",
     "text": [
      "Epoch: 72 (20/38)\n",
      "\tData load time: 0.135 sec\n",
      "\tGeneration time: 0.146 sec\n",
      "\tBackprop time: 0.167 sec\n",
      "\tLog probability: -23.3587 (avg -27.9588)\n",
      "\tKL: 21.6945 (avg 23.9231)\n",
      "\tLoss: 240.3037 (avg 267.1899)\n"
     ]
    },
    {
     "name": "stderr",
     "output_type": "stream",
     "text": [
      " 89%|████████▉ | 34/38 [00:01<00:00, 24.25it/s]"
     ]
    },
    {
     "name": "stdout",
     "output_type": "stream",
     "text": [
      "Epoch: 72 (30/38)\n",
      "\tData load time: 0.135 sec\n",
      "\tGeneration time: 0.146 sec\n",
      "\tBackprop time: 0.167 sec\n",
      "\tLog probability: -27.8727 (avg -32.2697)\n",
      "\tKL: 23.5374 (avg 24.4072)\n",
      "\tLoss: 263.2463 (avg 276.3413)\n"
     ]
    },
    {
     "name": "stderr",
     "output_type": "stream",
     "text": [
      "100%|██████████| 38/38 [00:01<00:00, 23.46it/s]\n",
      "100%|██████████| 10/10 [00:00<00:00, 30.26it/s]\n",
      "  0%|          | 0/38 [00:00<?, ?it/s]"
     ]
    },
    {
     "name": "stdout",
     "output_type": "stream",
     "text": [
      "Epoch: 72 (10/10)\n",
      "\tData load time: 0.130 sec\n",
      "\tGeneration time: 0.138 sec\n",
      "\tLog probability: -8.2121 (avg -16.8831)\n",
      "\tKL: 20.4193 (avg 22.5200)\n",
      "\tLoss: 212.4054 (avg 242.0831)\n",
      "Lowest validation loss: 128.8606\n"
     ]
    },
    {
     "name": "stderr",
     "output_type": "stream",
     "text": [
      " 34%|███▍      | 13/38 [00:00<00:01, 14.64it/s]"
     ]
    },
    {
     "name": "stdout",
     "output_type": "stream",
     "text": [
      "Epoch: 73 (10/38)\n",
      "\tData load time: 0.133 sec\n",
      "\tGeneration time: 0.143 sec\n",
      "\tBackprop time: 0.165 sec\n",
      "\tLog probability: -43.3368 (avg -26.8083)\n",
      "\tKL: 24.0881 (avg 24.0401)\n",
      "\tLoss: 284.2177 (avg 267.2091)\n"
     ]
    },
    {
     "name": "stderr",
     "output_type": "stream",
     "text": [
      " 66%|██████▌   | 25/38 [00:01<00:00, 21.82it/s]"
     ]
    },
    {
     "name": "stdout",
     "output_type": "stream",
     "text": [
      "Epoch: 73 (20/38)\n",
      "\tData load time: 0.133 sec\n",
      "\tGeneration time: 0.143 sec\n",
      "\tBackprop time: 0.165 sec\n",
      "\tLog probability: -16.9939 (avg -25.1830)\n",
      "\tKL: 20.7754 (avg 23.2436)\n",
      "\tLoss: 224.7477 (avg 257.6187)\n"
     ]
    },
    {
     "name": "stderr",
     "output_type": "stream",
     "text": [
      " 89%|████████▉ | 34/38 [00:01<00:00, 24.29it/s]"
     ]
    },
    {
     "name": "stdout",
     "output_type": "stream",
     "text": [
      "Epoch: 73 (30/38)\n",
      "\tData load time: 0.133 sec\n",
      "\tGeneration time: 0.143 sec\n",
      "\tBackprop time: 0.165 sec\n",
      "\tLog probability: -50.8083 (avg -26.6112)\n",
      "\tKL: 29.6353 (avg 23.8544)\n",
      "\tLoss: 347.1614 (avg 265.1552)\n"
     ]
    },
    {
     "name": "stderr",
     "output_type": "stream",
     "text": [
      "100%|██████████| 38/38 [00:01<00:00, 23.59it/s]\n",
      "100%|██████████| 10/10 [00:00<00:00, 30.41it/s]\n",
      "  0%|          | 0/38 [00:00<?, ?it/s]"
     ]
    },
    {
     "name": "stdout",
     "output_type": "stream",
     "text": [
      "Epoch: 73 (10/10)\n",
      "\tData load time: 0.136 sec\n",
      "\tGeneration time: 0.143 sec\n",
      "\tLog probability: -25.2274 (avg -19.1435)\n",
      "\tKL: 27.2616 (avg 22.2366)\n",
      "\tLoss: 297.8433 (avg 241.5090)\n",
      "Lowest validation loss: 128.8606\n"
     ]
    },
    {
     "name": "stderr",
     "output_type": "stream",
     "text": [
      " 34%|███▍      | 13/38 [00:00<00:01, 14.52it/s]"
     ]
    },
    {
     "name": "stdout",
     "output_type": "stream",
     "text": [
      "Epoch: 74 (10/38)\n",
      "\tData load time: 0.137 sec\n",
      "\tGeneration time: 0.144 sec\n",
      "\tBackprop time: 0.166 sec\n",
      "\tLog probability: -19.5247 (avg -29.1952)\n",
      "\tKL: 21.7281 (avg 23.4917)\n",
      "\tLoss: 236.8056 (avg 264.1120)\n"
     ]
    },
    {
     "name": "stderr",
     "output_type": "stream",
     "text": [
      " 66%|██████▌   | 25/38 [00:01<00:00, 21.73it/s]"
     ]
    },
    {
     "name": "stdout",
     "output_type": "stream",
     "text": [
      "Epoch: 74 (20/38)\n",
      "\tData load time: 0.137 sec\n",
      "\tGeneration time: 0.144 sec\n",
      "\tBackprop time: 0.166 sec\n",
      "\tLog probability: -63.5728 (avg -28.3679)\n",
      "\tKL: 27.0325 (avg 23.6507)\n",
      "\tLoss: 333.8976 (avg 264.8745)\n"
     ]
    },
    {
     "name": "stderr",
     "output_type": "stream",
     "text": [
      " 89%|████████▉ | 34/38 [00:01<00:00, 24.23it/s]"
     ]
    },
    {
     "name": "stdout",
     "output_type": "stream",
     "text": [
      "Epoch: 74 (30/38)\n",
      "\tData load time: 0.137 sec\n",
      "\tGeneration time: 0.144 sec\n",
      "\tBackprop time: 0.166 sec\n",
      "\tLog probability: -17.7212 (avg -30.9567)\n",
      "\tKL: 22.7208 (avg 23.9719)\n",
      "\tLoss: 244.9292 (avg 270.6754)\n"
     ]
    },
    {
     "name": "stderr",
     "output_type": "stream",
     "text": [
      "100%|██████████| 38/38 [00:01<00:00, 23.51it/s]\n",
      "100%|██████████| 10/10 [00:00<00:00, 30.70it/s]\n",
      "  0%|          | 0/38 [00:00<?, ?it/s]"
     ]
    },
    {
     "name": "stdout",
     "output_type": "stream",
     "text": [
      "Epoch: 74 (10/10)\n",
      "\tData load time: 0.139 sec\n",
      "\tGeneration time: 0.149 sec\n",
      "\tLog probability: -9.8472 (avg -17.2177)\n",
      "\tKL: 9.4783 (avg 22.2063)\n",
      "\tLoss: 104.6302 (avg 239.2812)\n",
      "Lowest validation loss: 128.8606\n"
     ]
    },
    {
     "name": "stderr",
     "output_type": "stream",
     "text": [
      " 34%|███▍      | 13/38 [00:00<00:01, 14.38it/s]"
     ]
    },
    {
     "name": "stdout",
     "output_type": "stream",
     "text": [
      "Epoch: 75 (10/38)\n",
      "\tData load time: 0.137 sec\n",
      "\tGeneration time: 0.149 sec\n",
      "\tBackprop time: 0.168 sec\n",
      "\tLog probability: -29.9856 (avg -29.7551)\n",
      "\tKL: 23.2366 (avg 23.6638)\n",
      "\tLoss: 262.3517 (avg 266.3936)\n"
     ]
    },
    {
     "name": "stderr",
     "output_type": "stream",
     "text": [
      " 66%|██████▌   | 25/38 [00:01<00:00, 21.56it/s]"
     ]
    },
    {
     "name": "stdout",
     "output_type": "stream",
     "text": [
      "Epoch: 75 (20/38)\n",
      "\tData load time: 0.137 sec\n",
      "\tGeneration time: 0.149 sec\n",
      "\tBackprop time: 0.168 sec\n",
      "\tLog probability: -10.9248 (avg -28.5480)\n",
      "\tKL: 25.9266 (avg 23.9304)\n",
      "\tLoss: 270.1912 (avg 267.8519)\n"
     ]
    },
    {
     "name": "stderr",
     "output_type": "stream",
     "text": [
      " 89%|████████▉ | 34/38 [00:01<00:00, 24.17it/s]"
     ]
    },
    {
     "name": "stdout",
     "output_type": "stream",
     "text": [
      "Epoch: 75 (30/38)\n",
      "\tData load time: 0.137 sec\n",
      "\tGeneration time: 0.149 sec\n",
      "\tBackprop time: 0.168 sec\n",
      "\tLog probability: -22.4847 (avg -28.4418)\n",
      "\tKL: 21.7232 (avg 23.5255)\n",
      "\tLoss: 239.7164 (avg 263.6969)\n"
     ]
    },
    {
     "name": "stderr",
     "output_type": "stream",
     "text": [
      "100%|██████████| 38/38 [00:01<00:00, 23.37it/s]\n",
      "100%|██████████| 10/10 [00:00<00:00, 31.07it/s]\n",
      "  0%|          | 0/38 [00:00<?, ?it/s]"
     ]
    },
    {
     "name": "stdout",
     "output_type": "stream",
     "text": [
      "Epoch: 75 (10/10)\n",
      "\tData load time: 0.134 sec\n",
      "\tGeneration time: 0.144 sec\n",
      "\tLog probability: -15.5039 (avg -18.0642)\n",
      "\tKL: 21.3405 (avg 21.9425)\n",
      "\tLoss: 228.9086 (avg 237.4895)\n",
      "Lowest validation loss: 128.8606\n"
     ]
    },
    {
     "name": "stderr",
     "output_type": "stream",
     "text": [
      " 34%|███▍      | 13/38 [00:00<00:01, 14.24it/s]"
     ]
    },
    {
     "name": "stdout",
     "output_type": "stream",
     "text": [
      "Epoch: 76 (10/38)\n",
      "\tData load time: 0.142 sec\n",
      "\tGeneration time: 0.150 sec\n",
      "\tBackprop time: 0.173 sec\n",
      "\tLog probability: -32.7746 (avg -27.3608)\n",
      "\tKL: 23.1530 (avg 22.9269)\n",
      "\tLoss: 264.3046 (avg 256.6300)\n"
     ]
    },
    {
     "name": "stderr",
     "output_type": "stream",
     "text": [
      " 66%|██████▌   | 25/38 [00:01<00:00, 21.58it/s]"
     ]
    },
    {
     "name": "stdout",
     "output_type": "stream",
     "text": [
      "Epoch: 76 (20/38)\n",
      "\tData load time: 0.142 sec\n",
      "\tGeneration time: 0.150 sec\n",
      "\tBackprop time: 0.173 sec\n",
      "\tLog probability: -68.6779 (avg -29.5469)\n",
      "\tKL: 33.6647 (avg 23.9385)\n",
      "\tLoss: 405.3253 (avg 268.9324)\n"
     ]
    },
    {
     "name": "stderr",
     "output_type": "stream",
     "text": [
      " 89%|████████▉ | 34/38 [00:01<00:00, 24.26it/s]"
     ]
    },
    {
     "name": "stdout",
     "output_type": "stream",
     "text": [
      "Epoch: 76 (30/38)\n",
      "\tData load time: 0.142 sec\n",
      "\tGeneration time: 0.150 sec\n",
      "\tBackprop time: 0.173 sec\n",
      "\tLog probability: -21.8854 (avg -28.9305)\n",
      "\tKL: 21.7502 (avg 24.0648)\n",
      "\tLoss: 239.3870 (avg 269.5788)\n"
     ]
    },
    {
     "name": "stderr",
     "output_type": "stream",
     "text": [
      "100%|██████████| 38/38 [00:01<00:00, 23.51it/s]\n",
      "100%|██████████| 10/10 [00:00<00:00, 30.14it/s]\n",
      "  0%|          | 0/38 [00:00<?, ?it/s]"
     ]
    },
    {
     "name": "stdout",
     "output_type": "stream",
     "text": [
      "Epoch: 76 (10/10)\n",
      "\tData load time: 0.140 sec\n",
      "\tGeneration time: 0.149 sec\n",
      "\tLog probability: -50.9488 (avg -23.3536)\n",
      "\tKL: 45.4425 (avg 26.2843)\n",
      "\tLoss: 505.3739 (avg 286.1968)\n",
      "Lowest validation loss: 128.8606\n"
     ]
    },
    {
     "name": "stderr",
     "output_type": "stream",
     "text": [
      " 34%|███▍      | 13/38 [00:00<00:01, 14.77it/s]"
     ]
    },
    {
     "name": "stdout",
     "output_type": "stream",
     "text": [
      "Epoch: 77 (10/38)\n",
      "\tData load time: 0.127 sec\n",
      "\tGeneration time: 0.138 sec\n",
      "\tBackprop time: 0.162 sec\n",
      "\tLog probability: -29.9863 (avg -25.5724)\n",
      "\tKL: 21.6872 (avg 23.8786)\n",
      "\tLoss: 246.8588 (avg 264.3585)\n"
     ]
    },
    {
     "name": "stderr",
     "output_type": "stream",
     "text": [
      " 66%|██████▌   | 25/38 [00:01<00:00, 21.81it/s]"
     ]
    },
    {
     "name": "stdout",
     "output_type": "stream",
     "text": [
      "Epoch: 77 (20/38)\n",
      "\tData load time: 0.127 sec\n",
      "\tGeneration time: 0.138 sec\n",
      "\tBackprop time: 0.162 sec\n",
      "\tLog probability: -35.4185 (avg -28.4612)\n",
      "\tKL: 22.1643 (avg 23.0183)\n",
      "\tLoss: 257.0612 (avg 258.6441)\n"
     ]
    },
    {
     "name": "stderr",
     "output_type": "stream",
     "text": [
      " 89%|████████▉ | 34/38 [00:01<00:00, 24.30it/s]"
     ]
    },
    {
     "name": "stdout",
     "output_type": "stream",
     "text": [
      "Epoch: 77 (30/38)\n",
      "\tData load time: 0.127 sec\n",
      "\tGeneration time: 0.138 sec\n",
      "\tBackprop time: 0.162 sec\n",
      "\tLog probability: -38.0901 (avg -28.4801)\n",
      "\tKL: 23.3491 (avg 22.8250)\n",
      "\tLoss: 271.5809 (avg 256.7304)\n"
     ]
    },
    {
     "name": "stderr",
     "output_type": "stream",
     "text": [
      "100%|██████████| 38/38 [00:01<00:00, 23.56it/s]\n",
      "100%|██████████| 10/10 [00:00<00:00, 29.73it/s]\n",
      "  0%|          | 0/38 [00:00<?, ?it/s]"
     ]
    },
    {
     "name": "stdout",
     "output_type": "stream",
     "text": [
      "Epoch: 77 (10/10)\n",
      "\tData load time: 0.144 sec\n",
      "\tGeneration time: 0.153 sec\n",
      "\tLog probability: -20.8467 (avg -21.5981)\n",
      "\tKL: 26.2432 (avg 26.8776)\n",
      "\tLoss: 283.2788 (avg 290.3745)\n",
      "Lowest validation loss: 128.8606\n"
     ]
    },
    {
     "name": "stderr",
     "output_type": "stream",
     "text": [
      " 34%|███▍      | 13/38 [00:00<00:01, 14.58it/s]"
     ]
    },
    {
     "name": "stdout",
     "output_type": "stream",
     "text": [
      "Epoch: 78 (10/38)\n",
      "\tData load time: 0.133 sec\n",
      "\tGeneration time: 0.143 sec\n",
      "\tBackprop time: 0.165 sec\n",
      "\tLog probability: -36.9894 (avg -39.4418)\n",
      "\tKL: 30.6856 (avg 29.5790)\n",
      "\tLoss: 343.8452 (avg 335.2323)\n"
     ]
    },
    {
     "name": "stderr",
     "output_type": "stream",
     "text": [
      " 66%|██████▌   | 25/38 [00:01<00:00, 21.81it/s]"
     ]
    },
    {
     "name": "stdout",
     "output_type": "stream",
     "text": [
      "Epoch: 78 (20/38)\n",
      "\tData load time: 0.133 sec\n",
      "\tGeneration time: 0.143 sec\n",
      "\tBackprop time: 0.165 sec\n",
      "\tLog probability: -24.0426 (avg -35.9181)\n",
      "\tKL: 28.8458 (avg 27.9963)\n",
      "\tLoss: 312.5009 (avg 315.8812)\n"
     ]
    },
    {
     "name": "stderr",
     "output_type": "stream",
     "text": [
      " 89%|████████▉ | 34/38 [00:01<00:00, 24.30it/s]"
     ]
    },
    {
     "name": "stdout",
     "output_type": "stream",
     "text": [
      "Epoch: 78 (30/38)\n",
      "\tData load time: 0.133 sec\n",
      "\tGeneration time: 0.143 sec\n",
      "\tBackprop time: 0.165 sec\n",
      "\tLog probability: -19.1650 (avg -35.0189)\n",
      "\tKL: 21.0204 (avg 26.5064)\n",
      "\tLoss: 229.3692 (avg 300.0825)\n"
     ]
    },
    {
     "name": "stderr",
     "output_type": "stream",
     "text": [
      "100%|██████████| 38/38 [00:01<00:00, 23.55it/s]\n",
      "100%|██████████| 10/10 [00:00<00:00, 30.08it/s]\n",
      "  0%|          | 0/38 [00:00<?, ?it/s]"
     ]
    },
    {
     "name": "stdout",
     "output_type": "stream",
     "text": [
      "Epoch: 78 (10/10)\n",
      "\tData load time: 0.139 sec\n",
      "\tGeneration time: 0.147 sec\n",
      "\tLog probability: -18.1413 (avg -20.3136)\n",
      "\tKL: 29.3729 (avg 23.9773)\n",
      "\tLoss: 311.8706 (avg 260.0861)\n",
      "Lowest validation loss: 128.8606\n"
     ]
    },
    {
     "name": "stderr",
     "output_type": "stream",
     "text": [
      " 34%|███▍      | 13/38 [00:00<00:01, 14.99it/s]"
     ]
    },
    {
     "name": "stdout",
     "output_type": "stream",
     "text": [
      "Epoch: 79 (10/38)\n",
      "\tData load time: 0.126 sec\n",
      "\tGeneration time: 0.137 sec\n",
      "\tBackprop time: 0.157 sec\n",
      "\tLog probability: -19.0181 (avg -35.7416)\n",
      "\tKL: 21.9270 (avg 23.8364)\n",
      "\tLoss: 238.2881 (avg 274.1058)\n"
     ]
    },
    {
     "name": "stderr",
     "output_type": "stream",
     "text": [
      " 66%|██████▌   | 25/38 [00:01<00:00, 22.00it/s]"
     ]
    },
    {
     "name": "stdout",
     "output_type": "stream",
     "text": [
      "Epoch: 79 (20/38)\n",
      "\tData load time: 0.126 sec\n",
      "\tGeneration time: 0.137 sec\n",
      "\tBackprop time: 0.157 sec\n",
      "\tLog probability: -43.6808 (avg -36.0210)\n",
      "\tKL: 22.1194 (avg 23.6208)\n",
      "\tLoss: 264.8745 (avg 272.2293)\n"
     ]
    },
    {
     "name": "stderr",
     "output_type": "stream",
     "text": [
      " 89%|████████▉ | 34/38 [00:01<00:00, 24.37it/s]"
     ]
    },
    {
     "name": "stdout",
     "output_type": "stream",
     "text": [
      "Epoch: 79 (30/38)\n",
      "\tData load time: 0.126 sec\n",
      "\tGeneration time: 0.137 sec\n",
      "\tBackprop time: 0.157 sec\n",
      "\tLog probability: -24.6492 (avg -33.5628)\n",
      "\tKL: 20.4536 (avg 22.8955)\n",
      "\tLoss: 229.1849 (avg 262.5176)\n"
     ]
    },
    {
     "name": "stderr",
     "output_type": "stream",
     "text": [
      "100%|██████████| 38/38 [00:01<00:00, 23.64it/s]\n",
      "100%|██████████| 10/10 [00:00<00:00, 30.03it/s]\n",
      "  0%|          | 0/38 [00:00<?, ?it/s]"
     ]
    },
    {
     "name": "stdout",
     "output_type": "stream",
     "text": [
      "Epoch: 79 (10/10)\n",
      "\tData load time: 0.143 sec\n",
      "\tGeneration time: 0.149 sec\n",
      "\tLog probability: -51.4150 (avg -30.0445)\n",
      "\tKL: 31.5017 (avg 21.6797)\n",
      "\tLoss: 366.4324 (avg 246.8420)\n",
      "Lowest validation loss: 128.8606\n"
     ]
    },
    {
     "name": "stderr",
     "output_type": "stream",
     "text": [
      " 34%|███▍      | 13/38 [00:00<00:01, 14.48it/s]"
     ]
    },
    {
     "name": "stdout",
     "output_type": "stream",
     "text": [
      "Epoch: 80 (10/38)\n",
      "\tData load time: 0.136 sec\n",
      "\tGeneration time: 0.146 sec\n",
      "\tBackprop time: 0.167 sec\n",
      "\tLog probability: -30.7256 (avg -34.7604)\n",
      "\tKL: 23.1857 (avg 21.2136)\n",
      "\tLoss: 262.5829 (avg 246.8964)\n"
     ]
    },
    {
     "name": "stderr",
     "output_type": "stream",
     "text": [
      " 66%|██████▌   | 25/38 [00:01<00:00, 21.72it/s]"
     ]
    },
    {
     "name": "stdout",
     "output_type": "stream",
     "text": [
      "Epoch: 80 (20/38)\n",
      "\tData load time: 0.136 sec\n",
      "\tGeneration time: 0.146 sec\n",
      "\tBackprop time: 0.167 sec\n",
      "\tLog probability: -34.2917 (avg -30.7108)\n",
      "\tKL: 21.2586 (avg 21.1638)\n",
      "\tLoss: 246.8777 (avg 242.3488)\n"
     ]
    },
    {
     "name": "stderr",
     "output_type": "stream",
     "text": [
      " 89%|████████▉ | 34/38 [00:01<00:00, 24.27it/s]"
     ]
    },
    {
     "name": "stdout",
     "output_type": "stream",
     "text": [
      "Epoch: 80 (30/38)\n",
      "\tData load time: 0.136 sec\n",
      "\tGeneration time: 0.146 sec\n",
      "\tBackprop time: 0.167 sec\n",
      "\tLog probability: -23.6429 (avg -31.7117)\n",
      "\tKL: 19.4333 (avg 20.9727)\n",
      "\tLoss: 217.9761 (avg 241.4390)\n"
     ]
    },
    {
     "name": "stderr",
     "output_type": "stream",
     "text": [
      "100%|██████████| 38/38 [00:01<00:00, 23.53it/s]\n",
      "100%|██████████| 10/10 [00:00<00:00, 31.61it/s]\n",
      "  0%|          | 0/38 [00:00<?, ?it/s]"
     ]
    },
    {
     "name": "stdout",
     "output_type": "stream",
     "text": [
      "Epoch: 80 (10/10)\n",
      "\tData load time: 0.121 sec\n",
      "\tGeneration time: 0.131 sec\n",
      "\tLog probability: -32.1246 (avg -18.6781)\n",
      "\tKL: 29.7781 (avg 20.2323)\n",
      "\tLoss: 329.9060 (avg 221.0010)\n",
      "Lowest validation loss: 128.8606\n"
     ]
    },
    {
     "name": "stderr",
     "output_type": "stream",
     "text": [
      " 34%|███▍      | 13/38 [00:00<00:01, 14.38it/s]"
     ]
    },
    {
     "name": "stdout",
     "output_type": "stream",
     "text": [
      "Epoch: 81 (10/38)\n",
      "\tData load time: 0.138 sec\n",
      "\tGeneration time: 0.147 sec\n",
      "\tBackprop time: 0.169 sec\n",
      "\tLog probability: -35.1471 (avg -30.8834)\n",
      "\tKL: 21.0205 (avg 20.9573)\n",
      "\tLoss: 245.3521 (avg 240.4566)\n"
     ]
    },
    {
     "name": "stderr",
     "output_type": "stream",
     "text": [
      " 66%|██████▌   | 25/38 [00:01<00:00, 21.58it/s]"
     ]
    },
    {
     "name": "stdout",
     "output_type": "stream",
     "text": [
      "Epoch: 81 (20/38)\n",
      "\tData load time: 0.138 sec\n",
      "\tGeneration time: 0.147 sec\n",
      "\tBackprop time: 0.169 sec\n",
      "\tLog probability: -30.3464 (avg -33.0659)\n",
      "\tKL: 19.5341 (avg 20.4967)\n",
      "\tLoss: 225.6872 (avg 238.0326)\n"
     ]
    },
    {
     "name": "stderr",
     "output_type": "stream",
     "text": [
      " 89%|████████▉ | 34/38 [00:01<00:00, 24.17it/s]"
     ]
    },
    {
     "name": "stdout",
     "output_type": "stream",
     "text": [
      "Epoch: 81 (30/38)\n",
      "\tData load time: 0.138 sec\n",
      "\tGeneration time: 0.147 sec\n",
      "\tBackprop time: 0.169 sec\n",
      "\tLog probability: -15.5422 (avg -31.0165)\n",
      "\tKL: 17.9992 (avg 20.6093)\n",
      "\tLoss: 195.5340 (avg 237.1091)\n"
     ]
    },
    {
     "name": "stderr",
     "output_type": "stream",
     "text": [
      "100%|██████████| 38/38 [00:01<00:00, 23.38it/s]\n",
      "100%|██████████| 10/10 [00:00<00:00, 31.07it/s]\n",
      "  0%|          | 0/38 [00:00<?, ?it/s]"
     ]
    },
    {
     "name": "stdout",
     "output_type": "stream",
     "text": [
      "Epoch: 81 (10/10)\n",
      "\tData load time: 0.121 sec\n",
      "\tGeneration time: 0.130 sec\n",
      "\tLog probability: -83.0882 (avg -45.4607)\n",
      "\tKL: 31.5776 (avg 21.9538)\n",
      "\tLoss: 398.8646 (avg 264.9988)\n",
      "Lowest validation loss: 128.8606\n"
     ]
    },
    {
     "name": "stderr",
     "output_type": "stream",
     "text": [
      " 34%|███▍      | 13/38 [00:00<00:01, 14.26it/s]"
     ]
    },
    {
     "name": "stdout",
     "output_type": "stream",
     "text": [
      "Epoch: 82 (10/38)\n",
      "\tData load time: 0.140 sec\n",
      "\tGeneration time: 0.149 sec\n",
      "\tBackprop time: 0.170 sec\n",
      "\tLog probability: -31.5148 (avg -32.5644)\n",
      "\tKL: 20.5341 (avg 20.7173)\n",
      "\tLoss: 236.8559 (avg 239.7370)\n"
     ]
    },
    {
     "name": "stderr",
     "output_type": "stream",
     "text": [
      " 66%|██████▌   | 25/38 [00:01<00:00, 21.50it/s]"
     ]
    },
    {
     "name": "stdout",
     "output_type": "stream",
     "text": [
      "Epoch: 82 (20/38)\n",
      "\tData load time: 0.140 sec\n",
      "\tGeneration time: 0.149 sec\n",
      "\tBackprop time: 0.170 sec\n",
      "\tLog probability: -16.3509 (avg -31.7584)\n",
      "\tKL: 18.3948 (avg 20.2588)\n",
      "\tLoss: 200.2991 (avg 234.3461)\n"
     ]
    },
    {
     "name": "stderr",
     "output_type": "stream",
     "text": [
      " 89%|████████▉ | 34/38 [00:01<00:00, 24.15it/s]"
     ]
    },
    {
     "name": "stdout",
     "output_type": "stream",
     "text": [
      "Epoch: 82 (30/38)\n",
      "\tData load time: 0.140 sec\n",
      "\tGeneration time: 0.149 sec\n",
      "\tBackprop time: 0.170 sec\n",
      "\tLog probability: -32.0382 (avg -31.2398)\n",
      "\tKL: 18.0641 (avg 19.8473)\n",
      "\tLoss: 212.6795 (avg 229.7123)\n"
     ]
    },
    {
     "name": "stderr",
     "output_type": "stream",
     "text": [
      "100%|██████████| 38/38 [00:01<00:00, 23.38it/s]\n",
      "100%|██████████| 10/10 [00:00<00:00, 31.04it/s]\n",
      "  0%|          | 0/38 [00:00<?, ?it/s]"
     ]
    },
    {
     "name": "stdout",
     "output_type": "stream",
     "text": [
      "Epoch: 82 (10/10)\n",
      "\tData load time: 0.136 sec\n",
      "\tGeneration time: 0.145 sec\n",
      "\tLog probability: -25.0607 (avg -21.4270)\n",
      "\tKL: 25.5018 (avg 21.0715)\n",
      "\tLoss: 280.0791 (avg 232.1416)\n",
      "Lowest validation loss: 128.8606\n"
     ]
    },
    {
     "name": "stderr",
     "output_type": "stream",
     "text": [
      " 34%|███▍      | 13/38 [00:00<00:01, 14.36it/s]"
     ]
    },
    {
     "name": "stdout",
     "output_type": "stream",
     "text": [
      "Epoch: 83 (10/38)\n",
      "\tData load time: 0.139 sec\n",
      "\tGeneration time: 0.150 sec\n",
      "\tBackprop time: 0.170 sec\n",
      "\tLog probability: -13.2191 (avg -30.7552)\n",
      "\tKL: 19.1260 (avg 20.0196)\n",
      "\tLoss: 204.4790 (avg 230.9513)\n"
     ]
    },
    {
     "name": "stderr",
     "output_type": "stream",
     "text": [
      " 66%|██████▌   | 25/38 [00:01<00:00, 21.62it/s]"
     ]
    },
    {
     "name": "stdout",
     "output_type": "stream",
     "text": [
      "Epoch: 83 (20/38)\n",
      "\tData load time: 0.139 sec\n",
      "\tGeneration time: 0.150 sec\n",
      "\tBackprop time: 0.170 sec\n",
      "\tLog probability: -42.2975 (avg -30.9808)\n",
      "\tKL: 19.0746 (avg 18.7821)\n",
      "\tLoss: 233.0438 (avg 218.8014)\n"
     ]
    },
    {
     "name": "stderr",
     "output_type": "stream",
     "text": [
      " 89%|████████▉ | 34/38 [00:01<00:00, 24.21it/s]"
     ]
    },
    {
     "name": "stdout",
     "output_type": "stream",
     "text": [
      "Epoch: 83 (30/38)\n",
      "\tData load time: 0.139 sec\n",
      "\tGeneration time: 0.150 sec\n",
      "\tBackprop time: 0.170 sec\n",
      "\tLog probability: -36.1071 (avg -31.2075)\n",
      "\tKL: 17.1427 (avg 18.7391)\n",
      "\tLoss: 207.5337 (avg 218.5984)\n"
     ]
    },
    {
     "name": "stderr",
     "output_type": "stream",
     "text": [
      "100%|██████████| 38/38 [00:01<00:00, 23.49it/s]\n",
      "100%|██████████| 10/10 [00:00<00:00, 30.09it/s]\n",
      "  0%|          | 0/38 [00:00<?, ?it/s]"
     ]
    },
    {
     "name": "stdout",
     "output_type": "stream",
     "text": [
      "Epoch: 83 (10/10)\n",
      "\tData load time: 0.136 sec\n",
      "\tGeneration time: 0.143 sec\n",
      "\tLog probability: -20.2415 (avg -21.7969)\n",
      "\tKL: 22.2813 (avg 18.8882)\n",
      "\tLoss: 243.0541 (avg 210.6793)\n",
      "Lowest validation loss: 128.8606\n"
     ]
    },
    {
     "name": "stderr",
     "output_type": "stream",
     "text": [
      " 34%|███▍      | 13/38 [00:00<00:01, 14.44it/s]"
     ]
    },
    {
     "name": "stdout",
     "output_type": "stream",
     "text": [
      "Epoch: 84 (10/38)\n",
      "\tData load time: 0.136 sec\n",
      "\tGeneration time: 0.146 sec\n",
      "\tBackprop time: 0.166 sec\n",
      "\tLog probability: -28.7044 (avg -26.0219)\n",
      "\tKL: 17.5294 (avg 17.6911)\n",
      "\tLoss: 203.9981 (avg 202.9332)\n"
     ]
    },
    {
     "name": "stderr",
     "output_type": "stream",
     "text": [
      " 66%|██████▌   | 25/38 [00:01<00:00, 21.76it/s]"
     ]
    },
    {
     "name": "stdout",
     "output_type": "stream",
     "text": [
      "Epoch: 84 (20/38)\n",
      "\tData load time: 0.136 sec\n",
      "\tGeneration time: 0.146 sec\n",
      "\tBackprop time: 0.166 sec\n",
      "\tLog probability: -28.3117 (avg -27.7424)\n",
      "\tKL: 17.2622 (avg 17.8686)\n",
      "\tLoss: 200.9335 (avg 206.4287)\n"
     ]
    },
    {
     "name": "stderr",
     "output_type": "stream",
     "text": [
      " 89%|████████▉ | 34/38 [00:01<00:00, 24.26it/s]"
     ]
    },
    {
     "name": "stdout",
     "output_type": "stream",
     "text": [
      "Epoch: 84 (30/38)\n",
      "\tData load time: 0.136 sec\n",
      "\tGeneration time: 0.146 sec\n",
      "\tBackprop time: 0.166 sec\n",
      "\tLog probability: -26.2676 (avg -31.7299)\n",
      "\tKL: 17.2233 (avg 18.3100)\n",
      "\tLoss: 198.5005 (avg 214.8295)\n"
     ]
    },
    {
     "name": "stderr",
     "output_type": "stream",
     "text": [
      "100%|██████████| 38/38 [00:01<00:00, 23.50it/s]\n",
      "100%|██████████| 10/10 [00:00<00:00, 31.18it/s]\n",
      "  0%|          | 0/38 [00:00<?, ?it/s]"
     ]
    },
    {
     "name": "stdout",
     "output_type": "stream",
     "text": [
      "Epoch: 84 (10/10)\n",
      "\tData load time: 0.132 sec\n",
      "\tGeneration time: 0.142 sec\n",
      "\tLog probability: -14.7407 (avg -13.5645)\n",
      "\tKL: 19.9551 (avg 16.6715)\n",
      "\tLoss: 214.2914 (avg 180.2795)\n",
      "Lowest validation loss: 128.8606\n"
     ]
    },
    {
     "name": "stderr",
     "output_type": "stream",
     "text": [
      " 34%|███▍      | 13/38 [00:00<00:01, 14.88it/s]"
     ]
    },
    {
     "name": "stdout",
     "output_type": "stream",
     "text": [
      "Epoch: 85 (10/38)\n",
      "\tData load time: 0.123 sec\n",
      "\tGeneration time: 0.134 sec\n",
      "\tBackprop time: 0.160 sec\n",
      "\tLog probability: -16.7567 (avg -22.3557)\n",
      "\tKL: 15.4370 (avg 16.6495)\n",
      "\tLoss: 171.1270 (avg 188.8511)\n"
     ]
    },
    {
     "name": "stderr",
     "output_type": "stream",
     "text": [
      " 66%|██████▌   | 25/38 [00:01<00:00, 21.89it/s]"
     ]
    },
    {
     "name": "stdout",
     "output_type": "stream",
     "text": [
      "Epoch: 85 (20/38)\n",
      "\tData load time: 0.123 sec\n",
      "\tGeneration time: 0.134 sec\n",
      "\tBackprop time: 0.160 sec\n",
      "\tLog probability: -23.1854 (avg -25.5823)\n",
      "\tKL: 16.3925 (avg 16.8458)\n",
      "\tLoss: 187.1106 (avg 194.0406)\n"
     ]
    },
    {
     "name": "stderr",
     "output_type": "stream",
     "text": [
      " 89%|████████▉ | 34/38 [00:01<00:00, 24.33it/s]"
     ]
    },
    {
     "name": "stdout",
     "output_type": "stream",
     "text": [
      "Epoch: 85 (30/38)\n",
      "\tData load time: 0.123 sec\n",
      "\tGeneration time: 0.134 sec\n",
      "\tBackprop time: 0.160 sec\n",
      "\tLog probability: -61.3589 (avg -26.2994)\n",
      "\tKL: 14.6682 (avg 16.2993)\n",
      "\tLoss: 208.0414 (avg 189.2928)\n"
     ]
    },
    {
     "name": "stderr",
     "output_type": "stream",
     "text": [
      "100%|██████████| 38/38 [00:01<00:00, 23.68it/s]\n",
      "100%|██████████| 10/10 [00:00<00:00, 31.06it/s]\n",
      "  0%|          | 0/38 [00:00<?, ?it/s]"
     ]
    },
    {
     "name": "stdout",
     "output_type": "stream",
     "text": [
      "Epoch: 85 (10/10)\n",
      "\tData load time: 0.130 sec\n",
      "\tGeneration time: 0.138 sec\n",
      "\tLog probability: -7.9045 (avg -24.1023)\n",
      "\tKL: 13.4878 (avg 16.7387)\n",
      "\tLoss: 142.7827 (avg 191.4897)\n",
      "Lowest validation loss: 128.8606\n"
     ]
    },
    {
     "name": "stderr",
     "output_type": "stream",
     "text": [
      " 34%|███▍      | 13/38 [00:00<00:01, 14.54it/s]"
     ]
    },
    {
     "name": "stdout",
     "output_type": "stream",
     "text": [
      "Epoch: 86 (10/38)\n",
      "\tData load time: 0.134 sec\n",
      "\tGeneration time: 0.146 sec\n",
      "\tBackprop time: 0.165 sec\n",
      "\tLog probability: -17.7205 (avg -24.1636)\n",
      "\tKL: 14.1119 (avg 17.0347)\n",
      "\tLoss: 158.8399 (avg 194.5108)\n"
     ]
    },
    {
     "name": "stderr",
     "output_type": "stream",
     "text": [
      " 66%|██████▌   | 25/38 [00:01<00:00, 21.75it/s]"
     ]
    },
    {
     "name": "stdout",
     "output_type": "stream",
     "text": [
      "Epoch: 86 (20/38)\n",
      "\tData load time: 0.134 sec\n",
      "\tGeneration time: 0.146 sec\n",
      "\tBackprop time: 0.165 sec\n",
      "\tLog probability: -15.2562 (avg -24.9479)\n",
      "\tKL: 14.9534 (avg 15.8357)\n",
      "\tLoss: 164.7907 (avg 183.3045)\n"
     ]
    },
    {
     "name": "stderr",
     "output_type": "stream",
     "text": [
      " 89%|████████▉ | 34/38 [00:01<00:00, 24.24it/s]"
     ]
    },
    {
     "name": "stdout",
     "output_type": "stream",
     "text": [
      "Epoch: 86 (30/38)\n",
      "\tData load time: 0.134 sec\n",
      "\tGeneration time: 0.146 sec\n",
      "\tBackprop time: 0.165 sec\n",
      "\tLog probability: -64.3590 (avg -25.7948)\n",
      "\tKL: 20.2307 (avg 16.1739)\n",
      "\tLoss: 266.6662 (avg 187.5343)\n"
     ]
    },
    {
     "name": "stderr",
     "output_type": "stream",
     "text": [
      "100%|██████████| 38/38 [00:01<00:00, 23.50it/s]\n",
      "100%|██████████| 10/10 [00:00<00:00, 30.36it/s]\n",
      "  0%|          | 0/38 [00:00<?, ?it/s]"
     ]
    },
    {
     "name": "stdout",
     "output_type": "stream",
     "text": [
      "Epoch: 86 (10/10)\n",
      "\tData load time: 0.134 sec\n",
      "\tGeneration time: 0.144 sec\n",
      "\tLog probability: -41.5819 (avg -33.6202)\n",
      "\tKL: 13.8555 (avg 16.2683)\n",
      "\tLoss: 180.1368 (avg 196.3029)\n",
      "Lowest validation loss: 128.8606\n"
     ]
    },
    {
     "name": "stderr",
     "output_type": "stream",
     "text": [
      " 34%|███▍      | 13/38 [00:00<00:01, 14.76it/s]"
     ]
    },
    {
     "name": "stdout",
     "output_type": "stream",
     "text": [
      "Epoch: 87 (10/38)\n",
      "\tData load time: 0.131 sec\n",
      "\tGeneration time: 0.145 sec\n",
      "\tBackprop time: 0.161 sec\n",
      "\tLog probability: -17.7928 (avg -26.2995)\n",
      "\tKL: 14.8556 (avg 16.1821)\n",
      "\tLoss: 166.3492 (avg 188.1201)\n"
     ]
    },
    {
     "name": "stderr",
     "output_type": "stream",
     "text": [
      " 66%|██████▌   | 25/38 [00:01<00:00, 21.94it/s]"
     ]
    },
    {
     "name": "stdout",
     "output_type": "stream",
     "text": [
      "Epoch: 87 (20/38)\n",
      "\tData load time: 0.131 sec\n",
      "\tGeneration time: 0.145 sec\n",
      "\tBackprop time: 0.161 sec\n",
      "\tLog probability: -14.1516 (avg -23.2145)\n",
      "\tKL: 13.8657 (avg 15.5114)\n",
      "\tLoss: 152.8083 (avg 178.3287)\n"
     ]
    },
    {
     "name": "stderr",
     "output_type": "stream",
     "text": [
      " 89%|████████▉ | 34/38 [00:01<00:00, 24.36it/s]"
     ]
    },
    {
     "name": "stdout",
     "output_type": "stream",
     "text": [
      "Epoch: 87 (30/38)\n",
      "\tData load time: 0.131 sec\n",
      "\tGeneration time: 0.145 sec\n",
      "\tBackprop time: 0.161 sec\n",
      "\tLog probability: -17.5731 (avg -24.8587)\n",
      "\tKL: 13.4037 (avg 15.3000)\n",
      "\tLoss: 151.6096 (avg 177.8588)\n"
     ]
    },
    {
     "name": "stderr",
     "output_type": "stream",
     "text": [
      "100%|██████████| 38/38 [00:01<00:00, 23.59it/s]\n",
      "100%|██████████| 10/10 [00:00<00:00, 30.27it/s]\n",
      "  0%|          | 0/38 [00:00<?, ?it/s]"
     ]
    },
    {
     "name": "stdout",
     "output_type": "stream",
     "text": [
      "Epoch: 87 (10/10)\n",
      "\tData load time: 0.136 sec\n",
      "\tGeneration time: 0.145 sec\n",
      "\tLog probability: -20.6032 (avg -13.4032)\n",
      "\tKL: 30.2591 (avg 16.1133)\n",
      "\tLoss: 323.1939 (avg 174.5361)\n",
      "Lowest validation loss: 128.8606\n"
     ]
    },
    {
     "name": "stderr",
     "output_type": "stream",
     "text": [
      " 34%|███▍      | 13/38 [00:00<00:01, 15.10it/s]"
     ]
    },
    {
     "name": "stdout",
     "output_type": "stream",
     "text": [
      "Epoch: 88 (10/38)\n",
      "\tData load time: 0.122 sec\n",
      "\tGeneration time: 0.133 sec\n",
      "\tBackprop time: 0.156 sec\n",
      "\tLog probability: -42.2646 (avg -25.8561)\n",
      "\tKL: 14.4279 (avg 15.2802)\n",
      "\tLoss: 186.5437 (avg 178.6584)\n"
     ]
    },
    {
     "name": "stderr",
     "output_type": "stream",
     "text": [
      " 66%|██████▌   | 25/38 [00:01<00:00, 21.95it/s]"
     ]
    },
    {
     "name": "stdout",
     "output_type": "stream",
     "text": [
      "Epoch: 88 (20/38)\n",
      "\tData load time: 0.122 sec\n",
      "\tGeneration time: 0.133 sec\n",
      "\tBackprop time: 0.156 sec\n",
      "\tLog probability: -23.9469 (avg -22.7831)\n",
      "\tKL: 16.2613 (avg 15.2531)\n",
      "\tLoss: 186.5595 (avg 175.3138)\n"
     ]
    },
    {
     "name": "stderr",
     "output_type": "stream",
     "text": [
      " 89%|████████▉ | 34/38 [00:01<00:00, 24.36it/s]"
     ]
    },
    {
     "name": "stdout",
     "output_type": "stream",
     "text": [
      "Epoch: 88 (30/38)\n",
      "\tData load time: 0.122 sec\n",
      "\tGeneration time: 0.133 sec\n",
      "\tBackprop time: 0.156 sec\n",
      "\tLog probability: -22.9847 (avg -22.7648)\n",
      "\tKL: 12.8822 (avg 14.8700)\n",
      "\tLoss: 151.8067 (avg 171.4645)\n"
     ]
    },
    {
     "name": "stderr",
     "output_type": "stream",
     "text": [
      "100%|██████████| 38/38 [00:01<00:00, 23.66it/s]\n",
      "100%|██████████| 10/10 [00:00<00:00, 29.91it/s]\n",
      "  0%|          | 0/38 [00:00<?, ?it/s]"
     ]
    },
    {
     "name": "stdout",
     "output_type": "stream",
     "text": [
      "Epoch: 88 (10/10)\n",
      "\tData load time: 0.137 sec\n",
      "\tGeneration time: 0.147 sec\n",
      "\tLog probability: -10.1618 (avg -11.7595)\n",
      "\tKL: 11.1130 (avg 13.1688)\n",
      "\tLoss: 121.2916 (avg 143.4472)\n",
      "Lowest validation loss: 128.8606\n"
     ]
    },
    {
     "name": "stderr",
     "output_type": "stream",
     "text": [
      " 34%|███▍      | 13/38 [00:00<00:01, 14.99it/s]"
     ]
    },
    {
     "name": "stdout",
     "output_type": "stream",
     "text": [
      "Epoch: 89 (10/38)\n",
      "\tData load time: 0.125 sec\n",
      "\tGeneration time: 0.137 sec\n",
      "\tBackprop time: 0.157 sec\n",
      "\tLog probability: -21.0512 (avg -19.7835)\n",
      "\tKL: 14.0865 (avg 13.9818)\n",
      "\tLoss: 161.9158 (avg 159.6020)\n"
     ]
    },
    {
     "name": "stderr",
     "output_type": "stream",
     "text": [
      " 66%|██████▌   | 25/38 [00:01<00:00, 22.00it/s]"
     ]
    },
    {
     "name": "stdout",
     "output_type": "stream",
     "text": [
      "Epoch: 89 (20/38)\n",
      "\tData load time: 0.125 sec\n",
      "\tGeneration time: 0.137 sec\n",
      "\tBackprop time: 0.157 sec\n",
      "\tLog probability: -50.4293 (avg -25.5424)\n",
      "\tKL: 20.2094 (avg 14.5409)\n",
      "\tLoss: 252.5234 (avg 170.9517)\n"
     ]
    },
    {
     "name": "stderr",
     "output_type": "stream",
     "text": [
      " 89%|████████▉ | 34/38 [00:01<00:00, 24.37it/s]"
     ]
    },
    {
     "name": "stdout",
     "output_type": "stream",
     "text": [
      "Epoch: 89 (30/38)\n",
      "\tData load time: 0.125 sec\n",
      "\tGeneration time: 0.137 sec\n",
      "\tBackprop time: 0.157 sec\n",
      "\tLog probability: -14.4115 (avg -23.8589)\n",
      "\tKL: 13.7649 (avg 14.3606)\n",
      "\tLoss: 152.0605 (avg 167.4650)\n"
     ]
    },
    {
     "name": "stderr",
     "output_type": "stream",
     "text": [
      "100%|██████████| 38/38 [00:01<00:00, 23.57it/s]\n",
      "100%|██████████| 10/10 [00:00<00:00, 31.22it/s]\n",
      "  0%|          | 0/38 [00:00<?, ?it/s]"
     ]
    },
    {
     "name": "stdout",
     "output_type": "stream",
     "text": [
      "Epoch: 89 (10/10)\n",
      "\tData load time: 0.130 sec\n",
      "\tGeneration time: 0.139 sec\n",
      "\tLog probability: -9.3979 (avg -11.8570)\n",
      "\tKL: 9.3660 (avg 12.2532)\n",
      "\tLoss: 103.0581 (avg 134.3895)\n",
      "Lowest validation loss: 128.8606\n"
     ]
    },
    {
     "name": "stderr",
     "output_type": "stream",
     "text": [
      " 34%|███▍      | 13/38 [00:00<00:01, 14.51it/s]"
     ]
    },
    {
     "name": "stdout",
     "output_type": "stream",
     "text": [
      "Epoch: 90 (10/38)\n",
      "\tData load time: 0.137 sec\n",
      "\tGeneration time: 0.145 sec\n",
      "\tBackprop time: 0.166 sec\n",
      "\tLog probability: -16.2592 (avg -20.2770)\n",
      "\tKL: 16.0507 (avg 13.9264)\n",
      "\tLoss: 176.7666 (avg 159.5409)\n"
     ]
    },
    {
     "name": "stderr",
     "output_type": "stream",
     "text": [
      " 66%|██████▌   | 25/38 [00:01<00:00, 21.73it/s]"
     ]
    },
    {
     "name": "stdout",
     "output_type": "stream",
     "text": [
      "Epoch: 90 (20/38)\n",
      "\tData load time: 0.137 sec\n",
      "\tGeneration time: 0.145 sec\n",
      "\tBackprop time: 0.166 sec\n",
      "\tLog probability: -13.7873 (avg -20.2546)\n",
      "\tKL: 12.7797 (avg 13.9189)\n",
      "\tLoss: 141.5848 (avg 159.4440)\n"
     ]
    },
    {
     "name": "stderr",
     "output_type": "stream",
     "text": [
      " 89%|████████▉ | 34/38 [00:01<00:00, 24.20it/s]"
     ]
    },
    {
     "name": "stdout",
     "output_type": "stream",
     "text": [
      "Epoch: 90 (30/38)\n",
      "\tData load time: 0.137 sec\n",
      "\tGeneration time: 0.145 sec\n",
      "\tBackprop time: 0.166 sec\n",
      "\tLog probability: -29.7600 (avg -21.2709)\n",
      "\tKL: 14.2128 (avg 13.9433)\n",
      "\tLoss: 171.8878 (avg 160.7035)\n"
     ]
    },
    {
     "name": "stderr",
     "output_type": "stream",
     "text": [
      "100%|██████████| 38/38 [00:01<00:00, 23.52it/s]\n",
      "100%|██████████| 10/10 [00:00<00:00, 30.73it/s]\n",
      "  0%|          | 0/38 [00:00<?, ?it/s]"
     ]
    },
    {
     "name": "stdout",
     "output_type": "stream",
     "text": [
      "Epoch: 90 (10/10)\n",
      "\tData load time: 0.140 sec\n",
      "\tGeneration time: 0.149 sec\n",
      "\tLog probability: -15.5140 (avg -13.2111)\n",
      "\tKL: 12.3782 (avg 12.5482)\n",
      "\tLoss: 139.2956 (avg 138.6932)\n",
      "Lowest validation loss: 128.8606\n"
     ]
    },
    {
     "name": "stderr",
     "output_type": "stream",
     "text": [
      " 34%|███▍      | 13/38 [00:00<00:01, 15.32it/s]"
     ]
    },
    {
     "name": "stdout",
     "output_type": "stream",
     "text": [
      "Epoch: 91 (10/38)\n",
      "\tData load time: 0.117 sec\n",
      "\tGeneration time: 0.127 sec\n",
      "\tBackprop time: 0.151 sec\n",
      "\tLog probability: -15.6107 (avg -19.4786)\n",
      "\tKL: 14.3808 (avg 13.4104)\n",
      "\tLoss: 159.4182 (avg 153.5830)\n"
     ]
    },
    {
     "name": "stderr",
     "output_type": "stream",
     "text": [
      " 66%|██████▌   | 25/38 [00:01<00:00, 22.17it/s]"
     ]
    },
    {
     "name": "stdout",
     "output_type": "stream",
     "text": [
      "Epoch: 91 (20/38)\n",
      "\tData load time: 0.117 sec\n",
      "\tGeneration time: 0.127 sec\n",
      "\tBackprop time: 0.151 sec\n",
      "\tLog probability: -11.9765 (avg -18.2922)\n",
      "\tKL: 13.4129 (avg 13.3254)\n",
      "\tLoss: 146.1057 (avg 151.5459)\n"
     ]
    },
    {
     "name": "stderr",
     "output_type": "stream",
     "text": [
      " 89%|████████▉ | 34/38 [00:01<00:00, 24.44it/s]"
     ]
    },
    {
     "name": "stdout",
     "output_type": "stream",
     "text": [
      "Epoch: 91 (30/38)\n",
      "\tData load time: 0.117 sec\n",
      "\tGeneration time: 0.127 sec\n",
      "\tBackprop time: 0.151 sec\n",
      "\tLog probability: -24.5324 (avg -18.5496)\n",
      "\tKL: 13.1418 (avg 13.2541)\n",
      "\tLoss: 155.9503 (avg 151.0908)\n"
     ]
    },
    {
     "name": "stderr",
     "output_type": "stream",
     "text": [
      "100%|██████████| 38/38 [00:01<00:00, 23.73it/s]\n",
      "100%|██████████| 10/10 [00:00<00:00, 31.85it/s]\n",
      "  0%|          | 0/38 [00:00<?, ?it/s]"
     ]
    },
    {
     "name": "stdout",
     "output_type": "stream",
     "text": [
      "Epoch: 91 (10/10)\n",
      "\tData load time: 0.116 sec\n",
      "\tGeneration time: 0.125 sec\n",
      "\tLog probability: -16.8451 (avg -13.1079)\n",
      "\tKL: 19.5138 (avg 15.7599)\n",
      "\tLoss: 211.9828 (avg 170.7068)\n",
      "Lowest validation loss: 128.8606\n"
     ]
    },
    {
     "name": "stderr",
     "output_type": "stream",
     "text": [
      " 34%|███▍      | 13/38 [00:00<00:01, 14.98it/s]"
     ]
    },
    {
     "name": "stdout",
     "output_type": "stream",
     "text": [
      "Epoch: 92 (10/38)\n",
      "\tData load time: 0.127 sec\n",
      "\tGeneration time: 0.136 sec\n",
      "\tBackprop time: 0.157 sec\n",
      "\tLog probability: -18.7258 (avg -17.5126)\n",
      "\tKL: 14.2349 (avg 13.9192)\n",
      "\tLoss: 161.0747 (avg 156.7044)\n"
     ]
    },
    {
     "name": "stderr",
     "output_type": "stream",
     "text": [
      " 66%|██████▌   | 25/38 [00:01<00:00, 21.84it/s]"
     ]
    },
    {
     "name": "stdout",
     "output_type": "stream",
     "text": [
      "Epoch: 92 (20/38)\n",
      "\tData load time: 0.127 sec\n",
      "\tGeneration time: 0.136 sec\n",
      "\tBackprop time: 0.157 sec\n",
      "\tLog probability: -23.3159 (avg -22.6905)\n",
      "\tKL: 14.0365 (avg 14.1759)\n",
      "\tLoss: 163.6810 (avg 164.4493)\n"
     ]
    },
    {
     "name": "stderr",
     "output_type": "stream",
     "text": [
      " 89%|████████▉ | 34/38 [00:01<00:00, 24.33it/s]"
     ]
    },
    {
     "name": "stdout",
     "output_type": "stream",
     "text": [
      "Epoch: 92 (30/38)\n",
      "\tData load time: 0.127 sec\n",
      "\tGeneration time: 0.136 sec\n",
      "\tBackprop time: 0.157 sec\n",
      "\tLog probability: -28.5070 (avg -23.3324)\n",
      "\tKL: 15.3961 (avg 14.2525)\n",
      "\tLoss: 182.4683 (avg 165.8572)\n"
     ]
    },
    {
     "name": "stderr",
     "output_type": "stream",
     "text": [
      "100%|██████████| 38/38 [00:01<00:00, 23.59it/s]\n",
      "100%|██████████| 10/10 [00:00<00:00, 29.95it/s]\n",
      "  0%|          | 0/38 [00:00<?, ?it/s]"
     ]
    },
    {
     "name": "stdout",
     "output_type": "stream",
     "text": [
      "Epoch: 92 (10/10)\n",
      "\tData load time: 0.138 sec\n",
      "\tGeneration time: 0.147 sec\n",
      "\tLog probability: -15.0740 (avg -11.0172)\n",
      "\tKL: 22.6554 (avg 14.4866)\n",
      "\tLoss: 241.6279 (avg 155.8828)\n",
      "Lowest validation loss: 128.8606\n"
     ]
    },
    {
     "name": "stderr",
     "output_type": "stream",
     "text": [
      " 34%|███▍      | 13/38 [00:00<00:01, 14.95it/s]"
     ]
    },
    {
     "name": "stdout",
     "output_type": "stream",
     "text": [
      "Epoch: 93 (10/38)\n",
      "\tData load time: 0.122 sec\n",
      "\tGeneration time: 0.133 sec\n",
      "\tBackprop time: 0.158 sec\n",
      "\tLog probability: -20.5584 (avg -25.8217)\n",
      "\tKL: 14.2020 (avg 14.6242)\n",
      "\tLoss: 162.5786 (avg 172.0639)\n"
     ]
    },
    {
     "name": "stderr",
     "output_type": "stream",
     "text": [
      " 66%|██████▌   | 25/38 [00:01<00:00, 21.87it/s]"
     ]
    },
    {
     "name": "stdout",
     "output_type": "stream",
     "text": [
      "Epoch: 93 (20/38)\n",
      "\tData load time: 0.122 sec\n",
      "\tGeneration time: 0.133 sec\n",
      "\tBackprop time: 0.158 sec\n",
      "\tLog probability: -25.3377 (avg -29.1036)\n",
      "\tKL: 14.2497 (avg 15.1313)\n",
      "\tLoss: 167.8344 (avg 180.4164)\n"
     ]
    },
    {
     "name": "stderr",
     "output_type": "stream",
     "text": [
      " 89%|████████▉ | 34/38 [00:01<00:00, 24.28it/s]"
     ]
    },
    {
     "name": "stdout",
     "output_type": "stream",
     "text": [
      "Epoch: 93 (30/38)\n",
      "\tData load time: 0.122 sec\n",
      "\tGeneration time: 0.133 sec\n",
      "\tBackprop time: 0.158 sec\n",
      "\tLog probability: -30.1812 (avg -27.3760)\n",
      "\tKL: 15.3179 (avg 14.8563)\n",
      "\tLoss: 183.3599 (avg 175.9391)\n"
     ]
    },
    {
     "name": "stderr",
     "output_type": "stream",
     "text": [
      "100%|██████████| 38/38 [00:01<00:00, 23.58it/s]\n",
      "100%|██████████| 10/10 [00:00<00:00, 30.35it/s]\n",
      "  0%|          | 0/38 [00:00<?, ?it/s]"
     ]
    },
    {
     "name": "stdout",
     "output_type": "stream",
     "text": [
      "Epoch: 93 (10/10)\n",
      "\tData load time: 0.134 sec\n",
      "\tGeneration time: 0.146 sec\n",
      "\tLog probability: -33.3893 (avg -16.7318)\n",
      "\tKL: 18.9790 (avg 14.0995)\n",
      "\tLoss: 223.1796 (avg 157.7270)\n",
      "Lowest validation loss: 128.8606\n"
     ]
    },
    {
     "name": "stderr",
     "output_type": "stream",
     "text": [
      " 34%|███▍      | 13/38 [00:00<00:01, 14.20it/s]"
     ]
    },
    {
     "name": "stdout",
     "output_type": "stream",
     "text": [
      "Epoch: 94 (10/38)\n",
      "\tData load time: 0.141 sec\n",
      "\tGeneration time: 0.152 sec\n",
      "\tBackprop time: 0.172 sec\n",
      "\tLog probability: -28.9090 (avg -28.4399)\n",
      "\tKL: 15.7906 (avg 15.3046)\n",
      "\tLoss: 186.8155 (avg 181.4854)\n"
     ]
    },
    {
     "name": "stderr",
     "output_type": "stream",
     "text": [
      " 66%|██████▌   | 25/38 [00:01<00:00, 21.56it/s]"
     ]
    },
    {
     "name": "stdout",
     "output_type": "stream",
     "text": [
      "Epoch: 94 (20/38)\n",
      "\tData load time: 0.141 sec\n",
      "\tGeneration time: 0.152 sec\n",
      "\tBackprop time: 0.172 sec\n",
      "\tLog probability: -20.6733 (avg -24.5782)\n",
      "\tKL: 14.8871 (avg 14.7755)\n",
      "\tLoss: 169.5445 (avg 172.3329)\n"
     ]
    },
    {
     "name": "stderr",
     "output_type": "stream",
     "text": [
      " 89%|████████▉ | 34/38 [00:01<00:00, 24.14it/s]"
     ]
    },
    {
     "name": "stdout",
     "output_type": "stream",
     "text": [
      "Epoch: 94 (30/38)\n",
      "\tData load time: 0.141 sec\n",
      "\tGeneration time: 0.152 sec\n",
      "\tBackprop time: 0.172 sec\n",
      "\tLog probability: -23.1481 (avg -24.0851)\n",
      "\tKL: 14.7289 (avg 14.5937)\n",
      "\tLoss: 170.4371 (avg 170.0226)\n"
     ]
    },
    {
     "name": "stderr",
     "output_type": "stream",
     "text": [
      "100%|██████████| 38/38 [00:01<00:00, 23.41it/s]\n",
      "100%|██████████| 10/10 [00:00<00:00, 30.87it/s]\n",
      "  0%|          | 0/38 [00:00<?, ?it/s]"
     ]
    },
    {
     "name": "stdout",
     "output_type": "stream",
     "text": [
      "Epoch: 94 (10/10)\n",
      "\tData load time: 0.134 sec\n",
      "\tGeneration time: 0.141 sec\n",
      "\tLog probability: -10.7774 (avg -12.4115)\n",
      "\tKL: 8.1853 (avg 12.1645)\n",
      "\tLoss: 92.6307 (avg 134.0564)\n",
      "Lowest validation loss: 128.8606\n"
     ]
    },
    {
     "name": "stderr",
     "output_type": "stream",
     "text": [
      " 34%|███▍      | 13/38 [00:00<00:01, 14.60it/s]"
     ]
    },
    {
     "name": "stdout",
     "output_type": "stream",
     "text": [
      "Epoch: 95 (10/38)\n",
      "\tData load time: 0.135 sec\n",
      "\tGeneration time: 0.145 sec\n",
      "\tBackprop time: 0.166 sec\n",
      "\tLog probability: -23.0885 (avg -27.4861)\n",
      "\tKL: 15.0445 (avg 14.1874)\n",
      "\tLoss: 173.5331 (avg 169.3601)\n"
     ]
    },
    {
     "name": "stderr",
     "output_type": "stream",
     "text": [
      " 66%|██████▌   | 25/38 [00:01<00:00, 21.80it/s]"
     ]
    },
    {
     "name": "stdout",
     "output_type": "stream",
     "text": [
      "Epoch: 95 (20/38)\n",
      "\tData load time: 0.135 sec\n",
      "\tGeneration time: 0.145 sec\n",
      "\tBackprop time: 0.166 sec\n",
      "\tLog probability: -15.1650 (avg -22.9289)\n",
      "\tKL: 14.3475 (avg 14.4649)\n",
      "\tLoss: 158.6404 (avg 167.5774)\n"
     ]
    },
    {
     "name": "stderr",
     "output_type": "stream",
     "text": [
      " 89%|████████▉ | 34/38 [00:01<00:00, 24.21it/s]"
     ]
    },
    {
     "name": "stdout",
     "output_type": "stream",
     "text": [
      "Epoch: 95 (30/38)\n",
      "\tData load time: 0.135 sec\n",
      "\tGeneration time: 0.145 sec\n",
      "\tBackprop time: 0.166 sec\n",
      "\tLog probability: -21.7903 (avg -22.2590)\n",
      "\tKL: 14.1160 (avg 14.4897)\n",
      "\tLoss: 162.9508 (avg 167.1562)\n"
     ]
    },
    {
     "name": "stderr",
     "output_type": "stream",
     "text": [
      "100%|██████████| 38/38 [00:01<00:00, 23.57it/s]\n",
      "100%|██████████| 10/10 [00:00<00:00, 30.30it/s]\n",
      "  0%|          | 0/38 [00:00<?, ?it/s]"
     ]
    },
    {
     "name": "stdout",
     "output_type": "stream",
     "text": [
      "Epoch: 95 (10/10)\n",
      "\tData load time: 0.142 sec\n",
      "\tGeneration time: 0.152 sec\n",
      "\tLog probability: -53.1189 (avg -21.3104)\n",
      "\tKL: 24.3899 (avg 13.5554)\n",
      "\tLoss: 297.0182 (avg 156.8648)\n",
      "Lowest validation loss: 128.8606\n"
     ]
    },
    {
     "name": "stderr",
     "output_type": "stream",
     "text": [
      " 34%|███▍      | 13/38 [00:00<00:01, 14.34it/s]"
     ]
    },
    {
     "name": "stdout",
     "output_type": "stream",
     "text": [
      "Epoch: 96 (10/38)\n",
      "\tData load time: 0.138 sec\n",
      "\tGeneration time: 0.150 sec\n",
      "\tBackprop time: 0.169 sec\n",
      "\tLog probability: -11.6722 (avg -31.0607)\n",
      "\tKL: 13.9346 (avg 15.8063)\n",
      "\tLoss: 151.0183 (avg 189.1232)\n"
     ]
    },
    {
     "name": "stderr",
     "output_type": "stream",
     "text": [
      " 66%|██████▌   | 25/38 [00:01<00:00, 21.66it/s]"
     ]
    },
    {
     "name": "stdout",
     "output_type": "stream",
     "text": [
      "Epoch: 96 (20/38)\n",
      "\tData load time: 0.138 sec\n",
      "\tGeneration time: 0.150 sec\n",
      "\tBackprop time: 0.169 sec\n",
      "\tLog probability: -19.8561 (avg -25.1165)\n",
      "\tKL: 15.1189 (avg 15.5091)\n",
      "\tLoss: 171.0449 (avg 180.2079)\n"
     ]
    },
    {
     "name": "stderr",
     "output_type": "stream",
     "text": [
      " 89%|████████▉ | 34/38 [00:01<00:00, 24.24it/s]"
     ]
    },
    {
     "name": "stdout",
     "output_type": "stream",
     "text": [
      "Epoch: 96 (30/38)\n",
      "\tData load time: 0.138 sec\n",
      "\tGeneration time: 0.150 sec\n",
      "\tBackprop time: 0.169 sec\n",
      "\tLog probability: -12.9282 (avg -22.8026)\n",
      "\tKL: 13.1477 (avg 14.9163)\n",
      "\tLoss: 144.4048 (avg 171.9658)\n"
     ]
    },
    {
     "name": "stderr",
     "output_type": "stream",
     "text": [
      "100%|██████████| 38/38 [00:01<00:00, 23.39it/s]\n",
      "100%|██████████| 10/10 [00:00<00:00, 30.25it/s]\n",
      "  0%|          | 0/38 [00:00<?, ?it/s]"
     ]
    },
    {
     "name": "stdout",
     "output_type": "stream",
     "text": [
      "Epoch: 96 (10/10)\n",
      "\tData load time: 0.133 sec\n",
      "\tGeneration time: 0.143 sec\n",
      "\tLog probability: -12.2255 (avg -15.7691)\n",
      "\tKL: 16.2152 (avg 14.8618)\n",
      "\tLoss: 174.3778 (avg 164.3873)\n",
      "Lowest validation loss: 128.8606\n"
     ]
    },
    {
     "name": "stderr",
     "output_type": "stream",
     "text": [
      " 34%|███▍      | 13/38 [00:00<00:01, 14.40it/s]"
     ]
    },
    {
     "name": "stdout",
     "output_type": "stream",
     "text": [
      "Epoch: 97 (10/38)\n",
      "\tData load time: 0.138 sec\n",
      "\tGeneration time: 0.149 sec\n",
      "\tBackprop time: 0.168 sec\n",
      "\tLog probability: -24.0378 (avg -23.5733)\n",
      "\tKL: 16.2448 (avg 16.1748)\n",
      "\tLoss: 186.4859 (avg 185.3209)\n"
     ]
    },
    {
     "name": "stderr",
     "output_type": "stream",
     "text": [
      " 66%|██████▌   | 25/38 [00:01<00:00, 21.55it/s]"
     ]
    },
    {
     "name": "stdout",
     "output_type": "stream",
     "text": [
      "Epoch: 97 (20/38)\n",
      "\tData load time: 0.138 sec\n",
      "\tGeneration time: 0.149 sec\n",
      "\tBackprop time: 0.168 sec\n",
      "\tLog probability: -22.6796 (avg -22.9595)\n",
      "\tKL: 16.7073 (avg 15.4498)\n",
      "\tLoss: 189.7528 (avg 177.4575)\n"
     ]
    },
    {
     "name": "stderr",
     "output_type": "stream",
     "text": [
      " 89%|████████▉ | 34/38 [00:01<00:00, 24.12it/s]"
     ]
    },
    {
     "name": "stdout",
     "output_type": "stream",
     "text": [
      "Epoch: 97 (30/38)\n",
      "\tData load time: 0.138 sec\n",
      "\tGeneration time: 0.149 sec\n",
      "\tBackprop time: 0.168 sec\n",
      "\tLog probability: -23.2603 (avg -23.0768)\n",
      "\tKL: 12.9264 (avg 15.0164)\n",
      "\tLoss: 152.5247 (avg 173.2411)\n"
     ]
    },
    {
     "name": "stderr",
     "output_type": "stream",
     "text": [
      "100%|██████████| 38/38 [00:01<00:00, 23.46it/s]\n",
      "100%|██████████| 10/10 [00:00<00:00, 32.00it/s]\n",
      "  0%|          | 0/38 [00:00<?, ?it/s]"
     ]
    },
    {
     "name": "stdout",
     "output_type": "stream",
     "text": [
      "Epoch: 97 (10/10)\n",
      "\tData load time: 0.115 sec\n",
      "\tGeneration time: 0.132 sec\n",
      "\tLog probability: -7.1654 (avg -9.6738)\n",
      "\tKL: 8.4827 (avg 15.1939)\n",
      "\tLoss: 91.9923 (avg 161.6128)\n",
      "Lowest validation loss: 128.8606\n"
     ]
    },
    {
     "name": "stderr",
     "output_type": "stream",
     "text": [
      " 34%|███▍      | 13/38 [00:00<00:01, 14.80it/s]"
     ]
    },
    {
     "name": "stdout",
     "output_type": "stream",
     "text": [
      "Epoch: 98 (10/38)\n",
      "\tData load time: 0.131 sec\n",
      "\tGeneration time: 0.143 sec\n",
      "\tBackprop time: 0.161 sec\n",
      "\tLog probability: -15.2568 (avg -21.9469)\n",
      "\tKL: 14.5862 (avg 15.3099)\n",
      "\tLoss: 161.1185 (avg 175.0462)\n"
     ]
    },
    {
     "name": "stderr",
     "output_type": "stream",
     "text": [
      " 66%|██████▌   | 25/38 [00:01<00:00, 21.90it/s]"
     ]
    },
    {
     "name": "stdout",
     "output_type": "stream",
     "text": [
      "Epoch: 98 (20/38)\n",
      "\tData load time: 0.131 sec\n",
      "\tGeneration time: 0.143 sec\n",
      "\tBackprop time: 0.161 sec\n",
      "\tLog probability: -42.7765 (avg -28.0087)\n",
      "\tKL: 19.4770 (avg 15.0571)\n",
      "\tLoss: 237.5461 (avg 178.5792)\n"
     ]
    },
    {
     "name": "stderr",
     "output_type": "stream",
     "text": [
      " 89%|████████▉ | 34/38 [00:01<00:00, 24.35it/s]"
     ]
    },
    {
     "name": "stdout",
     "output_type": "stream",
     "text": [
      "Epoch: 98 (30/38)\n",
      "\tData load time: 0.131 sec\n",
      "\tGeneration time: 0.143 sec\n",
      "\tBackprop time: 0.161 sec\n",
      "\tLog probability: -43.4441 (avg -25.1487)\n",
      "\tKL: 14.6156 (avg 14.7700)\n",
      "\tLoss: 189.5996 (avg 172.8482)\n"
     ]
    },
    {
     "name": "stderr",
     "output_type": "stream",
     "text": [
      "100%|██████████| 38/38 [00:01<00:00, 23.65it/s]\n",
      "100%|██████████| 10/10 [00:00<00:00, 29.89it/s]\n",
      "  0%|          | 0/38 [00:00<?, ?it/s]"
     ]
    },
    {
     "name": "stdout",
     "output_type": "stream",
     "text": [
      "Epoch: 98 (10/10)\n",
      "\tData load time: 0.136 sec\n",
      "\tGeneration time: 0.142 sec\n",
      "\tLog probability: -18.4920 (avg -13.3215)\n",
      "\tKL: 26.0540 (avg 15.6270)\n",
      "\tLoss: 279.0317 (avg 169.5912)\n",
      "Lowest validation loss: 128.8606\n"
     ]
    },
    {
     "name": "stderr",
     "output_type": "stream",
     "text": [
      " 34%|███▍      | 13/38 [00:00<00:01, 14.02it/s]"
     ]
    },
    {
     "name": "stdout",
     "output_type": "stream",
     "text": [
      "Epoch: 99 (10/38)\n",
      "\tData load time: 0.144 sec\n",
      "\tGeneration time: 0.155 sec\n",
      "\tBackprop time: 0.175 sec\n",
      "\tLog probability: -53.8723 (avg -21.8075)\n",
      "\tKL: 17.7737 (avg 15.7831)\n",
      "\tLoss: 231.6095 (avg 179.6382)\n"
     ]
    },
    {
     "name": "stderr",
     "output_type": "stream",
     "text": [
      " 66%|██████▌   | 25/38 [00:01<00:00, 21.46it/s]"
     ]
    },
    {
     "name": "stdout",
     "output_type": "stream",
     "text": [
      "Epoch: 99 (20/38)\n",
      "\tData load time: 0.144 sec\n",
      "\tGeneration time: 0.155 sec\n",
      "\tBackprop time: 0.175 sec\n",
      "\tLog probability: -12.5625 (avg -23.4764)\n",
      "\tKL: 12.5666 (avg 14.7408)\n",
      "\tLoss: 138.2288 (avg 170.8842)\n"
     ]
    },
    {
     "name": "stderr",
     "output_type": "stream",
     "text": [
      " 89%|████████▉ | 34/38 [00:01<00:00, 24.12it/s]"
     ]
    },
    {
     "name": "stdout",
     "output_type": "stream",
     "text": [
      "Epoch: 99 (30/38)\n",
      "\tData load time: 0.144 sec\n",
      "\tGeneration time: 0.155 sec\n",
      "\tBackprop time: 0.175 sec\n",
      "\tLog probability: -39.5494 (avg -25.0062)\n",
      "\tKL: 15.4655 (avg 14.5229)\n",
      "\tLoss: 194.2042 (avg 170.2352)\n"
     ]
    },
    {
     "name": "stderr",
     "output_type": "stream",
     "text": [
      "100%|██████████| 38/38 [00:01<00:00, 23.25it/s]\n",
      "100%|██████████| 10/10 [00:00<00:00, 30.46it/s]\n",
      "  0%|          | 0/38 [00:00<?, ?it/s]"
     ]
    },
    {
     "name": "stdout",
     "output_type": "stream",
     "text": [
      "Epoch: 99 (10/10)\n",
      "\tData load time: 0.141 sec\n",
      "\tGeneration time: 0.147 sec\n",
      "\tLog probability: -14.1231 (avg -14.6249)\n",
      "\tKL: 7.5433 (avg 12.5045)\n",
      "\tLoss: 89.5557 (avg 139.6703)\n",
      "Lowest validation loss: 128.8606\n"
     ]
    },
    {
     "name": "stderr",
     "output_type": "stream",
     "text": [
      " 34%|███▍      | 13/38 [00:00<00:01, 14.29it/s]"
     ]
    },
    {
     "name": "stdout",
     "output_type": "stream",
     "text": [
      "Epoch: 100 (10/38)\n",
      "\tData load time: 0.138 sec\n",
      "\tGeneration time: 0.149 sec\n",
      "\tBackprop time: 0.170 sec\n",
      "\tLog probability: -16.4815 (avg -23.8644)\n",
      "\tKL: 13.8062 (avg 14.9736)\n",
      "\tLoss: 154.5438 (avg 173.6007)\n"
     ]
    },
    {
     "name": "stderr",
     "output_type": "stream",
     "text": [
      " 66%|██████▌   | 25/38 [00:01<00:00, 21.61it/s]"
     ]
    },
    {
     "name": "stdout",
     "output_type": "stream",
     "text": [
      "Epoch: 100 (20/38)\n",
      "\tData load time: 0.138 sec\n",
      "\tGeneration time: 0.149 sec\n",
      "\tBackprop time: 0.170 sec\n",
      "\tLog probability: -22.0929 (avg -24.9475)\n",
      "\tKL: 11.9658 (avg 14.1093)\n",
      "\tLoss: 141.7507 (avg 166.0403)\n"
     ]
    },
    {
     "name": "stderr",
     "output_type": "stream",
     "text": [
      " 89%|████████▉ | 34/38 [00:01<00:00, 24.21it/s]"
     ]
    },
    {
     "name": "stdout",
     "output_type": "stream",
     "text": [
      "Epoch: 100 (30/38)\n",
      "\tData load time: 0.138 sec\n",
      "\tGeneration time: 0.149 sec\n",
      "\tBackprop time: 0.170 sec\n",
      "\tLog probability: -15.1069 (avg -26.3428)\n",
      "\tKL: 12.1999 (avg 13.7312)\n",
      "\tLoss: 137.1055 (avg 163.6544)\n"
     ]
    },
    {
     "name": "stderr",
     "output_type": "stream",
     "text": [
      "100%|██████████| 38/38 [00:01<00:00, 23.47it/s]\n",
      "100%|██████████| 10/10 [00:00<00:00, 29.91it/s]\n",
      "  0%|          | 0/38 [00:00<?, ?it/s]"
     ]
    },
    {
     "name": "stdout",
     "output_type": "stream",
     "text": [
      "Epoch: 100 (10/10)\n",
      "\tData load time: 0.141 sec\n",
      "\tGeneration time: 0.149 sec\n",
      "\tLog probability: -51.4135 (avg -25.3984)\n",
      "\tKL: 22.1051 (avg 14.3283)\n",
      "\tLoss: 272.4642 (avg 168.6809)\n",
      "Lowest validation loss: 128.8606\n"
     ]
    },
    {
     "name": "stderr",
     "output_type": "stream",
     "text": [
      " 34%|███▍      | 13/38 [00:00<00:01, 14.83it/s]"
     ]
    },
    {
     "name": "stdout",
     "output_type": "stream",
     "text": [
      "Epoch: 101 (10/38)\n",
      "\tData load time: 0.125 sec\n",
      "\tGeneration time: 0.139 sec\n",
      "\tBackprop time: 0.161 sec\n",
      "\tLog probability: -12.9673 (avg -33.0550)\n",
      "\tKL: 13.7360 (avg 13.8645)\n",
      "\tLoss: 150.3276 (avg 171.7002)\n"
     ]
    },
    {
     "name": "stderr",
     "output_type": "stream",
     "text": [
      " 66%|██████▌   | 25/38 [00:01<00:00, 21.93it/s]"
     ]
    },
    {
     "name": "stdout",
     "output_type": "stream",
     "text": [
      "Epoch: 101 (20/38)\n",
      "\tData load time: 0.125 sec\n",
      "\tGeneration time: 0.139 sec\n",
      "\tBackprop time: 0.161 sec\n",
      "\tLog probability: -89.3944 (avg -29.5781)\n",
      "\tKL: 21.1298 (avg 14.0653)\n",
      "\tLoss: 300.6926 (avg 170.2307)\n"
     ]
    },
    {
     "name": "stderr",
     "output_type": "stream",
     "text": [
      " 89%|████████▉ | 34/38 [00:01<00:00, 24.33it/s]"
     ]
    },
    {
     "name": "stdout",
     "output_type": "stream",
     "text": [
      "Epoch: 101 (30/38)\n",
      "\tData load time: 0.125 sec\n",
      "\tGeneration time: 0.139 sec\n",
      "\tBackprop time: 0.161 sec\n",
      "\tLog probability: -18.2766 (avg -27.5698)\n",
      "\tKL: 11.7903 (avg 13.3450)\n",
      "\tLoss: 136.1801 (avg 161.0195)\n"
     ]
    },
    {
     "name": "stderr",
     "output_type": "stream",
     "text": [
      "100%|██████████| 38/38 [00:01<00:00, 23.68it/s]\n",
      "100%|██████████| 10/10 [00:00<00:00, 30.34it/s]\n",
      "  0%|          | 0/38 [00:00<?, ?it/s]"
     ]
    },
    {
     "name": "stdout",
     "output_type": "stream",
     "text": [
      "Epoch: 101 (10/10)\n",
      "\tData load time: 0.140 sec\n",
      "\tGeneration time: 0.149 sec\n",
      "\tLog probability: -39.1610 (avg -47.8642)\n",
      "\tKL: 28.6248 (avg 28.6716)\n",
      "\tLoss: 325.4088 (avg 334.5798)\n",
      "Lowest validation loss: 128.8606\n"
     ]
    },
    {
     "name": "stderr",
     "output_type": "stream",
     "text": [
      " 34%|███▍      | 13/38 [00:00<00:01, 14.45it/s]"
     ]
    },
    {
     "name": "stdout",
     "output_type": "stream",
     "text": [
      "Epoch: 102 (10/38)\n",
      "\tData load time: 0.135 sec\n",
      "\tGeneration time: 0.146 sec\n",
      "\tBackprop time: 0.167 sec\n",
      "\tLog probability: -22.0492 (avg -29.4375)\n",
      "\tKL: 15.1127 (avg 20.7111)\n",
      "\tLoss: 173.1766 (avg 236.5486)\n"
     ]
    },
    {
     "name": "stderr",
     "output_type": "stream",
     "text": [
      " 66%|██████▌   | 25/38 [00:01<00:00, 21.70it/s]"
     ]
    },
    {
     "name": "stdout",
     "output_type": "stream",
     "text": [
      "Epoch: 102 (20/38)\n",
      "\tData load time: 0.135 sec\n",
      "\tGeneration time: 0.146 sec\n",
      "\tBackprop time: 0.167 sec\n",
      "\tLog probability: -15.3595 (avg -25.0034)\n",
      "\tKL: 13.5389 (avg 18.3047)\n",
      "\tLoss: 150.7485 (avg 208.0501)\n"
     ]
    },
    {
     "name": "stderr",
     "output_type": "stream",
     "text": [
      " 89%|████████▉ | 34/38 [00:01<00:00, 24.21it/s]"
     ]
    },
    {
     "name": "stdout",
     "output_type": "stream",
     "text": [
      "Epoch: 102 (30/38)\n",
      "\tData load time: 0.135 sec\n",
      "\tGeneration time: 0.146 sec\n",
      "\tBackprop time: 0.167 sec\n",
      "\tLog probability: -18.4137 (avg -24.5634)\n",
      "\tKL: 12.0907 (avg 16.0461)\n",
      "\tLoss: 139.3210 (avg 185.0246)\n"
     ]
    },
    {
     "name": "stderr",
     "output_type": "stream",
     "text": [
      "100%|██████████| 38/38 [00:01<00:00, 23.45it/s]\n",
      "100%|██████████| 10/10 [00:00<00:00, 30.11it/s]\n",
      "  0%|          | 0/38 [00:00<?, ?it/s]"
     ]
    },
    {
     "name": "stdout",
     "output_type": "stream",
     "text": [
      "Epoch: 102 (10/10)\n",
      "\tData load time: 0.143 sec\n",
      "\tGeneration time: 0.154 sec\n",
      "\tLog probability: -12.7930 (avg -7.8112)\n",
      "\tKL: 13.4540 (avg 13.7088)\n",
      "\tLoss: 147.3329 (avg 144.8997)\n",
      "Lowest validation loss: 128.8606\n"
     ]
    },
    {
     "name": "stderr",
     "output_type": "stream",
     "text": [
      " 34%|███▍      | 13/38 [00:00<00:01, 14.28it/s]"
     ]
    },
    {
     "name": "stdout",
     "output_type": "stream",
     "text": [
      "Epoch: 103 (10/38)\n",
      "\tData load time: 0.140 sec\n",
      "\tGeneration time: 0.151 sec\n",
      "\tBackprop time: 0.170 sec\n",
      "\tLog probability: -33.3842 (avg -24.7901)\n",
      "\tKL: 19.5071 (avg 15.4721)\n",
      "\tLoss: 228.4552 (avg 179.5113)\n"
     ]
    },
    {
     "name": "stderr",
     "output_type": "stream",
     "text": [
      " 66%|██████▌   | 25/38 [00:01<00:00, 21.63it/s]"
     ]
    },
    {
     "name": "stdout",
     "output_type": "stream",
     "text": [
      "Epoch: 103 (20/38)\n",
      "\tData load time: 0.140 sec\n",
      "\tGeneration time: 0.151 sec\n",
      "\tBackprop time: 0.170 sec\n",
      "\tLog probability: -20.0347 (avg -20.9278)\n",
      "\tKL: 10.4206 (avg 14.4179)\n",
      "\tLoss: 124.2410 (avg 165.1068)\n"
     ]
    },
    {
     "name": "stderr",
     "output_type": "stream",
     "text": [
      " 89%|████████▉ | 34/38 [00:01<00:00, 24.21it/s]"
     ]
    },
    {
     "name": "stdout",
     "output_type": "stream",
     "text": [
      "Epoch: 103 (30/38)\n",
      "\tData load time: 0.140 sec\n",
      "\tGeneration time: 0.151 sec\n",
      "\tBackprop time: 0.170 sec\n",
      "\tLog probability: -21.7173 (avg -23.6029)\n",
      "\tKL: 13.2160 (avg 14.0702)\n",
      "\tLoss: 153.8773 (avg 164.3045)\n"
     ]
    },
    {
     "name": "stderr",
     "output_type": "stream",
     "text": [
      "100%|██████████| 38/38 [00:01<00:00, 23.47it/s]\n",
      "100%|██████████| 10/10 [00:00<00:00, 30.68it/s]\n",
      "  0%|          | 0/38 [00:00<?, ?it/s]"
     ]
    },
    {
     "name": "stdout",
     "output_type": "stream",
     "text": [
      "Epoch: 103 (10/10)\n",
      "\tData load time: 0.136 sec\n",
      "\tGeneration time: 0.145 sec\n",
      "\tLog probability: -25.1343 (avg -34.9915)\n",
      "\tKL: 11.1882 (avg 11.6870)\n",
      "\tLoss: 137.0161 (avg 151.8612)\n",
      "Lowest validation loss: 128.8606\n"
     ]
    },
    {
     "name": "stderr",
     "output_type": "stream",
     "text": [
      " 34%|███▍      | 13/38 [00:00<00:01, 15.40it/s]"
     ]
    },
    {
     "name": "stdout",
     "output_type": "stream",
     "text": [
      "Epoch: 104 (10/38)\n",
      "\tData load time: 0.114 sec\n",
      "\tGeneration time: 0.124 sec\n",
      "\tBackprop time: 0.150 sec\n",
      "\tLog probability: -10.0378 (avg -21.1844)\n",
      "\tKL: 12.5774 (avg 11.9759)\n",
      "\tLoss: 135.8116 (avg 140.9430)\n"
     ]
    },
    {
     "name": "stderr",
     "output_type": "stream",
     "text": [
      " 66%|██████▌   | 25/38 [00:01<00:00, 22.20it/s]"
     ]
    },
    {
     "name": "stdout",
     "output_type": "stream",
     "text": [
      "Epoch: 104 (20/38)\n",
      "\tData load time: 0.114 sec\n",
      "\tGeneration time: 0.124 sec\n",
      "\tBackprop time: 0.150 sec\n",
      "\tLog probability: -21.4987 (avg -20.4290)\n",
      "\tKL: 9.9229 (avg 12.1693)\n",
      "\tLoss: 120.7276 (avg 142.1223)\n"
     ]
    },
    {
     "name": "stderr",
     "output_type": "stream",
     "text": [
      " 89%|████████▉ | 34/38 [00:01<00:00, 24.45it/s]"
     ]
    },
    {
     "name": "stdout",
     "output_type": "stream",
     "text": [
      "Epoch: 104 (30/38)\n",
      "\tData load time: 0.114 sec\n",
      "\tGeneration time: 0.124 sec\n",
      "\tBackprop time: 0.150 sec\n",
      "\tLog probability: -49.5935 (avg -21.1099)\n",
      "\tKL: 10.6410 (avg 11.5800)\n",
      "\tLoss: 156.0039 (avg 136.9096)\n"
     ]
    },
    {
     "name": "stderr",
     "output_type": "stream",
     "text": [
      "100%|██████████| 38/38 [00:01<00:00, 23.83it/s]\n",
      "100%|██████████| 10/10 [00:00<00:00, 30.77it/s]\n",
      "  0%|          | 0/38 [00:00<?, ?it/s]"
     ]
    },
    {
     "name": "stdout",
     "output_type": "stream",
     "text": [
      "Epoch: 104 (10/10)\n",
      "\tData load time: 0.134 sec\n",
      "\tGeneration time: 0.143 sec\n",
      "\tLog probability: -105.5146 (avg -53.5748)\n",
      "\tKL: 22.7729 (avg 14.0859)\n",
      "\tLoss: 333.2437 (avg 194.4336)\n",
      "Lowest validation loss: 128.8606\n"
     ]
    },
    {
     "name": "stderr",
     "output_type": "stream",
     "text": [
      " 34%|███▍      | 13/38 [00:00<00:01, 14.92it/s]"
     ]
    },
    {
     "name": "stdout",
     "output_type": "stream",
     "text": [
      "Epoch: 105 (10/38)\n",
      "\tData load time: 0.126 sec\n",
      "\tGeneration time: 0.138 sec\n",
      "\tBackprop time: 0.158 sec\n",
      "\tLog probability: -27.1761 (avg -40.6298)\n",
      "\tKL: 19.8055 (avg 17.4867)\n",
      "\tLoss: 225.2306 (avg 215.4970)\n"
     ]
    },
    {
     "name": "stderr",
     "output_type": "stream",
     "text": [
      " 66%|██████▌   | 25/38 [00:01<00:00, 21.93it/s]"
     ]
    },
    {
     "name": "stdout",
     "output_type": "stream",
     "text": [
      "Epoch: 105 (20/38)\n",
      "\tData load time: 0.126 sec\n",
      "\tGeneration time: 0.138 sec\n",
      "\tBackprop time: 0.158 sec\n",
      "\tLog probability: -29.6226 (avg -35.8440)\n",
      "\tKL: 11.2531 (avg 15.4140)\n",
      "\tLoss: 142.1539 (avg 189.9842)\n"
     ]
    },
    {
     "name": "stderr",
     "output_type": "stream",
     "text": [
      " 89%|████████▉ | 34/38 [00:01<00:00, 24.31it/s]"
     ]
    },
    {
     "name": "stdout",
     "output_type": "stream",
     "text": [
      "Epoch: 105 (30/38)\n",
      "\tData load time: 0.126 sec\n",
      "\tGeneration time: 0.138 sec\n",
      "\tBackprop time: 0.158 sec\n",
      "\tLog probability: -12.0328 (avg -30.8324)\n",
      "\tKL: 8.8419 (avg 13.9286)\n",
      "\tLoss: 100.4515 (avg 170.1180)\n"
     ]
    },
    {
     "name": "stderr",
     "output_type": "stream",
     "text": [
      "100%|██████████| 38/38 [00:01<00:00, 23.63it/s]\n",
      "100%|██████████| 10/10 [00:00<00:00, 30.40it/s]\n"
     ]
    },
    {
     "name": "stdout",
     "output_type": "stream",
     "text": [
      "Epoch: 105 (10/10)\n",
      "\tData load time: 0.138 sec\n",
      "\tGeneration time: 0.147 sec\n",
      "\tLog probability: -7.5528 (avg -11.4873)\n",
      "\tKL: 5.6764 (avg 8.4559)\n",
      "\tLoss: 64.3166 (avg 96.0465)\n",
      "Saving checkpoint..\n"
     ]
    },
    {
     "name": "stderr",
     "output_type": "stream",
     "text": [
      "  0%|          | 0/38 [00:00<?, ?it/s]"
     ]
    },
    {
     "name": "stdout",
     "output_type": "stream",
     "text": [
      "Lowest validation loss: 96.0465\n"
     ]
    },
    {
     "name": "stderr",
     "output_type": "stream",
     "text": [
      " 34%|███▍      | 13/38 [00:00<00:01, 14.04it/s]"
     ]
    },
    {
     "name": "stdout",
     "output_type": "stream",
     "text": [
      "Epoch: 106 (10/38)\n",
      "\tData load time: 0.146 sec\n",
      "\tGeneration time: 0.154 sec\n",
      "\tBackprop time: 0.176 sec\n",
      "\tLog probability: -23.6856 (avg -25.4915)\n",
      "\tKL: 13.1027 (avg 10.3341)\n",
      "\tLoss: 154.7123 (avg 128.8329)\n"
     ]
    },
    {
     "name": "stderr",
     "output_type": "stream",
     "text": [
      " 66%|██████▌   | 25/38 [00:01<00:00, 21.39it/s]"
     ]
    },
    {
     "name": "stdout",
     "output_type": "stream",
     "text": [
      "Epoch: 106 (20/38)\n",
      "\tData load time: 0.146 sec\n",
      "\tGeneration time: 0.154 sec\n",
      "\tBackprop time: 0.176 sec\n",
      "\tLog probability: -14.6478 (avg -20.8301)\n",
      "\tKL: 8.0443 (avg 9.7135)\n",
      "\tLoss: 95.0911 (avg 117.9654)\n"
     ]
    },
    {
     "name": "stderr",
     "output_type": "stream",
     "text": [
      " 89%|████████▉ | 34/38 [00:01<00:00, 24.11it/s]"
     ]
    },
    {
     "name": "stdout",
     "output_type": "stream",
     "text": [
      "Epoch: 106 (30/38)\n",
      "\tData load time: 0.146 sec\n",
      "\tGeneration time: 0.154 sec\n",
      "\tBackprop time: 0.176 sec\n",
      "\tLog probability: -12.7459 (avg -20.0868)\n",
      "\tKL: 8.8555 (avg 9.4500)\n",
      "\tLoss: 101.3010 (avg 114.5866)\n"
     ]
    },
    {
     "name": "stderr",
     "output_type": "stream",
     "text": [
      "100%|██████████| 38/38 [00:01<00:00, 23.32it/s]\n",
      "100%|██████████| 10/10 [00:00<00:00, 31.91it/s]\n"
     ]
    },
    {
     "name": "stdout",
     "output_type": "stream",
     "text": [
      "Epoch: 106 (10/10)\n",
      "\tData load time: 0.114 sec\n",
      "\tGeneration time: 0.124 sec\n",
      "\tLog probability: -5.4391 (avg -8.3429)\n",
      "\tKL: 7.5728 (avg 7.2225)\n",
      "\tLoss: 81.1673 (avg 80.5681)\n",
      "Saving checkpoint..\n"
     ]
    },
    {
     "name": "stderr",
     "output_type": "stream",
     "text": [
      "  0%|          | 0/38 [00:00<?, ?it/s]"
     ]
    },
    {
     "name": "stdout",
     "output_type": "stream",
     "text": [
      "Lowest validation loss: 80.5681\n"
     ]
    },
    {
     "name": "stderr",
     "output_type": "stream",
     "text": [
      " 34%|███▍      | 13/38 [00:00<00:01, 14.42it/s]"
     ]
    },
    {
     "name": "stdout",
     "output_type": "stream",
     "text": [
      "Epoch: 107 (10/38)\n",
      "\tData load time: 0.137 sec\n",
      "\tGeneration time: 0.145 sec\n",
      "\tBackprop time: 0.168 sec\n",
      "\tLog probability: -17.1908 (avg -16.4884)\n",
      "\tKL: 9.4117 (avg 8.6182)\n",
      "\tLoss: 111.3079 (avg 102.6705)\n"
     ]
    },
    {
     "name": "stderr",
     "output_type": "stream",
     "text": [
      " 66%|██████▌   | 25/38 [00:01<00:00, 21.68it/s]"
     ]
    },
    {
     "name": "stdout",
     "output_type": "stream",
     "text": [
      "Epoch: 107 (20/38)\n",
      "\tData load time: 0.137 sec\n",
      "\tGeneration time: 0.145 sec\n",
      "\tBackprop time: 0.168 sec\n",
      "\tLog probability: -27.3489 (avg -17.6661)\n",
      "\tKL: 7.4734 (avg 8.4595)\n",
      "\tLoss: 102.0825 (avg 102.2610)\n"
     ]
    },
    {
     "name": "stderr",
     "output_type": "stream",
     "text": [
      " 89%|████████▉ | 34/38 [00:01<00:00, 24.24it/s]"
     ]
    },
    {
     "name": "stdout",
     "output_type": "stream",
     "text": [
      "Epoch: 107 (30/38)\n",
      "\tData load time: 0.137 sec\n",
      "\tGeneration time: 0.145 sec\n",
      "\tBackprop time: 0.168 sec\n",
      "\tLog probability: -20.2463 (avg -16.9722)\n",
      "\tKL: 9.1916 (avg 8.3149)\n",
      "\tLoss: 112.1628 (avg 100.1207)\n"
     ]
    },
    {
     "name": "stderr",
     "output_type": "stream",
     "text": [
      "100%|██████████| 38/38 [00:01<00:00, 23.49it/s]\n",
      "100%|██████████| 10/10 [00:00<00:00, 30.23it/s]\n",
      "  0%|          | 0/38 [00:00<?, ?it/s]"
     ]
    },
    {
     "name": "stdout",
     "output_type": "stream",
     "text": [
      "Epoch: 107 (10/10)\n",
      "\tData load time: 0.140 sec\n",
      "\tGeneration time: 0.149 sec\n",
      "\tLog probability: -15.0201 (avg -17.4050)\n",
      "\tKL: 6.2348 (avg 7.8951)\n",
      "\tLoss: 77.3686 (avg 96.3561)\n",
      "Lowest validation loss: 80.5681\n"
     ]
    },
    {
     "name": "stderr",
     "output_type": "stream",
     "text": [
      " 34%|███▍      | 13/38 [00:00<00:01, 14.59it/s]"
     ]
    },
    {
     "name": "stdout",
     "output_type": "stream",
     "text": [
      "Epoch: 108 (10/38)\n",
      "\tData load time: 0.133 sec\n",
      "\tGeneration time: 0.144 sec\n",
      "\tBackprop time: 0.164 sec\n",
      "\tLog probability: -12.7110 (avg -14.0872)\n",
      "\tKL: 7.8204 (avg 8.4240)\n",
      "\tLoss: 90.9147 (avg 98.3269)\n"
     ]
    },
    {
     "name": "stderr",
     "output_type": "stream",
     "text": [
      " 66%|██████▌   | 25/38 [00:01<00:00, 21.76it/s]"
     ]
    },
    {
     "name": "stdout",
     "output_type": "stream",
     "text": [
      "Epoch: 108 (20/38)\n",
      "\tData load time: 0.133 sec\n",
      "\tGeneration time: 0.144 sec\n",
      "\tBackprop time: 0.164 sec\n",
      "\tLog probability: -15.8989 (avg -16.5265)\n",
      "\tKL: 8.1655 (avg 8.3663)\n",
      "\tLoss: 97.5537 (avg 100.1893)\n"
     ]
    },
    {
     "name": "stderr",
     "output_type": "stream",
     "text": [
      " 89%|████████▉ | 34/38 [00:01<00:00, 24.26it/s]"
     ]
    },
    {
     "name": "stdout",
     "output_type": "stream",
     "text": [
      "Epoch: 108 (30/38)\n",
      "\tData load time: 0.133 sec\n",
      "\tGeneration time: 0.144 sec\n",
      "\tBackprop time: 0.164 sec\n",
      "\tLog probability: -8.5829 (avg -15.5263)\n",
      "\tKL: 6.9452 (avg 8.3339)\n",
      "\tLoss: 78.0348 (avg 98.8652)\n"
     ]
    },
    {
     "name": "stderr",
     "output_type": "stream",
     "text": [
      "100%|██████████| 38/38 [00:01<00:00, 23.50it/s]\n",
      "100%|██████████| 10/10 [00:00<00:00, 30.59it/s]\n"
     ]
    },
    {
     "name": "stdout",
     "output_type": "stream",
     "text": [
      "Epoch: 108 (10/10)\n",
      "\tData load time: 0.134 sec\n",
      "\tGeneration time: 0.144 sec\n",
      "\tLog probability: -4.2723 (avg -6.0348)\n",
      "\tKL: 4.0462 (avg 6.6247)\n",
      "\tLoss: 44.7348 (avg 72.2814)\n",
      "Saving checkpoint..\n"
     ]
    },
    {
     "name": "stderr",
     "output_type": "stream",
     "text": [
      "  0%|          | 0/38 [00:00<?, ?it/s]"
     ]
    },
    {
     "name": "stdout",
     "output_type": "stream",
     "text": [
      "Lowest validation loss: 72.2814\n"
     ]
    },
    {
     "name": "stderr",
     "output_type": "stream",
     "text": [
      " 34%|███▍      | 13/38 [00:00<00:01, 14.38it/s]"
     ]
    },
    {
     "name": "stdout",
     "output_type": "stream",
     "text": [
      "Epoch: 109 (10/38)\n",
      "\tData load time: 0.139 sec\n",
      "\tGeneration time: 0.149 sec\n",
      "\tBackprop time: 0.169 sec\n",
      "\tLog probability: -46.7146 (avg -20.5684)\n",
      "\tKL: 8.9198 (avg 8.5415)\n",
      "\tLoss: 135.9126 (avg 105.9832)\n"
     ]
    },
    {
     "name": "stderr",
     "output_type": "stream",
     "text": [
      " 66%|██████▌   | 25/38 [00:01<00:00, 21.67it/s]"
     ]
    },
    {
     "name": "stdout",
     "output_type": "stream",
     "text": [
      "Epoch: 109 (20/38)\n",
      "\tData load time: 0.139 sec\n",
      "\tGeneration time: 0.149 sec\n",
      "\tBackprop time: 0.169 sec\n",
      "\tLog probability: -18.2005 (avg -17.6621)\n",
      "\tKL: 8.9580 (avg 8.2561)\n",
      "\tLoss: 107.7806 (avg 100.2229)\n"
     ]
    },
    {
     "name": "stderr",
     "output_type": "stream",
     "text": [
      " 89%|████████▉ | 34/38 [00:01<00:00, 24.20it/s]"
     ]
    },
    {
     "name": "stdout",
     "output_type": "stream",
     "text": [
      "Epoch: 109 (30/38)\n",
      "\tData load time: 0.139 sec\n",
      "\tGeneration time: 0.149 sec\n",
      "\tBackprop time: 0.169 sec\n",
      "\tLog probability: -8.8248 (avg -16.4177)\n",
      "\tKL: 8.4848 (avg 8.2207)\n",
      "\tLoss: 93.6724 (avg 98.6252)\n"
     ]
    },
    {
     "name": "stderr",
     "output_type": "stream",
     "text": [
      "100%|██████████| 38/38 [00:01<00:00, 23.49it/s]\n",
      "100%|██████████| 10/10 [00:00<00:00, 30.41it/s]\n",
      "  0%|          | 0/38 [00:00<?, ?it/s]"
     ]
    },
    {
     "name": "stdout",
     "output_type": "stream",
     "text": [
      "Epoch: 109 (10/10)\n",
      "\tData load time: 0.140 sec\n",
      "\tGeneration time: 0.148 sec\n",
      "\tLog probability: -4.4515 (avg -6.1030)\n",
      "\tKL: 4.6171 (avg 7.7198)\n",
      "\tLoss: 50.6226 (avg 83.3011)\n",
      "Lowest validation loss: 72.2814\n"
     ]
    },
    {
     "name": "stderr",
     "output_type": "stream",
     "text": [
      " 34%|███▍      | 13/38 [00:00<00:01, 14.55it/s]"
     ]
    },
    {
     "name": "stdout",
     "output_type": "stream",
     "text": [
      "Epoch: 110 (10/38)\n",
      "\tData load time: 0.135 sec\n",
      "\tGeneration time: 0.143 sec\n",
      "\tBackprop time: 0.165 sec\n",
      "\tLog probability: -15.5245 (avg -12.5099)\n",
      "\tKL: 6.5571 (avg 7.8146)\n",
      "\tLoss: 81.0953 (avg 90.6558)\n"
     ]
    },
    {
     "name": "stderr",
     "output_type": "stream",
     "text": [
      " 66%|██████▌   | 25/38 [00:01<00:00, 21.76it/s]"
     ]
    },
    {
     "name": "stdout",
     "output_type": "stream",
     "text": [
      "Epoch: 110 (20/38)\n",
      "\tData load time: 0.135 sec\n",
      "\tGeneration time: 0.143 sec\n",
      "\tBackprop time: 0.165 sec\n",
      "\tLog probability: -8.8121 (avg -13.4662)\n",
      "\tKL: 6.1067 (avg 8.0574)\n",
      "\tLoss: 69.8793 (avg 94.0405)\n"
     ]
    },
    {
     "name": "stderr",
     "output_type": "stream",
     "text": [
      " 89%|████████▉ | 34/38 [00:01<00:00, 24.27it/s]"
     ]
    },
    {
     "name": "stdout",
     "output_type": "stream",
     "text": [
      "Epoch: 110 (30/38)\n",
      "\tData load time: 0.135 sec\n",
      "\tGeneration time: 0.143 sec\n",
      "\tBackprop time: 0.165 sec\n",
      "\tLog probability: -14.8722 (avg -13.9513)\n",
      "\tKL: 7.5966 (avg 7.9032)\n",
      "\tLoss: 90.8386 (avg 92.9830)\n"
     ]
    },
    {
     "name": "stderr",
     "output_type": "stream",
     "text": [
      "100%|██████████| 38/38 [00:01<00:00, 23.53it/s]\n",
      "100%|██████████| 10/10 [00:00<00:00, 30.19it/s]\n",
      "  0%|          | 0/38 [00:00<?, ?it/s]"
     ]
    },
    {
     "name": "stdout",
     "output_type": "stream",
     "text": [
      "Epoch: 110 (10/10)\n",
      "\tData load time: 0.138 sec\n",
      "\tGeneration time: 0.147 sec\n",
      "\tLog probability: -10.2298 (avg -6.4900)\n",
      "\tKL: 11.5848 (avg 7.0901)\n",
      "\tLoss: 126.0780 (avg 77.3909)\n",
      "Lowest validation loss: 72.2814\n"
     ]
    },
    {
     "name": "stderr",
     "output_type": "stream",
     "text": [
      " 34%|███▍      | 13/38 [00:00<00:01, 14.81it/s]"
     ]
    },
    {
     "name": "stdout",
     "output_type": "stream",
     "text": [
      "Epoch: 111 (10/38)\n",
      "\tData load time: 0.128 sec\n",
      "\tGeneration time: 0.140 sec\n",
      "\tBackprop time: 0.161 sec\n",
      "\tLog probability: -22.4653 (avg -15.8862)\n",
      "\tKL: 7.5051 (avg 7.3645)\n",
      "\tLoss: 97.5163 (avg 89.5317)\n"
     ]
    },
    {
     "name": "stderr",
     "output_type": "stream",
     "text": [
      " 66%|██████▌   | 25/38 [00:01<00:00, 21.78it/s]"
     ]
    },
    {
     "name": "stdout",
     "output_type": "stream",
     "text": [
      "Epoch: 111 (20/38)\n",
      "\tData load time: 0.128 sec\n",
      "\tGeneration time: 0.140 sec\n",
      "\tBackprop time: 0.161 sec\n",
      "\tLog probability: -19.5284 (avg -16.2780)\n",
      "\tKL: 9.6459 (avg 7.5836)\n",
      "\tLoss: 115.9877 (avg 92.1141)\n"
     ]
    },
    {
     "name": "stderr",
     "output_type": "stream",
     "text": [
      " 89%|████████▉ | 34/38 [00:01<00:00, 24.28it/s]"
     ]
    },
    {
     "name": "stdout",
     "output_type": "stream",
     "text": [
      "Epoch: 111 (30/38)\n",
      "\tData load time: 0.128 sec\n",
      "\tGeneration time: 0.140 sec\n",
      "\tBackprop time: 0.161 sec\n",
      "\tLog probability: -22.4984 (avg -15.4877)\n",
      "\tKL: 9.7677 (avg 7.6316)\n",
      "\tLoss: 120.1749 (avg 91.8038)\n"
     ]
    },
    {
     "name": "stderr",
     "output_type": "stream",
     "text": [
      "100%|██████████| 38/38 [00:01<00:00, 23.59it/s]\n",
      "100%|██████████| 10/10 [00:00<00:00, 30.79it/s]\n",
      "  0%|          | 0/38 [00:00<?, ?it/s]"
     ]
    },
    {
     "name": "stdout",
     "output_type": "stream",
     "text": [
      "Epoch: 111 (10/10)\n",
      "\tData load time: 0.134 sec\n",
      "\tGeneration time: 0.140 sec\n",
      "\tLog probability: -5.0918 (avg -5.6039)\n",
      "\tKL: 6.4082 (avg 7.1185)\n",
      "\tLoss: 69.1737 (avg 76.7889)\n",
      "Lowest validation loss: 72.2814\n"
     ]
    },
    {
     "name": "stderr",
     "output_type": "stream",
     "text": [
      " 34%|███▍      | 13/38 [00:00<00:01, 14.34it/s]"
     ]
    },
    {
     "name": "stdout",
     "output_type": "stream",
     "text": [
      "Epoch: 112 (10/38)\n",
      "\tData load time: 0.139 sec\n",
      "\tGeneration time: 0.150 sec\n",
      "\tBackprop time: 0.170 sec\n",
      "\tLog probability: -12.4819 (avg -17.1871)\n",
      "\tKL: 6.4142 (avg 7.6745)\n",
      "\tLoss: 76.6242 (avg 93.9325)\n"
     ]
    },
    {
     "name": "stderr",
     "output_type": "stream",
     "text": [
      " 66%|██████▌   | 25/38 [00:01<00:00, 21.61it/s]"
     ]
    },
    {
     "name": "stdout",
     "output_type": "stream",
     "text": [
      "Epoch: 112 (20/38)\n",
      "\tData load time: 0.139 sec\n",
      "\tGeneration time: 0.150 sec\n",
      "\tBackprop time: 0.170 sec\n",
      "\tLog probability: -9.8531 (avg -15.3025)\n",
      "\tKL: 6.2636 (avg 7.9866)\n",
      "\tLoss: 72.4893 (avg 95.1686)\n"
     ]
    },
    {
     "name": "stderr",
     "output_type": "stream",
     "text": [
      " 89%|████████▉ | 34/38 [00:01<00:00, 24.20it/s]"
     ]
    },
    {
     "name": "stdout",
     "output_type": "stream",
     "text": [
      "Epoch: 112 (30/38)\n",
      "\tData load time: 0.139 sec\n",
      "\tGeneration time: 0.150 sec\n",
      "\tBackprop time: 0.170 sec\n",
      "\tLog probability: -13.3085 (avg -15.0598)\n",
      "\tKL: 8.0784 (avg 7.9658)\n",
      "\tLoss: 94.0922 (avg 94.7183)\n"
     ]
    },
    {
     "name": "stderr",
     "output_type": "stream",
     "text": [
      "100%|██████████| 38/38 [00:01<00:00, 23.44it/s]\n",
      "100%|██████████| 10/10 [00:00<00:00, 29.93it/s]\n",
      "  0%|          | 0/38 [00:00<?, ?it/s]"
     ]
    },
    {
     "name": "stdout",
     "output_type": "stream",
     "text": [
      "Epoch: 112 (10/10)\n",
      "\tData load time: 0.141 sec\n",
      "\tGeneration time: 0.149 sec\n",
      "\tLog probability: -11.5385 (avg -24.3988)\n",
      "\tKL: 7.9487 (avg 7.3961)\n",
      "\tLoss: 91.0251 (avg 98.3603)\n",
      "Lowest validation loss: 72.2814\n"
     ]
    },
    {
     "name": "stderr",
     "output_type": "stream",
     "text": [
      " 34%|███▍      | 13/38 [00:00<00:01, 13.89it/s]"
     ]
    },
    {
     "name": "stdout",
     "output_type": "stream",
     "text": [
      "Epoch: 113 (10/38)\n",
      "\tData load time: 0.147 sec\n",
      "\tGeneration time: 0.156 sec\n",
      "\tBackprop time: 0.178 sec\n",
      "\tLog probability: -22.6664 (avg -11.6899)\n",
      "\tKL: 10.6475 (avg 7.5132)\n",
      "\tLoss: 129.1415 (avg 86.8221)\n"
     ]
    },
    {
     "name": "stderr",
     "output_type": "stream",
     "text": [
      " 66%|██████▌   | 25/38 [00:01<00:00, 21.28it/s]"
     ]
    },
    {
     "name": "stdout",
     "output_type": "stream",
     "text": [
      "Epoch: 113 (20/38)\n",
      "\tData load time: 0.147 sec\n",
      "\tGeneration time: 0.156 sec\n",
      "\tBackprop time: 0.178 sec\n",
      "\tLog probability: -5.5361 (avg -11.3516)\n",
      "\tKL: 6.7608 (avg 7.6298)\n",
      "\tLoss: 73.1436 (avg 87.6492)\n"
     ]
    },
    {
     "name": "stderr",
     "output_type": "stream",
     "text": [
      " 89%|████████▉ | 34/38 [00:01<00:00, 24.06it/s]"
     ]
    },
    {
     "name": "stdout",
     "output_type": "stream",
     "text": [
      "Epoch: 113 (30/38)\n",
      "\tData load time: 0.147 sec\n",
      "\tGeneration time: 0.156 sec\n",
      "\tBackprop time: 0.178 sec\n",
      "\tLog probability: -16.5796 (avg -11.4137)\n",
      "\tKL: 7.5726 (avg 7.6742)\n",
      "\tLoss: 92.3056 (avg 88.1553)\n"
     ]
    },
    {
     "name": "stderr",
     "output_type": "stream",
     "text": [
      "100%|██████████| 38/38 [00:01<00:00, 23.24it/s]\n",
      "100%|██████████| 10/10 [00:00<00:00, 30.76it/s]\n",
      "  0%|          | 0/38 [00:00<?, ?it/s]"
     ]
    },
    {
     "name": "stdout",
     "output_type": "stream",
     "text": [
      "Epoch: 113 (10/10)\n",
      "\tData load time: 0.137 sec\n",
      "\tGeneration time: 0.145 sec\n",
      "\tLog probability: -6.3529 (avg -6.7173)\n",
      "\tKL: 6.2844 (avg 6.8361)\n",
      "\tLoss: 69.1966 (avg 75.0782)\n",
      "Lowest validation loss: 72.2814\n"
     ]
    },
    {
     "name": "stderr",
     "output_type": "stream",
     "text": [
      " 34%|███▍      | 13/38 [00:00<00:01, 14.33it/s]"
     ]
    },
    {
     "name": "stdout",
     "output_type": "stream",
     "text": [
      "Epoch: 114 (10/38)\n",
      "\tData load time: 0.140 sec\n",
      "\tGeneration time: 0.147 sec\n",
      "\tBackprop time: 0.169 sec\n",
      "\tLog probability: -21.8983 (avg -13.2210)\n",
      "\tKL: 10.1647 (avg 8.2295)\n",
      "\tLoss: 123.5458 (avg 95.5163)\n"
     ]
    },
    {
     "name": "stderr",
     "output_type": "stream",
     "text": [
      " 66%|██████▌   | 25/38 [00:01<00:00, 21.68it/s]"
     ]
    },
    {
     "name": "stdout",
     "output_type": "stream",
     "text": [
      "Epoch: 114 (20/38)\n",
      "\tData load time: 0.140 sec\n",
      "\tGeneration time: 0.147 sec\n",
      "\tBackprop time: 0.169 sec\n",
      "\tLog probability: -11.1424 (avg -13.4293)\n",
      "\tKL: 7.1980 (avg 8.2345)\n",
      "\tLoss: 83.1228 (avg 95.7742)\n"
     ]
    },
    {
     "name": "stderr",
     "output_type": "stream",
     "text": [
      " 89%|████████▉ | 34/38 [00:01<00:00, 24.23it/s]"
     ]
    },
    {
     "name": "stdout",
     "output_type": "stream",
     "text": [
      "Epoch: 114 (30/38)\n",
      "\tData load time: 0.140 sec\n",
      "\tGeneration time: 0.147 sec\n",
      "\tBackprop time: 0.169 sec\n",
      "\tLog probability: -11.1218 (avg -16.1307)\n",
      "\tKL: 8.4953 (avg 8.4579)\n",
      "\tLoss: 96.0743 (avg 100.7098)\n"
     ]
    },
    {
     "name": "stderr",
     "output_type": "stream",
     "text": [
      "100%|██████████| 38/38 [00:01<00:00, 23.46it/s]\n",
      "100%|██████████| 10/10 [00:00<00:00, 30.52it/s]\n",
      "  0%|          | 0/38 [00:00<?, ?it/s]"
     ]
    },
    {
     "name": "stdout",
     "output_type": "stream",
     "text": [
      "Epoch: 114 (10/10)\n",
      "\tData load time: 0.134 sec\n",
      "\tGeneration time: 0.144 sec\n",
      "\tLog probability: -5.7534 (avg -6.8636)\n",
      "\tKL: 5.3487 (avg 7.2199)\n",
      "\tLoss: 59.2407 (avg 79.0631)\n",
      "Lowest validation loss: 72.2814\n"
     ]
    },
    {
     "name": "stderr",
     "output_type": "stream",
     "text": [
      " 34%|███▍      | 13/38 [00:00<00:01, 14.79it/s]"
     ]
    },
    {
     "name": "stdout",
     "output_type": "stream",
     "text": [
      "Epoch: 115 (10/38)\n",
      "\tData load time: 0.116 sec\n",
      "\tGeneration time: 0.128 sec\n",
      "\tBackprop time: 0.162 sec\n",
      "\tLog probability: -37.0160 (avg -15.3672)\n",
      "\tKL: 11.4390 (avg 8.8779)\n",
      "\tLoss: 151.4058 (avg 104.1458)\n"
     ]
    },
    {
     "name": "stderr",
     "output_type": "stream",
     "text": [
      " 66%|██████▌   | 25/38 [00:01<00:00, 21.89it/s]"
     ]
    },
    {
     "name": "stdout",
     "output_type": "stream",
     "text": [
      "Epoch: 115 (20/38)\n",
      "\tData load time: 0.116 sec\n",
      "\tGeneration time: 0.128 sec\n",
      "\tBackprop time: 0.162 sec\n",
      "\tLog probability: -37.7278 (avg -17.4545)\n",
      "\tKL: 14.8641 (avg 9.7228)\n",
      "\tLoss: 186.3685 (avg 114.6823)\n"
     ]
    },
    {
     "name": "stderr",
     "output_type": "stream",
     "text": [
      " 89%|████████▉ | 34/38 [00:01<00:00, 24.34it/s]"
     ]
    },
    {
     "name": "stdout",
     "output_type": "stream",
     "text": [
      "Epoch: 115 (30/38)\n",
      "\tData load time: 0.116 sec\n",
      "\tGeneration time: 0.128 sec\n",
      "\tBackprop time: 0.162 sec\n",
      "\tLog probability: -21.8908 (avg -15.9182)\n",
      "\tKL: 8.4213 (avg 9.4892)\n",
      "\tLoss: 106.1041 (avg 110.8105)\n"
     ]
    },
    {
     "name": "stderr",
     "output_type": "stream",
     "text": [
      "100%|██████████| 38/38 [00:01<00:00, 23.73it/s]\n",
      "100%|██████████| 10/10 [00:00<00:00, 30.94it/s]\n",
      "  0%|          | 0/38 [00:00<?, ?it/s]"
     ]
    },
    {
     "name": "stdout",
     "output_type": "stream",
     "text": [
      "Epoch: 115 (10/10)\n",
      "\tData load time: 0.135 sec\n",
      "\tGeneration time: 0.144 sec\n",
      "\tLog probability: -8.5715 (avg -7.6458)\n",
      "\tKL: 5.9915 (avg 6.9628)\n",
      "\tLoss: 68.4861 (avg 77.2738)\n",
      "Lowest validation loss: 72.2814\n"
     ]
    },
    {
     "name": "stderr",
     "output_type": "stream",
     "text": [
      " 34%|███▍      | 13/38 [00:00<00:01, 14.50it/s]"
     ]
    },
    {
     "name": "stdout",
     "output_type": "stream",
     "text": [
      "Epoch: 116 (10/38)\n",
      "\tData load time: 0.134 sec\n",
      "\tGeneration time: 0.144 sec\n",
      "\tBackprop time: 0.166 sec\n",
      "\tLog probability: -14.7975 (avg -21.6589)\n",
      "\tKL: 9.6627 (avg 8.4329)\n",
      "\tLoss: 111.4242 (avg 105.9879)\n"
     ]
    },
    {
     "name": "stderr",
     "output_type": "stream",
     "text": [
      " 66%|██████▌   | 25/38 [00:01<00:00, 21.64it/s]"
     ]
    },
    {
     "name": "stdout",
     "output_type": "stream",
     "text": [
      "Epoch: 116 (20/38)\n",
      "\tData load time: 0.134 sec\n",
      "\tGeneration time: 0.144 sec\n",
      "\tBackprop time: 0.166 sec\n",
      "\tLog probability: -16.4447 (avg -17.8373)\n",
      "\tKL: 6.9102 (avg 8.6182)\n",
      "\tLoss: 85.5467 (avg 104.0193)\n"
     ]
    },
    {
     "name": "stderr",
     "output_type": "stream",
     "text": [
      " 89%|████████▉ | 34/38 [00:01<00:00, 24.08it/s]"
     ]
    },
    {
     "name": "stdout",
     "output_type": "stream",
     "text": [
      "Epoch: 116 (30/38)\n",
      "\tData load time: 0.134 sec\n",
      "\tGeneration time: 0.144 sec\n",
      "\tBackprop time: 0.166 sec\n",
      "\tLog probability: -28.7244 (avg -17.0212)\n",
      "\tKL: 11.8856 (avg 8.5704)\n",
      "\tLoss: 147.5803 (avg 102.7249)\n"
     ]
    },
    {
     "name": "stderr",
     "output_type": "stream",
     "text": [
      "100%|██████████| 38/38 [00:01<00:00, 23.42it/s]\n",
      "100%|██████████| 10/10 [00:00<00:00, 30.67it/s]\n",
      "  0%|          | 0/38 [00:00<?, ?it/s]"
     ]
    },
    {
     "name": "stdout",
     "output_type": "stream",
     "text": [
      "Epoch: 116 (10/10)\n",
      "\tData load time: 0.139 sec\n",
      "\tGeneration time: 0.145 sec\n",
      "\tLog probability: -4.3349 (avg -5.7637)\n",
      "\tKL: 9.7590 (avg 7.9010)\n",
      "\tLoss: 101.9246 (avg 84.7737)\n",
      "Lowest validation loss: 72.2814\n"
     ]
    },
    {
     "name": "stderr",
     "output_type": "stream",
     "text": [
      " 34%|███▍      | 13/38 [00:00<00:01, 14.39it/s]"
     ]
    },
    {
     "name": "stdout",
     "output_type": "stream",
     "text": [
      "Epoch: 117 (10/38)\n",
      "\tData load time: 0.138 sec\n",
      "\tGeneration time: 0.149 sec\n",
      "\tBackprop time: 0.168 sec\n",
      "\tLog probability: -14.1847 (avg -15.1384)\n",
      "\tKL: 7.0392 (avg 8.5295)\n",
      "\tLoss: 84.5766 (avg 100.4331)\n"
     ]
    },
    {
     "name": "stderr",
     "output_type": "stream",
     "text": [
      " 66%|██████▌   | 25/38 [00:01<00:00, 21.56it/s]"
     ]
    },
    {
     "name": "stdout",
     "output_type": "stream",
     "text": [
      "Epoch: 117 (20/38)\n",
      "\tData load time: 0.138 sec\n",
      "\tGeneration time: 0.149 sec\n",
      "\tBackprop time: 0.168 sec\n",
      "\tLog probability: -15.0972 (avg -14.3689)\n",
      "\tKL: 8.1851 (avg 8.2925)\n",
      "\tLoss: 96.9486 (avg 97.2944)\n"
     ]
    },
    {
     "name": "stderr",
     "output_type": "stream",
     "text": [
      " 89%|████████▉ | 34/38 [00:01<00:00, 24.20it/s]"
     ]
    },
    {
     "name": "stdout",
     "output_type": "stream",
     "text": [
      "Epoch: 117 (30/38)\n",
      "\tData load time: 0.138 sec\n",
      "\tGeneration time: 0.149 sec\n",
      "\tBackprop time: 0.168 sec\n",
      "\tLog probability: -14.9642 (avg -16.5956)\n",
      "\tKL: 7.7052 (avg 8.9229)\n",
      "\tLoss: 92.0161 (avg 105.8248)\n"
     ]
    },
    {
     "name": "stderr",
     "output_type": "stream",
     "text": [
      "100%|██████████| 38/38 [00:01<00:00, 23.44it/s]\n",
      "100%|██████████| 10/10 [00:00<00:00, 30.43it/s]\n",
      "  0%|          | 0/38 [00:00<?, ?it/s]"
     ]
    },
    {
     "name": "stdout",
     "output_type": "stream",
     "text": [
      "Epoch: 117 (10/10)\n",
      "\tData load time: 0.138 sec\n",
      "\tGeneration time: 0.145 sec\n",
      "\tLog probability: -42.1759 (avg -18.7206)\n",
      "\tKL: 15.8886 (avg 10.5767)\n",
      "\tLoss: 201.0615 (avg 124.4881)\n",
      "Lowest validation loss: 72.2814\n"
     ]
    },
    {
     "name": "stderr",
     "output_type": "stream",
     "text": [
      " 34%|███▍      | 13/38 [00:00<00:01, 14.55it/s]"
     ]
    },
    {
     "name": "stdout",
     "output_type": "stream",
     "text": [
      "Epoch: 118 (10/38)\n",
      "\tData load time: 0.135 sec\n",
      "\tGeneration time: 0.146 sec\n",
      "\tBackprop time: 0.166 sec\n",
      "\tLog probability: -14.8947 (avg -19.6701)\n",
      "\tKL: 8.9343 (avg 10.4899)\n",
      "\tLoss: 104.2382 (avg 124.5691)\n"
     ]
    },
    {
     "name": "stderr",
     "output_type": "stream",
     "text": [
      " 66%|██████▌   | 25/38 [00:01<00:00, 21.78it/s]"
     ]
    },
    {
     "name": "stdout",
     "output_type": "stream",
     "text": [
      "Epoch: 118 (20/38)\n",
      "\tData load time: 0.135 sec\n",
      "\tGeneration time: 0.146 sec\n",
      "\tBackprop time: 0.166 sec\n",
      "\tLog probability: -29.6474 (avg -19.5758)\n",
      "\tKL: 10.0391 (avg 10.1953)\n",
      "\tLoss: 130.0385 (avg 121.5284)\n"
     ]
    },
    {
     "name": "stderr",
     "output_type": "stream",
     "text": [
      " 89%|████████▉ | 34/38 [00:01<00:00, 24.24it/s]"
     ]
    },
    {
     "name": "stdout",
     "output_type": "stream",
     "text": [
      "Epoch: 118 (30/38)\n",
      "\tData load time: 0.135 sec\n",
      "\tGeneration time: 0.146 sec\n",
      "\tBackprop time: 0.166 sec\n",
      "\tLog probability: -19.5894 (avg -19.2873)\n",
      "\tKL: 7.6991 (avg 9.8283)\n",
      "\tLoss: 96.5800 (avg 117.5699)\n"
     ]
    },
    {
     "name": "stderr",
     "output_type": "stream",
     "text": [
      "100%|██████████| 38/38 [00:01<00:00, 23.55it/s]\n",
      "100%|██████████| 10/10 [00:00<00:00, 30.42it/s]\n",
      "  0%|          | 0/38 [00:00<?, ?it/s]"
     ]
    },
    {
     "name": "stdout",
     "output_type": "stream",
     "text": [
      "Epoch: 118 (10/10)\n",
      "\tData load time: 0.135 sec\n",
      "\tGeneration time: 0.143 sec\n",
      "\tLog probability: -18.4627 (avg -26.9507)\n",
      "\tKL: 9.0204 (avg 9.5091)\n",
      "\tLoss: 108.6668 (avg 122.0419)\n",
      "Lowest validation loss: 72.2814\n"
     ]
    },
    {
     "name": "stderr",
     "output_type": "stream",
     "text": [
      " 34%|███▍      | 13/38 [00:00<00:01, 14.64it/s]"
     ]
    },
    {
     "name": "stdout",
     "output_type": "stream",
     "text": [
      "Epoch: 119 (10/38)\n",
      "\tData load time: 0.131 sec\n",
      "\tGeneration time: 0.140 sec\n",
      "\tBackprop time: 0.162 sec\n",
      "\tLog probability: -14.8529 (avg -23.2413)\n",
      "\tKL: 8.9112 (avg 10.9057)\n",
      "\tLoss: 103.9649 (avg 132.2981)\n"
     ]
    },
    {
     "name": "stderr",
     "output_type": "stream",
     "text": [
      " 66%|██████▌   | 25/38 [00:01<00:00, 21.81it/s]"
     ]
    },
    {
     "name": "stdout",
     "output_type": "stream",
     "text": [
      "Epoch: 119 (20/38)\n",
      "\tData load time: 0.131 sec\n",
      "\tGeneration time: 0.140 sec\n",
      "\tBackprop time: 0.162 sec\n",
      "\tLog probability: -12.1171 (avg -25.0814)\n",
      "\tKL: 9.3921 (avg 9.9372)\n",
      "\tLoss: 106.0376 (avg 124.4530)\n"
     ]
    },
    {
     "name": "stderr",
     "output_type": "stream",
     "text": [
      " 89%|████████▉ | 34/38 [00:01<00:00, 24.32it/s]"
     ]
    },
    {
     "name": "stdout",
     "output_type": "stream",
     "text": [
      "Epoch: 119 (30/38)\n",
      "\tData load time: 0.131 sec\n",
      "\tGeneration time: 0.140 sec\n",
      "\tBackprop time: 0.162 sec\n",
      "\tLog probability: -21.2344 (avg -22.2616)\n",
      "\tKL: 8.8077 (avg 9.6631)\n",
      "\tLoss: 109.3115 (avg 118.8930)\n"
     ]
    },
    {
     "name": "stderr",
     "output_type": "stream",
     "text": [
      "100%|██████████| 38/38 [00:01<00:00, 23.45it/s]\n",
      "100%|██████████| 10/10 [00:00<00:00, 30.70it/s]\n",
      "  0%|          | 0/38 [00:00<?, ?it/s]"
     ]
    },
    {
     "name": "stdout",
     "output_type": "stream",
     "text": [
      "Epoch: 119 (10/10)\n",
      "\tData load time: 0.134 sec\n",
      "\tGeneration time: 0.141 sec\n",
      "\tLog probability: -4.3794 (avg -6.2906)\n",
      "\tKL: 20.4714 (avg 16.4356)\n",
      "\tLoss: 209.0930 (avg 170.6469)\n",
      "Lowest validation loss: 72.2814\n"
     ]
    },
    {
     "name": "stderr",
     "output_type": "stream",
     "text": [
      " 34%|███▍      | 13/38 [00:00<00:01, 14.20it/s]"
     ]
    },
    {
     "name": "stdout",
     "output_type": "stream",
     "text": [
      "Epoch: 120 (10/38)\n",
      "\tData load time: 0.143 sec\n",
      "\tGeneration time: 0.151 sec\n",
      "\tBackprop time: 0.174 sec\n",
      "\tLog probability: -17.3107 (avg -21.6215)\n",
      "\tKL: 9.6360 (avg 13.7074)\n",
      "\tLoss: 113.6706 (avg 158.6956)\n"
     ]
    },
    {
     "name": "stderr",
     "output_type": "stream",
     "text": [
      " 66%|██████▌   | 25/38 [00:01<00:00, 21.58it/s]"
     ]
    },
    {
     "name": "stdout",
     "output_type": "stream",
     "text": [
      "Epoch: 120 (20/38)\n",
      "\tData load time: 0.143 sec\n",
      "\tGeneration time: 0.151 sec\n",
      "\tBackprop time: 0.174 sec\n",
      "\tLog probability: -20.6094 (avg -23.1530)\n",
      "\tKL: 10.6660 (avg 12.5460)\n",
      "\tLoss: 127.2694 (avg 148.6127)\n"
     ]
    },
    {
     "name": "stderr",
     "output_type": "stream",
     "text": [
      " 89%|████████▉ | 34/38 [00:01<00:00, 24.18it/s]"
     ]
    },
    {
     "name": "stdout",
     "output_type": "stream",
     "text": [
      "Epoch: 120 (30/38)\n",
      "\tData load time: 0.143 sec\n",
      "\tGeneration time: 0.151 sec\n",
      "\tBackprop time: 0.174 sec\n",
      "\tLog probability: -9.7995 (avg -22.2624)\n",
      "\tKL: 8.9267 (avg 11.7377)\n",
      "\tLoss: 99.0669 (avg 139.6397)\n"
     ]
    },
    {
     "name": "stderr",
     "output_type": "stream",
     "text": [
      "100%|██████████| 38/38 [00:01<00:00, 23.41it/s]\n",
      "100%|██████████| 10/10 [00:00<00:00, 30.73it/s]\n",
      "  0%|          | 0/38 [00:00<?, ?it/s]"
     ]
    },
    {
     "name": "stdout",
     "output_type": "stream",
     "text": [
      "Epoch: 120 (10/10)\n",
      "\tData load time: 0.132 sec\n",
      "\tGeneration time: 0.143 sec\n",
      "\tLog probability: -11.9517 (avg -9.1656)\n",
      "\tKL: 8.2783 (avg 7.5085)\n",
      "\tLoss: 94.7347 (avg 84.2507)\n",
      "Lowest validation loss: 72.2814\n"
     ]
    },
    {
     "name": "stderr",
     "output_type": "stream",
     "text": [
      " 34%|███▍      | 13/38 [00:00<00:01, 14.44it/s]"
     ]
    },
    {
     "name": "stdout",
     "output_type": "stream",
     "text": [
      "Epoch: 121 (10/38)\n",
      "\tData load time: 0.138 sec\n",
      "\tGeneration time: 0.146 sec\n",
      "\tBackprop time: 0.167 sec\n",
      "\tLog probability: -20.1386 (avg -22.9041)\n",
      "\tKL: 8.9135 (avg 10.4152)\n",
      "\tLoss: 109.2734 (avg 127.0563)\n"
     ]
    },
    {
     "name": "stderr",
     "output_type": "stream",
     "text": [
      " 66%|██████▌   | 25/38 [00:01<00:00, 21.71it/s]"
     ]
    },
    {
     "name": "stdout",
     "output_type": "stream",
     "text": [
      "Epoch: 121 (20/38)\n",
      "\tData load time: 0.138 sec\n",
      "\tGeneration time: 0.146 sec\n",
      "\tBackprop time: 0.167 sec\n",
      "\tLog probability: -19.6496 (avg -24.9259)\n",
      "\tKL: 8.3949 (avg 9.7039)\n",
      "\tLoss: 103.5982 (avg 121.9644)\n"
     ]
    },
    {
     "name": "stderr",
     "output_type": "stream",
     "text": [
      " 89%|████████▉ | 34/38 [00:01<00:00, 24.19it/s]"
     ]
    },
    {
     "name": "stdout",
     "output_type": "stream",
     "text": [
      "Epoch: 121 (30/38)\n",
      "\tData load time: 0.138 sec\n",
      "\tGeneration time: 0.146 sec\n",
      "\tBackprop time: 0.167 sec\n",
      "\tLog probability: -19.3170 (avg -23.4394)\n",
      "\tKL: 6.4398 (avg 9.3490)\n",
      "\tLoss: 83.7150 (avg 116.9289)\n"
     ]
    },
    {
     "name": "stderr",
     "output_type": "stream",
     "text": [
      "100%|██████████| 38/38 [00:01<00:00, 23.41it/s]\n",
      "100%|██████████| 10/10 [00:00<00:00, 30.12it/s]\n",
      "  0%|          | 0/38 [00:00<?, ?it/s]"
     ]
    },
    {
     "name": "stdout",
     "output_type": "stream",
     "text": [
      "Epoch: 121 (10/10)\n",
      "\tData load time: 0.142 sec\n",
      "\tGeneration time: 0.148 sec\n",
      "\tLog probability: -20.2692 (avg -21.0954)\n",
      "\tKL: 6.1300 (avg 7.9346)\n",
      "\tLoss: 81.5696 (avg 100.4416)\n",
      "Lowest validation loss: 72.2814\n"
     ]
    },
    {
     "name": "stderr",
     "output_type": "stream",
     "text": [
      " 34%|███▍      | 13/38 [00:00<00:01, 14.32it/s]"
     ]
    },
    {
     "name": "stdout",
     "output_type": "stream",
     "text": [
      "Epoch: 122 (10/38)\n",
      "\tData load time: 0.139 sec\n",
      "\tGeneration time: 0.147 sec\n",
      "\tBackprop time: 0.168 sec\n",
      "\tLog probability: -9.9034 (avg -27.0059)\n",
      "\tKL: 8.0069 (avg 9.7686)\n",
      "\tLoss: 89.9728 (avg 124.6923)\n"
     ]
    },
    {
     "name": "stderr",
     "output_type": "stream",
     "text": [
      " 66%|██████▌   | 25/38 [00:01<00:00, 21.46it/s]"
     ]
    },
    {
     "name": "stdout",
     "output_type": "stream",
     "text": [
      "Epoch: 122 (20/38)\n",
      "\tData load time: 0.139 sec\n",
      "\tGeneration time: 0.147 sec\n",
      "\tBackprop time: 0.168 sec\n",
      "\tLog probability: -19.2889 (avg -23.6679)\n",
      "\tKL: 8.5267 (avg 8.9677)\n",
      "\tLoss: 104.5560 (avg 113.3453)\n"
     ]
    },
    {
     "name": "stderr",
     "output_type": "stream",
     "text": [
      " 89%|████████▉ | 34/38 [00:01<00:00, 24.05it/s]"
     ]
    },
    {
     "name": "stdout",
     "output_type": "stream",
     "text": [
      "Epoch: 122 (30/38)\n",
      "\tData load time: 0.139 sec\n",
      "\tGeneration time: 0.147 sec\n",
      "\tBackprop time: 0.168 sec\n",
      "\tLog probability: -12.5385 (avg -21.7533)\n",
      "\tKL: 8.4134 (avg 8.8822)\n",
      "\tLoss: 96.6722 (avg 110.5750)\n"
     ]
    },
    {
     "name": "stderr",
     "output_type": "stream",
     "text": [
      "100%|██████████| 38/38 [00:01<00:00, 23.28it/s]\n",
      "100%|██████████| 10/10 [00:00<00:00, 31.93it/s]\n",
      "  0%|          | 0/38 [00:00<?, ?it/s]"
     ]
    },
    {
     "name": "stdout",
     "output_type": "stream",
     "text": [
      "Epoch: 122 (10/10)\n",
      "\tData load time: 0.119 sec\n",
      "\tGeneration time: 0.129 sec\n",
      "\tLog probability: -9.1344 (avg -15.2564)\n",
      "\tKL: 14.2234 (avg 18.6412)\n",
      "\tLoss: 151.3683 (avg 201.6684)\n",
      "Lowest validation loss: 72.2814\n"
     ]
    },
    {
     "name": "stderr",
     "output_type": "stream",
     "text": [
      " 34%|███▍      | 13/38 [00:00<00:01, 14.67it/s]"
     ]
    },
    {
     "name": "stdout",
     "output_type": "stream",
     "text": [
      "Epoch: 123 (10/38)\n",
      "\tData load time: 0.134 sec\n",
      "\tGeneration time: 0.143 sec\n",
      "\tBackprop time: 0.164 sec\n",
      "\tLog probability: -13.1216 (avg -18.4238)\n",
      "\tKL: 10.8691 (avg 15.0333)\n",
      "\tLoss: 121.8122 (avg 168.7569)\n"
     ]
    },
    {
     "name": "stderr",
     "output_type": "stream",
     "text": [
      " 66%|██████▌   | 25/38 [00:01<00:00, 21.65it/s]"
     ]
    },
    {
     "name": "stdout",
     "output_type": "stream",
     "text": [
      "Epoch: 123 (20/38)\n",
      "\tData load time: 0.134 sec\n",
      "\tGeneration time: 0.143 sec\n",
      "\tBackprop time: 0.164 sec\n",
      "\tLog probability: -9.5644 (avg -17.8974)\n",
      "\tKL: 11.4256 (avg 13.3349)\n",
      "\tLoss: 123.8207 (avg 151.2462)\n"
     ]
    },
    {
     "name": "stderr",
     "output_type": "stream",
     "text": [
      " 89%|████████▉ | 34/38 [00:01<00:00, 24.23it/s]"
     ]
    },
    {
     "name": "stdout",
     "output_type": "stream",
     "text": [
      "Epoch: 123 (30/38)\n",
      "\tData load time: 0.134 sec\n",
      "\tGeneration time: 0.143 sec\n",
      "\tBackprop time: 0.164 sec\n",
      "\tLog probability: -17.5628 (avg -20.2000)\n",
      "\tKL: 9.0836 (avg 12.0460)\n",
      "\tLoss: 108.3985 (avg 140.6597)\n"
     ]
    },
    {
     "name": "stderr",
     "output_type": "stream",
     "text": [
      "100%|██████████| 38/38 [00:01<00:00, 23.50it/s]\n",
      "100%|██████████| 10/10 [00:00<00:00, 30.50it/s]\n",
      "  0%|          | 0/38 [00:00<?, ?it/s]"
     ]
    },
    {
     "name": "stdout",
     "output_type": "stream",
     "text": [
      "Epoch: 123 (10/10)\n",
      "\tData load time: 0.137 sec\n",
      "\tGeneration time: 0.145 sec\n",
      "\tLog probability: -5.0737 (avg -8.8311)\n",
      "\tKL: 9.9195 (avg 13.5098)\n",
      "\tLoss: 104.2687 (avg 143.9294)\n",
      "Lowest validation loss: 72.2814\n"
     ]
    },
    {
     "name": "stderr",
     "output_type": "stream",
     "text": [
      " 34%|███▍      | 13/38 [00:00<00:01, 13.99it/s]"
     ]
    },
    {
     "name": "stdout",
     "output_type": "stream",
     "text": [
      "Epoch: 124 (10/38)\n",
      "\tData load time: 0.145 sec\n",
      "\tGeneration time: 0.157 sec\n",
      "\tBackprop time: 0.177 sec\n",
      "\tLog probability: -13.1706 (avg -19.0134)\n",
      "\tKL: 11.4230 (avg 12.5199)\n",
      "\tLoss: 127.4003 (avg 144.2127)\n"
     ]
    },
    {
     "name": "stderr",
     "output_type": "stream",
     "text": [
      " 66%|██████▌   | 25/38 [00:01<00:00, 21.42it/s]"
     ]
    },
    {
     "name": "stdout",
     "output_type": "stream",
     "text": [
      "Epoch: 124 (20/38)\n",
      "\tData load time: 0.145 sec\n",
      "\tGeneration time: 0.157 sec\n",
      "\tBackprop time: 0.177 sec\n",
      "\tLog probability: -16.6125 (avg -19.8374)\n",
      "\tKL: 6.9990 (avg 10.6785)\n",
      "\tLoss: 86.6024 (avg 126.6227)\n"
     ]
    },
    {
     "name": "stderr",
     "output_type": "stream",
     "text": [
      " 89%|████████▉ | 34/38 [00:01<00:00, 24.06it/s]"
     ]
    },
    {
     "name": "stdout",
     "output_type": "stream",
     "text": [
      "Epoch: 124 (30/38)\n",
      "\tData load time: 0.145 sec\n",
      "\tGeneration time: 0.157 sec\n",
      "\tBackprop time: 0.177 sec\n",
      "\tLog probability: -30.7946 (avg -20.4371)\n",
      "\tKL: 6.6557 (avg 9.7344)\n",
      "\tLoss: 97.3518 (avg 117.7810)\n"
     ]
    },
    {
     "name": "stderr",
     "output_type": "stream",
     "text": [
      "100%|██████████| 38/38 [00:01<00:00, 23.36it/s]\n",
      "100%|██████████| 10/10 [00:00<00:00, 30.85it/s]\n",
      "  0%|          | 0/38 [00:00<?, ?it/s]"
     ]
    },
    {
     "name": "stdout",
     "output_type": "stream",
     "text": [
      "Epoch: 124 (10/10)\n",
      "\tData load time: 0.134 sec\n",
      "\tGeneration time: 0.142 sec\n",
      "\tLog probability: -7.1881 (avg -8.2286)\n",
      "\tKL: 9.1437 (avg 7.9122)\n",
      "\tLoss: 98.6251 (avg 87.3508)\n",
      "Lowest validation loss: 72.2814\n"
     ]
    },
    {
     "name": "stderr",
     "output_type": "stream",
     "text": [
      " 34%|███▍      | 13/38 [00:00<00:01, 14.44it/s]"
     ]
    },
    {
     "name": "stdout",
     "output_type": "stream",
     "text": [
      "Epoch: 125 (10/38)\n",
      "\tData load time: 0.138 sec\n",
      "\tGeneration time: 0.145 sec\n",
      "\tBackprop time: 0.168 sec\n",
      "\tLog probability: -26.3814 (avg -17.6355)\n",
      "\tKL: 6.5745 (avg 8.5979)\n",
      "\tLoss: 92.1267 (avg 103.6146)\n"
     ]
    },
    {
     "name": "stderr",
     "output_type": "stream",
     "text": [
      " 66%|██████▌   | 25/38 [00:01<00:00, 21.72it/s]"
     ]
    },
    {
     "name": "stdout",
     "output_type": "stream",
     "text": [
      "Epoch: 125 (20/38)\n",
      "\tData load time: 0.138 sec\n",
      "\tGeneration time: 0.145 sec\n",
      "\tBackprop time: 0.168 sec\n",
      "\tLog probability: -16.8497 (avg -17.7411)\n",
      "\tKL: 10.0811 (avg 7.7362)\n",
      "\tLoss: 117.6605 (avg 95.1036)\n"
     ]
    },
    {
     "name": "stderr",
     "output_type": "stream",
     "text": [
      " 89%|████████▉ | 34/38 [00:01<00:00, 24.29it/s]"
     ]
    },
    {
     "name": "stdout",
     "output_type": "stream",
     "text": [
      "Epoch: 125 (30/38)\n",
      "\tData load time: 0.138 sec\n",
      "\tGeneration time: 0.145 sec\n",
      "\tBackprop time: 0.168 sec\n",
      "\tLog probability: -20.0797 (avg -18.4594)\n",
      "\tKL: 7.9468 (avg 7.4789)\n",
      "\tLoss: 99.5481 (avg 93.2488)\n"
     ]
    },
    {
     "name": "stderr",
     "output_type": "stream",
     "text": [
      "100%|██████████| 38/38 [00:01<00:00, 23.50it/s]\n",
      "100%|██████████| 10/10 [00:00<00:00, 30.47it/s]\n",
      "  0%|          | 0/38 [00:00<?, ?it/s]"
     ]
    },
    {
     "name": "stdout",
     "output_type": "stream",
     "text": [
      "Epoch: 125 (10/10)\n",
      "\tData load time: 0.140 sec\n",
      "\tGeneration time: 0.147 sec\n",
      "\tLog probability: -10.6996 (avg -10.9653)\n",
      "\tKL: 6.5551 (avg 6.3402)\n",
      "\tLoss: 76.2504 (avg 74.3673)\n",
      "Lowest validation loss: 72.2814\n"
     ]
    },
    {
     "name": "stderr",
     "output_type": "stream",
     "text": [
      " 34%|███▍      | 13/38 [00:00<00:01, 14.53it/s]"
     ]
    },
    {
     "name": "stdout",
     "output_type": "stream",
     "text": [
      "Epoch: 126 (10/38)\n",
      "\tData load time: 0.132 sec\n",
      "\tGeneration time: 0.142 sec\n",
      "\tBackprop time: 0.166 sec\n",
      "\tLog probability: -12.4400 (avg -13.4048)\n",
      "\tKL: 7.1547 (avg 7.5650)\n",
      "\tLoss: 83.9870 (avg 89.0544)\n"
     ]
    },
    {
     "name": "stderr",
     "output_type": "stream",
     "text": [
      " 66%|██████▌   | 25/38 [00:01<00:00, 21.75it/s]"
     ]
    },
    {
     "name": "stdout",
     "output_type": "stream",
     "text": [
      "Epoch: 126 (20/38)\n",
      "\tData load time: 0.132 sec\n",
      "\tGeneration time: 0.142 sec\n",
      "\tBackprop time: 0.166 sec\n",
      "\tLog probability: -7.6520 (avg -16.9559)\n",
      "\tKL: 7.8130 (avg 8.7338)\n",
      "\tLoss: 85.7823 (avg 104.2941)\n"
     ]
    },
    {
     "name": "stderr",
     "output_type": "stream",
     "text": [
      " 89%|████████▉ | 34/38 [00:01<00:00, 24.27it/s]"
     ]
    },
    {
     "name": "stdout",
     "output_type": "stream",
     "text": [
      "Epoch: 126 (30/38)\n",
      "\tData load time: 0.132 sec\n",
      "\tGeneration time: 0.142 sec\n",
      "\tBackprop time: 0.166 sec\n",
      "\tLog probability: -18.2129 (avg -16.6111)\n",
      "\tKL: 6.2804 (avg 8.1721)\n",
      "\tLoss: 81.0170 (avg 98.3322)\n"
     ]
    },
    {
     "name": "stderr",
     "output_type": "stream",
     "text": [
      "100%|██████████| 38/38 [00:01<00:00, 23.57it/s]\n",
      "100%|██████████| 10/10 [00:00<00:00, 30.08it/s]\n",
      "  0%|          | 0/38 [00:00<?, ?it/s]"
     ]
    },
    {
     "name": "stdout",
     "output_type": "stream",
     "text": [
      "Epoch: 126 (10/10)\n",
      "\tData load time: 0.141 sec\n",
      "\tGeneration time: 0.151 sec\n",
      "\tLog probability: -4.8560 (avg -7.5557)\n",
      "\tKL: 12.1237 (avg 11.9086)\n",
      "\tLoss: 126.0926 (avg 126.6413)\n",
      "Lowest validation loss: 72.2814\n"
     ]
    },
    {
     "name": "stderr",
     "output_type": "stream",
     "text": [
      " 34%|███▍      | 13/38 [00:00<00:01, 14.62it/s]"
     ]
    },
    {
     "name": "stdout",
     "output_type": "stream",
     "text": [
      "Epoch: 127 (10/38)\n",
      "\tData load time: 0.132 sec\n",
      "\tGeneration time: 0.141 sec\n",
      "\tBackprop time: 0.165 sec\n",
      "\tLog probability: -20.7232 (avg -21.9890)\n",
      "\tKL: 11.1162 (avg 11.0484)\n",
      "\tLoss: 131.8856 (avg 132.4730)\n"
     ]
    },
    {
     "name": "stderr",
     "output_type": "stream",
     "text": [
      " 66%|██████▌   | 25/38 [00:01<00:00, 21.77it/s]"
     ]
    },
    {
     "name": "stdout",
     "output_type": "stream",
     "text": [
      "Epoch: 127 (20/38)\n",
      "\tData load time: 0.132 sec\n",
      "\tGeneration time: 0.141 sec\n",
      "\tBackprop time: 0.165 sec\n",
      "\tLog probability: -12.3446 (avg -24.1554)\n",
      "\tKL: 7.3195 (avg 10.1048)\n",
      "\tLoss: 85.5395 (avg 125.2031)\n"
     ]
    },
    {
     "name": "stderr",
     "output_type": "stream",
     "text": [
      " 89%|████████▉ | 34/38 [00:01<00:00, 24.25it/s]"
     ]
    },
    {
     "name": "stdout",
     "output_type": "stream",
     "text": [
      "Epoch: 127 (30/38)\n",
      "\tData load time: 0.132 sec\n",
      "\tGeneration time: 0.141 sec\n",
      "\tBackprop time: 0.165 sec\n",
      "\tLog probability: -10.7669 (avg -21.5148)\n",
      "\tKL: 7.5080 (avg 9.4501)\n",
      "\tLoss: 85.8469 (avg 116.0161)\n"
     ]
    },
    {
     "name": "stderr",
     "output_type": "stream",
     "text": [
      "100%|██████████| 38/38 [00:01<00:00, 23.58it/s]\n",
      "100%|██████████| 10/10 [00:00<00:00, 30.56it/s]\n",
      "  0%|          | 0/38 [00:00<?, ?it/s]"
     ]
    },
    {
     "name": "stdout",
     "output_type": "stream",
     "text": [
      "Epoch: 127 (10/10)\n",
      "\tData load time: 0.134 sec\n",
      "\tGeneration time: 0.143 sec\n",
      "\tLog probability: -8.1241 (avg -9.1803)\n",
      "\tKL: 9.4521 (avg 7.8229)\n",
      "\tLoss: 102.6450 (avg 87.4098)\n",
      "Lowest validation loss: 72.2814\n"
     ]
    },
    {
     "name": "stderr",
     "output_type": "stream",
     "text": [
      " 34%|███▍      | 13/38 [00:00<00:01, 14.47it/s]"
     ]
    },
    {
     "name": "stdout",
     "output_type": "stream",
     "text": [
      "Epoch: 128 (10/38)\n",
      "\tData load time: 0.137 sec\n",
      "\tGeneration time: 0.145 sec\n",
      "\tBackprop time: 0.166 sec\n",
      "\tLog probability: -10.7790 (avg -13.7005)\n",
      "\tKL: 7.0759 (avg 8.1013)\n",
      "\tLoss: 81.5379 (avg 94.7139)\n"
     ]
    },
    {
     "name": "stderr",
     "output_type": "stream",
     "text": [
      " 66%|██████▌   | 25/38 [00:01<00:00, 21.63it/s]"
     ]
    },
    {
     "name": "stdout",
     "output_type": "stream",
     "text": [
      "Epoch: 128 (20/38)\n",
      "\tData load time: 0.137 sec\n",
      "\tGeneration time: 0.145 sec\n",
      "\tBackprop time: 0.166 sec\n",
      "\tLog probability: -4.5154 (avg -14.9955)\n",
      "\tKL: 5.4941 (avg 7.3590)\n",
      "\tLoss: 59.4568 (avg 88.5859)\n"
     ]
    },
    {
     "name": "stderr",
     "output_type": "stream",
     "text": [
      " 89%|████████▉ | 34/38 [00:01<00:00, 24.21it/s]"
     ]
    },
    {
     "name": "stdout",
     "output_type": "stream",
     "text": [
      "Epoch: 128 (30/38)\n",
      "\tData load time: 0.137 sec\n",
      "\tGeneration time: 0.145 sec\n",
      "\tBackprop time: 0.166 sec\n",
      "\tLog probability: -12.8060 (avg -15.7344)\n",
      "\tKL: 6.3730 (avg 7.0857)\n",
      "\tLoss: 76.5363 (avg 86.5917)\n"
     ]
    },
    {
     "name": "stderr",
     "output_type": "stream",
     "text": [
      "100%|██████████| 38/38 [00:01<00:00, 23.45it/s]\n",
      "100%|██████████| 10/10 [00:00<00:00, 31.79it/s]\n"
     ]
    },
    {
     "name": "stdout",
     "output_type": "stream",
     "text": [
      "Epoch: 128 (10/10)\n",
      "\tData load time: 0.116 sec\n",
      "\tGeneration time: 0.126 sec\n",
      "\tLog probability: -4.3183 (avg -6.1052)\n",
      "\tKL: 4.1741 (avg 5.0107)\n",
      "\tLoss: 46.0588 (avg 56.2117)\n",
      "Saving checkpoint..\n"
     ]
    },
    {
     "name": "stderr",
     "output_type": "stream",
     "text": [
      "  0%|          | 0/38 [00:00<?, ?it/s]"
     ]
    },
    {
     "name": "stdout",
     "output_type": "stream",
     "text": [
      "Lowest validation loss: 56.2117\n"
     ]
    },
    {
     "name": "stderr",
     "output_type": "stream",
     "text": [
      " 34%|███▍      | 13/38 [00:00<00:01, 14.08it/s]"
     ]
    },
    {
     "name": "stdout",
     "output_type": "stream",
     "text": [
      "Epoch: 129 (10/38)\n",
      "\tData load time: 0.143 sec\n",
      "\tGeneration time: 0.155 sec\n",
      "\tBackprop time: 0.176 sec\n",
      "\tLog probability: -16.5007 (avg -13.7494)\n",
      "\tKL: 5.4715 (avg 6.1625)\n",
      "\tLoss: 71.2159 (avg 75.3740)\n"
     ]
    },
    {
     "name": "stderr",
     "output_type": "stream",
     "text": [
      " 66%|██████▌   | 25/38 [00:01<00:00, 21.50it/s]"
     ]
    },
    {
     "name": "stdout",
     "output_type": "stream",
     "text": [
      "Epoch: 129 (20/38)\n",
      "\tData load time: 0.143 sec\n",
      "\tGeneration time: 0.155 sec\n",
      "\tBackprop time: 0.176 sec\n",
      "\tLog probability: -8.8751 (avg -14.5330)\n",
      "\tKL: 6.8577 (avg 6.8680)\n",
      "\tLoss: 77.4518 (avg 83.2128)\n"
     ]
    },
    {
     "name": "stderr",
     "output_type": "stream",
     "text": [
      " 89%|████████▉ | 34/38 [00:01<00:00, 24.16it/s]"
     ]
    },
    {
     "name": "stdout",
     "output_type": "stream",
     "text": [
      "Epoch: 129 (30/38)\n",
      "\tData load time: 0.143 sec\n",
      "\tGeneration time: 0.155 sec\n",
      "\tBackprop time: 0.176 sec\n",
      "\tLog probability: -6.9595 (avg -14.6870)\n",
      "\tKL: 5.2484 (avg 6.9305)\n",
      "\tLoss: 59.4439 (avg 83.9917)\n"
     ]
    },
    {
     "name": "stderr",
     "output_type": "stream",
     "text": [
      "100%|██████████| 38/38 [00:01<00:00, 23.41it/s]\n",
      "100%|██████████| 10/10 [00:00<00:00, 30.67it/s]\n",
      "  0%|          | 0/38 [00:00<?, ?it/s]"
     ]
    },
    {
     "name": "stdout",
     "output_type": "stream",
     "text": [
      "Epoch: 129 (10/10)\n",
      "\tData load time: 0.138 sec\n",
      "\tGeneration time: 0.147 sec\n",
      "\tLog probability: -15.2491 (avg -6.1211)\n",
      "\tKL: 7.9073 (avg 5.8663)\n",
      "\tLoss: 94.3226 (avg 64.7845)\n",
      "Lowest validation loss: 56.2117\n"
     ]
    },
    {
     "name": "stderr",
     "output_type": "stream",
     "text": [
      " 34%|███▍      | 13/38 [00:00<00:01, 14.34it/s]"
     ]
    },
    {
     "name": "stdout",
     "output_type": "stream",
     "text": [
      "Epoch: 130 (10/38)\n",
      "\tData load time: 0.141 sec\n",
      "\tGeneration time: 0.148 sec\n",
      "\tBackprop time: 0.169 sec\n",
      "\tLog probability: -9.7231 (avg -15.5725)\n",
      "\tKL: 5.8192 (avg 6.6725)\n",
      "\tLoss: 67.9148 (avg 82.2975)\n"
     ]
    },
    {
     "name": "stderr",
     "output_type": "stream",
     "text": [
      " 66%|██████▌   | 25/38 [00:01<00:00, 21.66it/s]"
     ]
    },
    {
     "name": "stdout",
     "output_type": "stream",
     "text": [
      "Epoch: 130 (20/38)\n",
      "\tData load time: 0.141 sec\n",
      "\tGeneration time: 0.148 sec\n",
      "\tBackprop time: 0.169 sec\n",
      "\tLog probability: -7.6038 (avg -14.3046)\n",
      "\tKL: 5.5499 (avg 6.5183)\n",
      "\tLoss: 63.1025 (avg 79.4872)\n"
     ]
    },
    {
     "name": "stderr",
     "output_type": "stream",
     "text": [
      " 89%|████████▉ | 34/38 [00:01<00:00, 24.24it/s]"
     ]
    },
    {
     "name": "stdout",
     "output_type": "stream",
     "text": [
      "Epoch: 130 (30/38)\n",
      "\tData load time: 0.141 sec\n",
      "\tGeneration time: 0.148 sec\n",
      "\tBackprop time: 0.169 sec\n",
      "\tLog probability: -14.3019 (avg -14.2228)\n",
      "\tKL: 4.9443 (avg 6.2812)\n",
      "\tLoss: 63.7454 (avg 77.0350)\n"
     ]
    },
    {
     "name": "stderr",
     "output_type": "stream",
     "text": [
      "100%|██████████| 38/38 [00:01<00:00, 23.49it/s]\n",
      "100%|██████████| 10/10 [00:00<00:00, 30.06it/s]\n",
      "  0%|          | 0/38 [00:00<?, ?it/s]"
     ]
    },
    {
     "name": "stdout",
     "output_type": "stream",
     "text": [
      "Epoch: 130 (10/10)\n",
      "\tData load time: 0.138 sec\n",
      "\tGeneration time: 0.147 sec\n",
      "\tLog probability: -3.7810 (avg -5.3667)\n",
      "\tKL: 5.3730 (avg 5.4629)\n",
      "\tLoss: 57.5114 (avg 59.9960)\n",
      "Lowest validation loss: 56.2117\n"
     ]
    },
    {
     "name": "stderr",
     "output_type": "stream",
     "text": [
      " 34%|███▍      | 13/38 [00:00<00:01, 14.44it/s]"
     ]
    },
    {
     "name": "stdout",
     "output_type": "stream",
     "text": [
      "Epoch: 131 (10/38)\n",
      "\tData load time: 0.136 sec\n",
      "\tGeneration time: 0.144 sec\n",
      "\tBackprop time: 0.168 sec\n",
      "\tLog probability: -6.2287 (avg -14.8684)\n",
      "\tKL: 4.8257 (avg 6.2962)\n",
      "\tLoss: 54.4853 (avg 77.8301)\n"
     ]
    },
    {
     "name": "stderr",
     "output_type": "stream",
     "text": [
      " 66%|██████▌   | 25/38 [00:01<00:00, 21.69it/s]"
     ]
    },
    {
     "name": "stdout",
     "output_type": "stream",
     "text": [
      "Epoch: 131 (20/38)\n",
      "\tData load time: 0.136 sec\n",
      "\tGeneration time: 0.144 sec\n",
      "\tBackprop time: 0.168 sec\n",
      "\tLog probability: -44.7741 (avg -14.5552)\n",
      "\tKL: 9.2012 (avg 6.1825)\n",
      "\tLoss: 136.7857 (avg 76.3804)\n"
     ]
    },
    {
     "name": "stderr",
     "output_type": "stream",
     "text": [
      " 89%|████████▉ | 34/38 [00:01<00:00, 24.19it/s]"
     ]
    },
    {
     "name": "stdout",
     "output_type": "stream",
     "text": [
      "Epoch: 131 (30/38)\n",
      "\tData load time: 0.136 sec\n",
      "\tGeneration time: 0.144 sec\n",
      "\tBackprop time: 0.168 sec\n",
      "\tLog probability: -13.1567 (avg -13.4465)\n",
      "\tKL: 5.6654 (avg 5.9357)\n",
      "\tLoss: 69.8106 (avg 72.8032)\n"
     ]
    },
    {
     "name": "stderr",
     "output_type": "stream",
     "text": [
      "100%|██████████| 38/38 [00:01<00:00, 23.52it/s]\n",
      "100%|██████████| 10/10 [00:00<00:00, 30.72it/s]\n",
      "  0%|          | 0/38 [00:00<?, ?it/s]"
     ]
    },
    {
     "name": "stdout",
     "output_type": "stream",
     "text": [
      "Epoch: 131 (10/10)\n",
      "\tData load time: 0.132 sec\n",
      "\tGeneration time: 0.141 sec\n",
      "\tLog probability: -5.1565 (avg -5.5684)\n",
      "\tKL: 4.5448 (avg 5.5182)\n",
      "\tLoss: 50.6041 (avg 60.7502)\n",
      "Lowest validation loss: 56.2117\n"
     ]
    },
    {
     "name": "stderr",
     "output_type": "stream",
     "text": [
      " 34%|███▍      | 13/38 [00:00<00:01, 14.45it/s]"
     ]
    },
    {
     "name": "stdout",
     "output_type": "stream",
     "text": [
      "Epoch: 132 (10/38)\n",
      "\tData load time: 0.136 sec\n",
      "\tGeneration time: 0.146 sec\n",
      "\tBackprop time: 0.166 sec\n",
      "\tLog probability: -6.6557 (avg -15.1697)\n",
      "\tKL: 4.9776 (avg 5.7521)\n",
      "\tLoss: 56.4322 (avg 72.6908)\n"
     ]
    },
    {
     "name": "stderr",
     "output_type": "stream",
     "text": [
      " 66%|██████▌   | 25/38 [00:01<00:00, 21.68it/s]"
     ]
    },
    {
     "name": "stdout",
     "output_type": "stream",
     "text": [
      "Epoch: 132 (20/38)\n",
      "\tData load time: 0.136 sec\n",
      "\tGeneration time: 0.146 sec\n",
      "\tBackprop time: 0.166 sec\n",
      "\tLog probability: -19.0890 (avg -15.2781)\n",
      "\tKL: 7.9166 (avg 6.1222)\n",
      "\tLoss: 98.2551 (avg 76.5004)\n"
     ]
    },
    {
     "name": "stderr",
     "output_type": "stream",
     "text": [
      " 89%|████████▉ | 34/38 [00:01<00:00, 24.08it/s]"
     ]
    },
    {
     "name": "stdout",
     "output_type": "stream",
     "text": [
      "Epoch: 132 (30/38)\n",
      "\tData load time: 0.136 sec\n",
      "\tGeneration time: 0.146 sec\n",
      "\tBackprop time: 0.166 sec\n",
      "\tLog probability: -8.4334 (avg -14.0180)\n",
      "\tKL: 6.1209 (avg 6.1663)\n",
      "\tLoss: 69.6425 (avg 75.6807)\n"
     ]
    },
    {
     "name": "stderr",
     "output_type": "stream",
     "text": [
      "100%|██████████| 38/38 [00:01<00:00, 23.41it/s]\n",
      "100%|██████████| 10/10 [00:00<00:00, 32.21it/s]\n",
      "  0%|          | 0/38 [00:00<?, ?it/s]"
     ]
    },
    {
     "name": "stdout",
     "output_type": "stream",
     "text": [
      "Epoch: 132 (10/10)\n",
      "\tData load time: 0.111 sec\n",
      "\tGeneration time: 0.126 sec\n",
      "\tLog probability: -6.2219 (avg -7.3624)\n",
      "\tKL: 5.9678 (avg 5.4232)\n",
      "\tLoss: 65.8997 (avg 61.5942)\n",
      "Lowest validation loss: 56.2117\n"
     ]
    },
    {
     "name": "stderr",
     "output_type": "stream",
     "text": [
      " 34%|███▍      | 13/38 [00:00<00:01, 14.56it/s]"
     ]
    },
    {
     "name": "stdout",
     "output_type": "stream",
     "text": [
      "Epoch: 133 (10/38)\n",
      "\tData load time: 0.130 sec\n",
      "\tGeneration time: 0.141 sec\n",
      "\tBackprop time: 0.165 sec\n",
      "\tLog probability: -19.8093 (avg -17.4070)\n",
      "\tKL: 6.1109 (avg 6.3112)\n",
      "\tLoss: 80.9179 (avg 80.5190)\n"
     ]
    },
    {
     "name": "stderr",
     "output_type": "stream",
     "text": [
      " 66%|██████▌   | 25/38 [00:01<00:00, 21.58it/s]"
     ]
    },
    {
     "name": "stdout",
     "output_type": "stream",
     "text": [
      "Epoch: 133 (20/38)\n",
      "\tData load time: 0.130 sec\n",
      "\tGeneration time: 0.141 sec\n",
      "\tBackprop time: 0.165 sec\n",
      "\tLog probability: -10.2695 (avg -15.3730)\n",
      "\tKL: 7.1540 (avg 6.5969)\n",
      "\tLoss: 81.8090 (avg 81.3420)\n"
     ]
    },
    {
     "name": "stderr",
     "output_type": "stream",
     "text": [
      " 89%|████████▉ | 34/38 [00:01<00:00, 24.13it/s]"
     ]
    },
    {
     "name": "stdout",
     "output_type": "stream",
     "text": [
      "Epoch: 133 (30/38)\n",
      "\tData load time: 0.130 sec\n",
      "\tGeneration time: 0.141 sec\n",
      "\tBackprop time: 0.165 sec\n",
      "\tLog probability: -31.6516 (avg -14.7260)\n",
      "\tKL: 6.8417 (avg 6.5506)\n",
      "\tLoss: 100.0683 (avg 80.2321)\n"
     ]
    },
    {
     "name": "stderr",
     "output_type": "stream",
     "text": [
      "100%|██████████| 38/38 [00:01<00:00, 23.41it/s]\n",
      "100%|██████████| 10/10 [00:00<00:00, 30.81it/s]\n",
      "  0%|          | 0/38 [00:00<?, ?it/s]"
     ]
    },
    {
     "name": "stdout",
     "output_type": "stream",
     "text": [
      "Epoch: 133 (10/10)\n",
      "\tData load time: 0.135 sec\n",
      "\tGeneration time: 0.146 sec\n",
      "\tLog probability: -3.6111 (avg -5.6962)\n",
      "\tKL: 5.3595 (avg 5.3961)\n",
      "\tLoss: 57.2065 (avg 59.6569)\n",
      "Lowest validation loss: 56.2117\n"
     ]
    },
    {
     "name": "stderr",
     "output_type": "stream",
     "text": [
      " 34%|███▍      | 13/38 [00:00<00:01, 14.83it/s]"
     ]
    },
    {
     "name": "stdout",
     "output_type": "stream",
     "text": [
      "Epoch: 134 (10/38)\n",
      "\tData load time: 0.129 sec\n",
      "\tGeneration time: 0.141 sec\n",
      "\tBackprop time: 0.161 sec\n",
      "\tLog probability: -28.1502 (avg -17.0791)\n",
      "\tKL: 6.1126 (avg 6.7361)\n",
      "\tLoss: 89.2760 (avg 84.4406)\n"
     ]
    },
    {
     "name": "stderr",
     "output_type": "stream",
     "text": [
      " 66%|██████▌   | 25/38 [00:01<00:00, 21.73it/s]"
     ]
    },
    {
     "name": "stdout",
     "output_type": "stream",
     "text": [
      "Epoch: 134 (20/38)\n",
      "\tData load time: 0.129 sec\n",
      "\tGeneration time: 0.141 sec\n",
      "\tBackprop time: 0.161 sec\n",
      "\tLog probability: -19.0631 (avg -15.7694)\n",
      "\tKL: 5.4753 (avg 6.4665)\n",
      "\tLoss: 73.8163 (avg 80.4346)\n"
     ]
    },
    {
     "name": "stderr",
     "output_type": "stream",
     "text": [
      " 89%|████████▉ | 34/38 [00:01<00:00, 24.28it/s]"
     ]
    },
    {
     "name": "stdout",
     "output_type": "stream",
     "text": [
      "Epoch: 134 (30/38)\n",
      "\tData load time: 0.129 sec\n",
      "\tGeneration time: 0.141 sec\n",
      "\tBackprop time: 0.161 sec\n",
      "\tLog probability: -28.8648 (avg -14.4898)\n",
      "\tKL: 7.6195 (avg 6.1456)\n",
      "\tLoss: 105.0600 (avg 75.9462)\n"
     ]
    },
    {
     "name": "stderr",
     "output_type": "stream",
     "text": [
      "100%|██████████| 38/38 [00:01<00:00, 23.58it/s]\n",
      "100%|██████████| 10/10 [00:00<00:00, 30.54it/s]\n"
     ]
    },
    {
     "name": "stdout",
     "output_type": "stream",
     "text": [
      "Epoch: 134 (10/10)\n",
      "\tData load time: 0.136 sec\n",
      "\tGeneration time: 0.146 sec\n",
      "\tLog probability: -6.8848 (avg -5.5785)\n",
      "\tKL: 4.9511 (avg 4.8029)\n",
      "\tLoss: 56.3961 (avg 53.6080)\n",
      "Saving checkpoint..\n"
     ]
    },
    {
     "name": "stderr",
     "output_type": "stream",
     "text": [
      "  0%|          | 0/38 [00:00<?, ?it/s]"
     ]
    },
    {
     "name": "stdout",
     "output_type": "stream",
     "text": [
      "Lowest validation loss: 53.6080\n"
     ]
    },
    {
     "name": "stderr",
     "output_type": "stream",
     "text": [
      " 34%|███▍      | 13/38 [00:00<00:01, 14.35it/s]"
     ]
    },
    {
     "name": "stdout",
     "output_type": "stream",
     "text": [
      "Epoch: 135 (10/38)\n",
      "\tData load time: 0.134 sec\n",
      "\tGeneration time: 0.144 sec\n",
      "\tBackprop time: 0.170 sec\n",
      "\tLog probability: -11.8664 (avg -15.1587)\n",
      "\tKL: 6.8360 (avg 7.3844)\n",
      "\tLoss: 80.2268 (avg 89.0022)\n"
     ]
    },
    {
     "name": "stderr",
     "output_type": "stream",
     "text": [
      " 66%|██████▌   | 25/38 [00:01<00:00, 21.56it/s]"
     ]
    },
    {
     "name": "stdout",
     "output_type": "stream",
     "text": [
      "Epoch: 135 (20/38)\n",
      "\tData load time: 0.134 sec\n",
      "\tGeneration time: 0.144 sec\n",
      "\tBackprop time: 0.170 sec\n",
      "\tLog probability: -7.1774 (avg -12.9233)\n",
      "\tKL: 5.7469 (avg 6.8215)\n",
      "\tLoss: 64.6468 (avg 81.1380)\n"
     ]
    },
    {
     "name": "stderr",
     "output_type": "stream",
     "text": [
      " 89%|████████▉ | 34/38 [00:01<00:00, 24.09it/s]"
     ]
    },
    {
     "name": "stdout",
     "output_type": "stream",
     "text": [
      "Epoch: 135 (30/38)\n",
      "\tData load time: 0.134 sec\n",
      "\tGeneration time: 0.144 sec\n",
      "\tBackprop time: 0.170 sec\n",
      "\tLog probability: -13.8929 (avg -17.4179)\n",
      "\tKL: 5.5630 (avg 6.9958)\n",
      "\tLoss: 69.5229 (avg 87.3757)\n"
     ]
    },
    {
     "name": "stderr",
     "output_type": "stream",
     "text": [
      "100%|██████████| 38/38 [00:01<00:00, 23.48it/s]\n",
      "100%|██████████| 10/10 [00:00<00:00, 30.40it/s]\n",
      "  0%|          | 0/38 [00:00<?, ?it/s]"
     ]
    },
    {
     "name": "stdout",
     "output_type": "stream",
     "text": [
      "Epoch: 135 (10/10)\n",
      "\tData load time: 0.136 sec\n",
      "\tGeneration time: 0.146 sec\n",
      "\tLog probability: -5.1176 (avg -8.3890)\n",
      "\tKL: 4.8456 (avg 5.1112)\n",
      "\tLoss: 53.5739 (avg 59.5007)\n",
      "Lowest validation loss: 53.6080\n"
     ]
    },
    {
     "name": "stderr",
     "output_type": "stream",
     "text": [
      " 34%|███▍      | 13/38 [00:00<00:01, 14.51it/s]"
     ]
    },
    {
     "name": "stdout",
     "output_type": "stream",
     "text": [
      "Epoch: 136 (10/38)\n",
      "\tData load time: 0.136 sec\n",
      "\tGeneration time: 0.147 sec\n",
      "\tBackprop time: 0.166 sec\n",
      "\tLog probability: -9.6454 (avg -14.4726)\n",
      "\tKL: 6.5201 (avg 7.0878)\n",
      "\tLoss: 74.8464 (avg 85.3508)\n"
     ]
    },
    {
     "name": "stderr",
     "output_type": "stream",
     "text": [
      " 66%|██████▌   | 25/38 [00:01<00:00, 21.74it/s]"
     ]
    },
    {
     "name": "stdout",
     "output_type": "stream",
     "text": [
      "Epoch: 136 (20/38)\n",
      "\tData load time: 0.136 sec\n",
      "\tGeneration time: 0.147 sec\n",
      "\tBackprop time: 0.166 sec\n",
      "\tLog probability: -11.6339 (avg -14.6618)\n",
      "\tKL: 5.2696 (avg 7.0197)\n",
      "\tLoss: 64.3294 (avg 84.8591)\n"
     ]
    },
    {
     "name": "stderr",
     "output_type": "stream",
     "text": [
      " 89%|████████▉ | 34/38 [00:01<00:00, 24.24it/s]"
     ]
    },
    {
     "name": "stdout",
     "output_type": "stream",
     "text": [
      "Epoch: 136 (30/38)\n",
      "\tData load time: 0.136 sec\n",
      "\tGeneration time: 0.147 sec\n",
      "\tBackprop time: 0.166 sec\n",
      "\tLog probability: -12.8136 (avg -14.4911)\n",
      "\tKL: 5.6055 (avg 6.7446)\n",
      "\tLoss: 68.8683 (avg 81.9370)\n"
     ]
    },
    {
     "name": "stderr",
     "output_type": "stream",
     "text": [
      "100%|██████████| 38/38 [00:01<00:00, 23.49it/s]\n",
      "100%|██████████| 10/10 [00:00<00:00, 30.96it/s]\n",
      "  0%|          | 0/38 [00:00<?, ?it/s]"
     ]
    },
    {
     "name": "stdout",
     "output_type": "stream",
     "text": [
      "Epoch: 136 (10/10)\n",
      "\tData load time: 0.123 sec\n",
      "\tGeneration time: 0.132 sec\n",
      "\tLog probability: -9.8931 (avg -6.8703)\n",
      "\tKL: 10.9652 (avg 9.2542)\n",
      "\tLoss: 119.5453 (avg 99.4122)\n",
      "Lowest validation loss: 53.6080\n"
     ]
    },
    {
     "name": "stderr",
     "output_type": "stream",
     "text": [
      " 34%|███▍      | 13/38 [00:00<00:01, 14.45it/s]"
     ]
    },
    {
     "name": "stdout",
     "output_type": "stream",
     "text": [
      "Epoch: 137 (10/38)\n",
      "\tData load time: 0.136 sec\n",
      "\tGeneration time: 0.146 sec\n",
      "\tBackprop time: 0.167 sec\n",
      "\tLog probability: -23.8603 (avg -18.0431)\n",
      "\tKL: 17.6274 (avg 15.0671)\n",
      "\tLoss: 200.1346 (avg 168.7140)\n"
     ]
    },
    {
     "name": "stderr",
     "output_type": "stream",
     "text": [
      " 66%|██████▌   | 25/38 [00:01<00:00, 21.73it/s]"
     ]
    },
    {
     "name": "stdout",
     "output_type": "stream",
     "text": [
      "Epoch: 137 (20/38)\n",
      "\tData load time: 0.136 sec\n",
      "\tGeneration time: 0.146 sec\n",
      "\tBackprop time: 0.167 sec\n",
      "\tLog probability: -16.6392 (avg -18.5852)\n",
      "\tKL: 11.0747 (avg 13.6744)\n",
      "\tLoss: 127.3863 (avg 155.3291)\n"
     ]
    },
    {
     "name": "stderr",
     "output_type": "stream",
     "text": [
      " 89%|████████▉ | 34/38 [00:01<00:00, 24.27it/s]"
     ]
    },
    {
     "name": "stdout",
     "output_type": "stream",
     "text": [
      "Epoch: 137 (30/38)\n",
      "\tData load time: 0.136 sec\n",
      "\tGeneration time: 0.146 sec\n",
      "\tBackprop time: 0.167 sec\n",
      "\tLog probability: -30.6416 (avg -19.6697)\n",
      "\tKL: 11.3900 (avg 12.9722)\n",
      "\tLoss: 144.5421 (avg 149.3920)\n"
     ]
    },
    {
     "name": "stderr",
     "output_type": "stream",
     "text": [
      "100%|██████████| 38/38 [00:01<00:00, 23.46it/s]\n",
      "100%|██████████| 10/10 [00:00<00:00, 30.50it/s]\n",
      "  0%|          | 0/38 [00:00<?, ?it/s]"
     ]
    },
    {
     "name": "stdout",
     "output_type": "stream",
     "text": [
      "Epoch: 137 (10/10)\n",
      "\tData load time: 0.135 sec\n",
      "\tGeneration time: 0.146 sec\n",
      "\tLog probability: -17.6111 (avg -12.8416)\n",
      "\tKL: 11.5444 (avg 11.4328)\n",
      "\tLoss: 133.0551 (avg 127.1699)\n",
      "Lowest validation loss: 53.6080\n"
     ]
    },
    {
     "name": "stderr",
     "output_type": "stream",
     "text": [
      " 34%|███▍      | 13/38 [00:00<00:01, 14.37it/s]"
     ]
    },
    {
     "name": "stdout",
     "output_type": "stream",
     "text": [
      "Epoch: 138 (10/38)\n",
      "\tData load time: 0.138 sec\n",
      "\tGeneration time: 0.149 sec\n",
      "\tBackprop time: 0.169 sec\n",
      "\tLog probability: -9.8903 (avg -19.0293)\n",
      "\tKL: 11.0160 (avg 12.8834)\n",
      "\tLoss: 120.0504 (avg 147.8633)\n"
     ]
    },
    {
     "name": "stderr",
     "output_type": "stream",
     "text": [
      " 66%|██████▌   | 25/38 [00:01<00:00, 21.60it/s]"
     ]
    },
    {
     "name": "stdout",
     "output_type": "stream",
     "text": [
      "Epoch: 138 (20/38)\n",
      "\tData load time: 0.138 sec\n",
      "\tGeneration time: 0.149 sec\n",
      "\tBackprop time: 0.169 sec\n",
      "\tLog probability: -18.9136 (avg -18.3803)\n",
      "\tKL: 10.6092 (avg 11.6700)\n",
      "\tLoss: 125.0056 (avg 135.0808)\n"
     ]
    },
    {
     "name": "stderr",
     "output_type": "stream",
     "text": [
      " 89%|████████▉ | 34/38 [00:01<00:00, 24.21it/s]"
     ]
    },
    {
     "name": "stdout",
     "output_type": "stream",
     "text": [
      "Epoch: 138 (30/38)\n",
      "\tData load time: 0.138 sec\n",
      "\tGeneration time: 0.149 sec\n",
      "\tBackprop time: 0.169 sec\n",
      "\tLog probability: -20.2658 (avg -17.7471)\n",
      "\tKL: 8.8582 (avg 11.1536)\n",
      "\tLoss: 108.8480 (avg 129.2827)\n"
     ]
    },
    {
     "name": "stderr",
     "output_type": "stream",
     "text": [
      "100%|██████████| 38/38 [00:01<00:00, 23.46it/s]\n",
      "100%|██████████| 10/10 [00:00<00:00, 30.15it/s]\n",
      "  0%|          | 0/38 [00:00<?, ?it/s]"
     ]
    },
    {
     "name": "stdout",
     "output_type": "stream",
     "text": [
      "Epoch: 138 (10/10)\n",
      "\tData load time: 0.138 sec\n",
      "\tGeneration time: 0.147 sec\n",
      "\tLog probability: -13.2215 (avg -9.3965)\n",
      "\tKL: 9.7913 (avg 10.0677)\n",
      "\tLoss: 111.1343 (avg 110.0732)\n",
      "Lowest validation loss: 53.6080\n"
     ]
    },
    {
     "name": "stderr",
     "output_type": "stream",
     "text": [
      " 34%|███▍      | 13/38 [00:00<00:01, 14.49it/s]"
     ]
    },
    {
     "name": "stdout",
     "output_type": "stream",
     "text": [
      "Epoch: 139 (10/38)\n",
      "\tData load time: 0.136 sec\n",
      "\tGeneration time: 0.144 sec\n",
      "\tBackprop time: 0.166 sec\n",
      "\tLog probability: -13.0052 (avg -16.3358)\n",
      "\tKL: 12.0471 (avg 10.9505)\n",
      "\tLoss: 133.4759 (avg 125.8407)\n"
     ]
    },
    {
     "name": "stderr",
     "output_type": "stream",
     "text": [
      " 66%|██████▌   | 25/38 [00:01<00:00, 21.78it/s]"
     ]
    },
    {
     "name": "stdout",
     "output_type": "stream",
     "text": [
      "Epoch: 139 (20/38)\n",
      "\tData load time: 0.136 sec\n",
      "\tGeneration time: 0.144 sec\n",
      "\tBackprop time: 0.166 sec\n",
      "\tLog probability: -24.5371 (avg -18.3315)\n",
      "\tKL: 11.1425 (avg 11.3180)\n",
      "\tLoss: 135.9617 (avg 131.5115)\n"
     ]
    },
    {
     "name": "stderr",
     "output_type": "stream",
     "text": [
      " 89%|████████▉ | 34/38 [00:01<00:00, 24.26it/s]"
     ]
    },
    {
     "name": "stdout",
     "output_type": "stream",
     "text": [
      "Epoch: 139 (30/38)\n",
      "\tData load time: 0.136 sec\n",
      "\tGeneration time: 0.144 sec\n",
      "\tBackprop time: 0.166 sec\n",
      "\tLog probability: -7.6228 (avg -19.6548)\n",
      "\tKL: 10.1125 (avg 11.2085)\n",
      "\tLoss: 108.7477 (avg 131.7397)\n"
     ]
    },
    {
     "name": "stderr",
     "output_type": "stream",
     "text": [
      "100%|██████████| 38/38 [00:01<00:00, 23.49it/s]\n",
      "100%|██████████| 10/10 [00:00<00:00, 31.08it/s]\n",
      "  0%|          | 0/38 [00:00<?, ?it/s]"
     ]
    },
    {
     "name": "stdout",
     "output_type": "stream",
     "text": [
      "Epoch: 139 (10/10)\n",
      "\tData load time: 0.136 sec\n",
      "\tGeneration time: 0.144 sec\n",
      "\tLog probability: -15.8763 (avg -12.1615)\n",
      "\tKL: 12.5402 (avg 15.3369)\n",
      "\tLoss: 141.2779 (avg 165.5303)\n",
      "Lowest validation loss: 53.6080\n"
     ]
    },
    {
     "name": "stderr",
     "output_type": "stream",
     "text": [
      " 34%|███▍      | 13/38 [00:00<00:01, 14.54it/s]"
     ]
    },
    {
     "name": "stdout",
     "output_type": "stream",
     "text": [
      "Epoch: 140 (10/38)\n",
      "\tData load time: 0.134 sec\n",
      "\tGeneration time: 0.143 sec\n",
      "\tBackprop time: 0.166 sec\n",
      "\tLog probability: -12.0578 (avg -15.7387)\n",
      "\tKL: 10.2423 (avg 12.5895)\n",
      "\tLoss: 114.4805 (avg 141.6342)\n"
     ]
    },
    {
     "name": "stderr",
     "output_type": "stream",
     "text": [
      " 66%|██████▌   | 25/38 [00:01<00:00, 21.68it/s]"
     ]
    },
    {
     "name": "stdout",
     "output_type": "stream",
     "text": [
      "Epoch: 140 (20/38)\n",
      "\tData load time: 0.134 sec\n",
      "\tGeneration time: 0.143 sec\n",
      "\tBackprop time: 0.166 sec\n",
      "\tLog probability: -7.8747 (avg -17.1614)\n",
      "\tKL: 9.4556 (avg 11.9090)\n",
      "\tLoss: 102.4310 (avg 136.2516)\n"
     ]
    },
    {
     "name": "stderr",
     "output_type": "stream",
     "text": [
      " 89%|████████▉ | 34/38 [00:01<00:00, 24.22it/s]"
     ]
    },
    {
     "name": "stdout",
     "output_type": "stream",
     "text": [
      "Epoch: 140 (30/38)\n",
      "\tData load time: 0.134 sec\n",
      "\tGeneration time: 0.143 sec\n",
      "\tBackprop time: 0.166 sec\n",
      "\tLog probability: -39.0806 (avg -20.4385)\n",
      "\tKL: 9.8077 (avg 11.3105)\n",
      "\tLoss: 137.1572 (avg 133.5439)\n"
     ]
    },
    {
     "name": "stderr",
     "output_type": "stream",
     "text": [
      "100%|██████████| 38/38 [00:01<00:00, 23.49it/s]\n",
      "100%|██████████| 10/10 [00:00<00:00, 30.05it/s]\n",
      "  0%|          | 0/38 [00:00<?, ?it/s]"
     ]
    },
    {
     "name": "stdout",
     "output_type": "stream",
     "text": [
      "Epoch: 140 (10/10)\n",
      "\tData load time: 0.144 sec\n",
      "\tGeneration time: 0.151 sec\n",
      "\tLog probability: -7.2663 (avg -8.6196)\n",
      "\tKL: 6.6961 (avg 9.7691)\n",
      "\tLoss: 74.2275 (avg 106.3103)\n",
      "Lowest validation loss: 53.6080\n"
     ]
    },
    {
     "name": "stderr",
     "output_type": "stream",
     "text": [
      " 34%|███▍      | 13/38 [00:00<00:01, 14.37it/s]"
     ]
    },
    {
     "name": "stdout",
     "output_type": "stream",
     "text": [
      "Epoch: 141 (10/38)\n",
      "\tData load time: 0.134 sec\n",
      "\tGeneration time: 0.144 sec\n",
      "\tBackprop time: 0.171 sec\n",
      "\tLog probability: -23.5893 (avg -21.7223)\n",
      "\tKL: 15.3358 (avg 11.4736)\n",
      "\tLoss: 176.9473 (avg 136.4587)\n"
     ]
    },
    {
     "name": "stderr",
     "output_type": "stream",
     "text": [
      " 66%|██████▌   | 25/38 [00:01<00:00, 21.60it/s]"
     ]
    },
    {
     "name": "stdout",
     "output_type": "stream",
     "text": [
      "Epoch: 141 (20/38)\n",
      "\tData load time: 0.134 sec\n",
      "\tGeneration time: 0.144 sec\n",
      "\tBackprop time: 0.171 sec\n",
      "\tLog probability: -16.2924 (avg -19.5095)\n",
      "\tKL: 9.6708 (avg 10.7595)\n",
      "\tLoss: 113.0000 (avg 127.1044)\n"
     ]
    },
    {
     "name": "stderr",
     "output_type": "stream",
     "text": [
      " 89%|████████▉ | 34/38 [00:01<00:00, 24.16it/s]"
     ]
    },
    {
     "name": "stdout",
     "output_type": "stream",
     "text": [
      "Epoch: 141 (30/38)\n",
      "\tData load time: 0.134 sec\n",
      "\tGeneration time: 0.144 sec\n",
      "\tBackprop time: 0.171 sec\n",
      "\tLog probability: -13.4456 (avg -21.0719)\n",
      "\tKL: 9.8566 (avg 10.5037)\n",
      "\tLoss: 112.0115 (avg 126.1093)\n"
     ]
    },
    {
     "name": "stderr",
     "output_type": "stream",
     "text": [
      "100%|██████████| 38/38 [00:01<00:00, 23.43it/s]\n",
      "100%|██████████| 10/10 [00:00<00:00, 31.29it/s]\n",
      "  0%|          | 0/38 [00:00<?, ?it/s]"
     ]
    },
    {
     "name": "stdout",
     "output_type": "stream",
     "text": [
      "Epoch: 141 (10/10)\n",
      "\tData load time: 0.129 sec\n",
      "\tGeneration time: 0.138 sec\n",
      "\tLog probability: -3.9208 (avg -8.5915)\n",
      "\tKL: 10.6154 (avg 9.0883)\n",
      "\tLoss: 110.0751 (avg 99.4749)\n",
      "Lowest validation loss: 53.6080\n"
     ]
    },
    {
     "name": "stderr",
     "output_type": "stream",
     "text": [
      " 34%|███▍      | 13/38 [00:00<00:01, 14.84it/s]"
     ]
    },
    {
     "name": "stdout",
     "output_type": "stream",
     "text": [
      "Epoch: 142 (10/38)\n",
      "\tData load time: 0.123 sec\n",
      "\tGeneration time: 0.135 sec\n",
      "\tBackprop time: 0.161 sec\n",
      "\tLog probability: -9.7386 (avg -24.7403)\n",
      "\tKL: 10.6918 (avg 10.2915)\n",
      "\tLoss: 116.6563 (avg 127.6557)\n"
     ]
    },
    {
     "name": "stderr",
     "output_type": "stream",
     "text": [
      " 66%|██████▌   | 25/38 [00:01<00:00, 21.92it/s]"
     ]
    },
    {
     "name": "stdout",
     "output_type": "stream",
     "text": [
      "Epoch: 142 (20/38)\n",
      "\tData load time: 0.123 sec\n",
      "\tGeneration time: 0.135 sec\n",
      "\tBackprop time: 0.161 sec\n",
      "\tLog probability: -14.2794 (avg -23.0668)\n",
      "\tKL: 12.9669 (avg 12.3138)\n",
      "\tLoss: 143.9483 (avg 146.2045)\n"
     ]
    },
    {
     "name": "stderr",
     "output_type": "stream",
     "text": [
      " 89%|████████▉ | 34/38 [00:01<00:00, 24.30it/s]"
     ]
    },
    {
     "name": "stdout",
     "output_type": "stream",
     "text": [
      "Epoch: 142 (30/38)\n",
      "\tData load time: 0.123 sec\n",
      "\tGeneration time: 0.135 sec\n",
      "\tBackprop time: 0.161 sec\n",
      "\tLog probability: -100.9712 (avg -25.5606)\n",
      "\tKL: 10.5109 (avg 12.5035)\n",
      "\tLoss: 206.0806 (avg 150.5956)\n"
     ]
    },
    {
     "name": "stderr",
     "output_type": "stream",
     "text": [
      "100%|██████████| 38/38 [00:01<00:00, 23.65it/s]\n",
      "100%|██████████| 10/10 [00:00<00:00, 29.50it/s]\n",
      "  0%|          | 0/38 [00:00<?, ?it/s]"
     ]
    },
    {
     "name": "stdout",
     "output_type": "stream",
     "text": [
      "Epoch: 142 (10/10)\n",
      "\tData load time: 0.140 sec\n",
      "\tGeneration time: 0.150 sec\n",
      "\tLog probability: -7.3363 (avg -17.2012)\n",
      "\tKL: 13.2893 (avg 14.5757)\n",
      "\tLoss: 140.2293 (avg 162.9584)\n",
      "Lowest validation loss: 53.6080\n"
     ]
    },
    {
     "name": "stderr",
     "output_type": "stream",
     "text": [
      " 34%|███▍      | 13/38 [00:00<00:01, 14.42it/s]"
     ]
    },
    {
     "name": "stdout",
     "output_type": "stream",
     "text": [
      "Epoch: 143 (10/38)\n",
      "\tData load time: 0.138 sec\n",
      "\tGeneration time: 0.149 sec\n",
      "\tBackprop time: 0.168 sec\n",
      "\tLog probability: -32.3212 (avg -27.2397)\n",
      "\tKL: 7.5030 (avg 10.5401)\n",
      "\tLoss: 107.3513 (avg 132.6405)\n"
     ]
    },
    {
     "name": "stderr",
     "output_type": "stream",
     "text": [
      " 66%|██████▌   | 25/38 [00:01<00:00, 21.63it/s]"
     ]
    },
    {
     "name": "stdout",
     "output_type": "stream",
     "text": [
      "Epoch: 143 (20/38)\n",
      "\tData load time: 0.138 sec\n",
      "\tGeneration time: 0.149 sec\n",
      "\tBackprop time: 0.168 sec\n",
      "\tLog probability: -21.8095 (avg -21.4839)\n",
      "\tKL: 8.6564 (avg 10.2943)\n",
      "\tLoss: 108.3739 (avg 124.4269)\n"
     ]
    },
    {
     "name": "stderr",
     "output_type": "stream",
     "text": [
      " 89%|████████▉ | 34/38 [00:01<00:00, 24.16it/s]"
     ]
    },
    {
     "name": "stdout",
     "output_type": "stream",
     "text": [
      "Epoch: 143 (30/38)\n",
      "\tData load time: 0.138 sec\n",
      "\tGeneration time: 0.149 sec\n",
      "\tBackprop time: 0.168 sec\n",
      "\tLog probability: -10.0546 (avg -19.6596)\n",
      "\tKL: 8.2664 (avg 9.7806)\n",
      "\tLoss: 92.7184 (avg 117.4658)\n"
     ]
    },
    {
     "name": "stderr",
     "output_type": "stream",
     "text": [
      "100%|██████████| 38/38 [00:01<00:00, 23.44it/s]\n",
      "100%|██████████| 10/10 [00:00<00:00, 30.25it/s]\n",
      "  0%|          | 0/38 [00:00<?, ?it/s]"
     ]
    },
    {
     "name": "stdout",
     "output_type": "stream",
     "text": [
      "Epoch: 143 (10/10)\n",
      "\tData load time: 0.141 sec\n",
      "\tGeneration time: 0.150 sec\n",
      "\tLog probability: -7.5804 (avg -28.0979)\n",
      "\tKL: 7.0801 (avg 12.3879)\n",
      "\tLoss: 78.3812 (avg 151.9769)\n",
      "Lowest validation loss: 53.6080\n"
     ]
    },
    {
     "name": "stderr",
     "output_type": "stream",
     "text": [
      " 34%|███▍      | 13/38 [00:00<00:01, 14.52it/s]"
     ]
    },
    {
     "name": "stdout",
     "output_type": "stream",
     "text": [
      "Epoch: 144 (10/38)\n",
      "\tData load time: 0.135 sec\n",
      "\tGeneration time: 0.148 sec\n",
      "\tBackprop time: 0.166 sec\n",
      "\tLog probability: -19.3112 (avg -24.2013)\n",
      "\tKL: 10.8965 (avg 10.9669)\n",
      "\tLoss: 128.2757 (avg 133.8704)\n"
     ]
    },
    {
     "name": "stderr",
     "output_type": "stream",
     "text": [
      " 66%|██████▌   | 25/38 [00:01<00:00, 21.66it/s]"
     ]
    },
    {
     "name": "stdout",
     "output_type": "stream",
     "text": [
      "Epoch: 144 (20/38)\n",
      "\tData load time: 0.135 sec\n",
      "\tGeneration time: 0.148 sec\n",
      "\tBackprop time: 0.166 sec\n",
      "\tLog probability: -20.6316 (avg -21.1570)\n",
      "\tKL: 6.9183 (avg 9.8736)\n",
      "\tLoss: 89.8150 (avg 119.8932)\n"
     ]
    },
    {
     "name": "stderr",
     "output_type": "stream",
     "text": [
      " 89%|████████▉ | 34/38 [00:01<00:00, 24.19it/s]"
     ]
    },
    {
     "name": "stdout",
     "output_type": "stream",
     "text": [
      "Epoch: 144 (30/38)\n",
      "\tData load time: 0.135 sec\n",
      "\tGeneration time: 0.148 sec\n",
      "\tBackprop time: 0.166 sec\n",
      "\tLog probability: -19.5872 (avg -20.5622)\n",
      "\tKL: 9.8079 (avg 9.3927)\n",
      "\tLoss: 117.6657 (avg 114.4893)\n"
     ]
    },
    {
     "name": "stderr",
     "output_type": "stream",
     "text": [
      "100%|██████████| 38/38 [00:01<00:00, 23.48it/s]\n",
      "100%|██████████| 10/10 [00:00<00:00, 30.12it/s]\n",
      "  0%|          | 0/38 [00:00<?, ?it/s]"
     ]
    },
    {
     "name": "stdout",
     "output_type": "stream",
     "text": [
      "Epoch: 144 (10/10)\n",
      "\tData load time: 0.143 sec\n",
      "\tGeneration time: 0.153 sec\n",
      "\tLog probability: -10.9234 (avg -41.6069)\n",
      "\tKL: 9.4758 (avg 9.6146)\n",
      "\tLoss: 105.6809 (avg 137.7532)\n",
      "Lowest validation loss: 53.6080\n"
     ]
    },
    {
     "name": "stderr",
     "output_type": "stream",
     "text": [
      " 34%|███▍      | 13/38 [00:00<00:01, 14.35it/s]"
     ]
    },
    {
     "name": "stdout",
     "output_type": "stream",
     "text": [
      "Epoch: 145 (10/38)\n",
      "\tData load time: 0.138 sec\n",
      "\tGeneration time: 0.148 sec\n",
      "\tBackprop time: 0.169 sec\n",
      "\tLog probability: -12.8306 (avg -25.5964)\n",
      "\tKL: 12.5887 (avg 12.2183)\n",
      "\tLoss: 138.7172 (avg 147.7789)\n"
     ]
    },
    {
     "name": "stderr",
     "output_type": "stream",
     "text": [
      " 66%|██████▌   | 25/38 [00:01<00:00, 21.63it/s]"
     ]
    },
    {
     "name": "stdout",
     "output_type": "stream",
     "text": [
      "Epoch: 145 (20/38)\n",
      "\tData load time: 0.138 sec\n",
      "\tGeneration time: 0.148 sec\n",
      "\tBackprop time: 0.169 sec\n",
      "\tLog probability: -36.2206 (avg -22.3923)\n",
      "\tKL: 10.9439 (avg 10.9951)\n",
      "\tLoss: 145.6591 (avg 132.3431)\n"
     ]
    },
    {
     "name": "stderr",
     "output_type": "stream",
     "text": [
      " 89%|████████▉ | 34/38 [00:01<00:00, 24.08it/s]"
     ]
    },
    {
     "name": "stdout",
     "output_type": "stream",
     "text": [
      "Epoch: 145 (30/38)\n",
      "\tData load time: 0.138 sec\n",
      "\tGeneration time: 0.148 sec\n",
      "\tBackprop time: 0.169 sec\n",
      "\tLog probability: -20.0945 (avg -20.5551)\n",
      "\tKL: 6.9422 (avg 9.7576)\n",
      "\tLoss: 89.5166 (avg 118.1312)\n"
     ]
    },
    {
     "name": "stderr",
     "output_type": "stream",
     "text": [
      "100%|██████████| 38/38 [00:01<00:00, 23.40it/s]\n",
      "100%|██████████| 10/10 [00:00<00:00, 29.70it/s]\n",
      "  0%|          | 0/38 [00:00<?, ?it/s]"
     ]
    },
    {
     "name": "stdout",
     "output_type": "stream",
     "text": [
      "Epoch: 145 (10/10)\n",
      "\tData load time: 0.142 sec\n",
      "\tGeneration time: 0.151 sec\n",
      "\tLog probability: -15.4398 (avg -9.7146)\n",
      "\tKL: 7.4560 (avg 7.3242)\n",
      "\tLoss: 89.9996 (avg 82.9566)\n",
      "Lowest validation loss: 53.6080\n"
     ]
    },
    {
     "name": "stderr",
     "output_type": "stream",
     "text": [
      " 34%|███▍      | 13/38 [00:00<00:01, 14.59it/s]"
     ]
    },
    {
     "name": "stdout",
     "output_type": "stream",
     "text": [
      "Epoch: 146 (10/38)\n",
      "\tData load time: 0.133 sec\n",
      "\tGeneration time: 0.144 sec\n",
      "\tBackprop time: 0.165 sec\n",
      "\tLog probability: -14.3713 (avg -15.4779)\n",
      "\tKL: 5.8605 (avg 7.2601)\n",
      "\tLoss: 72.9759 (avg 88.0793)\n"
     ]
    },
    {
     "name": "stderr",
     "output_type": "stream",
     "text": [
      " 66%|██████▌   | 25/38 [00:01<00:00, 21.79it/s]"
     ]
    },
    {
     "name": "stdout",
     "output_type": "stream",
     "text": [
      "Epoch: 146 (20/38)\n",
      "\tData load time: 0.133 sec\n",
      "\tGeneration time: 0.144 sec\n",
      "\tBackprop time: 0.165 sec\n",
      "\tLog probability: -24.3807 (avg -16.9283)\n",
      "\tKL: 8.7740 (avg 7.5353)\n",
      "\tLoss: 112.1202 (avg 92.2816)\n"
     ]
    },
    {
     "name": "stderr",
     "output_type": "stream",
     "text": [
      " 89%|████████▉ | 34/38 [00:01<00:00, 24.17it/s]"
     ]
    },
    {
     "name": "stdout",
     "output_type": "stream",
     "text": [
      "Epoch: 146 (30/38)\n",
      "\tData load time: 0.133 sec\n",
      "\tGeneration time: 0.144 sec\n",
      "\tBackprop time: 0.165 sec\n",
      "\tLog probability: -24.3251 (avg -15.6758)\n",
      "\tKL: 5.2522 (avg 7.2745)\n",
      "\tLoss: 76.8474 (avg 88.4212)\n"
     ]
    },
    {
     "name": "stderr",
     "output_type": "stream",
     "text": [
      "100%|██████████| 38/38 [00:01<00:00, 23.54it/s]\n",
      "100%|██████████| 10/10 [00:00<00:00, 31.25it/s]\n",
      "  0%|          | 0/38 [00:00<?, ?it/s]"
     ]
    },
    {
     "name": "stdout",
     "output_type": "stream",
     "text": [
      "Epoch: 146 (10/10)\n",
      "\tData load time: 0.127 sec\n",
      "\tGeneration time: 0.140 sec\n",
      "\tLog probability: -11.8563 (avg -8.6554)\n",
      "\tKL: 10.5478 (avg 7.8370)\n",
      "\tLoss: 117.3340 (avg 87.0258)\n",
      "Lowest validation loss: 53.6080\n"
     ]
    },
    {
     "name": "stderr",
     "output_type": "stream",
     "text": [
      " 34%|███▍      | 13/38 [00:00<00:01, 14.32it/s]"
     ]
    },
    {
     "name": "stdout",
     "output_type": "stream",
     "text": [
      "Epoch: 147 (10/38)\n",
      "\tData load time: 0.137 sec\n",
      "\tGeneration time: 0.148 sec\n",
      "\tBackprop time: 0.169 sec\n",
      "\tLog probability: -8.5637 (avg -11.2547)\n",
      "\tKL: 5.7754 (avg 6.4300)\n",
      "\tLoss: 66.3176 (avg 75.5546)\n"
     ]
    },
    {
     "name": "stderr",
     "output_type": "stream",
     "text": [
      " 66%|██████▌   | 25/38 [00:01<00:00, 21.54it/s]"
     ]
    },
    {
     "name": "stdout",
     "output_type": "stream",
     "text": [
      "Epoch: 147 (20/38)\n",
      "\tData load time: 0.137 sec\n",
      "\tGeneration time: 0.148 sec\n",
      "\tBackprop time: 0.169 sec\n",
      "\tLog probability: -15.3351 (avg -13.1485)\n",
      "\tKL: 7.3355 (avg 6.2843)\n",
      "\tLoss: 88.6901 (avg 75.9916)\n"
     ]
    },
    {
     "name": "stderr",
     "output_type": "stream",
     "text": [
      " 89%|████████▉ | 34/38 [00:01<00:00, 24.19it/s]"
     ]
    },
    {
     "name": "stdout",
     "output_type": "stream",
     "text": [
      "Epoch: 147 (30/38)\n",
      "\tData load time: 0.137 sec\n",
      "\tGeneration time: 0.148 sec\n",
      "\tBackprop time: 0.169 sec\n",
      "\tLog probability: -18.1480 (avg -13.3434)\n",
      "\tKL: 5.5890 (avg 6.1660)\n",
      "\tLoss: 74.0377 (avg 75.0036)\n"
     ]
    },
    {
     "name": "stderr",
     "output_type": "stream",
     "text": [
      "100%|██████████| 38/38 [00:01<00:00, 23.41it/s]\n",
      "100%|██████████| 10/10 [00:00<00:00, 30.56it/s]\n",
      "  0%|          | 0/38 [00:00<?, ?it/s]"
     ]
    },
    {
     "name": "stdout",
     "output_type": "stream",
     "text": [
      "Epoch: 147 (10/10)\n",
      "\tData load time: 0.137 sec\n",
      "\tGeneration time: 0.144 sec\n",
      "\tLog probability: -3.9849 (avg -7.1710)\n",
      "\tKL: 4.6187 (avg 6.1220)\n",
      "\tLoss: 50.1720 (avg 68.3913)\n",
      "Lowest validation loss: 53.6080\n"
     ]
    },
    {
     "name": "stderr",
     "output_type": "stream",
     "text": [
      " 34%|███▍      | 13/38 [00:00<00:01, 14.41it/s]"
     ]
    },
    {
     "name": "stdout",
     "output_type": "stream",
     "text": [
      "Epoch: 148 (10/38)\n",
      "\tData load time: 0.133 sec\n",
      "\tGeneration time: 0.144 sec\n",
      "\tBackprop time: 0.167 sec\n",
      "\tLog probability: -9.0270 (avg -11.4499)\n",
      "\tKL: 7.6462 (avg 7.5133)\n",
      "\tLoss: 85.4885 (avg 86.5826)\n"
     ]
    },
    {
     "name": "stderr",
     "output_type": "stream",
     "text": [
      " 66%|██████▌   | 25/38 [00:01<00:00, 21.63it/s]"
     ]
    },
    {
     "name": "stdout",
     "output_type": "stream",
     "text": [
      "Epoch: 148 (20/38)\n",
      "\tData load time: 0.133 sec\n",
      "\tGeneration time: 0.144 sec\n",
      "\tBackprop time: 0.167 sec\n",
      "\tLog probability: -10.0280 (avg -13.6844)\n",
      "\tKL: 4.9403 (avg 7.1761)\n",
      "\tLoss: 59.4306 (avg 85.4453)\n"
     ]
    },
    {
     "name": "stderr",
     "output_type": "stream",
     "text": [
      " 89%|████████▉ | 34/38 [00:01<00:00, 24.16it/s]"
     ]
    },
    {
     "name": "stdout",
     "output_type": "stream",
     "text": [
      "Epoch: 148 (30/38)\n",
      "\tData load time: 0.133 sec\n",
      "\tGeneration time: 0.144 sec\n",
      "\tBackprop time: 0.167 sec\n",
      "\tLog probability: -10.9938 (avg -13.3255)\n",
      "\tKL: 5.7505 (avg 6.5997)\n",
      "\tLoss: 68.4990 (avg 79.3228)\n"
     ]
    },
    {
     "name": "stderr",
     "output_type": "stream",
     "text": [
      "100%|██████████| 38/38 [00:01<00:00, 23.41it/s]\n",
      "100%|██████████| 10/10 [00:00<00:00, 30.30it/s]\n"
     ]
    },
    {
     "name": "stdout",
     "output_type": "stream",
     "text": [
      "Epoch: 148 (10/10)\n",
      "\tData load time: 0.135 sec\n",
      "\tGeneration time: 0.145 sec\n",
      "\tLog probability: -7.5231 (avg -7.4921)\n",
      "\tKL: 4.7368 (avg 4.3775)\n",
      "\tLoss: 54.8909 (avg 51.2672)\n",
      "Saving checkpoint..\n"
     ]
    },
    {
     "name": "stderr",
     "output_type": "stream",
     "text": [
      "  0%|          | 0/38 [00:00<?, ?it/s]"
     ]
    },
    {
     "name": "stdout",
     "output_type": "stream",
     "text": [
      "Lowest validation loss: 51.2672\n"
     ]
    },
    {
     "name": "stderr",
     "output_type": "stream",
     "text": [
      " 34%|███▍      | 13/38 [00:00<00:01, 14.21it/s]"
     ]
    },
    {
     "name": "stdout",
     "output_type": "stream",
     "text": [
      "Epoch: 149 (10/38)\n",
      "\tData load time: 0.142 sec\n",
      "\tGeneration time: 0.153 sec\n",
      "\tBackprop time: 0.172 sec\n",
      "\tLog probability: -14.1808 (avg -20.4968)\n",
      "\tKL: 5.2252 (avg 5.8517)\n",
      "\tLoss: 66.4327 (avg 79.0135)\n"
     ]
    },
    {
     "name": "stderr",
     "output_type": "stream",
     "text": [
      " 66%|██████▌   | 25/38 [00:01<00:00, 21.58it/s]"
     ]
    },
    {
     "name": "stdout",
     "output_type": "stream",
     "text": [
      "Epoch: 149 (20/38)\n",
      "\tData load time: 0.142 sec\n",
      "\tGeneration time: 0.153 sec\n",
      "\tBackprop time: 0.172 sec\n",
      "\tLog probability: -39.6997 (avg -17.8071)\n",
      "\tKL: 8.6076 (avg 5.6264)\n",
      "\tLoss: 125.7757 (avg 74.0707)\n"
     ]
    },
    {
     "name": "stderr",
     "output_type": "stream",
     "text": [
      " 89%|████████▉ | 34/38 [00:01<00:00, 24.19it/s]"
     ]
    },
    {
     "name": "stdout",
     "output_type": "stream",
     "text": [
      "Epoch: 149 (30/38)\n",
      "\tData load time: 0.142 sec\n",
      "\tGeneration time: 0.153 sec\n",
      "\tBackprop time: 0.172 sec\n",
      "\tLog probability: -14.3132 (avg -15.9123)\n",
      "\tKL: 5.8188 (avg 5.5005)\n",
      "\tLoss: 72.5013 (avg 70.9178)\n"
     ]
    },
    {
     "name": "stderr",
     "output_type": "stream",
     "text": [
      "100%|██████████| 38/38 [00:01<00:00, 23.42it/s]\n",
      "100%|██████████| 10/10 [00:00<00:00, 30.34it/s]\n"
     ]
    },
    {
     "name": "stdout",
     "output_type": "stream",
     "text": [
      "Epoch: 149 (10/10)\n",
      "\tData load time: 0.139 sec\n",
      "\tGeneration time: 0.147 sec\n",
      "\tLog probability: -3.8497 (avg -4.7429)\n",
      "\tKL: 3.7575 (avg 4.2817)\n",
      "\tLoss: 41.4245 (avg 47.5597)\n",
      "Saving checkpoint..\n"
     ]
    },
    {
     "name": "stderr",
     "output_type": "stream",
     "text": [
      "  0%|          | 0/38 [00:00<?, ?it/s]"
     ]
    },
    {
     "name": "stdout",
     "output_type": "stream",
     "text": [
      "Lowest validation loss: 47.5597\n"
     ]
    },
    {
     "name": "stderr",
     "output_type": "stream",
     "text": [
      " 34%|███▍      | 13/38 [00:00<00:01, 14.32it/s]"
     ]
    },
    {
     "name": "stdout",
     "output_type": "stream",
     "text": [
      "Epoch: 150 (10/38)\n",
      "\tData load time: 0.141 sec\n",
      "\tGeneration time: 0.149 sec\n",
      "\tBackprop time: 0.170 sec\n",
      "\tLog probability: -16.7132 (avg -11.9473)\n",
      "\tKL: 4.0733 (avg 4.8244)\n",
      "\tLoss: 57.4464 (avg 60.1914)\n"
     ]
    },
    {
     "name": "stderr",
     "output_type": "stream",
     "text": [
      " 66%|██████▌   | 25/38 [00:01<00:00, 21.60it/s]"
     ]
    },
    {
     "name": "stdout",
     "output_type": "stream",
     "text": [
      "Epoch: 150 (20/38)\n",
      "\tData load time: 0.141 sec\n",
      "\tGeneration time: 0.149 sec\n",
      "\tBackprop time: 0.170 sec\n",
      "\tLog probability: -10.8338 (avg -13.4655)\n",
      "\tKL: 4.3457 (avg 4.9087)\n",
      "\tLoss: 54.2905 (avg 62.5523)\n"
     ]
    },
    {
     "name": "stderr",
     "output_type": "stream",
     "text": [
      " 89%|████████▉ | 34/38 [00:01<00:00, 24.19it/s]"
     ]
    },
    {
     "name": "stdout",
     "output_type": "stream",
     "text": [
      "Epoch: 150 (30/38)\n",
      "\tData load time: 0.141 sec\n",
      "\tGeneration time: 0.149 sec\n",
      "\tBackprop time: 0.170 sec\n",
      "\tLog probability: -5.9367 (avg -13.2915)\n",
      "\tKL: 3.8579 (avg 4.9123)\n",
      "\tLoss: 44.5161 (avg 62.4143)\n"
     ]
    },
    {
     "name": "stderr",
     "output_type": "stream",
     "text": [
      "100%|██████████| 38/38 [00:01<00:00, 23.43it/s]\n",
      "100%|██████████| 10/10 [00:00<00:00, 30.93it/s]\n"
     ]
    },
    {
     "name": "stdout",
     "output_type": "stream",
     "text": [
      "Epoch: 150 (10/10)\n",
      "\tData load time: 0.123 sec\n",
      "\tGeneration time: 0.131 sec\n",
      "\tLog probability: -2.5323 (avg -4.3499)\n",
      "\tKL: 4.2189 (avg 4.3091)\n",
      "\tLoss: 44.7213 (avg 47.4407)\n",
      "Saving checkpoint..\n"
     ]
    },
    {
     "name": "stderr",
     "output_type": "stream",
     "text": [
      "  0%|          | 0/38 [00:00<?, ?it/s]"
     ]
    },
    {
     "name": "stdout",
     "output_type": "stream",
     "text": [
      "Lowest validation loss: 47.4407\n"
     ]
    },
    {
     "name": "stderr",
     "output_type": "stream",
     "text": [
      " 34%|███▍      | 13/38 [00:00<00:01, 14.43it/s]"
     ]
    },
    {
     "name": "stdout",
     "output_type": "stream",
     "text": [
      "Epoch: 151 (10/38)\n",
      "\tData load time: 0.136 sec\n",
      "\tGeneration time: 0.147 sec\n",
      "\tBackprop time: 0.167 sec\n",
      "\tLog probability: -12.7324 (avg -12.1985)\n",
      "\tKL: 5.3789 (avg 5.0363)\n",
      "\tLoss: 66.5212 (avg 62.5616)\n"
     ]
    },
    {
     "name": "stderr",
     "output_type": "stream",
     "text": [
      " 66%|██████▌   | 25/38 [00:01<00:00, 21.49it/s]"
     ]
    },
    {
     "name": "stdout",
     "output_type": "stream",
     "text": [
      "Epoch: 151 (20/38)\n",
      "\tData load time: 0.136 sec\n",
      "\tGeneration time: 0.147 sec\n",
      "\tBackprop time: 0.167 sec\n",
      "\tLog probability: -10.1453 (avg -11.3929)\n",
      "\tKL: 5.2776 (avg 4.9793)\n",
      "\tLoss: 62.9209 (avg 61.1862)\n"
     ]
    },
    {
     "name": "stderr",
     "output_type": "stream",
     "text": [
      " 89%|████████▉ | 34/38 [00:01<00:00, 24.12it/s]"
     ]
    },
    {
     "name": "stdout",
     "output_type": "stream",
     "text": [
      "Epoch: 151 (30/38)\n",
      "\tData load time: 0.136 sec\n",
      "\tGeneration time: 0.147 sec\n",
      "\tBackprop time: 0.167 sec\n",
      "\tLog probability: -10.3885 (avg -11.6789)\n",
      "\tKL: 4.4499 (avg 5.0562)\n",
      "\tLoss: 54.8876 (avg 62.2408)\n"
     ]
    },
    {
     "name": "stderr",
     "output_type": "stream",
     "text": [
      "100%|██████████| 38/38 [00:01<00:00, 23.39it/s]\n",
      "100%|██████████| 10/10 [00:00<00:00, 29.83it/s]\n",
      "  0%|          | 0/38 [00:00<?, ?it/s]"
     ]
    },
    {
     "name": "stdout",
     "output_type": "stream",
     "text": [
      "Epoch: 151 (10/10)\n",
      "\tData load time: 0.144 sec\n",
      "\tGeneration time: 0.154 sec\n",
      "\tLog probability: -2.3911 (avg -4.3484)\n",
      "\tKL: 5.4563 (avg 4.6849)\n",
      "\tLoss: 56.9542 (avg 51.1973)\n",
      "Lowest validation loss: 47.4407\n"
     ]
    },
    {
     "name": "stderr",
     "output_type": "stream",
     "text": [
      " 34%|███▍      | 13/38 [00:00<00:01, 14.44it/s]"
     ]
    },
    {
     "name": "stdout",
     "output_type": "stream",
     "text": [
      "Epoch: 152 (10/38)\n",
      "\tData load time: 0.137 sec\n",
      "\tGeneration time: 0.146 sec\n",
      "\tBackprop time: 0.168 sec\n",
      "\tLog probability: -4.0174 (avg -14.0315)\n",
      "\tKL: 4.1315 (avg 4.8868)\n",
      "\tLoss: 45.3319 (avg 62.8994)\n"
     ]
    },
    {
     "name": "stderr",
     "output_type": "stream",
     "text": [
      " 66%|██████▌   | 25/38 [00:01<00:00, 21.68it/s]"
     ]
    },
    {
     "name": "stdout",
     "output_type": "stream",
     "text": [
      "Epoch: 152 (20/38)\n",
      "\tData load time: 0.137 sec\n",
      "\tGeneration time: 0.146 sec\n",
      "\tBackprop time: 0.168 sec\n",
      "\tLog probability: -15.6962 (avg -13.0049)\n",
      "\tKL: 5.9813 (avg 4.7200)\n",
      "\tLoss: 75.5094 (avg 60.2048)\n"
     ]
    },
    {
     "name": "stderr",
     "output_type": "stream",
     "text": [
      " 89%|████████▉ | 34/38 [00:01<00:00, 24.18it/s]"
     ]
    },
    {
     "name": "stdout",
     "output_type": "stream",
     "text": [
      "Epoch: 152 (30/38)\n",
      "\tData load time: 0.137 sec\n",
      "\tGeneration time: 0.146 sec\n",
      "\tBackprop time: 0.168 sec\n",
      "\tLog probability: -12.6565 (avg -13.4804)\n",
      "\tKL: 4.3671 (avg 4.8917)\n",
      "\tLoss: 56.3274 (avg 62.3975)\n"
     ]
    },
    {
     "name": "stderr",
     "output_type": "stream",
     "text": [
      "100%|██████████| 38/38 [00:01<00:00, 23.38it/s]\n",
      "100%|██████████| 10/10 [00:00<00:00, 30.43it/s]\n",
      "  0%|          | 0/38 [00:00<?, ?it/s]"
     ]
    },
    {
     "name": "stdout",
     "output_type": "stream",
     "text": [
      "Epoch: 152 (10/10)\n",
      "\tData load time: 0.139 sec\n",
      "\tGeneration time: 0.146 sec\n",
      "\tLog probability: -7.9729 (avg -6.0589)\n",
      "\tKL: 7.9628 (avg 6.2339)\n",
      "\tLoss: 87.6007 (avg 68.3981)\n",
      "Lowest validation loss: 47.4407\n"
     ]
    },
    {
     "name": "stderr",
     "output_type": "stream",
     "text": [
      " 34%|███▍      | 13/38 [00:00<00:01, 14.32it/s]"
     ]
    },
    {
     "name": "stdout",
     "output_type": "stream",
     "text": [
      "Epoch: 153 (10/38)\n",
      "\tData load time: 0.137 sec\n",
      "\tGeneration time: 0.150 sec\n",
      "\tBackprop time: 0.171 sec\n",
      "\tLog probability: -10.0758 (avg -10.5605)\n",
      "\tKL: 4.9159 (avg 5.1851)\n",
      "\tLoss: 59.2347 (avg 62.4118)\n"
     ]
    },
    {
     "name": "stderr",
     "output_type": "stream",
     "text": [
      " 66%|██████▌   | 25/38 [00:01<00:00, 21.56it/s]"
     ]
    },
    {
     "name": "stdout",
     "output_type": "stream",
     "text": [
      "Epoch: 153 (20/38)\n",
      "\tData load time: 0.137 sec\n",
      "\tGeneration time: 0.150 sec\n",
      "\tBackprop time: 0.171 sec\n",
      "\tLog probability: -18.4689 (avg -12.4694)\n",
      "\tKL: 5.8773 (avg 5.2691)\n",
      "\tLoss: 77.2423 (avg 65.1603)\n"
     ]
    },
    {
     "name": "stderr",
     "output_type": "stream",
     "text": [
      " 89%|████████▉ | 34/38 [00:01<00:00, 24.18it/s]"
     ]
    },
    {
     "name": "stdout",
     "output_type": "stream",
     "text": [
      "Epoch: 153 (30/38)\n",
      "\tData load time: 0.137 sec\n",
      "\tGeneration time: 0.150 sec\n",
      "\tBackprop time: 0.171 sec\n",
      "\tLog probability: -9.9770 (avg -12.0519)\n",
      "\tKL: 5.3465 (avg 5.1154)\n",
      "\tLoss: 63.4420 (avg 63.2056)\n"
     ]
    },
    {
     "name": "stderr",
     "output_type": "stream",
     "text": [
      "100%|██████████| 38/38 [00:01<00:00, 23.43it/s]\n",
      "100%|██████████| 10/10 [00:00<00:00, 30.03it/s]\n",
      "  0%|          | 0/38 [00:00<?, ?it/s]"
     ]
    },
    {
     "name": "stdout",
     "output_type": "stream",
     "text": [
      "Epoch: 153 (10/10)\n",
      "\tData load time: 0.140 sec\n",
      "\tGeneration time: 0.151 sec\n",
      "\tLog probability: -9.3360 (avg -5.0859)\n",
      "\tKL: 4.3851 (avg 4.3333)\n",
      "\tLoss: 53.1872 (avg 48.4194)\n",
      "Lowest validation loss: 47.4407\n"
     ]
    },
    {
     "name": "stderr",
     "output_type": "stream",
     "text": [
      " 34%|███▍      | 13/38 [00:00<00:01, 14.36it/s]"
     ]
    },
    {
     "name": "stdout",
     "output_type": "stream",
     "text": [
      "Epoch: 154 (10/38)\n",
      "\tData load time: 0.141 sec\n",
      "\tGeneration time: 0.148 sec\n",
      "\tBackprop time: 0.170 sec\n",
      "\tLog probability: -5.5865 (avg -17.4855)\n",
      "\tKL: 4.7979 (avg 5.3658)\n",
      "\tLoss: 53.5656 (avg 71.1435)\n"
     ]
    },
    {
     "name": "stderr",
     "output_type": "stream",
     "text": [
      " 66%|██████▌   | 25/38 [00:01<00:00, 21.57it/s]"
     ]
    },
    {
     "name": "stdout",
     "output_type": "stream",
     "text": [
      "Epoch: 154 (20/38)\n",
      "\tData load time: 0.141 sec\n",
      "\tGeneration time: 0.148 sec\n",
      "\tBackprop time: 0.170 sec\n",
      "\tLog probability: -14.6834 (avg -15.2656)\n",
      "\tKL: 5.3841 (avg 5.3666)\n",
      "\tLoss: 68.5247 (avg 68.9316)\n"
     ]
    },
    {
     "name": "stderr",
     "output_type": "stream",
     "text": [
      " 89%|████████▉ | 34/38 [00:01<00:00, 24.16it/s]"
     ]
    },
    {
     "name": "stdout",
     "output_type": "stream",
     "text": [
      "Epoch: 154 (30/38)\n",
      "\tData load time: 0.141 sec\n",
      "\tGeneration time: 0.148 sec\n",
      "\tBackprop time: 0.170 sec\n",
      "\tLog probability: -7.8898 (avg -14.1075)\n",
      "\tKL: 4.0423 (avg 5.3588)\n",
      "\tLoss: 48.3127 (avg 67.6956)\n"
     ]
    },
    {
     "name": "stderr",
     "output_type": "stream",
     "text": [
      "100%|██████████| 38/38 [00:01<00:00, 23.43it/s]\n",
      "100%|██████████| 10/10 [00:00<00:00, 30.43it/s]\n",
      "  0%|          | 0/38 [00:00<?, ?it/s]"
     ]
    },
    {
     "name": "stdout",
     "output_type": "stream",
     "text": [
      "Epoch: 154 (10/10)\n",
      "\tData load time: 0.143 sec\n",
      "\tGeneration time: 0.149 sec\n",
      "\tLog probability: -2.9015 (avg -4.2920)\n",
      "\tKL: 4.7226 (avg 4.4487)\n",
      "\tLoss: 50.1271 (avg 48.7791)\n",
      "Lowest validation loss: 47.4407\n"
     ]
    },
    {
     "name": "stderr",
     "output_type": "stream",
     "text": [
      " 34%|███▍      | 13/38 [00:00<00:01, 14.46it/s]"
     ]
    },
    {
     "name": "stdout",
     "output_type": "stream",
     "text": [
      "Epoch: 155 (10/38)\n",
      "\tData load time: 0.136 sec\n",
      "\tGeneration time: 0.146 sec\n",
      "\tBackprop time: 0.167 sec\n",
      "\tLog probability: -21.1878 (avg -14.8858)\n",
      "\tKL: 5.4694 (avg 5.8850)\n",
      "\tLoss: 75.8817 (avg 73.7361)\n"
     ]
    },
    {
     "name": "stderr",
     "output_type": "stream",
     "text": [
      " 66%|██████▌   | 25/38 [00:01<00:00, 21.66it/s]"
     ]
    },
    {
     "name": "stdout",
     "output_type": "stream",
     "text": [
      "Epoch: 155 (20/38)\n",
      "\tData load time: 0.136 sec\n",
      "\tGeneration time: 0.146 sec\n",
      "\tBackprop time: 0.167 sec\n",
      "\tLog probability: -9.8893 (avg -14.1049)\n",
      "\tKL: 4.7354 (avg 5.5706)\n",
      "\tLoss: 57.2433 (avg 69.8109)\n"
     ]
    },
    {
     "name": "stderr",
     "output_type": "stream",
     "text": [
      " 89%|████████▉ | 34/38 [00:01<00:00, 24.20it/s]"
     ]
    },
    {
     "name": "stdout",
     "output_type": "stream",
     "text": [
      "Epoch: 155 (30/38)\n",
      "\tData load time: 0.136 sec\n",
      "\tGeneration time: 0.146 sec\n",
      "\tBackprop time: 0.167 sec\n",
      "\tLog probability: -12.3635 (avg -13.3963)\n",
      "\tKL: 5.2496 (avg 5.3107)\n",
      "\tLoss: 64.8596 (avg 66.5029)\n"
     ]
    },
    {
     "name": "stderr",
     "output_type": "stream",
     "text": [
      "100%|██████████| 38/38 [00:01<00:00, 23.46it/s]\n",
      "100%|██████████| 10/10 [00:00<00:00, 30.89it/s]\n",
      "  0%|          | 0/38 [00:00<?, ?it/s]"
     ]
    },
    {
     "name": "stdout",
     "output_type": "stream",
     "text": [
      "Epoch: 155 (10/10)\n",
      "\tData load time: 0.131 sec\n",
      "\tGeneration time: 0.141 sec\n",
      "\tLog probability: -4.2228 (avg -5.0140)\n",
      "\tKL: 3.4777 (avg 4.4244)\n",
      "\tLoss: 39.0000 (avg 49.2578)\n",
      "Lowest validation loss: 47.4407\n"
     ]
    },
    {
     "name": "stderr",
     "output_type": "stream",
     "text": [
      " 34%|███▍      | 13/38 [00:00<00:01, 13.82it/s]"
     ]
    },
    {
     "name": "stdout",
     "output_type": "stream",
     "text": [
      "Epoch: 156 (10/38)\n",
      "\tData load time: 0.148 sec\n",
      "\tGeneration time: 0.159 sec\n",
      "\tBackprop time: 0.180 sec\n",
      "\tLog probability: -8.6718 (avg -14.1287)\n",
      "\tKL: 5.5392 (avg 5.2514)\n",
      "\tLoss: 64.0638 (avg 66.6424)\n"
     ]
    },
    {
     "name": "stderr",
     "output_type": "stream",
     "text": [
      " 66%|██████▌   | 25/38 [00:01<00:00, 21.25it/s]"
     ]
    },
    {
     "name": "stdout",
     "output_type": "stream",
     "text": [
      "Epoch: 156 (20/38)\n",
      "\tData load time: 0.148 sec\n",
      "\tGeneration time: 0.159 sec\n",
      "\tBackprop time: 0.180 sec\n",
      "\tLog probability: -39.7481 (avg -14.3217)\n",
      "\tKL: 6.2838 (avg 5.6397)\n",
      "\tLoss: 102.5860 (avg 70.7182)\n"
     ]
    },
    {
     "name": "stderr",
     "output_type": "stream",
     "text": [
      " 89%|████████▉ | 34/38 [00:01<00:00, 24.00it/s]"
     ]
    },
    {
     "name": "stdout",
     "output_type": "stream",
     "text": [
      "Epoch: 156 (30/38)\n",
      "\tData load time: 0.148 sec\n",
      "\tGeneration time: 0.159 sec\n",
      "\tBackprop time: 0.180 sec\n",
      "\tLog probability: -6.7125 (avg -14.0760)\n",
      "\tKL: 5.4438 (avg 5.5444)\n",
      "\tLoss: 61.1501 (avg 69.5200)\n"
     ]
    },
    {
     "name": "stderr",
     "output_type": "stream",
     "text": [
      "100%|██████████| 38/38 [00:01<00:00, 23.26it/s]\n",
      "100%|██████████| 10/10 [00:00<00:00, 30.34it/s]\n",
      "  0%|          | 0/38 [00:00<?, ?it/s]"
     ]
    },
    {
     "name": "stdout",
     "output_type": "stream",
     "text": [
      "Epoch: 156 (10/10)\n",
      "\tData load time: 0.140 sec\n",
      "\tGeneration time: 0.150 sec\n",
      "\tLog probability: -20.1210 (avg -21.1510)\n",
      "\tKL: 4.6875 (avg 5.1256)\n",
      "\tLoss: 66.9961 (avg 72.4071)\n",
      "Lowest validation loss: 47.4407\n"
     ]
    },
    {
     "name": "stderr",
     "output_type": "stream",
     "text": [
      " 34%|███▍      | 13/38 [00:00<00:01, 14.27it/s]"
     ]
    },
    {
     "name": "stdout",
     "output_type": "stream",
     "text": [
      "Epoch: 157 (10/38)\n",
      "\tData load time: 0.119 sec\n",
      "\tGeneration time: 0.131 sec\n",
      "\tBackprop time: 0.170 sec\n",
      "\tLog probability: -9.9309 (avg -17.6603)\n",
      "\tKL: 5.9902 (avg 6.3748)\n",
      "\tLoss: 69.8331 (avg 81.4083)\n"
     ]
    },
    {
     "name": "stderr",
     "output_type": "stream",
     "text": [
      " 66%|██████▌   | 25/38 [00:01<00:00, 21.38it/s]"
     ]
    },
    {
     "name": "stdout",
     "output_type": "stream",
     "text": [
      "Epoch: 157 (20/38)\n",
      "\tData load time: 0.119 sec\n",
      "\tGeneration time: 0.131 sec\n",
      "\tBackprop time: 0.170 sec\n",
      "\tLog probability: -13.4323 (avg -18.9712)\n",
      "\tKL: 6.3053 (avg 6.2477)\n",
      "\tLoss: 76.4855 (avg 81.4484)\n"
     ]
    },
    {
     "name": "stderr",
     "output_type": "stream",
     "text": [
      " 89%|████████▉ | 34/38 [00:01<00:00, 24.04it/s]"
     ]
    },
    {
     "name": "stdout",
     "output_type": "stream",
     "text": [
      "Epoch: 157 (30/38)\n",
      "\tData load time: 0.119 sec\n",
      "\tGeneration time: 0.131 sec\n",
      "\tBackprop time: 0.170 sec\n",
      "\tLog probability: -9.4360 (avg -17.5474)\n",
      "\tKL: 4.3634 (avg 5.8606)\n",
      "\tLoss: 53.0703 (avg 76.1538)\n"
     ]
    },
    {
     "name": "stderr",
     "output_type": "stream",
     "text": [
      "100%|██████████| 38/38 [00:01<00:00, 23.23it/s]\n",
      "100%|██████████| 10/10 [00:00<00:00, 27.80it/s]\n",
      "  0%|          | 0/38 [00:00<?, ?it/s]"
     ]
    },
    {
     "name": "stdout",
     "output_type": "stream",
     "text": [
      "Epoch: 157 (10/10)\n",
      "\tData load time: 0.157 sec\n",
      "\tGeneration time: 0.167 sec\n",
      "\tLog probability: -33.5422 (avg -14.5344)\n",
      "\tKL: 9.1821 (avg 7.6252)\n",
      "\tLoss: 125.3634 (avg 90.7867)\n",
      "Lowest validation loss: 47.4407\n"
     ]
    },
    {
     "name": "stderr",
     "output_type": "stream",
     "text": [
      " 34%|███▍      | 13/38 [00:00<00:01, 14.25it/s]"
     ]
    },
    {
     "name": "stdout",
     "output_type": "stream",
     "text": [
      "Epoch: 158 (10/38)\n",
      "\tData load time: 0.127 sec\n",
      "\tGeneration time: 0.138 sec\n",
      "\tBackprop time: 0.168 sec\n",
      "\tLog probability: -13.8786 (avg -13.5600)\n",
      "\tKL: 7.4758 (avg 9.3539)\n",
      "\tLoss: 88.6365 (avg 107.0994)\n"
     ]
    },
    {
     "name": "stderr",
     "output_type": "stream",
     "text": [
      " 66%|██████▌   | 25/38 [00:01<00:00, 21.60it/s]"
     ]
    },
    {
     "name": "stdout",
     "output_type": "stream",
     "text": [
      "Epoch: 158 (20/38)\n",
      "\tData load time: 0.127 sec\n",
      "\tGeneration time: 0.138 sec\n",
      "\tBackprop time: 0.168 sec\n",
      "\tLog probability: -15.3292 (avg -19.2806)\n",
      "\tKL: 12.1874 (avg 9.4723)\n",
      "\tLoss: 137.2032 (avg 114.0038)\n"
     ]
    },
    {
     "name": "stderr",
     "output_type": "stream",
     "text": [
      " 89%|████████▉ | 34/38 [00:01<00:00, 24.11it/s]"
     ]
    },
    {
     "name": "stdout",
     "output_type": "stream",
     "text": [
      "Epoch: 158 (30/38)\n",
      "\tData load time: 0.127 sec\n",
      "\tGeneration time: 0.138 sec\n",
      "\tBackprop time: 0.168 sec\n",
      "\tLog probability: -17.4496 (avg -18.1261)\n",
      "\tKL: 7.3902 (avg 9.4425)\n",
      "\tLoss: 91.3515 (avg 112.5507)\n"
     ]
    },
    {
     "name": "stderr",
     "output_type": "stream",
     "text": [
      "100%|██████████| 38/38 [00:01<00:00, 23.17it/s]\n",
      "100%|██████████| 10/10 [00:00<00:00, 28.27it/s]\n",
      "  0%|          | 0/38 [00:00<?, ?it/s]"
     ]
    },
    {
     "name": "stdout",
     "output_type": "stream",
     "text": [
      "Epoch: 158 (10/10)\n",
      "\tData load time: 0.142 sec\n",
      "\tGeneration time: 0.152 sec\n",
      "\tLog probability: -14.8472 (avg -12.7499)\n",
      "\tKL: 5.1309 (avg 6.8156)\n",
      "\tLoss: 66.1567 (avg 80.9056)\n",
      "Lowest validation loss: 47.4407\n"
     ]
    },
    {
     "name": "stderr",
     "output_type": "stream",
     "text": [
      " 34%|███▍      | 13/38 [00:00<00:01, 14.15it/s]"
     ]
    },
    {
     "name": "stdout",
     "output_type": "stream",
     "text": [
      "Epoch: 159 (10/38)\n",
      "\tData load time: 0.144 sec\n",
      "\tGeneration time: 0.152 sec\n",
      "\tBackprop time: 0.173 sec\n",
      "\tLog probability: -13.1986 (avg -23.5587)\n",
      "\tKL: 8.1933 (avg 8.1342)\n",
      "\tLoss: 95.1311 (avg 104.9004)\n"
     ]
    },
    {
     "name": "stderr",
     "output_type": "stream",
     "text": [
      " 66%|██████▌   | 25/38 [00:01<00:00, 21.52it/s]"
     ]
    },
    {
     "name": "stdout",
     "output_type": "stream",
     "text": [
      "Epoch: 159 (20/38)\n",
      "\tData load time: 0.144 sec\n",
      "\tGeneration time: 0.152 sec\n",
      "\tBackprop time: 0.173 sec\n",
      "\tLog probability: -12.3367 (avg -20.9458)\n",
      "\tKL: 7.1278 (avg 7.6525)\n",
      "\tLoss: 83.6145 (avg 97.4704)\n"
     ]
    },
    {
     "name": "stderr",
     "output_type": "stream",
     "text": [
      " 89%|████████▉ | 34/38 [00:01<00:00, 24.03it/s]"
     ]
    },
    {
     "name": "stdout",
     "output_type": "stream",
     "text": [
      "Epoch: 159 (30/38)\n",
      "\tData load time: 0.144 sec\n",
      "\tGeneration time: 0.152 sec\n",
      "\tBackprop time: 0.173 sec\n",
      "\tLog probability: -15.0977 (avg -21.7534)\n",
      "\tKL: 8.8741 (avg 7.5362)\n",
      "\tLoss: 103.8388 (avg 97.1151)\n"
     ]
    },
    {
     "name": "stderr",
     "output_type": "stream",
     "text": [
      "100%|██████████| 38/38 [00:01<00:00, 23.35it/s]\n",
      "100%|██████████| 10/10 [00:00<00:00, 30.25it/s]\n",
      "  0%|          | 0/38 [00:00<?, ?it/s]"
     ]
    },
    {
     "name": "stdout",
     "output_type": "stream",
     "text": [
      "Epoch: 159 (10/10)\n",
      "\tData load time: 0.143 sec\n",
      "\tGeneration time: 0.152 sec\n",
      "\tLog probability: -7.9558 (avg -11.8754)\n",
      "\tKL: 11.3103 (avg 11.3147)\n",
      "\tLoss: 121.0585 (avg 125.0225)\n",
      "Lowest validation loss: 47.4407\n"
     ]
    },
    {
     "name": "stderr",
     "output_type": "stream",
     "text": [
      " 34%|███▍      | 13/38 [00:00<00:01, 14.73it/s]"
     ]
    },
    {
     "name": "stdout",
     "output_type": "stream",
     "text": [
      "Epoch: 160 (10/38)\n",
      "\tData load time: 0.130 sec\n",
      "\tGeneration time: 0.140 sec\n",
      "\tBackprop time: 0.162 sec\n",
      "\tLog probability: -32.2010 (avg -23.6012)\n",
      "\tKL: 8.1278 (avg 12.0103)\n",
      "\tLoss: 113.4787 (avg 143.7042)\n"
     ]
    },
    {
     "name": "stderr",
     "output_type": "stream",
     "text": [
      " 66%|██████▌   | 25/38 [00:01<00:00, 21.72it/s]"
     ]
    },
    {
     "name": "stdout",
     "output_type": "stream",
     "text": [
      "Epoch: 160 (20/38)\n",
      "\tData load time: 0.130 sec\n",
      "\tGeneration time: 0.140 sec\n",
      "\tBackprop time: 0.162 sec\n",
      "\tLog probability: -25.9498 (avg -22.5105)\n",
      "\tKL: 12.0260 (avg 10.3815)\n",
      "\tLoss: 146.2094 (avg 126.3250)\n"
     ]
    },
    {
     "name": "stderr",
     "output_type": "stream",
     "text": [
      " 89%|████████▉ | 34/38 [00:01<00:00, 24.24it/s]"
     ]
    },
    {
     "name": "stdout",
     "output_type": "stream",
     "text": [
      "Epoch: 160 (30/38)\n",
      "\tData load time: 0.130 sec\n",
      "\tGeneration time: 0.140 sec\n",
      "\tBackprop time: 0.162 sec\n",
      "\tLog probability: -26.1173 (avg -21.8665)\n",
      "\tKL: 9.1439 (avg 10.2310)\n",
      "\tLoss: 117.5564 (avg 124.1763)\n"
     ]
    },
    {
     "name": "stderr",
     "output_type": "stream",
     "text": [
      "100%|██████████| 38/38 [00:01<00:00, 23.43it/s]\n",
      "100%|██████████| 10/10 [00:00<00:00, 29.74it/s]\n",
      "  0%|          | 0/38 [00:00<?, ?it/s]"
     ]
    },
    {
     "name": "stdout",
     "output_type": "stream",
     "text": [
      "Epoch: 160 (10/10)\n",
      "\tData load time: 0.138 sec\n",
      "\tGeneration time: 0.147 sec\n",
      "\tLog probability: -11.3376 (avg -17.0174)\n",
      "\tKL: 8.4418 (avg 8.4594)\n",
      "\tLoss: 95.7560 (avg 101.6117)\n",
      "Lowest validation loss: 47.4407\n"
     ]
    },
    {
     "name": "stderr",
     "output_type": "stream",
     "text": [
      " 34%|███▍      | 13/38 [00:00<00:01, 14.56it/s]"
     ]
    },
    {
     "name": "stdout",
     "output_type": "stream",
     "text": [
      "Epoch: 161 (10/38)\n",
      "\tData load time: 0.136 sec\n",
      "\tGeneration time: 0.144 sec\n",
      "\tBackprop time: 0.166 sec\n",
      "\tLog probability: -8.3709 (avg -16.2031)\n",
      "\tKL: 9.6528 (avg 8.5919)\n",
      "\tLoss: 104.8993 (avg 102.1224)\n"
     ]
    },
    {
     "name": "stderr",
     "output_type": "stream",
     "text": [
      " 66%|██████▌   | 25/38 [00:01<00:00, 21.71it/s]"
     ]
    },
    {
     "name": "stdout",
     "output_type": "stream",
     "text": [
      "Epoch: 161 (20/38)\n",
      "\tData load time: 0.136 sec\n",
      "\tGeneration time: 0.144 sec\n",
      "\tBackprop time: 0.166 sec\n",
      "\tLog probability: -17.9845 (avg -19.0860)\n",
      "\tKL: 10.6588 (avg 9.2051)\n",
      "\tLoss: 124.5727 (avg 111.1370)\n"
     ]
    },
    {
     "name": "stderr",
     "output_type": "stream",
     "text": [
      " 89%|████████▉ | 34/38 [00:01<00:00, 24.17it/s]"
     ]
    },
    {
     "name": "stdout",
     "output_type": "stream",
     "text": [
      "Epoch: 161 (30/38)\n",
      "\tData load time: 0.136 sec\n",
      "\tGeneration time: 0.144 sec\n",
      "\tBackprop time: 0.166 sec\n",
      "\tLog probability: -13.8569 (avg -19.3767)\n",
      "\tKL: 6.9608 (avg 8.8918)\n",
      "\tLoss: 83.4645 (avg 108.2943)\n"
     ]
    },
    {
     "name": "stderr",
     "output_type": "stream",
     "text": [
      "100%|██████████| 38/38 [00:01<00:00, 23.53it/s]\n",
      "100%|██████████| 10/10 [00:00<00:00, 30.42it/s]\n",
      "  0%|          | 0/38 [00:00<?, ?it/s]"
     ]
    },
    {
     "name": "stdout",
     "output_type": "stream",
     "text": [
      "Epoch: 161 (10/10)\n",
      "\tData load time: 0.138 sec\n",
      "\tGeneration time: 0.147 sec\n",
      "\tLog probability: -11.5354 (avg -7.4123)\n",
      "\tKL: 9.5257 (avg 8.4588)\n",
      "\tLoss: 106.7920 (avg 92.0005)\n",
      "Lowest validation loss: 47.4407\n"
     ]
    },
    {
     "name": "stderr",
     "output_type": "stream",
     "text": [
      " 34%|███▍      | 13/38 [00:00<00:01, 14.19it/s]"
     ]
    },
    {
     "name": "stdout",
     "output_type": "stream",
     "text": [
      "Epoch: 162 (10/38)\n",
      "\tData load time: 0.142 sec\n",
      "\tGeneration time: 0.149 sec\n",
      "\tBackprop time: 0.172 sec\n",
      "\tLog probability: -21.6100 (avg -21.8202)\n",
      "\tKL: 6.2755 (avg 8.0575)\n",
      "\tLoss: 84.3648 (avg 102.3953)\n"
     ]
    },
    {
     "name": "stderr",
     "output_type": "stream",
     "text": [
      " 66%|██████▌   | 25/38 [00:01<00:00, 21.58it/s]"
     ]
    },
    {
     "name": "stdout",
     "output_type": "stream",
     "text": [
      "Epoch: 162 (20/38)\n",
      "\tData load time: 0.142 sec\n",
      "\tGeneration time: 0.149 sec\n",
      "\tBackprop time: 0.172 sec\n",
      "\tLog probability: -8.5591 (avg -18.6088)\n",
      "\tKL: 7.1387 (avg 7.6359)\n",
      "\tLoss: 79.9458 (avg 94.9680)\n"
     ]
    },
    {
     "name": "stderr",
     "output_type": "stream",
     "text": [
      " 89%|████████▉ | 34/38 [00:01<00:00, 24.19it/s]"
     ]
    },
    {
     "name": "stdout",
     "output_type": "stream",
     "text": [
      "Epoch: 162 (30/38)\n",
      "\tData load time: 0.142 sec\n",
      "\tGeneration time: 0.149 sec\n",
      "\tBackprop time: 0.172 sec\n",
      "\tLog probability: -7.4662 (avg -18.7638)\n",
      "\tKL: 9.9766 (avg 7.7411)\n",
      "\tLoss: 107.2319 (avg 96.1750)\n"
     ]
    },
    {
     "name": "stderr",
     "output_type": "stream",
     "text": [
      "100%|██████████| 38/38 [00:01<00:00, 23.42it/s]\n",
      "100%|██████████| 10/10 [00:00<00:00, 29.78it/s]\n",
      "  0%|          | 0/38 [00:00<?, ?it/s]"
     ]
    },
    {
     "name": "stdout",
     "output_type": "stream",
     "text": [
      "Epoch: 162 (10/10)\n",
      "\tData load time: 0.137 sec\n",
      "\tGeneration time: 0.147 sec\n",
      "\tLog probability: -34.4097 (avg -24.5613)\n",
      "\tKL: 18.9343 (avg 13.1056)\n",
      "\tLoss: 223.7531 (avg 155.6178)\n",
      "Lowest validation loss: 47.4407\n"
     ]
    },
    {
     "name": "stderr",
     "output_type": "stream",
     "text": [
      " 34%|███▍      | 13/38 [00:00<00:01, 14.31it/s]"
     ]
    },
    {
     "name": "stdout",
     "output_type": "stream",
     "text": [
      "Epoch: 163 (10/38)\n",
      "\tData load time: 0.138 sec\n",
      "\tGeneration time: 0.149 sec\n",
      "\tBackprop time: 0.169 sec\n",
      "\tLog probability: -24.0648 (avg -34.5985)\n",
      "\tKL: 9.7854 (avg 11.7632)\n",
      "\tLoss: 121.9192 (avg 152.2301)\n"
     ]
    },
    {
     "name": "stderr",
     "output_type": "stream",
     "text": [
      " 66%|██████▌   | 25/38 [00:01<00:00, 21.49it/s]"
     ]
    },
    {
     "name": "stdout",
     "output_type": "stream",
     "text": [
      "Epoch: 163 (20/38)\n",
      "\tData load time: 0.138 sec\n",
      "\tGeneration time: 0.149 sec\n",
      "\tBackprop time: 0.169 sec\n",
      "\tLog probability: -25.2954 (avg -30.8624)\n",
      "\tKL: 7.9701 (avg 10.7253)\n",
      "\tLoss: 104.9967 (avg 138.1157)\n"
     ]
    },
    {
     "name": "stderr",
     "output_type": "stream",
     "text": [
      " 89%|████████▉ | 34/38 [00:01<00:00, 24.11it/s]"
     ]
    },
    {
     "name": "stdout",
     "output_type": "stream",
     "text": [
      "Epoch: 163 (30/38)\n",
      "\tData load time: 0.138 sec\n",
      "\tGeneration time: 0.149 sec\n",
      "\tBackprop time: 0.169 sec\n",
      "\tLog probability: -14.5982 (avg -27.9500)\n",
      "\tKL: 8.4103 (avg 10.5592)\n",
      "\tLoss: 98.7008 (avg 133.5416)\n"
     ]
    },
    {
     "name": "stderr",
     "output_type": "stream",
     "text": [
      "100%|██████████| 38/38 [00:01<00:00, 23.30it/s]\n",
      "100%|██████████| 10/10 [00:00<00:00, 30.03it/s]\n",
      "  0%|          | 0/38 [00:00<?, ?it/s]"
     ]
    },
    {
     "name": "stdout",
     "output_type": "stream",
     "text": [
      "Epoch: 163 (10/10)\n",
      "\tData load time: 0.142 sec\n",
      "\tGeneration time: 0.151 sec\n",
      "\tLog probability: -90.6973 (avg -99.3754)\n",
      "\tKL: 21.8395 (avg 40.5673)\n",
      "\tLoss: 309.0928 (avg 505.0487)\n",
      "Lowest validation loss: 47.4407\n"
     ]
    },
    {
     "name": "stderr",
     "output_type": "stream",
     "text": [
      " 34%|███▍      | 13/38 [00:00<00:01, 14.38it/s]"
     ]
    },
    {
     "name": "stdout",
     "output_type": "stream",
     "text": [
      "Epoch: 164 (10/38)\n",
      "\tData load time: 0.137 sec\n",
      "\tGeneration time: 0.149 sec\n",
      "\tBackprop time: 0.169 sec\n",
      "\tLog probability: -46.8706 (avg -35.6489)\n",
      "\tKL: 14.0714 (avg 26.7562)\n",
      "\tLoss: 187.5849 (avg 303.2105)\n"
     ]
    },
    {
     "name": "stderr",
     "output_type": "stream",
     "text": [
      " 66%|██████▌   | 25/38 [00:01<00:00, 21.68it/s]"
     ]
    },
    {
     "name": "stdout",
     "output_type": "stream",
     "text": [
      "Epoch: 164 (20/38)\n",
      "\tData load time: 0.137 sec\n",
      "\tGeneration time: 0.149 sec\n",
      "\tBackprop time: 0.169 sec\n",
      "\tLog probability: -38.0507 (avg -43.8982)\n",
      "\tKL: 9.3435 (avg 18.8332)\n",
      "\tLoss: 131.4862 (avg 232.2299)\n"
     ]
    },
    {
     "name": "stderr",
     "output_type": "stream",
     "text": [
      " 89%|████████▉ | 34/38 [00:01<00:00, 24.15it/s]"
     ]
    },
    {
     "name": "stdout",
     "output_type": "stream",
     "text": [
      "Epoch: 164 (30/38)\n",
      "\tData load time: 0.137 sec\n",
      "\tGeneration time: 0.149 sec\n",
      "\tBackprop time: 0.169 sec\n",
      "\tLog probability: -41.2850 (avg -37.6183)\n",
      "\tKL: 6.9729 (avg 15.5654)\n",
      "\tLoss: 111.0139 (avg 193.2723)\n"
     ]
    },
    {
     "name": "stderr",
     "output_type": "stream",
     "text": [
      "100%|██████████| 38/38 [00:01<00:00, 23.44it/s]\n",
      "100%|██████████| 10/10 [00:00<00:00, 30.45it/s]\n",
      "  0%|          | 0/38 [00:00<?, ?it/s]"
     ]
    },
    {
     "name": "stdout",
     "output_type": "stream",
     "text": [
      "Epoch: 164 (10/10)\n",
      "\tData load time: 0.134 sec\n",
      "\tGeneration time: 0.145 sec\n",
      "\tLog probability: -24.7061 (avg -31.1421)\n",
      "\tKL: 9.4680 (avg 13.6273)\n",
      "\tLoss: 119.3860 (avg 167.4150)\n",
      "Lowest validation loss: 47.4407\n"
     ]
    },
    {
     "name": "stderr",
     "output_type": "stream",
     "text": [
      " 34%|███▍      | 13/38 [00:00<00:01, 14.54it/s]"
     ]
    },
    {
     "name": "stdout",
     "output_type": "stream",
     "text": [
      "Epoch: 165 (10/38)\n",
      "\tData load time: 0.136 sec\n",
      "\tGeneration time: 0.144 sec\n",
      "\tBackprop time: 0.166 sec\n",
      "\tLog probability: -9.5574 (avg -24.0906)\n",
      "\tKL: 12.4117 (avg 14.3363)\n",
      "\tLoss: 133.6748 (avg 167.4541)\n"
     ]
    },
    {
     "name": "stderr",
     "output_type": "stream",
     "text": [
      " 66%|██████▌   | 25/38 [00:01<00:00, 21.66it/s]"
     ]
    },
    {
     "name": "stdout",
     "output_type": "stream",
     "text": [
      "Epoch: 165 (20/38)\n",
      "\tData load time: 0.136 sec\n",
      "\tGeneration time: 0.144 sec\n",
      "\tBackprop time: 0.166 sec\n",
      "\tLog probability: -26.6365 (avg -24.4475)\n",
      "\tKL: 12.2650 (avg 11.4847)\n",
      "\tLoss: 149.2860 (avg 139.2946)\n"
     ]
    },
    {
     "name": "stderr",
     "output_type": "stream",
     "text": [
      " 89%|████████▉ | 34/38 [00:01<00:00, 24.19it/s]"
     ]
    },
    {
     "name": "stdout",
     "output_type": "stream",
     "text": [
      "Epoch: 165 (30/38)\n",
      "\tData load time: 0.136 sec\n",
      "\tGeneration time: 0.144 sec\n",
      "\tBackprop time: 0.166 sec\n",
      "\tLog probability: -12.7991 (avg -22.6788)\n",
      "\tKL: 5.8250 (avg 10.6241)\n",
      "\tLoss: 71.0496 (avg 128.9195)\n"
     ]
    },
    {
     "name": "stderr",
     "output_type": "stream",
     "text": [
      "100%|██████████| 38/38 [00:01<00:00, 23.51it/s]\n",
      "100%|██████████| 10/10 [00:00<00:00, 31.01it/s]\n",
      "  0%|          | 0/38 [00:00<?, ?it/s]"
     ]
    },
    {
     "name": "stdout",
     "output_type": "stream",
     "text": [
      "Epoch: 165 (10/10)\n",
      "\tData load time: 0.133 sec\n",
      "\tGeneration time: 0.143 sec\n",
      "\tLog probability: -18.6518 (avg -19.2131)\n",
      "\tKL: 10.3476 (avg 10.9063)\n",
      "\tLoss: 122.1276 (avg 128.2763)\n",
      "Lowest validation loss: 47.4407\n"
     ]
    },
    {
     "name": "stderr",
     "output_type": "stream",
     "text": [
      " 34%|███▍      | 13/38 [00:00<00:01, 15.24it/s]"
     ]
    },
    {
     "name": "stdout",
     "output_type": "stream",
     "text": [
      "Epoch: 166 (10/38)\n",
      "\tData load time: 0.116 sec\n",
      "\tGeneration time: 0.127 sec\n",
      "\tBackprop time: 0.151 sec\n",
      "\tLog probability: -23.7004 (avg -20.6760)\n",
      "\tKL: 6.5659 (avg 8.5002)\n",
      "\tLoss: 89.3597 (avg 105.6783)\n"
     ]
    },
    {
     "name": "stderr",
     "output_type": "stream",
     "text": [
      " 66%|██████▌   | 25/38 [00:01<00:00, 22.13it/s]"
     ]
    },
    {
     "name": "stdout",
     "output_type": "stream",
     "text": [
      "Epoch: 166 (20/38)\n",
      "\tData load time: 0.116 sec\n",
      "\tGeneration time: 0.127 sec\n",
      "\tBackprop time: 0.151 sec\n",
      "\tLog probability: -15.9879 (avg -20.3627)\n",
      "\tKL: 7.0490 (avg 7.4018)\n",
      "\tLoss: 86.4783 (avg 94.3804)\n"
     ]
    },
    {
     "name": "stderr",
     "output_type": "stream",
     "text": [
      " 89%|████████▉ | 34/38 [00:01<00:00, 24.43it/s]"
     ]
    },
    {
     "name": "stdout",
     "output_type": "stream",
     "text": [
      "Epoch: 166 (30/38)\n",
      "\tData load time: 0.116 sec\n",
      "\tGeneration time: 0.127 sec\n",
      "\tBackprop time: 0.151 sec\n",
      "\tLog probability: -16.4705 (avg -18.9638)\n",
      "\tKL: 8.8445 (avg 6.8872)\n",
      "\tLoss: 104.9156 (avg 87.8361)\n"
     ]
    },
    {
     "name": "stderr",
     "output_type": "stream",
     "text": [
      "100%|██████████| 38/38 [00:01<00:00, 23.66it/s]\n",
      "100%|██████████| 10/10 [00:00<00:00, 30.28it/s]\n",
      "  0%|          | 0/38 [00:00<?, ?it/s]"
     ]
    },
    {
     "name": "stdout",
     "output_type": "stream",
     "text": [
      "Epoch: 166 (10/10)\n",
      "\tData load time: 0.140 sec\n",
      "\tGeneration time: 0.148 sec\n",
      "\tLog probability: -12.9024 (avg -9.0016)\n",
      "\tKL: 4.5625 (avg 5.5151)\n",
      "\tLoss: 58.5271 (avg 64.1530)\n",
      "Lowest validation loss: 47.4407\n"
     ]
    },
    {
     "name": "stderr",
     "output_type": "stream",
     "text": [
      " 34%|███▍      | 13/38 [00:00<00:01, 14.44it/s]"
     ]
    },
    {
     "name": "stdout",
     "output_type": "stream",
     "text": [
      "Epoch: 167 (10/38)\n",
      "\tData load time: 0.135 sec\n",
      "\tGeneration time: 0.146 sec\n",
      "\tBackprop time: 0.167 sec\n",
      "\tLog probability: -13.2990 (avg -19.3761)\n",
      "\tKL: 7.0646 (avg 8.5429)\n",
      "\tLoss: 83.9446 (avg 104.8053)\n"
     ]
    },
    {
     "name": "stderr",
     "output_type": "stream",
     "text": [
      " 66%|██████▌   | 25/38 [00:01<00:00, 21.72it/s]"
     ]
    },
    {
     "name": "stdout",
     "output_type": "stream",
     "text": [
      "Epoch: 167 (20/38)\n",
      "\tData load time: 0.135 sec\n",
      "\tGeneration time: 0.146 sec\n",
      "\tBackprop time: 0.167 sec\n",
      "\tLog probability: -11.7710 (avg -19.1744)\n",
      "\tKL: 5.9369 (avg 7.5982)\n",
      "\tLoss: 71.1398 (avg 95.1565)\n"
     ]
    },
    {
     "name": "stderr",
     "output_type": "stream",
     "text": [
      " 89%|████████▉ | 34/38 [00:01<00:00, 24.25it/s]"
     ]
    },
    {
     "name": "stdout",
     "output_type": "stream",
     "text": [
      "Epoch: 167 (30/38)\n",
      "\tData load time: 0.135 sec\n",
      "\tGeneration time: 0.146 sec\n",
      "\tBackprop time: 0.167 sec\n",
      "\tLog probability: -18.5177 (avg -19.9190)\n",
      "\tKL: 6.4706 (avg 6.8779)\n",
      "\tLoss: 83.2234 (avg 88.6984)\n"
     ]
    },
    {
     "name": "stderr",
     "output_type": "stream",
     "text": [
      "100%|██████████| 38/38 [00:01<00:00, 23.40it/s]\n",
      "100%|██████████| 10/10 [00:00<00:00, 30.29it/s]\n"
     ]
    },
    {
     "name": "stdout",
     "output_type": "stream",
     "text": [
      "Epoch: 167 (10/10)\n",
      "\tData load time: 0.133 sec\n",
      "\tGeneration time: 0.141 sec\n",
      "\tLog probability: -4.1548 (avg -5.0937)\n",
      "\tKL: 4.4373 (avg 4.0728)\n",
      "\tLoss: 48.5275 (avg 45.8220)\n",
      "Saving checkpoint..\n"
     ]
    },
    {
     "name": "stderr",
     "output_type": "stream",
     "text": [
      "  0%|          | 0/38 [00:00<?, ?it/s]"
     ]
    },
    {
     "name": "stdout",
     "output_type": "stream",
     "text": [
      "Lowest validation loss: 45.8220\n"
     ]
    },
    {
     "name": "stderr",
     "output_type": "stream",
     "text": [
      " 34%|███▍      | 13/38 [00:00<00:01, 14.14it/s]"
     ]
    },
    {
     "name": "stdout",
     "output_type": "stream",
     "text": [
      "Epoch: 168 (10/38)\n",
      "\tData load time: 0.143 sec\n",
      "\tGeneration time: 0.152 sec\n",
      "\tBackprop time: 0.173 sec\n",
      "\tLog probability: -7.2501 (avg -21.4219)\n",
      "\tKL: 5.3039 (avg 5.2138)\n",
      "\tLoss: 60.2887 (avg 73.5599)\n"
     ]
    },
    {
     "name": "stderr",
     "output_type": "stream",
     "text": [
      " 66%|██████▌   | 25/38 [00:01<00:00, 21.34it/s]"
     ]
    },
    {
     "name": "stdout",
     "output_type": "stream",
     "text": [
      "Epoch: 168 (20/38)\n",
      "\tData load time: 0.143 sec\n",
      "\tGeneration time: 0.152 sec\n",
      "\tBackprop time: 0.173 sec\n",
      "\tLog probability: -20.1802 (avg -16.9508)\n",
      "\tKL: 4.4778 (avg 5.4684)\n",
      "\tLoss: 64.9586 (avg 71.6346)\n"
     ]
    },
    {
     "name": "stderr",
     "output_type": "stream",
     "text": [
      " 89%|████████▉ | 34/38 [00:01<00:00, 24.11it/s]"
     ]
    },
    {
     "name": "stdout",
     "output_type": "stream",
     "text": [
      "Epoch: 168 (30/38)\n",
      "\tData load time: 0.143 sec\n",
      "\tGeneration time: 0.152 sec\n",
      "\tBackprop time: 0.173 sec\n",
      "\tLog probability: -27.1622 (avg -17.4417)\n",
      "\tKL: 5.5419 (avg 5.3804)\n",
      "\tLoss: 82.5814 (avg 71.2455)\n"
     ]
    },
    {
     "name": "stderr",
     "output_type": "stream",
     "text": [
      "100%|██████████| 38/38 [00:01<00:00, 23.31it/s]\n",
      "100%|██████████| 10/10 [00:00<00:00, 31.05it/s]\n",
      "  0%|          | 0/38 [00:00<?, ?it/s]"
     ]
    },
    {
     "name": "stdout",
     "output_type": "stream",
     "text": [
      "Epoch: 168 (10/10)\n",
      "\tData load time: 0.136 sec\n",
      "\tGeneration time: 0.144 sec\n",
      "\tLog probability: -14.3423 (avg -7.1369)\n",
      "\tKL: 6.4907 (avg 4.4412)\n",
      "\tLoss: 79.2495 (avg 51.5489)\n",
      "Lowest validation loss: 45.8220\n"
     ]
    },
    {
     "name": "stderr",
     "output_type": "stream",
     "text": [
      " 34%|███▍      | 13/38 [00:00<00:01, 14.29it/s]"
     ]
    },
    {
     "name": "stdout",
     "output_type": "stream",
     "text": [
      "Epoch: 169 (10/38)\n",
      "\tData load time: 0.139 sec\n",
      "\tGeneration time: 0.152 sec\n",
      "\tBackprop time: 0.171 sec\n",
      "\tLog probability: -8.7000 (avg -10.5736)\n",
      "\tKL: 4.1391 (avg 4.5250)\n",
      "\tLoss: 50.0908 (avg 55.8235)\n"
     ]
    },
    {
     "name": "stderr",
     "output_type": "stream",
     "text": [
      " 66%|██████▌   | 25/38 [00:01<00:00, 21.61it/s]"
     ]
    },
    {
     "name": "stdout",
     "output_type": "stream",
     "text": [
      "Epoch: 169 (20/38)\n",
      "\tData load time: 0.139 sec\n",
      "\tGeneration time: 0.152 sec\n",
      "\tBackprop time: 0.171 sec\n",
      "\tLog probability: -8.8845 (avg -12.6387)\n",
      "\tKL: 6.0819 (avg 4.7638)\n",
      "\tLoss: 69.7032 (avg 60.2770)\n"
     ]
    },
    {
     "name": "stderr",
     "output_type": "stream",
     "text": [
      " 89%|████████▉ | 34/38 [00:01<00:00, 24.17it/s]"
     ]
    },
    {
     "name": "stdout",
     "output_type": "stream",
     "text": [
      "Epoch: 169 (30/38)\n",
      "\tData load time: 0.139 sec\n",
      "\tGeneration time: 0.152 sec\n",
      "\tBackprop time: 0.171 sec\n",
      "\tLog probability: -18.7816 (avg -12.7246)\n",
      "\tKL: 4.0004 (avg 4.6177)\n",
      "\tLoss: 58.7854 (avg 58.9017)\n"
     ]
    },
    {
     "name": "stderr",
     "output_type": "stream",
     "text": [
      "100%|██████████| 38/38 [00:01<00:00, 23.43it/s]\n",
      "100%|██████████| 10/10 [00:00<00:00, 30.32it/s]\n",
      "  0%|          | 0/38 [00:00<?, ?it/s]"
     ]
    },
    {
     "name": "stdout",
     "output_type": "stream",
     "text": [
      "Epoch: 169 (10/10)\n",
      "\tData load time: 0.136 sec\n",
      "\tGeneration time: 0.145 sec\n",
      "\tLog probability: -4.0941 (avg -4.6172)\n",
      "\tKL: 4.3991 (avg 4.3460)\n",
      "\tLoss: 48.0846 (avg 48.0769)\n",
      "Lowest validation loss: 45.8220\n"
     ]
    },
    {
     "name": "stderr",
     "output_type": "stream",
     "text": [
      " 34%|███▍      | 13/38 [00:00<00:01, 14.73it/s]"
     ]
    },
    {
     "name": "stdout",
     "output_type": "stream",
     "text": [
      "Epoch: 170 (10/38)\n",
      "\tData load time: 0.125 sec\n",
      "\tGeneration time: 0.135 sec\n",
      "\tBackprop time: 0.161 sec\n",
      "\tLog probability: -20.4993 (avg -17.0638)\n",
      "\tKL: 5.4841 (avg 5.3163)\n",
      "\tLoss: 75.3406 (avg 70.2263)\n"
     ]
    },
    {
     "name": "stderr",
     "output_type": "stream",
     "text": [
      " 66%|██████▌   | 25/38 [00:01<00:00, 21.86it/s]"
     ]
    },
    {
     "name": "stdout",
     "output_type": "stream",
     "text": [
      "Epoch: 170 (20/38)\n",
      "\tData load time: 0.125 sec\n",
      "\tGeneration time: 0.135 sec\n",
      "\tBackprop time: 0.161 sec\n",
      "\tLog probability: -9.5507 (avg -14.9183)\n",
      "\tKL: 4.5697 (avg 4.9838)\n",
      "\tLoss: 55.2481 (avg 64.7562)\n"
     ]
    },
    {
     "name": "stderr",
     "output_type": "stream",
     "text": [
      " 89%|████████▉ | 34/38 [00:01<00:00, 24.32it/s]"
     ]
    },
    {
     "name": "stdout",
     "output_type": "stream",
     "text": [
      "Epoch: 170 (30/38)\n",
      "\tData load time: 0.125 sec\n",
      "\tGeneration time: 0.135 sec\n",
      "\tBackprop time: 0.161 sec\n",
      "\tLog probability: -16.5384 (avg -14.9053)\n",
      "\tKL: 4.5312 (avg 4.7671)\n",
      "\tLoss: 61.8501 (avg 62.5758)\n"
     ]
    },
    {
     "name": "stderr",
     "output_type": "stream",
     "text": [
      "100%|██████████| 38/38 [00:01<00:00, 23.57it/s]\n",
      "100%|██████████| 10/10 [00:00<00:00, 31.05it/s]\n"
     ]
    },
    {
     "name": "stdout",
     "output_type": "stream",
     "text": [
      "Epoch: 170 (10/10)\n",
      "\tData load time: 0.132 sec\n",
      "\tGeneration time: 0.139 sec\n",
      "\tLog probability: -3.0642 (avg -4.5581)\n",
      "\tKL: 4.1761 (avg 3.7830)\n",
      "\tLoss: 44.8254 (avg 42.3884)\n",
      "Saving checkpoint..\n"
     ]
    },
    {
     "name": "stderr",
     "output_type": "stream",
     "text": [
      "  0%|          | 0/38 [00:00<?, ?it/s]"
     ]
    },
    {
     "name": "stdout",
     "output_type": "stream",
     "text": [
      "Lowest validation loss: 42.3884\n"
     ]
    },
    {
     "name": "stderr",
     "output_type": "stream",
     "text": [
      " 34%|███▍      | 13/38 [00:00<00:01, 14.52it/s]"
     ]
    },
    {
     "name": "stdout",
     "output_type": "stream",
     "text": [
      "Epoch: 171 (10/38)\n",
      "\tData load time: 0.134 sec\n",
      "\tGeneration time: 0.145 sec\n",
      "\tBackprop time: 0.166 sec\n",
      "\tLog probability: -8.8102 (avg -11.7030)\n",
      "\tKL: 4.0328 (avg 3.9725)\n",
      "\tLoss: 49.1386 (avg 51.4280)\n"
     ]
    },
    {
     "name": "stderr",
     "output_type": "stream",
     "text": [
      " 66%|██████▌   | 25/38 [00:01<00:00, 21.68it/s]"
     ]
    },
    {
     "name": "stdout",
     "output_type": "stream",
     "text": [
      "Epoch: 171 (20/38)\n",
      "\tData load time: 0.134 sec\n",
      "\tGeneration time: 0.145 sec\n",
      "\tBackprop time: 0.166 sec\n",
      "\tLog probability: -13.3478 (avg -13.6133)\n",
      "\tKL: 5.7726 (avg 4.4198)\n",
      "\tLoss: 71.0737 (avg 57.8111)\n"
     ]
    },
    {
     "name": "stderr",
     "output_type": "stream",
     "text": [
      " 89%|████████▉ | 34/38 [00:01<00:00, 24.17it/s]"
     ]
    },
    {
     "name": "stdout",
     "output_type": "stream",
     "text": [
      "Epoch: 171 (30/38)\n",
      "\tData load time: 0.134 sec\n",
      "\tGeneration time: 0.145 sec\n",
      "\tBackprop time: 0.166 sec\n",
      "\tLog probability: -8.5226 (avg -13.2024)\n",
      "\tKL: 4.7949 (avg 4.5225)\n",
      "\tLoss: 56.4713 (avg 58.4278)\n"
     ]
    },
    {
     "name": "stderr",
     "output_type": "stream",
     "text": [
      "100%|██████████| 38/38 [00:01<00:00, 23.46it/s]\n",
      "100%|██████████| 10/10 [00:00<00:00, 32.06it/s]\n",
      "  0%|          | 0/38 [00:00<?, ?it/s]"
     ]
    },
    {
     "name": "stdout",
     "output_type": "stream",
     "text": [
      "Epoch: 171 (10/10)\n",
      "\tData load time: 0.121 sec\n",
      "\tGeneration time: 0.131 sec\n",
      "\tLog probability: -3.1524 (avg -4.5960)\n",
      "\tKL: 3.4399 (avg 3.8393)\n",
      "\tLoss: 37.5515 (avg 42.9889)\n",
      "Lowest validation loss: 42.3884\n"
     ]
    },
    {
     "name": "stderr",
     "output_type": "stream",
     "text": [
      " 34%|███▍      | 13/38 [00:00<00:01, 14.82it/s]"
     ]
    },
    {
     "name": "stdout",
     "output_type": "stream",
     "text": [
      "Epoch: 172 (10/38)\n",
      "\tData load time: 0.122 sec\n",
      "\tGeneration time: 0.138 sec\n",
      "\tBackprop time: 0.160 sec\n",
      "\tLog probability: -16.0822 (avg -13.2574)\n",
      "\tKL: 4.4075 (avg 4.6659)\n",
      "\tLoss: 60.1573 (avg 59.9163)\n"
     ]
    },
    {
     "name": "stderr",
     "output_type": "stream",
     "text": [
      " 66%|██████▌   | 25/38 [00:01<00:00, 21.88it/s]"
     ]
    },
    {
     "name": "stdout",
     "output_type": "stream",
     "text": [
      "Epoch: 172 (20/38)\n",
      "\tData load time: 0.122 sec\n",
      "\tGeneration time: 0.138 sec\n",
      "\tBackprop time: 0.160 sec\n",
      "\tLog probability: -8.0670 (avg -12.1341)\n",
      "\tKL: 3.8740 (avg 4.4952)\n",
      "\tLoss: 46.8067 (avg 57.0863)\n"
     ]
    },
    {
     "name": "stderr",
     "output_type": "stream",
     "text": [
      " 89%|████████▉ | 34/38 [00:01<00:00, 24.30it/s]"
     ]
    },
    {
     "name": "stdout",
     "output_type": "stream",
     "text": [
      "Epoch: 172 (30/38)\n",
      "\tData load time: 0.122 sec\n",
      "\tGeneration time: 0.138 sec\n",
      "\tBackprop time: 0.160 sec\n",
      "\tLog probability: -18.2426 (avg -13.7371)\n",
      "\tKL: 4.4650 (avg 4.4444)\n",
      "\tLoss: 62.8923 (avg 58.1815)\n"
     ]
    },
    {
     "name": "stderr",
     "output_type": "stream",
     "text": [
      "100%|██████████| 38/38 [00:01<00:00, 23.64it/s]\n",
      "100%|██████████| 10/10 [00:00<00:00, 30.05it/s]\n"
     ]
    },
    {
     "name": "stdout",
     "output_type": "stream",
     "text": [
      "Epoch: 172 (10/10)\n",
      "\tData load time: 0.134 sec\n",
      "\tGeneration time: 0.142 sec\n",
      "\tLog probability: -4.5195 (avg -4.5325)\n",
      "\tKL: 3.9292 (avg 3.6599)\n",
      "\tLoss: 43.8117 (avg 41.1317)\n",
      "Saving checkpoint..\n"
     ]
    },
    {
     "name": "stderr",
     "output_type": "stream",
     "text": [
      "  0%|          | 0/38 [00:00<?, ?it/s]"
     ]
    },
    {
     "name": "stdout",
     "output_type": "stream",
     "text": [
      "Lowest validation loss: 41.1317\n"
     ]
    },
    {
     "name": "stderr",
     "output_type": "stream",
     "text": [
      " 34%|███▍      | 13/38 [00:00<00:01, 14.14it/s]"
     ]
    },
    {
     "name": "stdout",
     "output_type": "stream",
     "text": [
      "Epoch: 173 (10/38)\n",
      "\tData load time: 0.143 sec\n",
      "\tGeneration time: 0.152 sec\n",
      "\tBackprop time: 0.174 sec\n",
      "\tLog probability: -10.0514 (avg -16.3193)\n",
      "\tKL: 4.3121 (avg 5.2016)\n",
      "\tLoss: 53.1728 (avg 68.3353)\n"
     ]
    },
    {
     "name": "stderr",
     "output_type": "stream",
     "text": [
      " 66%|██████▌   | 25/38 [00:01<00:00, 21.51it/s]"
     ]
    },
    {
     "name": "stdout",
     "output_type": "stream",
     "text": [
      "Epoch: 173 (20/38)\n",
      "\tData load time: 0.143 sec\n",
      "\tGeneration time: 0.152 sec\n",
      "\tBackprop time: 0.174 sec\n",
      "\tLog probability: -10.9604 (avg -15.4305)\n",
      "\tKL: 4.2505 (avg 5.0261)\n",
      "\tLoss: 53.4655 (avg 65.6912)\n"
     ]
    },
    {
     "name": "stderr",
     "output_type": "stream",
     "text": [
      " 89%|████████▉ | 34/38 [00:01<00:00, 24.18it/s]"
     ]
    },
    {
     "name": "stdout",
     "output_type": "stream",
     "text": [
      "Epoch: 173 (30/38)\n",
      "\tData load time: 0.143 sec\n",
      "\tGeneration time: 0.152 sec\n",
      "\tBackprop time: 0.174 sec\n",
      "\tLog probability: -9.7325 (avg -13.5972)\n",
      "\tKL: 3.9115 (avg 4.7505)\n",
      "\tLoss: 48.8475 (avg 61.1019)\n"
     ]
    },
    {
     "name": "stderr",
     "output_type": "stream",
     "text": [
      "100%|██████████| 38/38 [00:01<00:00, 23.42it/s]\n",
      "100%|██████████| 10/10 [00:00<00:00, 29.95it/s]\n"
     ]
    },
    {
     "name": "stdout",
     "output_type": "stream",
     "text": [
      "Epoch: 173 (10/10)\n",
      "\tData load time: 0.142 sec\n",
      "\tGeneration time: 0.150 sec\n",
      "\tLog probability: -9.2363 (avg -5.5370)\n",
      "\tKL: 3.5459 (avg 3.5156)\n",
      "\tLoss: 44.6954 (avg 40.6930)\n",
      "Saving checkpoint..\n"
     ]
    },
    {
     "name": "stderr",
     "output_type": "stream",
     "text": [
      "  0%|          | 0/38 [00:00<?, ?it/s]"
     ]
    },
    {
     "name": "stdout",
     "output_type": "stream",
     "text": [
      "Lowest validation loss: 40.6930\n"
     ]
    },
    {
     "name": "stderr",
     "output_type": "stream",
     "text": [
      " 34%|███▍      | 13/38 [00:00<00:01, 14.26it/s]"
     ]
    },
    {
     "name": "stdout",
     "output_type": "stream",
     "text": [
      "Epoch: 174 (10/38)\n",
      "\tData load time: 0.139 sec\n",
      "\tGeneration time: 0.151 sec\n",
      "\tBackprop time: 0.172 sec\n",
      "\tLog probability: -15.0832 (avg -16.8779)\n",
      "\tKL: 6.0850 (avg 5.3193)\n",
      "\tLoss: 75.9331 (avg 70.0712)\n"
     ]
    },
    {
     "name": "stderr",
     "output_type": "stream",
     "text": [
      " 66%|██████▌   | 25/38 [00:01<00:00, 21.57it/s]"
     ]
    },
    {
     "name": "stdout",
     "output_type": "stream",
     "text": [
      "Epoch: 174 (20/38)\n",
      "\tData load time: 0.139 sec\n",
      "\tGeneration time: 0.151 sec\n",
      "\tBackprop time: 0.172 sec\n",
      "\tLog probability: -10.7427 (avg -15.2719)\n",
      "\tKL: 3.8733 (avg 4.7806)\n",
      "\tLoss: 49.4755 (avg 63.0783)\n"
     ]
    },
    {
     "name": "stderr",
     "output_type": "stream",
     "text": [
      " 89%|████████▉ | 34/38 [00:01<00:00, 24.14it/s]"
     ]
    },
    {
     "name": "stdout",
     "output_type": "stream",
     "text": [
      "Epoch: 174 (30/38)\n",
      "\tData load time: 0.139 sec\n",
      "\tGeneration time: 0.151 sec\n",
      "\tBackprop time: 0.172 sec\n",
      "\tLog probability: -11.5425 (avg -14.4216)\n",
      "\tKL: 3.9815 (avg 4.6771)\n",
      "\tLoss: 51.3574 (avg 61.1922)\n"
     ]
    },
    {
     "name": "stderr",
     "output_type": "stream",
     "text": [
      "100%|██████████| 38/38 [00:01<00:00, 23.44it/s]\n",
      "100%|██████████| 10/10 [00:00<00:00, 31.03it/s]\n",
      "  0%|          | 0/38 [00:00<?, ?it/s]"
     ]
    },
    {
     "name": "stdout",
     "output_type": "stream",
     "text": [
      "Epoch: 174 (10/10)\n",
      "\tData load time: 0.135 sec\n",
      "\tGeneration time: 0.144 sec\n",
      "\tLog probability: -3.7663 (avg -4.5582)\n",
      "\tKL: 3.1375 (avg 4.2300)\n",
      "\tLoss: 35.1410 (avg 46.8585)\n",
      "Lowest validation loss: 40.6930\n"
     ]
    },
    {
     "name": "stderr",
     "output_type": "stream",
     "text": [
      " 34%|███▍      | 13/38 [00:00<00:01, 14.44it/s]"
     ]
    },
    {
     "name": "stdout",
     "output_type": "stream",
     "text": [
      "Epoch: 175 (10/38)\n",
      "\tData load time: 0.138 sec\n",
      "\tGeneration time: 0.146 sec\n",
      "\tBackprop time: 0.167 sec\n",
      "\tLog probability: -18.4524 (avg -15.8578)\n",
      "\tKL: 5.7705 (avg 6.6045)\n",
      "\tLoss: 76.1576 (avg 81.9032)\n"
     ]
    },
    {
     "name": "stderr",
     "output_type": "stream",
     "text": [
      " 66%|██████▌   | 25/38 [00:01<00:00, 21.66it/s]"
     ]
    },
    {
     "name": "stdout",
     "output_type": "stream",
     "text": [
      "Epoch: 175 (20/38)\n",
      "\tData load time: 0.138 sec\n",
      "\tGeneration time: 0.146 sec\n",
      "\tBackprop time: 0.167 sec\n",
      "\tLog probability: -13.5879 (avg -16.3634)\n",
      "\tKL: 4.6316 (avg 5.9280)\n",
      "\tLoss: 59.9042 (avg 75.6434)\n"
     ]
    },
    {
     "name": "stderr",
     "output_type": "stream",
     "text": [
      " 89%|████████▉ | 34/38 [00:01<00:00, 24.24it/s]"
     ]
    },
    {
     "name": "stdout",
     "output_type": "stream",
     "text": [
      "Epoch: 175 (30/38)\n",
      "\tData load time: 0.138 sec\n",
      "\tGeneration time: 0.146 sec\n",
      "\tBackprop time: 0.167 sec\n",
      "\tLog probability: -8.1648 (avg -16.0557)\n",
      "\tKL: 4.4043 (avg 5.7057)\n",
      "\tLoss: 52.2082 (avg 73.1125)\n"
     ]
    },
    {
     "name": "stderr",
     "output_type": "stream",
     "text": [
      "100%|██████████| 38/38 [00:01<00:00, 23.48it/s]\n",
      "100%|██████████| 10/10 [00:00<00:00, 31.95it/s]\n",
      "  0%|          | 0/38 [00:00<?, ?it/s]"
     ]
    },
    {
     "name": "stdout",
     "output_type": "stream",
     "text": [
      "Epoch: 175 (10/10)\n",
      "\tData load time: 0.115 sec\n",
      "\tGeneration time: 0.125 sec\n",
      "\tLog probability: -5.2261 (avg -5.7708)\n",
      "\tKL: 4.3024 (avg 4.1151)\n",
      "\tLoss: 48.2497 (avg 46.9219)\n",
      "Lowest validation loss: 40.6930\n"
     ]
    },
    {
     "name": "stderr",
     "output_type": "stream",
     "text": [
      " 34%|███▍      | 13/38 [00:00<00:01, 14.54it/s]"
     ]
    },
    {
     "name": "stdout",
     "output_type": "stream",
     "text": [
      "Epoch: 176 (10/38)\n",
      "\tData load time: 0.136 sec\n",
      "\tGeneration time: 0.146 sec\n",
      "\tBackprop time: 0.166 sec\n",
      "\tLog probability: -17.0012 (avg -17.6888)\n",
      "\tKL: 5.4555 (avg 4.8219)\n",
      "\tLoss: 71.5560 (avg 65.9083)\n"
     ]
    },
    {
     "name": "stderr",
     "output_type": "stream",
     "text": [
      " 66%|██████▌   | 25/38 [00:01<00:00, 21.77it/s]"
     ]
    },
    {
     "name": "stdout",
     "output_type": "stream",
     "text": [
      "Epoch: 176 (20/38)\n",
      "\tData load time: 0.136 sec\n",
      "\tGeneration time: 0.146 sec\n",
      "\tBackprop time: 0.166 sec\n",
      "\tLog probability: -28.7889 (avg -16.3717)\n",
      "\tKL: 6.4688 (avg 4.8003)\n",
      "\tLoss: 93.4768 (avg 64.3749)\n"
     ]
    },
    {
     "name": "stderr",
     "output_type": "stream",
     "text": [
      " 89%|████████▉ | 34/38 [00:01<00:00, 24.28it/s]"
     ]
    },
    {
     "name": "stdout",
     "output_type": "stream",
     "text": [
      "Epoch: 176 (30/38)\n",
      "\tData load time: 0.136 sec\n",
      "\tGeneration time: 0.146 sec\n",
      "\tBackprop time: 0.166 sec\n",
      "\tLog probability: -16.8862 (avg -15.0720)\n",
      "\tKL: 4.9138 (avg 4.9761)\n",
      "\tLoss: 66.0242 (avg 64.8330)\n"
     ]
    },
    {
     "name": "stderr",
     "output_type": "stream",
     "text": [
      "100%|██████████| 38/38 [00:01<00:00, 23.47it/s]\n",
      "100%|██████████| 10/10 [00:00<00:00, 29.53it/s]\n",
      "  0%|          | 0/38 [00:00<?, ?it/s]"
     ]
    },
    {
     "name": "stdout",
     "output_type": "stream",
     "text": [
      "Epoch: 176 (10/10)\n",
      "\tData load time: 0.137 sec\n",
      "\tGeneration time: 0.145 sec\n",
      "\tLog probability: -7.7961 (avg -4.6047)\n",
      "\tKL: 5.9161 (avg 4.4663)\n",
      "\tLoss: 66.9572 (avg 49.2679)\n",
      "Lowest validation loss: 40.6930\n"
     ]
    },
    {
     "name": "stderr",
     "output_type": "stream",
     "text": [
      " 34%|███▍      | 13/38 [00:00<00:01, 14.41it/s]"
     ]
    },
    {
     "name": "stdout",
     "output_type": "stream",
     "text": [
      "Epoch: 177 (10/38)\n",
      "\tData load time: 0.136 sec\n",
      "\tGeneration time: 0.146 sec\n",
      "\tBackprop time: 0.167 sec\n",
      "\tLog probability: -18.7329 (avg -18.6232)\n",
      "\tKL: 4.4000 (avg 4.9477)\n",
      "\tLoss: 62.7332 (avg 68.1006)\n"
     ]
    },
    {
     "name": "stderr",
     "output_type": "stream",
     "text": [
      " 66%|██████▌   | 25/38 [00:01<00:00, 21.60it/s]"
     ]
    },
    {
     "name": "stdout",
     "output_type": "stream",
     "text": [
      "Epoch: 177 (20/38)\n",
      "\tData load time: 0.136 sec\n",
      "\tGeneration time: 0.146 sec\n",
      "\tBackprop time: 0.167 sec\n",
      "\tLog probability: -15.2002 (avg -14.9631)\n",
      "\tKL: 6.3424 (avg 6.1097)\n",
      "\tLoss: 78.6239 (avg 76.0605)\n"
     ]
    },
    {
     "name": "stderr",
     "output_type": "stream",
     "text": [
      " 89%|████████▉ | 34/38 [00:01<00:00, 24.21it/s]"
     ]
    },
    {
     "name": "stdout",
     "output_type": "stream",
     "text": [
      "Epoch: 177 (30/38)\n",
      "\tData load time: 0.136 sec\n",
      "\tGeneration time: 0.146 sec\n",
      "\tBackprop time: 0.167 sec\n",
      "\tLog probability: -8.5367 (avg -15.1498)\n",
      "\tKL: 4.0227 (avg 5.9490)\n",
      "\tLoss: 48.7635 (avg 74.6394)\n"
     ]
    },
    {
     "name": "stderr",
     "output_type": "stream",
     "text": [
      "100%|██████████| 38/38 [00:01<00:00, 23.44it/s]\n",
      "100%|██████████| 10/10 [00:00<00:00, 30.14it/s]\n",
      "  0%|          | 0/38 [00:00<?, ?it/s]"
     ]
    },
    {
     "name": "stdout",
     "output_type": "stream",
     "text": [
      "Epoch: 177 (10/10)\n",
      "\tData load time: 0.137 sec\n",
      "\tGeneration time: 0.147 sec\n",
      "\tLog probability: -6.3127 (avg -7.2812)\n",
      "\tKL: 5.2435 (avg 6.0503)\n",
      "\tLoss: 58.7478 (avg 67.7839)\n",
      "Lowest validation loss: 40.6930\n"
     ]
    },
    {
     "name": "stderr",
     "output_type": "stream",
     "text": [
      " 34%|███▍      | 13/38 [00:00<00:01, 14.38it/s]"
     ]
    },
    {
     "name": "stdout",
     "output_type": "stream",
     "text": [
      "Epoch: 178 (10/38)\n",
      "\tData load time: 0.135 sec\n",
      "\tGeneration time: 0.143 sec\n",
      "\tBackprop time: 0.166 sec\n",
      "\tLog probability: -26.9018 (avg -16.1486)\n",
      "\tKL: 5.4038 (avg 6.2107)\n",
      "\tLoss: 80.9394 (avg 78.2557)\n"
     ]
    },
    {
     "name": "stderr",
     "output_type": "stream",
     "text": [
      " 66%|██████▌   | 25/38 [00:01<00:00, 21.64it/s]"
     ]
    },
    {
     "name": "stdout",
     "output_type": "stream",
     "text": [
      "Epoch: 178 (20/38)\n",
      "\tData load time: 0.135 sec\n",
      "\tGeneration time: 0.143 sec\n",
      "\tBackprop time: 0.166 sec\n",
      "\tLog probability: -30.3316 (avg -18.7042)\n",
      "\tKL: 6.4954 (avg 6.2742)\n",
      "\tLoss: 95.2854 (avg 81.4460)\n"
     ]
    },
    {
     "name": "stderr",
     "output_type": "stream",
     "text": [
      " 89%|████████▉ | 34/38 [00:01<00:00, 24.22it/s]"
     ]
    },
    {
     "name": "stdout",
     "output_type": "stream",
     "text": [
      "Epoch: 178 (30/38)\n",
      "\tData load time: 0.135 sec\n",
      "\tGeneration time: 0.143 sec\n",
      "\tBackprop time: 0.166 sec\n",
      "\tLog probability: -5.8626 (avg -19.4749)\n",
      "\tKL: 9.5471 (avg 6.3501)\n",
      "\tLoss: 101.3336 (avg 82.9761)\n"
     ]
    },
    {
     "name": "stderr",
     "output_type": "stream",
     "text": [
      "100%|██████████| 38/38 [00:01<00:00, 23.37it/s]\n",
      "100%|██████████| 10/10 [00:00<00:00, 30.23it/s]\n",
      "  0%|          | 0/38 [00:00<?, ?it/s]"
     ]
    },
    {
     "name": "stdout",
     "output_type": "stream",
     "text": [
      "Epoch: 178 (10/10)\n",
      "\tData load time: 0.138 sec\n",
      "\tGeneration time: 0.147 sec\n",
      "\tLog probability: -16.7033 (avg -11.4685)\n",
      "\tKL: 7.1055 (avg 9.3617)\n",
      "\tLoss: 87.7581 (avg 105.0859)\n",
      "Lowest validation loss: 40.6930\n"
     ]
    },
    {
     "name": "stderr",
     "output_type": "stream",
     "text": [
      " 34%|███▍      | 13/38 [00:00<00:01, 14.19it/s]"
     ]
    },
    {
     "name": "stdout",
     "output_type": "stream",
     "text": [
      "Epoch: 179 (10/38)\n",
      "\tData load time: 0.141 sec\n",
      "\tGeneration time: 0.150 sec\n",
      "\tBackprop time: 0.171 sec\n",
      "\tLog probability: -13.8355 (avg -21.6783)\n",
      "\tKL: 10.6317 (avg 12.6793)\n",
      "\tLoss: 120.1527 (avg 148.4716)\n"
     ]
    },
    {
     "name": "stderr",
     "output_type": "stream",
     "text": [
      " 66%|██████▌   | 25/38 [00:01<00:00, 21.57it/s]"
     ]
    },
    {
     "name": "stdout",
     "output_type": "stream",
     "text": [
      "Epoch: 179 (20/38)\n",
      "\tData load time: 0.141 sec\n",
      "\tGeneration time: 0.150 sec\n",
      "\tBackprop time: 0.171 sec\n",
      "\tLog probability: -28.2075 (avg -26.1022)\n",
      "\tKL: 13.2476 (avg 11.1024)\n",
      "\tLoss: 160.6836 (avg 137.1258)\n"
     ]
    },
    {
     "name": "stderr",
     "output_type": "stream",
     "text": [
      " 89%|████████▉ | 34/38 [00:01<00:00, 24.18it/s]"
     ]
    },
    {
     "name": "stdout",
     "output_type": "stream",
     "text": [
      "Epoch: 179 (30/38)\n",
      "\tData load time: 0.141 sec\n",
      "\tGeneration time: 0.150 sec\n",
      "\tBackprop time: 0.171 sec\n",
      "\tLog probability: -21.8672 (avg -24.8634)\n",
      "\tKL: 7.5010 (avg 10.6725)\n",
      "\tLoss: 96.8770 (avg 131.5885)\n"
     ]
    },
    {
     "name": "stderr",
     "output_type": "stream",
     "text": [
      "100%|██████████| 38/38 [00:01<00:00, 23.37it/s]\n",
      "100%|██████████| 10/10 [00:00<00:00, 30.96it/s]\n",
      "  0%|          | 0/38 [00:00<?, ?it/s]"
     ]
    },
    {
     "name": "stdout",
     "output_type": "stream",
     "text": [
      "Epoch: 179 (10/10)\n",
      "\tData load time: 0.132 sec\n",
      "\tGeneration time: 0.141 sec\n",
      "\tLog probability: -35.4199 (avg -26.4689)\n",
      "\tKL: 8.8146 (avg 10.0448)\n",
      "\tLoss: 123.5657 (avg 126.9170)\n",
      "Lowest validation loss: 40.6930\n"
     ]
    },
    {
     "name": "stderr",
     "output_type": "stream",
     "text": [
      " 34%|███▍      | 13/38 [00:00<00:01, 14.23it/s]"
     ]
    },
    {
     "name": "stdout",
     "output_type": "stream",
     "text": [
      "Epoch: 180 (10/38)\n",
      "\tData load time: 0.142 sec\n",
      "\tGeneration time: 0.150 sec\n",
      "\tBackprop time: 0.172 sec\n",
      "\tLog probability: -13.9057 (avg -25.8263)\n",
      "\tKL: 7.0963 (avg 8.5034)\n",
      "\tLoss: 84.8689 (avg 110.8598)\n"
     ]
    },
    {
     "name": "stderr",
     "output_type": "stream",
     "text": [
      " 66%|██████▌   | 25/38 [00:01<00:00, 21.54it/s]"
     ]
    },
    {
     "name": "stdout",
     "output_type": "stream",
     "text": [
      "Epoch: 180 (20/38)\n",
      "\tData load time: 0.142 sec\n",
      "\tGeneration time: 0.150 sec\n",
      "\tBackprop time: 0.172 sec\n",
      "\tLog probability: -16.4052 (avg -24.9446)\n",
      "\tKL: 9.4234 (avg 9.0371)\n",
      "\tLoss: 110.6389 (avg 115.3160)\n"
     ]
    },
    {
     "name": "stderr",
     "output_type": "stream",
     "text": [
      " 89%|████████▉ | 34/38 [00:01<00:00, 24.18it/s]"
     ]
    },
    {
     "name": "stdout",
     "output_type": "stream",
     "text": [
      "Epoch: 180 (30/38)\n",
      "\tData load time: 0.142 sec\n",
      "\tGeneration time: 0.150 sec\n",
      "\tBackprop time: 0.172 sec\n",
      "\tLog probability: -22.8124 (avg -22.7444)\n",
      "\tKL: 7.7298 (avg 9.0411)\n",
      "\tLoss: 100.1104 (avg 113.1555)\n"
     ]
    },
    {
     "name": "stderr",
     "output_type": "stream",
     "text": [
      "100%|██████████| 38/38 [00:01<00:00, 23.42it/s]\n",
      "100%|██████████| 10/10 [00:00<00:00, 30.36it/s]\n",
      "  0%|          | 0/38 [00:00<?, ?it/s]"
     ]
    },
    {
     "name": "stdout",
     "output_type": "stream",
     "text": [
      "Epoch: 180 (10/10)\n",
      "\tData load time: 0.141 sec\n",
      "\tGeneration time: 0.151 sec\n",
      "\tLog probability: -7.2793 (avg -6.5257)\n",
      "\tKL: 10.2137 (avg 8.8821)\n",
      "\tLoss: 109.4163 (avg 95.3468)\n",
      "Lowest validation loss: 40.6930\n"
     ]
    },
    {
     "name": "stderr",
     "output_type": "stream",
     "text": [
      " 34%|███▍      | 13/38 [00:00<00:01, 14.16it/s]"
     ]
    },
    {
     "name": "stdout",
     "output_type": "stream",
     "text": [
      "Epoch: 181 (10/38)\n",
      "\tData load time: 0.145 sec\n",
      "\tGeneration time: 0.152 sec\n",
      "\tBackprop time: 0.173 sec\n",
      "\tLog probability: -23.3880 (avg -18.0129)\n",
      "\tKL: 6.1513 (avg 8.1092)\n",
      "\tLoss: 84.9011 (avg 99.1053)\n"
     ]
    },
    {
     "name": "stderr",
     "output_type": "stream",
     "text": [
      " 66%|██████▌   | 25/38 [00:01<00:00, 21.41it/s]"
     ]
    },
    {
     "name": "stdout",
     "output_type": "stream",
     "text": [
      "Epoch: 181 (20/38)\n",
      "\tData load time: 0.145 sec\n",
      "\tGeneration time: 0.152 sec\n",
      "\tBackprop time: 0.173 sec\n",
      "\tLog probability: -34.8356 (avg -17.8773)\n",
      "\tKL: 5.3695 (avg 7.2977)\n",
      "\tLoss: 88.5310 (avg 90.8543)\n"
     ]
    },
    {
     "name": "stderr",
     "output_type": "stream",
     "text": [
      " 89%|████████▉ | 34/38 [00:01<00:00, 24.10it/s]"
     ]
    },
    {
     "name": "stdout",
     "output_type": "stream",
     "text": [
      "Epoch: 181 (30/38)\n",
      "\tData load time: 0.145 sec\n",
      "\tGeneration time: 0.152 sec\n",
      "\tBackprop time: 0.173 sec\n",
      "\tLog probability: -38.9193 (avg -17.8561)\n",
      "\tKL: 9.5150 (avg 8.2136)\n",
      "\tLoss: 134.0689 (avg 99.9924)\n"
     ]
    },
    {
     "name": "stderr",
     "output_type": "stream",
     "text": [
      "100%|██████████| 38/38 [00:01<00:00, 23.27it/s]\n",
      "100%|██████████| 10/10 [00:00<00:00, 29.95it/s]\n",
      "  0%|          | 0/38 [00:00<?, ?it/s]"
     ]
    },
    {
     "name": "stdout",
     "output_type": "stream",
     "text": [
      "Epoch: 181 (10/10)\n",
      "\tData load time: 0.143 sec\n",
      "\tGeneration time: 0.149 sec\n",
      "\tLog probability: -5.3940 (avg -7.1419)\n",
      "\tKL: 12.9235 (avg 11.1028)\n",
      "\tLoss: 134.6293 (avg 118.1700)\n",
      "Lowest validation loss: 40.6930\n"
     ]
    },
    {
     "name": "stderr",
     "output_type": "stream",
     "text": [
      " 34%|███▍      | 13/38 [00:00<00:01, 14.41it/s]"
     ]
    },
    {
     "name": "stdout",
     "output_type": "stream",
     "text": [
      "Epoch: 182 (10/38)\n",
      "\tData load time: 0.136 sec\n",
      "\tGeneration time: 0.145 sec\n",
      "\tBackprop time: 0.167 sec\n",
      "\tLog probability: -16.3942 (avg -13.7917)\n",
      "\tKL: 6.2047 (avg 9.6836)\n",
      "\tLoss: 78.4408 (avg 110.6281)\n"
     ]
    },
    {
     "name": "stderr",
     "output_type": "stream",
     "text": [
      " 66%|██████▌   | 25/38 [00:01<00:00, 21.57it/s]"
     ]
    },
    {
     "name": "stdout",
     "output_type": "stream",
     "text": [
      "Epoch: 182 (20/38)\n",
      "\tData load time: 0.136 sec\n",
      "\tGeneration time: 0.145 sec\n",
      "\tBackprop time: 0.167 sec\n",
      "\tLog probability: -15.8272 (avg -22.6683)\n",
      "\tKL: 9.0054 (avg 9.5785)\n",
      "\tLoss: 105.8815 (avg 118.4530)\n"
     ]
    },
    {
     "name": "stderr",
     "output_type": "stream",
     "text": [
      " 89%|████████▉ | 34/38 [00:01<00:00, 24.15it/s]"
     ]
    },
    {
     "name": "stdout",
     "output_type": "stream",
     "text": [
      "Epoch: 182 (30/38)\n",
      "\tData load time: 0.136 sec\n",
      "\tGeneration time: 0.145 sec\n",
      "\tBackprop time: 0.167 sec\n",
      "\tLog probability: -26.7708 (avg -27.9684)\n",
      "\tKL: 54.6980 (avg 13.0803)\n",
      "\tLoss: 573.7507 (avg 158.7717)\n"
     ]
    },
    {
     "name": "stderr",
     "output_type": "stream",
     "text": [
      "100%|██████████| 38/38 [00:01<00:00, 23.35it/s]\n",
      "100%|██████████| 10/10 [00:00<00:00, 30.16it/s]\n",
      "  0%|          | 0/38 [00:00<?, ?it/s]"
     ]
    },
    {
     "name": "stdout",
     "output_type": "stream",
     "text": [
      "Epoch: 182 (10/10)\n",
      "\tData load time: 0.144 sec\n",
      "\tGeneration time: 0.150 sec\n",
      "\tLog probability: -4.1188 (avg -37.2018)\n",
      "\tKL: 55.4016 (avg 51.1330)\n",
      "\tLoss: 558.1349 (avg 548.5316)\n",
      "Lowest validation loss: 40.6930\n"
     ]
    },
    {
     "name": "stderr",
     "output_type": "stream",
     "text": [
      " 34%|███▍      | 13/38 [00:00<00:01, 14.77it/s]"
     ]
    },
    {
     "name": "stdout",
     "output_type": "stream",
     "text": [
      "Epoch: 183 (10/38)\n",
      "\tData load time: 0.125 sec\n",
      "\tGeneration time: 0.141 sec\n",
      "\tBackprop time: 0.162 sec\n",
      "\tLog probability: -18.9334 (avg -47.3151)\n",
      "\tKL: 14.5629 (avg 26.3708)\n",
      "\tLoss: 164.5627 (avg 311.0226)\n"
     ]
    },
    {
     "name": "stderr",
     "output_type": "stream",
     "text": [
      " 66%|██████▌   | 25/38 [00:01<00:00, 21.89it/s]"
     ]
    },
    {
     "name": "stdout",
     "output_type": "stream",
     "text": [
      "Epoch: 183 (20/38)\n",
      "\tData load time: 0.125 sec\n",
      "\tGeneration time: 0.141 sec\n",
      "\tBackprop time: 0.162 sec\n",
      "\tLog probability: -72.9791 (avg -47.6972)\n",
      "\tKL: 14.4547 (avg 18.1646)\n",
      "\tLoss: 217.5260 (avg 229.3431)\n"
     ]
    },
    {
     "name": "stderr",
     "output_type": "stream",
     "text": [
      " 89%|████████▉ | 34/38 [00:01<00:00, 24.32it/s]"
     ]
    },
    {
     "name": "stdout",
     "output_type": "stream",
     "text": [
      "Epoch: 183 (30/38)\n",
      "\tData load time: 0.125 sec\n",
      "\tGeneration time: 0.141 sec\n",
      "\tBackprop time: 0.162 sec\n",
      "\tLog probability: -10.5084 (avg -37.8000)\n",
      "\tKL: 11.3640 (avg 17.0256)\n",
      "\tLoss: 124.1484 (avg 208.0564)\n"
     ]
    },
    {
     "name": "stderr",
     "output_type": "stream",
     "text": [
      "100%|██████████| 38/38 [00:01<00:00, 23.65it/s]\n",
      "100%|██████████| 10/10 [00:00<00:00, 29.45it/s]\n",
      "  0%|          | 0/38 [00:00<?, ?it/s]"
     ]
    },
    {
     "name": "stdout",
     "output_type": "stream",
     "text": [
      "Epoch: 183 (10/10)\n",
      "\tData load time: 0.136 sec\n",
      "\tGeneration time: 0.144 sec\n",
      "\tLog probability: -13.8118 (avg -20.5490)\n",
      "\tKL: 8.3810 (avg 9.5625)\n",
      "\tLoss: 97.6214 (avg 116.1740)\n",
      "Lowest validation loss: 40.6930\n"
     ]
    },
    {
     "name": "stderr",
     "output_type": "stream",
     "text": [
      " 34%|███▍      | 13/38 [00:00<00:01, 14.22it/s]"
     ]
    },
    {
     "name": "stdout",
     "output_type": "stream",
     "text": [
      "Epoch: 184 (10/38)\n",
      "\tData load time: 0.141 sec\n",
      "\tGeneration time: 0.152 sec\n",
      "\tBackprop time: 0.173 sec\n",
      "\tLog probability: -15.0397 (avg -21.4114)\n",
      "\tKL: 6.6541 (avg 8.3193)\n",
      "\tLoss: 81.5806 (avg 104.6047)\n"
     ]
    },
    {
     "name": "stderr",
     "output_type": "stream",
     "text": [
      " 66%|██████▌   | 25/38 [00:01<00:00, 21.57it/s]"
     ]
    },
    {
     "name": "stdout",
     "output_type": "stream",
     "text": [
      "Epoch: 184 (20/38)\n",
      "\tData load time: 0.141 sec\n",
      "\tGeneration time: 0.152 sec\n",
      "\tBackprop time: 0.173 sec\n",
      "\tLog probability: -8.8347 (avg -21.5196)\n",
      "\tKL: 8.1166 (avg 8.3161)\n",
      "\tLoss: 90.0007 (avg 104.6809)\n"
     ]
    },
    {
     "name": "stderr",
     "output_type": "stream",
     "text": [
      " 89%|████████▉ | 34/38 [00:01<00:00, 24.11it/s]"
     ]
    },
    {
     "name": "stdout",
     "output_type": "stream",
     "text": [
      "Epoch: 184 (30/38)\n",
      "\tData load time: 0.141 sec\n",
      "\tGeneration time: 0.152 sec\n",
      "\tBackprop time: 0.173 sec\n",
      "\tLog probability: -18.6707 (avg -22.6859)\n",
      "\tKL: 5.9590 (avg 8.1381)\n",
      "\tLoss: 78.2609 (avg 104.0673)\n"
     ]
    },
    {
     "name": "stderr",
     "output_type": "stream",
     "text": [
      "100%|██████████| 38/38 [00:01<00:00, 23.44it/s]\n",
      "100%|██████████| 10/10 [00:00<00:00, 30.68it/s]\n",
      "  0%|          | 0/38 [00:00<?, ?it/s]"
     ]
    },
    {
     "name": "stdout",
     "output_type": "stream",
     "text": [
      "Epoch: 184 (10/10)\n",
      "\tData load time: 0.135 sec\n",
      "\tGeneration time: 0.143 sec\n",
      "\tLog probability: -9.5476 (avg -8.7951)\n",
      "\tKL: 6.1987 (avg 6.3153)\n",
      "\tLoss: 71.5347 (avg 71.9486)\n",
      "Lowest validation loss: 40.6930\n"
     ]
    },
    {
     "name": "stderr",
     "output_type": "stream",
     "text": [
      " 34%|███▍      | 13/38 [00:00<00:01, 14.40it/s]"
     ]
    },
    {
     "name": "stdout",
     "output_type": "stream",
     "text": [
      "Epoch: 185 (10/38)\n",
      "\tData load time: 0.138 sec\n",
      "\tGeneration time: 0.148 sec\n",
      "\tBackprop time: 0.169 sec\n",
      "\tLog probability: -19.6875 (avg -13.8745)\n",
      "\tKL: 4.4030 (avg 5.3946)\n",
      "\tLoss: 63.7171 (avg 67.8202)\n"
     ]
    },
    {
     "name": "stderr",
     "output_type": "stream",
     "text": [
      " 66%|██████▌   | 25/38 [00:01<00:00, 21.62it/s]"
     ]
    },
    {
     "name": "stdout",
     "output_type": "stream",
     "text": [
      "Epoch: 185 (20/38)\n",
      "\tData load time: 0.138 sec\n",
      "\tGeneration time: 0.148 sec\n",
      "\tBackprop time: 0.169 sec\n",
      "\tLog probability: -11.6807 (avg -14.9168)\n",
      "\tKL: 6.7500 (avg 5.8421)\n",
      "\tLoss: 79.1809 (avg 73.3380)\n"
     ]
    },
    {
     "name": "stderr",
     "output_type": "stream",
     "text": [
      " 89%|████████▉ | 34/38 [00:01<00:00, 24.21it/s]"
     ]
    },
    {
     "name": "stdout",
     "output_type": "stream",
     "text": [
      "Epoch: 185 (30/38)\n",
      "\tData load time: 0.138 sec\n",
      "\tGeneration time: 0.148 sec\n",
      "\tBackprop time: 0.169 sec\n",
      "\tLog probability: -23.5803 (avg -14.9357)\n",
      "\tKL: 5.2154 (avg 5.8673)\n",
      "\tLoss: 75.7343 (avg 73.6086)\n"
     ]
    },
    {
     "name": "stderr",
     "output_type": "stream",
     "text": [
      "100%|██████████| 38/38 [00:01<00:00, 23.47it/s]\n",
      "100%|██████████| 10/10 [00:00<00:00, 30.80it/s]\n",
      "  0%|          | 0/38 [00:00<?, ?it/s]"
     ]
    },
    {
     "name": "stdout",
     "output_type": "stream",
     "text": [
      "Epoch: 185 (10/10)\n",
      "\tData load time: 0.131 sec\n",
      "\tGeneration time: 0.141 sec\n",
      "\tLog probability: -13.5448 (avg -12.2608)\n",
      "\tKL: 7.5678 (avg 5.7421)\n",
      "\tLoss: 89.2229 (avg 69.6823)\n",
      "Lowest validation loss: 40.6930\n"
     ]
    },
    {
     "name": "stderr",
     "output_type": "stream",
     "text": [
      " 34%|███▍      | 13/38 [00:00<00:01, 14.35it/s]"
     ]
    },
    {
     "name": "stdout",
     "output_type": "stream",
     "text": [
      "Epoch: 186 (10/38)\n",
      "\tData load time: 0.139 sec\n",
      "\tGeneration time: 0.148 sec\n",
      "\tBackprop time: 0.169 sec\n",
      "\tLog probability: -26.0994 (avg -16.7448)\n",
      "\tKL: 5.2620 (avg 5.8517)\n",
      "\tLoss: 78.7191 (avg 75.2620)\n"
     ]
    },
    {
     "name": "stderr",
     "output_type": "stream",
     "text": [
      " 66%|██████▌   | 25/38 [00:01<00:00, 21.51it/s]"
     ]
    },
    {
     "name": "stdout",
     "output_type": "stream",
     "text": [
      "Epoch: 186 (20/38)\n",
      "\tData load time: 0.139 sec\n",
      "\tGeneration time: 0.148 sec\n",
      "\tBackprop time: 0.169 sec\n",
      "\tLog probability: -8.9208 (avg -17.3175)\n",
      "\tKL: 5.5301 (avg 5.7409)\n",
      "\tLoss: 64.2217 (avg 74.7269)\n"
     ]
    },
    {
     "name": "stderr",
     "output_type": "stream",
     "text": [
      " 89%|████████▉ | 34/38 [00:01<00:00, 24.12it/s]"
     ]
    },
    {
     "name": "stdout",
     "output_type": "stream",
     "text": [
      "Epoch: 186 (30/38)\n",
      "\tData load time: 0.139 sec\n",
      "\tGeneration time: 0.148 sec\n",
      "\tBackprop time: 0.169 sec\n",
      "\tLog probability: -19.8213 (avg -16.4867)\n",
      "\tKL: 5.1793 (avg 5.7558)\n",
      "\tLoss: 71.6139 (avg 74.0446)\n"
     ]
    },
    {
     "name": "stderr",
     "output_type": "stream",
     "text": [
      "100%|██████████| 38/38 [00:01<00:00, 23.40it/s]\n",
      "100%|██████████| 10/10 [00:00<00:00, 30.61it/s]\n",
      "  0%|          | 0/38 [00:00<?, ?it/s]"
     ]
    },
    {
     "name": "stdout",
     "output_type": "stream",
     "text": [
      "Epoch: 186 (10/10)\n",
      "\tData load time: 0.134 sec\n",
      "\tGeneration time: 0.143 sec\n",
      "\tLog probability: -34.3685 (avg -19.9667)\n",
      "\tKL: 5.8402 (avg 5.5554)\n",
      "\tLoss: 92.7710 (avg 75.5212)\n",
      "Lowest validation loss: 40.6930\n"
     ]
    },
    {
     "name": "stderr",
     "output_type": "stream",
     "text": [
      " 34%|███▍      | 13/38 [00:00<00:01, 14.30it/s]"
     ]
    },
    {
     "name": "stdout",
     "output_type": "stream",
     "text": [
      "Epoch: 187 (10/38)\n",
      "\tData load time: 0.140 sec\n",
      "\tGeneration time: 0.147 sec\n",
      "\tBackprop time: 0.170 sec\n",
      "\tLog probability: -20.0981 (avg -18.8228)\n",
      "\tKL: 8.8835 (avg 7.7083)\n",
      "\tLoss: 108.9335 (avg 95.9062)\n"
     ]
    },
    {
     "name": "stderr",
     "output_type": "stream",
     "text": [
      " 66%|██████▌   | 25/38 [00:01<00:00, 21.52it/s]"
     ]
    },
    {
     "name": "stdout",
     "output_type": "stream",
     "text": [
      "Epoch: 187 (20/38)\n",
      "\tData load time: 0.140 sec\n",
      "\tGeneration time: 0.147 sec\n",
      "\tBackprop time: 0.170 sec\n",
      "\tLog probability: -19.9925 (avg -15.6850)\n",
      "\tKL: 5.0957 (avg 7.0275)\n",
      "\tLoss: 70.9491 (avg 85.9598)\n"
     ]
    },
    {
     "name": "stderr",
     "output_type": "stream",
     "text": [
      " 89%|████████▉ | 34/38 [00:01<00:00, 24.14it/s]"
     ]
    },
    {
     "name": "stdout",
     "output_type": "stream",
     "text": [
      "Epoch: 187 (30/38)\n",
      "\tData load time: 0.140 sec\n",
      "\tGeneration time: 0.147 sec\n",
      "\tBackprop time: 0.170 sec\n",
      "\tLog probability: -24.2703 (avg -19.7325)\n",
      "\tKL: 5.1780 (avg 6.4132)\n",
      "\tLoss: 76.0501 (avg 83.8640)\n"
     ]
    },
    {
     "name": "stderr",
     "output_type": "stream",
     "text": [
      "100%|██████████| 38/38 [00:01<00:00, 23.40it/s]\n",
      "100%|██████████| 10/10 [00:00<00:00, 27.96it/s]\n",
      "  0%|          | 0/38 [00:00<?, ?it/s]"
     ]
    },
    {
     "name": "stdout",
     "output_type": "stream",
     "text": [
      "Epoch: 187 (10/10)\n",
      "\tData load time: 0.156 sec\n",
      "\tGeneration time: 0.164 sec\n",
      "\tLog probability: -7.6513 (avg -6.7780)\n",
      "\tKL: 6.4152 (avg 6.5174)\n",
      "\tLoss: 71.8032 (avg 71.9524)\n",
      "Lowest validation loss: 40.6930\n"
     ]
    },
    {
     "name": "stderr",
     "output_type": "stream",
     "text": [
      " 34%|███▍      | 13/38 [00:00<00:01, 13.14it/s]"
     ]
    },
    {
     "name": "stdout",
     "output_type": "stream",
     "text": [
      "Epoch: 188 (10/38)\n",
      "\tData load time: 0.156 sec\n",
      "\tGeneration time: 0.169 sec\n",
      "\tBackprop time: 0.196 sec\n",
      "\tLog probability: -11.9746 (avg -16.6385)\n",
      "\tKL: 5.4972 (avg 6.6049)\n",
      "\tLoss: 66.9470 (avg 82.6874)\n"
     ]
    },
    {
     "name": "stderr",
     "output_type": "stream",
     "text": [
      " 66%|██████▌   | 25/38 [00:01<00:00, 20.89it/s]"
     ]
    },
    {
     "name": "stdout",
     "output_type": "stream",
     "text": [
      "Epoch: 188 (20/38)\n",
      "\tData load time: 0.156 sec\n",
      "\tGeneration time: 0.169 sec\n",
      "\tBackprop time: 0.196 sec\n",
      "\tLog probability: -19.1573 (avg -15.1039)\n",
      "\tKL: 4.4016 (avg 5.9296)\n",
      "\tLoss: 63.1738 (avg 74.3999)\n"
     ]
    },
    {
     "name": "stderr",
     "output_type": "stream",
     "text": [
      " 89%|████████▉ | 34/38 [00:01<00:00, 23.75it/s]"
     ]
    },
    {
     "name": "stdout",
     "output_type": "stream",
     "text": [
      "Epoch: 188 (30/38)\n",
      "\tData load time: 0.156 sec\n",
      "\tGeneration time: 0.169 sec\n",
      "\tBackprop time: 0.196 sec\n",
      "\tLog probability: -31.5314 (avg -17.3099)\n",
      "\tKL: 4.2773 (avg 5.3685)\n",
      "\tLoss: 74.3048 (avg 70.9945)\n"
     ]
    },
    {
     "name": "stderr",
     "output_type": "stream",
     "text": [
      "100%|██████████| 38/38 [00:01<00:00, 22.95it/s]\n",
      "100%|██████████| 10/10 [00:00<00:00, 31.51it/s]\n",
      "  0%|          | 0/38 [00:00<?, ?it/s]"
     ]
    },
    {
     "name": "stdout",
     "output_type": "stream",
     "text": [
      "Epoch: 188 (10/10)\n",
      "\tData load time: 0.124 sec\n",
      "\tGeneration time: 0.133 sec\n",
      "\tLog probability: -4.6267 (avg -5.3986)\n",
      "\tKL: 5.6310 (avg 4.7789)\n",
      "\tLoss: 60.9371 (avg 53.1878)\n",
      "Lowest validation loss: 40.6930\n"
     ]
    },
    {
     "name": "stderr",
     "output_type": "stream",
     "text": [
      " 34%|███▍      | 13/38 [00:00<00:01, 15.08it/s]"
     ]
    },
    {
     "name": "stdout",
     "output_type": "stream",
     "text": [
      "Epoch: 189 (10/38)\n",
      "\tData load time: 0.120 sec\n",
      "\tGeneration time: 0.131 sec\n",
      "\tBackprop time: 0.155 sec\n",
      "\tLog probability: -12.8390 (avg -11.6539)\n",
      "\tKL: 4.5528 (avg 4.7241)\n",
      "\tLoss: 58.3672 (avg 58.8946)\n"
     ]
    },
    {
     "name": "stderr",
     "output_type": "stream",
     "text": [
      " 66%|██████▌   | 25/38 [00:01<00:00, 22.02it/s]"
     ]
    },
    {
     "name": "stdout",
     "output_type": "stream",
     "text": [
      "Epoch: 189 (20/38)\n",
      "\tData load time: 0.120 sec\n",
      "\tGeneration time: 0.131 sec\n",
      "\tBackprop time: 0.155 sec\n",
      "\tLog probability: -5.1969 (avg -10.4647)\n",
      "\tKL: 3.5674 (avg 4.2008)\n",
      "\tLoss: 40.8710 (avg 52.4723)\n"
     ]
    },
    {
     "name": "stderr",
     "output_type": "stream",
     "text": [
      " 89%|████████▉ | 34/38 [00:01<00:00, 24.33it/s]"
     ]
    },
    {
     "name": "stdout",
     "output_type": "stream",
     "text": [
      "Epoch: 189 (30/38)\n",
      "\tData load time: 0.120 sec\n",
      "\tGeneration time: 0.131 sec\n",
      "\tBackprop time: 0.155 sec\n",
      "\tLog probability: -8.2227 (avg -11.3856)\n",
      "\tKL: 3.0202 (avg 4.1127)\n",
      "\tLoss: 38.4249 (avg 52.5124)\n"
     ]
    },
    {
     "name": "stderr",
     "output_type": "stream",
     "text": [
      "100%|██████████| 38/38 [00:01<00:00, 23.62it/s]\n",
      "100%|██████████| 10/10 [00:00<00:00, 30.82it/s]\n"
     ]
    },
    {
     "name": "stdout",
     "output_type": "stream",
     "text": [
      "Epoch: 189 (10/10)\n",
      "\tData load time: 0.133 sec\n",
      "\tGeneration time: 0.145 sec\n",
      "\tLog probability: -6.3669 (avg -5.4506)\n",
      "\tKL: 3.9167 (avg 3.2676)\n",
      "\tLoss: 45.5342 (avg 38.1266)\n",
      "Saving checkpoint..\n"
     ]
    },
    {
     "name": "stderr",
     "output_type": "stream",
     "text": [
      "  0%|          | 0/38 [00:00<?, ?it/s]"
     ]
    },
    {
     "name": "stdout",
     "output_type": "stream",
     "text": [
      "Lowest validation loss: 38.1266\n"
     ]
    },
    {
     "name": "stderr",
     "output_type": "stream",
     "text": [
      " 34%|███▍      | 13/38 [00:00<00:01, 15.16it/s]"
     ]
    },
    {
     "name": "stdout",
     "output_type": "stream",
     "text": [
      "Epoch: 190 (10/38)\n",
      "\tData load time: 0.122 sec\n",
      "\tGeneration time: 0.133 sec\n",
      "\tBackprop time: 0.154 sec\n",
      "\tLog probability: -25.4025 (avg -16.2411)\n",
      "\tKL: 3.7926 (avg 3.7613)\n",
      "\tLoss: 63.3280 (avg 53.8545)\n"
     ]
    },
    {
     "name": "stderr",
     "output_type": "stream",
     "text": [
      " 66%|██████▌   | 25/38 [00:01<00:00, 22.00it/s]"
     ]
    },
    {
     "name": "stdout",
     "output_type": "stream",
     "text": [
      "Epoch: 190 (20/38)\n",
      "\tData load time: 0.122 sec\n",
      "\tGeneration time: 0.133 sec\n",
      "\tBackprop time: 0.154 sec\n",
      "\tLog probability: -68.5936 (avg -17.5374)\n",
      "\tKL: 4.1251 (avg 3.6771)\n",
      "\tLoss: 109.8449 (avg 54.3083)\n"
     ]
    },
    {
     "name": "stderr",
     "output_type": "stream",
     "text": [
      " 89%|████████▉ | 34/38 [00:01<00:00, 24.37it/s]"
     ]
    },
    {
     "name": "stdout",
     "output_type": "stream",
     "text": [
      "Epoch: 190 (30/38)\n",
      "\tData load time: 0.122 sec\n",
      "\tGeneration time: 0.133 sec\n",
      "\tBackprop time: 0.154 sec\n",
      "\tLog probability: -10.2320 (avg -17.6634)\n",
      "\tKL: 3.1405 (avg 3.8147)\n",
      "\tLoss: 41.6370 (avg 55.8107)\n"
     ]
    },
    {
     "name": "stderr",
     "output_type": "stream",
     "text": [
      "100%|██████████| 38/38 [00:01<00:00, 23.70it/s]\n",
      "100%|██████████| 10/10 [00:00<00:00, 30.43it/s]\n",
      "  0%|          | 0/38 [00:00<?, ?it/s]"
     ]
    },
    {
     "name": "stdout",
     "output_type": "stream",
     "text": [
      "Epoch: 190 (10/10)\n",
      "\tData load time: 0.140 sec\n",
      "\tGeneration time: 0.150 sec\n",
      "\tLog probability: -5.3562 (avg -7.5661)\n",
      "\tKL: 3.0728 (avg 3.5878)\n",
      "\tLoss: 36.0844 (avg 43.4444)\n",
      "Lowest validation loss: 38.1266\n"
     ]
    },
    {
     "name": "stderr",
     "output_type": "stream",
     "text": [
      " 34%|███▍      | 13/38 [00:00<00:01, 14.43it/s]"
     ]
    },
    {
     "name": "stdout",
     "output_type": "stream",
     "text": [
      "Epoch: 191 (10/38)\n",
      "\tData load time: 0.137 sec\n",
      "\tGeneration time: 0.146 sec\n",
      "\tBackprop time: 0.168 sec\n",
      "\tLog probability: -7.7537 (avg -15.4565)\n",
      "\tKL: 3.2499 (avg 3.8219)\n",
      "\tLoss: 40.2526 (avg 53.6757)\n"
     ]
    },
    {
     "name": "stderr",
     "output_type": "stream",
     "text": [
      " 66%|██████▌   | 25/38 [00:01<00:00, 21.54it/s]"
     ]
    },
    {
     "name": "stdout",
     "output_type": "stream",
     "text": [
      "Epoch: 191 (20/38)\n",
      "\tData load time: 0.137 sec\n",
      "\tGeneration time: 0.146 sec\n",
      "\tBackprop time: 0.168 sec\n",
      "\tLog probability: -11.7466 (avg -19.3238)\n",
      "\tKL: 4.4492 (avg 4.0978)\n",
      "\tLoss: 56.2391 (avg 60.3018)\n"
     ]
    },
    {
     "name": "stderr",
     "output_type": "stream",
     "text": [
      " 89%|████████▉ | 34/38 [00:01<00:00, 24.10it/s]"
     ]
    },
    {
     "name": "stdout",
     "output_type": "stream",
     "text": [
      "Epoch: 191 (30/38)\n",
      "\tData load time: 0.137 sec\n",
      "\tGeneration time: 0.146 sec\n",
      "\tBackprop time: 0.168 sec\n",
      "\tLog probability: -15.2043 (avg -17.1856)\n",
      "\tKL: 4.1196 (avg 3.9835)\n",
      "\tLoss: 56.3998 (avg 57.0201)\n"
     ]
    },
    {
     "name": "stderr",
     "output_type": "stream",
     "text": [
      "100%|██████████| 38/38 [00:01<00:00, 23.41it/s]\n",
      "100%|██████████| 10/10 [00:00<00:00, 31.88it/s]\n",
      "  0%|          | 0/38 [00:00<?, ?it/s]"
     ]
    },
    {
     "name": "stdout",
     "output_type": "stream",
     "text": [
      "Epoch: 191 (10/10)\n",
      "\tData load time: 0.115 sec\n",
      "\tGeneration time: 0.125 sec\n",
      "\tLog probability: -4.4370 (avg -5.8937)\n",
      "\tKL: 2.7086 (avg 3.2843)\n",
      "\tLoss: 31.5230 (avg 38.7367)\n",
      "Lowest validation loss: 38.1266\n"
     ]
    },
    {
     "name": "stderr",
     "output_type": "stream",
     "text": [
      " 34%|███▍      | 13/38 [00:00<00:01, 14.40it/s]"
     ]
    },
    {
     "name": "stdout",
     "output_type": "stream",
     "text": [
      "Epoch: 192 (10/38)\n",
      "\tData load time: 0.138 sec\n",
      "\tGeneration time: 0.146 sec\n",
      "\tBackprop time: 0.168 sec\n",
      "\tLog probability: -22.4888 (avg -14.1963)\n",
      "\tKL: 4.0387 (avg 3.5867)\n",
      "\tLoss: 62.8762 (avg 50.0631)\n"
     ]
    },
    {
     "name": "stderr",
     "output_type": "stream",
     "text": [
      " 66%|██████▌   | 25/38 [00:01<00:00, 21.53it/s]"
     ]
    },
    {
     "name": "stdout",
     "output_type": "stream",
     "text": [
      "Epoch: 192 (20/38)\n",
      "\tData load time: 0.138 sec\n",
      "\tGeneration time: 0.146 sec\n",
      "\tBackprop time: 0.168 sec\n",
      "\tLog probability: -19.1362 (avg -16.8428)\n",
      "\tKL: 3.3098 (avg 3.7521)\n",
      "\tLoss: 52.2344 (avg 54.3639)\n"
     ]
    },
    {
     "name": "stderr",
     "output_type": "stream",
     "text": [
      " 89%|████████▉ | 34/38 [00:01<00:00, 24.18it/s]"
     ]
    },
    {
     "name": "stdout",
     "output_type": "stream",
     "text": [
      "Epoch: 192 (30/38)\n",
      "\tData load time: 0.138 sec\n",
      "\tGeneration time: 0.146 sec\n",
      "\tBackprop time: 0.168 sec\n",
      "\tLog probability: -24.7235 (avg -16.1148)\n",
      "\tKL: 3.8249 (avg 3.7825)\n",
      "\tLoss: 62.9726 (avg 53.9399)\n"
     ]
    },
    {
     "name": "stderr",
     "output_type": "stream",
     "text": [
      "100%|██████████| 38/38 [00:01<00:00, 23.39it/s]\n",
      "100%|██████████| 10/10 [00:00<00:00, 31.84it/s]\n",
      "  0%|          | 0/38 [00:00<?, ?it/s]"
     ]
    },
    {
     "name": "stdout",
     "output_type": "stream",
     "text": [
      "Epoch: 192 (10/10)\n",
      "\tData load time: 0.120 sec\n",
      "\tGeneration time: 0.129 sec\n",
      "\tLog probability: -5.2593 (avg -4.6505)\n",
      "\tKL: 4.4661 (avg 3.8931)\n",
      "\tLoss: 49.9198 (avg 43.5820)\n",
      "Lowest validation loss: 38.1266\n"
     ]
    },
    {
     "name": "stderr",
     "output_type": "stream",
     "text": [
      " 34%|███▍      | 13/38 [00:00<00:01, 14.48it/s]"
     ]
    },
    {
     "name": "stdout",
     "output_type": "stream",
     "text": [
      "Epoch: 193 (10/38)\n",
      "\tData load time: 0.138 sec\n",
      "\tGeneration time: 0.148 sec\n",
      "\tBackprop time: 0.167 sec\n",
      "\tLog probability: -5.8699 (avg -12.8017)\n",
      "\tKL: 4.5546 (avg 4.1238)\n",
      "\tLoss: 51.4156 (avg 54.0392)\n"
     ]
    },
    {
     "name": "stderr",
     "output_type": "stream",
     "text": [
      " 66%|██████▌   | 25/38 [00:01<00:00, 21.44it/s]"
     ]
    },
    {
     "name": "stdout",
     "output_type": "stream",
     "text": [
      "Epoch: 193 (20/38)\n",
      "\tData load time: 0.138 sec\n",
      "\tGeneration time: 0.148 sec\n",
      "\tBackprop time: 0.167 sec\n",
      "\tLog probability: -11.1304 (avg -13.6532)\n",
      "\tKL: 4.5402 (avg 4.4556)\n",
      "\tLoss: 56.5323 (avg 58.2089)\n"
     ]
    },
    {
     "name": "stderr",
     "output_type": "stream",
     "text": [
      " 89%|████████▉ | 34/38 [00:01<00:00, 24.08it/s]"
     ]
    },
    {
     "name": "stdout",
     "output_type": "stream",
     "text": [
      "Epoch: 193 (30/38)\n",
      "\tData load time: 0.138 sec\n",
      "\tGeneration time: 0.148 sec\n",
      "\tBackprop time: 0.167 sec\n",
      "\tLog probability: -7.5831 (avg -14.2470)\n",
      "\tKL: 3.8883 (avg 4.3068)\n",
      "\tLoss: 46.4660 (avg 57.3147)\n"
     ]
    },
    {
     "name": "stderr",
     "output_type": "stream",
     "text": [
      "100%|██████████| 38/38 [00:01<00:00, 23.34it/s]\n",
      "100%|██████████| 10/10 [00:00<00:00, 30.04it/s]\n",
      "  0%|          | 0/38 [00:00<?, ?it/s]"
     ]
    },
    {
     "name": "stdout",
     "output_type": "stream",
     "text": [
      "Epoch: 193 (10/10)\n",
      "\tData load time: 0.142 sec\n",
      "\tGeneration time: 0.152 sec\n",
      "\tLog probability: -10.4563 (avg -6.5443)\n",
      "\tKL: 4.3842 (avg 3.5401)\n",
      "\tLoss: 54.2984 (avg 41.9451)\n",
      "Lowest validation loss: 38.1266\n"
     ]
    },
    {
     "name": "stderr",
     "output_type": "stream",
     "text": [
      " 34%|███▍      | 13/38 [00:00<00:01, 14.23it/s]"
     ]
    },
    {
     "name": "stdout",
     "output_type": "stream",
     "text": [
      "Epoch: 194 (10/38)\n",
      "\tData load time: 0.137 sec\n",
      "\tGeneration time: 0.146 sec\n",
      "\tBackprop time: 0.172 sec\n",
      "\tLog probability: -13.5327 (avg -16.9120)\n",
      "\tKL: 4.8395 (avg 4.3247)\n",
      "\tLoss: 61.9277 (avg 60.1592)\n"
     ]
    },
    {
     "name": "stderr",
     "output_type": "stream",
     "text": [
      " 66%|██████▌   | 25/38 [00:01<00:00, 21.51it/s]"
     ]
    },
    {
     "name": "stdout",
     "output_type": "stream",
     "text": [
      "Epoch: 194 (20/38)\n",
      "\tData load time: 0.137 sec\n",
      "\tGeneration time: 0.146 sec\n",
      "\tBackprop time: 0.172 sec\n",
      "\tLog probability: -21.8416 (avg -15.0273)\n",
      "\tKL: 4.2905 (avg 4.2048)\n",
      "\tLoss: 64.7465 (avg 57.0757)\n"
     ]
    },
    {
     "name": "stderr",
     "output_type": "stream",
     "text": [
      " 89%|████████▉ | 34/38 [00:01<00:00, 24.11it/s]"
     ]
    },
    {
     "name": "stdout",
     "output_type": "stream",
     "text": [
      "Epoch: 194 (30/38)\n",
      "\tData load time: 0.137 sec\n",
      "\tGeneration time: 0.146 sec\n",
      "\tBackprop time: 0.172 sec\n",
      "\tLog probability: -15.2866 (avg -15.0782)\n",
      "\tKL: 4.8240 (avg 4.2325)\n",
      "\tLoss: 63.5264 (avg 57.4032)\n"
     ]
    },
    {
     "name": "stderr",
     "output_type": "stream",
     "text": [
      "100%|██████████| 38/38 [00:01<00:00, 23.42it/s]\n",
      "100%|██████████| 10/10 [00:00<00:00, 30.71it/s]\n",
      "  0%|          | 0/38 [00:00<?, ?it/s]"
     ]
    },
    {
     "name": "stdout",
     "output_type": "stream",
     "text": [
      "Epoch: 194 (10/10)\n",
      "\tData load time: 0.134 sec\n",
      "\tGeneration time: 0.144 sec\n",
      "\tLog probability: -2.3977 (avg -4.6329)\n",
      "\tKL: 6.5626 (avg 6.7421)\n",
      "\tLoss: 68.0235 (avg 72.0544)\n",
      "Lowest validation loss: 38.1266\n"
     ]
    },
    {
     "name": "stderr",
     "output_type": "stream",
     "text": [
      " 34%|███▍      | 13/38 [00:00<00:01, 14.26it/s]"
     ]
    },
    {
     "name": "stdout",
     "output_type": "stream",
     "text": [
      "Epoch: 195 (10/38)\n",
      "\tData load time: 0.140 sec\n",
      "\tGeneration time: 0.148 sec\n",
      "\tBackprop time: 0.170 sec\n",
      "\tLog probability: -40.3533 (avg -23.2869)\n",
      "\tKL: 9.9184 (avg 10.3457)\n",
      "\tLoss: 139.5376 (avg 126.7440)\n"
     ]
    },
    {
     "name": "stderr",
     "output_type": "stream",
     "text": [
      " 66%|██████▌   | 25/38 [00:01<00:00, 21.53it/s]"
     ]
    },
    {
     "name": "stdout",
     "output_type": "stream",
     "text": [
      "Epoch: 195 (20/38)\n",
      "\tData load time: 0.140 sec\n",
      "\tGeneration time: 0.148 sec\n",
      "\tBackprop time: 0.170 sec\n",
      "\tLog probability: -24.4308 (avg -23.2594)\n",
      "\tKL: 5.4650 (avg 8.6649)\n",
      "\tLoss: 79.0811 (avg 109.9085)\n"
     ]
    },
    {
     "name": "stderr",
     "output_type": "stream",
     "text": [
      " 89%|████████▉ | 34/38 [00:01<00:00, 24.14it/s]"
     ]
    },
    {
     "name": "stdout",
     "output_type": "stream",
     "text": [
      "Epoch: 195 (30/38)\n",
      "\tData load time: 0.140 sec\n",
      "\tGeneration time: 0.148 sec\n",
      "\tBackprop time: 0.170 sec\n",
      "\tLog probability: -23.5944 (avg -21.8648)\n",
      "\tKL: 5.1210 (avg 7.6455)\n",
      "\tLoss: 74.8046 (avg 98.3202)\n"
     ]
    },
    {
     "name": "stderr",
     "output_type": "stream",
     "text": [
      "100%|██████████| 38/38 [00:01<00:00, 23.35it/s]\n",
      "100%|██████████| 10/10 [00:00<00:00, 30.20it/s]\n",
      "  0%|          | 0/38 [00:00<?, ?it/s]"
     ]
    },
    {
     "name": "stdout",
     "output_type": "stream",
     "text": [
      "Epoch: 195 (10/10)\n",
      "\tData load time: 0.138 sec\n",
      "\tGeneration time: 0.148 sec\n",
      "\tLog probability: -9.8001 (avg -6.6575)\n",
      "\tKL: 5.3638 (avg 5.5936)\n",
      "\tLoss: 63.4380 (avg 62.5940)\n",
      "Lowest validation loss: 38.1266\n"
     ]
    },
    {
     "name": "stderr",
     "output_type": "stream",
     "text": [
      " 34%|███▍      | 13/38 [00:00<00:01, 14.29it/s]"
     ]
    },
    {
     "name": "stdout",
     "output_type": "stream",
     "text": [
      "Epoch: 196 (10/38)\n",
      "\tData load time: 0.138 sec\n",
      "\tGeneration time: 0.148 sec\n",
      "\tBackprop time: 0.170 sec\n",
      "\tLog probability: -18.2090 (avg -12.9380)\n",
      "\tKL: 5.0631 (avg 6.1122)\n",
      "\tLoss: 68.8403 (avg 74.0598)\n"
     ]
    },
    {
     "name": "stderr",
     "output_type": "stream",
     "text": [
      " 66%|██████▌   | 25/38 [00:01<00:00, 21.55it/s]"
     ]
    },
    {
     "name": "stdout",
     "output_type": "stream",
     "text": [
      "Epoch: 196 (20/38)\n",
      "\tData load time: 0.138 sec\n",
      "\tGeneration time: 0.148 sec\n",
      "\tBackprop time: 0.170 sec\n",
      "\tLog probability: -7.5659 (avg -12.2679)\n",
      "\tKL: 5.2426 (avg 5.9987)\n",
      "\tLoss: 59.9919 (avg 72.2550)\n"
     ]
    },
    {
     "name": "stderr",
     "output_type": "stream",
     "text": [
      " 89%|████████▉ | 34/38 [00:01<00:00, 24.17it/s]"
     ]
    },
    {
     "name": "stdout",
     "output_type": "stream",
     "text": [
      "Epoch: 196 (30/38)\n",
      "\tData load time: 0.138 sec\n",
      "\tGeneration time: 0.148 sec\n",
      "\tBackprop time: 0.170 sec\n",
      "\tLog probability: -12.1927 (avg -13.7910)\n",
      "\tKL: 4.6169 (avg 5.5473)\n",
      "\tLoss: 58.3613 (avg 69.2635)\n"
     ]
    },
    {
     "name": "stderr",
     "output_type": "stream",
     "text": [
      "100%|██████████| 38/38 [00:01<00:00, 23.34it/s]\n",
      "100%|██████████| 10/10 [00:00<00:00, 30.58it/s]\n",
      "  0%|          | 0/38 [00:00<?, ?it/s]"
     ]
    },
    {
     "name": "stdout",
     "output_type": "stream",
     "text": [
      "Epoch: 196 (10/10)\n",
      "\tData load time: 0.136 sec\n",
      "\tGeneration time: 0.144 sec\n",
      "\tLog probability: -4.0177 (avg -5.3809)\n",
      "\tKL: 5.6017 (avg 5.8542)\n",
      "\tLoss: 60.0345 (avg 63.9227)\n",
      "Lowest validation loss: 38.1266\n"
     ]
    },
    {
     "name": "stderr",
     "output_type": "stream",
     "text": [
      " 34%|███▍      | 13/38 [00:00<00:01, 14.44it/s]"
     ]
    },
    {
     "name": "stdout",
     "output_type": "stream",
     "text": [
      "Epoch: 197 (10/38)\n",
      "\tData load time: 0.133 sec\n",
      "\tGeneration time: 0.144 sec\n",
      "\tBackprop time: 0.167 sec\n",
      "\tLog probability: -30.7658 (avg -17.7759)\n",
      "\tKL: 7.5469 (avg 6.7946)\n",
      "\tLoss: 106.2348 (avg 85.7223)\n"
     ]
    },
    {
     "name": "stderr",
     "output_type": "stream",
     "text": [
      " 66%|██████▌   | 25/38 [00:01<00:00, 21.66it/s]"
     ]
    },
    {
     "name": "stdout",
     "output_type": "stream",
     "text": [
      "Epoch: 197 (20/38)\n",
      "\tData load time: 0.133 sec\n",
      "\tGeneration time: 0.144 sec\n",
      "\tBackprop time: 0.167 sec\n",
      "\tLog probability: -29.2561 (avg -17.4001)\n",
      "\tKL: 4.5289 (avg 6.3359)\n",
      "\tLoss: 74.5448 (avg 80.7591)\n"
     ]
    },
    {
     "name": "stderr",
     "output_type": "stream",
     "text": [
      " 89%|████████▉ | 34/38 [00:01<00:00, 24.20it/s]"
     ]
    },
    {
     "name": "stdout",
     "output_type": "stream",
     "text": [
      "Epoch: 197 (30/38)\n",
      "\tData load time: 0.133 sec\n",
      "\tGeneration time: 0.144 sec\n",
      "\tBackprop time: 0.167 sec\n",
      "\tLog probability: -16.8362 (avg -16.0049)\n",
      "\tKL: 6.1030 (avg 6.0126)\n",
      "\tLoss: 77.8664 (avg 76.1304)\n"
     ]
    },
    {
     "name": "stderr",
     "output_type": "stream",
     "text": [
      "100%|██████████| 38/38 [00:01<00:00, 23.51it/s]\n",
      "100%|██████████| 10/10 [00:00<00:00, 30.26it/s]\n",
      "  0%|          | 0/38 [00:00<?, ?it/s]"
     ]
    },
    {
     "name": "stdout",
     "output_type": "stream",
     "text": [
      "Epoch: 197 (10/10)\n",
      "\tData load time: 0.142 sec\n",
      "\tGeneration time: 0.149 sec\n",
      "\tLog probability: -5.2911 (avg -7.2106)\n",
      "\tKL: 16.0086 (avg 12.7275)\n",
      "\tLoss: 165.3769 (avg 134.4857)\n",
      "Lowest validation loss: 38.1266\n"
     ]
    },
    {
     "name": "stderr",
     "output_type": "stream",
     "text": [
      " 34%|███▍      | 13/38 [00:00<00:01, 14.34it/s]"
     ]
    },
    {
     "name": "stdout",
     "output_type": "stream",
     "text": [
      "Epoch: 198 (10/38)\n",
      "\tData load time: 0.139 sec\n",
      "\tGeneration time: 0.148 sec\n",
      "\tBackprop time: 0.170 sec\n",
      "\tLog probability: -12.0288 (avg -16.6223)\n",
      "\tKL: 6.5689 (avg 9.9020)\n",
      "\tLoss: 77.7182 (avg 115.6422)\n"
     ]
    },
    {
     "name": "stderr",
     "output_type": "stream",
     "text": [
      " 66%|██████▌   | 25/38 [00:01<00:00, 21.60it/s]"
     ]
    },
    {
     "name": "stdout",
     "output_type": "stream",
     "text": [
      "Epoch: 198 (20/38)\n",
      "\tData load time: 0.139 sec\n",
      "\tGeneration time: 0.148 sec\n",
      "\tBackprop time: 0.170 sec\n",
      "\tLog probability: -13.2596 (avg -17.4924)\n",
      "\tKL: 7.4694 (avg 8.2955)\n",
      "\tLoss: 87.9536 (avg 100.4473)\n"
     ]
    },
    {
     "name": "stderr",
     "output_type": "stream",
     "text": [
      " 89%|████████▉ | 34/38 [00:01<00:00, 24.17it/s]"
     ]
    },
    {
     "name": "stdout",
     "output_type": "stream",
     "text": [
      "Epoch: 198 (30/38)\n",
      "\tData load time: 0.139 sec\n",
      "\tGeneration time: 0.148 sec\n",
      "\tBackprop time: 0.170 sec\n",
      "\tLog probability: -19.6746 (avg -18.4091)\n",
      "\tKL: 6.1675 (avg 7.7783)\n",
      "\tLoss: 81.3501 (avg 96.1921)\n"
     ]
    },
    {
     "name": "stderr",
     "output_type": "stream",
     "text": [
      "100%|██████████| 38/38 [00:01<00:00, 23.38it/s]\n",
      "100%|██████████| 10/10 [00:00<00:00, 30.14it/s]\n",
      "  0%|          | 0/38 [00:00<?, ?it/s]"
     ]
    },
    {
     "name": "stdout",
     "output_type": "stream",
     "text": [
      "Epoch: 198 (10/10)\n",
      "\tData load time: 0.142 sec\n",
      "\tGeneration time: 0.150 sec\n",
      "\tLog probability: -22.1030 (avg -21.9293)\n",
      "\tKL: 7.6628 (avg 8.3502)\n",
      "\tLoss: 98.7307 (avg 105.4311)\n",
      "Lowest validation loss: 38.1266\n"
     ]
    },
    {
     "name": "stderr",
     "output_type": "stream",
     "text": [
      " 34%|███▍      | 13/38 [00:00<00:01, 14.41it/s]"
     ]
    },
    {
     "name": "stdout",
     "output_type": "stream",
     "text": [
      "Epoch: 199 (10/38)\n",
      "\tData load time: 0.135 sec\n",
      "\tGeneration time: 0.146 sec\n",
      "\tBackprop time: 0.169 sec\n",
      "\tLog probability: -37.8596 (avg -40.0918)\n",
      "\tKL: 21.7434 (avg 16.2598)\n",
      "\tLoss: 255.2940 (avg 202.6893)\n"
     ]
    },
    {
     "name": "stderr",
     "output_type": "stream",
     "text": [
      " 66%|██████▌   | 25/38 [00:01<00:00, 21.69it/s]"
     ]
    },
    {
     "name": "stdout",
     "output_type": "stream",
     "text": [
      "Epoch: 199 (20/38)\n",
      "\tData load time: 0.135 sec\n",
      "\tGeneration time: 0.146 sec\n",
      "\tBackprop time: 0.169 sec\n",
      "\tLog probability: -14.9744 (avg -39.4513)\n",
      "\tKL: 7.9612 (avg 14.2649)\n",
      "\tLoss: 94.5862 (avg 182.1006)\n"
     ]
    },
    {
     "name": "stderr",
     "output_type": "stream",
     "text": [
      " 89%|████████▉ | 34/38 [00:01<00:00, 24.19it/s]"
     ]
    },
    {
     "name": "stdout",
     "output_type": "stream",
     "text": [
      "Epoch: 199 (30/38)\n",
      "\tData load time: 0.135 sec\n",
      "\tGeneration time: 0.146 sec\n",
      "\tBackprop time: 0.169 sec\n",
      "\tLog probability: -22.3197 (avg -36.8374)\n",
      "\tKL: 10.7113 (avg 12.9258)\n",
      "\tLoss: 129.4324 (avg 166.0959)\n"
     ]
    },
    {
     "name": "stderr",
     "output_type": "stream",
     "text": [
      "100%|██████████| 38/38 [00:01<00:00, 23.51it/s]\n",
      "100%|██████████| 10/10 [00:00<00:00, 30.16it/s]\n",
      "  0%|          | 0/38 [00:00<?, ?it/s]"
     ]
    },
    {
     "name": "stdout",
     "output_type": "stream",
     "text": [
      "Epoch: 199 (10/10)\n",
      "\tData load time: 0.140 sec\n",
      "\tGeneration time: 0.148 sec\n",
      "\tLog probability: -27.3680 (avg -15.5033)\n",
      "\tKL: 9.6844 (avg 8.5390)\n",
      "\tLoss: 124.2123 (avg 100.8935)\n",
      "Lowest validation loss: 38.1266\n"
     ]
    },
    {
     "name": "stderr",
     "output_type": "stream",
     "text": [
      " 34%|███▍      | 13/38 [00:00<00:01, 14.38it/s]"
     ]
    },
    {
     "name": "stdout",
     "output_type": "stream",
     "text": [
      "Epoch: 200 (10/38)\n",
      "\tData load time: 0.136 sec\n",
      "\tGeneration time: 0.148 sec\n",
      "\tBackprop time: 0.169 sec\n",
      "\tLog probability: -15.6591 (avg -25.2613)\n",
      "\tKL: 6.2520 (avg 7.4772)\n",
      "\tLoss: 78.1789 (avg 100.0332)\n"
     ]
    },
    {
     "name": "stderr",
     "output_type": "stream",
     "text": [
      " 66%|██████▌   | 25/38 [00:01<00:00, 21.60it/s]"
     ]
    },
    {
     "name": "stdout",
     "output_type": "stream",
     "text": [
      "Epoch: 200 (20/38)\n",
      "\tData load time: 0.136 sec\n",
      "\tGeneration time: 0.148 sec\n",
      "\tBackprop time: 0.169 sec\n",
      "\tLog probability: -19.4392 (avg -23.3165)\n",
      "\tKL: 8.7230 (avg 7.0068)\n",
      "\tLoss: 106.6696 (avg 93.3846)\n"
     ]
    },
    {
     "name": "stderr",
     "output_type": "stream",
     "text": [
      " 89%|████████▉ | 34/38 [00:01<00:00, 24.18it/s]"
     ]
    },
    {
     "name": "stdout",
     "output_type": "stream",
     "text": [
      "Epoch: 200 (30/38)\n",
      "\tData load time: 0.136 sec\n",
      "\tGeneration time: 0.148 sec\n",
      "\tBackprop time: 0.169 sec\n",
      "\tLog probability: -16.5362 (avg -22.3837)\n",
      "\tKL: 7.8454 (avg 7.2163)\n",
      "\tLoss: 94.9899 (avg 94.5472)\n"
     ]
    },
    {
     "name": "stderr",
     "output_type": "stream",
     "text": [
      "100%|██████████| 38/38 [00:01<00:00, 23.38it/s]\n",
      "100%|██████████| 10/10 [00:00<00:00, 30.48it/s]\n",
      "  0%|          | 0/38 [00:00<?, ?it/s]"
     ]
    },
    {
     "name": "stdout",
     "output_type": "stream",
     "text": [
      "Epoch: 200 (10/10)\n",
      "\tData load time: 0.144 sec\n",
      "\tGeneration time: 0.153 sec\n",
      "\tLog probability: -49.8689 (avg -36.9188)\n",
      "\tKL: 6.7004 (avg 6.1851)\n",
      "\tLoss: 116.8728 (avg 98.7701)\n",
      "Lowest validation loss: 38.1266\n"
     ]
    },
    {
     "name": "stderr",
     "output_type": "stream",
     "text": [
      " 34%|███▍      | 13/38 [00:00<00:01, 14.36it/s]"
     ]
    },
    {
     "name": "stdout",
     "output_type": "stream",
     "text": [
      "Epoch: 201 (10/38)\n",
      "\tData load time: 0.137 sec\n",
      "\tGeneration time: 0.145 sec\n",
      "\tBackprop time: 0.170 sec\n",
      "\tLog probability: -13.1738 (avg -40.5434)\n",
      "\tKL: 8.8199 (avg 9.4399)\n",
      "\tLoss: 101.3731 (avg 134.9422)\n"
     ]
    },
    {
     "name": "stderr",
     "output_type": "stream",
     "text": [
      " 66%|██████▌   | 25/38 [00:01<00:00, 21.56it/s]"
     ]
    },
    {
     "name": "stdout",
     "output_type": "stream",
     "text": [
      "Epoch: 201 (20/38)\n",
      "\tData load time: 0.137 sec\n",
      "\tGeneration time: 0.145 sec\n",
      "\tBackprop time: 0.170 sec\n",
      "\tLog probability: -24.5321 (avg -35.7513)\n",
      "\tKL: 14.7209 (avg 9.0401)\n",
      "\tLoss: 171.7414 (avg 126.1527)\n"
     ]
    },
    {
     "name": "stderr",
     "output_type": "stream",
     "text": [
      " 89%|████████▉ | 34/38 [00:01<00:00, 24.18it/s]"
     ]
    },
    {
     "name": "stdout",
     "output_type": "stream",
     "text": [
      "Epoch: 201 (30/38)\n",
      "\tData load time: 0.137 sec\n",
      "\tGeneration time: 0.145 sec\n",
      "\tBackprop time: 0.170 sec\n",
      "\tLog probability: -45.9155 (avg -30.8366)\n",
      "\tKL: 6.1391 (avg 8.6702)\n",
      "\tLoss: 107.3064 (avg 117.5383)\n"
     ]
    },
    {
     "name": "stderr",
     "output_type": "stream",
     "text": [
      "100%|██████████| 38/38 [00:01<00:00, 23.40it/s]\n",
      "100%|██████████| 10/10 [00:00<00:00, 30.58it/s]\n",
      "  0%|          | 0/38 [00:00<?, ?it/s]"
     ]
    },
    {
     "name": "stdout",
     "output_type": "stream",
     "text": [
      "Epoch: 201 (10/10)\n",
      "\tData load time: 0.136 sec\n",
      "\tGeneration time: 0.145 sec\n",
      "\tLog probability: -18.7076 (avg -13.1601)\n",
      "\tKL: 10.3867 (avg 9.2602)\n",
      "\tLoss: 122.5750 (avg 105.7626)\n",
      "Lowest validation loss: 38.1266\n"
     ]
    },
    {
     "name": "stderr",
     "output_type": "stream",
     "text": [
      " 34%|███▍      | 13/38 [00:00<00:01, 14.31it/s]"
     ]
    },
    {
     "name": "stdout",
     "output_type": "stream",
     "text": [
      "Epoch: 202 (10/38)\n",
      "\tData load time: 0.137 sec\n",
      "\tGeneration time: 0.148 sec\n",
      "\tBackprop time: 0.169 sec\n",
      "\tLog probability: -12.3807 (avg -31.4776)\n",
      "\tKL: 15.1157 (avg 11.6133)\n",
      "\tLoss: 163.5381 (avg 147.6104)\n"
     ]
    },
    {
     "name": "stderr",
     "output_type": "stream",
     "text": [
      " 66%|██████▌   | 25/38 [00:01<00:00, 21.43it/s]"
     ]
    },
    {
     "name": "stdout",
     "output_type": "stream",
     "text": [
      "Epoch: 202 (20/38)\n",
      "\tData load time: 0.137 sec\n",
      "\tGeneration time: 0.148 sec\n",
      "\tBackprop time: 0.169 sec\n",
      "\tLog probability: -24.4199 (avg -27.8729)\n",
      "\tKL: 6.8183 (avg 11.2588)\n",
      "\tLoss: 92.6029 (avg 140.4604)\n"
     ]
    },
    {
     "name": "stderr",
     "output_type": "stream",
     "text": [
      " 89%|████████▉ | 34/38 [00:01<00:00, 24.15it/s]"
     ]
    },
    {
     "name": "stdout",
     "output_type": "stream",
     "text": [
      "Epoch: 202 (30/38)\n",
      "\tData load time: 0.137 sec\n",
      "\tGeneration time: 0.148 sec\n",
      "\tBackprop time: 0.169 sec\n",
      "\tLog probability: -12.0653 (avg -23.9424)\n",
      "\tKL: 5.9847 (avg 9.7085)\n",
      "\tLoss: 71.9126 (avg 121.0276)\n"
     ]
    },
    {
     "name": "stderr",
     "output_type": "stream",
     "text": [
      "100%|██████████| 38/38 [00:01<00:00, 23.34it/s]\n",
      "100%|██████████| 10/10 [00:00<00:00, 30.90it/s]\n",
      "  0%|          | 0/38 [00:00<?, ?it/s]"
     ]
    },
    {
     "name": "stdout",
     "output_type": "stream",
     "text": [
      "Epoch: 202 (10/10)\n",
      "\tData load time: 0.127 sec\n",
      "\tGeneration time: 0.137 sec\n",
      "\tLog probability: -11.8798 (avg -7.4205)\n",
      "\tKL: 5.8611 (avg 6.3979)\n",
      "\tLoss: 70.4911 (avg 71.3997)\n",
      "Lowest validation loss: 38.1266\n"
     ]
    },
    {
     "name": "stderr",
     "output_type": "stream",
     "text": [
      " 34%|███▍      | 13/38 [00:00<00:01, 14.50it/s]"
     ]
    },
    {
     "name": "stdout",
     "output_type": "stream",
     "text": [
      "Epoch: 203 (10/38)\n",
      "\tData load time: 0.137 sec\n",
      "\tGeneration time: 0.146 sec\n",
      "\tBackprop time: 0.167 sec\n",
      "\tLog probability: -23.5026 (avg -23.4330)\n",
      "\tKL: 6.0909 (avg 6.2840)\n",
      "\tLoss: 84.4121 (avg 86.2733)\n"
     ]
    },
    {
     "name": "stderr",
     "output_type": "stream",
     "text": [
      " 66%|██████▌   | 25/38 [00:01<00:00, 21.72it/s]"
     ]
    },
    {
     "name": "stdout",
     "output_type": "stream",
     "text": [
      "Epoch: 203 (20/38)\n",
      "\tData load time: 0.137 sec\n",
      "\tGeneration time: 0.146 sec\n",
      "\tBackprop time: 0.167 sec\n",
      "\tLog probability: -13.2422 (avg -19.2634)\n",
      "\tKL: 6.9263 (avg 6.6855)\n",
      "\tLoss: 82.5052 (avg 86.1188)\n"
     ]
    },
    {
     "name": "stderr",
     "output_type": "stream",
     "text": [
      " 89%|████████▉ | 34/38 [00:01<00:00, 24.24it/s]"
     ]
    },
    {
     "name": "stdout",
     "output_type": "stream",
     "text": [
      "Epoch: 203 (30/38)\n",
      "\tData load time: 0.137 sec\n",
      "\tGeneration time: 0.146 sec\n",
      "\tBackprop time: 0.167 sec\n",
      "\tLog probability: -13.5272 (avg -19.6701)\n",
      "\tKL: 7.7657 (avg 6.8747)\n",
      "\tLoss: 91.1847 (avg 88.4172)\n"
     ]
    },
    {
     "name": "stderr",
     "output_type": "stream",
     "text": [
      "100%|██████████| 38/38 [00:01<00:00, 23.52it/s]\n",
      "100%|██████████| 10/10 [00:00<00:00, 29.92it/s]\n",
      "  0%|          | 0/38 [00:00<?, ?it/s]"
     ]
    },
    {
     "name": "stdout",
     "output_type": "stream",
     "text": [
      "Epoch: 203 (10/10)\n",
      "\tData load time: 0.140 sec\n",
      "\tGeneration time: 0.153 sec\n",
      "\tLog probability: -9.6512 (avg -10.8016)\n",
      "\tKL: 9.5835 (avg 9.1796)\n",
      "\tLoss: 105.4861 (avg 102.5973)\n",
      "Lowest validation loss: 38.1266\n"
     ]
    },
    {
     "name": "stderr",
     "output_type": "stream",
     "text": [
      " 34%|███▍      | 13/38 [00:00<00:01, 13.85it/s]"
     ]
    },
    {
     "name": "stdout",
     "output_type": "stream",
     "text": [
      "Epoch: 204 (10/38)\n",
      "\tData load time: 0.146 sec\n",
      "\tGeneration time: 0.157 sec\n",
      "\tBackprop time: 0.180 sec\n",
      "\tLog probability: -37.2193 (avg -21.8104)\n",
      "\tKL: 10.9508 (avg 10.2514)\n",
      "\tLoss: 146.7270 (avg 124.3248)\n"
     ]
    },
    {
     "name": "stderr",
     "output_type": "stream",
     "text": [
      " 66%|██████▌   | 25/38 [00:01<00:00, 21.27it/s]"
     ]
    },
    {
     "name": "stdout",
     "output_type": "stream",
     "text": [
      "Epoch: 204 (20/38)\n",
      "\tData load time: 0.146 sec\n",
      "\tGeneration time: 0.157 sec\n",
      "\tBackprop time: 0.180 sec\n",
      "\tLog probability: -16.5099 (avg -20.1162)\n",
      "\tKL: 7.3412 (avg 9.1630)\n",
      "\tLoss: 89.9215 (avg 111.7465)\n"
     ]
    },
    {
     "name": "stderr",
     "output_type": "stream",
     "text": [
      " 89%|████████▉ | 34/38 [00:01<00:00, 23.97it/s]"
     ]
    },
    {
     "name": "stdout",
     "output_type": "stream",
     "text": [
      "Epoch: 204 (30/38)\n",
      "\tData load time: 0.146 sec\n",
      "\tGeneration time: 0.157 sec\n",
      "\tBackprop time: 0.180 sec\n",
      "\tLog probability: -10.9486 (avg -19.0665)\n",
      "\tKL: 8.1254 (avg 8.3713)\n",
      "\tLoss: 92.2028 (avg 102.7799)\n"
     ]
    },
    {
     "name": "stderr",
     "output_type": "stream",
     "text": [
      "100%|██████████| 38/38 [00:01<00:00, 23.21it/s]\n",
      "100%|██████████| 10/10 [00:00<00:00, 29.78it/s]\n",
      "  0%|          | 0/38 [00:00<?, ?it/s]"
     ]
    },
    {
     "name": "stdout",
     "output_type": "stream",
     "text": [
      "Epoch: 204 (10/10)\n",
      "\tData load time: 0.142 sec\n",
      "\tGeneration time: 0.153 sec\n",
      "\tLog probability: -8.9270 (avg -7.0975)\n",
      "\tKL: 7.1619 (avg 7.2235)\n",
      "\tLoss: 80.5463 (avg 79.3324)\n",
      "Lowest validation loss: 38.1266\n"
     ]
    },
    {
     "name": "stderr",
     "output_type": "stream",
     "text": [
      " 34%|███▍      | 13/38 [00:00<00:01, 14.27it/s]"
     ]
    },
    {
     "name": "stdout",
     "output_type": "stream",
     "text": [
      "Epoch: 205 (10/38)\n",
      "\tData load time: 0.138 sec\n",
      "\tGeneration time: 0.150 sec\n",
      "\tBackprop time: 0.170 sec\n",
      "\tLog probability: -9.2506 (avg -15.1008)\n",
      "\tKL: 8.1638 (avg 7.2384)\n",
      "\tLoss: 90.8882 (avg 87.4846)\n"
     ]
    },
    {
     "name": "stderr",
     "output_type": "stream",
     "text": [
      " 66%|██████▌   | 25/38 [00:01<00:00, 21.51it/s]"
     ]
    },
    {
     "name": "stdout",
     "output_type": "stream",
     "text": [
      "Epoch: 205 (20/38)\n",
      "\tData load time: 0.138 sec\n",
      "\tGeneration time: 0.150 sec\n",
      "\tBackprop time: 0.170 sec\n",
      "\tLog probability: -10.5085 (avg -17.7744)\n",
      "\tKL: 5.0807 (avg 6.2217)\n",
      "\tLoss: 61.3150 (avg 79.9916)\n"
     ]
    },
    {
     "name": "stderr",
     "output_type": "stream",
     "text": [
      " 89%|████████▉ | 34/38 [00:01<00:00, 24.08it/s]"
     ]
    },
    {
     "name": "stdout",
     "output_type": "stream",
     "text": [
      "Epoch: 205 (30/38)\n",
      "\tData load time: 0.138 sec\n",
      "\tGeneration time: 0.150 sec\n",
      "\tBackprop time: 0.170 sec\n",
      "\tLog probability: -8.9882 (avg -17.2382)\n",
      "\tKL: 4.6228 (avg 5.7307)\n",
      "\tLoss: 55.2164 (avg 74.5454)\n"
     ]
    },
    {
     "name": "stderr",
     "output_type": "stream",
     "text": [
      "100%|██████████| 38/38 [00:01<00:00, 23.26it/s]\n",
      "100%|██████████| 10/10 [00:00<00:00, 31.19it/s]\n",
      "  0%|          | 0/38 [00:00<?, ?it/s]"
     ]
    },
    {
     "name": "stdout",
     "output_type": "stream",
     "text": [
      "Epoch: 205 (10/10)\n",
      "\tData load time: 0.130 sec\n",
      "\tGeneration time: 0.145 sec\n",
      "\tLog probability: -18.5466 (avg -10.4673)\n",
      "\tKL: 6.3861 (avg 5.7120)\n",
      "\tLoss: 82.4078 (avg 67.5877)\n",
      "Lowest validation loss: 38.1266\n"
     ]
    },
    {
     "name": "stderr",
     "output_type": "stream",
     "text": [
      " 34%|███▍      | 13/38 [00:00<00:01, 14.49it/s]"
     ]
    },
    {
     "name": "stdout",
     "output_type": "stream",
     "text": [
      "Epoch: 206 (10/38)\n",
      "\tData load time: 0.136 sec\n",
      "\tGeneration time: 0.145 sec\n",
      "\tBackprop time: 0.167 sec\n",
      "\tLog probability: -29.4458 (avg -14.9782)\n",
      "\tKL: 6.3862 (avg 5.3805)\n",
      "\tLoss: 93.3077 (avg 68.7828)\n"
     ]
    },
    {
     "name": "stderr",
     "output_type": "stream",
     "text": [
      " 66%|██████▌   | 25/38 [00:01<00:00, 21.64it/s]"
     ]
    },
    {
     "name": "stdout",
     "output_type": "stream",
     "text": [
      "Epoch: 206 (20/38)\n",
      "\tData load time: 0.136 sec\n",
      "\tGeneration time: 0.145 sec\n",
      "\tBackprop time: 0.167 sec\n",
      "\tLog probability: -32.9981 (avg -15.4945)\n",
      "\tKL: 5.3016 (avg 5.1370)\n",
      "\tLoss: 86.0140 (avg 66.8648)\n"
     ]
    },
    {
     "name": "stderr",
     "output_type": "stream",
     "text": [
      " 89%|████████▉ | 34/38 [00:01<00:00, 24.14it/s]"
     ]
    },
    {
     "name": "stdout",
     "output_type": "stream",
     "text": [
      "Epoch: 206 (30/38)\n",
      "\tData load time: 0.136 sec\n",
      "\tGeneration time: 0.145 sec\n",
      "\tBackprop time: 0.167 sec\n",
      "\tLog probability: -13.4741 (avg -14.9697)\n",
      "\tKL: 5.0887 (avg 4.9897)\n",
      "\tLoss: 64.3614 (avg 64.8664)\n"
     ]
    },
    {
     "name": "stderr",
     "output_type": "stream",
     "text": [
      "100%|██████████| 38/38 [00:01<00:00, 23.49it/s]\n",
      "100%|██████████| 10/10 [00:00<00:00, 31.23it/s]\n",
      "  0%|          | 0/38 [00:00<?, ?it/s]"
     ]
    },
    {
     "name": "stdout",
     "output_type": "stream",
     "text": [
      "Epoch: 206 (10/10)\n",
      "\tData load time: 0.131 sec\n",
      "\tGeneration time: 0.141 sec\n",
      "\tLog probability: -4.1474 (avg -6.9282)\n",
      "\tKL: 4.9977 (avg 4.9200)\n",
      "\tLoss: 54.1248 (avg 56.1285)\n",
      "Lowest validation loss: 38.1266\n"
     ]
    },
    {
     "name": "stderr",
     "output_type": "stream",
     "text": [
      " 34%|███▍      | 13/38 [00:00<00:01, 14.22it/s]"
     ]
    },
    {
     "name": "stdout",
     "output_type": "stream",
     "text": [
      "Epoch: 207 (10/38)\n",
      "\tData load time: 0.143 sec\n",
      "\tGeneration time: 0.151 sec\n",
      "\tBackprop time: 0.173 sec\n",
      "\tLog probability: -18.5892 (avg -14.4600)\n",
      "\tKL: 4.9743 (avg 4.8691)\n",
      "\tLoss: 68.3325 (avg 63.1513)\n"
     ]
    },
    {
     "name": "stderr",
     "output_type": "stream",
     "text": [
      " 66%|██████▌   | 25/38 [00:01<00:00, 21.50it/s]"
     ]
    },
    {
     "name": "stdout",
     "output_type": "stream",
     "text": [
      "Epoch: 207 (20/38)\n",
      "\tData load time: 0.143 sec\n",
      "\tGeneration time: 0.151 sec\n",
      "\tBackprop time: 0.173 sec\n",
      "\tLog probability: -8.3574 (avg -13.6897)\n",
      "\tKL: 5.1334 (avg 4.8045)\n",
      "\tLoss: 59.6914 (avg 61.7345)\n"
     ]
    },
    {
     "name": "stderr",
     "output_type": "stream",
     "text": [
      " 89%|████████▉ | 34/38 [00:01<00:00, 24.03it/s]"
     ]
    },
    {
     "name": "stdout",
     "output_type": "stream",
     "text": [
      "Epoch: 207 (30/38)\n",
      "\tData load time: 0.143 sec\n",
      "\tGeneration time: 0.151 sec\n",
      "\tBackprop time: 0.173 sec\n",
      "\tLog probability: -9.6754 (avg -14.2817)\n",
      "\tKL: 4.5192 (avg 4.5751)\n",
      "\tLoss: 54.8676 (avg 60.0330)\n"
     ]
    },
    {
     "name": "stderr",
     "output_type": "stream",
     "text": [
      "100%|██████████| 38/38 [00:01<00:00, 23.30it/s]\n",
      "100%|██████████| 10/10 [00:00<00:00, 30.62it/s]\n",
      "  0%|          | 0/38 [00:00<?, ?it/s]"
     ]
    },
    {
     "name": "stdout",
     "output_type": "stream",
     "text": [
      "Epoch: 207 (10/10)\n",
      "\tData load time: 0.134 sec\n",
      "\tGeneration time: 0.144 sec\n",
      "\tLog probability: -6.0206 (avg -6.3446)\n",
      "\tKL: 3.0577 (avg 3.8272)\n",
      "\tLoss: 36.5977 (avg 44.6162)\n",
      "Lowest validation loss: 38.1266\n"
     ]
    },
    {
     "name": "stderr",
     "output_type": "stream",
     "text": [
      " 34%|███▍      | 13/38 [00:00<00:01, 14.15it/s]"
     ]
    },
    {
     "name": "stdout",
     "output_type": "stream",
     "text": [
      "Epoch: 208 (10/38)\n",
      "\tData load time: 0.141 sec\n",
      "\tGeneration time: 0.150 sec\n",
      "\tBackprop time: 0.172 sec\n",
      "\tLog probability: -10.0140 (avg -11.3149)\n",
      "\tKL: 3.8026 (avg 4.0762)\n",
      "\tLoss: 48.0395 (avg 52.0774)\n"
     ]
    },
    {
     "name": "stderr",
     "output_type": "stream",
     "text": [
      " 66%|██████▌   | 25/38 [00:01<00:00, 21.41it/s]"
     ]
    },
    {
     "name": "stdout",
     "output_type": "stream",
     "text": [
      "Epoch: 208 (20/38)\n",
      "\tData load time: 0.141 sec\n",
      "\tGeneration time: 0.150 sec\n",
      "\tBackprop time: 0.172 sec\n",
      "\tLog probability: -18.4620 (avg -13.1630)\n",
      "\tKL: 4.3151 (avg 3.9930)\n",
      "\tLoss: 61.6127 (avg 53.0934)\n"
     ]
    },
    {
     "name": "stderr",
     "output_type": "stream",
     "text": [
      " 89%|████████▉ | 34/38 [00:01<00:00, 24.05it/s]"
     ]
    },
    {
     "name": "stdout",
     "output_type": "stream",
     "text": [
      "Epoch: 208 (30/38)\n",
      "\tData load time: 0.141 sec\n",
      "\tGeneration time: 0.150 sec\n",
      "\tBackprop time: 0.172 sec\n",
      "\tLog probability: -8.3910 (avg -13.2183)\n",
      "\tKL: 4.1094 (avg 4.1383)\n",
      "\tLoss: 49.4850 (avg 54.6010)\n"
     ]
    },
    {
     "name": "stderr",
     "output_type": "stream",
     "text": [
      "100%|██████████| 38/38 [00:01<00:00, 23.23it/s]\n",
      "100%|██████████| 10/10 [00:00<00:00, 30.10it/s]\n",
      "  0%|          | 0/38 [00:00<?, ?it/s]"
     ]
    },
    {
     "name": "stdout",
     "output_type": "stream",
     "text": [
      "Epoch: 208 (10/10)\n",
      "\tData load time: 0.134 sec\n",
      "\tGeneration time: 0.144 sec\n",
      "\tLog probability: -7.1393 (avg -5.1173)\n",
      "\tKL: 3.4507 (avg 3.7992)\n",
      "\tLoss: 41.6463 (avg 43.1088)\n",
      "Lowest validation loss: 38.1266\n"
     ]
    },
    {
     "name": "stderr",
     "output_type": "stream",
     "text": [
      " 34%|███▍      | 13/38 [00:00<00:01, 14.49it/s]"
     ]
    },
    {
     "name": "stdout",
     "output_type": "stream",
     "text": [
      "Epoch: 209 (10/38)\n",
      "\tData load time: 0.137 sec\n",
      "\tGeneration time: 0.146 sec\n",
      "\tBackprop time: 0.166 sec\n",
      "\tLog probability: -10.8874 (avg -10.9081)\n",
      "\tKL: 3.8359 (avg 4.2141)\n",
      "\tLoss: 49.2461 (avg 53.0490)\n"
     ]
    },
    {
     "name": "stderr",
     "output_type": "stream",
     "text": [
      " 66%|██████▌   | 25/38 [00:01<00:00, 21.71it/s]"
     ]
    },
    {
     "name": "stdout",
     "output_type": "stream",
     "text": [
      "Epoch: 209 (20/38)\n",
      "\tData load time: 0.137 sec\n",
      "\tGeneration time: 0.146 sec\n",
      "\tBackprop time: 0.166 sec\n",
      "\tLog probability: -8.8732 (avg -12.3117)\n",
      "\tKL: 3.3208 (avg 3.9615)\n",
      "\tLoss: 42.0813 (avg 51.9268)\n"
     ]
    },
    {
     "name": "stderr",
     "output_type": "stream",
     "text": [
      " 89%|████████▉ | 34/38 [00:01<00:00, 24.25it/s]"
     ]
    },
    {
     "name": "stdout",
     "output_type": "stream",
     "text": [
      "Epoch: 209 (30/38)\n",
      "\tData load time: 0.137 sec\n",
      "\tGeneration time: 0.146 sec\n",
      "\tBackprop time: 0.166 sec\n",
      "\tLog probability: -4.2611 (avg -11.4129)\n",
      "\tKL: 3.3717 (avg 3.8557)\n",
      "\tLoss: 37.9781 (avg 49.9694)\n"
     ]
    },
    {
     "name": "stderr",
     "output_type": "stream",
     "text": [
      "100%|██████████| 38/38 [00:01<00:00, 23.48it/s]\n",
      "100%|██████████| 10/10 [00:00<00:00, 31.07it/s]\n",
      "  0%|          | 0/38 [00:00<?, ?it/s]"
     ]
    },
    {
     "name": "stdout",
     "output_type": "stream",
     "text": [
      "Epoch: 209 (10/10)\n",
      "\tData load time: 0.134 sec\n",
      "\tGeneration time: 0.143 sec\n",
      "\tLog probability: -5.9380 (avg -4.9434)\n",
      "\tKL: 4.9145 (avg 4.8243)\n",
      "\tLoss: 55.0826 (avg 53.1865)\n",
      "Lowest validation loss: 38.1266\n"
     ]
    },
    {
     "name": "stderr",
     "output_type": "stream",
     "text": [
      " 34%|███▍      | 13/38 [00:00<00:01, 14.46it/s]"
     ]
    },
    {
     "name": "stdout",
     "output_type": "stream",
     "text": [
      "Epoch: 210 (10/38)\n",
      "\tData load time: 0.138 sec\n",
      "\tGeneration time: 0.147 sec\n",
      "\tBackprop time: 0.167 sec\n",
      "\tLog probability: -8.5951 (avg -11.8116)\n",
      "\tKL: 3.6058 (avg 4.2587)\n",
      "\tLoss: 44.6534 (avg 54.3988)\n"
     ]
    },
    {
     "name": "stderr",
     "output_type": "stream",
     "text": [
      " 66%|██████▌   | 25/38 [00:01<00:00, 21.59it/s]"
     ]
    },
    {
     "name": "stdout",
     "output_type": "stream",
     "text": [
      "Epoch: 210 (20/38)\n",
      "\tData load time: 0.138 sec\n",
      "\tGeneration time: 0.147 sec\n",
      "\tBackprop time: 0.167 sec\n",
      "\tLog probability: -13.7664 (avg -12.8376)\n",
      "\tKL: 4.2200 (avg 4.2209)\n",
      "\tLoss: 55.9666 (avg 55.0463)\n"
     ]
    },
    {
     "name": "stderr",
     "output_type": "stream",
     "text": [
      " 89%|████████▉ | 34/38 [00:01<00:00, 24.15it/s]"
     ]
    },
    {
     "name": "stdout",
     "output_type": "stream",
     "text": [
      "Epoch: 210 (30/38)\n",
      "\tData load time: 0.138 sec\n",
      "\tGeneration time: 0.147 sec\n",
      "\tBackprop time: 0.167 sec\n",
      "\tLog probability: -11.4906 (avg -12.4216)\n",
      "\tKL: 4.0117 (avg 4.0146)\n",
      "\tLoss: 51.6073 (avg 52.5680)\n"
     ]
    },
    {
     "name": "stderr",
     "output_type": "stream",
     "text": [
      "100%|██████████| 38/38 [00:01<00:00, 23.48it/s]\n",
      "100%|██████████| 10/10 [00:00<00:00, 29.67it/s]\n"
     ]
    },
    {
     "name": "stdout",
     "output_type": "stream",
     "text": [
      "Epoch: 210 (10/10)\n",
      "\tData load time: 0.141 sec\n",
      "\tGeneration time: 0.150 sec\n",
      "\tLog probability: -4.0555 (avg -4.6088)\n",
      "\tKL: 3.0602 (avg 3.3018)\n",
      "\tLoss: 34.6578 (avg 37.6273)\n",
      "Saving checkpoint..\n"
     ]
    },
    {
     "name": "stderr",
     "output_type": "stream",
     "text": [
      "  0%|          | 0/38 [00:00<?, ?it/s]"
     ]
    },
    {
     "name": "stdout",
     "output_type": "stream",
     "text": [
      "Lowest validation loss: 37.6273\n"
     ]
    },
    {
     "name": "stderr",
     "output_type": "stream",
     "text": [
      " 34%|███▍      | 13/38 [00:00<00:01, 14.85it/s]"
     ]
    },
    {
     "name": "stdout",
     "output_type": "stream",
     "text": [
      "Epoch: 211 (10/38)\n",
      "\tData load time: 0.127 sec\n",
      "\tGeneration time: 0.139 sec\n",
      "\tBackprop time: 0.160 sec\n",
      "\tLog probability: -12.3271 (avg -12.5497)\n",
      "\tKL: 3.5860 (avg 3.5378)\n",
      "\tLoss: 48.1872 (avg 47.9276)\n"
     ]
    },
    {
     "name": "stderr",
     "output_type": "stream",
     "text": [
      " 66%|██████▌   | 25/38 [00:01<00:00, 21.78it/s]"
     ]
    },
    {
     "name": "stdout",
     "output_type": "stream",
     "text": [
      "Epoch: 211 (20/38)\n",
      "\tData load time: 0.127 sec\n",
      "\tGeneration time: 0.139 sec\n",
      "\tBackprop time: 0.160 sec\n",
      "\tLog probability: -11.0682 (avg -11.6126)\n",
      "\tKL: 3.6164 (avg 3.5999)\n",
      "\tLoss: 47.2321 (avg 47.6117)\n"
     ]
    },
    {
     "name": "stderr",
     "output_type": "stream",
     "text": [
      " 89%|████████▉ | 34/38 [00:01<00:00, 24.28it/s]"
     ]
    },
    {
     "name": "stdout",
     "output_type": "stream",
     "text": [
      "Epoch: 211 (30/38)\n",
      "\tData load time: 0.127 sec\n",
      "\tGeneration time: 0.139 sec\n",
      "\tBackprop time: 0.160 sec\n",
      "\tLog probability: -6.6320 (avg -10.9395)\n",
      "\tKL: 3.2305 (avg 3.5764)\n",
      "\tLoss: 38.9375 (avg 46.7039)\n"
     ]
    },
    {
     "name": "stderr",
     "output_type": "stream",
     "text": [
      "100%|██████████| 38/38 [00:01<00:00, 23.55it/s]\n",
      "100%|██████████| 10/10 [00:00<00:00, 30.22it/s]\n",
      "  0%|          | 0/38 [00:00<?, ?it/s]"
     ]
    },
    {
     "name": "stdout",
     "output_type": "stream",
     "text": [
      "Epoch: 211 (10/10)\n",
      "\tData load time: 0.140 sec\n",
      "\tGeneration time: 0.147 sec\n",
      "\tLog probability: -3.8838 (avg -4.5084)\n",
      "\tKL: 3.2075 (avg 3.4398)\n",
      "\tLoss: 35.9588 (avg 38.9062)\n",
      "Lowest validation loss: 37.6273\n"
     ]
    },
    {
     "name": "stderr",
     "output_type": "stream",
     "text": [
      " 34%|███▍      | 13/38 [00:00<00:01, 14.46it/s]"
     ]
    },
    {
     "name": "stdout",
     "output_type": "stream",
     "text": [
      "Epoch: 212 (10/38)\n",
      "\tData load time: 0.136 sec\n",
      "\tGeneration time: 0.146 sec\n",
      "\tBackprop time: 0.166 sec\n",
      "\tLog probability: -11.9305 (avg -10.4885)\n",
      "\tKL: 3.2590 (avg 3.7680)\n",
      "\tLoss: 44.5202 (avg 48.1688)\n"
     ]
    },
    {
     "name": "stderr",
     "output_type": "stream",
     "text": [
      " 66%|██████▌   | 25/38 [00:01<00:00, 21.72it/s]"
     ]
    },
    {
     "name": "stdout",
     "output_type": "stream",
     "text": [
      "Epoch: 212 (20/38)\n",
      "\tData load time: 0.136 sec\n",
      "\tGeneration time: 0.146 sec\n",
      "\tBackprop time: 0.166 sec\n",
      "\tLog probability: -12.6767 (avg -12.7584)\n",
      "\tKL: 2.9226 (avg 3.5910)\n",
      "\tLoss: 41.9029 (avg 48.6687)\n"
     ]
    },
    {
     "name": "stderr",
     "output_type": "stream",
     "text": [
      " 89%|████████▉ | 34/38 [00:01<00:00, 24.25it/s]"
     ]
    },
    {
     "name": "stdout",
     "output_type": "stream",
     "text": [
      "Epoch: 212 (30/38)\n",
      "\tData load time: 0.136 sec\n",
      "\tGeneration time: 0.146 sec\n",
      "\tBackprop time: 0.166 sec\n",
      "\tLog probability: -15.0943 (avg -12.1067)\n",
      "\tKL: 3.5397 (avg 3.5795)\n",
      "\tLoss: 50.4912 (avg 47.9020)\n"
     ]
    },
    {
     "name": "stderr",
     "output_type": "stream",
     "text": [
      "100%|██████████| 38/38 [00:01<00:00, 23.46it/s]\n",
      "100%|██████████| 10/10 [00:00<00:00, 31.09it/s]\n"
     ]
    },
    {
     "name": "stdout",
     "output_type": "stream",
     "text": [
      "Epoch: 212 (10/10)\n",
      "\tData load time: 0.134 sec\n",
      "\tGeneration time: 0.142 sec\n",
      "\tLog probability: -2.1972 (avg -4.3505)\n",
      "\tKL: 2.9895 (avg 3.2279)\n",
      "\tLoss: 32.0921 (avg 36.6294)\n",
      "Saving checkpoint..\n"
     ]
    },
    {
     "name": "stderr",
     "output_type": "stream",
     "text": [
      "  0%|          | 0/38 [00:00<?, ?it/s]"
     ]
    },
    {
     "name": "stdout",
     "output_type": "stream",
     "text": [
      "Lowest validation loss: 36.6294\n"
     ]
    },
    {
     "name": "stderr",
     "output_type": "stream",
     "text": [
      " 34%|███▍      | 13/38 [00:00<00:01, 14.29it/s]"
     ]
    },
    {
     "name": "stdout",
     "output_type": "stream",
     "text": [
      "Epoch: 213 (10/38)\n",
      "\tData load time: 0.140 sec\n",
      "\tGeneration time: 0.149 sec\n",
      "\tBackprop time: 0.170 sec\n",
      "\tLog probability: -18.1363 (avg -12.9346)\n",
      "\tKL: 3.0736 (avg 3.6061)\n",
      "\tLoss: 48.8726 (avg 48.9952)\n"
     ]
    },
    {
     "name": "stderr",
     "output_type": "stream",
     "text": [
      " 66%|██████▌   | 25/38 [00:01<00:00, 21.62it/s]"
     ]
    },
    {
     "name": "stdout",
     "output_type": "stream",
     "text": [
      "Epoch: 213 (20/38)\n",
      "\tData load time: 0.140 sec\n",
      "\tGeneration time: 0.149 sec\n",
      "\tBackprop time: 0.170 sec\n",
      "\tLog probability: -9.7434 (avg -13.7995)\n",
      "\tKL: 3.9133 (avg 3.6447)\n",
      "\tLoss: 48.8765 (avg 50.2466)\n"
     ]
    },
    {
     "name": "stderr",
     "output_type": "stream",
     "text": [
      " 89%|████████▉ | 34/38 [00:01<00:00, 24.19it/s]"
     ]
    },
    {
     "name": "stdout",
     "output_type": "stream",
     "text": [
      "Epoch: 213 (30/38)\n",
      "\tData load time: 0.140 sec\n",
      "\tGeneration time: 0.149 sec\n",
      "\tBackprop time: 0.170 sec\n",
      "\tLog probability: -28.1496 (avg -14.5211)\n",
      "\tKL: 7.6682 (avg 3.9038)\n",
      "\tLoss: 104.8319 (avg 53.5589)\n"
     ]
    },
    {
     "name": "stderr",
     "output_type": "stream",
     "text": [
      "100%|██████████| 38/38 [00:01<00:00, 23.46it/s]\n",
      "100%|██████████| 10/10 [00:00<00:00, 30.68it/s]\n"
     ]
    },
    {
     "name": "stdout",
     "output_type": "stream",
     "text": [
      "Epoch: 213 (10/10)\n",
      "\tData load time: 0.135 sec\n",
      "\tGeneration time: 0.144 sec\n",
      "\tLog probability: -4.8190 (avg -4.9361)\n",
      "\tKL: 2.8246 (avg 3.1291)\n",
      "\tLoss: 33.0646 (avg 36.2270)\n",
      "Saving checkpoint..\n"
     ]
    },
    {
     "name": "stderr",
     "output_type": "stream",
     "text": [
      "  0%|          | 0/38 [00:00<?, ?it/s]"
     ]
    },
    {
     "name": "stdout",
     "output_type": "stream",
     "text": [
      "Lowest validation loss: 36.2270\n"
     ]
    },
    {
     "name": "stderr",
     "output_type": "stream",
     "text": [
      " 34%|███▍      | 13/38 [00:00<00:01, 14.18it/s]"
     ]
    },
    {
     "name": "stdout",
     "output_type": "stream",
     "text": [
      "Epoch: 214 (10/38)\n",
      "\tData load time: 0.141 sec\n",
      "\tGeneration time: 0.152 sec\n",
      "\tBackprop time: 0.172 sec\n",
      "\tLog probability: -16.8963 (avg -14.6876)\n",
      "\tKL: 3.6644 (avg 3.7635)\n",
      "\tLoss: 53.5399 (avg 52.3221)\n"
     ]
    },
    {
     "name": "stderr",
     "output_type": "stream",
     "text": [
      " 66%|██████▌   | 25/38 [00:01<00:00, 21.58it/s]"
     ]
    },
    {
     "name": "stdout",
     "output_type": "stream",
     "text": [
      "Epoch: 214 (20/38)\n",
      "\tData load time: 0.141 sec\n",
      "\tGeneration time: 0.152 sec\n",
      "\tBackprop time: 0.172 sec\n",
      "\tLog probability: -8.4987 (avg -14.4002)\n",
      "\tKL: 3.7952 (avg 4.2401)\n",
      "\tLoss: 46.4511 (avg 56.8008)\n"
     ]
    },
    {
     "name": "stderr",
     "output_type": "stream",
     "text": [
      " 89%|████████▉ | 34/38 [00:01<00:00, 24.16it/s]"
     ]
    },
    {
     "name": "stdout",
     "output_type": "stream",
     "text": [
      "Epoch: 214 (30/38)\n",
      "\tData load time: 0.141 sec\n",
      "\tGeneration time: 0.152 sec\n",
      "\tBackprop time: 0.172 sec\n",
      "\tLog probability: -14.0131 (avg -13.3790)\n",
      "\tKL: 4.8547 (avg 4.1820)\n",
      "\tLoss: 62.5605 (avg 55.1989)\n"
     ]
    },
    {
     "name": "stderr",
     "output_type": "stream",
     "text": [
      "100%|██████████| 38/38 [00:01<00:00, 23.33it/s]\n",
      "100%|██████████| 10/10 [00:00<00:00, 30.63it/s]\n",
      "  0%|          | 0/38 [00:00<?, ?it/s]"
     ]
    },
    {
     "name": "stdout",
     "output_type": "stream",
     "text": [
      "Epoch: 214 (10/10)\n",
      "\tData load time: 0.130 sec\n",
      "\tGeneration time: 0.138 sec\n",
      "\tLog probability: -2.9106 (avg -4.6651)\n",
      "\tKL: 2.5958 (avg 3.1950)\n",
      "\tLoss: 28.8685 (avg 36.6153)\n",
      "Lowest validation loss: 36.2270\n"
     ]
    },
    {
     "name": "stderr",
     "output_type": "stream",
     "text": [
      " 34%|███▍      | 13/38 [00:00<00:01, 14.60it/s]"
     ]
    },
    {
     "name": "stdout",
     "output_type": "stream",
     "text": [
      "Epoch: 215 (10/38)\n",
      "\tData load time: 0.133 sec\n",
      "\tGeneration time: 0.141 sec\n",
      "\tBackprop time: 0.164 sec\n",
      "\tLog probability: -8.4264 (avg -16.3510)\n",
      "\tKL: 4.2727 (avg 3.8595)\n",
      "\tLoss: 51.1537 (avg 54.9464)\n"
     ]
    },
    {
     "name": "stderr",
     "output_type": "stream",
     "text": [
      " 66%|██████▌   | 25/38 [00:01<00:00, 21.77it/s]"
     ]
    },
    {
     "name": "stdout",
     "output_type": "stream",
     "text": [
      "Epoch: 215 (20/38)\n",
      "\tData load time: 0.133 sec\n",
      "\tGeneration time: 0.141 sec\n",
      "\tBackprop time: 0.164 sec\n",
      "\tLog probability: -12.8337 (avg -14.4785)\n",
      "\tKL: 5.9858 (avg 4.1027)\n",
      "\tLoss: 72.6914 (avg 55.5052)\n"
     ]
    },
    {
     "name": "stderr",
     "output_type": "stream",
     "text": [
      " 89%|████████▉ | 34/38 [00:01<00:00, 24.24it/s]"
     ]
    },
    {
     "name": "stdout",
     "output_type": "stream",
     "text": [
      "Epoch: 215 (30/38)\n",
      "\tData load time: 0.133 sec\n",
      "\tGeneration time: 0.141 sec\n",
      "\tBackprop time: 0.164 sec\n",
      "\tLog probability: -16.4211 (avg -13.9492)\n",
      "\tKL: 4.8485 (avg 3.9959)\n",
      "\tLoss: 64.9057 (avg 53.9086)\n"
     ]
    },
    {
     "name": "stderr",
     "output_type": "stream",
     "text": [
      "100%|██████████| 38/38 [00:01<00:00, 23.44it/s]\n",
      "100%|██████████| 10/10 [00:00<00:00, 30.93it/s]\n",
      "  0%|          | 0/38 [00:00<?, ?it/s]"
     ]
    },
    {
     "name": "stdout",
     "output_type": "stream",
     "text": [
      "Epoch: 215 (10/10)\n",
      "\tData load time: 0.127 sec\n",
      "\tGeneration time: 0.138 sec\n",
      "\tLog probability: -3.1703 (avg -4.3972)\n",
      "\tKL: 4.4143 (avg 4.7804)\n",
      "\tLoss: 47.3131 (avg 52.2007)\n",
      "Lowest validation loss: 36.2270\n"
     ]
    },
    {
     "name": "stderr",
     "output_type": "stream",
     "text": [
      " 34%|███▍      | 13/38 [00:00<00:01, 14.69it/s]"
     ]
    },
    {
     "name": "stdout",
     "output_type": "stream",
     "text": [
      "Epoch: 216 (10/38)\n",
      "\tData load time: 0.129 sec\n",
      "\tGeneration time: 0.145 sec\n",
      "\tBackprop time: 0.162 sec\n",
      "\tLog probability: -11.2688 (avg -13.2679)\n",
      "\tKL: 4.6715 (avg 5.1170)\n",
      "\tLoss: 57.9839 (avg 64.4378)\n"
     ]
    },
    {
     "name": "stderr",
     "output_type": "stream",
     "text": [
      " 66%|██████▌   | 25/38 [00:01<00:00, 21.71it/s]"
     ]
    },
    {
     "name": "stdout",
     "output_type": "stream",
     "text": [
      "Epoch: 216 (20/38)\n",
      "\tData load time: 0.129 sec\n",
      "\tGeneration time: 0.145 sec\n",
      "\tBackprop time: 0.162 sec\n",
      "\tLog probability: -12.0052 (avg -11.8633)\n",
      "\tKL: 3.9184 (avg 4.7164)\n",
      "\tLoss: 51.1887 (avg 59.0273)\n"
     ]
    },
    {
     "name": "stderr",
     "output_type": "stream",
     "text": [
      " 89%|████████▉ | 34/38 [00:01<00:00, 24.19it/s]"
     ]
    },
    {
     "name": "stdout",
     "output_type": "stream",
     "text": [
      "Epoch: 216 (30/38)\n",
      "\tData load time: 0.129 sec\n",
      "\tGeneration time: 0.145 sec\n",
      "\tBackprop time: 0.162 sec\n",
      "\tLog probability: -10.5985 (avg -13.0342)\n",
      "\tKL: 4.8623 (avg 4.7818)\n",
      "\tLoss: 59.2210 (avg 60.8521)\n"
     ]
    },
    {
     "name": "stderr",
     "output_type": "stream",
     "text": [
      "100%|██████████| 38/38 [00:01<00:00, 23.52it/s]\n",
      "100%|██████████| 10/10 [00:00<00:00, 31.77it/s]\n",
      "  0%|          | 0/38 [00:00<?, ?it/s]"
     ]
    },
    {
     "name": "stdout",
     "output_type": "stream",
     "text": [
      "Epoch: 216 (10/10)\n",
      "\tData load time: 0.123 sec\n",
      "\tGeneration time: 0.137 sec\n",
      "\tLog probability: -20.0769 (avg -17.2171)\n",
      "\tKL: 4.6323 (avg 4.5429)\n",
      "\tLoss: 66.3995 (avg 62.6458)\n",
      "Lowest validation loss: 36.2270\n"
     ]
    },
    {
     "name": "stderr",
     "output_type": "stream",
     "text": [
      " 34%|███▍      | 13/38 [00:00<00:01, 14.42it/s]"
     ]
    },
    {
     "name": "stdout",
     "output_type": "stream",
     "text": [
      "Epoch: 217 (10/38)\n",
      "\tData load time: 0.137 sec\n",
      "\tGeneration time: 0.147 sec\n",
      "\tBackprop time: 0.168 sec\n",
      "\tLog probability: -17.2774 (avg -13.9544)\n",
      "\tKL: 4.9050 (avg 4.7734)\n",
      "\tLoss: 66.3272 (avg 61.6883)\n"
     ]
    },
    {
     "name": "stderr",
     "output_type": "stream",
     "text": [
      " 66%|██████▌   | 25/38 [00:01<00:00, 21.64it/s]"
     ]
    },
    {
     "name": "stdout",
     "output_type": "stream",
     "text": [
      "Epoch: 217 (20/38)\n",
      "\tData load time: 0.137 sec\n",
      "\tGeneration time: 0.147 sec\n",
      "\tBackprop time: 0.168 sec\n",
      "\tLog probability: -15.4512 (avg -14.7458)\n",
      "\tKL: 7.3207 (avg 5.0483)\n",
      "\tLoss: 88.6587 (avg 65.2292)\n"
     ]
    },
    {
     "name": "stderr",
     "output_type": "stream",
     "text": [
      " 89%|████████▉ | 34/38 [00:01<00:00, 24.23it/s]"
     ]
    },
    {
     "name": "stdout",
     "output_type": "stream",
     "text": [
      "Epoch: 217 (30/38)\n",
      "\tData load time: 0.137 sec\n",
      "\tGeneration time: 0.147 sec\n",
      "\tBackprop time: 0.168 sec\n",
      "\tLog probability: -11.5818 (avg -18.5235)\n",
      "\tKL: 6.8647 (avg 5.0433)\n",
      "\tLoss: 80.2288 (avg 68.9568)\n"
     ]
    },
    {
     "name": "stderr",
     "output_type": "stream",
     "text": [
      "100%|██████████| 38/38 [00:01<00:00, 23.44it/s]\n",
      "100%|██████████| 10/10 [00:00<00:00, 30.47it/s]\n",
      "  0%|          | 0/38 [00:00<?, ?it/s]"
     ]
    },
    {
     "name": "stdout",
     "output_type": "stream",
     "text": [
      "Epoch: 217 (10/10)\n",
      "\tData load time: 0.137 sec\n",
      "\tGeneration time: 0.147 sec\n",
      "\tLog probability: -27.8481 (avg -17.3595)\n",
      "\tKL: 6.5047 (avg 6.0240)\n",
      "\tLoss: 92.8954 (avg 77.5997)\n",
      "Lowest validation loss: 36.2270\n"
     ]
    },
    {
     "name": "stderr",
     "output_type": "stream",
     "text": [
      " 34%|███▍      | 13/38 [00:00<00:01, 13.99it/s]"
     ]
    },
    {
     "name": "stdout",
     "output_type": "stream",
     "text": [
      "Epoch: 218 (10/38)\n",
      "\tData load time: 0.146 sec\n",
      "\tGeneration time: 0.154 sec\n",
      "\tBackprop time: 0.177 sec\n",
      "\tLog probability: -100.2753 (avg -25.3457)\n",
      "\tKL: 6.4989 (avg 7.9273)\n",
      "\tLoss: 165.2639 (avg 104.6186)\n"
     ]
    },
    {
     "name": "stderr",
     "output_type": "stream",
     "text": [
      " 66%|██████▌   | 25/38 [00:01<00:00, 21.32it/s]"
     ]
    },
    {
     "name": "stdout",
     "output_type": "stream",
     "text": [
      "Epoch: 218 (20/38)\n",
      "\tData load time: 0.146 sec\n",
      "\tGeneration time: 0.154 sec\n",
      "\tBackprop time: 0.177 sec\n",
      "\tLog probability: -15.7992 (avg -20.3527)\n",
      "\tKL: 16.4109 (avg 12.5130)\n",
      "\tLoss: 179.9084 (avg 145.4823)\n"
     ]
    },
    {
     "name": "stderr",
     "output_type": "stream",
     "text": [
      " 89%|████████▉ | 34/38 [00:01<00:00, 24.05it/s]"
     ]
    },
    {
     "name": "stdout",
     "output_type": "stream",
     "text": [
      "Epoch: 218 (30/38)\n",
      "\tData load time: 0.146 sec\n",
      "\tGeneration time: 0.154 sec\n",
      "\tBackprop time: 0.177 sec\n",
      "\tLog probability: -40.3348 (avg -21.4805)\n",
      "\tKL: 7.7273 (avg 12.4548)\n",
      "\tLoss: 117.6082 (avg 146.0281)\n"
     ]
    },
    {
     "name": "stderr",
     "output_type": "stream",
     "text": [
      "100%|██████████| 38/38 [00:01<00:00, 23.29it/s]\n",
      "100%|██████████| 10/10 [00:00<00:00, 30.75it/s]\n",
      "  0%|          | 0/38 [00:00<?, ?it/s]"
     ]
    },
    {
     "name": "stdout",
     "output_type": "stream",
     "text": [
      "Epoch: 218 (10/10)\n",
      "\tData load time: 0.135 sec\n",
      "\tGeneration time: 0.144 sec\n",
      "\tLog probability: -28.8684 (avg -40.5944)\n",
      "\tKL: 6.3132 (avg 6.3357)\n",
      "\tLoss: 91.9999 (avg 103.9516)\n",
      "Lowest validation loss: 36.2270\n"
     ]
    },
    {
     "name": "stderr",
     "output_type": "stream",
     "text": [
      " 34%|███▍      | 13/38 [00:00<00:01, 14.41it/s]"
     ]
    },
    {
     "name": "stdout",
     "output_type": "stream",
     "text": [
      "Epoch: 219 (10/38)\n",
      "\tData load time: 0.136 sec\n",
      "\tGeneration time: 0.147 sec\n",
      "\tBackprop time: 0.168 sec\n",
      "\tLog probability: -12.7671 (avg -18.3475)\n",
      "\tKL: 6.0986 (avg 8.2491)\n",
      "\tLoss: 73.7528 (avg 100.8389)\n"
     ]
    },
    {
     "name": "stderr",
     "output_type": "stream",
     "text": [
      " 66%|██████▌   | 25/38 [00:01<00:00, 21.69it/s]"
     ]
    },
    {
     "name": "stdout",
     "output_type": "stream",
     "text": [
      "Epoch: 219 (20/38)\n",
      "\tData load time: 0.136 sec\n",
      "\tGeneration time: 0.147 sec\n",
      "\tBackprop time: 0.168 sec\n",
      "\tLog probability: -14.9846 (avg -23.5514)\n",
      "\tKL: 10.2428 (avg 9.2124)\n",
      "\tLoss: 117.4131 (avg 115.6759)\n"
     ]
    },
    {
     "name": "stderr",
     "output_type": "stream",
     "text": [
      " 89%|████████▉ | 34/38 [00:01<00:00, 24.25it/s]"
     ]
    },
    {
     "name": "stdout",
     "output_type": "stream",
     "text": [
      "Epoch: 219 (30/38)\n",
      "\tData load time: 0.136 sec\n",
      "\tGeneration time: 0.147 sec\n",
      "\tBackprop time: 0.168 sec\n",
      "\tLog probability: -27.2544 (avg -21.5410)\n",
      "\tKL: 9.7734 (avg 10.5092)\n",
      "\tLoss: 124.9879 (avg 126.6328)\n"
     ]
    },
    {
     "name": "stderr",
     "output_type": "stream",
     "text": [
      "100%|██████████| 38/38 [00:01<00:00, 23.49it/s]\n",
      "100%|██████████| 10/10 [00:00<00:00, 30.30it/s]\n",
      "  0%|          | 0/38 [00:00<?, ?it/s]"
     ]
    },
    {
     "name": "stdout",
     "output_type": "stream",
     "text": [
      "Epoch: 219 (10/10)\n",
      "\tData load time: 0.134 sec\n",
      "\tGeneration time: 0.143 sec\n",
      "\tLog probability: -13.1601 (avg -12.7015)\n",
      "\tKL: 9.3039 (avg 8.0674)\n",
      "\tLoss: 106.1990 (avg 93.3757)\n",
      "Lowest validation loss: 36.2270\n"
     ]
    },
    {
     "name": "stderr",
     "output_type": "stream",
     "text": [
      " 34%|███▍      | 13/38 [00:00<00:01, 14.28it/s]"
     ]
    },
    {
     "name": "stdout",
     "output_type": "stream",
     "text": [
      "Epoch: 220 (10/38)\n",
      "\tData load time: 0.140 sec\n",
      "\tGeneration time: 0.148 sec\n",
      "\tBackprop time: 0.170 sec\n",
      "\tLog probability: -44.8725 (avg -24.1668)\n",
      "\tKL: 5.2453 (avg 7.5238)\n",
      "\tLoss: 97.3256 (avg 99.4044)\n"
     ]
    },
    {
     "name": "stderr",
     "output_type": "stream",
     "text": [
      " 66%|██████▌   | 25/38 [00:01<00:00, 21.49it/s]"
     ]
    },
    {
     "name": "stdout",
     "output_type": "stream",
     "text": [
      "Epoch: 220 (20/38)\n",
      "\tData load time: 0.140 sec\n",
      "\tGeneration time: 0.148 sec\n",
      "\tBackprop time: 0.170 sec\n",
      "\tLog probability: -22.0429 (avg -27.4151)\n",
      "\tKL: 57.2910 (avg 36.6845)\n",
      "\tLoss: 594.9526 (avg 394.2600)\n"
     ]
    },
    {
     "name": "stderr",
     "output_type": "stream",
     "text": [
      " 89%|████████▉ | 34/38 [00:01<00:00, 24.13it/s]"
     ]
    },
    {
     "name": "stdout",
     "output_type": "stream",
     "text": [
      "Epoch: 220 (30/38)\n",
      "\tData load time: 0.140 sec\n",
      "\tGeneration time: 0.148 sec\n",
      "\tBackprop time: 0.170 sec\n",
      "\tLog probability: -48.6087 (avg -38.9730)\n",
      "\tKL: 23.4790 (avg 38.0937)\n",
      "\tLoss: 283.3986 (avg 419.9102)\n"
     ]
    },
    {
     "name": "stderr",
     "output_type": "stream",
     "text": [
      "100%|██████████| 38/38 [00:01<00:00, 23.29it/s]\n",
      "100%|██████████| 10/10 [00:00<00:00, 29.91it/s]\n",
      "  0%|          | 0/38 [00:00<?, ?it/s]"
     ]
    },
    {
     "name": "stdout",
     "output_type": "stream",
     "text": [
      "Epoch: 220 (10/10)\n",
      "\tData load time: 0.140 sec\n",
      "\tGeneration time: 0.149 sec\n",
      "\tLog probability: -173.6326 (avg -81.0305)\n",
      "\tKL: 31.4694 (avg 26.2376)\n",
      "\tLoss: 488.3262 (avg 343.4062)\n",
      "Lowest validation loss: 36.2270\n"
     ]
    },
    {
     "name": "stderr",
     "output_type": "stream",
     "text": [
      " 34%|███▍      | 13/38 [00:00<00:01, 14.62it/s]"
     ]
    },
    {
     "name": "stdout",
     "output_type": "stream",
     "text": [
      "Epoch: 221 (10/38)\n",
      "\tData load time: 0.130 sec\n",
      "\tGeneration time: 0.140 sec\n",
      "\tBackprop time: 0.164 sec\n",
      "\tLog probability: -26.0168 (avg -35.5432)\n",
      "\tKL: 10.9170 (avg 16.4513)\n",
      "\tLoss: 135.1868 (avg 200.0558)\n"
     ]
    },
    {
     "name": "stderr",
     "output_type": "stream",
     "text": [
      " 66%|██████▌   | 25/38 [00:01<00:00, 21.55it/s]"
     ]
    },
    {
     "name": "stdout",
     "output_type": "stream",
     "text": [
      "Epoch: 221 (20/38)\n",
      "\tData load time: 0.130 sec\n",
      "\tGeneration time: 0.140 sec\n",
      "\tBackprop time: 0.164 sec\n",
      "\tLog probability: -15.8456 (avg -32.5414)\n",
      "\tKL: 13.8552 (avg 14.2871)\n",
      "\tLoss: 154.3977 (avg 175.4129)\n"
     ]
    },
    {
     "name": "stderr",
     "output_type": "stream",
     "text": [
      " 89%|████████▉ | 34/38 [00:01<00:00, 24.19it/s]"
     ]
    },
    {
     "name": "stdout",
     "output_type": "stream",
     "text": [
      "Epoch: 221 (30/38)\n",
      "\tData load time: 0.130 sec\n",
      "\tGeneration time: 0.140 sec\n",
      "\tBackprop time: 0.164 sec\n",
      "\tLog probability: -21.7083 (avg -30.1137)\n",
      "\tKL: 10.5612 (avg 13.6645)\n",
      "\tLoss: 127.3206 (avg 166.7589)\n"
     ]
    },
    {
     "name": "stderr",
     "output_type": "stream",
     "text": [
      "100%|██████████| 38/38 [00:01<00:00, 23.45it/s]\n",
      "100%|██████████| 10/10 [00:00<00:00, 30.41it/s]\n",
      "  0%|          | 0/38 [00:00<?, ?it/s]"
     ]
    },
    {
     "name": "stdout",
     "output_type": "stream",
     "text": [
      "Epoch: 221 (10/10)\n",
      "\tData load time: 0.137 sec\n",
      "\tGeneration time: 0.146 sec\n",
      "\tLog probability: -50.9796 (avg -44.7200)\n",
      "\tKL: 9.5960 (avg 10.0872)\n",
      "\tLoss: 146.9400 (avg 145.5921)\n",
      "Lowest validation loss: 36.2270\n"
     ]
    },
    {
     "name": "stderr",
     "output_type": "stream",
     "text": [
      " 34%|███▍      | 13/38 [00:00<00:01, 14.22it/s]"
     ]
    },
    {
     "name": "stdout",
     "output_type": "stream",
     "text": [
      "Epoch: 222 (10/38)\n",
      "\tData load time: 0.142 sec\n",
      "\tGeneration time: 0.151 sec\n",
      "\tBackprop time: 0.173 sec\n",
      "\tLog probability: -16.0406 (avg -20.8126)\n",
      "\tKL: 9.2829 (avg 8.1029)\n",
      "\tLoss: 108.8700 (avg 101.8418)\n"
     ]
    },
    {
     "name": "stderr",
     "output_type": "stream",
     "text": [
      " 66%|██████▌   | 25/38 [00:01<00:00, 21.59it/s]"
     ]
    },
    {
     "name": "stdout",
     "output_type": "stream",
     "text": [
      "Epoch: 222 (20/38)\n",
      "\tData load time: 0.142 sec\n",
      "\tGeneration time: 0.151 sec\n",
      "\tBackprop time: 0.173 sec\n",
      "\tLog probability: -14.8066 (avg -20.9834)\n",
      "\tKL: 7.2537 (avg 7.5519)\n",
      "\tLoss: 87.3434 (avg 96.5027)\n"
     ]
    },
    {
     "name": "stderr",
     "output_type": "stream",
     "text": [
      " 89%|████████▉ | 34/38 [00:01<00:00, 24.09it/s]"
     ]
    },
    {
     "name": "stdout",
     "output_type": "stream",
     "text": [
      "Epoch: 222 (30/38)\n",
      "\tData load time: 0.142 sec\n",
      "\tGeneration time: 0.151 sec\n",
      "\tBackprop time: 0.173 sec\n",
      "\tLog probability: -13.9363 (avg -19.1885)\n",
      "\tKL: 7.7452 (avg 7.5329)\n",
      "\tLoss: 91.3882 (avg 94.5170)\n"
     ]
    },
    {
     "name": "stderr",
     "output_type": "stream",
     "text": [
      "100%|██████████| 38/38 [00:01<00:00, 23.40it/s]\n",
      "100%|██████████| 10/10 [00:00<00:00, 30.90it/s]\n",
      "  0%|          | 0/38 [00:00<?, ?it/s]"
     ]
    },
    {
     "name": "stdout",
     "output_type": "stream",
     "text": [
      "Epoch: 222 (10/10)\n",
      "\tData load time: 0.130 sec\n",
      "\tGeneration time: 0.139 sec\n",
      "\tLog probability: -22.0614 (avg -14.7846)\n",
      "\tKL: 19.1997 (avg 11.3393)\n",
      "\tLoss: 214.0584 (avg 128.1775)\n",
      "Lowest validation loss: 36.2270\n"
     ]
    },
    {
     "name": "stderr",
     "output_type": "stream",
     "text": [
      " 34%|███▍      | 13/38 [00:00<00:01, 13.95it/s]"
     ]
    },
    {
     "name": "stdout",
     "output_type": "stream",
     "text": [
      "Epoch: 223 (10/38)\n",
      "\tData load time: 0.146 sec\n",
      "\tGeneration time: 0.154 sec\n",
      "\tBackprop time: 0.176 sec\n",
      "\tLog probability: -15.1272 (avg -16.5002)\n",
      "\tKL: 8.9599 (avg 10.4794)\n",
      "\tLoss: 104.7258 (avg 121.2946)\n"
     ]
    },
    {
     "name": "stderr",
     "output_type": "stream",
     "text": [
      " 66%|██████▌   | 25/38 [00:01<00:00, 21.33it/s]"
     ]
    },
    {
     "name": "stdout",
     "output_type": "stream",
     "text": [
      "Epoch: 223 (20/38)\n",
      "\tData load time: 0.146 sec\n",
      "\tGeneration time: 0.154 sec\n",
      "\tBackprop time: 0.176 sec\n",
      "\tLog probability: -26.2627 (avg -20.7123)\n",
      "\tKL: 8.2273 (avg 9.4302)\n",
      "\tLoss: 108.5357 (avg 115.0148)\n"
     ]
    },
    {
     "name": "stderr",
     "output_type": "stream",
     "text": [
      " 89%|████████▉ | 34/38 [00:01<00:00, 24.02it/s]"
     ]
    },
    {
     "name": "stdout",
     "output_type": "stream",
     "text": [
      "Epoch: 223 (30/38)\n",
      "\tData load time: 0.146 sec\n",
      "\tGeneration time: 0.154 sec\n",
      "\tBackprop time: 0.176 sec\n",
      "\tLog probability: -30.9820 (avg -19.1322)\n",
      "\tKL: 6.2807 (avg 8.8893)\n",
      "\tLoss: 93.7893 (avg 108.0255)\n"
     ]
    },
    {
     "name": "stderr",
     "output_type": "stream",
     "text": [
      "100%|██████████| 38/38 [00:01<00:00, 23.23it/s]\n",
      "100%|██████████| 10/10 [00:00<00:00, 30.81it/s]\n",
      "  0%|          | 0/38 [00:00<?, ?it/s]"
     ]
    },
    {
     "name": "stdout",
     "output_type": "stream",
     "text": [
      "Epoch: 223 (10/10)\n",
      "\tData load time: 0.133 sec\n",
      "\tGeneration time: 0.140 sec\n",
      "\tLog probability: -51.0185 (avg -54.1070)\n",
      "\tKL: 7.9509 (avg 7.4957)\n",
      "\tLoss: 130.5276 (avg 129.0640)\n",
      "Lowest validation loss: 36.2270\n"
     ]
    },
    {
     "name": "stderr",
     "output_type": "stream",
     "text": [
      " 34%|███▍      | 13/38 [00:00<00:01, 14.09it/s]"
     ]
    },
    {
     "name": "stdout",
     "output_type": "stream",
     "text": [
      "Epoch: 224 (10/38)\n",
      "\tData load time: 0.137 sec\n",
      "\tGeneration time: 0.152 sec\n",
      "\tBackprop time: 0.174 sec\n",
      "\tLog probability: -30.7821 (avg -23.0553)\n",
      "\tKL: 5.8995 (avg 7.8498)\n",
      "\tLoss: 89.7771 (avg 101.5536)\n"
     ]
    },
    {
     "name": "stderr",
     "output_type": "stream",
     "text": [
      " 66%|██████▌   | 25/38 [00:01<00:00, 21.35it/s]"
     ]
    },
    {
     "name": "stdout",
     "output_type": "stream",
     "text": [
      "Epoch: 224 (20/38)\n",
      "\tData load time: 0.137 sec\n",
      "\tGeneration time: 0.152 sec\n",
      "\tBackprop time: 0.174 sec\n",
      "\tLog probability: -11.5869 (avg -19.1724)\n",
      "\tKL: 7.2246 (avg 7.1449)\n",
      "\tLoss: 83.8334 (avg 90.6218)\n"
     ]
    },
    {
     "name": "stderr",
     "output_type": "stream",
     "text": [
      " 89%|████████▉ | 34/38 [00:01<00:00, 23.98it/s]"
     ]
    },
    {
     "name": "stdout",
     "output_type": "stream",
     "text": [
      "Epoch: 224 (30/38)\n",
      "\tData load time: 0.137 sec\n",
      "\tGeneration time: 0.152 sec\n",
      "\tBackprop time: 0.174 sec\n",
      "\tLog probability: -12.4473 (avg -19.1596)\n",
      "\tKL: 5.0802 (avg 6.6820)\n",
      "\tLoss: 63.2494 (avg 85.9800)\n"
     ]
    },
    {
     "name": "stderr",
     "output_type": "stream",
     "text": [
      "100%|██████████| 38/38 [00:01<00:00, 23.26it/s]\n",
      "100%|██████████| 10/10 [00:00<00:00, 30.62it/s]\n",
      "  0%|          | 0/38 [00:00<?, ?it/s]"
     ]
    },
    {
     "name": "stdout",
     "output_type": "stream",
     "text": [
      "Epoch: 224 (10/10)\n",
      "\tData load time: 0.137 sec\n",
      "\tGeneration time: 0.147 sec\n",
      "\tLog probability: -18.4784 (avg -18.2072)\n",
      "\tKL: 4.7077 (avg 6.6332)\n",
      "\tLoss: 65.5553 (avg 84.5391)\n",
      "Lowest validation loss: 36.2270\n"
     ]
    },
    {
     "name": "stderr",
     "output_type": "stream",
     "text": [
      " 34%|███▍      | 13/38 [00:00<00:01, 14.30it/s]"
     ]
    },
    {
     "name": "stdout",
     "output_type": "stream",
     "text": [
      "Epoch: 225 (10/38)\n",
      "\tData load time: 0.140 sec\n",
      "\tGeneration time: 0.148 sec\n",
      "\tBackprop time: 0.170 sec\n",
      "\tLog probability: -12.9835 (avg -22.0922)\n",
      "\tKL: 5.8421 (avg 6.5254)\n",
      "\tLoss: 71.4040 (avg 87.3464)\n"
     ]
    },
    {
     "name": "stderr",
     "output_type": "stream",
     "text": [
      " 66%|██████▌   | 25/38 [00:01<00:00, 21.45it/s]"
     ]
    },
    {
     "name": "stdout",
     "output_type": "stream",
     "text": [
      "Epoch: 225 (20/38)\n",
      "\tData load time: 0.140 sec\n",
      "\tGeneration time: 0.148 sec\n",
      "\tBackprop time: 0.170 sec\n",
      "\tLog probability: -11.4803 (avg -19.8765)\n",
      "\tKL: 5.7476 (avg 5.8513)\n",
      "\tLoss: 68.9562 (avg 78.3893)\n"
     ]
    },
    {
     "name": "stderr",
     "output_type": "stream",
     "text": [
      " 89%|████████▉ | 34/38 [00:01<00:00, 24.11it/s]"
     ]
    },
    {
     "name": "stdout",
     "output_type": "stream",
     "text": [
      "Epoch: 225 (30/38)\n",
      "\tData load time: 0.140 sec\n",
      "\tGeneration time: 0.148 sec\n",
      "\tBackprop time: 0.170 sec\n",
      "\tLog probability: -75.7883 (avg -19.9026)\n",
      "\tKL: 5.5811 (avg 5.7542)\n",
      "\tLoss: 131.5988 (avg 77.4443)\n"
     ]
    },
    {
     "name": "stderr",
     "output_type": "stream",
     "text": [
      "100%|██████████| 38/38 [00:01<00:00, 23.34it/s]\n",
      "100%|██████████| 10/10 [00:00<00:00, 30.38it/s]\n",
      "  0%|          | 0/38 [00:00<?, ?it/s]"
     ]
    },
    {
     "name": "stdout",
     "output_type": "stream",
     "text": [
      "Epoch: 225 (10/10)\n",
      "\tData load time: 0.140 sec\n",
      "\tGeneration time: 0.149 sec\n",
      "\tLog probability: -4.1017 (avg -10.9894)\n",
      "\tKL: 5.3254 (avg 5.3746)\n",
      "\tLoss: 57.3555 (avg 64.7357)\n",
      "Lowest validation loss: 36.2270\n"
     ]
    },
    {
     "name": "stderr",
     "output_type": "stream",
     "text": [
      " 34%|███▍      | 13/38 [00:00<00:01, 14.64it/s]"
     ]
    },
    {
     "name": "stdout",
     "output_type": "stream",
     "text": [
      "Epoch: 226 (10/38)\n",
      "\tData load time: 0.130 sec\n",
      "\tGeneration time: 0.147 sec\n",
      "\tBackprop time: 0.164 sec\n",
      "\tLog probability: -12.9275 (avg -19.1322)\n",
      "\tKL: 4.4194 (avg 5.2471)\n",
      "\tLoss: 57.1218 (avg 71.6028)\n"
     ]
    },
    {
     "name": "stderr",
     "output_type": "stream",
     "text": [
      " 66%|██████▌   | 25/38 [00:01<00:00, 21.71it/s]"
     ]
    },
    {
     "name": "stdout",
     "output_type": "stream",
     "text": [
      "Epoch: 226 (20/38)\n",
      "\tData load time: 0.130 sec\n",
      "\tGeneration time: 0.147 sec\n",
      "\tBackprop time: 0.164 sec\n",
      "\tLog probability: -18.0851 (avg -17.3752)\n",
      "\tKL: 5.4781 (avg 5.4883)\n",
      "\tLoss: 72.8663 (avg 72.2582)\n"
     ]
    },
    {
     "name": "stderr",
     "output_type": "stream",
     "text": [
      " 89%|████████▉ | 34/38 [00:01<00:00, 24.26it/s]"
     ]
    },
    {
     "name": "stdout",
     "output_type": "stream",
     "text": [
      "Epoch: 226 (30/38)\n",
      "\tData load time: 0.130 sec\n",
      "\tGeneration time: 0.147 sec\n",
      "\tBackprop time: 0.164 sec\n",
      "\tLog probability: -14.0977 (avg -16.4384)\n",
      "\tKL: 4.6217 (avg 5.1688)\n",
      "\tLoss: 60.3142 (avg 68.1262)\n"
     ]
    },
    {
     "name": "stderr",
     "output_type": "stream",
     "text": [
      "100%|██████████| 38/38 [00:01<00:00, 23.54it/s]\n",
      "100%|██████████| 10/10 [00:00<00:00, 29.79it/s]\n",
      "  0%|          | 0/38 [00:00<?, ?it/s]"
     ]
    },
    {
     "name": "stdout",
     "output_type": "stream",
     "text": [
      "Epoch: 226 (10/10)\n",
      "\tData load time: 0.146 sec\n",
      "\tGeneration time: 0.152 sec\n",
      "\tLog probability: -37.3155 (avg -19.2655)\n",
      "\tKL: 5.5520 (avg 5.7760)\n",
      "\tLoss: 92.8351 (avg 77.0256)\n",
      "Lowest validation loss: 36.2270\n"
     ]
    },
    {
     "name": "stderr",
     "output_type": "stream",
     "text": [
      " 34%|███▍      | 13/38 [00:00<00:01, 14.26it/s]"
     ]
    },
    {
     "name": "stdout",
     "output_type": "stream",
     "text": [
      "Epoch: 227 (10/38)\n",
      "\tData load time: 0.140 sec\n",
      "\tGeneration time: 0.148 sec\n",
      "\tBackprop time: 0.171 sec\n",
      "\tLog probability: -7.3113 (avg -11.4058)\n",
      "\tKL: 4.6428 (avg 5.2770)\n",
      "\tLoss: 53.7393 (avg 64.1758)\n"
     ]
    },
    {
     "name": "stderr",
     "output_type": "stream",
     "text": [
      " 66%|██████▌   | 25/38 [00:01<00:00, 21.46it/s]"
     ]
    },
    {
     "name": "stdout",
     "output_type": "stream",
     "text": [
      "Epoch: 227 (20/38)\n",
      "\tData load time: 0.140 sec\n",
      "\tGeneration time: 0.148 sec\n",
      "\tBackprop time: 0.171 sec\n",
      "\tLog probability: -23.9869 (avg -13.4282)\n",
      "\tKL: 4.1727 (avg 4.8071)\n",
      "\tLoss: 65.7136 (avg 61.4995)\n"
     ]
    },
    {
     "name": "stderr",
     "output_type": "stream",
     "text": [
      " 89%|████████▉ | 34/38 [00:01<00:00, 24.07it/s]"
     ]
    },
    {
     "name": "stdout",
     "output_type": "stream",
     "text": [
      "Epoch: 227 (30/38)\n",
      "\tData load time: 0.140 sec\n",
      "\tGeneration time: 0.148 sec\n",
      "\tBackprop time: 0.171 sec\n",
      "\tLog probability: -10.4826 (avg -12.8539)\n",
      "\tKL: 5.6692 (avg 4.8741)\n",
      "\tLoss: 67.1746 (avg 61.5954)\n"
     ]
    },
    {
     "name": "stderr",
     "output_type": "stream",
     "text": [
      "100%|██████████| 38/38 [00:01<00:00, 23.36it/s]\n",
      "100%|██████████| 10/10 [00:00<00:00, 30.52it/s]\n",
      "  0%|          | 0/38 [00:00<?, ?it/s]"
     ]
    },
    {
     "name": "stdout",
     "output_type": "stream",
     "text": [
      "Epoch: 227 (10/10)\n",
      "\tData load time: 0.137 sec\n",
      "\tGeneration time: 0.146 sec\n",
      "\tLog probability: -5.3648 (avg -7.1430)\n",
      "\tKL: 4.1833 (avg 4.1832)\n",
      "\tLoss: 47.1977 (avg 48.9745)\n",
      "Lowest validation loss: 36.2270\n"
     ]
    },
    {
     "name": "stderr",
     "output_type": "stream",
     "text": [
      " 34%|███▍      | 13/38 [00:00<00:01, 14.39it/s]"
     ]
    },
    {
     "name": "stdout",
     "output_type": "stream",
     "text": [
      "Epoch: 228 (10/38)\n",
      "\tData load time: 0.138 sec\n",
      "\tGeneration time: 0.149 sec\n",
      "\tBackprop time: 0.168 sec\n",
      "\tLog probability: -7.6544 (avg -10.3919)\n",
      "\tKL: 4.7188 (avg 4.8705)\n",
      "\tLoss: 54.8422 (avg 59.0969)\n"
     ]
    },
    {
     "name": "stderr",
     "output_type": "stream",
     "text": [
      " 66%|██████▌   | 25/38 [00:01<00:00, 21.60it/s]"
     ]
    },
    {
     "name": "stdout",
     "output_type": "stream",
     "text": [
      "Epoch: 228 (20/38)\n",
      "\tData load time: 0.138 sec\n",
      "\tGeneration time: 0.149 sec\n",
      "\tBackprop time: 0.168 sec\n",
      "\tLog probability: -7.6462 (avg -10.8770)\n",
      "\tKL: 4.4002 (avg 4.4790)\n",
      "\tLoss: 51.6481 (avg 55.6667)\n"
     ]
    },
    {
     "name": "stderr",
     "output_type": "stream",
     "text": [
      " 89%|████████▉ | 34/38 [00:01<00:00, 24.16it/s]"
     ]
    },
    {
     "name": "stdout",
     "output_type": "stream",
     "text": [
      "Epoch: 228 (30/38)\n",
      "\tData load time: 0.138 sec\n",
      "\tGeneration time: 0.149 sec\n",
      "\tBackprop time: 0.168 sec\n",
      "\tLog probability: -11.2545 (avg -11.7967)\n",
      "\tKL: 4.4314 (avg 4.5674)\n",
      "\tLoss: 55.5689 (avg 57.4706)\n"
     ]
    },
    {
     "name": "stderr",
     "output_type": "stream",
     "text": [
      "100%|██████████| 38/38 [00:01<00:00, 23.44it/s]\n",
      "100%|██████████| 10/10 [00:00<00:00, 30.66it/s]\n",
      "  0%|          | 0/38 [00:00<?, ?it/s]"
     ]
    },
    {
     "name": "stdout",
     "output_type": "stream",
     "text": [
      "Epoch: 228 (10/10)\n",
      "\tData load time: 0.132 sec\n",
      "\tGeneration time: 0.142 sec\n",
      "\tLog probability: -3.6765 (avg -4.7074)\n",
      "\tKL: 3.4177 (avg 3.8651)\n",
      "\tLoss: 37.8535 (avg 43.3582)\n",
      "Lowest validation loss: 36.2270\n"
     ]
    },
    {
     "name": "stderr",
     "output_type": "stream",
     "text": [
      " 34%|███▍      | 13/38 [00:00<00:01, 14.16it/s]"
     ]
    },
    {
     "name": "stdout",
     "output_type": "stream",
     "text": [
      "Epoch: 229 (10/38)\n",
      "\tData load time: 0.138 sec\n",
      "\tGeneration time: 0.149 sec\n",
      "\tBackprop time: 0.173 sec\n",
      "\tLog probability: -7.8733 (avg -11.3461)\n",
      "\tKL: 3.6459 (avg 3.8801)\n",
      "\tLoss: 44.3321 (avg 50.1473)\n"
     ]
    },
    {
     "name": "stderr",
     "output_type": "stream",
     "text": [
      " 66%|██████▌   | 25/38 [00:01<00:00, 21.50it/s]"
     ]
    },
    {
     "name": "stdout",
     "output_type": "stream",
     "text": [
      "Epoch: 229 (20/38)\n",
      "\tData load time: 0.138 sec\n",
      "\tGeneration time: 0.149 sec\n",
      "\tBackprop time: 0.173 sec\n",
      "\tLog probability: -22.8960 (avg -13.6437)\n",
      "\tKL: 3.6941 (avg 3.9912)\n",
      "\tLoss: 59.8371 (avg 53.5561)\n"
     ]
    },
    {
     "name": "stderr",
     "output_type": "stream",
     "text": [
      " 89%|████████▉ | 34/38 [00:01<00:00, 24.16it/s]"
     ]
    },
    {
     "name": "stdout",
     "output_type": "stream",
     "text": [
      "Epoch: 229 (30/38)\n",
      "\tData load time: 0.138 sec\n",
      "\tGeneration time: 0.149 sec\n",
      "\tBackprop time: 0.173 sec\n",
      "\tLog probability: -5.1893 (avg -13.2594)\n",
      "\tKL: 3.5132 (avg 4.0770)\n",
      "\tLoss: 40.3210 (avg 54.0298)\n"
     ]
    },
    {
     "name": "stderr",
     "output_type": "stream",
     "text": [
      "100%|██████████| 38/38 [00:01<00:00, 23.35it/s]\n",
      "100%|██████████| 10/10 [00:00<00:00, 29.68it/s]\n",
      "  0%|          | 0/38 [00:00<?, ?it/s]"
     ]
    },
    {
     "name": "stdout",
     "output_type": "stream",
     "text": [
      "Epoch: 229 (10/10)\n",
      "\tData load time: 0.143 sec\n",
      "\tGeneration time: 0.154 sec\n",
      "\tLog probability: -3.8059 (avg -4.7288)\n",
      "\tKL: 3.3589 (avg 3.3346)\n",
      "\tLoss: 37.3946 (avg 38.0746)\n",
      "Lowest validation loss: 36.2270\n"
     ]
    },
    {
     "name": "stderr",
     "output_type": "stream",
     "text": [
      " 34%|███▍      | 13/38 [00:00<00:01, 15.01it/s]"
     ]
    },
    {
     "name": "stdout",
     "output_type": "stream",
     "text": [
      "Epoch: 230 (10/38)\n",
      "\tData load time: 0.117 sec\n",
      "\tGeneration time: 0.127 sec\n",
      "\tBackprop time: 0.157 sec\n",
      "\tLog probability: -14.3877 (avg -9.7148)\n",
      "\tKL: 6.2164 (avg 4.0405)\n",
      "\tLoss: 76.5522 (avg 50.1203)\n"
     ]
    },
    {
     "name": "stderr",
     "output_type": "stream",
     "text": [
      " 58%|█████▊    | 22/38 [00:00<00:00, 20.68it/s]\n"
     ]
    },
    {
     "name": "stdout",
     "output_type": "stream",
     "text": [
      "Epoch: 230 (20/38)\n",
      "\tData load time: 0.117 sec\n",
      "\tGeneration time: 0.127 sec\n",
      "\tBackprop time: 0.157 sec\n",
      "\tLog probability: -16.4101 (avg -9.6806)\n",
      "\tKL: 3.3908 (avg 3.8471)\n",
      "\tLoss: 50.3178 (avg 48.1513)\n"
     ]
    },
    {
     "ename": "KeyboardInterrupt",
     "evalue": "",
     "output_type": "error",
     "traceback": [
      "\u001b[0;31m---------------------------------------------------------------------------\u001b[0m",
      "\u001b[0;31mKeyboardInterrupt\u001b[0m                         Traceback (most recent call last)",
      "\u001b[0;32m<ipython-input-16-a7131652bc77>\u001b[0m in \u001b[0;36m<module>\u001b[0;34m()\u001b[0m\n\u001b[1;32m      5\u001b[0m     \u001b[0mmodel\u001b[0m\u001b[0;34m.\u001b[0m\u001b[0mtrain\u001b[0m\u001b[0;34m(\u001b[0m\u001b[0;34m)\u001b[0m\u001b[0;34m\u001b[0m\u001b[0m\n\u001b[1;32m      6\u001b[0m     \u001b[0mscheduler\u001b[0m\u001b[0;34m.\u001b[0m\u001b[0mstep\u001b[0m\u001b[0;34m(\u001b[0m\u001b[0;34m)\u001b[0m\u001b[0;34m\u001b[0m\u001b[0m\n\u001b[0;32m----> 7\u001b[0;31m     \u001b[0mtrain_loss\u001b[0m\u001b[0;34m,\u001b[0m \u001b[0mtrain_kl\u001b[0m\u001b[0;34m,\u001b[0m \u001b[0mtrain_logp\u001b[0m \u001b[0;34m=\u001b[0m \u001b[0mtrain_VAE1D\u001b[0m\u001b[0;34m(\u001b[0m\u001b[0mtrain_dl\u001b[0m\u001b[0;34m)\u001b[0m\u001b[0;34m\u001b[0m\u001b[0m\n\u001b[0m\u001b[1;32m      8\u001b[0m \u001b[0;34m\u001b[0m\u001b[0m\n\u001b[1;32m      9\u001b[0m     \u001b[0mmodel\u001b[0m\u001b[0;34m.\u001b[0m\u001b[0meval\u001b[0m\u001b[0;34m(\u001b[0m\u001b[0;34m)\u001b[0m\u001b[0;34m\u001b[0m\u001b[0m\n",
      "\u001b[0;32m<ipython-input-15-325bfce40a86>\u001b[0m in \u001b[0;36mtrain_VAE1D\u001b[0;34m(dl)\u001b[0m\n\u001b[1;32m     10\u001b[0m     \u001b[0;32mfor\u001b[0m \u001b[0mi\u001b[0m\u001b[0;34m,\u001b[0m \u001b[0;34m(\u001b[0m\u001b[0mX\u001b[0m\u001b[0;34m,\u001b[0m \u001b[0m_\u001b[0m\u001b[0;34m)\u001b[0m \u001b[0;32min\u001b[0m \u001b[0menumerate\u001b[0m\u001b[0;34m(\u001b[0m\u001b[0mtqdm\u001b[0m\u001b[0;34m(\u001b[0m\u001b[0mdl\u001b[0m\u001b[0;34m)\u001b[0m\u001b[0;34m)\u001b[0m\u001b[0;34m:\u001b[0m\u001b[0;34m\u001b[0m\u001b[0m\n\u001b[1;32m     11\u001b[0m \u001b[0;34m\u001b[0m\u001b[0m\n\u001b[0;32m---> 12\u001b[0;31m         \u001b[0mX\u001b[0m \u001b[0;34m=\u001b[0m \u001b[0mX\u001b[0m\u001b[0;34m.\u001b[0m\u001b[0mto\u001b[0m\u001b[0;34m(\u001b[0m\u001b[0mdevice\u001b[0m\u001b[0;34m)\u001b[0m\u001b[0;34m\u001b[0m\u001b[0m\n\u001b[0m\u001b[1;32m     13\u001b[0m         \u001b[0mtimer\u001b[0m\u001b[0;34m.\u001b[0m\u001b[0mlap\u001b[0m\u001b[0;34m(\u001b[0m\u001b[0;34m)\u001b[0m  \u001b[0;31m# load time\u001b[0m\u001b[0;34m\u001b[0m\u001b[0m\n\u001b[1;32m     14\u001b[0m \u001b[0;34m\u001b[0m\u001b[0m\n",
      "\u001b[0;31mKeyboardInterrupt\u001b[0m: "
     ]
    }
   ],
   "source": [
    "# Main loop\n",
    "best_loss = np.inf\n",
    "for epoch in range(epochs):\n",
    "\n",
    "    model.train()\n",
    "    scheduler.step()\n",
    "    train_loss, train_kl, train_logp = train_VAE1D(train_dl)\n",
    "    \n",
    "    model.eval()\n",
    "    with torch.no_grad():\n",
    "        val_loss, val_kl, val_logp = train_VAE1D(val_dl)\n",
    "\n",
    "    # Report training progress to user\n",
    "    if val_loss < best_loss:\n",
    "        print('Saving checkpoint..')\n",
    "        best_loss = val_loss\n",
    "        save_dict = {'epoch': epoch + 1,\n",
    "                     'state_dict': model.state_dict(),\n",
    "                     'val_loss': val_loss,\n",
    "                     'optimizer': optimizer.state_dict()}\n",
    "        path = save_path / f'best_model-{n_latent}.pt'\n",
    "        torch.save(save_dict, path)\n",
    "    print(f'Lowest validation loss: {best_loss:.4f}')"
   ]
  },
  {
   "cell_type": "markdown",
   "metadata": {},
   "source": [
    "## Sanity check"
   ]
  },
  {
   "cell_type": "markdown",
   "metadata": {},
   "source": [
    "Confirm model output is as expected for a test sample."
   ]
  },
  {
   "cell_type": "code",
   "execution_count": null,
   "metadata": {},
   "outputs": [],
   "source": [
    "for X, y in test_dl:\n",
    "    break\n",
    "X.shape"
   ]
  },
  {
   "cell_type": "code",
   "execution_count": null,
   "metadata": {},
   "outputs": [],
   "source": [
    "X[:, :, :4]"
   ]
  },
  {
   "cell_type": "code",
   "execution_count": null,
   "metadata": {},
   "outputs": [],
   "source": [
    "X = X.to(device)"
   ]
  },
  {
   "cell_type": "code",
   "execution_count": null,
   "metadata": {},
   "outputs": [],
   "source": [
    "X.shape"
   ]
  },
  {
   "cell_type": "code",
   "execution_count": null,
   "metadata": {},
   "outputs": [],
   "source": [
    "y"
   ]
  },
  {
   "cell_type": "code",
   "execution_count": null,
   "metadata": {},
   "outputs": [],
   "source": [
    "X_hat, mu, logvar = model(X)"
   ]
  },
  {
   "cell_type": "code",
   "execution_count": null,
   "metadata": {},
   "outputs": [],
   "source": [
    "X"
   ]
  },
  {
   "cell_type": "code",
   "execution_count": null,
   "metadata": {},
   "outputs": [],
   "source": [
    "X_hat"
   ]
  }
 ],
 "metadata": {
  "kernelspec": {
   "display_name": "Environment (conda_pytorch_p36)",
   "language": "python",
   "name": "conda_pytorch_p36"
  },
  "language_info": {
   "codemirror_mode": {
    "name": "ipython",
    "version": 3
   },
   "file_extension": ".py",
   "mimetype": "text/x-python",
   "name": "python",
   "nbconvert_exporter": "python",
   "pygments_lexer": "ipython3",
   "version": "3.6.5"
  }
 },
 "nbformat": 4,
 "nbformat_minor": 2
}
